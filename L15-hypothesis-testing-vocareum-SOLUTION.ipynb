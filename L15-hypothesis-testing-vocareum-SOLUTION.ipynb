{
 "cells": [
  {
   "cell_type": "markdown",
   "metadata": {},
   "source": [
    "# Lecture 15 - Hypothesis Testing\n",
    "\n",
    "- 🤠 Author: Sandip Sonawane (sandip2@illinois.edu)\n",
    "- 📆 Lecture Date: Tuesday 2022/03/08"
   ]
  },
  {
   "cell_type": "markdown",
   "metadata": {},
   "source": [
    "## Lecture Notes and in-class exercises"
   ]
  },
  {
   "cell_type": "markdown",
   "metadata": {},
   "source": [
    "▶️ First, run the code cell below to import `unittest`, a module used for **🧭 Check Your Work** sections and the autograder."
   ]
  },
  {
   "cell_type": "code",
   "execution_count": 1,
   "metadata": {
    "collapsed": true
   },
   "outputs": [],
   "source": [
    "import unittest\n",
    "tc = unittest.TestCase()"
   ]
  },
  {
   "cell_type": "code",
   "execution_count": 2,
   "metadata": {
    "collapsed": true
   },
   "outputs": [],
   "source": [
    "# Run below imports\n",
    "import matplotlib.pyplot as plt\n",
    "plt.style.use('seaborn')\n",
    "import numpy as np\n",
    "import pandas as pd\n",
    "from scipy.stats import norm, t\n",
    "import scipy.stats as stats\n",
    "from IPython.display import display\n",
    "from ipywidgets import interact, interactive, fixed, interact_manual, IntSlider\n",
    "import ipywidgets as widgets"
   ]
  },
  {
   "cell_type": "markdown",
   "metadata": {},
   "source": [
    "### What is hypothesis testing?\n",
    "\n",
    "* When you need to make business decisions, for example how price change will affect customer base or how much should you spend on advertising, it's possible to make wild assumptions and make incorrect decisions. Such decisions can be made correctly using hypothesis testing.\n",
    "\n",
    "* Hypothesis testing is the process of using statistics to determine the probability that a specific hypothesis is true. There are multiple hypothesis tests available, we will focus on the widely used t-test.\n",
    "\n",
    "#### Steps in hypothesis testing\n",
    "1. State the hypothesis\n",
    "        a. Define null hypothesis\n",
    "        b. Define alternative hypothesis\n",
    "2. Specify significance level\n",
    "3. Perform hypothesis testing\n",
    "4. Make decisions\n",
    "\n",
    "#### Null and Alternate Hypothesis\n",
    "* The null hypothesis $H_0$ is that two possibilities are the same. The null hypothesis states `the observed difference is due to chance alone.`\n",
    "* The alternative hypothesis $H_a$ is that two possibilities are not same and `the observed difference is not due to chance.`\n",
    "\n",
    "For Example:\n",
    "\n",
    "| Hypothesis Question | Null Hypothesis | Alternate Hypothesis |\n",
    "| --- | --- | --- |\n",
    "| Do cats care about the color of their food? | Cats express no food preference based on color. | Cats express food preference based on color. |\n",
    "| Do teens use cell phones to access the internet more than adults? | Age has no effect on how cell phones are used for internet access. | Age has effect on how cell phones are used for internet access. |\n",
    "| Are teens better at math than adults? | Age has no effect on mathematical ability. | Age has effect on mathematical ability. |\n",
    "| Does taking aspirin every day reduce the chance of having a heart attack? | Taking aspirin daily does not affect heart attack risk. | Taking aspirin daily does affect heart attack risk. |\n",
    "\n",
    "#### Significance Level\n",
    "* We decide criterion to accept or reject null hypothesis\n",
    "* Its value is between 0 and 1. Most common significance level is 0.05. This means that we want to be 95% confident before we reject the null hypothesis.\n",
    "* The exact value of significance level is chosen based on applications. E.g in aerospace, researchers will choose values close to 0.001."
   ]
  },
  {
   "cell_type": "markdown",
   "metadata": {},
   "source": [
    "---\n",
    "\n",
    "### 🎯 Challenge 1: Denfine null and alternate hypothesis\n",
    "\n",
    "#### 👇 Tasks\n",
    "\n",
    "- ✔️ Suppose we have a two sided coin and we want to check whether the coin is fair(two sides are different) or unfair.\n",
    "\n",
    "#### 🔑 Code\n",
    "\n",
    "Choose between `'coin is fair'` and `'coin is unfair'`.\n",
    "\n",
    "```python\n",
    "null_hypothesis = 'coin is ...'\n",
    "alternate_hypothesis = 'coin is ...'\n",
    "```"
   ]
  },
  {
   "cell_type": "code",
   "execution_count": 3,
   "metadata": {},
   "outputs": [
    {
     "name": "stdout",
     "output_type": "stream",
     "text": [
      "Null hypothesis:\n",
      "coin is fair\n",
      "=================\n",
      "Alternate Hypothesis:\n",
      "coin is unfair\n"
     ]
    }
   ],
   "source": [
    "### BEGIN SOLUTION\n",
    "null_hypothesis = 'coin is fair'\n",
    "alternate_hypothesis = 'coin is unfair'\n",
    "### END SOLUTION\n",
    "\n",
    "print(f\"Null hypothesis:\\n{null_hypothesis}\\n=================\\nAlternate Hypothesis:\\n{alternate_hypothesis}\")"
   ]
  },
  {
   "cell_type": "markdown",
   "metadata": {},
   "source": [
    "#### 🧭 Check Your Work"
   ]
  },
  {
   "cell_type": "code",
   "execution_count": 4,
   "metadata": {
    "collapsed": true,
    "nbgrader": {
     "grade": true,
     "grade_id": "challenge-01",
     "locked": true,
     "points": "1",
     "solution": false
    }
   },
   "outputs": [],
   "source": [
    "tc.assertEqual(null_hypothesis.lower(), \"coin is fair\")\n",
    "tc.assertEqual(alternate_hypothesis.lower(), \"coin is unfair\")"
   ]
  },
  {
   "cell_type": "markdown",
   "metadata": {},
   "source": [
    "---\n",
    "\n",
    "### 🎯 Challenge 2: Perform Hypothesis Testing on unfair coin\n",
    "\n",
    "#### 👇 Tasks\n",
    "\n",
    "- ✔️ Now that we have defined null hypothesis and alternate hypothesis. It's time to perform a hypothesis testing.\n",
    "- ✔️ Suppose we define our significance level to be 0.05. Each time we toss a coin, we only get heads.\n",
    "- ✔️ Based on the available info, answer if we will reject the null hypothesis after two, three, four, and five coin tosses.\n",
    "- ✔️ Store your judgment to the following four variables:\n",
    "    - `reject_after_2_tosses`\n",
    "    - `reject_after_3_tosses`\n",
    "    - `reject_after_4_tosses`\n",
    "    - `reject_after_5_tosses`\n",
    "- ✔️ Use the slider in the below code cell to find the p-value for any number of tosses."
   ]
  },
  {
   "cell_type": "code",
   "execution_count": 5,
   "metadata": {
    "scrolled": false
   },
   "outputs": [
    {
     "data": {
      "application/vnd.jupyter.widget-view+json": {
       "model_id": "e69be1c43808405f99ec1425e88abff5",
       "version_major": 2,
       "version_minor": 0
      },
      "text/plain": [
       "interactive(children=(IntSlider(value=0, description='H', layout=Layout(width='700px'), max=10), IntSlider(val…"
      ]
     },
     "metadata": {},
     "output_type": "display_data"
    }
   ],
   "source": [
    "def f(H, T):\n",
    "    if T > 0:\n",
    "        display(f\"Distrubtion: Heads- {round(H*100/(H+T), 2)}%, Tails- {round(T*100/(H+T), 2)}%\")\n",
    "    else:\n",
    "        display(f\"P-value: {(1/2)**H*100}%\")\n",
    "    return H+T\n",
    "\n",
    "w = interactive(f, H=IntSlider(0, 0, 10, 1, layout=widgets.Layout(width='700px')),\n",
    "                T=IntSlider(0, 0, 0, 1, layout=widgets.Layout(width='700px')))\n",
    "\n",
    "display(w)"
   ]
  },
  {
   "cell_type": "markdown",
   "metadata": {},
   "source": [
    "#### 🔑 Sample Code\n",
    "\n",
    "```python\n",
    "# replace ... with True or False\n",
    "reject_after_2_tosses = False\n",
    "reject_after_3_tosses = ...\n",
    "reject_after_4_tosses = ...\n",
    "reject_after_5_tosses = ...\n",
    "```"
   ]
  },
  {
   "cell_type": "code",
   "execution_count": 6,
   "metadata": {
    "collapsed": true
   },
   "outputs": [],
   "source": [
    "### BEGIN SOLUTION\n",
    "reject_after_2_tosses = False\n",
    "reject_after_3_tosses = False\n",
    "reject_after_4_tosses = False\n",
    "reject_after_5_tosses = True\n",
    "### END SOLUTION"
   ]
  },
  {
   "cell_type": "markdown",
   "metadata": {},
   "source": [
    "#### 🧭 Check Your Work"
   ]
  },
  {
   "cell_type": "code",
   "execution_count": 7,
   "metadata": {
    "collapsed": true,
    "nbgrader": {
     "grade": true,
     "grade_id": "challenge-02",
     "locked": true,
     "points": "1",
     "solution": false
    }
   },
   "outputs": [],
   "source": [
    "check = [reject_after_2_tosses, reject_after_3_tosses, reject_after_4_tosses, reject_after_5_tosses]\n",
    "check_c = [False, not True, False, not False]\n",
    "for toss in range(2, 6):\n",
    "    i = toss - 2\n",
    "    tc.assertEqual(check[i], check_c[i], f'Incorrect judgment for toss #{toss}, should {\"not \" if check_c[i] else \"\"}reject')"
   ]
  },
  {
   "cell_type": "markdown",
   "metadata": {},
   "source": [
    "Note: When we reject the null hypothesis, it does not necessarily mean that the coin is unfair. It means that we have enough evidence to conclude that this coin is unfair."
   ]
  },
  {
   "cell_type": "markdown",
   "metadata": {},
   "source": [
    "---\n",
    "\n",
    "### 🎯 Challenge 3: Perform Hypothesis Testing on weighted coin\n",
    "Now consider another coin which gives out more heads than tails.\n",
    "- Null Hypothesis $H_0$: `the coin is not weighted`\n",
    "- Alternate Hypothesis $H_a$: `the coin is weighted`\n",
    "\n",
    "#### 👇 Tasks\n",
    "\n",
    "- ✔️ Suppose we define our significance level to 0.05. Each time we toss a coin, we only get either heads or tails.\n",
    "- ✔️ Based on the available info, answer if we will reject the null hypothesis when we get below distribution of heads and tails.\n",
    "\n",
    "| Heads | Tails | Answer |\n",
    "| --- | --- | --- |\n",
    "| 50 | 50 | reject_null_case1 |\n",
    "| 50 | 40 | reject_null_case2 |\n",
    "| 50 | 20 | reject_null_case3 |\n",
    "| 50 | 5 | reject_null_case4 |\n",
    "\n",
    "- ✔️ Store your judgment in the following four variables:\n",
    "    - `reject_null_case1`\n",
    "    - `reject_null_case2`\n",
    "    - `reject_null_case3`\n",
    "    - `reject_null_case4`\n",
    "- ✔️ Use the slider in the below code cell to reaffirm your understanding."
   ]
  },
  {
   "cell_type": "code",
   "execution_count": 8,
   "metadata": {},
   "outputs": [
    {
     "data": {
      "application/vnd.jupyter.widget-view+json": {
       "model_id": "bce26d4adbb0448eb0ee1e4c21a13ac8",
       "version_major": 2,
       "version_minor": 0
      },
      "text/plain": [
       "interactive(children=(IntSlider(value=0, description='H', layout=Layout(width='700px'), max=50), IntSlider(val…"
      ]
     },
     "metadata": {},
     "output_type": "display_data"
    }
   ],
   "source": [
    "def f(H, T):\n",
    "    if T > 0:\n",
    "        display(f\"Distrubtion: Heads- {round(H*100/(H+T), 2)}%, Tails- {round(T*100/(H+T), 2)}%, p-value: {round(stats.binom_test(H, n=H+T), 6)}\")\n",
    "    else:\n",
    "        display(f\"P-value: {(1/2)**H*100}%\")\n",
    "    return H+T\n",
    "\n",
    "w = interactive(f, H=IntSlider(0, 0, 50, 1, layout=widgets.Layout(width='700px')),\n",
    "                T=IntSlider(0, 0, 50, 1, layout=widgets.Layout(width='700px')))\n",
    "\n",
    "display(w)"
   ]
  },
  {
   "cell_type": "markdown",
   "metadata": {},
   "source": [
    "#### 🔑 Sample Code\n",
    "\n",
    "```python\n",
    "# replace ... with True or False\n",
    "reject_null_case1 = False\n",
    "reject_null_case2 = ...\n",
    "reject_null_case3 = ...\n",
    "reject_null_case4 = ...\n",
    "```"
   ]
  },
  {
   "cell_type": "code",
   "execution_count": 9,
   "metadata": {
    "collapsed": true
   },
   "outputs": [],
   "source": [
    "### BEGIN SOLUTION\n",
    "reject_null_case1 = False\n",
    "reject_null_case2 = False\n",
    "reject_null_case3 = True\n",
    "reject_null_case4 = True\n",
    "### END SOLUTION"
   ]
  },
  {
   "cell_type": "markdown",
   "metadata": {},
   "source": [
    "#### 🧭 Check Your Work"
   ]
  },
  {
   "cell_type": "code",
   "execution_count": 10,
   "metadata": {
    "collapsed": true,
    "nbgrader": {
     "grade": true,
     "grade_id": "challenge-03",
     "locked": true,
     "points": "1",
     "solution": false
    }
   },
   "outputs": [],
   "source": [
    "tc.assertFalse(reject_null_case1)\n",
    "tc.assertFalse(reject_null_case2)\n",
    "tc.assertFalse(not reject_null_case3)\n",
    "tc.assertFalse(not reject_null_case4)"
   ]
  },
  {
   "cell_type": "markdown",
   "metadata": {},
   "source": [
    "### t-Test\n",
    "\n",
    "* To tell a difference between two distributions, mean alone is not enough. We also need to look at the sample variance.\n",
    "\n",
    "* A t-test is a statistical test that is used to compare the means of two groups. The null hypothesis $H_0$ is that the true difference between these group means is zero. The alternate hypothesis $H_a$ is that the true difference is not zero!\n",
    "\n",
    "* There are two main versions of Student’s t-test:\n",
    "    - Independent t-test. When the two samples are unrelated.\n",
    "    - Dependent t-test. When the samples are related, such as repeated measures on the same population. It is also called a paired test.\n",
    "\n",
    "*** You are not required to know below in details, but it's good to know. ***\n",
    "\n",
    "* t-value calculation for independent t-test\n",
    "$$t = \\frac{\\overline{x}_{1} - \\overline{x}_{2}}{\\sqrt{\\frac{s_{1}^{2}}{n_{1}} + \\frac{s_{2}^{2}}{n_{2}}}}$$ Where,\n",
    "\n",
    "$\\overline{x}_{1}$ = Mean of first sample,\n",
    "$\\overline{x}_{2}$ = Mean of second sample,\n",
    "$n_1$ = Sample size (i.e., number of observations) of first sample,\n",
    "$n_2$ = Sample size (i.e., number of observations) of second sample,\n",
    "$s_1$ = Standard deviation of first sample,\n",
    "$s_2$ = Standard deviation of second sample\n",
    "\n",
    "* t-value calculation for dependent t-test:\n",
    "$$t = \\frac{\\overline{x}_{\\mathrm{diff}}-\\mu_0}{s_{\\overline{x}}}$$ Where, $$ s_{\\overline{x}} = \\frac{s_{\\mathrm{diff}}}{\\sqrt{n}}$$\n",
    "\n",
    "where\n",
    "\n",
    "$x_{\\mathrm{diff}}$ = Sample mean of the differences, \n",
    "$n$ = Sample size (i.e., number of observations),\n",
    "$s_{\\mathrm{diff}}$ = Sample standard deviation of the differences,\n",
    "$s_{\\overline{x}}$ = Estimated standard error of the mean (s/sqrt(n))\n",
    "\n",
    "The value calculated using above formulae is the x-axis value of below t-distribution probability distribution graph."
   ]
  },
  {
   "cell_type": "code",
   "execution_count": 11,
   "metadata": {},
   "outputs": [
    {
     "data": {
      "image/png": "[encoded data removed]",
      "text/plain": [
       "<Figure size 576x396 with 1 Axes>"
      ]
     },
     "metadata": {},
     "output_type": "display_data"
    }
   ],
   "source": [
    "x_axis = np.arange(-5, 5, 0.01)\n",
    "plt.plot(x_axis, t.pdf(x_axis, df=10, loc=0, scale=1))\n",
    "plt.fill_between(x_axis, 0, t.pdf(x_axis, df=10, loc=0, scale=1),\n",
    "                 label='area under prob. distribution curve')\n",
    "plt.legend()\n",
    "plt.xlabel('t-Value')\n",
    "plt.show()"
   ]
  },
  {
   "cell_type": "markdown",
   "metadata": {},
   "source": [
    "---\n",
    "\n",
    "### 🎯 Challenge 4: Perform Hypothesis Testing using t-test for independent data1\n",
    "\n",
    "First, we generate two arrays (`data1` and `data2`) having different means.\n",
    "\n",
    "- Null Hypothesis $H_0$: `the two means are same`\n",
    "- Alternate Hypothesis $H_a$: `the two means are not same`\n",
    "\n",
    "#### 👇 Tasks\n",
    "\n",
    "- ✔️ Perform t-test and answer if we will rejct the null hypothesis with significance level of 0.05.\n",
    "- ✔️ Indicate whether we should reject the null hypotheses by creating a new variable named `reject_null` with either `True` or `False`.\n",
    "\n",
    "```python\n",
    "reject_null = True\n",
    "# or\n",
    "reject_null = False\n",
    "```"
   ]
  },
  {
   "cell_type": "code",
   "execution_count": 12,
   "metadata": {},
   "outputs": [
    {
     "name": "stdout",
     "output_type": "stream",
     "text": [
      "mean of data1: 10.920830944944012, mean of data2: 10.574364262653951\n"
     ]
    }
   ],
   "source": [
    "np.random.seed(42)\n",
    "# generate two independent samples\n",
    "data1 = np.random.randn(120) + 11\n",
    "data2 = np.random.randn(120) + 10.5\n",
    "print(f\"mean of data1: {np.mean(data1)}, mean of data2: {np.mean(data2)}\")"
   ]
  },
  {
   "cell_type": "code",
   "execution_count": 13,
   "metadata": {},
   "outputs": [
    {
     "name": "stdout",
     "output_type": "stream",
     "text": [
      "t-value calculated using scipy.stats package: 2.7673293378745045\n"
     ]
    }
   ],
   "source": [
    "package_calculated_t_val = stats.ttest_ind(data1,data2)[0]\n",
    "print(f\"t-value calculated using scipy.stats package: {package_calculated_t_val}\")"
   ]
  },
  {
   "cell_type": "code",
   "execution_count": 14,
   "metadata": {},
   "outputs": [
    {
     "name": "stdout",
     "output_type": "stream",
     "text": [
      "p value is: 0.0061\n"
     ]
    }
   ],
   "source": [
    "# get p-value for this t-statistic value\n",
    "p_val = stats.ttest_ind(data1,data2)[1]\n",
    "print(f\"p value is: {round(p_val, 4)}\")"
   ]
  },
  {
   "cell_type": "code",
   "execution_count": 15,
   "metadata": {},
   "outputs": [
    {
     "data": {
      "application/vnd.jupyter.widget-view+json": {
       "model_id": "07bd8f84ee4a48729471f7d4e8592ed2",
       "version_major": 2,
       "version_minor": 0
      },
      "text/plain": [
       "interactive(children=(IntSlider(value=0, description='tValue', layout=Layout(width='700px'), max=10, min=-10),…"
      ]
     },
     "metadata": {},
     "output_type": "display_data"
    }
   ],
   "source": [
    "def f(tValue):\n",
    "    x_axis = np.arange(-4, 4, 0.01)\n",
    "    fig, ax = plt.subplots(1, 1, figsize=(20, 10))\n",
    "    ax.set_title(f't-Test acceptance/ rejection region', fontsize= 30)\n",
    "    ax.plot(x_axis, t.pdf(x_axis, df=120, loc=0, scale=1))\n",
    "    ax.fill_between(x_axis, 0, t.pdf(x_axis, df=120, loc=0, scale=1), where=(x_axis<-1.98),\n",
    "                    color='red', label='rejection region')\n",
    "    ax.fill_between(x_axis, 0, t.pdf(x_axis, df=120, loc=0, scale=1), where=(x_axis>1.98),\n",
    "                    color='red')\n",
    "    ax.fill_between(x_axis, 0, t.pdf(x_axis, df=120, loc=0, scale=1), where=(x_axis<1.98)&(x_axis>-1.98),\n",
    "                    color='green', label='acceptance region')\n",
    "    ax.axvline(tValue, ymin=0, ymax=max(t.pdf(x_axis, df=120, loc=0, scale=1)), linewidth=5, color='black')\n",
    "    ax.legend(prop={'size': 18})\n",
    "#     return ax\n",
    "\n",
    "interact(f, tValue=IntSlider(0, -10, 10, 1, layout=widgets.Layout(width='700px')));"
   ]
  },
  {
   "cell_type": "markdown",
   "metadata": {},
   "source": [
    "You can find the critical values of t-statistic at different significance level here: https://www.statisticshowto.com/tables/t-distribution-table/\n"
   ]
  },
  {
   "cell_type": "code",
   "execution_count": 16,
   "metadata": {},
   "outputs": [
    {
     "name": "stdout",
     "output_type": "stream",
     "text": [
      "reject_null=True\n"
     ]
    }
   ],
   "source": [
    "### BEGIN SOLUTION\n",
    "reject_null = True\n",
    "### END SOLUTION\n",
    "\n",
    "print(f'reject_null={reject_null}')"
   ]
  },
  {
   "cell_type": "markdown",
   "metadata": {},
   "source": [
    "#### 🧭 Check Your Work\n",
    "\n",
    "- Once you're done, run the code cell below to test correctness.\n",
    "- ✔️ If the code cell runs without an error, you're good to move on.\n",
    "- ❌ If the code cell throws an error, go back and fix any incorrect parts."
   ]
  },
  {
   "cell_type": "code",
   "execution_count": 17,
   "metadata": {
    "collapsed": true,
    "nbgrader": {
     "grade": true,
     "grade_id": "challenge-04",
     "locked": true,
     "points": "1",
     "solution": false
    }
   },
   "outputs": [],
   "source": [
    "tc.assertTrue(reject_null)"
   ]
  },
  {
   "cell_type": "markdown",
   "metadata": {},
   "source": [
    "---\n",
    "\n",
    "### 🎯 Challenge 5: Perform Hypothesis Testing using t-test for independent data2\n",
    "\n",
    "First, we generate two arrays (`data1` and `data2`) having different means.\n",
    "\n",
    "- Null Hypothesis $H_0$: `the two means are same`\n",
    "- Alternate Hypothesis $H_a$: `the two means are not same`\n",
    "\n",
    "#### 👇 Tasks\n",
    "\n",
    "- ✔️ Perform t-test and answer if we will rejct the null hypothesis with significance level of 0.05.\n",
    "- ✔️ Indicate whether we should reject the null hypotheses by creating a new variable named `reject_null` with either `True` or `False`.\n",
    "\n",
    "```python\n",
    "reject_null = True\n",
    "# or\n",
    "reject_null = False\n",
    "```"
   ]
  },
  {
   "cell_type": "code",
   "execution_count": 18,
   "metadata": {},
   "outputs": [
    {
     "name": "stdout",
     "output_type": "stream",
     "text": [
      "mean of data1: 10.920830944944012, mean of data2: 11.074364262653951\n"
     ]
    }
   ],
   "source": [
    "np.random.seed(42)\n",
    "# generate two independent samples\n",
    "data1 = np.random.randn(120) + 11\n",
    "data2 = np.random.randn(120) + 11\n",
    "print(f\"mean of data1: {np.mean(data1)}, mean of data2: {np.mean(data2)}\")"
   ]
  },
  {
   "cell_type": "code",
   "execution_count": 19,
   "metadata": {},
   "outputs": [
    {
     "name": "stdout",
     "output_type": "stream",
     "text": [
      "t-value calculated using scipy.stats package: -1.2263148988283317\n"
     ]
    }
   ],
   "source": [
    "package_calculated_t_val = stats.ttest_ind(data1,data2)[0]\n",
    "print(f\"t-value calculated using scipy.stats package: {package_calculated_t_val}\")"
   ]
  },
  {
   "cell_type": "code",
   "execution_count": 20,
   "metadata": {},
   "outputs": [
    {
     "name": "stdout",
     "output_type": "stream",
     "text": [
      "p value is: 0.2213\n"
     ]
    }
   ],
   "source": [
    "# get p-value for this t-statistic value\n",
    "p_val = stats.ttest_ind(data1,data2)[1]\n",
    "print(f\"p value is: {round(p_val, 4)}\")"
   ]
  },
  {
   "cell_type": "code",
   "execution_count": 21,
   "metadata": {},
   "outputs": [
    {
     "data": {
      "application/vnd.jupyter.widget-view+json": {
       "model_id": "052c266140a84e918161cd288359bdf6",
       "version_major": 2,
       "version_minor": 0
      },
      "text/plain": [
       "interactive(children=(IntSlider(value=0, description='tValue', layout=Layout(width='700px'), max=10, min=-10),…"
      ]
     },
     "metadata": {},
     "output_type": "display_data"
    }
   ],
   "source": [
    "def f(tValue):\n",
    "    x_axis = np.arange(-4, 4, 0.01)\n",
    "    fig, ax = plt.subplots(1, 1, figsize=(20, 10))\n",
    "    ax.set_title(f't-Test acceptance/ rejection region', fontsize= 30)\n",
    "    ax.plot(x_axis, t.pdf(x_axis, df=120, loc=0, scale=1))\n",
    "    ax.fill_between(x_axis, 0, t.pdf(x_axis, df=120, loc=0, scale=1), where=(x_axis<-1.98),\n",
    "                    color='red', label='rejection region')\n",
    "    ax.fill_between(x_axis, 0, t.pdf(x_axis, df=120, loc=0, scale=1), where=(x_axis>1.98),\n",
    "                    color='red')\n",
    "    ax.fill_between(x_axis, 0, t.pdf(x_axis, df=120, loc=0, scale=1), where=(x_axis<1.98)&(x_axis>-1.98),\n",
    "                    color='green', label='acceptance region')\n",
    "    ax.axvline(tValue, ymin=0, ymax=max(t.pdf(x_axis, df=120, loc=0, scale=1)), linewidth=5, color='black')\n",
    "    ax.legend(prop={'size': 18})\n",
    "#     return ax\n",
    "\n",
    "interact(f, tValue=IntSlider(0, -10, 10, 1, layout=widgets.Layout(width='700px')));"
   ]
  },
  {
   "cell_type": "markdown",
   "metadata": {},
   "source": [
    "You can find the critical values of t-statistic at different significance level here: https://www.statisticshowto.com/tables/t-distribution-table/\n"
   ]
  },
  {
   "cell_type": "code",
   "execution_count": 22,
   "metadata": {},
   "outputs": [
    {
     "name": "stdout",
     "output_type": "stream",
     "text": [
      "reject_null=False\n"
     ]
    }
   ],
   "source": [
    "### BEGIN SOLUTION\n",
    "reject_null = False\n",
    "### END SOLUTION\n",
    "\n",
    "print(f'reject_null={reject_null}')"
   ]
  },
  {
   "cell_type": "markdown",
   "metadata": {},
   "source": [
    "#### 🧭 Check Your Work\n",
    "\n",
    "- Once you're done, run the code cell below to test correctness.\n",
    "- ✔️ If the code cell runs without an error, you're good to move on.\n",
    "- ❌ If the code cell throws an error, go back and fix any incorrect parts."
   ]
  },
  {
   "cell_type": "code",
   "execution_count": 23,
   "metadata": {
    "collapsed": true,
    "nbgrader": {
     "grade": true,
     "grade_id": "challenge-05",
     "locked": true,
     "points": "1",
     "solution": false
    }
   },
   "outputs": [],
   "source": [
    "tc.assertFalse(reject_null)"
   ]
  },
  {
   "cell_type": "markdown",
   "metadata": {},
   "source": [
    "---\n",
    "\n",
    "### 🎯 Challenge 6: Perform Hypothesis Testing using t-test for dependent data1\n",
    "\n",
    "First, we generate two arrays (`data1` and `data2`) having different means.\n",
    "\n",
    "- Null Hypothesis $H_0$: `the two means are same`\n",
    "- Alternate Hypothesis $H_a$: `the two means are not same`\n",
    "\n",
    "#### 👇 Tasks\n",
    "\n",
    "- ✔️ Perform t-test and answer if we will rejct the null hypothesis with significance level of 0.05.\n",
    "- ✔️ Indicate whether we should reject the null hypotheses by creating a new variable named `reject_null` with either `True` or `False`.\n",
    "\n",
    "```python\n",
    "reject_null = True\n",
    "# or\n",
    "reject_null = False\n",
    "```"
   ]
  },
  {
   "cell_type": "code",
   "execution_count": 24,
   "metadata": {},
   "outputs": [
    {
     "name": "stdout",
     "output_type": "stream",
     "text": [
      "mean of data1: 9.920830944944012, mean of data2: 9.985756157822587\n"
     ]
    }
   ],
   "source": [
    "np.random.seed(42)\n",
    "# generate two independent samples\n",
    "data1 = np.random.randn(120) + 10\n",
    "data2 = data1 + np.random.uniform(low=-1, high=1, size= 120)\n",
    "print(f\"mean of data1: {np.mean(data1)}, mean of data2: {np.mean(data2)}\")"
   ]
  },
  {
   "cell_type": "code",
   "execution_count": 25,
   "metadata": {},
   "outputs": [
    {
     "name": "stdout",
     "output_type": "stream",
     "text": [
      "t-value calculated using scipy.stats package: -1.2262361608443657\n"
     ]
    }
   ],
   "source": [
    "# function for calculating the t-test for two dependent samples\n",
    "package_calculated_t_val = stats.ttest_rel(data1,data2)[0]\n",
    "print(f\"t-value calculated using scipy.stats package: {package_calculated_t_val}\")"
   ]
  },
  {
   "cell_type": "code",
   "execution_count": 26,
   "metadata": {},
   "outputs": [
    {
     "name": "stdout",
     "output_type": "stream",
     "text": [
      "p value is: 0.2225\n"
     ]
    }
   ],
   "source": [
    "# get p-value for this t-statistic value\n",
    "p_val = stats.ttest_rel(data1,data2)[1]\n",
    "print(f\"p value is: {round(p_val, 4)}\")"
   ]
  },
  {
   "cell_type": "code",
   "execution_count": 27,
   "metadata": {},
   "outputs": [
    {
     "data": {
      "application/vnd.jupyter.widget-view+json": {
       "model_id": "d22f121eed1a438ba3dddf469dabe2e6",
       "version_major": 2,
       "version_minor": 0
      },
      "text/plain": [
       "interactive(children=(IntSlider(value=0, description='tValue', layout=Layout(width='700px'), max=10, min=-10),…"
      ]
     },
     "metadata": {},
     "output_type": "display_data"
    }
   ],
   "source": [
    "def f(tValue):\n",
    "    x_axis = np.arange(-4, 4, 0.01)\n",
    "    fig, ax = plt.subplots(1, 1, figsize=(20, 10))\n",
    "    ax.set_title(f't-Test acceptance/ rejection region', fontsize= 30)\n",
    "    ax.plot(x_axis, t.pdf(x_axis, df=120, loc=0, scale=1))\n",
    "    ax.fill_between(x_axis, 0, t.pdf(x_axis, df=120, loc=0, scale=1), where=(x_axis<-1.98),\n",
    "                    color='red', label='rejection region')\n",
    "    ax.fill_between(x_axis, 0, t.pdf(x_axis, df=120, loc=0, scale=1), where=(x_axis>1.98),\n",
    "                    color='red')\n",
    "    ax.fill_between(x_axis, 0, t.pdf(x_axis, df=120, loc=0, scale=1), where=(x_axis<1.98)&(x_axis>-1.98),\n",
    "                    color='green', label='acceptance region')\n",
    "    ax.axvline(tValue, ymin=0, ymax=max(t.pdf(x_axis, df=120, loc=0, scale=1)), linewidth=5, color='black')\n",
    "    ax.legend(prop={'size': 18})\n",
    "#     return ax\n",
    "\n",
    "interact(f, tValue=IntSlider(0, -10, 10, 1, layout=widgets.Layout(width='700px')));"
   ]
  },
  {
   "cell_type": "markdown",
   "metadata": {},
   "source": [
    "You can find the critical values of t-statistic at different significance level here: https://www.statisticshowto.com/tables/t-distribution-table/\n"
   ]
  },
  {
   "cell_type": "code",
   "execution_count": 28,
   "metadata": {},
   "outputs": [
    {
     "name": "stdout",
     "output_type": "stream",
     "text": [
      "reject_null=False\n"
     ]
    }
   ],
   "source": [
    "### BEGIN SOLUTION\n",
    "reject_null = False\n",
    "### END SOLUTION\n",
    "\n",
    "print(f'reject_null={reject_null}')"
   ]
  },
  {
   "cell_type": "markdown",
   "metadata": {},
   "source": [
    "#### 🧭 Check Your Work"
   ]
  },
  {
   "cell_type": "code",
   "execution_count": 29,
   "metadata": {
    "collapsed": true,
    "nbgrader": {
     "grade": true,
     "grade_id": "challenge-06",
     "locked": true,
     "points": "1",
     "solution": false
    }
   },
   "outputs": [],
   "source": [
    "tc.assertFalse(reject_null)"
   ]
  },
  {
   "cell_type": "markdown",
   "metadata": {},
   "source": [
    "---\n",
    "\n",
    "### 🎯 Challenge 7: Perform Hypothesis Testing using t-test for dependent data2\n",
    "\n",
    "First, we generate two arrays (`data1` and `data2`) having different means.\n",
    "\n",
    "- Null Hypothesis $H_0$: `the two means are same`\n",
    "- Alternate Hypothesis $H_a$: `the two means are not same`\n",
    "\n",
    "#### 👇 Tasks\n",
    "\n",
    "- ✔️ Perform t-test and answer if we will rejct the null hypothesis with significance level of 0.05.\n",
    "- ✔️ Indicate whether we should reject the null hypotheses by creating a new variable named `reject_null` with either `True` or `False`.\n",
    "\n",
    "```python\n",
    "reject_null = True\n",
    "# or\n",
    "reject_null = False\n",
    "```"
   ]
  },
  {
   "cell_type": "code",
   "execution_count": 30,
   "metadata": {},
   "outputs": [
    {
     "name": "stdout",
     "output_type": "stream",
     "text": [
      "mean of data1: 9.920830944944012, mean of data2: 10.145494939754373\n"
     ]
    }
   ],
   "source": [
    "np.random.seed(42)\n",
    "# generate two independent samples\n",
    "data1 = np.random.randn(120) + 10\n",
    "data2 = data1 + np.random.uniform(low=-1, high=1.3, size= 120)\n",
    "print(f\"mean of data1: {np.mean(data1)}, mean of data2: {np.mean(data2)}\")"
   ]
  },
  {
   "cell_type": "code",
   "execution_count": 31,
   "metadata": {},
   "outputs": [
    {
     "name": "stdout",
     "output_type": "stream",
     "text": [
      "t-value calculated using scipy.stats package: -3.6897451733721787\n"
     ]
    }
   ],
   "source": [
    "package_calculated_t_val = stats.ttest_rel(data1,data2)[0]\n",
    "print(f\"t-value calculated using scipy.stats package: {package_calculated_t_val}\")"
   ]
  },
  {
   "cell_type": "code",
   "execution_count": 32,
   "metadata": {},
   "outputs": [
    {
     "name": "stdout",
     "output_type": "stream",
     "text": [
      "p value is: 0.0003\n"
     ]
    }
   ],
   "source": [
    "# get p-value for this t-statistic value\n",
    "p_val = stats.ttest_rel(data1,data2)[1]\n",
    "print(f\"p value is: {round(p_val, 4)}\")"
   ]
  },
  {
   "cell_type": "code",
   "execution_count": 33,
   "metadata": {},
   "outputs": [
    {
     "data": {
      "application/vnd.jupyter.widget-view+json": {
       "model_id": "e2b62d3cc3414828a27bd4343541c524",
       "version_major": 2,
       "version_minor": 0
      },
      "text/plain": [
       "interactive(children=(IntSlider(value=0, description='tValue', layout=Layout(width='700px'), max=10, min=-10),…"
      ]
     },
     "metadata": {},
     "output_type": "display_data"
    }
   ],
   "source": [
    "def f(tValue):\n",
    "    x_axis = np.arange(-4, 4, 0.01)\n",
    "    fig, ax = plt.subplots(1, 1, figsize=(20, 10))\n",
    "    ax.set_title(f't-Test acceptance/ rejection region', fontsize= 30)\n",
    "    ax.plot(x_axis, t.pdf(x_axis, df=120, loc=0, scale=1))\n",
    "    ax.fill_between(x_axis, 0, t.pdf(x_axis, df=120, loc=0, scale=1), where=(x_axis<-1.98),\n",
    "                    color='red', label='rejection region')\n",
    "    ax.fill_between(x_axis, 0, t.pdf(x_axis, df=120, loc=0, scale=1), where=(x_axis>1.98),\n",
    "                    color='red')\n",
    "    ax.fill_between(x_axis, 0, t.pdf(x_axis, df=120, loc=0, scale=1), where=(x_axis<1.98)&(x_axis>-1.98),\n",
    "                    color='green', label='acceptance region')\n",
    "    ax.axvline(tValue, ymin=0, ymax=max(t.pdf(x_axis, df=120, loc=0, scale=1)), linewidth=5, color='black')\n",
    "    ax.legend(prop={'size': 18})\n",
    "#     return ax\n",
    "\n",
    "interact(f, tValue=IntSlider(0, -10, 10, 1, layout=widgets.Layout(width='700px')));"
   ]
  },
  {
   "cell_type": "markdown",
   "metadata": {},
   "source": [
    "You can find the critical values of t-statistic at different significance level here: https://www.statisticshowto.com/tables/t-distribution-table/\n"
   ]
  },
  {
   "cell_type": "code",
   "execution_count": 34,
   "metadata": {},
   "outputs": [
    {
     "name": "stdout",
     "output_type": "stream",
     "text": [
      "reject_null=True\n"
     ]
    }
   ],
   "source": [
    "### BEGIN SOLUTION\n",
    "reject_null = True\n",
    "### END SOLUTION\n",
    "\n",
    "print(f'reject_null={reject_null}')"
   ]
  },
  {
   "cell_type": "markdown",
   "metadata": {},
   "source": [
    "#### 🧭 Check Your Work"
   ]
  },
  {
   "cell_type": "code",
   "execution_count": 35,
   "metadata": {
    "collapsed": true,
    "nbgrader": {
     "grade": true,
     "grade_id": "challenge-07",
     "locked": true,
     "points": "1",
     "solution": false
    }
   },
   "outputs": [],
   "source": [
    "tc.assertTrue(reject_null)"
   ]
  }
 ],
 "metadata": {
  "kernelspec": {
   "display_name": "Python 3 [3.7]",
   "language": "python",
   "name": "python3"
  },
  "language_info": {
   "codemirror_mode": {
    "name": "ipython",
    "version": 3
   },
   "file_extension": ".py",
   "mimetype": "text/x-python",
   "name": "python",
   "nbconvert_exporter": "python",
   "pygments_lexer": "ipython3",
   "version": "3.7.5"
  }
 },
 "nbformat": 4,
 "nbformat_minor": 4
}
