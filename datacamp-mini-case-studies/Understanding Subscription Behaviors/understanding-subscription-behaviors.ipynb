{
 "cells": [
  {
   "cell_type": "markdown",
   "id": "f98bdeaa-eac6-4f30-b47e-d45e4eab9cb2",
   "metadata": {},
   "source": [
    "# Understanding Subscription Behaviors\n",
    "\n",
    "Source: Datacamp\n",
    "\n",
    "<div style=\"text-align: center; padding: 20px;\">\n",
    "    <img src=\"austin-distel-744oGeqpxPQ-unsplash.jpeg\" alt=\"Subscription Renewal Insights for a SaaS Company\" width=\"450\"/>\n",
    "</div>\n",
    "\n",
    "\n",
    "<!-- Image source - https://unsplash.com/photos/person-using-macbook-pro-744oGeqpxPQ\n",
    "-->\n",
    "\n",
    "    \n",
    "A SaaS company seeks to uncover what drives its clients to renew subscriptions. They’ve collected data on client details, subscription records, and economic indicators and would like to connect them to better understand its clients’ behavior. \n",
    "\n",
    "They’ve tasked you with analyzing these datasets to identify the key factors influencing clients’ decisions to renew their subscriptions. \n",
    "\n",
    "Your analysis will provide them with insights into which customers are renewing their products and the reasons behind their renewals. The company can leverage these insights to make informed decisions to increase renewal rates and improve customer loyalty, helping them stay competitive and ensure long-term growth.\n",
    "\n",
    "\n",
    "## The Data\n",
    "\n",
    "The company have provided you with three datasets for your analysis. A summary of each data is provided below.\n",
    "\n",
    "## `client_details.csv`\n",
    "\n",
    "| Column         | Description|\n",
    "|----------------|---------------------------------------------------------------|\n",
    "| `client_id`    | Unique identifier for each client. |\n",
    "| `company_size` | Size of the company (Small, Medium, Large).|\n",
    "| `industry`     | Industry to which the client belongs (Fintech, Gaming, Crypto, AI, E-commerce).|\n",
    "| `location`     | Location of the client (New York, New Jersey, Pennsylvania, Massachusetts, Connecticut).|\n",
    "\n",
    "## `subscription_records.csv`\n",
    "\n",
    "| Column             | Description   |\n",
    "|--------------------|---------------|\n",
    "| `client_id`        | Unique identifier for each client.|\n",
    "| `subscription_type`| Type of subscription (Yearly, Monthly).|\n",
    "| `start_date`       | Start date of the subscription - YYYY-MM-DD.|\n",
    "| `end_date`         | End date of the subscription - YYYY-MM-DD.|\n",
    "| `renewed`          | Indicates whether the subscription was renewed (True, False).|\n",
    "\n",
    "## `economic_indicators.csv`\n",
    "\n",
    "| Column           | Description                                       |\n",
    "|------------------|---------------------------------------------------|\n",
    "| `start_date`     | Start date of the economic indicator (Quarterly) - YYYY-MM-DD.|\n",
    "| `end_date`       | End date of the economic indicator (Quarterly) - YYYY-MM-DD.|\n",
    "| `inflation_rate` | Inflation rate in the period.|\n",
    "| `gdp_growth_rate`| Gross Domestic Product (GDP) growth rate in the period.|\n"
   ]
  },
  {
   "cell_type": "code",
   "execution_count": 1,
   "id": "73ca3720-210a-4230-8601-2ef53803a02f",
   "metadata": {
    "executionCancelledAt": null,
    "executionTime": 24,
    "lastExecutedAt": 1733408856978,
    "lastExecutedByKernel": "fe4eb38f-c098-4d5b-80fb-120a29760d07",
    "lastScheduledRunId": null,
    "lastSuccessfullyExecutedCode": "# Re-run this cell\n# Import required libraries\nimport pandas as pd\n\n# Import data\nclient_details = pd.read_csv('data/client_details.csv')\nsubscription_records = pd.read_csv('data/subscription_records.csv', parse_dates = ['start_date','end_date'])\neconomic_indicators = pd.read_csv('data/economic_indicators.csv', parse_dates = ['start_date','end_date'])",
    "outputsMetadata": {
     "0": {
      "height": 196,
      "type": "dataFrame"
     }
    }
   },
   "outputs": [],
   "source": [
    "# Re-run this cell\n",
    "# Import required libraries\n",
    "import pandas as pd\n",
    "\n",
    "# Import data\n",
    "client_details = pd.read_csv('data/client_details.csv')\n",
    "subscription_records = pd.read_csv('data/subscription_records.csv', parse_dates = ['start_date','end_date'])\n",
    "economic_indicators = pd.read_csv('data/economic_indicators.csv', parse_dates = ['start_date','end_date'])"
   ]
  },
  {
   "cell_type": "code",
   "execution_count": 2,
   "id": "2945d7e1-57ab-4e6e-b761-05b10cf379a9",
   "metadata": {
    "executionCancelledAt": null,
    "executionTime": 52,
    "lastExecutedAt": 1733408857030,
    "lastExecutedByKernel": "fe4eb38f-c098-4d5b-80fb-120a29760d07",
    "lastScheduledRunId": null,
    "lastSuccessfullyExecutedCode": "display(client_details.shape)\ndisplay(subscription_records.shape)\ndisplay(economic_indicators.shape)"
   },
   "outputs": [
    {
     "data": {
      "text/plain": [
       "(100, 4)"
      ]
     },
     "metadata": {},
     "output_type": "display_data"
    },
    {
     "data": {
      "text/plain": [
       "(100, 5)"
      ]
     },
     "metadata": {},
     "output_type": "display_data"
    },
    {
     "data": {
      "text/plain": [
       "(21, 5)"
      ]
     },
     "metadata": {},
     "output_type": "display_data"
    }
   ],
   "source": [
    "display(client_details.shape)\n",
    "display(subscription_records.shape)\n",
    "display(economic_indicators.shape)"
   ]
  },
  {
   "cell_type": "markdown",
   "id": "cbbe08eb-00a5-4a61-b479-4bd84040f97b",
   "metadata": {},
   "source": [
    "### Client Details Table"
   ]
  },
  {
   "cell_type": "code",
   "execution_count": 3,
   "id": "580f374c-a4dd-477a-8baa-4da00cd1caa6",
   "metadata": {
    "executionCancelledAt": null,
    "executionTime": 55,
    "lastExecutedAt": 1733408857085,
    "lastExecutedByKernel": "fe4eb38f-c098-4d5b-80fb-120a29760d07",
    "lastScheduledRunId": null,
    "lastSuccessfullyExecutedCode": "# Start coding here, good luck!\nclient_details.head(3)",
    "outputsMetadata": {
     "0": {
      "height": 192,
      "type": "dataFrame"
     }
    }
   },
   "outputs": [
    {
     "data": {
      "text/html": [
       "<div>\n",
       "<style scoped>\n",
       "    .dataframe tbody tr th:only-of-type {\n",
       "        vertical-align: middle;\n",
       "    }\n",
       "\n",
       "    .dataframe tbody tr th {\n",
       "        vertical-align: top;\n",
       "    }\n",
       "\n",
       "    .dataframe thead th {\n",
       "        text-align: right;\n",
       "    }\n",
       "</style>\n",
       "<table border=\"1\" class=\"dataframe\">\n",
       "  <thead>\n",
       "    <tr style=\"text-align: right;\">\n",
       "      <th></th>\n",
       "      <th>client_id</th>\n",
       "      <th>company_size</th>\n",
       "      <th>industry</th>\n",
       "      <th>location</th>\n",
       "    </tr>\n",
       "  </thead>\n",
       "  <tbody>\n",
       "    <tr>\n",
       "      <th>0</th>\n",
       "      <td>4280387012</td>\n",
       "      <td>Large</td>\n",
       "      <td>Fintech</td>\n",
       "      <td>New York</td>\n",
       "    </tr>\n",
       "    <tr>\n",
       "      <th>1</th>\n",
       "      <td>2095513148</td>\n",
       "      <td>Small</td>\n",
       "      <td>Fintech</td>\n",
       "      <td>New Jersey</td>\n",
       "    </tr>\n",
       "    <tr>\n",
       "      <th>2</th>\n",
       "      <td>7225516707</td>\n",
       "      <td>Medium</td>\n",
       "      <td>Fintech</td>\n",
       "      <td>Pennsylvania</td>\n",
       "    </tr>\n",
       "  </tbody>\n",
       "</table>\n",
       "</div>"
      ],
      "text/plain": [
       "    client_id company_size industry      location\n",
       "0  4280387012        Large  Fintech      New York\n",
       "1  2095513148        Small  Fintech    New Jersey\n",
       "2  7225516707       Medium  Fintech  Pennsylvania"
      ]
     },
     "execution_count": 3,
     "metadata": {},
     "output_type": "execute_result"
    }
   ],
   "source": [
    "# Start coding here, good luck!\n",
    "client_details.head(3)"
   ]
  },
  {
   "cell_type": "markdown",
   "id": "7f73b49f-7635-4b68-aae3-e2b1f59dc7d1",
   "metadata": {},
   "source": [
    "### Subscription Records Table"
   ]
  },
  {
   "cell_type": "code",
   "execution_count": 4,
   "id": "8eb5f4d8-83fb-4ff0-a7ca-ca01a37811f4",
   "metadata": {
    "executionCancelledAt": null,
    "executionTime": 64,
    "lastExecutedAt": 1733408857149,
    "lastExecutedByKernel": "fe4eb38f-c098-4d5b-80fb-120a29760d07",
    "lastScheduledRunId": null,
    "lastSuccessfullyExecutedCode": "subscription_records.head(3)",
    "outputsMetadata": {
     "0": {
      "height": 209,
      "type": "dataFrame"
     }
    }
   },
   "outputs": [
    {
     "data": {
      "text/html": [
       "<div>\n",
       "<style scoped>\n",
       "    .dataframe tbody tr th:only-of-type {\n",
       "        vertical-align: middle;\n",
       "    }\n",
       "\n",
       "    .dataframe tbody tr th {\n",
       "        vertical-align: top;\n",
       "    }\n",
       "\n",
       "    .dataframe thead th {\n",
       "        text-align: right;\n",
       "    }\n",
       "</style>\n",
       "<table border=\"1\" class=\"dataframe\">\n",
       "  <thead>\n",
       "    <tr style=\"text-align: right;\">\n",
       "      <th></th>\n",
       "      <th>client_id</th>\n",
       "      <th>subscription_type</th>\n",
       "      <th>start_date</th>\n",
       "      <th>end_date</th>\n",
       "      <th>renewed</th>\n",
       "    </tr>\n",
       "  </thead>\n",
       "  <tbody>\n",
       "    <tr>\n",
       "      <th>0</th>\n",
       "      <td>1131383004</td>\n",
       "      <td>Yearly</td>\n",
       "      <td>2020-11-11</td>\n",
       "      <td>2021-11-11</td>\n",
       "      <td>False</td>\n",
       "    </tr>\n",
       "    <tr>\n",
       "      <th>1</th>\n",
       "      <td>4309371709</td>\n",
       "      <td>Monthly</td>\n",
       "      <td>2021-05-24</td>\n",
       "      <td>2021-06-23</td>\n",
       "      <td>True</td>\n",
       "    </tr>\n",
       "    <tr>\n",
       "      <th>2</th>\n",
       "      <td>3183675157</td>\n",
       "      <td>Yearly</td>\n",
       "      <td>2021-12-25</td>\n",
       "      <td>2022-12-25</td>\n",
       "      <td>True</td>\n",
       "    </tr>\n",
       "  </tbody>\n",
       "</table>\n",
       "</div>"
      ],
      "text/plain": [
       "    client_id subscription_type start_date   end_date  renewed\n",
       "0  1131383004            Yearly 2020-11-11 2021-11-11    False\n",
       "1  4309371709           Monthly 2021-05-24 2021-06-23     True\n",
       "2  3183675157            Yearly 2021-12-25 2022-12-25     True"
      ]
     },
     "execution_count": 4,
     "metadata": {},
     "output_type": "execute_result"
    }
   ],
   "source": [
    "subscription_records.head(3)"
   ]
  },
  {
   "cell_type": "markdown",
   "id": "c8ca0a9b-979b-4ba8-b6f0-156bbb0b99e8",
   "metadata": {},
   "source": [
    "### Economic Indicators Table"
   ]
  },
  {
   "cell_type": "code",
   "execution_count": 5,
   "id": "51e152c1-9c3c-4793-8dc4-111f5528d95c",
   "metadata": {
    "executionCancelledAt": null,
    "executionTime": 60,
    "lastExecutedAt": 1733408857209,
    "lastExecutedByKernel": "fe4eb38f-c098-4d5b-80fb-120a29760d07",
    "lastScheduledRunId": null,
    "lastSuccessfullyExecutedCode": "if 'Unnamed: 0' in economic_indicators.columns:\n    economic_indicators.drop(columns='Unnamed: 0', inplace=True)\n    \neconomic_indicators.head(3)",
    "outputsMetadata": {
     "0": {
      "height": 192,
      "type": "dataFrame"
     }
    }
   },
   "outputs": [
    {
     "data": {
      "text/html": [
       "<div>\n",
       "<style scoped>\n",
       "    .dataframe tbody tr th:only-of-type {\n",
       "        vertical-align: middle;\n",
       "    }\n",
       "\n",
       "    .dataframe tbody tr th {\n",
       "        vertical-align: top;\n",
       "    }\n",
       "\n",
       "    .dataframe thead th {\n",
       "        text-align: right;\n",
       "    }\n",
       "</style>\n",
       "<table border=\"1\" class=\"dataframe\">\n",
       "  <thead>\n",
       "    <tr style=\"text-align: right;\">\n",
       "      <th></th>\n",
       "      <th>start_date</th>\n",
       "      <th>end_date</th>\n",
       "      <th>inflation_rate</th>\n",
       "      <th>gdp_growth_rate</th>\n",
       "    </tr>\n",
       "  </thead>\n",
       "  <tbody>\n",
       "    <tr>\n",
       "      <th>0</th>\n",
       "      <td>2018-01-01</td>\n",
       "      <td>2018-03-31</td>\n",
       "      <td>5.77</td>\n",
       "      <td>3.51</td>\n",
       "    </tr>\n",
       "    <tr>\n",
       "      <th>1</th>\n",
       "      <td>2018-04-01</td>\n",
       "      <td>2018-06-30</td>\n",
       "      <td>1.17</td>\n",
       "      <td>2.15</td>\n",
       "    </tr>\n",
       "    <tr>\n",
       "      <th>2</th>\n",
       "      <td>2018-07-01</td>\n",
       "      <td>2018-09-30</td>\n",
       "      <td>1.56</td>\n",
       "      <td>1.82</td>\n",
       "    </tr>\n",
       "  </tbody>\n",
       "</table>\n",
       "</div>"
      ],
      "text/plain": [
       "  start_date   end_date  inflation_rate  gdp_growth_rate\n",
       "0 2018-01-01 2018-03-31            5.77             3.51\n",
       "1 2018-04-01 2018-06-30            1.17             2.15\n",
       "2 2018-07-01 2018-09-30            1.56             1.82"
      ]
     },
     "execution_count": 5,
     "metadata": {},
     "output_type": "execute_result"
    }
   ],
   "source": [
    "if 'Unnamed: 0' in economic_indicators.columns:\n",
    "    economic_indicators.drop(columns='Unnamed: 0', inplace=True)\n",
    "    \n",
    "economic_indicators.head(3)"
   ]
  },
  {
   "cell_type": "markdown",
   "id": "a45c8e52-b36d-46ef-aef2-e7af34af95dc",
   "metadata": {},
   "source": [
    "## Question 1\n",
    "How many total Fintech and Crypto clients does the company have? Store as an integer variable called `total_fintech_crypto_clients`."
   ]
  },
  {
   "cell_type": "code",
   "execution_count": 6,
   "id": "fdf7ffb9-f46a-4749-b42d-99c61ef8a114",
   "metadata": {
    "executionCancelledAt": null,
    "executionTime": 53,
    "lastExecutedAt": 1733408857262,
    "lastExecutedByKernel": "fe4eb38f-c098-4d5b-80fb-120a29760d07",
    "lastScheduledRunId": null,
    "lastSuccessfullyExecutedCode": "total_fintech_crypto_clients = client_details['industry'].isin(['Fintech', 'Crypto']).sum()\nprint(total_fintech_crypto_clients)",
    "outputsMetadata": {
     "0": {
      "height": 38,
      "type": "stream"
     }
    }
   },
   "outputs": [
    {
     "name": "stdout",
     "output_type": "stream",
     "text": [
      "total_fintech_crypto_clients=47\n"
     ]
    }
   ],
   "source": [
    "total_fintech_crypto_clients = client_details['industry'].isin(['Fintech', 'Crypto']).sum()\n",
    "print(f'total_fintech_crypto_clients={total_fintech_crypto_clients}')"
   ]
  },
  {
   "cell_type": "markdown",
   "id": "435450f7-073c-4907-852c-56ac53c224b9",
   "metadata": {},
   "source": [
    "## Question 2\n",
    "\n",
    "Which industry has the highest renewal rate? Store as a string variable called `top_industry`."
   ]
  },
  {
   "cell_type": "code",
   "execution_count": 7,
   "id": "b4770a06-9324-4c5a-aa54-c39451e68a7b",
   "metadata": {
    "executionCancelledAt": null,
    "executionTime": 51,
    "lastExecutedAt": 1733408857313,
    "lastExecutedByKernel": "fe4eb38f-c098-4d5b-80fb-120a29760d07",
    "lastScheduledRunId": null,
    "lastSuccessfullyExecutedCode": "df_cs = pd.merge(\n    left=client_details,\n    right=subscription_records,\n    how='left',\n    on='client_id'\n)\n\ndf_cs.sample(5)",
    "outputsMetadata": {
     "0": {
      "height": 265,
      "type": "dataFrame"
     }
    }
   },
   "outputs": [
    {
     "data": {
      "text/html": [
       "<div>\n",
       "<style scoped>\n",
       "    .dataframe tbody tr th:only-of-type {\n",
       "        vertical-align: middle;\n",
       "    }\n",
       "\n",
       "    .dataframe tbody tr th {\n",
       "        vertical-align: top;\n",
       "    }\n",
       "\n",
       "    .dataframe thead th {\n",
       "        text-align: right;\n",
       "    }\n",
       "</style>\n",
       "<table border=\"1\" class=\"dataframe\">\n",
       "  <thead>\n",
       "    <tr style=\"text-align: right;\">\n",
       "      <th></th>\n",
       "      <th>client_id</th>\n",
       "      <th>company_size</th>\n",
       "      <th>industry</th>\n",
       "      <th>location</th>\n",
       "      <th>subscription_type</th>\n",
       "      <th>start_date</th>\n",
       "      <th>end_date</th>\n",
       "      <th>renewed</th>\n",
       "    </tr>\n",
       "  </thead>\n",
       "  <tbody>\n",
       "    <tr>\n",
       "      <th>82</th>\n",
       "      <td>4194777577</td>\n",
       "      <td>Large</td>\n",
       "      <td>Fintech</td>\n",
       "      <td>New Jersey</td>\n",
       "      <td>Monthly</td>\n",
       "      <td>2021-12-18</td>\n",
       "      <td>2022-01-17</td>\n",
       "      <td>True</td>\n",
       "    </tr>\n",
       "    <tr>\n",
       "      <th>30</th>\n",
       "      <td>5421990790</td>\n",
       "      <td>Large</td>\n",
       "      <td>Fintech</td>\n",
       "      <td>Pennsylvania</td>\n",
       "      <td>Yearly</td>\n",
       "      <td>2018-07-10</td>\n",
       "      <td>2019-07-10</td>\n",
       "      <td>False</td>\n",
       "    </tr>\n",
       "    <tr>\n",
       "      <th>78</th>\n",
       "      <td>4760390973</td>\n",
       "      <td>Small</td>\n",
       "      <td>Gaming</td>\n",
       "      <td>New Jersey</td>\n",
       "      <td>Yearly</td>\n",
       "      <td>2022-01-06</td>\n",
       "      <td>2023-01-06</td>\n",
       "      <td>True</td>\n",
       "    </tr>\n",
       "    <tr>\n",
       "      <th>4</th>\n",
       "      <td>4387541014</td>\n",
       "      <td>Medium</td>\n",
       "      <td>E-commerce</td>\n",
       "      <td>Massachusetts</td>\n",
       "      <td>Monthly</td>\n",
       "      <td>2018-11-08</td>\n",
       "      <td>2018-12-08</td>\n",
       "      <td>False</td>\n",
       "    </tr>\n",
       "    <tr>\n",
       "      <th>34</th>\n",
       "      <td>5217987067</td>\n",
       "      <td>Large</td>\n",
       "      <td>Fintech</td>\n",
       "      <td>New Jersey</td>\n",
       "      <td>Monthly</td>\n",
       "      <td>2019-07-19</td>\n",
       "      <td>2019-08-18</td>\n",
       "      <td>True</td>\n",
       "    </tr>\n",
       "  </tbody>\n",
       "</table>\n",
       "</div>"
      ],
      "text/plain": [
       "     client_id company_size    industry       location subscription_type  \\\n",
       "82  4194777577        Large     Fintech     New Jersey           Monthly   \n",
       "30  5421990790        Large     Fintech   Pennsylvania            Yearly   \n",
       "78  4760390973        Small      Gaming     New Jersey            Yearly   \n",
       "4   4387541014       Medium  E-commerce  Massachusetts           Monthly   \n",
       "34  5217987067        Large     Fintech     New Jersey           Monthly   \n",
       "\n",
       "   start_date   end_date  renewed  \n",
       "82 2021-12-18 2022-01-17     True  \n",
       "30 2018-07-10 2019-07-10    False  \n",
       "78 2022-01-06 2023-01-06     True  \n",
       "4  2018-11-08 2018-12-08    False  \n",
       "34 2019-07-19 2019-08-18     True  "
      ]
     },
     "execution_count": 7,
     "metadata": {},
     "output_type": "execute_result"
    }
   ],
   "source": [
    "df_cs = pd.merge(\n",
    "    left=client_details,\n",
    "    right=subscription_records,\n",
    "    how='left',\n",
    "    on='client_id'\n",
    ")\n",
    "\n",
    "df_cs.sample(5)"
   ]
  },
  {
   "cell_type": "code",
   "execution_count": 8,
   "id": "1544bc6b-94cc-48c0-88ad-faf16772e14a",
   "metadata": {
    "executionCancelledAt": null,
    "executionTime": 52,
    "lastExecutedAt": 1733408857365,
    "lastExecutedByKernel": "fe4eb38f-c098-4d5b-80fb-120a29760d07",
    "lastScheduledRunId": null,
    "lastSuccessfullyExecutedCode": "df_renewal_stats = df_cs.groupby('industry', as_index=False) \\\n    .agg(\n        num_renewed=('renewed', 'sum'), \n        num_clients=('client_id', 'count')\n)\n\ndf_renewal_stats['renewal_rate'] = df_renewal_stats['num_renewed'] / df_renewal_stats['num_clients']\ndf_renewal_stats.sort_values('renewal_rate', ascending=False, inplace=True)\n\ndf_renewal_stats",
    "outputsMetadata": {
     "0": {
      "height": 238,
      "type": "dataFrame"
     }
    }
   },
   "outputs": [
    {
     "data": {
      "text/html": [
       "<div>\n",
       "<style scoped>\n",
       "    .dataframe tbody tr th:only-of-type {\n",
       "        vertical-align: middle;\n",
       "    }\n",
       "\n",
       "    .dataframe tbody tr th {\n",
       "        vertical-align: top;\n",
       "    }\n",
       "\n",
       "    .dataframe thead th {\n",
       "        text-align: right;\n",
       "    }\n",
       "</style>\n",
       "<table border=\"1\" class=\"dataframe\">\n",
       "  <thead>\n",
       "    <tr style=\"text-align: right;\">\n",
       "      <th></th>\n",
       "      <th>industry</th>\n",
       "      <th>num_renewed</th>\n",
       "      <th>num_clients</th>\n",
       "      <th>renewal_rate</th>\n",
       "    </tr>\n",
       "  </thead>\n",
       "  <tbody>\n",
       "    <tr>\n",
       "      <th>4</th>\n",
       "      <td>Gaming</td>\n",
       "      <td>16</td>\n",
       "      <td>22</td>\n",
       "      <td>0.727273</td>\n",
       "    </tr>\n",
       "    <tr>\n",
       "      <th>0</th>\n",
       "      <td>AI</td>\n",
       "      <td>7</td>\n",
       "      <td>11</td>\n",
       "      <td>0.636364</td>\n",
       "    </tr>\n",
       "    <tr>\n",
       "      <th>3</th>\n",
       "      <td>Fintech</td>\n",
       "      <td>12</td>\n",
       "      <td>22</td>\n",
       "      <td>0.545455</td>\n",
       "    </tr>\n",
       "    <tr>\n",
       "      <th>2</th>\n",
       "      <td>E-commerce</td>\n",
       "      <td>9</td>\n",
       "      <td>20</td>\n",
       "      <td>0.450000</td>\n",
       "    </tr>\n",
       "    <tr>\n",
       "      <th>1</th>\n",
       "      <td>Crypto</td>\n",
       "      <td>11</td>\n",
       "      <td>25</td>\n",
       "      <td>0.440000</td>\n",
       "    </tr>\n",
       "  </tbody>\n",
       "</table>\n",
       "</div>"
      ],
      "text/plain": [
       "     industry  num_renewed  num_clients  renewal_rate\n",
       "4      Gaming           16           22      0.727273\n",
       "0          AI            7           11      0.636364\n",
       "3     Fintech           12           22      0.545455\n",
       "2  E-commerce            9           20      0.450000\n",
       "1      Crypto           11           25      0.440000"
      ]
     },
     "execution_count": 8,
     "metadata": {},
     "output_type": "execute_result"
    }
   ],
   "source": [
    "df_renewal_stats = df_cs.groupby('industry', as_index=False) \\\n",
    "    .agg(\n",
    "        num_renewed=('renewed', 'sum'), \n",
    "        num_clients=('client_id', 'count')\n",
    ")\n",
    "\n",
    "df_renewal_stats['renewal_rate'] = df_renewal_stats['num_renewed'] / df_renewal_stats['num_clients']\n",
    "df_renewal_stats.sort_values('renewal_rate', ascending=False, inplace=True)\n",
    "\n",
    "df_renewal_stats"
   ]
  },
  {
   "cell_type": "code",
   "execution_count": 9,
   "id": "174b6fa8-c11f-4f99-b10d-175107140a43",
   "metadata": {
    "executionCancelledAt": null,
    "executionTime": 48,
    "lastExecutedAt": 1733408857413,
    "lastExecutedByKernel": "fe4eb38f-c098-4d5b-80fb-120a29760d07",
    "lastScheduledRunId": null,
    "lastSuccessfullyExecutedCode": "top_industry = df_renewal_stats['industry'].iloc[0]\nprint(top_industry)",
    "outputsMetadata": {
     "0": {
      "height": 38,
      "type": "stream"
     }
    }
   },
   "outputs": [
    {
     "name": "stdout",
     "output_type": "stream",
     "text": [
      "top_industry=Gaming\n"
     ]
    }
   ],
   "source": [
    "top_industry = df_renewal_stats['industry'].iloc[0]\n",
    "print(f'top_industry={top_industry}')"
   ]
  },
  {
   "cell_type": "markdown",
   "id": "ec7a105c-b27f-4e7f-bbbb-337a8cf6fe0e",
   "metadata": {},
   "source": [
    "## Question 3\n",
    "\n",
    "For clients that renewed their subscriptions, what was the average inflation rate when their subscriptions were renewed? Store as a float variable called average_inflation_for_renewals."
   ]
  },
  {
   "cell_type": "code",
   "execution_count": 10,
   "id": "d5a86d4b-807e-4e1e-97e0-ccfc76d9b43a",
   "metadata": {
    "executionCancelledAt": null,
    "executionTime": 52,
    "lastExecutedAt": 1733408857465,
    "lastExecutedByKernel": "fe4eb38f-c098-4d5b-80fb-120a29760d07",
    "lastScheduledRunId": null,
    "lastSuccessfullyExecutedCode": "df_cse = pd.merge_asof(\n    left=df_cs.sort_values('end_date'),\n    right=economic_indicators,\n    left_on='end_date',\n    right_on='start_date'\n)\n\ndf_cse.head()"
   },
   "outputs": [
    {
     "data": {
      "text/html": [
       "<div>\n",
       "<style scoped>\n",
       "    .dataframe tbody tr th:only-of-type {\n",
       "        vertical-align: middle;\n",
       "    }\n",
       "\n",
       "    .dataframe tbody tr th {\n",
       "        vertical-align: top;\n",
       "    }\n",
       "\n",
       "    .dataframe thead th {\n",
       "        text-align: right;\n",
       "    }\n",
       "</style>\n",
       "<table border=\"1\" class=\"dataframe\">\n",
       "  <thead>\n",
       "    <tr style=\"text-align: right;\">\n",
       "      <th></th>\n",
       "      <th>client_id</th>\n",
       "      <th>company_size</th>\n",
       "      <th>industry</th>\n",
       "      <th>location</th>\n",
       "      <th>subscription_type</th>\n",
       "      <th>start_date_x</th>\n",
       "      <th>end_date_x</th>\n",
       "      <th>renewed</th>\n",
       "      <th>start_date_y</th>\n",
       "      <th>end_date_y</th>\n",
       "      <th>inflation_rate</th>\n",
       "      <th>gdp_growth_rate</th>\n",
       "    </tr>\n",
       "  </thead>\n",
       "  <tbody>\n",
       "    <tr>\n",
       "      <th>0</th>\n",
       "      <td>4519356806</td>\n",
       "      <td>Small</td>\n",
       "      <td>Gaming</td>\n",
       "      <td>Massachusetts</td>\n",
       "      <td>Monthly</td>\n",
       "      <td>2018-03-04</td>\n",
       "      <td>2018-04-03</td>\n",
       "      <td>True</td>\n",
       "      <td>2018-04-01</td>\n",
       "      <td>2018-06-30</td>\n",
       "      <td>1.17</td>\n",
       "      <td>2.15</td>\n",
       "    </tr>\n",
       "    <tr>\n",
       "      <th>1</th>\n",
       "      <td>3683504527</td>\n",
       "      <td>Medium</td>\n",
       "      <td>Gaming</td>\n",
       "      <td>Pennsylvania</td>\n",
       "      <td>Monthly</td>\n",
       "      <td>2018-04-12</td>\n",
       "      <td>2018-05-12</td>\n",
       "      <td>True</td>\n",
       "      <td>2018-04-01</td>\n",
       "      <td>2018-06-30</td>\n",
       "      <td>1.17</td>\n",
       "      <td>2.15</td>\n",
       "    </tr>\n",
       "    <tr>\n",
       "      <th>2</th>\n",
       "      <td>7462725203</td>\n",
       "      <td>Medium</td>\n",
       "      <td>E-commerce</td>\n",
       "      <td>Massachusetts</td>\n",
       "      <td>Monthly</td>\n",
       "      <td>2018-05-21</td>\n",
       "      <td>2018-06-20</td>\n",
       "      <td>True</td>\n",
       "      <td>2018-04-01</td>\n",
       "      <td>2018-06-30</td>\n",
       "      <td>1.17</td>\n",
       "      <td>2.15</td>\n",
       "    </tr>\n",
       "    <tr>\n",
       "      <th>3</th>\n",
       "      <td>3878940490</td>\n",
       "      <td>Medium</td>\n",
       "      <td>E-commerce</td>\n",
       "      <td>Massachusetts</td>\n",
       "      <td>Monthly</td>\n",
       "      <td>2018-05-23</td>\n",
       "      <td>2018-06-22</td>\n",
       "      <td>False</td>\n",
       "      <td>2018-04-01</td>\n",
       "      <td>2018-06-30</td>\n",
       "      <td>1.17</td>\n",
       "      <td>2.15</td>\n",
       "    </tr>\n",
       "    <tr>\n",
       "      <th>4</th>\n",
       "      <td>6751372012</td>\n",
       "      <td>Large</td>\n",
       "      <td>E-commerce</td>\n",
       "      <td>New York</td>\n",
       "      <td>Monthly</td>\n",
       "      <td>2018-05-29</td>\n",
       "      <td>2018-06-28</td>\n",
       "      <td>True</td>\n",
       "      <td>2018-04-01</td>\n",
       "      <td>2018-06-30</td>\n",
       "      <td>1.17</td>\n",
       "      <td>2.15</td>\n",
       "    </tr>\n",
       "  </tbody>\n",
       "</table>\n",
       "</div>"
      ],
      "text/plain": [
       "    client_id company_size    industry       location subscription_type  \\\n",
       "0  4519356806        Small      Gaming  Massachusetts           Monthly   \n",
       "1  3683504527       Medium      Gaming   Pennsylvania           Monthly   \n",
       "2  7462725203       Medium  E-commerce  Massachusetts           Monthly   \n",
       "3  3878940490       Medium  E-commerce  Massachusetts           Monthly   \n",
       "4  6751372012        Large  E-commerce       New York           Monthly   \n",
       "\n",
       "  start_date_x end_date_x  renewed start_date_y end_date_y  inflation_rate  \\\n",
       "0   2018-03-04 2018-04-03     True   2018-04-01 2018-06-30            1.17   \n",
       "1   2018-04-12 2018-05-12     True   2018-04-01 2018-06-30            1.17   \n",
       "2   2018-05-21 2018-06-20     True   2018-04-01 2018-06-30            1.17   \n",
       "3   2018-05-23 2018-06-22    False   2018-04-01 2018-06-30            1.17   \n",
       "4   2018-05-29 2018-06-28     True   2018-04-01 2018-06-30            1.17   \n",
       "\n",
       "   gdp_growth_rate  \n",
       "0             2.15  \n",
       "1             2.15  \n",
       "2             2.15  \n",
       "3             2.15  \n",
       "4             2.15  "
      ]
     },
     "execution_count": 10,
     "metadata": {},
     "output_type": "execute_result"
    }
   ],
   "source": [
    "df_cse = pd.merge_asof(\n",
    "    left=df_cs.sort_values('end_date'),\n",
    "    right=economic_indicators,\n",
    "    left_on='end_date',\n",
    "    right_on='start_date'\n",
    ")\n",
    "\n",
    "df_cse.head()"
   ]
  },
  {
   "cell_type": "code",
   "execution_count": 11,
   "id": "848dd030-d017-4c27-8544-da8b099364cf",
   "metadata": {
    "executionCancelledAt": null,
    "executionTime": 49,
    "lastExecutedAt": 1733408857514,
    "lastExecutedByKernel": "fe4eb38f-c098-4d5b-80fb-120a29760d07",
    "lastScheduledRunId": null,
    "lastSuccessfullyExecutedCode": "average_inflation_for_renewals = df_cse[df_cse['renewed']]['inflation_rate'].mean()\nprint(average_inflation_for_renewals)",
    "outputsMetadata": {
     "0": {
      "height": 38,
      "type": "stream"
     }
    }
   },
   "outputs": [
    {
     "name": "stdout",
     "output_type": "stream",
     "text": [
      "average_inflation_for_renewals=4.42\n"
     ]
    }
   ],
   "source": [
    "average_inflation_for_renewals = df_cse[df_cse['renewed']]['inflation_rate'].mean()\n",
    "print(f'average_inflation_for_renewals={round(average_inflation_for_renewals, 2)}')"
   ]
  }
 ],
 "metadata": {
  "colab": {
   "name": "Welcome to DataCamp Workspaces.ipynb",
   "provenance": []
  },
  "editor": "DataLab",
  "kernelspec": {
   "display_name": "Python 3 (ipykernel)",
   "language": "python",
   "name": "python3"
  },
  "language_info": {
   "codemirror_mode": {
    "name": "ipython",
    "version": 3
   },
   "file_extension": ".py",
   "mimetype": "text/x-python",
   "name": "python",
   "nbconvert_exporter": "python",
   "pygments_lexer": "ipython3",
   "version": "3.10.10"
  }
 },
 "nbformat": 4,
 "nbformat_minor": 5
}
