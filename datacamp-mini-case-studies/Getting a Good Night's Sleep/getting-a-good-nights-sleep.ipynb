{
 "cells": [
  {
   "cell_type": "markdown",
   "id": "fe7ecb8d-ad0b-40c0-b404-8b4c339d1c8b",
   "metadata": {},
   "source": [
    "# Getting a Good Night's Sleep\n",
    "\n",
    "Source: DataCamp\n",
    "\n",
    "![insomnia](insomnia.jpg)\n"
   ]
  },
  {
   "cell_type": "markdown",
   "id": "04929432-e076-40ef-b2a7-8e67dc7ba1a3",
   "metadata": {},
   "source": [
    "Your client, SleepInc, has shared anonymized sleep data from their hot new sleep tracking app SleepScope. As their data science consultant, your mission is to analyze the lifestyle survey data with Python to discover relationships between exercise, gender, occupation, and sleep quality. See if you can identify patterns leading to insights on sleep quality.\n",
    "\n",
    "## 💾 The data: sleep_health_data.csv\n",
    "\n",
    "SleepInc has provided you with an anonymized dataset of sleep and lifestyle metrics for 374 individuals. This dataset contains average values for each person calculated over the past six months. The data is saved as `sleep_health_data.csv`.\n",
    "\n",
    "The dataset includes 13 columns covering sleep duration, quality, disorders, exercise, stress, diet, demographics, and other factors related to sleep health. \n",
    "\n",
    "| Column | Description |\n",
    "|---------|----------------------------------------|  \n",
    "| `Person ID` | An identifier for each individual. |\n",
    "| `Gender` | The gender of the person (Male/Female). |  \n",
    "| `Age` | The age of the person in years. |\n",
    "| `Occupation` | The occupation or profession of the person. |\n",
    "| `Sleep Duration (hours)` | The average number of hours the person sleeps per day. |\n",
    "| `Quality of Sleep (scale: 1-10)` | A subjective rating of the quality of sleep, ranging from 1 to 10. |\n",
    "| `Physical Activity Level (minutes/day)` | The average number of minutes the person engages in physical activity daily. |  \n",
    "| `Stress Level (scale: 1-10)` | A subjective rating of the stress level experienced by the person, ranging from 1 to 10. |\n",
    "| `BMI Category` | The BMI category of the person (e.g., Underweight, Normal, Overweight). |\n",
    "| `Blood Pressure (systolic/diastolic)` | The average blood pressure measurement of the person, indicated as systolic pressure over diastolic pressure. |\n",
    "| `Heart Rate (bpm)` | The average resting heart rate of the person in beats per minute. |\n",
    "| `Daily Steps` | The average number of steps the person takes per day. |\n",
    "| `Sleep Disorder` | The presence or absence of a sleep disorder in the person (None, Insomnia, Sleep Apnea). |"
   ]
  },
  {
   "cell_type": "code",
   "execution_count": 1,
   "id": "09ccffc0-f89e-46d0-8d4b-5635669a43b4",
   "metadata": {
    "executionCancelledAt": null,
    "executionTime": 10,
    "lastExecutedAt": 1733426564366,
    "lastExecutedByKernel": "08aed1d7-690e-4bb1-8ad9-9742cd5290c7",
    "lastScheduledRunId": null,
    "lastSuccessfullyExecutedCode": "import pandas as pd"
   },
   "outputs": [],
   "source": [
    "import pandas as pd"
   ]
  },
  {
   "cell_type": "markdown",
   "id": "af187b05-efc1-40a8-8d21-d71266b6410c",
   "metadata": {},
   "source": [
    "## Read and Explore Data"
   ]
  },
  {
   "cell_type": "code",
   "execution_count": 2,
   "id": "cf8dc09d-4016-4913-b234-a34e0b14e144",
   "metadata": {
    "executionCancelledAt": null,
    "executionTime": 45,
    "lastExecutedAt": 1733426564411,
    "lastExecutedByKernel": "08aed1d7-690e-4bb1-8ad9-9742cd5290c7",
    "lastScheduledRunId": null,
    "lastSuccessfullyExecutedCode": "df = pd.read_csv('sleep_health_data.csv')\ndf.head()",
    "outputsMetadata": {
     "0": {
      "height": 238,
      "type": "dataFrame"
     }
    }
   },
   "outputs": [
    {
     "data": {
      "text/html": [
       "<div>\n",
       "<style scoped>\n",
       "    .dataframe tbody tr th:only-of-type {\n",
       "        vertical-align: middle;\n",
       "    }\n",
       "\n",
       "    .dataframe tbody tr th {\n",
       "        vertical-align: top;\n",
       "    }\n",
       "\n",
       "    .dataframe thead th {\n",
       "        text-align: right;\n",
       "    }\n",
       "</style>\n",
       "<table border=\"1\" class=\"dataframe\">\n",
       "  <thead>\n",
       "    <tr style=\"text-align: right;\">\n",
       "      <th></th>\n",
       "      <th>Person ID</th>\n",
       "      <th>Gender</th>\n",
       "      <th>Age</th>\n",
       "      <th>Occupation</th>\n",
       "      <th>Sleep Duration</th>\n",
       "      <th>Quality of Sleep</th>\n",
       "      <th>Physical Activity Level</th>\n",
       "      <th>Stress Level</th>\n",
       "      <th>BMI Category</th>\n",
       "      <th>Blood Pressure</th>\n",
       "      <th>Heart Rate</th>\n",
       "      <th>Daily Steps</th>\n",
       "      <th>Sleep Disorder</th>\n",
       "    </tr>\n",
       "  </thead>\n",
       "  <tbody>\n",
       "    <tr>\n",
       "      <th>0</th>\n",
       "      <td>1</td>\n",
       "      <td>Male</td>\n",
       "      <td>27</td>\n",
       "      <td>Software Engineer</td>\n",
       "      <td>6.1</td>\n",
       "      <td>6</td>\n",
       "      <td>42</td>\n",
       "      <td>6</td>\n",
       "      <td>Overweight</td>\n",
       "      <td>126/83</td>\n",
       "      <td>77</td>\n",
       "      <td>4200</td>\n",
       "      <td>NaN</td>\n",
       "    </tr>\n",
       "    <tr>\n",
       "      <th>1</th>\n",
       "      <td>2</td>\n",
       "      <td>Male</td>\n",
       "      <td>28</td>\n",
       "      <td>Doctor</td>\n",
       "      <td>6.2</td>\n",
       "      <td>6</td>\n",
       "      <td>60</td>\n",
       "      <td>8</td>\n",
       "      <td>Normal</td>\n",
       "      <td>125/80</td>\n",
       "      <td>75</td>\n",
       "      <td>10000</td>\n",
       "      <td>NaN</td>\n",
       "    </tr>\n",
       "    <tr>\n",
       "      <th>2</th>\n",
       "      <td>3</td>\n",
       "      <td>Male</td>\n",
       "      <td>28</td>\n",
       "      <td>Doctor</td>\n",
       "      <td>6.2</td>\n",
       "      <td>6</td>\n",
       "      <td>60</td>\n",
       "      <td>8</td>\n",
       "      <td>Normal</td>\n",
       "      <td>125/80</td>\n",
       "      <td>75</td>\n",
       "      <td>10000</td>\n",
       "      <td>NaN</td>\n",
       "    </tr>\n",
       "    <tr>\n",
       "      <th>3</th>\n",
       "      <td>4</td>\n",
       "      <td>Male</td>\n",
       "      <td>28</td>\n",
       "      <td>Sales Representative</td>\n",
       "      <td>5.9</td>\n",
       "      <td>4</td>\n",
       "      <td>30</td>\n",
       "      <td>8</td>\n",
       "      <td>Obese</td>\n",
       "      <td>140/90</td>\n",
       "      <td>85</td>\n",
       "      <td>3000</td>\n",
       "      <td>Sleep Apnea</td>\n",
       "    </tr>\n",
       "    <tr>\n",
       "      <th>4</th>\n",
       "      <td>5</td>\n",
       "      <td>Male</td>\n",
       "      <td>28</td>\n",
       "      <td>Sales Representative</td>\n",
       "      <td>5.9</td>\n",
       "      <td>4</td>\n",
       "      <td>30</td>\n",
       "      <td>8</td>\n",
       "      <td>Obese</td>\n",
       "      <td>140/90</td>\n",
       "      <td>85</td>\n",
       "      <td>3000</td>\n",
       "      <td>Sleep Apnea</td>\n",
       "    </tr>\n",
       "  </tbody>\n",
       "</table>\n",
       "</div>"
      ],
      "text/plain": [
       "   Person ID Gender  Age            Occupation  Sleep Duration  \\\n",
       "0          1   Male   27     Software Engineer             6.1   \n",
       "1          2   Male   28                Doctor             6.2   \n",
       "2          3   Male   28                Doctor             6.2   \n",
       "3          4   Male   28  Sales Representative             5.9   \n",
       "4          5   Male   28  Sales Representative             5.9   \n",
       "\n",
       "   Quality of Sleep  Physical Activity Level  Stress Level BMI Category  \\\n",
       "0                 6                       42             6   Overweight   \n",
       "1                 6                       60             8       Normal   \n",
       "2                 6                       60             8       Normal   \n",
       "3                 4                       30             8        Obese   \n",
       "4                 4                       30             8        Obese   \n",
       "\n",
       "  Blood Pressure  Heart Rate  Daily Steps Sleep Disorder  \n",
       "0         126/83          77         4200            NaN  \n",
       "1         125/80          75        10000            NaN  \n",
       "2         125/80          75        10000            NaN  \n",
       "3         140/90          85         3000    Sleep Apnea  \n",
       "4         140/90          85         3000    Sleep Apnea  "
      ]
     },
     "execution_count": 2,
     "metadata": {},
     "output_type": "execute_result"
    }
   ],
   "source": [
    "df = pd.read_csv('sleep_health_data.csv')\n",
    "df.head()"
   ]
  },
  {
   "cell_type": "code",
   "execution_count": 3,
   "id": "e32ca099-b415-4213-a8a3-12881eab93b2",
   "metadata": {
    "executionCancelledAt": null,
    "executionTime": 44,
    "lastExecutedAt": 1733426564455,
    "lastExecutedByKernel": "08aed1d7-690e-4bb1-8ad9-9742cd5290c7",
    "lastScheduledRunId": null,
    "lastSuccessfullyExecutedCode": "df.info()",
    "outputsMetadata": {
     "0": {
      "height": 437,
      "type": "stream"
     }
    }
   },
   "outputs": [
    {
     "name": "stdout",
     "output_type": "stream",
     "text": [
      "<class 'pandas.core.frame.DataFrame'>\n",
      "RangeIndex: 374 entries, 0 to 373\n",
      "Data columns (total 13 columns):\n",
      " #   Column                   Non-Null Count  Dtype  \n",
      "---  ------                   --------------  -----  \n",
      " 0   Person ID                374 non-null    int64  \n",
      " 1   Gender                   374 non-null    object \n",
      " 2   Age                      374 non-null    int64  \n",
      " 3   Occupation               374 non-null    object \n",
      " 4   Sleep Duration           374 non-null    float64\n",
      " 5   Quality of Sleep         374 non-null    int64  \n",
      " 6   Physical Activity Level  374 non-null    int64  \n",
      " 7   Stress Level             374 non-null    int64  \n",
      " 8   BMI Category             374 non-null    object \n",
      " 9   Blood Pressure           374 non-null    object \n",
      " 10  Heart Rate               374 non-null    int64  \n",
      " 11  Daily Steps              374 non-null    int64  \n",
      " 12  Sleep Disorder           155 non-null    object \n",
      "dtypes: float64(1), int64(7), object(5)\n",
      "memory usage: 38.1+ KB\n"
     ]
    }
   ],
   "source": [
    "df.info()"
   ]
  },
  {
   "cell_type": "markdown",
   "id": "65dcc590-3581-4ff5-9751-186d25836702",
   "metadata": {},
   "source": [
    "## Questions"
   ]
  },
  {
   "cell_type": "markdown",
   "id": "1b7900f0-41bb-4c6b-8cbd-a59b82f66bea",
   "metadata": {},
   "source": [
    "### Question 1\n",
    "\n",
    "Which occupation has the lowest average sleep duration? Save this in a string variable called `lowest_sleep_occ`."
   ]
  },
  {
   "cell_type": "code",
   "execution_count": 4,
   "id": "d4ab3fd5-01f4-48fb-be34-7437b1b425cd",
   "metadata": {
    "executionCancelledAt": null,
    "executionTime": 48,
    "lastExecutedAt": 1733426564503,
    "lastExecutedByKernel": "08aed1d7-690e-4bb1-8ad9-9742cd5290c7",
    "lastScheduledRunId": null,
    "lastSuccessfullyExecutedCode": "df_sleep_duration_by_occupation = df.groupby('Occupation', as_index=False).agg({\n    'Sleep Duration': 'mean'\n}) \\\n    .sort_values('Sleep Duration')\n\ndf_sleep_duration_by_occupation",
    "outputsMetadata": {
     "0": {
      "height": 389,
      "type": "dataFrame"
     }
    }
   },
   "outputs": [
    {
     "data": {
      "text/html": [
       "<div>\n",
       "<style scoped>\n",
       "    .dataframe tbody tr th:only-of-type {\n",
       "        vertical-align: middle;\n",
       "    }\n",
       "\n",
       "    .dataframe tbody tr th {\n",
       "        vertical-align: top;\n",
       "    }\n",
       "\n",
       "    .dataframe thead th {\n",
       "        text-align: right;\n",
       "    }\n",
       "</style>\n",
       "<table border=\"1\" class=\"dataframe\">\n",
       "  <thead>\n",
       "    <tr style=\"text-align: right;\">\n",
       "      <th></th>\n",
       "      <th>Occupation</th>\n",
       "      <th>Sleep Duration</th>\n",
       "    </tr>\n",
       "  </thead>\n",
       "  <tbody>\n",
       "    <tr>\n",
       "      <th>6</th>\n",
       "      <td>Sales Representative</td>\n",
       "      <td>5.900000</td>\n",
       "    </tr>\n",
       "    <tr>\n",
       "      <th>8</th>\n",
       "      <td>Scientist</td>\n",
       "      <td>6.000000</td>\n",
       "    </tr>\n",
       "    <tr>\n",
       "      <th>7</th>\n",
       "      <td>Salesperson</td>\n",
       "      <td>6.403125</td>\n",
       "    </tr>\n",
       "    <tr>\n",
       "      <th>10</th>\n",
       "      <td>Teacher</td>\n",
       "      <td>6.690000</td>\n",
       "    </tr>\n",
       "    <tr>\n",
       "      <th>9</th>\n",
       "      <td>Software Engineer</td>\n",
       "      <td>6.750000</td>\n",
       "    </tr>\n",
       "    <tr>\n",
       "      <th>4</th>\n",
       "      <td>Manager</td>\n",
       "      <td>6.900000</td>\n",
       "    </tr>\n",
       "    <tr>\n",
       "      <th>1</th>\n",
       "      <td>Doctor</td>\n",
       "      <td>6.970423</td>\n",
       "    </tr>\n",
       "    <tr>\n",
       "      <th>5</th>\n",
       "      <td>Nurse</td>\n",
       "      <td>7.063014</td>\n",
       "    </tr>\n",
       "    <tr>\n",
       "      <th>0</th>\n",
       "      <td>Accountant</td>\n",
       "      <td>7.113514</td>\n",
       "    </tr>\n",
       "    <tr>\n",
       "      <th>3</th>\n",
       "      <td>Lawyer</td>\n",
       "      <td>7.410638</td>\n",
       "    </tr>\n",
       "    <tr>\n",
       "      <th>2</th>\n",
       "      <td>Engineer</td>\n",
       "      <td>7.987302</td>\n",
       "    </tr>\n",
       "  </tbody>\n",
       "</table>\n",
       "</div>"
      ],
      "text/plain": [
       "              Occupation  Sleep Duration\n",
       "6   Sales Representative        5.900000\n",
       "8              Scientist        6.000000\n",
       "7            Salesperson        6.403125\n",
       "10               Teacher        6.690000\n",
       "9      Software Engineer        6.750000\n",
       "4                Manager        6.900000\n",
       "1                 Doctor        6.970423\n",
       "5                  Nurse        7.063014\n",
       "0             Accountant        7.113514\n",
       "3                 Lawyer        7.410638\n",
       "2               Engineer        7.987302"
      ]
     },
     "execution_count": 4,
     "metadata": {},
     "output_type": "execute_result"
    }
   ],
   "source": [
    "df_sleep_duration_by_occupation = df.groupby('Occupation', as_index=False).agg({\n",
    "    'Sleep Duration': 'mean'\n",
    "}) \\\n",
    "    .sort_values('Sleep Duration')\n",
    "\n",
    "df_sleep_duration_by_occupation"
   ]
  },
  {
   "cell_type": "code",
   "execution_count": 5,
   "id": "1d64a78b-4589-41b9-971b-ed5eb52d3a6a",
   "metadata": {
    "executionCancelledAt": null,
    "executionTime": 50,
    "lastExecutedAt": 1733426564553,
    "lastExecutedByKernel": "08aed1d7-690e-4bb1-8ad9-9742cd5290c7",
    "lastScheduledRunId": null,
    "lastSuccessfullyExecutedCode": "lowest_sleep_occ = df_sleep_duration_by_occupation.iloc[0]['Occupation']\nprint(f'lowest_sleep_occ={lowest_sleep_occ}')",
    "outputsMetadata": {
     "0": {
      "height": 38,
      "type": "stream"
     }
    }
   },
   "outputs": [
    {
     "name": "stdout",
     "output_type": "stream",
     "text": [
      "lowest_sleep_occ=Sales Representative\n"
     ]
    }
   ],
   "source": [
    "lowest_sleep_occ = df_sleep_duration_by_occupation.iloc[0]['Occupation']\n",
    "print(f'lowest_sleep_occ={lowest_sleep_occ}')"
   ]
  },
  {
   "cell_type": "markdown",
   "id": "49eb56af-a541-4cb5-ad30-cf687d19da6c",
   "metadata": {},
   "source": [
    "### Question 2\n",
    "\n",
    "Which occupation has the lowest average sleep quality? Save this in a string variable called `lowest_sleep_quality_occ`. Did the occupation with the lowest sleep duration also have the lowest sleep quality? If so assign a boolean value to variable `same_occ` variable, `True` if it is the same occupation, and Fa`lse if it isn't."
   ]
  },
  {
   "cell_type": "code",
   "execution_count": 6,
   "id": "7e09abae-5e40-4e0c-a446-e8b5e26b9c2e",
   "metadata": {
    "executionCancelledAt": null,
    "executionTime": 51,
    "lastExecutedAt": 1733426564604,
    "lastExecutedByKernel": "08aed1d7-690e-4bb1-8ad9-9742cd5290c7",
    "lastScheduledRunId": null,
    "lastSuccessfullyExecutedCode": "df_sleep_quality_by_occupation = df.groupby('Occupation', as_index=False).agg({\n    'Quality of Sleep': 'mean'\n}) \\\n    .sort_values('Quality of Sleep')\n\ndf_sleep_quality_by_occupation",
    "outputsMetadata": {
     "0": {
      "height": 389,
      "type": "dataFrame"
     }
    }
   },
   "outputs": [
    {
     "data": {
      "text/html": [
       "<div>\n",
       "<style scoped>\n",
       "    .dataframe tbody tr th:only-of-type {\n",
       "        vertical-align: middle;\n",
       "    }\n",
       "\n",
       "    .dataframe tbody tr th {\n",
       "        vertical-align: top;\n",
       "    }\n",
       "\n",
       "    .dataframe thead th {\n",
       "        text-align: right;\n",
       "    }\n",
       "</style>\n",
       "<table border=\"1\" class=\"dataframe\">\n",
       "  <thead>\n",
       "    <tr style=\"text-align: right;\">\n",
       "      <th></th>\n",
       "      <th>Occupation</th>\n",
       "      <th>Quality of Sleep</th>\n",
       "    </tr>\n",
       "  </thead>\n",
       "  <tbody>\n",
       "    <tr>\n",
       "      <th>6</th>\n",
       "      <td>Sales Representative</td>\n",
       "      <td>4.000000</td>\n",
       "    </tr>\n",
       "    <tr>\n",
       "      <th>8</th>\n",
       "      <td>Scientist</td>\n",
       "      <td>5.000000</td>\n",
       "    </tr>\n",
       "    <tr>\n",
       "      <th>7</th>\n",
       "      <td>Salesperson</td>\n",
       "      <td>6.000000</td>\n",
       "    </tr>\n",
       "    <tr>\n",
       "      <th>9</th>\n",
       "      <td>Software Engineer</td>\n",
       "      <td>6.500000</td>\n",
       "    </tr>\n",
       "    <tr>\n",
       "      <th>1</th>\n",
       "      <td>Doctor</td>\n",
       "      <td>6.647887</td>\n",
       "    </tr>\n",
       "    <tr>\n",
       "      <th>10</th>\n",
       "      <td>Teacher</td>\n",
       "      <td>6.975000</td>\n",
       "    </tr>\n",
       "    <tr>\n",
       "      <th>4</th>\n",
       "      <td>Manager</td>\n",
       "      <td>7.000000</td>\n",
       "    </tr>\n",
       "    <tr>\n",
       "      <th>5</th>\n",
       "      <td>Nurse</td>\n",
       "      <td>7.369863</td>\n",
       "    </tr>\n",
       "    <tr>\n",
       "      <th>0</th>\n",
       "      <td>Accountant</td>\n",
       "      <td>7.891892</td>\n",
       "    </tr>\n",
       "    <tr>\n",
       "      <th>3</th>\n",
       "      <td>Lawyer</td>\n",
       "      <td>7.893617</td>\n",
       "    </tr>\n",
       "    <tr>\n",
       "      <th>2</th>\n",
       "      <td>Engineer</td>\n",
       "      <td>8.412698</td>\n",
       "    </tr>\n",
       "  </tbody>\n",
       "</table>\n",
       "</div>"
      ],
      "text/plain": [
       "              Occupation  Quality of Sleep\n",
       "6   Sales Representative          4.000000\n",
       "8              Scientist          5.000000\n",
       "7            Salesperson          6.000000\n",
       "9      Software Engineer          6.500000\n",
       "1                 Doctor          6.647887\n",
       "10               Teacher          6.975000\n",
       "4                Manager          7.000000\n",
       "5                  Nurse          7.369863\n",
       "0             Accountant          7.891892\n",
       "3                 Lawyer          7.893617\n",
       "2               Engineer          8.412698"
      ]
     },
     "execution_count": 6,
     "metadata": {},
     "output_type": "execute_result"
    }
   ],
   "source": [
    "df_sleep_quality_by_occupation = df.groupby('Occupation', as_index=False).agg({\n",
    "    'Quality of Sleep': 'mean'\n",
    "}) \\\n",
    "    .sort_values('Quality of Sleep')\n",
    "\n",
    "df_sleep_quality_by_occupation"
   ]
  },
  {
   "cell_type": "code",
   "execution_count": 7,
   "id": "7533b89a-063c-4b8d-8e22-9a9586795cac",
   "metadata": {
    "executionCancelledAt": null,
    "executionTime": 47,
    "lastExecutedAt": 1733426564651,
    "lastExecutedByKernel": "08aed1d7-690e-4bb1-8ad9-9742cd5290c7",
    "lastScheduledRunId": null,
    "lastSuccessfullyExecutedCode": "lowest_sleep_quality_occ = df_sleep_quality_by_occupation.iloc[0]['Occupation']\nprint(f'lowest_sleep_quality_occ={lowest_sleep_quality_occ}')\n\nsame_occ = lowest_sleep_occ == lowest_sleep_quality_occ\nprint(f'same_occ={same_occ}')",
    "outputsMetadata": {
     "0": {
      "height": 59,
      "type": "stream"
     }
    }
   },
   "outputs": [
    {
     "name": "stdout",
     "output_type": "stream",
     "text": [
      "lowest_sleep_quality_occ=Sales Representative\n",
      "same_occ=True\n"
     ]
    }
   ],
   "source": [
    "lowest_sleep_quality_occ = df_sleep_quality_by_occupation.iloc[0]['Occupation']\n",
    "print(f'lowest_sleep_quality_occ={lowest_sleep_quality_occ}')\n",
    "\n",
    "same_occ = lowest_sleep_occ == lowest_sleep_quality_occ\n",
    "print(f'same_occ={same_occ}')"
   ]
  },
  {
   "cell_type": "markdown",
   "id": "b8170244-10d2-4eab-856d-df847690bb07",
   "metadata": {},
   "source": [
    "### Question 3\n",
    "\n",
    "Let's explore how `BMI Category` can affect sleep disorder rates. Start by finding what ratio of app users in each `BMI Category` have been diagnosed with Insomnia. Create a dictionary named: `bmi_insomnia_ratios`. The key should be the `BMI Category` as a string, while the value should be the ratio of people in this category with insomnia as a `float` rounded to two decimal places. Here is an example:\n",
    "\n",
    "```python\n",
    "bmi_insomnia_ratios = {\n",
    "    \"Normal\": float,\n",
    "    \"Overweight\": float,\n",
    "    \"Obese\": float\n",
    "}\n",
    "```\n",
    "\n",
    "Please note the keys are case-sensitive, and should be formatted as shown in the example dictionary.\n"
   ]
  },
  {
   "cell_type": "code",
   "execution_count": 8,
   "id": "3de05ba9-c45a-447f-9c5d-20881c70152c",
   "metadata": {
    "executionCancelledAt": null,
    "executionTime": 52,
    "lastExecutedAt": 1733426564751,
    "lastExecutedByKernel": "08aed1d7-690e-4bb1-8ad9-9742cd5290c7",
    "lastScheduledRunId": null,
    "lastSuccessfullyExecutedCode": "# Created with DataCamp's built-in AI tool\n# Filter the dataframe to include only rows where the sleep disorder is Insomnia\ndf_insomnia = df[df['Sleep Disorder'] == 'Insomnia']\n\n# Calculate the total number of people in each BMI Category\ntotal_by_bmi = df['BMI Category'].value_counts()\n\n# Calculate the number of people with Insomnia in each BMI Category\ninsomnia_by_bmi = df_insomnia['BMI Category'].value_counts()\n\n# Calculate the ratio of people with Insomnia in each BMI Category\nbmi_insomnia_ratios = (insomnia_by_bmi / total_by_bmi).round(2).to_dict()\n\nbmi_insomnia_ratios"
   },
   "outputs": [
    {
     "data": {
      "text/plain": [
       "{'Normal': 0.04, 'Obese': 0.4, 'Overweight': 0.43}"
      ]
     },
     "execution_count": 8,
     "metadata": {},
     "output_type": "execute_result"
    }
   ],
   "source": [
    "# Created with DataCamp's built-in AI tool\n",
    "# Filter the dataframe to include only rows where the sleep disorder is Insomnia\n",
    "df_insomnia = df[df['Sleep Disorder'] == 'Insomnia']\n",
    "\n",
    "# Calculate the total number of people in each BMI Category\n",
    "total_by_bmi = df['BMI Category'].value_counts()\n",
    "\n",
    "# Calculate the number of people with Insomnia in each BMI Category\n",
    "insomnia_by_bmi = df_insomnia['BMI Category'].value_counts()\n",
    "\n",
    "# Calculate the ratio of people with Insomnia in each BMI Category\n",
    "bmi_insomnia_ratios = (insomnia_by_bmi / total_by_bmi).round(2).to_dict()\n",
    "\n",
    "bmi_insomnia_ratios"
   ]
  },
  {
   "cell_type": "code",
   "execution_count": 9,
   "id": "4626847f-383e-42e6-9b1a-9454d293f02b",
   "metadata": {
    "executionCancelledAt": null,
    "executionTime": 63,
    "lastExecutedAt": 1733426564815,
    "lastExecutedByKernel": "08aed1d7-690e-4bb1-8ad9-9742cd5290c7",
    "lastScheduledRunId": null,
    "lastSuccessfullyExecutedCode": "df_insomnia = df[df['Sleep Disorder'] == 'Insomnia']\ndisplay(df_insomnia.head(3))\nprint(f'{df_insomnia.shape[0]} users with insomnia')"
   },
   "outputs": [
    {
     "data": {
      "text/html": [
       "<div>\n",
       "<style scoped>\n",
       "    .dataframe tbody tr th:only-of-type {\n",
       "        vertical-align: middle;\n",
       "    }\n",
       "\n",
       "    .dataframe tbody tr th {\n",
       "        vertical-align: top;\n",
       "    }\n",
       "\n",
       "    .dataframe thead th {\n",
       "        text-align: right;\n",
       "    }\n",
       "</style>\n",
       "<table border=\"1\" class=\"dataframe\">\n",
       "  <thead>\n",
       "    <tr style=\"text-align: right;\">\n",
       "      <th></th>\n",
       "      <th>Person ID</th>\n",
       "      <th>Gender</th>\n",
       "      <th>Age</th>\n",
       "      <th>Occupation</th>\n",
       "      <th>Sleep Duration</th>\n",
       "      <th>Quality of Sleep</th>\n",
       "      <th>Physical Activity Level</th>\n",
       "      <th>Stress Level</th>\n",
       "      <th>BMI Category</th>\n",
       "      <th>Blood Pressure</th>\n",
       "      <th>Heart Rate</th>\n",
       "      <th>Daily Steps</th>\n",
       "      <th>Sleep Disorder</th>\n",
       "    </tr>\n",
       "  </thead>\n",
       "  <tbody>\n",
       "    <tr>\n",
       "      <th>5</th>\n",
       "      <td>6</td>\n",
       "      <td>Male</td>\n",
       "      <td>28</td>\n",
       "      <td>Software Engineer</td>\n",
       "      <td>5.9</td>\n",
       "      <td>4</td>\n",
       "      <td>30</td>\n",
       "      <td>8</td>\n",
       "      <td>Obese</td>\n",
       "      <td>140/90</td>\n",
       "      <td>85</td>\n",
       "      <td>3000</td>\n",
       "      <td>Insomnia</td>\n",
       "    </tr>\n",
       "    <tr>\n",
       "      <th>6</th>\n",
       "      <td>7</td>\n",
       "      <td>Male</td>\n",
       "      <td>29</td>\n",
       "      <td>Teacher</td>\n",
       "      <td>6.3</td>\n",
       "      <td>6</td>\n",
       "      <td>40</td>\n",
       "      <td>7</td>\n",
       "      <td>Obese</td>\n",
       "      <td>140/90</td>\n",
       "      <td>82</td>\n",
       "      <td>3500</td>\n",
       "      <td>Insomnia</td>\n",
       "    </tr>\n",
       "    <tr>\n",
       "      <th>18</th>\n",
       "      <td>19</td>\n",
       "      <td>Female</td>\n",
       "      <td>29</td>\n",
       "      <td>Nurse</td>\n",
       "      <td>6.5</td>\n",
       "      <td>5</td>\n",
       "      <td>40</td>\n",
       "      <td>7</td>\n",
       "      <td>Normal</td>\n",
       "      <td>132/87</td>\n",
       "      <td>80</td>\n",
       "      <td>4000</td>\n",
       "      <td>Insomnia</td>\n",
       "    </tr>\n",
       "  </tbody>\n",
       "</table>\n",
       "</div>"
      ],
      "text/plain": [
       "    Person ID  Gender  Age         Occupation  Sleep Duration  \\\n",
       "5           6    Male   28  Software Engineer             5.9   \n",
       "6           7    Male   29            Teacher             6.3   \n",
       "18         19  Female   29              Nurse             6.5   \n",
       "\n",
       "    Quality of Sleep  Physical Activity Level  Stress Level BMI Category  \\\n",
       "5                  4                       30             8        Obese   \n",
       "6                  6                       40             7        Obese   \n",
       "18                 5                       40             7       Normal   \n",
       "\n",
       "   Blood Pressure  Heart Rate  Daily Steps Sleep Disorder  \n",
       "5          140/90          85         3000       Insomnia  \n",
       "6          140/90          82         3500       Insomnia  \n",
       "18         132/87          80         4000       Insomnia  "
      ]
     },
     "metadata": {},
     "output_type": "display_data"
    },
    {
     "name": "stdout",
     "output_type": "stream",
     "text": [
      "77 users with insomnia\n"
     ]
    }
   ],
   "source": [
    "df_insomnia = df[df['Sleep Disorder'] == 'Insomnia']\n",
    "display(df_insomnia.head(3))\n",
    "print(f'{df_insomnia.shape[0]} users with insomnia')"
   ]
  },
  {
   "cell_type": "code",
   "execution_count": 10,
   "id": "450f1e3c-c239-4c36-a204-2bbd0246d467",
   "metadata": {
    "executionCancelledAt": null,
    "executionTime": 56,
    "lastExecutedAt": 1733426564871,
    "lastExecutedByKernel": "08aed1d7-690e-4bb1-8ad9-9742cd5290c7",
    "lastScheduledRunId": null,
    "lastSuccessfullyExecutedCode": "# manually perform the task without using the built-in AI tool\n# create a DataFrame with only the relevant information\ndf_temp = df[['Person ID', 'BMI Category', 'Sleep Disorder']].copy()\n\n# create a boolean column to mark whether a user has insomnia\ndf_temp['is_insomnia'] = df_temp['Sleep Disorder'] == 'Insomnia'\ndf_temp.drop(columns=['Sleep Disorder'], inplace=True)\n\ndf_temp.head(5)"
   },
   "outputs": [
    {
     "data": {
      "text/html": [
       "<div>\n",
       "<style scoped>\n",
       "    .dataframe tbody tr th:only-of-type {\n",
       "        vertical-align: middle;\n",
       "    }\n",
       "\n",
       "    .dataframe tbody tr th {\n",
       "        vertical-align: top;\n",
       "    }\n",
       "\n",
       "    .dataframe thead th {\n",
       "        text-align: right;\n",
       "    }\n",
       "</style>\n",
       "<table border=\"1\" class=\"dataframe\">\n",
       "  <thead>\n",
       "    <tr style=\"text-align: right;\">\n",
       "      <th></th>\n",
       "      <th>Person ID</th>\n",
       "      <th>BMI Category</th>\n",
       "      <th>is_insomnia</th>\n",
       "    </tr>\n",
       "  </thead>\n",
       "  <tbody>\n",
       "    <tr>\n",
       "      <th>0</th>\n",
       "      <td>1</td>\n",
       "      <td>Overweight</td>\n",
       "      <td>False</td>\n",
       "    </tr>\n",
       "    <tr>\n",
       "      <th>1</th>\n",
       "      <td>2</td>\n",
       "      <td>Normal</td>\n",
       "      <td>False</td>\n",
       "    </tr>\n",
       "    <tr>\n",
       "      <th>2</th>\n",
       "      <td>3</td>\n",
       "      <td>Normal</td>\n",
       "      <td>False</td>\n",
       "    </tr>\n",
       "    <tr>\n",
       "      <th>3</th>\n",
       "      <td>4</td>\n",
       "      <td>Obese</td>\n",
       "      <td>False</td>\n",
       "    </tr>\n",
       "    <tr>\n",
       "      <th>4</th>\n",
       "      <td>5</td>\n",
       "      <td>Obese</td>\n",
       "      <td>False</td>\n",
       "    </tr>\n",
       "  </tbody>\n",
       "</table>\n",
       "</div>"
      ],
      "text/plain": [
       "   Person ID BMI Category  is_insomnia\n",
       "0          1   Overweight        False\n",
       "1          2       Normal        False\n",
       "2          3       Normal        False\n",
       "3          4        Obese        False\n",
       "4          5        Obese        False"
      ]
     },
     "execution_count": 10,
     "metadata": {},
     "output_type": "execute_result"
    }
   ],
   "source": [
    "# manually perform the task without using the built-in AI tool\n",
    "# create a DataFrame with only the relevant information\n",
    "df_temp = df[['Person ID', 'BMI Category', 'Sleep Disorder']].copy()\n",
    "\n",
    "# create a boolean column to mark whether a user has insomnia\n",
    "df_temp['is_insomnia'] = df_temp['Sleep Disorder'] == 'Insomnia'\n",
    "df_temp.drop(columns=['Sleep Disorder'], inplace=True)\n",
    "\n",
    "df_temp.head(5)"
   ]
  },
  {
   "cell_type": "code",
   "execution_count": 11,
   "id": "99fa3d27-900e-4fa2-91c6-8c87a7b12775",
   "metadata": {
    "executionCancelledAt": null,
    "executionTime": 54,
    "lastExecutedAt": 1733426564925,
    "lastExecutedByKernel": "08aed1d7-690e-4bb1-8ad9-9742cd5290c7",
    "lastScheduledRunId": null,
    "lastSuccessfullyExecutedCode": "# summarize\ninsomnia_summary = df_temp.groupby('BMI Category', as_index=False).agg(\n    num_insomnia_users=('is_insomnia', 'sum'),\n    num_users=('Person ID', 'count')\n)\n\ninsomnia_summary"
   },
   "outputs": [
    {
     "data": {
      "text/html": [
       "<div>\n",
       "<style scoped>\n",
       "    .dataframe tbody tr th:only-of-type {\n",
       "        vertical-align: middle;\n",
       "    }\n",
       "\n",
       "    .dataframe tbody tr th {\n",
       "        vertical-align: top;\n",
       "    }\n",
       "\n",
       "    .dataframe thead th {\n",
       "        text-align: right;\n",
       "    }\n",
       "</style>\n",
       "<table border=\"1\" class=\"dataframe\">\n",
       "  <thead>\n",
       "    <tr style=\"text-align: right;\">\n",
       "      <th></th>\n",
       "      <th>BMI Category</th>\n",
       "      <th>num_insomnia_users</th>\n",
       "      <th>num_users</th>\n",
       "    </tr>\n",
       "  </thead>\n",
       "  <tbody>\n",
       "    <tr>\n",
       "      <th>0</th>\n",
       "      <td>Normal</td>\n",
       "      <td>9</td>\n",
       "      <td>216</td>\n",
       "    </tr>\n",
       "    <tr>\n",
       "      <th>1</th>\n",
       "      <td>Obese</td>\n",
       "      <td>4</td>\n",
       "      <td>10</td>\n",
       "    </tr>\n",
       "    <tr>\n",
       "      <th>2</th>\n",
       "      <td>Overweight</td>\n",
       "      <td>64</td>\n",
       "      <td>148</td>\n",
       "    </tr>\n",
       "  </tbody>\n",
       "</table>\n",
       "</div>"
      ],
      "text/plain": [
       "  BMI Category  num_insomnia_users  num_users\n",
       "0       Normal                   9        216\n",
       "1        Obese                   4         10\n",
       "2   Overweight                  64        148"
      ]
     },
     "execution_count": 11,
     "metadata": {},
     "output_type": "execute_result"
    }
   ],
   "source": [
    "# summarize\n",
    "insomnia_summary = df_temp.groupby('BMI Category', as_index=False).agg(\n",
    "    num_insomnia_users=('is_insomnia', 'sum'),\n",
    "    num_users=('Person ID', 'count')\n",
    ")\n",
    "\n",
    "insomnia_summary"
   ]
  },
  {
   "cell_type": "code",
   "execution_count": 12,
   "id": "5062ba91-9955-4aa3-8069-cd8f345499c7",
   "metadata": {
    "executionCancelledAt": null,
    "executionTime": 56,
    "lastExecutedAt": 1733426564981,
    "lastExecutedByKernel": "08aed1d7-690e-4bb1-8ad9-9742cd5290c7",
    "lastScheduledRunId": null,
    "lastSuccessfullyExecutedCode": "# calculate ratios\ninsomnia_summary['ratio'] = insomnia_summary['num_insomnia_users'] / insomnia_summary['num_users']\ninsomnia_summary['ratio'] = insomnia_summary['ratio'].round(2)\ninsomnia_summary"
   },
   "outputs": [
    {
     "data": {
      "text/html": [
       "<div>\n",
       "<style scoped>\n",
       "    .dataframe tbody tr th:only-of-type {\n",
       "        vertical-align: middle;\n",
       "    }\n",
       "\n",
       "    .dataframe tbody tr th {\n",
       "        vertical-align: top;\n",
       "    }\n",
       "\n",
       "    .dataframe thead th {\n",
       "        text-align: right;\n",
       "    }\n",
       "</style>\n",
       "<table border=\"1\" class=\"dataframe\">\n",
       "  <thead>\n",
       "    <tr style=\"text-align: right;\">\n",
       "      <th></th>\n",
       "      <th>BMI Category</th>\n",
       "      <th>num_insomnia_users</th>\n",
       "      <th>num_users</th>\n",
       "      <th>ratio</th>\n",
       "    </tr>\n",
       "  </thead>\n",
       "  <tbody>\n",
       "    <tr>\n",
       "      <th>0</th>\n",
       "      <td>Normal</td>\n",
       "      <td>9</td>\n",
       "      <td>216</td>\n",
       "      <td>0.04</td>\n",
       "    </tr>\n",
       "    <tr>\n",
       "      <th>1</th>\n",
       "      <td>Obese</td>\n",
       "      <td>4</td>\n",
       "      <td>10</td>\n",
       "      <td>0.40</td>\n",
       "    </tr>\n",
       "    <tr>\n",
       "      <th>2</th>\n",
       "      <td>Overweight</td>\n",
       "      <td>64</td>\n",
       "      <td>148</td>\n",
       "      <td>0.43</td>\n",
       "    </tr>\n",
       "  </tbody>\n",
       "</table>\n",
       "</div>"
      ],
      "text/plain": [
       "  BMI Category  num_insomnia_users  num_users  ratio\n",
       "0       Normal                   9        216   0.04\n",
       "1        Obese                   4         10   0.40\n",
       "2   Overweight                  64        148   0.43"
      ]
     },
     "execution_count": 12,
     "metadata": {},
     "output_type": "execute_result"
    }
   ],
   "source": [
    "# calculate ratios\n",
    "insomnia_summary['ratio'] = insomnia_summary['num_insomnia_users'] / insomnia_summary['num_users']\n",
    "insomnia_summary['ratio'] = insomnia_summary['ratio'].round(2)\n",
    "insomnia_summary"
   ]
  },
  {
   "cell_type": "code",
   "execution_count": 13,
   "id": "97aeeb04-3700-4943-a724-9e36c0791372",
   "metadata": {
    "executionCancelledAt": null,
    "executionTime": 46,
    "lastExecutedAt": 1733426565027,
    "lastExecutedByKernel": "08aed1d7-690e-4bb1-8ad9-9742cd5290c7",
    "lastScheduledRunId": null,
    "lastSuccessfullyExecutedCode": "# convert to the required dictionary format\nbmi_insomnia_ratios = dict(zip(insomnia_summary['BMI Category'], insomnia_summary['ratio']))\nbmi_insomnia_ratios"
   },
   "outputs": [
    {
     "data": {
      "text/plain": [
       "{'Normal': 0.04, 'Obese': 0.4, 'Overweight': 0.43}"
      ]
     },
     "execution_count": 13,
     "metadata": {},
     "output_type": "execute_result"
    }
   ],
   "source": [
    "# convert to the required dictionary format\n",
    "bmi_insomnia_ratios = dict(zip(insomnia_summary['BMI Category'], insomnia_summary['ratio']))\n",
    "bmi_insomnia_ratios"
   ]
  }
 ],
 "metadata": {
  "colab": {
   "name": "Welcome to DataCamp Workspaces.ipynb",
   "provenance": []
  },
  "kernelspec": {
   "display_name": "Python 3 (ipykernel)",
   "language": "python",
   "name": "python3"
  },
  "language_info": {
   "codemirror_mode": {
    "name": "ipython",
    "version": 3
   },
   "file_extension": ".py",
   "mimetype": "text/x-python",
   "name": "python",
   "nbconvert_exporter": "python",
   "pygments_lexer": "ipython3",
   "version": "3.10.10"
  }
 },
 "nbformat": 4,
 "nbformat_minor": 5
}
