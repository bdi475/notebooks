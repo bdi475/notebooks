{
 "cells": [
  {
   "cell_type": "markdown",
   "metadata": {
    "id": "znpt9QdbdxtK"
   },
   "source": [
    "# Sentiment Analysis with Vader\n",
    "\n",
    "## 🧭 Overview & Setup\n",
    "\n",
    "This notebook walks you through on:\n",
    "\n",
    "1. How to use the [VADER](https://github.com/cjhutto/vaderSentiment) package to analyze sentiments\n",
    "2. How to run a sentiment analysis on tweets using the [VADER](https://github.com/cjhutto/vaderSentiment) package\n",
    "3. How to interpret the VADER scores\n",
    "4. How to view top positive/negative tweets\n",
    "5. How to visualize the compound scores distribution"
   ]
  },
  {
   "cell_type": "markdown",
   "metadata": {
    "id": "BLAgknPNdxtM"
   },
   "source": [
    "▶️ First, run the code cell below to import `unittest`, a module used for **🧭 Check Your Work** sections and the autograder."
   ]
  },
  {
   "cell_type": "code",
   "execution_count": 1,
   "metadata": {
    "id": "h4IxqBpNdxtM"
   },
   "outputs": [],
   "source": [
    "import unittest\n",
    "tc = unittest.TestCase()"
   ]
  },
  {
   "cell_type": "markdown",
   "metadata": {
    "id": "kokPa7N-ZP_X"
   },
   "source": [
    "---\n",
    "\n",
    "### 🎯 Challenge 1: Import packages"
   ]
  },
  {
   "cell_type": "markdown",
   "metadata": {
    "id": "idmfpz-4dxtN"
   },
   "source": [
    "#### 👇 Tasks\n",
    "\n",
    "- ✔️ Import the following Python packages.\n",
    "    1. `pandas`: Use alias `pd`.\n",
    "    2. `numpy`: Use alias `np`."
   ]
  },
  {
   "cell_type": "code",
   "execution_count": 2,
   "metadata": {
    "id": "FhImrAevdxtN"
   },
   "outputs": [],
   "source": [
    "### BEGIN SOLUTION\n",
    "import pandas as pd\n",
    "import numpy as np\n",
    "### END SOLUTION"
   ]
  },
  {
   "cell_type": "markdown",
   "metadata": {
    "id": "togniVvudxtN"
   },
   "source": [
    "#### 🧭 Check your work\n",
    "\n",
    "- Once you're done, run the code cell below to test correctness.\n",
    "- ✔️ If the code cell runs without an error, you're good to move on.\n",
    "- ❌ If the code cell throws an error, go back and fix incorrect parts."
   ]
  },
  {
   "cell_type": "code",
   "execution_count": 3,
   "metadata": {
    "id": "YQ84e7z7dxtO"
   },
   "outputs": [],
   "source": [
    "# DO NOT CHANGE THE CODE BELOW\n",
    "_test_case = 'import-packages'\n",
    "_points = 1\n",
    "\n",
    "import sys\n",
    "tc.assertTrue(\"pd\" in globals(), \"Check whether you have correctly import Pandas with an alias.\")\n",
    "tc.assertTrue(\"np\" in globals(), \"Check whether you have correctly import NumPy with an alias.\")"
   ]
  },
  {
   "cell_type": "markdown",
   "metadata": {
    "id": "6Xx8HRWtdxtO"
   },
   "source": [
    "---\n",
    "\n",
    "### 📌 Install and load the `vaderSentiment` package"
   ]
  },
  {
   "cell_type": "markdown",
   "metadata": {
    "id": "lkXPpOIVdxtO"
   },
   "source": [
    "▶️ Run the code cell below to install `vaderSentiment`."
   ]
  },
  {
   "cell_type": "code",
   "execution_count": 4,
   "metadata": {
    "colab": {
     "base_uri": "https://localhost:8080/"
    },
    "id": "scYAavVHIbxl",
    "outputId": "cdc0d5ff-fb99-44cd-fde9-5964071ec89b"
   },
   "outputs": [
    {
     "name": "stdout",
     "output_type": "stream",
     "text": [
      "Defaulting to user installation because normal site-packages is not writeable\n",
      "Requirement already satisfied: vaderSentiment in /home/jupyter-subwaymatch/.local/lib/python3.9/site-packages (3.3.2)\n",
      "Requirement already satisfied: requests in /opt/tljh/user/lib/python3.9/site-packages (from vaderSentiment) (2.28.1)\n",
      "Requirement already satisfied: urllib3<1.27,>=1.21.1 in /opt/tljh/user/lib/python3.9/site-packages (from requests->vaderSentiment) (1.26.7)\n",
      "Requirement already satisfied: certifi>=2017.4.17 in /opt/tljh/user/lib/python3.9/site-packages (from requests->vaderSentiment) (2022.12.7)\n",
      "Requirement already satisfied: charset-normalizer<3,>=2 in /opt/tljh/user/lib/python3.9/site-packages (from requests->vaderSentiment) (2.0.0)\n",
      "Requirement already satisfied: idna<4,>=2.5 in /opt/tljh/user/lib/python3.9/site-packages (from requests->vaderSentiment) (3.1)\n"
     ]
    }
   ],
   "source": [
    "# install vaderSentiment\n",
    "!pip install vaderSentiment"
   ]
  },
  {
   "cell_type": "markdown",
   "metadata": {
    "id": "lkXPpOIVdxtO"
   },
   "source": [
    "▶️ Run the code cell below to initialize `vaderSentiment.SentimentIntensityAnalyzer`."
   ]
  },
  {
   "cell_type": "code",
   "execution_count": 5,
   "metadata": {
    "id": "3fJ26JxGJszB"
   },
   "outputs": [],
   "source": [
    "from vaderSentiment.vaderSentiment import SentimentIntensityAnalyzer\n",
    "\n",
    "# create an analyzer instance\n",
    "analyzer = SentimentIntensityAnalyzer()"
   ]
  },
  {
   "cell_type": "markdown",
   "metadata": {
    "id": "lkXPpOIVdxtO"
   },
   "source": [
    "▶️ Run the code cell below to display full tweet text in the notebook outputs."
   ]
  },
  {
   "cell_type": "code",
   "execution_count": 6,
   "metadata": {
    "id": "3fJ26JxGJszB"
   },
   "outputs": [],
   "source": [
    "pd.set_option('display.max_colwidth', 1000)"
   ]
  },
  {
   "cell_type": "markdown",
   "metadata": {
    "id": "bs1wYttWZP_T"
   },
   "source": [
    "---\n",
    "\n",
    "## 🔮 Sentiment Analysis\n",
    "\n",
    "### 📌 Using the `analyzer.polarity_scores()` method\n",
    "\n",
    "To analyze a piece of text using VADER, use the `analyzer.polarity_scores()` method. Here is an example using a string.\n",
    "\n",
    "compound score is the overall score between -1 (most extreme negative) and +1 (most extreme positive).\n",
    "pos, neg, and neu are ratios for proportions of text that fall in each category. These should all add up to be 1.\n",
    "We are mainly interested in the compound score.\n",
    "\n",
    "```python\n",
    "vader_score = analyzer.polarity_scores(\"Got my BeautyBase merch I am happy I got the first batch 🥰\")\n",
    "print(vader_score)\n",
    "```"
   ]
  },
  {
   "cell_type": "code",
   "execution_count": 7,
   "metadata": {},
   "outputs": [
    {
     "name": "stdout",
     "output_type": "stream",
     "text": [
      "{'neg': 0.0, 'neu': 0.56, 'pos': 0.44, 'compound': 0.9001}\n"
     ]
    }
   ],
   "source": [
    "vader_score = analyzer.polarity_scores(\"Got my BeautyBase merch I am happy I got the first batch 🥰\")\n",
    "print(vader_score)"
   ]
  },
  {
   "cell_type": "markdown",
   "metadata": {},
   "source": [
    "Here is another example."
   ]
  },
  {
   "cell_type": "code",
   "execution_count": 8,
   "metadata": {
    "colab": {
     "base_uri": "https://localhost:8080/"
    },
    "id": "j8a0np0wJ68u",
    "outputId": "ee2012a1-3367-465b-ee82-cb1c7a73b514"
   },
   "outputs": [
    {
     "name": "stdout",
     "output_type": "stream",
     "text": [
      "{'neg': 0.0, 'neu': 0.886, 'pos': 0.114, 'compound': 0.2023}\n"
     ]
    }
   ],
   "source": [
    "sentence = \"Beautyrite same day shipping is phenomenal its unbelievable i got my package in few hours\"\n",
    "\n",
    "vader_score = analyzer.polarity_scores(sentence)\n",
    "print(vader_score)"
   ]
  },
  {
   "cell_type": "markdown",
   "metadata": {
    "id": "kokPa7N-ZP_X"
   },
   "source": [
    "---\n",
    "\n",
    "### 🎯 Challenge 2: Calculate vader score of a string"
   ]
  },
  {
   "cell_type": "markdown",
   "metadata": {
    "id": "ena54NwVZP_X"
   },
   "source": [
    "#### 👇 Tasks\n",
    "\n",
    "- ✔️ Calculate the polarity scores of the string below.\n",
    "- ✔️ Store the result to a new variable named `vader_score1`.\n",
    "\n",
    "```plaintext\n",
    "I have never been spoken to so terrible and lied to so many times from what should be professionals. I was trying to help my daughter rent a home and was lied to numerous times about their fair housing practices and was given different information from different individuals. This seems to be a very poorly ran company that I would NEVER trust to oversee my daughters safe housing experience! As a parent do not ever allow your adult child to rent from this company! They will not be taken care of!\n",
    "```\n",
    "\n",
    "#### 🔑 Output Format\n",
    "\n",
    "```\n",
    "{'neg': 0.162, 'neu': 0.765, 'pos': 0.074, 'compound': -0.8565}\n",
    "```"
   ]
  },
  {
   "cell_type": "code",
   "execution_count": 9,
   "metadata": {
    "colab": {
     "base_uri": "https://localhost:8080/",
     "height": 0
    },
    "id": "PyKRWwiQZP_Y",
    "outputId": "15125f95-5cd6-4f8a-fb82-21036f4333c2"
   },
   "outputs": [
    {
     "name": "stdout",
     "output_type": "stream",
     "text": [
      "{'neg': 0.162, 'neu': 0.765, 'pos': 0.074, 'compound': -0.8565}\n"
     ]
    }
   ],
   "source": [
    "### BEGIN SOLUTION\n",
    "s = \"I have never been spoken to so terrible and lied to so many times from what should be professionals. I was trying to help my daughter rent a home and was lied to numerous times about their fair housing practices and was given different information from different individuals. This seems to be a very poorly ran company that I would NEVER trust to oversee my daughters safe housing experience! As a parent do not ever allow your adult child to rent from this company! They will not be taken care of!\"\n",
    "\n",
    "vader_score1 = analyzer.polarity_scores(s)\n",
    "### END SOLUTION\n",
    "\n",
    "print(vader_score1)"
   ]
  },
  {
   "cell_type": "markdown",
   "metadata": {
    "id": "b2-nsJ7vZP_Y"
   },
   "source": [
    "#### 🧭 Check Your Work\n",
    "\n",
    "- Once you're done, run the code cell below to test correctness.\n",
    "- ✔️ If the code cell runs without an error, you're good to move on.\n",
    "- ❌ If the code cell throws an error, go back and fix incorrect parts."
   ]
  },
  {
   "cell_type": "code",
   "execution_count": 10,
   "metadata": {
    "id": "8mgAcHGcZP_Y",
    "nbgrader": {
     "grade": true,
     "grade_id": "challenge-03",
     "locked": true,
     "points": "1",
     "solution": false
    }
   },
   "outputs": [],
   "source": [
    "# DO NOT CHANGE THE CODE BELOW\n",
    "_test_case = 'calculate-vader-score-of-a-string'\n",
    "_points = 1\n",
    "_obfuscate = True\n",
    "\n",
    "s_test = \"I have never been spoken to so terrible and lied to so many times from what should be professionals. I was trying to help my daughter rent a home and was lied to numerous times about their fair housing practices and was given different information from different individuals. This seems to be a very poorly ran company that I would NEVER trust to oversee my daughters safe housing experience! As a parent do not ever allow your adult child to rent from this company! They will not be taken care of!\"\n",
    "\n",
    "vader_score1_SOL = analyzer.polarity_scores(s)\n",
    "\n",
    "tc.assertEqual(vader_score1, vader_score1_SOL)"
   ]
  },
  {
   "cell_type": "markdown",
   "metadata": {
    "id": "bs1wYttWZP_T"
   },
   "source": [
    "---\n",
    "\n",
    "### 📌 Applying `analyzer.polarity_scores()` on a DataFrame column.\n",
    "\n",
    "To apply VADER to a pandas Series of strings, combine `Series.apply()` and `analyzer.polarity_scores()` methods. Below is an example to find the polarity scores on a DataFrame."
   ]
  },
  {
   "cell_type": "markdown",
   "metadata": {
    "id": "lkXPpOIVdxtO"
   },
   "source": [
    "▶️ Run the code cell below to create a DataFrame with one string column."
   ]
  },
  {
   "cell_type": "code",
   "execution_count": 11,
   "metadata": {},
   "outputs": [
    {
     "data": {
      "text/html": [
       "<div>\n",
       "<style scoped>\n",
       "    .dataframe tbody tr th:only-of-type {\n",
       "        vertical-align: middle;\n",
       "    }\n",
       "\n",
       "    .dataframe tbody tr th {\n",
       "        vertical-align: top;\n",
       "    }\n",
       "\n",
       "    .dataframe thead th {\n",
       "        text-align: right;\n",
       "    }\n",
       "</style>\n",
       "<table border=\"1\" class=\"dataframe\">\n",
       "  <thead>\n",
       "    <tr style=\"text-align: right;\">\n",
       "      <th></th>\n",
       "      <th>text</th>\n",
       "    </tr>\n",
       "  </thead>\n",
       "  <tbody>\n",
       "    <tr>\n",
       "      <th>0</th>\n",
       "      <td>VADER is smart, handsome, and funny.</td>\n",
       "    </tr>\n",
       "    <tr>\n",
       "      <th>1</th>\n",
       "      <td>VADER is smart, handsome, and funny!</td>\n",
       "    </tr>\n",
       "    <tr>\n",
       "      <th>2</th>\n",
       "      <td>VADER is very smart, handsome, and funny.</td>\n",
       "    </tr>\n",
       "    <tr>\n",
       "      <th>3</th>\n",
       "      <td>VADER is VERY SMART, handsome, and FUNNY.</td>\n",
       "    </tr>\n",
       "    <tr>\n",
       "      <th>4</th>\n",
       "      <td>VADER is VERY SMART, handsome, and FUNNY!!!</td>\n",
       "    </tr>\n",
       "    <tr>\n",
       "      <th>5</th>\n",
       "      <td>VADER is VERY SMART, uber handsome, and FRIGGIN FUNNY!!!</td>\n",
       "    </tr>\n",
       "    <tr>\n",
       "      <th>6</th>\n",
       "      <td>VADER is not smart, handsome, nor funny.</td>\n",
       "    </tr>\n",
       "    <tr>\n",
       "      <th>7</th>\n",
       "      <td>The book was good.</td>\n",
       "    </tr>\n",
       "    <tr>\n",
       "      <th>8</th>\n",
       "      <td>At least it isn't a horrible book.</td>\n",
       "    </tr>\n",
       "    <tr>\n",
       "      <th>9</th>\n",
       "      <td>The book was only kind of good.</td>\n",
       "    </tr>\n",
       "    <tr>\n",
       "      <th>10</th>\n",
       "      <td>The plot was good, but the characters are uncompelling and the dialog is not great.</td>\n",
       "    </tr>\n",
       "    <tr>\n",
       "      <th>11</th>\n",
       "      <td>Today SUX!</td>\n",
       "    </tr>\n",
       "    <tr>\n",
       "      <th>12</th>\n",
       "      <td>Today only kinda sux! But I'll get by, lol</td>\n",
       "    </tr>\n",
       "    <tr>\n",
       "      <th>13</th>\n",
       "      <td>Make sure you :) or :D today!</td>\n",
       "    </tr>\n",
       "    <tr>\n",
       "      <th>14</th>\n",
       "      <td>Catch utf-8 emoji such as such as 💘 and 💋 and 😁</td>\n",
       "    </tr>\n",
       "    <tr>\n",
       "      <th>15</th>\n",
       "      <td>Not bad at all</td>\n",
       "    </tr>\n",
       "  </tbody>\n",
       "</table>\n",
       "</div>"
      ],
      "text/plain": [
       "                                                                                   text\n",
       "0                                                  VADER is smart, handsome, and funny.\n",
       "1                                                  VADER is smart, handsome, and funny!\n",
       "2                                             VADER is very smart, handsome, and funny.\n",
       "3                                             VADER is VERY SMART, handsome, and FUNNY.\n",
       "4                                           VADER is VERY SMART, handsome, and FUNNY!!!\n",
       "5                              VADER is VERY SMART, uber handsome, and FRIGGIN FUNNY!!!\n",
       "6                                              VADER is not smart, handsome, nor funny.\n",
       "7                                                                    The book was good.\n",
       "8                                                    At least it isn't a horrible book.\n",
       "9                                                       The book was only kind of good.\n",
       "10  The plot was good, but the characters are uncompelling and the dialog is not great.\n",
       "11                                                                           Today SUX!\n",
       "12                                           Today only kinda sux! But I'll get by, lol\n",
       "13                                                        Make sure you :) or :D today!\n",
       "14                                      Catch utf-8 emoji such as such as 💘 and 💋 and 😁\n",
       "15                                                                       Not bad at all"
      ]
     },
     "execution_count": 11,
     "metadata": {},
     "output_type": "execute_result"
    }
   ],
   "source": [
    "sample_text_values = [\n",
    "    \"VADER is smart, handsome, and funny.\",  # positive sentence example\n",
    "    \"VADER is smart, handsome, and funny!\",  # punctuation emphasis handled correctly (sentiment intensity adjusted)\n",
    "    \"VADER is very smart, handsome, and funny.\", # booster words handled correctly (sentiment intensity adjusted)\n",
    "    \"VADER is VERY SMART, handsome, and FUNNY.\",  # emphasis for ALLCAPS handled\n",
    "    \"VADER is VERY SMART, handsome, and FUNNY!!!\", # combination of signals - VADER appropriately adjusts intensity\n",
    "    \"VADER is VERY SMART, uber handsome, and FRIGGIN FUNNY!!!\", # booster words & punctuation make this close to ceiling for score\n",
    "    \"VADER is not smart, handsome, nor funny.\",  # negation sentence example\n",
    "    \"The book was good.\",  # positive sentence\n",
    "    \"At least it isn't a horrible book.\",  # negated negative sentence with contraction\n",
    "    \"The book was only kind of good.\", # qualified positive sentence is handled correctly (intensity adjusted)\n",
    "    \"The plot was good, but the characters are uncompelling and the dialog is not great.\", # mixed negation sentence\n",
    "    \"Today SUX!\",  # negative slang with capitalization emphasis\n",
    "    \"Today only kinda sux! But I'll get by, lol\", # mixed sentiment example with slang and constrastive conjunction \"but\"\n",
    "    \"Make sure you :) or :D today!\",  # emoticons handled\n",
    "    \"Catch utf-8 emoji such as such as 💘 and 💋 and 😁\",  # emojis handled\n",
    "    \"Not bad at all\"  # Capitalized negation\n",
    "]\n",
    "\n",
    "df_sample = pd.DataFrame({\n",
    "    'text': sample_text_values\n",
    "})\n",
    "\n",
    "df_sample"
   ]
  },
  {
   "cell_type": "markdown",
   "metadata": {
    "id": "lkXPpOIVdxtO"
   },
   "source": [
    "▶️ Run the code cell below to calculate the polarity scores for each row and convert the output into a DataFrame."
   ]
  },
  {
   "cell_type": "code",
   "execution_count": 12,
   "metadata": {},
   "outputs": [
    {
     "data": {
      "text/html": [
       "<div>\n",
       "<style scoped>\n",
       "    .dataframe tbody tr th:only-of-type {\n",
       "        vertical-align: middle;\n",
       "    }\n",
       "\n",
       "    .dataframe tbody tr th {\n",
       "        vertical-align: top;\n",
       "    }\n",
       "\n",
       "    .dataframe thead th {\n",
       "        text-align: right;\n",
       "    }\n",
       "</style>\n",
       "<table border=\"1\" class=\"dataframe\">\n",
       "  <thead>\n",
       "    <tr style=\"text-align: right;\">\n",
       "      <th></th>\n",
       "      <th>neg</th>\n",
       "      <th>neu</th>\n",
       "      <th>pos</th>\n",
       "      <th>compound</th>\n",
       "    </tr>\n",
       "  </thead>\n",
       "  <tbody>\n",
       "    <tr>\n",
       "      <th>0</th>\n",
       "      <td>0.0</td>\n",
       "      <td>0.254</td>\n",
       "      <td>0.746</td>\n",
       "      <td>0.8316</td>\n",
       "    </tr>\n",
       "    <tr>\n",
       "      <th>1</th>\n",
       "      <td>0.0</td>\n",
       "      <td>0.248</td>\n",
       "      <td>0.752</td>\n",
       "      <td>0.8439</td>\n",
       "    </tr>\n",
       "    <tr>\n",
       "      <th>2</th>\n",
       "      <td>0.0</td>\n",
       "      <td>0.299</td>\n",
       "      <td>0.701</td>\n",
       "      <td>0.8545</td>\n",
       "    </tr>\n",
       "    <tr>\n",
       "      <th>3</th>\n",
       "      <td>0.0</td>\n",
       "      <td>0.246</td>\n",
       "      <td>0.754</td>\n",
       "      <td>0.9227</td>\n",
       "    </tr>\n",
       "    <tr>\n",
       "      <th>4</th>\n",
       "      <td>0.0</td>\n",
       "      <td>0.233</td>\n",
       "      <td>0.767</td>\n",
       "      <td>0.9342</td>\n",
       "    </tr>\n",
       "  </tbody>\n",
       "</table>\n",
       "</div>"
      ],
      "text/plain": [
       "   neg    neu    pos  compound\n",
       "0  0.0  0.254  0.746    0.8316\n",
       "1  0.0  0.248  0.752    0.8439\n",
       "2  0.0  0.299  0.701    0.8545\n",
       "3  0.0  0.246  0.754    0.9227\n",
       "4  0.0  0.233  0.767    0.9342"
      ]
     },
     "execution_count": 12,
     "metadata": {},
     "output_type": "execute_result"
    }
   ],
   "source": [
    "# for each row of the text column, run the polarity_scores() function\n",
    "vader_scores = df_sample['text'].apply(analyzer.polarity_scores)\n",
    "\n",
    "# convert the Series of dictionaries into a DataFrame\n",
    "df_vader_scores = pd.DataFrame(\n",
    "    vader_scores.tolist()\n",
    ")\n",
    "\n",
    "df_vader_scores.head()"
   ]
  },
  {
   "cell_type": "markdown",
   "metadata": {
    "id": "lkXPpOIVdxtO"
   },
   "source": [
    "▶️ Run the code cell below to concatenate `df_sample` and `df_vader_scores` horizontally."
   ]
  },
  {
   "cell_type": "code",
   "execution_count": 13,
   "metadata": {
    "colab": {
     "base_uri": "https://localhost:8080/",
     "height": 1000
    },
    "id": "Pqv7hWnRLoVb",
    "outputId": "7449676d-1eaf-4a6a-aee8-9c823a5dd2f5"
   },
   "outputs": [
    {
     "data": {
      "text/html": [
       "<div>\n",
       "<style scoped>\n",
       "    .dataframe tbody tr th:only-of-type {\n",
       "        vertical-align: middle;\n",
       "    }\n",
       "\n",
       "    .dataframe tbody tr th {\n",
       "        vertical-align: top;\n",
       "    }\n",
       "\n",
       "    .dataframe thead th {\n",
       "        text-align: right;\n",
       "    }\n",
       "</style>\n",
       "<table border=\"1\" class=\"dataframe\">\n",
       "  <thead>\n",
       "    <tr style=\"text-align: right;\">\n",
       "      <th></th>\n",
       "      <th>text</th>\n",
       "      <th>neg</th>\n",
       "      <th>neu</th>\n",
       "      <th>pos</th>\n",
       "      <th>compound</th>\n",
       "    </tr>\n",
       "  </thead>\n",
       "  <tbody>\n",
       "    <tr>\n",
       "      <th>0</th>\n",
       "      <td>VADER is smart, handsome, and funny.</td>\n",
       "      <td>0.000</td>\n",
       "      <td>0.254</td>\n",
       "      <td>0.746</td>\n",
       "      <td>0.8316</td>\n",
       "    </tr>\n",
       "    <tr>\n",
       "      <th>1</th>\n",
       "      <td>VADER is smart, handsome, and funny!</td>\n",
       "      <td>0.000</td>\n",
       "      <td>0.248</td>\n",
       "      <td>0.752</td>\n",
       "      <td>0.8439</td>\n",
       "    </tr>\n",
       "    <tr>\n",
       "      <th>2</th>\n",
       "      <td>VADER is very smart, handsome, and funny.</td>\n",
       "      <td>0.000</td>\n",
       "      <td>0.299</td>\n",
       "      <td>0.701</td>\n",
       "      <td>0.8545</td>\n",
       "    </tr>\n",
       "    <tr>\n",
       "      <th>3</th>\n",
       "      <td>VADER is VERY SMART, handsome, and FUNNY.</td>\n",
       "      <td>0.000</td>\n",
       "      <td>0.246</td>\n",
       "      <td>0.754</td>\n",
       "      <td>0.9227</td>\n",
       "    </tr>\n",
       "    <tr>\n",
       "      <th>4</th>\n",
       "      <td>VADER is VERY SMART, handsome, and FUNNY!!!</td>\n",
       "      <td>0.000</td>\n",
       "      <td>0.233</td>\n",
       "      <td>0.767</td>\n",
       "      <td>0.9342</td>\n",
       "    </tr>\n",
       "    <tr>\n",
       "      <th>5</th>\n",
       "      <td>VADER is VERY SMART, uber handsome, and FRIGGIN FUNNY!!!</td>\n",
       "      <td>0.000</td>\n",
       "      <td>0.294</td>\n",
       "      <td>0.706</td>\n",
       "      <td>0.9469</td>\n",
       "    </tr>\n",
       "    <tr>\n",
       "      <th>6</th>\n",
       "      <td>VADER is not smart, handsome, nor funny.</td>\n",
       "      <td>0.646</td>\n",
       "      <td>0.354</td>\n",
       "      <td>0.000</td>\n",
       "      <td>-0.7424</td>\n",
       "    </tr>\n",
       "    <tr>\n",
       "      <th>7</th>\n",
       "      <td>The book was good.</td>\n",
       "      <td>0.000</td>\n",
       "      <td>0.508</td>\n",
       "      <td>0.492</td>\n",
       "      <td>0.4404</td>\n",
       "    </tr>\n",
       "    <tr>\n",
       "      <th>8</th>\n",
       "      <td>At least it isn't a horrible book.</td>\n",
       "      <td>0.000</td>\n",
       "      <td>0.678</td>\n",
       "      <td>0.322</td>\n",
       "      <td>0.4310</td>\n",
       "    </tr>\n",
       "    <tr>\n",
       "      <th>9</th>\n",
       "      <td>The book was only kind of good.</td>\n",
       "      <td>0.000</td>\n",
       "      <td>0.697</td>\n",
       "      <td>0.303</td>\n",
       "      <td>0.3832</td>\n",
       "    </tr>\n",
       "    <tr>\n",
       "      <th>10</th>\n",
       "      <td>The plot was good, but the characters are uncompelling and the dialog is not great.</td>\n",
       "      <td>0.327</td>\n",
       "      <td>0.579</td>\n",
       "      <td>0.094</td>\n",
       "      <td>-0.7042</td>\n",
       "    </tr>\n",
       "    <tr>\n",
       "      <th>11</th>\n",
       "      <td>Today SUX!</td>\n",
       "      <td>0.779</td>\n",
       "      <td>0.221</td>\n",
       "      <td>0.000</td>\n",
       "      <td>-0.5461</td>\n",
       "    </tr>\n",
       "    <tr>\n",
       "      <th>12</th>\n",
       "      <td>Today only kinda sux! But I'll get by, lol</td>\n",
       "      <td>0.127</td>\n",
       "      <td>0.556</td>\n",
       "      <td>0.317</td>\n",
       "      <td>0.5249</td>\n",
       "    </tr>\n",
       "    <tr>\n",
       "      <th>13</th>\n",
       "      <td>Make sure you :) or :D today!</td>\n",
       "      <td>0.000</td>\n",
       "      <td>0.294</td>\n",
       "      <td>0.706</td>\n",
       "      <td>0.8633</td>\n",
       "    </tr>\n",
       "    <tr>\n",
       "      <th>14</th>\n",
       "      <td>Catch utf-8 emoji such as such as 💘 and 💋 and 😁</td>\n",
       "      <td>0.000</td>\n",
       "      <td>0.615</td>\n",
       "      <td>0.385</td>\n",
       "      <td>0.8750</td>\n",
       "    </tr>\n",
       "    <tr>\n",
       "      <th>15</th>\n",
       "      <td>Not bad at all</td>\n",
       "      <td>0.000</td>\n",
       "      <td>0.513</td>\n",
       "      <td>0.487</td>\n",
       "      <td>0.4310</td>\n",
       "    </tr>\n",
       "  </tbody>\n",
       "</table>\n",
       "</div>"
      ],
      "text/plain": [
       "                                                                                   text  \\\n",
       "0                                                  VADER is smart, handsome, and funny.   \n",
       "1                                                  VADER is smart, handsome, and funny!   \n",
       "2                                             VADER is very smart, handsome, and funny.   \n",
       "3                                             VADER is VERY SMART, handsome, and FUNNY.   \n",
       "4                                           VADER is VERY SMART, handsome, and FUNNY!!!   \n",
       "5                              VADER is VERY SMART, uber handsome, and FRIGGIN FUNNY!!!   \n",
       "6                                              VADER is not smart, handsome, nor funny.   \n",
       "7                                                                    The book was good.   \n",
       "8                                                    At least it isn't a horrible book.   \n",
       "9                                                       The book was only kind of good.   \n",
       "10  The plot was good, but the characters are uncompelling and the dialog is not great.   \n",
       "11                                                                           Today SUX!   \n",
       "12                                           Today only kinda sux! But I'll get by, lol   \n",
       "13                                                        Make sure you :) or :D today!   \n",
       "14                                      Catch utf-8 emoji such as such as 💘 and 💋 and 😁   \n",
       "15                                                                       Not bad at all   \n",
       "\n",
       "      neg    neu    pos  compound  \n",
       "0   0.000  0.254  0.746    0.8316  \n",
       "1   0.000  0.248  0.752    0.8439  \n",
       "2   0.000  0.299  0.701    0.8545  \n",
       "3   0.000  0.246  0.754    0.9227  \n",
       "4   0.000  0.233  0.767    0.9342  \n",
       "5   0.000  0.294  0.706    0.9469  \n",
       "6   0.646  0.354  0.000   -0.7424  \n",
       "7   0.000  0.508  0.492    0.4404  \n",
       "8   0.000  0.678  0.322    0.4310  \n",
       "9   0.000  0.697  0.303    0.3832  \n",
       "10  0.327  0.579  0.094   -0.7042  \n",
       "11  0.779  0.221  0.000   -0.5461  \n",
       "12  0.127  0.556  0.317    0.5249  \n",
       "13  0.000  0.294  0.706    0.8633  \n",
       "14  0.000  0.615  0.385    0.8750  \n",
       "15  0.000  0.513  0.487    0.4310  "
      ]
     },
     "execution_count": 13,
     "metadata": {},
     "output_type": "execute_result"
    }
   ],
   "source": [
    "df_merged = pd.concat([df_sample, df_vader_scores], axis=1)\n",
    "df_merged"
   ]
  },
  {
   "cell_type": "markdown",
   "metadata": {
    "id": "CAMvaxOqZP_R"
   },
   "source": [
    "---\n",
    "\n",
    "### 📌 Load tweets\n",
    "\n",
    "▶️ Run the code cell below to create a new `DataFrame` containing a list of tweets."
   ]
  },
  {
   "cell_type": "code",
   "execution_count": 14,
   "metadata": {
    "colab": {
     "base_uri": "https://localhost:8080/",
     "height": 363
    },
    "id": "x8M_Ugy1Lb3u",
    "outputId": "f8da1187-c6cc-4315-c7ee-58f9390ad209"
   },
   "outputs": [
    {
     "data": {
      "text/html": [
       "<div>\n",
       "<style scoped>\n",
       "    .dataframe tbody tr th:only-of-type {\n",
       "        vertical-align: middle;\n",
       "    }\n",
       "\n",
       "    .dataframe tbody tr th {\n",
       "        vertical-align: top;\n",
       "    }\n",
       "\n",
       "    .dataframe thead th {\n",
       "        text-align: right;\n",
       "    }\n",
       "</style>\n",
       "<table border=\"1\" class=\"dataframe\">\n",
       "  <thead>\n",
       "    <tr style=\"text-align: right;\">\n",
       "      <th></th>\n",
       "      <th>text</th>\n",
       "    </tr>\n",
       "  </thead>\n",
       "  <tbody>\n",
       "    <tr>\n",
       "      <th>0</th>\n",
       "      <td>every time I go into Beautyrite everybody’s makeup look bad, what’s that about?</td>\n",
       "    </tr>\n",
       "    <tr>\n",
       "      <th>1</th>\n",
       "      <td>Got in my car to go to the gym but it took me to Beautyrite.</td>\n",
       "    </tr>\n",
       "    <tr>\n",
       "      <th>2</th>\n",
       "      <td>Why don’t airports have helpful stores like Beautyrite? Why do we need 5 different burger restaurants?</td>\n",
       "    </tr>\n",
       "    <tr>\n",
       "      <th>3</th>\n",
       "      <td>Y’all go to Beautyrite’s IG and look at their awful spring lineup 😭😭😭😭😭😭</td>\n",
       "    </tr>\n",
       "    <tr>\n",
       "      <th>4</th>\n",
       "      <td>Today I learned that Acme Makeups, BeautyRite, Wonka Factory are all owned by a single company. The illusion of choice...</td>\n",
       "    </tr>\n",
       "    <tr>\n",
       "      <th>5</th>\n",
       "      <td>My kid has entered the “how many chemicals and colors can I put on my face in one day” phase. Please help, like in the form of Beautyrite gift cards?</td>\n",
       "    </tr>\n",
       "    <tr>\n",
       "      <th>6</th>\n",
       "      <td>Beautyrite is 20% off today (all purchases). 30% off Beautyrite collection.. if you buy 2 BeautyBase products you get a free bag! 🥰</td>\n",
       "    </tr>\n",
       "    <tr>\n",
       "      <th>7</th>\n",
       "      <td>if you are willing to pay full price at Beautyrite, BeautyUltimate, &amp;amp; other name brand stores… you can definitely pay small businesses their full price. 🙂🫶🏻</td>\n",
       "    </tr>\n",
       "    <tr>\n",
       "      <th>8</th>\n",
       "      <td>I’m at Beautyrite. I need a good cleanser that foams. Quickly.</td>\n",
       "    </tr>\n",
       "    <tr>\n",
       "      <th>9</th>\n",
       "      <td>I asked this man to help me find my lip gloss cuz it’s sold out in CA and ima need it when I land in Chicago. Not even 7 mins later he’s in Beautyrite looking for it. I—</td>\n",
       "    </tr>\n",
       "  </tbody>\n",
       "</table>\n",
       "</div>"
      ],
      "text/plain": [
       "                                                                                                                                                                        text\n",
       "0                                                                                            every time I go into Beautyrite everybody’s makeup look bad, what’s that about?\n",
       "1                                                                                                               Got in my car to go to the gym but it took me to Beautyrite.\n",
       "2                                                                     Why don’t airports have helpful stores like Beautyrite? Why do we need 5 different burger restaurants?\n",
       "3                                                                                                   Y’all go to Beautyrite’s IG and look at their awful spring lineup 😭😭😭😭😭😭\n",
       "4                                                  Today I learned that Acme Makeups, BeautyRite, Wonka Factory are all owned by a single company. The illusion of choice...\n",
       "5                      My kid has entered the “how many chemicals and colors can I put on my face in one day” phase. Please help, like in the form of Beautyrite gift cards?\n",
       "6                                        Beautyrite is 20% off today (all purchases). 30% off Beautyrite collection.. if you buy 2 BeautyBase products you get a free bag! 🥰\n",
       "7           if you are willing to pay full price at Beautyrite, BeautyUltimate, &amp; other name brand stores… you can definitely pay small businesses their full price. 🙂🫶🏻\n",
       "8                                                                                                             I’m at Beautyrite. I need a good cleanser that foams. Quickly.\n",
       "9  I asked this man to help me find my lip gloss cuz it’s sold out in CA and ima need it when I land in Chicago. Not even 7 mins later he’s in Beautyrite looking for it. I—"
      ]
     },
     "execution_count": 14,
     "metadata": {},
     "output_type": "execute_result"
    }
   ],
   "source": [
    "df_tweets = pd.read_csv('https://github.com/bdi475/datasets/raw/main/fake-tweets-beautyrite.csv')\n",
    "df_tweets_backup = df_tweets.copy()\n",
    "df_tweets.head(10)"
   ]
  },
  {
   "cell_type": "markdown",
   "metadata": {
    "id": "kokPa7N-ZP_X"
   },
   "source": [
    "---\n",
    "\n",
    "### 🎯 Challenge 3: Calculate vader score of a text column"
   ]
  },
  {
   "cell_type": "markdown",
   "metadata": {
    "id": "ena54NwVZP_X"
   },
   "source": [
    "#### 👇 Tasks\n",
    "\n",
    "- ✔️ Using `df_tweets`, calcualte the polarity scores of each row.\n",
    "- ✔️ Concatenate the polarity scores horizontally to `df_tweets`.\n",
    "    - Store the concatenated DataFrame to a new variable named `df_merged`.\n",
    "\n",
    "#### 🔑 Expected Output\n",
    "\n",
    "|    | text                                                                                                                      |   neg |   neu |   pos |   compound |\n",
    "|---:|:--------------------------------------------------------------------------------------------------------------------------|------:|------:|------:|-----------:|\n",
    "|  0 | every time I go into Beautyrite everybody’s makeup look bad, what’s that about?                                           | 0.226 | 0.774 | 0.000 |    -0.5423 |\n",
    "|  1 | Got in my car to go to the gym but it took me to Beautyrite.                                                              | 0.000 | 1.000 | 0.000 |    0.0000  |\n",
    "|  2 | Why don’t airports have helpful stores like Beautyrite? Why do we need 5 different burger restaurants?                    | 0.000 | 0.712 | 0.288 |     0.6868 |\n",
    "|  3 | Y’all go to Beautyrite’s IG and look at their awful spring lineup 😭😭😭😭😭😭                                            | 0.484 | 0.516 | 0.000 |    -0.9666 |\n",
    "|  4 | Today I learned that Acme Makeups, BeautyRite, Wonka Factory are all owned by a single company. The illusion of choice... | 0.000 | 1.000 | 0.000 |    0.0000  |"
   ]
  },
  {
   "cell_type": "code",
   "execution_count": 15,
   "metadata": {
    "colab": {
     "base_uri": "https://localhost:8080/",
     "height": 0
    },
    "id": "PyKRWwiQZP_Y",
    "outputId": "15125f95-5cd6-4f8a-fb82-21036f4333c2"
   },
   "outputs": [
    {
     "data": {
      "text/html": [
       "<div>\n",
       "<style scoped>\n",
       "    .dataframe tbody tr th:only-of-type {\n",
       "        vertical-align: middle;\n",
       "    }\n",
       "\n",
       "    .dataframe tbody tr th {\n",
       "        vertical-align: top;\n",
       "    }\n",
       "\n",
       "    .dataframe thead th {\n",
       "        text-align: right;\n",
       "    }\n",
       "</style>\n",
       "<table border=\"1\" class=\"dataframe\">\n",
       "  <thead>\n",
       "    <tr style=\"text-align: right;\">\n",
       "      <th></th>\n",
       "      <th>text</th>\n",
       "      <th>neg</th>\n",
       "      <th>neu</th>\n",
       "      <th>pos</th>\n",
       "      <th>compound</th>\n",
       "    </tr>\n",
       "  </thead>\n",
       "  <tbody>\n",
       "    <tr>\n",
       "      <th>0</th>\n",
       "      <td>every time I go into Beautyrite everybody’s makeup look bad, what’s that about?</td>\n",
       "      <td>0.226</td>\n",
       "      <td>0.774</td>\n",
       "      <td>0.000</td>\n",
       "      <td>-0.5423</td>\n",
       "    </tr>\n",
       "    <tr>\n",
       "      <th>1</th>\n",
       "      <td>Got in my car to go to the gym but it took me to Beautyrite.</td>\n",
       "      <td>0.000</td>\n",
       "      <td>1.000</td>\n",
       "      <td>0.000</td>\n",
       "      <td>0.0000</td>\n",
       "    </tr>\n",
       "    <tr>\n",
       "      <th>2</th>\n",
       "      <td>Why don’t airports have helpful stores like Beautyrite? Why do we need 5 different burger restaurants?</td>\n",
       "      <td>0.000</td>\n",
       "      <td>0.712</td>\n",
       "      <td>0.288</td>\n",
       "      <td>0.6868</td>\n",
       "    </tr>\n",
       "    <tr>\n",
       "      <th>3</th>\n",
       "      <td>Y’all go to Beautyrite’s IG and look at their awful spring lineup 😭😭😭😭😭😭</td>\n",
       "      <td>0.484</td>\n",
       "      <td>0.516</td>\n",
       "      <td>0.000</td>\n",
       "      <td>-0.9666</td>\n",
       "    </tr>\n",
       "    <tr>\n",
       "      <th>4</th>\n",
       "      <td>Today I learned that Acme Makeups, BeautyRite, Wonka Factory are all owned by a single company. The illusion of choice...</td>\n",
       "      <td>0.000</td>\n",
       "      <td>1.000</td>\n",
       "      <td>0.000</td>\n",
       "      <td>0.0000</td>\n",
       "    </tr>\n",
       "  </tbody>\n",
       "</table>\n",
       "</div>"
      ],
      "text/plain": [
       "                                                                                                                        text  \\\n",
       "0                                            every time I go into Beautyrite everybody’s makeup look bad, what’s that about?   \n",
       "1                                                               Got in my car to go to the gym but it took me to Beautyrite.   \n",
       "2                     Why don’t airports have helpful stores like Beautyrite? Why do we need 5 different burger restaurants?   \n",
       "3                                                   Y’all go to Beautyrite’s IG and look at their awful spring lineup 😭😭😭😭😭😭   \n",
       "4  Today I learned that Acme Makeups, BeautyRite, Wonka Factory are all owned by a single company. The illusion of choice...   \n",
       "\n",
       "     neg    neu    pos  compound  \n",
       "0  0.226  0.774  0.000   -0.5423  \n",
       "1  0.000  1.000  0.000    0.0000  \n",
       "2  0.000  0.712  0.288    0.6868  \n",
       "3  0.484  0.516  0.000   -0.9666  \n",
       "4  0.000  1.000  0.000    0.0000  "
      ]
     },
     "execution_count": 15,
     "metadata": {},
     "output_type": "execute_result"
    }
   ],
   "source": [
    "### BEGIN SOLUTION\n",
    "vader_scores = df_tweets['text'].apply(analyzer.polarity_scores)\n",
    "\n",
    "df_vader_scores = pd.DataFrame(\n",
    "    vader_scores.tolist()\n",
    ")\n",
    "\n",
    "df_merged = pd.concat([df_tweets, df_vader_scores], axis=1)\n",
    "### END SOLUTION\n",
    "\n",
    "df_merged.head(5)"
   ]
  },
  {
   "cell_type": "markdown",
   "metadata": {
    "id": "b2-nsJ7vZP_Y"
   },
   "source": [
    "#### 🧭 Check Your Work\n",
    "\n",
    "- Once you're done, run the code cell below to test correctness.\n",
    "- ✔️ If the code cell runs without an error, you're good to move on.\n",
    "- ❌ If the code cell throws an error, go back and fix incorrect parts."
   ]
  },
  {
   "cell_type": "code",
   "execution_count": 16,
   "metadata": {
    "id": "8mgAcHGcZP_Y",
    "nbgrader": {
     "grade": true,
     "grade_id": "challenge-03",
     "locked": true,
     "points": "1",
     "solution": false
    }
   },
   "outputs": [],
   "source": [
    "# DO NOT CHANGE THE CODE BELOW\n",
    "_test_case = 'calculate-vader-scores-of-a-text-column'\n",
    "_points = 1\n",
    "_obfuscate = True\n",
    "\n",
    "vader_scores_SOL = df_tweets_backup['text'].apply(analyzer.polarity_scores)\n",
    "\n",
    "df_vader_scores_SOL = pd.DataFrame(\n",
    "    vader_scores_SOL.tolist()\n",
    ")\n",
    "\n",
    "df_merged_SOL = pd.concat([df_tweets_backup, df_vader_scores_SOL], axis=1)\n",
    "pd.testing.assert_frame_equal(df_merged.sort_values(df_merged.columns.to_list()).reset_index(drop=True),\n",
    "                              df_merged_SOL.sort_values(df_merged_SOL.columns.tolist()).reset_index(drop=True))"
   ]
  },
  {
   "cell_type": "markdown",
   "metadata": {
    "id": "kokPa7N-ZP_X"
   },
   "source": [
    "---\n",
    "\n",
    "### 🎯 Challenge 4: Find the average compound score"
   ]
  },
  {
   "cell_type": "markdown",
   "metadata": {
    "id": "ena54NwVZP_X"
   },
   "source": [
    "#### 👇 Tasks\n",
    "\n",
    "- ✔️ Using `df_merged`, calcualte the average compound score.\n",
    "- ✔️ Store the result to a new variable named `average_compound_score`."
   ]
  },
  {
   "cell_type": "code",
   "execution_count": 17,
   "metadata": {
    "colab": {
     "base_uri": "https://localhost:8080/",
     "height": 0
    },
    "id": "PyKRWwiQZP_Y",
    "outputId": "15125f95-5cd6-4f8a-fb82-21036f4333c2"
   },
   "outputs": [
    {
     "name": "stdout",
     "output_type": "stream",
     "text": [
      "The average compound score is 0.1124\n"
     ]
    }
   ],
   "source": [
    "### BEGIN SOLUTION\n",
    "average_compound_score = df_merged['compound'].mean()\n",
    "### END SOLUTION\n",
    "\n",
    "print(f\"The average compound score is {round(average_compound_score, 4)}\")"
   ]
  },
  {
   "cell_type": "markdown",
   "metadata": {
    "id": "b2-nsJ7vZP_Y",
    "tags": []
   },
   "source": [
    "#### 🧭 Check Your Work\n",
    "\n",
    "- Once you're done, run the code cell below to test correctness.\n",
    "- ✔️ If the code cell runs without an error, you're good to move on.\n",
    "- ❌ If the code cell throws an error, go back and fix incorrect parts."
   ]
  },
  {
   "cell_type": "code",
   "execution_count": 18,
   "metadata": {
    "id": "8mgAcHGcZP_Y",
    "nbgrader": {
     "grade": true,
     "grade_id": "challenge-03",
     "locked": true,
     "points": "1",
     "solution": false
    }
   },
   "outputs": [],
   "source": [
    "# DO NOT CHANGE THE CODE BELOW\n",
    "_test_case = 'calculate-average-compound-score'\n",
    "_points = 1\n",
    "_obfuscate = True\n",
    "\n",
    "average_compound_score_SOL = df_merged_SOL['compound'].mean()\n",
    "\n",
    "tc.assertAlmostEqual(average_compound_score, average_compound_score_SOL)"
   ]
  },
  {
   "cell_type": "markdown",
   "metadata": {
    "id": "kokPa7N-ZP_X"
   },
   "source": [
    "---\n",
    "\n",
    "### 🎯 Challenge 5: Find the top 10 positive tweets"
   ]
  },
  {
   "cell_type": "markdown",
   "metadata": {
    "id": "ena54NwVZP_X"
   },
   "source": [
    "#### 👇 Tasks\n",
    "\n",
    "- ✔️ Using `df_merged`, filter the top 10 postive tweets.\n",
    "    - Use the compound score (`compound` column).\n",
    "- ✔️ Store the filtered DataFrame to a new variable named `df_top10_positive`.\n",
    "- ✔️ Sort `df_top10_positive` by `compound` in descending order.\n",
    "\n",
    "#### 🔑 Expected Output\n",
    "\n",
    "|    | text                                                                                                                                                                                                                 |   neg |   neu |   pos |   compound |\n",
    "|---:|:---------------------------------------------------------------------------------------------------------------------------------------------------------------------------------------------------------------------|------:|------:|------:|-----------:|\n",
    "| 37 | My BFF gave me a Beautyrite gift card for my birthday 🥰 i love getting gift cards.                                                                                                                                  | 0.000 | 0.406 | 0.594 |     0.9717 |\n",
    "| 24 | IN LOVE WITH BEAUTY2LIPS 🤩🥰                                                                                                                                                                                        | 0.000 | 0.364 | 0.636 |     0.9222 |\n",
    "| 19 | Got my BeautyBase merch I am happy I got the first batch 🥰                                                                                                                                                          | 0.000 | 0.56  | 0.44  |     0.9001 |\n",
    "|  6 | Beautyrite is 20% off today (all purchases). 30% off Beautyrite collection.. if you buy 2 BeautyBase products you get a free bag! 🥰                                                                                 | 0.000 | 0.688 | 0.312 |     0.8977 |\n",
    "| 52 | I would like a girls winter date where we shop at Beautyrite. We have tea, read books together &amp; excitingly share thoughts. Then we go home &amp; watch Harry Potter in comfy clothes and blankets. Pls &amp; ty | 0.000 | 0.742 | 0.258 |     0.8591 |\n",
    "|  5 | My kid has entered the “how many chemicals and colors can I put on my face in one day” phase. Please help, like in the form of Beautyrite gift cards?                                                                | 0.000 | 0.714 | 0.286 |     0.8555 |\n",
    "| 11 | Linda has 50 items in her Beautyrite cart😃 anyone wanna help a brotha out cuz ima be broke after the holidays😃                                                                                                     | 0.072 | 0.665 | 0.263 |     0.7579 |\n",
    "| 55 | used my beautychai skincare today that i got via my favorite Beautyrite employee                                                                                                                                     | 0.000 | 0.67  | 0.33  |     0.7506 |\n",
    "|    | feeling rlly good abt beauty2lips                                                                                                                                                                                    |       |       |       |            |\n",
    "| 43 | So there's another 20% off Beautyrite... what was the point of the VIP sale?!?!                                                                                                                                      | 0.000 | 0.723 | 0.277 |     0.7164 |\n",
    "|  2 | Why don’t airports have helpful stores like Beautyrite? Why do we need 5 different burger restaurants?                                                                                                               | 0.000 | 0.712 | 0.288 |     0.6868 |"
   ]
  },
  {
   "cell_type": "code",
   "execution_count": 19,
   "metadata": {
    "colab": {
     "base_uri": "https://localhost:8080/",
     "height": 0
    },
    "id": "PyKRWwiQZP_Y",
    "outputId": "15125f95-5cd6-4f8a-fb82-21036f4333c2"
   },
   "outputs": [
    {
     "data": {
      "text/html": [
       "<div>\n",
       "<style scoped>\n",
       "    .dataframe tbody tr th:only-of-type {\n",
       "        vertical-align: middle;\n",
       "    }\n",
       "\n",
       "    .dataframe tbody tr th {\n",
       "        vertical-align: top;\n",
       "    }\n",
       "\n",
       "    .dataframe thead th {\n",
       "        text-align: right;\n",
       "    }\n",
       "</style>\n",
       "<table border=\"1\" class=\"dataframe\">\n",
       "  <thead>\n",
       "    <tr style=\"text-align: right;\">\n",
       "      <th></th>\n",
       "      <th>text</th>\n",
       "      <th>neg</th>\n",
       "      <th>neu</th>\n",
       "      <th>pos</th>\n",
       "      <th>compound</th>\n",
       "    </tr>\n",
       "  </thead>\n",
       "  <tbody>\n",
       "    <tr>\n",
       "      <th>37</th>\n",
       "      <td>My BFF gave me a Beautyrite gift card for my birthday 🥰 i love getting gift cards.</td>\n",
       "      <td>0.000</td>\n",
       "      <td>0.406</td>\n",
       "      <td>0.594</td>\n",
       "      <td>0.9717</td>\n",
       "    </tr>\n",
       "    <tr>\n",
       "      <th>24</th>\n",
       "      <td>IN LOVE WITH BEAUTY2LIPS 🤩🥰</td>\n",
       "      <td>0.000</td>\n",
       "      <td>0.364</td>\n",
       "      <td>0.636</td>\n",
       "      <td>0.9222</td>\n",
       "    </tr>\n",
       "    <tr>\n",
       "      <th>19</th>\n",
       "      <td>Got my BeautyBase merch I am happy I got the first batch 🥰</td>\n",
       "      <td>0.000</td>\n",
       "      <td>0.560</td>\n",
       "      <td>0.440</td>\n",
       "      <td>0.9001</td>\n",
       "    </tr>\n",
       "    <tr>\n",
       "      <th>6</th>\n",
       "      <td>Beautyrite is 20% off today (all purchases). 30% off Beautyrite collection.. if you buy 2 BeautyBase products you get a free bag! 🥰</td>\n",
       "      <td>0.000</td>\n",
       "      <td>0.688</td>\n",
       "      <td>0.312</td>\n",
       "      <td>0.8977</td>\n",
       "    </tr>\n",
       "    <tr>\n",
       "      <th>52</th>\n",
       "      <td>I would like a girls winter date where we shop at Beautyrite. We have tea, read books together &amp;amp; excitingly share thoughts. Then we go home &amp;amp; watch Harry Potter in comfy clothes and blankets. Pls &amp;amp; ty</td>\n",
       "      <td>0.000</td>\n",
       "      <td>0.742</td>\n",
       "      <td>0.258</td>\n",
       "      <td>0.8591</td>\n",
       "    </tr>\n",
       "    <tr>\n",
       "      <th>5</th>\n",
       "      <td>My kid has entered the “how many chemicals and colors can I put on my face in one day” phase. Please help, like in the form of Beautyrite gift cards?</td>\n",
       "      <td>0.000</td>\n",
       "      <td>0.714</td>\n",
       "      <td>0.286</td>\n",
       "      <td>0.8555</td>\n",
       "    </tr>\n",
       "    <tr>\n",
       "      <th>11</th>\n",
       "      <td>Linda has 50 items in her Beautyrite cart😃 anyone wanna help a brotha out cuz ima be broke after the holidays😃</td>\n",
       "      <td>0.072</td>\n",
       "      <td>0.665</td>\n",
       "      <td>0.263</td>\n",
       "      <td>0.7579</td>\n",
       "    </tr>\n",
       "    <tr>\n",
       "      <th>55</th>\n",
       "      <td>used my beautychai skincare today that i got via my favorite Beautyrite employee\\r\\nfeeling rlly good abt beauty2lips</td>\n",
       "      <td>0.000</td>\n",
       "      <td>0.670</td>\n",
       "      <td>0.330</td>\n",
       "      <td>0.7506</td>\n",
       "    </tr>\n",
       "    <tr>\n",
       "      <th>43</th>\n",
       "      <td>So there's another 20% off Beautyrite... what was the point of the VIP sale?!?!</td>\n",
       "      <td>0.000</td>\n",
       "      <td>0.723</td>\n",
       "      <td>0.277</td>\n",
       "      <td>0.7164</td>\n",
       "    </tr>\n",
       "    <tr>\n",
       "      <th>2</th>\n",
       "      <td>Why don’t airports have helpful stores like Beautyrite? Why do we need 5 different burger restaurants?</td>\n",
       "      <td>0.000</td>\n",
       "      <td>0.712</td>\n",
       "      <td>0.288</td>\n",
       "      <td>0.6868</td>\n",
       "    </tr>\n",
       "  </tbody>\n",
       "</table>\n",
       "</div>"
      ],
      "text/plain": [
       "                                                                                                                                                                                                                    text  \\\n",
       "37                                                                                                                                    My BFF gave me a Beautyrite gift card for my birthday 🥰 i love getting gift cards.   \n",
       "24                                                                                                                                                                                           IN LOVE WITH BEAUTY2LIPS 🤩🥰   \n",
       "19                                                                                                                                                            Got my BeautyBase merch I am happy I got the first batch 🥰   \n",
       "6                                                                                    Beautyrite is 20% off today (all purchases). 30% off Beautyrite collection.. if you buy 2 BeautyBase products you get a free bag! 🥰   \n",
       "52  I would like a girls winter date where we shop at Beautyrite. We have tea, read books together &amp; excitingly share thoughts. Then we go home &amp; watch Harry Potter in comfy clothes and blankets. Pls &amp; ty   \n",
       "5                                                                  My kid has entered the “how many chemicals and colors can I put on my face in one day” phase. Please help, like in the form of Beautyrite gift cards?   \n",
       "11                                                                                                        Linda has 50 items in her Beautyrite cart😃 anyone wanna help a brotha out cuz ima be broke after the holidays😃   \n",
       "55                                                                                                 used my beautychai skincare today that i got via my favorite Beautyrite employee\\r\\nfeeling rlly good abt beauty2lips   \n",
       "43                                                                                                                                       So there's another 20% off Beautyrite... what was the point of the VIP sale?!?!   \n",
       "2                                                                                                                 Why don’t airports have helpful stores like Beautyrite? Why do we need 5 different burger restaurants?   \n",
       "\n",
       "      neg    neu    pos  compound  \n",
       "37  0.000  0.406  0.594    0.9717  \n",
       "24  0.000  0.364  0.636    0.9222  \n",
       "19  0.000  0.560  0.440    0.9001  \n",
       "6   0.000  0.688  0.312    0.8977  \n",
       "52  0.000  0.742  0.258    0.8591  \n",
       "5   0.000  0.714  0.286    0.8555  \n",
       "11  0.072  0.665  0.263    0.7579  \n",
       "55  0.000  0.670  0.330    0.7506  \n",
       "43  0.000  0.723  0.277    0.7164  \n",
       "2   0.000  0.712  0.288    0.6868  "
      ]
     },
     "execution_count": 19,
     "metadata": {},
     "output_type": "execute_result"
    }
   ],
   "source": [
    "### BEGIN SOLUTION\n",
    "df_top10_positive = df_merged.sort_values('compound', ascending=False).head(10)\n",
    "### END SOLUTION\n",
    "\n",
    "df_top10_positive"
   ]
  },
  {
   "cell_type": "markdown",
   "metadata": {
    "id": "b2-nsJ7vZP_Y",
    "tags": []
   },
   "source": [
    "#### 🧭 Check Your Work\n",
    "\n",
    "- Once you're done, run the code cell below to test correctness.\n",
    "- ✔️ If the code cell runs without an error, you're good to move on.\n",
    "- ❌ If the code cell throws an error, go back and fix incorrect parts."
   ]
  },
  {
   "cell_type": "code",
   "execution_count": 20,
   "metadata": {
    "id": "8mgAcHGcZP_Y",
    "nbgrader": {
     "grade": true,
     "grade_id": "challenge-03",
     "locked": true,
     "points": "1",
     "solution": false
    }
   },
   "outputs": [],
   "source": [
    "# DO NOT CHANGE THE CODE BELOW\n",
    "_test_case = 'find-top-10-positive-tweets'\n",
    "_points = 1\n",
    "_obfuscate = True\n",
    "\n",
    "df_top10_positive_SOL = df_merged_SOL.sort_values('compound', ascending=False).head(10)\n",
    "pd.testing.assert_frame_equal(df_top10_positive.reset_index(drop=True),\n",
    "                              df_top10_positive_SOL.reset_index(drop=True))"
   ]
  },
  {
   "cell_type": "markdown",
   "metadata": {
    "id": "kokPa7N-ZP_X"
   },
   "source": [
    "---\n",
    "\n",
    "### 🎯 Challenge 6: Find the top 10 negative tweets"
   ]
  },
  {
   "cell_type": "markdown",
   "metadata": {
    "id": "ena54NwVZP_X"
   },
   "source": [
    "#### 👇 Tasks\n",
    "\n",
    "- ✔️ Using `df_merged`, filter the top 10 negative tweets.\n",
    "    - Use the compound score (`compound` column).\n",
    "- ✔️ Store the filtered DataFrame to a new variable named `df_top10_negative`.\n",
    "- ✔️ Sort `df_top10_negative` by `compound` in ascending order.\n",
    "\n",
    "#### 🔑 Expected Output\n",
    "\n",
    "|    | text                                                                                                                                                                                                              |   neg |   neu |   pos |   compound |\n",
    "|---:|:------------------------------------------------------------------------------------------------------------------------------------------------------------------------------------------------------------------|------:|------:|------:|-----------:|\n",
    "|  3 | Y’all go to Beautyrite’s IG and look at their awful spring lineup 😭😭😭😭😭😭                                                                                                                                    | 0.484 | 0.516 | 0.000 |    -0.9666 |\n",
    "| 58 | I feel so bad that my girls Beautyrite package got stolen. She worked so hard for that . . . fucking thieves                                                                                                      | 0.422 | 0.578 | 0.000 |    -0.9209 |\n",
    "| 59 | 😭😭You can DoorDash Beautyrite now??😭😭                                                                                                                                                                         | 0.515 | 0.485 | 0.000 |    -0.9146 |\n",
    "| 28 | Ok but the Beautyrite birthday gifts are lowkey a curse cause why am I about to spend $100 for a face cream 😭                                                                                                    | 0.274 | 0.677 | 0.049 |    -0.8519 |\n",
    "| 46 | I BOUGHT THE WRONG BEAUTYRITE LIPSTICK SHADEEE AND I BASICALLY WASTED MONEY OML IN MY DEFENSE I WAS IN A RUSH THAT LIPSTICK MAKES ME LOOK PALE AF THIS IS WHY I ONLY BUY EYELINER AND MASCARA EVERY SINGLE TIME🙄 | 0.152 | 0.804 | 0.044 |    -0.7603 |\n",
    "| 35 | I have an interview at Beautyrite today tell my why I had a dream I didn't get the job😂😭😭😭                                                                                                                    | 0.255 | 0.614 | 0.132 |    -0.6597 |\n",
    "| 14 | why are Beautyrite employees so rude like damn                                                                                                                                                                    | 0.468 | 0.342 | 0.190 |    -0.6189 |\n",
    "| 13 | cried in the middle of Beautyrite because the workers wouldn’t leave me alone 🤩                                                                                                                                  | 0.345 | 0.655 | 0.000 |    -0.5859 |\n",
    "| 49 | I hate Beautyrite, I feel out of place                                                                                                                                                                            | 0.346 | 0.654 | 0.000 |    -0.5719 |\n",
    "|  0 | every time I go into Beautyrite everybody’s makeup look bad, what’s that about?                                                                                                                                   | 0.226 | 0.774 | 0.000 |    -0.5423 |"
   ]
  },
  {
   "cell_type": "code",
   "execution_count": 21,
   "metadata": {
    "colab": {
     "base_uri": "https://localhost:8080/",
     "height": 0
    },
    "id": "PyKRWwiQZP_Y",
    "outputId": "15125f95-5cd6-4f8a-fb82-21036f4333c2"
   },
   "outputs": [
    {
     "data": {
      "text/html": [
       "<div>\n",
       "<style scoped>\n",
       "    .dataframe tbody tr th:only-of-type {\n",
       "        vertical-align: middle;\n",
       "    }\n",
       "\n",
       "    .dataframe tbody tr th {\n",
       "        vertical-align: top;\n",
       "    }\n",
       "\n",
       "    .dataframe thead th {\n",
       "        text-align: right;\n",
       "    }\n",
       "</style>\n",
       "<table border=\"1\" class=\"dataframe\">\n",
       "  <thead>\n",
       "    <tr style=\"text-align: right;\">\n",
       "      <th></th>\n",
       "      <th>text</th>\n",
       "      <th>neg</th>\n",
       "      <th>neu</th>\n",
       "      <th>pos</th>\n",
       "      <th>compound</th>\n",
       "    </tr>\n",
       "  </thead>\n",
       "  <tbody>\n",
       "    <tr>\n",
       "      <th>3</th>\n",
       "      <td>Y’all go to Beautyrite’s IG and look at their awful spring lineup 😭😭😭😭😭😭</td>\n",
       "      <td>0.484</td>\n",
       "      <td>0.516</td>\n",
       "      <td>0.000</td>\n",
       "      <td>-0.9666</td>\n",
       "    </tr>\n",
       "    <tr>\n",
       "      <th>58</th>\n",
       "      <td>I feel so bad that my girls Beautyrite package got stolen. She worked so hard for that . . . fucking thieves</td>\n",
       "      <td>0.422</td>\n",
       "      <td>0.578</td>\n",
       "      <td>0.000</td>\n",
       "      <td>-0.9209</td>\n",
       "    </tr>\n",
       "    <tr>\n",
       "      <th>59</th>\n",
       "      <td>😭😭You can DoorDash Beautyrite now??😭😭</td>\n",
       "      <td>0.515</td>\n",
       "      <td>0.485</td>\n",
       "      <td>0.000</td>\n",
       "      <td>-0.9146</td>\n",
       "    </tr>\n",
       "    <tr>\n",
       "      <th>28</th>\n",
       "      <td>Ok but the Beautyrite birthday gifts are lowkey a curse cause why am I about to spend $100 for a face cream 😭</td>\n",
       "      <td>0.274</td>\n",
       "      <td>0.677</td>\n",
       "      <td>0.049</td>\n",
       "      <td>-0.8519</td>\n",
       "    </tr>\n",
       "    <tr>\n",
       "      <th>46</th>\n",
       "      <td>I BOUGHT THE WRONG BEAUTYRITE LIPSTICK SHADEEE AND I BASICALLY WASTED MONEY OML IN MY DEFENSE I WAS IN A RUSH THAT LIPSTICK MAKES ME LOOK PALE AF THIS IS WHY I ONLY BUY EYELINER AND MASCARA EVERY SINGLE TIME🙄</td>\n",
       "      <td>0.152</td>\n",
       "      <td>0.804</td>\n",
       "      <td>0.044</td>\n",
       "      <td>-0.7603</td>\n",
       "    </tr>\n",
       "    <tr>\n",
       "      <th>35</th>\n",
       "      <td>I have an interview at Beautyrite today tell my why I had a dream I didn't get the job😂😭😭😭</td>\n",
       "      <td>0.255</td>\n",
       "      <td>0.614</td>\n",
       "      <td>0.132</td>\n",
       "      <td>-0.6597</td>\n",
       "    </tr>\n",
       "    <tr>\n",
       "      <th>14</th>\n",
       "      <td>why are Beautyrite employees so rude like damn</td>\n",
       "      <td>0.468</td>\n",
       "      <td>0.342</td>\n",
       "      <td>0.190</td>\n",
       "      <td>-0.6189</td>\n",
       "    </tr>\n",
       "    <tr>\n",
       "      <th>13</th>\n",
       "      <td>cried in the middle of Beautyrite because the workers wouldn’t leave me alone 🤩</td>\n",
       "      <td>0.345</td>\n",
       "      <td>0.655</td>\n",
       "      <td>0.000</td>\n",
       "      <td>-0.5859</td>\n",
       "    </tr>\n",
       "    <tr>\n",
       "      <th>49</th>\n",
       "      <td>I hate Beautyrite, I feel out of place</td>\n",
       "      <td>0.346</td>\n",
       "      <td>0.654</td>\n",
       "      <td>0.000</td>\n",
       "      <td>-0.5719</td>\n",
       "    </tr>\n",
       "    <tr>\n",
       "      <th>0</th>\n",
       "      <td>every time I go into Beautyrite everybody’s makeup look bad, what’s that about?</td>\n",
       "      <td>0.226</td>\n",
       "      <td>0.774</td>\n",
       "      <td>0.000</td>\n",
       "      <td>-0.5423</td>\n",
       "    </tr>\n",
       "  </tbody>\n",
       "</table>\n",
       "</div>"
      ],
      "text/plain": [
       "                                                                                                                                                                                                                text  \\\n",
       "3                                                                                                                                           Y’all go to Beautyrite’s IG and look at their awful spring lineup 😭😭😭😭😭😭   \n",
       "58                                                                                                      I feel so bad that my girls Beautyrite package got stolen. She worked so hard for that . . . fucking thieves   \n",
       "59                                                                                                                                                                             😭😭You can DoorDash Beautyrite now??😭😭   \n",
       "28                                                                                                     Ok but the Beautyrite birthday gifts are lowkey a curse cause why am I about to spend $100 for a face cream 😭   \n",
       "46  I BOUGHT THE WRONG BEAUTYRITE LIPSTICK SHADEEE AND I BASICALLY WASTED MONEY OML IN MY DEFENSE I WAS IN A RUSH THAT LIPSTICK MAKES ME LOOK PALE AF THIS IS WHY I ONLY BUY EYELINER AND MASCARA EVERY SINGLE TIME🙄   \n",
       "35                                                                                                                        I have an interview at Beautyrite today tell my why I had a dream I didn't get the job😂😭😭😭   \n",
       "14                                                                                                                                                                    why are Beautyrite employees so rude like damn   \n",
       "13                                                                                                                                   cried in the middle of Beautyrite because the workers wouldn’t leave me alone 🤩   \n",
       "49                                                                                                                                                                            I hate Beautyrite, I feel out of place   \n",
       "0                                                                                                                                    every time I go into Beautyrite everybody’s makeup look bad, what’s that about?   \n",
       "\n",
       "      neg    neu    pos  compound  \n",
       "3   0.484  0.516  0.000   -0.9666  \n",
       "58  0.422  0.578  0.000   -0.9209  \n",
       "59  0.515  0.485  0.000   -0.9146  \n",
       "28  0.274  0.677  0.049   -0.8519  \n",
       "46  0.152  0.804  0.044   -0.7603  \n",
       "35  0.255  0.614  0.132   -0.6597  \n",
       "14  0.468  0.342  0.190   -0.6189  \n",
       "13  0.345  0.655  0.000   -0.5859  \n",
       "49  0.346  0.654  0.000   -0.5719  \n",
       "0   0.226  0.774  0.000   -0.5423  "
      ]
     },
     "execution_count": 21,
     "metadata": {},
     "output_type": "execute_result"
    }
   ],
   "source": [
    "### BEGIN SOLUTION\n",
    "df_top10_negative = df_merged.sort_values('compound').head(10)\n",
    "### END SOLUTION\n",
    "\n",
    "df_top10_negative"
   ]
  },
  {
   "cell_type": "markdown",
   "metadata": {
    "id": "b2-nsJ7vZP_Y",
    "tags": []
   },
   "source": [
    "#### 🧭 Check Your Work\n",
    "\n",
    "- Once you're done, run the code cell below to test correctness.\n",
    "- ✔️ If the code cell runs without an error, you're good to move on.\n",
    "- ❌ If the code cell throws an error, go back and fix incorrect parts."
   ]
  },
  {
   "cell_type": "code",
   "execution_count": 22,
   "metadata": {
    "id": "8mgAcHGcZP_Y",
    "nbgrader": {
     "grade": true,
     "grade_id": "challenge-03",
     "locked": true,
     "points": "1",
     "solution": false
    }
   },
   "outputs": [],
   "source": [
    "# DO NOT CHANGE THE CODE BELOW\n",
    "_test_case = 'find-top-10-negative-tweets'\n",
    "_points = 1\n",
    "_obfuscate = True\n",
    "\n",
    "df_top10_negative_SOL = df_merged_SOL.sort_values('compound').head(10)\n",
    "pd.testing.assert_frame_equal(df_top10_negative.reset_index(drop=True),\n",
    "                              df_top10_negative_SOL.reset_index(drop=True))"
   ]
  }
 ],
 "metadata": {
  "colab": {
   "provenance": []
  },
  "kernelspec": {
   "display_name": "Python 3 (ipykernel)",
   "language": "python",
   "name": "python3"
  },
  "language_info": {
   "codemirror_mode": {
    "name": "ipython",
    "version": 3
   },
   "file_extension": ".py",
   "mimetype": "text/x-python",
   "name": "python",
   "nbconvert_exporter": "python",
   "pygments_lexer": "ipython3",
   "version": "3.9.7"
  }
 },
 "nbformat": 4,
 "nbformat_minor": 4
}
