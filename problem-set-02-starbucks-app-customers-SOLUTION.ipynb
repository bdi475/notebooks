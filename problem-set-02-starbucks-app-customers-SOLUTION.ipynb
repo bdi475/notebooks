{
 "cells": [
  {
   "cell_type": "code",
   "execution_count": 1,
   "metadata": {},
   "outputs": [],
   "source": [
    "# GRADER_ONLY\n",
    "autograded_result = {\n",
    "    \"netid\": None,\n",
    "    \"order\": [],\n",
    "    \"student_score\": 0,\n",
    "    \"total_available\": 0,\n",
    "    \"breakdown\": {}\n",
    "}\n",
    "\n",
    "def record_part(part_name, did_pass, available_points, message=\"\"):\n",
    "    global autograded_result\n",
    "    \n",
    "    # If already graded, remove previous graded order entry for this part\n",
    "    if part_name in autograded_result[\"order\"]:\n",
    "        print(\"[Warning] Autograder: Part already graded or a duplicate key exists\")\n",
    "        autograded_result[\"order\"].remove(part_name)\n",
    "    \n",
    "    # Record graded order\n",
    "    autograded_result[\"order\"].append(part_name)\n",
    "    \n",
    "    # Add graded result for this part\n",
    "    autograded_result[\"breakdown\"][part_name] = {\n",
    "        \"available_points\": available_points,\n",
    "        \"points\": available_points if did_pass else 0,\n",
    "        \"did_pass\": did_pass,\n",
    "        \"message\": message,\n",
    "    }\n",
    "    \n",
    "    # Recalculate total_points and total_available points\n",
    "    autograded_result[\"student_score\"] = 0\n",
    "    autograded_result[\"total_available\"] = 0\n",
    "    \n",
    "    for part_info in autograded_result[\"breakdown\"].values():\n",
    "        autograded_result[\"student_score\"] += part_info[\"points\"]\n",
    "        autograded_result[\"total_available\"] += part_info[\"available_points\"]\n",
    "    \n",
    "    print(autograded_result)"
   ]
  },
  {
   "cell_type": "markdown",
   "metadata": {},
   "source": [
    "# Problem Set 2 - Starbucks App Data\n",
    "\n",
    "- 🏆 80 points available\n",
    "- ✏️ Last updated on 10/08/2021\n",
    "- 📆 Due 10/14 Thursday 3:30 PM"
   ]
  },
  {
   "cell_type": "markdown",
   "metadata": {
    "id": "DiznwS2xem7h"
   },
   "source": [
    "▶️ First, run the code cell below to import `unittest`, a module used for **🧭 Check Your Work** sections and the autograder."
   ]
  },
  {
   "cell_type": "code",
   "execution_count": 2,
   "metadata": {
    "id": "xOFvIip0em7h"
   },
   "outputs": [],
   "source": [
    "# DO NOT MODIFY THE CODE IN THIS CELL\n",
    "import unittest\n",
    "tc = unittest.TestCase()\n",
    "\n",
    "assignment_name = \"problem-set-02\"\n",
    "is_autograder_env = 'record_part' in globals().keys()\n",
    "\n",
    "if is_autograder_env:\n",
    "    autograded_result[\"assignment_name\"] = assignment_name"
   ]
  },
  {
   "cell_type": "markdown",
   "metadata": {},
   "source": [
    "---\n",
    "\n",
    "### 🎯 Enter your NetID\n",
    "\n",
    "- 👇 Fill in the value of `netid` with your **NetID** below.\n",
    "    - This value will be used by the autograder."
   ]
  },
  {
   "cell_type": "code",
   "execution_count": 3,
   "metadata": {},
   "outputs": [
    {
     "name": "stdout",
     "output_type": "stream",
     "text": [
      "Your NetID is .\n"
     ]
    }
   ],
   "source": [
    "netid = \"\"\n",
    "\n",
    "print(f\"Your NetID is {netid}.\")"
   ]
  },
  {
   "cell_type": "code",
   "execution_count": 4,
   "metadata": {},
   "outputs": [],
   "source": [
    "# GRADER_ONLY\n",
    "# This code will be stripped to the student-distributed version\n",
    "netid = \"grader_netid\""
   ]
  },
  {
   "cell_type": "markdown",
   "metadata": {
    "id": "EdrK-mBsem7r"
   },
   "source": [
    "#### 🧭 Check Your NetID\n",
    "\n",
    "If the code cell below doesn't throw an error, you're ready to begin this assignment."
   ]
  },
  {
   "cell_type": "code",
   "execution_count": 5,
   "metadata": {},
   "outputs": [],
   "source": [
    "# DO NOT CHANGE THE CODE BELOW\n",
    "tc.assertIsNotNone(netid)\n",
    "tc.assertIsInstance(netid, str)\n",
    "tc.assertNotEqual(netid.strip(), \"\", \"Did you forget to enter your NetID?\")\n",
    "tc.assertFalse(netid.strip().isdecimal(), \"Did you enter your UIN instead of your NetID?\")\n",
    "\n",
    "if is_autograder_env:\n",
    "    autograded_result[\"netid\"] = netid"
   ]
  },
  {
   "cell_type": "markdown",
   "metadata": {},
   "source": [
    "---\n",
    "\n",
    "### 🎯 Part 1: Import Pandas and NumPy"
   ]
  },
  {
   "cell_type": "markdown",
   "metadata": {
    "id": "i3PWWkSaem7i"
   },
   "source": [
    "#### 👇 Tasks\n",
    "\n",
    "- ✔️ Import the following Python packages.\n",
    "    1. `pandas`: Use alias `pd`.\n",
    "    2. `numpy`: Use alias `np`."
   ]
  },
  {
   "cell_type": "code",
   "execution_count": 6,
   "metadata": {
    "id": "jfnhv8_Yem7j"
   },
   "outputs": [],
   "source": [
    "# YOUR CODE BEGINS\n",
    "import pandas as pd\n",
    "import numpy as np\n",
    "# YOUR CODE ENDS"
   ]
  },
  {
   "cell_type": "markdown",
   "metadata": {
    "id": "EdrK-mBsem7r"
   },
   "source": [
    "#### 🧭 Check Your Work\n",
    "\n",
    "- Once you're done, run the code cell below to test correctness.\n",
    "- ✔️ If the code cell runs without an error, you're good to move on.\n",
    "- ❌ If the code cell throws an error, go back and fix any incorrect parts."
   ]
  },
  {
   "cell_type": "code",
   "execution_count": 7,
   "metadata": {},
   "outputs": [
    {
     "name": "stdout",
     "output_type": "stream",
     "text": [
      "{'netid': 'grader_netid', 'order': ['part-01'], 'student_score': 2, 'total_available': 2, 'breakdown': {'part-01': {'available_points': 2, 'points': 2, 'did_pass': True, 'message': ''}}, 'assignment_name': 'problem-set-02'}\n"
     ]
    }
   ],
   "source": [
    "# DO NOT CHANGE THE CODE IN THIS CELL\n",
    "part_name = \"part-01\"\n",
    "did_pass = True\n",
    "available_points = 2\n",
    "message = \"\"\n",
    "\n",
    "try:\n",
    "    tc.assertTrue(\"pd\" in globals(), \"Check whether you have correctly import Pandas with an alias.\")\n",
    "    tc.assertTrue(\"np\" in globals(), \"Check whether you have correctly import NumPy with an alias.\")\n",
    "except Exception as err:\n",
    "    did_pass = False\n",
    "    message = err\n",
    "    \n",
    "    if not is_autograder_env:\n",
    "        raise err\n",
    "finally:\n",
    "    if is_autograder_env:\n",
    "        record_part(part_name, did_pass, available_points, message)"
   ]
  },
  {
   "cell_type": "markdown",
   "metadata": {},
   "source": [
    "---\n",
    "\n",
    "### 📌 Load data\n",
    "\n",
    "Throughout this problem set, you'll work with a Starbucks Customer Rewards Program dataset. ☕ The dataset was originally released as a part of a capstone project of a Udacity course.\n",
    "\n",
    "For the purpose of this course, the original dataset in JSON format has been transformed to CSV files for convenience. You can download the original JSON files [here](https://www.kaggle.com/blacktile/starbucks-app-customer-reward-program-data?select=portfolio.json).\n",
    "\n",
    "▶️ Run the code cell below to read the transcripts data into `df_transcript`."
   ]
  },
  {
   "cell_type": "code",
   "execution_count": 8,
   "metadata": {},
   "outputs": [
    {
     "data": {
      "text/html": [
       "<div>\n",
       "<style scoped>\n",
       "    .dataframe tbody tr th:only-of-type {\n",
       "        vertical-align: middle;\n",
       "    }\n",
       "\n",
       "    .dataframe tbody tr th {\n",
       "        vertical-align: top;\n",
       "    }\n",
       "\n",
       "    .dataframe thead th {\n",
       "        text-align: right;\n",
       "    }\n",
       "</style>\n",
       "<table border=\"1\" class=\"dataframe\">\n",
       "  <thead>\n",
       "    <tr style=\"text-align: right;\">\n",
       "      <th></th>\n",
       "      <th>member_id</th>\n",
       "      <th>event</th>\n",
       "      <th>time</th>\n",
       "      <th>offer_id</th>\n",
       "      <th>amount</th>\n",
       "    </tr>\n",
       "  </thead>\n",
       "  <tbody>\n",
       "    <tr>\n",
       "      <th>306524</th>\n",
       "      <td>d613ca9c59dd42f497bdbf6178da54a7</td>\n",
       "      <td>transaction</td>\n",
       "      <td>714</td>\n",
       "      <td>NaN</td>\n",
       "      <td>25.14</td>\n",
       "    </tr>\n",
       "    <tr>\n",
       "      <th>306525</th>\n",
       "      <td>eec70ab28af74a22a4aeb889c0317944</td>\n",
       "      <td>transaction</td>\n",
       "      <td>714</td>\n",
       "      <td>NaN</td>\n",
       "      <td>43.58</td>\n",
       "    </tr>\n",
       "    <tr>\n",
       "      <th>306526</th>\n",
       "      <td>24f56b5e1849462093931b164eb803b5</td>\n",
       "      <td>transaction</td>\n",
       "      <td>714</td>\n",
       "      <td>NaN</td>\n",
       "      <td>22.64</td>\n",
       "    </tr>\n",
       "    <tr>\n",
       "      <th>306527</th>\n",
       "      <td>24f56b5e1849462093931b164eb803b5</td>\n",
       "      <td>offer completed</td>\n",
       "      <td>714</td>\n",
       "      <td>NaN</td>\n",
       "      <td>NaN</td>\n",
       "    </tr>\n",
       "    <tr>\n",
       "      <th>306528</th>\n",
       "      <td>5ca2620962114246ab218fc648eb3934</td>\n",
       "      <td>transaction</td>\n",
       "      <td>714</td>\n",
       "      <td>NaN</td>\n",
       "      <td>2.20</td>\n",
       "    </tr>\n",
       "    <tr>\n",
       "      <th>306529</th>\n",
       "      <td>b3a1272bc9904337b331bf348c3e8c17</td>\n",
       "      <td>transaction</td>\n",
       "      <td>714</td>\n",
       "      <td>NaN</td>\n",
       "      <td>1.59</td>\n",
       "    </tr>\n",
       "    <tr>\n",
       "      <th>306530</th>\n",
       "      <td>68213b08d99a4ae1b0dcb72aebd9aa35</td>\n",
       "      <td>transaction</td>\n",
       "      <td>714</td>\n",
       "      <td>NaN</td>\n",
       "      <td>9.53</td>\n",
       "    </tr>\n",
       "    <tr>\n",
       "      <th>306531</th>\n",
       "      <td>a00058cf10334a308c68e7631c529907</td>\n",
       "      <td>transaction</td>\n",
       "      <td>714</td>\n",
       "      <td>NaN</td>\n",
       "      <td>3.61</td>\n",
       "    </tr>\n",
       "    <tr>\n",
       "      <th>306532</th>\n",
       "      <td>76ddbd6576844afe811f1a3c0fbb5bec</td>\n",
       "      <td>transaction</td>\n",
       "      <td>714</td>\n",
       "      <td>NaN</td>\n",
       "      <td>3.53</td>\n",
       "    </tr>\n",
       "    <tr>\n",
       "      <th>306533</th>\n",
       "      <td>c02b10e8752c4d8e9b73f918558531f7</td>\n",
       "      <td>transaction</td>\n",
       "      <td>714</td>\n",
       "      <td>NaN</td>\n",
       "      <td>4.05</td>\n",
       "    </tr>\n",
       "  </tbody>\n",
       "</table>\n",
       "</div>"
      ],
      "text/plain": [
       "                               member_id            event  time offer_id  \\\n",
       "306524  d613ca9c59dd42f497bdbf6178da54a7      transaction   714      NaN   \n",
       "306525  eec70ab28af74a22a4aeb889c0317944      transaction   714      NaN   \n",
       "306526  24f56b5e1849462093931b164eb803b5      transaction   714      NaN   \n",
       "306527  24f56b5e1849462093931b164eb803b5  offer completed   714      NaN   \n",
       "306528  5ca2620962114246ab218fc648eb3934      transaction   714      NaN   \n",
       "306529  b3a1272bc9904337b331bf348c3e8c17      transaction   714      NaN   \n",
       "306530  68213b08d99a4ae1b0dcb72aebd9aa35      transaction   714      NaN   \n",
       "306531  a00058cf10334a308c68e7631c529907      transaction   714      NaN   \n",
       "306532  76ddbd6576844afe811f1a3c0fbb5bec      transaction   714      NaN   \n",
       "306533  c02b10e8752c4d8e9b73f918558531f7      transaction   714      NaN   \n",
       "\n",
       "        amount  \n",
       "306524   25.14  \n",
       "306525   43.58  \n",
       "306526   22.64  \n",
       "306527     NaN  \n",
       "306528    2.20  \n",
       "306529    1.59  \n",
       "306530    9.53  \n",
       "306531    3.61  \n",
       "306532    3.53  \n",
       "306533    4.05  "
      ]
     },
     "execution_count": 8,
     "metadata": {},
     "output_type": "execute_result"
    }
   ],
   "source": [
    "# DO NOT CHANGE THE CODE IN THIS CELL\n",
    "df_transcript = pd.read_csv('https://github.com/bdi475/datasets/blob/main/starbucks-rewards/transcript.csv.gz?raw=true',\n",
    "                           compression='gzip')\n",
    "\n",
    "# Used for intermediate checks\n",
    "df_transcript_backup = df_transcript.copy()\n",
    "\n",
    "# Print 10 last rows\n",
    "df_transcript.tail(10)"
   ]
  },
  {
   "cell_type": "markdown",
   "metadata": {
    "id": "LI33A8-jem7m"
   },
   "source": [
    "The table below describes the columns in `df_transcript`.\n",
    "\n",
    "| Field | Description |\n",
    "|---|---|\n",
    "| member_id | Member ID |\n",
    "| event | Type of event ('offer received',   'offer completed', 'transaction') |\n",
    "| time | Time as continuous value |\n",
    "| offer_id | Offer ID |\n",
    "| amount | Amount of purchase or NaN if   non-purchase |"
   ]
  },
  {
   "cell_type": "markdown",
   "metadata": {
    "id": "Dg-bBkF8fGaN"
   },
   "source": [
    "---\n",
    "\n",
    "### 🎯 Part 2: Find the number of rows and columns\n",
    "\n",
    "#### 👇 Tasks\n",
    "\n",
    "- ✔️ Store the number of rows in `df_transcript` to a new variable named `num_rows`.\n",
    "- ✔️ Store the number of columns in `df_transcript` to a new variable named `num_cols`.\n",
    "- ✔️ Use `.shape`, not `len()`."
   ]
  },
  {
   "cell_type": "code",
   "execution_count": 9,
   "metadata": {},
   "outputs": [
    {
     "name": "stdout",
     "output_type": "stream",
     "text": [
      "Number of rows: 306534\n",
      "Number of columns: 5\n"
     ]
    }
   ],
   "source": [
    "# YOUR CODE BEGINS\n",
    "num_rows = df_transcript.shape[0]\n",
    "num_cols = df_transcript.shape[1]\n",
    "# YOUR CODE ENDS\n",
    "\n",
    "print(f\"Number of rows: {num_rows}\")\n",
    "print(f\"Number of columns: {num_cols}\")"
   ]
  },
  {
   "cell_type": "markdown",
   "metadata": {
    "id": "EdrK-mBsem7r"
   },
   "source": [
    "#### 🧭 Check Your Work\n",
    "\n",
    "- Once you're done, run the code cell below to test correctness.\n",
    "- ✔️ If the code cell runs without an error, you're good to move on.\n",
    "- ❌ If the code cell throws an error, go back and fix any incorrect parts."
   ]
  },
  {
   "cell_type": "code",
   "execution_count": 10,
   "metadata": {},
   "outputs": [
    {
     "name": "stdout",
     "output_type": "stream",
     "text": [
      "{'netid': 'grader_netid', 'order': ['part-01', 'part-02'], 'student_score': 4, 'total_available': 4, 'breakdown': {'part-01': {'available_points': 2, 'points': 2, 'did_pass': True, 'message': ''}, 'part-02': {'available_points': 2, 'points': 2, 'did_pass': True, 'message': ''}}, 'assignment_name': 'problem-set-02'}\n"
     ]
    }
   ],
   "source": [
    "# DO NOT CHANGE THE CODE IN THIS CELL\n",
    "part_name = \"part-02\"\n",
    "did_pass = True\n",
    "available_points = 2\n",
    "message = \"\"\n",
    "\n",
    "try:\n",
    "    tc.assertEqual(num_rows, len(df_transcript_backup.index), f\"Number of rows should be {len(df_transcript_backup.index)}\")\n",
    "    tc.assertEqual(num_cols, len(df_transcript_backup.columns), f\"Number of columns should be {len(df_transcript_backup.columns)}\")\n",
    "except Exception as err:\n",
    "    did_pass = False\n",
    "    message = err\n",
    "    \n",
    "    if not is_autograder_env:\n",
    "        raise err\n",
    "finally:\n",
    "    if is_autograder_env:\n",
    "        record_part(part_name, did_pass, available_points, message)"
   ]
  },
  {
   "cell_type": "markdown",
   "metadata": {
    "id": "Dg-bBkF8fGaN"
   },
   "source": [
    "---\n",
    "\n",
    "### 🎯 Part 3: Find all customer purchases\n",
    "\n",
    "▶️ First, run the code cell below to print out all event types recorded in `df_transcript`."
   ]
  },
  {
   "cell_type": "code",
   "execution_count": 11,
   "metadata": {},
   "outputs": [
    {
     "data": {
      "text/plain": [
       "['offer received', 'offer viewed', 'transaction', 'offer completed']"
      ]
     },
     "execution_count": 11,
     "metadata": {},
     "output_type": "execute_result"
    }
   ],
   "source": [
    "# NO NEED TO CHANGE THE CODE BELOW\n",
    "list(df_transcript[\"event\"].unique())"
   ]
  },
  {
   "cell_type": "markdown",
   "metadata": {},
   "source": [
    "There are four event types. We'll first only look at customer purchases (transactions).\n",
    "\n",
    "#### 👇 Tasks\n",
    "\n",
    "- ✔️ Using `df_transcript`, find rows where `event` is `\"transaction\"`.\n",
    "    - We're excluding any events related to loyalty offers for now.\n",
    "- ✔️ Store the filtered rows to `df_transactions`.\n",
    "- ✔️ `df_transcript` should remain unaltered.\n",
    "\n",
    "#### 🔑 Expected Output of `df_transactions.head(3)`\n",
    "\n",
    "|       |                        member_id |       event | time | offer_id | amount |\n",
    "|------:|---------------------------------:|------------:|-----:|---------:|-------:|\n",
    "| 12654 | 02c083884c7d45b39cc68e1314fec56c | transaction |    0 |      NaN |   0.83 |\n",
    "| 12657 | 9fa9ae8f57894cc9a3b8a9bbe0fc1b2f | transaction |    0 |      NaN |  34.56 |\n",
    "| 12659 | 54890f68699049c2a04d415abc25e717 | transaction |    0 |      NaN |  13.23 |"
   ]
  },
  {
   "cell_type": "code",
   "execution_count": 12,
   "metadata": {},
   "outputs": [
    {
     "data": {
      "text/html": [
       "<div>\n",
       "<style scoped>\n",
       "    .dataframe tbody tr th:only-of-type {\n",
       "        vertical-align: middle;\n",
       "    }\n",
       "\n",
       "    .dataframe tbody tr th {\n",
       "        vertical-align: top;\n",
       "    }\n",
       "\n",
       "    .dataframe thead th {\n",
       "        text-align: right;\n",
       "    }\n",
       "</style>\n",
       "<table border=\"1\" class=\"dataframe\">\n",
       "  <thead>\n",
       "    <tr style=\"text-align: right;\">\n",
       "      <th></th>\n",
       "      <th>member_id</th>\n",
       "      <th>event</th>\n",
       "      <th>time</th>\n",
       "      <th>offer_id</th>\n",
       "      <th>amount</th>\n",
       "    </tr>\n",
       "  </thead>\n",
       "  <tbody>\n",
       "    <tr>\n",
       "      <th>12654</th>\n",
       "      <td>02c083884c7d45b39cc68e1314fec56c</td>\n",
       "      <td>transaction</td>\n",
       "      <td>0</td>\n",
       "      <td>NaN</td>\n",
       "      <td>0.83</td>\n",
       "    </tr>\n",
       "    <tr>\n",
       "      <th>12657</th>\n",
       "      <td>9fa9ae8f57894cc9a3b8a9bbe0fc1b2f</td>\n",
       "      <td>transaction</td>\n",
       "      <td>0</td>\n",
       "      <td>NaN</td>\n",
       "      <td>34.56</td>\n",
       "    </tr>\n",
       "    <tr>\n",
       "      <th>12659</th>\n",
       "      <td>54890f68699049c2a04d415abc25e717</td>\n",
       "      <td>transaction</td>\n",
       "      <td>0</td>\n",
       "      <td>NaN</td>\n",
       "      <td>13.23</td>\n",
       "    </tr>\n",
       "  </tbody>\n",
       "</table>\n",
       "</div>"
      ],
      "text/plain": [
       "                              member_id        event  time offer_id  amount\n",
       "12654  02c083884c7d45b39cc68e1314fec56c  transaction     0      NaN    0.83\n",
       "12657  9fa9ae8f57894cc9a3b8a9bbe0fc1b2f  transaction     0      NaN   34.56\n",
       "12659  54890f68699049c2a04d415abc25e717  transaction     0      NaN   13.23"
      ]
     },
     "execution_count": 12,
     "metadata": {},
     "output_type": "execute_result"
    }
   ],
   "source": [
    "# YOUR CODE BEGINS\n",
    "df_transactions = df_transcript[df_transcript[\"event\"] == \"transaction\"]\n",
    "# YOUR CODE ENDS\n",
    "\n",
    "df_transactions.head(3)"
   ]
  },
  {
   "cell_type": "markdown",
   "metadata": {
    "id": "EdrK-mBsem7r"
   },
   "source": [
    "#### 🧭 Check Your Work\n",
    "\n",
    "- Once you're done, run the code cell below to test correctness.\n",
    "- ✔️ If the code cell runs without an error, you're good to move on.\n",
    "- ❌ If the code cell throws an error, go back and fix any incorrect parts."
   ]
  },
  {
   "cell_type": "code",
   "execution_count": 13,
   "metadata": {},
   "outputs": [
    {
     "name": "stdout",
     "output_type": "stream",
     "text": [
      "{'netid': 'grader_netid', 'order': ['part-01', 'part-02', 'part-03'], 'student_score': 8, 'total_available': 8, 'breakdown': {'part-01': {'available_points': 2, 'points': 2, 'did_pass': True, 'message': ''}, 'part-02': {'available_points': 2, 'points': 2, 'did_pass': True, 'message': ''}, 'part-03': {'available_points': 4, 'points': 4, 'did_pass': True, 'message': ''}}, 'assignment_name': 'problem-set-02'}\n"
     ]
    }
   ],
   "source": [
    "# DO NOT CHANGE THE CODE IN THIS CELL\n",
    "part_name = \"part-03\"\n",
    "did_pass = True\n",
    "available_points = 4\n",
    "message = \"\"\n",
    "\n",
    "try:\n",
    "    # df_you should remain unaltered\n",
    "    pd.testing.assert_frame_equal(df_transcript, df_transcript_backup, \"The original DataFrame should remain unaltered\")\n",
    "\n",
    "    # Check result\n",
    "    pd.testing.assert_frame_equal(df_transactions.sort_values(df_transactions.columns.to_list()).reset_index(drop=True),\n",
    "                                  df_transcript_backup.query('event == \"transaction\"')\n",
    "                                     .sort_values(df_transcript_backup.columns.tolist()).reset_index(drop=True))\n",
    "except Exception as err:\n",
    "    did_pass = False\n",
    "    message = err\n",
    "    \n",
    "    if not is_autograder_env:\n",
    "        raise err\n",
    "finally:\n",
    "    if is_autograder_env:\n",
    "        record_part(part_name, did_pass, available_points, message)"
   ]
  },
  {
   "cell_type": "markdown",
   "metadata": {},
   "source": [
    "---\n",
    "\n",
    "### 🎯 Part 4: Drop unused columns\n",
    "\n",
    "▶️ Before proceeding, run the code cell below.\n",
    "\n",
    "\n",
    "#### If you're curious why we run the code (OPTIONAL)\n",
    "\n",
    "`df_transactions` is currently a partial *view* of the original transcript DataFrame (`df_transcript`). Pandas will display a warning message (`SettingWithCopyWarning`) if a user tries to modify a *view*. The code below converts `df_transcations` from a view to a copy. If you're still unsure, try googling \"Pandas SettingWithCopyWarning\"."
   ]
  },
  {
   "cell_type": "code",
   "execution_count": 14,
   "metadata": {},
   "outputs": [],
   "source": [
    "# DO NOT CHANGE THE CODE BELOW\n",
    "df_transactions = df_transactions.copy()"
   ]
  },
  {
   "cell_type": "markdown",
   "metadata": {},
   "source": [
    "#### 👇 Tasks\n",
    "\n",
    "- ✔️ Drop `event`, `time`, and `offer_id` columns from `df_transactions` **in-place**.\n",
    "- ✔️ You should directly drop the columns from `df_transactions` using the `inplace=True` option.\n",
    "\n",
    "#### 🚀 Hints\n",
    "\n",
    "Use the following code as a reference.\n",
    "\n",
    "```python\n",
    "my_dataframe.drop(columns=[\"my_column1\", \"my_column2\"], inplace=True)\n",
    "```\n",
    "\n",
    "#### 🔑 Expected Output\n",
    "\n",
    "|       |                        member_id | amount |\n",
    "|------:|---------------------------------:|-------:|\n",
    "| 12654 | 02c083884c7d45b39cc68e1314fec56c |   0.83 |\n",
    "| 12657 | 9fa9ae8f57894cc9a3b8a9bbe0fc1b2f |  34.56 |\n",
    "| 12659 | 54890f68699049c2a04d415abc25e717 |  13.23 |"
   ]
  },
  {
   "cell_type": "code",
   "execution_count": 15,
   "metadata": {},
   "outputs": [
    {
     "data": {
      "text/html": [
       "<div>\n",
       "<style scoped>\n",
       "    .dataframe tbody tr th:only-of-type {\n",
       "        vertical-align: middle;\n",
       "    }\n",
       "\n",
       "    .dataframe tbody tr th {\n",
       "        vertical-align: top;\n",
       "    }\n",
       "\n",
       "    .dataframe thead th {\n",
       "        text-align: right;\n",
       "    }\n",
       "</style>\n",
       "<table border=\"1\" class=\"dataframe\">\n",
       "  <thead>\n",
       "    <tr style=\"text-align: right;\">\n",
       "      <th></th>\n",
       "      <th>member_id</th>\n",
       "      <th>amount</th>\n",
       "    </tr>\n",
       "  </thead>\n",
       "  <tbody>\n",
       "    <tr>\n",
       "      <th>12654</th>\n",
       "      <td>02c083884c7d45b39cc68e1314fec56c</td>\n",
       "      <td>0.83</td>\n",
       "    </tr>\n",
       "    <tr>\n",
       "      <th>12657</th>\n",
       "      <td>9fa9ae8f57894cc9a3b8a9bbe0fc1b2f</td>\n",
       "      <td>34.56</td>\n",
       "    </tr>\n",
       "    <tr>\n",
       "      <th>12659</th>\n",
       "      <td>54890f68699049c2a04d415abc25e717</td>\n",
       "      <td>13.23</td>\n",
       "    </tr>\n",
       "  </tbody>\n",
       "</table>\n",
       "</div>"
      ],
      "text/plain": [
       "                              member_id  amount\n",
       "12654  02c083884c7d45b39cc68e1314fec56c    0.83\n",
       "12657  9fa9ae8f57894cc9a3b8a9bbe0fc1b2f   34.56\n",
       "12659  54890f68699049c2a04d415abc25e717   13.23"
      ]
     },
     "execution_count": 15,
     "metadata": {},
     "output_type": "execute_result"
    }
   ],
   "source": [
    "# YOUR CODE BEGINS\n",
    "df_transactions.drop(columns=[\"event\", \"time\", \"offer_id\"], inplace=True)\n",
    "# YOUR CODE ENDS\n",
    "\n",
    "df_transactions.head(3)"
   ]
  },
  {
   "cell_type": "markdown",
   "metadata": {
    "id": "EdrK-mBsem7r"
   },
   "source": [
    "#### 🧭 Check Your Work\n",
    "\n",
    "- Once you're done, run the code cell below to test correctness.\n",
    "- ✔️ If the code cell runs without an error, you're good to move on.\n",
    "- ❌ If the code cell throws an error, go back and fix any incorrect parts."
   ]
  },
  {
   "cell_type": "code",
   "execution_count": 16,
   "metadata": {},
   "outputs": [
    {
     "name": "stdout",
     "output_type": "stream",
     "text": [
      "{'netid': 'grader_netid', 'order': ['part-01', 'part-02', 'part-03', 'part-04'], 'student_score': 14, 'total_available': 14, 'breakdown': {'part-01': {'available_points': 2, 'points': 2, 'did_pass': True, 'message': ''}, 'part-02': {'available_points': 2, 'points': 2, 'did_pass': True, 'message': ''}, 'part-03': {'available_points': 4, 'points': 4, 'did_pass': True, 'message': ''}, 'part-04': {'available_points': 6, 'points': 6, 'did_pass': True, 'message': ''}}, 'assignment_name': 'problem-set-02'}\n"
     ]
    }
   ],
   "source": [
    "# DO NOT CHANGE THE CODE IN THIS CELL\n",
    "part_name = \"part-04\"\n",
    "did_pass = True\n",
    "available_points = 6\n",
    "message = \"\"\n",
    "\n",
    "df_check = df_transcript_backup.query('event == \"transaction\"')[['member_id', 'amount']]\n",
    "\n",
    "try:\n",
    "    # Check result\n",
    "    pd.testing.assert_frame_equal(df_transactions.sort_values(df_transactions.columns.to_list()).reset_index(drop=True),\n",
    "                                  df_check.sort_values(df_check.columns.tolist()).reset_index(drop=True))\n",
    "except Exception as err:\n",
    "    did_pass = False\n",
    "    message = err\n",
    "    \n",
    "    if not is_autograder_env:\n",
    "        raise err\n",
    "finally:\n",
    "    if is_autograder_env:\n",
    "        record_part(part_name, did_pass, available_points, message)"
   ]
  },
  {
   "cell_type": "markdown",
   "metadata": {},
   "source": [
    "---\n",
    "\n",
    "### 🎯 Part 5: Mean, max, and median transaction amount\n",
    "\n",
    "#### 👇 Tasks\n",
    "\n",
    "- ✔️ Find the mean (average), max, and median of all purchase amounts.\n",
    "    - Use the `amount` column in `df_transactions`.\n",
    "- ✔️ Store the calculated results to the following three new variables:\n",
    "    - `amount_mean`: Average transaction amount\n",
    "    - `amount_median`: Median transaction amount\n",
    "    - `amount_max`: Maximum transaction amount\n",
    "\n",
    "#### 🚀 Hints\n",
    "\n",
    "```python\n",
    "my_series.mean()   # Returns the mean of a Series\n",
    "my_series.median() # Returns the median of a Series\n",
    "my_series.max()    # Returns the max of a Series\n",
    "```\n",
    "\n",
    "#### 🔑 Expected Output\n",
    "\n",
    "`mean=12.78, median=8.89, max=1062.28`"
   ]
  },
  {
   "cell_type": "code",
   "execution_count": 17,
   "metadata": {},
   "outputs": [
    {
     "name": "stdout",
     "output_type": "stream",
     "text": [
      "mean=12.78, median=8.89, max=1062.28\n"
     ]
    }
   ],
   "source": [
    "# YOUR CODE BEGINS\n",
    "amount_mean = df_transactions['amount'].mean()\n",
    "amount_median = df_transactions['amount'].median()\n",
    "amount_max = df_transactions['amount'].max()\n",
    "# YOUR CODE ENDS\n",
    "\n",
    "print(f'mean={amount_mean:.2f}, median={amount_median:.2f}, max={amount_max:.2f}')"
   ]
  },
  {
   "cell_type": "markdown",
   "metadata": {
    "id": "EdrK-mBsem7r"
   },
   "source": [
    "#### 🧭 Check Your Work\n",
    "\n",
    "- Once you're done, run the code cell below to test correctness.\n",
    "- ✔️ If the code cell runs without an error, you're good to move on.\n",
    "- ❌ If the code cell throws an error, go back and fix any incorrect parts."
   ]
  },
  {
   "cell_type": "code",
   "execution_count": 18,
   "metadata": {},
   "outputs": [
    {
     "name": "stdout",
     "output_type": "stream",
     "text": [
      "{'netid': 'grader_netid', 'order': ['part-01', 'part-02', 'part-03', 'part-04', 'part-05'], 'student_score': 20, 'total_available': 20, 'breakdown': {'part-01': {'available_points': 2, 'points': 2, 'did_pass': True, 'message': ''}, 'part-02': {'available_points': 2, 'points': 2, 'did_pass': True, 'message': ''}, 'part-03': {'available_points': 4, 'points': 4, 'did_pass': True, 'message': ''}, 'part-04': {'available_points': 6, 'points': 6, 'did_pass': True, 'message': ''}, 'part-05': {'available_points': 6, 'points': 6, 'did_pass': True, 'message': ''}}, 'assignment_name': 'problem-set-02'}\n"
     ]
    }
   ],
   "source": [
    "# DO NOT CHANGE THE CODE IN THIS CELL\n",
    "part_name = \"part-05\"\n",
    "did_pass = True\n",
    "available_points = 6\n",
    "message = \"\"\n",
    "\n",
    "try:\n",
    "    tc.assertAlmostEqual(amount_mean, 12.777356156398204)\n",
    "    tc.assertAlmostEqual(amount_median, 8.89)\n",
    "    tc.assertAlmostEqual(amount_max, 1062.28)\n",
    "except Exception as err:\n",
    "    did_pass = False\n",
    "    message = err\n",
    "    \n",
    "    if not is_autograder_env:\n",
    "        raise err\n",
    "finally:\n",
    "    if is_autograder_env:\n",
    "        record_part(part_name, did_pass, available_points, message)"
   ]
  },
  {
   "cell_type": "markdown",
   "metadata": {},
   "source": [
    "---\n",
    "\n",
    "### 📌 Load customer profiles\n",
    "\n",
    "We want to go further with the purchase data analysis by looking at the customers. Unfortunately, the information we currently have about the customers in each purchase is limited. We only have their unique IDs (e.g., `02c083884c7d45b39cc68e1314fec56c`, `9fa9ae8f57894cc9a3b8a9bbe0fc1b2f`).\n",
    "\n",
    "In the next few steps, you'll read the customer profiles data and link them to `df_transactions` using `member_id`.\n",
    "\n",
    "▶️ Run the code cell below to read the customer profiles data into `df_profiles`."
   ]
  },
  {
   "cell_type": "code",
   "execution_count": 19,
   "metadata": {},
   "outputs": [
    {
     "data": {
      "text/html": [
       "<div>\n",
       "<style scoped>\n",
       "    .dataframe tbody tr th:only-of-type {\n",
       "        vertical-align: middle;\n",
       "    }\n",
       "\n",
       "    .dataframe tbody tr th {\n",
       "        vertical-align: top;\n",
       "    }\n",
       "\n",
       "    .dataframe thead th {\n",
       "        text-align: right;\n",
       "    }\n",
       "</style>\n",
       "<table border=\"1\" class=\"dataframe\">\n",
       "  <thead>\n",
       "    <tr style=\"text-align: right;\">\n",
       "      <th></th>\n",
       "      <th>member_id</th>\n",
       "      <th>gender</th>\n",
       "      <th>age</th>\n",
       "      <th>became_member_on</th>\n",
       "      <th>income</th>\n",
       "    </tr>\n",
       "  </thead>\n",
       "  <tbody>\n",
       "    <tr>\n",
       "      <th>0</th>\n",
       "      <td>68be06ca386d4c31939f3a4f0e3dd783</td>\n",
       "      <td>NaN</td>\n",
       "      <td>NaN</td>\n",
       "      <td>2017-02-12</td>\n",
       "      <td>NaN</td>\n",
       "    </tr>\n",
       "    <tr>\n",
       "      <th>1</th>\n",
       "      <td>0610b486422d4921ae7d2bf64640c50b</td>\n",
       "      <td>F</td>\n",
       "      <td>55.0</td>\n",
       "      <td>2017-07-15</td>\n",
       "      <td>112000.0</td>\n",
       "    </tr>\n",
       "    <tr>\n",
       "      <th>2</th>\n",
       "      <td>38fe809add3b4fcf9315a9694bb96ff5</td>\n",
       "      <td>NaN</td>\n",
       "      <td>NaN</td>\n",
       "      <td>2018-07-12</td>\n",
       "      <td>NaN</td>\n",
       "    </tr>\n",
       "    <tr>\n",
       "      <th>3</th>\n",
       "      <td>78afa995795e4d85b5d9ceeca43f5fef</td>\n",
       "      <td>F</td>\n",
       "      <td>75.0</td>\n",
       "      <td>2017-05-09</td>\n",
       "      <td>100000.0</td>\n",
       "    </tr>\n",
       "    <tr>\n",
       "      <th>4</th>\n",
       "      <td>a03223e636434f42ac4c3df47e8bac43</td>\n",
       "      <td>NaN</td>\n",
       "      <td>NaN</td>\n",
       "      <td>2017-08-04</td>\n",
       "      <td>NaN</td>\n",
       "    </tr>\n",
       "    <tr>\n",
       "      <th>5</th>\n",
       "      <td>e2127556f4f64592b11af22de27a7932</td>\n",
       "      <td>M</td>\n",
       "      <td>68.0</td>\n",
       "      <td>2018-04-26</td>\n",
       "      <td>70000.0</td>\n",
       "    </tr>\n",
       "    <tr>\n",
       "      <th>6</th>\n",
       "      <td>8ec6ce2a7e7949b1bf142def7d0e0586</td>\n",
       "      <td>NaN</td>\n",
       "      <td>NaN</td>\n",
       "      <td>2017-09-25</td>\n",
       "      <td>NaN</td>\n",
       "    </tr>\n",
       "    <tr>\n",
       "      <th>7</th>\n",
       "      <td>68617ca6246f4fbc85e91a2a49552598</td>\n",
       "      <td>NaN</td>\n",
       "      <td>NaN</td>\n",
       "      <td>2017-10-02</td>\n",
       "      <td>NaN</td>\n",
       "    </tr>\n",
       "    <tr>\n",
       "      <th>8</th>\n",
       "      <td>389bc3fa690240e798340f5a15918d5c</td>\n",
       "      <td>M</td>\n",
       "      <td>65.0</td>\n",
       "      <td>2018-02-09</td>\n",
       "      <td>53000.0</td>\n",
       "    </tr>\n",
       "    <tr>\n",
       "      <th>9</th>\n",
       "      <td>8974fc5686fe429db53ddde067b88302</td>\n",
       "      <td>NaN</td>\n",
       "      <td>NaN</td>\n",
       "      <td>2016-11-22</td>\n",
       "      <td>NaN</td>\n",
       "    </tr>\n",
       "  </tbody>\n",
       "</table>\n",
       "</div>"
      ],
      "text/plain": [
       "                          member_id gender   age became_member_on    income\n",
       "0  68be06ca386d4c31939f3a4f0e3dd783    NaN   NaN       2017-02-12       NaN\n",
       "1  0610b486422d4921ae7d2bf64640c50b      F  55.0       2017-07-15  112000.0\n",
       "2  38fe809add3b4fcf9315a9694bb96ff5    NaN   NaN       2018-07-12       NaN\n",
       "3  78afa995795e4d85b5d9ceeca43f5fef      F  75.0       2017-05-09  100000.0\n",
       "4  a03223e636434f42ac4c3df47e8bac43    NaN   NaN       2017-08-04       NaN\n",
       "5  e2127556f4f64592b11af22de27a7932      M  68.0       2018-04-26   70000.0\n",
       "6  8ec6ce2a7e7949b1bf142def7d0e0586    NaN   NaN       2017-09-25       NaN\n",
       "7  68617ca6246f4fbc85e91a2a49552598    NaN   NaN       2017-10-02       NaN\n",
       "8  389bc3fa690240e798340f5a15918d5c      M  65.0       2018-02-09   53000.0\n",
       "9  8974fc5686fe429db53ddde067b88302    NaN   NaN       2016-11-22       NaN"
      ]
     },
     "execution_count": 19,
     "metadata": {},
     "output_type": "execute_result"
    }
   ],
   "source": [
    "# DO NOT CHANGE THE CODE IN THIS CELL\n",
    "df_profiles = pd.read_csv('https://github.com/bdi475/datasets/raw/main/starbucks-rewards/profile.csv')\n",
    "\n",
    "# Used for intermediate checks\n",
    "df_profiles_backup = df_profiles.copy()\n",
    "\n",
    "# Print first 10 rows\n",
    "df_profiles.head(10)"
   ]
  },
  {
   "cell_type": "markdown",
   "metadata": {
    "id": "LI33A8-jem7m"
   },
   "source": [
    "The table below describes the columns in `df_profiles`.\n",
    "\n",
    "| Field | Description |\n",
    "|---|---|\n",
    "| member_id | Unique identifier for each Starbucks app member |\n",
    "| gender | Gender (NaN if unknown) |\n",
    "| age | Age (NaN if unknown) |\n",
    "| became_member_on | Sign-up date |\n",
    "| income | Annual income (NaN if unknown) |"
   ]
  },
  {
   "cell_type": "markdown",
   "metadata": {},
   "source": [
    "---\n",
    "\n",
    "### 🎯 Part 6: Find the number of rows with missing gender value\n",
    "\n",
    "#### 👇 Tasks\n",
    "\n",
    "- ✔️ Find the number of rows where the value in the `gender` column is missing (`NaN`).\n",
    "- ✔️ Store the count to a new variable named `num_missing`.\n",
    "\n",
    "#### 🚀 Hints\n",
    "\n",
    "1. `df[\"my_column\"].isna()` returns a Series of boolean values where rows with missing values return `True`.\n",
    "2. `my_boolean_series.sum()` returns the number of `True` values in a boolean Series.\n",
    "\n",
    "#### 🔑 Expected Output\n",
    "\n",
    "`There are 2175 rows where the gender value is missing.`"
   ]
  },
  {
   "cell_type": "code",
   "execution_count": 20,
   "metadata": {},
   "outputs": [
    {
     "name": "stdout",
     "output_type": "stream",
     "text": [
      "There are 2175 rows where the gender value is missing.\n"
     ]
    }
   ],
   "source": [
    "# YOUR CODE BEGINS\n",
    "num_missing = df_profiles[\"gender\"].isna().sum()\n",
    "# YOUR CODE ENDS\n",
    "\n",
    "print(f'There are {num_missing} rows where the gender value is missing.')"
   ]
  },
  {
   "cell_type": "markdown",
   "metadata": {
    "id": "EdrK-mBsem7r"
   },
   "source": [
    "#### 🧭 Check Your Work\n",
    "\n",
    "- Once you're done, run the code cell below to test correctness.\n",
    "- ✔️ If the code cell runs without an error, you're good to move on.\n",
    "- ❌ If the code cell throws an error, go back and fix any incorrect parts."
   ]
  },
  {
   "cell_type": "code",
   "execution_count": 21,
   "metadata": {},
   "outputs": [
    {
     "name": "stdout",
     "output_type": "stream",
     "text": [
      "{'netid': 'grader_netid', 'order': ['part-01', 'part-02', 'part-03', 'part-04', 'part-05', 'part-06'], 'student_score': 24, 'total_available': 24, 'breakdown': {'part-01': {'available_points': 2, 'points': 2, 'did_pass': True, 'message': ''}, 'part-02': {'available_points': 2, 'points': 2, 'did_pass': True, 'message': ''}, 'part-03': {'available_points': 4, 'points': 4, 'did_pass': True, 'message': ''}, 'part-04': {'available_points': 6, 'points': 6, 'did_pass': True, 'message': ''}, 'part-05': {'available_points': 6, 'points': 6, 'did_pass': True, 'message': ''}, 'part-06': {'available_points': 4, 'points': 4, 'did_pass': True, 'message': ''}}, 'assignment_name': 'problem-set-02'}\n"
     ]
    }
   ],
   "source": [
    "# DO NOT CHANGE THE CODE IN THIS CELL\n",
    "part_name = \"part-06\"\n",
    "did_pass = True\n",
    "available_points = 4\n",
    "message = \"\"\n",
    "\n",
    "try:\n",
    "    tc.assertEqual(num_missing, 2175)\n",
    "except Exception as err:\n",
    "    did_pass = False\n",
    "    message = err\n",
    "    \n",
    "    if not is_autograder_env:\n",
    "        raise err\n",
    "finally:\n",
    "    if is_autograder_env:\n",
    "        record_part(part_name, did_pass, available_points, message)"
   ]
  },
  {
   "cell_type": "markdown",
   "metadata": {},
   "source": [
    "---\n",
    "\n",
    "### 🎯 Part 7: Remove rows with missing values\n",
    "\n",
    "#### 👇 Tasks\n",
    "\n",
    "- ✔️ Update `df_profiles` so that it only contains rows where `gender` is NOT missing.\n",
    "\n",
    "#### 🚀 Hints\n",
    "\n",
    "```python\n",
    "df = df[df['some_column'].notna()]\n",
    "```\n",
    "\n",
    "#### 🔑 Expected Output\n",
    "\n",
    "|  | member_id | gender | age | became_member_on | income |\n",
    "|---:|---:|---:|---:|---:|---:|\n",
    "| 1 | 0610b486422d4921ae7d2bf64640c50b | F | 55.0 | 2017-07-15 | 112000.0 |\n",
    "| 3 | 78afa995795e4d85b5d9ceeca43f5fef | F | 75.0 | 2017-05-09 | 100000.0 |\n",
    "| 5 | e2127556f4f64592b11af22de27a7932 | M | 68.0 | 2018-04-26 | 70000.0 |\n",
    "| 8 | 389bc3fa690240e798340f5a15918d5c | M | 65.0 | 2018-02-09 | 53000.0 |\n",
    "| 12 | 2eeac8d8feae4a8cad5a6af0499a211d | M | 58.0 | 2017-11-11 | 51000.0 |"
   ]
  },
  {
   "cell_type": "code",
   "execution_count": 22,
   "metadata": {},
   "outputs": [
    {
     "data": {
      "text/html": [
       "<div>\n",
       "<style scoped>\n",
       "    .dataframe tbody tr th:only-of-type {\n",
       "        vertical-align: middle;\n",
       "    }\n",
       "\n",
       "    .dataframe tbody tr th {\n",
       "        vertical-align: top;\n",
       "    }\n",
       "\n",
       "    .dataframe thead th {\n",
       "        text-align: right;\n",
       "    }\n",
       "</style>\n",
       "<table border=\"1\" class=\"dataframe\">\n",
       "  <thead>\n",
       "    <tr style=\"text-align: right;\">\n",
       "      <th></th>\n",
       "      <th>member_id</th>\n",
       "      <th>gender</th>\n",
       "      <th>age</th>\n",
       "      <th>became_member_on</th>\n",
       "      <th>income</th>\n",
       "    </tr>\n",
       "  </thead>\n",
       "  <tbody>\n",
       "    <tr>\n",
       "      <th>1</th>\n",
       "      <td>0610b486422d4921ae7d2bf64640c50b</td>\n",
       "      <td>F</td>\n",
       "      <td>55.0</td>\n",
       "      <td>2017-07-15</td>\n",
       "      <td>112000.0</td>\n",
       "    </tr>\n",
       "    <tr>\n",
       "      <th>3</th>\n",
       "      <td>78afa995795e4d85b5d9ceeca43f5fef</td>\n",
       "      <td>F</td>\n",
       "      <td>75.0</td>\n",
       "      <td>2017-05-09</td>\n",
       "      <td>100000.0</td>\n",
       "    </tr>\n",
       "    <tr>\n",
       "      <th>5</th>\n",
       "      <td>e2127556f4f64592b11af22de27a7932</td>\n",
       "      <td>M</td>\n",
       "      <td>68.0</td>\n",
       "      <td>2018-04-26</td>\n",
       "      <td>70000.0</td>\n",
       "    </tr>\n",
       "    <tr>\n",
       "      <th>8</th>\n",
       "      <td>389bc3fa690240e798340f5a15918d5c</td>\n",
       "      <td>M</td>\n",
       "      <td>65.0</td>\n",
       "      <td>2018-02-09</td>\n",
       "      <td>53000.0</td>\n",
       "    </tr>\n",
       "    <tr>\n",
       "      <th>12</th>\n",
       "      <td>2eeac8d8feae4a8cad5a6af0499a211d</td>\n",
       "      <td>M</td>\n",
       "      <td>58.0</td>\n",
       "      <td>2017-11-11</td>\n",
       "      <td>51000.0</td>\n",
       "    </tr>\n",
       "  </tbody>\n",
       "</table>\n",
       "</div>"
      ],
      "text/plain": [
       "                           member_id gender   age became_member_on    income\n",
       "1   0610b486422d4921ae7d2bf64640c50b      F  55.0       2017-07-15  112000.0\n",
       "3   78afa995795e4d85b5d9ceeca43f5fef      F  75.0       2017-05-09  100000.0\n",
       "5   e2127556f4f64592b11af22de27a7932      M  68.0       2018-04-26   70000.0\n",
       "8   389bc3fa690240e798340f5a15918d5c      M  65.0       2018-02-09   53000.0\n",
       "12  2eeac8d8feae4a8cad5a6af0499a211d      M  58.0       2017-11-11   51000.0"
      ]
     },
     "execution_count": 22,
     "metadata": {},
     "output_type": "execute_result"
    }
   ],
   "source": [
    "# YOUR CODE BEGINS\n",
    "df_profiles = df_profiles[df_profiles['gender'].notna()]\n",
    "# YOUR CODE ENDS\n",
    "\n",
    "df_profiles.head(5)"
   ]
  },
  {
   "cell_type": "markdown",
   "metadata": {
    "id": "EdrK-mBsem7r"
   },
   "source": [
    "#### 🧭 Check Your Work\n",
    "\n",
    "- Once you're done, run the code cell below to test correctness.\n",
    "- ✔️ If the code cell runs without an error, you're good to move on.\n",
    "- ❌ If the code cell throws an error, go back and fix any incorrect parts."
   ]
  },
  {
   "cell_type": "code",
   "execution_count": 23,
   "metadata": {},
   "outputs": [
    {
     "name": "stdout",
     "output_type": "stream",
     "text": [
      "{'netid': 'grader_netid', 'order': ['part-01', 'part-02', 'part-03', 'part-04', 'part-05', 'part-06', 'part-07'], 'student_score': 30, 'total_available': 30, 'breakdown': {'part-01': {'available_points': 2, 'points': 2, 'did_pass': True, 'message': ''}, 'part-02': {'available_points': 2, 'points': 2, 'did_pass': True, 'message': ''}, 'part-03': {'available_points': 4, 'points': 4, 'did_pass': True, 'message': ''}, 'part-04': {'available_points': 6, 'points': 6, 'did_pass': True, 'message': ''}, 'part-05': {'available_points': 6, 'points': 6, 'did_pass': True, 'message': ''}, 'part-06': {'available_points': 4, 'points': 4, 'did_pass': True, 'message': ''}, 'part-07': {'available_points': 6, 'points': 6, 'did_pass': True, 'message': ''}}, 'assignment_name': 'problem-set-02'}\n"
     ]
    }
   ],
   "source": [
    "# DO NOT CHANGE THE CODE IN THIS CELL\n",
    "part_name = \"part-07\"\n",
    "did_pass = True\n",
    "available_points = 6\n",
    "message = \"\"\n",
    "\n",
    "df_check = df_profiles_backup.query('gender == gender')\n",
    "\n",
    "try:\n",
    "    # Check result\n",
    "    pd.testing.assert_frame_equal(df_profiles.sort_values(df_profiles.columns.to_list()).reset_index(drop=True),\n",
    "                                  df_check.sort_values(df_check.columns.tolist()).reset_index(drop=True))\n",
    "\n",
    "except Exception as err:\n",
    "    did_pass = False\n",
    "    message = err\n",
    "    \n",
    "    if not is_autograder_env:\n",
    "        raise err\n",
    "finally:\n",
    "    if is_autograder_env:\n",
    "        record_part(part_name, did_pass, available_points, message)"
   ]
  },
  {
   "cell_type": "markdown",
   "metadata": {},
   "source": [
    "---\n",
    "\n",
    "### 🎯 Part 8: Merge profiles into transactions\n",
    "\n",
    "▶️ Run the code below to:\n",
    "1. Convert `age` and `income` columns in `df_profiles` to integer types (from float types).\n",
    "2. Print out the first three rows of `df_transactions` and `df_profiles`."
   ]
  },
  {
   "cell_type": "code",
   "execution_count": 24,
   "metadata": {},
   "outputs": [
    {
     "data": {
      "text/html": [
       "<div>\n",
       "<style scoped>\n",
       "    .dataframe tbody tr th:only-of-type {\n",
       "        vertical-align: middle;\n",
       "    }\n",
       "\n",
       "    .dataframe tbody tr th {\n",
       "        vertical-align: top;\n",
       "    }\n",
       "\n",
       "    .dataframe thead th {\n",
       "        text-align: right;\n",
       "    }\n",
       "</style>\n",
       "<table border=\"1\" class=\"dataframe\">\n",
       "  <thead>\n",
       "    <tr style=\"text-align: right;\">\n",
       "      <th></th>\n",
       "      <th>member_id</th>\n",
       "      <th>amount</th>\n",
       "    </tr>\n",
       "  </thead>\n",
       "  <tbody>\n",
       "    <tr>\n",
       "      <th>12654</th>\n",
       "      <td>02c083884c7d45b39cc68e1314fec56c</td>\n",
       "      <td>0.83</td>\n",
       "    </tr>\n",
       "    <tr>\n",
       "      <th>12657</th>\n",
       "      <td>9fa9ae8f57894cc9a3b8a9bbe0fc1b2f</td>\n",
       "      <td>34.56</td>\n",
       "    </tr>\n",
       "    <tr>\n",
       "      <th>12659</th>\n",
       "      <td>54890f68699049c2a04d415abc25e717</td>\n",
       "      <td>13.23</td>\n",
       "    </tr>\n",
       "  </tbody>\n",
       "</table>\n",
       "</div>"
      ],
      "text/plain": [
       "                              member_id  amount\n",
       "12654  02c083884c7d45b39cc68e1314fec56c    0.83\n",
       "12657  9fa9ae8f57894cc9a3b8a9bbe0fc1b2f   34.56\n",
       "12659  54890f68699049c2a04d415abc25e717   13.23"
      ]
     },
     "metadata": {},
     "output_type": "display_data"
    },
    {
     "data": {
      "text/html": [
       "<div>\n",
       "<style scoped>\n",
       "    .dataframe tbody tr th:only-of-type {\n",
       "        vertical-align: middle;\n",
       "    }\n",
       "\n",
       "    .dataframe tbody tr th {\n",
       "        vertical-align: top;\n",
       "    }\n",
       "\n",
       "    .dataframe thead th {\n",
       "        text-align: right;\n",
       "    }\n",
       "</style>\n",
       "<table border=\"1\" class=\"dataframe\">\n",
       "  <thead>\n",
       "    <tr style=\"text-align: right;\">\n",
       "      <th></th>\n",
       "      <th>member_id</th>\n",
       "      <th>gender</th>\n",
       "      <th>age</th>\n",
       "      <th>became_member_on</th>\n",
       "      <th>income</th>\n",
       "    </tr>\n",
       "  </thead>\n",
       "  <tbody>\n",
       "    <tr>\n",
       "      <th>1</th>\n",
       "      <td>0610b486422d4921ae7d2bf64640c50b</td>\n",
       "      <td>F</td>\n",
       "      <td>55</td>\n",
       "      <td>2017-07-15</td>\n",
       "      <td>112000</td>\n",
       "    </tr>\n",
       "    <tr>\n",
       "      <th>3</th>\n",
       "      <td>78afa995795e4d85b5d9ceeca43f5fef</td>\n",
       "      <td>F</td>\n",
       "      <td>75</td>\n",
       "      <td>2017-05-09</td>\n",
       "      <td>100000</td>\n",
       "    </tr>\n",
       "    <tr>\n",
       "      <th>5</th>\n",
       "      <td>e2127556f4f64592b11af22de27a7932</td>\n",
       "      <td>M</td>\n",
       "      <td>68</td>\n",
       "      <td>2018-04-26</td>\n",
       "      <td>70000</td>\n",
       "    </tr>\n",
       "  </tbody>\n",
       "</table>\n",
       "</div>"
      ],
      "text/plain": [
       "                          member_id gender  age became_member_on  income\n",
       "1  0610b486422d4921ae7d2bf64640c50b      F   55       2017-07-15  112000\n",
       "3  78afa995795e4d85b5d9ceeca43f5fef      F   75       2017-05-09  100000\n",
       "5  e2127556f4f64592b11af22de27a7932      M   68       2018-04-26   70000"
      ]
     },
     "metadata": {},
     "output_type": "display_data"
    }
   ],
   "source": [
    "# Convert age and income to int64 types\n",
    "df_profiles['age'] = df_profiles['age'].astype(np.int64)\n",
    "df_profiles['income'] = df_profiles['income'].astype(np.int64)\n",
    "\n",
    "display(df_transactions.head(3))\n",
    "display(df_profiles.head(3))"
   ]
  },
  {
   "cell_type": "markdown",
   "metadata": {},
   "source": [
    "#### 👇 Tasks\n",
    "\n",
    "- ✔️ Merge `df_transactions` and `df_profiles` using an **inner** join type.\n",
    "    - By using an inner join, we are intentionally removing transactions made by customers with missing gender information.\n",
    "    - Don't worry about the different types of joins yet. Google \"pandas types of joins\" if you'd like to find out more.\n",
    "- ✔️ Place `df_transactions` on the \"left\" side.\n",
    "- ✔️ Store the merged DataFrame to `df_merged`.\n",
    "\n",
    "#### 🚀 Hints\n",
    "\n",
    "```python\n",
    "my_merged_dataframe = pd.merge(\n",
    "    left=left_dataframe,\n",
    "    right=right_dataframe,\n",
    "    on='shared_key_column',\n",
    "    how='inner'\n",
    ")\n",
    "```\n",
    "\n",
    "#### 🔑 Expected Output\n",
    "\n",
    "|  | member_id | amount | gender | age | became_member_on | income |\n",
    "|---:|---:|---:|---:|---:|---:|---:|\n",
    "| 0 | 02c083884c7d45b39cc68e1314fec56c | 0.83 | F | 20 | 2016-07-11 | 30000 |\n",
    "| 1 | 02c083884c7d45b39cc68e1314fec56c | 1.44 | F | 20 | 2016-07-11 | 30000 |\n",
    "| 2 | 02c083884c7d45b39cc68e1314fec56c | 4.56 | F | 20 | 2016-07-11 | 30000 |\n",
    "| 3 | 02c083884c7d45b39cc68e1314fec56c | 1.53 | F | 20 | 2016-07-11 | 30000 |\n",
    "| 4 | 02c083884c7d45b39cc68e1314fec56c | 0.50 | F | 20 | 2016-07-11 | 30000 |"
   ]
  },
  {
   "cell_type": "code",
   "execution_count": 25,
   "metadata": {},
   "outputs": [
    {
     "data": {
      "text/html": [
       "<div>\n",
       "<style scoped>\n",
       "    .dataframe tbody tr th:only-of-type {\n",
       "        vertical-align: middle;\n",
       "    }\n",
       "\n",
       "    .dataframe tbody tr th {\n",
       "        vertical-align: top;\n",
       "    }\n",
       "\n",
       "    .dataframe thead th {\n",
       "        text-align: right;\n",
       "    }\n",
       "</style>\n",
       "<table border=\"1\" class=\"dataframe\">\n",
       "  <thead>\n",
       "    <tr style=\"text-align: right;\">\n",
       "      <th></th>\n",
       "      <th>member_id</th>\n",
       "      <th>amount</th>\n",
       "      <th>gender</th>\n",
       "      <th>age</th>\n",
       "      <th>became_member_on</th>\n",
       "      <th>income</th>\n",
       "    </tr>\n",
       "  </thead>\n",
       "  <tbody>\n",
       "    <tr>\n",
       "      <th>0</th>\n",
       "      <td>02c083884c7d45b39cc68e1314fec56c</td>\n",
       "      <td>0.83</td>\n",
       "      <td>F</td>\n",
       "      <td>20</td>\n",
       "      <td>2016-07-11</td>\n",
       "      <td>30000</td>\n",
       "    </tr>\n",
       "    <tr>\n",
       "      <th>1</th>\n",
       "      <td>02c083884c7d45b39cc68e1314fec56c</td>\n",
       "      <td>1.44</td>\n",
       "      <td>F</td>\n",
       "      <td>20</td>\n",
       "      <td>2016-07-11</td>\n",
       "      <td>30000</td>\n",
       "    </tr>\n",
       "    <tr>\n",
       "      <th>2</th>\n",
       "      <td>02c083884c7d45b39cc68e1314fec56c</td>\n",
       "      <td>4.56</td>\n",
       "      <td>F</td>\n",
       "      <td>20</td>\n",
       "      <td>2016-07-11</td>\n",
       "      <td>30000</td>\n",
       "    </tr>\n",
       "    <tr>\n",
       "      <th>3</th>\n",
       "      <td>02c083884c7d45b39cc68e1314fec56c</td>\n",
       "      <td>1.53</td>\n",
       "      <td>F</td>\n",
       "      <td>20</td>\n",
       "      <td>2016-07-11</td>\n",
       "      <td>30000</td>\n",
       "    </tr>\n",
       "    <tr>\n",
       "      <th>4</th>\n",
       "      <td>02c083884c7d45b39cc68e1314fec56c</td>\n",
       "      <td>0.50</td>\n",
       "      <td>F</td>\n",
       "      <td>20</td>\n",
       "      <td>2016-07-11</td>\n",
       "      <td>30000</td>\n",
       "    </tr>\n",
       "  </tbody>\n",
       "</table>\n",
       "</div>"
      ],
      "text/plain": [
       "                          member_id  amount gender  age became_member_on  \\\n",
       "0  02c083884c7d45b39cc68e1314fec56c    0.83      F   20       2016-07-11   \n",
       "1  02c083884c7d45b39cc68e1314fec56c    1.44      F   20       2016-07-11   \n",
       "2  02c083884c7d45b39cc68e1314fec56c    4.56      F   20       2016-07-11   \n",
       "3  02c083884c7d45b39cc68e1314fec56c    1.53      F   20       2016-07-11   \n",
       "4  02c083884c7d45b39cc68e1314fec56c    0.50      F   20       2016-07-11   \n",
       "\n",
       "   income  \n",
       "0   30000  \n",
       "1   30000  \n",
       "2   30000  \n",
       "3   30000  \n",
       "4   30000  "
      ]
     },
     "execution_count": 25,
     "metadata": {},
     "output_type": "execute_result"
    }
   ],
   "source": [
    "# YOUR CODE BEGINS\n",
    "df_merged = pd.merge(\n",
    "    left=df_transactions,\n",
    "    right=df_profiles,\n",
    "    on='member_id',\n",
    "    how='inner'\n",
    ")\n",
    "# YOUR CODE ENDS\n",
    "\n",
    "df_merged.head(5)"
   ]
  },
  {
   "cell_type": "markdown",
   "metadata": {
    "id": "EdrK-mBsem7r"
   },
   "source": [
    "#### 🧭 Check Your Work\n",
    "\n",
    "- Once you're done, run the code cell below to test correctness.\n",
    "- ✔️ If the code cell runs without an error, you're good to move on.\n",
    "- ❌ If the code cell throws an error, go back and fix any incorrect parts."
   ]
  },
  {
   "cell_type": "code",
   "execution_count": 26,
   "metadata": {},
   "outputs": [
    {
     "name": "stdout",
     "output_type": "stream",
     "text": [
      "{'netid': 'grader_netid', 'order': ['part-01', 'part-02', 'part-03', 'part-04', 'part-05', 'part-06', 'part-07', 'part-08'], 'student_score': 38, 'total_available': 38, 'breakdown': {'part-01': {'available_points': 2, 'points': 2, 'did_pass': True, 'message': ''}, 'part-02': {'available_points': 2, 'points': 2, 'did_pass': True, 'message': ''}, 'part-03': {'available_points': 4, 'points': 4, 'did_pass': True, 'message': ''}, 'part-04': {'available_points': 6, 'points': 6, 'did_pass': True, 'message': ''}, 'part-05': {'available_points': 6, 'points': 6, 'did_pass': True, 'message': ''}, 'part-06': {'available_points': 4, 'points': 4, 'did_pass': True, 'message': ''}, 'part-07': {'available_points': 6, 'points': 6, 'did_pass': True, 'message': ''}, 'part-08': {'available_points': 8, 'points': 8, 'did_pass': True, 'message': ''}}, 'assignment_name': 'problem-set-02'}\n"
     ]
    }
   ],
   "source": [
    "# DO NOT CHANGE THE CODE IN THIS CELL\n",
    "part_name = \"part-08\"\n",
    "did_pass = True\n",
    "available_points = 8\n",
    "message = \"\"\n",
    "\n",
    "df_check = df_transcript_backup.query('event == \"transaction\"').merge(\n",
    "    df_profiles_backup.query('gender == gender'),\n",
    "    on='member_id',\n",
    "    how='inner'\n",
    ").drop(columns=['event', 'time', 'offer_id'])\n",
    "df_check['age'] = df_check['age'].astype(np.int64)\n",
    "df_check['income'] = df_check['income'].astype(np.int64)\n",
    "df_merged_backup = df_check.copy()\n",
    "\n",
    "try:\n",
    "    # Check result\n",
    "    pd.testing.assert_frame_equal(df_merged.sort_values(df_merged.columns.to_list()).reset_index(drop=True),\n",
    "                                  df_check.sort_values(df_check.columns.tolist()).reset_index(drop=True))\n",
    "\n",
    "except Exception as err:\n",
    "    did_pass = False\n",
    "    message = err\n",
    "    \n",
    "    if not is_autograder_env:\n",
    "        raise err\n",
    "finally:\n",
    "    if is_autograder_env:\n",
    "        record_part(part_name, did_pass, available_points, message)"
   ]
  },
  {
   "cell_type": "markdown",
   "metadata": {},
   "source": [
    "---\n",
    "\n",
    "### 🎯 Part 9: Average transaction amount by gender\n",
    "\n",
    "#### 👇 Tasks\n",
    "\n",
    "- ✔️ Using `df_merged`, find the average transaction amount by gender.\n",
    "- ✔️ Store the summary DataFrame to `df_mean_by_gender`.\n",
    "- ✔️ `df_mean_by_gender` should have two non-index columns.\n",
    "    - `df_mean_by_gender.columns.to_list()` should print out `['gender', 'amount']`.\n",
    "- ✔️ `df_merged` should remain unaltered.\n",
    "\n",
    "#### 🚀 Hints\n",
    "\n",
    "```python\n",
    "my_result = df.groupby('some_column', as_index=False).agg({\n",
    "      'another_column': np.mean\n",
    "})\n",
    "```\n",
    "\n",
    "#### 🔑 Expected Output\n",
    "\n",
    "|  | gender | amount |\n",
    "|---:|---:|---|\n",
    "| 0 | F | 17.490077 |\n",
    "| 1 | M | 11.606600 |\n",
    "| 2 | O | 14.798731 |"
   ]
  },
  {
   "cell_type": "code",
   "execution_count": 27,
   "metadata": {},
   "outputs": [
    {
     "data": {
      "text/html": [
       "<div>\n",
       "<style scoped>\n",
       "    .dataframe tbody tr th:only-of-type {\n",
       "        vertical-align: middle;\n",
       "    }\n",
       "\n",
       "    .dataframe tbody tr th {\n",
       "        vertical-align: top;\n",
       "    }\n",
       "\n",
       "    .dataframe thead th {\n",
       "        text-align: right;\n",
       "    }\n",
       "</style>\n",
       "<table border=\"1\" class=\"dataframe\">\n",
       "  <thead>\n",
       "    <tr style=\"text-align: right;\">\n",
       "      <th></th>\n",
       "      <th>gender</th>\n",
       "      <th>amount</th>\n",
       "    </tr>\n",
       "  </thead>\n",
       "  <tbody>\n",
       "    <tr>\n",
       "      <th>0</th>\n",
       "      <td>F</td>\n",
       "      <td>17.490077</td>\n",
       "    </tr>\n",
       "    <tr>\n",
       "      <th>1</th>\n",
       "      <td>M</td>\n",
       "      <td>11.606600</td>\n",
       "    </tr>\n",
       "    <tr>\n",
       "      <th>2</th>\n",
       "      <td>O</td>\n",
       "      <td>14.798731</td>\n",
       "    </tr>\n",
       "  </tbody>\n",
       "</table>\n",
       "</div>"
      ],
      "text/plain": [
       "  gender     amount\n",
       "0      F  17.490077\n",
       "1      M  11.606600\n",
       "2      O  14.798731"
      ]
     },
     "execution_count": 27,
     "metadata": {},
     "output_type": "execute_result"
    }
   ],
   "source": [
    "# YOUR CODE BEGINS\n",
    "df_mean_by_gender = df_merged.groupby('gender', as_index=False).agg({\n",
    "      'amount': np.mean\n",
    "})\n",
    "# YOUR CODE ENDS\n",
    "\n",
    "df_mean_by_gender"
   ]
  },
  {
   "cell_type": "markdown",
   "metadata": {
    "id": "EdrK-mBsem7r"
   },
   "source": [
    "#### 🧭 Check Your Work\n",
    "\n",
    "- Once you're done, run the code cell below to test correctness.\n",
    "- ✔️ If the code cell runs without an error, you're good to move on.\n",
    "- ❌ If the code cell throws an error, go back and fix any incorrect parts."
   ]
  },
  {
   "cell_type": "code",
   "execution_count": 28,
   "metadata": {},
   "outputs": [
    {
     "name": "stdout",
     "output_type": "stream",
     "text": [
      "{'netid': 'grader_netid', 'order': ['part-01', 'part-02', 'part-03', 'part-04', 'part-05', 'part-06', 'part-07', 'part-08', 'part-09'], 'student_score': 44, 'total_available': 44, 'breakdown': {'part-01': {'available_points': 2, 'points': 2, 'did_pass': True, 'message': ''}, 'part-02': {'available_points': 2, 'points': 2, 'did_pass': True, 'message': ''}, 'part-03': {'available_points': 4, 'points': 4, 'did_pass': True, 'message': ''}, 'part-04': {'available_points': 6, 'points': 6, 'did_pass': True, 'message': ''}, 'part-05': {'available_points': 6, 'points': 6, 'did_pass': True, 'message': ''}, 'part-06': {'available_points': 4, 'points': 4, 'did_pass': True, 'message': ''}, 'part-07': {'available_points': 6, 'points': 6, 'did_pass': True, 'message': ''}, 'part-08': {'available_points': 8, 'points': 8, 'did_pass': True, 'message': ''}, 'part-09': {'available_points': 6, 'points': 6, 'did_pass': True, 'message': ''}}, 'assignment_name': 'problem-set-02'}\n"
     ]
    }
   ],
   "source": [
    "# DO NOT CHANGE THE CODE IN THIS CELL\n",
    "part_name = \"part-09\"\n",
    "did_pass = True\n",
    "available_points = 6\n",
    "message = \"\"\n",
    "\n",
    "df_check = pd.DataFrame({'gender': {0: 'F', 1: 'M', 2: 'O'},\n",
    " 'amount': {0: 17.490077356121578,\n",
    "  1: 11.606600269252956,\n",
    "  2: 14.798731049971932}})\n",
    "\n",
    "try:\n",
    "    # Check result\n",
    "    pd.testing.assert_frame_equal(df_mean_by_gender.sort_values(df_mean_by_gender.columns.to_list()).reset_index(drop=True),\n",
    "                                  df_check.sort_values(df_check.columns.tolist()).reset_index(drop=True))\n",
    "\n",
    "except Exception as err:\n",
    "    did_pass = False\n",
    "    message = err\n",
    "    \n",
    "    if not is_autograder_env:\n",
    "        raise err\n",
    "finally:\n",
    "    if is_autograder_env:\n",
    "        record_part(part_name, did_pass, available_points, message)"
   ]
  },
  {
   "cell_type": "markdown",
   "metadata": {},
   "source": [
    "---\n",
    "\n",
    "### 🎯 Part 10: Create age groups\n",
    "\n",
    "Next, you would like to find out the average transaction amount by different age groups(e.g., 10-20, 20-30, 30-40, etc). In order to perform that analysis, we'll create a new column containing the age group information.\n",
    "\n",
    "A fully-working code is given to you since we haven't learned `pd.cut()` in class. 🦊 `pd.cut()` converts a numerical values into a set of categorical values.\n",
    "\n",
    "#### 👇 Tasks\n",
    "\n",
    "- ✔️ Copy and run the code below.\n",
    "\n",
    "![create age bin](https://github.com/bdi475/images/blob/b76f071ac2ecb2136805ea83eb3ee7daa4e253c0/problem-sets/starbucks-app-customers/create-age-bin-01.png?raw=true)"
   ]
  },
  {
   "cell_type": "code",
   "execution_count": 29,
   "metadata": {},
   "outputs": [
    {
     "data": {
      "text/html": [
       "<div>\n",
       "<style scoped>\n",
       "    .dataframe tbody tr th:only-of-type {\n",
       "        vertical-align: middle;\n",
       "    }\n",
       "\n",
       "    .dataframe tbody tr th {\n",
       "        vertical-align: top;\n",
       "    }\n",
       "\n",
       "    .dataframe thead th {\n",
       "        text-align: right;\n",
       "    }\n",
       "</style>\n",
       "<table border=\"1\" class=\"dataframe\">\n",
       "  <thead>\n",
       "    <tr style=\"text-align: right;\">\n",
       "      <th></th>\n",
       "      <th>member_id</th>\n",
       "      <th>amount</th>\n",
       "      <th>gender</th>\n",
       "      <th>age</th>\n",
       "      <th>became_member_on</th>\n",
       "      <th>income</th>\n",
       "      <th>age_group</th>\n",
       "    </tr>\n",
       "  </thead>\n",
       "  <tbody>\n",
       "    <tr>\n",
       "      <th>0</th>\n",
       "      <td>02c083884c7d45b39cc68e1314fec56c</td>\n",
       "      <td>0.83</td>\n",
       "      <td>F</td>\n",
       "      <td>20</td>\n",
       "      <td>2016-07-11</td>\n",
       "      <td>30000</td>\n",
       "      <td>10-20</td>\n",
       "    </tr>\n",
       "    <tr>\n",
       "      <th>1</th>\n",
       "      <td>02c083884c7d45b39cc68e1314fec56c</td>\n",
       "      <td>1.44</td>\n",
       "      <td>F</td>\n",
       "      <td>20</td>\n",
       "      <td>2016-07-11</td>\n",
       "      <td>30000</td>\n",
       "      <td>10-20</td>\n",
       "    </tr>\n",
       "    <tr>\n",
       "      <th>2</th>\n",
       "      <td>02c083884c7d45b39cc68e1314fec56c</td>\n",
       "      <td>4.56</td>\n",
       "      <td>F</td>\n",
       "      <td>20</td>\n",
       "      <td>2016-07-11</td>\n",
       "      <td>30000</td>\n",
       "      <td>10-20</td>\n",
       "    </tr>\n",
       "    <tr>\n",
       "      <th>3</th>\n",
       "      <td>02c083884c7d45b39cc68e1314fec56c</td>\n",
       "      <td>1.53</td>\n",
       "      <td>F</td>\n",
       "      <td>20</td>\n",
       "      <td>2016-07-11</td>\n",
       "      <td>30000</td>\n",
       "      <td>10-20</td>\n",
       "    </tr>\n",
       "    <tr>\n",
       "      <th>4</th>\n",
       "      <td>02c083884c7d45b39cc68e1314fec56c</td>\n",
       "      <td>0.50</td>\n",
       "      <td>F</td>\n",
       "      <td>20</td>\n",
       "      <td>2016-07-11</td>\n",
       "      <td>30000</td>\n",
       "      <td>10-20</td>\n",
       "    </tr>\n",
       "  </tbody>\n",
       "</table>\n",
       "</div>"
      ],
      "text/plain": [
       "                          member_id  amount gender  age became_member_on  \\\n",
       "0  02c083884c7d45b39cc68e1314fec56c    0.83      F   20       2016-07-11   \n",
       "1  02c083884c7d45b39cc68e1314fec56c    1.44      F   20       2016-07-11   \n",
       "2  02c083884c7d45b39cc68e1314fec56c    4.56      F   20       2016-07-11   \n",
       "3  02c083884c7d45b39cc68e1314fec56c    1.53      F   20       2016-07-11   \n",
       "4  02c083884c7d45b39cc68e1314fec56c    0.50      F   20       2016-07-11   \n",
       "\n",
       "   income age_group  \n",
       "0   30000     10-20  \n",
       "1   30000     10-20  \n",
       "2   30000     10-20  \n",
       "3   30000     10-20  \n",
       "4   30000     10-20  "
      ]
     },
     "execution_count": 29,
     "metadata": {},
     "output_type": "execute_result"
    }
   ],
   "source": [
    "# YOUR CODE BEGINS\n",
    "df_merged['age_group'] = pd.cut(\n",
    "    df_merged['age'],\n",
    "    bins=[10, 20, 30, 40, 50, 999],\n",
    "    labels=['10-20', '20-30', '30-40', '40-50', '50>']\n",
    ")\n",
    "\n",
    "df_merged.head(5)\n",
    "# YOUR CODE ENDS"
   ]
  },
  {
   "cell_type": "markdown",
   "metadata": {},
   "source": [
    "#### 🔑 Expected Output\n",
    "\n",
    "|  | member_id | amount | gender | age | became_member_on | income | age_group |\n",
    "|---:|---:|---:|---:|---:|---:|---:|---:|\n",
    "| 0 | 02c083884c7d45b39cc68e1314fec56c | 0.83 | F | 20 | 2016-07-11 | 30000 | 10-20 |\n",
    "| 1 | 02c083884c7d45b39cc68e1314fec56c | 1.44 | F | 20 | 2016-07-11 | 30000 | 10-20 |\n",
    "| 2 | 02c083884c7d45b39cc68e1314fec56c | 4.56 | F | 20 | 2016-07-11 | 30000 | 10-20 |\n",
    "| 3 | 02c083884c7d45b39cc68e1314fec56c | 1.53 | F | 20 | 2016-07-11 | 30000 | 10-20 |\n",
    "| 4 | 02c083884c7d45b39cc68e1314fec56c | 0.50 | F | 20 | 2016-07-11 | 30000 | 10-20 |"
   ]
  },
  {
   "cell_type": "markdown",
   "metadata": {
    "id": "EdrK-mBsem7r"
   },
   "source": [
    "#### 🧭 Check Your Work\n",
    "\n",
    "- Once you're done, run the code cell below to test correctness.\n",
    "- ✔️ If the code cell runs without an error, you're good to move on.\n",
    "- ❌ If the code cell throws an error, go back and fix any incorrect parts."
   ]
  },
  {
   "cell_type": "code",
   "execution_count": 30,
   "metadata": {},
   "outputs": [
    {
     "name": "stdout",
     "output_type": "stream",
     "text": [
      "{'netid': 'grader_netid', 'order': ['part-01', 'part-02', 'part-03', 'part-04', 'part-05', 'part-06', 'part-07', 'part-08', 'part-09', 'part-10'], 'student_score': 50, 'total_available': 50, 'breakdown': {'part-01': {'available_points': 2, 'points': 2, 'did_pass': True, 'message': ''}, 'part-02': {'available_points': 2, 'points': 2, 'did_pass': True, 'message': ''}, 'part-03': {'available_points': 4, 'points': 4, 'did_pass': True, 'message': ''}, 'part-04': {'available_points': 6, 'points': 6, 'did_pass': True, 'message': ''}, 'part-05': {'available_points': 6, 'points': 6, 'did_pass': True, 'message': ''}, 'part-06': {'available_points': 4, 'points': 4, 'did_pass': True, 'message': ''}, 'part-07': {'available_points': 6, 'points': 6, 'did_pass': True, 'message': ''}, 'part-08': {'available_points': 8, 'points': 8, 'did_pass': True, 'message': ''}, 'part-09': {'available_points': 6, 'points': 6, 'did_pass': True, 'message': ''}, 'part-10': {'available_points': 6, 'points': 6, 'did_pass': True, 'message': ''}}, 'assignment_name': 'problem-set-02'}\n"
     ]
    }
   ],
   "source": [
    "# DO NOT CHANGE THE CODE IN THIS CELL\n",
    "part_name = \"part-10\"\n",
    "did_pass = True\n",
    "available_points = 6\n",
    "message = \"\"\n",
    "\n",
    "df_check = df_merged.copy()\n",
    "age_groups = ['50>', '40-50', '30-40', '20-30', '10-20']\n",
    "age_groups.reverse()\n",
    "df_check['age_group'] = pd.cut(\n",
    "    df_check['AGE'.lower()],\n",
    "    bins=[x * 10 for x in [1, 2, 3, 4, 5]] + [1000],\n",
    "    labels=age_groups\n",
    ")\n",
    "\n",
    "try:\n",
    "    # Check result\n",
    "    pd.testing.assert_frame_equal(df_merged.sort_values(df_merged.columns.to_list()).reset_index(drop=True),\n",
    "                                  df_check.sort_values(df_check.columns.tolist()).reset_index(drop=True))\n",
    "\n",
    "except Exception as err:\n",
    "    did_pass = False\n",
    "    message = err\n",
    "    \n",
    "    if not is_autograder_env:\n",
    "        raise err\n",
    "finally:\n",
    "    if is_autograder_env:\n",
    "        record_part(part_name, did_pass, available_points, message)"
   ]
  },
  {
   "cell_type": "markdown",
   "metadata": {},
   "source": [
    "---\n",
    "\n",
    "### 🎯 Part 11: Average transaction amount by age group\n",
    "\n",
    "#### 👇 Tasks\n",
    "\n",
    "- ✔️ Using `df_merged`, find the average transaction amount by age group (`age_group` column).\n",
    "- ✔️ Store the summary DataFrame to `df_mean_by_age_group`.\n",
    "- ✔️ `df_mean_by_age_group` should contain two non-index columns.\n",
    "    - `df_mean_by_age_group.columns.to_list()` should print out `['age_group', 'amount']`.\n",
    "- ✔️ `df_merged` should remain unaltered.\n",
    "\n",
    "#### 🔑 Expected Output\n",
    "\n",
    "|    | age_group   |   amount |\n",
    "|---:|:------------|---------:|\n",
    "|  0 | 10-20       |  7.48039 |\n",
    "|  1 | 20-30       |  8.40717 |\n",
    "|  2 | 30-40       | 10.252   |\n",
    "|  3 | 40-50       | 13.4737  |\n",
    "|  4 | 50>         | 16.4099  |"
   ]
  },
  {
   "cell_type": "code",
   "execution_count": 31,
   "metadata": {},
   "outputs": [
    {
     "data": {
      "text/html": [
       "<div>\n",
       "<style scoped>\n",
       "    .dataframe tbody tr th:only-of-type {\n",
       "        vertical-align: middle;\n",
       "    }\n",
       "\n",
       "    .dataframe tbody tr th {\n",
       "        vertical-align: top;\n",
       "    }\n",
       "\n",
       "    .dataframe thead th {\n",
       "        text-align: right;\n",
       "    }\n",
       "</style>\n",
       "<table border=\"1\" class=\"dataframe\">\n",
       "  <thead>\n",
       "    <tr style=\"text-align: right;\">\n",
       "      <th></th>\n",
       "      <th>age_group</th>\n",
       "      <th>amount</th>\n",
       "    </tr>\n",
       "  </thead>\n",
       "  <tbody>\n",
       "    <tr>\n",
       "      <th>0</th>\n",
       "      <td>10-20</td>\n",
       "      <td>7.480393</td>\n",
       "    </tr>\n",
       "    <tr>\n",
       "      <th>1</th>\n",
       "      <td>20-30</td>\n",
       "      <td>8.407166</td>\n",
       "    </tr>\n",
       "    <tr>\n",
       "      <th>2</th>\n",
       "      <td>30-40</td>\n",
       "      <td>10.251975</td>\n",
       "    </tr>\n",
       "    <tr>\n",
       "      <th>3</th>\n",
       "      <td>40-50</td>\n",
       "      <td>13.473675</td>\n",
       "    </tr>\n",
       "    <tr>\n",
       "      <th>4</th>\n",
       "      <td>50&gt;</td>\n",
       "      <td>16.409890</td>\n",
       "    </tr>\n",
       "  </tbody>\n",
       "</table>\n",
       "</div>"
      ],
      "text/plain": [
       "  age_group     amount\n",
       "0     10-20   7.480393\n",
       "1     20-30   8.407166\n",
       "2     30-40  10.251975\n",
       "3     40-50  13.473675\n",
       "4       50>  16.409890"
      ]
     },
     "execution_count": 31,
     "metadata": {},
     "output_type": "execute_result"
    }
   ],
   "source": [
    "# YOUR CODE BEGINS\n",
    "df_mean_by_age_group = df_merged.groupby('age_group', as_index=False).agg({\n",
    "      'amount': np.mean\n",
    "})\n",
    "# YOUR CODE ENDS\n",
    "\n",
    "df_mean_by_age_group"
   ]
  },
  {
   "cell_type": "markdown",
   "metadata": {
    "id": "EdrK-mBsem7r"
   },
   "source": [
    "#### 🧭 Check Your Work\n",
    "\n",
    "- Once you're done, run the code cell below to test correctness.\n",
    "- ✔️ If the code cell runs without an error, you're good to move on.\n",
    "- ❌ If the code cell throws an error, go back and fix any incorrect parts."
   ]
  },
  {
   "cell_type": "code",
   "execution_count": 32,
   "metadata": {},
   "outputs": [
    {
     "name": "stdout",
     "output_type": "stream",
     "text": [
      "{'netid': 'grader_netid', 'order': ['part-01', 'part-02', 'part-03', 'part-04', 'part-05', 'part-06', 'part-07', 'part-08', 'part-09', 'part-10', 'part-11'], 'student_score': 58, 'total_available': 58, 'breakdown': {'part-01': {'available_points': 2, 'points': 2, 'did_pass': True, 'message': ''}, 'part-02': {'available_points': 2, 'points': 2, 'did_pass': True, 'message': ''}, 'part-03': {'available_points': 4, 'points': 4, 'did_pass': True, 'message': ''}, 'part-04': {'available_points': 6, 'points': 6, 'did_pass': True, 'message': ''}, 'part-05': {'available_points': 6, 'points': 6, 'did_pass': True, 'message': ''}, 'part-06': {'available_points': 4, 'points': 4, 'did_pass': True, 'message': ''}, 'part-07': {'available_points': 6, 'points': 6, 'did_pass': True, 'message': ''}, 'part-08': {'available_points': 8, 'points': 8, 'did_pass': True, 'message': ''}, 'part-09': {'available_points': 6, 'points': 6, 'did_pass': True, 'message': ''}, 'part-10': {'available_points': 6, 'points': 6, 'did_pass': True, 'message': ''}, 'part-11': {'available_points': 8, 'points': 8, 'did_pass': True, 'message': ''}}, 'assignment_name': 'problem-set-02'}\n"
     ]
    }
   ],
   "source": [
    "# DO NOT CHANGE THE CODE IN THIS CELL\n",
    "part_name = \"part-11\"\n",
    "did_pass = True\n",
    "available_points = 8\n",
    "message = \"\"\n",
    "\n",
    "df_check = pd.DataFrame({'age_group': {0: '10-20', 1: '20-30', 2: '30-40', 3: '40-50', 4: '50>'},\n",
    " 'amount': {0: 7.4803926701570775,\n",
    "  1: 8.407165820643007,\n",
    "  2: 10.251975269699113,\n",
    "  3: 13.473675454312783,\n",
    "  4: 16.40988963903655}})\n",
    "\n",
    "try:\n",
    "    df_mean_by_age_group_copy = df_mean_by_age_group.copy()\n",
    "    df_mean_by_age_group_copy['age_group'] = df_mean_by_age_group_copy['age_group'].astype(str)\n",
    "\n",
    "    # Check result\n",
    "    pd.testing.assert_frame_equal(df_mean_by_age_group_copy.sort_values(df_mean_by_age_group_copy.columns.to_list()).reset_index(drop=True),\n",
    "                                  df_check.sort_values(df_check.columns.tolist()).reset_index(drop=True))\n",
    "\n",
    "except Exception as err:\n",
    "    did_pass = False\n",
    "    message = err\n",
    "    \n",
    "    if not is_autograder_env:\n",
    "        raise err\n",
    "finally:\n",
    "    if is_autograder_env:\n",
    "        record_part(part_name, did_pass, available_points, message)"
   ]
  },
  {
   "cell_type": "markdown",
   "metadata": {},
   "source": [
    "---\n",
    "\n",
    "### 🎯 Part 12: Create income range groups\n",
    "\n",
    "We're going to repeat the previous method on customers' income.\n",
    "\n",
    "#### 👇 Tasks\n",
    "\n",
    "- ✔️ Copy and run the code below.\n",
    "\n",
    "![create age bin](https://github.com/bdi475/images/blob/b76f071ac2ecb2136805ea83eb3ee7daa4e253c0/problem-sets/starbucks-app-customers/create-income-group-01.png?raw=true)"
   ]
  },
  {
   "cell_type": "code",
   "execution_count": 33,
   "metadata": {},
   "outputs": [
    {
     "data": {
      "text/html": [
       "<div>\n",
       "<style scoped>\n",
       "    .dataframe tbody tr th:only-of-type {\n",
       "        vertical-align: middle;\n",
       "    }\n",
       "\n",
       "    .dataframe tbody tr th {\n",
       "        vertical-align: top;\n",
       "    }\n",
       "\n",
       "    .dataframe thead th {\n",
       "        text-align: right;\n",
       "    }\n",
       "</style>\n",
       "<table border=\"1\" class=\"dataframe\">\n",
       "  <thead>\n",
       "    <tr style=\"text-align: right;\">\n",
       "      <th></th>\n",
       "      <th>member_id</th>\n",
       "      <th>amount</th>\n",
       "      <th>gender</th>\n",
       "      <th>age</th>\n",
       "      <th>became_member_on</th>\n",
       "      <th>income</th>\n",
       "      <th>age_group</th>\n",
       "      <th>income_group</th>\n",
       "    </tr>\n",
       "  </thead>\n",
       "  <tbody>\n",
       "    <tr>\n",
       "      <th>0</th>\n",
       "      <td>02c083884c7d45b39cc68e1314fec56c</td>\n",
       "      <td>0.83</td>\n",
       "      <td>F</td>\n",
       "      <td>20</td>\n",
       "      <td>2016-07-11</td>\n",
       "      <td>30000</td>\n",
       "      <td>10-20</td>\n",
       "      <td>&lt;40k</td>\n",
       "    </tr>\n",
       "    <tr>\n",
       "      <th>1</th>\n",
       "      <td>02c083884c7d45b39cc68e1314fec56c</td>\n",
       "      <td>1.44</td>\n",
       "      <td>F</td>\n",
       "      <td>20</td>\n",
       "      <td>2016-07-11</td>\n",
       "      <td>30000</td>\n",
       "      <td>10-20</td>\n",
       "      <td>&lt;40k</td>\n",
       "    </tr>\n",
       "    <tr>\n",
       "      <th>2</th>\n",
       "      <td>02c083884c7d45b39cc68e1314fec56c</td>\n",
       "      <td>4.56</td>\n",
       "      <td>F</td>\n",
       "      <td>20</td>\n",
       "      <td>2016-07-11</td>\n",
       "      <td>30000</td>\n",
       "      <td>10-20</td>\n",
       "      <td>&lt;40k</td>\n",
       "    </tr>\n",
       "    <tr>\n",
       "      <th>3</th>\n",
       "      <td>02c083884c7d45b39cc68e1314fec56c</td>\n",
       "      <td>1.53</td>\n",
       "      <td>F</td>\n",
       "      <td>20</td>\n",
       "      <td>2016-07-11</td>\n",
       "      <td>30000</td>\n",
       "      <td>10-20</td>\n",
       "      <td>&lt;40k</td>\n",
       "    </tr>\n",
       "    <tr>\n",
       "      <th>4</th>\n",
       "      <td>02c083884c7d45b39cc68e1314fec56c</td>\n",
       "      <td>0.50</td>\n",
       "      <td>F</td>\n",
       "      <td>20</td>\n",
       "      <td>2016-07-11</td>\n",
       "      <td>30000</td>\n",
       "      <td>10-20</td>\n",
       "      <td>&lt;40k</td>\n",
       "    </tr>\n",
       "  </tbody>\n",
       "</table>\n",
       "</div>"
      ],
      "text/plain": [
       "                          member_id  amount gender  age became_member_on  \\\n",
       "0  02c083884c7d45b39cc68e1314fec56c    0.83      F   20       2016-07-11   \n",
       "1  02c083884c7d45b39cc68e1314fec56c    1.44      F   20       2016-07-11   \n",
       "2  02c083884c7d45b39cc68e1314fec56c    4.56      F   20       2016-07-11   \n",
       "3  02c083884c7d45b39cc68e1314fec56c    1.53      F   20       2016-07-11   \n",
       "4  02c083884c7d45b39cc68e1314fec56c    0.50      F   20       2016-07-11   \n",
       "\n",
       "   income age_group income_group  \n",
       "0   30000     10-20         <40k  \n",
       "1   30000     10-20         <40k  \n",
       "2   30000     10-20         <40k  \n",
       "3   30000     10-20         <40k  \n",
       "4   30000     10-20         <40k  "
      ]
     },
     "execution_count": 33,
     "metadata": {},
     "output_type": "execute_result"
    }
   ],
   "source": [
    "# YOUR CODE BEGINS\n",
    "df_merged['income_group'] = pd.cut(\n",
    "    df_merged['income'],\n",
    "    bins=[0, 40000, 60000, 80000, 100000, 999999],\n",
    "    labels=['<40k', '40k-60k', '60k-80k', '80k-100k', '>100k']\n",
    ")\n",
    "\n",
    "df_merged.head(5)\n",
    "# YOUR CODE ENDS"
   ]
  },
  {
   "cell_type": "markdown",
   "metadata": {},
   "source": [
    "#### 🔑 Expected Output\n",
    "\n",
    "|    | member_id                        |   amount | gender   |   age | became_member_on   |   income | age_group   | income_group   |\n",
    "|---:|:---------------------------------|---------:|:---------|------:|:-------------------|---------:|:------------|:---------------|\n",
    "|  0 | 02c083884c7d45b39cc68e1314fec56c |     0.83 | F        |    20 | 2016-07-11         |    30000 | 10-20       | <40k           |\n",
    "|  1 | 02c083884c7d45b39cc68e1314fec56c |     1.44 | F        |    20 | 2016-07-11         |    30000 | 10-20       | <40k           |\n",
    "|  2 | 02c083884c7d45b39cc68e1314fec56c |     4.56 | F        |    20 | 2016-07-11         |    30000 | 10-20       | <40k           |\n",
    "|  3 | 02c083884c7d45b39cc68e1314fec56c |     1.53 | F        |    20 | 2016-07-11         |    30000 | 10-20       | <40k           |\n",
    "|  4 | 02c083884c7d45b39cc68e1314fec56c |     0.5  | F        |    20 | 2016-07-11         |    30000 | 10-20       | <40k           |"
   ]
  },
  {
   "cell_type": "markdown",
   "metadata": {
    "id": "EdrK-mBsem7r"
   },
   "source": [
    "#### 🧭 Check Your Work\n",
    "\n",
    "- Once you're done, run the code cell below to test correctness.\n",
    "- ✔️ If the code cell runs without an error, you're good to move on.\n",
    "- ❌ If the code cell throws an error, go back and fix any incorrect parts."
   ]
  },
  {
   "cell_type": "code",
   "execution_count": 34,
   "metadata": {},
   "outputs": [
    {
     "name": "stdout",
     "output_type": "stream",
     "text": [
      "{'netid': 'grader_netid', 'order': ['part-01', 'part-02', 'part-03', 'part-04', 'part-05', 'part-06', 'part-07', 'part-08', 'part-09', 'part-10', 'part-11', 'part-12'], 'student_score': 62, 'total_available': 62, 'breakdown': {'part-01': {'available_points': 2, 'points': 2, 'did_pass': True, 'message': ''}, 'part-02': {'available_points': 2, 'points': 2, 'did_pass': True, 'message': ''}, 'part-03': {'available_points': 4, 'points': 4, 'did_pass': True, 'message': ''}, 'part-04': {'available_points': 6, 'points': 6, 'did_pass': True, 'message': ''}, 'part-05': {'available_points': 6, 'points': 6, 'did_pass': True, 'message': ''}, 'part-06': {'available_points': 4, 'points': 4, 'did_pass': True, 'message': ''}, 'part-07': {'available_points': 6, 'points': 6, 'did_pass': True, 'message': ''}, 'part-08': {'available_points': 8, 'points': 8, 'did_pass': True, 'message': ''}, 'part-09': {'available_points': 6, 'points': 6, 'did_pass': True, 'message': ''}, 'part-10': {'available_points': 6, 'points': 6, 'did_pass': True, 'message': ''}, 'part-11': {'available_points': 8, 'points': 8, 'did_pass': True, 'message': ''}, 'part-12': {'available_points': 4, 'points': 4, 'did_pass': True, 'message': ''}}, 'assignment_name': 'problem-set-02'}\n"
     ]
    }
   ],
   "source": [
    "# DO NOT CHANGE THE CODE IN THIS CELL\n",
    "part_name = \"part-12\"\n",
    "did_pass = True\n",
    "available_points = 4\n",
    "message = \"\"\n",
    "\n",
    "df_check = df_merged.copy()\n",
    "income_groups = ['>100k', '80k-100k', '60k-80k', '40k-60k', '<40k']\n",
    "income_groups.reverse()\n",
    "df_check['income_group'] = pd.cut(\n",
    "    df_check['INCOME'.lower()],\n",
    "    bins=[x * 10000 for x in [0, 4, 6, 8, 10]] + [999999],\n",
    "    labels=income_groups\n",
    ")\n",
    "\n",
    "\n",
    "try:\n",
    "    # Check result\n",
    "    pd.testing.assert_frame_equal(df_merged.sort_values(df_merged.columns.to_list()).reset_index(drop=True),\n",
    "                                  df_check.sort_values(df_check.columns.tolist()).reset_index(drop=True))\n",
    "\n",
    "except Exception as err:\n",
    "    did_pass = False\n",
    "    message = err\n",
    "    \n",
    "    if not is_autograder_env:\n",
    "        raise err\n",
    "finally:\n",
    "    if is_autograder_env:\n",
    "        record_part(part_name, did_pass, available_points, message)"
   ]
  },
  {
   "cell_type": "markdown",
   "metadata": {},
   "source": [
    "---\n",
    "\n",
    "### 🎯 Part 13: Average transaction amount by income group\n",
    "\n",
    "#### 👇 Tasks\n",
    "\n",
    "- ✔️ Using `df_merged`, find the average transaction amount by income group (`income_group` column).\n",
    "- ✔️ Store the summary DataFrame to `df_mean_by_income_group`.\n",
    "- ✔️ `df_mean_by_income_group` should contain two non-index columns.\n",
    "    - `df_mean_by_income_group.columns.to_list()` should print out `['income_group', 'amount']`.\n",
    "- ✔️ `df_merged` should remain unaltered.\n",
    "\n",
    "#### 🔑 Expected Output\n",
    "\n",
    "|    | income_group   |   amount |\n",
    "|---:|:---------------|---------:|\n",
    "|  0 | <40k           |  6.19841 |\n",
    "|  1 | 40k-60k        |  9.3538  |\n",
    "|  2 | 60k-80k        | 15.1868  |\n",
    "|  3 | 80k-100k       | 27.4484  |\n",
    "|  4 | >100k          | 30.897   |"
   ]
  },
  {
   "cell_type": "code",
   "execution_count": 35,
   "metadata": {},
   "outputs": [
    {
     "data": {
      "text/html": [
       "<div>\n",
       "<style scoped>\n",
       "    .dataframe tbody tr th:only-of-type {\n",
       "        vertical-align: middle;\n",
       "    }\n",
       "\n",
       "    .dataframe tbody tr th {\n",
       "        vertical-align: top;\n",
       "    }\n",
       "\n",
       "    .dataframe thead th {\n",
       "        text-align: right;\n",
       "    }\n",
       "</style>\n",
       "<table border=\"1\" class=\"dataframe\">\n",
       "  <thead>\n",
       "    <tr style=\"text-align: right;\">\n",
       "      <th></th>\n",
       "      <th>income_group</th>\n",
       "      <th>amount</th>\n",
       "    </tr>\n",
       "  </thead>\n",
       "  <tbody>\n",
       "    <tr>\n",
       "      <th>0</th>\n",
       "      <td>&lt;40k</td>\n",
       "      <td>6.198411</td>\n",
       "    </tr>\n",
       "    <tr>\n",
       "      <th>1</th>\n",
       "      <td>40k-60k</td>\n",
       "      <td>9.353796</td>\n",
       "    </tr>\n",
       "    <tr>\n",
       "      <th>2</th>\n",
       "      <td>60k-80k</td>\n",
       "      <td>15.186843</td>\n",
       "    </tr>\n",
       "    <tr>\n",
       "      <th>3</th>\n",
       "      <td>80k-100k</td>\n",
       "      <td>27.448400</td>\n",
       "    </tr>\n",
       "    <tr>\n",
       "      <th>4</th>\n",
       "      <td>&gt;100k</td>\n",
       "      <td>30.897049</td>\n",
       "    </tr>\n",
       "  </tbody>\n",
       "</table>\n",
       "</div>"
      ],
      "text/plain": [
       "  income_group     amount\n",
       "0         <40k   6.198411\n",
       "1      40k-60k   9.353796\n",
       "2      60k-80k  15.186843\n",
       "3     80k-100k  27.448400\n",
       "4        >100k  30.897049"
      ]
     },
     "execution_count": 35,
     "metadata": {},
     "output_type": "execute_result"
    }
   ],
   "source": [
    "# YOUR CODE BEGINS\n",
    "df_mean_by_income_group = df_merged.groupby('income_group', as_index=False).agg({\n",
    "      'amount': np.mean\n",
    "})\n",
    "# YOUR CODE ENDS\n",
    "\n",
    "df_mean_by_income_group"
   ]
  },
  {
   "cell_type": "markdown",
   "metadata": {
    "id": "EdrK-mBsem7r"
   },
   "source": [
    "#### 🧭 Check Your Work\n",
    "\n",
    "- Once you're done, run the code cell below to test correctness.\n",
    "- ✔️ If the code cell runs without an error, you're good to move on.\n",
    "- ❌ If the code cell throws an error, go back and fix any incorrect parts."
   ]
  },
  {
   "cell_type": "code",
   "execution_count": 36,
   "metadata": {},
   "outputs": [
    {
     "name": "stdout",
     "output_type": "stream",
     "text": [
      "{'netid': 'grader_netid', 'order': ['part-01', 'part-02', 'part-03', 'part-04', 'part-05', 'part-06', 'part-07', 'part-08', 'part-09', 'part-10', 'part-11', 'part-12', 'part-13'], 'student_score': 68, 'total_available': 68, 'breakdown': {'part-01': {'available_points': 2, 'points': 2, 'did_pass': True, 'message': ''}, 'part-02': {'available_points': 2, 'points': 2, 'did_pass': True, 'message': ''}, 'part-03': {'available_points': 4, 'points': 4, 'did_pass': True, 'message': ''}, 'part-04': {'available_points': 6, 'points': 6, 'did_pass': True, 'message': ''}, 'part-05': {'available_points': 6, 'points': 6, 'did_pass': True, 'message': ''}, 'part-06': {'available_points': 4, 'points': 4, 'did_pass': True, 'message': ''}, 'part-07': {'available_points': 6, 'points': 6, 'did_pass': True, 'message': ''}, 'part-08': {'available_points': 8, 'points': 8, 'did_pass': True, 'message': ''}, 'part-09': {'available_points': 6, 'points': 6, 'did_pass': True, 'message': ''}, 'part-10': {'available_points': 6, 'points': 6, 'did_pass': True, 'message': ''}, 'part-11': {'available_points': 8, 'points': 8, 'did_pass': True, 'message': ''}, 'part-12': {'available_points': 4, 'points': 4, 'did_pass': True, 'message': ''}, 'part-13': {'available_points': 6, 'points': 6, 'did_pass': True, 'message': ''}}, 'assignment_name': 'problem-set-02'}\n"
     ]
    }
   ],
   "source": [
    "# DO NOT CHANGE THE CODE IN THIS CELL\n",
    "part_name = \"part-13\"\n",
    "did_pass = True\n",
    "available_points = 6\n",
    "message = \"\"\n",
    "\n",
    "df_check = pd.DataFrame({'income_group': {0: '<40k',\n",
    "  1: '40k-60k',\n",
    "  2: '60k-80k',\n",
    "  3: '80k-100k',\n",
    "  4: '>100k'},\n",
    " 'amount': {0: 6.198411429621467,\n",
    "  1: 9.353795970427743,\n",
    "  2: 15.186842961106798,\n",
    "  3: 27.44839995065385,\n",
    "  4: 30.897049126815634}})\n",
    "\n",
    "try:\n",
    "    df_mean_by_income_group_copy = df_mean_by_income_group.copy()\n",
    "    df_mean_by_income_group_copy['income_group'] = df_mean_by_income_group_copy['income_group'].astype(str)\n",
    "\n",
    "    # Check result\n",
    "    pd.testing.assert_frame_equal(df_mean_by_income_group_copy.sort_values(df_mean_by_income_group_copy.columns.to_list()).reset_index(drop=True),\n",
    "                                  df_check.sort_values(df_check.columns.tolist()).reset_index(drop=True))\n",
    "\n",
    "except Exception as err:\n",
    "    did_pass = False\n",
    "    message = err\n",
    "    \n",
    "    if not is_autograder_env:\n",
    "        raise err\n",
    "finally:\n",
    "    if is_autograder_env:\n",
    "        record_part(part_name, did_pass, available_points, message)"
   ]
  },
  {
   "cell_type": "markdown",
   "metadata": {},
   "source": [
    "---\n",
    "\n",
    "### 🎯 Part 14: Top 5 customers by total purchase amount\n",
    "\n",
    "This will be by far the most difficult task in this problem set! 🤡\n",
    "\n",
    "#### 👇 Tasks\n",
    "\n",
    "- ✔️ Using `df_merged`, find the top 5 customers with the largest total purchase amount.\n",
    "- ✔️ For each of the top 5 customers, list the member ID and total amount spent in a new DataFrame named `df_top5`.\n",
    "- ✔️ `df_top5` should contain two non-index columns.\n",
    "    - `df_top5.columns.to_list()` should print out `['member_id', 'amount']`.\n",
    "    \n",
    "#### 🔑 Expected Output\n",
    "\n",
    "|       | member_id                        |   amount |\n",
    "|------:|:---------------------------------|---------:|\n",
    "|  3427 | 3c8d541112a74af99e88abbd0692f00e |  1608.69 |\n",
    "| 13706 | f1d65ae63f174b8f80fa063adcaa63b7 |  1365.66 |\n",
    "|  9985 | ae6f43089b674728a50b8727252d3305 |  1327.74 |\n",
    "|  5574 | 626df8678e2a4953b9098246418c9cfa |  1321.42 |\n",
    "|  6551 | 73afdeca19e349b98f09e928644610f8 |  1319.97 |"
   ]
  },
  {
   "cell_type": "code",
   "execution_count": 37,
   "metadata": {},
   "outputs": [
    {
     "data": {
      "text/html": [
       "<div>\n",
       "<style scoped>\n",
       "    .dataframe tbody tr th:only-of-type {\n",
       "        vertical-align: middle;\n",
       "    }\n",
       "\n",
       "    .dataframe tbody tr th {\n",
       "        vertical-align: top;\n",
       "    }\n",
       "\n",
       "    .dataframe thead th {\n",
       "        text-align: right;\n",
       "    }\n",
       "</style>\n",
       "<table border=\"1\" class=\"dataframe\">\n",
       "  <thead>\n",
       "    <tr style=\"text-align: right;\">\n",
       "      <th></th>\n",
       "      <th>member_id</th>\n",
       "      <th>amount</th>\n",
       "    </tr>\n",
       "  </thead>\n",
       "  <tbody>\n",
       "    <tr>\n",
       "      <th>3427</th>\n",
       "      <td>3c8d541112a74af99e88abbd0692f00e</td>\n",
       "      <td>1608.69</td>\n",
       "    </tr>\n",
       "    <tr>\n",
       "      <th>13706</th>\n",
       "      <td>f1d65ae63f174b8f80fa063adcaa63b7</td>\n",
       "      <td>1365.66</td>\n",
       "    </tr>\n",
       "    <tr>\n",
       "      <th>9985</th>\n",
       "      <td>ae6f43089b674728a50b8727252d3305</td>\n",
       "      <td>1327.74</td>\n",
       "    </tr>\n",
       "    <tr>\n",
       "      <th>5574</th>\n",
       "      <td>626df8678e2a4953b9098246418c9cfa</td>\n",
       "      <td>1321.42</td>\n",
       "    </tr>\n",
       "    <tr>\n",
       "      <th>6551</th>\n",
       "      <td>73afdeca19e349b98f09e928644610f8</td>\n",
       "      <td>1319.97</td>\n",
       "    </tr>\n",
       "  </tbody>\n",
       "</table>\n",
       "</div>"
      ],
      "text/plain": [
       "                              member_id   amount\n",
       "3427   3c8d541112a74af99e88abbd0692f00e  1608.69\n",
       "13706  f1d65ae63f174b8f80fa063adcaa63b7  1365.66\n",
       "9985   ae6f43089b674728a50b8727252d3305  1327.74\n",
       "5574   626df8678e2a4953b9098246418c9cfa  1321.42\n",
       "6551   73afdeca19e349b98f09e928644610f8  1319.97"
      ]
     },
     "execution_count": 37,
     "metadata": {},
     "output_type": "execute_result"
    }
   ],
   "source": [
    "# YOUR CODE BEGINS\n",
    "df_top5 = df_merged.groupby('member_id', as_index=False).agg({\n",
    "    'amount': 'sum'\n",
    "}).sort_values('amount', ascending=False).head(5)\n",
    "# YOUR CODE ENDS\n",
    "\n",
    "df_top5"
   ]
  },
  {
   "cell_type": "markdown",
   "metadata": {
    "id": "EdrK-mBsem7r"
   },
   "source": [
    "#### 🧭 Check Your Work\n",
    "\n",
    "- Once you're done, run the code cell below to test correctness.\n",
    "- ✔️ If the code cell runs without an error, you're good to move on.\n",
    "- ❌ If the code cell throws an error, go back and fix any incorrect parts."
   ]
  },
  {
   "cell_type": "code",
   "execution_count": 38,
   "metadata": {},
   "outputs": [
    {
     "name": "stdout",
     "output_type": "stream",
     "text": [
      "{'netid': 'grader_netid', 'order': ['part-01', 'part-02', 'part-03', 'part-04', 'part-05', 'part-06', 'part-07', 'part-08', 'part-09', 'part-10', 'part-11', 'part-12', 'part-13', 'part-14'], 'student_score': 80, 'total_available': 80, 'breakdown': {'part-01': {'available_points': 2, 'points': 2, 'did_pass': True, 'message': ''}, 'part-02': {'available_points': 2, 'points': 2, 'did_pass': True, 'message': ''}, 'part-03': {'available_points': 4, 'points': 4, 'did_pass': True, 'message': ''}, 'part-04': {'available_points': 6, 'points': 6, 'did_pass': True, 'message': ''}, 'part-05': {'available_points': 6, 'points': 6, 'did_pass': True, 'message': ''}, 'part-06': {'available_points': 4, 'points': 4, 'did_pass': True, 'message': ''}, 'part-07': {'available_points': 6, 'points': 6, 'did_pass': True, 'message': ''}, 'part-08': {'available_points': 8, 'points': 8, 'did_pass': True, 'message': ''}, 'part-09': {'available_points': 6, 'points': 6, 'did_pass': True, 'message': ''}, 'part-10': {'available_points': 6, 'points': 6, 'did_pass': True, 'message': ''}, 'part-11': {'available_points': 8, 'points': 8, 'did_pass': True, 'message': ''}, 'part-12': {'available_points': 4, 'points': 4, 'did_pass': True, 'message': ''}, 'part-13': {'available_points': 6, 'points': 6, 'did_pass': True, 'message': ''}, 'part-14': {'available_points': 12, 'points': 12, 'did_pass': True, 'message': ''}}, 'assignment_name': 'problem-set-02'}\n"
     ]
    }
   ],
   "source": [
    "# DO NOT CHANGE THE CODE IN THIS CELL\n",
    "part_name = \"part-14\"\n",
    "did_pass = True\n",
    "available_points = 12\n",
    "message = \"\"\n",
    "\n",
    "df_check = pd.DataFrame({'member_id': {3427: '3c8d541112a74af99e88abbd0692f00e',\n",
    "  13706: 'f1d65ae63f174b8f80fa063adcaa63b7',\n",
    "  9985: 'ae6f43089b674728a50b8727252d3305',\n",
    "  5574: '626df8678e2a4953b9098246418c9cfa',\n",
    "  6551: '73afdeca19e349b98f09e928644610f8'},\n",
    " 'amount': {3427: 1608.69,\n",
    "  13706: 1365.6600000000003,\n",
    "  9985: 1327.7399999999998,\n",
    "  5574: 1321.42,\n",
    "  6551: 1319.97}})\n",
    "\n",
    "try:\n",
    "    # Check result\n",
    "    pd.testing.assert_frame_equal(df_top5.reset_index(drop=True),\n",
    "                                  df_check.reset_index(drop=True))\n",
    "\n",
    "except Exception as err:\n",
    "    did_pass = False\n",
    "    message = err\n",
    "    \n",
    "    if not is_autograder_env:\n",
    "        raise err\n",
    "finally:\n",
    "    if is_autograder_env:\n",
    "        record_part(part_name, did_pass, available_points, message)"
   ]
  },
  {
   "cell_type": "markdown",
   "metadata": {},
   "source": [
    "---\n",
    "\n",
    "## 🍸 Submitting your notebook\n"
   ]
  },
  {
   "cell_type": "markdown",
   "metadata": {},
   "source": [
    "There is one final step before exporting the notebook as an `.ipynb` file for submission. Restart your runtime (kernal) and run all cells from the beginning to ensure that your notebook does not contain any error.\n",
    "\n",
    "- Go to the **\"Runtime\"** (\"Kernel\" if you're on Jupyter Lab) menu on top.\n",
    "- Select **\"Restart and run all\"**.\n",
    "- Make sure no code cell throws an error.\n",
    "- Failing to pass this step may result in significant loss of points since the autograder will fail to run.<br /><br />\n",
    "\n",
    "![image.png](data:image/png;base64,iVBORw0KGgoAAAANSUhEUgAAATUAAAE8CAYAAAChECbMAAAgAElEQVR4Ae29bYhjV5rnmZ/n884uDEvV3t0l7wyYYPFugNkR/qJiDNFbw6g/ZOWHoi7yEEGhXmXCIhZHqQmwsjEVYH2oYFAkWykXuWiiF+uLrY1JI9qbCAdG6poNFUSnKtzZ6u0Mqx3lVNpdUjrDVsmu+C/Puffce+6LXkNvoXiuCevqvpyX/7n3l89zztF5rmHAdn5+Dv47H6ASn2YFWIFFUeCatyDXwP8No4BXN/7OCrACi6GADTVpjQ3zQvM112zrdTGakUvBCrACUgEX1L777jvbTnv8+DH4z6+BBDppRf8Q8MYKsAKLpYCAGr2c9JJ2u10baotVzMUpjYQaacVgW5x24ZKwAlIBG2rffvstOp0OQ00q0+NTQo20Is3YWushFB9mBeakgIDaH//4R2Glff311wy1AQ0hoUZakbVG2vHGCrACi6OADbU//OEPePHiBUNtQNtIqJFWpBlDbYBgfJoVmLEC12R/Gr2gX331FUNtQANIqJFWpBn3qw0QjE+zAjNWwAW158+fM9QGNICEGmnFUBsgFp9mBeaggA016vhmqA1uARVqpBlbaoM14ytYgVkqwFAbUe3FgloVKU1DqjpiJRbg8mbegGbk0VyAsnARlkuBsaAmHkhNg6b8rYQ3kCo1ZqBOE+VcDtX2DLIKyGIw1JrIG25tVJ1o38hP6lWeJdSsegUS1CzHKPViqAU8XHxoIgpcAGpJlNpttMVfE/VCEmFNR7w4WdpUUxo09UVqF5HQdSQmnM+wag6GGtCxdWmjXUpC01St2mh3hs1t0HUMtUEK8fmrp8AFoJaC1+uppnRoRmGiLoUPanNuo2Gg5ipiNQVN82vlumbsLwy1saXjG5dWgYlCrZYJOVBr5mFoBlyelucFN4FVRDVrYFUnl20FkVTJhKK4X3XjZFruF9l0Y7Io5OKIrFhpJItooIFiMmKmq6866SpN2a7mEI+sCDea3OdMebBbOEmoqfnrqxEk83W4jbg2qna9dKxGksjX1SvcWlDVGoUkIqv6SHVSJOmzO6r7qZZ9BeGNDFR53e6nVY98EcnIKnRNg75qDNUefQrMp66oAhODWruWg6HrMAoWGIaFmraCjVwNzXYbzVoWhuZ2Lf2WmvtFNvv3dBh2GlQODbq+hkRepmuWzeWy1jII6wZytaZwoZvVDCJ6GJla/ydhUlDrVLcR1sJIlhpm/lK/vOyX7KC6HYYWTqLUIDe/iVrOgK4bsC+BW4tOOSnOyzo1StQlEEFOJtm/agPOjga1WiYM3cih1jTLXs1EoIczkPIGQc2pawPl7Qj0iZV9QNX49FIpcAGoqVaUBk1ARLE0hoVasqRYJ20U4xr0bcexHQpqN/NQ31txj+tYB6Wkmq6Zz1qu7mrMckq9xnXK/jIZqJn5hzwE7ZQS0HTLVW0XEddCHsh2UEpo0O0+RjfUmgUD2loWTq3aqJfLqDVV686uyog7IwyAiLKvwS1vGSlNh2zaIKilymqRGshFNHjbSL2C91mBIAUuADWn87tZTELXNlBQxwiGhZr9gprF80LM+x0e68T9cihpeKYLuNOpYlu4ux4w02iupzxe0SYDNQtGrpcYgKqZ5ar7L1GnQrihhk4V22s6tJUwNpJZ5Mt1qE3ircto3y2oJUvW4JAcJKLPEpLqqG51W7iQ3lFf+i7ldbebpx5WwdxtNlpp+eqrq8AFoKZ2fpv/qoZVy0N9QaW+gX1qjlVGl3kfZO/3SUGN5nfFC6brZ47gWi/pAKNmoaFm6dxp1FDKb5v9heEEioO7CmUL9fkcwf0U7RxHQbjNKvzatlXOUOsjNZ+6kAITghpg9ufEYc+0EFC7qfT/CGK5RgL9wJoV1JooGBpCqar9kg2r4mSgNg33s41qfhvZkkqwOrJrk5oXNwLUmgUYWgipau9/IQKh5jJL2f0c9pnk69wKTAxqQF30gTjWWg2ZkIZwsoQGzdtqlLEdoVE5x8IbBmpiRDWSRa0t/5V3uyrul8OsnEi3r/sJdKop0VEvBxPazRpyG6uIDzBrJgM1yt87UJBHIqzDsEcBAgYK8gkxuGFf4nXFCwb0UBx5OfhhDT4ky73h4n4c+n0bAWrooJqiQY6Eqywbq3HbanS3m9mmemQbZXVQxDt63q94fI4VsBSYINSAdjEOXXestQ6NZirTC7IFGt0cDWpoFpGgfiLNgDmwOhmoUf2b5aw9pUNbiSCeqw7sg5oU1Cj/yU/p6KCed6Z00LSIyf3KYxSoCXVRzsppNhpWInHklJ+BBEEtmSu4pnRkleut55U/WIGBCowFtYGpLvEFI0NtibWYXNXc/1BNLl1O6SoqwFAbsdUZaiMKNtTlDLWhZOKLhlKAoTaUTM5FDDVHi8ntMdQmpyWnxFAb8RlgqI0oGF/OCsxYAYbaiIIz1EYUjC9nBWasAENtRMEZaiMKxpezAjNWYCDUKDAL/zkaSKjRrxC++eYbEfuTIkqxRo5GrAVrMa1nYBg+2lCjICJqjAL58vJnsAK///3vQbE/STcKakyxCviPNeBnYLrPABkQqhERBDkbat7AK8GvMh+VCnzxxRfiH4GzszNhsZF+/Mca8DMwnWeAjAf5R0HEpSEhLUIVbnYwY2oMcqk+//xzPH78WL1m6P1/f/7v7RB7LbSGvu8yXUja8B9rwM/A/J8BgltQNDcBNTpB/UMXhdr2+fbSQ+0yAZjLygosqwL0jwoxKwhstqUmofa73/1ubEtNhdoTPFlWPblerAArMGcFCGpfffWV6PIhV5TcULldo5OffPIJarUajo6OcHh4ODbUfnX+K9tSY6hJifmTFWAFJq0AcYtYRcwidhHD6Bj92ZYadcK9ePECX3755dhQ+4/n/9GG2iM8mnQ9OD1WgBVgBYQCBC9iFTGL2EUjonKzRz/pBJlzz549Gxtq75+/b0PtN/iNzIM/WQFWgBWYqAIENWIVMYvYpQ4YuKBG89QuArW/wl/ZUPsYH0+0EpwYK8AKsAJSAQk1YlZPqNGUDrqg2WyObampUKN93lgBVoAVmIYCBDViFTGL2BVoqU0CauRyysmpH5x/MI26cJqsACvACgjDa+ZQo0ED3lgBVoAVmIYCM7PU6qjblhpDbRpNyWmyAqwAKTAzqNHcNOl+/uL8F6w+K8AKsAJTUWBmUHuKpzbU6NcFvLECrAArMA0FZgY1+hG7tNTeOH9jGnXhNFkBVoAVmJ37qUKNVuzgjRVgBViBaSgwM0uNCi8ttR+d/2gadeE0WQFWgBWYnaVGWkuo0SdvrAArwApMQ4GZWmpkoUmwTaMynCYrwAqwAjOFmrr67Qu8WAr1m3kDmpFHU9SGA+8uRaNyJcZS4HAniujO4Vj3TvKmmULt1vkt21Ibe0nvagqapil/KwhvpFCodyapy9BpMdSGloovXFQFWsfYTyewHo0iGo1iPZHGfv1MKe0p9jej2Nw/VY75d0eD2iF2rPwoT+dvE3Y2pw+RTqyb59Y3cf9ouDAAM4WauvotzVsbaxNQS6Eqb+40UcsZ0PU4im15cHafDLXZac05TUGB7hF2Y1HE0gc4Oeui2z3DyUEaseiWAxdMD2o9DTurXFv5E3TRRauyg1hUAV4fKeYGtbFXv/VCTVSuhkxIQ7JkWmsCNCkbewDcbmE1pcHIlVFIRrCiadBXDWRrvS29Tj2PZGQVurg2gmSxYUvKULOl4J1LqMDJXgLRxB7qrrJ3cZC2XMnTfWyqltTmPsheI6ts8/4+7t1eR1Q55nc/TSD64WVaav7jVkEqO4jeVstllil279hV0qAvM4Wauvot/RZ0rC0QanXk1jTELVNtGKhpuoFcjUy7Duo5A1oog1pQgdpFJPQwUmXLDGzkYegR5CyuMdSCRONjl0OBFh7eieL2nv9d7J4eoXJ0iq6oiN9SE65mdAv3D0/QOjOvCnY/x4Pa6f6mDUuppTh25+HAWHRzg9rYq9/6oNb2uZ/DQG0tpzRkMw9DM1Awe/ulhtYnhQdUrbgm8oYGw7qYoeaRi79eIgX8sAouvP86ApgXhuNAzelLM/vVZL9d9yDtsdSA03zCB7qg8s4UarSOmpzScTGoqQMFGrRwAnlloGAYqBl5hWAW1NRDqljtmuN+ykEKeT9DTVWK9y+XAn5YBZfffx0BTAJI3qNCTeyrbqu9L/vFBrif3QrS0SjsPrXjPWxRGukDy3qUufo/Zwo1dfXbEkr+0gxzxGOptYtx6GG36zhRqAngkfvZhNVjZ1pqFgEZasM0Gl+zmAr0dj/RPbPdSgQMFAyCWveshVaL/o6xl4gifSC/n1lQGgA1AGf1PdxZJwtuHbfT+yju3sbC9akRyKSlNvaS3h6oAXXkIhqk5UQPjwm1svIcBQwUqGZZP0uN8rPnoVGSDeRvOvkx1BSZeffSKSAHCk5cJVcGCsTx0S01JznzXv+AwGCoOWnQXh17iRjuHbmPBn2bqaWmLulN0aXG2nxQAzrVFEJ6EtbgJ1BNiSkehUYHkFM+NA1yQFSMfg4LtXoWYY1GR5voiLQ2xIiphChDbaxW5JsWRYGzQ+zEokjsVsSUDrLQ/FM6gMpOFLHdIxH1nIYFBllqTvUuCrUuzk4OsffzGNZ/PniQgPKdG9TGXv02AGpAG8W4jlCqarmIHdSyNwV8tJUwNrIZJMaFGtlmxSQiKxo0fRVGpoRcQoMcaGCoOY8v711SBVpH2LsjJ9+uI7a1g6Jr8i3QPd7DpnAFd0HG0vBQ6+L0qIK6b97sEJaaNZ1kPbaFneLxwFFPqf5MoaaufksR23ljBVgBVmDSCswNarz67aSbktNjBVgBUmCmUPsSX9oDBQw1fgBZAVZgGgrMFGrq6rf043beWAFWgBWYtAIzhRotNySndPCS3pNuSk6PFWAFSIGZQo0ylFB77fw1bgFWgBVgBSauwNygRnDjjRVgBViBSSswc6ipq99+i28nXR9OjxVgBa64AnOF2tir317xRuPqswKsQG8FZg61N8/ftPvVGGq9G4bPsAKswHgKzBxq6pLeY69+O15d+S5WgBW4AgrMHGq/OP+Fbakx1K7AE8ZVZAVmrMDMoaYu6f0JPplxdTk7VoAVWHYF+kLtb//2b3F8fIxHjx6hWq2iUqmIiW0XEUWF2tir316kAHwvK8AKLLUCBDViFTGL2EUMI5bR8Wv0v08++QS1Wg2/+c1v8Nd//dcXhpq6+u2v8eulFpcrxwqwArNXgLhFvPrtb3+Lv/u7v8M//MM/4OTkBJ9++imu0Ze///u/F5Qj4h0eHk4UamOvfjt7nThHVoAVuCQKENSIV/V6XcDss88+w+9+9zt8/vnnuEZfGo2GIB1d+Dd/8zcXhhpZZ/KnUgy1S/KUcDFZgUukALGK/sg6I5g9e/YMX375Jf7pn/4J1+jL06dPQXB78uSJcEXp4ots6pLeY69+e5EC8L2sACuw1AoQo8jLJKARzNrtNr766iu8ePEC1ygaDNGt2WziH//xH4UrelGoPcIj21JjqC31s8WVYwXmogAxinj1xRdf4Pnz5/j666/R6XTwhz/8AdeIbHSQwEb+KFlrF4WauqT33fO7c6k0Z8oKsALLqwAxinhFRhkBrdvt4rvvvsMf//hHXDs7OxNm2+9//3vhhpKPOkmoXYrVb0X4vBSqF3kGGkUkIyugQMgyotVFkuN7WYFFVEAEMPbHwpt5UYlR1G1Gbuc333yDb7/9VgDt/Pwc14hyZK0R8cgFpSHRi0JNXf2Wfgc68iaiSakR2lcQ3kihoERoHznNfjdcGGoU6UpDOFVGu18+fI4VmJcCrWPsp2U0qSjWE2nsu6JJ+eN+BhV1NKiZ0aSiduR2ClpMfzKCO9A9KSKdWDePr8ewda+CZ0EZe44Ro4hX5GWS20lWGgGNtqlDbazVb70h8mRcTz2O4jSocWGoNUVEd7bQPE8ef10MBbpH2I1FEUsfiLif3cC4n9ODWm/D7gj3YlFs5U9ERPduqyLik24VfbH2fDrOHGq0hpqc0jERqIkq1ZAJaUha0YzNCO2qwxgQoT1XRiEZEbFB9VUKVtzxiSMOWFDLy9if2goiySIa6tWdGnJxMy1tJYJkQZ418yW30/xz3Nh2NYe45ZKuROLIKfmb5c+jEF+Frjn3NEopGKs6NE3HqpFFdRoQV+vF+0uvgIzQXnfVVInQbsXetC2qzX2cyrif9/dx7/Y6osqxqI9SYwYzFvk6VhsVr34/Bn/6roKLLzOHGuUqoTbW6rdeS01Uo47cmoa4ZaoNAzVNN5CrERU6qOcMaKEMan59AAE1DeFkCWbA9zJSYQ2RnARXA3lDh5Gvi0DKHeo/C4WQqkpIBlhq9RwiegQZi0rtcgphLYKc9WSJ8mthJAt1NNtmOp1yCqFwCmUBsjZqWQOakUczqMx8jBUYSoEWHt6J4vaeG2l0a/f0CJWjU2ElAX5LTbia0S3cPzxB64xitpsBjv3QGRNqOMFewrHUYFlqdx4uoKVGlX/5/GUbbEKNUf7ng1obtZwBXXE/h4GajLAushbgMlAIIoRlqZWVMnZKSQeC1RT0tRzUx6KeW4O+LS1FP9SqKR2hjBuhtUwIuuWjivInS1a0ecrYTENaoqIonRKSWo8yK2XlXVagtwJ+WAVf67+OoOaFYXCfWn+o2Rag1be2uU92oLU9e4g7Iiq82d92+96xBVl5QfDnXCw1dUnvjvLqBhfRc9Q3UKBBCyeQVwYKhoGakVcIZkFNPWTnakFNIkocb+Rx03ILTatKupfKp92J5oVaAKAAtItx2/LqVX7HjZX5GAgss1143mEF+ingh1Xw1f7rCGAuAHksNdOSk53/6qd0Kc2BAp+3ahfgOLBPbWEtNRVqI69+67HUCAZ62O069oKC5Ew1pWGiUIsX+4xsDge1ZsFxJ4PLH4LHuLObn3dYgfEU6O1+ontmu5W93M9+UOuetcSsiVbrWLiR6QP5/cyytgZA7WgX0dg9HCsV6x6kEU3kRZ+ecti3OxdLTV39lqK2j7R5oAbUkYu4IWVCQXUYAwYKVBNnCEtNTU11PzvlJHQ9ibLsQvNVxgs1YCj3UxJYpNcQdXT68XyZ8AFWYCwF5EDBietuZaBAHB/dUnOS6+9+9rTUDncQvb3n6tYRUPMcc/Jx9uYOtZFXv/VBDehUUwjpSViDn0QN0cdWMHv2zT43ZeLr6JZav4GCGjJh87xwaDsNlJJriBele+uHGsRAgRyoANrVDCLegQIX1Ez3VLcHN4B2LQcjkoEyaOq0Ku+xAsMqcHYopkokditiSgdZaCcHacSiW1C7tyo7UcR2j8TsfBoWGOR+OtmPCbVuBeloDOmH5mBFlyy+rShi91TbzclF3ZsL1OjnUXIEdBJQA2iCq45Qqmr10HVQy94U0zW0lTA2shkkLgS1FFxTOlIl96hju4rsRtjMT1+FkSkr5wOgRn1o1Sw2wuavDMSUDmV+ht/9NJusUUgiIqZ0aFiJJF39iGqj8j4rMJICrSPs3ZGTb9cR29pB0TX5Fuge72FTdNrv4mgkqHVxelRB3TdoOcD9pBHYyzL5lsTm1W9HeuT4YlaAFRhBgblYavnzvG2p8ZLeI7QWX8oKsAIDFZgL1NQlvT/GxwMLyRewAqwAKzCsAnOHGq9+O2xT8XWsACswjAJzgZq6+u0H5x8MU06+hhVgBViBoRToCzVaroOW7aDlO2gZD1rOg2646KZCjVe/vaiafD8rwAqoCswFahTEWE7pYKipzcH7rAArcFEF5gI1dUnvS7H67UVV5vtZAVZgZgrMBWqf4TPbUmOozaytOSNW4EooMBeoqUt63zq/dSWE5kqyAqzAbBSYO9TGWv12NtpwLqwAK3AJFZgL1EgnOVDwo/MfXULZuMisACuwqArMHWpjLem9qGpyuVgBVmDuCswNaq+dv2Zba3NXgQvACrACS6PA3KB2odVvl0Z+rggrwApMWoG5QY1GPWW/2shLek9aBU6PFWAFlkaBuUFNXdKb5q3xxgqwAqzAJBRYCKiNvPrtJGrOabACrMBSKjA3qKmr39Zd4RWWUmeuFCvACsxIgYWAGq9+O6PW5mxYgSugwNyg9v75+/ZAwWWDWq/AKGM/L40ikhEzCIsniNTYSc7sRoruZeSVQDMTytkTtpAigGmXTpwJaTH1ZAYHQZl6ESaYwdygpi7pPdLqtyJEnoxQTp8rCG+kUFAitE9QHwBmNCg1+PFkoUaRsDSEU+U+AZEnW6OJpsZQm6icoybWOt5HOrGOaJSioK8jkd6HKxDU6T42ozIqeq/UR4QaxeQU+amR16OIbu4PDDRslsAfR7RXycY5PjeolVCyLbXRoZZCVda20zTjeupxFNvy4CQ/pw214BB6k6zBVNNiqE1V3n6Jd492EaPYmAcnOOt20T07wUE6huiWApepQW0Hh/0K1/fckkJNXf2WoksNvQlLTYGauLGGTEhD0opm7LekAiK058ooJCMiVqe+aiAbFBVYuECKVWi5WWb6RVSzBlZ1DdpKBMliw1WFRikFQ8To1LFqZKGE9VSuM8ulaTIPp17tag5xyyUVcUG95WuWkTFWodO9lH++bsU8pVjO7oj18LhyEO6uea++GkGy4C57p6bmnYTrdKeGrJWviD2aTfR3P/uUk4ToqZOnzOx+Ko+N2D3BXiKKxF7dfaJ7gHQ0Cop8frq/6bKoNkV0YrLKNnF//x5ur0fhHDPvcSUmgBgAL2GpBRyXN1v3PTy6b8UKXcft9EPTihPnFAtPse5OD3as66NY37yPIztWaFCZZWb+z7lZairURlr9NhBqdeTWNMQtU20YqGl2tPMO6jkDWiiDml+f3u6nFkay1EAHHTRLKYQ0x1LslFMIhVMoC8uxjVrW6PPiB1hqIoJ7BBmLhO1yCmElgjs6VWyHdRgSZM0SkmEdyXJH1KA/1OrIKvd26nkYeggZWfkGfTesQMkdNIpJhEIpVEXSZtDocLKERgfoNGvIGXrvug0oZ1+dGGqBT6N9sPUQd6K34WUaYAYPPjqlOOogsnncT9PVjG7dx+FJC2fish7u54WgFkUsfYBTsiCfHYgo8HceSkr5LbWzyg5isR1UWl2g28Lx/U3FnQ0qs62Eb2duUFNXv/3V+a98Bet5wAe1ts/9HAZqaznlXzjrBSo0g3Lt4X4mS7ZlBJDFpWNb+MTm9dJqFCl2SkhqBvqlr/aBV1M6QjZlzDLVMiHo1kWdUhLaWs41EYYsu23LWuwPNSrrGrJ29TtoVMuoEqVAVp4OlzagfzCsugmdNlBQ3fxy74GC/uUcoBNDzWz4Xv/3warHhb7rCBBeGI4DNcXasvrXyDoUm8gzjQOLq3TscCeK6C7FdqfNCzXze1q9QVicW9h/RtcHldlMKej/CwG1kVa/FVCT7pr1GU5YloVZxWGgpnb8+9wzl1I9oKZSSEBNg3nI61LKshrI94Gmk1zAyw6gXYzbFpFZv7KrlOqX/lDroJa9iRV9FUYyi3y5rgxQmHk77rAsu1U30t5r0dKxHqOf/cs5QCeGmtqk/n0frPyXiCO+6wgQ3oEDFWrmft+BgCHdT8k4KoeAmkM97G9K11ecxU7QwINdzqAy96gvIIJDUZAoChZFQaMoeBQFkaLt2rSiSVHiT/HUHigYHWpK31MxDj3sdh3nDzXFneutvXXGBMkgqDULjgvbHxZD9KlRzu06qoUcktQ/Fk6gKIBrlkW68b6iTxxqfXRiqPnkdx3o6X4C3TPpVvZyP/tBrYuzVgst+jveQyKaxoH8bvqqRChEo4P71EaDWgz3jl01VL5cEqipS3qPtPqtsNQcqIHco4i7Y9z/0ptWgQRHf0tG0VLsmi+6atn1h2ZDlCeSc3e+e1N1vnuhZrqAo7qfnUYV5brpF1L9buaV/FVAtOsou6yzNgobUr8OykkderKsuNZOSU2L9mLup1POATqpZRZuMc9TU1oCgBwoOHEfVgYKxImRLTUlOXFvALwmDrUedbGLckmg9gIvbEvtYlADOtUUQnoS1uAnUQG6HkfB7M02+9w06R4OacnYggLllIbQdlWYsnS4P9RMV1G3ByKAdi0HI5KBdwDTzMIPNYiBAgO5mgmpdjWDyAgDBaJ8kYw54tppoJQMQ9Ms97ddRFynQQ7LF26XkArpSMj5MLUMwmIQxDzfaZSQXItblpx3oKCKTGT8gQJyqXvqxFBTnsDg3bPDHcSiCexWaEoHWWgBUzpQwU40ht2jLrpd6uQKAgQdm/zoZ29LDajsRBHbPRJlolK1Ht5BNLqFvWMaTOgKK3Hr9j0c2wMZXusyWBM62rdP7euvv8aLFy+EKUo+6qeffjqRYMayOHLpoZfPX5aHBn/6LDW6xXzZQqmqZWFY/UZiukMYG9kMEheAWqeWxc0VDZq+LebHDYIalahRSCIipnRoEFMfek4ODoAa1aiaxUbY/JWBmNLhnROiTJWgKSmpkmKZoYFiYk1M9xBTNjIp3JRQA0AjnsmIMx0knqu5LDM1b0o7U1Y6Ay8wpcNfzj46MdQGvwsEg6M93JGTb9dj2NopuiffoovjvU2sU5+V6KgfAWrdUxxV6pBjlnaBhKXmHyiwXdIAC8/dpwZ0j/es6Ru7MIcPujgpppFYN9Ndv53Gvj2LOKjMdml8OwQ1YhUxi9xoYhix7JtvvsG1WUGNl/T2tQsfYAVYgTEVmCvU1NVvv8W3Y1aBb2MFWAFWwFFgYaDGq986jcJ7rAArML4Cc4XaG+dv2IMFDLXxG5HvZAVYAUeBuUJNXdKbV791GoX3WAFWYHwF5gq1X5z/wrbUGGrjNyLfyQqwAo4Cc4WauqT3IzxySsV7rAArwAqMqcDCQO2yrX47pt58GyvACkxZgblC7YPzD2z382N8POWqcvKsACtwFRSYK9TGXtL7KrQM15EVYAXGUmCuUCPrTP5UaqQlvceqKt/ECrACV0GBuUJt7NVvr0LLcB1ZAVZgLAXmCjUa8ZSW2gVRhD4AACAASURBVEhLeo9VVb6JFWAFroICc4WauqQ3zVnjjRVgBViBiyqwMFAbafXbi9aa72cFWIGlVWCuUPsSX9ruJ/0OlDdWgBVgBS6qwEhQ+3//w7+Z6CKRYy/pfdFa8/2sACuwtArMFWoUM1MOFIy0pPfSNgdXjBVgBS6qQF+o/S/3/z+xFO4n2TVcu3ZN/NENk9wk1OiTN1aAFWAFLqpAX6h5l/OetPtJhaf4BBJsF60M388KsAKswNyhpi7pTRGmlmrzBA+ZbN0osnoVVmD1ySbNqU1NAW8AkotmROlt7p/2TObs5AhHJ2fK+VM8TN82A7HYwYWV00uwu1BQG2r1WxFNyokcrmkrCG+kUOgZrWmOrTRJqPnSqiKzooS2m2M1r0TWrWPspxMmDKJRrCfUaEekwKkn6niwKiND7VkF97ZiVr7riG3t4OGJiBsnMhgEtaN764j+/KEdEUqEoovtoNKSIfOGK7erNr2iSW3uozde1RTGyFO9fcD+3KH25vmbtvtJUdsHbt4QeZ2mGddTj0OGrhyYxqwu8IHoAhlPMq0LFONK3to9wm4silj6ACdnBIMznBykEYtuwTGShntRR4Kale/W3jGemYE9ffkOgpq3vU73NxF1WWjDlduVzqBgxq6Lg76MkWdQMj2OjQS1T997Y6JTOqhMIy/p7YWaqFgNmZCGpBXNeFBcThGhPVdGIRnBiqaB4lFmgyMNi9Qp7qcdgzO8gawnBmejlIIhYnzqWDWyZhBhujMARD2vFdeXkTGceJzJfF3E4xT1oRim1p8ZLd4ddZ5ub1dziEeUWKFqnURZUihWs1ZZVxBJFqFGCxWV5f/5FDjZSyCa2EPddaaLg3TUBISIc6nEwbQsFhMgeezfWYeMiRkMNfMld7GG8jraFfdVXPm2UNyKIpE3bSIBtXwFRelSrm/i/pHjbqr5iX2K/2n97Xy4j03le9RraQXE7xRFGQQ1676HR/et2J7ruJ1+aFpxPbSidE8Pdqzro1jfvI8jO+CoGffz/v493F7v725TOn2hJkc/KSDoNIIZUwHunt+1LbWhlvQOhFoduTUNcctUGwZqmh1BvYN6zoAWyqAmWszzv3YRCT2MVNmKll5OIaxtoGB+RaecQiicgnm6jVrWgGbkIcL/eqDW99pOFdthHYYFMjRLSIZ1JMsds0CetAAP1ERU9wgyFnDbopwR5OSbKO7XEE6WRD9cp0mR2R3NPLXmr7YCLTy8E8XtPSmkfQLd0yNUjk5hOoN+60NALRpDuljHs9aZuE6FjJNSD6i1itii+x8+s/Jw7pB7JqjMyOZkQdbzm4jG7uHYusCb30iW2oWgZlq2p90uus8OsBOL4s5DSSm/VmeVHcQstxjdFo7vb8KBrBlBPrp1H4cnLRGNXtY/6LMv1Lyjn5OO0E4FUpf0Hmr1Wx/U2j73cxiordlvu2NRFZRA5LZYAgYJWEagiAZfL5dRF1Azo6tLC1Hc0ykhqRkQablA1P/aTikJbS3nsgbI8touWraUKy3KyQ21akpHKOPGci0Tgp6qmlUR9yeVegBkserb1nm7wrzjVsD/ArrPy2/+6wRA0gcuIHkhY97dA2oAnlXumdbL+ibS9/dxeOr0p9G9lJ4LuAJEW9h/ZqbszW9yUHMsPtvyO7S0EGVI40ApqiiHiBBP13i1Mr+n1Ru6B0iTey/qQVC7jYB/V6wM3R9zh1r+PG9basNDzXHFhEsWTiCvDBQMAzXThbPE8AFDFamJYmIN+koE8VQOhVpDuITmFSZYpFvofBrIEyBd6fa/1ixzWc3Yve9Ki06pUAsAJuG3GPdYjSmoCCOoaRJ67tz4m62A9wW0T3h2/Nf5AWJCSPZpiRdddf/s/U2lrw4gy6Ve2cfuHXPU8vbPLVfOgppr9FMAxbl/dKhZVpFdFgVe0j0d0v2UjCOh3OXwatUrT1kPOi/3PbIHfJ071NTVb0soBRTRc8hjqdGLq4fdruNkoWbm32nUUMpviz4rPZKF2V1FYAnBYyA5BXaBqP+104Bas+B1hRlqTuMMu9fb/UT3DC3qwBeb90UFBkGte9YCde20WsfYS0SRPpDfTVc1sIStisuVI1hMFmpdnIkytdA63kMimsaB/C7rOhWoxXBP+sy+il9iqA21+q0HakAduYgG1fLyA0K1aky3S73ebVG5Fe00qihXVevMHJQwDZyGyDuS69Hd7oJa/2uD3E+Rt+nneqw+KqO3TsO4nww1d+sO900OFJy4LlcGCsTx0aHmJGfe6x0oqO/dRnSraE/HkNdXdqKIWq7c5KEmcyEvkQYSdqBaXOLsxKF2IqCe2HMr7JTkkkHt1/i17X6+f/6+U49eez6oAZ1qCiFd6S+qpqDrcRRoZqqc8qFpkJ6WGP0U/qGViQs+noxrGYTtQQWgU8/B0MLIWv3GwlJUzrdrORiRjGnJedLte+2ggQKUhVW4Xe2gI8YO3FCDGCgwkKtZAxrVDCKad6CAoeZp3eG+nh0K6yixWxFTOshC80/pAAg2sd0jdKlzXDDBO33C64bJ7IOhRlChgYKf7ytTOiq7SERj2D0yLcSLQ81fblmq6UHNn6eYPxc1BzyArrASt27fw7Go5iWD2shLegdADWijGNcRSlWt/q4OatmbYrqGthLGRjaDxLhQo66xcsae0kHTP1Ilt2XWKCQREVM6NKxEkk7/ngdq9LD0vJZONp0pHf58nDqZnfseqIkpHcrUk0gcOXXqiSgLQ81+YUfdaR1h746cfGtOgi3WnakTlFz3eM+akrCLo5Gg1sXpUQV1OTiolK37rIL7dr5RrN/ewr2KNQowkT41f7nt7LunOKrUfZYihKWm9LXZ/W+WVRdg4bn71ILy7OKkmEZi3Ux3/bY6ufmSQe0TfGJbarykt/048Q4rwAqMqcDcBwrUJb159dsxW5FvYwVYAVuBuUPtM3xmW2oMNbtdeIcVYAXGVGDuUFNXv711fmvMavBtrAArwAqYCiwU1Hj1W34sWQFW4KIKzB1q3+Jb2/187fy1i9aH72cFWIErrsDcoUb6y5VveUnvK/40cvVZgQkosBBQIwtNgo0sN95YAVaAFRhXgYWAmrqk91Cr345bW76PFWAFll6BhYAajXpKS42htvTPHFeQFZiqAgsBNXX1W5q3xhsrwAqwAuMq0Bdq5+fn+O6779DpdPD8+XOx+i3dMOlNhdpQq99OugCcHivACiyNAsQoWqmbmEXsIoYRy2i7Niuo/er8V7b7Sb8F5Y0VYAVYgXEVWAiojbyk97i15ftYAVZg6RVYCKjROmpyoIDWV+ONFWAFWIFxFVgIqKlLeg+1+u24teX7WAFWYOkVYKgtfRNzBVmBq6XAQkBNXf2WokvxxgqwAqzAuAosHNR49dtxm5LvYwVYAVJgIaBWR90eKKCI7byxAqwAKzCuAgsBNV7Se9zm4/tYAVbAq8BCQO0pntqW2pvnb3rLuPjfG0UkIyugCO0yDN/iF5pLyAqMogBFdIrCG5t0lBRmde1CQE1d0nvg6rciRJ4mAEIQ0bQVhDdSKNRFMMxZ6abkQ+H5NIRTZZgRNynUXR6GZkANLarcwLuswGwVaB1jPy3D+0WxnlDDz8mgxZvYP+1XrFGhZl4ftcPnyZB6Tj7dsxMcH+xj984mYlv78GX/rIJ7m+sQaazHsHX/CO6ghMHlHRpqT58+xfr6uuiEC05q/KOjQ02JXymDFetxFG2qjF+W0e9sIm94LDSG2ugy8h3TUaB7hN1YFLH0gQjE3A0KxCzidDqwCS7IeFDrbdlReuvYTO9hb+c2opteqJlR2zfvH4u4o91WRQSU/vnDgOCongIvBNSoTPIXBS+fv+wpoudrYDDjGjIhDcmSaa018wY0lx/oDvwrIrTnyigkIyLgMQUOztZ6W3qdeh7JyCp0TYO+GkGyKIMZm+maFiNZjSn8P5S3sCBNa9JQzLVGKQVDBD3WsWpkYccatgIN5wtxrOoeQHqqz19ZgVEUONlLIJrYQ911UxcH6SiiO4c43d80LSHLotq0zDUR+f3+Pu7dXreA0wNqAYGLzax6XO8qh/lFlMELtfoebkfTODAD0YsLT/MJRNMHUA4FpLYgo59UMgk1+uy7BUKtjtyahrhlqg0DNU03kKuRaddBPWdAC2VQC8q4XURCDyNVtszARh6GHkFOcg3DWWqdcgqhcApmMm3UsgY0I48m5SmgpiGcLKDebFtR5oMKw8dYgVEUaOHhnShu77mRRil0T49QOTo1ARFgqYmI6tEt3D88QeuMMNIDUtOCGkWBT+TdLmllJ8Ci8+sxlKX2F3/xF/j+97+P733ve1NxP6lYPzr/kQ22Tr/X2ge1Nmo5A7rifg4DtbWc0tCWu1gQhPGK1EG7rVpxJsQM++JhoGZeIy1JkUOnhKRmQCQj8k/CMjS9BeDvrMCYCpxifzMKaX31TKQH1NwwHA9q3j61oLIEWmoENa/1FnQsoFJDQU2up/bLX/5yalAbeklv30CBBi2cQF4ZKBgGaqpbOKhjv11z3E/pWjr3DwM1r5sqBzqswQTL/awGNBAfYgXGV+BiUHMDSIWaue8Flvhug0i9vn8NlhZqb5y/YVtqX+LL3ip4LLV2MQ497HYdJwo1ARxyP5uW/WhZanZf2bBQCyET6N9K91MZ/Ohdez7DCoygQG/3E90zy60MHv0UfWqu4VAVUl2ctVpo0d/xHhLU9yW/C1eViqhe37/IPaE2TfdzFpba0KvfeqAG1JGLaHAsJ+qiooGCsqJkwECBDSUJlR5TMCg/2fclUmwgf1PNbxioNUQZI05HnFI2mT9DzS0Kf5uEAnKg4MSVmDNQIA73cD97W2pKYtPqU5vVQME03c/xoQZ0qimEdKVPqpoSfWyFRgeQUz6UibFi9HNYqNWzCGs0OtpER6S1IUZMHYgGQA1lpLQQtqsddKzuOGFR2oMTQLuWgxHJQAy6svupvCW8O1EFzg7FVIjEbkVM6SAL7eQgjVh0S5mXVsFONIbdoy66XXNssb+lppRwWlCDZ0rHswOkY1GkK4PGPkcc/Zwm1NTVbx/hkaKaZ9dnqdF5mgCrI5SqWi5iB7XsTQEfbSWMjWwGiXGhBqBRTCKyokHTV2FkSsglNDgDDUFQc/LXt52eskYhiYiY0qFhJZJ0+gEZap5G5q8TVaB1hL07cvLtOmJbOyjW1WmsXRzvbWKdpnXsHomsh4Za9xRHlbqYS+Yu8wXdT0rMNfn2NtL79clMvqUABj/84Q+nPvqpQo2WIuKNFWAFWIFxFBhp9JMARzdMY/vg/AN7oOBjfDyNLDhNVoAVuAIKLAzUeEnvK/C0cRVZgRkosDBQI+tM/qqArDbeWAFWgBUYR4GFgZq6pDevfjtOU/I9rAArQAow1Pg5YAVYgaVSYGGgxqvfLtVzxZVhBeamAENtbtJzxqwAKzANBRYGavR7TzlQQL8D5Y0VYAVYgXEUWBiojbT67Tg15XtYAVbgSigwFNRmsZ4araEmLTVaW403VoAVYAXGUWAoqM1ilQ4qvIQaffLGCrACrMA4CjDUxlGN72EFWIGFVWChoDb06rcLKycXjBVgBeatAENt3i3A+bMCrMBEFVgoqFF0dtmvRlHbeWMFWAFWYFQFFgpqQ69+O2ot+XpWgBW4MgqMBbVnz55hGn9vd962LbX/3P7PU8ljGuXmNKfzPLCurOuozwCReyyoTQv5vPrttJTldFmBq6PAQKjNajlvkpyhdnUePK4pKzAtBQZC7bvvvoOcfDvN5bypgrz67bSamdNlBa6OAgy1q9PWXFNW4EoosFBQ+zV+bQ8UvH/+/pVoAK4kK8AKTFaBhYIaL+k92cbl1FiBq6jAQkGNghjLybe/Ov/VVWwPrjMrwApcUIGFghov6X3B1uTbWQFWYLR5atMe/WSo8RPJCrACF1VgoSw1Xv32os3J97MCrABDjZ8BVoAVWCoFhoba06dPsb6+LvzVaSnwLb61BwpeO39tWtlwuqwAK7DECiwU1EhnOfrJS3ov8VPHVWMFpqjA0FB7/vw5pj1QQPV8+fxlG2xkufHGCrACrMAoCgwFtVlEk5KF5iW9pRL8yQqwAuMoMBTU5A/af/nLX061T40qwFAbpxn5HlaAFZAKLBzUePVb2TSX5bOJWrmG5mUpLpdzYgoc7kQR3TmcWHqTSujyQa2agqalUB1WgWYehmYgv2hv3aj1GLa+077OW+5mARt6GNn6tDPm9CemQOsY++kE1qNRRKNRrCfS2K+fKcmfYn8zis39U+WYf3c0qB1ih/JL7OHEnxTQrSBN5zf3EZzrcGWipBcOavSbTzkCSr8F9W3el8p3gecAQ80jyAW/jqr/BbPj2yesQPcIu7EoYukDnJx10e2e4eQgjVh0Cw7DhgPIWFCLxnDvyF+nbiUtALuUUBu4+q3npWrmDWipIqpZA6u6Bm0lgmSxIVQT5zQNmvVn2OZaA6WUdb2+CiNbRVvqLCCYQr4QF+mlqoCZRx6F+Cp0y0o0j6n2YhUpTQNdT1s1pcHIFpA16B4N+mocuXrHPifLRJ/yHvNO5/+dWg7xyIoo/0okiYJZLaBTRiqkI16Upa4jF9EQztTsmxulFIxVHZqmY9XIoiovpSuaZWSscgm98nWYJbPKbetE1zqWLtXJV27lvMzcnXcKJVlukVzv9pL38+f0FDjZSwhryW1Yd3GQtlzJ031sWhYcWXESMgSwzfv7uHd73XXM736aQPR7pWSpJbC1FUM0XUHXVcUWiltRbG1t2Wm7Tosvw4GWLh1oqc1yOW8qUP48b1tqtL6abwuCmhZGstRABx00SymEtDjs99330nVQToUQTpVNkLVryBoabOCJ6zWEkwXUm23xsptwDCNZqKPZNl//YaCmhZMoNej6Nmo5A7qeRNmhR383upGHoRvICxB20CgmEQqlULXu75SS0K3v7WIcenjbOVdOIRROoSxA1kYta0Az8ma/V6eK7bAOQ4KsWUIyrCNpFUzAuAfURFt49FehR+dFucIJFKxy1/NmvUtWuW0te7WXr8H5wOQUaOHhnShu77mRRul3T49QOTq1YOMHiLDKolu4f3iC1pmJpGBLrR/UNrFf2UMimsaBSrUT81jlYGc2UJvlct4k7sAlvT0vlXhJkiXb0gDIYtKxLY0oL9TE9yTkS0Z50ouoGQXzpQ84789DWm8yE0rFb6ndzCsmCmrIhDQkZcaeelAK6lZN6VjLqQ9fHbk1pV5ooxjXEcnkkAqFkLJp2UTeUPKhRDslJDUDhaZV17Uc1JTb1Ry2Lev2YlAz894oqGZhG4UN5x8Nv5ae9lJF4P0JK+CHVXAG/usIYF4Yjg61GO4dW1ZZsWVnfXQvhhj5pIcMNSGKeElc/psbLl5LAgImbjdKuFTSkhFQcw9E+PMYDmq29Wc1X5lcUmkF9YWaCQfV1ZP7rqqKsmrQ40XHfbbgKq93Ps3BErMuZfuB8u5cDGqk/RpcLAZQy4SgWQX3a+lpL2+B+PsEFfDDKjhx/3UEMO/AgQo1sa+6rfb+ptVXZw4UkFsq+s/sAQM6bvWzLSvUBq5+64HBwJdEvPjK6CfdH8rA6X3yNOvUoNZBKTka1Jw+M08Z5dd6DhHqr5NWpjhOkAhB6V6TV4vPeUCtuq0z1FytMK8vvd1PdM9stxIYHWrdsxZaLfo7xl4iivSB/H5mubQO1IAj3IuZIFMB92x/Rn1qs3Y/pw61BoEggpzqGarP2EhQUy0et8Xhs3hA7qPiFnrgrBYB6KCc1KEny4pb7b4CaAg308gXkQmrgwYNMWgQ6VFB4Wp73M9Oo4py3XQZqdwutznoHwV1So3r/JDup8vcdOvmrSV/n6wCcqDAPa1CGSgQ2Y0ONaeU5r3BAwVRyOP1vduIpveRpwECyxU93d9czj61Our2QMEvzn/haCX3PDAYaKmhLCyX7WoHHdFZbfZF6UYONdmRnjMQydRMgAwJNXJjdT2OAg0EdJrmQIAykklwcAYKOhAd5kpHPxp53NQ2UGjKcskKWp+1DMJiAMScYNdplJBci6NozbczBwdMi7NDAwOhlD0IIc7pBnJmBdGu5WBEMqhR/QcMFAg9IxlztLTTQCkZhqbO8/OW2wU1OVAgB0g6qBfiCOlOH+bg9vLowF8nq8DZIXZiUSR2K2JKB1lo/ikdQGUnitjuEbrdrrC0BrmfTiGHgxrE4ADNk0ujYg0aLC3UBq5+OzLUOqhlb2KF3DR79KCBQjJiTgHRVhBJ5mHNtrCmMAzuUyNrSqarrYSxkc0g4YHaze28PXVCX0tYI5my+ZsoJtbEdA+DevADtnY1i42wOaVDXzWQKVvXUce/rjuDDtagQThVtS27RiGJiJjSoYGmg5ijqFYmypQOSjelzrlAwy6XvhpBMpPCTRVq8JTbAzXKwcmbppMETenoPcASIAMfmrQCrSPs3ZGTb9cR29pB0TX5Fuge72FznaCzC5pWNjzUujg9qqDujANYpVfdTzpkDhiIAQLriqWF2mf4zLbU3jx/c9LNObP0/O7nzLLmjFiBK63AwHlqs+5TW5YlvRlqV/q94srPUQGG2pTEZ6hNSVhOlhUYoMDCQY3KK3/7yavfDmg9Ps0KsAI+BRhqPkn4ACvAClxmBRYSaj86/5Ftrb3Ai8usL5edFWAFZqzAUFA7PT3Fn/zJn+B73/ve1Fe+pfrz6rczfgo4O1ZgiRQYCLWvvvoKf/Znf4Y333xzJoFXSNtb57dsS+1LfLlEcnNVWAFWYNoKDIQaLT30k5/8BL/5zW9mBjVe0nvazc7pswLLq8BAqM3DUmOoLe8DxzVjBaatwNBQ+/73vz+zPrWBq99OWxVOnxVgBS6tAgOh9sknnwj388mTJzNzPxlql/Z54oKzAnNXYCDU6GdSswxmTIp8cP6BPVBQQmnuInEBWAFW4PIoMBBqH3/8MX74wx9ilpbawCW9L4++XFJWgBWYsQIDofaXf/mXM4caWWfyp1JktfHGCrACrMCwCgyE2jzcz4Gr3w5bO76OFWAFrpwCQ0Gt0+ng+fPnMxsoYKhdueeQK8wKTEyBhYTawNVvJ1Z9TogVYAWWTQGG2rK1KNeHFbjiCiwk1J7iqT1QQL8D5Y0VYAVYgWEVWEioLcuS3sM2wvSua6JWrpmR56eXCad8RRVQgxkvkgRDQ41W6ZjV0kO0hpqc0vHa+WtuvUQ0KTXC+grCGykU7HBQ7stH/hYQHWnkNACIEHmu+JbjpDLaPb48mwVs6GFk66Olw1cvuQLdZ6jc20JMRIuKYj22hXuVZ0ql/XE/lZP27mhQM9NUQ+LZCYmdExEEORrdwaH7xMjfRoLan//5n89kPTWqhYSab0lvT4g8O+amHkfRjMc7sgiuG5YJaq6K8RdWgBQ4xf5WFNGtPRw/O0O3e4Znx3vYisawc3hmSTRNqDnBi13tYccBZahZutSQCSnRzylmby2HeMSMmUlxLwtqRPZGEcnIqoi5KWJbWidFoF3NsQKNvBVnk+JkboRF7FAzxqcV+FjkThHGDWTzGURWNBj5h0gpaWhqNHOlFUVglmweGSqjkRcuoi9YiwuwZj65cgFJUS+KqZk1AxTDjHKu2flacUtd95vWo5EtIGvIuhvI1tpoFJOi7JqIgVqEKhU6NeTiEavuESRdQioV4t1LoUC3khYBhA8kv6xSi4jpm/s4Pd3HZpTifVp/dIxQSNHTd/LYv7MOaU0FW2q9ghmbx7e2thBN7MEdIR44uhdDbGsLiWW21Hqufuu11ESj1JFb0xCXplojD0M3rAC+HfHSUgTzqojQXkc2rMPI10Xg306drg0hU7Na1wMCwH092mWkwjqSZZEYOZoCYrqRQbXRRts67HMFPY+8OK8byFQbaFs3DYaaBjuyfKeOnKEhZBc8wOX11EXkGZbR09uoZiLQViiYcwlmoHmqm6IjGsgbilb0j0EohJQppKdG/PUyKHB8L4Zo+kBEXXeVt1VHpVKHGYPYb6kJqEVjSBfreNY6s6O2R3e8zmJ/qO0cVJCO3sae2iXSpWMJ7FUIqEtoqdEcNfpPjVPw/vn7oN+Div8+/wn+67f/Nzgxvtuo5QzoivtZTelYy6mqEfR0mAHaCUJrSj9TB41qGVV6q2nzgIAisbfbbTvyOV1CcHCivZvpubIbok+N0nCX0bKkpHXoK4s/H2FZGgV7IEBAS+3H89SFzt/MK3ZYI4+b2k2oh1xpVFPQ13JwKZlbU+ouFOP/XSIFgq0rbwV6QM0Dw+C0+kPtzsOWaZXdo7jv5tYqbiG6VURLWIlLAjV1Cofal9Zr/1/8H/8CjqulQQsnLKuMRGoibzgupHqd+b53UMvexIq+CiOZRb5ch6srzgMCIbvqfkoXz4YHwcaAyiK6xwUHs+1c/6fztntrnfEdc5XFn48JNdN1DczTdf8gaJqFUMvtdcdtLe26u6rEXy6BAsEg8ha8B9Q8VpmaltiXLqvrcxP75L9SX95mFJv0RfSfpVHpOse3ii3ycZfLUnvz/E3X4EAvoL38x/8C/82/3bIttXYxDj2cgfQeJdRsV9TbXvJ7u45qIYck9S+FEyha3Wc+S61TRSrkuGB0u/rim+7nEkMtXnRDX+rHn5dSgZ7uZ/cMLcutdAHIqqXZp+Z2NVWodc9aaLXo71iMYqYP5HfTVXWn2UJxyxowUAF3tGv3111E3IUZ/fw1fj0U1La/CsPd+V5HLqJaPR2Ukzr0ZNnlMtoitesou6yzNgobyv0e68aEnNXxbiVSTmnQbGvFb0HRZW7w2bnbOz6rzLrH5R66yuLPZ9qWWqechK4nYXcf2qXnncuqgBwoMK0kpxb2QIE4pFhV1iWDoOak1N/9FJYagO5BWgwY7NMAgXRFD3eWC2rf4lu8fP7yQLD91ec/8UAN6FRTCOlJlGTffS2DsBZGsmSaX51GCcm1uGmNtYuI6845tEvCEkvIQQaUkdJC2K520KH0PzWEMgAACshJREFU2kUk9BCSxQboh/2NUgpr+mCoNfI3oW0U0Ox0AuEaBDUBqUgGVfKHOw2UkgRwaQUOhpovTxcUR3c/gRoyYQ3hZMnstxNlWkPcNmudR5n3LosC5pSO2M/3cfysCwRO6QAqO1HEdo/Q7XbFoMCkoQYxOEAjrAnsyaHQvlA7w0nlAEfqdLoeki+MpUbly5/nB0Lt6Sf/uw9qQBvFuI5QqmoDpF3NYiNsTunQVw1kytK/BGjEU07p0FYiiOfUKRpWn5vmDAZ0alkYqzrMKQ95FLbXoCVLVl5+2Aitm0Uk1ugeAwUna7sZgqAGNFBMrDlTTTIp3BwBavDmeWGoEdSryMrpLNQPmSnbAxN2ZXjncinQPcHDHWXybeIO7rsm3wLd4z1sism5u6Au/eGh1sXpUQV1cxhV0cVv/dE0DjFAIK/qC7U67sfIZR1MtYWC2mf4rC/UfL8ukGLwJyvACrAClgILBTUq0xvnb/QEGwVk4Y0VYAVYgX4KLBzUPsbHPaFGi0fyxgqwAqxAPwVGgtosftBO3eq9Bgzoh+68sQKsACvQT4GhoTbL5bzVuJ9yvhq5pbyxAqwAKzBIgYWEmrqct4QaR5Ua1JR8nhVgBUiBhYQaFYxWvJVAo08CHW+sACvACgxSYGGhpg4YUB8bTc7ljRVgBViBQQosLNRoUEAOGNw9vzuoHnyeFWAFWAGhwMJCjUpHMCPXk6w23lgBVoAVGEaBhYZaHXUBNQrEwhsrwAqwAsMoMDbUnjwxO+4n+akODNj75/aea+CAj14tBSb5nNGLwelN/v1dBF2pDGNBjR6IafxdrdeUazuKAtN43jjN6bzH89R1YaE2T1E478V60CX4uF0Wq10WtT0YalOyOBe1wS9juRhqDLNRnluGGkNtKt0IozyEg65lqDHUBj0j6nmGGkONocbPwMI/Ayq0Bu0z1PiBXvgHmi01ttQGgUw9z1BjqDHU+BlY+GdAhdagfYYaP9AL/0CzpcaW2iCQqecZagw1hho/Awv/DKjQGrTPUFumB/pBAtqNu6guYp2qd3FDu4G7VdPqeJDQoCUeDPUysaXGltogkKnnLyfU6OXVNOXvJbz64wTe+ejxUC+JKkDgvucFDLxmCHCM8uKOm4frPobaZNp/iLZ16c7XL5TulxhqCTyQD9PjKj7cuYHr119H7tEE/lVjqE3+IfVoOgrwVUvtn/+X/y3ee/8/Tb588lniz0uv7XJATTyIH+KtVzTcetex1h5/uIPX114SFt1La7fwTkUBXiWHW2sv47qm4frLa7j1TkU0ZvXuDcUC1HDjbtVs5Op7eOvHr+IlshBfehU/fvtDPLZfgAdIaDfw9t23sPYS3fN/IeGyJBUA2/dQWap4760f49WXyOoka/NtfPjYKSO9+Dd23sM7t9ZEvtdfvoG3P3Tq9+Txh3j7hlkHqt/dt3/a2/0UUEng7juv4+XrGhIPnkDU1eUCUj3Mc2SJmOdzePD2DXGP9tIabuVMnQItlX4aTRBq//pf/xsGm+s5cp6ZwHa5YtcuEdQ+ws4PNLyee2RCqHIXN67fwF3hkj5GJXcLr7ySwAMBjY/w9qvXcePuRwJMjz+ia1/BWx9aD4fnBXzyxH39k0fvIfHqddx6TwLGhMH1G2/hQeURHllgGmSNfPT2q7h+4y4+Etc/wnuJV3H91ns2LMX9129g50Oq02N8tHMD2itv4UPxkD5C7vXrePXWu6g8foLH1Q+xc+P6AKhpePXWO/io+kjkMRTUtFdx690KHj95jOq7Cbyi9bKGB2jk0XSQNurL6bXU6KFlsDHI1GdE3V8SqD3yuZ8PEtfxg52PFFOaoHcdP3tADwNB6Ad4+yP5YDxG5cF7eFCxIOV5AQkojx6ZIJDi0Ut5/Weyo9tMb8dOz0x30Iv7+JEDQJEu9Yld/5ntVtP9rjpY5XqHOtvF/o/xjupuv9dnoEBcfwvvKpbgUFC79a4NWVM3qaHUTn4O0Mij6SBtpM70GQQ1BpvUnT/VZ4X2LzHU1IECDdqrP7WsMmrkKu7e8Jy33EFyuwhSH7797/DS9Zdx49bbuPveR3ikmuieF1CIprpW0rW0XTeCmjOyJ0Ue/OKq7qcsr+Oq0v22+0vlU8tFALStNuvB7jdQIO510qYyDgU1u46Uh2mRmhpaebp0U1x0r0Zq2Z88wWBtnPR7QY3B5mgknzn+vNRQc17QR7nXcf1V6ZZRQ5tQs11R9cVT9x99hAfv7OAW9Uu9+lPkrOkGLnjQ9Y8fIPGK467Sg+N+KceB2mM8SLyiuJ9P8ISgpDn1ulRQG6TRlKDGYGOweUF+iS015+WnPq+dNdWqeYz3bl139U+5Kv7oI7znss4e4Z0fK/d7XkATcmp+T/Cea57VOFAzweuyesh9HBZqooyjup/uOpiW2nuKi+62xAZZci5NRXnc6bs08mjq/keh/4vZz1KjB5g27mPrr6GrrdR/2Jdwn56HhVz5tm8jeCwauvbxgwReua70GX34Fl4Vndzm6OXjyru49YPXTWvsUQ6vX6cOcGtk89G7whL7qRxkePIeEtor+NmDx3hMfVCPcvjp9VfEyB+JVXk3gR9cVyePBkOtcvffQfvxO6g+fqz0S8mH7xFyP72OV27lUKHzlXeR+MH14aH2xDtQ8ABvrQ0aKHBDhyxDmgbzDvUlymkxvtFP2W9I5XZDz9VGgzSaMtQYbPK54s+lgdoT6yV/JfHABsijB2/jx6+aUzpoOsRb71kQIwh+dNee0kFTFV7fUadoWH1uNN3DGgx4/OHbuPEyQeclrN26i3d+9gNodid6MNSeVHP4qQDVDYjOfe+/it4pGe/8DD/QHDD3dT+FWzz6lA57bp8oi1NPc5rKW/jpuFAjTftpNAOodf7wLVts3mfsCn6/nFC7gg3lsoquWP2HcT/pQaat1fqKwXbFng/vu0HPweVzP694o3kbcdm/jwI1eqA//7zJYLvC7whD7Qo3/mWB4ahQo4f65KQhwHZZ6sjlnFxfIEONoaaMfk7uwZrkS9oPai9efEPPsNhoBNT7N8lycFqL+Xx424UeBnY/GWwLDbZeUCOg/bN/9l/h/97/UEAtFHoN2ez/udB18b6A/H3yoGSoMdAWHgJBUJNAoxU7/uW//B8F1MjlpH0GxeRBcZk0Zagx1BYeAl6oqUCjly0c/rf46KO/FmCjfbbWGGrsfjLYFhpsKtSoz4xcTnVNNdr/7/77/0FA7be//QT/6l/9Twtdn8tk9VzGsi6spSYfZP5kBaQC/V4wstAIaLStrPzPDLUr/A/12FCjG+khm/SnfID5kxXwKtDvefvs9HfCWnv99f8V/+lBceLP5aSfc05vOvwQDT/u6Ke8mT9ZAVaAFVg0BcbqU1u0SnB5WAFWgBWQCjDUpBL8yQqwAkuhAENtKZqRK8EKsAJSAYaaVII/WQFWYCkUYKgtRTNyJVgBVkAq0BdqX3zxBb777jt0Oh08f/4czWZT/FhU3syfrAArwAosmgIMtUVrES4PK8AKXEgBhtqF5OObWQFWYNEUYKgtWotweVgBVuBCCgwNtcPDQ4RCIe5Tu5DcfDOaNZRrTRaCFZiaAkNB7dNPP8Wf/umfLgbUqiloMgK4+mnkceFXpZmHoRnIXzihqbXXhRKupjRoqeqF0hj1Zm+ezcIG9HAW9VET4utZgSEV6Ae1/x+M2UKIB5NKmwAAAABJRU5ErkJggg==)"
   ]
  },
  {
   "cell_type": "code",
   "execution_count": 39,
   "metadata": {},
   "outputs": [
    {
     "name": "stdout",
     "output_type": "stream",
     "text": [
      "🎯 Restart and run all successful\n"
     ]
    }
   ],
   "source": [
    "print('🎯 Restart and run all successful')"
   ]
  },
  {
   "cell_type": "code",
   "execution_count": 40,
   "metadata": {},
   "outputs": [],
   "source": [
    "# GRADER_ONLY\n",
    "import os\n",
    "from datetime import datetime\n",
    "autograder_output_filename = f\"{assignment_name}-autograder-results.csv\"\n",
    "\n",
    "netid = autograded_result[\"netid\"]\n",
    "assignment_name = autograded_result[\"assignment_name\"]\n",
    "student_score = autograded_result[\"student_score\"]\n",
    "total_available = autograded_result[\"total_available\"]\n",
    "graded_time = datetime.now().strftime(\"%Y-%m-%d %H:%M\")\n",
    "feedback = '''Assignment: {0}\n",
    "NetID: {1}\n",
    "Total Score: {2}/{3}\n",
    "\n",
    "Grade Breakdown'''.format(assignment_name, netid, student_score, total_available)\n",
    "\n",
    "for graded_part_name in autograded_result[\"order\"]:\n",
    "    part_info = autograded_result[\"breakdown\"][graded_part_name]\n",
    "    feedback += '''\n",
    "--------------------------------\n",
    "Component: {0}\n",
    "Result: {1}\n",
    "Score: {2}/{3}'''.format(graded_part_name, \"Pass\" if part_info[\"did_pass\"] else \"Fail\", part_info[\"points\"], part_info[\"available_points\"])\n",
    "\n",
    "    feedback += \"\" if part_info[\"did_pass\"] else f\"\\nError Message: {part_info['message']}\"\n",
    "\n",
    "if is_autograder_env:\n",
    "    df_agr_new = pd.DataFrame([{\n",
    "        \"netid\": netid,\n",
    "        \"assignment_name\": assignment_name,\n",
    "        \"student_score\": student_score,\n",
    "        \"total_available\": total_available,\n",
    "        \"graded_time\": graded_time,\n",
    "        \"feedback\": feedback\n",
    "    }])\n",
    "    \n",
    "    if not os.path.exists(autograder_output_filename):\n",
    "        df_agr = df_agr_new\n",
    "    else:\n",
    "        df_agr = pd.read_csv(autograder_output_filename)\n",
    "        df_agr = df_agr.loc[~((df_agr[\"netid\"] == netid) & (df_agr[\"assignment_name\"] == assignment_name))]\n",
    "        df_agr = pd.concat([df_agr, df_agr_new])\n",
    "        \n",
    "    df_agr.sort_values(\"graded_time\").to_csv(autograder_output_filename, index=None)"
   ]
  }
 ],
 "metadata": {
  "kernelspec": {
   "display_name": "Python 3",
   "language": "python",
   "name": "python3"
  },
  "language_info": {
   "codemirror_mode": {
    "name": "ipython",
    "version": 3
   },
   "file_extension": ".py",
   "mimetype": "text/x-python",
   "name": "python",
   "nbconvert_exporter": "python",
   "pygments_lexer": "ipython3",
   "version": "3.8.3"
  }
 },
 "nbformat": 4,
 "nbformat_minor": 5
}
