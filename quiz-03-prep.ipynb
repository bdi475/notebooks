{
 "cells": [
  {
   "cell_type": "markdown",
   "id": "53ce47a0-b947-4ae0-86f1-d480d9147b47",
   "metadata": {},
   "source": [
    "# Company Analysis (Quiz 3 Prep)"
   ]
  },
  {
   "cell_type": "markdown",
   "id": "8a5d441e-bbbb-44ad-b2f9-7b22b31ef665",
   "metadata": {
    "tags": []
   },
   "source": [
    "## Load libraries and data"
   ]
  },
  {
   "cell_type": "markdown",
   "id": "abab4537-7d48-478b-aab6-a6ccda834b9c",
   "metadata": {},
   "source": [
    "Import packages."
   ]
  },
  {
   "cell_type": "code",
   "execution_count": null,
   "id": "19247c62-4f3f-4697-98ce-60b118c342ff",
   "metadata": {},
   "outputs": [],
   "source": [
    "import pandas as pd\n",
    "import numpy as np"
   ]
  },
  {
   "cell_type": "markdown",
   "id": "59897797-f3e9-4c7f-b82f-ec296de1fb5b",
   "metadata": {},
   "source": [
    "### Dataset\n",
    "\n",
    "There are two tables in our dataset.\n",
    "\n",
    "- `df_companies` contains the information of a few hundred fictitous companies.\n",
    "- `df_info` contains some additional information about those companies"
   ]
  },
  {
   "cell_type": "code",
   "execution_count": null,
   "id": "775c481b-2bae-40da-931e-5073803efa79",
   "metadata": {},
   "outputs": [],
   "source": [
    "df_companies = pd.read_csv('https://github.com/bdi475/datasets/raw/56972ccafac4b703553bd66f4e96720b0d43127d/fake-companies.csv')\n",
    "\n",
    "df_companies.head()"
   ]
  },
  {
   "cell_type": "code",
   "execution_count": null,
   "id": "53c8ff16-3e80-44f3-abf3-4f3a2324dae8",
   "metadata": {},
   "outputs": [],
   "source": [
    "df_info = pd.read_csv('https://github.com/bdi475/datasets/raw/56972ccafac4b703553bd66f4e96720b0d43127d/fake-company-info.csv')\n",
    "\n",
    "df_info.head()"
   ]
  },
  {
   "cell_type": "markdown",
   "id": "230f949a-f1a7-4ab8-b38d-cdf35de3d3c5",
   "metadata": {},
   "source": [
    "## Questions"
   ]
  },
  {
   "cell_type": "markdown",
   "id": "9c855ab9-e26e-482f-b9d8-915625b9470e",
   "metadata": {},
   "source": [
    "### How many companies are in this dataset?"
   ]
  },
  {
   "cell_type": "code",
   "execution_count": null,
   "id": "1dfe7cc8-da38-47f2-a042-89abbdbecef2",
   "metadata": {},
   "outputs": [],
   "source": [
    "# YOUR CODE BEGINS\n",
    "\n",
    "# YOUR CODE ENDS"
   ]
  },
  {
   "cell_type": "markdown",
   "id": "c50b997d-fe82-4b53-acd8-80f698c5d555",
   "metadata": {},
   "source": [
    "**Answer**: 250"
   ]
  },
  {
   "cell_type": "markdown",
   "id": "f6851597-8a98-4de3-9991-3baf41085b5e",
   "metadata": {},
   "source": [
    "### Number of profitable companies?"
   ]
  },
  {
   "cell_type": "code",
   "execution_count": null,
   "id": "fbf7a972-3c6c-42e5-a46a-e345fe062a02",
   "metadata": {},
   "outputs": [],
   "source": [
    "# YOUR CODE BEGINS\n",
    "\n",
    "# YOUR CODE ENDS"
   ]
  },
  {
   "cell_type": "markdown",
   "id": "d3483044-3daa-4228-bf62-eb198a353a95",
   "metadata": {},
   "source": [
    "**Answer**: 207"
   ]
  },
  {
   "cell_type": "markdown",
   "id": "0647fd42-0374-4356-9747-791231525779",
   "metadata": {},
   "source": [
    "### Does `df_companies` contain any row with missing `country` value?"
   ]
  },
  {
   "cell_type": "code",
   "execution_count": null,
   "id": "3c2e0cef-acab-47fe-a46d-4d6c6917fe73",
   "metadata": {},
   "outputs": [],
   "source": [
    "# YOUR CODE BEGINS\n",
    "\n",
    "# YOUR CODE ENDS"
   ]
  },
  {
   "cell_type": "markdown",
   "id": "cef9a837-b614-42a7-a62a-87cf2c6cb364",
   "metadata": {},
   "source": [
    "**Answer**: Yes"
   ]
  },
  {
   "cell_type": "markdown",
   "id": "0c5a9db6-599c-44c0-9e38-8d430d5dd97c",
   "metadata": {},
   "source": [
    "### Merge DataFrames (ungraded)\n",
    "\n",
    "Merge `df_info` into `df_companies` using `pd.merge()`.\n",
    "\n",
    "- We will provide you the template code to merge the two tables in the quiz.\n",
    "- Although this task is not graded, you will need to join two tables to answer the remaining questions."
   ]
  },
  {
   "cell_type": "code",
   "execution_count": null,
   "id": "5f2d330b-654d-46fd-8513-f89b66babe4f",
   "metadata": {},
   "outputs": [],
   "source": [
    "df = pd.merge(\n",
    "    left=df_companies,\n",
    "    right=df_info,\n",
    "    on='company_id',\n",
    "    how='inner'\n",
    ")\n",
    "print(df.shape) # should print (250, 9)"
   ]
  },
  {
   "cell_type": "code",
   "execution_count": null,
   "id": "fd68d3b2-082c-4aea-a694-5026a265718f",
   "metadata": {},
   "outputs": [],
   "source": [
    "df.head(3)"
   ]
  },
  {
   "cell_type": "markdown",
   "id": "a09c3d5e-9d54-4ee2-a7e4-7f7285cc2320",
   "metadata": {},
   "source": [
    "### Which company recorded the largest revenue in India?"
   ]
  },
  {
   "cell_type": "code",
   "execution_count": null,
   "id": "647d195b-44aa-424f-9bb8-9d6f5d0714ef",
   "metadata": {},
   "outputs": [],
   "source": [
    "# YOUR CODE BEGINS\n",
    "\n",
    "# YOUR CODE ENDS"
   ]
  },
  {
   "cell_type": "markdown",
   "id": "49a3baed-80b9-4d52-89d3-ad0f0cddde60",
   "metadata": {},
   "source": [
    "**Answer**: Newton-Reynolds"
   ]
  },
  {
   "cell_type": "markdown",
   "id": "6a1dc61f-9b45-403f-a13f-b2e8430115eb",
   "metadata": {},
   "source": [
    "### Out of the companies with an inception year of 2018, which company recorded the largest revenue?"
   ]
  },
  {
   "cell_type": "code",
   "execution_count": null,
   "id": "f7531677-2bcb-4ee5-854c-992824932468",
   "metadata": {},
   "outputs": [],
   "source": [
    "# YOUR CODE BEGINS\n",
    "\n",
    "# YOUR CODE ENDS"
   ]
  },
  {
   "cell_type": "markdown",
   "id": "b00364b0-d225-423f-9a08-f999e04d3d08",
   "metadata": {},
   "source": [
    "**Answer**: Barnes-Weiss"
   ]
  },
  {
   "cell_type": "markdown",
   "id": "c1cb4c18-ebe0-4660-a778-efe80ca3d187",
   "metadata": {},
   "source": [
    "### Which country has the third largest total revenue?"
   ]
  },
  {
   "cell_type": "code",
   "execution_count": null,
   "id": "6f171a53-a0d9-468d-b56a-682ff0ecc8c8",
   "metadata": {},
   "outputs": [],
   "source": [
    "# YOUR CODE BEGINS\n",
    "\n",
    "# YOUR CODE ENDS"
   ]
  },
  {
   "cell_type": "markdown",
   "id": "4110e32c-cc5c-4978-a56c-c7d9eb43a6a6",
   "metadata": {},
   "source": [
    "**Answer**: Bosnia and Herzegovina"
   ]
  },
  {
   "cell_type": "markdown",
   "id": "2d064491-1b8a-4d64-9f37-a1423f0c6fb7",
   "metadata": {},
   "source": [
    "### Which industry has the lowest average revenue?"
   ]
  },
  {
   "cell_type": "code",
   "execution_count": null,
   "id": "f61fa58c-1bf4-4222-b0b5-dcda7feffa4a",
   "metadata": {},
   "outputs": [],
   "source": [
    "# YOUR CODE BEGINS\n",
    "\n",
    "# YOUR CODE ENDS"
   ]
  },
  {
   "cell_type": "markdown",
   "id": "5bf71c52-47d9-4311-85b0-51e96252a011",
   "metadata": {},
   "source": [
    "**Answer**: Manufacturing"
   ]
  },
  {
   "cell_type": "markdown",
   "id": "1f52ce98-fbc0-4236-853d-c99057f89e61",
   "metadata": {},
   "source": [
    "### Among the companies that are not profitable, which company has the largest number of branches?"
   ]
  },
  {
   "cell_type": "code",
   "execution_count": null,
   "id": "6ddf3f6d-0b70-4dc1-8b82-4e226999fac1",
   "metadata": {},
   "outputs": [],
   "source": [
    "# YOUR CODE BEGINS\n",
    "\n",
    "# YOUR CODE ENDS"
   ]
  },
  {
   "cell_type": "markdown",
   "id": "7d37a232-be6a-47a1-a3ab-f2cb76473a53",
   "metadata": {},
   "source": [
    "**Answer**: Pearson Ltd"
   ]
  }
 ],
 "metadata": {
  "kernelspec": {
   "display_name": "Python 3 (ipykernel)",
   "language": "python",
   "name": "python3"
  },
  "language_info": {
   "codemirror_mode": {
    "name": "ipython",
    "version": 3
   },
   "file_extension": ".py",
   "mimetype": "text/x-python",
   "name": "python",
   "nbconvert_exporter": "python",
   "pygments_lexer": "ipython3",
   "version": "3.9.7"
  }
 },
 "nbformat": 4,
 "nbformat_minor": 5
}
