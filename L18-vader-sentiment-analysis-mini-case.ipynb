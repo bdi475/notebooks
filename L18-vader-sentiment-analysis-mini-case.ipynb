{
 "cells": [
  {
   "cell_type": "markdown",
   "metadata": {
    "id": "znpt9QdbdxtK"
   },
   "source": [
    "# Sentiment Analysis with Vader\n",
    "\n",
    "## 🧭 Overview & Setup\n",
    "\n",
    "This notebook walks you through on:\n",
    "\n",
    "1. How to use the [VADER](https://github.com/cjhutto/vaderSentiment) package to analyze sentiments\n",
    "2. How to run a sentiment analysis on tweets using the [VADER](https://github.com/cjhutto/vaderSentiment) package\n",
    "3. How to interpret the VADER scores\n",
    "4. How to view top positive/negative tweets\n",
    "5. How to visualize the compound scores distribution"
   ]
  },
  {
   "cell_type": "markdown",
   "metadata": {
    "id": "BLAgknPNdxtM"
   },
   "source": [
    "▶️ First, run the code cell below to import `unittest`, a module used for **🧭 Check Your Work** sections and the autograder."
   ]
  },
  {
   "cell_type": "code",
   "execution_count": null,
   "metadata": {
    "id": "h4IxqBpNdxtM"
   },
   "outputs": [],
   "source": [
    "import unittest\n",
    "tc = unittest.TestCase()"
   ]
  },
  {
   "cell_type": "markdown",
   "metadata": {
    "id": "kokPa7N-ZP_X"
   },
   "source": [
    "---\n",
    "\n",
    "### 🎯 Challenge 1: Import packages"
   ]
  },
  {
   "cell_type": "markdown",
   "metadata": {
    "id": "idmfpz-4dxtN"
   },
   "source": [
    "#### 👇 Tasks\n",
    "\n",
    "- ✔️ Import the following Python packages.\n",
    "    1. `pandas`: Use alias `pd`.\n",
    "    2. `numpy`: Use alias `np`."
   ]
  },
  {
   "cell_type": "code",
   "execution_count": null,
   "metadata": {
    "id": "FhImrAevdxtN"
   },
   "outputs": [],
   "source": [
    "# YOUR CODE BEGINS\n",
    "\n",
    "# YOUR CODE ENDS"
   ]
  },
  {
   "cell_type": "markdown",
   "metadata": {
    "id": "togniVvudxtN"
   },
   "source": [
    "#### 🧭 Check your work\n",
    "\n",
    "- Once you're done, run the code cell below to test correctness.\n",
    "- ✔️ If the code cell runs without an error, you're good to move on.\n",
    "- ❌ If the code cell throws an error, go back and fix incorrect parts."
   ]
  },
  {
   "cell_type": "code",
   "execution_count": null,
   "metadata": {
    "id": "YQ84e7z7dxtO"
   },
   "outputs": [],
   "source": [
    "# DO NOT CHANGE THE CODE BELOW\n",
    "_test_case = 'import-packages'\n",
    "_points = 1\n",
    "\n",
    "import sys\n",
    "tc.assertTrue(\"pd\" in globals(), \"Check whether you have correctly import Pandas with an alias.\")\n",
    "tc.assertTrue(\"np\" in globals(), \"Check whether you have correctly import NumPy with an alias.\")"
   ]
  },
  {
   "cell_type": "markdown",
   "metadata": {
    "id": "6Xx8HRWtdxtO"
   },
   "source": [
    "---\n",
    "\n",
    "### 📌 Install and load the `vaderSentiment` package"
   ]
  },
  {
   "cell_type": "markdown",
   "metadata": {
    "id": "lkXPpOIVdxtO"
   },
   "source": [
    "▶️ Run the code cell below to install `vaderSentiment`."
   ]
  },
  {
   "cell_type": "code",
   "execution_count": null,
   "metadata": {
    "colab": {
     "base_uri": "https://localhost:8080/"
    },
    "id": "scYAavVHIbxl",
    "outputId": "cdc0d5ff-fb99-44cd-fde9-5964071ec89b"
   },
   "outputs": [],
   "source": [
    "# install vaderSentiment\n",
    "!pip install vaderSentiment"
   ]
  },
  {
   "cell_type": "markdown",
   "metadata": {
    "id": "lkXPpOIVdxtO"
   },
   "source": [
    "▶️ Run the code cell below to initialize `vaderSentiment.SentimentIntensityAnalyzer`."
   ]
  },
  {
   "cell_type": "code",
   "execution_count": null,
   "metadata": {
    "id": "3fJ26JxGJszB"
   },
   "outputs": [],
   "source": [
    "from vaderSentiment.vaderSentiment import SentimentIntensityAnalyzer\n",
    "\n",
    "# create an analyzer instance\n",
    "analyzer = SentimentIntensityAnalyzer()"
   ]
  },
  {
   "cell_type": "markdown",
   "metadata": {
    "id": "lkXPpOIVdxtO"
   },
   "source": [
    "▶️ Run the code cell below to display full tweet text in the notebook outputs."
   ]
  },
  {
   "cell_type": "code",
   "execution_count": null,
   "metadata": {
    "id": "3fJ26JxGJszB"
   },
   "outputs": [],
   "source": [
    "pd.set_option('display.max_colwidth', 1000)"
   ]
  },
  {
   "cell_type": "markdown",
   "metadata": {
    "id": "bs1wYttWZP_T"
   },
   "source": [
    "---\n",
    "\n",
    "## 🔮 Sentiment Analysis\n",
    "\n",
    "### 📌 Using the `analyzer.polarity_scores()` method\n",
    "\n",
    "To analyze a piece of text using VADER, use the `analyzer.polarity_scores()` method. Here is an example using a string.\n",
    "\n",
    "compound score is the overall score between -1 (most extreme negative) and +1 (most extreme positive).\n",
    "pos, neg, and neu are ratios for proportions of text that fall in each category. These should all add up to be 1.\n",
    "We are mainly interested in the compound score.\n",
    "\n",
    "```python\n",
    "vader_score = analyzer.polarity_scores(\"Got my BeautyBase merch I am happy I got the first batch 🥰\")\n",
    "print(vader_score)\n",
    "```"
   ]
  },
  {
   "cell_type": "code",
   "execution_count": null,
   "metadata": {},
   "outputs": [],
   "source": [
    "vader_score = analyzer.polarity_scores(\"Got my BeautyBase merch I am happy I got the first batch 🥰\")\n",
    "print(vader_score)"
   ]
  },
  {
   "cell_type": "markdown",
   "metadata": {},
   "source": [
    "Here is another example."
   ]
  },
  {
   "cell_type": "code",
   "execution_count": null,
   "metadata": {
    "colab": {
     "base_uri": "https://localhost:8080/"
    },
    "id": "j8a0np0wJ68u",
    "outputId": "ee2012a1-3367-465b-ee82-cb1c7a73b514"
   },
   "outputs": [],
   "source": [
    "sentence = \"Beautyrite same day shipping is phenomenal its unbelievable i got my package in few hours\"\n",
    "\n",
    "vader_score = analyzer.polarity_scores(sentence)\n",
    "print(vader_score)"
   ]
  },
  {
   "cell_type": "markdown",
   "metadata": {
    "id": "kokPa7N-ZP_X"
   },
   "source": [
    "---\n",
    "\n",
    "### 🎯 Challenge 2: Calculate vader score of a string"
   ]
  },
  {
   "cell_type": "markdown",
   "metadata": {
    "id": "ena54NwVZP_X"
   },
   "source": [
    "#### 👇 Tasks\n",
    "\n",
    "- ✔️ Calculate the polarity scores of the string below.\n",
    "- ✔️ Store the result to a new variable named `vader_score1`.\n",
    "\n",
    "```plaintext\n",
    "I have never been spoken to so terrible and lied to so many times from what should be professionals. I was trying to help my daughter rent a home and was lied to numerous times about their fair housing practices and was given different information from different individuals. This seems to be a very poorly ran company that I would NEVER trust to oversee my daughters safe housing experience! As a parent do not ever allow your adult child to rent from this company! They will not be taken care of!\n",
    "```\n",
    "\n",
    "#### 🔑 Output Format\n",
    "\n",
    "```\n",
    "{'neg': 0.162, 'neu': 0.765, 'pos': 0.074, 'compound': -0.8565}\n",
    "```"
   ]
  },
  {
   "cell_type": "code",
   "execution_count": null,
   "metadata": {
    "colab": {
     "base_uri": "https://localhost:8080/",
     "height": 0
    },
    "id": "PyKRWwiQZP_Y",
    "outputId": "15125f95-5cd6-4f8a-fb82-21036f4333c2"
   },
   "outputs": [],
   "source": [
    "# YOUR CODE BEGINS\n",
    "\n",
    "# YOUR CODE ENDS\n",
    "\n",
    "print(vader_score1)"
   ]
  },
  {
   "cell_type": "markdown",
   "metadata": {
    "id": "b2-nsJ7vZP_Y"
   },
   "source": [
    "#### 🧭 Check Your Work\n",
    "\n",
    "- Once you're done, run the code cell below to test correctness.\n",
    "- ✔️ If the code cell runs without an error, you're good to move on.\n",
    "- ❌ If the code cell throws an error, go back and fix incorrect parts."
   ]
  },
  {
   "cell_type": "code",
   "execution_count": null,
   "metadata": {
    "id": "8mgAcHGcZP_Y",
    "nbgrader": {
     "grade": true,
     "grade_id": "challenge-03",
     "locked": true,
     "points": "1",
     "solution": false
    }
   },
   "outputs": [],
   "source": [
    "# DO NOT CHANGE THE CODE IN THIS CELL\n",
    "_test_case = 'calculate-vader-score-of-a-string'\n",
    "_points = 1\n",
    "_obfuscate = True\n",
    "\n",
    "import base64 as _b64\n",
    "_64 = _b64.b64decode('IyBETyBOT1QgQ0hBTkdFIFRIRSBDT0RFIEJFTE9XCgoKc190ZXN0ID0gIkkgaGF2ZSBuZXZlciBiZW\\\n",
    "VuIHNwb2tlbiB0byBzbyB0ZXJyaWJsZSBhbmQgbGllZCB0byBzbyBtYW55IHRpbWVzIGZyb20gd2hhdCBzaG91bGQgYmUgcHJvZm\\\n",
    "Vzc2lvbmFscy4gSSB3YXMgdHJ5aW5nIHRvIGhlbHAgbXkgZGF1Z2h0ZXIgcmVudCBhIGhvbWUgYW5kIHdhcyBsaWVkIHRvIG51bW\\\n",
    "Vyb3VzIHRpbWVzIGFib3V0IHRoZWlyIGZhaXIgaG91c2luZyBwcmFjdGljZXMgYW5kIHdhcyBnaXZlbiBkaWZmZXJlbnQgaW5mb3\\\n",
    "JtYXRpb24gZnJvbSBkaWZmZXJlbnQgaW5kaXZpZHVhbHMuIFRoaXMgc2VlbXMgdG8gYmUgYSB2ZXJ5IHBvb3JseSByYW4gY29tcG\\\n",
    "FueSB0aGF0IEkgd291bGQgTkVWRVIgdHJ1c3QgdG8gb3ZlcnNlZSBteSBkYXVnaHRlcnMgc2FmZSBob3VzaW5nIGV4cGVyaWVuY2\\\n",
    "UhIEFzIGEgcGFyZW50IGRvIG5vdCBldmVyIGFsbG93IHlvdXIgYWR1bHQgY2hpbGQgdG8gcmVudCBmcm9tIHRoaXMgY29tcGFueS\\\n",
    "EgVGhleSB3aWxsIG5vdCBiZSB0YWtlbiBjYXJlIG9mISIKCnZhZGVyX3Njb3JlMV9TT0wgPSBhbmFseXplci5wb2xhcml0eV9zY2\\\n",
    "9yZXMocykKCnRjLmFzc2VydEVxdWFsKHZhZGVyX3Njb3JlMSwgdmFkZXJfc2NvcmUxX1NPTCk=')\n",
    "eval(compile(_64, '<string>', 'exec'))"
   ]
  },
  {
   "cell_type": "markdown",
   "metadata": {
    "id": "bs1wYttWZP_T"
   },
   "source": [
    "---\n",
    "\n",
    "### 📌 Applying `analyzer.polarity_scores()` on a DataFrame column.\n",
    "\n",
    "To apply VADER to a pandas Series of strings, combine `Series.apply()` and `analyzer.polarity_scores()` methods. Below is an example to find the polarity scores on a DataFrame."
   ]
  },
  {
   "cell_type": "markdown",
   "metadata": {
    "id": "lkXPpOIVdxtO"
   },
   "source": [
    "▶️ Run the code cell below to create a DataFrame with one string column."
   ]
  },
  {
   "cell_type": "code",
   "execution_count": null,
   "metadata": {},
   "outputs": [],
   "source": [
    "sample_text_values = [\n",
    "    \"VADER is smart, handsome, and funny.\",  # positive sentence example\n",
    "    \"VADER is smart, handsome, and funny!\",  # punctuation emphasis handled correctly (sentiment intensity adjusted)\n",
    "    \"VADER is very smart, handsome, and funny.\", # booster words handled correctly (sentiment intensity adjusted)\n",
    "    \"VADER is VERY SMART, handsome, and FUNNY.\",  # emphasis for ALLCAPS handled\n",
    "    \"VADER is VERY SMART, handsome, and FUNNY!!!\", # combination of signals - VADER appropriately adjusts intensity\n",
    "    \"VADER is VERY SMART, uber handsome, and FRIGGIN FUNNY!!!\", # booster words & punctuation make this close to ceiling for score\n",
    "    \"VADER is not smart, handsome, nor funny.\",  # negation sentence example\n",
    "    \"The book was good.\",  # positive sentence\n",
    "    \"At least it isn't a horrible book.\",  # negated negative sentence with contraction\n",
    "    \"The book was only kind of good.\", # qualified positive sentence is handled correctly (intensity adjusted)\n",
    "    \"The plot was good, but the characters are uncompelling and the dialog is not great.\", # mixed negation sentence\n",
    "    \"Today SUX!\",  # negative slang with capitalization emphasis\n",
    "    \"Today only kinda sux! But I'll get by, lol\", # mixed sentiment example with slang and constrastive conjunction \"but\"\n",
    "    \"Make sure you :) or :D today!\",  # emoticons handled\n",
    "    \"Catch utf-8 emoji such as such as 💘 and 💋 and 😁\",  # emojis handled\n",
    "    \"Not bad at all\"  # Capitalized negation\n",
    "]\n",
    "\n",
    "df_sample = pd.DataFrame({\n",
    "    'text': sample_text_values\n",
    "})\n",
    "\n",
    "df_sample"
   ]
  },
  {
   "cell_type": "markdown",
   "metadata": {
    "id": "lkXPpOIVdxtO"
   },
   "source": [
    "▶️ Run the code cell below to calculate the polarity scores for each row and convert the output into a DataFrame."
   ]
  },
  {
   "cell_type": "code",
   "execution_count": null,
   "metadata": {},
   "outputs": [],
   "source": [
    "# for each row of the text column, run the polarity_scores() function\n",
    "vader_scores = df_sample['text'].apply(analyzer.polarity_scores)\n",
    "\n",
    "# convert the Series of dictionaries into a DataFrame\n",
    "df_vader_scores = pd.DataFrame(\n",
    "    vader_scores.tolist()\n",
    ")\n",
    "\n",
    "df_vader_scores.head()"
   ]
  },
  {
   "cell_type": "markdown",
   "metadata": {
    "id": "lkXPpOIVdxtO"
   },
   "source": [
    "▶️ Run the code cell below to concatenate `df_sample` and `df_vader_scores` horizontally."
   ]
  },
  {
   "cell_type": "code",
   "execution_count": null,
   "metadata": {
    "colab": {
     "base_uri": "https://localhost:8080/",
     "height": 1000
    },
    "id": "Pqv7hWnRLoVb",
    "outputId": "7449676d-1eaf-4a6a-aee8-9c823a5dd2f5"
   },
   "outputs": [],
   "source": [
    "df_merged = pd.concat([df_sample, df_vader_scores], axis=1)\n",
    "df_merged"
   ]
  },
  {
   "cell_type": "markdown",
   "metadata": {
    "id": "CAMvaxOqZP_R"
   },
   "source": [
    "---\n",
    "\n",
    "### 📌 Load tweets\n",
    "\n",
    "▶️ Run the code cell below to create a new `DataFrame` containing a list of tweets."
   ]
  },
  {
   "cell_type": "code",
   "execution_count": null,
   "metadata": {
    "colab": {
     "base_uri": "https://localhost:8080/",
     "height": 363
    },
    "id": "x8M_Ugy1Lb3u",
    "outputId": "f8da1187-c6cc-4315-c7ee-58f9390ad209"
   },
   "outputs": [],
   "source": [
    "df_tweets = pd.read_csv('https://github.com/bdi475/datasets/raw/main/fake-tweets-beautyrite.csv')\n",
    "df_tweets_backup = df_tweets.copy()\n",
    "df_tweets.head(10)"
   ]
  },
  {
   "cell_type": "markdown",
   "metadata": {
    "id": "kokPa7N-ZP_X"
   },
   "source": [
    "---\n",
    "\n",
    "### 🎯 Challenge 3: Calculate vader score of a text column"
   ]
  },
  {
   "cell_type": "markdown",
   "metadata": {
    "id": "ena54NwVZP_X"
   },
   "source": [
    "#### 👇 Tasks\n",
    "\n",
    "- ✔️ Using `df_tweets`, calcualte the polarity scores of each row.\n",
    "- ✔️ Concatenate the polarity scores horizontally to `df_tweets`.\n",
    "    - Store the concatenated DataFrame to a new variable named `df_merged`.\n",
    "\n",
    "#### 🔑 Expected Output\n",
    "\n",
    "|    | text                                                                                                                      |   neg |   neu |   pos |   compound |\n",
    "|---:|:--------------------------------------------------------------------------------------------------------------------------|------:|------:|------:|-----------:|\n",
    "|  0 | every time I go into Beautyrite everybody’s makeup look bad, what’s that about?                                           | 0.226 | 0.774 | 0.000 |    -0.5423 |\n",
    "|  1 | Got in my car to go to the gym but it took me to Beautyrite.                                                              | 0.000 | 1.000 | 0.000 |    0.0000  |\n",
    "|  2 | Why don’t airports have helpful stores like Beautyrite? Why do we need 5 different burger restaurants?                    | 0.000 | 0.712 | 0.288 |     0.6868 |\n",
    "|  3 | Y’all go to Beautyrite’s IG and look at their awful spring lineup 😭😭😭😭😭😭                                            | 0.484 | 0.516 | 0.000 |    -0.9666 |\n",
    "|  4 | Today I learned that Acme Makeups, BeautyRite, Wonka Factory are all owned by a single company. The illusion of choice... | 0.000 | 1.000 | 0.000 |    0.0000  |"
   ]
  },
  {
   "cell_type": "code",
   "execution_count": null,
   "metadata": {
    "colab": {
     "base_uri": "https://localhost:8080/",
     "height": 0
    },
    "id": "PyKRWwiQZP_Y",
    "outputId": "15125f95-5cd6-4f8a-fb82-21036f4333c2"
   },
   "outputs": [],
   "source": [
    "# YOUR CODE BEGINS\n",
    "\n",
    "# YOUR CODE ENDS\n",
    "\n",
    "df_merged.head(5)"
   ]
  },
  {
   "cell_type": "markdown",
   "metadata": {
    "id": "b2-nsJ7vZP_Y"
   },
   "source": [
    "#### 🧭 Check Your Work\n",
    "\n",
    "- Once you're done, run the code cell below to test correctness.\n",
    "- ✔️ If the code cell runs without an error, you're good to move on.\n",
    "- ❌ If the code cell throws an error, go back and fix incorrect parts."
   ]
  },
  {
   "cell_type": "code",
   "execution_count": null,
   "metadata": {
    "id": "8mgAcHGcZP_Y",
    "nbgrader": {
     "grade": true,
     "grade_id": "challenge-03",
     "locked": true,
     "points": "1",
     "solution": false
    }
   },
   "outputs": [],
   "source": [
    "# DO NOT CHANGE THE CODE IN THIS CELL\n",
    "_test_case = 'calculate-vader-scores-of-a-text-column'\n",
    "_points = 1\n",
    "_obfuscate = True\n",
    "\n",
    "import base64 as _b64\n",
    "_64 = _b64.b64decode('IyBETyBOT1QgQ0hBTkdFIFRIRSBDT0RFIEJFTE9XCgoKdmFkZXJfc2NvcmVzX1NPTCA9IGRmX3R3ZW\\\n",
    "V0c19iYWNrdXBbJ3RleHQnXS5hcHBseShhbmFseXplci5wb2xhcml0eV9zY29yZXMpCgpkZl92YWRlcl9zY29yZXNfU09MID0gcG\\\n",
    "QuRGF0YUZyYW1lKAogICAgdmFkZXJfc2NvcmVzX1NPTC50b2xpc3QoKQopCgpkZl9tZXJnZWRfU09MID0gcGQuY29uY2F0KFtkZl\\\n",
    "90d2VldHNfYmFja3VwLCBkZl92YWRlcl9zY29yZXNfU09MXSwgYXhpcz0xKQpwZC50ZXN0aW5nLmFzc2VydF9mcmFtZV9lcXVhbC\\\n",
    "hkZl9tZXJnZWQuc29ydF92YWx1ZXMoZGZfbWVyZ2VkLmNvbHVtbnMudG9fbGlzdCgpKS5yZXNldF9pbmRleChkcm9wPVRydWUpLA\\\n",
    "ogICAgICAgICAgICAgICAgICAgICAgICAgICAgICBkZl9tZXJnZWRfU09MLnNvcnRfdmFsdWVzKGRmX21lcmdlZF9TT0wuY29sdW\\\n",
    "1ucy50b2xpc3QoKSkucmVzZXRfaW5kZXgoZHJvcD1UcnVlKSk=')\n",
    "eval(compile(_64, '<string>', 'exec'))"
   ]
  },
  {
   "cell_type": "markdown",
   "metadata": {
    "id": "kokPa7N-ZP_X"
   },
   "source": [
    "---\n",
    "\n",
    "### 🎯 Challenge 4: Find the average compound score"
   ]
  },
  {
   "cell_type": "markdown",
   "metadata": {
    "id": "ena54NwVZP_X"
   },
   "source": [
    "#### 👇 Tasks\n",
    "\n",
    "- ✔️ Using `df_merged`, calcualte the average compound score.\n",
    "- ✔️ Store the result to a new variable named `average_compound_score`."
   ]
  },
  {
   "cell_type": "code",
   "execution_count": null,
   "metadata": {
    "colab": {
     "base_uri": "https://localhost:8080/",
     "height": 0
    },
    "id": "PyKRWwiQZP_Y",
    "outputId": "15125f95-5cd6-4f8a-fb82-21036f4333c2"
   },
   "outputs": [],
   "source": [
    "# YOUR CODE BEGINS\n",
    "\n",
    "# YOUR CODE ENDS\n",
    "\n",
    "print(f\"The average compound score is {round(average_compound_score, 4)}\")"
   ]
  },
  {
   "cell_type": "markdown",
   "metadata": {
    "id": "b2-nsJ7vZP_Y",
    "tags": []
   },
   "source": [
    "#### 🧭 Check Your Work\n",
    "\n",
    "- Once you're done, run the code cell below to test correctness.\n",
    "- ✔️ If the code cell runs without an error, you're good to move on.\n",
    "- ❌ If the code cell throws an error, go back and fix incorrect parts."
   ]
  },
  {
   "cell_type": "code",
   "execution_count": null,
   "metadata": {
    "id": "8mgAcHGcZP_Y",
    "nbgrader": {
     "grade": true,
     "grade_id": "challenge-03",
     "locked": true,
     "points": "1",
     "solution": false
    }
   },
   "outputs": [],
   "source": [
    "# DO NOT CHANGE THE CODE IN THIS CELL\n",
    "_test_case = 'calculate-average-compound-score'\n",
    "_points = 1\n",
    "_obfuscate = True\n",
    "\n",
    "import base64 as _b64\n",
    "_64 = _b64.b64decode('IyBETyBOT1QgQ0hBTkdFIFRIRSBDT0RFIEJFTE9XCgoKYXZlcmFnZV9jb21wb3VuZF9zY29yZV9TT0\\\n",
    "wgPSBkZl9tZXJnZWRfU09MWydjb21wb3VuZCddLm1lYW4oKQoKdGMuYXNzZXJ0QWxtb3N0RXF1YWwoYXZlcmFnZV9jb21wb3VuZF\\\n",
    "9zY29yZSwgYXZlcmFnZV9jb21wb3VuZF9zY29yZV9TT0wp')\n",
    "eval(compile(_64, '<string>', 'exec'))"
   ]
  },
  {
   "cell_type": "markdown",
   "metadata": {
    "id": "kokPa7N-ZP_X"
   },
   "source": [
    "---\n",
    "\n",
    "### 🎯 Challenge 5: Find the top 10 positive tweets"
   ]
  },
  {
   "cell_type": "markdown",
   "metadata": {
    "id": "ena54NwVZP_X"
   },
   "source": [
    "#### 👇 Tasks\n",
    "\n",
    "- ✔️ Using `df_merged`, filter the top 10 postive tweets.\n",
    "    - Use the compound score (`compound` column).\n",
    "- ✔️ Store the filtered DataFrame to a new variable named `df_top10_positive`.\n",
    "- ✔️ Sort `df_top10_positive` by `compound` in descending order.\n",
    "\n",
    "#### 🔑 Expected Output\n",
    "\n",
    "|    | text                                                                                                                                                                                                                 |   neg |   neu |   pos |   compound |\n",
    "|---:|:---------------------------------------------------------------------------------------------------------------------------------------------------------------------------------------------------------------------|------:|------:|------:|-----------:|\n",
    "| 37 | My BFF gave me a Beautyrite gift card for my birthday 🥰 i love getting gift cards.                                                                                                                                  | 0.000 | 0.406 | 0.594 |     0.9717 |\n",
    "| 24 | IN LOVE WITH BEAUTY2LIPS 🤩🥰                                                                                                                                                                                        | 0.000 | 0.364 | 0.636 |     0.9222 |\n",
    "| 19 | Got my BeautyBase merch I am happy I got the first batch 🥰                                                                                                                                                          | 0.000 | 0.56  | 0.44  |     0.9001 |\n",
    "|  6 | Beautyrite is 20% off today (all purchases). 30% off Beautyrite collection.. if you buy 2 BeautyBase products you get a free bag! 🥰                                                                                 | 0.000 | 0.688 | 0.312 |     0.8977 |\n",
    "| 52 | I would like a girls winter date where we shop at Beautyrite. We have tea, read books together &amp; excitingly share thoughts. Then we go home &amp; watch Harry Potter in comfy clothes and blankets. Pls &amp; ty | 0.000 | 0.742 | 0.258 |     0.8591 |\n",
    "|  5 | My kid has entered the “how many chemicals and colors can I put on my face in one day” phase. Please help, like in the form of Beautyrite gift cards?                                                                | 0.000 | 0.714 | 0.286 |     0.8555 |\n",
    "| 11 | Linda has 50 items in her Beautyrite cart😃 anyone wanna help a brotha out cuz ima be broke after the holidays😃                                                                                                     | 0.072 | 0.665 | 0.263 |     0.7579 |\n",
    "| 55 | used my beautychai skincare today that i got via my favorite Beautyrite employee                                                                                                                                     | 0.000 | 0.67  | 0.33  |     0.7506 |\n",
    "|    | feeling rlly good abt beauty2lips                                                                                                                                                                                    |       |       |       |            |\n",
    "| 43 | So there's another 20% off Beautyrite... what was the point of the VIP sale?!?!                                                                                                                                      | 0.000 | 0.723 | 0.277 |     0.7164 |\n",
    "|  2 | Why don’t airports have helpful stores like Beautyrite? Why do we need 5 different burger restaurants?                                                                                                               | 0.000 | 0.712 | 0.288 |     0.6868 |"
   ]
  },
  {
   "cell_type": "code",
   "execution_count": null,
   "metadata": {
    "colab": {
     "base_uri": "https://localhost:8080/",
     "height": 0
    },
    "id": "PyKRWwiQZP_Y",
    "outputId": "15125f95-5cd6-4f8a-fb82-21036f4333c2"
   },
   "outputs": [],
   "source": [
    "# YOUR CODE BEGINS\n",
    "\n",
    "# YOUR CODE ENDS\n",
    "\n",
    "df_top10_positive"
   ]
  },
  {
   "cell_type": "markdown",
   "metadata": {
    "id": "b2-nsJ7vZP_Y",
    "tags": []
   },
   "source": [
    "#### 🧭 Check Your Work\n",
    "\n",
    "- Once you're done, run the code cell below to test correctness.\n",
    "- ✔️ If the code cell runs without an error, you're good to move on.\n",
    "- ❌ If the code cell throws an error, go back and fix incorrect parts."
   ]
  },
  {
   "cell_type": "code",
   "execution_count": null,
   "metadata": {
    "id": "8mgAcHGcZP_Y",
    "nbgrader": {
     "grade": true,
     "grade_id": "challenge-03",
     "locked": true,
     "points": "1",
     "solution": false
    }
   },
   "outputs": [],
   "source": [
    "# DO NOT CHANGE THE CODE IN THIS CELL\n",
    "_test_case = 'find-top-10-positive-tweets'\n",
    "_points = 1\n",
    "_obfuscate = True\n",
    "\n",
    "import base64 as _b64\n",
    "_64 = _b64.b64decode('IyBETyBOT1QgQ0hBTkdFIFRIRSBDT0RFIEJFTE9XCgoKZGZfdG9wMTBfcG9zaXRpdmVfU09MID0gZG\\\n",
    "ZfbWVyZ2VkX1NPTC5zb3J0X3ZhbHVlcygnY29tcG91bmQnLCBhc2NlbmRpbmc9RmFsc2UpLmhlYWQoMTApCnBkLnRlc3RpbmcuYX\\\n",
    "NzZXJ0X2ZyYW1lX2VxdWFsKGRmX3RvcDEwX3Bvc2l0aXZlLnJlc2V0X2luZGV4KGRyb3A9VHJ1ZSksCiAgICAgICAgICAgICAgIC\\\n",
    "AgICAgICAgICAgICAgIGRmX3RvcDEwX3Bvc2l0aXZlX1NPTC5yZXNldF9pbmRleChkcm9wPVRydWUpKQ==')\n",
    "eval(compile(_64, '<string>', 'exec'))"
   ]
  },
  {
   "cell_type": "markdown",
   "metadata": {
    "id": "kokPa7N-ZP_X"
   },
   "source": [
    "---\n",
    "\n",
    "### 🎯 Challenge 6: Find the top 10 negative tweets"
   ]
  },
  {
   "cell_type": "markdown",
   "metadata": {
    "id": "ena54NwVZP_X"
   },
   "source": [
    "#### 👇 Tasks\n",
    "\n",
    "- ✔️ Using `df_merged`, filter the top 10 negative tweets.\n",
    "    - Use the compound score (`compound` column).\n",
    "- ✔️ Store the filtered DataFrame to a new variable named `df_top10_negative`.\n",
    "- ✔️ Sort `df_top10_negative` by `compound` in ascending order.\n",
    "\n",
    "#### 🔑 Expected Output\n",
    "\n",
    "|    | text                                                                                                                                                                                                              |   neg |   neu |   pos |   compound |\n",
    "|---:|:------------------------------------------------------------------------------------------------------------------------------------------------------------------------------------------------------------------|------:|------:|------:|-----------:|\n",
    "|  3 | Y’all go to Beautyrite’s IG and look at their awful spring lineup 😭😭😭😭😭😭                                                                                                                                    | 0.484 | 0.516 | 0.000 |    -0.9666 |\n",
    "| 58 | I feel so bad that my girls Beautyrite package got stolen. She worked so hard for that . . . fucking thieves                                                                                                      | 0.422 | 0.578 | 0.000 |    -0.9209 |\n",
    "| 59 | 😭😭You can DoorDash Beautyrite now??😭😭                                                                                                                                                                         | 0.515 | 0.485 | 0.000 |    -0.9146 |\n",
    "| 28 | Ok but the Beautyrite birthday gifts are lowkey a curse cause why am I about to spend $100 for a face cream 😭                                                                                                    | 0.274 | 0.677 | 0.049 |    -0.8519 |\n",
    "| 46 | I BOUGHT THE WRONG BEAUTYRITE LIPSTICK SHADEEE AND I BASICALLY WASTED MONEY OML IN MY DEFENSE I WAS IN A RUSH THAT LIPSTICK MAKES ME LOOK PALE AF THIS IS WHY I ONLY BUY EYELINER AND MASCARA EVERY SINGLE TIME🙄 | 0.152 | 0.804 | 0.044 |    -0.7603 |\n",
    "| 35 | I have an interview at Beautyrite today tell my why I had a dream I didn't get the job😂😭😭😭                                                                                                                    | 0.255 | 0.614 | 0.132 |    -0.6597 |\n",
    "| 14 | why are Beautyrite employees so rude like damn                                                                                                                                                                    | 0.468 | 0.342 | 0.190 |    -0.6189 |\n",
    "| 13 | cried in the middle of Beautyrite because the workers wouldn’t leave me alone 🤩                                                                                                                                  | 0.345 | 0.655 | 0.000 |    -0.5859 |\n",
    "| 49 | I hate Beautyrite, I feel out of place                                                                                                                                                                            | 0.346 | 0.654 | 0.000 |    -0.5719 |\n",
    "|  0 | every time I go into Beautyrite everybody’s makeup look bad, what’s that about?                                                                                                                                   | 0.226 | 0.774 | 0.000 |    -0.5423 |"
   ]
  },
  {
   "cell_type": "code",
   "execution_count": null,
   "metadata": {
    "colab": {
     "base_uri": "https://localhost:8080/",
     "height": 0
    },
    "id": "PyKRWwiQZP_Y",
    "outputId": "15125f95-5cd6-4f8a-fb82-21036f4333c2"
   },
   "outputs": [],
   "source": [
    "# YOUR CODE BEGINS\n",
    "\n",
    "# YOUR CODE ENDS\n",
    "\n",
    "df_top10_negative"
   ]
  },
  {
   "cell_type": "markdown",
   "metadata": {
    "id": "b2-nsJ7vZP_Y",
    "tags": []
   },
   "source": [
    "#### 🧭 Check Your Work\n",
    "\n",
    "- Once you're done, run the code cell below to test correctness.\n",
    "- ✔️ If the code cell runs without an error, you're good to move on.\n",
    "- ❌ If the code cell throws an error, go back and fix incorrect parts."
   ]
  },
  {
   "cell_type": "code",
   "execution_count": null,
   "metadata": {
    "id": "8mgAcHGcZP_Y",
    "nbgrader": {
     "grade": true,
     "grade_id": "challenge-03",
     "locked": true,
     "points": "1",
     "solution": false
    }
   },
   "outputs": [],
   "source": [
    "# DO NOT CHANGE THE CODE IN THIS CELL\n",
    "_test_case = 'find-top-10-negative-tweets'\n",
    "_points = 1\n",
    "_obfuscate = True\n",
    "\n",
    "import base64 as _b64\n",
    "_64 = _b64.b64decode('IyBETyBOT1QgQ0hBTkdFIFRIRSBDT0RFIEJFTE9XCgoKZGZfdG9wMTBfbmVnYXRpdmVfU09MID0gZG\\\n",
    "ZfbWVyZ2VkX1NPTC5zb3J0X3ZhbHVlcygnY29tcG91bmQnKS5oZWFkKDEwKQpwZC50ZXN0aW5nLmFzc2VydF9mcmFtZV9lcXVhbC\\\n",
    "hkZl90b3AxMF9uZWdhdGl2ZS5yZXNldF9pbmRleChkcm9wPVRydWUpLAogICAgICAgICAgICAgICAgICAgICAgICAgICAgICBkZl\\\n",
    "90b3AxMF9uZWdhdGl2ZV9TT0wucmVzZXRfaW5kZXgoZHJvcD1UcnVlKSk=')\n",
    "eval(compile(_64, '<string>', 'exec'))"
   ]
  }
 ],
 "metadata": {
  "colab": {
   "provenance": []
  },
  "kernelspec": {
   "display_name": "Python 3 (ipykernel)",
   "language": "python",
   "name": "python3"
  },
  "language_info": {
   "codemirror_mode": {
    "name": "ipython",
    "version": 3
   },
   "file_extension": ".py",
   "mimetype": "text/x-python",
   "name": "python",
   "nbconvert_exporter": "python",
   "pygments_lexer": "ipython3",
   "version": "3.9.7"
  }
 },
 "nbformat": 4,
 "nbformat_minor": 4
}
