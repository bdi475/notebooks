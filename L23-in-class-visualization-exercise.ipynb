{
 "cells": [
  {
   "cell_type": "markdown",
   "metadata": {},
   "source": [
    "# Visualization In-class Exercise"
   ]
  },
  {
   "cell_type": "markdown",
   "metadata": {},
   "source": [
    "---\n",
    "\n",
    "▶️ Run the code cell below to import packages used in today's exercise."
   ]
  },
  {
   "cell_type": "code",
   "execution_count": 2,
   "metadata": {},
   "outputs": [],
   "source": [
    "import pandas as pd\n",
    "import numpy as np\n",
    "import plotly.express as px\n",
    "import plotly.graph_objects as go\n",
    "\n",
    "pd.set_option('display.max_columns', 50)"
   ]
  },
  {
   "cell_type": "markdown",
   "metadata": {},
   "source": [
    "▶️ Run the code below to import a list of leasing companies or apartment complexes in the Champaign/Urbana area."
   ]
  },
  {
   "cell_type": "code",
   "execution_count": 3,
   "metadata": {},
   "outputs": [
    {
     "data": {
      "text/html": [
       "<div>\n",
       "<style scoped>\n",
       "    .dataframe tbody tr th:only-of-type {\n",
       "        vertical-align: middle;\n",
       "    }\n",
       "\n",
       "    .dataframe tbody tr th {\n",
       "        vertical-align: top;\n",
       "    }\n",
       "\n",
       "    .dataframe thead th {\n",
       "        text-align: right;\n",
       "    }\n",
       "</style>\n",
       "<table border=\"1\" class=\"dataframe\">\n",
       "  <thead>\n",
       "    <tr style=\"text-align: right;\">\n",
       "      <th></th>\n",
       "      <th>google_place_id</th>\n",
       "      <th>name</th>\n",
       "      <th>site</th>\n",
       "      <th>category</th>\n",
       "      <th>phone</th>\n",
       "      <th>street</th>\n",
       "      <th>city</th>\n",
       "      <th>zipcode</th>\n",
       "      <th>state</th>\n",
       "      <th>latitude</th>\n",
       "      <th>longitude</th>\n",
       "      <th>working_hours</th>\n",
       "      <th>business_status</th>\n",
       "      <th>about</th>\n",
       "      <th>verified</th>\n",
       "    </tr>\n",
       "  </thead>\n",
       "  <tbody>\n",
       "    <tr>\n",
       "      <th>0</th>\n",
       "      <td>ChIJjy21MDbXDIgRG8W0CUaifWM</td>\n",
       "      <td>Bankier Apartments</td>\n",
       "      <td>http://www.bankierapartments.com/</td>\n",
       "      <td>Apartment rental agency</td>\n",
       "      <td>+1 217-328-3770</td>\n",
       "      <td>406 E Green St</td>\n",
       "      <td>Champaign</td>\n",
       "      <td>61820</td>\n",
       "      <td>Illinois</td>\n",
       "      <td>40.110661</td>\n",
       "      <td>-88.232315</td>\n",
       "      <td>{\"Monday\": \"8 AM-5 PM\", \"Tuesday\": \"8 AM-5 PM\"...</td>\n",
       "      <td>OPERATIONAL</td>\n",
       "      <td>{\"Accessibility\": {\"Wheelchair accessible entr...</td>\n",
       "      <td>True</td>\n",
       "    </tr>\n",
       "    <tr>\n",
       "      <th>1</th>\n",
       "      <td>ChIJX_L4rUnXDIgR9TAeTC_hgXA</td>\n",
       "      <td>University Group</td>\n",
       "      <td>http://ugroupcu.com/</td>\n",
       "      <td>Apartment rental agency</td>\n",
       "      <td>+1 217-352-3182</td>\n",
       "      <td>309 S 1st St</td>\n",
       "      <td>Champaign</td>\n",
       "      <td>61820</td>\n",
       "      <td>Illinois</td>\n",
       "      <td>40.113271</td>\n",
       "      <td>-88.239049</td>\n",
       "      <td>{\"Monday\": \"10 AM-5 PM\", \"Tuesday\": \"10 AM-5 P...</td>\n",
       "      <td>OPERATIONAL</td>\n",
       "      <td>{\"Service options\": {\"Online appointments\": tr...</td>\n",
       "      <td>True</td>\n",
       "    </tr>\n",
       "    <tr>\n",
       "      <th>2</th>\n",
       "      <td>ChIJh-fkijjXDIgRiBiW0D9azyk</td>\n",
       "      <td>Campustown Rentals</td>\n",
       "      <td>https://www.americancampus.com/student-apartme...</td>\n",
       "      <td>Apartment rental agency</td>\n",
       "      <td>+1 217-366-3500</td>\n",
       "      <td>309 E Green St</td>\n",
       "      <td>Champaign</td>\n",
       "      <td>61820</td>\n",
       "      <td>Illinois</td>\n",
       "      <td>40.110051</td>\n",
       "      <td>-88.234160</td>\n",
       "      <td>{\"Monday\": \"10 AM-7 PM\", \"Tuesday\": \"10 AM-7 P...</td>\n",
       "      <td>OPERATIONAL</td>\n",
       "      <td>{\"Accessibility\": {\"Wheelchair accessible park...</td>\n",
       "      <td>True</td>\n",
       "    </tr>\n",
       "  </tbody>\n",
       "</table>\n",
       "</div>"
      ],
      "text/plain": [
       "               google_place_id                name  \\\n",
       "0  ChIJjy21MDbXDIgRG8W0CUaifWM  Bankier Apartments   \n",
       "1  ChIJX_L4rUnXDIgR9TAeTC_hgXA    University Group   \n",
       "2  ChIJh-fkijjXDIgRiBiW0D9azyk  Campustown Rentals   \n",
       "\n",
       "                                                site                 category  \\\n",
       "0                  http://www.bankierapartments.com/  Apartment rental agency   \n",
       "1                               http://ugroupcu.com/  Apartment rental agency   \n",
       "2  https://www.americancampus.com/student-apartme...  Apartment rental agency   \n",
       "\n",
       "             phone          street       city  zipcode     state   latitude  \\\n",
       "0  +1 217-328-3770  406 E Green St  Champaign    61820  Illinois  40.110661   \n",
       "1  +1 217-352-3182    309 S 1st St  Champaign    61820  Illinois  40.113271   \n",
       "2  +1 217-366-3500  309 E Green St  Champaign    61820  Illinois  40.110051   \n",
       "\n",
       "   longitude                                      working_hours  \\\n",
       "0 -88.232315  {\"Monday\": \"8 AM-5 PM\", \"Tuesday\": \"8 AM-5 PM\"...   \n",
       "1 -88.239049  {\"Monday\": \"10 AM-5 PM\", \"Tuesday\": \"10 AM-5 P...   \n",
       "2 -88.234160  {\"Monday\": \"10 AM-7 PM\", \"Tuesday\": \"10 AM-7 P...   \n",
       "\n",
       "  business_status                                              about  verified  \n",
       "0     OPERATIONAL  {\"Accessibility\": {\"Wheelchair accessible entr...      True  \n",
       "1     OPERATIONAL  {\"Service options\": {\"Online appointments\": tr...      True  \n",
       "2     OPERATIONAL  {\"Accessibility\": {\"Wheelchair accessible park...      True  "
      ]
     },
     "execution_count": 3,
     "metadata": {},
     "output_type": "execute_result"
    }
   ],
   "source": [
    "df_businesses = pd.read_csv('https://github.com/bdi475/datasets/raw/main/cu-leasing-companies/businesses.csv')\n",
    "df_businesses.head(3)"
   ]
  },
  {
   "cell_type": "markdown",
   "metadata": {},
   "source": [
    "▶️ Run the code below to import the reviews associated with the leasing companies."
   ]
  },
  {
   "cell_type": "code",
   "execution_count": 4,
   "metadata": {},
   "outputs": [
    {
     "data": {
      "text/html": [
       "<div>\n",
       "<style scoped>\n",
       "    .dataframe tbody tr th:only-of-type {\n",
       "        vertical-align: middle;\n",
       "    }\n",
       "\n",
       "    .dataframe tbody tr th {\n",
       "        vertical-align: top;\n",
       "    }\n",
       "\n",
       "    .dataframe thead th {\n",
       "        text-align: right;\n",
       "    }\n",
       "</style>\n",
       "<table border=\"1\" class=\"dataframe\">\n",
       "  <thead>\n",
       "    <tr style=\"text-align: right;\">\n",
       "      <th></th>\n",
       "      <th>google_place_id</th>\n",
       "      <th>review_id</th>\n",
       "      <th>author_name</th>\n",
       "      <th>author_id</th>\n",
       "      <th>review_text</th>\n",
       "      <th>review_img_url</th>\n",
       "      <th>review_rating</th>\n",
       "      <th>review_datetime_utc</th>\n",
       "      <th>review_likes</th>\n",
       "      <th>owner_response_text</th>\n",
       "      <th>owner_response_datetime_utc</th>\n",
       "      <th>owner_response_timestamp_utc</th>\n",
       "    </tr>\n",
       "  </thead>\n",
       "  <tbody>\n",
       "    <tr>\n",
       "      <th>0</th>\n",
       "      <td>ChIJjy21MDbXDIgRG8W0CUaifWM</td>\n",
       "      <td>ChZDSUhNMG9nS0VJQ0FnSURxdWF1eERREAE</td>\n",
       "      <td>Brian Brock</td>\n",
       "      <td>102851961623119326838</td>\n",
       "      <td>I lived here for about 2 years. Did not have a...</td>\n",
       "      <td>NaN</td>\n",
       "      <td>5</td>\n",
       "      <td>2021-07-13 19:57:53</td>\n",
       "      <td>0</td>\n",
       "      <td>NaN</td>\n",
       "      <td>NaN</td>\n",
       "      <td>NaN</td>\n",
       "    </tr>\n",
       "    <tr>\n",
       "      <th>1</th>\n",
       "      <td>ChIJjy21MDbXDIgRG8W0CUaifWM</td>\n",
       "      <td>ChZDSUhNMG9nS0VJQ0FnSUNlaTdHS0tREAE</td>\n",
       "      <td>Harry Verrill</td>\n",
       "      <td>111148195158442346207</td>\n",
       "      <td>I leased one of their single bedroom apartment...</td>\n",
       "      <td>NaN</td>\n",
       "      <td>5</td>\n",
       "      <td>2022-09-23 17:29:10</td>\n",
       "      <td>0</td>\n",
       "      <td>NaN</td>\n",
       "      <td>NaN</td>\n",
       "      <td>NaN</td>\n",
       "    </tr>\n",
       "    <tr>\n",
       "      <th>2</th>\n",
       "      <td>ChIJjy21MDbXDIgRG8W0CUaifWM</td>\n",
       "      <td>ChdDSUhNMG9nS0VJQ0FnSURpdnFXY2h3RRAB</td>\n",
       "      <td>Richard Kirby</td>\n",
       "      <td>106990939380419351259</td>\n",
       "      <td>I am in my third year of living with Bankier a...</td>\n",
       "      <td>NaN</td>\n",
       "      <td>5</td>\n",
       "      <td>2020-12-03 22:47:12</td>\n",
       "      <td>0</td>\n",
       "      <td>HI Richard, thank you so much for taking the t...</td>\n",
       "      <td>2020-12-07 22:08:12</td>\n",
       "      <td>2020-12-07 22:08:12</td>\n",
       "    </tr>\n",
       "  </tbody>\n",
       "</table>\n",
       "</div>"
      ],
      "text/plain": [
       "               google_place_id                             review_id  \\\n",
       "0  ChIJjy21MDbXDIgRG8W0CUaifWM   ChZDSUhNMG9nS0VJQ0FnSURxdWF1eERREAE   \n",
       "1  ChIJjy21MDbXDIgRG8W0CUaifWM   ChZDSUhNMG9nS0VJQ0FnSUNlaTdHS0tREAE   \n",
       "2  ChIJjy21MDbXDIgRG8W0CUaifWM  ChdDSUhNMG9nS0VJQ0FnSURpdnFXY2h3RRAB   \n",
       "\n",
       "     author_name              author_id  \\\n",
       "0    Brian Brock  102851961623119326838   \n",
       "1  Harry Verrill  111148195158442346207   \n",
       "2  Richard Kirby  106990939380419351259   \n",
       "\n",
       "                                         review_text review_img_url  \\\n",
       "0  I lived here for about 2 years. Did not have a...            NaN   \n",
       "1  I leased one of their single bedroom apartment...            NaN   \n",
       "2  I am in my third year of living with Bankier a...            NaN   \n",
       "\n",
       "   review_rating  review_datetime_utc  review_likes  \\\n",
       "0              5  2021-07-13 19:57:53             0   \n",
       "1              5  2022-09-23 17:29:10             0   \n",
       "2              5  2020-12-03 22:47:12             0   \n",
       "\n",
       "                                 owner_response_text  \\\n",
       "0                                                NaN   \n",
       "1                                                NaN   \n",
       "2  HI Richard, thank you so much for taking the t...   \n",
       "\n",
       "  owner_response_datetime_utc owner_response_timestamp_utc  \n",
       "0                         NaN                          NaN  \n",
       "1                         NaN                          NaN  \n",
       "2         2020-12-07 22:08:12          2020-12-07 22:08:12  "
      ]
     },
     "execution_count": 4,
     "metadata": {},
     "output_type": "execute_result"
    }
   ],
   "source": [
    "df_reviews = pd.read_csv('https://github.com/bdi475/datasets/raw/main/cu-leasing-companies/reviews.csv')\n",
    "df_reviews.head(3)"
   ]
  },
  {
   "cell_type": "markdown",
   "metadata": {},
   "source": [
    "---\n",
    "\n",
    "### 🎯 Task for the day\n",
    "\n",
    "- ✔️ Join the two DataFrames (`df_businesses` and `df_reviews`).\n",
    "    - Use the `google_place_id` column to match rows between the two tables.\n",
    "    - Use an inner join.\n",
    "- ✔️ Create at least six different Plotly visualizations. \n",
    "    - ✔️ Use at least four different chart types (e.g., Line, Bar, Pie, Treemap)."
   ]
  },
  {
   "cell_type": "code",
   "execution_count": null,
   "metadata": {},
   "outputs": [],
   "source": []
  },
  {
   "cell_type": "code",
   "execution_count": null,
   "metadata": {},
   "outputs": [],
   "source": []
  },
  {
   "cell_type": "code",
   "execution_count": null,
   "metadata": {},
   "outputs": [],
   "source": []
  },
  {
   "cell_type": "code",
   "execution_count": null,
   "metadata": {},
   "outputs": [],
   "source": []
  },
  {
   "cell_type": "code",
   "execution_count": null,
   "metadata": {},
   "outputs": [],
   "source": []
  },
  {
   "cell_type": "code",
   "execution_count": null,
   "metadata": {},
   "outputs": [],
   "source": []
  },
  {
   "cell_type": "code",
   "execution_count": null,
   "metadata": {},
   "outputs": [],
   "source": []
  },
  {
   "cell_type": "code",
   "execution_count": null,
   "metadata": {},
   "outputs": [],
   "source": []
  },
  {
   "cell_type": "code",
   "execution_count": null,
   "metadata": {},
   "outputs": [],
   "source": []
  },
  {
   "cell_type": "code",
   "execution_count": null,
   "metadata": {},
   "outputs": [],
   "source": []
  },
  {
   "cell_type": "code",
   "execution_count": null,
   "metadata": {},
   "outputs": [],
   "source": []
  },
  {
   "cell_type": "code",
   "execution_count": null,
   "metadata": {},
   "outputs": [],
   "source": []
  },
  {
   "cell_type": "code",
   "execution_count": null,
   "metadata": {},
   "outputs": [],
   "source": []
  }
 ],
 "metadata": {
  "kernelspec": {
   "display_name": "Python 3 (ipykernel)",
   "language": "python",
   "name": "python3"
  },
  "language_info": {
   "codemirror_mode": {
    "name": "ipython",
    "version": 3
   },
   "file_extension": ".py",
   "mimetype": "text/x-python",
   "name": "python",
   "nbconvert_exporter": "python",
   "pygments_lexer": "ipython3",
   "version": "3.9.7"
  }
 },
 "nbformat": 4,
 "nbformat_minor": 4
}
