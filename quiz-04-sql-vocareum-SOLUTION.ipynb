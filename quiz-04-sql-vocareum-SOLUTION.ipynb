{
 "cells": [
  {
   "cell_type": "markdown",
   "metadata": {},
   "source": [
    "# Quiz 4 - Lending Club Loan Data (SQL)\n",
    "\n",
    "- 🏆 25 points available\n",
    "- ⏱ 25 minutes"
   ]
  },
  {
   "cell_type": "markdown",
   "metadata": {
    "id": "DiznwS2xem7h"
   },
   "source": [
    "▶️ First, run the code cell below to import `unittest`, a module used for **🧭 Check Your Work** sections and the autograder."
   ]
  },
  {
   "cell_type": "code",
   "execution_count": null,
   "metadata": {
    "collapsed": true,
    "id": "xOFvIip0em7h"
   },
   "outputs": [],
   "source": [
    "# DO NOT MODIFY THE CODE IN THIS CELL\n",
    "import unittest\n",
    "import base64\n",
    "tc = unittest.TestCase()"
   ]
  },
  {
   "cell_type": "markdown",
   "metadata": {},
   "source": [
    "---\n",
    "\n",
    "### 🎯 Import packages\n",
    "\n",
    "#### 👇 Tasks\n",
    "\n",
    "- ✔️ Import the following Python packages.\n",
    "    1. `pandas`: Use alias `pd`.\n",
    "    2. `numpy`: Use alias `np`.\n",
    "    3. `sqlite3`: No alias"
   ]
  },
  {
   "cell_type": "code",
   "execution_count": null,
   "metadata": {
    "collapsed": true,
    "id": "jfnhv8_Yem7j"
   },
   "outputs": [],
   "source": [
    "### BEGIN SOLUTION\n",
    "import pandas as pd\n",
    "import numpy as np\n",
    "import sqlite3\n",
    "### END SOLUTION"
   ]
  },
  {
   "cell_type": "markdown",
   "metadata": {},
   "source": [
    "#### 🧭 Check your work"
   ]
  },
  {
   "cell_type": "code",
   "execution_count": null,
   "metadata": {
    "collapsed": true,
    "nbgrader": {
     "grade": true,
     "grade_id": "import-packages",
     "locked": true,
     "points": "2",
     "solution": false
    }
   },
   "outputs": [],
   "source": [
    "# DO NOT CHANGE THE CODE IN THIS CELL\n",
    "tc.assertTrue('pd' in globals(), 'Check whether you have correctly imported Pandas with an alias.')\n",
    "tc.assertTrue('np' in globals(), 'Check whether you have correctly imported NumPy with an alias.')\n",
    "tc.assertTrue('sqlite3' in globals(), 'Check whether you have correctly imported the sqlite3 package.')"
   ]
  },
  {
   "cell_type": "markdown",
   "metadata": {},
   "source": [
    "---\n",
    "### 📌 Populate a database table from a CSV file\n",
    "\n",
    "▶️ Run the code below to populate the `loans` table."
   ]
  },
  {
   "cell_type": "code",
   "execution_count": null,
   "metadata": {
    "collapsed": true
   },
   "outputs": [],
   "source": [
    "conn = sqlite3.connect('lending-club-loan-results.db')\n",
    "c = conn.cursor()\n",
    "\n",
    "tables = list(pd.read_sql_query('SELECT * FROM sqlite_master WHERE type=\"table\";', con=conn)['tbl_name'])\n",
    "\n",
    "if 'loans' in tables:\n",
    "    c.execute(f'DELETE FROM loans')\n",
    "    conn.commit()\n",
    "    \n",
    "pd.read_csv('https://github.com/bdi475/datasets/raw/main/lending-club-loan-results.csv.gz',\n",
    "                         compression='gzip') \\\n",
    "    .to_sql(name='loans', index=False, con=conn, if_exists='append')\n",
    "\n",
    "conn.close()"
   ]
  },
  {
   "cell_type": "markdown",
   "metadata": {},
   "source": [
    "#### 🧭 Check whehter database file was created successfully"
   ]
  },
  {
   "cell_type": "code",
   "execution_count": null,
   "metadata": {
    "collapsed": true
   },
   "outputs": [],
   "source": [
    "# DO NOT CHANGE THE CODE IN THIS CELL\n",
    "conn_checker = sqlite3.connect('lending-club-loan-results.db')\n",
    "table_to_check = 'loans'\n",
    "\n",
    "# Check if table exists\n",
    "user_tables = list(pd.read_sql_query('SELECT * FROM sqlite_master WHERE type=\"table\";', con=conn_checker)['tbl_name'])\n",
    "tc.assertTrue(table_to_check in user_tables, f'{table_to_check} does not exist in your NWT.db file!')\n",
    "\n",
    "conn_checker.close()"
   ]
  },
  {
   "cell_type": "markdown",
   "metadata": {
    "id": "LI33A8-jem7m"
   },
   "source": [
    "The table below describes the columns in the `loans` table.\n",
    "\n",
    "| Field | Description |\n",
    "|---|---|\n",
    "| loan_amnt | listed amount of the loan   applied for by the borrower |\n",
    "| int_rate | interest rate on the loan   (between 0 and 1) |\n",
    "| term_in_months | number of payments on the loan -   either 36 or 60 months |\n",
    "| grade | assigned loan grade (A, B, C, D,   E, F, G) |\n",
    "| job_title | job title supplied by the   Borrower when applying for the loan |\n",
    "| home_ownership | home ownership status provided   by the borrower during registration (RENT, OWN, MORTGAGE) |\n",
    "| annual_inc | self-reported annual income   provided by the borrower during registration |\n",
    "| loan_status | result of the loan (Fully Paid   or Charged Off) |\n",
    "| purpose | a category provided by the   borrower for the loan request |\n",
    "| did_default | 0 == paid in full, 1 == default   (charged off) |"
   ]
  },
  {
   "cell_type": "markdown",
   "metadata": {},
   "source": [
    "▶️ Run the code below to display the first 10 rows of the `loans` table."
   ]
  },
  {
   "cell_type": "code",
   "execution_count": null,
   "metadata": {},
   "outputs": [],
   "source": [
    "conn = sqlite3.connect('lending-club-loan-results.db')\n",
    "display(pd.read_sql_query('SELECT * FROM loans LIMIT 10', con=conn))\n",
    "conn.close()"
   ]
  },
  {
   "cell_type": "markdown",
   "metadata": {},
   "source": [
    "---\n",
    "\n",
    "### 🎯 Challenge 1: Find high profile defaults\n",
    "\n",
    "#### 👇 Tasks\n",
    "\n",
    "- ✔️ Write a query that:\n",
    "    - selects all columns,\n",
    "    - from the `loans` table,\n",
    "    - where the `job_title` is `\"CEO\"`, `annual_inc` is greater than `425000`, **and** `did_default` is `1`\n",
    "- ✔️ Store your query to a new variable named `query_high_profile_defaults`.\n",
    "- ✔️ The order of rows does not matter.\n",
    "\n",
    "#### 🔑 Expected output\n",
    "\n",
    "|    |   loan_amnt |   int_rate |   term_in_months | grade   | job_title   | home_ownership   |   annual_inc | loan_status   | purpose        |   did_default |\n",
    "|---:|------------:|-----------:|-----------------:|:--------|:------------|:-----------------|-------------:|:--------------|:---------------|--------------:|\n",
    "|  0 |       25875 |     0.2649 |               60 | F       | CEO         | RENT             |       450000 | Charged Off   | small_business |             1 |\n",
    "|  1 |       30000 |     0.1599 |               36 | D       | CEO         | RENT             |       450000 | Charged Off   | small_business |             1 |"
   ]
  },
  {
   "cell_type": "code",
   "execution_count": null,
   "metadata": {},
   "outputs": [],
   "source": [
    "### BEGIN SOLUTION\n",
    "query_high_profile_defaults = '''\n",
    "SELECT *\n",
    "FROM loans\n",
    "WHERE (job_title = \"CEO\") AND (annual_inc > 425000) AND (did_default = 1)\n",
    "ORDER BY loan_amnt;\n",
    "'''\n",
    "### END SOLUTION\n",
    "\n",
    "conn = sqlite3.connect('lending-club-loan-results.db')\n",
    "df_result = pd.read_sql_query(query_high_profile_defaults, con=conn)\n",
    "display(df_result)\n",
    "conn.close()"
   ]
  },
  {
   "cell_type": "markdown",
   "metadata": {},
   "source": [
    "#### 🧭 Check your work"
   ]
  },
  {
   "cell_type": "code",
   "execution_count": null,
   "metadata": {
    "nbgrader": {
     "grade": true,
     "grade_id": "challenge-01",
     "locked": true,
     "points": "5",
     "solution": false
    }
   },
   "outputs": [],
   "source": [
    "conn = sqlite3.connect('lending-club-loan-results.db')\n",
    "decoded_query = base64.b64decode(b'ClNFTEVDVCAqCkZST00gbG9hbnMKV0hFUkUgKGpvYl90aXRsZSA\\\n",
    "9ICJDRU8iKSBBTkQgKGFubnVhbF9pbmMgPiA0MjUwMDApIEFORCAoZGlkX2RlZmF1bHQgPSAxKQpPUkRFUiBCWSBsb2FuX2FtbnQ7Cg==').decode()\n",
    "df_check = pd.read_sql_query(decoded_query, con=conn)\n",
    "pd.testing.assert_frame_equal(df_result.sort_values(df_result.columns.tolist()).reset_index(drop=True),\n",
    "                              df_check.sort_values(df_check.columns.tolist()).reset_index(drop=True))\n",
    "conn.close()"
   ]
  },
  {
   "cell_type": "markdown",
   "metadata": {},
   "source": [
    "---\n",
    "\n",
    "### 🎯 Part 2: Stats by loan term\n",
    "\n",
    "#### 👇 Tasks\n",
    "\n",
    "- ✔️ Write a query that summarizes the average interest rate and the default rate for each loan term.\n",
    "- ✔️ Use the following column names:\n",
    "    - `term_in_months`: Term of each loan (36 or 60)\n",
    "    - `avg_int_rate`: Average interest rate for each term\n",
    "    - `default_rate`: Default rate for each term\n",
    "        - This is the average of `did_default` column.\n",
    "- ✔️ Sort the result by `term_in_months` in ascending order.\n",
    "- ✔️ Store your query to a new variable named `query_stats_by_term`.\n",
    "\n",
    "#### 🔑 Expected output\n",
    "\n",
    "|    |   term_in_months |   avg_int_rate |   default_rate |\n",
    "|---:|-----------------:|---------------:|---------------:|\n",
    "|  0 |               36 |       0.118398 |       0.162467 |\n",
    "|  1 |               60 |       0.165742 |       0.342822 |"
   ]
  },
  {
   "cell_type": "code",
   "execution_count": null,
   "metadata": {},
   "outputs": [],
   "source": [
    "### BEGIN SOLUTION\n",
    "query_stats_by_term = '''\n",
    "SELECT\n",
    "    term_in_months,\n",
    "    AVG(int_rate) AS avg_int_rate,\n",
    "    AVG(did_default) AS default_rate\n",
    "FROM loans\n",
    "GROUP BY term_in_months\n",
    "ORDER BY term_in_months;\n",
    "'''\n",
    "### END SOLUTION\n",
    "\n",
    "conn = sqlite3.connect('lending-club-loan-results.db')\n",
    "df_result = pd.read_sql_query(query_stats_by_term, con=conn)\n",
    "display(df_result)\n",
    "conn.close()"
   ]
  },
  {
   "cell_type": "markdown",
   "metadata": {},
   "source": [
    "#### 🧭 Check your work"
   ]
  },
  {
   "cell_type": "code",
   "execution_count": null,
   "metadata": {
    "nbgrader": {
     "grade": true,
     "grade_id": "challenge-02",
     "locked": true,
     "points": "9",
     "solution": false
    }
   },
   "outputs": [],
   "source": [
    "conn = sqlite3.connect('lending-club-loan-results.db')\n",
    "decoded_query = base64.b64decode(b'ClNFTEVDVAogICAgdGVybV9pbl9tb\\\n",
    "250aHMsCiAgICBBVkcoaW50X3JhdGUpIEFTIGF2Z19pbnRfcmF0ZSwKICAgIEFWR\\\n",
    "yhkaWRfZGVmYXVsdCkgQVMgZGVmYXVsdF9yYXRlCkZST00gbG9hbnMKR1JPVVAgQ\\\n",
    "lkgdGVybV9pbl9tb250aHMKT1JERVIgQlkgdGVybV9pbl9tb250aHM7Cg==').decode()\n",
    "df_check = pd.read_sql_query(decoded_query, con=conn)\n",
    "pd.testing.assert_frame_equal(df_result.reset_index(drop=True),\n",
    "                              df_check.reset_index(drop=True))\n",
    "conn.close()"
   ]
  },
  {
   "cell_type": "markdown",
   "metadata": {},
   "source": [
    "---\n",
    "\n",
    "### 🎯 Part 3: Stats by home ownership type\n",
    "\n",
    "#### 👇 Tasks\n",
    "\n",
    "- ✔️ Write a query that summarizes the number of loans, average interest rate, and the default rate for each home ownership type.\n",
    "- ✔️ Use the following column names:\n",
    "    - `home_ownership`: Home ownership type (MORTGAGE, RENT, OWN)\n",
    "    - `num_loans`: Number of loans for each home ownership type\n",
    "    - `avg_int_rate`: Average interest rate for each home ownership type\n",
    "    - `default_rate`: Default rate for each home ownership type\n",
    "        - This is the average of `did_default` column.\n",
    "- ✔️ Sort the result by `num_loans` in descending order.\n",
    "- ✔️ Store your query to a new variable named `query_stats_by_home_ownership`.\n",
    "\n",
    "#### 🔑 Expected output\n",
    "\n",
    "|    | home_ownership   |   num_loans |   avg_int_rate |   default_rate |\n",
    "|---:|:-----------------|------------:|---------------:|---------------:|\n",
    "|  0 | MORTGAGE         |      107348 |       0.127241 |       0.179212 |\n",
    "|  1 | RENT             |       75615 |       0.1336   |       0.245031 |\n",
    "|  2 | OWN              |       22156 |       0.131165 |       0.209063 |"
   ]
  },
  {
   "cell_type": "code",
   "execution_count": null,
   "metadata": {},
   "outputs": [],
   "source": [
    "### BEGIN SOLUTION\n",
    "query_stats_by_home_ownership = '''\n",
    "SELECT\n",
    "    home_ownership,\n",
    "    COUNT(*) AS num_loans,\n",
    "    AVG(int_rate) AS avg_int_rate,\n",
    "    AVG(did_default) AS default_rate\n",
    "FROM loans\n",
    "GROUP BY home_ownership\n",
    "ORDER BY num_loans DESC;\n",
    "'''\n",
    "### END SOLUTION\n",
    "\n",
    "conn = sqlite3.connect('lending-club-loan-results.db')\n",
    "df_result = pd.read_sql_query(query_stats_by_home_ownership, con=conn)\n",
    "display(df_result)\n",
    "conn.close()"
   ]
  },
  {
   "cell_type": "markdown",
   "metadata": {},
   "source": [
    "#### 🧭 Check your work"
   ]
  },
  {
   "cell_type": "code",
   "execution_count": null,
   "metadata": {
    "nbgrader": {
     "grade": true,
     "grade_id": "challenge-03",
     "locked": true,
     "points": "9",
     "solution": false
    }
   },
   "outputs": [],
   "source": [
    "conn = sqlite3.connect('lending-club-loan-results.db')\n",
    "decoded_query = base64.b64decode(b'ClNFTEVDVAogICAgaG9tZV9vd25lcnNoaXAsCi\\\n",
    "AgICBDT1VOVCgqKSBBUyBudW1fbG9hbnMsCiAgICBBVkcoaW50X3JhdGUpIEFTIGF2Z19pbnR\\\n",
    "fcmF0ZSwKICAgIEFWRyhkaWRfZGVmYXVsdCkgQVMgZGVmYXVsdF9yYXRlCkZST00gbG9hbnMK\\\n",
    "R1JPVVAgQlkgaG9tZV9vd25lcnNoaXAKT1JERVIgQlkgbnVtX2xvYW5zIERFU0M7Cg==').decode()\n",
    "df_check = pd.read_sql_query(decoded_query, con=conn)\n",
    "pd.testing.assert_frame_equal(df_result.reset_index(drop=True),\n",
    "                              df_check.reset_index(drop=True))\n",
    "conn.close()"
   ]
  }
 ],
 "metadata": {
  "kernelspec": {
   "display_name": "Python 3 [3.7]",
   "language": "python",
   "name": "python3"
  },
  "language_info": {
   "codemirror_mode": {
    "name": "ipython",
    "version": 3
   },
   "file_extension": ".py",
   "mimetype": "text/x-python",
   "name": "python",
   "nbconvert_exporter": "python",
   "pygments_lexer": "ipython3",
   "version": "3.7.5"
  }
 },
 "nbformat": 4,
 "nbformat_minor": 5
}
