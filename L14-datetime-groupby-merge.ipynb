{
 "cells": [
  {
   "cell_type": "markdown",
   "metadata": {},
   "source": [
    "# Lecture 14 - Pandas Datetime, Grouping, Aggregating, Merging\n",
    "\n",
    "Thursday 2021/10/07"
   ]
  },
  {
   "cell_type": "markdown",
   "metadata": {},
   "source": [
    "## Lecture Notes and in-class exercises"
   ]
  },
  {
   "cell_type": "markdown",
   "metadata": {},
   "source": [
    "▶️ First, run the code cell below to import `unittest`, a module used for **🧭 Check Your Work** sections and the autograder."
   ]
  },
  {
   "cell_type": "code",
   "execution_count": null,
   "metadata": {},
   "outputs": [],
   "source": [
    "import unittest\n",
    "tc = unittest.TestCase()"
   ]
  },
  {
   "cell_type": "markdown",
   "metadata": {},
   "source": [
    "#### 👇 Tasks\n",
    "\n",
    "- ✔️ Import the following Python packages.\n",
    "    1. `pandas`: Use alias `pd`.\n",
    "    2. `numpy`: Use alias `np`."
   ]
  },
  {
   "cell_type": "code",
   "execution_count": null,
   "metadata": {},
   "outputs": [],
   "source": [
    "# YOUR CODE BEGINS\n",
    "\n",
    "\n",
    "# YOUR CODE ENDS"
   ]
  },
  {
   "cell_type": "markdown",
   "metadata": {},
   "source": [
    "#### 🧭 Check your work\n",
    "\n",
    "- Once you're done, run the code cell below to test correctness.\n",
    "- ✔️ If the code cell runs without an error, you're good to move on.\n",
    "- ❌ If the code cell throws an error, go back and fix incorrect parts."
   ]
  },
  {
   "cell_type": "code",
   "execution_count": null,
   "metadata": {},
   "outputs": [],
   "source": [
    "import sys\n",
    "tc.assertTrue('pd' in globals(), 'Check whether you have correctly import Pandas with an alias.')\n",
    "tc.assertTrue('np' in globals(), 'Check whether you have correctly import NumPy with an alias.')"
   ]
  },
  {
   "cell_type": "markdown",
   "metadata": {},
   "source": [
    "---\n",
    "\n",
    "## 🗓️ Working with Datetime Values\n",
    "\n",
    "You will often see date-looking strings in your data. A few examples are:\n",
    "\n",
    "- `20210315`\n",
    "- `Mar 15, 2021`\n",
    "- `2020-03-15`\n",
    "- `2020/3/15`\n",
    "\n",
    "In the first part of today's lecture, we'll discuss how we can *parse* and utilize datetime values.\n",
    "\n",
    "---\n",
    "\n",
    "### 📌 Load employees data\n",
    "\n",
    "▶️ Run the code cell below to create a new `DataFrame` named `df_emp`."
   ]
  },
  {
   "cell_type": "code",
   "execution_count": null,
   "metadata": {},
   "outputs": [],
   "source": [
    "# DO NOT CHANGE THE CODE IN THIS CELL\n",
    "df_emp = pd.DataFrame({\n",
    "    'emp_id': [30, 40, 10, 20],\n",
    "    'name': ['Talal', 'Josh', 'Anika', 'Aishani'],\n",
    "    'dept': ['Finance', 'Purchase', 'Finance', 'Purchase'],\n",
    "    'office_phone': ['(217)123-4500', np.nan, np.nan, '(217)987-6600'],\n",
    "    'start_date': ['2017-05-01', '2018-02-01', '2020-08-01', '2019-12-01'],\n",
    "    'salary': [202000, 185000, 240000, 160500]\n",
    "})\n",
    "\n",
    "# Used for intermediate checks\n",
    "df_emp_backup = df_emp.copy()\n",
    "\n",
    "df_emp"
   ]
  },
  {
   "cell_type": "markdown",
   "metadata": {},
   "source": [
    "---\n",
    "\n",
    "### 📌 Concise summary of a `DataFrame`\n",
    "\n",
    "▶️ Run `df_emp.info()` below to see a concise summary of the `DataFrame`."
   ]
  },
  {
   "cell_type": "code",
   "execution_count": null,
   "metadata": {},
   "outputs": [],
   "source": [
    "# YOUR CODE BEGINS\n",
    "\n",
    "# YOUR CODE ENDS"
   ]
  },
  {
   "cell_type": "markdown",
   "metadata": {},
   "source": [
    "**Question**: What is the data type of the `start_date` column?"
   ]
  },
  {
   "cell_type": "markdown",
   "metadata": {},
   "source": [
    "▶️ Run `str(df_emp['start_date'].dtype)` below to see the data type of the `start_date` column."
   ]
  },
  {
   "cell_type": "code",
   "execution_count": null,
   "metadata": {},
   "outputs": [],
   "source": [
    "# YOUR CODE BEGINS\n",
    "\n",
    "# YOUR CODE ENDS"
   ]
  },
  {
   "cell_type": "markdown",
   "metadata": {},
   "source": [
    "While `object` can refer to many different types, you can safely assume that all `object` data types you see in this course refer to strings."
   ]
  },
  {
   "cell_type": "markdown",
   "metadata": {},
   "source": [
    "---\n",
    "\n",
    "### 🎯 Mini-exercise: Parse a string column as datetime\n",
    "\n",
    "#### 👇 Tasks\n",
    "\n",
    "- ✔️ Parse `start_date` to a `datetime` data type.\n",
    "- ✔️ Store the result to a new column named `start_date_parsed`.\n",
    "\n",
    "#### 🚀 Hints\n",
    "\n",
    "The code below converts `date_str` column to a `datetime`-typed column and stores the converted result to a new column named `date_parsed`.\n",
    "\n",
    "```python\n",
    "my_dataframe['date_parsed'] = pd.to_datetime(my_dataframe['date_str'])\n",
    "```"
   ]
  },
  {
   "cell_type": "code",
   "execution_count": null,
   "metadata": {},
   "outputs": [],
   "source": [
    "# YOUR CODE BEGINS\n",
    "\n",
    "# YOUR CODE ENDS\n",
    "\n",
    "df_emp"
   ]
  },
  {
   "cell_type": "markdown",
   "metadata": {},
   "source": [
    "#### 🧭 Check Your Work\n",
    "\n",
    "- Once you're done, run the code cell below to test correctness.\n",
    "- ✔️ If the code cell runs without an error, you're good to move on.\n",
    "- ❌ If the code cell throws an error, go back and fix incorrect parts."
   ]
  },
  {
   "cell_type": "code",
   "execution_count": null,
   "metadata": {},
   "outputs": [],
   "source": [
    "# Check result\n",
    "tc.assertEqual(set(df_emp.columns), set(df_emp_backup.columns.tolist() + ['start_date_parsed']))\n",
    "pd.testing.assert_series_equal(df_emp['start_date_parsed'].reset_index(drop=True),\n",
    "                               pd.to_datetime(df_emp_backup['_'.join(['sTarT', 'DaTe']).lower()])\n",
    "                                  .reset_index(drop=True),\n",
    "                               check_names=False)"
   ]
  },
  {
   "cell_type": "markdown",
   "metadata": {},
   "source": [
    "---\n",
    "\n",
    "▶️ Run `str(df_emp['start_date_parsed'].dtype)` below to see the data type of the `start_date` column."
   ]
  },
  {
   "cell_type": "code",
   "execution_count": null,
   "metadata": {},
   "outputs": [],
   "source": [
    "# YOUR CODE BEGINS\n",
    "\n",
    "# YOUR CODE ENDS"
   ]
  },
  {
   "cell_type": "markdown",
   "metadata": {},
   "source": [
    "---\n",
    "\n",
    "### 🎯 Mini-exercise: Drop `start_date` column *in-place*\n",
    "\n",
    "We no longer need the `start_date` column. We'll work with the new `start_date_parsed` column from this point on.\n",
    "\n",
    "#### 👇 Tasks\n",
    "\n",
    "- ✔️ Drop `start_date` column from `df_emp` *in-place*.\n",
    "\n",
    "#### 🚀 Hints\n",
    "\n",
    "The code below drops `col1` from `my_dataframe` *in-place* without creating a new variable.\n",
    "\n",
    "```python\n",
    "my_dataframe.drop(columns=['col1'], inplace=True)\n",
    "```"
   ]
  },
  {
   "cell_type": "code",
   "execution_count": null,
   "metadata": {},
   "outputs": [],
   "source": [
    "# YOUR CODE BEGINS\n",
    "\n",
    "# YOUR CODE ENDS\n",
    "\n",
    "df_emp"
   ]
  },
  {
   "cell_type": "markdown",
   "metadata": {},
   "source": [
    "#### 🧭 Check Your Work\n",
    "\n",
    "- Once you're done, run the code cell below to test correctness.\n",
    "- ✔️ If the code cell runs without an error, you're good to move on.\n",
    "- ❌ If the code cell throws an error, go back and fix incorrect parts."
   ]
  },
  {
   "cell_type": "code",
   "execution_count": null,
   "metadata": {},
   "outputs": [],
   "source": [
    "df_check = df_emp_backup.copy()\n",
    "df_check['_'.join(['sTarT', 'DaTe', 'pArSeD']).lower()] = pd.to_datetime(df_check['start_date'])\n",
    "df_check = df_check.drop(columns=['start_date'])\n",
    "\n",
    "# Check result\n",
    "tc.assertEqual(set(df_emp.columns), set(['start_date_parsed', 'salary', 'office_phone', 'dept', 'name', 'emp_id']))\n",
    "pd.testing.assert_frame_equal(df_emp.sort_values(df_emp.columns.tolist()).reset_index(drop=True),\n",
    "                              df_check.sort_values(df_check.columns.tolist()).reset_index(drop=True))"
   ]
  },
  {
   "cell_type": "markdown",
   "metadata": {},
   "source": [
    "---\n",
    "\n",
    "### 🎯 Mini-exercise: Rename `start_date_parsed` to `start_date`\n",
    "\n",
    "#### 👇 Tasks\n",
    "\n",
    "- ✔️ Rename `start_date_parsed` to `start_date` in `df_emp` *in-place*.\n",
    "\n",
    "#### 🚀 Hints\n",
    "\n",
    "The code below renames the `name_before` column to `name_after` in `my_dataframe` *in-place* without creating a new variable.\n",
    "\n",
    "```python\n",
    "my_dataframe.rename(columns={'name_before': 'name_after'}, inplace=True)\n",
    "```"
   ]
  },
  {
   "cell_type": "code",
   "execution_count": null,
   "metadata": {},
   "outputs": [],
   "source": [
    "# YOUR CODE BEGINS\n",
    "\n",
    "# YOUR CODE ENDS\n",
    "\n",
    "df_emp"
   ]
  },
  {
   "cell_type": "markdown",
   "metadata": {},
   "source": [
    "#### 🧭 Check Your Work\n",
    "\n",
    "- Once you're done, run the code cell below to test correctness.\n",
    "- ✔️ If the code cell runs without an error, you're good to move on.\n",
    "- ❌ If the code cell throws an error, go back and fix incorrect parts."
   ]
  },
  {
   "cell_type": "code",
   "execution_count": null,
   "metadata": {},
   "outputs": [],
   "source": [
    "df_check = df_emp_backup.copy()\n",
    "df_check['_'.join(['sTarT', 'DaTe', 'pArSeD']).lower()] = pd.to_datetime(df_check['start_date'])\n",
    "df_check = df_check.drop(columns=['start_date']).rename(columns={'start_date_parsed': 'start_date'})\n",
    "\n",
    "# Check result\n",
    "pd.testing.assert_frame_equal(df_emp.sort_values(df_emp.columns.tolist()).reset_index(drop=True),\n",
    "                              df_check.sort_values(df_check.columns.tolist()).reset_index(drop=True))"
   ]
  },
  {
   "cell_type": "markdown",
   "metadata": {},
   "source": [
    "---\n",
    "\n",
    "### 🎯 Mini-exercise: Extract year from a datetime column\n",
    "\n",
    "#### 👇 Tasks\n",
    "\n",
    "- ✔️ Create a new column named `start_year` in `df_emp` that contains the starting years in integers (e.g., `2017`, `2018`).\n",
    "- ✔️ Extract values from `df_emp['start_date']`.\n",
    "\n",
    "#### 🚀 Hints\n",
    "\n",
    "The code extracts the year of a datetime column `my_date` and stores it to a new column named `my_year`.\n",
    "\n",
    "```python\n",
    "my_dataframe['my_year'] = my_dataframe['my_date'].dt.year\n",
    "```"
   ]
  },
  {
   "cell_type": "code",
   "execution_count": null,
   "metadata": {},
   "outputs": [],
   "source": [
    "# YOUR CODE BEGINS\n",
    "\n",
    "# YOUR CODE ENDS\n",
    "\n",
    "df_emp"
   ]
  },
  {
   "cell_type": "markdown",
   "metadata": {},
   "source": [
    "#### 🧭 Check Your Work\n",
    "\n",
    "- Once you're done, run the code cell below to test correctness.\n",
    "- ✔️ If the code cell runs without an error, you're good to move on.\n",
    "- ❌ If the code cell throws an error, go back and fix incorrect parts."
   ]
  },
  {
   "cell_type": "code",
   "execution_count": null,
   "metadata": {},
   "outputs": [],
   "source": [
    "df_check = df_emp_backup.copy()\n",
    "df_check['_'.join(['sTarT', 'DaTe', 'pArSeD']).lower()] = pd.to_datetime(df_check['start_date'])\n",
    "df_check = df_check.drop(columns=['start_date']).rename(columns={'start_date_parsed': 'start_date'})\n",
    "df_check['_'.join(['sTarT', 'yEaR']).lower()] = df_check['_'.join(['sTarT', 'dAtE']).lower()].dt.year\n",
    "\n",
    "# Check result\n",
    "pd.testing.assert_frame_equal(df_emp.sort_values(df_emp.columns.tolist()).reset_index(drop=True),\n",
    "                              df_check.sort_values(df_check.columns.tolist()).reset_index(drop=True))"
   ]
  },
  {
   "cell_type": "markdown",
   "metadata": {},
   "source": [
    "---\n",
    "\n",
    "### 🎯 Mini-exercise: Extract month, day from a datetime column\n",
    "\n",
    "#### 👇 Tasks\n",
    "\n",
    "- ✔️ Create new columns named `start_month` and `start_day` in `df_emp` that contain the starting months and days in integers.\n",
    "- ✔️ Extract values from `df_emp['start_date']`.\n",
    "\n",
    "#### 🚀 Hints\n",
    "\n",
    "The code extracts the months and days of a datetime column `my_date` and stores it to two new columns.\n",
    "\n",
    "```python\n",
    "my_dataframe['my_month'] = my_dataframe['my_date'].dt.month\n",
    "my_dataframe['my_day'] = my_dataframe['my_date'].dt.day\n",
    "```"
   ]
  },
  {
   "cell_type": "code",
   "execution_count": null,
   "metadata": {},
   "outputs": [],
   "source": [
    "# YOUR CODE BEGINS\n",
    "\n",
    "\n",
    "# YOUR CODE ENDS\n",
    "\n",
    "df_emp"
   ]
  },
  {
   "cell_type": "markdown",
   "metadata": {},
   "source": [
    "#### 🧭 Check Your Work\n",
    "\n",
    "- Once you're done, run the code cell below to test correctness.\n",
    "- ✔️ If the code cell runs without an error, you're good to move on.\n",
    "- ❌ If the code cell throws an error, go back and fix incorrect parts."
   ]
  },
  {
   "cell_type": "code",
   "execution_count": null,
   "metadata": {},
   "outputs": [],
   "source": [
    "df_check = df_emp_backup.copy()\n",
    "df_check['_'.join(['sTarT', 'DaTe', 'pArSeD']).lower()] = pd.to_datetime(df_check['start_date'])\n",
    "df_check = df_check.drop(columns=['start_date']).rename(columns={'start_date_parsed': 'start_date'})\n",
    "df_check['_'.join(['sTarT', 'yEaR']).lower()] = df_check['_'.join(['sTarT', 'dAtE']).lower()].dt.year\n",
    "df_check['_'.join(['sTarT', 'mOnTh']).lower()] = df_check['_'.join(['sTarT', 'dAtE']).lower()].dt.month\n",
    "df_check['_'.join(['sTarT', 'dAy']).lower()] = df_check['_'.join(['sTarT', 'dAtE']).lower()].dt.day\n",
    "\n",
    "# Check result\n",
    "pd.testing.assert_frame_equal(df_emp.sort_values(df_emp.columns.tolist()).reset_index(drop=True),\n",
    "                              df_check.sort_values(df_check.columns.tolist()).reset_index(drop=True))"
   ]
  },
  {
   "cell_type": "markdown",
   "metadata": {},
   "source": [
    "---\n",
    "\n",
    "▶️ Run `df_emp['start_date'].dt.weekday` below."
   ]
  },
  {
   "cell_type": "code",
   "execution_count": null,
   "metadata": {},
   "outputs": [],
   "source": [
    "# YOUR CODE BEGINS\n",
    "\n",
    "# YOUR CODE ENDS"
   ]
  },
  {
   "cell_type": "markdown",
   "metadata": {},
   "source": [
    "Note that Monday is 0 and Sunday returns 6."
   ]
  },
  {
   "cell_type": "markdown",
   "metadata": {},
   "source": [
    "---\n",
    "\n",
    "▶️ Run `df_emp['start_date'].dt.quarter` below."
   ]
  },
  {
   "cell_type": "code",
   "execution_count": null,
   "metadata": {},
   "outputs": [],
   "source": [
    "# YOUR CODE BEGINS\n",
    "\n",
    "# YOUR CODE ENDS"
   ]
  },
  {
   "cell_type": "markdown",
   "metadata": {},
   "source": [
    "This returns the quarter of a year (e.g., Q1, Q2, Q3, Q4)."
   ]
  },
  {
   "cell_type": "markdown",
   "metadata": {},
   "source": [
    "---\n",
    "\n",
    "## 🔬 Grouping and Aggregating Data\n",
    "\n",
    "### 📌 Load employees data (a simpler one\n",
    "\n",
    "▶️ Run the code cell below to create a new `DataFrame` named `df`."
   ]
  },
  {
   "cell_type": "code",
   "execution_count": null,
   "metadata": {},
   "outputs": [],
   "source": [
    "df = pd.DataFrame({\n",
    "    'name': ['Mary', 'Roy', 'John', 'Joe', 'Paul', 'Erin'],\n",
    "    'dept': ['Finance', 'Purchase', 'Finance', 'Purchase', 'Finance', 'Purchase'],\n",
    "    'salary': [240000, 160000, 250000, 170000, 260000, 180000]}\n",
    ")\n",
    "\n",
    "df"
   ]
  },
  {
   "cell_type": "markdown",
   "metadata": {},
   "source": [
    "👉 A very common task in working with data is to *group* your data by one or more criteria. As an example, you want to see the average salary of employees in your `df_emp` **by department**."
   ]
  },
  {
   "cell_type": "markdown",
   "metadata": {},
   "source": [
    "---\n",
    "\n",
    "### 📌 Creating a `DataFrameGroupBy` object\n",
    "\n",
    "▶️ Run `df.groupby('dept')` below."
   ]
  },
  {
   "cell_type": "code",
   "execution_count": null,
   "metadata": {},
   "outputs": [],
   "source": [
    "# YOUR CODE BEGINS\n",
    "\n",
    "# YOUR CODE ENDS"
   ]
  },
  {
   "cell_type": "markdown",
   "metadata": {},
   "source": [
    "![groupby object](https://github.com/bdi475/images/blob/main/pandas/df-groupby-object-01.png?raw=true)"
   ]
  },
  {
   "cell_type": "markdown",
   "metadata": {},
   "source": [
    "---\n",
    "\n",
    "### 📌 Aggregating a `DataFrameGroupBy` object\n",
    "\n",
    "▶️ Run `df.groupby('dept').agg({'salary': 'mean'})` below."
   ]
  },
  {
   "cell_type": "code",
   "execution_count": null,
   "metadata": {},
   "outputs": [],
   "source": [
    "# YOUR CODE BEGINS\n",
    "\n",
    "# YOUR CODE ENDS"
   ]
  },
  {
   "cell_type": "markdown",
   "metadata": {},
   "source": [
    "👉 Your resulting `DataFrame` now displays average salary by `dept`.\n",
    "\n",
    "```python\n",
    "df_salary_by_dept = df.groupby('dept').agg({'salary': 'mean'})\n",
    "\n",
    "display(df_salary_by_dept)\n",
    "print(df_salary_by_dept.columns)\n",
    "```\n",
    "\n",
    "▶️ Copy the provided code above to the code cell below and run it."
   ]
  },
  {
   "cell_type": "code",
   "execution_count": null,
   "metadata": {},
   "outputs": [],
   "source": [
    "# YOUR CODE BEGINS\n",
    "\n",
    "\n",
    "\n",
    "\n",
    "# YOUR CODE ENDS"
   ]
  },
  {
   "cell_type": "markdown",
   "metadata": {},
   "source": [
    "👉 There is only one column shown when you print out `df_salary_by_dept.columns`! 🙀\n",
    "\n",
    "This is because the column(s) you use to create groups are used as **index** by default.\n",
    "\n",
    "![groupby agg result](https://github.com/bdi475/images/blob/main/pandas/df-groupby-agg-as-index-true-01.png?raw=true)"
   ]
  },
  {
   "cell_type": "markdown",
   "metadata": {},
   "source": [
    "---\n",
    "\n",
    "### 📌 Aggregating a `DataFrameGroupBy` object with optional `index=False`\n",
    "\n",
    "```python\n",
    "df_salary_by_dept2 = df.groupby('dept', as_index=False).agg({'salary': 'mean'})\n",
    "\n",
    "display(df_salary_by_dept2)\n",
    "print(df_salary_by_dept2.columns)\n",
    "```\n",
    "\n",
    "▶️ Copy the provided code to the code cell below and run it."
   ]
  },
  {
   "cell_type": "code",
   "execution_count": null,
   "metadata": {},
   "outputs": [],
   "source": [
    "# YOUR CODE BEGINS\n",
    "\n",
    "\n",
    "\n",
    "\n",
    "# YOUR CODE ENDS"
   ]
  },
  {
   "cell_type": "markdown",
   "metadata": {},
   "source": [
    "👉 Now, printing out the columns show both `dept` and `salary`. Supplying `as_index=False` to `groupby()` keeps the columns you use as groupby criteria as regular columns.\n",
    "\n",
    "![groupby agg result](https://github.com/bdi475/images/blob/main/pandas/df-groupby-agg-as-index-false-01.png?raw=true)"
   ]
  },
  {
   "cell_type": "markdown",
   "metadata": {},
   "source": [
    "---\n",
    "\n",
    "### 📌 Creating multiple aggregation measures\n",
    "\n",
    "```python\n",
    "df_salary_by_dept3 = df.groupby('dept', as_index=False).agg({'salary': ['min', 'max', 'mean', 'sum', 'count', 'std']})\n",
    "\n",
    "display(df_salary_by_dept3)\n",
    "print(df_salary_by_dept3.columns)\n",
    "```\n",
    "\n",
    "▶️ Copy the provided code to the code cell below and run it."
   ]
  },
  {
   "cell_type": "code",
   "execution_count": null,
   "metadata": {},
   "outputs": [],
   "source": [
    "df_salary_by_dept3 = df.groupby('dept', as_index=False).agg({'salary': ['min', 'max', 'mean', 'sum', 'count', 'std']})\n",
    "\n",
    "display(df_salary_by_dept3)\n",
    "print(df_salary_by_dept3.columns)"
   ]
  },
  {
   "cell_type": "markdown",
   "metadata": {},
   "source": [
    "---\n",
    "\n",
    "## 📞 Exercises Using Bank Marketing Calls Data\n",
    "\n",
    "For the next part of this lecture, you'll work with a dataset related with direct marketing campaigns (phone calls) of a banking institution. \n",
    "\n",
    "**Data Source**: [Moro et al., 2014] S. Moro, P. Cortez and P. Rita. A Data-Driven Approach to Predict the Success of Bank Telemarketing. Decision Support Systems, Elsevier, 62:22-31, June 2014\n",
    "\n",
    "| Column Name     | Type        | Description                                                                                                                                                     |\n",
    "|-----------------|-------------|-----------------------------------------------------------------------------------------------------------------------------------------------------------------|\n",
    "| `age`           | Numeric     | Age                                                                                                                                                             |\n",
    "| `job`           | Categorical | admin.', 'blue-collar',   'entrepreneur', 'housemaid', 'management', 'retired', 'self-employed',   'services', 'student', 'technician', 'unemployed', 'unknown' |\n",
    "| `marital`       | Categorical | single', 'married', 'divorced', 'unknown'                                                                                                                       |\n",
    "| `education`     | Categorical | basic.4y', 'basic.6y', 'basic.9y', 'high.school', 'illiterate',   'professional.course', 'university.degree', 'unknown'                                         |\n",
    "| `contact_type`  | Categorical | cellular', 'telephone'                                                                                                                                          |\n",
    "| `num_contacts`  | Numeric     | Number of contacts performed during this campaign for this client                                                                                               |\n",
    "| `prev_outcome`  | Categorical | Outcome of the previous marketing campaign - 'failure', 'nonexistent',   'success'                                                                              |\n",
    "| `place_deposit` | Boolean     | Did the client subscribe to a term deposit? This column indicates whether   the campaign was successful for each client.                                        |\n",
    "\n",
    "---\n",
    "\n",
    "\n",
    "Your goal is to analyze the dataset to discover relationships between personal factors and marketing campaign result of each individual.\n",
    "\n",
    "**`place_deposit`** column indicates whether a marketing campaign was successful.\n",
    "\n",
    "- ✅ If `True`, the individual has placed a deposit within the bank. This is considered a **successful campaign**.\n",
    "- 🚫 If `False`, the individual has not placed a deposit within the bank. This is considered an **unsuccessful campaign**."
   ]
  },
  {
   "cell_type": "markdown",
   "metadata": {},
   "source": [
    "---\n",
    "\n",
    "### 📌 Load data"
   ]
  },
  {
   "cell_type": "markdown",
   "metadata": {},
   "source": [
    "▶️ Run the code cell below to create a new `DataFrame` named `df_m`."
   ]
  },
  {
   "cell_type": "code",
   "execution_count": null,
   "metadata": {},
   "outputs": [],
   "source": [
    "df_m = pd.read_csv('https://github.com/bdi475/datasets/raw/main/bank-direct-marketing.csv')\n",
    "df_m_backup = df_m.copy()\n",
    "df_m"
   ]
  },
  {
   "cell_type": "markdown",
   "metadata": {},
   "source": [
    "---\n",
    "\n",
    "### 🎯 Mini-exercise: Summing a boolean column\n",
    "\n",
    "#### 👇 Tasks\n",
    "\n",
    "- ✔️ Using `df_m`, sum up all values in `place_deposit` column.\n",
    "- ✔️ Store the result to a new variable named `num_success`.\n",
    "\n",
    "#### 🚀 Hints\n",
    "\n",
    "`my_series.sum()` sums up all values in a `Series`.\n",
    "\n",
    "To sum up `my_column` of `my_dataframe`, use `my_dataframe['my_column'].sum()`.\n",
    "\n",
    "👉 **Wait, how can you add boolean values?** Boolean `True` values are converted to `1` and `False` values are converted to `0` before running arithmetic operations. This is common in many programming languages."
   ]
  },
  {
   "cell_type": "code",
   "execution_count": null,
   "metadata": {},
   "outputs": [],
   "source": [
    "# YOUR CODE BEGINS\n",
    "\n",
    "# YOUR CODE ENDS\n",
    "\n",
    "num_success"
   ]
  },
  {
   "cell_type": "code",
   "execution_count": null,
   "metadata": {},
   "outputs": [],
   "source": [
    "tc.assertEqual(num_success, np.sum(df_m['_'.join(['pLaCe', 'dePoSIt']).lower()]))"
   ]
  },
  {
   "cell_type": "markdown",
   "metadata": {},
   "source": [
    "---\n",
    "\n",
    "### 🎯 Mini-exercise: Marketing success by marital status\n",
    "\n",
    "#### 👇 Tasks\n",
    "\n",
    "- ✔️ Using `df_m`, create an aggregated table named `df_by_marital` to display whether there is a difference in average success rate in direct marketing campaigns by marital status.\n",
    "    - Use `index=False` option.\n",
    "- ✔️ We will give you the code for this one.\n",
    "\n",
    "![code](https://github.com/bdi475/images/blob/main/lecture-notes/df_m-groupby-marital-status-average-success.png?raw=true)"
   ]
  },
  {
   "cell_type": "code",
   "execution_count": null,
   "metadata": {},
   "outputs": [],
   "source": [
    "# YOUR CODE BEGINS\n",
    "\n",
    "# YOUR CODE ENDS\n",
    "\n",
    "df_by_marital"
   ]
  },
  {
   "cell_type": "markdown",
   "metadata": {},
   "source": [
    "#### 🧭 Check Your Work\n",
    "\n",
    "- Once you're done, run the code cell below to test correctness.\n",
    "- ✔️ If the code cell runs without an error, you're good to move on.\n",
    "- ❌ If the code cell throws an error, go back and fix incorrect parts."
   ]
  },
  {
   "cell_type": "code",
   "execution_count": null,
   "metadata": {},
   "outputs": [],
   "source": [
    "df_check = df_m_backup.groupby('marital').agg({'place_deposit': np.mean}).reset_index()\n",
    "df_check = df_check[['place_deposit', 'marital'][::-1]].copy()\n",
    "\n",
    "# Check result\n",
    "pd.testing.assert_frame_equal(df_by_marital.sort_values(df_by_marital.columns.tolist()).reset_index(drop=True),\n",
    "                              df_check.sort_values(df_check.columns.tolist()).reset_index(drop=True))"
   ]
  },
  {
   "cell_type": "markdown",
   "metadata": {},
   "source": [
    "---\n",
    "\n",
    "### 🎯 Mini-exercise: Marketing success by job\n",
    "\n",
    "#### 👇 Tasks\n",
    "\n",
    "- ✔️ Using `df_m`, create an aggregated table named `df_by_job` to display whether there is a difference in average success rate in direct marketing campaigns by job.\n",
    "    - Use `index=False` option.\n",
    "- ✔️ `df_by_job` should only have the following two columns in the same order.\n",
    "    - `marital`: Marital status (e.g., divorced, married, single, unknown)\n",
    "    - `place_deposit`: Average success ratio (between 0-1)\n",
    "- ✔️ Both columns should not be used as an index column.\n",
    "    - Printing `df_by_job.columns.tolist()` should print out `['job', 'place_deposit']`.\n",
    "- ✔️ Sort `df_by_job` by `place_deposit` in descending order *in-place*."
   ]
  },
  {
   "cell_type": "code",
   "execution_count": null,
   "metadata": {},
   "outputs": [],
   "source": [
    "# YOUR CODE BEGINS\n",
    "\n",
    "\n",
    "# YOUR CODE ENDS\n",
    "\n",
    "df_by_job"
   ]
  },
  {
   "cell_type": "markdown",
   "metadata": {},
   "source": [
    "#### 🧭 Check Your Work\n",
    "\n",
    "- Once you're done, run the code cell below to test correctness.\n",
    "- ✔️ If the code cell runs without an error, you're good to move on.\n",
    "- ❌ If the code cell throws an error, go back and fix incorrect parts."
   ]
  },
  {
   "cell_type": "code",
   "execution_count": null,
   "metadata": {},
   "outputs": [],
   "source": [
    "# DO NOT CHANGE THE CODE BELOW\n",
    "df_check = df_m_backup.groupby('job').agg({'place_deposit': np.mean}).reset_index()\n",
    "df_check = df_check.sort_values('place_deposit', ascending=False)\n",
    "df_check = df_check[['place_deposit', 'job'][::-1]].copy()\n",
    "\n",
    "pd.testing.assert_frame_equal(df_by_job.reset_index(drop=True),\n",
    "                              df_check.reset_index(drop=True))"
   ]
  },
  {
   "cell_type": "markdown",
   "metadata": {},
   "source": [
    "---\n",
    "\n",
    "### 📌 Marketing success by job with more details\n",
    "\n",
    "![code](https://github.com/bdi475/images/blob/main/lecture-notes/df_m-groupby-job-success-details.png?raw=true)\n",
    "\n",
    "▶️ Copy the code above to the code cell below and run your code."
   ]
  },
  {
   "cell_type": "code",
   "execution_count": null,
   "metadata": {},
   "outputs": [],
   "source": [
    "# YOUR CODE BEGINS\n",
    "\n",
    "\n",
    "# YOUR CODE ENDS"
   ]
  },
  {
   "cell_type": "markdown",
   "metadata": {},
   "source": [
    "---\n",
    "\n",
    "## 🧲 Merging two DataFrames (Joins)\n",
    "\n",
    "Another common operation with tables is to merge two or more tables into one larger table.\n",
    "\n",
    "To demonstrate how merging works, we'll work a record of transactions from a small food stand selling only two items - sweetcorns 🌽 and beers 🍺. The tables associated with the food stand's transactions are shown below.\n",
    "\n",
    "### Products (`df_products`)\n",
    "\n",
    "| product_id | product_name | price |\n",
    "|---|---|---|\n",
    "| SC | Sweetcorn | 3.0 |\n",
    "| CB | Beer | 5.0 |\n",
    "\n",
    "### Transactions (`df_transactions`)\n",
    "\n",
    "| transaction_id | product_id |\n",
    "|---|---|\n",
    "| 1 | SC |\n",
    "| 2 | SC |\n",
    "| 3 | CB |\n",
    "| 4 | SC |\n",
    "| 5 | SC |\n",
    "| 6 | SC |\n",
    "| 7 | CB |\n",
    "| 8 | SC |\n",
    "| 9 | CB |\n",
    "| 10 | SC |\n",
    "\n",
    "▶️ Run the code below to create the two tables as DataFrames."
   ]
  },
  {
   "cell_type": "code",
   "execution_count": null,
   "metadata": {},
   "outputs": [],
   "source": [
    "# DO NOT CHANGE THE CODE BELOW\n",
    "df_products = pd.DataFrame({\n",
    "    'product_id': ['SC', 'CB'],\n",
    "    'product_name': ['Sweetcorn', 'Beer'],\n",
    "    'price': [3.0, 5.0]\n",
    "})\n",
    "\n",
    "df_transactions = pd.DataFrame({\n",
    "    'transaction_id': [1, 2, 3, 4, 5, 6, 7, 8, 9, 10],\n",
    "    'product_id': ['SC', 'SC', 'CB', 'SC', 'SC', 'SC', 'CB', 'SC', 'CB', 'SC']\n",
    "})\n",
    "\n",
    "df_products_backup = df_products.copy()\n",
    "df_transactions_backup = df_transactions.copy()\n",
    "\n",
    "display(df_products)\n",
    "display(df_transactions)"
   ]
  },
  {
   "cell_type": "markdown",
   "metadata": {},
   "source": [
    "---\n",
    "\n",
    "### 🎯 Mini-exercise: Merge products into transactions\n",
    "\n",
    "#### 👇 Tasks\n",
    "\n",
    "- ✔️ Using `df_products` and `df_transactions`, create a merged table as shown below.\n",
    "- ✔️ Use a left merge.\n",
    "- ✔️ Name the merged DataFrame `df_merged`.\n",
    "\n",
    "#### 🚀 Hints\n",
    "\n",
    "The code below merges `right_dataframe` into `left_dataframe` using `shared_key_column`. The resulting type of the merge is a left-merge.\n",
    "\n",
    "```python\n",
    "merged_dataframe = pd.merge(\n",
    "    left=left_dataframe,\n",
    "    right=right_dataframe,\n",
    "    on='shared_key_column',\n",
    "    how='left'\n",
    ")\n",
    "```\n",
    "\n",
    "#### 🧭 Expected Output of `df_merged`\n",
    "\n",
    "|  | transaction_id | product_id | product_name | price |\n",
    "|---|---|---|---|---|\n",
    "| 0 | 1 | SC | Sweetcorn | 3.0 |\n",
    "| 1 | 2 | SC | Sweetcorn | 3.0 |\n",
    "| 2 | 3 | CB | Beer | 5.0 |\n",
    "| 3 | 4 | SC | Sweetcorn | 3.0 |\n",
    "| 4 | 5 | SC | Sweetcorn | 3.0 |\n",
    "| 5 | 6 | SC | Sweetcorn | 3.0 |\n",
    "| 6 | 7 | CB | Beer | 5.0 |\n",
    "| 7 | 8 | SC | Sweetcorn | 3.0 |\n",
    "| 8 | 9 | CB | Beer | 5.0 |\n",
    "| 9 | 10 | SC | Sweetcorn | 3.0 |"
   ]
  },
  {
   "cell_type": "code",
   "execution_count": null,
   "metadata": {},
   "outputs": [],
   "source": [
    "# YOUR CODE BEGINS\n",
    "\n",
    "\n",
    "\n",
    "\n",
    "\n",
    "\n",
    "# YOUR CODE ENDS\n",
    "\n",
    "display(df_merged)"
   ]
  },
  {
   "cell_type": "markdown",
   "metadata": {},
   "source": [
    "#### 🧭 Check Your Work\n",
    "\n",
    "- Once you're done, run the code cell below to test correctness.\n",
    "- ✔️ If the code cell runs without an error, you're good to move on.\n",
    "- ❌ If the code cell throws an error, go back and fix incorrect parts."
   ]
  },
  {
   "cell_type": "code",
   "execution_count": null,
   "metadata": {},
   "outputs": [],
   "source": [
    "# DO NOT CHANGE THE CODE BELOW\n",
    "df_merged_SOL = df_transactions_backup.merge(\n",
    "    df_products_backup,\n",
    "    on= '_'.join(['product', 'id']),\n",
    "    how='inner'\n",
    ").sort_values('_'.join(['transaction', 'id']))\n",
    "\n",
    "pd.testing.assert_frame_equal(df_merged.reset_index(drop=True),\n",
    "                              df_merged_SOL.reset_index(drop=True))"
   ]
  },
  {
   "cell_type": "markdown",
   "metadata": {},
   "source": [
    "---\n",
    "\n",
    "### 🎯 Mini-exercise: Total sales by product\n",
    "\n",
    "#### 👇 Tasks\n",
    "\n",
    "- ✔️ Using `df_merged` from the previous exercise, find the total sales by product.\n",
    "- ✔️ Store the grouped result (a DataFrame) to `df_sales_by_product`.\n",
    "- ✔️ Use the `groupby()` method on the `product_id` column.\n",
    "- ✔️ `df_sales_by_product` should contain flat-level columns.\n",
    "    - Printing `df_sales_by_product.columns.to_list()` should print out `['product_id', 'price']`.\n",
    "\n",
    "#### 🧭 Expected Output of `df_sales_by_product`\n",
    "\n",
    "|  | product_id | price |\n",
    "|---|---|---|\n",
    "| 0 | CB | 15.0 |\n",
    "| 1 | SC | 21.0 |"
   ]
  },
  {
   "cell_type": "code",
   "execution_count": null,
   "metadata": {},
   "outputs": [],
   "source": [
    "# YOUR CODE BEGINS\n",
    "\n",
    "# YOUR CODE ENDS\n",
    "\n",
    "display(df_sales_by_product)"
   ]
  },
  {
   "cell_type": "markdown",
   "metadata": {},
   "source": [
    "#### 🧭 Check Your Work\n",
    "\n",
    "- Once you're done, run the code cell below to test correctness.\n",
    "- ✔️ If the code cell runs without an error, you're good to move on.\n",
    "- ❌ If the code cell throws an error, go back and fix incorrect parts."
   ]
  },
  {
   "cell_type": "code",
   "execution_count": null,
   "metadata": {},
   "outputs": [],
   "source": [
    "# DO NOT CHANGE THE CODE BELOW\n",
    "df_merged_SOL = df_transactions_backup.merge(\n",
    "    df_products_backup,\n",
    "    on='product_id',\n",
    "    how='left'\n",
    ")\n",
    "df_sales_by_product_SOL = df_merged_SOL.groupby('PRODUCT_ID'.lower()).agg({'price': np.sum}).reset_index()\n",
    "\n",
    "pd.testing.assert_frame_equal(df_sales_by_product, df_sales_by_product_SOL)"
   ]
  },
  {
   "cell_type": "markdown",
   "metadata": {},
   "source": [
    "---\n",
    "\n",
    "### 🎯 Challenge of the day: Total sales by product (OPTIONAL)\n",
    "\n",
    "⚠️ This challenge is a chance to showcase your problem-solving abilities. The code examples used in the lecture may not be sufficient to perform this task.\n",
    "\n",
    "#### 👇 Tasks\n",
    "\n",
    "- ✔️ Using `df_merged` from the previous exercise, find the total sales by product.\n",
    "- ✔️ Store the grouped result (a DataFrame) to `df_sales_by_id_name`.\n",
    "    - This time, include the `product_name` information in addition to the `product_id` column.\n",
    "- ✔️ Use the `groupby()` method.\n",
    "- ✔️ `df_sales_by_id_name` should contain flat-level columns in the order shown below.\n",
    "    - Printing `df_sales_by_id_name.columns.to_list()` should print out `['product_id', 'product_name', 'price']`.\n",
    "\n",
    "#### 🧭 Expected Output of `df_sales_by_id_name`\n",
    "\n",
    "|  | product_id | product_name | price |\n",
    "|---|---|---|---|\n",
    "| 0 | CB | Beer | 15 |\n",
    "| 1 | SC | Sweetcorn | 21 |"
   ]
  },
  {
   "cell_type": "code",
   "execution_count": null,
   "metadata": {},
   "outputs": [],
   "source": [
    "# YOUR CODE BEGINS\n",
    "\n",
    "# YOUR CODE ENDS\n",
    "\n",
    "display(df_sales_by_id_name)"
   ]
  },
  {
   "cell_type": "markdown",
   "metadata": {},
   "source": [
    "#### 🧭 Check Your Work\n",
    "\n",
    "- Once you're done, run the code cell below to test correctness.\n",
    "- ✔️ If the code cell runs without an error, you're good to move on.\n",
    "- ❌ If the code cell throws an error, go back and fix incorrect parts."
   ]
  },
  {
   "cell_type": "code",
   "execution_count": null,
   "metadata": {},
   "outputs": [],
   "source": [
    "# DO NOT CHANGE THE CODE BELOW\n",
    "df_merged_SOL = df_transactions_backup.merge(\n",
    "    df_products_backup,\n",
    "    on='product_id',\n",
    "    how='left'\n",
    ")\n",
    "\n",
    "df_sales_by_id_name_SOL = df_merged_SOL.groupby(['product_id', 'product_name'], as_index=False).agg({'price': 'sum'})\n",
    "\n",
    "\n",
    "pd.testing.assert_frame_equal(df_sales_by_id_name, df_sales_by_id_name_SOL)"
   ]
  }
 ],
 "metadata": {
  "kernelspec": {
   "display_name": "Python 3",
   "language": "python",
   "name": "python3"
  },
  "language_info": {
   "codemirror_mode": {
    "name": "ipython",
    "version": 3
   },
   "file_extension": ".py",
   "mimetype": "text/x-python",
   "name": "python",
   "nbconvert_exporter": "python",
   "pygments_lexer": "ipython3",
   "version": "3.8.3"
  }
 },
 "nbformat": 4,
 "nbformat_minor": 4
}
