{
 "cells": [
  {
   "cell_type": "markdown",
   "metadata": {},
   "source": [
    "# Chicago Uber/Lyft Trips Before/After COVID-19\n",
    "\n",
    "- 🏆 80 points available\n",
    "- 🤠 Author: Park (ypark32@illinois.edu)\n",
    "- ✏️ Last updated on 3/20/2025\n",
    "\n",
    "![Case Study Cover Image](https://github.com/bdi475/images/blob/main/case-studies/rideshare-trips/chicago-rideshare-trips-cover-image.jpg?raw=true)\n",
    "\n",
    "## 💎 Case Overview\n",
    "\n",
    "Four Transportation Network Providers (TNPs), often called rideshare companies 🚗, have been licensed to operate in Chicago. These TNPs are required to routinely report information on vehicles, drivers, and trips to the City of Chicago, which is published on the [Chicago Data Portal](https://data.cityofchicago.org/). The latest trips dataset can be downloaded from [this page](https://data.cityofchicago.org/Transportation/Transportation-Network-Providers-Trips/m6dm-c72p).\n",
    "\n",
    "### 🐢 Your Dataset\n",
    "\n",
    "- The original dataset contains information about 170 million ridesharing trips between 2018 and 2021 translating to over 40GB of raw data. 🙀☠️🙀\n",
    "- **Approximately 1% of the original data has been randomly sampled**, preprocessed, and compressed.\n",
    "- Only 2019 and 2020 data have been selected.\n",
    "\n",
    "### ⚔️ Your Goal\n",
    "\n",
    "Analyze the dataset and answer the following questions:\n",
    "\n",
    "- 👉 How has the COVID-19 affected the total number of trips in 2019 and 2020?\n",
    "- 👉 How has the COVID-19 affected the number of monthly trips?\n",
    "- 👉 Have passengers become more generous or frugal when tipping during the pandemic?\n",
    "- 👉 What were the trip dimensions (trip duration, distance, and fare) of rides taken right before the July 4th fireworks in 2019 and 2020?\n",
    "- 👉 Were passengers pooling rides during the pandemic?\n",
    "- 👉 What are the top 20 pickup areas (by volume)?\n",
    "- 👉 What is the average trip total for each of the top 20 pickup areas?\n",
    "- 👉 Is there any area that has an unusually large trip total?"
   ]
  },
  {
   "cell_type": "markdown",
   "metadata": {
    "id": "DiznwS2xem7h"
   },
   "source": [
    "---\n",
    "\n",
    "▶️ Run the code cell below to import `unittest`, a module used for **🧭 Check Your Work** sections and the autograder."
   ]
  },
  {
   "cell_type": "code",
   "execution_count": null,
   "metadata": {
    "id": "xOFvIip0em7h"
   },
   "outputs": [],
   "source": [
    "# DO NOT MODIFY THE CODE IN THIS CELL\n",
    "import base64\n",
    "import unittest\n",
    "tc = unittest.TestCase()"
   ]
  },
  {
   "cell_type": "markdown",
   "metadata": {},
   "source": [
    "---\n",
    "\n",
    "### 🔨 Import Packages and Dataset"
   ]
  },
  {
   "cell_type": "markdown",
   "metadata": {},
   "source": [
    "▶️ Run the code cell below to import packages used in the case."
   ]
  },
  {
   "cell_type": "code",
   "execution_count": null,
   "metadata": {},
   "outputs": [],
   "source": [
    "import pandas as pd\n",
    "import numpy as np\n",
    "import plotly\n",
    "import plotly.express as px\n",
    "import plotly.graph_objects as go\n",
    "\n",
    "# plotly.io is a low-level interface for interacting with figures/\n",
    "# plotly.io.templates lists available plotly templates\n",
    "# https://plotly.com/python-api-reference/plotly.io.html\n",
    "import plotly.io as pio\n",
    "\n",
    "pd.set_option('display.max_columns', 50)"
   ]
  },
  {
   "cell_type": "markdown",
   "metadata": {},
   "source": [
    "#### 🧭 Check Plotly Version\n",
    "\n",
    "Run the code below to ensure that your notebook uses the same Plotly version as the autograder."
   ]
  },
  {
   "cell_type": "code",
   "execution_count": null,
   "metadata": {},
   "outputs": [],
   "source": [
    "# DO NOT CHANGE THE CODE IN THIS CELL\n",
    "print(f'The current plotly version is {plotly.__version__}')\n",
    "plotly_major_version = int(plotly.__version__.split(\".\")[0])\n",
    "\n",
    "tc.assertGreaterEqual(plotly_major_version, 5, 'Your plotly version should be greater than or equal to 5')"
   ]
  },
  {
   "cell_type": "markdown",
   "metadata": {},
   "source": [
    "▶️ Run the code below to import and process the trips dataset."
   ]
  },
  {
   "cell_type": "code",
   "execution_count": null,
   "metadata": {},
   "outputs": [],
   "source": [
    "df = pd.read_csv(\n",
    "    'https://github.com/bdi475/datasets/raw/main/case-studies/chicago-ridesharing/chicago-ridesharing-trips-2019-2020.csv.gz',\n",
    "    compression='gzip',\n",
    "    parse_dates=['start']\n",
    ")\n",
    "df_community_areas = pd.read_csv('https://github.com/bdi475/datasets/raw/main/case-studies/chicago-ridesharing/chicago-community-area-numbers.csv')\n",
    "\n",
    "# replace community area numbers with area names\n",
    "df = df.merge(df_community_areas, left_on='pickup_area', right_on='area_number', how='left')\n",
    "df['pickup_area'] = df['community'].copy()\n",
    "df.drop(columns=['community', 'area_number'], inplace=True)\n",
    "\n",
    "df = df.merge(df_community_areas, left_on='dropoff_area', right_on='area_number', how='left')\n",
    "df['dropoff_area'] = df['community'].copy()\n",
    "df.drop(columns=['community', 'area_number'], inplace=True)\n",
    "\n",
    "# Create a copy for 🧭 Check Your Work section\n",
    "df_backup = df.copy()"
   ]
  },
  {
   "cell_type": "markdown",
   "metadata": {},
   "source": [
    "---\n",
    "\n",
    "## 📐 Part 1: Data Overview"
   ]
  },
  {
   "cell_type": "markdown",
   "metadata": {},
   "source": [
    "---\n",
    "\n",
    "### 🎯 Deliverable 1: First 5 Rows\n",
    "\n",
    "#### 👇 Tasks\n",
    "\n",
    "- ✔️ Display the first 5 rows of `df` using `.head()`.\n",
    "\n",
    "#### 🚀 Hint\n",
    "\n",
    "```python\n",
    "my_dataframe.head()\n",
    "```"
   ]
  },
  {
   "cell_type": "code",
   "execution_count": null,
   "metadata": {},
   "outputs": [],
   "source": [
    "# YOUR CODE BEGINS\n",
    "\n",
    "# YOUR CODE ENDS"
   ]
  },
  {
   "cell_type": "markdown",
   "metadata": {},
   "source": [
    "#### 🧭 Check Your Work"
   ]
  },
  {
   "cell_type": "code",
   "execution_count": null,
   "metadata": {},
   "outputs": [],
   "source": [
    "# DO NOT CHANGE THE CODE IN THIS CELL\n",
    "_test_case = 'deliverable-01'\n",
    "_points = 2\n",
    "\n",
    "# manually graded cell\n",
    "pass"
   ]
  },
  {
   "cell_type": "markdown",
   "metadata": {},
   "source": [
    "---\n",
    "\n",
    "### 🎯 Deliverable 2: Summary of DataFrame\n",
    "\n",
    "#### 👇 Tasks\n",
    "\n",
    "- ✔️ Print a concise summary of `df` using `.info()`.\n",
    "\n",
    "#### 🚀 Hint\n",
    "\n",
    "```python\n",
    "my_dataframe.info()\n",
    "```"
   ]
  },
  {
   "cell_type": "code",
   "execution_count": null,
   "metadata": {},
   "outputs": [],
   "source": [
    "# YOUR CODE BEGINS\n",
    "\n",
    "# YOUR CODE ENDS"
   ]
  },
  {
   "cell_type": "markdown",
   "metadata": {},
   "source": [
    "#### 🧭 Check Your Work"
   ]
  },
  {
   "cell_type": "code",
   "execution_count": null,
   "metadata": {},
   "outputs": [],
   "source": [
    "# DO NOT CHANGE THE CODE IN THIS CELL\n",
    "_test_case = 'deliverable-02'\n",
    "_points = 2\n",
    "\n",
    "# manually graded cell\n",
    "pass"
   ]
  },
  {
   "cell_type": "markdown",
   "metadata": {},
   "source": [
    "---\n",
    "\n",
    "### 🎯 Deliverable 3: Number of Rows and Columns in the Dataset\n",
    "\n",
    "#### 👇 Tasks\n",
    "\n",
    "- ✔️ Store the number of rows in `df` to a new variable named `num_rows`.\n",
    "- ✔️ Store the number of columns in `df` to a new variable named `num_cols`."
   ]
  },
  {
   "cell_type": "code",
   "execution_count": null,
   "metadata": {},
   "outputs": [],
   "source": [
    "# YOUR CODE BEGINS\n",
    "\n",
    "# YOUR CODE ENDS\n",
    "\n",
    "print(f'There are {num_rows} rows and {num_cols} columns in the dataset.')"
   ]
  },
  {
   "cell_type": "markdown",
   "metadata": {},
   "source": [
    "#### 🧭 Check Your Work"
   ]
  },
  {
   "cell_type": "code",
   "execution_count": null,
   "metadata": {},
   "outputs": [],
   "source": [
    "# DO NOT CHANGE THE CODE IN THIS CELL\n",
    "_test_case = 'deliverable-03'\n",
    "_points = 2\n",
    "\n",
    "tc.assertEqual(num_rows, len(df_backup.index), f'Number of rows should be {len(df_backup.index)}')\n",
    "tc.assertEqual(num_cols, len(df_backup.columns), f'Number of columns should be {len(df_backup.columns)}')"
   ]
  },
  {
   "cell_type": "markdown",
   "metadata": {},
   "source": [
    "---\n",
    "\n",
    "## 🗓️ Part 2: Extract Datetime Values into Separate Columns\n",
    "\n",
    "The `start` column contains trip start timestamps. In this part of the case study, you will extract year, month, day of the month, day of the week, hour, and weekday/weekend information into separate columns."
   ]
  },
  {
   "cell_type": "markdown",
   "metadata": {},
   "source": [
    "---\n",
    "\n",
    "### 🎯 Deliverable 4: Extract Year into a New Column"
   ]
  },
  {
   "cell_type": "markdown",
   "metadata": {},
   "source": [
    "▶️ Run the code below to print the first 3 values of the `start` column and the data types."
   ]
  },
  {
   "cell_type": "code",
   "execution_count": null,
   "metadata": {},
   "outputs": [],
   "source": [
    "display(df['start'].head(3))\n",
    "print('=================================================')\n",
    "print(f\"df['start'] column's data type is {df['start'].dtype}.\")"
   ]
  },
  {
   "cell_type": "markdown",
   "metadata": {},
   "source": [
    "#### 👇 Tasks\n",
    "\n",
    "- ✔️ From `df`, extract the year (e.g., `2019`, `2020`) from the `start` column and store it in a new column named `year`.\n",
    "\n",
    "#### 🔑 Expected Output\n",
    "\n",
    "|         |               start | year |\n",
    "|--------:|--------------------:|-----:|\n",
    "|  400000 | 2019-05-28 19:00:00 | 2019 |\n",
    "|  600000 | 2019-08-12 19:15:00 | 2019 |\n",
    "|  800000 | 2019-10-29 08:00:00 | 2019 |\n",
    "| 1000000 | 2020-01-15 12:45:00 | 2020 |\n",
    "| 1200000 | 2020-06-09 17:00:00 | 2020 |"
   ]
  },
  {
   "cell_type": "code",
   "execution_count": null,
   "metadata": {},
   "outputs": [],
   "source": [
    "# YOUR CODE BEGINS\n",
    "\n",
    "# YOUR CODE ENDS\n",
    "\n",
    "# display 5 rows at indices 400000, 600000, 800000, 1000000, 1200000\n",
    "df_sample = df[df.index.isin([400000, 600000, 800000, 1000000, 1200000])]\n",
    "display(df_sample[['start', 'year']])"
   ]
  },
  {
   "cell_type": "markdown",
   "metadata": {},
   "source": [
    "#### 🧭 Check Your Work"
   ]
  },
  {
   "cell_type": "code",
   "execution_count": null,
   "metadata": {},
   "outputs": [],
   "source": [
    "# DO NOT CHANGE THE CODE IN THIS CELL\n",
    "_test_case = 'deliverable-04'\n",
    "_points = 2\n",
    "_obfuscate = True\n",
    "\n",
    "import base64 as _b64\n",
    "_64 = _b64.b64decode('ZGZfYmFja3VwWyd5ZWFyJ10gPSBkZl9iYWNrdXBbJ3N0YXJ0J10uZHQueWVhcgoKdGMuYXNzZXJ0RX\\\n",
    "F1YWwoZGYuc2hhcGUsIGRmX2JhY2t1cC5zaGFwZSwgJ0luY29ycmVjdCBudW1iZXIgb2Ygcm93cyBhbmQvb3IgY29sdW1ucycpCn\\\n",
    "BkLnRlc3RpbmcuYXNzZXJ0X2ZyYW1lX2VxdWFsKAogICAgZGZbWydzdGFydCcsICd5ZWFyJ11dLnNvcnRfdmFsdWVzKCdzdGFydC\\\n",
    "cpLnJlc2V0X2luZGV4KGRyb3A9VHJ1ZSksCiAgICBkZl9iYWNrdXBbWydzdGFydCcsICd5ZWFyJ11dLnNvcnRfdmFsdWVzKCdzdG\\\n",
    "FydCcpLnJlc2V0X2luZGV4KGRyb3A9VHJ1ZSksCik=')\n",
    "eval(compile(_64, '<string>', 'exec'))"
   ]
  },
  {
   "cell_type": "markdown",
   "metadata": {},
   "source": [
    "---\n",
    "\n",
    "### 🎯 Deliverable 5: Extract Month, Day of Month, Day of Week, and Hour into Columns\n",
    "\n",
    "#### 👇 Tasks\n",
    "\n",
    "- ✔️ Similar to the previous deliverable, extract the month, day of month, day of week, and hour of each start time in `df` to new columns.\n",
    "- ✔️ Use the following column names. Sample values are also given.\n",
    "    - `month`: `1`, `2`, ..., `11`, `12`\n",
    "    - `day`: `1`, `2`, ..., `28`, `29`, `30`, `31`\n",
    "    - `dayofweek`: `0` for Monday, `6` for Sunday\n",
    "    - `hour`: `0`, `1`, ..., `22`, `23`\n",
    "    \n",
    "#### 🔑 Expected Output\n",
    "\n",
    "|         |               start | month | day | dayofweek | hour |\n",
    "|--------:|--------------------:|------:|----:|----------:|-----:|\n",
    "|  400000 | 2019-05-28 19:00:00 |     5 |  28 |         1 |   19 |\n",
    "|  600000 | 2019-08-12 19:15:00 |     8 |  12 |         0 |   19 |\n",
    "|  800000 | 2019-10-29 08:00:00 |    10 |  29 |         1 |    8 |\n",
    "| 1000000 | 2020-01-15 12:45:00 |     1 |  15 |         2 |   12 |\n",
    "| 1200000 | 2020-06-09 17:00:00 |     6 |   9 |         1 |   17 |"
   ]
  },
  {
   "cell_type": "code",
   "execution_count": null,
   "metadata": {},
   "outputs": [],
   "source": [
    "# YOUR CODE BEGINS\n",
    "\n",
    "# YOUR CODE ENDS\n",
    "\n",
    "# display 5 rows at indices 400000, 600000, 800000, 1000000, 1200000\n",
    "df_sample = df[df.index.isin([400000, 600000, 800000, 1000000, 1200000])]\n",
    "display(df_sample[['start', 'month', 'day', 'dayofweek', 'hour']])"
   ]
  },
  {
   "cell_type": "markdown",
   "metadata": {},
   "source": [
    "#### 🧭 Check Your Work"
   ]
  },
  {
   "cell_type": "code",
   "execution_count": null,
   "metadata": {},
   "outputs": [],
   "source": [
    "# DO NOT CHANGE THE CODE IN THIS CELL\n",
    "_test_case = 'deliverable-05'\n",
    "_points = 4\n",
    "\n",
    "decoded_code = base64.b64decode(b'ZGZfYmFja3VwWydtb250aCddID0gZGZfYmFja3VwWydzd\\\n",
    "GFydCddLmR0Lm1vbnRoCmRmX2JhY2t1cFsnZGF5J10gPSBkZl9iYWNrdXBbJ3N0YXJ0J10uZHQuZG\\\n",
    "F5CmRmX2JhY2t1cFsnZGF5b2Z3ZWVrJ10gPSBkZl9iYWNrdXBbJ3N0YXJ0J10uZHQuZGF5b2Z3ZWV\\\n",
    "rCmRmX2JhY2t1cFsnaG91ciddID0gZGZfYmFja3VwWydzdGFydCddLmR0LmhvdXI=')\n",
    "eval(compile(decoded_code, '<string>', 'exec'))\n",
    "\n",
    "tc.assertEqual(df.shape, df_backup.shape, 'Incorrect number of rows and/or columns')\n",
    "pd.testing.assert_frame_equal(\n",
    "    df[['start', 'month', 'day', 'dayofweek', 'hour']].sort_values('start').reset_index(drop=True),\n",
    "    df_backup[['start', 'month', 'day', 'dayofweek', 'hour']].sort_values('start').reset_index(drop=True),\n",
    ")"
   ]
  },
  {
   "cell_type": "markdown",
   "metadata": {},
   "source": [
    "---\n",
    "\n",
    "### 🎯 Deliverable 6: Create `weekday_weekend` Column\n",
    "\n",
    "#### 👇 Tasks\n",
    "\n",
    "- ✔️ Assume Mondays-Thursdays are weekdays and Fridays-Sundays are weekends.\n",
    "- ✔️ Create a new column named `weekday_weekend` in `df`.\n",
    "- ✔️ For each row, the value of `weekday_weekend` will either be string `'weekday'` or string `'weekend'` (case-sensitive) based on the value of the `dayofweek` column.\n",
    "    - `'weekday'` if `dayofweek` is less than or equal to `3` (`0` == Monday, `1` == Tuesday, `2` == Wednesday, `3` == Thursday)\n",
    "    - `'weekend'` if otherwise (`4` == Friday, `5` == Saturday, `6` == Sunday)\n",
    "\n",
    "#### 🚀 Hint\n",
    "\n",
    "There are many ways to achieve this task.\n",
    "\n",
    "The code below creates a new column named `cheap_expensive` where the value will be string `'cheap'` if the price is less than or equal to `10` and `'expensive'` if otherwise.\n",
    "\n",
    "```python\n",
    "my_dataframe['cheap_expensive'] = np.where(my_dataframe['price'] <= 10, 'cheap', 'expensive')\n",
    "```"
   ]
  },
  {
   "cell_type": "code",
   "execution_count": null,
   "metadata": {},
   "outputs": [],
   "source": [
    "# YOUR CODE BEGINS\n",
    "\n",
    "# YOUR CODE ENDS\n",
    "\n",
    "display(df[['dayofweek', 'weekday_weekend']].sample(5))"
   ]
  },
  {
   "cell_type": "markdown",
   "metadata": {},
   "source": [
    "#### 🧭 Check Your Work"
   ]
  },
  {
   "cell_type": "code",
   "execution_count": null,
   "metadata": {},
   "outputs": [],
   "source": [
    "# DO NOT CHANGE THE CODE IN THIS CELL\n",
    "_test_case = 'deliverable-06'\n",
    "_points = 3\n",
    "\n",
    "decoded_code = base64.b64decode(b'ZGZfYmFja3VwWyd3ZWVrZGF5X3dlZWtlbmQnXSA9IG5wL\\\n",
    "ndoZXJlKGRmX2JhY2t1cFsnZGF5b2Z3ZWVrJ10gPD0gMywgJ3dlZWtkYXknLCAnd2Vla2VuZCcp')\n",
    "eval(compile(decoded_code, '<string>', 'exec'))\n",
    "\n",
    "tc.assertEqual(df.shape, df_backup.shape, 'Incorrect number of rows and/or columns')\n",
    "pd.testing.assert_frame_equal(\n",
    "    df[['start', 'dayofweek', 'weekday_weekend']].sort_values('start').reset_index(drop=True),\n",
    "    df_backup[['start', 'dayofweek', 'weekday_weekend']].sort_values('start').reset_index(drop=True),\n",
    ")"
   ]
  },
  {
   "cell_type": "markdown",
   "metadata": {},
   "source": [
    "---\n",
    "\n",
    "## 😷 Part 3: Visualize the Effects of COVID-19 on the Volume of Ridesharing Trips\n",
    "\n",
    "Although the first case of COVID-19 was reported in January 2020 in the United States, people started to take it seriously in March 2020.\n",
    "\n",
    "How did COVID-19 affect the volume of ridesharing trips? 💨 Let's visualize and compare the monthly number of trips for both 2019 and 2020."
   ]
  },
  {
   "cell_type": "markdown",
   "metadata": {},
   "source": [
    "---\n",
    "\n",
    "### 🎯 Deliverable 7: Total Number of Trips in 2019 and 2020\n",
    "\n",
    "#### 👇 Tasks\n",
    "\n",
    "- ✔️ Using `df`, count the number of trips made in 2019 and store the number in a new variable named `num_2019_trips`.\n",
    "- ✔️ Using `df`, count the number of trips made in 2020 and store the number in a new variable named `num_2020_trips`.\n",
    "\n",
    "#### 🚀 Hint\n",
    "\n",
    "For `num_2019_trips`, retrieve the number of rows where `df['year']` is `2019`."
   ]
  },
  {
   "cell_type": "code",
   "execution_count": null,
   "metadata": {},
   "outputs": [],
   "source": [
    "# YOUR CODE BEGINS\n",
    "\n",
    "# YOUR CODE ENDS\n",
    "\n",
    "print(f'There were {num_2019_trips} trips in 2019.')\n",
    "print(f'There were {num_2020_trips} trips in 2020.')\n",
    "print(f'The number of trips decreased by {(num_2019_trips - num_2020_trips) / num_2019_trips * 100:.1f}%.')"
   ]
  },
  {
   "cell_type": "markdown",
   "metadata": {},
   "source": [
    "#### 🧭 Check Your Work"
   ]
  },
  {
   "cell_type": "code",
   "execution_count": null,
   "metadata": {},
   "outputs": [],
   "source": [
    "# DO NOT CHANGE THE CODE IN THIS CELL\n",
    "_test_case = 'deliverable-07'\n",
    "_points = 3\n",
    "\n",
    "decoded_code = base64.b64decode(b'bnVtXzIwMTlfdHJpcHNfY2hlY2sgPSBkZ\\\n",
    "l9iYWNrdXBbJ3llYXInXS52YWx1ZV9jb3VudHMoKS5sb2NbMjAxOV0KbnVtXzIwMjBf\\\n",
    "dHJpcHNfY2hlY2sgPSBkZl9iYWNrdXBbJ3llYXInXS52YWx1ZV9jb3VudHMoKS5sb2NbMjAyMF0=')\n",
    "eval(compile(decoded_code, '<string>', 'exec'))\n",
    "\n",
    "tc.assertEqual(num_2019_trips, num_2019_trips_check,\n",
    "               f\"Incorrect number of 2019 trips, should be {num_2019_trips_check}\")\n",
    "tc.assertEqual(num_2020_trips, num_2020_trips_check,\n",
    "               f\"Incorrect number of 2020 trips, should be {num_2020_trips_check}\")"
   ]
  },
  {
   "cell_type": "markdown",
   "metadata": {},
   "source": [
    "---\n",
    "\n",
    "### 🎯 Deliverable 8: Monthly Number of Trips and Tip Percentage\n",
    "\n",
    "#### 👇 Tasks\n",
    "\n",
    "- ✔️ Using `df`, calculate the number of monthly trips and average tip percentages.\n",
    "- ✔️ Use the code given below.\n",
    "\n",
    "![Code](https://github.com/bdi475/images/blob/main/case-studies/rideshare-trips/code-monthly-trips-and-tip-pct-01.png?raw=true)"
   ]
  },
  {
   "cell_type": "code",
   "execution_count": null,
   "metadata": {},
   "outputs": [],
   "source": [
    "# YOUR CODE BEGINS\n",
    "\n",
    "# YOUR CODE ENDS\n",
    "\n",
    "display(df_monthly.head(5))"
   ]
  },
  {
   "cell_type": "markdown",
   "metadata": {},
   "source": [
    "#### 🧭 Check Your Work"
   ]
  },
  {
   "cell_type": "code",
   "execution_count": null,
   "metadata": {},
   "outputs": [],
   "source": [
    "# DO NOT CHANGE THE CODE IN THIS CELL\n",
    "_test_case = 'deliverable-08'\n",
    "_points = 2\n",
    "_obfuscate = True\n",
    "\n",
    "import base64 as _b64\n",
    "_64 = _b64.b64decode('ZGZfbW9udGhseV9jaGVjayA9IGRmX2JhY2t1cC5ncm91cGJ5KFsneWVhcicsICdtb250aCddLCBhc1\\\n",
    "9pbmRleD1GYWxzZSkuYWdnKHsKICAgICdzdGFydCc6ICdjb3VudCcsCiAgICAndGlwJzogJ3N1bScsCiAgICAnZmFyZSc6ICdzdW\\\n",
    "0nLAp9KS5yZW5hbWUoY29sdW1ucz17CiAgICAnc3RhcnQnOiAnbnVtX3RyaXBzJwp9KQoKZGZfbW9udGhseV9jaGVja1sndGlwX3\\\n",
    "BjdCddID0gZGZfbW9udGhseV9jaGVja1sndGlwJ10gLyBkZl9tb250aGx5X2NoZWNrWydmYXJlJ10KZGZfbW9udGhseV9jaGVjay\\\n",
    "5kcm9wKGNvbHVtbnM9Wyd0aXAnLCAnZmFyZSddLCBpbnBsYWNlPVRydWUpCgp0Yy5hc3NlcnRFcXVhbChkZl9tb250aGx5LnNoYX\\\n",
    "BlLCBkZl9tb250aGx5X2NoZWNrLnNoYXBlLCAnSW5jb3JyZWN0IG51bWJlciBvZiByb3dzIGFuZC9vciBjb2x1bW5zJykKcGQudG\\\n",
    "VzdGluZy5hc3NlcnRfZnJhbWVfZXF1YWwoCiAgICBkZl9tb250aGx5LnNvcnRfdmFsdWVzKFsneWVhcicsICdtb250aCddKS5yZX\\\n",
    "NldF9pbmRleChkcm9wPVRydWUpLAogICAgZGZfbW9udGhseV9jaGVjay5zb3J0X3ZhbHVlcyhbJ3llYXInLCAnbW9udGgnXSkucm\\\n",
    "VzZXRfaW5kZXgoZHJvcD1UcnVlKSwKICAgIGNoZWNrX2xpa2U9VHJ1ZQop')\n",
    "eval(compile(_64, '<string>', 'exec'))"
   ]
  },
  {
   "cell_type": "markdown",
   "metadata": {},
   "source": [
    "---\n",
    "\n",
    "### 🎯 Deliverable 9: Sunburst Chart of Monthly Trips\n",
    "\n",
    "#### 👇 Tasks\n",
    "\n",
    "- ✔️ Using `df_monthly`, create a sunburst chart that shows the proportion of monthly number of trips for both 2019 and 2020.\n",
    "- ✔️ Set an appropriate title.\n",
    "- ✔️ Set both the `width` and `height` to `600`.\n",
    "- ✔️ Store your figure in a variable named `fig`.\n",
    "- ✔️ Display the figure using `fig.show()`\n",
    "\n",
    "#### 🔑 Sample Output\n",
    "\n",
    "![Sample Output](https://github.com/bdi475/images/blob/3a8d245f873b4cd03e4053bc0a827591562740f5/case-studies/rideshare-trips/sample-output-trips-monthly-breakdown-sunburst-01.png?raw=true)\n",
    "\n",
    "#### 🚀 Hint\n",
    "\n",
    "Replace `my_dataframe`, `'column1'`, `'column2'`, `'column3'`, and `...`s with your own values from the code below.\n",
    "\n",
    "```python\n",
    "fig = px.sunburst(\n",
    "    my_dataframe,\n",
    "    path=['column1', 'column2'],\n",
    "    values='column3',\n",
    "    title='Your Title Here',\n",
    "    width=...,\n",
    "    height=...\n",
    ")\n",
    "fig.show()\n",
    "```"
   ]
  },
  {
   "cell_type": "code",
   "execution_count": null,
   "metadata": {},
   "outputs": [],
   "source": [
    "# YOUR CODE BEGINS\n",
    "\n",
    "# YOUR CODE ENDS"
   ]
  },
  {
   "cell_type": "markdown",
   "metadata": {},
   "source": [
    "#### 🧭 Check Your Work"
   ]
  },
  {
   "cell_type": "code",
   "execution_count": null,
   "metadata": {},
   "outputs": [],
   "source": [
    "# DO NOT CHANGE THE CODE IN THIS CELL\n",
    "_test_case = 'deliverable-09'\n",
    "_points = 4\n",
    "_obfuscate = True\n",
    "\n",
    "import base64 as _b64\n",
    "_64 = _b64.b64decode('dGMuYXNzZXJ0SXNOb3ROb25lKGZpZy5sYXlvdXQudGl0bGUudGV4dCwgJ01pc3NpbmcgZmlndXJlIH\\\n",
    "RpdGxlJykKdGMuYXNzZXJ0RXF1YWwoZmlnLmRhdGFbMF0udHlwZSwgJ3N1bmJ1cnN0JywgJ011c3QgYmUgYSBzdW5idXJzdCBjaG\\\n",
    "FydCcpCnRjLmFzc2VydEVxdWFsKGZpZy5sYXlvdXQud2lkdGgsIDYwMCwgJ0luY29ycmVjdCB3aWR0aCcpCnRjLmFzc2VydEVxdW\\\n",
    "FsKGZpZy5sYXlvdXQuaGVpZ2h0LCA2MDAsICdJbmNvcnJlY3QgaGVpZ2h0JykKCmZpZ19jaGVjayA9IHB4LnN1bmJ1cnN0KAogIC\\\n",
    "AgZGZfbW9udGhseV9jaGVjaywKICAgIHBhdGg9Wyd5ZWFyJywgJ21vbnRoJ10sCiAgICB2YWx1ZXM9J251bV90cmlwcycsCiAgIC\\\n",
    "B0aXRsZT0nVHJpcHMgQnJlYWtkb3duIGJ5IFllYXIgYW5kIE1vbnRoJywKICAgIHdpZHRoPTYwMCwKICAgIGhlaWdodD02MDAKKQ\\\n",
    "oKbnAudGVzdGluZy5hc3NlcnRfYXJyYXlfZXF1YWwoCiAgICBmaWcuZGF0YVswXS5sYWJlbHMsCiAgICBmaWdfY2hlY2suZGF0YV\\\n",
    "swXS5sYWJlbHMsCiAgICAnTGFiZWwocykgbWlzbWF0Y2gnCikKCm5wLnRlc3RpbmcuYXNzZXJ0X2FycmF5X2VxdWFsKAogICAgZm\\\n",
    "lnLmRhdGFbMF0ucGFyZW50cywKICAgIGZpZ19jaGVjay5kYXRhWzBdLnBhcmVudHMsCiAgICAnUGFyZW50KHMpIG1pc21hdGNoJw\\\n",
    "opCgpucC50ZXN0aW5nLmFzc2VydF9hcnJheV9lcXVhbCgKICAgIGZpZy5kYXRhWzBdLnZhbHVlcywKICAgIGZpZ19jaGVjay5kYX\\\n",
    "RhWzBdLnZhbHVlcywKICAgICdWYWx1ZShzKSBtaXNtYXRjaCcKKQ==')\n",
    "eval(compile(_64, '<string>', 'exec'))"
   ]
  },
  {
   "cell_type": "markdown",
   "metadata": {},
   "source": [
    "---\n",
    "\n",
    "### 🎯 Deliverable 10: Monthly Number of Trips in 2019 and 2020 (Facet Grid Bar Chart)\n",
    "\n",
    "#### 👇 Tasks\n",
    "\n",
    "- ✔️ Using `df_monthly`, create two bar charts side-by-side within the same figure, showing the number of monthly trips for 2019 and 2020.\n",
    "    - You will have to use a *facet grid* that we haven't covered in lectures.\n",
    "    - A facet grid is a group of plots within one figure categorized by 1 or 2 criteria.\n",
    "    - This deliverable expects you to do some research on your own, although the hint will provide the majority of the code required to complete this task.\n",
    "- ✔️ Set an appropriate title.\n",
    "- ✔️ Use the `'simple_white'` theme (template).\n",
    "- ✔️ Set the `width` to `1000` and `height` to `500`.\n",
    "- ✔️ Store your figure in a variable named `fig`.\n",
    "- ✔️ Display the figure using `fig.show()`\n",
    "\n",
    "#### 🔑 Sample Output\n",
    "\n",
    "![Sample Output](https://github.com/bdi475/images/blob/a0d6b0ed5d2d2148cc78d85f5a3e902863182e64/case-studies/rideshare-trips/sample-output-monthly-number-of-trips-facet-grid-bar-charts-01.png?raw=true)\n",
    "\n",
    "#### 🚀 Hint\n",
    "\n",
    "Replace `my_dataframe`, `'column1'`, `'column2'`, `'column3'`, and `...`s with your own values from the code below.\n",
    "\n",
    "```python\n",
    "fig = px.bar(\n",
    "    my_dataframe,\n",
    "    title='Your Title Here',\n",
    "    x='column1',\n",
    "    y='column2',\n",
    "    facet_col='column3',\n",
    "    width=...,\n",
    "    height=...,\n",
    "    template='simple_white',\n",
    ")\n",
    "fig.show()\n",
    "```"
   ]
  },
  {
   "cell_type": "code",
   "execution_count": null,
   "metadata": {},
   "outputs": [],
   "source": [
    "# YOUR CODE BEGINS\n",
    "\n",
    "# YOUR CODE ENDS"
   ]
  },
  {
   "cell_type": "markdown",
   "metadata": {},
   "source": [
    "#### 🧭 Check Your Work"
   ]
  },
  {
   "cell_type": "code",
   "execution_count": null,
   "metadata": {},
   "outputs": [],
   "source": [
    "# DO NOT CHANGE THE CODE IN THIS CELL\n",
    "_test_case = 'deliverable-10'\n",
    "_points = 4\n",
    "\n",
    "tc.assertIsNotNone(fig.layout.title.text, 'Missing figure title')\n",
    "tc.assertEqual(len(fig.data), 2, 'Must use a facet grid to display two bar charts side-by-side')\n",
    "tc.assertEqual(fig.layout.width, 1000, 'Incorrect width')\n",
    "tc.assertEqual(fig.layout.height, 500, 'Incorrect height')\n",
    "tc.assertEqual(fig.layout.template, pio.templates['simple_white'], 'Incorrect plotly template')\n",
    "\n",
    "decoded_code = base64.b64decode(b'ZmlnX2NoZWNrID0gcHguYmFyKAogICAgZGZfbW9udGhseV9jaGV\\\n",
    "jaywKICAgIHRpdGxlPSdNb250aGx5IE51bWJlciBvZiBUcmlwcyBpbiAyMDE5IGFuZCAyMDIwJywKICAgIHg9\\\n",
    "J21vbnRoJywKICAgIHk9J251bV90cmlwcycsCiAgICBmYWNldF9jb2w9J3llYXInLAogICAgd2lkdGg9MTAwM\\\n",
    "CwKICAgIGhlaWdodD01MDAsCiAgICB0ZW1wbGF0ZT0ncGxvdGx5X2RhcmsnLAogICAgY29sb3I9J251bV90cm\\\n",
    "lwcycsCiAgICBjb2xvcl9jb250aW51b3VzX3NjYWxlPVsnV2hpdGUnLCAnWWVsbG93J10KKQ==')\n",
    "eval(compile(decoded_code, '<string>', 'exec'))\n",
    "\n",
    "for i in range(len(fig_check.data)):\n",
    "    tc.assertEqual(fig.data[i].type, 'bar', 'Must be a bar chart')\n",
    "    tc.assertEqual(fig.data[i].orientation, 'v', 'Must be a vertical bar chart')\n",
    "\n",
    "    np.testing.assert_array_equal(\n",
    "        fig.data[i].x,\n",
    "        fig_check.data[i].x,\n",
    "        'x-axis value(s) mismatch'\n",
    "    )\n",
    "\n",
    "    np.testing.assert_array_equal(\n",
    "        fig.data[i].y,\n",
    "        fig_check.data[i].y,\n",
    "        'y-axis value(s) mismatch'\n",
    "    )"
   ]
  },
  {
   "cell_type": "markdown",
   "metadata": {},
   "source": [
    "---\n",
    "\n",
    "### 🎯 Deliverable 11: Monthly Number of Trips in 2019 and 2020 (Line Plot)\n",
    "\n",
    "#### 👇 Tasks\n",
    "\n",
    "- ✔️ Using `df_monthly`, create a line plot of the monthly number of trips.\n",
    "    - Use `year` to create two separate lines (encoded by different colors) for 2019 and 2020.\n",
    "- ✔️ Set an appropriate title.\n",
    "- ✔️ Use the `'simple_white'` theme (template).\n",
    "- ✔️ Set the `width` to `800` and `height` to `500`.\n",
    "- ✔️ Store your figure in a variable named `fig`.\n",
    "- ✔️ Display the figure using `fig.show()`\n",
    "\n",
    "#### 🔑 Sample Output\n",
    "\n",
    "![Sample Output](https://github.com/bdi475/images/blob/a0d6b0ed5d2d2148cc78d85f5a3e902863182e64/case-studies/rideshare-trips/sample-monthly-number-of-trips-annual-comparison-01.png?raw=true)\n",
    "\n",
    "#### 🚀 Hint\n",
    "\n",
    "Replace `my_dataframe`, `'column1'`, `'column2'`, `'column3'`, and `...`s with your own values from the code below.\n",
    "\n",
    "```python\n",
    "fig = px.line(\n",
    "    my_dataframe,\n",
    "    title='Your Title Here',\n",
    "    x='column1',\n",
    "    y='column2',\n",
    "    color='column3',\n",
    "    template='simple_white',\n",
    "    width=...,\n",
    "    height=...\n",
    ")\n",
    "fig.show()\n",
    "```"
   ]
  },
  {
   "cell_type": "code",
   "execution_count": null,
   "metadata": {},
   "outputs": [],
   "source": [
    "# YOUR CODE BEGINS\n",
    "\n",
    "# YOUR CODE ENDS"
   ]
  },
  {
   "cell_type": "markdown",
   "metadata": {},
   "source": [
    "#### 🧭 Check Your Work"
   ]
  },
  {
   "cell_type": "code",
   "execution_count": null,
   "metadata": {},
   "outputs": [],
   "source": [
    "# DO NOT CHANGE THE CODE IN THIS CELL\n",
    "_test_case = 'deliverable-11'\n",
    "_points = 4\n",
    "\n",
    "tc.assertIsNotNone(fig.layout.title.text, 'Missing figure title')\n",
    "tc.assertEqual(len(fig.data), df_monthly_check['year'].nunique(), 'Must encode each year with different colors')\n",
    "tc.assertEqual(fig.layout.width, 800, 'Incorrect width')\n",
    "tc.assertEqual(fig.layout.height, 500, 'Incorrect height')\n",
    "tc.assertEqual(fig.layout.template, pio.templates['simple_white'], 'Incorrect plotly theme (template)')\n",
    "\n",
    "decoded_code = base64.b64decode(b'ZmlnX2NoZWNrID0gcHgubGluZSgKICAgIG\\\n",
    "RmX21vbnRobHlfY2hlY2ssCiAgICB0aXRsZT0nTW9udGhseSBOdW1iZXIgb2YgVHJpcH\\\n",
    "MgQ29tcGFyaXNvbiBiZXR3ZWVuIDIwMTkgYW5kIDIwMjAnLAogICAgeD0nbW9udGgnLA\\\n",
    "ogICAgeT0nbnVtX3RyaXBzJywKICAgIGNvbG9yPSd5ZWFyJywKICAgIHRlbXBsYXRlPS\\\n",
    "dwbG90bHlfZGFyaycsCiAgICB3aWR0aD04MDAsCiAgICBoZWlnaHQ9NTAwCik=')\n",
    "eval(compile(decoded_code, '<string>', 'exec'))\n",
    "\n",
    "for i in range(len(fig_check.data)):\n",
    "    # In plotly, a line plot is a scatter plot with lines connecting the dots\n",
    "    tc.assertEqual(fig.data[i].type, 'scatter', 'Must be a line plot')\n",
    "    tc.assertIsNotNone(fig_check.data[i].line.color, 'Must be a line plot')\n",
    "\n",
    "    np.testing.assert_array_equal(\n",
    "        fig.data[i].x,\n",
    "        fig_check.data[i].x,\n",
    "        'x-axis value(s) mismatch'\n",
    "    )\n",
    "\n",
    "    np.testing.assert_array_equal(\n",
    "        fig.data[i].y,\n",
    "        fig_check.data[i].y,\n",
    "        'y-axis value(s) mismatch'\n",
    "    )"
   ]
  },
  {
   "cell_type": "markdown",
   "metadata": {},
   "source": [
    "---\n",
    "\n",
    "### 📌 Interpreting the Pre-COVID vs. Post-COVID Monthly Number of Trips\n",
    "\n",
    "- 🔍 In March 2020, the number of trips plummeted due to the widespread outbreak of COVID-19.\n",
    "- 🔍 April 2020 was the worst month for ridesharing drivers.\n",
    "- 🔍 The number of trips slowly increased from April to October.\n",
    "- 🔍 In November 2020, a continued surge in the number of COVID-19 cases has caused the number of trips to go down again."
   ]
  },
  {
   "cell_type": "markdown",
   "metadata": {},
   "source": [
    "---\n",
    "\n",
    "## 💵 Part 4: Visualize the Effect of COVID-19 on Tips\n",
    "\n",
    "Did passengers tip more on average during the pandemic since they appreciated the drivers providing services during risky times?\n",
    "\n",
    "Or did the passengers tip less on average after the pandemic devastated the nation's economy in 2020?"
   ]
  },
  {
   "cell_type": "markdown",
   "metadata": {},
   "source": [
    "---\n",
    "\n",
    "### 🎯 Deliverable 12: Monthly Average Tip Percentages in 2019 and 2020 (Facet Grid Bar Chart)\n",
    "\n",
    "#### 👇 Tasks\n",
    "\n",
    "- ✔️ Using `df_monthly`, create two bar charts side-by-side within the same figure, showing the monthly average tip percentages in 2019 and 2020.\n",
    "    - `tip_pct` column in `df_monthly` contains the monthly average tip percentages.\n",
    "- ✔️ Set an appropriate title.\n",
    "- ✔️ Use the `'simple_white'` theme (template).\n",
    "- ✔️ Set the `width` to `1000` and `height` to `500`.\n",
    "- ✔️ Store your figure in a variable named `fig`.\n",
    "- ✔️ Display the figure using `fig.show()`\n",
    "\n",
    "#### 🔑 Sample Output\n",
    "\n",
    "![Sample Output](https://github.com/bdi475/images/blob/b77471d66d7f183ef01b37f8b03787c5828cd64b/case-studies/rideshare-trips/sample-monthly-average-tip-pct-facet-grid-bar-charts-01.png?raw=true)\n",
    "\n",
    "#### 🚀 Hint\n",
    "\n",
    "Replace `my_dataframe`, `'column1'`, `'column2'`, `'column3'`, and `...`s with your own values from the code below.\n",
    "\n",
    "```python\n",
    "fig = px.bar(\n",
    "    my_dataframe,\n",
    "    title='Your Title Here',\n",
    "    x='column1',\n",
    "    y='column2',\n",
    "    facet_col='column3',\n",
    "    width=...,\n",
    "    height=...,\n",
    "    template='simple_white',\n",
    ")\n",
    "fig.update_layout(yaxis_tickformat=',.1%')\n",
    "fig.update_layout(yaxis2_tickformat=',.1%')\n",
    "fig.show()\n",
    "```"
   ]
  },
  {
   "cell_type": "code",
   "execution_count": null,
   "metadata": {},
   "outputs": [],
   "source": [
    "# YOUR CODE BEGINS\n",
    "\n",
    "# YOUR CODE ENDS"
   ]
  },
  {
   "cell_type": "markdown",
   "metadata": {},
   "source": [
    "#### 🧭 Check Your Work"
   ]
  },
  {
   "cell_type": "code",
   "execution_count": null,
   "metadata": {},
   "outputs": [],
   "source": [
    "# DO NOT CHANGE THE CODE IN THIS CELL\n",
    "_test_case = 'deliverable-12'\n",
    "_points = 4\n",
    "_obfuscate = True\n",
    "\n",
    "import base64 as _b64\n",
    "_64 = _b64.b64decode('dGMuYXNzZXJ0SXNOb3ROb25lKGZpZy5sYXlvdXQudGl0bGUudGV4dCwgJ01pc3NpbmcgZmlndXJlIH\\\n",
    "RpdGxlJykKdGMuYXNzZXJ0RXF1YWwobGVuKGZpZy5kYXRhKSwgMiwgJ011c3QgdXNlIGEgZmFjZXQgZ3JpZCB0byBkaXNwbGF5IH\\\n",
    "R3byBiYXIgY2hhcnRzIHNpZGUtYnktc2lkZScpCnRjLmFzc2VydEVxdWFsKGZpZy5sYXlvdXQud2lkdGgsIDEwMDAsICdJbmNvcn\\\n",
    "JlY3Qgd2lkdGgnKQp0Yy5hc3NlcnRFcXVhbChmaWcubGF5b3V0LmhlaWdodCwgNTAwLCAnSW5jb3JyZWN0IGhlaWdodCcpCnRjLm\\\n",
    "Fzc2VydEVxdWFsKGZpZy5sYXlvdXQudGVtcGxhdGUsIHBpby50ZW1wbGF0ZXNbJ3NpbXBsZV93aGl0ZSddLCAnSW5jb3JyZWN0IH\\\n",
    "Bsb3RseSB0aGVtZSAodGVtcGxhdGUpJykKCmZpZ19jaGVjayA9IHB4LmJhcigKICAgIGRmX21vbnRobHlfY2hlY2ssCiAgICB0aX\\\n",
    "RsZT0nTW9udGhseSBBdmVyYWdlIFRpcCAlIEJhc2VkIG9uIEZhcmVzIGluIDIwMTkgYW5kIDIwMjAnLAogICAgeD0nbW9udGgnLA\\\n",
    "ogICAgeT0ndGlwX3BjdCcsCiAgICBmYWNldF9jb2w9J3llYXInLAogICAgd2lkdGg9MTAwMCwKICAgIGhlaWdodD01MDAsCiAgIC\\\n",
    "B0ZW1wbGF0ZT0ncGxvdGx5X2RhcmsnLAogICAgY29sb3I9J3RpcF9wY3QnLAogICAgY29sb3JfY29udGludW91c19zY2FsZT1bJ1\\\n",
    "doaXRlJywgJ0dyZWVuWWVsbG93J10KKQoKZm9yIGkgaW4gcmFuZ2UobGVuKGZpZ19jaGVjay5kYXRhKSk6CiAgICB0Yy5hc3Nlcn\\\n",
    "RFcXVhbChmaWcuZGF0YVtpXS50eXBlLCAnYmFyJywgJ011c3QgYmUgYSBiYXIgY2hhcnQnKQogICAgdGMuYXNzZXJ0RXF1YWwoZm\\\n",
    "lnLmRhdGFbaV0ub3JpZW50YXRpb24sICd2JywgJ011c3QgYmUgYSB2ZXJ0aWNhbCBiYXIgY2hhcnQnKQoKICAgIG5wLnRlc3Rpbm\\\n",
    "cuYXNzZXJ0X2FycmF5X2VxdWFsKAogICAgICAgIGZpZy5kYXRhW2ldLngsCiAgICAgICAgZmlnX2NoZWNrLmRhdGFbaV0ueCwKIC\\\n",
    "AgICAgICAneC1heGlzIHZhbHVlKHMpIG1pc21hdGNoJwogICAgKQoKICAgIG5wLnRlc3RpbmcuYXNzZXJ0X2FycmF5X2VxdWFsKA\\\n",
    "ogICAgICAgIGZpZy5kYXRhW2ldLnksCiAgICAgICAgZmlnX2NoZWNrLmRhdGFbaV0ueSwKICAgICAgICAneS1heGlzIHZhbHVlKH\\\n",
    "MpIG1pc21hdGNoJwogICAgKQ==')\n",
    "eval(compile(_64, '<string>', 'exec'))"
   ]
  },
  {
   "cell_type": "markdown",
   "metadata": {},
   "source": [
    "---\n",
    "\n",
    "### 🎯 Deliverable 13: Monthly Average Tip Percentages in 2019 and 2020\n",
    "\n",
    "#### 👇 Tasks\n",
    "\n",
    "- ✔️ Using `df_monthly`, create a line plot of monthly average tip percentages.\n",
    "    - Use `year` to create two separate lines (encoded by different colors) for 2019 and 2020.\n",
    "    - `tip_pct` column in `df_monthly` contains the monthly average tip percentages.\n",
    "- ✔️ Set an appropriate title.\n",
    "- ✔️ Use the `'simple_white'` theme (template).\n",
    "- ✔️ Set the `width` to `800` and `height` to `500`.\n",
    "- ✔️ Store your figure in a variable named `fig`.\n",
    "- ✔️ Display the figure using `fig.show()`\n",
    "\n",
    "#### 🔑 Sample Output\n",
    "\n",
    "![Sample Output](https://github.com/bdi475/images/blob/b77471d66d7f183ef01b37f8b03787c5828cd64b/case-studies/rideshare-trips/sample-monthly-average-tip-pct-line-plot-01.png?raw=true)\n",
    "\n",
    "#### 🚀 Hint\n",
    "\n",
    "Replace `my_dataframe`, `'column1'`, `'column2'`, `'column3'`, and `...`s with your own values from the code below.\n",
    "\n",
    "```python\n",
    "fig = px.line(\n",
    "    my_dataframe,\n",
    "    title='Your Title Here',\n",
    "    x='column1',\n",
    "    y='column2',\n",
    "    color='column3',\n",
    "    template='simple_white',\n",
    "    width=...,\n",
    "    height=...\n",
    ")\n",
    "fig.update_layout(yaxis_tickformat=',.1%')\n",
    "fig.show()\n",
    "```"
   ]
  },
  {
   "cell_type": "code",
   "execution_count": null,
   "metadata": {
    "scrolled": true
   },
   "outputs": [],
   "source": [
    "# YOUR CODE BEGINS\n",
    "\n",
    "# YOUR CODE ENDS"
   ]
  },
  {
   "cell_type": "markdown",
   "metadata": {},
   "source": [
    "#### 🧭 Check Your Work"
   ]
  },
  {
   "cell_type": "code",
   "execution_count": null,
   "metadata": {},
   "outputs": [],
   "source": [
    "# DO NOT CHANGE THE CODE IN THIS CELL\n",
    "_test_case = 'deliverable-13'\n",
    "_points = 4\n",
    "_obfuscate = True\n",
    "\n",
    "import base64 as _b64\n",
    "_64 = _b64.b64decode('dGMuYXNzZXJ0SXNOb3ROb25lKGZpZy5sYXlvdXQudGl0bGUudGV4dCwgJ01pc3NpbmcgZmlndXJlIH\\\n",
    "RpdGxlJykKdGMuYXNzZXJ0RXF1YWwobGVuKGZpZy5kYXRhKSwgZGZfbW9udGhseV9jaGVja1sneWVhciddLm51bmlxdWUoKSwgJ0\\\n",
    "11c3QgZW5jb2RlIGVhY2ggeWVhciB3aXRoIGRpZmZlcmVudCBjb2xvcnMnKQp0Yy5hc3NlcnRFcXVhbChmaWcubGF5b3V0LndpZH\\\n",
    "RoLCA4MDAsICdJbmNvcnJlY3Qgd2lkdGgnKQp0Yy5hc3NlcnRFcXVhbChmaWcubGF5b3V0LmhlaWdodCwgNTAwLCAnSW5jb3JyZW\\\n",
    "N0IGhlaWdodCcpCnRjLmFzc2VydEVxdWFsKGZpZy5sYXlvdXQudGVtcGxhdGUsIHBpby50ZW1wbGF0ZXNbJ3NpbXBsZV93aGl0ZS\\\n",
    "ddLCAnSW5jb3JyZWN0IHBsb3RseSB0aGVtZSAodGVtcGxhdGUpJykKCmZpZ19jaGVjayA9IHB4LmxpbmUoCiAgICBkZl9tb250aG\\\n",
    "x5X2NoZWNrLAogICAgdGl0bGU9J01vbnRobHkgQXZlcmFnZSBUaXAgJSBDb21wYXJpc29uIGJldHdlZW4gMjAxOSBhbmQgMjAyMC\\\n",
    "csCiAgICB4PSdtb250aCcsCiAgICB5PSd0aXBfcGN0JywKICAgIGNvbG9yPSd5ZWFyJywKICAgIHRlbXBsYXRlPSdwbG90bHlfZG\\\n",
    "FyaycsCiAgICB3aWR0aD04MDAsCiAgICBoZWlnaHQ9NTAwCikKCmZvciBpIGluIHJhbmdlKGxlbihmaWdfY2hlY2suZGF0YSkpOg\\\n",
    "ogICAgIyBJbiBwbG90bHksIGEgbGluZSBwbG90IGlzIGEgc2NhdHRlciBwbG90IHdpdGggbGluZXMgY29ubmVjdGluZyB0aGUgZG\\\n",
    "90cwogICAgdGMuYXNzZXJ0RXF1YWwoZmlnLmRhdGFbaV0udHlwZSwgJ3NjYXR0ZXInLCAnTXVzdCBiZSBhIGxpbmUgcGxvdCcpCi\\\n",
    "AgICB0Yy5hc3NlcnRJc05vdE5vbmUoZmlnX2NoZWNrLmRhdGFbaV0ubGluZS5jb2xvciwgJ011c3QgYmUgYSBsaW5lIHBsb3QnKQ\\\n",
    "oKICAgIG5wLnRlc3RpbmcuYXNzZXJ0X2FycmF5X2VxdWFsKAogICAgICAgIGZpZy5kYXRhW2ldLngsCiAgICAgICAgZmlnX2NoZW\\\n",
    "NrLmRhdGFbaV0ueCwKICAgICAgICAneC1heGlzIHZhbHVlKHMpIG1pc21hdGNoJwogICAgKQoKICAgIG5wLnRlc3RpbmcuYXNzZX\\\n",
    "J0X2FycmF5X2VxdWFsKAogICAgICAgIGZpZy5kYXRhW2ldLnksCiAgICAgICAgZmlnX2NoZWNrLmRhdGFbaV0ueSwKICAgICAgIC\\\n",
    "AneS1heGlzIHZhbHVlKHMpIG1pc21hdGNoJwogICAgKQ==')\n",
    "eval(compile(_64, '<string>', 'exec'))"
   ]
  },
  {
   "cell_type": "markdown",
   "metadata": {},
   "source": [
    "---\n",
    "\n",
    "### 📌 Interpreting the Pre-COVID vs. Post-COVID Average Percentage of Tips\n",
    "\n",
    "- 🔍 Passengers tipped less after the COVID-19 outbreak.\n",
    "- 🔍 Possible explanations:\n",
    "    - COVID-19 has caused an economic downturn.\n",
    "    - Many people have also lost jobs during this period.\n",
    "    - COVID-19 may have prevented the driver and the passenger(s) from having a conversation. Less conversation could result in less tips."
   ]
  },
  {
   "cell_type": "markdown",
   "metadata": {},
   "source": [
    "---\n",
    "\n",
    "## ✨ Part 5: Trips Right Before July 4th Fireworks\n",
    "\n",
    "Every July 4th, massive crowds gather around places (or boats) to view the fireworks. How did July 4th become the \"national fireworks day\"? July 4, 1776 is considered to be the birth of the United States of America as an independent nation. The Continental Congress approved the final wording of the Declaration of Independence on July 4, 1776. The first-ever recorded July 4th fireworks celebration was held in Philadelphia on July 4, 1777. Since then, there hasn't been an Independence Day without a firework. 💥💥 \n",
    "\n",
    "[[Source 1]](https://www.constitutionfacts.com/us-declaration-of-independence/fourth-of-july/#:~:text=We%20celebrate%20American%20Independence%20Day,America%20as%20an%20independent%20nation.) [[Source 2]](https://www.bhg.com/holidays/july-4th/traditions/why-fireworks-on-fourth-of-july/#:~:text=Ever%20since%20Americans%20have%20proudly,sky%20every%20Fourth%20of%20July.&text=The%20Fourth%20of%20July%20celebrates,the%20Continental%20Congress%20in%201776.)\n",
    "\n",
    "In this part, you will find trips started on July 4th between 5-6 PM and create different scatter plots based on those trips."
   ]
  },
  {
   "cell_type": "markdown",
   "metadata": {},
   "source": [
    "---\n",
    "\n",
    "### 🎯 Deliverable 14: Filter July 4th 5-6 PM Trips\n",
    "\n",
    "#### 👇 Tasks\n",
    "\n",
    "- ✔️ Using `df`, filter rows where:\n",
    "    - `month` is `7` (July) **and**,\n",
    "    - `day` is `4` (4th) **and**,\n",
    "    - `hour` is `17` (All trips starting between 5-6 pm)\n",
    "- ✔️ Store the filtered DataFrame in a new variable named `df_july_fourth`.\n",
    "- ✔️ `df` should remain unaltered after running your code.\n",
    "\n",
    "#### 🚀 Hint\n",
    "\n",
    "The code below filters rows where `column` is `10`, `column2` is `20`, and `column3` is `30`. The filtered DataFrame is stored in a new variable named `my_filtered`.\n",
    "\n",
    "```python\n",
    "my_filtered_df = my_df[(my_df['column1'] == 10) & (my_df['column2'] == 20) & (my_df['column3'] == 30)]\n",
    "```"
   ]
  },
  {
   "cell_type": "code",
   "execution_count": null,
   "metadata": {},
   "outputs": [],
   "source": [
    "# YOUR CODE BEGINS\n",
    "\n",
    "# YOUR CODE ENDS\n",
    "\n",
    "display(df_july_fourth.sample(3))"
   ]
  },
  {
   "cell_type": "markdown",
   "metadata": {},
   "source": [
    "#### 🧭 Check Your Work"
   ]
  },
  {
   "cell_type": "code",
   "execution_count": null,
   "metadata": {},
   "outputs": [],
   "source": [
    "# DO NOT CHANGE THE CODE IN THIS CELL\n",
    "_test_case = 'deliverable-14'\n",
    "_points = 3\n",
    "\n",
    "decoded_code = base64.b64decode(b'ZGZfanVseV9mb3VydGhfY2hlY2sgPSBkZl9iYWNrdXBbKGRmX2JhY2t1cFs\\\n",
    "nbW9udGgnXSA9PSA3KSAmIChkZl9iYWNrdXBbJ2RheSddID09IDQpICYgKGRmX2JhY2t1cFsnaG91ciddID09IDE3KV0=')\n",
    "eval(compile(decoded_code, '<string>', 'exec'))\n",
    "\n",
    "tc.assertEqual(df_july_fourth.shape, df_july_fourth_check.shape, 'Incorrect number of rows and/or columns')\n",
    "pd.testing.assert_frame_equal(\n",
    "    df_july_fourth.sort_values(df_july_fourth.columns.tolist()).reset_index(drop=True),\n",
    "    df_july_fourth_check.sort_values(df_july_fourth_check.columns.tolist()).reset_index(drop=True),\n",
    "    check_like=True\n",
    ")"
   ]
  },
  {
   "cell_type": "markdown",
   "metadata": {},
   "source": [
    "---\n",
    "\n",
    "### 🎯 Deliverable 15: July 4th 5-6 PM Trips Scatter Plots\n",
    "\n",
    "#### 👇 Tasks\n",
    "\n",
    "- ✔️ Using `df_july_fourth`, create two scatter plots for each year side-by-side within the same figure with the following axes.\n",
    "    - `x`: `trip_seconds`,\n",
    "    - `y`: `trip_miles`,\n",
    "- ✔️ Use the `trip_total` column to differentiate the sizes of points.\n",
    "- ✔️ Use the `shared_trip_authorized` column to differentiate the colors of points.\n",
    "- ✔️ Set an appropriate title.\n",
    "- ✔️ Use the `'simple_white'` theme (template).\n",
    "- ✔️ Set the `width` to `1200` and `height` to `500`.\n",
    "- ✔️ Store your figure in a variable named `fig`.\n",
    "- ✔️ Display the figure using `fig.show()`\n",
    "\n",
    "#### 🔑 Sample Output\n",
    "\n",
    "![Sample Output](https://github.com/bdi475/images/blob/main/case-studies/rideshare-trips/sample-trip-seconds-vs-trip-miles-july-4th-trips-scatter-01.png?raw=true)\n",
    "\n",
    "#### 🚀 Hint\n",
    "\n",
    "Replace `my_dataframe`, `'column1'`, `'column2'`, `'column3'`, `'column4'`, `'column5'`, and `...`s with your own values from the code below.\n",
    "\n",
    "```python\n",
    "fig = px.scatter(\n",
    "    my_dataframe,\n",
    "    title='Your Title Here',\n",
    "    x='column1',\n",
    "    y='column2',\n",
    "    size='column3',\n",
    "    facet_col='column4',\n",
    "    color='column5',\n",
    "    template='simple_white',\n",
    "    width=...,\n",
    "    height=...,\n",
    ")\n",
    "fig.show()\n",
    "```"
   ]
  },
  {
   "cell_type": "code",
   "execution_count": null,
   "metadata": {},
   "outputs": [],
   "source": [
    "# YOUR CODE BEGINS\n",
    "\n",
    "# YOUR CODE ENDS"
   ]
  },
  {
   "cell_type": "markdown",
   "metadata": {},
   "source": [
    "#### 🧭 Check Your Work"
   ]
  },
  {
   "cell_type": "code",
   "execution_count": null,
   "metadata": {},
   "outputs": [],
   "source": [
    "# DO NOT CHANGE THE CODE IN THIS CELL\n",
    "_test_case = 'deliverable-15'\n",
    "_points = 3\n",
    "\n",
    "\n",
    "fig_check = px.scatter(\n",
    "    df_july_fourth_check,\n",
    "    title='Trip Seconds vs Trip Miles with July 4th 5-6 PM Trips',\n",
    "    x='trip_seconds',\n",
    "    y='trip_miles',\n",
    "    size='trip_total',\n",
    "    facet_col='year',\n",
    "    color='shared_trip_authorized',\n",
    "    template='plotly_dark',\n",
    "    width=1200,\n",
    "    height=500,\n",
    ")\n",
    "\n",
    "\n",
    "tc.assertIsNotNone(fig.layout.title.text, 'Missing figure title')\n",
    "tc.assertEqual(len(fig.data), len(fig_check.data), \n",
    "               'Must use a facet grid to display two scatter plots side-by-side with color-encoding')\n",
    "tc.assertEqual(fig.layout.width, 1200, 'Incorrect width')\n",
    "tc.assertEqual(fig.layout.height, 500, 'Incorrect height')\n",
    "tc.assertEqual(fig.layout.template, pio.templates['simple_white'], 'Incorrect plotly theme (template)')\n",
    "\n",
    "for i in range(len(fig_check.data)):\n",
    "    tc.assertEqual(fig.data[i].type, 'scatter', 'Must be a scatter plot')\n",
    "\n",
    "    np.testing.assert_array_equal(\n",
    "        fig.data[i].x,\n",
    "        fig_check.data[i].x,\n",
    "        'x-axis value(s) mismatch'\n",
    "    )\n",
    "\n",
    "    np.testing.assert_array_equal(\n",
    "        fig.data[i].y,\n",
    "        fig_check.data[i].y,\n",
    "        'y-axis value(s) mismatch'\n",
    "    )"
   ]
  },
  {
   "cell_type": "markdown",
   "metadata": {},
   "source": [
    "---\n",
    "\n",
    "### 📌 Interpreting the Pre-COVID vs. Post-COVID Scatter Plots\n",
    "\n",
    "- 🔍 There is a positive linear relationship between `trip_seconds` and `trip_miles`.\n",
    "- 🔍 The number of trips made on July 4th has decreased significantly in 2020 due to COVID-19.\n",
    "- 🔍 There are no pooled trips (`shared_trips_authorized == True`) in 2020. \n",
    "    - Why? Uber and Lyft both suspended pooled rides to limit the spread of coronavirus ([Reuters article here](https://www.reuters.com/article/us-health-coronavirus-uber/uber-lyft-suspend-pooled-rides-in-u-s-canada-to-limit-spread-of-coronavirus-idUSKBN214192)) beginning in March 2020."
   ]
  },
  {
   "cell_type": "markdown",
   "metadata": {},
   "source": [
    "---\n",
    "\n",
    "### 🎯 Deliverable 16: July 4th 5-6 PM Trips 3D Scatter Plots (Pre-COVID)\n",
    "\n",
    "#### 👇 Tasks\n",
    "\n",
    "- ✔️ Using `df_july_fourth`, create a 3D scatter plot of trips **in 2019** using the following axes.\n",
    "    - `x`: `trip_seconds`,\n",
    "    - `y`: `trip_miles`,\n",
    "    - `z`: `trip_total`\n",
    "- ✔️ Use the `shared_trip_authorized` column to differentiate the colors of points.\n",
    "- ✔️ Set an appropriate title.\n",
    "- ✔️ Use the `'plotly_dark'` theme (template).\n",
    "- ✔️ Set both the `width` and `height` to `800`.\n",
    "- ✔️ Store your figure in a variable named `fig`.\n",
    "- ✔️ Display the figure using `fig.show()`\n",
    "\n",
    "#### 🔑 Sample Output\n",
    "\n",
    "![Sample Output](https://github.com/bdi475/images/blob/c3060e2ed215f9e7e13156b60a2c79764885f2c0/case-studies/rideshare-trips/sample-trip-seconds-vs-miles-vs-total-2019-3d-scatter-01.png?raw=true)\n",
    "\n",
    "#### 🚀 Hint\n",
    "\n",
    "Replace `'column1'`, `'column2'`, `'column3'`, `'column4'`, and `...`s with your own values from the code below.\n",
    "\n",
    "```python\n",
    "fig = px.scatter_3d(\n",
    "    df_july_fourth[df_july_fourth['year'] == 2019],\n",
    "    title='Your Title Here',\n",
    "    x='column1',\n",
    "    y='column2',\n",
    "    z='column3',\n",
    "    color='column4',\n",
    "    template='plotly_dark',\n",
    "    width=...,\n",
    "    height=...\n",
    ")\n",
    "fig.show()\n",
    "```"
   ]
  },
  {
   "cell_type": "code",
   "execution_count": null,
   "metadata": {},
   "outputs": [],
   "source": [
    "# YOUR CODE BEGINS\n",
    "\n",
    "# YOUR CODE ENDS"
   ]
  },
  {
   "cell_type": "markdown",
   "metadata": {},
   "source": [
    "#### 🧭 Check Your Work"
   ]
  },
  {
   "cell_type": "code",
   "execution_count": null,
   "metadata": {},
   "outputs": [],
   "source": [
    "# DO NOT CHANGE THE CODE IN THIS CELL\n",
    "_test_case = 'deliverable-16'\n",
    "_points = 3\n",
    "\n",
    "decoded_code = base64.b64decode(b'ZmlnX2NoZWNrID0gcHguc2NhdHRl\\\n",
    "cl8zZCgKICAgIGRmX2p1bHlfZm91cnRoX2NoZWNrW2RmX2p1bHlfZm91cnRoX2\\\n",
    "NoZWNrWyd5ZWFyJ10gPT0gMjAxOV0sCiAgICB0aXRsZT0nVHJpcCBTZWNvbmRz\\\n",
    "IHZzIFRyaXAgTWlsZXMgdnMgVHJpcCBUb3RhbCB3aXRoIEp1bHkgNHRoLCAyMD\\\n",
    "E5IDUtNiBQTSBUcmlwcycsCiAgICB4PSd0cmlwX3NlY29uZHMnLAogICAgeT0n\\\n",
    "dHJpcF9taWxlcycsCiAgICB6PSd0cmlwX3RvdGFsJywKICAgIGNvbG9yPSdzaG\\\n",
    "FyZWRfdHJpcF9hdXRob3JpemVkJywKICAgIHRlbXBsYXRlPSdwbG90bHlfZGFy\\\n",
    "aycsCiAgICB3aWR0aD04MDAsCiAgICBoZWlnaHQ9ODAwCik=')\n",
    "eval(compile(decoded_code, '<string>', 'exec'))\n",
    "\n",
    "\n",
    "\n",
    "tc.assertIsNotNone(fig.layout.title.text, 'Missing figure title')\n",
    "tc.assertEqual(len(fig.data), len(fig_check.data), \"Check whether you've supplied the color parameter to px.scatter_3d()\")\n",
    "tc.assertEqual(fig.layout.width, 800, 'Incorrect width')\n",
    "tc.assertEqual(fig.layout.height, 800, 'Incorrect height')\n",
    "tc.assertEqual(fig.layout.template, pio.templates['plotly_dark'], 'Incorrect plotly theme (template)')\n",
    "\n",
    "for i in range(len(fig_check.data)):\n",
    "    tc.assertEqual(fig.data[i].type, 'scatter3d', 'Must be a 3D scatter plot')\n",
    "\n",
    "    np.testing.assert_array_equal(\n",
    "        fig.data[i].x,\n",
    "        fig_check.data[i].x,\n",
    "        'x-axis value(s) mismatch'\n",
    "    )\n",
    "\n",
    "    np.testing.assert_array_equal(\n",
    "        fig.data[i].y,\n",
    "        fig_check.data[i].y,\n",
    "        'y-axis value(s) mismatch'\n",
    "    )\n",
    "\n",
    "    np.testing.assert_array_equal(\n",
    "        fig.data[i].z,\n",
    "        fig_check.data[i].z,\n",
    "        'z-axis value(s) mismatch'\n",
    "    )"
   ]
  },
  {
   "cell_type": "markdown",
   "metadata": {},
   "source": [
    "▶️ Run the code cell below to repeat the previous deliverable with trips **in 2020**."
   ]
  },
  {
   "cell_type": "code",
   "execution_count": null,
   "metadata": {},
   "outputs": [],
   "source": [
    "# DO NOT CHANGE THE CODE BELOW\n",
    "fig = px.scatter_3d(\n",
    "    df_july_fourth[df_july_fourth['year'] == 2020],\n",
    "    title='Trip Seconds vs Trip Miles vs Trip Total with July 4th, 2020 5-6 PM Trips',\n",
    "    x='trip_seconds',\n",
    "    y='trip_miles',\n",
    "    z='trip_total',\n",
    "    color='shared_trip_authorized',\n",
    "    template='plotly_dark',\n",
    "    width=800,\n",
    "    height=800\n",
    ")\n",
    "fig.show()"
   ]
  },
  {
   "cell_type": "markdown",
   "metadata": {},
   "source": [
    "---\n",
    "\n",
    "### 📌 Interpreting the Pre-COVID vs. Post-COVID 3D Scatter Plots\n",
    "\n",
    "- 🔍 There is a positive linear relationship between `trip_seconds`, `trip_miles`, and `trip_total`.\n",
    "- 🔍 You may have to rotate the view of your 3D scatter plots to witness the linear relationship."
   ]
  },
  {
   "cell_type": "markdown",
   "metadata": {},
   "source": [
    "---\n",
    "\n",
    "## 🏡 Part 6: Pickup/Dropoff Areas Analysis\n",
    "\n",
    "In this part, you will find the top 20 pickup areas and analyze the trips originating from those areas."
   ]
  },
  {
   "cell_type": "markdown",
   "metadata": {},
   "source": [
    "---\n",
    "\n",
    "### 🎯 Deliverable 17: Find Top 20 Pickup Areas by Number of Trips\n",
    "\n",
    "#### 👇 Tasks\n",
    "\n",
    "- ✔️ Find the top 20 pickup areas in `df_listings` by number of listings.\n",
    "- ✔️ Store the result in a new variable named `top_20_pickup_areas`.\n",
    "- ✔️ `top_20_pickup_areas` should be a Python `list` type.\n",
    "- ✔️ We'll give you the fully-working code below.\n",
    "\n",
    "#### 🔥 Solution\n",
    "\n",
    "![Code](https://github.com/bdi475/images/blob/1923a8c4dff4775790bd333b285321f289334fbe/case-studies/rideshare-trips/code-find-top-20-pickup-areas-01.png?raw=true)"
   ]
  },
  {
   "cell_type": "code",
   "execution_count": null,
   "metadata": {},
   "outputs": [],
   "source": [
    "# YOUR CODE BEGINS\n",
    "\n",
    "# YOUR CODE ENDS\n",
    "\n",
    "print(top_20_pickup_areas)"
   ]
  },
  {
   "cell_type": "markdown",
   "metadata": {},
   "source": [
    "#### 🧭 Check Your Work"
   ]
  },
  {
   "cell_type": "code",
   "execution_count": null,
   "metadata": {},
   "outputs": [],
   "source": [
    "# DO NOT CHANGE THE CODE IN THIS CELL\n",
    "_test_case = 'deliverable-17'\n",
    "_points = 2\n",
    "\n",
    "decoded_code = base64.b64decode(b'dG9wXzIwX3BpY2t1cF9hcmVhc19jaGVjayA9IGRmX2JhY\\\n",
    "2t1cFsncGlja3VwX2FyZWEnXS52YWx1ZV9jb3VudHMoKS5oZWFkKDIwKS5pbmRleC50b2xpc3QoKQ==')\n",
    "eval(compile(decoded_code, '<string>', 'exec'))\n",
    "\n",
    "tc.assertEqual(set(top_20_pickup_areas), set(top_20_pickup_areas_check), 'Incorrect pickup areas')"
   ]
  },
  {
   "cell_type": "markdown",
   "metadata": {},
   "source": [
    "---\n",
    "\n",
    "### 🎯 Deliverable 18: Filter Trips from Top 20 Pickup Areas\n",
    "\n",
    "#### 👇 Tasks\n",
    "\n",
    "- ✔️ Using `df`, filter only the rows where the `pickup_area` is in `top_20_pickup_areas`.\n",
    "- ✔️ Store the filtered result in a new variable named `df_filtered`.\n",
    "\n",
    "#### 🚀 Hint\n",
    "\n",
    "```python\n",
    "filtered_dataframe = my_dataframe[my_dataframe['my_column'].isin(my_list)]\n",
    "```"
   ]
  },
  {
   "cell_type": "code",
   "execution_count": null,
   "metadata": {
    "nbgrader": {
     "grade": false,
     "locked": false,
     "solution": false
    }
   },
   "outputs": [],
   "source": [
    "# YOUR CODE BEGINS\n",
    "\n",
    "# YOUR CODE ENDS\n",
    "\n",
    "display(df_filtered.head(3))\n",
    "print(f'There are {df_filtered.shape[0]} rows and {df_filtered.shape[1]} columns in the filtered DataFrame')"
   ]
  },
  {
   "cell_type": "markdown",
   "metadata": {},
   "source": [
    "#### 🧭 Check Your Work"
   ]
  },
  {
   "cell_type": "code",
   "execution_count": null,
   "metadata": {},
   "outputs": [],
   "source": [
    "# DO NOT CHANGE THE CODE IN THIS CELL\n",
    "_test_case = 'deliverable-18'\n",
    "_points = 2\n",
    "\n",
    "decoded_code = base64.b64decode(b'ZGZfZmlsdGVyZWRfY2hlY2sgPSBkZl9iYWNrdXBbKGR\\\n",
    "mX2JhY2t1cFsncGlja3VwX2FyZWEnXS5pc2luKHRvcF8yMF9waWNrdXBfYXJlYXNfY2hlY2spKV0=')\n",
    "eval(compile(decoded_code, '<string>', 'exec'))\n",
    "\n",
    "tc.assertEqual(df_filtered.shape, df_filtered_check.shape, 'Incorrect number of rows and/or columns')"
   ]
  },
  {
   "cell_type": "markdown",
   "metadata": {},
   "source": [
    "---\n",
    "\n",
    "### 🎯 Deliverable 19: Number of Trips and Average Trip Total by Pickup_Area\n",
    "\n",
    "#### 👇 Tasks\n",
    "\n",
    "- ✔️ Using `df_filtered`, calculate the following aggregated values by `pickup_area`.\n",
    "    - `num_trips`: Number of trips\n",
    "    - `trip_total`: Average `trip_total`\n",
    "- ✔️ Store the resulting DataFrame in a new variable named `df_by_pickup_area`.\n",
    "- ✔️ `df_by_pickup_area` should have three columns - `pickup_area`, `num_trips`, and `trip_total`.\n",
    "- ✔️ `print(df_by_pickup_area.columns.tolist())` should print out `['pickup_area', 'num_trips', 'trip_total']`.\n",
    "\n",
    "#### 🔑 Expected Output\n",
    "\n",
    "|    | pickup_area   |   num_trips |   trip_total |\n",
    "|---:|:--------------|------------:|-------------:|\n",
    "|  0 | Austin        |       16851 |      13.2463 |\n",
    "|  1 | Avondale      |       16425 |      12.6238 |\n",
    "|  2 | Edgewater     |       21689 |      13.8675 |\n",
    "|  3 | Hyde Park     |       21303 |      14.524  |\n",
    "|  4 | Irving Park   |       14570 |      13.3267 |"
   ]
  },
  {
   "cell_type": "code",
   "execution_count": null,
   "metadata": {},
   "outputs": [],
   "source": [
    "# YOUR CODE BEGINS\n",
    "\n",
    "# YOUR CODE ENDS\n",
    "\n",
    "display(df_by_pickup_area.head(5))"
   ]
  },
  {
   "cell_type": "markdown",
   "metadata": {},
   "source": [
    "#### 🧭 Check Your Work"
   ]
  },
  {
   "cell_type": "code",
   "execution_count": null,
   "metadata": {},
   "outputs": [],
   "source": [
    "# DO NOT CHANGE THE CODE IN THIS CELL\n",
    "_test_case = 'deliverable-19'\n",
    "_points = 4\n",
    "\n",
    "decoded_code = base64.b64decode(b'ZGZfYnlfcGlja3VwX2FyZWFfY2hlY2sgPSBkZl9maWx0Z\\\n",
    "XJlZF9jaGVjay5ncm91cGJ5KAogICAgJ3BpY2t1cF9hcmVhJywgYXNfaW5kZXg9RmFsc2UKKS5hZ2co\\\n",
    "ewogICAgJ3N0YXJ0JzogJ2NvdW50JywKICAgICd0cmlwX3RvdGFsJzogJ21lYW4nLAp9KS5yZW5hbWU\\\n",
    "oY29sdW1ucz17CiAgICAnc3RhcnQnOiAnbnVtX3RyaXBzJwp9KQ==')\n",
    "eval(compile(decoded_code, '<string>', 'exec'))\n",
    "\n",
    "tc.assertEqual(\n",
    "    df_by_pickup_area.columns.tolist(),\n",
    "    df_by_pickup_area_check.columns.tolist(),\n",
    "    'Column(s) mismatch'\n",
    ")\n",
    "\n",
    "tc.assertEqual(\n",
    "    df_by_pickup_area.shape,\n",
    "    df_by_pickup_area_check.shape,\n",
    "    'Incorrect number of rows and/or columns'\n",
    ")\n",
    "\n",
    "pd.testing.assert_frame_equal(\n",
    "    df_by_pickup_area.sort_values(df_by_pickup_area.columns.tolist()).reset_index(drop=True),\n",
    "    df_by_pickup_area_check.sort_values(df_by_pickup_area_check.columns.tolist()).reset_index(drop=True),\n",
    "    check_like=True\n",
    ")"
   ]
  },
  {
   "cell_type": "markdown",
   "metadata": {},
   "source": [
    "---\n",
    "\n",
    "### 🎯 Deliverable 20: Number of Trips by Pickup Area (Bar Chart)\n",
    "\n",
    "#### 👇 Tasks\n",
    "\n",
    "- ✔️ Using `df_by_pickup_area`, create a horizontal bar chart displaying the number of trips for each pickup area.\n",
    "- ✔️ Set an appropriate title.\n",
    "- ✔️ Set the height to `800` and do not supply a width (by default, a Plotly figure will expand to fit the window if the `width` parameter is omitted).\n",
    "- ✔️ Use the `simple_white` (template).\n",
    "- ✔️ Store your figure in a variable named `fig`.\n",
    "- ✔️ Display the figure using `fig.show()`\n",
    "\n",
    "#### 🔑 Sample Output\n",
    "\n",
    "![Sample Output](https://github.com/bdi475/images/blob/main/case-studies/rideshare-trips/sample-num-trips-by-pickup-area-bar-01.png?raw=true)\n",
    "\n",
    "#### 🚀 Hint\n",
    "\n",
    "Replace `my_dataframe`, `'column1'`, `'column2'`, and `...`s with your own values from the code below.\n",
    "\n",
    "```python\n",
    "fig = px.bar(\n",
    "    my_dataframe,\n",
    "    title='Your Title Here',\n",
    "    x='column1',\n",
    "    y='column2',\n",
    "    text='column1',\n",
    "    template='simple_white',\n",
    "    height=...\n",
    ")\n",
    "fig.update_traces(texttemplate='%{text:.2s}', textposition='outside')\n",
    "fig.update_yaxes(categoryorder='total ascending')\n",
    "fig.show()\n",
    "```"
   ]
  },
  {
   "cell_type": "code",
   "execution_count": null,
   "metadata": {},
   "outputs": [],
   "source": [
    "# YOUR CODE BEGINS\n",
    "\n",
    "# YOUR CODE ENDS"
   ]
  },
  {
   "cell_type": "markdown",
   "metadata": {},
   "source": [
    "#### 🧭 Check Your Work"
   ]
  },
  {
   "cell_type": "code",
   "execution_count": null,
   "metadata": {},
   "outputs": [],
   "source": [
    "# DO NOT CHANGE THE CODE IN THIS CELL\n",
    "_test_case = 'deliverable-20'\n",
    "_points = 3\n",
    "\n",
    "tc.assertIsNotNone(fig.layout.title.text, 'Missing figure title')\n",
    "tc.assertEqual(fig.layout.height, 800, 'Incorrect height')\n",
    "tc.assertEqual(fig.layout.template, pio.templates['simple_white'], 'Incorrect plotly theme (template)')\n",
    "\n",
    "decoded_code = base64.b64decode(b'ZmlnX2NoZWNrID0gcHguYmFyKAog\\\n",
    "ICAgZGZfYnlfcGlja3VwX2FyZWFfY2hlY2ssCiAgICB0aXRsZT0nTnVtYmVyIG\\\n",
    "9mIFRyaXBzIGJ5IFBpY2t1cCBBcmVhJywKICAgIHg9J251bV90cmlwcycsCiAg\\\n",
    "ICB5PSdwaWNrdXBfYXJlYScsCiAgICBjb2xvcj0nbnVtX3RyaXBzJywKICAgIG\\\n",
    "NvbG9yX2NvbnRpbnVvdXNfc2NhbGU9J2VtcmxkJywKICAgIHRleHQ9J251bV90\\\n",
    "cmlwcycsCiAgICB0ZW1wbGF0ZT0ncGxvdGx5X3doaXRlJywKICAgIGhlaWdodD04MDAKKQ==')\n",
    "eval(compile(decoded_code, '<string>', 'exec'))\n",
    "\n",
    "tc.assertEqual(fig.data[0].type, 'bar', 'Must be a line plot')\n",
    "\n",
    "np.testing.assert_array_equal(\n",
    "    fig.data[0].x,\n",
    "    fig_check.data[0].x,\n",
    "    'x-axis value(s) mismatch'\n",
    ")\n",
    "\n",
    "np.testing.assert_array_equal(\n",
    "    fig.data[0].y,\n",
    "    fig_check.data[0].y,\n",
    "    'y-axis value(s) mismatch'\n",
    ")"
   ]
  },
  {
   "cell_type": "markdown",
   "metadata": {},
   "source": [
    "---\n",
    "\n",
    "### 🎯 Deliverable 21: Average Trip Total by Pickup Area (Bar Chart)\n",
    "\n",
    "#### 👇 Tasks\n",
    "\n",
    "- ✔️ Using `df_by_pickup_area`, create a horizontal bar chart displaying the average trip total by each pickup area.\n",
    "- ✔️ Set an appropriate title.\n",
    "- ✔️ Set the height to `800` and do not supply a width (by default, a Plotly figure will expand to fit the window if the `width` parameter is omitted).\n",
    "- ✔️ Use the `simple_white` theme (template).\n",
    "- ✔️ Store your figure in a variable named `fig`.\n",
    "- ✔️ Display the figure using `fig.show()`\n",
    "\n",
    "#### 🔑 Sample Output\n",
    "\n",
    "![Sample Output](https://github.com/bdi475/images/blob/main/case-studies/rideshare-trips/sample-avg-trip-total-by-pickup-area-bar-01.png?raw=true)\n",
    "\n",
    "#### 🚀 Hint\n",
    "\n",
    "Replace `my_dataframe`, `'column1'`, `'column2'`, and `...`s with your own values from the code below.\n",
    "\n",
    "```python\n",
    "fig = px.bar(\n",
    "    my_dataframe,\n",
    "    title='Your Title Here',\n",
    "    x='column1',\n",
    "    y='column2',\n",
    "    text='column1',\n",
    "    template='simple_white',\n",
    "    height=...\n",
    ")\n",
    "fig.update_traces(texttemplate='$%{text:.1f}', textposition='outside')\n",
    "fig.update_yaxes(categoryorder='total ascending')\n",
    "fig.show()\n",
    "```"
   ]
  },
  {
   "cell_type": "code",
   "execution_count": null,
   "metadata": {},
   "outputs": [],
   "source": [
    "# YOUR CODE BEGINS\n",
    "\n",
    "# YOUR CODE ENDS"
   ]
  },
  {
   "cell_type": "markdown",
   "metadata": {},
   "source": [
    "#### 🧭 Check Your Work"
   ]
  },
  {
   "cell_type": "code",
   "execution_count": null,
   "metadata": {},
   "outputs": [],
   "source": [
    "# DO NOT CHANGE THE CODE IN THIS CELL\n",
    "_test_case = 'deliverable-21'\n",
    "_points = 3\n",
    "\n",
    "tc.assertIsNotNone(fig.layout.title.text, 'Missing figure title')\n",
    "tc.assertEqual(fig.layout.height, 800, 'Incorrect height')\n",
    "tc.assertEqual(fig.layout.template, pio.templates['simple_white'], 'Incorrect plotly theme (template)')\n",
    "\n",
    "decoded_code = base64.b64decode(b'ZmlnX2NoZWNrID0gcHguYmFyKAogICAg\\\n",
    "ZGZfYnlfcGlja3VwX2FyZWFfY2hlY2ssCiAgICB0aXRsZT0nQXZlcmFnZSBUcmlwIF\\\n",
    "RvdGFsICgkKSBieSBQaWNrdXAgQXJlYScsCiAgICB4PSd0cmlwX3RvdGFsJywKICAg\\\n",
    "IHk9J3BpY2t1cF9hcmVhJywKICAgIHRleHQ9J3RyaXBfdG90YWwnLAogICAgdGVtcG\\\n",
    "xhdGU9J3Bsb3RseV93aGl0ZScsCiAgICBoZWlnaHQ9ODAwCik=')\n",
    "eval(compile(decoded_code, '<string>', 'exec'))\n",
    "\n",
    "tc.assertEqual(fig.data[0].type, fig_check.data[0].type, f'Must be a {fig_check.data[0].type} chart')\n",
    "\n",
    "np.testing.assert_array_equal(\n",
    "    fig.data[0].x,\n",
    "    fig_check.data[0].x,\n",
    "    'x-axis value(s) mismatch'\n",
    ")\n",
    "\n",
    "np.testing.assert_array_equal(\n",
    "    fig.data[0].y,\n",
    "    fig_check.data[0].y,\n",
    "    'y-axis value(s) mismatch'\n",
    ")"
   ]
  },
  {
   "cell_type": "markdown",
   "metadata": {},
   "source": [
    "---\n",
    "\n",
    "### 🎯 Deliverable 22: Pickup Area Breakdown (Treemap)\n",
    "\n",
    "#### 👇 Tasks\n",
    "\n",
    "- ✔️ Using `df_by_pickup_area`, create a treemap of pickup areas.\n",
    "- ✔️ Set an appropriate title.\n",
    "- ✔️ Store your figure in a variable named `fig`.\n",
    "- ✔️ Display the figure using `fig.show()`\n",
    "\n",
    "#### 🔑 Sample Output\n",
    "\n",
    "![Sample Output](https://github.com/bdi475/images/blob/main/case-studies/rideshare-trips/sample-pickup-area-treemap-01.png?raw=true)"
   ]
  },
  {
   "cell_type": "code",
   "execution_count": null,
   "metadata": {},
   "outputs": [],
   "source": [
    "# YOUR CODE BEGINS\n",
    "\n",
    "# YOUR CODE ENDS"
   ]
  },
  {
   "cell_type": "markdown",
   "metadata": {},
   "source": [
    "#### 🧭 Check Your Work"
   ]
  },
  {
   "cell_type": "code",
   "execution_count": null,
   "metadata": {},
   "outputs": [],
   "source": [
    "# DO NOT CHANGE THE CODE IN THIS CELL\n",
    "_test_case = 'deliverable-22'\n",
    "_points = 3\n",
    "\n",
    "tc.assertIsNotNone(fig.layout.title.text, 'Missing figure title')\n",
    "\n",
    "decoded_code = base64.b64decode(b'ZmlnX2NoZWNrID0gcHgudHJlZW1hcCg\\\n",
    "KICAgIGRmX2J5X3BpY2t1cF9hcmVhX2NoZWNrLAogICAgdGl0bGU9J1BpY2t1cCBB\\\n",
    "cmVhIEJyZWFrZG93bicsCiAgICBwYXRoPVsncGlja3VwX2FyZWEnXSwKICAgIHZhb\\\n",
    "HVlcz0nbnVtX3RyaXBzJywKICAgIGhlaWdodD02MDAKKQ==')\n",
    "eval(compile(decoded_code, '<string>', 'exec'))\n",
    "\n",
    "tc.assertEqual(fig.data[0].type, 'treemap', 'Must be a treemap')\n",
    "\n",
    "np.testing.assert_array_equal(\n",
    "    fig.data[0].labels,\n",
    "    fig_check.data[0].labels,\n",
    "    'Label value(s) mismatch'\n",
    ")\n",
    "\n",
    "np.testing.assert_array_equal(\n",
    "    fig.data[0].parents,\n",
    "    fig_check.data[0].parents,\n",
    "    'Parent value(s) mismatch'\n",
    ")\n",
    "\n",
    "np.testing.assert_array_equal(\n",
    "    fig.data[0].values,\n",
    "    fig_check.data[0].values,\n",
    "    'Size value(s) mismatch'\n",
    ")"
   ]
  },
  {
   "cell_type": "markdown",
   "metadata": {},
   "source": [
    "---\n",
    "\n",
    "### 📌 Interpreting the Pickup Area Visualizations\n",
    "\n",
    "- 🔍 \"Near North Side\" is the most popular pickup area, followed by \"Loop\" and \"Near West Side\".\n",
    "- 🔍 The average trip total for rides beginning in O'Hare is relatively much higher compared to any other pickup area."
   ]
  },
  {
   "cell_type": "markdown",
   "metadata": {},
   "source": [
    "---\n",
    "\n",
    "## 🦄 Part 7: Pickup Area + Weekday/Weekend\n",
    "\n",
    "In this part, you will add a new dimension (weekday/weekend) to the top 20 pickup areas."
   ]
  },
  {
   "cell_type": "markdown",
   "metadata": {},
   "source": [
    "---\n",
    "\n",
    "### 🎯 Deliverable 23: Number of Trips and Average Trip Total by Pickup Area + Weekday/Weekend\n",
    "\n",
    "#### 👇 Tasks\n",
    "\n",
    "- ✔️ Using `df_filtered`, calculate the following aggregated values by `pickup_area` and `weekday_weekend`.\n",
    "    - `num_trips`: Number of trips\n",
    "    - `trip_total`: Average `trip_total`\n",
    "- ✔️ Store the resulting DataFrame in a new variable named `df_by_pickup_area_weekday_weekend`.\n",
    "- ✔️ `print(df_by_pickup_area_weekday_weekend.columns.tolist())` should print out `['pickup_area', 'weekday_weekend', 'num_trips', 'trip_total']`.\n",
    "- ✔️ `df_filtered` should remain unaltered.\n",
    "\n",
    "#### 🔑 Expected Output\n",
    "\n",
    "|    | pickup_area   | weekday_weekend   |   num_trips |   trip_total |\n",
    "|---:|:--------------|:------------------|------------:|-------------:|\n",
    "|  0 | Austin        | weekday           |        9064 |      13.2139 |\n",
    "|  1 | Austin        | weekend           |        7787 |      13.284  |\n",
    "|  2 | Avondale      | weekday           |        7942 |      12.6175 |\n",
    "|  3 | Avondale      | weekend           |        8483 |      12.6297 |\n",
    "|  4 | Edgewater     | weekday           |       10745 |      14.1318 |\n",
    "|  5 | Edgewater     | weekend           |       10944 |      13.608  |\n",
    "|  6 | Hyde Park     | weekday           |       11852 |      14.1627 |\n",
    "|  7 | Hyde Park     | weekend           |        9451 |      14.977  |\n",
    "|  8 | Irving Park   | weekday           |        7307 |      13.4092 |\n",
    "|  9 | Irving Park   | weekend           |        7263 |      13.2436 |"
   ]
  },
  {
   "cell_type": "code",
   "execution_count": null,
   "metadata": {},
   "outputs": [],
   "source": [
    "# YOUR CODE BEGINS\n",
    "\n",
    "# YOUR CODE ENDS\n",
    "\n",
    "display(df_by_pickup_area_weekday_weekend.head(10))"
   ]
  },
  {
   "cell_type": "markdown",
   "metadata": {},
   "source": [
    "#### 🧭 Check Your Work"
   ]
  },
  {
   "cell_type": "code",
   "execution_count": null,
   "metadata": {},
   "outputs": [],
   "source": [
    "# DO NOT CHANGE THE CODE IN THIS CELL\n",
    "_test_case = 'deliverable-23'\n",
    "_points = 6\n",
    "\n",
    "decoded_code = base64.b64decode(b'CmRmX2J5X3BpY2t1cF9hcmVhX3dlZWtkYXlfd2Vla2VuZF9jaGVj\\\n",
    "ayA9IGRmX2ZpbHRlcmVkX2NoZWNrLmdyb3VwYnkoCiAgICBbJ3BpY2t1cF9hcmVhJywgJ3dlZWtkYXlfd2Vla2\\\n",
    "VuZCddLCBhc19pbmRleD1GYWxzZQopLmFnZyh7CiAgICAnc3RhcnQnOiAnY291bnQnLAogICAgJ3RyaXBfdG90\\\n",
    "YWwnOiAnbWVhbicsCn0pLnJlbmFtZShjb2x1bW5zPXsKICAgICdzdGFydCc6ICdudW1fdHJpcHMnCn0pCg==')\n",
    "eval(compile(decoded_code, '<string>', 'exec'))\n",
    "\n",
    "tc.assertEqual(\n",
    "    df_by_pickup_area_weekday_weekend.columns.tolist(),\n",
    "    df_by_pickup_area_weekday_weekend_check.columns.tolist(),\n",
    "    'Column(s) mismatch'\n",
    ")\n",
    "\n",
    "tc.assertEqual(\n",
    "    df_by_pickup_area_weekday_weekend.shape,\n",
    "    df_by_pickup_area_weekday_weekend_check.shape,\n",
    "    'Incorrect number of rows and/or columns'\n",
    ")\n",
    "\n",
    "pd.testing.assert_frame_equal(\n",
    "    df_by_pickup_area_weekday_weekend.sort_values(df_by_pickup_area.columns.tolist()).reset_index(drop=True),\n",
    "    df_by_pickup_area_weekday_weekend_check.sort_values(df_by_pickup_area_check.columns.tolist()).reset_index(drop=True),\n",
    "    check_like=True\n",
    ")"
   ]
  },
  {
   "cell_type": "markdown",
   "metadata": {},
   "source": [
    "---\n",
    "\n",
    "### 🎯 Deliverable 24: Pickup Area + Weekday/Weekend Breakdown (Sunburst)\n",
    "\n",
    "#### 👇 Tasks\n",
    "\n",
    "- ✔️ Using `df_by_pickup_area_weekday_weekend`, create a sunburst chart describing the breakdown of number of trips by pickup area and weekday/weekend classification.\n",
    "- ✔️ Set an appropriate title.\n",
    "- ✔️ Set both the width and height to `800`.\n",
    "- ✔️ Store your figure in a variable named `fig`.\n",
    "- ✔️ Display the figure using `fig.show()`\n",
    "\n",
    "\n",
    "#### 🔑 Sample Output\n",
    "\n",
    "![Sample Output](https://github.com/bdi475/images/blob/main/case-studies/rideshare-trips/sample-pickup-area-by-weekday-weekend-sunburst-01.png?raw=true)"
   ]
  },
  {
   "cell_type": "code",
   "execution_count": null,
   "metadata": {
    "scrolled": true
   },
   "outputs": [],
   "source": [
    "# YOUR CODE BEGINS\n",
    "\n",
    "# YOUR CODE ENDS"
   ]
  },
  {
   "cell_type": "markdown",
   "metadata": {},
   "source": [
    "#### 🧭 Check Your Work"
   ]
  },
  {
   "cell_type": "code",
   "execution_count": null,
   "metadata": {},
   "outputs": [],
   "source": [
    "# DO NOT CHANGE THE CODE IN THIS CELL\n",
    "_test_case = 'deliverable-24'\n",
    "_points = 4\n",
    "\n",
    "tc.assertIsNotNone(fig.layout.title.text, 'Missing figure title')\n",
    "tc.assertEqual(fig.data[0].type, 'sunburst', 'Must be a sunburst chart')\n",
    "tc.assertEqual(fig.layout.width, 800, 'Incorrect width')\n",
    "tc.assertEqual(fig.layout.height, 800, 'Incorrect height')\n",
    "\n",
    "decoded_code = base64.b64decode(b'ZmlnX2NoZWNrID0gcHguc3VuYnVyc3\\\n",
    "QoCiAgICBkZl9ieV9waWNrdXBfYXJlYV93ZWVrZGF5X3dlZWtlbmQsCiAgICBwYX\\\n",
    "RoPVsncGlja3VwX2FyZWEnLCAnd2Vla2RheV93ZWVrZW5kJ10sCiAgICB2YWx1ZX\\\n",
    "M9J251bV90cmlwcycsCiAgICB0aXRsZT0nUGlja3VwIEFyZWEgQnJlYWtkb3duIC\\\n",
    "hXZWVrZGF5L1dlZWtlbmQpJywKICAgIHdpZHRoPTgwMCwKICAgIGhlaWdodD04MDAKKQ==')\n",
    "eval(compile(decoded_code, '<string>', 'exec'))\n",
    "\n",
    "np.testing.assert_array_equal(\n",
    "    fig.data[0].labels,\n",
    "    fig_check.data[0].labels,\n",
    "    'Label(s) mismatch'\n",
    ")\n",
    "\n",
    "np.testing.assert_array_equal(\n",
    "    fig.data[0].parents,\n",
    "    fig_check.data[0].parents,\n",
    "    'Parent(s) mismatch'\n",
    ")\n",
    "\n",
    "np.testing.assert_array_equal(\n",
    "    fig.data[0].values,\n",
    "    fig_check.data[0].values,\n",
    "    'Value(s) mismatch'\n",
    ")"
   ]
  },
  {
   "cell_type": "markdown",
   "metadata": {},
   "source": [
    "---\n",
    "\n",
    "### 🎯 Deliverable 25: Pickup Area + Weekday/Weekend Breakdown (Treemap)\n",
    "\n",
    "#### 👇 Tasks\n",
    "\n",
    "\n",
    "- ✔️ Using `df_by_pickup_area_weekday_weekend`, create a treemap chart describing the breakdown of number of trips by pickup area and weekday/weekend classification.\n",
    "- ✔️ Set an appropriate title.\n",
    "- ✔️ Set the height to `600` (do not set the width).\n",
    "- ✔️ Store your figure in a variable named `fig`.\n",
    "- ✔️ Display the figure using `fig.show()`\n",
    "\n",
    "\n",
    "#### 🔑 Sample Output\n",
    "\n",
    "![Sample Output](https://github.com/bdi475/images/blob/main/case-studies/rideshare-trips/sample-pickup-area-by-weekday-weekend-treemap-01.png?raw=true)"
   ]
  },
  {
   "cell_type": "code",
   "execution_count": null,
   "metadata": {},
   "outputs": [],
   "source": [
    "# YOUR CODE BEGINS\n",
    "\n",
    "# YOUR CODE ENDS"
   ]
  },
  {
   "cell_type": "markdown",
   "metadata": {},
   "source": [
    "#### 🧭 Check Your Work"
   ]
  },
  {
   "cell_type": "code",
   "execution_count": null,
   "metadata": {},
   "outputs": [],
   "source": [
    "# DO NOT CHANGE THE CODE IN THIS CELL\n",
    "_test_case = 'deliverable-25'\n",
    "_points = 4\n",
    "\n",
    "tc.assertIsNotNone(fig.layout.title.text, 'Missing figure title')\n",
    "tc.assertEqual(fig.data[0].type, 'treemap', 'Must be a treemap chart')\n",
    "tc.assertEqual(fig.layout.height, 600, 'Incorrect height')\n",
    "\n",
    "decoded_code = base64.b64decode(b'ZmlnID0gcHgudHJlZW1hcCgKICAgIGRm\\\n",
    "X2J5X3BpY2t1cF9hcmVhX3dlZWtkYXlfd2Vla2VuZCwKICAgIHBhdGg9WydwaWNrdX\\\n",
    "BfYXJlYScsICd3ZWVrZGF5X3dlZWtlbmQnXSwKICAgIHZhbHVlcz0nbnVtX3RyaXBz\\\n",
    "JywKICAgIHRpdGxlPSdQaWNrdXAgQXJlYSBCcmVha2Rvd24gKFdlZWtkYXkvV2Vla2\\\n",
    "VuZCknLAogICAgaGVpZ2h0PTYwMAop')\n",
    "eval(compile(decoded_code, '<string>', 'exec'))\n",
    "\n",
    "np.testing.assert_array_equal(\n",
    "    fig.data[0].labels,\n",
    "    fig_check.data[0].labels,\n",
    "    'Label(s) mismatch'\n",
    ")\n",
    "\n",
    "np.testing.assert_array_equal(\n",
    "    fig.data[0].parents,\n",
    "    fig_check.data[0].parents,\n",
    "    'Parent(s) mismatch'\n",
    ")\n",
    "\n",
    "np.testing.assert_array_equal(\n",
    "    fig.data[0].values,\n",
    "    fig_check.data[0].values,\n",
    "    'Value(s) mismatch'\n",
    ")"
   ]
  }
 ],
 "metadata": {
  "kernelspec": {
   "display_name": "Python 3 (ipykernel)",
   "language": "python",
   "name": "python3"
  },
  "language_info": {
   "codemirror_mode": {
    "name": "ipython",
    "version": 3
   },
   "file_extension": ".py",
   "mimetype": "text/x-python",
   "name": "python",
   "nbconvert_exporter": "python",
   "pygments_lexer": "ipython3",
   "version": "3.10.10"
  }
 },
 "nbformat": 4,
 "nbformat_minor": 4
}
