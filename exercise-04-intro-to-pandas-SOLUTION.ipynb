{
 "cells": [
  {
   "cell_type": "markdown",
   "id": "52d52999",
   "metadata": {},
   "source": [
    "# Exercise 4 - Introduction to Pandas\n",
    "\n",
    "- 🏆 20 points available\n",
    "- ✏️ Last updated on 9/16/2025\n"
   ]
  },
  {
   "cell_type": "markdown",
   "id": "dbb8486f",
   "metadata": {
    "id": "DiznwS2xem7h"
   },
   "source": [
    "▶️ First, run the code cell below to import `unittest`, a module used for **🧭 Check Your Work** sections and the autograder.\n"
   ]
  },
  {
   "cell_type": "code",
   "execution_count": 19,
   "id": "d911d7fb",
   "metadata": {
    "id": "xOFvIip0em7h"
   },
   "outputs": [],
   "source": [
    "# DO NOT MODIFY THE CODE IN THIS CELL\n",
    "import unittest\n",
    "\n",
    "tc = unittest.TestCase()"
   ]
  },
  {
   "cell_type": "markdown",
   "id": "cac11410",
   "metadata": {},
   "source": [
    "---\n",
    "\n",
    "### 🎯 Challenge 1: Import Pandas and NumPy\n"
   ]
  },
  {
   "cell_type": "markdown",
   "id": "66f46781",
   "metadata": {
    "id": "i3PWWkSaem7i"
   },
   "source": [
    "#### 👇 Tasks\n",
    "\n",
    "- ✔️ Import the following Python packages.\n",
    "  1. `pandas`: Use alias `pd`.\n",
    "  2. `numpy`: Use alias `np`.\n"
   ]
  },
  {
   "cell_type": "code",
   "execution_count": 20,
   "id": "2a853316",
   "metadata": {
    "id": "jfnhv8_Yem7j"
   },
   "outputs": [],
   "source": [
    "# YOUR CODE BEGINS\n",
    "import pandas as pd\n",
    "import numpy as np\n",
    "\n",
    "# YOUR CODE ENDS"
   ]
  },
  {
   "cell_type": "markdown",
   "id": "4a09a4dd",
   "metadata": {},
   "source": [
    "#### 🧭 Check Your Work\n",
    "\n",
    "Run the code cell below to test your solution.\n",
    "\n",
    "- ✔️ If the code cell runs without errors, you're good to move on.\n",
    "- ❌ If the code cell produces an error, review your code and fix any mistakes.\n"
   ]
  },
  {
   "cell_type": "code",
   "execution_count": 21,
   "id": "6bd27917",
   "metadata": {},
   "outputs": [],
   "source": [
    "_test_case = \"import-pandas-numpy\"\n",
    "_points = 5\n",
    "\n",
    "tc.assertTrue(\n",
    "    \"pd\" in globals(), \"Check whether you have correctly import Pandas with an alias.\"\n",
    ")\n",
    "tc.assertTrue(\n",
    "    \"np\" in globals(), \"Check whether you have correctly import NumPy with an alias.\"\n",
    ")"
   ]
  },
  {
   "cell_type": "markdown",
   "id": "22266848",
   "metadata": {
    "id": "Dg-bBkF8fGaN"
   },
   "source": [
    "---\n",
    "\n",
    "### 🎯 Challenge 2: Create a Pandas Series\n",
    "\n",
    "#### 👇 Tasks\n",
    "\n",
    "- ✔️ Create a new Pandas `Series` named `sample_series` with the following four values: `-20`, `-10`, `10`, `20`\n",
    "\n",
    "#### 🚀 Hint\n",
    "\n",
    "The code below creates a new Pandas `Series` with the values `1` and `2`.\n",
    "\n",
    "```python\n",
    "my_new_series = pd.Series([1, 2])\n",
    "```\n"
   ]
  },
  {
   "cell_type": "code",
   "execution_count": 22,
   "id": "08b5949c",
   "metadata": {
    "colab": {
     "base_uri": "https://localhost:8080/"
    },
    "id": "OoYuVAyhem7q",
    "outputId": "8eea66d1-ee93-464c-9889-346fd512d07a"
   },
   "outputs": [
    {
     "name": "stdout",
     "output_type": "stream",
     "text": [
      "0   -20\n",
      "1   -10\n",
      "2    10\n",
      "3    20\n",
      "dtype: int64\n"
     ]
    }
   ],
   "source": [
    "# YOUR CODE BEGINS\n",
    "sample_series = pd.Series([-20, -10, 10, 20])\n",
    "# YOUR CODE ENDS\n",
    "\n",
    "print(sample_series)"
   ]
  },
  {
   "cell_type": "markdown",
   "id": "60843777",
   "metadata": {},
   "source": [
    "#### 🧭 Check Your Work\n",
    "\n",
    "Run the code cell below to test your solution.\n",
    "\n",
    "- ✔️ If the code cell runs without errors, you're good to move on.\n",
    "- ❌ If the code cell produces an error, review your code and fix any mistakes.\n"
   ]
  },
  {
   "cell_type": "code",
   "execution_count": 23,
   "id": "cd666161",
   "metadata": {
    "id": "DXDG3nzpem7r"
   },
   "outputs": [],
   "source": [
    "_test_case = \"create-a-pandas-series\"\n",
    "_points = 5\n",
    "\n",
    "pd.testing.assert_series_equal(sample_series, pd.Series(x * 10 for x in [-2, -1, 1, 2]))"
   ]
  },
  {
   "cell_type": "markdown",
   "id": "5becea54",
   "metadata": {
    "id": "Dg-bBkF8fGaN"
   },
   "source": [
    "---\n",
    "\n",
    "### 🎯 Challenge 3: Create a Pandas DataFrame\n",
    "\n",
    "#### 👇 Tasks\n",
    "\n",
    "- ✔️ You are given two lists - `brands` and `rankings` that contain the names of make-up products and the number of reviews on Sephora.com.\n",
    "- ✔️ Using the two lists, create a new Pandas `DataFrame` named `df_brands` that has the following two columns:\n",
    "  1. `brand`: Names of the brands\n",
    "  2. `ranking`: Ranking of the brands\n",
    "- ✔️ Note that the column names are singular.\n",
    "\n",
    "#### 🚀 Hint\n",
    "\n",
    "The code below creates a new Pandas `DataFrame` from two series.\n",
    "\n",
    "```python\n",
    "my_new_dataframe = pd.DataFrame({\n",
    "    \"column_one\": my_series1,\n",
    "    \"column_two\": my_series2\n",
    "})\n",
    "```\n",
    "\n",
    "#### 🔑 Expected Output\n",
    "\n",
    "|     | brand  | ranking |\n",
    "| --: | :----- | ------: |\n",
    "|   0 | Apple  |       1 |\n",
    "|   1 | Amazon |       2 |\n",
    "|   2 | Google |       3 |\n"
   ]
  },
  {
   "cell_type": "code",
   "execution_count": 24,
   "id": "c2fe6ccf",
   "metadata": {},
   "outputs": [
    {
     "data": {
      "text/html": [
       "<div>\n",
       "<style scoped>\n",
       "    .dataframe tbody tr th:only-of-type {\n",
       "        vertical-align: middle;\n",
       "    }\n",
       "\n",
       "    .dataframe tbody tr th {\n",
       "        vertical-align: top;\n",
       "    }\n",
       "\n",
       "    .dataframe thead th {\n",
       "        text-align: right;\n",
       "    }\n",
       "</style>\n",
       "<table border=\"1\" class=\"dataframe\">\n",
       "  <thead>\n",
       "    <tr style=\"text-align: right;\">\n",
       "      <th></th>\n",
       "      <th>brand</th>\n",
       "      <th>ranking</th>\n",
       "    </tr>\n",
       "  </thead>\n",
       "  <tbody>\n",
       "    <tr>\n",
       "      <th>0</th>\n",
       "      <td>Apple</td>\n",
       "      <td>1</td>\n",
       "    </tr>\n",
       "    <tr>\n",
       "      <th>1</th>\n",
       "      <td>Amazon</td>\n",
       "      <td>2</td>\n",
       "    </tr>\n",
       "    <tr>\n",
       "      <th>2</th>\n",
       "      <td>Google</td>\n",
       "      <td>3</td>\n",
       "    </tr>\n",
       "  </tbody>\n",
       "</table>\n",
       "</div>"
      ],
      "text/plain": [
       "    brand  ranking\n",
       "0   Apple        1\n",
       "1  Amazon        2\n",
       "2  Google        3"
      ]
     },
     "metadata": {},
     "output_type": "display_data"
    }
   ],
   "source": [
    "brands = [\"Apple\", \"Amazon\", \"Google\"]\n",
    "rankings = [1, 2, 3]\n",
    "\n",
    "# YOUR CODE BEGINS\n",
    "df_brands = pd.DataFrame({\"brand\": brands, \"ranking\": rankings})\n",
    "# YOUR CODE ENDS\n",
    "\n",
    "display(df_brands)"
   ]
  },
  {
   "cell_type": "markdown",
   "id": "583e5608",
   "metadata": {},
   "source": [
    "#### 🧭 Check Your Work\n",
    "\n",
    "Run the code cell below to test your solution.\n",
    "\n",
    "- ✔️ If the code cell runs without errors, you're good to move on.\n",
    "- ❌ If the code cell produces an error, review your code and fix any mistakes.\n"
   ]
  },
  {
   "cell_type": "code",
   "execution_count": 25,
   "id": "4900231a",
   "metadata": {},
   "outputs": [],
   "source": [
    "_test_case = \"create-a-pandas-dataframe-1\"\n",
    "_points = 5\n",
    "\n",
    "pd.testing.assert_frame_equal(\n",
    "    df_brands.reset_index(drop=True),\n",
    "    pd.DataFrame(\n",
    "        {\"brand\": {0: \"Apple\", 1: \"Amazon\", 2: \"Google\"}, \"ranking\": {0: 1, 1: 2, 2: 3}}\n",
    "    ),\n",
    ")"
   ]
  },
  {
   "cell_type": "markdown",
   "id": "e8f02ab1",
   "metadata": {},
   "source": [
    "---\n",
    "\n",
    "### 🎯 Challenge 4: Create a Pandas DataFrame\n",
    "\n",
    "#### 👇 Tasks\n",
    "\n",
    "- ✔️ You are given two lists - `product_names` and `num_reviews` that contain the names of make-up products and the number of reviews on Sephora.com.\n",
    "- ✔️ Using the two lists, create a new Pandas `DataFrame` named `df_top_products` that has the following two columns:\n",
    "  1. `\"product_name\"`: Names of the products\n",
    "  2. `\"num_review\"`: Number of reviews\n",
    "- ✔️ Note that the column names are singular.\n",
    "\n",
    "#### 🚀 Hint\n",
    "\n",
    "The code below creates a new Pandas `DataFrame` from two series.\n",
    "\n",
    "```python\n",
    "my_new_dataframe = pd.DataFrame({\n",
    "    \"column_one\": my_series1,\n",
    "    \"column_two\": my_series2\n",
    "})\n",
    "```\n"
   ]
  },
  {
   "cell_type": "code",
   "execution_count": 26,
   "id": "2442614b",
   "metadata": {},
   "outputs": [
    {
     "data": {
      "text/html": [
       "<div>\n",
       "<style scoped>\n",
       "    .dataframe tbody tr th:only-of-type {\n",
       "        vertical-align: middle;\n",
       "    }\n",
       "\n",
       "    .dataframe tbody tr th {\n",
       "        vertical-align: top;\n",
       "    }\n",
       "\n",
       "    .dataframe thead th {\n",
       "        text-align: right;\n",
       "    }\n",
       "</style>\n",
       "<table border=\"1\" class=\"dataframe\">\n",
       "  <thead>\n",
       "    <tr style=\"text-align: right;\">\n",
       "      <th></th>\n",
       "      <th>product_name</th>\n",
       "      <th>num_review</th>\n",
       "    </tr>\n",
       "  </thead>\n",
       "  <tbody>\n",
       "    <tr>\n",
       "      <th>0</th>\n",
       "      <td>Laneige Lip Sleeping Mask</td>\n",
       "      <td>12715</td>\n",
       "    </tr>\n",
       "    <tr>\n",
       "      <th>1</th>\n",
       "      <td>The Ordinary Hyaluronic Acid 2% + B5</td>\n",
       "      <td>2274</td>\n",
       "    </tr>\n",
       "    <tr>\n",
       "      <th>2</th>\n",
       "      <td>Laneige Lip Glowy Balm</td>\n",
       "      <td>2766</td>\n",
       "    </tr>\n",
       "    <tr>\n",
       "      <th>3</th>\n",
       "      <td>Chanel COCO MADEMOISELLE Eau de Parfum</td>\n",
       "      <td>724</td>\n",
       "    </tr>\n",
       "  </tbody>\n",
       "</table>\n",
       "</div>"
      ],
      "text/plain": [
       "                             product_name  num_review\n",
       "0               Laneige Lip Sleeping Mask       12715\n",
       "1    The Ordinary Hyaluronic Acid 2% + B5        2274\n",
       "2                  Laneige Lip Glowy Balm        2766\n",
       "3  Chanel COCO MADEMOISELLE Eau de Parfum         724"
      ]
     },
     "metadata": {},
     "output_type": "display_data"
    }
   ],
   "source": [
    "product_names = [\n",
    "    \"Laneige Lip Sleeping Mask\",\n",
    "    \"The Ordinary Hyaluronic Acid 2% + B5\",\n",
    "    \"Laneige Lip Glowy Balm\",\n",
    "    \"Chanel COCO MADEMOISELLE Eau de Parfum\",\n",
    "]\n",
    "\n",
    "num_reviews = [12715, 2274, 2766, 724]\n",
    "\n",
    "### BEGIN SOLUTION\n",
    "df_top_products = pd.DataFrame(\n",
    "    {\"product_name\": product_names, \"num_review\": num_reviews}\n",
    ")\n",
    "### END SOLUTION\n",
    "\n",
    "display(df_top_products)"
   ]
  },
  {
   "cell_type": "markdown",
   "id": "8b552919",
   "metadata": {},
   "source": [
    "#### 🧭 Check Your Work\n",
    "\n",
    "Run the code cell below to test your solution.\n",
    "\n",
    "- ✔️ If the code cell runs without errors, you're good to move on.\n",
    "- ❌ If the code cell produces an error, review your code and fix any mistakes.\n"
   ]
  },
  {
   "cell_type": "code",
   "execution_count": 27,
   "id": "0f3e3f07",
   "metadata": {},
   "outputs": [],
   "source": [
    "_test_case = \"create-a-pandas-dataframe-2\"\n",
    "_points = 5\n",
    "\n",
    "pd.testing.assert_frame_equal(\n",
    "    df_top_products.reset_index(drop=True),\n",
    "    pd.DataFrame(\n",
    "        {\n",
    "            \"product_name\": {\n",
    "                0: \"Laneige Lip Sleeping Mask\",\n",
    "                1: \"The Ordinary Hyaluronic Acid 2% + B5\",\n",
    "                2: \"Laneige Lip Glowy Balm\",\n",
    "                3: \"Chanel COCO MADEMOISELLE Eau de Parfum\",\n",
    "            },\n",
    "            \"num_review\": {0: 12715, 1: 2274, 2: 2766, 3: 724},\n",
    "        }\n",
    "    ),\n",
    ")"
   ]
  }
 ],
 "metadata": {
  "kernelspec": {
   "display_name": "gies",
   "language": "python",
   "name": "python3"
  },
  "language_info": {
   "codemirror_mode": {
    "name": "ipython",
    "version": 3
   },
   "file_extension": ".py",
   "mimetype": "text/x-python",
   "name": "python",
   "nbconvert_exporter": "python",
   "pygments_lexer": "ipython3",
   "version": "3.12.6"
  }
 },
 "nbformat": 4,
 "nbformat_minor": 5
}
