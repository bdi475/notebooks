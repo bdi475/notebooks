{
 "cells": [
  {
   "cell_type": "markdown",
   "metadata": {
    "id": "x7-fgFpYem7d"
   },
   "source": [
    "# Pandas Series, DataFrame, CSV, Filtering"
   ]
  },
  {
   "cell_type": "markdown",
   "metadata": {
    "id": "C4bFxpNCem7g"
   },
   "source": [
    "## Lecture Notes and in-class exercises"
   ]
  },
  {
   "cell_type": "markdown",
   "metadata": {
    "id": "DiznwS2xem7h"
   },
   "source": [
    "▶️ First, run the code cell below to import `unittest`, a module used for **🧭 Check Your Work** sections and the autograder."
   ]
  },
  {
   "cell_type": "code",
   "execution_count": 1,
   "metadata": {
    "id": "xOFvIip0em7h"
   },
   "outputs": [],
   "source": [
    "import unittest\n",
    "tc = unittest.TestCase()"
   ]
  },
  {
   "cell_type": "markdown",
   "metadata": {
    "id": "i3PWWkSaem7i"
   },
   "source": [
    "#### 👇 Tasks\n",
    "\n",
    "- ✔️ Import the following Python packages.\n",
    "    1. `pandas`: Use alias `pd`.\n",
    "    2. `numpy`: Use alias `np`."
   ]
  },
  {
   "cell_type": "code",
   "execution_count": 2,
   "metadata": {
    "id": "jfnhv8_Yem7j"
   },
   "outputs": [],
   "source": [
    "### BEGIN SOLUTION\n",
    "import pandas as pd\n",
    "import numpy as np\n",
    "### END SOLUTION"
   ]
  },
  {
   "cell_type": "markdown",
   "metadata": {
    "id": "WCOuwkrzem7j"
   },
   "source": [
    "#### 🧭 Check Your Work\n",
    "\n",
    "- Once you're done, run the code cell below to test correctness.\n",
    "- ✔️ If the code cell runs without an error, you're good to move on.\n",
    "- ❌ If the code cell throws an error, go back and fix incorrect parts."
   ]
  },
  {
   "cell_type": "code",
   "execution_count": 3,
   "metadata": {
    "id": "WQ-COKL8em7k"
   },
   "outputs": [],
   "source": [
    "import sys\n",
    "tc.assertTrue(\"pd\" in globals(), \"Check whether you have correctly import Pandas with an alias.\")\n",
    "tc.assertTrue(\"np\" in globals(), \"Check whether you have correctly import NumPy with an alias.\")"
   ]
  },
  {
   "cell_type": "markdown",
   "metadata": {
    "id": "Dg-bBkF8fGaN"
   },
   "source": [
    "---\n",
    "\n",
    "### 🎯 Challenge 1: Create a Pandas Series\n",
    "\n",
    "#### 👇 Tasks\n",
    "\n",
    "- ✔️ Create a new Pandas `Series` named `my_series` with the following three values: `10`, `20`, `30`.\n",
    "\n",
    "#### 🚀 Hint\n",
    "\n",
    "The code below creates a new Pandas `Series` with the values `1` and `2`.\n",
    "\n",
    "```python\n",
    "my_new_series = pd.Series([1, 2])\n",
    "```"
   ]
  },
  {
   "cell_type": "code",
   "execution_count": 4,
   "metadata": {
    "colab": {
     "base_uri": "https://localhost:8080/"
    },
    "id": "OoYuVAyhem7q",
    "outputId": "8eea66d1-ee93-464c-9889-346fd512d07a"
   },
   "outputs": [
    {
     "name": "stdout",
     "output_type": "stream",
     "text": [
      "0    10\n",
      "1    20\n",
      "2    30\n",
      "dtype: int64\n"
     ]
    }
   ],
   "source": [
    "### BEGIN SOLUTION\n",
    "my_series = pd.Series([10, 20, 30])\n",
    "### END SOLUTION\n",
    "\n",
    "print(my_series)"
   ]
  },
  {
   "cell_type": "markdown",
   "metadata": {
    "id": "EdrK-mBsem7r"
   },
   "source": [
    "#### 🧭 Check Your Work\n",
    "\n",
    "- Once you're done, run the code cell below to test correctness.\n",
    "- ✔️ If the code cell runs without an error, you're good to move on.\n",
    "- ❌ If the code cell throws an error, go back and fix any incorrect parts."
   ]
  },
  {
   "cell_type": "code",
   "execution_count": 5,
   "metadata": {
    "id": "DXDG3nzpem7r",
    "nbgrader": {
     "grade": true,
     "grade_id": "challenge-01",
     "locked": true,
     "points": "1",
     "solution": false
    }
   },
   "outputs": [],
   "source": [
    "pd.testing.assert_series_equal(my_series, pd.Series(x * 10 for x in range(1, 4)))"
   ]
  },
  {
   "cell_type": "markdown",
   "metadata": {
    "id": "Dg-bBkF8fGaN"
   },
   "source": [
    "---\n",
    "\n",
    "### 🎯 Challenge 2: Create a Pandas DataFrame\n",
    "\n",
    "#### 👇 Tasks\n",
    "\n",
    "- ✔️ You are given two lists - `product_names` and `num_reviews` that contain the names of make-up products and the number of reviews on Sephora.com.\n",
    "- ✔️ Using the two lists, create a new Pandas `DataFrame` named `df_top_products` that has the following two columns:\n",
    "    1. `product_name`: Names of the products\n",
    "    2. `num_review`: Number of reviews\n",
    "- ✔️ Note that the column names are singular.\n",
    "\n",
    "#### 🚀 Hint\n",
    "\n",
    "The code below creates a new Pandas `DataFrame` from two series.\n",
    "\n",
    "```python\n",
    "my_new_dataframe = pd.DataFrame({\n",
    "    \"column_one\": my_series1,\n",
    "    \"column_two\": my_series2\n",
    "})\n",
    "```"
   ]
  },
  {
   "cell_type": "code",
   "execution_count": 6,
   "metadata": {},
   "outputs": [
    {
     "data": {
      "text/html": [
       "<div>\n",
       "<style scoped>\n",
       "    .dataframe tbody tr th:only-of-type {\n",
       "        vertical-align: middle;\n",
       "    }\n",
       "\n",
       "    .dataframe tbody tr th {\n",
       "        vertical-align: top;\n",
       "    }\n",
       "\n",
       "    .dataframe thead th {\n",
       "        text-align: right;\n",
       "    }\n",
       "</style>\n",
       "<table border=\"1\" class=\"dataframe\">\n",
       "  <thead>\n",
       "    <tr style=\"text-align: right;\">\n",
       "      <th></th>\n",
       "      <th>product_name</th>\n",
       "      <th>num_review</th>\n",
       "    </tr>\n",
       "  </thead>\n",
       "  <tbody>\n",
       "    <tr>\n",
       "      <th>0</th>\n",
       "      <td>Laneige Lip Sleeping Mask</td>\n",
       "      <td>12715</td>\n",
       "    </tr>\n",
       "    <tr>\n",
       "      <th>1</th>\n",
       "      <td>The Ordinary Hyaluronic Acid 2% + B5</td>\n",
       "      <td>2274</td>\n",
       "    </tr>\n",
       "    <tr>\n",
       "      <th>2</th>\n",
       "      <td>Laneige Lip Glowy Balm</td>\n",
       "      <td>2766</td>\n",
       "    </tr>\n",
       "    <tr>\n",
       "      <th>3</th>\n",
       "      <td>Chanel COCO MADEMOISELLE Eau de Parfum</td>\n",
       "      <td>724</td>\n",
       "    </tr>\n",
       "  </tbody>\n",
       "</table>\n",
       "</div>"
      ],
      "text/plain": [
       "                             product_name  num_review\n",
       "0               Laneige Lip Sleeping Mask       12715\n",
       "1    The Ordinary Hyaluronic Acid 2% + B5        2274\n",
       "2                  Laneige Lip Glowy Balm        2766\n",
       "3  Chanel COCO MADEMOISELLE Eau de Parfum         724"
      ]
     },
     "metadata": {},
     "output_type": "display_data"
    }
   ],
   "source": [
    "product_names = [\n",
    "    \"Laneige Lip Sleeping Mask\",\n",
    "    \"The Ordinary Hyaluronic Acid 2% + B5\",\n",
    "    \"Laneige Lip Glowy Balm\",\n",
    "    \"Chanel COCO MADEMOISELLE Eau de Parfum\"\n",
    "]\n",
    "\n",
    "num_reviews = [\n",
    "    12715,\n",
    "    2274,\n",
    "    2766,\n",
    "    724\n",
    "]\n",
    "\n",
    "### BEGIN SOLUTION\n",
    "df_top_products = pd.DataFrame({\n",
    "    \"product_name\": product_names,\n",
    "    \"num_review\": num_reviews\n",
    "})\n",
    "### END SOLUTION\n",
    "\n",
    "display(df_top_products)"
   ]
  },
  {
   "cell_type": "markdown",
   "metadata": {
    "id": "EdrK-mBsem7r"
   },
   "source": [
    "#### 🧭 Check Your Work\n",
    "\n",
    "- Once you're done, run the code cell below to test correctness.\n",
    "- ✔️ If the code cell runs without an error, you're good to move on.\n",
    "- ❌ If the code cell throws an error, go back and fix any incorrect parts."
   ]
  },
  {
   "cell_type": "code",
   "execution_count": 7,
   "metadata": {
    "id": "DXDG3nzpem7r",
    "nbgrader": {
     "grade": true,
     "grade_id": "challenge-02",
     "locked": true,
     "points": "1",
     "solution": false
    }
   },
   "outputs": [],
   "source": [
    "pd.testing.assert_frame_equal(\n",
    "    df_top_products.reset_index(drop=True),\n",
    "    pd.DataFrame({\"product_name\": {0: \"Laneige Lip Sleeping Mask\",\n",
    "        1: \"The Ordinary Hyaluronic Acid 2% + B5\",\n",
    "        2: \"Laneige Lip Glowy Balm\",\n",
    "        3: \"Chanel COCO MADEMOISELLE Eau de Parfum\"},\n",
    "        \"num_review\": {0: 12715, 1: 2274, 2: 2766, 3: 724}})\n",
    ")"
   ]
  },
  {
   "cell_type": "markdown",
   "metadata": {
    "id": "126Uw95nem7k"
   },
   "source": [
    "---\n",
    "\n",
    "### 📌 Load data"
   ]
  },
  {
   "cell_type": "markdown",
   "metadata": {
    "id": "kH43B35Mem7l"
   },
   "source": [
    "The second part of today's lecture is all about **you**. 👻 Literally.\n",
    "\n",
    "▶️ Run the code cell below to create a new `DataFrame` named `df_you`."
   ]
  },
  {
   "cell_type": "code",
   "execution_count": 8,
   "metadata": {
    "colab": {
     "base_uri": "https://localhost:8080/",
     "height": 204
    },
    "id": "CXJECgQiem7l",
    "outputId": "59ba80a2-892b-4e64-bbe9-1b8fc3a2880c"
   },
   "outputs": [
    {
     "data": {
      "text/html": [
       "<div>\n",
       "<style scoped>\n",
       "    .dataframe tbody tr th:only-of-type {\n",
       "        vertical-align: middle;\n",
       "    }\n",
       "\n",
       "    .dataframe tbody tr th {\n",
       "        vertical-align: top;\n",
       "    }\n",
       "\n",
       "    .dataframe thead th {\n",
       "        text-align: right;\n",
       "    }\n",
       "</style>\n",
       "<table border=\"1\" class=\"dataframe\">\n",
       "  <thead>\n",
       "    <tr style=\"text-align: right;\">\n",
       "      <th></th>\n",
       "      <th>name</th>\n",
       "      <th>major1</th>\n",
       "      <th>major2</th>\n",
       "      <th>city</th>\n",
       "      <th>fav_restaurant</th>\n",
       "      <th>fav_movie</th>\n",
       "      <th>has_iphone</th>\n",
       "    </tr>\n",
       "  </thead>\n",
       "  <tbody>\n",
       "    <tr>\n",
       "      <th>0</th>\n",
       "      <td>Nishita Amberkar</td>\n",
       "      <td>Computer Engineering</td>\n",
       "      <td>Marketing</td>\n",
       "      <td>Fairfax</td>\n",
       "      <td>Chick-fil-a</td>\n",
       "      <td>Ford vs Ferrari</td>\n",
       "      <td>False</td>\n",
       "    </tr>\n",
       "    <tr>\n",
       "      <th>1</th>\n",
       "      <td>Alvino Angelo</td>\n",
       "      <td>Computer Science</td>\n",
       "      <td>NaN</td>\n",
       "      <td>Jakarta</td>\n",
       "      <td>Chipotle</td>\n",
       "      <td>Edge of Tomorrow</td>\n",
       "      <td>False</td>\n",
       "    </tr>\n",
       "    <tr>\n",
       "      <th>2</th>\n",
       "      <td>Guadalupe Badillo</td>\n",
       "      <td>Finance in Agribusiness</td>\n",
       "      <td>Marketing</td>\n",
       "      <td>Chicago</td>\n",
       "      <td>Fiaschetteria</td>\n",
       "      <td>Toy Story</td>\n",
       "      <td>True</td>\n",
       "    </tr>\n",
       "    <tr>\n",
       "      <th>3</th>\n",
       "      <td>Denise Bahena</td>\n",
       "      <td>Information Sciences</td>\n",
       "      <td>NaN</td>\n",
       "      <td>Chicago</td>\n",
       "      <td>Chipotle</td>\n",
       "      <td>Little Women</td>\n",
       "      <td>False</td>\n",
       "    </tr>\n",
       "    <tr>\n",
       "      <th>4</th>\n",
       "      <td>Arnav Batta</td>\n",
       "      <td>Computer Science</td>\n",
       "      <td>T&amp;M</td>\n",
       "      <td>Palatine</td>\n",
       "      <td>Huaraches Moroleon</td>\n",
       "      <td>Interstellar</td>\n",
       "      <td>True</td>\n",
       "    </tr>\n",
       "  </tbody>\n",
       "</table>\n",
       "</div>"
      ],
      "text/plain": [
       "                name                   major1     major2      city  \\\n",
       "0   Nishita Amberkar     Computer Engineering  Marketing   Fairfax   \n",
       "1      Alvino Angelo         Computer Science        NaN   Jakarta   \n",
       "2  Guadalupe Badillo  Finance in Agribusiness  Marketing   Chicago   \n",
       "3      Denise Bahena     Information Sciences        NaN   Chicago   \n",
       "4        Arnav Batta         Computer Science        T&M  Palatine   \n",
       "\n",
       "       fav_restaurant         fav_movie  has_iphone  \n",
       "0         Chick-fil-a   Ford vs Ferrari       False  \n",
       "1            Chipotle  Edge of Tomorrow       False  \n",
       "2       Fiaschetteria         Toy Story        True  \n",
       "3            Chipotle      Little Women       False  \n",
       "4  Huaraches Moroleon      Interstellar        True  "
      ]
     },
     "execution_count": 8,
     "metadata": {},
     "output_type": "execute_result"
    }
   ],
   "source": [
    "df_you = pd.read_csv(\"https://github.com/bdi475/datasets/raw/main/about-you.csv\")\n",
    "\n",
    "# Used to keep a clean copy\n",
    "df_you_backup = df_you.copy()\n",
    "\n",
    "# head() displays the first 5 rows of a DataFrame\n",
    "df_you.head()"
   ]
  },
  {
   "cell_type": "markdown",
   "metadata": {
    "id": "t6vVg2dJem7m"
   },
   "source": [
    "☝️ **Hold on.** Didn't we always create `DataFrame`s using `pd.DataFrame()`?\n",
    "\n",
    "Yes. But we can *import* existing data as a Pandas `DataFrame` using `pd.read_csv()`. There are many other similar import methods. For now, we'll mostly use `pd.read_csv()`.\n",
    "\n",
    "The table below explains each column in `df_you`."
   ]
  },
  {
   "cell_type": "markdown",
   "metadata": {
    "id": "LI33A8-jem7m"
   },
   "source": [
    "| Column Name             | Description                                               |\n",
    "|-------------------------|-----------------------------------------------------------|\n",
    "| name                    | First name                                                |\n",
    "| major1                  | Major                                                     |\n",
    "| major2                  | Second major OR minor (blank if no second major or minor) |\n",
    "| city                    | City the person is from                                   |\n",
    "| fav_restaurant          | Favorite restaurant (blank if no restaurant was given)    |\n",
    "| fav_movie               | Favorite movie (blank if no movie was given)              |\n",
    "| has_iphone              | Whether the person use an iPhone                          |"
   ]
  },
  {
   "cell_type": "markdown",
   "metadata": {
    "id": "d5hE9oVSem7n"
   },
   "source": [
    "---\n",
    "\n",
    "### 📌 Concise summary of a `DataFrame`"
   ]
  },
  {
   "cell_type": "markdown",
   "metadata": {
    "id": "lg5s3hW2em7n"
   },
   "source": [
    "👉 A common first step in working with a `DataFrame` is to use the `info()` method. `info()` prints a concise summary of a `DataFrame`.\n",
    "- Index data type\n",
    "- Column information: for each column, the following information is displayed:\n",
    "    - Number of non-missing values\n",
    "    - Data type of the column\n",
    "- Memory usage"
   ]
  },
  {
   "cell_type": "markdown",
   "metadata": {
    "id": "v4myKhF8em7o"
   },
   "source": [
    "▶️ Run `df_you.info()` below to see the `info()` method in action."
   ]
  },
  {
   "cell_type": "code",
   "execution_count": 9,
   "metadata": {
    "colab": {
     "base_uri": "https://localhost:8080/"
    },
    "id": "UfyZRM7rem7o",
    "outputId": "891d9445-721f-4c60-a345-36b679815cf0"
   },
   "outputs": [
    {
     "name": "stdout",
     "output_type": "stream",
     "text": [
      "<class 'pandas.core.frame.DataFrame'>\n",
      "RangeIndex: 44 entries, 0 to 43\n",
      "Data columns (total 7 columns):\n",
      " #   Column          Non-Null Count  Dtype \n",
      "---  ------          --------------  ----- \n",
      " 0   name            44 non-null     object\n",
      " 1   major1          44 non-null     object\n",
      " 2   major2          14 non-null     object\n",
      " 3   city            44 non-null     object\n",
      " 4   fav_restaurant  39 non-null     object\n",
      " 5   fav_movie       38 non-null     object\n",
      " 6   has_iphone      44 non-null     bool  \n",
      "dtypes: bool(1), object(6)\n",
      "memory usage: 2.2+ KB\n"
     ]
    }
   ],
   "source": [
    "### BEGIN SOLUTION\n",
    "df_you.info()\n",
    "### END SOLUTION"
   ]
  },
  {
   "cell_type": "markdown",
   "metadata": {
    "id": "prZjAYOUem7o"
   },
   "source": [
    "👉 From the result of `df_you.info()`, we can understand a couple of things:\n",
    "\n",
    "- There are 7 columns.\n",
    "- Five columns have the `object` data type.\n",
    "    - In Pandas, a string data type is shown as `object`, not `str`.\n",
    "        - We will skip the technical discussion for now.\n",
    "- The second line of the output tells us that there are 40 entries.\n",
    "- Some columns have 40 non-null values - these columns do not contain any missing value.\n",
    "- Some columns have less than 40 non-null values - these columns contain one or more missing values.\n",
    "    - Missing values are displayed as `NaN`.\n",
    "    - To denote a missing value, use NumPy's `np.nan` (more on this later)."
   ]
  },
  {
   "cell_type": "markdown",
   "metadata": {
    "id": "OJ4qqvKIem7q"
   },
   "source": [
    "---\n",
    "\n",
    "### 🎯 Challenge 3: Display first/last/random rows"
   ]
  },
  {
   "cell_type": "markdown",
   "metadata": {
    "id": "TwWyyaQPem7q"
   },
   "source": [
    "▶️ Run `df_you.head()` to print the first 5 rows of `df_you`."
   ]
  },
  {
   "cell_type": "code",
   "execution_count": 10,
   "metadata": {
    "colab": {
     "base_uri": "https://localhost:8080/"
    },
    "id": "OoYuVAyhem7q",
    "outputId": "8eea66d1-ee93-464c-9889-346fd512d07a"
   },
   "outputs": [
    {
     "data": {
      "text/html": [
       "<div>\n",
       "<style scoped>\n",
       "    .dataframe tbody tr th:only-of-type {\n",
       "        vertical-align: middle;\n",
       "    }\n",
       "\n",
       "    .dataframe tbody tr th {\n",
       "        vertical-align: top;\n",
       "    }\n",
       "\n",
       "    .dataframe thead th {\n",
       "        text-align: right;\n",
       "    }\n",
       "</style>\n",
       "<table border=\"1\" class=\"dataframe\">\n",
       "  <thead>\n",
       "    <tr style=\"text-align: right;\">\n",
       "      <th></th>\n",
       "      <th>name</th>\n",
       "      <th>major1</th>\n",
       "      <th>major2</th>\n",
       "      <th>city</th>\n",
       "      <th>fav_restaurant</th>\n",
       "      <th>fav_movie</th>\n",
       "      <th>has_iphone</th>\n",
       "    </tr>\n",
       "  </thead>\n",
       "  <tbody>\n",
       "    <tr>\n",
       "      <th>0</th>\n",
       "      <td>Nishita Amberkar</td>\n",
       "      <td>Computer Engineering</td>\n",
       "      <td>Marketing</td>\n",
       "      <td>Fairfax</td>\n",
       "      <td>Chick-fil-a</td>\n",
       "      <td>Ford vs Ferrari</td>\n",
       "      <td>False</td>\n",
       "    </tr>\n",
       "    <tr>\n",
       "      <th>1</th>\n",
       "      <td>Alvino Angelo</td>\n",
       "      <td>Computer Science</td>\n",
       "      <td>NaN</td>\n",
       "      <td>Jakarta</td>\n",
       "      <td>Chipotle</td>\n",
       "      <td>Edge of Tomorrow</td>\n",
       "      <td>False</td>\n",
       "    </tr>\n",
       "    <tr>\n",
       "      <th>2</th>\n",
       "      <td>Guadalupe Badillo</td>\n",
       "      <td>Finance in Agribusiness</td>\n",
       "      <td>Marketing</td>\n",
       "      <td>Chicago</td>\n",
       "      <td>Fiaschetteria</td>\n",
       "      <td>Toy Story</td>\n",
       "      <td>True</td>\n",
       "    </tr>\n",
       "    <tr>\n",
       "      <th>3</th>\n",
       "      <td>Denise Bahena</td>\n",
       "      <td>Information Sciences</td>\n",
       "      <td>NaN</td>\n",
       "      <td>Chicago</td>\n",
       "      <td>Chipotle</td>\n",
       "      <td>Little Women</td>\n",
       "      <td>False</td>\n",
       "    </tr>\n",
       "    <tr>\n",
       "      <th>4</th>\n",
       "      <td>Arnav Batta</td>\n",
       "      <td>Computer Science</td>\n",
       "      <td>T&amp;M</td>\n",
       "      <td>Palatine</td>\n",
       "      <td>Huaraches Moroleon</td>\n",
       "      <td>Interstellar</td>\n",
       "      <td>True</td>\n",
       "    </tr>\n",
       "  </tbody>\n",
       "</table>\n",
       "</div>"
      ],
      "text/plain": [
       "                name                   major1     major2      city  \\\n",
       "0   Nishita Amberkar     Computer Engineering  Marketing   Fairfax   \n",
       "1      Alvino Angelo         Computer Science        NaN   Jakarta   \n",
       "2  Guadalupe Badillo  Finance in Agribusiness  Marketing   Chicago   \n",
       "3      Denise Bahena     Information Sciences        NaN   Chicago   \n",
       "4        Arnav Batta         Computer Science        T&M  Palatine   \n",
       "\n",
       "       fav_restaurant         fav_movie  has_iphone  \n",
       "0         Chick-fil-a   Ford vs Ferrari       False  \n",
       "1            Chipotle  Edge of Tomorrow       False  \n",
       "2       Fiaschetteria         Toy Story        True  \n",
       "3            Chipotle      Little Women       False  \n",
       "4  Huaraches Moroleon      Interstellar        True  "
      ]
     },
     "execution_count": 10,
     "metadata": {},
     "output_type": "execute_result"
    }
   ],
   "source": [
    "### BEGIN SOLUTION\n",
    "df_you.head()\n",
    "### END SOLUTION"
   ]
  },
  {
   "cell_type": "markdown",
   "metadata": {
    "id": "TwWyyaQPem7q"
   },
   "source": [
    "▶️ Run `df_you.tail(4)` to print the first 4 rows of `df_you`."
   ]
  },
  {
   "cell_type": "code",
   "execution_count": 11,
   "metadata": {
    "colab": {
     "base_uri": "https://localhost:8080/"
    },
    "id": "OoYuVAyhem7q",
    "outputId": "8eea66d1-ee93-464c-9889-346fd512d07a"
   },
   "outputs": [
    {
     "data": {
      "text/html": [
       "<div>\n",
       "<style scoped>\n",
       "    .dataframe tbody tr th:only-of-type {\n",
       "        vertical-align: middle;\n",
       "    }\n",
       "\n",
       "    .dataframe tbody tr th {\n",
       "        vertical-align: top;\n",
       "    }\n",
       "\n",
       "    .dataframe thead th {\n",
       "        text-align: right;\n",
       "    }\n",
       "</style>\n",
       "<table border=\"1\" class=\"dataframe\">\n",
       "  <thead>\n",
       "    <tr style=\"text-align: right;\">\n",
       "      <th></th>\n",
       "      <th>name</th>\n",
       "      <th>major1</th>\n",
       "      <th>major2</th>\n",
       "      <th>city</th>\n",
       "      <th>fav_restaurant</th>\n",
       "      <th>fav_movie</th>\n",
       "      <th>has_iphone</th>\n",
       "    </tr>\n",
       "  </thead>\n",
       "  <tbody>\n",
       "    <tr>\n",
       "      <th>40</th>\n",
       "      <td>Jasmine Yuan</td>\n",
       "      <td>Information Sciences</td>\n",
       "      <td>NaN</td>\n",
       "      <td>Aurora</td>\n",
       "      <td>In-n-Out</td>\n",
       "      <td>Minions</td>\n",
       "      <td>True</td>\n",
       "    </tr>\n",
       "    <tr>\n",
       "      <th>41</th>\n",
       "      <td>Kelly Yuen</td>\n",
       "      <td>Information Sciences</td>\n",
       "      <td>NaN</td>\n",
       "      <td>Chicago</td>\n",
       "      <td>Cravings</td>\n",
       "      <td>Everything Everywhere All at Once</td>\n",
       "      <td>False</td>\n",
       "    </tr>\n",
       "    <tr>\n",
       "      <th>42</th>\n",
       "      <td>Alejandro Zenteno</td>\n",
       "      <td>Community Health</td>\n",
       "      <td>Business</td>\n",
       "      <td>Chicago</td>\n",
       "      <td>Giordanos</td>\n",
       "      <td>Avengers</td>\n",
       "      <td>True</td>\n",
       "    </tr>\n",
       "    <tr>\n",
       "      <th>43</th>\n",
       "      <td>Brianna Zhang</td>\n",
       "      <td>Computer Science</td>\n",
       "      <td>NaN</td>\n",
       "      <td>Los Gatos</td>\n",
       "      <td>Lao Sze Chuan</td>\n",
       "      <td>Our Beloved Summer</td>\n",
       "      <td>True</td>\n",
       "    </tr>\n",
       "  </tbody>\n",
       "</table>\n",
       "</div>"
      ],
      "text/plain": [
       "                 name                major1    major2       city  \\\n",
       "40       Jasmine Yuan  Information Sciences       NaN     Aurora   \n",
       "41         Kelly Yuen  Information Sciences       NaN    Chicago   \n",
       "42  Alejandro Zenteno      Community Health  Business    Chicago   \n",
       "43      Brianna Zhang      Computer Science       NaN  Los Gatos   \n",
       "\n",
       "   fav_restaurant                          fav_movie  has_iphone  \n",
       "40       In-n-Out                            Minions        True  \n",
       "41       Cravings  Everything Everywhere All at Once       False  \n",
       "42      Giordanos                           Avengers        True  \n",
       "43  Lao Sze Chuan                 Our Beloved Summer        True  "
      ]
     },
     "execution_count": 11,
     "metadata": {},
     "output_type": "execute_result"
    }
   ],
   "source": [
    "### BEGIN SOLUTION\n",
    "df_you.tail(4)\n",
    "### END SOLUTION"
   ]
  },
  {
   "cell_type": "markdown",
   "metadata": {
    "id": "TwWyyaQPem7q"
   },
   "source": [
    "▶️ Run `df_you.sample(3)` to print 3 randomly sampled rows from `df_you`."
   ]
  },
  {
   "cell_type": "code",
   "execution_count": 12,
   "metadata": {
    "colab": {
     "base_uri": "https://localhost:8080/"
    },
    "id": "OoYuVAyhem7q",
    "outputId": "8eea66d1-ee93-464c-9889-346fd512d07a"
   },
   "outputs": [
    {
     "data": {
      "text/html": [
       "<div>\n",
       "<style scoped>\n",
       "    .dataframe tbody tr th:only-of-type {\n",
       "        vertical-align: middle;\n",
       "    }\n",
       "\n",
       "    .dataframe tbody tr th {\n",
       "        vertical-align: top;\n",
       "    }\n",
       "\n",
       "    .dataframe thead th {\n",
       "        text-align: right;\n",
       "    }\n",
       "</style>\n",
       "<table border=\"1\" class=\"dataframe\">\n",
       "  <thead>\n",
       "    <tr style=\"text-align: right;\">\n",
       "      <th></th>\n",
       "      <th>name</th>\n",
       "      <th>major1</th>\n",
       "      <th>major2</th>\n",
       "      <th>city</th>\n",
       "      <th>fav_restaurant</th>\n",
       "      <th>fav_movie</th>\n",
       "      <th>has_iphone</th>\n",
       "    </tr>\n",
       "  </thead>\n",
       "  <tbody>\n",
       "    <tr>\n",
       "      <th>35</th>\n",
       "      <td>Ethan Wee</td>\n",
       "      <td>Information Sciences</td>\n",
       "      <td>NaN</td>\n",
       "      <td>Atherton</td>\n",
       "      <td>In-n-Out</td>\n",
       "      <td>Airplane</td>\n",
       "      <td>True</td>\n",
       "    </tr>\n",
       "    <tr>\n",
       "      <th>25</th>\n",
       "      <td>Alekhya Nathella</td>\n",
       "      <td>Information Sciences</td>\n",
       "      <td>NaN</td>\n",
       "      <td>Naperville</td>\n",
       "      <td>Chipotle</td>\n",
       "      <td>Moana</td>\n",
       "      <td>True</td>\n",
       "    </tr>\n",
       "    <tr>\n",
       "      <th>0</th>\n",
       "      <td>Nishita Amberkar</td>\n",
       "      <td>Computer Engineering</td>\n",
       "      <td>Marketing</td>\n",
       "      <td>Fairfax</td>\n",
       "      <td>Chick-fil-a</td>\n",
       "      <td>Ford vs Ferrari</td>\n",
       "      <td>False</td>\n",
       "    </tr>\n",
       "  </tbody>\n",
       "</table>\n",
       "</div>"
      ],
      "text/plain": [
       "                name                major1     major2        city  \\\n",
       "35         Ethan Wee  Information Sciences        NaN    Atherton   \n",
       "25  Alekhya Nathella  Information Sciences        NaN  Naperville   \n",
       "0   Nishita Amberkar  Computer Engineering  Marketing     Fairfax   \n",
       "\n",
       "   fav_restaurant        fav_movie  has_iphone  \n",
       "35       In-n-Out         Airplane        True  \n",
       "25       Chipotle            Moana        True  \n",
       "0     Chick-fil-a  Ford vs Ferrari       False  "
      ]
     },
     "execution_count": 12,
     "metadata": {},
     "output_type": "execute_result"
    }
   ],
   "source": [
    "### BEGIN SOLUTION\n",
    "df_you.sample(3)\n",
    "### END SOLUTION"
   ]
  },
  {
   "cell_type": "code",
   "execution_count": 13,
   "metadata": {
    "nbgrader": {
     "grade": true,
     "grade_id": "challenge-03",
     "locked": true,
     "points": "1",
     "solution": false
    }
   },
   "outputs": [],
   "source": [
    "# Autograder"
   ]
  },
  {
   "cell_type": "markdown",
   "metadata": {
    "id": "hgU6chDUem7o"
   },
   "source": [
    "---\n",
    "\n",
    "### 📌 Number of rows and columns in a `DataFrame`"
   ]
  },
  {
   "cell_type": "markdown",
   "metadata": {
    "id": "3w2j6dSFem7p"
   },
   "source": [
    "👉 How many rows and columns does `df_you` have?\n",
    "\n",
    "▶️ Run `df_you.shape` below to see the *shape* (number of rows and columns) of the database."
   ]
  },
  {
   "cell_type": "code",
   "execution_count": 14,
   "metadata": {
    "colab": {
     "base_uri": "https://localhost:8080/"
    },
    "id": "go7OUMtTem7p",
    "outputId": "cfb21812-0eef-4bc8-e2a0-fc11756ce7a0"
   },
   "outputs": [
    {
     "data": {
      "text/plain": [
       "(44, 7)"
      ]
     },
     "execution_count": 14,
     "metadata": {},
     "output_type": "execute_result"
    }
   ],
   "source": [
    "### BEGIN SOLUTION\n",
    "df_you.shape\n",
    "### END SOLUTION"
   ]
  },
  {
   "cell_type": "markdown",
   "metadata": {
    "id": "7J--UYFvem7p"
   },
   "source": [
    "👉 Can you store the number of rows and columns to variables?\n",
    "\n",
    "---\n",
    "\n",
    "- `df_you.shape` returns a `tuple` in `(num_rows, num_cols)` format. \n",
    "- What is a `tuple`? 🙀\n",
    "- A `tuple` is a `list` that cannot be modified once created.\n",
    "\n",
    "▶️ Run the code cell below to see how a `tuple` is nearly identical to a `list`."
   ]
  },
  {
   "cell_type": "code",
   "execution_count": 15,
   "metadata": {
    "colab": {
     "base_uri": "https://localhost:8080/"
    },
    "id": "vAnEKnhUem7p",
    "outputId": "23c744fd-7028-496b-a243-a015ea486481"
   },
   "outputs": [
    {
     "name": "stdout",
     "output_type": "stream",
     "text": [
      "my_list[1]=20\n",
      "my_tuple[1]=20\n"
     ]
    }
   ],
   "source": [
    "# These two are nearly identical,\n",
    "# The only difference is that my_tuple cannot be modified once created\n",
    "my_list = [10, 20]\n",
    "my_tuple = (10, 20)\n",
    "\n",
    "print(f\"my_list[1]={my_list[1]}\")    # prints 20\n",
    "print(f\"my_tuple[1]={my_tuple[1]}\")  # also prints 20"
   ]
  },
  {
   "cell_type": "markdown",
   "metadata": {
    "id": "OJ4qqvKIem7q"
   },
   "source": [
    "---\n",
    "\n",
    "### 🎯 Challenge 4: Find the number of rows and columns in a `DataFrame`"
   ]
  },
  {
   "cell_type": "markdown",
   "metadata": {
    "id": "TwWyyaQPem7q"
   },
   "source": [
    "#### 👇 Tasks\n",
    "\n",
    "- ✔️ Store the number of rows in `df_you` to a new variable named `num_rows`.\n",
    "- ✔️ Store the number of columns in `df_you` to a new variable named `num_cols`.\n",
    "- ✔️ Use `.shape`, not `len()`."
   ]
  },
  {
   "cell_type": "code",
   "execution_count": 16,
   "metadata": {
    "colab": {
     "base_uri": "https://localhost:8080/"
    },
    "id": "OoYuVAyhem7q",
    "outputId": "8eea66d1-ee93-464c-9889-346fd512d07a",
    "tags": []
   },
   "outputs": [
    {
     "name": "stdout",
     "output_type": "stream",
     "text": [
      "44\n",
      "7\n"
     ]
    }
   ],
   "source": [
    "### BEGIN SOLUTION\n",
    "num_rows = df_you.shape[0]\n",
    "num_cols = df_you.shape[1]\n",
    "### END SOLUTION\n",
    "\n",
    "print(num_rows)\n",
    "print(num_cols)"
   ]
  },
  {
   "cell_type": "markdown",
   "metadata": {
    "id": "EdrK-mBsem7r"
   },
   "source": [
    "#### 🧭 Check Your Work\n",
    "\n",
    "- Once you're done, run the code cell below to test correctness.\n",
    "- ✔️ If the code cell runs without an error, you're good to move on.\n",
    "- ❌ If the code cell throws an error, go back and fix incorrect parts."
   ]
  },
  {
   "cell_type": "code",
   "execution_count": 17,
   "metadata": {
    "id": "DXDG3nzpem7r",
    "nbgrader": {
     "grade": true,
     "grade_id": "challenge-04",
     "locked": true,
     "points": "1",
     "solution": false
    }
   },
   "outputs": [],
   "source": [
    "tc.assertEqual(num_rows, len(df_you.index), f\"Number of rows should be {len(df_you.index)}\")\n",
    "tc.assertEqual(num_cols, len(df_you.columns), f\"Number of columns should be {len(df_you.columns)}\")"
   ]
  },
  {
   "cell_type": "markdown",
   "metadata": {
    "id": "VsIF7Fwwem7r"
   },
   "source": [
    "---\n",
    "\n",
    "### 📌 Filtering rows"
   ]
  },
  {
   "cell_type": "markdown",
   "metadata": {
    "id": "8CxUlBg1em7r"
   },
   "source": [
    "Let's step back and go back to working with a `Series`.\n",
    "\n",
    "▶️ Create a `Series` named `nums` with the following four integers: `-20`, `-10`, `10`, `20`. "
   ]
  },
  {
   "cell_type": "code",
   "execution_count": 18,
   "metadata": {
    "id": "asoC1rwqem7s",
    "outputId": "16d9da10-fd9b-43a7-f9cf-f02220fa055f"
   },
   "outputs": [
    {
     "data": {
      "text/plain": [
       "0   -20\n",
       "1   -10\n",
       "2    10\n",
       "3    20\n",
       "dtype: int64"
      ]
     },
     "execution_count": 18,
     "metadata": {},
     "output_type": "execute_result"
    }
   ],
   "source": [
    "### BEGIN SOLUTION\n",
    "nums = pd.Series([-20, -10, 10, 20])\n",
    "### END SOLUTION\n",
    "\n",
    "nums"
   ]
  },
  {
   "cell_type": "markdown",
   "metadata": {
    "id": "UMGcKWQAem7s"
   },
   "source": [
    "👉 Is there a way *filter* the `Series` so that it only contains **positive** values? Let's first try this **manually**.\n",
    "\n",
    "▶️ Create a new `Series` named `keep` with the following four boolean values: `False`, `False`, `True`, `True`."
   ]
  },
  {
   "cell_type": "code",
   "execution_count": 19,
   "metadata": {
    "id": "u-NHJJa2em7s",
    "outputId": "c0551ddb-d8a9-4851-d4de-cb6702041310"
   },
   "outputs": [
    {
     "data": {
      "text/plain": [
       "0    False\n",
       "1    False\n",
       "2     True\n",
       "3     True\n",
       "dtype: bool"
      ]
     },
     "execution_count": 19,
     "metadata": {},
     "output_type": "execute_result"
    }
   ],
   "source": [
    "### BEGIN SOLUTION\n",
    "keep = pd.Series([False, False, True, True])\n",
    "### END SOLUTION\n",
    "\n",
    "# Check your work\n",
    "pd.testing.assert_series_equal(keep,\n",
    "                              pd.Series([0, 0, 1, 1]).astype(bool))\n",
    "\n",
    "# Display keep\n",
    "keep"
   ]
  },
  {
   "cell_type": "markdown",
   "metadata": {},
   "source": [
    "Let's visualize the two `Series` (`nums` and `keep`) you've created.\n",
    "\n",
    "![nums-and-keep](https://github.com/bdi475/images/blob/main/nums-and-keep-series.png?raw=true)"
   ]
  },
  {
   "cell_type": "markdown",
   "metadata": {
    "id": "MoPITf3Cem7s"
   },
   "source": [
    "▶️ Now, you can use the boolean `Series` to filter another `Series`. Type in `nums[keep]` below and run the cell."
   ]
  },
  {
   "cell_type": "code",
   "execution_count": 20,
   "metadata": {
    "id": "JgnCgE1iem7t",
    "outputId": "988ca472-cfbf-4a74-b398-3e7d77320d7a"
   },
   "outputs": [
    {
     "data": {
      "text/plain": [
       "2    10\n",
       "3    20\n",
       "dtype: int64"
      ]
     },
     "execution_count": 20,
     "metadata": {},
     "output_type": "execute_result"
    }
   ],
   "source": [
    "### BEGIN SOLUTION\n",
    "nums[keep]\n",
    "### END SOLUTION"
   ]
  },
  {
   "cell_type": "markdown",
   "metadata": {},
   "source": [
    "If you're confused about what just happened, the visualization below may give you a better idea.\n",
    "\n",
    "![nums-and-keep-filter-result](https://github.com/bdi475/images/blob/main/nums-and-keep-filter-result.png?raw=true)"
   ]
  },
  {
   "cell_type": "markdown",
   "metadata": {
    "id": "_QB4TJkhem7t"
   },
   "source": [
    "The syntax for filtering a `Series` is `my_series[keep]` where `keep` is a `Series` of boolean values indicating whether to keep an element or not. `keep` should have the exact same number of elements as `my_series`.\n",
    "\n",
    "▶️ **Uncomment the code cell below first** and run it to see what happens when your `keep` does not have the same number of elements as `my_series`.\n",
    "\n",
    "(⛔️ **Heads-up**: The code will throw an error! Once you're done running the cell, comment the lines.)"
   ]
  },
  {
   "cell_type": "code",
   "execution_count": 21,
   "metadata": {
    "id": "bZoV9nc3em7t"
   },
   "outputs": [],
   "source": [
    "# keep_incorrect = pd.Series([False, False, True])\n",
    "# nums[keep_incorrect]"
   ]
  },
  {
   "cell_type": "markdown",
   "metadata": {
    "id": "sk1tWg9Jem7t"
   },
   "source": [
    "👉 Is there a way *filter* the `Series` so that it only contains **positive** values? The last method we've used was inefficient. Imagine if your `Series` contains million elements. You would need to spend a few months continuously typing `True` and `False`! 🤡\n",
    "\n",
    "As a data analyst, your goal is to perform tasks *programmatically*.\n",
    "\n",
    "▶️ Type `keep_by_comparison = nums > 0` in the code cell below to perform a comparison on the `nums` Series."
   ]
  },
  {
   "cell_type": "code",
   "execution_count": 22,
   "metadata": {
    "id": "o4cfMPaoem7t",
    "outputId": "02d669d8-eb82-4374-c8cf-13f724b09d68"
   },
   "outputs": [
    {
     "data": {
      "text/plain": [
       "0    False\n",
       "1    False\n",
       "2     True\n",
       "3     True\n",
       "dtype: bool"
      ]
     },
     "execution_count": 22,
     "metadata": {},
     "output_type": "execute_result"
    }
   ],
   "source": [
    "### BEGIN SOLUTION\n",
    "keep_by_comparison = nums > 0\n",
    "### END SOLUTION\n",
    "\n",
    "keep_by_comparison"
   ]
  },
  {
   "cell_type": "markdown",
   "metadata": {
    "id": "y6x0xWCzem7u"
   },
   "source": [
    "Notice how `keep_by_comparison` is idential to the original `keep` Series?\n",
    "\n",
    "▶️ Use the `keep_by_comparison` to filter positive values in `nums`."
   ]
  },
  {
   "cell_type": "code",
   "execution_count": 23,
   "metadata": {
    "id": "Fqai24mKem7u",
    "outputId": "ce2b43ce-d943-4596-d294-9d0a20130045"
   },
   "outputs": [
    {
     "data": {
      "text/plain": [
       "2    10\n",
       "3    20\n",
       "dtype: int64"
      ]
     },
     "execution_count": 23,
     "metadata": {},
     "output_type": "execute_result"
    }
   ],
   "source": [
    "### BEGIN SOLUTION\n",
    "nums[keep_by_comparison]\n",
    "### END SOLUTION"
   ]
  },
  {
   "cell_type": "markdown",
   "metadata": {
    "id": "TBFHU66Gem7u"
   },
   "source": [
    "Note that applying a filter returns **a new `Series`** without modifying the original `Series`.\n",
    "\n",
    "▶️ Run the code below."
   ]
  },
  {
   "cell_type": "code",
   "execution_count": 24,
   "metadata": {
    "id": "e8BEoiO4em7u",
    "outputId": "da6d8c9a-e56f-431b-91ba-1fd1680fa494"
   },
   "outputs": [
    {
     "name": "stdout",
     "output_type": "stream",
     "text": [
      "Negative Values (filtered):\n"
     ]
    },
    {
     "data": {
      "text/plain": [
       "0   -20\n",
       "1   -10\n",
       "dtype: int64"
      ]
     },
     "metadata": {},
     "output_type": "display_data"
    },
    {
     "name": "stdout",
     "output_type": "stream",
     "text": [
      "\n",
      "\n",
      "Original Values:\n"
     ]
    },
    {
     "data": {
      "text/plain": [
       "0   -20\n",
       "1   -10\n",
       "2    10\n",
       "3    20\n",
       "dtype: int64"
      ]
     },
     "metadata": {},
     "output_type": "display_data"
    }
   ],
   "source": [
    "print(\"Negative Values (filtered):\")\n",
    "display(nums[nums < 10])\n",
    "\n",
    "print(\"\\n\\nOriginal Values:\")\n",
    "display(nums)"
   ]
  },
  {
   "cell_type": "markdown",
   "metadata": {
    "id": "krFaYS9Hem7u"
   },
   "source": [
    "---\n",
    "\n",
    "### 🎯 Challenge 5: Filter even numbers"
   ]
  },
  {
   "cell_type": "markdown",
   "metadata": {
    "id": "Iyt-q8KRem7v"
   },
   "source": [
    "#### 👇 Tasks\n",
    "\n",
    "- ✔️ Using `all_nums`, filter only even numbers.\n",
    "    - Store the result to a new variable named `even_nums`.\n",
    "- ✔️ `all_nums` should remain unaltered after your code."
   ]
  },
  {
   "cell_type": "markdown",
   "metadata": {
    "id": "Yyt2-xOaem7v"
   },
   "source": [
    "#### 🚀 Hints\n",
    "\n",
    "- Use the modulo operator (`%`) to check whether a number is even.\n",
    "    - `some_num % 2 == 0`"
   ]
  },
  {
   "cell_type": "code",
   "execution_count": 25,
   "metadata": {
    "id": "KbnAsgt-em7v",
    "outputId": "c06fef7f-d0bb-41a0-8dec-08388bac4e72"
   },
   "outputs": [
    {
     "data": {
      "text/plain": [
       "0    2\n",
       "2    4\n",
       "3    8\n",
       "4   -2\n",
       "8    4\n",
       "dtype: int64"
      ]
     },
     "execution_count": 25,
     "metadata": {},
     "output_type": "execute_result"
    }
   ],
   "source": [
    "all_nums = pd.Series([2, 5, 4, 8, -2, -5, -11, 13, 4])\n",
    "\n",
    "### BEGIN SOLUTION\n",
    "even_nums = all_nums[all_nums % 2 == 0]\n",
    "### END SOLUTION\n",
    "\n",
    "even_nums"
   ]
  },
  {
   "cell_type": "markdown",
   "metadata": {
    "id": "ldRi46SUem7v"
   },
   "source": [
    "#### 🧭 Check Your Work\n",
    "\n",
    "- Once you're done, run the code cell below to test correctness.\n",
    "- ✔️ If the code cell runs without an error, you're good to move on.\n",
    "- ❌ If the code cell throws an error, go back and fix incorrect parts."
   ]
  },
  {
   "cell_type": "code",
   "execution_count": 26,
   "metadata": {
    "id": "QAMH76H2em7v",
    "nbgrader": {
     "grade": true,
     "grade_id": "challenge-05",
     "locked": true,
     "points": "1",
     "solution": false
    }
   },
   "outputs": [],
   "source": [
    "pd.testing.assert_series_equal(all_nums, pd.Series([2, 5, 4, 8, -2, -5, -11, 13, 4]))\n",
    "pd.testing.assert_series_equal(even_nums.reset_index(drop=True),\n",
    "                               pd.Series([2, 4, 8, -2, 4]))"
   ]
  },
  {
   "cell_type": "markdown",
   "metadata": {},
   "source": [
    "---\n",
    "\n",
    "### 📌 Filtering a `DataFrame`"
   ]
  },
  {
   "cell_type": "markdown",
   "metadata": {},
   "source": [
    "👉 I will keep saying this. A `DataFrame` is a combination of one or more columns. Filtering a `DataFrame` is very similar to filtering a `Series`.\n",
    "\n",
    "▶️ Run the code cell below to create a new `DataFrame` named `df`."
   ]
  },
  {
   "cell_type": "code",
   "execution_count": 27,
   "metadata": {},
   "outputs": [
    {
     "data": {
      "text/html": [
       "<div>\n",
       "<style scoped>\n",
       "    .dataframe tbody tr th:only-of-type {\n",
       "        vertical-align: middle;\n",
       "    }\n",
       "\n",
       "    .dataframe tbody tr th {\n",
       "        vertical-align: top;\n",
       "    }\n",
       "\n",
       "    .dataframe thead th {\n",
       "        text-align: right;\n",
       "    }\n",
       "</style>\n",
       "<table border=\"1\" class=\"dataframe\">\n",
       "  <thead>\n",
       "    <tr style=\"text-align: right;\">\n",
       "      <th></th>\n",
       "      <th>name</th>\n",
       "      <th>amount</th>\n",
       "    </tr>\n",
       "  </thead>\n",
       "  <tbody>\n",
       "    <tr>\n",
       "      <th>0</th>\n",
       "      <td>John</td>\n",
       "      <td>-20</td>\n",
       "    </tr>\n",
       "    <tr>\n",
       "      <th>1</th>\n",
       "      <td>Mary</td>\n",
       "      <td>-10</td>\n",
       "    </tr>\n",
       "    <tr>\n",
       "      <th>2</th>\n",
       "      <td>Tom</td>\n",
       "      <td>10</td>\n",
       "    </tr>\n",
       "    <tr>\n",
       "      <th>3</th>\n",
       "      <td>John</td>\n",
       "      <td>20</td>\n",
       "    </tr>\n",
       "  </tbody>\n",
       "</table>\n",
       "</div>"
      ],
      "text/plain": [
       "   name  amount\n",
       "0  John     -20\n",
       "1  Mary     -10\n",
       "2   Tom      10\n",
       "3  John      20"
      ]
     },
     "execution_count": 27,
     "metadata": {},
     "output_type": "execute_result"
    }
   ],
   "source": [
    "df = pd.DataFrame({\"name\": [\"John\", \"Mary\", \"Tom\", \"John\"], \"amount\": [-20, -10, 10, 20]})\n",
    "\n",
    "df"
   ]
  },
  {
   "cell_type": "markdown",
   "metadata": {},
   "source": [
    "To only keep rows where the `name` is `'John'`, we can again supply a `Series` of boolean values. Only the first and last row of the `DataFrame` contain `'John'`.\n",
    "\n",
    "▶️ Create a new `Series` named `is_john` with the following boolean values - `True`, `False`, `False`, `True`."
   ]
  },
  {
   "cell_type": "code",
   "execution_count": 28,
   "metadata": {},
   "outputs": [
    {
     "data": {
      "text/plain": [
       "0     True\n",
       "1    False\n",
       "2    False\n",
       "3     True\n",
       "dtype: bool"
      ]
     },
     "execution_count": 28,
     "metadata": {},
     "output_type": "execute_result"
    }
   ],
   "source": [
    "### BEGIN SOLUTION\n",
    "is_john = pd.Series([True, False, False, True])\n",
    "### END SOLUTION\n",
    "\n",
    "# Check your work\n",
    "tc.assertEqual(is_john.to_list(), pd.Series([1, 0, 0, 1]).astype(bool).to_list())\n",
    "\n",
    "# Display keep\n",
    "is_john"
   ]
  },
  {
   "cell_type": "markdown",
   "metadata": {},
   "source": [
    "▶️ Type `result = df[is_john]` in the code cell below and run it."
   ]
  },
  {
   "cell_type": "code",
   "execution_count": 29,
   "metadata": {},
   "outputs": [
    {
     "data": {
      "text/html": [
       "<div>\n",
       "<style scoped>\n",
       "    .dataframe tbody tr th:only-of-type {\n",
       "        vertical-align: middle;\n",
       "    }\n",
       "\n",
       "    .dataframe tbody tr th {\n",
       "        vertical-align: top;\n",
       "    }\n",
       "\n",
       "    .dataframe thead th {\n",
       "        text-align: right;\n",
       "    }\n",
       "</style>\n",
       "<table border=\"1\" class=\"dataframe\">\n",
       "  <thead>\n",
       "    <tr style=\"text-align: right;\">\n",
       "      <th></th>\n",
       "      <th>name</th>\n",
       "      <th>amount</th>\n",
       "    </tr>\n",
       "  </thead>\n",
       "  <tbody>\n",
       "    <tr>\n",
       "      <th>0</th>\n",
       "      <td>John</td>\n",
       "      <td>-20</td>\n",
       "    </tr>\n",
       "    <tr>\n",
       "      <th>3</th>\n",
       "      <td>John</td>\n",
       "      <td>20</td>\n",
       "    </tr>\n",
       "  </tbody>\n",
       "</table>\n",
       "</div>"
      ],
      "text/plain": [
       "   name  amount\n",
       "0  John     -20\n",
       "3  John      20"
      ]
     },
     "execution_count": 29,
     "metadata": {},
     "output_type": "execute_result"
    }
   ],
   "source": [
    "### BEGIN SOLUTION\n",
    "result = df[is_john]\n",
    "### END SOLUTION\n",
    "\n",
    "result"
   ]
  },
  {
   "cell_type": "markdown",
   "metadata": {},
   "source": [
    "Here is a visualization of how `df[john]` works.\n",
    "\n",
    "![mini-dataframe-filter-rows](https://github.com/bdi475/images/blob/main/filter-mini-dataframe-result.png?raw=true)"
   ]
  },
  {
   "cell_type": "markdown",
   "metadata": {},
   "source": [
    "---\n",
    "\n",
    "### 🎯 Challenge 6: Find all positive transactions"
   ]
  },
  {
   "cell_type": "markdown",
   "metadata": {},
   "source": [
    "#### 👇 Tasks\n",
    "\n",
    "- ✔️ Given `df`, filter rows with positive `amount` values.\n",
    "    - Store the result to a new variable named `df_pos`.\n",
    "    - `df_pos` should be a `DataFrame`.\n",
    "- ✔️ `df` should remain unaltered after running your code."
   ]
  },
  {
   "cell_type": "markdown",
   "metadata": {},
   "source": [
    "▶️ Run the code cell below to create `df`."
   ]
  },
  {
   "cell_type": "code",
   "execution_count": 30,
   "metadata": {},
   "outputs": [
    {
     "data": {
      "text/html": [
       "<div>\n",
       "<style scoped>\n",
       "    .dataframe tbody tr th:only-of-type {\n",
       "        vertical-align: middle;\n",
       "    }\n",
       "\n",
       "    .dataframe tbody tr th {\n",
       "        vertical-align: top;\n",
       "    }\n",
       "\n",
       "    .dataframe thead th {\n",
       "        text-align: right;\n",
       "    }\n",
       "</style>\n",
       "<table border=\"1\" class=\"dataframe\">\n",
       "  <thead>\n",
       "    <tr style=\"text-align: right;\">\n",
       "      <th></th>\n",
       "      <th>name</th>\n",
       "      <th>amount</th>\n",
       "    </tr>\n",
       "  </thead>\n",
       "  <tbody>\n",
       "    <tr>\n",
       "      <th>0</th>\n",
       "      <td>John</td>\n",
       "      <td>-20</td>\n",
       "    </tr>\n",
       "    <tr>\n",
       "      <th>1</th>\n",
       "      <td>Mary</td>\n",
       "      <td>-10</td>\n",
       "    </tr>\n",
       "    <tr>\n",
       "      <th>2</th>\n",
       "      <td>Tom</td>\n",
       "      <td>10</td>\n",
       "    </tr>\n",
       "    <tr>\n",
       "      <th>3</th>\n",
       "      <td>John</td>\n",
       "      <td>20</td>\n",
       "    </tr>\n",
       "  </tbody>\n",
       "</table>\n",
       "</div>"
      ],
      "text/plain": [
       "   name  amount\n",
       "0  John     -20\n",
       "1  Mary     -10\n",
       "2   Tom      10\n",
       "3  John      20"
      ]
     },
     "execution_count": 30,
     "metadata": {},
     "output_type": "execute_result"
    }
   ],
   "source": [
    "# DO NOT CHANGE THE CODE IN THIS CELL\n",
    "df = pd.DataFrame({\"name\": [\"John\", \"Mary\", \"Tom\", \"John\"], \"amount\": [-20, -10, 10, 20]})\n",
    "df"
   ]
  },
  {
   "cell_type": "code",
   "execution_count": 31,
   "metadata": {},
   "outputs": [
    {
     "data": {
      "text/html": [
       "<div>\n",
       "<style scoped>\n",
       "    .dataframe tbody tr th:only-of-type {\n",
       "        vertical-align: middle;\n",
       "    }\n",
       "\n",
       "    .dataframe tbody tr th {\n",
       "        vertical-align: top;\n",
       "    }\n",
       "\n",
       "    .dataframe thead th {\n",
       "        text-align: right;\n",
       "    }\n",
       "</style>\n",
       "<table border=\"1\" class=\"dataframe\">\n",
       "  <thead>\n",
       "    <tr style=\"text-align: right;\">\n",
       "      <th></th>\n",
       "      <th>name</th>\n",
       "      <th>amount</th>\n",
       "    </tr>\n",
       "  </thead>\n",
       "  <tbody>\n",
       "    <tr>\n",
       "      <th>2</th>\n",
       "      <td>Tom</td>\n",
       "      <td>10</td>\n",
       "    </tr>\n",
       "    <tr>\n",
       "      <th>3</th>\n",
       "      <td>John</td>\n",
       "      <td>20</td>\n",
       "    </tr>\n",
       "  </tbody>\n",
       "</table>\n",
       "</div>"
      ],
      "text/plain": [
       "   name  amount\n",
       "2   Tom      10\n",
       "3  John      20"
      ]
     },
     "execution_count": 31,
     "metadata": {},
     "output_type": "execute_result"
    }
   ],
   "source": [
    "### BEGIN SOLUTION\n",
    "df_pos = df[df[\"amount\"] > 0]\n",
    "### END SOLUTION\n",
    "\n",
    "df_pos"
   ]
  },
  {
   "cell_type": "markdown",
   "metadata": {},
   "source": [
    "#### 🧭 Check your work\n",
    "\n",
    "- Once you're done, run the code cell below to test correctness.\n",
    "- ✔️ If the code cell runs without an error, you're good to move on.\n",
    "- ❌ If the code cell throws an error, go back and fix incorrect parts."
   ]
  },
  {
   "cell_type": "code",
   "execution_count": 32,
   "metadata": {
    "nbgrader": {
     "grade": true,
     "grade_id": "challenge-06",
     "locked": true,
     "points": "1",
     "solution": false
    }
   },
   "outputs": [],
   "source": [
    "df_check = pd.DataFrame({\"name\": [\"John\", \"Mary\", \"Tom\", \"John\"], \"amount\": [-20, -10, 10, 20]})\n",
    "\n",
    "pd.testing.assert_frame_equal(df, df_check)\n",
    "pd.testing.assert_frame_equal(df_pos.reset_index(drop=True),\n",
    "                              df_check.iloc[[2, 3]].reset_index(drop=True))"
   ]
  },
  {
   "cell_type": "markdown",
   "metadata": {},
   "source": [
    "---\n",
    "\n",
    "### 📌 Logical operators in pandas `Series`"
   ]
  },
  {
   "cell_type": "markdown",
   "metadata": {},
   "source": [
    "👉 There are only three *logical* operators in Pandas you need to remember.\n",
    "\n",
    "- `&`: Logical **AND**\n",
    "- `|`: Logical **OR**\n",
    "- `~`: Logical **NOT**\n",
    "\n",
    "These operators perform element-wise *logical* operations."
   ]
  },
  {
   "cell_type": "markdown",
   "metadata": {},
   "source": [
    "#### 📍 Logical AND"
   ]
  },
  {
   "cell_type": "markdown",
   "metadata": {},
   "source": [
    "👉 A logical AND operator `&` returns `True` only if both the operands are `True`.\n",
    "\n",
    "![s1_AND_s2](https://github.com/bdi475/images/blob/main/s1-AND-s2.png?raw=true)"
   ]
  },
  {
   "cell_type": "markdown",
   "metadata": {},
   "source": [
    "▶️ Perform a logical AND operation (`&`) on `s1` and `s2` and store the result to a new variable named `s1_AND_s2`."
   ]
  },
  {
   "cell_type": "code",
   "execution_count": 33,
   "metadata": {},
   "outputs": [
    {
     "data": {
      "text/html": [
       "<div>\n",
       "<style scoped>\n",
       "    .dataframe tbody tr th:only-of-type {\n",
       "        vertical-align: middle;\n",
       "    }\n",
       "\n",
       "    .dataframe tbody tr th {\n",
       "        vertical-align: top;\n",
       "    }\n",
       "\n",
       "    .dataframe thead th {\n",
       "        text-align: right;\n",
       "    }\n",
       "</style>\n",
       "<table border=\"1\" class=\"dataframe\">\n",
       "  <thead>\n",
       "    <tr style=\"text-align: right;\">\n",
       "      <th></th>\n",
       "      <th>s1</th>\n",
       "      <th>s2</th>\n",
       "      <th>s1_AND_s2</th>\n",
       "    </tr>\n",
       "  </thead>\n",
       "  <tbody>\n",
       "    <tr>\n",
       "      <th>0</th>\n",
       "      <td>True</td>\n",
       "      <td>True</td>\n",
       "      <td>True</td>\n",
       "    </tr>\n",
       "    <tr>\n",
       "      <th>1</th>\n",
       "      <td>True</td>\n",
       "      <td>False</td>\n",
       "      <td>False</td>\n",
       "    </tr>\n",
       "    <tr>\n",
       "      <th>2</th>\n",
       "      <td>False</td>\n",
       "      <td>True</td>\n",
       "      <td>False</td>\n",
       "    </tr>\n",
       "    <tr>\n",
       "      <th>3</th>\n",
       "      <td>False</td>\n",
       "      <td>False</td>\n",
       "      <td>False</td>\n",
       "    </tr>\n",
       "  </tbody>\n",
       "</table>\n",
       "</div>"
      ],
      "text/plain": [
       "      s1     s2  s1_AND_s2\n",
       "0   True   True       True\n",
       "1   True  False      False\n",
       "2  False   True      False\n",
       "3  False  False      False"
      ]
     },
     "execution_count": 33,
     "metadata": {},
     "output_type": "execute_result"
    }
   ],
   "source": [
    "s1 = pd.Series([True, True, False, False])\n",
    "s2 = pd.Series([True, False, True, False])\n",
    "\n",
    "### BEGIN SOLUTION\n",
    "s1_AND_s2 = s1 & s2\n",
    "### END SOLUTION\n",
    "\n",
    "# 🧭 Check your work\n",
    "pd.testing.assert_series_equal(s1_AND_s2, pd.Series([1, 0, 0, 0]).astype(bool))\n",
    "\n",
    "# Display s1, s2, s1_AND_S2 together as a DataFrame\n",
    "pd.DataFrame({\"s1\": s1, \"s2\": s2, \"s1_AND_s2\": s1_AND_s2})"
   ]
  },
  {
   "cell_type": "markdown",
   "metadata": {},
   "source": [
    "#### 📍 Logical OR"
   ]
  },
  {
   "cell_type": "markdown",
   "metadata": {},
   "source": [
    "👉 A logical OR operator `|` returns `True` if either of the operands is `True`.\n",
    "\n",
    "![s1_OR_s2](https://github.com/bdi475/images/blob/main/s1-OR-s2.png?raw=true)"
   ]
  },
  {
   "cell_type": "markdown",
   "metadata": {},
   "source": [
    "▶️ Perform a logical OR operation (`|`) on `s1` and `s2` and store the result to a new variable named `s1_OR_s2`."
   ]
  },
  {
   "cell_type": "code",
   "execution_count": 34,
   "metadata": {},
   "outputs": [
    {
     "data": {
      "text/html": [
       "<div>\n",
       "<style scoped>\n",
       "    .dataframe tbody tr th:only-of-type {\n",
       "        vertical-align: middle;\n",
       "    }\n",
       "\n",
       "    .dataframe tbody tr th {\n",
       "        vertical-align: top;\n",
       "    }\n",
       "\n",
       "    .dataframe thead th {\n",
       "        text-align: right;\n",
       "    }\n",
       "</style>\n",
       "<table border=\"1\" class=\"dataframe\">\n",
       "  <thead>\n",
       "    <tr style=\"text-align: right;\">\n",
       "      <th></th>\n",
       "      <th>s1</th>\n",
       "      <th>s2</th>\n",
       "      <th>s1_OR_s2</th>\n",
       "    </tr>\n",
       "  </thead>\n",
       "  <tbody>\n",
       "    <tr>\n",
       "      <th>0</th>\n",
       "      <td>True</td>\n",
       "      <td>True</td>\n",
       "      <td>True</td>\n",
       "    </tr>\n",
       "    <tr>\n",
       "      <th>1</th>\n",
       "      <td>True</td>\n",
       "      <td>False</td>\n",
       "      <td>True</td>\n",
       "    </tr>\n",
       "    <tr>\n",
       "      <th>2</th>\n",
       "      <td>False</td>\n",
       "      <td>True</td>\n",
       "      <td>True</td>\n",
       "    </tr>\n",
       "    <tr>\n",
       "      <th>3</th>\n",
       "      <td>False</td>\n",
       "      <td>False</td>\n",
       "      <td>False</td>\n",
       "    </tr>\n",
       "  </tbody>\n",
       "</table>\n",
       "</div>"
      ],
      "text/plain": [
       "      s1     s2  s1_OR_s2\n",
       "0   True   True      True\n",
       "1   True  False      True\n",
       "2  False   True      True\n",
       "3  False  False     False"
      ]
     },
     "execution_count": 34,
     "metadata": {},
     "output_type": "execute_result"
    }
   ],
   "source": [
    "s1 = pd.Series([True, True, False, False])\n",
    "s2 = pd.Series([True, False, True, False])\n",
    "\n",
    "### BEGIN SOLUTION\n",
    "s1_OR_s2 = s1 | s2\n",
    "### END SOLUTION\n",
    "\n",
    "# 🧭 Check your work\n",
    "pd.testing.assert_series_equal(s1_OR_s2, pd.Series([1, 1, 1, 0]).astype(bool))\n",
    "\n",
    "# Display s1, s2, s1_OR_s2 together as a DataFrame\n",
    "pd.DataFrame({\"s1\": s1,\n",
    "              \"s2\": s2,\n",
    "              \"s1_OR_s2\": s1_OR_s2})"
   ]
  },
  {
   "cell_type": "markdown",
   "metadata": {},
   "source": [
    "#### 📍 Logical NOT"
   ]
  },
  {
   "cell_type": "markdown",
   "metadata": {},
   "source": [
    "👉 A logical NOT operator `~` reverses each operand.\n",
    "\n",
    "![NOT_s1](https://github.com/bdi475/images/blob/main/NOT-s1.png?raw=true)"
   ]
  },
  {
   "cell_type": "markdown",
   "metadata": {},
   "source": [
    "▶️ Perform a logical OR operation (`~`) on `s1` and store the result to a new variable named `NOT_s1`."
   ]
  },
  {
   "cell_type": "code",
   "execution_count": 35,
   "metadata": {},
   "outputs": [
    {
     "data": {
      "text/html": [
       "<div>\n",
       "<style scoped>\n",
       "    .dataframe tbody tr th:only-of-type {\n",
       "        vertical-align: middle;\n",
       "    }\n",
       "\n",
       "    .dataframe tbody tr th {\n",
       "        vertical-align: top;\n",
       "    }\n",
       "\n",
       "    .dataframe thead th {\n",
       "        text-align: right;\n",
       "    }\n",
       "</style>\n",
       "<table border=\"1\" class=\"dataframe\">\n",
       "  <thead>\n",
       "    <tr style=\"text-align: right;\">\n",
       "      <th></th>\n",
       "      <th>s1</th>\n",
       "      <th>NOT_s1</th>\n",
       "    </tr>\n",
       "  </thead>\n",
       "  <tbody>\n",
       "    <tr>\n",
       "      <th>0</th>\n",
       "      <td>True</td>\n",
       "      <td>False</td>\n",
       "    </tr>\n",
       "    <tr>\n",
       "      <th>1</th>\n",
       "      <td>True</td>\n",
       "      <td>False</td>\n",
       "    </tr>\n",
       "    <tr>\n",
       "      <th>2</th>\n",
       "      <td>False</td>\n",
       "      <td>True</td>\n",
       "    </tr>\n",
       "    <tr>\n",
       "      <th>3</th>\n",
       "      <td>False</td>\n",
       "      <td>True</td>\n",
       "    </tr>\n",
       "  </tbody>\n",
       "</table>\n",
       "</div>"
      ],
      "text/plain": [
       "      s1  NOT_s1\n",
       "0   True   False\n",
       "1   True   False\n",
       "2  False    True\n",
       "3  False    True"
      ]
     },
     "execution_count": 35,
     "metadata": {},
     "output_type": "execute_result"
    }
   ],
   "source": [
    "s1 = pd.Series([True, True, False, False])\n",
    "\n",
    "### BEGIN SOLUTION\n",
    "NOT_s1 = ~s1\n",
    "### END SOLUTION\n",
    "\n",
    "# 🧭 Check your work\n",
    "pd.testing.assert_series_equal(NOT_s1, pd.Series([0, 0, 1, 1]).astype(bool))\n",
    "\n",
    "# Display s1 and NOT_s1 together as a DataFrame\n",
    "pd.DataFrame({\"s1\": s1,\n",
    "              \"NOT_s1\": NOT_s1})"
   ]
  },
  {
   "cell_type": "markdown",
   "metadata": {},
   "source": [
    "---\n",
    "\n",
    "### 🎯 Challenge 7: Find John's positive transaction(s)"
   ]
  },
  {
   "cell_type": "markdown",
   "metadata": {},
   "source": [
    "#### 👇 Tasks\n",
    "\n",
    "- ✔️ Given `df`, find rows where the name is `'John'` **and** the amount is positive.\n",
    "    - Store the result to a new variable named `df_john_pos`.\n",
    "    - `df_john_and_pos` should be a `DataFrame`.\n",
    "- ✔️ `df` should remain unaltered after running your code."
   ]
  },
  {
   "cell_type": "markdown",
   "metadata": {},
   "source": [
    "#### 🚀 Hints\n",
    "\n",
    "- Create a boolean Series `is_john` using an equality comparison (`df['name'] == 'John'`).\n",
    "- Create another boolean Series `is_positive` using a *greather than* comparison (`df['amount'] > 0`).\n",
    "- Use a logical AND operator `&` to combine `is_john` and `is_positive`."
   ]
  },
  {
   "cell_type": "markdown",
   "metadata": {},
   "source": [
    "▶️ Run the code cell below to create `df`."
   ]
  },
  {
   "cell_type": "code",
   "execution_count": 36,
   "metadata": {},
   "outputs": [
    {
     "data": {
      "text/html": [
       "<div>\n",
       "<style scoped>\n",
       "    .dataframe tbody tr th:only-of-type {\n",
       "        vertical-align: middle;\n",
       "    }\n",
       "\n",
       "    .dataframe tbody tr th {\n",
       "        vertical-align: top;\n",
       "    }\n",
       "\n",
       "    .dataframe thead th {\n",
       "        text-align: right;\n",
       "    }\n",
       "</style>\n",
       "<table border=\"1\" class=\"dataframe\">\n",
       "  <thead>\n",
       "    <tr style=\"text-align: right;\">\n",
       "      <th></th>\n",
       "      <th>name</th>\n",
       "      <th>amount</th>\n",
       "    </tr>\n",
       "  </thead>\n",
       "  <tbody>\n",
       "    <tr>\n",
       "      <th>0</th>\n",
       "      <td>John</td>\n",
       "      <td>-20</td>\n",
       "    </tr>\n",
       "    <tr>\n",
       "      <th>1</th>\n",
       "      <td>Mary</td>\n",
       "      <td>-10</td>\n",
       "    </tr>\n",
       "    <tr>\n",
       "      <th>2</th>\n",
       "      <td>Tom</td>\n",
       "      <td>10</td>\n",
       "    </tr>\n",
       "    <tr>\n",
       "      <th>3</th>\n",
       "      <td>John</td>\n",
       "      <td>20</td>\n",
       "    </tr>\n",
       "  </tbody>\n",
       "</table>\n",
       "</div>"
      ],
      "text/plain": [
       "   name  amount\n",
       "0  John     -20\n",
       "1  Mary     -10\n",
       "2   Tom      10\n",
       "3  John      20"
      ]
     },
     "execution_count": 36,
     "metadata": {},
     "output_type": "execute_result"
    }
   ],
   "source": [
    "# DO NOT CHANGE THE CODE IN THIS CELL\n",
    "df = pd.DataFrame({\"name\": [\"John\", \"Mary\", \"Tom\", \"John\"], \"amount\": [-20, -10, 10, 20]})\n",
    "df"
   ]
  },
  {
   "cell_type": "code",
   "execution_count": 37,
   "metadata": {},
   "outputs": [
    {
     "data": {
      "text/html": [
       "<div>\n",
       "<style scoped>\n",
       "    .dataframe tbody tr th:only-of-type {\n",
       "        vertical-align: middle;\n",
       "    }\n",
       "\n",
       "    .dataframe tbody tr th {\n",
       "        vertical-align: top;\n",
       "    }\n",
       "\n",
       "    .dataframe thead th {\n",
       "        text-align: right;\n",
       "    }\n",
       "</style>\n",
       "<table border=\"1\" class=\"dataframe\">\n",
       "  <thead>\n",
       "    <tr style=\"text-align: right;\">\n",
       "      <th></th>\n",
       "      <th>name</th>\n",
       "      <th>amount</th>\n",
       "    </tr>\n",
       "  </thead>\n",
       "  <tbody>\n",
       "    <tr>\n",
       "      <th>3</th>\n",
       "      <td>John</td>\n",
       "      <td>20</td>\n",
       "    </tr>\n",
       "  </tbody>\n",
       "</table>\n",
       "</div>"
      ],
      "text/plain": [
       "   name  amount\n",
       "3  John      20"
      ]
     },
     "execution_count": 37,
     "metadata": {},
     "output_type": "execute_result"
    }
   ],
   "source": [
    "### BEGIN SOLUTION\n",
    "is_john = df[\"name\"] == \"John\"\n",
    "is_positive = df[\"amount\"] > 0\n",
    "\n",
    "df_john_and_pos = df[is_john & is_positive]\n",
    "### END SOLUTION\n",
    "\n",
    "df_john_and_pos"
   ]
  },
  {
   "cell_type": "markdown",
   "metadata": {},
   "source": [
    "#### 🧭 Check your work\n",
    "\n",
    "- Once you're done, run the code cell below to test correctness.\n",
    "- ✔️ If the code cell runs without an error, you're good to move on.\n",
    "- ❌ If the code cell throws an error, go back and fix incorrect parts."
   ]
  },
  {
   "cell_type": "code",
   "execution_count": 38,
   "metadata": {
    "nbgrader": {
     "grade": true,
     "grade_id": "challenge-07",
     "locked": true,
     "points": "1",
     "solution": false
    }
   },
   "outputs": [],
   "source": [
    "df_check = pd.DataFrame({\"name\": [\"John\", \"Mary\", \"Tom\", \"John\"], \"amount\": [-20, -10, 10, 20]})\n",
    "\n",
    "pd.testing.assert_frame_equal(df, df_check)\n",
    "pd.testing.assert_frame_equal(df_john_and_pos.reset_index(drop=True),\n",
    "                              df_check.iloc[[3]].reset_index(drop=True))"
   ]
  },
  {
   "cell_type": "markdown",
   "metadata": {},
   "source": [
    "#### ⚜️ A diagram to help your understanding\n",
    "![is_john_AND_is_positive](https://github.com/bdi475/images/blob/main/is-john-AND-is-positive.png?raw=true)"
   ]
  },
  {
   "cell_type": "markdown",
   "metadata": {},
   "source": [
    "---\n",
    "\n",
    "### 🎯 Challenge 8: Find transactions that are made by John OR are positive"
   ]
  },
  {
   "cell_type": "markdown",
   "metadata": {},
   "source": [
    "#### 👇 Tasks\n",
    "\n",
    "- ✔️ Given `df`, find rows where the name is `\"John\"` **or** the amount is positive.\n",
    "    - Store the result to a new variable named `df_john_or_pos`.\n",
    "    - `df_john_or_pos` should be a `DataFrame`.\n",
    "- ✔️ `df` should remain unaltered after running your code."
   ]
  },
  {
   "cell_type": "markdown",
   "metadata": {},
   "source": [
    "#### 🚀 Hints\n",
    "\n",
    "- Create a boolean Series `is_john` using an equality comparison (`df['name'] == 'John'`).\n",
    "- Create another boolean Series `is_positive` using a *greather than* comparison (`df['amount'] > 0`).\n",
    "- Use a logical OR operator `|` to combine `is_john` and `is_positive`."
   ]
  },
  {
   "cell_type": "markdown",
   "metadata": {},
   "source": [
    "▶️ Run the code cell below to create `df`."
   ]
  },
  {
   "cell_type": "code",
   "execution_count": 39,
   "metadata": {},
   "outputs": [
    {
     "data": {
      "text/html": [
       "<div>\n",
       "<style scoped>\n",
       "    .dataframe tbody tr th:only-of-type {\n",
       "        vertical-align: middle;\n",
       "    }\n",
       "\n",
       "    .dataframe tbody tr th {\n",
       "        vertical-align: top;\n",
       "    }\n",
       "\n",
       "    .dataframe thead th {\n",
       "        text-align: right;\n",
       "    }\n",
       "</style>\n",
       "<table border=\"1\" class=\"dataframe\">\n",
       "  <thead>\n",
       "    <tr style=\"text-align: right;\">\n",
       "      <th></th>\n",
       "      <th>name</th>\n",
       "      <th>amount</th>\n",
       "    </tr>\n",
       "  </thead>\n",
       "  <tbody>\n",
       "    <tr>\n",
       "      <th>0</th>\n",
       "      <td>John</td>\n",
       "      <td>-20</td>\n",
       "    </tr>\n",
       "    <tr>\n",
       "      <th>1</th>\n",
       "      <td>Mary</td>\n",
       "      <td>-10</td>\n",
       "    </tr>\n",
       "    <tr>\n",
       "      <th>2</th>\n",
       "      <td>Tom</td>\n",
       "      <td>10</td>\n",
       "    </tr>\n",
       "    <tr>\n",
       "      <th>3</th>\n",
       "      <td>John</td>\n",
       "      <td>20</td>\n",
       "    </tr>\n",
       "  </tbody>\n",
       "</table>\n",
       "</div>"
      ],
      "text/plain": [
       "   name  amount\n",
       "0  John     -20\n",
       "1  Mary     -10\n",
       "2   Tom      10\n",
       "3  John      20"
      ]
     },
     "execution_count": 39,
     "metadata": {},
     "output_type": "execute_result"
    }
   ],
   "source": [
    "# DO NOT CHANGE THE CODE IN THIS CELL\n",
    "df = pd.DataFrame({\"name\": [\"John\", \"Mary\", \"Tom\", \"John\"], \"amount\": [-20, -10, 10, 20]})\n",
    "df"
   ]
  },
  {
   "cell_type": "code",
   "execution_count": 40,
   "metadata": {
    "nbgrader": {
     "grade": false,
     "locked": false,
     "solution": false
    }
   },
   "outputs": [
    {
     "data": {
      "text/html": [
       "<div>\n",
       "<style scoped>\n",
       "    .dataframe tbody tr th:only-of-type {\n",
       "        vertical-align: middle;\n",
       "    }\n",
       "\n",
       "    .dataframe tbody tr th {\n",
       "        vertical-align: top;\n",
       "    }\n",
       "\n",
       "    .dataframe thead th {\n",
       "        text-align: right;\n",
       "    }\n",
       "</style>\n",
       "<table border=\"1\" class=\"dataframe\">\n",
       "  <thead>\n",
       "    <tr style=\"text-align: right;\">\n",
       "      <th></th>\n",
       "      <th>name</th>\n",
       "      <th>amount</th>\n",
       "    </tr>\n",
       "  </thead>\n",
       "  <tbody>\n",
       "    <tr>\n",
       "      <th>0</th>\n",
       "      <td>John</td>\n",
       "      <td>-20</td>\n",
       "    </tr>\n",
       "    <tr>\n",
       "      <th>2</th>\n",
       "      <td>Tom</td>\n",
       "      <td>10</td>\n",
       "    </tr>\n",
       "    <tr>\n",
       "      <th>3</th>\n",
       "      <td>John</td>\n",
       "      <td>20</td>\n",
       "    </tr>\n",
       "  </tbody>\n",
       "</table>\n",
       "</div>"
      ],
      "text/plain": [
       "   name  amount\n",
       "0  John     -20\n",
       "2   Tom      10\n",
       "3  John      20"
      ]
     },
     "execution_count": 40,
     "metadata": {},
     "output_type": "execute_result"
    }
   ],
   "source": [
    "### BEGIN SOLUTION\n",
    "is_john = df[\"name\"] == \"John\"\n",
    "is_positive = df[\"amount\"] > 0\n",
    "\n",
    "df_john_or_pos = df[is_john | is_positive]\n",
    "### END SOLUTION\n",
    "\n",
    "df_john_or_pos"
   ]
  },
  {
   "cell_type": "markdown",
   "metadata": {},
   "source": [
    "#### 🧭 Check your work\n",
    "\n",
    "- Once you're done, run the code cell below to test correctness.\n",
    "- ✔️ If the code cell runs without an error, you're good to move on.\n",
    "- ❌ If the code cell throws an error, go back and fix incorrect parts."
   ]
  },
  {
   "cell_type": "code",
   "execution_count": 41,
   "metadata": {
    "nbgrader": {
     "grade": true,
     "grade_id": "challenge-08",
     "locked": true,
     "points": "1",
     "solution": false
    }
   },
   "outputs": [],
   "source": [
    "df_check = pd.DataFrame({\"name\": [\"John\", \"Mary\", \"Tom\", \"John\"], \"amount\": [-20, -10, 10, 20]})\n",
    "\n",
    "pd.testing.assert_frame_equal(df, df_check)\n",
    "pd.testing.assert_frame_equal(df_john_or_pos.reset_index(drop=True),\n",
    "                              df_check.iloc[[0, 2, 3]].reset_index(drop=True))"
   ]
  },
  {
   "cell_type": "markdown",
   "metadata": {},
   "source": [
    "#### ⚜️ A diagram to help your understanding\n",
    "![is_john_OR_is_positive](https://github.com/bdi475/images/blob/main/is-john-OR-is-positive.png?raw=true)"
   ]
  },
  {
   "cell_type": "markdown",
   "metadata": {},
   "source": [
    "---\n",
    "\n",
    "### 🎯 Challenge 9: Find transactions that are NOT made by John"
   ]
  },
  {
   "cell_type": "markdown",
   "metadata": {},
   "source": [
    "#### 👇 Tasks\n",
    "\n",
    "- ✔️ Given `df`, find rows where the name is NOT `'John'`.\n",
    "    - Store the result to a new variable named `df_not_john`.\n",
    "    - `df_not_john` should be a `DataFrame`.\n",
    "- ✔️ Although you can do this without the NOT operator (`~`), **your goal is to use `~`**.\n",
    "- ✔️ `df` should remain unaltered after running your code."
   ]
  },
  {
   "cell_type": "markdown",
   "metadata": {},
   "source": [
    "#### 🚀 Hints\n",
    "\n",
    "- Create a boolean Series `is_john` using an equality comparison (`df['name'] == 'John'`).\n",
    "- Use a logical NOT operator `~` to reverse `is_john`."
   ]
  },
  {
   "cell_type": "markdown",
   "metadata": {},
   "source": [
    "▶️ Run the code cell below to create `df`."
   ]
  },
  {
   "cell_type": "code",
   "execution_count": 42,
   "metadata": {},
   "outputs": [
    {
     "data": {
      "text/html": [
       "<div>\n",
       "<style scoped>\n",
       "    .dataframe tbody tr th:only-of-type {\n",
       "        vertical-align: middle;\n",
       "    }\n",
       "\n",
       "    .dataframe tbody tr th {\n",
       "        vertical-align: top;\n",
       "    }\n",
       "\n",
       "    .dataframe thead th {\n",
       "        text-align: right;\n",
       "    }\n",
       "</style>\n",
       "<table border=\"1\" class=\"dataframe\">\n",
       "  <thead>\n",
       "    <tr style=\"text-align: right;\">\n",
       "      <th></th>\n",
       "      <th>name</th>\n",
       "      <th>amount</th>\n",
       "    </tr>\n",
       "  </thead>\n",
       "  <tbody>\n",
       "    <tr>\n",
       "      <th>0</th>\n",
       "      <td>John</td>\n",
       "      <td>-20</td>\n",
       "    </tr>\n",
       "    <tr>\n",
       "      <th>1</th>\n",
       "      <td>Mary</td>\n",
       "      <td>-10</td>\n",
       "    </tr>\n",
       "    <tr>\n",
       "      <th>2</th>\n",
       "      <td>Tom</td>\n",
       "      <td>10</td>\n",
       "    </tr>\n",
       "    <tr>\n",
       "      <th>3</th>\n",
       "      <td>John</td>\n",
       "      <td>20</td>\n",
       "    </tr>\n",
       "  </tbody>\n",
       "</table>\n",
       "</div>"
      ],
      "text/plain": [
       "   name  amount\n",
       "0  John     -20\n",
       "1  Mary     -10\n",
       "2   Tom      10\n",
       "3  John      20"
      ]
     },
     "execution_count": 42,
     "metadata": {},
     "output_type": "execute_result"
    }
   ],
   "source": [
    "# DO NOT CHANGE THE CODE IN THIS CELL\n",
    "df = pd.DataFrame({\"name\": [\"John\", \"Mary\", \"Tom\", \"John\"], \"amount\": [-20, -10, 10, 20]})\n",
    "df"
   ]
  },
  {
   "cell_type": "code",
   "execution_count": 43,
   "metadata": {
    "nbgrader": {
     "grade": true,
     "grade_id": "challenge-09",
     "locked": true,
     "points": "1",
     "solution": false
    }
   },
   "outputs": [
    {
     "data": {
      "text/html": [
       "<div>\n",
       "<style scoped>\n",
       "    .dataframe tbody tr th:only-of-type {\n",
       "        vertical-align: middle;\n",
       "    }\n",
       "\n",
       "    .dataframe tbody tr th {\n",
       "        vertical-align: top;\n",
       "    }\n",
       "\n",
       "    .dataframe thead th {\n",
       "        text-align: right;\n",
       "    }\n",
       "</style>\n",
       "<table border=\"1\" class=\"dataframe\">\n",
       "  <thead>\n",
       "    <tr style=\"text-align: right;\">\n",
       "      <th></th>\n",
       "      <th>name</th>\n",
       "      <th>amount</th>\n",
       "    </tr>\n",
       "  </thead>\n",
       "  <tbody>\n",
       "    <tr>\n",
       "      <th>1</th>\n",
       "      <td>Mary</td>\n",
       "      <td>-10</td>\n",
       "    </tr>\n",
       "    <tr>\n",
       "      <th>2</th>\n",
       "      <td>Tom</td>\n",
       "      <td>10</td>\n",
       "    </tr>\n",
       "  </tbody>\n",
       "</table>\n",
       "</div>"
      ],
      "text/plain": [
       "   name  amount\n",
       "1  Mary     -10\n",
       "2   Tom      10"
      ]
     },
     "execution_count": 43,
     "metadata": {},
     "output_type": "execute_result"
    }
   ],
   "source": [
    "### BEGIN SOLUTION\n",
    "is_john = df[\"name\"] == \"John\"\n",
    "\n",
    "df_not_john = df[~is_john]\n",
    "### END SOLUTION\n",
    "\n",
    "df_not_john"
   ]
  },
  {
   "cell_type": "markdown",
   "metadata": {},
   "source": [
    "#### 🧭 Check your work\n",
    "\n",
    "- Once you're done, run the code cell below to test correctness.\n",
    "- ✔️ If the code cell runs without an error, you're good to move on.\n",
    "- ❌ If the code cell throws an error, go back and fix incorrect parts."
   ]
  },
  {
   "cell_type": "code",
   "execution_count": 44,
   "metadata": {},
   "outputs": [],
   "source": [
    "df_check = pd.DataFrame({\"name\": [\"John\", \"Mary\", \"Tom\", \"John\"], \"amount\": [-20, -10, 10, 20]})\n",
    "\n",
    "pd.testing.assert_frame_equal(df, df_check)\n",
    "pd.testing.assert_frame_equal(df_not_john.reset_index(drop=True),\n",
    "                              df_check.iloc[[1, 2]].reset_index(drop=True))"
   ]
  },
  {
   "cell_type": "markdown",
   "metadata": {},
   "source": [
    "#### ⚜️ A diagram to help your understanding\n",
    "![not_john](https://github.com/bdi475/images/blob/main/not-john.png?raw=true)"
   ]
  },
  {
   "cell_type": "markdown",
   "metadata": {
    "id": "DW30mOfZem7v"
   },
   "source": [
    "---\n",
    "\n",
    "### 📌 Element-wise comparison in a `Series`"
   ]
  },
  {
   "cell_type": "markdown",
   "metadata": {
    "id": "fv4hxUApem7v"
   },
   "source": [
    "▶️ Run the code cell below to create a new `Series` named `countries`."
   ]
  },
  {
   "cell_type": "code",
   "execution_count": 45,
   "metadata": {
    "id": "1k4Ty5tFem7w",
    "outputId": "05053357-31f1-423f-e34d-4eca1c834432"
   },
   "outputs": [
    {
     "data": {
      "text/plain": [
       "0    United States\n",
       "1             Oman\n",
       "2    United States\n",
       "3            China\n",
       "4      South Korea\n",
       "5    United States\n",
       "dtype: object"
      ]
     },
     "metadata": {},
     "output_type": "display_data"
    }
   ],
   "source": [
    "countries = pd.Series([\"United States\", \"Oman\", \"United States\",\n",
    "                       \"China\", \"South Korea\", \"United States\"])\n",
    "\n",
    "display(countries)"
   ]
  },
  {
   "cell_type": "markdown",
   "metadata": {
    "id": "2LYnIQinem7w"
   },
   "source": [
    "What happens when you perform an equality comparison on strings?\n",
    "\n",
    "▶️ Compare `countries` with the string `'United States'` using an equality comparison operator (`==`)."
   ]
  },
  {
   "cell_type": "code",
   "execution_count": 46,
   "metadata": {
    "id": "hQTcrXEdem7w",
    "outputId": "517a1aeb-baff-4938-d18a-bc415a3c6873"
   },
   "outputs": [
    {
     "data": {
      "text/plain": [
       "0     True\n",
       "1    False\n",
       "2     True\n",
       "3    False\n",
       "4    False\n",
       "5     True\n",
       "dtype: bool"
      ]
     },
     "execution_count": 46,
     "metadata": {},
     "output_type": "execute_result"
    }
   ],
   "source": [
    "### BEGIN SOLUTION\n",
    "countries == \"United States\"\n",
    "### END SOLUTION"
   ]
  },
  {
   "cell_type": "markdown",
   "metadata": {
    "id": "9uQ2Mzwvem7w"
   },
   "source": [
    "▶️ Run the code cell below to check the data type of the result."
   ]
  },
  {
   "cell_type": "code",
   "execution_count": 47,
   "metadata": {
    "id": "TeCdiCCTem7w",
    "outputId": "97f0b0f9-a4fe-40c3-8715-e35229727606"
   },
   "outputs": [
    {
     "data": {
      "text/plain": [
       "pandas.core.series.Series"
      ]
     },
     "execution_count": 47,
     "metadata": {},
     "output_type": "execute_result"
    }
   ],
   "source": [
    "type(countries == \"United States\")"
   ]
  },
  {
   "cell_type": "markdown",
   "metadata": {
    "id": "WO1sLJXdem7w"
   },
   "source": [
    "The result is **another `Series`** containing boolean (`True`/`False`) values. Pandas performs a string comparison (`my_str == 'United States'`) on **each element**.\n",
    "\n",
    "Remember, you can also supply more than one condition using the following two operators:\n",
    "\n",
    "1. logical OR (`|`)\n",
    "2. logical AND (`&`)\n",
    "\n",
    "▶️ Run the code cell below to check whether a country is **either** `'Oman'` **or** `'China'`."
   ]
  },
  {
   "cell_type": "code",
   "execution_count": 48,
   "metadata": {
    "id": "KTA8XPv_em7w",
    "outputId": "e7ccee7a-caa1-4b80-b25c-4440b2b6618f"
   },
   "outputs": [
    {
     "data": {
      "text/plain": [
       "0    False\n",
       "1     True\n",
       "2    False\n",
       "3     True\n",
       "4    False\n",
       "5    False\n",
       "dtype: bool"
      ]
     },
     "execution_count": 48,
     "metadata": {},
     "output_type": "execute_result"
    }
   ],
   "source": [
    "(countries == \"Oman\") | (countries == \"China\")"
   ]
  },
  {
   "cell_type": "code",
   "execution_count": 49,
   "metadata": {
    "id": "YwIROkUBem7x",
    "outputId": "454796e0-63f3-4b22-c296-d59317812e0f"
   },
   "outputs": [
    {
     "data": {
      "text/plain": [
       "1     Oman\n",
       "3    China\n",
       "dtype: object"
      ]
     },
     "execution_count": 49,
     "metadata": {},
     "output_type": "execute_result"
    }
   ],
   "source": [
    "countries[(countries == \"Oman\") | (countries == \"China\")]"
   ]
  },
  {
   "cell_type": "markdown",
   "metadata": {
    "id": "TpncLNBdem7x"
   },
   "source": [
    "---\n",
    "\n",
    "### 📌 Another example of filtering a `DataFrame`"
   ]
  },
  {
   "cell_type": "markdown",
   "metadata": {
    "id": "-25GoLwbem7x"
   },
   "source": [
    "▶️ Run the code cell below to create a new `DataFrame` named `df_cities`."
   ]
  },
  {
   "cell_type": "code",
   "execution_count": 50,
   "metadata": {
    "id": "o5vfs2TYem7x",
    "outputId": "ad9fafdd-bdab-4e26-c2bd-70f8c1fdbffa"
   },
   "outputs": [
    {
     "data": {
      "text/html": [
       "<div>\n",
       "<style scoped>\n",
       "    .dataframe tbody tr th:only-of-type {\n",
       "        vertical-align: middle;\n",
       "    }\n",
       "\n",
       "    .dataframe tbody tr th {\n",
       "        vertical-align: top;\n",
       "    }\n",
       "\n",
       "    .dataframe thead th {\n",
       "        text-align: right;\n",
       "    }\n",
       "</style>\n",
       "<table border=\"1\" class=\"dataframe\">\n",
       "  <thead>\n",
       "    <tr style=\"text-align: right;\">\n",
       "      <th></th>\n",
       "      <th>city</th>\n",
       "      <th>country</th>\n",
       "      <th>population</th>\n",
       "    </tr>\n",
       "  </thead>\n",
       "  <tbody>\n",
       "    <tr>\n",
       "      <th>0</th>\n",
       "      <td>Lisle</td>\n",
       "      <td>United States</td>\n",
       "      <td>23270</td>\n",
       "    </tr>\n",
       "    <tr>\n",
       "      <th>1</th>\n",
       "      <td>Dubai</td>\n",
       "      <td>United Arab Emirates</td>\n",
       "      <td>3331409</td>\n",
       "    </tr>\n",
       "    <tr>\n",
       "      <th>2</th>\n",
       "      <td>Niles</td>\n",
       "      <td>United States</td>\n",
       "      <td>28938</td>\n",
       "    </tr>\n",
       "    <tr>\n",
       "      <th>3</th>\n",
       "      <td>Shanghai</td>\n",
       "      <td>China</td>\n",
       "      <td>26320000</td>\n",
       "    </tr>\n",
       "    <tr>\n",
       "      <th>4</th>\n",
       "      <td>Seoul</td>\n",
       "      <td>South Korea</td>\n",
       "      <td>21794000</td>\n",
       "    </tr>\n",
       "    <tr>\n",
       "      <th>5</th>\n",
       "      <td>Chicago</td>\n",
       "      <td>United States</td>\n",
       "      <td>8604203</td>\n",
       "    </tr>\n",
       "  </tbody>\n",
       "</table>\n",
       "</div>"
      ],
      "text/plain": [
       "       city               country  population\n",
       "0     Lisle         United States       23270\n",
       "1     Dubai  United Arab Emirates     3331409\n",
       "2     Niles         United States       28938\n",
       "3  Shanghai                 China    26320000\n",
       "4     Seoul           South Korea    21794000\n",
       "5   Chicago         United States     8604203"
      ]
     },
     "execution_count": 50,
     "metadata": {},
     "output_type": "execute_result"
    }
   ],
   "source": [
    "df_cities = pd.DataFrame({\"city\": [\"Lisle\", \"Dubai\", \"Niles\", \"Shanghai\", \"Seoul\", \"Chicago\"],\n",
    " \"country\": [\"United States\", \"United Arab Emirates\", \"United States\", \"China\", \"South Korea\", \"United States\"],\n",
    " \"population\": [23270, 3331409, 28938, 26320000, 21794000, 8604203]})\n",
    "\n",
    "df_cities"
   ]
  },
  {
   "cell_type": "markdown",
   "metadata": {
    "id": "K8Ar5vxeem7x"
   },
   "source": [
    "To only keep rows where the `country` is `'United States'`, we can again supply a `Series` of boolean values.\n",
    "\n",
    "▶️ Create a new `Series` named `keep` with the following 6 boolean values - `True`, `False`, `True`, `False`, `False`, `True`."
   ]
  },
  {
   "cell_type": "code",
   "execution_count": 51,
   "metadata": {
    "id": "bpP88Meeem7x",
    "outputId": "a2297654-dfb2-4472-b6b2-f2a3bd832fb1"
   },
   "outputs": [
    {
     "data": {
      "text/plain": [
       "0     True\n",
       "1    False\n",
       "2     True\n",
       "3    False\n",
       "4    False\n",
       "5     True\n",
       "Name: country, dtype: bool"
      ]
     },
     "execution_count": 51,
     "metadata": {},
     "output_type": "execute_result"
    }
   ],
   "source": [
    "### BEGIN SOLUTION\n",
    "keep = pd.Series([True, False, True, False, False, True])\n",
    "# OR\n",
    "keep = df_cities[\"country\"] == \"United States\"\n",
    "### END SOLUTION\n",
    "\n",
    "# Check your work\n",
    "pd.testing.assert_series_equal(keep.reset_index(drop=True),\n",
    "                               pd.Series([1, 0, 1, 0, 0, 1]).astype(bool).reset_index(drop=True),\n",
    "                               check_names=False)\n",
    "\n",
    "# Display keep\n",
    "keep"
   ]
  },
  {
   "cell_type": "markdown",
   "metadata": {
    "id": "JUNm8ebnem7y"
   },
   "source": [
    "🤠 You know the drill now.\n",
    "\n",
    "▶️ Type `df_cities[keep]` in the code cell below and run it."
   ]
  },
  {
   "cell_type": "code",
   "execution_count": 52,
   "metadata": {
    "id": "ulu40PsZem7y",
    "outputId": "66c22849-6724-4a67-d603-5539b88bb196"
   },
   "outputs": [
    {
     "data": {
      "text/html": [
       "<div>\n",
       "<style scoped>\n",
       "    .dataframe tbody tr th:only-of-type {\n",
       "        vertical-align: middle;\n",
       "    }\n",
       "\n",
       "    .dataframe tbody tr th {\n",
       "        vertical-align: top;\n",
       "    }\n",
       "\n",
       "    .dataframe thead th {\n",
       "        text-align: right;\n",
       "    }\n",
       "</style>\n",
       "<table border=\"1\" class=\"dataframe\">\n",
       "  <thead>\n",
       "    <tr style=\"text-align: right;\">\n",
       "      <th></th>\n",
       "      <th>city</th>\n",
       "      <th>country</th>\n",
       "      <th>population</th>\n",
       "    </tr>\n",
       "  </thead>\n",
       "  <tbody>\n",
       "    <tr>\n",
       "      <th>0</th>\n",
       "      <td>Lisle</td>\n",
       "      <td>United States</td>\n",
       "      <td>23270</td>\n",
       "    </tr>\n",
       "    <tr>\n",
       "      <th>2</th>\n",
       "      <td>Niles</td>\n",
       "      <td>United States</td>\n",
       "      <td>28938</td>\n",
       "    </tr>\n",
       "    <tr>\n",
       "      <th>5</th>\n",
       "      <td>Chicago</td>\n",
       "      <td>United States</td>\n",
       "      <td>8604203</td>\n",
       "    </tr>\n",
       "  </tbody>\n",
       "</table>\n",
       "</div>"
      ],
      "text/plain": [
       "      city        country  population\n",
       "0    Lisle  United States       23270\n",
       "2    Niles  United States       28938\n",
       "5  Chicago  United States     8604203"
      ]
     },
     "execution_count": 52,
     "metadata": {},
     "output_type": "execute_result"
    }
   ],
   "source": [
    "### BEGIN SOLUTION\n",
    "df_cities[keep]\n",
    "### END SOLUTION"
   ]
  },
  {
   "cell_type": "markdown",
   "metadata": {
    "id": "juiThUb1em7y"
   },
   "source": [
    "---\n",
    "\n",
    "### 🎯 Challenge 10: Cities with population over a million"
   ]
  },
  {
   "cell_type": "markdown",
   "metadata": {
    "id": "3In4qrctem7y"
   },
   "source": [
    "#### 👇 Tasks\n",
    "\n",
    "- ✔️ Using `df_cities`, filter rows with a population greater than a million (`1000000`).\n",
    "    - Store the result to a new variable named `df_large_cities`.\n",
    "- ✔️ `df_cities` should remain unaltered after your code."
   ]
  },
  {
   "cell_type": "code",
   "execution_count": 53,
   "metadata": {
    "id": "3yEcyo-Mem7y",
    "outputId": "dbe8bab2-bb34-4a86-d38c-bac31d1197a7"
   },
   "outputs": [
    {
     "data": {
      "text/html": [
       "<div>\n",
       "<style scoped>\n",
       "    .dataframe tbody tr th:only-of-type {\n",
       "        vertical-align: middle;\n",
       "    }\n",
       "\n",
       "    .dataframe tbody tr th {\n",
       "        vertical-align: top;\n",
       "    }\n",
       "\n",
       "    .dataframe thead th {\n",
       "        text-align: right;\n",
       "    }\n",
       "</style>\n",
       "<table border=\"1\" class=\"dataframe\">\n",
       "  <thead>\n",
       "    <tr style=\"text-align: right;\">\n",
       "      <th></th>\n",
       "      <th>city</th>\n",
       "      <th>country</th>\n",
       "      <th>population</th>\n",
       "    </tr>\n",
       "  </thead>\n",
       "  <tbody>\n",
       "    <tr>\n",
       "      <th>1</th>\n",
       "      <td>Dubai</td>\n",
       "      <td>United Arab Emirates</td>\n",
       "      <td>3331409</td>\n",
       "    </tr>\n",
       "    <tr>\n",
       "      <th>3</th>\n",
       "      <td>Shanghai</td>\n",
       "      <td>China</td>\n",
       "      <td>26320000</td>\n",
       "    </tr>\n",
       "    <tr>\n",
       "      <th>4</th>\n",
       "      <td>Seoul</td>\n",
       "      <td>South Korea</td>\n",
       "      <td>21794000</td>\n",
       "    </tr>\n",
       "    <tr>\n",
       "      <th>5</th>\n",
       "      <td>Chicago</td>\n",
       "      <td>United States</td>\n",
       "      <td>8604203</td>\n",
       "    </tr>\n",
       "  </tbody>\n",
       "</table>\n",
       "</div>"
      ],
      "text/plain": [
       "       city               country  population\n",
       "1     Dubai  United Arab Emirates     3331409\n",
       "3  Shanghai                 China    26320000\n",
       "4     Seoul           South Korea    21794000\n",
       "5   Chicago         United States     8604203"
      ]
     },
     "execution_count": 53,
     "metadata": {},
     "output_type": "execute_result"
    }
   ],
   "source": [
    "### BEGIN SOLUTION\n",
    "df_large_cities = df_cities[df_cities['population'] > 1000000]\n",
    "### END SOLUTION\n",
    "\n",
    "df_large_cities"
   ]
  },
  {
   "cell_type": "markdown",
   "metadata": {
    "id": "oNNKvOTqem7y"
   },
   "source": [
    "#### 🧭 Check Your Work\n",
    "\n",
    "- Once you're done, run the code cell below to test correctness.\n",
    "- ✔️ If the code cell runs without an error, you're good to move on.\n",
    "- ❌ If the code cell throws an error, go back and fix incorrect parts."
   ]
  },
  {
   "cell_type": "code",
   "execution_count": 54,
   "metadata": {
    "id": "dwE6E1hWem7z",
    "nbgrader": {
     "grade": true,
     "grade_id": "challenge-10",
     "locked": true,
     "points": "1",
     "solution": false
    }
   },
   "outputs": [],
   "source": [
    "pd.testing.assert_frame_equal(df_large_cities.reset_index(drop=True),\n",
    "                              df_cities.query('population > 1000000').reset_index(drop=True))"
   ]
  },
  {
   "cell_type": "markdown",
   "metadata": {
    "id": "Mrzib8KMem7z"
   },
   "source": [
    "---\n",
    "\n",
    "### 🎯 Challenge 11: People who do not use an iPhone"
   ]
  },
  {
   "cell_type": "markdown",
   "metadata": {
    "id": "RjywLlgMem7z"
   },
   "source": [
    "▶️ Run the code cell below to see the **first** 3 rows of `df_you`."
   ]
  },
  {
   "cell_type": "code",
   "execution_count": 55,
   "metadata": {
    "id": "U9Gx1vchem7z",
    "outputId": "86eb05b8-7277-4a60-cc87-14a68c49d10b"
   },
   "outputs": [
    {
     "data": {
      "text/html": [
       "<div>\n",
       "<style scoped>\n",
       "    .dataframe tbody tr th:only-of-type {\n",
       "        vertical-align: middle;\n",
       "    }\n",
       "\n",
       "    .dataframe tbody tr th {\n",
       "        vertical-align: top;\n",
       "    }\n",
       "\n",
       "    .dataframe thead th {\n",
       "        text-align: right;\n",
       "    }\n",
       "</style>\n",
       "<table border=\"1\" class=\"dataframe\">\n",
       "  <thead>\n",
       "    <tr style=\"text-align: right;\">\n",
       "      <th></th>\n",
       "      <th>name</th>\n",
       "      <th>major1</th>\n",
       "      <th>major2</th>\n",
       "      <th>city</th>\n",
       "      <th>fav_restaurant</th>\n",
       "      <th>fav_movie</th>\n",
       "      <th>has_iphone</th>\n",
       "    </tr>\n",
       "  </thead>\n",
       "  <tbody>\n",
       "    <tr>\n",
       "      <th>0</th>\n",
       "      <td>Nishita Amberkar</td>\n",
       "      <td>Computer Engineering</td>\n",
       "      <td>Marketing</td>\n",
       "      <td>Fairfax</td>\n",
       "      <td>Chick-fil-a</td>\n",
       "      <td>Ford vs Ferrari</td>\n",
       "      <td>False</td>\n",
       "    </tr>\n",
       "    <tr>\n",
       "      <th>1</th>\n",
       "      <td>Alvino Angelo</td>\n",
       "      <td>Computer Science</td>\n",
       "      <td>NaN</td>\n",
       "      <td>Jakarta</td>\n",
       "      <td>Chipotle</td>\n",
       "      <td>Edge of Tomorrow</td>\n",
       "      <td>False</td>\n",
       "    </tr>\n",
       "    <tr>\n",
       "      <th>2</th>\n",
       "      <td>Guadalupe Badillo</td>\n",
       "      <td>Finance in Agribusiness</td>\n",
       "      <td>Marketing</td>\n",
       "      <td>Chicago</td>\n",
       "      <td>Fiaschetteria</td>\n",
       "      <td>Toy Story</td>\n",
       "      <td>True</td>\n",
       "    </tr>\n",
       "  </tbody>\n",
       "</table>\n",
       "</div>"
      ],
      "text/plain": [
       "                name                   major1     major2     city  \\\n",
       "0   Nishita Amberkar     Computer Engineering  Marketing  Fairfax   \n",
       "1      Alvino Angelo         Computer Science        NaN  Jakarta   \n",
       "2  Guadalupe Badillo  Finance in Agribusiness  Marketing  Chicago   \n",
       "\n",
       "  fav_restaurant         fav_movie  has_iphone  \n",
       "0    Chick-fil-a   Ford vs Ferrari       False  \n",
       "1       Chipotle  Edge of Tomorrow       False  \n",
       "2  Fiaschetteria         Toy Story        True  "
      ]
     },
     "execution_count": 55,
     "metadata": {},
     "output_type": "execute_result"
    }
   ],
   "source": [
    "# Restore clean df_you\n",
    "df_you = df_you_backup.copy()\n",
    "\n",
    "df_you.head(3)"
   ]
  },
  {
   "cell_type": "markdown",
   "metadata": {
    "id": "GfnhBiRvem7z"
   },
   "source": [
    "#### 👇 Tasks\n",
    "\n",
    "- ✔️ Using `df_you`, filter rows where the person does not use an iPhone.\n",
    "    - Store the result to a new variable named `df_no_iphone`.\n",
    "- ✔️ `df_you` should remain unaltered after your code."
   ]
  },
  {
   "cell_type": "code",
   "execution_count": 56,
   "metadata": {
    "id": "kXVG7kRGem7z",
    "outputId": "7d3fee9b-f51e-4268-fffb-8cca7d514014"
   },
   "outputs": [
    {
     "data": {
      "text/html": [
       "<div>\n",
       "<style scoped>\n",
       "    .dataframe tbody tr th:only-of-type {\n",
       "        vertical-align: middle;\n",
       "    }\n",
       "\n",
       "    .dataframe tbody tr th {\n",
       "        vertical-align: top;\n",
       "    }\n",
       "\n",
       "    .dataframe thead th {\n",
       "        text-align: right;\n",
       "    }\n",
       "</style>\n",
       "<table border=\"1\" class=\"dataframe\">\n",
       "  <thead>\n",
       "    <tr style=\"text-align: right;\">\n",
       "      <th></th>\n",
       "      <th>name</th>\n",
       "      <th>major1</th>\n",
       "      <th>major2</th>\n",
       "      <th>city</th>\n",
       "      <th>fav_restaurant</th>\n",
       "      <th>fav_movie</th>\n",
       "      <th>has_iphone</th>\n",
       "    </tr>\n",
       "  </thead>\n",
       "  <tbody>\n",
       "    <tr>\n",
       "      <th>0</th>\n",
       "      <td>Nishita Amberkar</td>\n",
       "      <td>Computer Engineering</td>\n",
       "      <td>Marketing</td>\n",
       "      <td>Fairfax</td>\n",
       "      <td>Chick-fil-a</td>\n",
       "      <td>Ford vs Ferrari</td>\n",
       "      <td>False</td>\n",
       "    </tr>\n",
       "    <tr>\n",
       "      <th>1</th>\n",
       "      <td>Alvino Angelo</td>\n",
       "      <td>Computer Science</td>\n",
       "      <td>NaN</td>\n",
       "      <td>Jakarta</td>\n",
       "      <td>Chipotle</td>\n",
       "      <td>Edge of Tomorrow</td>\n",
       "      <td>False</td>\n",
       "    </tr>\n",
       "    <tr>\n",
       "      <th>3</th>\n",
       "      <td>Denise Bahena</td>\n",
       "      <td>Information Sciences</td>\n",
       "      <td>NaN</td>\n",
       "      <td>Chicago</td>\n",
       "      <td>Chipotle</td>\n",
       "      <td>Little Women</td>\n",
       "      <td>False</td>\n",
       "    </tr>\n",
       "    <tr>\n",
       "      <th>9</th>\n",
       "      <td>Xavier Gutierrez</td>\n",
       "      <td>Consumer Economics and Finance</td>\n",
       "      <td>NaN</td>\n",
       "      <td>Chicago</td>\n",
       "      <td>Maggiano's</td>\n",
       "      <td>Tron</td>\n",
       "      <td>False</td>\n",
       "    </tr>\n",
       "    <tr>\n",
       "      <th>15</th>\n",
       "      <td>Mike Koziol</td>\n",
       "      <td>Computer Science</td>\n",
       "      <td>NaN</td>\n",
       "      <td>Glenview</td>\n",
       "      <td>Portillos</td>\n",
       "      <td>Inception</td>\n",
       "      <td>False</td>\n",
       "    </tr>\n",
       "    <tr>\n",
       "      <th>16</th>\n",
       "      <td>Akash Kumar</td>\n",
       "      <td>Computer Science</td>\n",
       "      <td>NaN</td>\n",
       "      <td>Chicago</td>\n",
       "      <td>NaN</td>\n",
       "      <td>NaN</td>\n",
       "      <td>False</td>\n",
       "    </tr>\n",
       "    <tr>\n",
       "      <th>31</th>\n",
       "      <td>Thomas Sinn</td>\n",
       "      <td>Computer Science</td>\n",
       "      <td>NaN</td>\n",
       "      <td>Sydney</td>\n",
       "      <td>Anything with Hainan Chicken Rice</td>\n",
       "      <td>Good will hunting</td>\n",
       "      <td>False</td>\n",
       "    </tr>\n",
       "    <tr>\n",
       "      <th>41</th>\n",
       "      <td>Kelly Yuen</td>\n",
       "      <td>Information Sciences</td>\n",
       "      <td>NaN</td>\n",
       "      <td>Chicago</td>\n",
       "      <td>Cravings</td>\n",
       "      <td>Everything Everywhere All at Once</td>\n",
       "      <td>False</td>\n",
       "    </tr>\n",
       "  </tbody>\n",
       "</table>\n",
       "</div>"
      ],
      "text/plain": [
       "                name                          major1     major2      city  \\\n",
       "0   Nishita Amberkar            Computer Engineering  Marketing   Fairfax   \n",
       "1      Alvino Angelo                Computer Science        NaN   Jakarta   \n",
       "3      Denise Bahena            Information Sciences        NaN   Chicago   \n",
       "9   Xavier Gutierrez  Consumer Economics and Finance        NaN   Chicago   \n",
       "15       Mike Koziol                Computer Science        NaN  Glenview   \n",
       "16       Akash Kumar                Computer Science        NaN   Chicago   \n",
       "31       Thomas Sinn                Computer Science        NaN    Sydney   \n",
       "41        Kelly Yuen            Information Sciences        NaN   Chicago   \n",
       "\n",
       "                       fav_restaurant                          fav_movie  \\\n",
       "0                         Chick-fil-a                    Ford vs Ferrari   \n",
       "1                            Chipotle                   Edge of Tomorrow   \n",
       "3                            Chipotle                       Little Women   \n",
       "9                          Maggiano's                               Tron   \n",
       "15                          Portillos                          Inception   \n",
       "16                                NaN                                NaN   \n",
       "31  Anything with Hainan Chicken Rice                  Good will hunting   \n",
       "41                           Cravings  Everything Everywhere All at Once   \n",
       "\n",
       "    has_iphone  \n",
       "0        False  \n",
       "1        False  \n",
       "3        False  \n",
       "9        False  \n",
       "15       False  \n",
       "16       False  \n",
       "31       False  \n",
       "41       False  "
      ]
     },
     "execution_count": 56,
     "metadata": {},
     "output_type": "execute_result"
    }
   ],
   "source": [
    "### BEGIN SOLUTION\n",
    "df_no_iphone = df_you[df_you[\"has_iphone\"] == False]\n",
    "### END SOLUTION\n",
    "\n",
    "df_no_iphone"
   ]
  },
  {
   "cell_type": "markdown",
   "metadata": {
    "id": "T4ys5Rh6em7z"
   },
   "source": [
    "#### 🧭 Check Your Work\n",
    "\n",
    "- Once you're done, run the code cell below to test correctness.\n",
    "- ✔️ If the code cell runs without an error, you're good to move on.\n",
    "- ❌ If the code cell throws an error, go back and fix incorrect parts."
   ]
  },
  {
   "cell_type": "code",
   "execution_count": 57,
   "metadata": {
    "id": "JgCa-BnBem70",
    "nbgrader": {
     "grade": true,
     "grade_id": "challenge-11",
     "locked": true,
     "points": "1",
     "solution": false
    }
   },
   "outputs": [],
   "source": [
    "pd.testing.assert_frame_equal(df_no_iphone.reset_index(drop=True),\n",
    "                              df_you[~df_you[\"has_iphone\"]].reset_index(drop=True))"
   ]
  },
  {
   "cell_type": "markdown",
   "metadata": {
    "id": "vFsItQLaem71"
   },
   "source": [
    "---\n",
    "\n",
    "### 🎯 Challenge 12: People who are `Economics` majors or likes `Chipotle`"
   ]
  },
  {
   "cell_type": "markdown",
   "metadata": {
    "id": "T_PNR5P_em71"
   },
   "source": [
    "▶️ Run the code cell below to see the **last** 5 rows of `df_you`."
   ]
  },
  {
   "cell_type": "code",
   "execution_count": 58,
   "metadata": {
    "id": "QPeZdyBDem71",
    "outputId": "2cf8e3f0-be40-4e22-a07c-6e031acb94c7"
   },
   "outputs": [
    {
     "data": {
      "text/html": [
       "<div>\n",
       "<style scoped>\n",
       "    .dataframe tbody tr th:only-of-type {\n",
       "        vertical-align: middle;\n",
       "    }\n",
       "\n",
       "    .dataframe tbody tr th {\n",
       "        vertical-align: top;\n",
       "    }\n",
       "\n",
       "    .dataframe thead th {\n",
       "        text-align: right;\n",
       "    }\n",
       "</style>\n",
       "<table border=\"1\" class=\"dataframe\">\n",
       "  <thead>\n",
       "    <tr style=\"text-align: right;\">\n",
       "      <th></th>\n",
       "      <th>name</th>\n",
       "      <th>major1</th>\n",
       "      <th>major2</th>\n",
       "      <th>city</th>\n",
       "      <th>fav_restaurant</th>\n",
       "      <th>fav_movie</th>\n",
       "      <th>has_iphone</th>\n",
       "    </tr>\n",
       "  </thead>\n",
       "  <tbody>\n",
       "    <tr>\n",
       "      <th>39</th>\n",
       "      <td>Zijun Yu</td>\n",
       "      <td>Statistics</td>\n",
       "      <td>NaN</td>\n",
       "      <td>Chongqing</td>\n",
       "      <td>Evo Cafe</td>\n",
       "      <td>Everything Everywhere All at Once</td>\n",
       "      <td>True</td>\n",
       "    </tr>\n",
       "    <tr>\n",
       "      <th>40</th>\n",
       "      <td>Jasmine Yuan</td>\n",
       "      <td>Information Sciences</td>\n",
       "      <td>NaN</td>\n",
       "      <td>Aurora</td>\n",
       "      <td>In-n-Out</td>\n",
       "      <td>Minions</td>\n",
       "      <td>True</td>\n",
       "    </tr>\n",
       "    <tr>\n",
       "      <th>41</th>\n",
       "      <td>Kelly Yuen</td>\n",
       "      <td>Information Sciences</td>\n",
       "      <td>NaN</td>\n",
       "      <td>Chicago</td>\n",
       "      <td>Cravings</td>\n",
       "      <td>Everything Everywhere All at Once</td>\n",
       "      <td>False</td>\n",
       "    </tr>\n",
       "    <tr>\n",
       "      <th>42</th>\n",
       "      <td>Alejandro Zenteno</td>\n",
       "      <td>Community Health</td>\n",
       "      <td>Business</td>\n",
       "      <td>Chicago</td>\n",
       "      <td>Giordanos</td>\n",
       "      <td>Avengers</td>\n",
       "      <td>True</td>\n",
       "    </tr>\n",
       "    <tr>\n",
       "      <th>43</th>\n",
       "      <td>Brianna Zhang</td>\n",
       "      <td>Computer Science</td>\n",
       "      <td>NaN</td>\n",
       "      <td>Los Gatos</td>\n",
       "      <td>Lao Sze Chuan</td>\n",
       "      <td>Our Beloved Summer</td>\n",
       "      <td>True</td>\n",
       "    </tr>\n",
       "  </tbody>\n",
       "</table>\n",
       "</div>"
      ],
      "text/plain": [
       "                 name                major1    major2       city  \\\n",
       "39           Zijun Yu            Statistics       NaN  Chongqing   \n",
       "40       Jasmine Yuan  Information Sciences       NaN     Aurora   \n",
       "41         Kelly Yuen  Information Sciences       NaN    Chicago   \n",
       "42  Alejandro Zenteno      Community Health  Business    Chicago   \n",
       "43      Brianna Zhang      Computer Science       NaN  Los Gatos   \n",
       "\n",
       "   fav_restaurant                          fav_movie  has_iphone  \n",
       "39       Evo Cafe  Everything Everywhere All at Once        True  \n",
       "40       In-n-Out                            Minions        True  \n",
       "41       Cravings  Everything Everywhere All at Once       False  \n",
       "42      Giordanos                           Avengers        True  \n",
       "43  Lao Sze Chuan                 Our Beloved Summer        True  "
      ]
     },
     "execution_count": 58,
     "metadata": {},
     "output_type": "execute_result"
    }
   ],
   "source": [
    "# Restore clean df_you\n",
    "df_you = df_you_backup.copy()\n",
    "\n",
    "df_you.tail()"
   ]
  },
  {
   "cell_type": "markdown",
   "metadata": {
    "id": "3-VRC3X9em71"
   },
   "source": [
    "#### 👇 Tasks\n",
    "\n",
    "- ✔️ Using `df_you`, filter rows that matches the following criteria:\n",
    "    - The person's `major1` is `Economics`, **OR**\n",
    "    - The person's `fav_restaurant` is `Chipotle`\n",
    "- ✔️ Store the filtered `DataFrame` to a new variable named `df_econ_or_chipotle`.\n",
    "- ✔️ `df_you` should remain unaltered after your code."
   ]
  },
  {
   "cell_type": "code",
   "execution_count": 59,
   "metadata": {
    "id": "FODJo-Kpem71",
    "outputId": "cc83e5dd-61cf-49d7-9135-76eea93b6944"
   },
   "outputs": [
    {
     "data": {
      "text/html": [
       "<div>\n",
       "<style scoped>\n",
       "    .dataframe tbody tr th:only-of-type {\n",
       "        vertical-align: middle;\n",
       "    }\n",
       "\n",
       "    .dataframe tbody tr th {\n",
       "        vertical-align: top;\n",
       "    }\n",
       "\n",
       "    .dataframe thead th {\n",
       "        text-align: right;\n",
       "    }\n",
       "</style>\n",
       "<table border=\"1\" class=\"dataframe\">\n",
       "  <thead>\n",
       "    <tr style=\"text-align: right;\">\n",
       "      <th></th>\n",
       "      <th>name</th>\n",
       "      <th>major1</th>\n",
       "      <th>major2</th>\n",
       "      <th>city</th>\n",
       "      <th>fav_restaurant</th>\n",
       "      <th>fav_movie</th>\n",
       "      <th>has_iphone</th>\n",
       "    </tr>\n",
       "  </thead>\n",
       "  <tbody>\n",
       "    <tr>\n",
       "      <th>1</th>\n",
       "      <td>Alvino Angelo</td>\n",
       "      <td>Computer Science</td>\n",
       "      <td>NaN</td>\n",
       "      <td>Jakarta</td>\n",
       "      <td>Chipotle</td>\n",
       "      <td>Edge of Tomorrow</td>\n",
       "      <td>False</td>\n",
       "    </tr>\n",
       "    <tr>\n",
       "      <th>3</th>\n",
       "      <td>Denise Bahena</td>\n",
       "      <td>Information Sciences</td>\n",
       "      <td>NaN</td>\n",
       "      <td>Chicago</td>\n",
       "      <td>Chipotle</td>\n",
       "      <td>Little Women</td>\n",
       "      <td>False</td>\n",
       "    </tr>\n",
       "    <tr>\n",
       "      <th>6</th>\n",
       "      <td>Rikuto Fukagai</td>\n",
       "      <td>Economics</td>\n",
       "      <td>NaN</td>\n",
       "      <td>Tokyo</td>\n",
       "      <td>NaN</td>\n",
       "      <td>Top Gun</td>\n",
       "      <td>True</td>\n",
       "    </tr>\n",
       "    <tr>\n",
       "      <th>8</th>\n",
       "      <td>Shaurya Gupta</td>\n",
       "      <td>Economics</td>\n",
       "      <td>CS</td>\n",
       "      <td>Bangalore</td>\n",
       "      <td>Huaraches</td>\n",
       "      <td>Stand By Me</td>\n",
       "      <td>True</td>\n",
       "    </tr>\n",
       "    <tr>\n",
       "      <th>12</th>\n",
       "      <td>Tianyi Huang</td>\n",
       "      <td>Mathematics</td>\n",
       "      <td>Business</td>\n",
       "      <td>Oak Park</td>\n",
       "      <td>Chipotle</td>\n",
       "      <td>Rounders</td>\n",
       "      <td>True</td>\n",
       "    </tr>\n",
       "    <tr>\n",
       "      <th>19</th>\n",
       "      <td>Hongyu Liu</td>\n",
       "      <td>Economics</td>\n",
       "      <td>NaN</td>\n",
       "      <td>Grayslake</td>\n",
       "      <td>Big Bowl</td>\n",
       "      <td>The Trial of Chicago 7</td>\n",
       "      <td>True</td>\n",
       "    </tr>\n",
       "    <tr>\n",
       "      <th>25</th>\n",
       "      <td>Alekhya Nathella</td>\n",
       "      <td>Information Sciences</td>\n",
       "      <td>NaN</td>\n",
       "      <td>Naperville</td>\n",
       "      <td>Chipotle</td>\n",
       "      <td>Moana</td>\n",
       "      <td>True</td>\n",
       "    </tr>\n",
       "    <tr>\n",
       "      <th>28</th>\n",
       "      <td>Cameron Reedy</td>\n",
       "      <td>Econometrics</td>\n",
       "      <td>NaN</td>\n",
       "      <td>Carpentersville</td>\n",
       "      <td>Chipotle</td>\n",
       "      <td>Interstellar</td>\n",
       "      <td>True</td>\n",
       "    </tr>\n",
       "    <tr>\n",
       "      <th>30</th>\n",
       "      <td>Arjun Sahu</td>\n",
       "      <td>Finance</td>\n",
       "      <td>NaN</td>\n",
       "      <td>New Delhi</td>\n",
       "      <td>Chipotle</td>\n",
       "      <td>War Dogs</td>\n",
       "      <td>True</td>\n",
       "    </tr>\n",
       "    <tr>\n",
       "      <th>32</th>\n",
       "      <td>Robbie Stirling</td>\n",
       "      <td>Economics</td>\n",
       "      <td>Informatics and Business</td>\n",
       "      <td>San Diego</td>\n",
       "      <td>Bangkok Thai</td>\n",
       "      <td>1917</td>\n",
       "      <td>True</td>\n",
       "    </tr>\n",
       "  </tbody>\n",
       "</table>\n",
       "</div>"
      ],
      "text/plain": [
       "                name                major1                    major2  \\\n",
       "1      Alvino Angelo      Computer Science                       NaN   \n",
       "3      Denise Bahena  Information Sciences                       NaN   \n",
       "6     Rikuto Fukagai             Economics                       NaN   \n",
       "8      Shaurya Gupta             Economics                        CS   \n",
       "12      Tianyi Huang           Mathematics                  Business   \n",
       "19        Hongyu Liu             Economics                       NaN   \n",
       "25  Alekhya Nathella  Information Sciences                       NaN   \n",
       "28     Cameron Reedy          Econometrics                       NaN   \n",
       "30        Arjun Sahu               Finance                       NaN   \n",
       "32   Robbie Stirling             Economics  Informatics and Business   \n",
       "\n",
       "               city fav_restaurant               fav_movie  has_iphone  \n",
       "1           Jakarta       Chipotle        Edge of Tomorrow       False  \n",
       "3           Chicago       Chipotle            Little Women       False  \n",
       "6             Tokyo            NaN                 Top Gun        True  \n",
       "8         Bangalore      Huaraches             Stand By Me        True  \n",
       "12         Oak Park       Chipotle                Rounders        True  \n",
       "19        Grayslake       Big Bowl  The Trial of Chicago 7        True  \n",
       "25       Naperville       Chipotle                   Moana        True  \n",
       "28  Carpentersville       Chipotle            Interstellar        True  \n",
       "30        New Delhi       Chipotle                War Dogs        True  \n",
       "32        San Diego   Bangkok Thai                    1917        True  "
      ]
     },
     "execution_count": 59,
     "metadata": {},
     "output_type": "execute_result"
    }
   ],
   "source": [
    "### BEGIN SOLUTION\n",
    "df_econ_or_chipotle = df_you[(df_you[\"major1\"] == \"Economics\") | (df_you[\"fav_restaurant\"] == \"Chipotle\")]\n",
    "### END SOLUTION\n",
    "\n",
    "df_econ_or_chipotle"
   ]
  },
  {
   "cell_type": "markdown",
   "metadata": {
    "id": "gHFL-CDcem71"
   },
   "source": [
    "#### 🧭 Check Your Work\n",
    "\n",
    "- Once you're done, run the code cell below to test correctness.\n",
    "- ✔️ If the code cell runs without an error, you're good to move on.\n",
    "- ❌ If the code cell throws an error, go back and fix incorrect parts."
   ]
  },
  {
   "cell_type": "code",
   "execution_count": 60,
   "metadata": {
    "id": "Tgv4buH3em71",
    "nbgrader": {
     "grade": true,
     "grade_id": "challenge-12",
     "locked": true,
     "points": "1",
     "solution": false
    }
   },
   "outputs": [],
   "source": [
    "df_check = df_you_backup[(df_you_backup[\"major1\"] == \"Economics\") | (df_you_backup[\"fav_restaurant\"] == \"Chipotle\")]\n",
    "\n",
    "pd.testing.assert_frame_equal(df_econ_or_chipotle.sort_values(df_econ_or_chipotle.columns.tolist()).reset_index(drop=True),\n",
    "                              df_check.sort_values(df_check.columns.tolist()).reset_index(drop=True))"
   ]
  },
  {
   "cell_type": "markdown",
   "metadata": {},
   "source": [
    "---\n",
    "\n",
    "## 👉 Sorting a `DataFrame`\n",
    "\n",
    "You can sort a `DataFrame` using `df.sort_values()`."
   ]
  },
  {
   "cell_type": "markdown",
   "metadata": {},
   "source": [
    "![sort_values usage](https://github.com/bdi475/images/blob/main/pandas/sort-values-01.png?raw=true)"
   ]
  },
  {
   "cell_type": "markdown",
   "metadata": {},
   "source": [
    "▶️ Run the code cell below to **sort** `df_cities` by `population`."
   ]
  },
  {
   "cell_type": "code",
   "execution_count": 61,
   "metadata": {},
   "outputs": [
    {
     "data": {
      "text/html": [
       "<div>\n",
       "<style scoped>\n",
       "    .dataframe tbody tr th:only-of-type {\n",
       "        vertical-align: middle;\n",
       "    }\n",
       "\n",
       "    .dataframe tbody tr th {\n",
       "        vertical-align: top;\n",
       "    }\n",
       "\n",
       "    .dataframe thead th {\n",
       "        text-align: right;\n",
       "    }\n",
       "</style>\n",
       "<table border=\"1\" class=\"dataframe\">\n",
       "  <thead>\n",
       "    <tr style=\"text-align: right;\">\n",
       "      <th></th>\n",
       "      <th>city</th>\n",
       "      <th>country</th>\n",
       "      <th>population</th>\n",
       "    </tr>\n",
       "  </thead>\n",
       "  <tbody>\n",
       "    <tr>\n",
       "      <th>0</th>\n",
       "      <td>Lisle</td>\n",
       "      <td>United States</td>\n",
       "      <td>23270</td>\n",
       "    </tr>\n",
       "    <tr>\n",
       "      <th>2</th>\n",
       "      <td>Niles</td>\n",
       "      <td>United States</td>\n",
       "      <td>28938</td>\n",
       "    </tr>\n",
       "    <tr>\n",
       "      <th>1</th>\n",
       "      <td>Dubai</td>\n",
       "      <td>United Arab Emirates</td>\n",
       "      <td>3331409</td>\n",
       "    </tr>\n",
       "    <tr>\n",
       "      <th>5</th>\n",
       "      <td>Chicago</td>\n",
       "      <td>United States</td>\n",
       "      <td>8604203</td>\n",
       "    </tr>\n",
       "    <tr>\n",
       "      <th>4</th>\n",
       "      <td>Seoul</td>\n",
       "      <td>South Korea</td>\n",
       "      <td>21794000</td>\n",
       "    </tr>\n",
       "    <tr>\n",
       "      <th>3</th>\n",
       "      <td>Shanghai</td>\n",
       "      <td>China</td>\n",
       "      <td>26320000</td>\n",
       "    </tr>\n",
       "  </tbody>\n",
       "</table>\n",
       "</div>"
      ],
      "text/plain": [
       "       city               country  population\n",
       "0     Lisle         United States       23270\n",
       "2     Niles         United States       28938\n",
       "1     Dubai  United Arab Emirates     3331409\n",
       "5   Chicago         United States     8604203\n",
       "4     Seoul           South Korea    21794000\n",
       "3  Shanghai                 China    26320000"
      ]
     },
     "execution_count": 61,
     "metadata": {},
     "output_type": "execute_result"
    }
   ],
   "source": [
    "df_cities.sort_values('population')"
   ]
  },
  {
   "cell_type": "markdown",
   "metadata": {},
   "source": [
    "▶️ Run the code cell below to **sort** `df_cities` by `population` in descending order."
   ]
  },
  {
   "cell_type": "code",
   "execution_count": 62,
   "metadata": {},
   "outputs": [
    {
     "data": {
      "text/html": [
       "<div>\n",
       "<style scoped>\n",
       "    .dataframe tbody tr th:only-of-type {\n",
       "        vertical-align: middle;\n",
       "    }\n",
       "\n",
       "    .dataframe tbody tr th {\n",
       "        vertical-align: top;\n",
       "    }\n",
       "\n",
       "    .dataframe thead th {\n",
       "        text-align: right;\n",
       "    }\n",
       "</style>\n",
       "<table border=\"1\" class=\"dataframe\">\n",
       "  <thead>\n",
       "    <tr style=\"text-align: right;\">\n",
       "      <th></th>\n",
       "      <th>city</th>\n",
       "      <th>country</th>\n",
       "      <th>population</th>\n",
       "    </tr>\n",
       "  </thead>\n",
       "  <tbody>\n",
       "    <tr>\n",
       "      <th>3</th>\n",
       "      <td>Shanghai</td>\n",
       "      <td>China</td>\n",
       "      <td>26320000</td>\n",
       "    </tr>\n",
       "    <tr>\n",
       "      <th>4</th>\n",
       "      <td>Seoul</td>\n",
       "      <td>South Korea</td>\n",
       "      <td>21794000</td>\n",
       "    </tr>\n",
       "    <tr>\n",
       "      <th>5</th>\n",
       "      <td>Chicago</td>\n",
       "      <td>United States</td>\n",
       "      <td>8604203</td>\n",
       "    </tr>\n",
       "    <tr>\n",
       "      <th>1</th>\n",
       "      <td>Dubai</td>\n",
       "      <td>United Arab Emirates</td>\n",
       "      <td>3331409</td>\n",
       "    </tr>\n",
       "    <tr>\n",
       "      <th>2</th>\n",
       "      <td>Niles</td>\n",
       "      <td>United States</td>\n",
       "      <td>28938</td>\n",
       "    </tr>\n",
       "    <tr>\n",
       "      <th>0</th>\n",
       "      <td>Lisle</td>\n",
       "      <td>United States</td>\n",
       "      <td>23270</td>\n",
       "    </tr>\n",
       "  </tbody>\n",
       "</table>\n",
       "</div>"
      ],
      "text/plain": [
       "       city               country  population\n",
       "3  Shanghai                 China    26320000\n",
       "4     Seoul           South Korea    21794000\n",
       "5   Chicago         United States     8604203\n",
       "1     Dubai  United Arab Emirates     3331409\n",
       "2     Niles         United States       28938\n",
       "0     Lisle         United States       23270"
      ]
     },
     "execution_count": 62,
     "metadata": {},
     "output_type": "execute_result"
    }
   ],
   "source": [
    "df_cities.sort_values('population', ascending=False)"
   ]
  },
  {
   "cell_type": "markdown",
   "metadata": {},
   "source": [
    "---\n",
    "\n",
    "## Exercises using the Yeezys dataset\n",
    "\n",
    "### 📌 Load data\n",
    "\n",
    "▶️ Run the code cell below to create a new `DataFrame` named `df_sneakers`."
   ]
  },
  {
   "cell_type": "code",
   "execution_count": 63,
   "metadata": {},
   "outputs": [
    {
     "data": {
      "text/html": [
       "<div>\n",
       "<style scoped>\n",
       "    .dataframe tbody tr th:only-of-type {\n",
       "        vertical-align: middle;\n",
       "    }\n",
       "\n",
       "    .dataframe tbody tr th {\n",
       "        vertical-align: top;\n",
       "    }\n",
       "\n",
       "    .dataframe thead th {\n",
       "        text-align: right;\n",
       "    }\n",
       "</style>\n",
       "<table border=\"1\" class=\"dataframe\">\n",
       "  <thead>\n",
       "    <tr style=\"text-align: right;\">\n",
       "      <th></th>\n",
       "      <th>brand</th>\n",
       "      <th>product</th>\n",
       "      <th>price</th>\n",
       "    </tr>\n",
       "  </thead>\n",
       "  <tbody>\n",
       "    <tr>\n",
       "      <th>0</th>\n",
       "      <td>Adidas</td>\n",
       "      <td>Yeezy 750 Boost Light Brown</td>\n",
       "      <td>1578</td>\n",
       "    </tr>\n",
       "    <tr>\n",
       "      <th>1</th>\n",
       "      <td>Adidas</td>\n",
       "      <td>Yeezy 350 Boost Pirate Black</td>\n",
       "      <td>910</td>\n",
       "    </tr>\n",
       "    <tr>\n",
       "      <th>2</th>\n",
       "      <td>Adidas</td>\n",
       "      <td>Yeezy Boost 350 V2 Lundmark Reflective</td>\n",
       "      <td>1009</td>\n",
       "    </tr>\n",
       "    <tr>\n",
       "      <th>3</th>\n",
       "      <td>Adidas</td>\n",
       "      <td>Yeezy 350 Boost V2 Black/Red</td>\n",
       "      <td>954</td>\n",
       "    </tr>\n",
       "    <tr>\n",
       "      <th>4</th>\n",
       "      <td>Nike</td>\n",
       "      <td>Air Yeezy Blink</td>\n",
       "      <td>3142</td>\n",
       "    </tr>\n",
       "  </tbody>\n",
       "</table>\n",
       "</div>"
      ],
      "text/plain": [
       "    brand                                 product  price\n",
       "0  Adidas             Yeezy 750 Boost Light Brown   1578\n",
       "1  Adidas            Yeezy 350 Boost Pirate Black    910\n",
       "2  Adidas  Yeezy Boost 350 V2 Lundmark Reflective   1009\n",
       "3  Adidas            Yeezy 350 Boost V2 Black/Red    954\n",
       "4    Nike                         Air Yeezy Blink   3142"
      ]
     },
     "execution_count": 63,
     "metadata": {},
     "output_type": "execute_result"
    }
   ],
   "source": [
    "df_sneakers = pd.read_csv(\"https://github.com/bdi475/datasets/raw/main/yeezy_sneakers.csv\")\n",
    "\n",
    "# Used to keep a clean copy\n",
    "df_sneakers_backup = df_sneakers.copy()\n",
    "\n",
    "# head() displays the first 5 rows of a DataFrame\n",
    "df_sneakers.head()"
   ]
  },
  {
   "cell_type": "markdown",
   "metadata": {
    "id": "LI33A8-jem7m"
   },
   "source": [
    "The table below describes the columns in `df_sneakers`.\n",
    "\n",
    "| Column Name             | Description           |\n",
    "|-------------------------|-----------------------|\n",
    "| brand                   | Brand of the sneaker  |\n",
    "| product                 | Name of the sneaker   |\n",
    "| price                   | Price of the sneaker  |"
   ]
  },
  {
   "cell_type": "markdown",
   "metadata": {},
   "source": [
    "---\n",
    "\n",
    "### 📌 Concise summary of a `DataFrame`"
   ]
  },
  {
   "cell_type": "markdown",
   "metadata": {},
   "source": [
    "▶️ Print out a summary of the `df_sneakers` using the `info()` method."
   ]
  },
  {
   "cell_type": "code",
   "execution_count": 64,
   "metadata": {},
   "outputs": [
    {
     "name": "stdout",
     "output_type": "stream",
     "text": [
      "<class 'pandas.core.frame.DataFrame'>\n",
      "RangeIndex: 15 entries, 0 to 14\n",
      "Data columns (total 3 columns):\n",
      " #   Column   Non-Null Count  Dtype \n",
      "---  ------   --------------  ----- \n",
      " 0   brand    15 non-null     object\n",
      " 1   product  15 non-null     object\n",
      " 2   price    15 non-null     int64 \n",
      "dtypes: int64(1), object(2)\n",
      "memory usage: 488.0+ bytes\n"
     ]
    }
   ],
   "source": [
    "### BEGIN SOLUTION\n",
    "df_sneakers.info()\n",
    "### END SOLUTION"
   ]
  },
  {
   "cell_type": "markdown",
   "metadata": {},
   "source": [
    "---\n",
    "\n",
    "### 📌 Number of rows and columns in a `DataFrame`"
   ]
  },
  {
   "cell_type": "markdown",
   "metadata": {},
   "source": [
    "👉 How many rows and columns does `df_sneakers` have?\n",
    "\n",
    "▶️ Run `df_sneakers.shape` below to see the *shape* of the database."
   ]
  },
  {
   "cell_type": "code",
   "execution_count": 65,
   "metadata": {},
   "outputs": [
    {
     "data": {
      "text/plain": [
       "(15, 3)"
      ]
     },
     "execution_count": 65,
     "metadata": {},
     "output_type": "execute_result"
    }
   ],
   "source": [
    "### BEGIN SOLUTION\n",
    "df_sneakers.shape\n",
    "### END SOLUTION"
   ]
  },
  {
   "cell_type": "markdown",
   "metadata": {},
   "source": [
    "---\n",
    "\n",
    "### 🎯 Challenge 13: Find the number of rows and columns in a `DataFrame`"
   ]
  },
  {
   "cell_type": "markdown",
   "metadata": {},
   "source": [
    "#### 👇 Tasks\n",
    "\n",
    "- ✔️ Store the number of rows in `df_sneakers` to a new variable named `num_rows`.\n",
    "- ✔️ Store the number of columns in `df_sneakers` to a new variable named `num_cols`.\n",
    "- ✔️ Use `.shape`, not `len()`."
   ]
  },
  {
   "cell_type": "code",
   "execution_count": 66,
   "metadata": {},
   "outputs": [
    {
     "name": "stdout",
     "output_type": "stream",
     "text": [
      "15\n",
      "3\n"
     ]
    }
   ],
   "source": [
    "### BEGIN SOLUTION\n",
    "num_rows = df_sneakers.shape[0]\n",
    "num_cols = df_sneakers.shape[1]\n",
    "### END SOLUTION\n",
    "\n",
    "print(num_rows)\n",
    "print(num_cols)"
   ]
  },
  {
   "cell_type": "markdown",
   "metadata": {},
   "source": [
    "#### 🧭 Check Your Work\n",
    "\n",
    "- Once you're done, run the code cell below to test correctness.\n",
    "- ✔️ If the code cell runs without an error, you're good to move on.\n",
    "- ❌ If the code cell throws an error, go back and fix incorrect parts."
   ]
  },
  {
   "cell_type": "code",
   "execution_count": 67,
   "metadata": {
    "nbgrader": {
     "grade": true,
     "grade_id": "challenge-07",
     "locked": true,
     "points": "1",
     "solution": false
    }
   },
   "outputs": [],
   "source": [
    "tc.assertEqual(num_rows, len(df_sneakers.index), f\"Number of rows should be {len(df_sneakers.index)}\")\n",
    "tc.assertEqual(num_cols, len(df_sneakers.columns), f\"Number of columns should be {len(df_sneakers.columns)}\")"
   ]
  },
  {
   "cell_type": "markdown",
   "metadata": {},
   "source": [
    "---\n",
    "\n",
    "### 🎯 Challenge 14: Find `Adidas` sneakers"
   ]
  },
  {
   "cell_type": "markdown",
   "metadata": {},
   "source": [
    "#### 👇 Tasks\n",
    "\n",
    "- ✔️ Find Adidas sneakers and store the filtered result to `df_adidas`.\n",
    "- ✔️ `df_sneakers` should remain unaltered.\n",
    "\n",
    "#### 🔑 Expected Output\n",
    "\n",
    "|    | brand   | product                                |   price |\n",
    "|---:|:--------|:---------------------------------------|--------:|\n",
    "|  0 | Adidas  | Yeezy 750 Boost Light Brown            |    1578 |\n",
    "|  1 | Adidas  | Yeezy 350 Boost Pirate Black           |     910 |\n",
    "|  2 | Adidas  | Yeezy Boost 350 V2 Lundmark Reflective |    1009 |\n",
    "|  3 | Adidas  | Yeezy 350 Boost V2 Black/Red           |     954 |\n",
    "| 10 | Adidas  | Yeezy Boost 350 V2 Black Reflective    |    1437 |\n",
    "| 11 | Adidas  | Yeezy Boost 350 V2 Antlia Reflective   |     912 |\n",
    "| 12 | Adidas  | Yeezy Boost 350 V2 Synth Reflective    |    1292 |\n",
    "| 13 | Adidas  | Yeezy 350 Boost Turtledove             |    1279 |\n",
    "| 14 | Adidas  | Yeezy 750 Boost Glow in the Dark       |     917 |"
   ]
  },
  {
   "cell_type": "code",
   "execution_count": 68,
   "metadata": {},
   "outputs": [
    {
     "data": {
      "text/html": [
       "<div>\n",
       "<style scoped>\n",
       "    .dataframe tbody tr th:only-of-type {\n",
       "        vertical-align: middle;\n",
       "    }\n",
       "\n",
       "    .dataframe tbody tr th {\n",
       "        vertical-align: top;\n",
       "    }\n",
       "\n",
       "    .dataframe thead th {\n",
       "        text-align: right;\n",
       "    }\n",
       "</style>\n",
       "<table border=\"1\" class=\"dataframe\">\n",
       "  <thead>\n",
       "    <tr style=\"text-align: right;\">\n",
       "      <th></th>\n",
       "      <th>brand</th>\n",
       "      <th>product</th>\n",
       "      <th>price</th>\n",
       "    </tr>\n",
       "  </thead>\n",
       "  <tbody>\n",
       "    <tr>\n",
       "      <th>0</th>\n",
       "      <td>Adidas</td>\n",
       "      <td>Yeezy 750 Boost Light Brown</td>\n",
       "      <td>1578</td>\n",
       "    </tr>\n",
       "    <tr>\n",
       "      <th>1</th>\n",
       "      <td>Adidas</td>\n",
       "      <td>Yeezy 350 Boost Pirate Black</td>\n",
       "      <td>910</td>\n",
       "    </tr>\n",
       "    <tr>\n",
       "      <th>2</th>\n",
       "      <td>Adidas</td>\n",
       "      <td>Yeezy Boost 350 V2 Lundmark Reflective</td>\n",
       "      <td>1009</td>\n",
       "    </tr>\n",
       "    <tr>\n",
       "      <th>3</th>\n",
       "      <td>Adidas</td>\n",
       "      <td>Yeezy 350 Boost V2 Black/Red</td>\n",
       "      <td>954</td>\n",
       "    </tr>\n",
       "    <tr>\n",
       "      <th>10</th>\n",
       "      <td>Adidas</td>\n",
       "      <td>Yeezy Boost 350 V2 Black Reflective</td>\n",
       "      <td>1437</td>\n",
       "    </tr>\n",
       "    <tr>\n",
       "      <th>11</th>\n",
       "      <td>Adidas</td>\n",
       "      <td>Yeezy Boost 350 V2 Antlia Reflective</td>\n",
       "      <td>912</td>\n",
       "    </tr>\n",
       "    <tr>\n",
       "      <th>12</th>\n",
       "      <td>Adidas</td>\n",
       "      <td>Yeezy Boost 350 V2 Synth Reflective</td>\n",
       "      <td>1292</td>\n",
       "    </tr>\n",
       "    <tr>\n",
       "      <th>13</th>\n",
       "      <td>Adidas</td>\n",
       "      <td>Yeezy 350 Boost Turtledove</td>\n",
       "      <td>1279</td>\n",
       "    </tr>\n",
       "    <tr>\n",
       "      <th>14</th>\n",
       "      <td>Adidas</td>\n",
       "      <td>Yeezy 750 Boost Glow in the Dark</td>\n",
       "      <td>917</td>\n",
       "    </tr>\n",
       "  </tbody>\n",
       "</table>\n",
       "</div>"
      ],
      "text/plain": [
       "     brand                                 product  price\n",
       "0   Adidas             Yeezy 750 Boost Light Brown   1578\n",
       "1   Adidas            Yeezy 350 Boost Pirate Black    910\n",
       "2   Adidas  Yeezy Boost 350 V2 Lundmark Reflective   1009\n",
       "3   Adidas            Yeezy 350 Boost V2 Black/Red    954\n",
       "10  Adidas     Yeezy Boost 350 V2 Black Reflective   1437\n",
       "11  Adidas    Yeezy Boost 350 V2 Antlia Reflective    912\n",
       "12  Adidas     Yeezy Boost 350 V2 Synth Reflective   1292\n",
       "13  Adidas              Yeezy 350 Boost Turtledove   1279\n",
       "14  Adidas        Yeezy 750 Boost Glow in the Dark    917"
      ]
     },
     "execution_count": 68,
     "metadata": {},
     "output_type": "execute_result"
    }
   ],
   "source": [
    "### BEGIN SOLUTION\n",
    "df_adidas = df_sneakers[df_sneakers[\"brand\"] == \"Adidas\"]\n",
    "### END SOLUTION\n",
    "\n",
    "df_adidas"
   ]
  },
  {
   "cell_type": "markdown",
   "metadata": {},
   "source": [
    "#### 🧭 Check Your Work\n",
    "\n",
    "- Once you're done, run the code cell below to test correctness.\n",
    "- ✔️ If the code cell runs without an error, you're good to move on.\n",
    "- ❌ If the code cell throws an error, go back and fix incorrect parts."
   ]
  },
  {
   "cell_type": "code",
   "execution_count": 69,
   "metadata": {
    "nbgrader": {
     "grade": true,
     "grade_id": "challenge-08",
     "locked": true,
     "points": "1",
     "solution": false
    }
   },
   "outputs": [],
   "source": [
    "df_sneakers_copy = df_sneakers_backup.copy()\n",
    "\n",
    "pd.testing.assert_frame_equal(\n",
    "    df_sneakers_copy \\\n",
    "        .query(\"brand == 'Adidas'\") \\\n",
    "        .sort_values(df_sneakers_copy.columns.to_list()) \\\n",
    "        .reset_index(drop=True),\n",
    "    df_adidas.reset_index(drop=True) \\\n",
    "        .sort_values(df_adidas.columns.to_list()) \\\n",
    "        .reset_index(drop=True)\n",
    ")"
   ]
  },
  {
   "cell_type": "markdown",
   "metadata": {},
   "source": [
    "---\n",
    "\n",
    "### 🎯 Challenge 15: Find Sneakers under \\\\$1,000"
   ]
  },
  {
   "cell_type": "markdown",
   "metadata": {},
   "source": [
    "#### 👇 Tasks\n",
    "\n",
    "- ✔️ Find sneakers under \\\\$1,000 and store the filtered result to `df_under_1000`.\n",
    "- ✔️ `df_sneakers` should remain unaltered.\n",
    "\n",
    "#### 🔑 Expected Output\n",
    "\n",
    "|    | brand   | product                              |   price |\n",
    "|---:|:--------|:-------------------------------------|--------:|\n",
    "|  1 | Adidas  | Yeezy 350 Boost Pirate Black         |     910 |\n",
    "|  3 | Adidas  | Yeezy 350 Boost V2 Black/Red         |     954 |\n",
    "| 11 | Adidas  | Yeezy Boost 350 V2 Antlia Reflective |     912 |\n",
    "| 14 | Adidas  | Yeezy 750 Boost Glow in the Dark     |     917 |"
   ]
  },
  {
   "cell_type": "code",
   "execution_count": 70,
   "metadata": {},
   "outputs": [
    {
     "data": {
      "text/html": [
       "<div>\n",
       "<style scoped>\n",
       "    .dataframe tbody tr th:only-of-type {\n",
       "        vertical-align: middle;\n",
       "    }\n",
       "\n",
       "    .dataframe tbody tr th {\n",
       "        vertical-align: top;\n",
       "    }\n",
       "\n",
       "    .dataframe thead th {\n",
       "        text-align: right;\n",
       "    }\n",
       "</style>\n",
       "<table border=\"1\" class=\"dataframe\">\n",
       "  <thead>\n",
       "    <tr style=\"text-align: right;\">\n",
       "      <th></th>\n",
       "      <th>brand</th>\n",
       "      <th>product</th>\n",
       "      <th>price</th>\n",
       "    </tr>\n",
       "  </thead>\n",
       "  <tbody>\n",
       "    <tr>\n",
       "      <th>1</th>\n",
       "      <td>Adidas</td>\n",
       "      <td>Yeezy 350 Boost Pirate Black</td>\n",
       "      <td>910</td>\n",
       "    </tr>\n",
       "    <tr>\n",
       "      <th>3</th>\n",
       "      <td>Adidas</td>\n",
       "      <td>Yeezy 350 Boost V2 Black/Red</td>\n",
       "      <td>954</td>\n",
       "    </tr>\n",
       "    <tr>\n",
       "      <th>11</th>\n",
       "      <td>Adidas</td>\n",
       "      <td>Yeezy Boost 350 V2 Antlia Reflective</td>\n",
       "      <td>912</td>\n",
       "    </tr>\n",
       "    <tr>\n",
       "      <th>14</th>\n",
       "      <td>Adidas</td>\n",
       "      <td>Yeezy 750 Boost Glow in the Dark</td>\n",
       "      <td>917</td>\n",
       "    </tr>\n",
       "  </tbody>\n",
       "</table>\n",
       "</div>"
      ],
      "text/plain": [
       "     brand                               product  price\n",
       "1   Adidas          Yeezy 350 Boost Pirate Black    910\n",
       "3   Adidas          Yeezy 350 Boost V2 Black/Red    954\n",
       "11  Adidas  Yeezy Boost 350 V2 Antlia Reflective    912\n",
       "14  Adidas      Yeezy 750 Boost Glow in the Dark    917"
      ]
     },
     "execution_count": 70,
     "metadata": {},
     "output_type": "execute_result"
    }
   ],
   "source": [
    "### BEGIN SOLUTION\n",
    "df_under_1000 = df_sneakers[df_sneakers[\"price\"] < 1000]\n",
    "### END SOLUTION\n",
    "\n",
    "df_under_1000"
   ]
  },
  {
   "cell_type": "markdown",
   "metadata": {},
   "source": [
    "#### 🧭 Check Your Work\n",
    "\n",
    "- Once you're done, run the code cell below to test correctness.\n",
    "- ✔️ If the code cell runs without an error, you're good to move on.\n",
    "- ❌ If the code cell throws an error, go back and fix incorrect parts."
   ]
  },
  {
   "cell_type": "code",
   "execution_count": 71,
   "metadata": {
    "nbgrader": {
     "grade": true,
     "grade_id": "challenge-09",
     "locked": true,
     "points": "1",
     "solution": false
    }
   },
   "outputs": [],
   "source": [
    "df_sneakers_copy = df_sneakers_backup.copy()\n",
    "\n",
    "pd.testing.assert_frame_equal(\n",
    "    df_sneakers_copy \\\n",
    "        .query(\"price < 1000\") \\\n",
    "        .sort_values(df_sneakers_copy.columns.to_list()) \\\n",
    "        .reset_index(drop=True),\n",
    "    df_under_1000.reset_index(drop=True) \\\n",
    "        .sort_values(df_under_1000.columns.to_list()) \\\n",
    "        .reset_index(drop=True)\n",
    ")"
   ]
  },
  {
   "cell_type": "markdown",
   "metadata": {},
   "source": [
    "---\n",
    "\n",
    "### 🎯 Challenge 16: Find `Nike` Sneakers over \\\\$3,000"
   ]
  },
  {
   "cell_type": "markdown",
   "metadata": {},
   "source": [
    "#### 👇 Tasks\n",
    "\n",
    "- ✔️ Find Nike sneakers over \\$3,000 and store the filtered result to `df_nike_over_3000`.\n",
    "- ✔️ `df_sneakers` should remain unaltered.\n",
    "\n",
    "#### 🔑 Expected Output\n",
    "\n",
    "|    | brand   | product                   |   price |\n",
    "|---:|:--------|:--------------------------|--------:|\n",
    "|  4 | Nike    | Air Yeezy Blink           |    3142 |\n",
    "|  5 | Nike    | Air Yeezy 2 Red October   |    6075 |\n",
    "|  6 | Nike    | Air Yeezy 2 Solar Red     |    4239 |\n",
    "|  7 | Nike    | Air Yeezy 2 Pure Platinum |    3448 |"
   ]
  },
  {
   "cell_type": "code",
   "execution_count": 72,
   "metadata": {},
   "outputs": [
    {
     "data": {
      "text/html": [
       "<div>\n",
       "<style scoped>\n",
       "    .dataframe tbody tr th:only-of-type {\n",
       "        vertical-align: middle;\n",
       "    }\n",
       "\n",
       "    .dataframe tbody tr th {\n",
       "        vertical-align: top;\n",
       "    }\n",
       "\n",
       "    .dataframe thead th {\n",
       "        text-align: right;\n",
       "    }\n",
       "</style>\n",
       "<table border=\"1\" class=\"dataframe\">\n",
       "  <thead>\n",
       "    <tr style=\"text-align: right;\">\n",
       "      <th></th>\n",
       "      <th>brand</th>\n",
       "      <th>product</th>\n",
       "      <th>price</th>\n",
       "    </tr>\n",
       "  </thead>\n",
       "  <tbody>\n",
       "    <tr>\n",
       "      <th>4</th>\n",
       "      <td>Nike</td>\n",
       "      <td>Air Yeezy Blink</td>\n",
       "      <td>3142</td>\n",
       "    </tr>\n",
       "    <tr>\n",
       "      <th>5</th>\n",
       "      <td>Nike</td>\n",
       "      <td>Air Yeezy 2 Red October</td>\n",
       "      <td>6075</td>\n",
       "    </tr>\n",
       "    <tr>\n",
       "      <th>6</th>\n",
       "      <td>Nike</td>\n",
       "      <td>Air Yeezy 2 Solar Red</td>\n",
       "      <td>4239</td>\n",
       "    </tr>\n",
       "    <tr>\n",
       "      <th>7</th>\n",
       "      <td>Nike</td>\n",
       "      <td>Air Yeezy 2 Pure Platinum</td>\n",
       "      <td>3448</td>\n",
       "    </tr>\n",
       "  </tbody>\n",
       "</table>\n",
       "</div>"
      ],
      "text/plain": [
       "  brand                    product  price\n",
       "4  Nike            Air Yeezy Blink   3142\n",
       "5  Nike    Air Yeezy 2 Red October   6075\n",
       "6  Nike      Air Yeezy 2 Solar Red   4239\n",
       "7  Nike  Air Yeezy 2 Pure Platinum   3448"
      ]
     },
     "execution_count": 72,
     "metadata": {},
     "output_type": "execute_result"
    }
   ],
   "source": [
    "### BEGIN SOLUTION\n",
    "df_nike_over_3000 = df_sneakers[(df_sneakers[\"brand\"] == \"Nike\") & (df_sneakers[\"price\"] > 3000)]\n",
    "### END SOLUTION\n",
    "\n",
    "df_nike_over_3000"
   ]
  },
  {
   "cell_type": "markdown",
   "metadata": {},
   "source": [
    "#### 🧭 Check Your Work\n",
    "\n",
    "- Once you're done, run the code cell below to test correctness.\n",
    "- ✔️ If the code cell runs without an error, you're good to move on.\n",
    "- ❌ If the code cell throws an error, go back and fix incorrect parts."
   ]
  },
  {
   "cell_type": "code",
   "execution_count": 73,
   "metadata": {
    "nbgrader": {
     "grade": true,
     "grade_id": "challenge-10",
     "locked": true,
     "points": "1",
     "solution": false
    }
   },
   "outputs": [],
   "source": [
    "df_sneakers_copy = df_sneakers_backup.copy()\n",
    "\n",
    "pd.testing.assert_frame_equal(\n",
    "    df_sneakers_copy \\\n",
    "        .query(\"(brand == 'Nike') & (price > 3000)\") \\\n",
    "        .sort_values(df_sneakers_copy.columns.to_list()) \\\n",
    "        .reset_index(drop=True),\n",
    "    df_nike_over_3000.reset_index(drop=True) \\\n",
    "        .sort_values(df_nike_over_3000.columns.to_list()) \\\n",
    "        .reset_index(drop=True)\n",
    ")"
   ]
  },
  {
   "cell_type": "markdown",
   "metadata": {},
   "source": [
    "---\n",
    "\n",
    "### 🎯 Challenge 17: Sort sneakers by price in descending order"
   ]
  },
  {
   "cell_type": "markdown",
   "metadata": {},
   "source": [
    "#### 👇 Tasks\n",
    "\n",
    "- ✔️ Sort sneakers by price in descending order and store the result to `df_sorted_by_price_desc`.\n",
    "- ✔️ `df_sneakers` should remain unaltered.\n",
    "\n",
    "#### 🔑 Expected Output\n",
    "\n",
    "|    | brand   | product                                |   price |\n",
    "|---:|:--------|:---------------------------------------|--------:|\n",
    "|  5 | Nike    | Air Yeezy 2 Red October                |    6075 |\n",
    "|  6 | Nike    | Air Yeezy 2 Solar Red                  |    4239 |\n",
    "|  7 | Nike    | Air Yeezy 2 Pure Platinum              |    3448 |\n",
    "|  4 | Nike    | Air Yeezy Blink                        |    3142 |\n",
    "|  9 | Nike    | Air Yeezy Zen Grey                     |    2139 |\n",
    "|  8 | Nike    | Air Yeezy Net                          |    1888 |\n",
    "|  0 | Adidas  | Yeezy 750 Boost Light Brown            |    1578 |\n",
    "| 10 | Adidas  | Yeezy Boost 350 V2 Black Reflective    |    1437 |\n",
    "| 12 | Adidas  | Yeezy Boost 350 V2 Synth Reflective    |    1292 |\n",
    "| 13 | Adidas  | Yeezy 350 Boost Turtledove             |    1279 |\n",
    "|  2 | Adidas  | Yeezy Boost 350 V2 Lundmark Reflective |    1009 |\n",
    "|  3 | Adidas  | Yeezy 350 Boost V2 Black/Red           |     954 |\n",
    "| 14 | Adidas  | Yeezy 750 Boost Glow in the Dark       |     917 |\n",
    "| 11 | Adidas  | Yeezy Boost 350 V2 Antlia Reflective   |     912 |\n",
    "|  1 | Adidas  | Yeezy 350 Boost Pirate Black           |     910 |"
   ]
  },
  {
   "cell_type": "code",
   "execution_count": 74,
   "metadata": {},
   "outputs": [
    {
     "data": {
      "text/html": [
       "<div>\n",
       "<style scoped>\n",
       "    .dataframe tbody tr th:only-of-type {\n",
       "        vertical-align: middle;\n",
       "    }\n",
       "\n",
       "    .dataframe tbody tr th {\n",
       "        vertical-align: top;\n",
       "    }\n",
       "\n",
       "    .dataframe thead th {\n",
       "        text-align: right;\n",
       "    }\n",
       "</style>\n",
       "<table border=\"1\" class=\"dataframe\">\n",
       "  <thead>\n",
       "    <tr style=\"text-align: right;\">\n",
       "      <th></th>\n",
       "      <th>brand</th>\n",
       "      <th>product</th>\n",
       "      <th>price</th>\n",
       "    </tr>\n",
       "  </thead>\n",
       "  <tbody>\n",
       "    <tr>\n",
       "      <th>5</th>\n",
       "      <td>Nike</td>\n",
       "      <td>Air Yeezy 2 Red October</td>\n",
       "      <td>6075</td>\n",
       "    </tr>\n",
       "    <tr>\n",
       "      <th>6</th>\n",
       "      <td>Nike</td>\n",
       "      <td>Air Yeezy 2 Solar Red</td>\n",
       "      <td>4239</td>\n",
       "    </tr>\n",
       "    <tr>\n",
       "      <th>7</th>\n",
       "      <td>Nike</td>\n",
       "      <td>Air Yeezy 2 Pure Platinum</td>\n",
       "      <td>3448</td>\n",
       "    </tr>\n",
       "    <tr>\n",
       "      <th>4</th>\n",
       "      <td>Nike</td>\n",
       "      <td>Air Yeezy Blink</td>\n",
       "      <td>3142</td>\n",
       "    </tr>\n",
       "    <tr>\n",
       "      <th>9</th>\n",
       "      <td>Nike</td>\n",
       "      <td>Air Yeezy Zen Grey</td>\n",
       "      <td>2139</td>\n",
       "    </tr>\n",
       "    <tr>\n",
       "      <th>8</th>\n",
       "      <td>Nike</td>\n",
       "      <td>Air Yeezy Net</td>\n",
       "      <td>1888</td>\n",
       "    </tr>\n",
       "    <tr>\n",
       "      <th>0</th>\n",
       "      <td>Adidas</td>\n",
       "      <td>Yeezy 750 Boost Light Brown</td>\n",
       "      <td>1578</td>\n",
       "    </tr>\n",
       "    <tr>\n",
       "      <th>10</th>\n",
       "      <td>Adidas</td>\n",
       "      <td>Yeezy Boost 350 V2 Black Reflective</td>\n",
       "      <td>1437</td>\n",
       "    </tr>\n",
       "    <tr>\n",
       "      <th>12</th>\n",
       "      <td>Adidas</td>\n",
       "      <td>Yeezy Boost 350 V2 Synth Reflective</td>\n",
       "      <td>1292</td>\n",
       "    </tr>\n",
       "    <tr>\n",
       "      <th>13</th>\n",
       "      <td>Adidas</td>\n",
       "      <td>Yeezy 350 Boost Turtledove</td>\n",
       "      <td>1279</td>\n",
       "    </tr>\n",
       "    <tr>\n",
       "      <th>2</th>\n",
       "      <td>Adidas</td>\n",
       "      <td>Yeezy Boost 350 V2 Lundmark Reflective</td>\n",
       "      <td>1009</td>\n",
       "    </tr>\n",
       "    <tr>\n",
       "      <th>3</th>\n",
       "      <td>Adidas</td>\n",
       "      <td>Yeezy 350 Boost V2 Black/Red</td>\n",
       "      <td>954</td>\n",
       "    </tr>\n",
       "    <tr>\n",
       "      <th>14</th>\n",
       "      <td>Adidas</td>\n",
       "      <td>Yeezy 750 Boost Glow in the Dark</td>\n",
       "      <td>917</td>\n",
       "    </tr>\n",
       "    <tr>\n",
       "      <th>11</th>\n",
       "      <td>Adidas</td>\n",
       "      <td>Yeezy Boost 350 V2 Antlia Reflective</td>\n",
       "      <td>912</td>\n",
       "    </tr>\n",
       "    <tr>\n",
       "      <th>1</th>\n",
       "      <td>Adidas</td>\n",
       "      <td>Yeezy 350 Boost Pirate Black</td>\n",
       "      <td>910</td>\n",
       "    </tr>\n",
       "  </tbody>\n",
       "</table>\n",
       "</div>"
      ],
      "text/plain": [
       "     brand                                 product  price\n",
       "5     Nike                 Air Yeezy 2 Red October   6075\n",
       "6     Nike                   Air Yeezy 2 Solar Red   4239\n",
       "7     Nike               Air Yeezy 2 Pure Platinum   3448\n",
       "4     Nike                         Air Yeezy Blink   3142\n",
       "9     Nike                      Air Yeezy Zen Grey   2139\n",
       "8     Nike                           Air Yeezy Net   1888\n",
       "0   Adidas             Yeezy 750 Boost Light Brown   1578\n",
       "10  Adidas     Yeezy Boost 350 V2 Black Reflective   1437\n",
       "12  Adidas     Yeezy Boost 350 V2 Synth Reflective   1292\n",
       "13  Adidas              Yeezy 350 Boost Turtledove   1279\n",
       "2   Adidas  Yeezy Boost 350 V2 Lundmark Reflective   1009\n",
       "3   Adidas            Yeezy 350 Boost V2 Black/Red    954\n",
       "14  Adidas        Yeezy 750 Boost Glow in the Dark    917\n",
       "11  Adidas    Yeezy Boost 350 V2 Antlia Reflective    912\n",
       "1   Adidas            Yeezy 350 Boost Pirate Black    910"
      ]
     },
     "execution_count": 74,
     "metadata": {},
     "output_type": "execute_result"
    }
   ],
   "source": [
    "### BEGIN SOLUTION\n",
    "df_sorted_by_price_desc = df_sneakers.sort_values(\"price\", ascending=False)\n",
    "### END SOLUTION\n",
    "\n",
    "df_sorted_by_price_desc"
   ]
  },
  {
   "cell_type": "markdown",
   "metadata": {},
   "source": [
    "#### 🧭 Check Your Work\n",
    "\n",
    "- Once you're done, run the code cell below to test correctness.\n",
    "- ✔️ If the code cell runs without an error, you're good to move on.\n",
    "- ❌ If the code cell throws an error, go back and fix incorrect parts."
   ]
  },
  {
   "cell_type": "code",
   "execution_count": 75,
   "metadata": {
    "nbgrader": {
     "grade": true,
     "grade_id": "challenge-11",
     "locked": true,
     "points": "1",
     "solution": false
    }
   },
   "outputs": [],
   "source": [
    "df_sneakers_copy = df_sneakers_backup.copy()\n",
    "\n",
    "pd.testing.assert_frame_equal(\n",
    "    df_sorted_by_price_desc \\\n",
    "        .reset_index(drop=True),\n",
    "    df_sneakers_copy.sort_values(\"price\").iloc[::-1] \\\n",
    "        .reset_index(drop=True)\n",
    ")"
   ]
  },
  {
   "cell_type": "markdown",
   "metadata": {},
   "source": [
    "---\n",
    "\n",
    "### 🎯 Challenge 18: Sneakers `> 6000` or `< 1000`"
   ]
  },
  {
   "cell_type": "markdown",
   "metadata": {},
   "source": [
    "#### 👇 Tasks\n",
    "\n",
    "- ✔️ Find sneakers that are over \\\\$6,000 **or** under \\\\$1,000.\n",
    "- ✔️ Store the result to a new DataFrame named `df_polar`.\n",
    "- ✔️ `df_sneakers` should remain unaltered.\n",
    "\n",
    "#### 🔑 Expected Output\n",
    "\n",
    "|    | brand   | product                              |   price |\n",
    "|---:|:--------|:-------------------------------------|--------:|\n",
    "|  1 | Adidas  | Yeezy 350 Boost Pirate Black         |     910 |\n",
    "|  3 | Adidas  | Yeezy 350 Boost V2 Black/Red         |     954 |\n",
    "|  5 | Nike    | Air Yeezy 2 Red October              |    6075 |\n",
    "| 11 | Adidas  | Yeezy Boost 350 V2 Antlia Reflective |     912 |\n",
    "| 14 | Adidas  | Yeezy 750 Boost Glow in the Dark     |     917 |"
   ]
  },
  {
   "cell_type": "code",
   "execution_count": 76,
   "metadata": {},
   "outputs": [
    {
     "data": {
      "text/html": [
       "<div>\n",
       "<style scoped>\n",
       "    .dataframe tbody tr th:only-of-type {\n",
       "        vertical-align: middle;\n",
       "    }\n",
       "\n",
       "    .dataframe tbody tr th {\n",
       "        vertical-align: top;\n",
       "    }\n",
       "\n",
       "    .dataframe thead th {\n",
       "        text-align: right;\n",
       "    }\n",
       "</style>\n",
       "<table border=\"1\" class=\"dataframe\">\n",
       "  <thead>\n",
       "    <tr style=\"text-align: right;\">\n",
       "      <th></th>\n",
       "      <th>brand</th>\n",
       "      <th>product</th>\n",
       "      <th>price</th>\n",
       "    </tr>\n",
       "  </thead>\n",
       "  <tbody>\n",
       "    <tr>\n",
       "      <th>1</th>\n",
       "      <td>Adidas</td>\n",
       "      <td>Yeezy 350 Boost Pirate Black</td>\n",
       "      <td>910</td>\n",
       "    </tr>\n",
       "    <tr>\n",
       "      <th>3</th>\n",
       "      <td>Adidas</td>\n",
       "      <td>Yeezy 350 Boost V2 Black/Red</td>\n",
       "      <td>954</td>\n",
       "    </tr>\n",
       "    <tr>\n",
       "      <th>5</th>\n",
       "      <td>Nike</td>\n",
       "      <td>Air Yeezy 2 Red October</td>\n",
       "      <td>6075</td>\n",
       "    </tr>\n",
       "    <tr>\n",
       "      <th>11</th>\n",
       "      <td>Adidas</td>\n",
       "      <td>Yeezy Boost 350 V2 Antlia Reflective</td>\n",
       "      <td>912</td>\n",
       "    </tr>\n",
       "    <tr>\n",
       "      <th>14</th>\n",
       "      <td>Adidas</td>\n",
       "      <td>Yeezy 750 Boost Glow in the Dark</td>\n",
       "      <td>917</td>\n",
       "    </tr>\n",
       "  </tbody>\n",
       "</table>\n",
       "</div>"
      ],
      "text/plain": [
       "     brand                               product  price\n",
       "1   Adidas          Yeezy 350 Boost Pirate Black    910\n",
       "3   Adidas          Yeezy 350 Boost V2 Black/Red    954\n",
       "5     Nike               Air Yeezy 2 Red October   6075\n",
       "11  Adidas  Yeezy Boost 350 V2 Antlia Reflective    912\n",
       "14  Adidas      Yeezy 750 Boost Glow in the Dark    917"
      ]
     },
     "execution_count": 76,
     "metadata": {},
     "output_type": "execute_result"
    }
   ],
   "source": [
    "### BEGIN SOLUTION\n",
    "df_polar = df_sneakers[(df_sneakers[\"price\"] > 6000) | (df_sneakers[\"price\"] < 1000)]\n",
    "### END SOLUTION\n",
    "\n",
    "df_polar"
   ]
  },
  {
   "cell_type": "markdown",
   "metadata": {},
   "source": [
    "#### 🧭 Check Your Work\n",
    "\n",
    "- Once you're done, run the code cell below to test correctness.\n",
    "- ✔️ If the code cell runs without an error, you're good to move on.\n",
    "- ❌ If the code cell throws an error, go back and fix incorrect parts."
   ]
  },
  {
   "cell_type": "code",
   "execution_count": 77,
   "metadata": {
    "nbgrader": {
     "grade": true,
     "grade_id": "challenge-12",
     "locked": true,
     "points": "1",
     "solution": false
    }
   },
   "outputs": [],
   "source": [
    "df_sneakers_copy = df_sneakers_backup.copy()\n",
    "\n",
    "pd.testing.assert_frame_equal(\n",
    "    df_polar.reset_index(drop=True) \\\n",
    "        .sort_values(df_polar.columns.to_list()) \\\n",
    "        .reset_index(drop=True),\n",
    "    df_sneakers_copy \\\n",
    "        .query(\"(price > 6000) | (price < 1000)\") \\\n",
    "        .sort_values(df_sneakers_copy.columns.to_list()) \\\n",
    "        .reset_index(drop=True)\n",
    ")"
   ]
  },
  {
   "cell_type": "markdown",
   "metadata": {},
   "source": [
    "---\n",
    "\n",
    "### 🎯 Challenge 19: Sort by brand ascending and price descending"
   ]
  },
  {
   "cell_type": "markdown",
   "metadata": {},
   "source": [
    "#### 👇 Tasks\n",
    "\n",
    "- ✔️ Sort `df_sneakers` by (1) brand ascending and (2) price descending within each brand.\n",
    "- ✔️ Store the result to a new DataFrame named `df_sorted_by_brand_price`.\n",
    "- ✔️ `df_sneakers` should remain unaltered.\n",
    "\n",
    "#### 🔑 Expected Output\n",
    "\n",
    "|    | brand   | product                                |   price |\n",
    "|---:|:--------|:---------------------------------------|--------:|\n",
    "|  0 | Adidas  | Yeezy 750 Boost Light Brown            |    1578 |\n",
    "| 10 | Adidas  | Yeezy Boost 350 V2 Black Reflective    |    1437 |\n",
    "| 12 | Adidas  | Yeezy Boost 350 V2 Synth Reflective    |    1292 |\n",
    "| 13 | Adidas  | Yeezy 350 Boost Turtledove             |    1279 |\n",
    "|  2 | Adidas  | Yeezy Boost 350 V2 Lundmark Reflective |    1009 |\n",
    "|  3 | Adidas  | Yeezy 350 Boost V2 Black/Red           |     954 |\n",
    "| 14 | Adidas  | Yeezy 750 Boost Glow in the Dark       |     917 |\n",
    "| 11 | Adidas  | Yeezy Boost 350 V2 Antlia Reflective   |     912 |\n",
    "|  1 | Adidas  | Yeezy 350 Boost Pirate Black           |     910 |\n",
    "|  5 | Nike    | Air Yeezy 2 Red October                |    6075 |\n",
    "|  6 | Nike    | Air Yeezy 2 Solar Red                  |    4239 |\n",
    "|  7 | Nike    | Air Yeezy 2 Pure Platinum              |    3448 |\n",
    "|  4 | Nike    | Air Yeezy Blink                        |    3142 |\n",
    "|  9 | Nike    | Air Yeezy Zen Grey                     |    2139 |\n",
    "|  8 | Nike    | Air Yeezy Net                          |    1888 |"
   ]
  },
  {
   "cell_type": "code",
   "execution_count": 78,
   "metadata": {},
   "outputs": [
    {
     "data": {
      "text/html": [
       "<div>\n",
       "<style scoped>\n",
       "    .dataframe tbody tr th:only-of-type {\n",
       "        vertical-align: middle;\n",
       "    }\n",
       "\n",
       "    .dataframe tbody tr th {\n",
       "        vertical-align: top;\n",
       "    }\n",
       "\n",
       "    .dataframe thead th {\n",
       "        text-align: right;\n",
       "    }\n",
       "</style>\n",
       "<table border=\"1\" class=\"dataframe\">\n",
       "  <thead>\n",
       "    <tr style=\"text-align: right;\">\n",
       "      <th></th>\n",
       "      <th>brand</th>\n",
       "      <th>product</th>\n",
       "      <th>price</th>\n",
       "    </tr>\n",
       "  </thead>\n",
       "  <tbody>\n",
       "    <tr>\n",
       "      <th>0</th>\n",
       "      <td>Adidas</td>\n",
       "      <td>Yeezy 750 Boost Light Brown</td>\n",
       "      <td>1578</td>\n",
       "    </tr>\n",
       "    <tr>\n",
       "      <th>10</th>\n",
       "      <td>Adidas</td>\n",
       "      <td>Yeezy Boost 350 V2 Black Reflective</td>\n",
       "      <td>1437</td>\n",
       "    </tr>\n",
       "    <tr>\n",
       "      <th>12</th>\n",
       "      <td>Adidas</td>\n",
       "      <td>Yeezy Boost 350 V2 Synth Reflective</td>\n",
       "      <td>1292</td>\n",
       "    </tr>\n",
       "    <tr>\n",
       "      <th>13</th>\n",
       "      <td>Adidas</td>\n",
       "      <td>Yeezy 350 Boost Turtledove</td>\n",
       "      <td>1279</td>\n",
       "    </tr>\n",
       "    <tr>\n",
       "      <th>2</th>\n",
       "      <td>Adidas</td>\n",
       "      <td>Yeezy Boost 350 V2 Lundmark Reflective</td>\n",
       "      <td>1009</td>\n",
       "    </tr>\n",
       "    <tr>\n",
       "      <th>3</th>\n",
       "      <td>Adidas</td>\n",
       "      <td>Yeezy 350 Boost V2 Black/Red</td>\n",
       "      <td>954</td>\n",
       "    </tr>\n",
       "    <tr>\n",
       "      <th>14</th>\n",
       "      <td>Adidas</td>\n",
       "      <td>Yeezy 750 Boost Glow in the Dark</td>\n",
       "      <td>917</td>\n",
       "    </tr>\n",
       "    <tr>\n",
       "      <th>11</th>\n",
       "      <td>Adidas</td>\n",
       "      <td>Yeezy Boost 350 V2 Antlia Reflective</td>\n",
       "      <td>912</td>\n",
       "    </tr>\n",
       "    <tr>\n",
       "      <th>1</th>\n",
       "      <td>Adidas</td>\n",
       "      <td>Yeezy 350 Boost Pirate Black</td>\n",
       "      <td>910</td>\n",
       "    </tr>\n",
       "    <tr>\n",
       "      <th>5</th>\n",
       "      <td>Nike</td>\n",
       "      <td>Air Yeezy 2 Red October</td>\n",
       "      <td>6075</td>\n",
       "    </tr>\n",
       "    <tr>\n",
       "      <th>6</th>\n",
       "      <td>Nike</td>\n",
       "      <td>Air Yeezy 2 Solar Red</td>\n",
       "      <td>4239</td>\n",
       "    </tr>\n",
       "    <tr>\n",
       "      <th>7</th>\n",
       "      <td>Nike</td>\n",
       "      <td>Air Yeezy 2 Pure Platinum</td>\n",
       "      <td>3448</td>\n",
       "    </tr>\n",
       "    <tr>\n",
       "      <th>4</th>\n",
       "      <td>Nike</td>\n",
       "      <td>Air Yeezy Blink</td>\n",
       "      <td>3142</td>\n",
       "    </tr>\n",
       "    <tr>\n",
       "      <th>9</th>\n",
       "      <td>Nike</td>\n",
       "      <td>Air Yeezy Zen Grey</td>\n",
       "      <td>2139</td>\n",
       "    </tr>\n",
       "    <tr>\n",
       "      <th>8</th>\n",
       "      <td>Nike</td>\n",
       "      <td>Air Yeezy Net</td>\n",
       "      <td>1888</td>\n",
       "    </tr>\n",
       "  </tbody>\n",
       "</table>\n",
       "</div>"
      ],
      "text/plain": [
       "     brand                                 product  price\n",
       "0   Adidas             Yeezy 750 Boost Light Brown   1578\n",
       "10  Adidas     Yeezy Boost 350 V2 Black Reflective   1437\n",
       "12  Adidas     Yeezy Boost 350 V2 Synth Reflective   1292\n",
       "13  Adidas              Yeezy 350 Boost Turtledove   1279\n",
       "2   Adidas  Yeezy Boost 350 V2 Lundmark Reflective   1009\n",
       "3   Adidas            Yeezy 350 Boost V2 Black/Red    954\n",
       "14  Adidas        Yeezy 750 Boost Glow in the Dark    917\n",
       "11  Adidas    Yeezy Boost 350 V2 Antlia Reflective    912\n",
       "1   Adidas            Yeezy 350 Boost Pirate Black    910\n",
       "5     Nike                 Air Yeezy 2 Red October   6075\n",
       "6     Nike                   Air Yeezy 2 Solar Red   4239\n",
       "7     Nike               Air Yeezy 2 Pure Platinum   3448\n",
       "4     Nike                         Air Yeezy Blink   3142\n",
       "9     Nike                      Air Yeezy Zen Grey   2139\n",
       "8     Nike                           Air Yeezy Net   1888"
      ]
     },
     "execution_count": 78,
     "metadata": {},
     "output_type": "execute_result"
    }
   ],
   "source": [
    "### BEGIN SOLUTION\n",
    "df_sorted_by_brand_price = df_sneakers.sort_values([\"brand\", \"price\"], ascending=[True, False])\n",
    "### END SOLUTION\n",
    "\n",
    "df_sorted_by_brand_price"
   ]
  },
  {
   "cell_type": "markdown",
   "metadata": {},
   "source": [
    "#### 🧭 Check Your Work\n",
    "\n",
    "- Once you're done, run the code cell below to test correctness.\n",
    "- ✔️ If the code cell runs without an error, you're good to move on.\n",
    "- ❌ If the code cell throws an error, go back and fix incorrect parts."
   ]
  },
  {
   "cell_type": "code",
   "execution_count": 79,
   "metadata": {
    "nbgrader": {
     "grade": true,
     "grade_id": "challenge-13",
     "locked": true,
     "points": "1",
     "solution": false
    },
    "tags": []
   },
   "outputs": [],
   "source": [
    "df_sneakers_copy = df_sneakers_backup.copy()\n",
    "\n",
    "pd.testing.assert_frame_equal(\n",
    "    df_sorted_by_brand_price \\\n",
    "        .reset_index(drop=True),\n",
    "    df_sneakers_copy.sort_values([\"brand\", \"price\"], ascending=[False, True]).iloc[::-1] \\\n",
    "        .reset_index(drop=True)\n",
    ")"
   ]
  }
 ],
 "metadata": {
  "colab": {
   "collapsed_sections": [
    "TwWyyaQPem7q",
    "EdrK-mBsem7r",
    "VsIF7Fwwem7r",
    "krFaYS9Hem7u",
    "Iyt-q8KRem7v",
    "Yyt2-xOaem7v",
    "ldRi46SUem7v",
    "DW30mOfZem7v",
    "TpncLNBdem7x",
    "juiThUb1em7y",
    "3In4qrctem7y",
    "oNNKvOTqem7y",
    "Mrzib8KMem7z",
    "GfnhBiRvem7z",
    "T4ys5Rh6em7z",
    "9vwnunEsem70",
    "gIPWMysLem70",
    "v85tniIvem70",
    "vFsItQLaem71",
    "3-VRC3X9em71",
    "gHFL-CDcem71",
    "_L0Jctu8em71",
    "F4tMGPZvem73",
    "CwpwSAs9em74"
   ],
   "name": "L11-pandas-solution.ipynb",
   "provenance": []
  },
  "kernelspec": {
   "display_name": "Python 3 (ipykernel)",
   "language": "python",
   "name": "python3"
  },
  "language_info": {
   "codemirror_mode": {
    "name": "ipython",
    "version": 3
   },
   "file_extension": ".py",
   "mimetype": "text/x-python",
   "name": "python",
   "nbconvert_exporter": "python",
   "pygments_lexer": "ipython3",
   "version": "3.9.7"
  }
 },
 "nbformat": 4,
 "nbformat_minor": 4
}
