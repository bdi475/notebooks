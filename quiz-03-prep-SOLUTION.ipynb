{
 "cells": [
  {
   "cell_type": "markdown",
   "id": "53ce47a0-b947-4ae0-86f1-d480d9147b47",
   "metadata": {},
   "source": [
    "# Company Analysis (Quiz 3 Prep)"
   ]
  },
  {
   "cell_type": "markdown",
   "id": "8a5d441e-bbbb-44ad-b2f9-7b22b31ef665",
   "metadata": {
    "tags": []
   },
   "source": [
    "## Load libraries and data"
   ]
  },
  {
   "cell_type": "markdown",
   "id": "abab4537-7d48-478b-aab6-a6ccda834b9c",
   "metadata": {},
   "source": [
    "Import packages."
   ]
  },
  {
   "cell_type": "code",
   "execution_count": 1,
   "id": "19247c62-4f3f-4697-98ce-60b118c342ff",
   "metadata": {},
   "outputs": [],
   "source": [
    "import pandas as pd\n",
    "import numpy as np"
   ]
  },
  {
   "cell_type": "markdown",
   "id": "59897797-f3e9-4c7f-b82f-ec296de1fb5b",
   "metadata": {},
   "source": [
    "### Dataset\n",
    "\n",
    "There are two tables in our dataset.\n",
    "\n",
    "- `df_companies` contains some basic information about a few hundred fictitous companies.\n",
    "- `df_info` contains some additional information about those companies."
   ]
  },
  {
   "cell_type": "code",
   "execution_count": 2,
   "id": "775c481b-2bae-40da-931e-5073803efa79",
   "metadata": {},
   "outputs": [
    {
     "data": {
      "text/html": [
       "<div>\n",
       "<style scoped>\n",
       "    .dataframe tbody tr th:only-of-type {\n",
       "        vertical-align: middle;\n",
       "    }\n",
       "\n",
       "    .dataframe tbody tr th {\n",
       "        vertical-align: top;\n",
       "    }\n",
       "\n",
       "    .dataframe thead th {\n",
       "        text-align: right;\n",
       "    }\n",
       "</style>\n",
       "<table border=\"1\" class=\"dataframe\">\n",
       "  <thead>\n",
       "    <tr style=\"text-align: right;\">\n",
       "      <th></th>\n",
       "      <th>company_id</th>\n",
       "      <th>company_name</th>\n",
       "      <th>country</th>\n",
       "      <th>is_profitable</th>\n",
       "      <th>branches</th>\n",
       "    </tr>\n",
       "  </thead>\n",
       "  <tbody>\n",
       "    <tr>\n",
       "      <th>0</th>\n",
       "      <td>572907</td>\n",
       "      <td>Smith Group</td>\n",
       "      <td>Armenia</td>\n",
       "      <td>True</td>\n",
       "      <td>1</td>\n",
       "    </tr>\n",
       "    <tr>\n",
       "      <th>1</th>\n",
       "      <td>859451</td>\n",
       "      <td>Martinez-Cooper</td>\n",
       "      <td>Brazil</td>\n",
       "      <td>True</td>\n",
       "      <td>2</td>\n",
       "    </tr>\n",
       "    <tr>\n",
       "      <th>2</th>\n",
       "      <td>355366</td>\n",
       "      <td>Estrada-Mccann</td>\n",
       "      <td>Saint Kitts and Nevis</td>\n",
       "      <td>False</td>\n",
       "      <td>1</td>\n",
       "    </tr>\n",
       "    <tr>\n",
       "      <th>3</th>\n",
       "      <td>512925</td>\n",
       "      <td>Mitchell Inc</td>\n",
       "      <td>United States Minor Outlying Islands</td>\n",
       "      <td>True</td>\n",
       "      <td>4</td>\n",
       "    </tr>\n",
       "    <tr>\n",
       "      <th>4</th>\n",
       "      <td>664465</td>\n",
       "      <td>Aguirre Ltd</td>\n",
       "      <td>Fiji</td>\n",
       "      <td>True</td>\n",
       "      <td>4</td>\n",
       "    </tr>\n",
       "  </tbody>\n",
       "</table>\n",
       "</div>"
      ],
      "text/plain": [
       "   company_id     company_name                               country  \\\n",
       "0      572907      Smith Group                               Armenia   \n",
       "1      859451  Martinez-Cooper                                Brazil   \n",
       "2      355366   Estrada-Mccann                 Saint Kitts and Nevis   \n",
       "3      512925     Mitchell Inc  United States Minor Outlying Islands   \n",
       "4      664465      Aguirre Ltd                                  Fiji   \n",
       "\n",
       "   is_profitable  branches  \n",
       "0           True         1  \n",
       "1           True         2  \n",
       "2          False         1  \n",
       "3           True         4  \n",
       "4           True         4  "
      ]
     },
     "execution_count": 2,
     "metadata": {},
     "output_type": "execute_result"
    }
   ],
   "source": [
    "df_companies = pd.read_csv('https://github.com/bdi475/datasets/raw/56972ccafac4b703553bd66f4e96720b0d43127d/fake-companies.csv')\n",
    "\n",
    "df_companies.head()"
   ]
  },
  {
   "cell_type": "code",
   "execution_count": 3,
   "id": "53c8ff16-3e80-44f3-abf3-4f3a2324dae8",
   "metadata": {},
   "outputs": [
    {
     "data": {
      "text/html": [
       "<div>\n",
       "<style scoped>\n",
       "    .dataframe tbody tr th:only-of-type {\n",
       "        vertical-align: middle;\n",
       "    }\n",
       "\n",
       "    .dataframe tbody tr th {\n",
       "        vertical-align: top;\n",
       "    }\n",
       "\n",
       "    .dataframe thead th {\n",
       "        text-align: right;\n",
       "    }\n",
       "</style>\n",
       "<table border=\"1\" class=\"dataframe\">\n",
       "  <thead>\n",
       "    <tr style=\"text-align: right;\">\n",
       "      <th></th>\n",
       "      <th>company_id</th>\n",
       "      <th>ceo</th>\n",
       "      <th>industry</th>\n",
       "      <th>revenue</th>\n",
       "      <th>inception_date</th>\n",
       "    </tr>\n",
       "  </thead>\n",
       "  <tbody>\n",
       "    <tr>\n",
       "      <th>0</th>\n",
       "      <td>572907</td>\n",
       "      <td>Joshua Castillo</td>\n",
       "      <td>Software</td>\n",
       "      <td>6445200</td>\n",
       "      <td>2015-08-01</td>\n",
       "    </tr>\n",
       "    <tr>\n",
       "      <th>1</th>\n",
       "      <td>859451</td>\n",
       "      <td>Jenna Perkins</td>\n",
       "      <td>Education</td>\n",
       "      <td>4263696</td>\n",
       "      <td>2012-11-29</td>\n",
       "    </tr>\n",
       "    <tr>\n",
       "      <th>2</th>\n",
       "      <td>355366</td>\n",
       "      <td>James Neal</td>\n",
       "      <td>Financial Services</td>\n",
       "      <td>612742</td>\n",
       "      <td>2018-05-18</td>\n",
       "    </tr>\n",
       "    <tr>\n",
       "      <th>3</th>\n",
       "      <td>512925</td>\n",
       "      <td>Sarah Yates</td>\n",
       "      <td>Financial Services</td>\n",
       "      <td>3732464</td>\n",
       "      <td>2016-03-07</td>\n",
       "    </tr>\n",
       "    <tr>\n",
       "      <th>4</th>\n",
       "      <td>664465</td>\n",
       "      <td>Krystal Wallace</td>\n",
       "      <td>Manufacturing</td>\n",
       "      <td>5840134</td>\n",
       "      <td>2018-04-03</td>\n",
       "    </tr>\n",
       "  </tbody>\n",
       "</table>\n",
       "</div>"
      ],
      "text/plain": [
       "   company_id              ceo            industry  revenue inception_date\n",
       "0      572907  Joshua Castillo            Software  6445200     2015-08-01\n",
       "1      859451    Jenna Perkins           Education  4263696     2012-11-29\n",
       "2      355366       James Neal  Financial Services   612742     2018-05-18\n",
       "3      512925      Sarah Yates  Financial Services  3732464     2016-03-07\n",
       "4      664465  Krystal Wallace       Manufacturing  5840134     2018-04-03"
      ]
     },
     "execution_count": 3,
     "metadata": {},
     "output_type": "execute_result"
    }
   ],
   "source": [
    "df_info = pd.read_csv('https://github.com/bdi475/datasets/raw/56972ccafac4b703553bd66f4e96720b0d43127d/fake-company-info.csv')\n",
    "\n",
    "df_info.head()"
   ]
  },
  {
   "cell_type": "markdown",
   "id": "230f949a-f1a7-4ab8-b38d-cdf35de3d3c5",
   "metadata": {},
   "source": [
    "## Questions"
   ]
  },
  {
   "cell_type": "markdown",
   "id": "9c855ab9-e26e-482f-b9d8-915625b9470e",
   "metadata": {},
   "source": [
    "### Q1. How many companies are in `df_companies`?\n",
    "\n",
    "How many companies (i.e., number of rows) does `df_companies` contain?\n"
   ]
  },
  {
   "cell_type": "code",
   "execution_count": 4,
   "id": "1dfe7cc8-da38-47f2-a042-89abbdbecef2",
   "metadata": {},
   "outputs": [
    {
     "data": {
      "text/plain": [
       "250"
      ]
     },
     "execution_count": 4,
     "metadata": {},
     "output_type": "execute_result"
    }
   ],
   "source": [
    "# YOUR CODE BEGINS\n",
    "df_companies.shape[0]\n",
    "# YOUR CODE ENDS"
   ]
  },
  {
   "cell_type": "markdown",
   "id": "c50b997d-fe82-4b53-acd8-80f698c5d555",
   "metadata": {},
   "source": [
    "**Answer**: 250"
   ]
  },
  {
   "cell_type": "markdown",
   "id": "f6851597-8a98-4de3-9991-3baf41085b5e",
   "metadata": {},
   "source": [
    "### Q2. How many companies are profitable?\n",
    "\n",
    "The `is_profitable` column in `df_companies` indicates whether a company was profitable or not at the time of exit.\n",
    "\n",
    "#### 💡 Hint\n",
    "\n",
    "Find the number of rows where `is_profitable` is `True`."
   ]
  },
  {
   "cell_type": "code",
   "execution_count": 5,
   "id": "fbf7a972-3c6c-42e5-a46a-e345fe062a02",
   "metadata": {},
   "outputs": [
    {
     "data": {
      "text/plain": [
       "207"
      ]
     },
     "execution_count": 5,
     "metadata": {},
     "output_type": "execute_result"
    }
   ],
   "source": [
    "# YOUR CODE BEGINS\n",
    "df_companies[df_companies['is_profitable']].shape[0]\n",
    "# YOUR CODE ENDS"
   ]
  },
  {
   "cell_type": "markdown",
   "id": "d3483044-3daa-4228-bf62-eb198a353a95",
   "metadata": {},
   "source": [
    "**Answer**: 207"
   ]
  },
  {
   "cell_type": "markdown",
   "id": "0647fd42-0374-4356-9747-791231525779",
   "metadata": {},
   "source": [
    "### Q3. Does `df_companies` contain any row with missing `country` value (`NaN`)?"
   ]
  },
  {
   "cell_type": "code",
   "execution_count": 6,
   "id": "3c2e0cef-acab-47fe-a46d-4d6c6917fe73",
   "metadata": {},
   "outputs": [
    {
     "data": {
      "text/html": [
       "<div>\n",
       "<style scoped>\n",
       "    .dataframe tbody tr th:only-of-type {\n",
       "        vertical-align: middle;\n",
       "    }\n",
       "\n",
       "    .dataframe tbody tr th {\n",
       "        vertical-align: top;\n",
       "    }\n",
       "\n",
       "    .dataframe thead th {\n",
       "        text-align: right;\n",
       "    }\n",
       "</style>\n",
       "<table border=\"1\" class=\"dataframe\">\n",
       "  <thead>\n",
       "    <tr style=\"text-align: right;\">\n",
       "      <th></th>\n",
       "      <th>company_id</th>\n",
       "      <th>company_name</th>\n",
       "      <th>country</th>\n",
       "      <th>is_profitable</th>\n",
       "      <th>branches</th>\n",
       "    </tr>\n",
       "  </thead>\n",
       "  <tbody>\n",
       "    <tr>\n",
       "      <th>120</th>\n",
       "      <td>528219</td>\n",
       "      <td>Stein Group</td>\n",
       "      <td>NaN</td>\n",
       "      <td>True</td>\n",
       "      <td>4</td>\n",
       "    </tr>\n",
       "    <tr>\n",
       "      <th>222</th>\n",
       "      <td>146245</td>\n",
       "      <td>Lopez-Scott</td>\n",
       "      <td>NaN</td>\n",
       "      <td>True</td>\n",
       "      <td>1</td>\n",
       "    </tr>\n",
       "  </tbody>\n",
       "</table>\n",
       "</div>"
      ],
      "text/plain": [
       "     company_id company_name country  is_profitable  branches\n",
       "120      528219  Stein Group     NaN           True         4\n",
       "222      146245  Lopez-Scott     NaN           True         1"
      ]
     },
     "execution_count": 6,
     "metadata": {},
     "output_type": "execute_result"
    }
   ],
   "source": [
    "# YOUR CODE BEGINS\n",
    "df_companies[df_companies['country'].isna()]\n",
    "# YOUR CODE ENDS"
   ]
  },
  {
   "cell_type": "markdown",
   "id": "cef9a837-b614-42a7-a62a-87cf2c6cb364",
   "metadata": {},
   "source": [
    "**Answer**: Yes"
   ]
  },
  {
   "cell_type": "markdown",
   "id": "0c5a9db6-599c-44c0-9e38-8d430d5dd97c",
   "metadata": {},
   "source": [
    "### Merge DataFrames (ungraded)\n",
    "\n",
    "Merge `df_info` into `df_companies` using `pd.merge()`.\n",
    "\n",
    "- We will provide you the template code to merge the two tables in the quiz.\n",
    "- Although this task is not graded, you will need to join two tables to answer the remaining questions."
   ]
  },
  {
   "cell_type": "code",
   "execution_count": 7,
   "id": "5f2d330b-654d-46fd-8513-f89b66babe4f",
   "metadata": {},
   "outputs": [
    {
     "name": "stdout",
     "output_type": "stream",
     "text": [
      "(250, 9)\n"
     ]
    }
   ],
   "source": [
    "df = pd.merge(\n",
    "    left=df_companies,\n",
    "    right=df_info,\n",
    "    on='company_id',\n",
    "    how='inner'\n",
    ")\n",
    "print(df.shape) # should print (250, 9)"
   ]
  },
  {
   "cell_type": "code",
   "execution_count": 8,
   "id": "fd68d3b2-082c-4aea-a694-5026a265718f",
   "metadata": {},
   "outputs": [
    {
     "data": {
      "text/html": [
       "<div>\n",
       "<style scoped>\n",
       "    .dataframe tbody tr th:only-of-type {\n",
       "        vertical-align: middle;\n",
       "    }\n",
       "\n",
       "    .dataframe tbody tr th {\n",
       "        vertical-align: top;\n",
       "    }\n",
       "\n",
       "    .dataframe thead th {\n",
       "        text-align: right;\n",
       "    }\n",
       "</style>\n",
       "<table border=\"1\" class=\"dataframe\">\n",
       "  <thead>\n",
       "    <tr style=\"text-align: right;\">\n",
       "      <th></th>\n",
       "      <th>company_id</th>\n",
       "      <th>company_name</th>\n",
       "      <th>country</th>\n",
       "      <th>is_profitable</th>\n",
       "      <th>branches</th>\n",
       "      <th>ceo</th>\n",
       "      <th>industry</th>\n",
       "      <th>revenue</th>\n",
       "      <th>inception_date</th>\n",
       "    </tr>\n",
       "  </thead>\n",
       "  <tbody>\n",
       "    <tr>\n",
       "      <th>0</th>\n",
       "      <td>572907</td>\n",
       "      <td>Smith Group</td>\n",
       "      <td>Armenia</td>\n",
       "      <td>True</td>\n",
       "      <td>1</td>\n",
       "      <td>Joshua Castillo</td>\n",
       "      <td>Software</td>\n",
       "      <td>6445200</td>\n",
       "      <td>2015-08-01</td>\n",
       "    </tr>\n",
       "    <tr>\n",
       "      <th>1</th>\n",
       "      <td>859451</td>\n",
       "      <td>Martinez-Cooper</td>\n",
       "      <td>Brazil</td>\n",
       "      <td>True</td>\n",
       "      <td>2</td>\n",
       "      <td>Jenna Perkins</td>\n",
       "      <td>Education</td>\n",
       "      <td>4263696</td>\n",
       "      <td>2012-11-29</td>\n",
       "    </tr>\n",
       "    <tr>\n",
       "      <th>2</th>\n",
       "      <td>355366</td>\n",
       "      <td>Estrada-Mccann</td>\n",
       "      <td>Saint Kitts and Nevis</td>\n",
       "      <td>False</td>\n",
       "      <td>1</td>\n",
       "      <td>James Neal</td>\n",
       "      <td>Financial Services</td>\n",
       "      <td>612742</td>\n",
       "      <td>2018-05-18</td>\n",
       "    </tr>\n",
       "  </tbody>\n",
       "</table>\n",
       "</div>"
      ],
      "text/plain": [
       "   company_id     company_name                country  is_profitable  \\\n",
       "0      572907      Smith Group                Armenia           True   \n",
       "1      859451  Martinez-Cooper                 Brazil           True   \n",
       "2      355366   Estrada-Mccann  Saint Kitts and Nevis          False   \n",
       "\n",
       "   branches              ceo            industry  revenue inception_date  \n",
       "0         1  Joshua Castillo            Software  6445200     2015-08-01  \n",
       "1         2    Jenna Perkins           Education  4263696     2012-11-29  \n",
       "2         1       James Neal  Financial Services   612742     2018-05-18  "
      ]
     },
     "execution_count": 8,
     "metadata": {},
     "output_type": "execute_result"
    }
   ],
   "source": [
    "df.head(3)"
   ]
  },
  {
   "cell_type": "markdown",
   "id": "a09c3d5e-9d54-4ee2-a7e4-7f7285cc2320",
   "metadata": {},
   "source": [
    "### Q4. Which company recorded the largest revenue in India?\n",
    "\n",
    "#### 💡 Hint\n",
    "\n",
    "- Find rows where the country column's value is `'India'`.\n",
    "- Then, look for the company with the largest `revenue`."
   ]
  },
  {
   "cell_type": "code",
   "execution_count": 9,
   "id": "647d195b-44aa-424f-9bb8-9d6f5d0714ef",
   "metadata": {},
   "outputs": [
    {
     "data": {
      "text/html": [
       "<div>\n",
       "<style scoped>\n",
       "    .dataframe tbody tr th:only-of-type {\n",
       "        vertical-align: middle;\n",
       "    }\n",
       "\n",
       "    .dataframe tbody tr th {\n",
       "        vertical-align: top;\n",
       "    }\n",
       "\n",
       "    .dataframe thead th {\n",
       "        text-align: right;\n",
       "    }\n",
       "</style>\n",
       "<table border=\"1\" class=\"dataframe\">\n",
       "  <thead>\n",
       "    <tr style=\"text-align: right;\">\n",
       "      <th></th>\n",
       "      <th>company_id</th>\n",
       "      <th>company_name</th>\n",
       "      <th>country</th>\n",
       "      <th>is_profitable</th>\n",
       "      <th>branches</th>\n",
       "      <th>ceo</th>\n",
       "      <th>industry</th>\n",
       "      <th>revenue</th>\n",
       "      <th>inception_date</th>\n",
       "    </tr>\n",
       "  </thead>\n",
       "  <tbody>\n",
       "    <tr>\n",
       "      <th>234</th>\n",
       "      <td>578730</td>\n",
       "      <td>Newton-Reynolds</td>\n",
       "      <td>India</td>\n",
       "      <td>True</td>\n",
       "      <td>2</td>\n",
       "      <td>Joseph Martinez</td>\n",
       "      <td>Software</td>\n",
       "      <td>6235307</td>\n",
       "      <td>2012-08-02</td>\n",
       "    </tr>\n",
       "  </tbody>\n",
       "</table>\n",
       "</div>"
      ],
      "text/plain": [
       "     company_id     company_name country  is_profitable  branches  \\\n",
       "234      578730  Newton-Reynolds   India           True         2   \n",
       "\n",
       "                 ceo  industry  revenue inception_date  \n",
       "234  Joseph Martinez  Software  6235307     2012-08-02  "
      ]
     },
     "execution_count": 9,
     "metadata": {},
     "output_type": "execute_result"
    }
   ],
   "source": [
    "# YOUR CODE BEGINS\n",
    "df[df['country'] == 'India'].sort_values('revenue', ascending=False).head(1)\n",
    "# YOUR CODE ENDS"
   ]
  },
  {
   "cell_type": "markdown",
   "id": "49a3baed-80b9-4d52-89d3-ad0f0cddde60",
   "metadata": {},
   "source": [
    "**Answer**: Newton-Reynolds"
   ]
  },
  {
   "cell_type": "markdown",
   "id": "6a1dc61f-9b45-403f-a13f-b2e8430115eb",
   "metadata": {},
   "source": [
    "### Q5. Out of the companies with an inception year of 2018, which company recorded the largest revenue?\n",
    "\n",
    "#### 💡 Hint\n",
    "\n",
    "- Extract the year from the `inception_date` column into a new column named `year`.\n",
    "- Then, filter rows where `year == 2018`.\n",
    "- After filtering, sort by revenue in descending order. The first row in the returned table contains the answer you're looking for.\n",
    "\n",
    "#### 🔑 Sample Code\n",
    "\n",
    "The sample code below converts `my_column` to a datetime type and extracts the year to a new column.\n",
    "\n",
    "```python\n",
    "# YOUR CODE BEGINS\n",
    "# convert my_column to a datetime type\n",
    "df['my_column'] = pd.to_datetime(df['my_column'])\n",
    "\n",
    "# extract year into a new column\n",
    "df['year'] = df['my_column'].dt.year\n",
    "\n",
    "# write more code below to first filter rows where year == 2018,\n",
    "# and then find the company with the largest revenue\n",
    "\n",
    "# YOUR CODE ENDS\n",
    "```"
   ]
  },
  {
   "cell_type": "code",
   "execution_count": 10,
   "id": "f7531677-2bcb-4ee5-854c-992824932468",
   "metadata": {},
   "outputs": [
    {
     "data": {
      "text/html": [
       "<div>\n",
       "<style scoped>\n",
       "    .dataframe tbody tr th:only-of-type {\n",
       "        vertical-align: middle;\n",
       "    }\n",
       "\n",
       "    .dataframe tbody tr th {\n",
       "        vertical-align: top;\n",
       "    }\n",
       "\n",
       "    .dataframe thead th {\n",
       "        text-align: right;\n",
       "    }\n",
       "</style>\n",
       "<table border=\"1\" class=\"dataframe\">\n",
       "  <thead>\n",
       "    <tr style=\"text-align: right;\">\n",
       "      <th></th>\n",
       "      <th>company_id</th>\n",
       "      <th>company_name</th>\n",
       "      <th>country</th>\n",
       "      <th>is_profitable</th>\n",
       "      <th>branches</th>\n",
       "      <th>ceo</th>\n",
       "      <th>industry</th>\n",
       "      <th>revenue</th>\n",
       "      <th>inception_date</th>\n",
       "      <th>year</th>\n",
       "    </tr>\n",
       "  </thead>\n",
       "  <tbody>\n",
       "    <tr>\n",
       "      <th>36</th>\n",
       "      <td>348443</td>\n",
       "      <td>Barnes-Weiss</td>\n",
       "      <td>Myanmar</td>\n",
       "      <td>True</td>\n",
       "      <td>1</td>\n",
       "      <td>James Nichols</td>\n",
       "      <td>Software</td>\n",
       "      <td>9704591</td>\n",
       "      <td>2018-05-06</td>\n",
       "      <td>2018</td>\n",
       "    </tr>\n",
       "  </tbody>\n",
       "</table>\n",
       "</div>"
      ],
      "text/plain": [
       "    company_id  company_name  country  is_profitable  branches            ceo  \\\n",
       "36      348443  Barnes-Weiss  Myanmar           True         1  James Nichols   \n",
       "\n",
       "    industry  revenue inception_date  year  \n",
       "36  Software  9704591     2018-05-06  2018  "
      ]
     },
     "execution_count": 10,
     "metadata": {},
     "output_type": "execute_result"
    }
   ],
   "source": [
    "# YOUR CODE BEGINS\n",
    "df['inception_date'] = pd.to_datetime(df['inception_date'])\n",
    "df['year'] = df['inception_date'].dt.year\n",
    "\n",
    "df[df['year'] == 2018].sort_values('revenue', ascending=False).head(1)\n",
    "# YOUR CODE ENDS"
   ]
  },
  {
   "cell_type": "markdown",
   "id": "b00364b0-d225-423f-9a08-f999e04d3d08",
   "metadata": {},
   "source": [
    "**Answer**: Barnes-Weiss"
   ]
  },
  {
   "cell_type": "markdown",
   "id": "c1cb4c18-ebe0-4660-a778-efe80ca3d187",
   "metadata": {},
   "source": [
    "### Q6. Which country has the **third** largest total revenue?\n",
    "\n",
    "#### 💡 Hint\n",
    "\n",
    "- The country with the third largest total revenue has a sum of 25415016.\n",
    "- Group by `country` and find the sum of `revenue` for each country.\n",
    "- Sort by `revenue` in descending order and find the third largest `revenue`.\n",
    "\n",
    "#### 🔑 Sample Code\n",
    "\n",
    "Replace `my_column` and `another_column` with your own values in the sample code below.\n",
    "\n",
    "```python\n",
    "# YOUR CODE BEGINS\n",
    "df_by_country = df.groupby('my_column', as_index=False).agg({\n",
    "      'another_column': 'sum'\n",
    "})\n",
    "\n",
    "df_by_country.sort_values('another_column', ascending=False).head(3)\n",
    "# YOUR CODE ENDS\n",
    "```"
   ]
  },
  {
   "cell_type": "code",
   "execution_count": 11,
   "id": "6f171a53-a0d9-468d-b56a-682ff0ecc8c8",
   "metadata": {},
   "outputs": [
    {
     "data": {
      "text/html": [
       "<div>\n",
       "<style scoped>\n",
       "    .dataframe tbody tr th:only-of-type {\n",
       "        vertical-align: middle;\n",
       "    }\n",
       "\n",
       "    .dataframe tbody tr th {\n",
       "        vertical-align: top;\n",
       "    }\n",
       "\n",
       "    .dataframe thead th {\n",
       "        text-align: right;\n",
       "    }\n",
       "</style>\n",
       "<table border=\"1\" class=\"dataframe\">\n",
       "  <thead>\n",
       "    <tr style=\"text-align: right;\">\n",
       "      <th></th>\n",
       "      <th>country</th>\n",
       "      <th>revenue</th>\n",
       "    </tr>\n",
       "  </thead>\n",
       "  <tbody>\n",
       "    <tr>\n",
       "      <th>118</th>\n",
       "      <td>Saint Kitts and Nevis</td>\n",
       "      <td>30231545</td>\n",
       "    </tr>\n",
       "    <tr>\n",
       "      <th>92</th>\n",
       "      <td>Malta</td>\n",
       "      <td>28409854</td>\n",
       "    </tr>\n",
       "    <tr>\n",
       "      <th>16</th>\n",
       "      <td>Bosnia and Herzegovina</td>\n",
       "      <td>25415016</td>\n",
       "    </tr>\n",
       "  </tbody>\n",
       "</table>\n",
       "</div>"
      ],
      "text/plain": [
       "                    country   revenue\n",
       "118   Saint Kitts and Nevis  30231545\n",
       "92                    Malta  28409854\n",
       "16   Bosnia and Herzegovina  25415016"
      ]
     },
     "execution_count": 11,
     "metadata": {},
     "output_type": "execute_result"
    }
   ],
   "source": [
    "# YOUR CODE BEGINS\n",
    "df_by_country = df.groupby('country', as_index=False).agg({\n",
    "      'revenue': 'sum'\n",
    "})\n",
    "\n",
    "df_by_country.sort_values('revenue', ascending=False).head(3)\n",
    "# YOUR CODE ENDS"
   ]
  },
  {
   "cell_type": "markdown",
   "id": "4110e32c-cc5c-4978-a56c-c7d9eb43a6a6",
   "metadata": {},
   "source": [
    "**Answer**: Bosnia and Herzegovina"
   ]
  },
  {
   "cell_type": "markdown",
   "id": "2d064491-1b8a-4d64-9f37-a1423f0c6fb7",
   "metadata": {},
   "source": [
    "### Q7. Which industry has the lowest average revenue?\n",
    "\n",
    "#### 💡 Hint\n",
    "\n",
    "- Group by `industry` and find the mean of `revenue` for each `industry`.\n",
    "- Your code will be similar to that of the previous question."
   ]
  },
  {
   "cell_type": "code",
   "execution_count": 12,
   "id": "f61fa58c-1bf4-4222-b0b5-dcda7feffa4a",
   "metadata": {},
   "outputs": [
    {
     "data": {
      "text/html": [
       "<div>\n",
       "<style scoped>\n",
       "    .dataframe tbody tr th:only-of-type {\n",
       "        vertical-align: middle;\n",
       "    }\n",
       "\n",
       "    .dataframe tbody tr th {\n",
       "        vertical-align: top;\n",
       "    }\n",
       "\n",
       "    .dataframe thead th {\n",
       "        text-align: right;\n",
       "    }\n",
       "</style>\n",
       "<table border=\"1\" class=\"dataframe\">\n",
       "  <thead>\n",
       "    <tr style=\"text-align: right;\">\n",
       "      <th></th>\n",
       "      <th>industry</th>\n",
       "      <th>revenue</th>\n",
       "    </tr>\n",
       "  </thead>\n",
       "  <tbody>\n",
       "    <tr>\n",
       "      <th>3</th>\n",
       "      <td>Manufacturing</td>\n",
       "      <td>4.468217e+06</td>\n",
       "    </tr>\n",
       "  </tbody>\n",
       "</table>\n",
       "</div>"
      ],
      "text/plain": [
       "        industry       revenue\n",
       "3  Manufacturing  4.468217e+06"
      ]
     },
     "execution_count": 12,
     "metadata": {},
     "output_type": "execute_result"
    }
   ],
   "source": [
    "# YOUR CODE BEGINS\n",
    "df_by_industry = df.groupby('industry', as_index=False).agg({\n",
    "      'revenue': 'mean'\n",
    "})\n",
    "\n",
    "df_by_industry.sort_values('revenue').head(1)\n",
    "# YOUR CODE ENDS"
   ]
  },
  {
   "cell_type": "markdown",
   "id": "5bf71c52-47d9-4311-85b0-51e96252a011",
   "metadata": {},
   "source": [
    "**Answer**: Manufacturing"
   ]
  },
  {
   "cell_type": "markdown",
   "id": "1f52ce98-fbc0-4236-853d-c99057f89e61",
   "metadata": {},
   "source": [
    "### Q8. Among the companies that are not profitable, which company has the largest number of branches?\n",
    "\n",
    "#### 💡 Hint\n",
    "\n",
    "- Filter companies where the value of `is_profitable` column is `False`.\n",
    "- Then, sort by `branches` in descending order."
   ]
  },
  {
   "cell_type": "code",
   "execution_count": 13,
   "id": "6ddf3f6d-0b70-4dc1-8b82-4e226999fac1",
   "metadata": {},
   "outputs": [
    {
     "data": {
      "text/html": [
       "<div>\n",
       "<style scoped>\n",
       "    .dataframe tbody tr th:only-of-type {\n",
       "        vertical-align: middle;\n",
       "    }\n",
       "\n",
       "    .dataframe tbody tr th {\n",
       "        vertical-align: top;\n",
       "    }\n",
       "\n",
       "    .dataframe thead th {\n",
       "        text-align: right;\n",
       "    }\n",
       "</style>\n",
       "<table border=\"1\" class=\"dataframe\">\n",
       "  <thead>\n",
       "    <tr style=\"text-align: right;\">\n",
       "      <th></th>\n",
       "      <th>company_id</th>\n",
       "      <th>company_name</th>\n",
       "      <th>country</th>\n",
       "      <th>is_profitable</th>\n",
       "      <th>branches</th>\n",
       "      <th>ceo</th>\n",
       "      <th>industry</th>\n",
       "      <th>revenue</th>\n",
       "      <th>inception_date</th>\n",
       "      <th>year</th>\n",
       "    </tr>\n",
       "  </thead>\n",
       "  <tbody>\n",
       "    <tr>\n",
       "      <th>9</th>\n",
       "      <td>296886</td>\n",
       "      <td>Pearson Ltd</td>\n",
       "      <td>France</td>\n",
       "      <td>False</td>\n",
       "      <td>7</td>\n",
       "      <td>Gina Buckley</td>\n",
       "      <td>Agriculture</td>\n",
       "      <td>7896239</td>\n",
       "      <td>2014-04-19</td>\n",
       "      <td>2014</td>\n",
       "    </tr>\n",
       "  </tbody>\n",
       "</table>\n",
       "</div>"
      ],
      "text/plain": [
       "   company_id company_name country  is_profitable  branches           ceo  \\\n",
       "9      296886  Pearson Ltd  France          False         7  Gina Buckley   \n",
       "\n",
       "      industry  revenue inception_date  year  \n",
       "9  Agriculture  7896239     2014-04-19  2014  "
      ]
     },
     "execution_count": 13,
     "metadata": {},
     "output_type": "execute_result"
    }
   ],
   "source": [
    "# YOUR CODE BEGINS\n",
    "df_no_profit = df[~df['is_profitable']]\n",
    "df_no_profit.sort_values('branches', ascending=False).head(1)\n",
    "# YOUR CODE ENDS"
   ]
  },
  {
   "cell_type": "markdown",
   "id": "7d37a232-be6a-47a1-a3ab-f2cb76473a53",
   "metadata": {},
   "source": [
    "**Answer**: Pearson Ltd"
   ]
  }
 ],
 "metadata": {
  "kernelspec": {
   "display_name": "Python 3 (ipykernel)",
   "language": "python",
   "name": "python3"
  },
  "language_info": {
   "codemirror_mode": {
    "name": "ipython",
    "version": 3
   },
   "file_extension": ".py",
   "mimetype": "text/x-python",
   "name": "python",
   "nbconvert_exporter": "python",
   "pygments_lexer": "ipython3",
   "version": "3.9.7"
  }
 },
 "nbformat": 4,
 "nbformat_minor": 5
}
