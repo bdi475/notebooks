{
 "cells": [
  {
   "cell_type": "code",
   "execution_count": null,
   "id": "4c04d9cb",
   "metadata": {},
   "outputs": [],
   "source": [
    "v"
   ]
  },
  {
   "cell_type": "markdown",
   "id": "b14a8e36",
   "metadata": {},
   "source": [
    "---\n",
    "\n",
    "### 🎯 Part 3: Stats by loan purpose\n",
    "\n",
    "#### 👇 Tasks\n",
    "\n",
    "- ✔️ Write a query that summarizes the number of loans, average interest rate, and the default rate for each loan purpose.\n",
    "- ✔️ Use the following column names:\n",
    "    - `purpose`: Purpose of each loan (e.g., \"debt_consolidation\", \"credit_card\")\n",
    "    - `num_loans`: Number of loans for each loan purpose\n",
    "    - `avg_int_rate`: Average interest rate for each loan purpose\n",
    "    - `default_rate`: Default rate for each loan purpose\n",
    "        - This is the average of `did_default` column.\n",
    "- ✔️ Sort the result by `num_loans` in descending order.\n",
    "- ✔️ Store your query to a new variable named `query_stats_by_purpose`.\n",
    "\n",
    "#### 🔑 Expected output\n",
    "\n",
    "|    | purpose            |   num_loans |   int_rate |   default_rate |\n",
    "|---:|:-------------------|------------:|---------------:|---------------:|\n",
    "|  0 | debt_consolidation |      118382 |       0.133737 |       0.217685 |\n",
    "|  1 | credit_card        |       45718 |       0.114085 |       0.173127 |\n",
    "|  2 | home_improvement   |       14192 |       0.12765  |       0.184188 |\n",
    "|  3 | other              |       10829 |       0.143714 |       0.215071 |\n",
    "|  4 | major_purchase     |        4624 |       0.129519 |       0.222535 |\n",
    "|  5 | small_business     |        3294 |       0.162964 |       0.319065 |\n",
    "|  6 | medical            |        2419 |       0.139562 |       0.222819 |\n",
    "|  7 | car                |        2059 |       0.120086 |       0.154444 |\n",
    "|  8 | moving             |        1302 |       0.152251 |       0.24424  |\n",
    "|  9 | vacation           |        1258 |       0.134918 |       0.197933 |\n",
    "| 10 | house              |        1042 |       0.156619 |       0.255278 |"
   ]
  }
 ],
 "metadata": {
  "kernelspec": {
   "display_name": "Python 3",
   "language": "python",
   "name": "python3"
  },
  "language_info": {
   "codemirror_mode": {
    "name": "ipython",
    "version": 3
   },
   "file_extension": ".py",
   "mimetype": "text/x-python",
   "name": "python",
   "nbconvert_exporter": "python",
   "pygments_lexer": "ipython3",
   "version": "3.8.3"
  }
 },
 "nbformat": 4,
 "nbformat_minor": 5
}
