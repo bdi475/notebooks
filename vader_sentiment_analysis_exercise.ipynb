{
 "cells": [
  {
   "cell_type": "code",
   "execution_count": null,
   "metadata": {
    "colab": {
     "base_uri": "https://localhost:8080/"
    },
    "id": "scYAavVHIbxl",
    "outputId": "cdc0d5ff-fb99-44cd-fde9-5964071ec89b"
   },
   "outputs": [],
   "source": [
    "# install vaderSentiment\n",
    "!pip install vaderSentiment"
   ]
  },
  {
   "cell_type": "markdown",
   "metadata": {
    "id": "3eGHCuldM6rK"
   },
   "source": [
    "Import required packages."
   ]
  },
  {
   "cell_type": "code",
   "execution_count": null,
   "metadata": {
    "id": "3fJ26JxGJszB"
   },
   "outputs": [],
   "source": [
    "import pandas as pd\n",
    "import numpy as np\n",
    "from vaderSentiment.vaderSentiment import SentimentIntensityAnalyzer"
   ]
  },
  {
   "cell_type": "markdown",
   "metadata": {
    "id": "sQMNSEsTNG8m"
   },
   "source": [
    "Initialize the `SentimentIntensityAnalyzer` within the `vaderSentiment` package."
   ]
  },
  {
   "cell_type": "code",
   "execution_count": null,
   "metadata": {
    "colab": {
     "base_uri": "https://localhost:8080/"
    },
    "id": "j8a0np0wJ68u",
    "outputId": "ee2012a1-3367-465b-ee82-cb1c7a73b514"
   },
   "outputs": [],
   "source": [
    "analyzer = SentimentIntensityAnalyzer()\n",
    "\n",
    "sentence = \"Beautyrite same day shipping is phenomenal its unbelievable i got my package in few hours\"\n",
    "\n",
    "vader_score = analyzer.polarity_scores(sentence)\n",
    "print(vader_score)"
   ]
  },
  {
   "cell_type": "markdown",
   "metadata": {
    "id": "hwnPD-7aNQYO"
   },
   "source": [
    "Read tweets as a DataFrame."
   ]
  },
  {
   "cell_type": "code",
   "execution_count": null,
   "metadata": {
    "colab": {
     "base_uri": "https://localhost:8080/",
     "height": 363
    },
    "id": "x8M_Ugy1Lb3u",
    "outputId": "f8da1187-c6cc-4315-c7ee-58f9390ad209"
   },
   "outputs": [],
   "source": [
    "df_tweets = pd.read_csv('https://github.com/bdi475/datasets/raw/main/fake-tweets-beautyrite.csv')\n",
    "df_tweets.head(10)"
   ]
  },
  {
   "cell_type": "markdown",
   "metadata": {
    "id": "k58fGtHmNT6k"
   },
   "source": [
    "Calculate VADER scores for each tweet (row)."
   ]
  },
  {
   "cell_type": "code",
   "execution_count": null,
   "metadata": {
    "colab": {
     "base_uri": "https://localhost:8080/",
     "height": 206
    },
    "id": "GPs0jj73MSgL",
    "outputId": "2059e20d-7ff5-48f5-adb9-e1da4736c0e1"
   },
   "outputs": [],
   "source": [
    "vader_scores = []\n",
    "\n",
    "for index, row in df_tweets.iterrows():\n",
    "  vader_score = analyzer.polarity_scores(row['text'])\n",
    "  vader_scores.append(vader_score)\n",
    "\n",
    "df_vs = pd.DataFrame(vader_scores)\n",
    "df_vs.head(5)"
   ]
  },
  {
   "cell_type": "markdown",
   "metadata": {
    "id": "UBnmSw3mNYLR"
   },
   "source": [
    "Merge `df_tweets` and `df_vs` horizontally."
   ]
  },
  {
   "cell_type": "code",
   "execution_count": null,
   "metadata": {
    "colab": {
     "base_uri": "https://localhost:8080/",
     "height": 1000
    },
    "id": "Pqv7hWnRLoVb",
    "outputId": "7449676d-1eaf-4a6a-aee8-9c823a5dd2f5"
   },
   "outputs": [],
   "source": [
    "df = pd.concat([df_tweets, df_vs], axis=1)\n",
    "df"
   ]
  },
  {
   "cell_type": "markdown",
   "metadata": {
    "id": "IucSDWPnNgYR"
   },
   "source": [
    "What is the average compound score?"
   ]
  },
  {
   "cell_type": "code",
   "execution_count": null,
   "metadata": {
    "id": "5lTDo-AgNhnw"
   },
   "outputs": [],
   "source": []
  },
  {
   "cell_type": "markdown",
   "metadata": {
    "id": "Gyn2-wDPNi-r"
   },
   "source": [
    "Can you find 10 most positive tweets?"
   ]
  },
  {
   "cell_type": "code",
   "execution_count": null,
   "metadata": {
    "id": "O8HLkUDqNnSx"
   },
   "outputs": [],
   "source": []
  },
  {
   "cell_type": "markdown",
   "metadata": {
    "id": "oFvaSOy9Nn5a"
   },
   "source": [
    "Can you find 10 most negative tweets?"
   ]
  },
  {
   "cell_type": "code",
   "execution_count": null,
   "metadata": {
    "id": "4ucTRmEjNxAY"
   },
   "outputs": [],
   "source": []
  }
 ],
 "metadata": {
  "colab": {
   "provenance": []
  },
  "kernelspec": {
   "display_name": "Python 3 (ipykernel)",
   "language": "python",
   "name": "python3"
  },
  "language_info": {
   "codemirror_mode": {
    "name": "ipython",
    "version": 3
   },
   "file_extension": ".py",
   "mimetype": "text/x-python",
   "name": "python",
   "nbconvert_exporter": "python",
   "pygments_lexer": "ipython3",
   "version": "3.9.7"
  }
 },
 "nbformat": 4,
 "nbformat_minor": 4
}
