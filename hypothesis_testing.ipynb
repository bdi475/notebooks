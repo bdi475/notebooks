{
 "cells": [
  {
   "cell_type": "markdown",
   "metadata": {},
   "source": [
    "<font color='red'>\n",
    "\n",
    "# Lecture ## - Hypothesis Testing\n",
    "\n",
    "Tuesday 2022/02/15"
   ]
  },
  {
   "cell_type": "markdown",
   "metadata": {},
   "source": [
    "## Lecture Notes and in-class exercises"
   ]
  },
  {
   "cell_type": "markdown",
   "metadata": {},
   "source": [
    "▶️ First, run the code cell below to import `unittest`, a module used for **🧭 Check Your Work** sections and the autograder."
   ]
  },
  {
   "cell_type": "code",
   "execution_count": 1,
   "metadata": {},
   "outputs": [],
   "source": [
    "import unittest\n",
    "tc = unittest.TestCase()"
   ]
  },
  {
   "cell_type": "code",
   "execution_count": 2,
   "metadata": {},
   "outputs": [],
   "source": [
    "# Run below imports\n",
    "import matplotlib.pyplot as plt\n",
    "plt.style.use('seaborn')\n",
    "import numpy as np\n",
    "import pandas as pd\n",
    "from scipy.stats import norm, t\n",
    "import scipy.stats as stats\n",
    "from IPython.display import display\n",
    "from ipywidgets import interact, interactive, fixed, interact_manual, IntSlider\n",
    "import ipywidgets as widgets"
   ]
  },
  {
   "cell_type": "markdown",
   "metadata": {},
   "source": [
    "### What is hypothesis testing?\n",
    "\n",
    "* When you need to make business decisions, for example how price change will affect customer base or how much should you spend on advertising, it's possible to make wild assumptions and make incorrect decisions. Such decisions can be made correctly using hypothesis testing.\n",
    "\n",
    "* Hypothesis testing is the process of using statistics to determine the probability that a specific hypothesis is true. There are multiple hypothesis tests available, we will focus on the widely used t-test.\n",
    "\n",
    "#### Steps in hypothesis testing\n",
    "1. State the hypothesis\n",
    "        a. Define null hypothesis\n",
    "        b. Define alternative hypothesis\n",
    "2. Specify significance level\n",
    "3. Perform hypothesis testing\n",
    "4. Make decisions\n",
    "\n",
    "#### Null and Alternate Hypothesis\n",
    "* The null hypothesis $H_0$ is that two possibilities are the same. The null hypothesis states `the observed difference is due to chance alone.`\n",
    "* The alternative hypothesis $H_a$ is that two possibilities are not same and `the observed difference is not due to chance.`\n",
    "\n",
    "For Example:\n",
    "\n",
    "| Hypothesis Question | Null Hypothesis | Alternate Hypothesis |\n",
    "| --- | --- | --- |\n",
    "| Do cats care about the color of their food? | Cats express no food preference based on color. | Cats express food preference based on color. |\n",
    "| Do teens use cell phones to access the internet more than adults? | Age has no effect on how cell phones are used for internet access. | Age has effect on how cell phones are used for internet access. |\n",
    "| Are teens better at math than adults? | Age has no effect on mathematical ability. | Age has effect on mathematical ability. |\n",
    "| Does taking aspirin every day reduce the chance of having a heart attack? | Taking aspirin daily does not affect heart attack risk. | Taking aspirin daily does affect heart attack risk. |\n",
    "\n",
    "#### Significance Level\n",
    "* We decide criterion to accept or reject null hypothesis\n",
    "* Its value is between 0 and 1. Most common significance level is 0.05. This means that we want to be 95% confident before we reject the null hypothesis.\n",
    "* The exact value of significance level is chosen based on applications. E.g in aerospace, researchers will choose values close to 0.001."
   ]
  },
  {
   "cell_type": "markdown",
   "metadata": {},
   "source": [
    "---\n",
    "\n",
    "### 🎯 Challenge 1: Denfine null and alternate hypothesis\n",
    "\n",
    "#### 👇 Tasks\n",
    "\n",
    "- ✔️ Suppose we have a two sided coin and we want to check whether the coin is fair(two sides are different) or unfair.\n",
    "\n",
    "#### 🚀 Hint\n",
    "\n",
    "Choose between `coin if fair` and `coin is unfair`\n",
    "\n",
    "```python\n",
    "null_hypothesis = \"coin is ..\"\n",
    "alternate_hypothesis = \"coin is ..\"\n",
    "```"
   ]
  },
  {
   "cell_type": "code",
   "execution_count": 3,
   "metadata": {},
   "outputs": [
    {
     "name": "stdout",
     "output_type": "stream",
     "text": [
      "Null hypothesis is: , Alternate Hypothesis is : \n"
     ]
    }
   ],
   "source": [
    "### BEGIN SOLUTION\n",
    "null_hypothesis = \"\"\n",
    "alternate_hypothesis = \"\"\n",
    "### END SOLUTION\n",
    "\n",
    "print(f\"Null hypothesis is: {null_hypothesis}, Alternate Hypothesis is : {alternate_hypothesis}\")"
   ]
  },
  {
   "cell_type": "markdown",
   "metadata": {},
   "source": [
    "#### 🧭 Check Your Work\n",
    "\n",
    "- Once you're done, run the code cell below to test correctness.\n",
    "- ✔️ If the code cell runs without an error, you're good to move on.\n",
    "- ❌ If the code cell throws an error, go back and fix any incorrect parts."
   ]
  },
  {
   "cell_type": "code",
   "execution_count": 4,
   "metadata": {},
   "outputs": [],
   "source": [
    "# assert"
   ]
  },
  {
   "cell_type": "markdown",
   "metadata": {},
   "source": [
    "---\n",
    "\n",
    "### 🎯 Challenge 2: Perform Hypothesis Testing on unfair coin\n",
    "\n",
    "#### 👇 Tasks\n",
    "\n",
    "- ✔️ Now that we have defined null hypothesis and alternate hypothesis, it's time to perform hypothesis testing.\n",
    "- ✔️ Suppose we define our significance level to 0.05. Each time we toss a coin, we only get heads.\n",
    "- ✔️ Based on the available info, answer if we will reject the null hypothesis after two, three, four, and five coin tosses.\n",
    "- ✔️ Choose between `Yes` and `No`\n",
    "- ✔️ Use the slider in the below code cell to reafirm your understanding."
   ]
  },
  {
   "cell_type": "code",
   "execution_count": 4,
   "metadata": {},
   "outputs": [
    {
     "data": {
      "application/vnd.jupyter.widget-view+json": {
       "model_id": "125764cbb6bc4a618fdc6562c52022b6",
       "version_major": 2,
       "version_minor": 0
      },
      "text/plain": [
       "interactive(children=(IntSlider(value=0, description='H', layout=Layout(width='700px'), max=10), IntSlider(val…"
      ]
     },
     "metadata": {},
     "output_type": "display_data"
    }
   ],
   "source": [
    "def f(H, T):\n",
    "    if T > 0:\n",
    "        display(f\"Distrubtion: Heads- {round(H*100/(H+T), 2)}%, Tails- {round(T*100/(H+T), 2)}%\")\n",
    "    else:\n",
    "        display(f\"P-value: {(1/2)**H*100}%\")\n",
    "    return H+T\n",
    "\n",
    "w = interactive(f, H=IntSlider(0, 0, 10, 1, layout=widgets.Layout(width='700px')),\n",
    "                T=IntSlider(0, 0, 0, 1, layout=widgets.Layout(width='700px')))\n",
    "\n",
    "display(w)"
   ]
  },
  {
   "cell_type": "code",
   "execution_count": 6,
   "metadata": {},
   "outputs": [],
   "source": [
    "### BEGIN SOLUTION\n",
    "after_two_tosses = \"\"\n",
    "after_three_tosses = \"\"\n",
    "after_four_tosses = \"\"\n",
    "after_five_tosses = \"\"\n",
    "### END SOLUTION"
   ]
  },
  {
   "cell_type": "markdown",
   "metadata": {},
   "source": [
    "#### 🧭 Check Your Work\n",
    "\n",
    "- Once you're done, run the code cell below to test correctness.\n",
    "- ✔️ If the code cell runs without an error, you're good to move on.\n",
    "- ❌ If the code cell throws an error, go back and fix any incorrect parts."
   ]
  },
  {
   "cell_type": "code",
   "execution_count": 7,
   "metadata": {},
   "outputs": [],
   "source": [
    "# assert"
   ]
  },
  {
   "cell_type": "markdown",
   "metadata": {},
   "source": [
    "Note: When we reject the null hypothesis, it does not necessarily mean that the coin is unfair. It means that we have enough evidence that this coin is unfair."
   ]
  },
  {
   "cell_type": "markdown",
   "metadata": {},
   "source": [
    "---\n",
    "\n",
    "### 🎯 Challenge 3: Perform Hypothesis Testing on weighted coin\n",
    "Now consider another coin which gives out more heads than tails.\n",
    "- Null Hypothesis: `the coin is not weighted`\n",
    "- Alternate Hypothesis: `the coin is weighted`\n",
    "\n",
    "#### 👇 Tasks\n",
    "\n",
    "- ✔️ Suppose we define our significance level to 0.1. Each time we toss a coin, we only get either heads or tails.\n",
    "- ✔️ Based on the available info, answer if we will reject the null hypothesis when we get below distribution of heads and tails.\n",
    "| Heads | Tails | Answer |\n",
    "| --- | --- | --- |\n",
    "| 100 | 20 | Answer1 |\n",
    "| 100 | 15 | Answer2 |\n",
    "| 100 | 11 | Answer3 |\n",
    "| 100 | 5 | Answer4 |\n",
    "- ✔️ Choose between `Yes` and `No`\n",
    "- ✔️ Use the slider in the below code cell to reafirm your understanding."
   ]
  },
  {
   "cell_type": "code",
   "execution_count": 5,
   "metadata": {},
   "outputs": [
    {
     "data": {
      "application/vnd.jupyter.widget-view+json": {
       "model_id": "ee0c5263a6ba4f4188f284273b9b06c6",
       "version_major": 2,
       "version_minor": 0
      },
      "text/plain": [
       "interactive(children=(IntSlider(value=0, description='H', layout=Layout(width='700px')), IntSlider(value=0, de…"
      ]
     },
     "metadata": {},
     "output_type": "display_data"
    }
   ],
   "source": [
    "def f(H, T):\n",
    "    if T > 0:\n",
    "        display(f\"Distrubtion: Heads- {round(H*100/(H+T), 2)}%, Tails- {round(T*100/(H+T), 2)}%, p-value: {round(T*100/(H+T), 2)}\")\n",
    "    else:\n",
    "        display(f\"P-value: {(1/2)**H*100}%\")\n",
    "    return H+T\n",
    "\n",
    "w = interactive(f, H=IntSlider(0, 0, 100, 1, layout=widgets.Layout(width='700px')),\n",
    "                T=IntSlider(0, 0, 30, 1, layout=widgets.Layout(width='700px')))\n",
    "\n",
    "display(w)"
   ]
  },
  {
   "cell_type": "code",
   "execution_count": 9,
   "metadata": {},
   "outputs": [],
   "source": [
    "### BEGIN SOLUTION\n",
    "answer1 = \"\"\n",
    "answer2 = \"\"\n",
    "answer3 = \"\"\n",
    "answer4 = \"\"\n",
    "### END SOLUTION"
   ]
  },
  {
   "cell_type": "markdown",
   "metadata": {},
   "source": [
    "#### 🧭 Check Your Work\n",
    "\n",
    "- Once you're done, run the code cell below to test correctness.\n",
    "- ✔️ If the code cell runs without an error, you're good to move on.\n",
    "- ❌ If the code cell throws an error, go back and fix any incorrect parts."
   ]
  },
  {
   "cell_type": "code",
   "execution_count": 10,
   "metadata": {},
   "outputs": [],
   "source": [
    "# assert"
   ]
  },
  {
   "cell_type": "markdown",
   "metadata": {},
   "source": [
    "### t-Test\n",
    "\n",
    "* To tell a difference between two distributions, mean alone is not enough. We also need to look at the sample variance.\n",
    "\n",
    "* A t-test is a statistical test that is used to compare the means of two groups. The null hypothesis $H_0$ is that the true difference between these group means is zero. The alternate hypothesis $H_a$ is that the true difference is not zero!\n",
    "\n",
    "* There are two main versions of Student’s t-test:\n",
    "    - Independent t-test. When the two samples are unrelated.\n",
    "    - Dependent t-test. When the samples are related, such as repeated measures on the same population. It is also called a paired test.\n",
    "\n",
    "*** You are not required to know below in details, but it's good to know. ***\n",
    "\n",
    "* t-value calculation for independent t-test\n",
    "$$t = \\frac{\\overline{x}_{1} - \\overline{x}_{2}}{\\sqrt{\\frac{s_{1}^{2}}{n_{1}} + \\frac{s_{2}^{2}}{n_{2}}}}$$ Where,\n",
    "\n",
    "$\\overline{x}_{1}$ = Mean of first sample,\n",
    "$\\overline{x}_{2}$ = Mean of second sample,\n",
    "$n_1$ = Sample size (i.e., number of observations) of first sample,\n",
    "$n_2$ = Sample size (i.e., number of observations) of second sample,\n",
    "$s_1$ = Standard deviation of first sample,\n",
    "$s_2$ = Standard deviation of second sample\n",
    "\n",
    "* t-value calculation for dependent t-test:\n",
    "$$t = \\frac{\\overline{x}_{\\mathrm{diff}}-0}{s_{\\overline{x}}}$$ Where, $$ s_{\\overline{x}} = \\frac{s_{\\mathrm{diff}}}{\\sqrt{n}}$$\n",
    "\n",
    "where\n",
    "\n",
    "$x_{\\mathrm{diff}}$ = Sample mean of the differences, \n",
    "$n$ = Sample size (i.e., number of observations),\n",
    "$s_{\\mathrm{diff}}$ = Sample standard deviation of the differences,\n",
    "$s_{\\overline{x}}$ = Estimated standard error of the mean (s/sqrt(n))\n",
    "\n",
    "The value calculated using above formulae is the x-axis value of below t-distribution probability distribution graph."
   ]
  },
  {
   "cell_type": "code",
   "execution_count": 11,
   "metadata": {},
   "outputs": [
    {
     "data": {
      "image/png": "[encoded data removed]",
      "text/plain": [
       "<Figure size 576x396 with 1 Axes>"
      ]
     },
     "metadata": {},
     "output_type": "display_data"
    }
   ],
   "source": [
    "x_axis = np.arange(-5, 5, 0.01)\n",
    "plt.plot(x_axis, t.pdf(x_axis, df=10, loc=0, scale=1))\n",
    "plt.fill_between(x_axis, 0, t.pdf(x_axis, df=10, loc=0, scale=1),\n",
    "                 label='area under prob. distribution curve')\n",
    "plt.legend()\n",
    "plt.xlabel('t-Value')\n",
    "plt.show()"
   ]
  },
  {
   "cell_type": "markdown",
   "metadata": {},
   "source": [
    "---\n",
    "\n",
    "### 🎯 Challenge 4: Perform Hypothesis Testing using t-test for independent data1\n",
    "First, we generate two arrays having different means\n",
    "- Null Hypothesis: `the two means are same`\n",
    "- Alternate Hypothesis: `the two means are not same`\n",
    "\n",
    "#### 👇 Tasks\n",
    "\n",
    "- ✔️ Perform t-test and answer if we will rejct the null hypothesis with significance level of 0.05.\n",
    "- ✔️ Choose between `Yes` and `No`"
   ]
  },
  {
   "cell_type": "code",
   "execution_count": 12,
   "metadata": {},
   "outputs": [
    {
     "name": "stdout",
     "output_type": "stream",
     "text": [
      "mean of data1: 10.920830944944012, mean of data2: 10.574364262653951\n"
     ]
    }
   ],
   "source": [
    "np.random.seed(42)\n",
    "# generate two independent samples\n",
    "data1 = np.random.randn(120) + 11\n",
    "data2 = np.random.randn(120) + 10.5\n",
    "print(f\"mean of data1: {np.mean(data1)}, mean of data2: {np.mean(data2)}\")"
   ]
  },
  {
   "cell_type": "code",
   "execution_count": 13,
   "metadata": {},
   "outputs": [
    {
     "name": "stdout",
     "output_type": "stream",
     "text": [
      "Manually Calculated t-value: 2.7673293378745045 \n",
      "t-value calculated using scipy.stats package: 2.7673293378745045\n"
     ]
    }
   ],
   "source": [
    "# function for calculating the t-test for two independent samples\n",
    "def independent_ttest(data1, data2):\n",
    "    # calculate means\n",
    "    mean1, mean2 = np.mean(data1), np.mean(data2)\n",
    "    # calculate standard errors\n",
    "    se1, se2 = stats.sem(data1), stats.sem(data2)\n",
    "    # standard error on the difference between the samples\n",
    "    sed = np.sqrt(se1**2.0 + se2**2.0)\n",
    "    # calculate the value of t statistic\n",
    "    t_val = (mean1 - mean2) / sed\n",
    "    \n",
    "    return t_val\n",
    "\n",
    "manual_calculated_t_val = independent_ttest(data1, data2)\n",
    "package_calculated_t_val = stats.ttest_ind(data1,data2)[0]\n",
    "print(f\"Manually Calculated t-value: {manual_calculated_t_val} \\nt-value calculated using scipy.stats package: {package_calculated_t_val}\")"
   ]
  },
  {
   "cell_type": "code",
   "execution_count": 14,
   "metadata": {},
   "outputs": [
    {
     "name": "stdout",
     "output_type": "stream",
     "text": [
      "p value is: 0.0061\n"
     ]
    }
   ],
   "source": [
    "# get p-value for this t-statistic value\n",
    "p_val = stats.ttest_ind(data1,data2)[1]\n",
    "print(f\"p value is: {round(p_val, 4)}\")"
   ]
  },
  {
   "cell_type": "code",
   "execution_count": 15,
   "metadata": {},
   "outputs": [
    {
     "data": {
      "application/vnd.jupyter.widget-view+json": {
       "model_id": "7f84844e916a46e9a1ecd4b2a11a1c87",
       "version_major": 2,
       "version_minor": 0
      },
      "text/plain": [
       "interactive(children=(IntSlider(value=0, description='tValue', layout=Layout(width='700px'), max=10, min=-10),…"
      ]
     },
     "metadata": {},
     "output_type": "display_data"
    }
   ],
   "source": [
    "def f(tValue):\n",
    "    x_axis = np.arange(-4, 4, 0.01)\n",
    "    fig, ax = plt.subplots(1, 1, figsize=(20, 10))\n",
    "    ax.set_title(f't-Test acceptance/ rejection region', fontsize= 30)\n",
    "    ax.plot(x_axis, t.pdf(x_axis, df=120, loc=0, scale=1))\n",
    "    ax.fill_between(x_axis, 0, t.pdf(x_axis, df=120, loc=0, scale=1), where=(x_axis<-1.98),\n",
    "                    color='red', label='rejection region')\n",
    "    ax.fill_between(x_axis, 0, t.pdf(x_axis, df=120, loc=0, scale=1), where=(x_axis>1.98),\n",
    "                    color='red')\n",
    "    ax.fill_between(x_axis, 0, t.pdf(x_axis, df=120, loc=0, scale=1), where=(x_axis<1.98)&(x_axis>-1.98),\n",
    "                    color='green', label='acceptance region')\n",
    "    ax.axvline(tValue, ymin=0, ymax=max(t.pdf(x_axis, df=120, loc=0, scale=1)), linewidth=5, color='black')\n",
    "    ax.legend(prop={'size': 18})\n",
    "#     return ax\n",
    "\n",
    "interact(f, tValue=IntSlider(0, -10, 10, 1, layout=widgets.Layout(width='700px')));"
   ]
  },
  {
   "cell_type": "markdown",
   "metadata": {},
   "source": [
    "You can find the critical values of t-statistic at different significance level here: https://www.statisticshowto.com/tables/t-distribution-table/\n"
   ]
  },
  {
   "cell_type": "code",
   "execution_count": 16,
   "metadata": {},
   "outputs": [],
   "source": [
    "### BEGIN SOLUTION\n",
    "reject_null = \"\"\n",
    "### END SOLUTION"
   ]
  },
  {
   "cell_type": "markdown",
   "metadata": {},
   "source": [
    "#### 🧭 Check Your Work\n",
    "\n",
    "- Once you're done, run the code cell below to test correctness.\n",
    "- ✔️ If the code cell runs without an error, you're good to move on.\n",
    "- ❌ If the code cell throws an error, go back and fix any incorrect parts."
   ]
  },
  {
   "cell_type": "code",
   "execution_count": 17,
   "metadata": {},
   "outputs": [],
   "source": [
    "# assert"
   ]
  },
  {
   "cell_type": "markdown",
   "metadata": {},
   "source": [
    "---\n",
    "\n",
    "### 🎯 Challenge 5: Perform Hypothesis Testing using t-test for independent data2\n",
    "First, we generate two arrays having different means\n",
    "- Null Hypothesis: `the two means are same`\n",
    "- Alternate Hypothesis: `the two means are not same`\n",
    "\n",
    "#### 👇 Tasks\n",
    "\n",
    "- ✔️ Perform t-test and answer if we will rejct the null hypothesis with significance level of 0.05.\n",
    "- ✔️ Choose between `Yes` and `No`"
   ]
  },
  {
   "cell_type": "code",
   "execution_count": 18,
   "metadata": {},
   "outputs": [
    {
     "name": "stdout",
     "output_type": "stream",
     "text": [
      "mean of data1: 10.920830944944012, mean of data2: 11.074364262653951\n"
     ]
    }
   ],
   "source": [
    "np.random.seed(42)\n",
    "# generate two independent samples\n",
    "data1 = np.random.randn(120) + 11\n",
    "data2 = np.random.randn(120) + 11\n",
    "print(f\"mean of data1: {np.mean(data1)}, mean of data2: {np.mean(data2)}\")"
   ]
  },
  {
   "cell_type": "code",
   "execution_count": 19,
   "metadata": {},
   "outputs": [
    {
     "name": "stdout",
     "output_type": "stream",
     "text": [
      "Manually Calculated t-value: -1.2263148988283317 \n",
      "t-value calculated using scipy.stats package: -1.2263148988283317\n"
     ]
    }
   ],
   "source": [
    "# function for calculating the t-test for two independent samples\n",
    "def independent_ttest(data1, data2):\n",
    "    # calculate means\n",
    "    mean1, mean2 = np.mean(data1), np.mean(data2)\n",
    "    # calculate standard errors\n",
    "    se1, se2 = stats.sem(data1), stats.sem(data2)\n",
    "    # standard error on the difference between the samples\n",
    "    sed = np.sqrt(se1**2.0 + se2**2.0)\n",
    "    # calculate the value of t statistic\n",
    "    t_val = (mean1 - mean2) / sed\n",
    "    \n",
    "    return t_val\n",
    "\n",
    "manual_calculated_t_val = independent_ttest(data1, data2)\n",
    "package_calculated_t_val = stats.ttest_ind(data1,data2)[0]\n",
    "print(f\"Manually Calculated t-value: {manual_calculated_t_val} \\nt-value calculated using scipy.stats package: {package_calculated_t_val}\")"
   ]
  },
  {
   "cell_type": "code",
   "execution_count": 20,
   "metadata": {},
   "outputs": [
    {
     "name": "stdout",
     "output_type": "stream",
     "text": [
      "p value is: 0.2213\n"
     ]
    }
   ],
   "source": [
    "# get p-value for this t-statistic value\n",
    "p_val = stats.ttest_ind(data1,data2)[1]\n",
    "print(f\"p value is: {round(p_val, 4)}\")"
   ]
  },
  {
   "cell_type": "code",
   "execution_count": 21,
   "metadata": {},
   "outputs": [
    {
     "data": {
      "application/vnd.jupyter.widget-view+json": {
       "model_id": "78f38f5ceef14ec9b0fac182beded20c",
       "version_major": 2,
       "version_minor": 0
      },
      "text/plain": [
       "interactive(children=(IntSlider(value=0, description='tValue', layout=Layout(width='700px'), max=10, min=-10),…"
      ]
     },
     "metadata": {},
     "output_type": "display_data"
    }
   ],
   "source": [
    "def f(tValue):\n",
    "    x_axis = np.arange(-4, 4, 0.01)\n",
    "    fig, ax = plt.subplots(1, 1, figsize=(20, 10))\n",
    "    ax.set_title(f't-Test acceptance/ rejection region', fontsize= 30)\n",
    "    ax.plot(x_axis, t.pdf(x_axis, df=120, loc=0, scale=1))\n",
    "    ax.fill_between(x_axis, 0, t.pdf(x_axis, df=120, loc=0, scale=1), where=(x_axis<-1.98),\n",
    "                    color='red', label='rejection region')\n",
    "    ax.fill_between(x_axis, 0, t.pdf(x_axis, df=120, loc=0, scale=1), where=(x_axis>1.98),\n",
    "                    color='red')\n",
    "    ax.fill_between(x_axis, 0, t.pdf(x_axis, df=120, loc=0, scale=1), where=(x_axis<1.98)&(x_axis>-1.98),\n",
    "                    color='green', label='acceptance region')\n",
    "    ax.axvline(tValue, ymin=0, ymax=max(t.pdf(x_axis, df=120, loc=0, scale=1)), linewidth=5, color='black')\n",
    "    ax.legend(prop={'size': 18})\n",
    "#     return ax\n",
    "\n",
    "interact(f, tValue=IntSlider(0, -10, 10, 1, layout=widgets.Layout(width='700px')));"
   ]
  },
  {
   "cell_type": "markdown",
   "metadata": {},
   "source": [
    "You can find the critical values of t-statistic at different significance level here: https://www.statisticshowto.com/tables/t-distribution-table/\n"
   ]
  },
  {
   "cell_type": "code",
   "execution_count": 22,
   "metadata": {},
   "outputs": [],
   "source": [
    "### BEGIN SOLUTION\n",
    "reject_null = \"\"\n",
    "### END SOLUTION"
   ]
  },
  {
   "cell_type": "markdown",
   "metadata": {},
   "source": [
    "#### 🧭 Check Your Work\n",
    "\n",
    "- Once you're done, run the code cell below to test correctness.\n",
    "- ✔️ If the code cell runs without an error, you're good to move on.\n",
    "- ❌ If the code cell throws an error, go back and fix any incorrect parts."
   ]
  },
  {
   "cell_type": "code",
   "execution_count": 23,
   "metadata": {},
   "outputs": [],
   "source": [
    "# assert"
   ]
  },
  {
   "cell_type": "markdown",
   "metadata": {},
   "source": [
    "---\n",
    "\n",
    "### 🎯 Challenge 6: Perform Hypothesis Testing using t-test for dependent data1\n",
    "First, we generate two arrays having different means\n",
    "- Null Hypothesis: `the two means are same`\n",
    "- Alternate Hypothesis: `the two means are not same`\n",
    "\n",
    "#### 👇 Tasks\n",
    "\n",
    "- ✔️ Perform t-test and answer if we will rejct the null hypothesis with significance level of 0.05.\n",
    "- ✔️ Choose between `Yes` and `No`"
   ]
  },
  {
   "cell_type": "code",
   "execution_count": 24,
   "metadata": {},
   "outputs": [
    {
     "name": "stdout",
     "output_type": "stream",
     "text": [
      "mean of data1: 9.920830944944012, mean of data2: 9.985756157822587\n"
     ]
    }
   ],
   "source": [
    "np.random.seed(42)\n",
    "# generate two independent samples\n",
    "data1 = np.random.randn(120) + 10\n",
    "data2 = data1 + np.random.uniform(low=-1, high=1, size= 120)\n",
    "print(f\"mean of data1: {np.mean(data1)}, mean of data2: {np.mean(data2)}\")"
   ]
  },
  {
   "cell_type": "code",
   "execution_count": 25,
   "metadata": {},
   "outputs": [
    {
     "name": "stdout",
     "output_type": "stream",
     "text": [
      "Manually Calculated t-value: -1.2262361608443813 \n",
      "t-value calculated using scipy.stats package: -1.2262361608443657\n"
     ]
    }
   ],
   "source": [
    "# function for calculating the t-test for two dependent samples\n",
    "def dependent_ttest(data1, data2):\n",
    "    # calculate means\n",
    "    mean1, mean2 = np.mean(data1), np.mean(data2)\n",
    "    # number of paired samples\n",
    "    n = len(data1)\n",
    "    # sum squared difference between observations\n",
    "    d1 = sum([(data1[i]-data2[i])**2 for i in range(n)])\n",
    "    # sum difference between observations\n",
    "    d2 = sum([data1[i]-data2[i] for i in range(n)])\n",
    "    # standard deviation of the difference between means\n",
    "    sd = np.sqrt((d1 - (d2**2 / n)) / (n - 1))\n",
    "    # standard error of the difference between the means\n",
    "    sed = sd / np.sqrt(n)\n",
    "    # calculate the value of t statistic\n",
    "    t_val = (mean1 - mean2) / sed\n",
    "    \n",
    "    return t_val\n",
    "\n",
    "\n",
    "manual_calculated_t_val = dependent_ttest(data1, data2)\n",
    "package_calculated_t_val = stats.ttest_rel(data1,data2)[0]\n",
    "print(f\"Manually Calculated t-value: {manual_calculated_t_val} \\nt-value calculated using scipy.stats package: {package_calculated_t_val}\")"
   ]
  },
  {
   "cell_type": "code",
   "execution_count": 26,
   "metadata": {},
   "outputs": [
    {
     "name": "stdout",
     "output_type": "stream",
     "text": [
      "p value is: 0.2225\n"
     ]
    }
   ],
   "source": [
    "# get p-value for this t-statistic value\n",
    "p_val = stats.ttest_rel(data1,data2)[1]\n",
    "print(f\"p value is: {round(p_val, 4)}\")"
   ]
  },
  {
   "cell_type": "code",
   "execution_count": 27,
   "metadata": {},
   "outputs": [
    {
     "data": {
      "application/vnd.jupyter.widget-view+json": {
       "model_id": "74349659b93348609e1305fd7fea8d0a",
       "version_major": 2,
       "version_minor": 0
      },
      "text/plain": [
       "interactive(children=(IntSlider(value=0, description='tValue', layout=Layout(width='700px'), max=10, min=-10),…"
      ]
     },
     "metadata": {},
     "output_type": "display_data"
    }
   ],
   "source": [
    "def f(tValue):\n",
    "    x_axis = np.arange(-4, 4, 0.01)\n",
    "    fig, ax = plt.subplots(1, 1, figsize=(20, 10))\n",
    "    ax.set_title(f't-Test acceptance/ rejection region', fontsize= 30)\n",
    "    ax.plot(x_axis, t.pdf(x_axis, df=120, loc=0, scale=1))\n",
    "    ax.fill_between(x_axis, 0, t.pdf(x_axis, df=120, loc=0, scale=1), where=(x_axis<-1.98),\n",
    "                    color='red', label='rejection region')\n",
    "    ax.fill_between(x_axis, 0, t.pdf(x_axis, df=120, loc=0, scale=1), where=(x_axis>1.98),\n",
    "                    color='red')\n",
    "    ax.fill_between(x_axis, 0, t.pdf(x_axis, df=120, loc=0, scale=1), where=(x_axis<1.98)&(x_axis>-1.98),\n",
    "                    color='green', label='acceptance region')\n",
    "    ax.axvline(tValue, ymin=0, ymax=max(t.pdf(x_axis, df=120, loc=0, scale=1)), linewidth=5, color='black')\n",
    "    ax.legend(prop={'size': 18})\n",
    "#     return ax\n",
    "\n",
    "interact(f, tValue=IntSlider(0, -10, 10, 1, layout=widgets.Layout(width='700px')));"
   ]
  },
  {
   "cell_type": "markdown",
   "metadata": {},
   "source": [
    "You can find the critical values of t-statistic at different significance level here: https://www.statisticshowto.com/tables/t-distribution-table/\n"
   ]
  },
  {
   "cell_type": "code",
   "execution_count": 28,
   "metadata": {},
   "outputs": [],
   "source": [
    "### BEGIN SOLUTION\n",
    "reject_null = \"\"\n",
    "### END SOLUTION"
   ]
  },
  {
   "cell_type": "markdown",
   "metadata": {},
   "source": [
    "#### 🧭 Check Your Work\n",
    "\n",
    "- Once you're done, run the code cell below to test correctness.\n",
    "- ✔️ If the code cell runs without an error, you're good to move on.\n",
    "- ❌ If the code cell throws an error, go back and fix any incorrect parts."
   ]
  },
  {
   "cell_type": "code",
   "execution_count": 29,
   "metadata": {},
   "outputs": [],
   "source": [
    "# assert"
   ]
  },
  {
   "cell_type": "markdown",
   "metadata": {},
   "source": [
    "---\n",
    "\n",
    "### 🎯 Challenge 7: Perform Hypothesis Testing using t-test for dependent data2\n",
    "First, we generate two arrays having different means\n",
    "- Null Hypothesis: `the two means are same`\n",
    "- Alternate Hypothesis: `the two means are not same`\n",
    "\n",
    "#### 👇 Tasks\n",
    "\n",
    "- ✔️ Perform t-test and answer if we will rejct the null hypothesis with significance level of 0.05.\n",
    "- ✔️ Choose between `Yes` and `No`"
   ]
  },
  {
   "cell_type": "code",
   "execution_count": 30,
   "metadata": {},
   "outputs": [
    {
     "name": "stdout",
     "output_type": "stream",
     "text": [
      "mean of data1: 9.920830944944012, mean of data2: 10.145494939754373\n"
     ]
    }
   ],
   "source": [
    "np.random.seed(42)\n",
    "# generate two independent samples\n",
    "data1 = np.random.randn(120) + 10\n",
    "data2 = data1 + np.random.uniform(low=-1, high=1.3, size= 120)\n",
    "print(f\"mean of data1: {np.mean(data1)}, mean of data2: {np.mean(data2)}\")"
   ]
  },
  {
   "cell_type": "code",
   "execution_count": 31,
   "metadata": {},
   "outputs": [
    {
     "name": "stdout",
     "output_type": "stream",
     "text": [
      "Manually Calculated t-value: -3.6897451733721898 \n",
      "t-value calculated using scipy.stats package: -3.6897451733721787\n"
     ]
    }
   ],
   "source": [
    "# function for calculating the t-test for two dependent samples\n",
    "def dependent_ttest(data1, data2):\n",
    "    # calculate means\n",
    "    mean1, mean2 = np.mean(data1), np.mean(data2)\n",
    "    # number of paired samples\n",
    "    n = len(data1)\n",
    "    # sum squared difference between observations\n",
    "    d1 = sum([(data1[i]-data2[i])**2 for i in range(n)])\n",
    "    # sum difference between observations\n",
    "    d2 = sum([data1[i]-data2[i] for i in range(n)])\n",
    "    # standard deviation of the difference between means\n",
    "    sd = np.sqrt((d1 - (d2**2 / n)) / (n - 1))\n",
    "    # standard error of the difference between the means\n",
    "    sed = sd / np.sqrt(n)\n",
    "    # calculate the value of t statistic\n",
    "    t_val = (mean1 - mean2) / sed\n",
    "    \n",
    "    return t_val\n",
    "\n",
    "\n",
    "manual_calculated_t_val = dependent_ttest(data1, data2)\n",
    "package_calculated_t_val = stats.ttest_rel(data1,data2)[0]\n",
    "print(f\"Manually Calculated t-value: {manual_calculated_t_val} \\nt-value calculated using scipy.stats package: {package_calculated_t_val}\")"
   ]
  },
  {
   "cell_type": "code",
   "execution_count": 32,
   "metadata": {},
   "outputs": [
    {
     "name": "stdout",
     "output_type": "stream",
     "text": [
      "p value is: 0.0003\n"
     ]
    }
   ],
   "source": [
    "# get p-value for this t-statistic value\n",
    "p_val = stats.ttest_rel(data1,data2)[1]\n",
    "print(f\"p value is: {round(p_val, 4)}\")"
   ]
  },
  {
   "cell_type": "code",
   "execution_count": 33,
   "metadata": {},
   "outputs": [
    {
     "data": {
      "application/vnd.jupyter.widget-view+json": {
       "model_id": "b9c47c563b394fbba9d9c8fc1c4c6a91",
       "version_major": 2,
       "version_minor": 0
      },
      "text/plain": [
       "interactive(children=(IntSlider(value=0, description='tValue', layout=Layout(width='700px'), max=10, min=-10),…"
      ]
     },
     "metadata": {},
     "output_type": "display_data"
    }
   ],
   "source": [
    "def f(tValue):\n",
    "    x_axis = np.arange(-4, 4, 0.01)\n",
    "    fig, ax = plt.subplots(1, 1, figsize=(20, 10))\n",
    "    ax.set_title(f't-Test acceptance/ rejection region', fontsize= 30)\n",
    "    ax.plot(x_axis, t.pdf(x_axis, df=120, loc=0, scale=1))\n",
    "    ax.fill_between(x_axis, 0, t.pdf(x_axis, df=120, loc=0, scale=1), where=(x_axis<-1.98),\n",
    "                    color='red', label='rejection region')\n",
    "    ax.fill_between(x_axis, 0, t.pdf(x_axis, df=120, loc=0, scale=1), where=(x_axis>1.98),\n",
    "                    color='red')\n",
    "    ax.fill_between(x_axis, 0, t.pdf(x_axis, df=120, loc=0, scale=1), where=(x_axis<1.98)&(x_axis>-1.98),\n",
    "                    color='green', label='acceptance region')\n",
    "    ax.axvline(tValue, ymin=0, ymax=max(t.pdf(x_axis, df=120, loc=0, scale=1)), linewidth=5, color='black')\n",
    "    ax.legend(prop={'size': 18})\n",
    "#     return ax\n",
    "\n",
    "interact(f, tValue=IntSlider(0, -10, 10, 1, layout=widgets.Layout(width='700px')));"
   ]
  },
  {
   "cell_type": "markdown",
   "metadata": {},
   "source": [
    "You can find the critical values of t-statistic at different significance level here: https://www.statisticshowto.com/tables/t-distribution-table/\n"
   ]
  },
  {
   "cell_type": "code",
   "execution_count": 34,
   "metadata": {},
   "outputs": [],
   "source": [
    "### BEGIN SOLUTION\n",
    "reject_null = \"\"\n",
    "### END SOLUTION"
   ]
  },
  {
   "cell_type": "markdown",
   "metadata": {},
   "source": [
    "#### 🧭 Check Your Work\n",
    "\n",
    "- Once you're done, run the code cell below to test correctness.\n",
    "- ✔️ If the code cell runs without an error, you're good to move on.\n",
    "- ❌ If the code cell throws an error, go back and fix any incorrect parts."
   ]
  },
  {
   "cell_type": "code",
   "execution_count": 35,
   "metadata": {},
   "outputs": [],
   "source": [
    "# assert"
   ]
  },
  {
   "cell_type": "code",
   "execution_count": null,
   "metadata": {},
   "outputs": [],
   "source": []
  }
 ],
 "metadata": {
  "kernelspec": {
   "display_name": "Python 3 (ipykernel)",
   "language": "python",
   "name": "python3"
  },
  "language_info": {
   "codemirror_mode": {
    "name": "ipython",
    "version": 3
   },
   "file_extension": ".py",
   "mimetype": "text/x-python",
   "name": "python",
   "nbconvert_exporter": "python",
   "pygments_lexer": "ipython3",
   "version": "3.8.3"
  }
 },
 "nbformat": 4,
 "nbformat_minor": 4
}
