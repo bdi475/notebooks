{
 "cells": [
  {
   "cell_type": "code",
   "execution_count": null,
   "id": "a4996be8-b55c-4ad3-9aad-8fe798f8aa71",
   "metadata": {},
   "outputs": [],
   "source": [
    "import pandas as pd\n",
    "import numpy as np\n",
    "import plotly.express as px\n",
    "import plotly.graph_objects as go\n",
    "\n",
    "pd.set_option('display.max_columns', 50)\n",
    "\n",
    "df = pd.read_csv('https://github.com/bdi475/datasets/raw/main/cu-restaurants-20240409.csv')\n",
    "df"
   ]
  },
  {
   "cell_type": "code",
   "execution_count": null,
   "id": "0c0c8af3-f505-4aed-a463-4faf6d444390",
   "metadata": {},
   "outputs": [],
   "source": [
    "pd.set_option('display.max_columns', 50)"
   ]
  },
  {
   "cell_type": "code",
   "execution_count": null,
   "id": "cb37b910-ec83-4c05-a235-043aee6b0c56",
   "metadata": {},
   "outputs": [],
   "source": [
    "df = pd.read_csv('https://github.com/bdi475/datasets/raw/main/cu-restaurants-20240409.csv')\n",
    "df"
   ]
  },
  {
   "cell_type": "markdown",
   "id": "baee9b62-71e8-49a5-b09c-4da7a58ce187",
   "metadata": {},
   "source": [
    "## Challenge 1: Restaurants by Price Range"
   ]
  },
  {
   "cell_type": "code",
   "execution_count": null,
   "id": "4465101e-0a58-489a-ab34-70a82d8ae51c",
   "metadata": {},
   "outputs": [],
   "source": [
    "fig = px.pie(\n",
    "    df[df['range'].notna()],\n",
    "    names='range',\n",
    "    title='<b>Restaurants by Price Range</b><br><span style=\"color: #aaa;\">CU has few options for fine dining</span>',\n",
    "    height=500,\n",
    "    template='simple_white',\n",
    "    color='range',\n",
    "    color_discrete_map={\n",
    "        \"$\": \"#C5E1A5\",\n",
    "        \"$$\": \"#AED581\",\n",
    "        \"$$$\": \"#7CB342\"\n",
    "    },\n",
    "    labels={\n",
    "        'range': 'Price Range'\n",
    "    },\n",
    ")\n",
    "\n",
    "fig.update_traces(\n",
    "    textinfo='percent+label',\n",
    "    textposition='outside',\n",
    "    showlegend=False\n",
    ")\n",
    "\n",
    "fig.update_layout(\n",
    "    font_family='Helvetica, Inter, Arial, sans-serif',\n",
    ")\n",
    "\n",
    "fig.show()\n"
   ]
  },
  {
   "cell_type": "markdown",
   "id": "bddcd0e0-85c0-4a36-9ac2-b09fec838473",
   "metadata": {},
   "source": [
    "## Challenge 2: Reviews breakdown by ZIP Code"
   ]
  },
  {
   "cell_type": "code",
   "execution_count": null,
   "id": "24090ec3-9c4b-4fbc-9d8f-e85ce7e32470",
   "metadata": {},
   "outputs": [],
   "source": [
    "df_zip_wide = df.groupby(\n",
    "    ['zip'], as_index=False\n",
    ").agg({\n",
    "    'reviews_per_score_1': 'sum',\n",
    "    'reviews_per_score_2': 'sum',\n",
    "    'reviews_per_score_3': 'sum',\n",
    "    'reviews_per_score_4': 'sum',\n",
    "    'reviews_per_score_5': 'sum',\n",
    "})\n",
    "\n",
    "display(df_zip_wide)"
   ]
  },
  {
   "cell_type": "code",
   "execution_count": null,
   "id": "36b722c8-a3c6-4039-aef6-4d1cabc7cba1",
   "metadata": {},
   "outputs": [],
   "source": [
    "df_ratings_by_zip = pd.melt(\n",
    "    df_zip_wide,\n",
    "    id_vars='zip',\n",
    "    value_vars=[\n",
    "        'reviews_per_score_1',\n",
    "        'reviews_per_score_2',\n",
    "        'reviews_per_score_3',\n",
    "        'reviews_per_score_4',\n",
    "        'reviews_per_score_5'\n",
    "    ],\n",
    "    var_name='review_rating',\n",
    "    value_name='num_reviews'\n",
    ")\n",
    "\n",
    "df_ratings_by_zip['zip'] = df_ratings_by_zip['zip'].astype(str)\n",
    "df_ratings_by_zip['review_rating'] = df_ratings_by_zip['review_rating'].str.replace('reviews_per_score_', '')\n",
    "df_ratings_by_zip['percentage'] = df_ratings_by_zip['num_reviews'] / df_ratings_by_zip.groupby('zip')['num_reviews'].transform('sum')\n",
    "df_ratings_by_zip.sort_values(['zip', 'review_rating'], inplace=True)\n",
    "\n",
    "df_ratings_by_zip"
   ]
  },
  {
   "cell_type": "code",
   "execution_count": null,
   "id": "11182ab5-29f3-499a-8d8a-31ee4571d40b",
   "metadata": {},
   "outputs": [],
   "source": [
    "fig = px.bar(\n",
    "    df_ratings_by_zip,\n",
    "    x='num_reviews',\n",
    "    y='zip',\n",
    "    color='review_rating',\n",
    "    color_discrete_map={\n",
    "        \"1\": \"#EF5350\",\n",
    "        \"2\": \"#EF9A9A\",\n",
    "        \"3\": \"#FDD835\",\n",
    "        \"4\": \"#9CCC65\",\n",
    "        \"5\": \"#689F38\"\n",
    "    },\n",
    "    labels={\n",
    "        'review_rating': 'Review Rating',\n",
    "        'zip': 'ZIP Code',\n",
    "        'percentage': 'Percentage',\n",
    "        'num_reviews': 'Number of reviews'\n",
    "    },\n",
    "    title='<b>Total number of reviews by zip code</b><br><span style=\"color: #ccc;\">61820 has the largest number of reviews</span>',\n",
    "    template='simple_white',\n",
    "    height=500\n",
    ")\n",
    "\n",
    "fig.update_layout(\n",
    "    font_family='Helvetica, Inter, Arial, sans-serif',\n",
    ")\n",
    "fig.update_yaxes(categoryorder='total ascending')\n",
    "\n",
    "fig.show()"
   ]
  },
  {
   "cell_type": "markdown",
   "id": "4ba5f995-c7ac-42d4-9119-5dfe9ff19c15",
   "metadata": {},
   "source": [
    "## Challenge 3: Reviews breakdown by ZIP Code (100% Stacked Bar Chart)"
   ]
  },
  {
   "cell_type": "code",
   "execution_count": null,
   "id": "c94ebe23-6a5e-4844-aae9-5f2992d5b218",
   "metadata": {},
   "outputs": [],
   "source": [
    "fig = px.bar(\n",
    "    df_ratings_by_zip,\n",
    "    x='zip',\n",
    "    y='percentage',\n",
    "    color='review_rating',\n",
    "    color_discrete_map={\n",
    "        \"1\": \"#EF5350\",\n",
    "        \"2\": \"#EF9A9A\",\n",
    "        \"3\": \"#FDD835\",\n",
    "        \"4\": \"#9CCC65\",\n",
    "        \"5\": \"#689F38\"\n",
    "    },\n",
    "    labels={\n",
    "        'review_rating': 'Review Rating',\n",
    "        'zip': 'Zip',\n",
    "        'percentage': 'Percentage'\n",
    "    },\n",
    "    title='<b>Review rating breakdown by zip code</b><br><span style=\"color: #aaa\">61820 has the highest proportion of 5 star reviews</span>',\n",
    "    text=df_ratings_by_zip.apply(lambda r: f\"{'⭐' * int(r['review_rating'])} {'{0:.1f}%'.format(r['percentage'] * 100)}\", axis=1),\n",
    "    template='simple_white',\n",
    "    height=650\n",
    ")\n",
    "\n",
    "fig.update_layout(\n",
    "    yaxis_tickformat=',.0%',\n",
    "    uniformtext_minsize=10,\n",
    "    uniformtext_mode='hide',\n",
    "    font_family='Helvetica, Inter, Arial, sans-serif',\n",
    ")\n",
    "fig.for_each_trace(lambda t: t.update(textfont_color='white'))\n",
    "\n",
    "fig.show()"
   ]
  }
 ],
 "metadata": {
  "kernelspec": {
   "display_name": "Python 3 (ipykernel)",
   "language": "python",
   "name": "python3"
  },
  "language_info": {
   "codemirror_mode": {
    "name": "ipython",
    "version": 3
   },
   "file_extension": ".py",
   "mimetype": "text/x-python",
   "name": "python",
   "nbconvert_exporter": "python",
   "pygments_lexer": "ipython3",
   "version": "3.10.10"
  }
 },
 "nbformat": 4,
 "nbformat_minor": 5
}
