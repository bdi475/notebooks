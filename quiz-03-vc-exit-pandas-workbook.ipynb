{
 "cells": [
  {
   "cell_type": "markdown",
   "id": "b549a975-7828-407a-b7b6-c4a3eadb6bce",
   "metadata": {},
   "source": [
    "# Quiz 3 - Venture Capital Exit Analysis"
   ]
  },
  {
   "cell_type": "markdown",
   "id": "7dd0ac41-d3c1-4d19-a97c-33eec6ca5b8c",
   "metadata": {},
   "source": [
    "- This notebook is your personal scratchpad used to answer the Canvas quiz questions.\n",
    "- We will only use this notebook to verify your work if required."
   ]
  },
  {
   "cell_type": "markdown",
   "id": "8a5d441e-bbbb-44ad-b2f9-7b22b31ef665",
   "metadata": {
    "tags": []
   },
   "source": [
    "## Load libraries and data"
   ]
  },
  {
   "cell_type": "markdown",
   "id": "abab4537-7d48-478b-aab6-a6ccda834b9c",
   "metadata": {},
   "source": [
    "Import packages."
   ]
  },
  {
   "cell_type": "code",
   "execution_count": null,
   "id": "19247c62-4f3f-4697-98ce-60b118c342ff",
   "metadata": {},
   "outputs": [],
   "source": [
    "import pandas as pd\n",
    "import numpy as np"
   ]
  },
  {
   "cell_type": "markdown",
   "id": "59897797-f3e9-4c7f-b82f-ec296de1fb5b",
   "metadata": {},
   "source": [
    "### Dataset\n",
    "\n",
    "There are two tables in our dataset.\n",
    "\n",
    "- `df_companies` contains the information of companies that successfully performed a VC exit in the past year.\n",
    "- `df_deals` contains the deal details of VC exits."
   ]
  },
  {
   "cell_type": "code",
   "execution_count": null,
   "id": "775c481b-2bae-40da-931e-5073803efa79",
   "metadata": {},
   "outputs": [],
   "source": [
    "df_companies = pd.read_csv('https://raw.githubusercontent.com/bdi475/datasets/737da234227d5ecec1369df1a1827cd40872c0eb/vc-exits/companies.csv')\n",
    "\n",
    "df_companies.head()"
   ]
  },
  {
   "cell_type": "code",
   "execution_count": null,
   "id": "53c8ff16-3e80-44f3-abf3-4f3a2324dae8",
   "metadata": {},
   "outputs": [],
   "source": [
    "df_deals = pd.read_csv('https://github.com/bdi475/datasets/raw/737da234227d5ecec1369df1a1827cd40872c0eb/vc-exits/deals.csv')\n",
    "\n",
    "df_deals.head()"
   ]
  },
  {
   "cell_type": "markdown",
   "id": "2fa6ae1e-dd1d-47e3-a75e-9720319189cc",
   "metadata": {},
   "source": [
    "## Workbook\n",
    "\n",
    "Feel free to add more code cells."
   ]
  },
  {
   "cell_type": "markdown",
   "id": "23bcbf2c-992b-489a-a201-0fc96a86fb3d",
   "metadata": {},
   "source": [
    "## Quiz Questions"
   ]
  },
  {
   "cell_type": "markdown",
   "id": "7064b189-c2fc-4fce-b35d-8784175a94c5",
   "metadata": {},
   "source": [
    "### Number of rows\n",
    "\n",
    "How many companies (i.e., number of rows) does `df_companies` contain?"
   ]
  },
  {
   "cell_type": "code",
   "execution_count": null,
   "id": "3dac0d78-c5cb-461b-a72c-6f80f6d55240",
   "metadata": {},
   "outputs": [],
   "source": []
  },
  {
   "cell_type": "markdown",
   "id": "92989c1e-d8b5-4b26-bf3a-63f6b621bfc7",
   "metadata": {
    "tags": []
   },
   "source": [
    "### Number of profitable companies\n",
    "\n",
    "The `'is_profitable'` column in `df_companies` indicates whether a company was profitable or not at the time of exit.\n",
    "\n",
    "How many companies were profitable at the time of exit?\n",
    "\n",
    "**Hint:** Find the number of rows where `'is_profitable'` is `True`."
   ]
  },
  {
   "cell_type": "code",
   "execution_count": null,
   "id": "22dd7c23-b32b-4c51-8178-4ac6f5d4e95b",
   "metadata": {},
   "outputs": [],
   "source": []
  },
  {
   "cell_type": "markdown",
   "id": "3e835ad0-8b0e-4864-8459-683c704ec039",
   "metadata": {},
   "source": [
    "### Does `df_companies` contain any row with missing `country` value?"
   ]
  },
  {
   "cell_type": "code",
   "execution_count": null,
   "id": "7d23778d-7cb1-4ee8-b9d4-bfc94e88122c",
   "metadata": {},
   "outputs": [],
   "source": []
  },
  {
   "cell_type": "markdown",
   "id": "e94ef21d-95e8-49ac-9f17-d6d192a2362d",
   "metadata": {},
   "source": [
    "### Merge DataFrames (ungraded)\n",
    "\n",
    "To answer the questions in the upcoming section, you will first need to merge `df_companies` and `df_deals`.\n",
    "\n",
    "Here is a starter code block to get you started. Replace `left_dataframe`, `right_dataframe`, and `'shared_key_column'` with your own values."
   ]
  },
  {
   "cell_type": "code",
   "execution_count": null,
   "id": "fea247b2-f912-47d3-a456-8c34745fc4fa",
   "metadata": {},
   "outputs": [],
   "source": [
    "df = pd.merge(\n",
    "    left=left_dataframe,\n",
    "    right=right_dataframe,\n",
    "    on='shared_key_column',\n",
    "    how='inner'\n",
    ")\n",
    "print(df.shape)"
   ]
  },
  {
   "cell_type": "markdown",
   "id": "6ae697af-3b25-48f5-b090-1cf0c24788f5",
   "metadata": {},
   "source": [
    "### Largest deal amount in India\n",
    "\n",
    "Hint: Find rows where the `'country'` column's value is 'India'. Then, look for the company with the largest deal_amount."
   ]
  },
  {
   "cell_type": "code",
   "execution_count": null,
   "id": "c4d0188e-c929-40ba-a579-7dc3da60155d",
   "metadata": {},
   "outputs": [],
   "source": []
  },
  {
   "cell_type": "markdown",
   "id": "c6964567-217c-4425-8c30-e503908676b1",
   "metadata": {},
   "source": [
    "### Largest deal amount in 2021\n",
    "\n",
    "Which company recorded the largest deal amount in 2021?\n",
    "\n",
    "**Hint:** You will have to extract the year from the `'deal_date'` column."
   ]
  },
  {
   "cell_type": "code",
   "execution_count": null,
   "id": "05cc9799-0585-4610-8592-a194441b6426",
   "metadata": {},
   "outputs": [],
   "source": []
  },
  {
   "cell_type": "markdown",
   "id": "80c5527d-4722-42e9-93ae-9ecf7c816d51",
   "metadata": {},
   "source": [
    "### Third largest total deal amount\n",
    "\n",
    "Which country has the third largest total deal amount?\n",
    "\n",
    "**Hint:**\n",
    "\n",
    "- The country with the third largest total deal amount has a sum of 14268 (which - is equivalent to 14.268 billion USD).\n",
    "- Group by `'country'` and find the sum of `'deal_amount'` for each country.\n",
    "- Sort by `'deal_amount'` by descending order or manually locate the third largest `'deal_amount'`."
   ]
  },
  {
   "cell_type": "code",
   "execution_count": null,
   "id": "109c9bee-8e4a-4cf7-88d5-317c2c8af591",
   "metadata": {},
   "outputs": [],
   "source": []
  },
  {
   "cell_type": "markdown",
   "id": "55d287d9-3613-4615-af31-5d58dcf3e6ce",
   "metadata": {},
   "source": [
    "### Deal type with the lowest average deal amont\n",
    "\n",
    "Which deal type has the lowest average deal amount?\n",
    "\n",
    "**Hint:**\n",
    "\n",
    "- Group by `'deal_type'` and find the mean of `'deal_amount'` for each `'deal_type'`.\n",
    "- Your code will be similar to that of the previous question."
   ]
  },
  {
   "cell_type": "code",
   "execution_count": null,
   "id": "e88e2742-d6f3-4430-bf45-7b05318bccdc",
   "metadata": {},
   "outputs": [],
   "source": []
  },
  {
   "cell_type": "markdown",
   "id": "6fffe37b-c325-4623-b9d7-13ff3163d9c5",
   "metadata": {},
   "source": [
    "### Unprofitable company with the largest number of patents\n",
    "\n",
    "Among the companies that are not profitable, which company has the largest number of patents?\n",
    "\n",
    "**Hint:**\n",
    "\n",
    "- Filter companies where the value of `'is_profitable'` column is `False`.\n",
    "- Then, sort by `'patents'` in descending order."
   ]
  },
  {
   "cell_type": "code",
   "execution_count": null,
   "id": "8eaaac04-58ac-4666-bcd9-411d993fd9df",
   "metadata": {},
   "outputs": [],
   "source": []
  }
 ],
 "metadata": {
  "kernelspec": {
   "display_name": "Python 3 (ipykernel)",
   "language": "python",
   "name": "python3"
  },
  "language_info": {
   "codemirror_mode": {
    "name": "ipython",
    "version": 3
   },
   "file_extension": ".py",
   "mimetype": "text/x-python",
   "name": "python",
   "nbconvert_exporter": "python",
   "pygments_lexer": "ipython3",
   "version": "3.9.7"
  }
 },
 "nbformat": 4,
 "nbformat_minor": 5
}
