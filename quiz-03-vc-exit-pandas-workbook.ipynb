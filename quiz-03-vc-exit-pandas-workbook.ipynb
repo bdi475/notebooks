{
 "cells": [
  {
   "cell_type": "markdown",
   "id": "b549a975-7828-407a-b7b6-c4a3eadb6bce",
   "metadata": {},
   "source": [
    "# Quiz 3 - Venture Capital Exit Analysis"
   ]
  },
  {
   "cell_type": "markdown",
   "id": "7dd0ac41-d3c1-4d19-a97c-33eec6ca5b8c",
   "metadata": {},
   "source": [
    "- This notebook is your personal scratchpad used to answer the Canvas quiz questions.\n",
    "- We will only use this notebook to verify your work if required."
   ]
  },
  {
   "cell_type": "markdown",
   "id": "8a5d441e-bbbb-44ad-b2f9-7b22b31ef665",
   "metadata": {
    "tags": []
   },
   "source": [
    "## Load libraries and data"
   ]
  },
  {
   "cell_type": "markdown",
   "id": "abab4537-7d48-478b-aab6-a6ccda834b9c",
   "metadata": {},
   "source": [
    "Import packages."
   ]
  },
  {
   "cell_type": "code",
   "execution_count": 1,
   "id": "19247c62-4f3f-4697-98ce-60b118c342ff",
   "metadata": {},
   "outputs": [],
   "source": [
    "import pandas as pd\n",
    "import numpy as np"
   ]
  },
  {
   "cell_type": "markdown",
   "id": "59897797-f3e9-4c7f-b82f-ec296de1fb5b",
   "metadata": {},
   "source": [
    "### Dataset\n",
    "\n",
    "There are two tables in our dataset.\n",
    "\n",
    "- `df_companies` contains the information of companies that successfully performed a VC exit in the past year.\n",
    "- `df_deals` contains the deal details of VC exits."
   ]
  },
  {
   "cell_type": "code",
   "execution_count": 2,
   "id": "775c481b-2bae-40da-931e-5073803efa79",
   "metadata": {},
   "outputs": [
    {
     "data": {
      "text/html": [
       "<div>\n",
       "<style scoped>\n",
       "    .dataframe tbody tr th:only-of-type {\n",
       "        vertical-align: middle;\n",
       "    }\n",
       "\n",
       "    .dataframe tbody tr th {\n",
       "        vertical-align: top;\n",
       "    }\n",
       "\n",
       "    .dataframe thead th {\n",
       "        text-align: right;\n",
       "    }\n",
       "</style>\n",
       "<table border=\"1\" class=\"dataframe\">\n",
       "  <thead>\n",
       "    <tr style=\"text-align: right;\">\n",
       "      <th></th>\n",
       "      <th>company_name</th>\n",
       "      <th>deal_id</th>\n",
       "      <th>industry</th>\n",
       "      <th>city</th>\n",
       "      <th>country</th>\n",
       "      <th>is_profitable</th>\n",
       "      <th>patents</th>\n",
       "    </tr>\n",
       "  </thead>\n",
       "  <tbody>\n",
       "    <tr>\n",
       "      <th>0</th>\n",
       "      <td>300</td>\n",
       "      <td>300145_202112</td>\n",
       "      <td>Entertainment Software</td>\n",
       "      <td>New York</td>\n",
       "      <td>United States</td>\n",
       "      <td>False</td>\n",
       "      <td>0</td>\n",
       "    </tr>\n",
       "    <tr>\n",
       "      <th>1</th>\n",
       "      <td>ACROBiosystems</td>\n",
       "      <td>acr168_202110</td>\n",
       "      <td>Discovery Tools (Healthcare)</td>\n",
       "      <td>Beijing</td>\n",
       "      <td>China</td>\n",
       "      <td>True</td>\n",
       "      <td>0</td>\n",
       "    </tr>\n",
       "    <tr>\n",
       "      <th>2</th>\n",
       "      <td>ASR Microelectronics</td>\n",
       "      <td>asr032_202201</td>\n",
       "      <td>Application Specific Semiconductors</td>\n",
       "      <td>Shanghai</td>\n",
       "      <td>China</td>\n",
       "      <td>False</td>\n",
       "      <td>6</td>\n",
       "    </tr>\n",
       "    <tr>\n",
       "      <th>3</th>\n",
       "      <td>Admix</td>\n",
       "      <td>adm196_202206</td>\n",
       "      <td>Business/Productivity Software</td>\n",
       "      <td>London</td>\n",
       "      <td>United Kingdom</td>\n",
       "      <td>False</td>\n",
       "      <td>0</td>\n",
       "    </tr>\n",
       "    <tr>\n",
       "      <th>4</th>\n",
       "      <td>Affera</td>\n",
       "      <td>aff071_202208</td>\n",
       "      <td>Therapeutic Devices</td>\n",
       "      <td>Newton</td>\n",
       "      <td>United States</td>\n",
       "      <td>False</td>\n",
       "      <td>6</td>\n",
       "    </tr>\n",
       "  </tbody>\n",
       "</table>\n",
       "</div>"
      ],
      "text/plain": [
       "           company_name        deal_id                             industry  \\\n",
       "0                   300  300145_202112               Entertainment Software   \n",
       "1        ACROBiosystems  acr168_202110         Discovery Tools (Healthcare)   \n",
       "2  ASR Microelectronics  asr032_202201  Application Specific Semiconductors   \n",
       "3                 Admix  adm196_202206       Business/Productivity Software   \n",
       "4                Affera  aff071_202208                  Therapeutic Devices   \n",
       "\n",
       "       city         country  is_profitable  patents  \n",
       "0  New York   United States          False        0  \n",
       "1   Beijing           China           True        0  \n",
       "2  Shanghai           China          False        6  \n",
       "3    London  United Kingdom          False        0  \n",
       "4    Newton   United States          False        6  "
      ]
     },
     "execution_count": 2,
     "metadata": {},
     "output_type": "execute_result"
    }
   ],
   "source": [
    "df_companies = pd.read_csv('https://raw.githubusercontent.com/bdi475/datasets/737da234227d5ecec1369df1a1827cd40872c0eb/vc-exits/companies.csv')\n",
    "\n",
    "df_companies.head()"
   ]
  },
  {
   "cell_type": "code",
   "execution_count": 3,
   "id": "53c8ff16-3e80-44f3-abf3-4f3a2324dae8",
   "metadata": {},
   "outputs": [
    {
     "data": {
      "text/html": [
       "<div>\n",
       "<style scoped>\n",
       "    .dataframe tbody tr th:only-of-type {\n",
       "        vertical-align: middle;\n",
       "    }\n",
       "\n",
       "    .dataframe tbody tr th {\n",
       "        vertical-align: top;\n",
       "    }\n",
       "\n",
       "    .dataframe thead th {\n",
       "        text-align: right;\n",
       "    }\n",
       "</style>\n",
       "<table border=\"1\" class=\"dataframe\">\n",
       "  <thead>\n",
       "    <tr style=\"text-align: right;\">\n",
       "      <th></th>\n",
       "      <th>deal_date</th>\n",
       "      <th>deal_id</th>\n",
       "      <th>deal_type</th>\n",
       "      <th>deal_amount</th>\n",
       "    </tr>\n",
       "  </thead>\n",
       "  <tbody>\n",
       "    <tr>\n",
       "      <th>0</th>\n",
       "      <td>2021-09-29</td>\n",
       "      <td>vel174_202109</td>\n",
       "      <td>Reverse Merger</td>\n",
       "      <td>345</td>\n",
       "    </tr>\n",
       "    <tr>\n",
       "      <th>1</th>\n",
       "      <td>2021-09-29</td>\n",
       "      <td>war005_202109</td>\n",
       "      <td>IPO</td>\n",
       "      <td>3109</td>\n",
       "    </tr>\n",
       "    <tr>\n",
       "      <th>2</th>\n",
       "      <td>2021-09-30</td>\n",
       "      <td>ben137_202109</td>\n",
       "      <td>Reverse Merger</td>\n",
       "      <td>403</td>\n",
       "    </tr>\n",
       "    <tr>\n",
       "      <th>3</th>\n",
       "      <td>2021-09-30</td>\n",
       "      <td>bea219_202109</td>\n",
       "      <td>M&amp;A</td>\n",
       "      <td>275</td>\n",
       "    </tr>\n",
       "    <tr>\n",
       "      <th>4</th>\n",
       "      <td>2021-09-30</td>\n",
       "      <td>avi218_202109</td>\n",
       "      <td>M&amp;A</td>\n",
       "      <td>275</td>\n",
       "    </tr>\n",
       "  </tbody>\n",
       "</table>\n",
       "</div>"
      ],
      "text/plain": [
       "    deal_date        deal_id       deal_type  deal_amount\n",
       "0  2021-09-29  vel174_202109  Reverse Merger          345\n",
       "1  2021-09-29  war005_202109             IPO         3109\n",
       "2  2021-09-30  ben137_202109  Reverse Merger          403\n",
       "3  2021-09-30  bea219_202109             M&A          275\n",
       "4  2021-09-30  avi218_202109             M&A          275"
      ]
     },
     "execution_count": 3,
     "metadata": {},
     "output_type": "execute_result"
    }
   ],
   "source": [
    "df_deals = pd.read_csv('https://github.com/bdi475/datasets/raw/737da234227d5ecec1369df1a1827cd40872c0eb/vc-exits/deals.csv')\n",
    "\n",
    "df_deals.head()"
   ]
  },
  {
   "cell_type": "markdown",
   "id": "2fa6ae1e-dd1d-47e3-a75e-9720319189cc",
   "metadata": {},
   "source": [
    "## Workbook\n",
    "\n",
    "Add code cells to work with the two DataFrames."
   ]
  }
 ],
 "metadata": {
  "kernelspec": {
   "display_name": "Python 3 (ipykernel)",
   "language": "python",
   "name": "python3"
  },
  "language_info": {
   "codemirror_mode": {
    "name": "ipython",
    "version": 3
   },
   "file_extension": ".py",
   "mimetype": "text/x-python",
   "name": "python",
   "nbconvert_exporter": "python",
   "pygments_lexer": "ipython3",
   "version": "3.9.7"
  }
 },
 "nbformat": 4,
 "nbformat_minor": 5
}
