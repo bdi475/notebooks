{
 "cells": [
  {
   "cell_type": "markdown",
   "id": "52d52999",
   "metadata": {},
   "source": [
    "# Problem Set - Python Applications\n",
    "\n",
    "- 🏆 60 points available\n",
    "- ✏️ Last updated on 9/11/2025"
   ]
  },
  {
   "cell_type": "markdown",
   "id": "dbb8486f",
   "metadata": {
    "id": "DiznwS2xem7h"
   },
   "source": [
    "▶️ First, run the code cell below to import unittest, the module used for the **🧭 Check Your Work** boxes and the autograder."
   ]
  },
  {
   "cell_type": "code",
   "execution_count": 1,
   "id": "d911d7fb",
   "metadata": {
    "id": "xOFvIip0em7h"
   },
   "outputs": [],
   "source": [
    "# DO NOT MODIFY THE CODE IN THIS CELL\n",
    "import unittest\n",
    "tc = unittest.TestCase()"
   ]
  },
  {
   "cell_type": "markdown",
   "id": "cac11410",
   "metadata": {},
   "source": [
    "---\n",
    "\n",
    "### 🎯 Problem 1: Compare Nike and McDonald's Advertising Spending 📊\n",
    "\n",
    "#### 👇 Tasks\n",
    "\n",
    "You are given two list variables named `nike_spending` and `mcdonalds_spending`. Each list contains advertising spending (in millions) for fiscal years 2015–2019.  \n",
    "\n",
    "Create the following three variables using one or more `for` loops:\n",
    "\n",
    "1. `nike_total`: The sum of Nike's ad spending for FY 2015–2019 (in millions).  \n",
    "2. `mcdonalds_total`: The sum of McDonald's ad spending for FY 2015–2019 (in millions).  \n",
    "3. `nike_higher_spending_years`: The number of years Nike's ad spending surpassed McDonald's.  \n",
    "\n",
    "#### 💡 Expected Output\n",
    "\n",
    "```plaintext\n",
    "Nike Total: 7240, McDonald's Total: 7560, Nike spent more on advertising 0 time(s)!\n",
    "```"
   ]
  },
  {
   "cell_type": "code",
   "execution_count": 2,
   "id": "2a853316",
   "metadata": {
    "id": "jfnhv8_Yem7j"
   },
   "outputs": [
    {
     "name": "stdout",
     "output_type": "stream",
     "text": [
      "Nike Total: 7240, McDonald's Total: 7560, Nike spent more on advertising 1 time(s)!\n"
     ]
    }
   ],
   "source": [
    "nike_spending = [1400, 1470, 1460, 1440, 1470]\n",
    "mcdonalds_spending = [1430, 1460, 1510, 1540, 1620]\n",
    "\n",
    "# YOUR CODE BEGINS\n",
    "nike_total = 0\n",
    "mcdonalds_total = 0\n",
    "nike_higher_spending_years = 0\n",
    "\n",
    "for i in range(5):\n",
    "    nike_total += nike_spending[i]\n",
    "    mcdonalds_total += mcdonalds_spending[i]\n",
    "\n",
    "    if nike_spending[i] > mcdonalds_spending[i]:\n",
    "        nike_higher_spending_years += 1\n",
    "# YOUR CODE ENDS\n",
    "\n",
    "# DO NOT CHANGE THE CODE BELOW\n",
    "print(\n",
    "    f\"Nike Total: {nike_total}, McDonald's Total: {mcdonalds_total}, Nike spent more on advertising {nike_higher_spending_years} time(s)!\"\n",
    ")"
   ]
  },
  {
   "cell_type": "markdown",
   "id": "7a2bc4ad",
   "metadata": {
    "id": "EdrK-mBsem7r"
   },
   "source": [
    "#### 🧭 Check Your Work\n",
    "\n",
    "Run the code cell below to test your solution.\n",
    "\n",
    "- ✔️ If the code cell runs without errors, you're good to move on.\n",
    "- ❌ If the code cell produces an error, review your code and fix any mistakes."
   ]
  },
  {
   "cell_type": "code",
   "execution_count": 5,
   "id": "6bd27917",
   "metadata": {},
   "outputs": [],
   "source": [
    "_test_case = \"compare-nike-and-mcdonalds-advertising-spending\"\n",
    "_points = 8\n",
    "\n",
    "tc.assertEqual(nike_total, 7240)\n",
    "tc.assertEqual(mcdonalds_total, 7560)\n",
    "tc.assertEqual(nike_higher_spending_years, 1)"
   ]
  },
  {
   "cell_type": "markdown",
   "id": "22266848",
   "metadata": {
    "id": "Dg-bBkF8fGaN"
   },
   "source": [
    "---\n",
    "\n",
    "### 🎯 Problem 2: McDonald's Employees-to-Locations Ratio 🍔\n",
    "\n",
    "#### 👇 Tasks\n",
    "\n",
    "You are given a `list` variable named `mcdonalds`, which contains a list of dictionaries.  \n",
    "Each dictionary represents a fiscal year and contains the following keys: \n",
    "\n",
    "- `\"year\"`: The fiscal year  \n",
    "- `\"num_employees\"`: The number of employees in that year  \n",
    "- `\"num_locations\"`: The number of locations in that year  \n",
    "\n",
    "👉 Create a new `list` variable named `loc_emp_ratios`. Use a `for` loop to calculate the ratio of employees to locations for fiscal years 2015–2019. During each iteration in the `for` loop, append the new ratio to the `loc_emp_ratios` list.\n",
    "\n",
    "#### 🧭 Example\n",
    "\n",
    "If `num_employees` is `11500` and `num_locations` is `1000` for a given year,  \n",
    "the ratio is `11.5` (`11500 / 1000`).  \n",
    "\n",
    "#### 💡 Sample Output\n",
    "\n",
    "Your printed values will be different — this only demonstrates the format.\n",
    "\n",
    "```plaintext\n",
    "[11.0, 10.2, 8.7, 5.6, 5.4]\n",
    "```"
   ]
  },
  {
   "cell_type": "code",
   "execution_count": 6,
   "id": "08b5949c",
   "metadata": {
    "colab": {
     "base_uri": "https://localhost:8080/"
    },
    "id": "OoYuVAyhem7q",
    "outputId": "8eea66d1-ee93-464c-9889-346fd512d07a"
   },
   "outputs": [
    {
     "name": "stdout",
     "output_type": "stream",
     "text": [
      "[11.0, 10.2, 8.7, 5.6, 5.4]\n"
     ]
    }
   ],
   "source": [
    "mcdonalds = [\n",
    "    {\"year\": 2015, \"num_employees\": 401775, \"num_locations\": 36525},\n",
    "    {\"year\": 2016, \"num_employees\": 376380, \"num_locations\": 36900},\n",
    "    {\"year\": 2017, \"num_employees\": 236988, \"num_locations\": 27240},\n",
    "    {\"year\": 2018, \"num_employees\": 211988, \"num_locations\": 37855},\n",
    "    {\"year\": 2019, \"num_employees\": 208953, \"num_locations\": 38695},\n",
    "]\n",
    "\n",
    "# YOUR CODE BEGINS\n",
    "loc_emp_ratios = []\n",
    "\n",
    "for data in mcdonalds:\n",
    "    new_ratio = data[\"num_employees\"] / data[\"num_locations\"]\n",
    "    loc_emp_ratios.append(new_ratio)\n",
    "# YOUR CODE ENDS\n",
    "\n",
    "print(loc_emp_ratios)"
   ]
  },
  {
   "cell_type": "markdown",
   "id": "576a4028-6cbd-4433-bc8b-966ffabd89d7",
   "metadata": {
    "id": "EdrK-mBsem7r"
   },
   "source": [
    "#### 🧭 Check Your Work\n",
    "\n",
    "Run the code cell below to test your solution.\n",
    "\n",
    "- ✔️ If the code cell runs without errors, you're good to move on.\n",
    "- ❌ If the code cell produces an error, review your code and fix any mistakes."
   ]
  },
  {
   "cell_type": "code",
   "execution_count": 7,
   "id": "cd666161",
   "metadata": {
    "id": "DXDG3nzpem7r"
   },
   "outputs": [],
   "source": [
    "_test_case = 'mcdonalds-employees-to-locations-ratio'\n",
    "_points = 4\n",
    "\n",
    "tc.assertEqual(loc_emp_ratios, [11.0, 10.2, 8.7, 5.6, 5.4])"
   ]
  }
 ],
 "metadata": {
  "kernelspec": {
   "display_name": "Python 3 (ipykernel)",
   "language": "python",
   "name": "python3"
  },
  "language_info": {
   "codemirror_mode": {
    "name": "ipython",
    "version": 3
   },
   "file_extension": ".py",
   "mimetype": "text/x-python",
   "name": "python",
   "nbconvert_exporter": "python",
   "pygments_lexer": "ipython3",
   "version": "3.10.10"
  }
 },
 "nbformat": 4,
 "nbformat_minor": 5
}
