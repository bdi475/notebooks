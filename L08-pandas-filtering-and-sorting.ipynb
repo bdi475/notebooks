{
 "cells": [
  {
   "cell_type": "markdown",
   "metadata": {
    "id": "x7-fgFpYem7d"
   },
   "source": [
    "# Pandas Filtering and Sorting"
   ]
  },
  {
   "cell_type": "markdown",
   "metadata": {
    "id": "C4bFxpNCem7g"
   },
   "source": [
    "## Lecture Notes and in-class exercises"
   ]
  },
  {
   "cell_type": "markdown",
   "metadata": {
    "id": "DiznwS2xem7h"
   },
   "source": [
    "▶️ First, run the code cell below to import `unittest`, a module used for **🧭 Check Your Work** sections and the autograder."
   ]
  },
  {
   "cell_type": "code",
   "execution_count": null,
   "metadata": {
    "id": "xOFvIip0em7h"
   },
   "outputs": [],
   "source": [
    "import unittest\n",
    "tc = unittest.TestCase()"
   ]
  },
  {
   "cell_type": "markdown",
   "metadata": {
    "id": "i3PWWkSaem7i"
   },
   "source": [
    "#### 👇 Tasks\n",
    "\n",
    "- ✔️ Import the following Python packages.\n",
    "    1. `pandas`: Use alias `pd`.\n",
    "    2. `numpy`: Use alias `np`."
   ]
  },
  {
   "cell_type": "code",
   "execution_count": null,
   "metadata": {
    "id": "jfnhv8_Yem7j"
   },
   "outputs": [],
   "source": [
    "# YOUR CODE BEGINS\n",
    "\n",
    "# YOUR CODE ENDS"
   ]
  },
  {
   "cell_type": "markdown",
   "metadata": {
    "id": "WCOuwkrzem7j"
   },
   "source": [
    "#### 🧭 Check Your Work\n",
    "\n",
    "- Once you're done, run the code cell below to test correctness.\n",
    "- ✔️ If the code cell runs without an error, you're good to move on.\n",
    "- ❌ If the code cell throws an error, go back and fix incorrect parts."
   ]
  },
  {
   "cell_type": "code",
   "execution_count": null,
   "metadata": {
    "id": "WQ-COKL8em7k"
   },
   "outputs": [],
   "source": [
    "import sys\n",
    "tc.assertTrue(\"pd\" in globals(), \"Check whether you have correctly import Pandas with an alias.\")\n",
    "tc.assertTrue(\"np\" in globals(), \"Check whether you have correctly import NumPy with an alias.\")"
   ]
  },
  {
   "cell_type": "markdown",
   "metadata": {
    "id": "Dg-bBkF8fGaN"
   },
   "source": [
    "---\n",
    "\n",
    "### 🎯 Challenge 1: Create a Pandas Series\n",
    "\n",
    "#### 👇 Tasks\n",
    "\n",
    "- ✔️ Create a new Pandas `Series` named `my_series` with the following three values: `10`, `20`, `30`.\n",
    "\n",
    "#### 🚀 Hint\n",
    "\n",
    "The code below creates a new Pandas `Series` with the values `1` and `2`.\n",
    "\n",
    "```python\n",
    "my_new_series = pd.Series([1, 2])\n",
    "```"
   ]
  },
  {
   "cell_type": "code",
   "execution_count": null,
   "metadata": {
    "colab": {
     "base_uri": "https://localhost:8080/"
    },
    "id": "OoYuVAyhem7q",
    "outputId": "8eea66d1-ee93-464c-9889-346fd512d07a"
   },
   "outputs": [],
   "source": [
    "# YOUR CODE BEGINS\n",
    "\n",
    "# YOUR CODE ENDS\n",
    "\n",
    "print(my_series)"
   ]
  },
  {
   "cell_type": "markdown",
   "metadata": {
    "id": "EdrK-mBsem7r"
   },
   "source": [
    "#### 🧭 Check Your Work\n",
    "\n",
    "- Once you're done, run the code cell below to test correctness.\n",
    "- ✔️ If the code cell runs without an error, you're good to move on.\n",
    "- ❌ If the code cell throws an error, go back and fix any incorrect parts."
   ]
  },
  {
   "cell_type": "code",
   "execution_count": null,
   "metadata": {
    "id": "DXDG3nzpem7r",
    "nbgrader": {
     "grade": true,
     "grade_id": "challenge-01",
     "locked": true,
     "points": "1",
     "solution": false
    }
   },
   "outputs": [],
   "source": [
    "pd.testing.assert_series_equal(my_series, pd.Series(x * 10 for x in range(1, 4)))"
   ]
  },
  {
   "cell_type": "markdown",
   "metadata": {
    "id": "Dg-bBkF8fGaN"
   },
   "source": [
    "---\n",
    "\n",
    "### 🎯 Challenge 2: Create a Pandas DataFrame\n",
    "\n",
    "#### 👇 Tasks\n",
    "\n",
    "- ✔️ You are given two lists - `product_names` and `num_reviews` that contain the names of make-up products and the number of reviews on Sephora.com.\n",
    "- ✔️ Using the two lists, create a new Pandas `DataFrame` named `df_top_products` that has the following two columns:\n",
    "    1. `product_name`: Names of the products\n",
    "    2. `num_review`: Number of reviews\n",
    "- ✔️ Note that the column names are singular.\n",
    "\n",
    "#### 🚀 Hint\n",
    "\n",
    "The code below creates a new Pandas `DataFrame` from two series.\n",
    "\n",
    "```python\n",
    "my_new_dataframe = pd.DataFrame({\n",
    "    \"column_one\": my_series1,\n",
    "    \"column_two\": my_series2\n",
    "})\n",
    "```"
   ]
  },
  {
   "cell_type": "code",
   "execution_count": null,
   "metadata": {},
   "outputs": [],
   "source": [
    "product_names = [\n",
    "    \"Laneige Lip Sleeping Mask\",\n",
    "    \"The Ordinary Hyaluronic Acid 2% + B5\",\n",
    "    \"Laneige Lip Glowy Balm\",\n",
    "    \"Chanel COCO MADEMOISELLE Eau de Parfum\"\n",
    "]\n",
    "\n",
    "num_reviews = [\n",
    "    12715,\n",
    "    2274,\n",
    "    2766,\n",
    "    724\n",
    "]\n",
    "\n",
    "# YOUR CODE BEGINS\n",
    "\n",
    "# YOUR CODE ENDS\n",
    "\n",
    "display(df_top_products)"
   ]
  },
  {
   "cell_type": "markdown",
   "metadata": {
    "id": "EdrK-mBsem7r"
   },
   "source": [
    "#### 🧭 Check Your Work\n",
    "\n",
    "- Once you're done, run the code cell below to test correctness.\n",
    "- ✔️ If the code cell runs without an error, you're good to move on.\n",
    "- ❌ If the code cell throws an error, go back and fix any incorrect parts."
   ]
  },
  {
   "cell_type": "code",
   "execution_count": null,
   "metadata": {
    "id": "DXDG3nzpem7r",
    "nbgrader": {
     "grade": true,
     "grade_id": "challenge-02",
     "locked": true,
     "points": "1",
     "solution": false
    }
   },
   "outputs": [],
   "source": [
    "pd.testing.assert_frame_equal(\n",
    "    df_top_products.reset_index(drop=True),\n",
    "    pd.DataFrame({\"product_name\": {0: \"Laneige Lip Sleeping Mask\",\n",
    "        1: \"The Ordinary Hyaluronic Acid 2% + B5\",\n",
    "        2: \"Laneige Lip Glowy Balm\",\n",
    "        3: \"Chanel COCO MADEMOISELLE Eau de Parfum\"},\n",
    "        \"num_review\": {0: 12715, 1: 2274, 2: 2766, 3: 724}})\n",
    ")"
   ]
  },
  {
   "cell_type": "markdown",
   "metadata": {
    "id": "126Uw95nem7k"
   },
   "source": [
    "---\n",
    "\n",
    "### 📌 Load data"
   ]
  },
  {
   "cell_type": "markdown",
   "metadata": {
    "id": "kH43B35Mem7l"
   },
   "source": [
    "The second part of today's lecture is all about **you**. 👻 Literally.\n",
    "\n",
    "▶️ Run the code cell below to create a new `DataFrame` named `df_you`."
   ]
  },
  {
   "cell_type": "code",
   "execution_count": null,
   "metadata": {
    "colab": {
     "base_uri": "https://localhost:8080/",
     "height": 204
    },
    "id": "CXJECgQiem7l",
    "outputId": "59ba80a2-892b-4e64-bbe9-1b8fc3a2880c"
   },
   "outputs": [],
   "source": [
    "df_you = pd.read_csv(\"https://github.com/bdi475/datasets/raw/main/about-you.csv\")\n",
    "\n",
    "# Used to keep a clean copy\n",
    "df_you_backup = df_you.copy()\n",
    "\n",
    "# head() displays the first 5 rows of a DataFrame\n",
    "df_you.head()"
   ]
  },
  {
   "cell_type": "markdown",
   "metadata": {
    "id": "t6vVg2dJem7m"
   },
   "source": [
    "☝️ **Hold on.** Didn't we always create `DataFrame`s using `pd.DataFrame()`?\n",
    "\n",
    "Yes. But we can *import* existing data as a Pandas `DataFrame` using `pd.read_csv()`. There are many other similar import methods. For now, we'll mostly use `pd.read_csv()`.\n",
    "\n",
    "The table below explains each column in `df_you`."
   ]
  },
  {
   "cell_type": "markdown",
   "metadata": {
    "id": "LI33A8-jem7m"
   },
   "source": [
    "| Column Name             | Description                                               |\n",
    "|-------------------------|-----------------------------------------------------------|\n",
    "| name                    | First name                                                |\n",
    "| major1                  | Major                                                     |\n",
    "| major2                  | Second major OR minor (blank if no second major or minor) |\n",
    "| city                    | City the person is from                                   |\n",
    "| country                 | Country the person is from                                   |\n",
    "| fav_restaurant          | Favorite restaurant (blank if no restaurant was given)    |\n",
    "| fav_movie               | Favorite movie (blank if no movie was given)              |\n",
    "| has_iphone              | Whether the person use an iPhone                          |"
   ]
  },
  {
   "cell_type": "markdown",
   "metadata": {
    "id": "d5hE9oVSem7n"
   },
   "source": [
    "---\n",
    "\n",
    "### 📌 Concise summary of a `DataFrame`"
   ]
  },
  {
   "cell_type": "markdown",
   "metadata": {
    "id": "lg5s3hW2em7n"
   },
   "source": [
    "👉 A common first step in working with a `DataFrame` is to use the `info()` method. `info()` prints a concise summary of a `DataFrame`.\n",
    "- Index data type\n",
    "- Column information: for each column, the following information is displayed:\n",
    "    - Number of non-missing values\n",
    "    - Data type of the column\n",
    "- Memory usage"
   ]
  },
  {
   "cell_type": "markdown",
   "metadata": {
    "id": "v4myKhF8em7o"
   },
   "source": [
    "▶️ Run `df_you.info()` below to see the `info()` method in action."
   ]
  },
  {
   "cell_type": "code",
   "execution_count": null,
   "metadata": {
    "colab": {
     "base_uri": "https://localhost:8080/"
    },
    "id": "UfyZRM7rem7o",
    "outputId": "891d9445-721f-4c60-a345-36b679815cf0",
    "tags": []
   },
   "outputs": [],
   "source": [
    "# YOUR CODE BEGINS\n",
    "\n",
    "# YOUR CODE ENDS"
   ]
  },
  {
   "cell_type": "markdown",
   "metadata": {
    "id": "prZjAYOUem7o"
   },
   "source": [
    "👉 From the result of `df_you.info()`, we can understand a couple of things:\n",
    "\n",
    "- There are 8 columns.\n",
    "- 7 out of 8 columns have the `object` data type.\n",
    "    - In Pandas, a string data type is shown as `object`, not `str`.\n",
    "        - We will skip the technical discussion for now.\n",
    "- The second line of the output tells us the number of rows (i.e., observations).\n",
    "- Some columns contain one or more missing values.\n",
    "    - Missing values are displayed as `NaN`.\n",
    "    - To denote a missing value, use NumPy's `np.nan` (more on this later)."
   ]
  },
  {
   "cell_type": "markdown",
   "metadata": {
    "id": "OJ4qqvKIem7q"
   },
   "source": [
    "---\n",
    "\n",
    "### 🎯 Challenge 3: Display first/last/random rows"
   ]
  },
  {
   "cell_type": "markdown",
   "metadata": {
    "id": "TwWyyaQPem7q"
   },
   "source": [
    "▶️ Run `df_you.head()` to print the first 5 rows of `df_you`."
   ]
  },
  {
   "cell_type": "code",
   "execution_count": null,
   "metadata": {
    "colab": {
     "base_uri": "https://localhost:8080/"
    },
    "id": "OoYuVAyhem7q",
    "outputId": "8eea66d1-ee93-464c-9889-346fd512d07a"
   },
   "outputs": [],
   "source": [
    "# YOUR CODE BEGINS\n",
    "\n",
    "# YOUR CODE ENDS"
   ]
  },
  {
   "cell_type": "markdown",
   "metadata": {
    "id": "TwWyyaQPem7q"
   },
   "source": [
    "▶️ Run `df_you.tail(4)` to print the last 4 rows of `df_you`."
   ]
  },
  {
   "cell_type": "code",
   "execution_count": null,
   "metadata": {
    "colab": {
     "base_uri": "https://localhost:8080/"
    },
    "id": "OoYuVAyhem7q",
    "outputId": "8eea66d1-ee93-464c-9889-346fd512d07a"
   },
   "outputs": [],
   "source": [
    "# YOUR CODE BEGINS\n",
    "\n",
    "# YOUR CODE ENDS"
   ]
  },
  {
   "cell_type": "markdown",
   "metadata": {
    "id": "TwWyyaQPem7q"
   },
   "source": [
    "▶️ Run `df_you.sample(3)` to print 3 randomly sampled rows from `df_you`."
   ]
  },
  {
   "cell_type": "code",
   "execution_count": null,
   "metadata": {
    "colab": {
     "base_uri": "https://localhost:8080/"
    },
    "id": "OoYuVAyhem7q",
    "outputId": "8eea66d1-ee93-464c-9889-346fd512d07a"
   },
   "outputs": [],
   "source": [
    "# YOUR CODE BEGINS\n",
    "\n",
    "# YOUR CODE ENDS"
   ]
  },
  {
   "cell_type": "code",
   "execution_count": null,
   "metadata": {
    "nbgrader": {
     "grade": true,
     "grade_id": "challenge-03",
     "locked": true,
     "points": "1",
     "solution": false
    }
   },
   "outputs": [],
   "source": [
    "# Autograder"
   ]
  },
  {
   "cell_type": "markdown",
   "metadata": {
    "id": "hgU6chDUem7o"
   },
   "source": [
    "---\n",
    "\n",
    "### 📌 Number of rows and columns in a `DataFrame`"
   ]
  },
  {
   "cell_type": "markdown",
   "metadata": {
    "id": "3w2j6dSFem7p"
   },
   "source": [
    "👉 How many rows and columns does `df_you` have?\n",
    "\n",
    "▶️ Run `df_you.shape` below to see the *shape* (number of rows and columns) of the database."
   ]
  },
  {
   "cell_type": "code",
   "execution_count": null,
   "metadata": {
    "colab": {
     "base_uri": "https://localhost:8080/"
    },
    "id": "go7OUMtTem7p",
    "outputId": "cfb21812-0eef-4bc8-e2a0-fc11756ce7a0"
   },
   "outputs": [],
   "source": [
    "# YOUR CODE BEGINS\n",
    "\n",
    "# YOUR CODE ENDS"
   ]
  },
  {
   "cell_type": "markdown",
   "metadata": {
    "id": "7J--UYFvem7p"
   },
   "source": [
    "👉 Can you store the number of rows and columns to variables?\n",
    "\n",
    "---\n",
    "\n",
    "- `df_you.shape` returns a `tuple` in `(num_rows, num_cols)` format. \n",
    "- What is a `tuple`? 🙀\n",
    "- A `tuple` is a `list` that cannot be modified once created.\n",
    "\n",
    "▶️ Run the code cell below to see how a `tuple` is nearly identical to a `list`."
   ]
  },
  {
   "cell_type": "code",
   "execution_count": null,
   "metadata": {
    "colab": {
     "base_uri": "https://localhost:8080/"
    },
    "id": "vAnEKnhUem7p",
    "outputId": "23c744fd-7028-496b-a243-a015ea486481"
   },
   "outputs": [],
   "source": [
    "# These two are nearly identical,\n",
    "# The only difference is that my_tuple cannot be modified once created\n",
    "my_list = [10, 20]\n",
    "my_tuple = (10, 20)\n",
    "\n",
    "print(f\"my_list[1]={my_list[1]}\")    # prints 20\n",
    "print(f\"my_tuple[1]={my_tuple[1]}\")  # also prints 20"
   ]
  },
  {
   "cell_type": "markdown",
   "metadata": {
    "id": "OJ4qqvKIem7q"
   },
   "source": [
    "---\n",
    "\n",
    "### 🎯 Challenge 4: Find the number of rows and columns in a `DataFrame`"
   ]
  },
  {
   "cell_type": "markdown",
   "metadata": {
    "id": "TwWyyaQPem7q"
   },
   "source": [
    "#### 👇 Tasks\n",
    "\n",
    "- ✔️ Store the number of rows in `df_you` to a new variable named `num_rows`.\n",
    "- ✔️ Store the number of columns in `df_you` to a new variable named `num_cols`.\n",
    "- ✔️ Use `.shape`, not `len()`."
   ]
  },
  {
   "cell_type": "code",
   "execution_count": null,
   "metadata": {
    "colab": {
     "base_uri": "https://localhost:8080/"
    },
    "id": "OoYuVAyhem7q",
    "outputId": "8eea66d1-ee93-464c-9889-346fd512d07a",
    "tags": []
   },
   "outputs": [],
   "source": [
    "# YOUR CODE BEGINS\n",
    "\n",
    "# YOUR CODE ENDS\n",
    "\n",
    "print(num_rows)\n",
    "print(num_cols)"
   ]
  },
  {
   "cell_type": "markdown",
   "metadata": {
    "id": "EdrK-mBsem7r"
   },
   "source": [
    "#### 🧭 Check Your Work\n",
    "\n",
    "- Once you're done, run the code cell below to test correctness.\n",
    "- ✔️ If the code cell runs without an error, you're good to move on.\n",
    "- ❌ If the code cell throws an error, go back and fix incorrect parts."
   ]
  },
  {
   "cell_type": "code",
   "execution_count": null,
   "metadata": {
    "id": "DXDG3nzpem7r",
    "nbgrader": {
     "grade": true,
     "grade_id": "challenge-04",
     "locked": true,
     "points": "1",
     "solution": false
    }
   },
   "outputs": [],
   "source": [
    "tc.assertEqual(num_rows, len(df_you.index), f\"Number of rows should be {len(df_you.index)}\")\n",
    "tc.assertEqual(num_cols, len(df_you.columns), f\"Number of columns should be {len(df_you.columns)}\")"
   ]
  },
  {
   "cell_type": "markdown",
   "metadata": {
    "id": "VsIF7Fwwem7r"
   },
   "source": [
    "---\n",
    "\n",
    "### 📌 Filtering rows"
   ]
  },
  {
   "cell_type": "markdown",
   "metadata": {
    "id": "8CxUlBg1em7r"
   },
   "source": [
    "Let's step back and go back to working with a `Series`.\n",
    "\n",
    "▶️ Create a `Series` named `nums` with the following four integers: `-20`, `-10`, `10`, `20`. "
   ]
  },
  {
   "cell_type": "code",
   "execution_count": null,
   "metadata": {
    "id": "asoC1rwqem7s",
    "outputId": "16d9da10-fd9b-43a7-f9cf-f02220fa055f"
   },
   "outputs": [],
   "source": [
    "# YOUR CODE BEGINS\n",
    "\n",
    "# YOUR CODE ENDS\n",
    "\n",
    "nums"
   ]
  },
  {
   "cell_type": "markdown",
   "metadata": {
    "id": "UMGcKWQAem7s"
   },
   "source": [
    "👉 Is there a way *filter* the `Series` so that it only contains **positive** values? Let's first try this **manually**.\n",
    "\n",
    "▶️ Create a new `Series` named `keep` with the following four boolean values: `False`, `False`, `True`, `True`."
   ]
  },
  {
   "cell_type": "code",
   "execution_count": null,
   "metadata": {
    "id": "u-NHJJa2em7s",
    "outputId": "c0551ddb-d8a9-4851-d4de-cb6702041310"
   },
   "outputs": [],
   "source": [
    "# YOUR CODE BEGINS\n",
    "\n",
    "# YOUR CODE ENDS\n",
    "\n",
    "# Check your work\n",
    "pd.testing.assert_series_equal(keep,\n",
    "                              pd.Series([0, 0, 1, 1]).astype(bool))\n",
    "\n",
    "# Display keep\n",
    "keep"
   ]
  },
  {
   "cell_type": "markdown",
   "metadata": {},
   "source": [
    "Let's visualize the two `Series` (`nums` and `keep`) you've created.\n",
    "\n",
    "![nums-and-keep](https://github.com/bdi475/images/blob/main/nums-and-keep-series.png?raw=true)"
   ]
  },
  {
   "cell_type": "markdown",
   "metadata": {
    "id": "MoPITf3Cem7s"
   },
   "source": [
    "▶️ Now, you can use the boolean `Series` to filter another `Series`. Type in `nums[keep]` below and run the cell."
   ]
  },
  {
   "cell_type": "code",
   "execution_count": null,
   "metadata": {
    "id": "JgnCgE1iem7t",
    "outputId": "988ca472-cfbf-4a74-b398-3e7d77320d7a"
   },
   "outputs": [],
   "source": [
    "# YOUR CODE BEGINS\n",
    "\n",
    "# YOUR CODE ENDS"
   ]
  },
  {
   "cell_type": "markdown",
   "metadata": {},
   "source": [
    "If you're confused about what just happened, the visualization below may give you a better idea.\n",
    "\n",
    "![nums-and-keep-filter-result](https://github.com/bdi475/images/blob/main/nums-and-keep-filter-result.png?raw=true)"
   ]
  },
  {
   "cell_type": "markdown",
   "metadata": {
    "id": "_QB4TJkhem7t"
   },
   "source": [
    "The syntax for filtering a `Series` is `my_series[keep]` where `keep` is a `Series` of boolean values indicating whether to keep an element or not. `keep` should have the exact same number of elements as `my_series`.\n",
    "\n",
    "▶️ **Uncomment the code cell below first** and run it to see what happens when your `keep` does not have the same number of elements as `my_series`.\n",
    "\n",
    "(⛔️ **Heads-up**: The code will throw an error! Once you're done running the cell, comment the lines.)"
   ]
  },
  {
   "cell_type": "code",
   "execution_count": null,
   "metadata": {
    "id": "bZoV9nc3em7t"
   },
   "outputs": [],
   "source": [
    "# keep_incorrect = pd.Series([False, False, True])\n",
    "# nums[keep_incorrect]"
   ]
  },
  {
   "cell_type": "markdown",
   "metadata": {
    "id": "sk1tWg9Jem7t"
   },
   "source": [
    "👉 Is there a way *filter* the `Series` so that it only contains **positive** values? The last method we've used was inefficient. Imagine if your `Series` contains million elements. You would need to spend a few months continuously typing `True` and `False`! 🤡\n",
    "\n",
    "As a data analyst, your goal is to perform tasks *programmatically*.\n",
    "\n",
    "▶️ Type `keep_by_comparison = nums > 0` in the code cell below to perform a comparison on the `nums` Series."
   ]
  },
  {
   "cell_type": "code",
   "execution_count": null,
   "metadata": {
    "id": "o4cfMPaoem7t",
    "outputId": "02d669d8-eb82-4374-c8cf-13f724b09d68"
   },
   "outputs": [],
   "source": [
    "# YOUR CODE BEGINS\n",
    "\n",
    "# YOUR CODE ENDS\n",
    "\n",
    "keep_by_comparison"
   ]
  },
  {
   "cell_type": "markdown",
   "metadata": {
    "id": "y6x0xWCzem7u"
   },
   "source": [
    "Notice how `keep_by_comparison` is idential to the original `keep` Series?\n",
    "\n",
    "▶️ Use the `keep_by_comparison` to filter positive values in `nums`."
   ]
  },
  {
   "cell_type": "code",
   "execution_count": null,
   "metadata": {
    "id": "Fqai24mKem7u",
    "outputId": "ce2b43ce-d943-4596-d294-9d0a20130045"
   },
   "outputs": [],
   "source": [
    "# YOUR CODE BEGINS\n",
    "\n",
    "# YOUR CODE ENDS"
   ]
  },
  {
   "cell_type": "markdown",
   "metadata": {
    "id": "TBFHU66Gem7u"
   },
   "source": [
    "Note that applying a filter returns **a new `Series`** without modifying the original `Series`.\n",
    "\n",
    "▶️ Run the code below."
   ]
  },
  {
   "cell_type": "code",
   "execution_count": null,
   "metadata": {
    "id": "e8BEoiO4em7u",
    "outputId": "da6d8c9a-e56f-431b-91ba-1fd1680fa494"
   },
   "outputs": [],
   "source": [
    "print(\"Negative Values (filtered):\")\n",
    "display(nums[nums < 10])\n",
    "\n",
    "print(\"\\n\\nOriginal Values:\")\n",
    "display(nums)"
   ]
  },
  {
   "cell_type": "markdown",
   "metadata": {
    "id": "krFaYS9Hem7u"
   },
   "source": [
    "---\n",
    "\n",
    "### 🎯 Challenge 5: Filter even numbers"
   ]
  },
  {
   "cell_type": "markdown",
   "metadata": {
    "id": "Iyt-q8KRem7v"
   },
   "source": [
    "#### 👇 Tasks\n",
    "\n",
    "- ✔️ Using `all_nums`, filter only even numbers.\n",
    "    - Store the result to a new variable named `even_nums`.\n",
    "- ✔️ `all_nums` should remain unaltered after your code."
   ]
  },
  {
   "cell_type": "markdown",
   "metadata": {
    "id": "Yyt2-xOaem7v"
   },
   "source": [
    "#### 🚀 Hints\n",
    "\n",
    "- Use the modulo operator (`%`) to check whether a number is even.\n",
    "    - `some_num % 2 == 0`"
   ]
  },
  {
   "cell_type": "code",
   "execution_count": null,
   "metadata": {
    "id": "KbnAsgt-em7v",
    "outputId": "c06fef7f-d0bb-41a0-8dec-08388bac4e72"
   },
   "outputs": [],
   "source": [
    "all_nums = pd.Series([2, 5, 4, 8, -2, -5, -11, 13, 4])\n",
    "\n",
    "# YOUR CODE BEGINS\n",
    "\n",
    "# YOUR CODE ENDS\n",
    "\n",
    "even_nums"
   ]
  },
  {
   "cell_type": "markdown",
   "metadata": {
    "id": "ldRi46SUem7v"
   },
   "source": [
    "#### 🧭 Check Your Work\n",
    "\n",
    "- Once you're done, run the code cell below to test correctness.\n",
    "- ✔️ If the code cell runs without an error, you're good to move on.\n",
    "- ❌ If the code cell throws an error, go back and fix incorrect parts."
   ]
  },
  {
   "cell_type": "code",
   "execution_count": null,
   "metadata": {
    "id": "QAMH76H2em7v",
    "nbgrader": {
     "grade": true,
     "grade_id": "challenge-05",
     "locked": true,
     "points": "1",
     "solution": false
    }
   },
   "outputs": [],
   "source": [
    "pd.testing.assert_series_equal(all_nums, pd.Series([2, 5, 4, 8, -2, -5, -11, 13, 4]))\n",
    "pd.testing.assert_series_equal(even_nums.reset_index(drop=True),\n",
    "                               pd.Series([2, 4, 8, -2, 4]))"
   ]
  },
  {
   "cell_type": "markdown",
   "metadata": {},
   "source": [
    "---\n",
    "\n",
    "### 📌 Filtering a `DataFrame`"
   ]
  },
  {
   "cell_type": "markdown",
   "metadata": {},
   "source": [
    "👉 I will keep saying this. A `DataFrame` is a combination of one or more columns. Filtering a `DataFrame` is very similar to filtering a `Series`.\n",
    "\n",
    "▶️ Run the code cell below to create a new `DataFrame` named `df`."
   ]
  },
  {
   "cell_type": "code",
   "execution_count": null,
   "metadata": {},
   "outputs": [],
   "source": [
    "df = pd.DataFrame({\"name\": [\"John\", \"Mary\", \"Tom\", \"John\"], \"amount\": [-20, -10, 10, 20]})\n",
    "\n",
    "df"
   ]
  },
  {
   "cell_type": "markdown",
   "metadata": {},
   "source": [
    "To only keep rows where the `name` is `'John'`, we can again supply a `Series` of boolean values. Only the first and last row of the `DataFrame` contain `'John'`.\n",
    "\n",
    "▶️ Create a new `Series` named `is_john` with the following boolean values - `True`, `False`, `False`, `True`."
   ]
  },
  {
   "cell_type": "code",
   "execution_count": null,
   "metadata": {},
   "outputs": [],
   "source": [
    "# YOUR CODE BEGINS\n",
    "\n",
    "# YOUR CODE ENDS\n",
    "\n",
    "# Check your work\n",
    "tc.assertEqual(is_john.to_list(), pd.Series([1, 0, 0, 1]).astype(bool).to_list())\n",
    "\n",
    "# Display keep\n",
    "is_john"
   ]
  },
  {
   "cell_type": "markdown",
   "metadata": {},
   "source": [
    "▶️ Type `result = df[is_john]` in the code cell below and run it."
   ]
  },
  {
   "cell_type": "code",
   "execution_count": null,
   "metadata": {},
   "outputs": [],
   "source": [
    "# YOUR CODE BEGINS\n",
    "\n",
    "# YOUR CODE ENDS\n",
    "\n",
    "result"
   ]
  },
  {
   "cell_type": "markdown",
   "metadata": {},
   "source": [
    "Here is a visualization of how `df[john]` works.\n",
    "\n",
    "![mini-dataframe-filter-rows](https://github.com/bdi475/images/blob/main/filter-mini-dataframe-result.png?raw=true)"
   ]
  },
  {
   "cell_type": "markdown",
   "metadata": {},
   "source": [
    "---\n",
    "\n",
    "### 🎯 Challenge 6: Find all positive transactions"
   ]
  },
  {
   "cell_type": "markdown",
   "metadata": {},
   "source": [
    "#### 👇 Tasks\n",
    "\n",
    "- ✔️ Given `df`, filter rows with positive `amount` values.\n",
    "    - Store the result to a new variable named `df_pos`.\n",
    "    - `df_pos` should be a `DataFrame`.\n",
    "- ✔️ `df` should remain unaltered after running your code."
   ]
  },
  {
   "cell_type": "markdown",
   "metadata": {},
   "source": [
    "▶️ Run the code cell below to create `df`."
   ]
  },
  {
   "cell_type": "code",
   "execution_count": null,
   "metadata": {},
   "outputs": [],
   "source": [
    "# DO NOT CHANGE THE CODE IN THIS CELL\n",
    "df = pd.DataFrame({\"name\": [\"John\", \"Mary\", \"Tom\", \"John\"], \"amount\": [-20, -10, 10, 20]})\n",
    "df"
   ]
  },
  {
   "cell_type": "code",
   "execution_count": null,
   "metadata": {},
   "outputs": [],
   "source": [
    "# YOUR CODE BEGINS\n",
    "\n",
    "# YOUR CODE ENDS\n",
    "\n",
    "df_pos"
   ]
  },
  {
   "cell_type": "markdown",
   "metadata": {},
   "source": [
    "#### 🧭 Check your work\n",
    "\n",
    "- Once you're done, run the code cell below to test correctness.\n",
    "- ✔️ If the code cell runs without an error, you're good to move on.\n",
    "- ❌ If the code cell throws an error, go back and fix incorrect parts."
   ]
  },
  {
   "cell_type": "code",
   "execution_count": null,
   "metadata": {
    "nbgrader": {
     "grade": true,
     "grade_id": "challenge-06",
     "locked": true,
     "points": "1",
     "solution": false
    }
   },
   "outputs": [],
   "source": [
    "df_check = pd.DataFrame({\"name\": [\"John\", \"Mary\", \"Tom\", \"John\"], \"amount\": [-20, -10, 10, 20]})\n",
    "\n",
    "pd.testing.assert_frame_equal(df, df_check)\n",
    "pd.testing.assert_frame_equal(df_pos.reset_index(drop=True),\n",
    "                              df_check.iloc[[2, 3]].reset_index(drop=True))"
   ]
  },
  {
   "cell_type": "markdown",
   "metadata": {},
   "source": [
    "---\n",
    "\n",
    "### 📌 Logical operators in pandas `Series`"
   ]
  },
  {
   "cell_type": "markdown",
   "metadata": {},
   "source": [
    "👉 There are only three *logical* operators in Pandas you need to remember.\n",
    "\n",
    "- `&`: Logical **AND**\n",
    "- `|`: Logical **OR**\n",
    "- `~`: Logical **NOT**\n",
    "\n",
    "These operators perform element-wise *logical* operations."
   ]
  },
  {
   "cell_type": "markdown",
   "metadata": {},
   "source": [
    "#### 📍 Logical AND"
   ]
  },
  {
   "cell_type": "markdown",
   "metadata": {},
   "source": [
    "👉 A logical AND operator `&` returns `True` only if both the operands are `True`.\n",
    "\n",
    "![s1_AND_s2](https://github.com/bdi475/images/blob/main/s1-AND-s2.png?raw=true)"
   ]
  },
  {
   "cell_type": "markdown",
   "metadata": {},
   "source": [
    "▶️ Perform a logical AND operation (`&`) on `s1` and `s2` and store the result to a new variable named `s1_AND_s2`."
   ]
  },
  {
   "cell_type": "code",
   "execution_count": null,
   "metadata": {},
   "outputs": [],
   "source": [
    "s1 = pd.Series([True, True, False, False])\n",
    "s2 = pd.Series([True, False, True, False])\n",
    "\n",
    "# YOUR CODE BEGINS\n",
    "\n",
    "# YOUR CODE ENDS\n",
    "\n",
    "# 🧭 Check your work\n",
    "pd.testing.assert_series_equal(s1_AND_s2, pd.Series([1, 0, 0, 0]).astype(bool))\n",
    "\n",
    "# Display s1, s2, s1_AND_S2 together as a DataFrame\n",
    "pd.DataFrame({\"s1\": s1, \"s2\": s2, \"s1_AND_s2\": s1_AND_s2})"
   ]
  },
  {
   "cell_type": "markdown",
   "metadata": {},
   "source": [
    "#### 📍 Logical OR"
   ]
  },
  {
   "cell_type": "markdown",
   "metadata": {},
   "source": [
    "👉 A logical OR operator `|` returns `True` if either of the operands is `True`.\n",
    "\n",
    "![s1_OR_s2](https://github.com/bdi475/images/blob/main/s1-OR-s2.png?raw=true)"
   ]
  },
  {
   "cell_type": "markdown",
   "metadata": {},
   "source": [
    "▶️ Perform a logical OR operation (`|`) on `s1` and `s2` and store the result to a new variable named `s1_OR_s2`."
   ]
  },
  {
   "cell_type": "code",
   "execution_count": null,
   "metadata": {},
   "outputs": [],
   "source": [
    "s1 = pd.Series([True, True, False, False])\n",
    "s2 = pd.Series([True, False, True, False])\n",
    "\n",
    "# YOUR CODE BEGINS\n",
    "\n",
    "# YOUR CODE ENDS\n",
    "\n",
    "# 🧭 Check your work\n",
    "pd.testing.assert_series_equal(s1_OR_s2, pd.Series([1, 1, 1, 0]).astype(bool))\n",
    "\n",
    "# Display s1, s2, s1_OR_s2 together as a DataFrame\n",
    "pd.DataFrame({\"s1\": s1,\n",
    "              \"s2\": s2,\n",
    "              \"s1_OR_s2\": s1_OR_s2})"
   ]
  },
  {
   "cell_type": "markdown",
   "metadata": {},
   "source": [
    "#### 📍 Logical NOT"
   ]
  },
  {
   "cell_type": "markdown",
   "metadata": {},
   "source": [
    "👉 A logical NOT operator `~` reverses each operand.\n",
    "\n",
    "![NOT_s1](https://github.com/bdi475/images/blob/main/NOT-s1.png?raw=true)"
   ]
  },
  {
   "cell_type": "markdown",
   "metadata": {},
   "source": [
    "▶️ Perform a logical OR operation (`~`) on `s1` and store the result to a new variable named `NOT_s1`."
   ]
  },
  {
   "cell_type": "code",
   "execution_count": null,
   "metadata": {},
   "outputs": [],
   "source": [
    "s1 = pd.Series([True, True, False, False])\n",
    "\n",
    "# YOUR CODE BEGINS\n",
    "\n",
    "# YOUR CODE ENDS\n",
    "\n",
    "# 🧭 Check your work\n",
    "pd.testing.assert_series_equal(NOT_s1, pd.Series([0, 0, 1, 1]).astype(bool))\n",
    "\n",
    "# Display s1 and NOT_s1 together as a DataFrame\n",
    "pd.DataFrame({\"s1\": s1,\n",
    "              \"NOT_s1\": NOT_s1})"
   ]
  },
  {
   "cell_type": "markdown",
   "metadata": {},
   "source": [
    "---\n",
    "\n",
    "### 🎯 Challenge 7: Find John's positive transaction(s)"
   ]
  },
  {
   "cell_type": "markdown",
   "metadata": {},
   "source": [
    "#### 👇 Tasks\n",
    "\n",
    "- ✔️ Given `df`, find rows where the name is `'John'` **and** the amount is positive.\n",
    "    - Store the result to a new variable named `df_john_pos`.\n",
    "    - `df_john_and_pos` should be a `DataFrame`.\n",
    "- ✔️ `df` should remain unaltered after running your code."
   ]
  },
  {
   "cell_type": "markdown",
   "metadata": {},
   "source": [
    "#### 🚀 Hints\n",
    "\n",
    "- Create a boolean Series `is_john` using an equality comparison (`df['name'] == 'John'`).\n",
    "- Create another boolean Series `is_positive` using a *greather than* comparison (`df['amount'] > 0`).\n",
    "- Use a logical AND operator `&` to combine `is_john` and `is_positive`."
   ]
  },
  {
   "cell_type": "markdown",
   "metadata": {},
   "source": [
    "▶️ Run the code cell below to create `df`."
   ]
  },
  {
   "cell_type": "code",
   "execution_count": null,
   "metadata": {},
   "outputs": [],
   "source": [
    "# DO NOT CHANGE THE CODE IN THIS CELL\n",
    "df = pd.DataFrame({\"name\": [\"John\", \"Mary\", \"Tom\", \"John\"], \"amount\": [-20, -10, 10, 20]})\n",
    "df"
   ]
  },
  {
   "cell_type": "code",
   "execution_count": null,
   "metadata": {},
   "outputs": [],
   "source": [
    "# YOUR CODE BEGINS\n",
    "\n",
    "# YOUR CODE ENDS\n",
    "\n",
    "df_john_and_pos"
   ]
  },
  {
   "cell_type": "markdown",
   "metadata": {},
   "source": [
    "#### 🧭 Check your work\n",
    "\n",
    "- Once you're done, run the code cell below to test correctness.\n",
    "- ✔️ If the code cell runs without an error, you're good to move on.\n",
    "- ❌ If the code cell throws an error, go back and fix incorrect parts."
   ]
  },
  {
   "cell_type": "code",
   "execution_count": null,
   "metadata": {
    "nbgrader": {
     "grade": true,
     "grade_id": "challenge-07",
     "locked": true,
     "points": "1",
     "solution": false
    }
   },
   "outputs": [],
   "source": [
    "df_check = pd.DataFrame({\"name\": [\"John\", \"Mary\", \"Tom\", \"John\"], \"amount\": [-20, -10, 10, 20]})\n",
    "\n",
    "pd.testing.assert_frame_equal(df, df_check)\n",
    "pd.testing.assert_frame_equal(df_john_and_pos.reset_index(drop=True),\n",
    "                              df_check.iloc[[3]].reset_index(drop=True))"
   ]
  },
  {
   "cell_type": "markdown",
   "metadata": {},
   "source": [
    "#### ⚜️ A diagram to help your understanding\n",
    "![is_john_AND_is_positive](https://github.com/bdi475/images/blob/main/is-john-AND-is-positive.png?raw=true)"
   ]
  },
  {
   "cell_type": "markdown",
   "metadata": {},
   "source": [
    "---\n",
    "\n",
    "### 🎯 Challenge 8: Find transactions that are made by John OR are positive"
   ]
  },
  {
   "cell_type": "markdown",
   "metadata": {},
   "source": [
    "#### 👇 Tasks\n",
    "\n",
    "- ✔️ Given `df`, find rows where the name is `\"John\"` **or** the amount is positive.\n",
    "    - Store the result to a new variable named `df_john_or_pos`.\n",
    "    - `df_john_or_pos` should be a `DataFrame`.\n",
    "- ✔️ `df` should remain unaltered after running your code."
   ]
  },
  {
   "cell_type": "markdown",
   "metadata": {},
   "source": [
    "#### 🚀 Hints\n",
    "\n",
    "- Create a boolean Series `is_john` using an equality comparison (`df['name'] == 'John'`).\n",
    "- Create another boolean Series `is_positive` using a *greather than* comparison (`df['amount'] > 0`).\n",
    "- Use a logical OR operator `|` to combine `is_john` and `is_positive`."
   ]
  },
  {
   "cell_type": "markdown",
   "metadata": {},
   "source": [
    "▶️ Run the code cell below to create `df`."
   ]
  },
  {
   "cell_type": "code",
   "execution_count": null,
   "metadata": {},
   "outputs": [],
   "source": [
    "# DO NOT CHANGE THE CODE IN THIS CELL\n",
    "df = pd.DataFrame({\"name\": [\"John\", \"Mary\", \"Tom\", \"John\"], \"amount\": [-20, -10, 10, 20]})\n",
    "df"
   ]
  },
  {
   "cell_type": "code",
   "execution_count": null,
   "metadata": {
    "nbgrader": {
     "grade": false,
     "locked": false,
     "solution": false
    }
   },
   "outputs": [],
   "source": [
    "# YOUR CODE BEGINS\n",
    "\n",
    "# YOUR CODE ENDS\n",
    "\n",
    "df_john_or_pos"
   ]
  },
  {
   "cell_type": "markdown",
   "metadata": {},
   "source": [
    "#### 🧭 Check your work\n",
    "\n",
    "- Once you're done, run the code cell below to test correctness.\n",
    "- ✔️ If the code cell runs without an error, you're good to move on.\n",
    "- ❌ If the code cell throws an error, go back and fix incorrect parts."
   ]
  },
  {
   "cell_type": "code",
   "execution_count": null,
   "metadata": {
    "nbgrader": {
     "grade": true,
     "grade_id": "challenge-08",
     "locked": true,
     "points": "1",
     "solution": false
    }
   },
   "outputs": [],
   "source": [
    "df_check = pd.DataFrame({\"name\": [\"John\", \"Mary\", \"Tom\", \"John\"], \"amount\": [-20, -10, 10, 20]})\n",
    "\n",
    "pd.testing.assert_frame_equal(df, df_check)\n",
    "pd.testing.assert_frame_equal(df_john_or_pos.reset_index(drop=True),\n",
    "                              df_check.iloc[[0, 2, 3]].reset_index(drop=True))"
   ]
  },
  {
   "cell_type": "markdown",
   "metadata": {},
   "source": [
    "#### ⚜️ A diagram to help your understanding\n",
    "![is_john_OR_is_positive](https://github.com/bdi475/images/blob/main/is-john-OR-is-positive.png?raw=true)"
   ]
  },
  {
   "cell_type": "markdown",
   "metadata": {},
   "source": [
    "---\n",
    "\n",
    "### 🎯 Challenge 9: Find transactions that are NOT made by John"
   ]
  },
  {
   "cell_type": "markdown",
   "metadata": {},
   "source": [
    "#### 👇 Tasks\n",
    "\n",
    "- ✔️ Given `df`, find rows where the name is NOT `'John'`.\n",
    "    - Store the result to a new variable named `df_not_john`.\n",
    "    - `df_not_john` should be a `DataFrame`.\n",
    "- ✔️ Although you can do this without the NOT operator (`~`), **your goal is to use `~`**.\n",
    "- ✔️ `df` should remain unaltered after running your code."
   ]
  },
  {
   "cell_type": "markdown",
   "metadata": {},
   "source": [
    "#### 🚀 Hints\n",
    "\n",
    "- Create a boolean Series `is_john` using an equality comparison (`df['name'] == 'John'`).\n",
    "- Use a logical NOT operator `~` to reverse `is_john`."
   ]
  },
  {
   "cell_type": "markdown",
   "metadata": {},
   "source": [
    "▶️ Run the code cell below to create `df`."
   ]
  },
  {
   "cell_type": "code",
   "execution_count": null,
   "metadata": {},
   "outputs": [],
   "source": [
    "# DO NOT CHANGE THE CODE IN THIS CELL\n",
    "df = pd.DataFrame({\"name\": [\"John\", \"Mary\", \"Tom\", \"John\"], \"amount\": [-20, -10, 10, 20]})\n",
    "df"
   ]
  },
  {
   "cell_type": "code",
   "execution_count": null,
   "metadata": {
    "nbgrader": {
     "grade": true,
     "grade_id": "challenge-09",
     "locked": true,
     "points": "1",
     "solution": false
    }
   },
   "outputs": [],
   "source": [
    "# YOUR CODE BEGINS\n",
    "\n",
    "# YOUR CODE ENDS\n",
    "\n",
    "df_not_john"
   ]
  },
  {
   "cell_type": "markdown",
   "metadata": {},
   "source": [
    "#### 🧭 Check your work\n",
    "\n",
    "- Once you're done, run the code cell below to test correctness.\n",
    "- ✔️ If the code cell runs without an error, you're good to move on.\n",
    "- ❌ If the code cell throws an error, go back and fix incorrect parts."
   ]
  },
  {
   "cell_type": "code",
   "execution_count": null,
   "metadata": {},
   "outputs": [],
   "source": [
    "df_check = pd.DataFrame({\"name\": [\"John\", \"Mary\", \"Tom\", \"John\"], \"amount\": [-20, -10, 10, 20]})\n",
    "\n",
    "pd.testing.assert_frame_equal(df, df_check)\n",
    "pd.testing.assert_frame_equal(df_not_john.reset_index(drop=True),\n",
    "                              df_check.iloc[[1, 2]].reset_index(drop=True))"
   ]
  },
  {
   "cell_type": "markdown",
   "metadata": {},
   "source": [
    "#### ⚜️ A diagram to help your understanding\n",
    "![not_john](https://github.com/bdi475/images/blob/main/not-john.png?raw=true)"
   ]
  },
  {
   "cell_type": "markdown",
   "metadata": {
    "id": "DW30mOfZem7v"
   },
   "source": [
    "---\n",
    "\n",
    "### 📌 Element-wise comparison in a `Series`"
   ]
  },
  {
   "cell_type": "markdown",
   "metadata": {
    "id": "fv4hxUApem7v"
   },
   "source": [
    "▶️ Run the code cell below to create a new `Series` named `countries`."
   ]
  },
  {
   "cell_type": "code",
   "execution_count": null,
   "metadata": {
    "id": "1k4Ty5tFem7w",
    "outputId": "05053357-31f1-423f-e34d-4eca1c834432"
   },
   "outputs": [],
   "source": [
    "countries = pd.Series([\"United States\", \"Oman\", \"United States\",\n",
    "                       \"China\", \"South Korea\", \"United States\"])\n",
    "\n",
    "display(countries)"
   ]
  },
  {
   "cell_type": "markdown",
   "metadata": {
    "id": "2LYnIQinem7w"
   },
   "source": [
    "What happens when you perform an equality comparison on strings?\n",
    "\n",
    "▶️ Compare `countries` with the string `'United States'` using an equality comparison operator (`==`)."
   ]
  },
  {
   "cell_type": "code",
   "execution_count": null,
   "metadata": {
    "id": "hQTcrXEdem7w",
    "outputId": "517a1aeb-baff-4938-d18a-bc415a3c6873"
   },
   "outputs": [],
   "source": [
    "# YOUR CODE BEGINS\n",
    "\n",
    "# YOUR CODE ENDS"
   ]
  },
  {
   "cell_type": "markdown",
   "metadata": {
    "id": "9uQ2Mzwvem7w"
   },
   "source": [
    "▶️ Run the code cell below to check the data type of the result."
   ]
  },
  {
   "cell_type": "code",
   "execution_count": null,
   "metadata": {
    "id": "TeCdiCCTem7w",
    "outputId": "97f0b0f9-a4fe-40c3-8715-e35229727606"
   },
   "outputs": [],
   "source": [
    "type(countries == \"United States\")"
   ]
  },
  {
   "cell_type": "markdown",
   "metadata": {
    "id": "WO1sLJXdem7w"
   },
   "source": [
    "The result is **another `Series`** containing boolean (`True`/`False`) values. Pandas performs a string comparison (`my_str == 'United States'`) on **each element**.\n",
    "\n",
    "Remember, you can also supply more than one condition using the following two operators:\n",
    "\n",
    "1. logical OR (`|`)\n",
    "2. logical AND (`&`)\n",
    "\n",
    "▶️ Run the code cell below to check whether a country is **either** `'Oman'` **or** `'China'`."
   ]
  },
  {
   "cell_type": "code",
   "execution_count": null,
   "metadata": {
    "id": "KTA8XPv_em7w",
    "outputId": "e7ccee7a-caa1-4b80-b25c-4440b2b6618f"
   },
   "outputs": [],
   "source": [
    "(countries == \"Oman\") | (countries == \"China\")"
   ]
  },
  {
   "cell_type": "code",
   "execution_count": null,
   "metadata": {
    "id": "YwIROkUBem7x",
    "outputId": "454796e0-63f3-4b22-c296-d59317812e0f"
   },
   "outputs": [],
   "source": [
    "countries[(countries == \"Oman\") | (countries == \"China\")]"
   ]
  },
  {
   "cell_type": "markdown",
   "metadata": {
    "id": "TpncLNBdem7x"
   },
   "source": [
    "---\n",
    "\n",
    "### 📌 Another example of filtering a `DataFrame`"
   ]
  },
  {
   "cell_type": "markdown",
   "metadata": {
    "id": "-25GoLwbem7x"
   },
   "source": [
    "▶️ Run the code cell below to create a new `DataFrame` named `df_cities`."
   ]
  },
  {
   "cell_type": "code",
   "execution_count": null,
   "metadata": {
    "id": "o5vfs2TYem7x",
    "outputId": "ad9fafdd-bdab-4e26-c2bd-70f8c1fdbffa"
   },
   "outputs": [],
   "source": [
    "df_cities = pd.DataFrame({\"city\": [\"Lisle\", \"Dubai\", \"Niles\", \"Shanghai\", \"Seoul\", \"Chicago\"],\n",
    " \"country\": [\"United States\", \"United Arab Emirates\", \"United States\", \"China\", \"South Korea\", \"United States\"],\n",
    " \"population\": [23270, 3331409, 28938, 26320000, 21794000, 8604203]})\n",
    "\n",
    "df_cities"
   ]
  },
  {
   "cell_type": "markdown",
   "metadata": {
    "id": "K8Ar5vxeem7x"
   },
   "source": [
    "To only keep rows where the `country` is `'United States'`, we can again supply a `Series` of boolean values.\n",
    "\n",
    "▶️ Create a new `Series` named `keep` with the following 6 boolean values - `True`, `False`, `True`, `False`, `False`, `True`."
   ]
  },
  {
   "cell_type": "code",
   "execution_count": null,
   "metadata": {
    "id": "bpP88Meeem7x",
    "outputId": "a2297654-dfb2-4472-b6b2-f2a3bd832fb1"
   },
   "outputs": [],
   "source": [
    "# YOUR CODE BEGINS\n",
    "\n",
    "# YOUR CODE ENDS\n",
    "\n",
    "# Check your work\n",
    "pd.testing.assert_series_equal(keep.reset_index(drop=True),\n",
    "                               pd.Series([1, 0, 1, 0, 0, 1]).astype(bool).reset_index(drop=True),\n",
    "                               check_names=False)\n",
    "\n",
    "# Display keep\n",
    "keep"
   ]
  },
  {
   "cell_type": "markdown",
   "metadata": {
    "id": "JUNm8ebnem7y"
   },
   "source": [
    "🤠 You know the drill now.\n",
    "\n",
    "▶️ Type `df_cities[keep]` in the code cell below and run it."
   ]
  },
  {
   "cell_type": "code",
   "execution_count": null,
   "metadata": {
    "id": "ulu40PsZem7y",
    "outputId": "66c22849-6724-4a67-d603-5539b88bb196"
   },
   "outputs": [],
   "source": [
    "# YOUR CODE BEGINS\n",
    "\n",
    "# YOUR CODE ENDS"
   ]
  },
  {
   "cell_type": "markdown",
   "metadata": {
    "id": "juiThUb1em7y"
   },
   "source": [
    "---\n",
    "\n",
    "### 🎯 Challenge 10: Cities with population over a million"
   ]
  },
  {
   "cell_type": "markdown",
   "metadata": {
    "id": "3In4qrctem7y"
   },
   "source": [
    "#### 👇 Tasks\n",
    "\n",
    "- ✔️ Using `df_cities`, filter rows with a population greater than a million (`1000000`).\n",
    "    - Store the result to a new variable named `df_large_cities`.\n",
    "- ✔️ `df_cities` should remain unaltered after your code."
   ]
  },
  {
   "cell_type": "code",
   "execution_count": null,
   "metadata": {
    "id": "3yEcyo-Mem7y",
    "outputId": "dbe8bab2-bb34-4a86-d38c-bac31d1197a7"
   },
   "outputs": [],
   "source": [
    "# YOUR CODE BEGINS\n",
    "\n",
    "# YOUR CODE ENDS\n",
    "\n",
    "df_large_cities"
   ]
  },
  {
   "cell_type": "markdown",
   "metadata": {
    "id": "oNNKvOTqem7y"
   },
   "source": [
    "#### 🧭 Check Your Work\n",
    "\n",
    "- Once you're done, run the code cell below to test correctness.\n",
    "- ✔️ If the code cell runs without an error, you're good to move on.\n",
    "- ❌ If the code cell throws an error, go back and fix incorrect parts."
   ]
  },
  {
   "cell_type": "code",
   "execution_count": null,
   "metadata": {
    "id": "dwE6E1hWem7z",
    "nbgrader": {
     "grade": true,
     "grade_id": "challenge-10",
     "locked": true,
     "points": "1",
     "solution": false
    }
   },
   "outputs": [],
   "source": [
    "pd.testing.assert_frame_equal(df_large_cities.reset_index(drop=True),\n",
    "                              df_cities.query('population > 1000000').reset_index(drop=True))"
   ]
  },
  {
   "cell_type": "markdown",
   "metadata": {
    "id": "Mrzib8KMem7z"
   },
   "source": [
    "---\n",
    "\n",
    "### 🎯 Challenge 11: People who do not use an iPhone"
   ]
  },
  {
   "cell_type": "markdown",
   "metadata": {
    "id": "RjywLlgMem7z"
   },
   "source": [
    "▶️ Run the code cell below to see the **first** 3 rows of `df_you`."
   ]
  },
  {
   "cell_type": "code",
   "execution_count": null,
   "metadata": {
    "id": "U9Gx1vchem7z",
    "outputId": "86eb05b8-7277-4a60-cc87-14a68c49d10b"
   },
   "outputs": [],
   "source": [
    "# Restore clean df_you\n",
    "df_you = df_you_backup.copy()\n",
    "\n",
    "df_you.head(3)"
   ]
  },
  {
   "cell_type": "markdown",
   "metadata": {
    "id": "GfnhBiRvem7z"
   },
   "source": [
    "#### 👇 Tasks\n",
    "\n",
    "- ✔️ Using `df_you`, filter rows where the person does not use an iPhone.\n",
    "    - Store the result to a new variable named `df_no_iphone`.\n",
    "- ✔️ `df_you` should remain unaltered after your code."
   ]
  },
  {
   "cell_type": "code",
   "execution_count": null,
   "metadata": {
    "id": "kXVG7kRGem7z",
    "outputId": "7d3fee9b-f51e-4268-fffb-8cca7d514014"
   },
   "outputs": [],
   "source": [
    "# YOUR CODE BEGINS\n",
    "\n",
    "# YOUR CODE ENDS\n",
    "\n",
    "df_no_iphone"
   ]
  },
  {
   "cell_type": "markdown",
   "metadata": {
    "id": "T4ys5Rh6em7z"
   },
   "source": [
    "#### 🧭 Check Your Work\n",
    "\n",
    "- Once you're done, run the code cell below to test correctness.\n",
    "- ✔️ If the code cell runs without an error, you're good to move on.\n",
    "- ❌ If the code cell throws an error, go back and fix incorrect parts."
   ]
  },
  {
   "cell_type": "code",
   "execution_count": null,
   "metadata": {
    "id": "JgCa-BnBem70",
    "nbgrader": {
     "grade": true,
     "grade_id": "challenge-11",
     "locked": true,
     "points": "1",
     "solution": false
    }
   },
   "outputs": [],
   "source": [
    "pd.testing.assert_frame_equal(df_no_iphone.reset_index(drop=True),\n",
    "                              df_you[~df_you[\"has_iphone\"]].reset_index(drop=True))"
   ]
  },
  {
   "cell_type": "markdown",
   "metadata": {
    "id": "vFsItQLaem71"
   },
   "source": [
    "---\n",
    "\n",
    "### 🎯 Challenge 12: People who are Economics majors or like Shawarma Joint"
   ]
  },
  {
   "cell_type": "markdown",
   "metadata": {
    "id": "T_PNR5P_em71"
   },
   "source": [
    "▶️ Run the code cell below to see the **last** 5 rows of `df_you`."
   ]
  },
  {
   "cell_type": "code",
   "execution_count": null,
   "metadata": {
    "id": "QPeZdyBDem71",
    "outputId": "2cf8e3f0-be40-4e22-a07c-6e031acb94c7"
   },
   "outputs": [],
   "source": [
    "# Restore clean df_you\n",
    "df_you = df_you_backup.copy()\n",
    "\n",
    "df_you.tail()"
   ]
  },
  {
   "cell_type": "markdown",
   "metadata": {
    "id": "3-VRC3X9em71"
   },
   "source": [
    "#### 👇 Tasks\n",
    "\n",
    "- ✔️ Using `df_you`, filter rows that matches the following criteria:\n",
    "    - The person's `major1` is `\"Economics\"`, **OR**\n",
    "    - The person's `fav_restaurant` is `\"Shawarma Joint\"`\n",
    "- ✔️ Store the filtered `DataFrame` to a new variable named `df_econ_or_shawarma`.\n",
    "- ✔️ `df_you` should remain unaltered after your code."
   ]
  },
  {
   "cell_type": "code",
   "execution_count": null,
   "metadata": {
    "id": "FODJo-Kpem71",
    "outputId": "cc83e5dd-61cf-49d7-9135-76eea93b6944"
   },
   "outputs": [],
   "source": [
    "# YOUR CODE BEGINS\n",
    "\n",
    "# YOUR CODE ENDS\n",
    "\n",
    "df_econ_or_shawarma"
   ]
  },
  {
   "cell_type": "markdown",
   "metadata": {
    "id": "gHFL-CDcem71"
   },
   "source": [
    "#### 🧭 Check Your Work\n",
    "\n",
    "- Once you're done, run the code cell below to test correctness.\n",
    "- ✔️ If the code cell runs without an error, you're good to move on.\n",
    "- ❌ If the code cell throws an error, go back and fix incorrect parts."
   ]
  },
  {
   "cell_type": "code",
   "execution_count": null,
   "metadata": {
    "id": "Tgv4buH3em71",
    "nbgrader": {
     "grade": true,
     "grade_id": "challenge-12",
     "locked": true,
     "points": "1",
     "solution": false
    }
   },
   "outputs": [],
   "source": [
    "df_check = df_you_backup[(df_you_backup[\"major1\"] == \"Economics\") | (df_you_backup[\"fav_restaurant\"] == \"Shawarma Joint\")]\n",
    "\n",
    "pd.testing.assert_frame_equal(df_econ_or_shawarma.sort_values(df_econ_or_chipotle.columns.tolist()).reset_index(drop=True),\n",
    "                              df_check.sort_values(df_check.columns.tolist()).reset_index(drop=True))"
   ]
  },
  {
   "cell_type": "markdown",
   "metadata": {},
   "source": [
    "---\n",
    "\n",
    "## 👉 Sorting a `DataFrame`\n",
    "\n",
    "You can sort a `DataFrame` using `df.sort_values()`."
   ]
  },
  {
   "cell_type": "markdown",
   "metadata": {},
   "source": [
    "![sort_values usage](https://github.com/bdi475/images/blob/main/pandas/sort-values-01.png?raw=true)"
   ]
  },
  {
   "cell_type": "markdown",
   "metadata": {},
   "source": [
    "▶️ Run the code cell below to **sort** `df_cities` by `population`."
   ]
  },
  {
   "cell_type": "code",
   "execution_count": null,
   "metadata": {},
   "outputs": [],
   "source": [
    "df_cities.sort_values('population')"
   ]
  },
  {
   "cell_type": "markdown",
   "metadata": {},
   "source": [
    "▶️ Run the code cell below to **sort** `df_cities` by `population` in descending order."
   ]
  },
  {
   "cell_type": "code",
   "execution_count": null,
   "metadata": {},
   "outputs": [],
   "source": [
    "df_cities.sort_values('population', ascending=False)"
   ]
  },
  {
   "cell_type": "markdown",
   "metadata": {},
   "source": [
    "---\n",
    "\n",
    "## Exercises using the Yeezys dataset\n",
    "\n",
    "### 📌 Load data\n",
    "\n",
    "▶️ Run the code cell below to create a new `DataFrame` named `df_sneakers`."
   ]
  },
  {
   "cell_type": "code",
   "execution_count": null,
   "metadata": {},
   "outputs": [],
   "source": [
    "df_sneakers = pd.read_csv(\"https://github.com/bdi475/datasets/raw/main/yeezy_sneakers.csv\")\n",
    "\n",
    "# Used to keep a clean copy\n",
    "df_sneakers_backup = df_sneakers.copy()\n",
    "\n",
    "# head() displays the first 5 rows of a DataFrame\n",
    "df_sneakers.head()"
   ]
  },
  {
   "cell_type": "markdown",
   "metadata": {
    "id": "LI33A8-jem7m"
   },
   "source": [
    "The table below describes the columns in `df_sneakers`.\n",
    "\n",
    "| Column Name             | Description           |\n",
    "|-------------------------|-----------------------|\n",
    "| brand                   | Brand of the sneaker  |\n",
    "| product                 | Name of the sneaker   |\n",
    "| price                   | Price of the sneaker  |"
   ]
  },
  {
   "cell_type": "markdown",
   "metadata": {},
   "source": [
    "---\n",
    "\n",
    "### 📌 Concise summary of a `DataFrame`"
   ]
  },
  {
   "cell_type": "markdown",
   "metadata": {},
   "source": [
    "▶️ Print out a summary of the `df_sneakers` using the `info()` method."
   ]
  },
  {
   "cell_type": "code",
   "execution_count": null,
   "metadata": {},
   "outputs": [],
   "source": [
    "# YOUR CODE BEGINS\n",
    "\n",
    "# YOUR CODE ENDS"
   ]
  },
  {
   "cell_type": "markdown",
   "metadata": {},
   "source": [
    "---\n",
    "\n",
    "### 📌 Number of rows and columns in a `DataFrame`"
   ]
  },
  {
   "cell_type": "markdown",
   "metadata": {},
   "source": [
    "👉 How many rows and columns does `df_sneakers` have?\n",
    "\n",
    "▶️ Run `df_sneakers.shape` below to see the *shape* of the database."
   ]
  },
  {
   "cell_type": "code",
   "execution_count": null,
   "metadata": {},
   "outputs": [],
   "source": [
    "# YOUR CODE BEGINS\n",
    "\n",
    "# YOUR CODE ENDS"
   ]
  },
  {
   "cell_type": "markdown",
   "metadata": {},
   "source": [
    "---\n",
    "\n",
    "### 🎯 Challenge 13: Find the number of rows and columns in a `DataFrame`"
   ]
  },
  {
   "cell_type": "markdown",
   "metadata": {},
   "source": [
    "#### 👇 Tasks\n",
    "\n",
    "- ✔️ Store the number of rows in `df_sneakers` to a new variable named `num_rows`.\n",
    "- ✔️ Store the number of columns in `df_sneakers` to a new variable named `num_cols`.\n",
    "- ✔️ Use `.shape`, not `len()`."
   ]
  },
  {
   "cell_type": "code",
   "execution_count": null,
   "metadata": {},
   "outputs": [],
   "source": [
    "# YOUR CODE BEGINS\n",
    "\n",
    "# YOUR CODE ENDS\n",
    "\n",
    "print(num_rows)\n",
    "print(num_cols)"
   ]
  },
  {
   "cell_type": "markdown",
   "metadata": {},
   "source": [
    "#### 🧭 Check Your Work\n",
    "\n",
    "- Once you're done, run the code cell below to test correctness.\n",
    "- ✔️ If the code cell runs without an error, you're good to move on.\n",
    "- ❌ If the code cell throws an error, go back and fix incorrect parts."
   ]
  },
  {
   "cell_type": "code",
   "execution_count": null,
   "metadata": {
    "nbgrader": {
     "grade": true,
     "grade_id": "challenge-07",
     "locked": true,
     "points": "1",
     "solution": false
    }
   },
   "outputs": [],
   "source": [
    "tc.assertEqual(num_rows, len(df_sneakers.index), f\"Number of rows should be {len(df_sneakers.index)}\")\n",
    "tc.assertEqual(num_cols, len(df_sneakers.columns), f\"Number of columns should be {len(df_sneakers.columns)}\")"
   ]
  },
  {
   "cell_type": "markdown",
   "metadata": {},
   "source": [
    "---\n",
    "\n",
    "### 🎯 Challenge 14: Find `Adidas` sneakers"
   ]
  },
  {
   "cell_type": "markdown",
   "metadata": {},
   "source": [
    "#### 👇 Tasks\n",
    "\n",
    "- ✔️ Find Adidas sneakers and store the filtered result to `df_adidas`.\n",
    "- ✔️ `df_sneakers` should remain unaltered.\n",
    "\n",
    "#### 🔑 Expected Output\n",
    "\n",
    "|    | brand   | product                                |   price |\n",
    "|---:|:--------|:---------------------------------------|--------:|\n",
    "|  0 | Adidas  | Yeezy 750 Boost Light Brown            |    1578 |\n",
    "|  1 | Adidas  | Yeezy 350 Boost Pirate Black           |     910 |\n",
    "|  2 | Adidas  | Yeezy Boost 350 V2 Lundmark Reflective |    1009 |\n",
    "|  3 | Adidas  | Yeezy 350 Boost V2 Black/Red           |     954 |\n",
    "| 10 | Adidas  | Yeezy Boost 350 V2 Black Reflective    |    1437 |\n",
    "| 11 | Adidas  | Yeezy Boost 350 V2 Antlia Reflective   |     912 |\n",
    "| 12 | Adidas  | Yeezy Boost 350 V2 Synth Reflective    |    1292 |\n",
    "| 13 | Adidas  | Yeezy 350 Boost Turtledove             |    1279 |\n",
    "| 14 | Adidas  | Yeezy 750 Boost Glow in the Dark       |     917 |"
   ]
  },
  {
   "cell_type": "code",
   "execution_count": null,
   "metadata": {},
   "outputs": [],
   "source": [
    "# YOUR CODE BEGINS\n",
    "\n",
    "# YOUR CODE ENDS\n",
    "\n",
    "df_adidas"
   ]
  },
  {
   "cell_type": "markdown",
   "metadata": {},
   "source": [
    "#### 🧭 Check Your Work\n",
    "\n",
    "- Once you're done, run the code cell below to test correctness.\n",
    "- ✔️ If the code cell runs without an error, you're good to move on.\n",
    "- ❌ If the code cell throws an error, go back and fix incorrect parts."
   ]
  },
  {
   "cell_type": "code",
   "execution_count": null,
   "metadata": {
    "nbgrader": {
     "grade": true,
     "grade_id": "challenge-08",
     "locked": true,
     "points": "1",
     "solution": false
    }
   },
   "outputs": [],
   "source": [
    "df_sneakers_copy = df_sneakers_backup.copy()\n",
    "\n",
    "pd.testing.assert_frame_equal(\n",
    "    df_sneakers_copy \\\n",
    "        .query(\"brand == 'Adidas'\") \\\n",
    "        .sort_values(df_sneakers_copy.columns.to_list()) \\\n",
    "        .reset_index(drop=True),\n",
    "    df_adidas.reset_index(drop=True) \\\n",
    "        .sort_values(df_adidas.columns.to_list()) \\\n",
    "        .reset_index(drop=True)\n",
    ")"
   ]
  },
  {
   "cell_type": "markdown",
   "metadata": {},
   "source": [
    "---\n",
    "\n",
    "### 🎯 Challenge 15: Find Sneakers under \\\\$1,000"
   ]
  },
  {
   "cell_type": "markdown",
   "metadata": {},
   "source": [
    "#### 👇 Tasks\n",
    "\n",
    "- ✔️ Find sneakers under \\\\$1,000 and store the filtered result to `df_under_1000`.\n",
    "- ✔️ `df_sneakers` should remain unaltered.\n",
    "\n",
    "#### 🔑 Expected Output\n",
    "\n",
    "|    | brand   | product                              |   price |\n",
    "|---:|:--------|:-------------------------------------|--------:|\n",
    "|  1 | Adidas  | Yeezy 350 Boost Pirate Black         |     910 |\n",
    "|  3 | Adidas  | Yeezy 350 Boost V2 Black/Red         |     954 |\n",
    "| 11 | Adidas  | Yeezy Boost 350 V2 Antlia Reflective |     912 |\n",
    "| 14 | Adidas  | Yeezy 750 Boost Glow in the Dark     |     917 |"
   ]
  },
  {
   "cell_type": "code",
   "execution_count": null,
   "metadata": {},
   "outputs": [],
   "source": [
    "# YOUR CODE BEGINS\n",
    "\n",
    "# YOUR CODE ENDS\n",
    "\n",
    "df_under_1000"
   ]
  },
  {
   "cell_type": "markdown",
   "metadata": {},
   "source": [
    "#### 🧭 Check Your Work\n",
    "\n",
    "- Once you're done, run the code cell below to test correctness.\n",
    "- ✔️ If the code cell runs without an error, you're good to move on.\n",
    "- ❌ If the code cell throws an error, go back and fix incorrect parts."
   ]
  },
  {
   "cell_type": "code",
   "execution_count": null,
   "metadata": {
    "nbgrader": {
     "grade": true,
     "grade_id": "challenge-09",
     "locked": true,
     "points": "1",
     "solution": false
    }
   },
   "outputs": [],
   "source": [
    "df_sneakers_copy = df_sneakers_backup.copy()\n",
    "\n",
    "pd.testing.assert_frame_equal(\n",
    "    df_sneakers_copy \\\n",
    "        .query(\"price < 1000\") \\\n",
    "        .sort_values(df_sneakers_copy.columns.to_list()) \\\n",
    "        .reset_index(drop=True),\n",
    "    df_under_1000.reset_index(drop=True) \\\n",
    "        .sort_values(df_under_1000.columns.to_list()) \\\n",
    "        .reset_index(drop=True)\n",
    ")"
   ]
  },
  {
   "cell_type": "markdown",
   "metadata": {},
   "source": [
    "---\n",
    "\n",
    "### 🎯 Challenge 16: Find `Nike` Sneakers over \\\\$3,000"
   ]
  },
  {
   "cell_type": "markdown",
   "metadata": {},
   "source": [
    "#### 👇 Tasks\n",
    "\n",
    "- ✔️ Find Nike sneakers over \\$3,000 and store the filtered result to `df_nike_over_3000`.\n",
    "- ✔️ `df_sneakers` should remain unaltered.\n",
    "\n",
    "#### 🔑 Expected Output\n",
    "\n",
    "|    | brand   | product                   |   price |\n",
    "|---:|:--------|:--------------------------|--------:|\n",
    "|  4 | Nike    | Air Yeezy Blink           |    3142 |\n",
    "|  5 | Nike    | Air Yeezy 2 Red October   |    6075 |\n",
    "|  6 | Nike    | Air Yeezy 2 Solar Red     |    4239 |\n",
    "|  7 | Nike    | Air Yeezy 2 Pure Platinum |    3448 |"
   ]
  },
  {
   "cell_type": "code",
   "execution_count": null,
   "metadata": {},
   "outputs": [],
   "source": [
    "# YOUR CODE BEGINS\n",
    "\n",
    "# YOUR CODE ENDS\n",
    "\n",
    "df_nike_over_3000"
   ]
  },
  {
   "cell_type": "markdown",
   "metadata": {},
   "source": [
    "#### 🧭 Check Your Work\n",
    "\n",
    "- Once you're done, run the code cell below to test correctness.\n",
    "- ✔️ If the code cell runs without an error, you're good to move on.\n",
    "- ❌ If the code cell throws an error, go back and fix incorrect parts."
   ]
  },
  {
   "cell_type": "code",
   "execution_count": null,
   "metadata": {
    "nbgrader": {
     "grade": true,
     "grade_id": "challenge-10",
     "locked": true,
     "points": "1",
     "solution": false
    }
   },
   "outputs": [],
   "source": [
    "df_sneakers_copy = df_sneakers_backup.copy()\n",
    "\n",
    "pd.testing.assert_frame_equal(\n",
    "    df_sneakers_copy \\\n",
    "        .query(\"(brand == 'Nike') & (price > 3000)\") \\\n",
    "        .sort_values(df_sneakers_copy.columns.to_list()) \\\n",
    "        .reset_index(drop=True),\n",
    "    df_nike_over_3000.reset_index(drop=True) \\\n",
    "        .sort_values(df_nike_over_3000.columns.to_list()) \\\n",
    "        .reset_index(drop=True)\n",
    ")"
   ]
  },
  {
   "cell_type": "markdown",
   "metadata": {},
   "source": [
    "---\n",
    "\n",
    "### 🎯 Challenge 17: Sort sneakers by price in descending order"
   ]
  },
  {
   "cell_type": "markdown",
   "metadata": {},
   "source": [
    "#### 👇 Tasks\n",
    "\n",
    "- ✔️ Sort sneakers by price in descending order and store the result to `df_sorted_by_price_desc`.\n",
    "- ✔️ `df_sneakers` should remain unaltered.\n",
    "\n",
    "#### 🔑 Expected Output\n",
    "\n",
    "|    | brand   | product                                |   price |\n",
    "|---:|:--------|:---------------------------------------|--------:|\n",
    "|  5 | Nike    | Air Yeezy 2 Red October                |    6075 |\n",
    "|  6 | Nike    | Air Yeezy 2 Solar Red                  |    4239 |\n",
    "|  7 | Nike    | Air Yeezy 2 Pure Platinum              |    3448 |\n",
    "|  4 | Nike    | Air Yeezy Blink                        |    3142 |\n",
    "|  9 | Nike    | Air Yeezy Zen Grey                     |    2139 |\n",
    "|  8 | Nike    | Air Yeezy Net                          |    1888 |\n",
    "|  0 | Adidas  | Yeezy 750 Boost Light Brown            |    1578 |\n",
    "| 10 | Adidas  | Yeezy Boost 350 V2 Black Reflective    |    1437 |\n",
    "| 12 | Adidas  | Yeezy Boost 350 V2 Synth Reflective    |    1292 |\n",
    "| 13 | Adidas  | Yeezy 350 Boost Turtledove             |    1279 |\n",
    "|  2 | Adidas  | Yeezy Boost 350 V2 Lundmark Reflective |    1009 |\n",
    "|  3 | Adidas  | Yeezy 350 Boost V2 Black/Red           |     954 |\n",
    "| 14 | Adidas  | Yeezy 750 Boost Glow in the Dark       |     917 |\n",
    "| 11 | Adidas  | Yeezy Boost 350 V2 Antlia Reflective   |     912 |\n",
    "|  1 | Adidas  | Yeezy 350 Boost Pirate Black           |     910 |"
   ]
  },
  {
   "cell_type": "code",
   "execution_count": null,
   "metadata": {},
   "outputs": [],
   "source": [
    "# YOUR CODE BEGINS\n",
    "\n",
    "# YOUR CODE ENDS\n",
    "\n",
    "df_sorted_by_price_desc"
   ]
  },
  {
   "cell_type": "markdown",
   "metadata": {},
   "source": [
    "#### 🧭 Check Your Work\n",
    "\n",
    "- Once you're done, run the code cell below to test correctness.\n",
    "- ✔️ If the code cell runs without an error, you're good to move on.\n",
    "- ❌ If the code cell throws an error, go back and fix incorrect parts."
   ]
  },
  {
   "cell_type": "code",
   "execution_count": null,
   "metadata": {
    "nbgrader": {
     "grade": true,
     "grade_id": "challenge-11",
     "locked": true,
     "points": "1",
     "solution": false
    }
   },
   "outputs": [],
   "source": [
    "df_sneakers_copy = df_sneakers_backup.copy()\n",
    "\n",
    "pd.testing.assert_frame_equal(\n",
    "    df_sorted_by_price_desc \\\n",
    "        .reset_index(drop=True),\n",
    "    df_sneakers_copy.sort_values(\"price\").iloc[::-1] \\\n",
    "        .reset_index(drop=True)\n",
    ")"
   ]
  },
  {
   "cell_type": "markdown",
   "metadata": {},
   "source": [
    "---\n",
    "\n",
    "### 🎯 Challenge 18: Sneakers `> 6000` or `< 1000`"
   ]
  },
  {
   "cell_type": "markdown",
   "metadata": {},
   "source": [
    "#### 👇 Tasks\n",
    "\n",
    "- ✔️ Find sneakers that are over \\\\$6,000 **or** under \\\\$1,000.\n",
    "- ✔️ Store the result to a new DataFrame named `df_polar`.\n",
    "- ✔️ `df_sneakers` should remain unaltered.\n",
    "\n",
    "#### 🔑 Expected Output\n",
    "\n",
    "|    | brand   | product                              |   price |\n",
    "|---:|:--------|:-------------------------------------|--------:|\n",
    "|  1 | Adidas  | Yeezy 350 Boost Pirate Black         |     910 |\n",
    "|  3 | Adidas  | Yeezy 350 Boost V2 Black/Red         |     954 |\n",
    "|  5 | Nike    | Air Yeezy 2 Red October              |    6075 |\n",
    "| 11 | Adidas  | Yeezy Boost 350 V2 Antlia Reflective |     912 |\n",
    "| 14 | Adidas  | Yeezy 750 Boost Glow in the Dark     |     917 |"
   ]
  },
  {
   "cell_type": "code",
   "execution_count": null,
   "metadata": {},
   "outputs": [],
   "source": [
    "# YOUR CODE BEGINS\n",
    "\n",
    "# YOUR CODE ENDS\n",
    "\n",
    "df_polar"
   ]
  },
  {
   "cell_type": "markdown",
   "metadata": {},
   "source": [
    "#### 🧭 Check Your Work\n",
    "\n",
    "- Once you're done, run the code cell below to test correctness.\n",
    "- ✔️ If the code cell runs without an error, you're good to move on.\n",
    "- ❌ If the code cell throws an error, go back and fix incorrect parts."
   ]
  },
  {
   "cell_type": "code",
   "execution_count": null,
   "metadata": {
    "nbgrader": {
     "grade": true,
     "grade_id": "challenge-12",
     "locked": true,
     "points": "1",
     "solution": false
    }
   },
   "outputs": [],
   "source": [
    "df_sneakers_copy = df_sneakers_backup.copy()\n",
    "\n",
    "pd.testing.assert_frame_equal(\n",
    "    df_polar.reset_index(drop=True) \\\n",
    "        .sort_values(df_polar.columns.to_list()) \\\n",
    "        .reset_index(drop=True),\n",
    "    df_sneakers_copy \\\n",
    "        .query(\"(price > 6000) | (price < 1000)\") \\\n",
    "        .sort_values(df_sneakers_copy.columns.to_list()) \\\n",
    "        .reset_index(drop=True)\n",
    ")"
   ]
  },
  {
   "cell_type": "markdown",
   "metadata": {},
   "source": [
    "---\n",
    "\n",
    "### 🎯 Challenge 19: Sort by brand ascending and price descending"
   ]
  },
  {
   "cell_type": "markdown",
   "metadata": {},
   "source": [
    "#### 👇 Tasks\n",
    "\n",
    "- ✔️ Sort `df_sneakers` by (1) brand ascending and (2) price descending within each brand.\n",
    "- ✔️ Store the result to a new DataFrame named `df_sorted_by_brand_price`.\n",
    "- ✔️ `df_sneakers` should remain unaltered.\n",
    "\n",
    "#### 🔑 Expected Output\n",
    "\n",
    "|    | brand   | product                                |   price |\n",
    "|---:|:--------|:---------------------------------------|--------:|\n",
    "|  0 | Adidas  | Yeezy 750 Boost Light Brown            |    1578 |\n",
    "| 10 | Adidas  | Yeezy Boost 350 V2 Black Reflective    |    1437 |\n",
    "| 12 | Adidas  | Yeezy Boost 350 V2 Synth Reflective    |    1292 |\n",
    "| 13 | Adidas  | Yeezy 350 Boost Turtledove             |    1279 |\n",
    "|  2 | Adidas  | Yeezy Boost 350 V2 Lundmark Reflective |    1009 |\n",
    "|  3 | Adidas  | Yeezy 350 Boost V2 Black/Red           |     954 |\n",
    "| 14 | Adidas  | Yeezy 750 Boost Glow in the Dark       |     917 |\n",
    "| 11 | Adidas  | Yeezy Boost 350 V2 Antlia Reflective   |     912 |\n",
    "|  1 | Adidas  | Yeezy 350 Boost Pirate Black           |     910 |\n",
    "|  5 | Nike    | Air Yeezy 2 Red October                |    6075 |\n",
    "|  6 | Nike    | Air Yeezy 2 Solar Red                  |    4239 |\n",
    "|  7 | Nike    | Air Yeezy 2 Pure Platinum              |    3448 |\n",
    "|  4 | Nike    | Air Yeezy Blink                        |    3142 |\n",
    "|  9 | Nike    | Air Yeezy Zen Grey                     |    2139 |\n",
    "|  8 | Nike    | Air Yeezy Net                          |    1888 |"
   ]
  },
  {
   "cell_type": "code",
   "execution_count": null,
   "metadata": {},
   "outputs": [],
   "source": [
    "# YOUR CODE BEGINS\n",
    "\n",
    "# YOUR CODE ENDS\n",
    "\n",
    "df_sorted_by_brand_price"
   ]
  },
  {
   "cell_type": "markdown",
   "metadata": {},
   "source": [
    "#### 🧭 Check Your Work\n",
    "\n",
    "- Once you're done, run the code cell below to test correctness.\n",
    "- ✔️ If the code cell runs without an error, you're good to move on.\n",
    "- ❌ If the code cell throws an error, go back and fix incorrect parts."
   ]
  },
  {
   "cell_type": "code",
   "execution_count": null,
   "metadata": {
    "nbgrader": {
     "grade": true,
     "grade_id": "challenge-13",
     "locked": true,
     "points": "1",
     "solution": false
    },
    "tags": []
   },
   "outputs": [],
   "source": [
    "df_sneakers_copy = df_sneakers_backup.copy()\n",
    "\n",
    "pd.testing.assert_frame_equal(\n",
    "    df_sorted_by_brand_price \\\n",
    "        .reset_index(drop=True),\n",
    "    df_sneakers_copy.sort_values([\"brand\", \"price\"], ascending=[False, True]).iloc[::-1] \\\n",
    "        .reset_index(drop=True)\n",
    ")"
   ]
  }
 ],
 "metadata": {
  "colab": {
   "collapsed_sections": [
    "TwWyyaQPem7q",
    "EdrK-mBsem7r",
    "VsIF7Fwwem7r",
    "krFaYS9Hem7u",
    "Iyt-q8KRem7v",
    "Yyt2-xOaem7v",
    "ldRi46SUem7v",
    "DW30mOfZem7v",
    "TpncLNBdem7x",
    "juiThUb1em7y",
    "3In4qrctem7y",
    "oNNKvOTqem7y",
    "Mrzib8KMem7z",
    "GfnhBiRvem7z",
    "T4ys5Rh6em7z",
    "9vwnunEsem70",
    "gIPWMysLem70",
    "v85tniIvem70",
    "vFsItQLaem71",
    "3-VRC3X9em71",
    "gHFL-CDcem71",
    "_L0Jctu8em71",
    "F4tMGPZvem73",
    "CwpwSAs9em74"
   ],
   "name": "L11-pandas-solution.ipynb",
   "provenance": []
  },
  "kernelspec": {
   "display_name": "Python 3 (ipykernel)",
   "language": "python",
   "name": "python3"
  },
  "language_info": {
   "codemirror_mode": {
    "name": "ipython",
    "version": 3
   },
   "file_extension": ".py",
   "mimetype": "text/x-python",
   "name": "python",
   "nbconvert_exporter": "python",
   "pygments_lexer": "ipython3",
   "version": "3.9.7"
  }
 },
 "nbformat": 4,
 "nbformat_minor": 4
}
