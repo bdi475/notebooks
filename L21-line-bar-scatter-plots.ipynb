{
 "cells": [
  {
   "cell_type": "markdown",
   "metadata": {},
   "source": [
    "# Line Charts, Bar Charts, and Scatter Plots, and More"
   ]
  },
  {
   "cell_type": "markdown",
   "metadata": {},
   "source": [
    "---\n",
    "\n",
    "Import modules used by **🧭 Check Your Work** sections and the autograder."
   ]
  },
  {
   "cell_type": "code",
   "execution_count": null,
   "metadata": {},
   "outputs": [],
   "source": [
    "import unittest\n",
    "import base64\n",
    "import plotly\n",
    "tc = unittest.TestCase()"
   ]
  },
  {
   "cell_type": "markdown",
   "metadata": {},
   "source": [
    "---\n",
    "\n",
    "### 🎯 Pre-exercise: Import Packages\n",
    "\n",
    "#### 👇 Tasks\n",
    "\n",
    "- ✔️ Import the following Python packages.\n",
    "    1. `pandas`: Use alias `pd`.\n",
    "    2. `numpy`: Use alias `np`.\n",
    "    3. `plotly.express`: Use alias `px`.\n",
    "    4. `plotly.graph_objects`: Use alias `go`."
   ]
  },
  {
   "cell_type": "code",
   "execution_count": null,
   "metadata": {},
   "outputs": [],
   "source": [
    "# YOUR CODE BEGINS\n",
    "\n",
    "\n",
    "\n",
    "# YOUR CODE ENDS"
   ]
  },
  {
   "cell_type": "markdown",
   "metadata": {},
   "source": [
    "#### 🧭 Check your work"
   ]
  },
  {
   "cell_type": "code",
   "execution_count": null,
   "metadata": {
    "nbgrader": {
     "grade": true,
     "grade_id": "pre-exercise",
     "locked": true,
     "points": "1",
     "solution": false
    }
   },
   "outputs": [],
   "source": [
    "import sys\n",
    "tc.assertTrue('pd' in globals(), 'Check whether you have correctly imported Pandas with an alias.')\n",
    "tc.assertTrue('np' in globals(), 'Check whether you have correctly imported NumPy with an alias.')\n",
    "\n",
    "print(f'The current plotly version is {plotly.__version__}')\n",
    "plotly_major_version = int(plotly.__version__.split(\".\")[0])\n",
    "tc.assertGreaterEqual(plotly_major_version, 5, 'Your plotly version should be greater than or equal to 5')\n",
    "\n",
    "tc.assertIsNotNone(go.Figure, 'Check whether you have correctly imported plotly.graph_objects with an alias go.')\n",
    "tc.assertIsNotNone(px.scatter, 'Check whether you have correctly imported plotly.express with an alias px.')"
   ]
  },
  {
   "cell_type": "markdown",
   "metadata": {},
   "source": [
    "---\n",
    "### 📌 Import dataset\n",
    "\n",
    "![BLUEbikes](https://github.com/bdi475/images/blob/main/lecture-notes/dataviz-python/bluebike-transparent-bike.png?raw=true)\n",
    "\n",
    "Today, we work with bikesharing trips dataset 🚲 to uncover insights about trips made by subscribers and casual riders of Bluebikes (in Boston). The original dataset has been downloaded from [https://www.bluebikes.com/system-data](https://www.bluebikes.com/system-data) and was preprocessed for this exercise."
   ]
  },
  {
   "cell_type": "markdown",
   "metadata": {},
   "source": [
    "▶️ Run the code below to import the dataset. This dataset is a fairly large with ~2 million rows, **so it may take up to a few minutes**."
   ]
  },
  {
   "cell_type": "code",
   "execution_count": null,
   "metadata": {},
   "outputs": [],
   "source": [
    "# Display all columns\n",
    "pd.set_option('display.max_columns', 50)\n",
    "\n",
    "df_trips = pd.read_csv('https://github.com/bdi475/datasets/blob/main/bluebikes-trip-data-2020-sampled.csv.gz?raw=true',\n",
    "                       compression='gzip',\n",
    "                       parse_dates=['start_time', 'stop_time'])\n",
    "\n",
    "df_trips_backup = df_trips.copy()\n",
    "\n",
    "display(df_trips)"
   ]
  },
  {
   "cell_type": "markdown",
   "metadata": {},
   "source": [
    "--- \n",
    "\n",
    "## 📦 Box plots and histograms review"
   ]
  },
  {
   "cell_type": "markdown",
   "metadata": {},
   "source": [
    "---\n",
    "\n",
    "### 🎯 Exercise 1: Trip duration box plot (horizontal)\n",
    "\n",
    "#### 👇 Tasks\n",
    "\n",
    "- ✔️ Draw a horizontal box plot of `trip_duration` where `trip_duration < 1800` (less than 30 minutes).\n",
    "- ✔️ Store your figure to a variable named `fig`.\n",
    "- ✔️ Add an appropriate title to your figure.\n",
    "- ✔️ Display the figure using `fig.show()`"
   ]
  },
  {
   "cell_type": "code",
   "execution_count": null,
   "metadata": {},
   "outputs": [],
   "source": [
    "# YOUR CODE BEGINS\n",
    "\n",
    "\n",
    "\n",
    "\n",
    "# YOUR CODE ENDS"
   ]
  },
  {
   "cell_type": "markdown",
   "metadata": {},
   "source": [
    "#### 🔑 Sample output\n",
    "\n",
    "![image](https://github.com/bdi475/images/blob/main/exercises/plotly-dataviz/box_plot_trip_duration_under_30mins.png?raw=true)"
   ]
  },
  {
   "cell_type": "markdown",
   "metadata": {},
   "source": [
    "#### 🧭 Check your work"
   ]
  },
  {
   "cell_type": "code",
   "execution_count": null,
   "metadata": {
    "nbgrader": {
     "grade": true,
     "grade_id": "exercise-01",
     "locked": true,
     "points": "1",
     "solution": false
    }
   },
   "outputs": [],
   "source": [
    "tc.assertEqual(len(fig.data), 1, 'There must be only one plot in your figure')\n",
    "tc.assertIsNotNone(fig.layout.title.text, 'Missing figure title')\n",
    "tc.assertEqual(fig.data[0].type, 'box', 'Not a box plot')\n",
    "tc.assertEqual(fig.data[0].orientation, 'h', 'Your plot should have a horizontal orientation')\n",
    "np.testing.assert_array_equal(fig.data[0].x, df_trips['trip_duration'][df_trips['trip_duration'] < 1800], 'Incorrect data')"
   ]
  },
  {
   "cell_type": "markdown",
   "metadata": {},
   "source": [
    "---\n",
    "\n",
    "### 🎯 Exercise 2: Trip duration distribution by user type\n",
    "\n",
    "#### 👇 Tasks\n",
    "\n",
    "- ✔️ Draw horizontal box plots of `trip_duration` by `user_type`.\n",
    "- ✔️ Store your figure to a variable named `fig`.\n",
    "- ✔️ Add an appropriate title to your figure.\n",
    "- ✔️ Display the figure using `fig.show()`\n",
    "\n",
    "box_plots_trip_duration_by_user_type.png"
   ]
  },
  {
   "cell_type": "code",
   "execution_count": null,
   "metadata": {},
   "outputs": [],
   "source": [
    "# YOUR CODE BEGINS\n",
    "\n",
    "\n",
    "\n",
    "\n",
    "\n",
    "# YOUR CODE ENDS"
   ]
  },
  {
   "cell_type": "markdown",
   "metadata": {},
   "source": [
    "#### 🔑 Sample output\n",
    "\n",
    "![image](https://github.com/bdi475/images/blob/main/exercises/plotly-dataviz/box_plots_trip_duration_by_user_type.png?raw=true)"
   ]
  },
  {
   "cell_type": "markdown",
   "metadata": {},
   "source": [
    "#### 🧭 Check your work"
   ]
  },
  {
   "cell_type": "code",
   "execution_count": null,
   "metadata": {
    "nbgrader": {
     "grade": true,
     "grade_id": "exercise-02",
     "locked": true,
     "points": "1",
     "solution": false
    }
   },
   "outputs": [],
   "source": [
    "tc.assertEqual(len(fig.data), 1, 'There must be only one plot in your figure')\n",
    "tc.assertIsNotNone(fig.layout.title.text, 'Missing figure title')\n",
    "tc.assertEqual(fig.data[0].type, 'box', 'Not a box plot')\n",
    "tc.assertEqual(fig.data[0].orientation, 'h', 'Your plot should have a horizontal orientation')\n",
    "np.testing.assert_array_equal(fig.data[0].x, df_trips['trip_duration'], 'Incorrect x-axis data')\n",
    "np.testing.assert_array_equal(fig.data[0].y, df_trips['user_type'], 'Incorrect y-axis data')"
   ]
  },
  {
   "cell_type": "markdown",
   "metadata": {},
   "source": [
    "---\n",
    "\n",
    "### 🎯 Exercise 3: Trip duration histogram\n",
    "\n",
    "#### 👇 Tasks\n",
    "\n",
    "- ✔️ Draw a histogram of `trip_duration` in `df_trips`.\n",
    "- ✔️ Set the number of bins to `36`.\n",
    "- ✔️ Store your figure to a variable named `fig`.\n",
    "- ✔️ Add an appropriate title to your figure.\n",
    "- ✔️ Display the figure using `fig.show()`"
   ]
  },
  {
   "cell_type": "code",
   "execution_count": null,
   "metadata": {},
   "outputs": [],
   "source": [
    "# YOUR CODE BEGINS\n",
    "\n",
    "# YOUR CODE ENDS"
   ]
  },
  {
   "cell_type": "markdown",
   "metadata": {},
   "source": [
    "#### 🔑 Sample output\n",
    "\n",
    "![image](https://github.com/bdi475/images/blob/main/exercises/plotly-dataviz/trip_duration_distribution_histogram.png?raw=true)"
   ]
  },
  {
   "cell_type": "markdown",
   "metadata": {},
   "source": [
    "#### 🧭 Check your work"
   ]
  },
  {
   "cell_type": "code",
   "execution_count": null,
   "metadata": {
    "nbgrader": {
     "grade": true,
     "grade_id": "exercise-03",
     "locked": true,
     "points": "1",
     "solution": false
    }
   },
   "outputs": [],
   "source": [
    "tc.assertEqual(len(fig.data), 1, 'There must be only one plot in your figure')\n",
    "tc.assertIsNotNone(fig.layout.title.text, 'Missing figure title')\n",
    "tc.assertEqual(fig.data[0].type, 'histogram', 'Not a histogram')\n",
    "tc.assertEqual(fig.data[0].nbinsx, 36, 'There should be 36 bins - set the nbins parameter')\n",
    "tc.assertEqual(fig.data[0].orientation, 'v', 'Your plot should have a vertical orientation')\n",
    "np.testing.assert_array_equal(fig.data[0].x, df_trips['trip_duration'], 'Incorrect data')"
   ]
  },
  {
   "cell_type": "markdown",
   "metadata": {},
   "source": [
    "--- \n",
    "\n",
    "## 📈 Line chart\n",
    "\n",
    "A line chart displays the evolution of one or more numeric variables. Discrete data points are usually connected by straight lines."
   ]
  },
  {
   "cell_type": "markdown",
   "metadata": {},
   "source": [
    "---\n",
    "\n",
    "### 🎯 Exercise 4: Annual gold price at the end of the year 📈\n",
    "\n",
    "▶️ First, run the code cell below to import annual gold closing prices dataset."
   ]
  },
  {
   "cell_type": "code",
   "execution_count": null,
   "metadata": {},
   "outputs": [],
   "source": [
    "# DO NOT CHANGE THE CODE BELOW\n",
    "df_gold = pd.read_csv('https://github.com/bdi475/datasets/raw/main/gold-annual-closing-price.csv')\n",
    "df_gold"
   ]
  },
  {
   "cell_type": "markdown",
   "metadata": {},
   "source": [
    "#### 👇 Tasks\n",
    "\n",
    "- ✔️ Using `df_gold`, create a line chart that displays the closing price by year.\n",
    "- ✔️ Store your figure to a variable named `fig`.\n",
    "- ✔️ Add an appropriate title to your figure.\n",
    "- ✔️ Display the figure using `fig.show()`"
   ]
  },
  {
   "cell_type": "code",
   "execution_count": null,
   "metadata": {},
   "outputs": [],
   "source": [
    "# YOUR CODE BEGINS\n",
    "\n",
    "# YOUR CODE ENDS"
   ]
  },
  {
   "cell_type": "markdown",
   "metadata": {},
   "source": [
    "#### 🔑 Sample output\n",
    "\n",
    "![image](https://github.com/bdi475/images/blob/main/exercises/plotly-dataviz/annual_closing_price_of_gold_line.png?raw=true)"
   ]
  },
  {
   "cell_type": "markdown",
   "metadata": {},
   "source": [
    "#### 🧭 Check your work"
   ]
  },
  {
   "cell_type": "code",
   "execution_count": null,
   "metadata": {
    "nbgrader": {
     "grade": true,
     "grade_id": "exercise-04",
     "locked": true,
     "points": "1",
     "solution": false
    }
   },
   "outputs": [],
   "source": [
    "tc.assertEqual(len(fig.data), 1, 'There must be only one plot in your figure')\n",
    "tc.assertIsNotNone(fig.layout.title.text, 'Missing figure title')\n",
    "tc.assertEqual(fig.data[0].type, 'scatter', 'Must be a line chart')\n",
    "tc.assertIsNotNone(fig.data[0].line.color, 'Must be a line chart')\n",
    "np.testing.assert_array_equal(fig.data[0].x, df_gold['Year'], 'Incorrect x-axis data')\n",
    "np.testing.assert_array_equal(fig.data[0].y, df_gold['Closing Price'], 'Incorrect y-axis data')"
   ]
  },
  {
   "cell_type": "markdown",
   "metadata": {},
   "source": [
    "---\n",
    "### 🎯 Exercise 5: Create an aggregated DataFrame with number of trips by date\n",
    "\n",
    "#### 👇 Tasks\n",
    "\n",
    "- ✔️ One of the common tasks when visualizing your data is to aggregate your data before plotting them.\n",
    "- ✔️ Using `df_trips`, create a new DataFrame named `df_num_trips_by_date` that holds the number of trips by date.\n",
    "- ✔️ We will give you the fully working code below.\n",
    "\n",
    "\n",
    "```python\n",
    "# BEGIN SOLUTION\n",
    "df_num_trips_by_date = df_trips.groupby(\n",
    "    df_trips['start_time'].dt.date,\n",
    "    as_index=False\n",
    ").size()\n",
    "\n",
    "df_num_trips_by_date.rename(columns={\n",
    "    'start_time': 'date',\n",
    "    'size': 'num_trips'\n",
    "}, inplace=True)\n",
    "\n",
    "display(df_num_trips_by_date)\n",
    "# END SOLUTION\n",
    "```"
   ]
  },
  {
   "cell_type": "code",
   "execution_count": null,
   "metadata": {},
   "outputs": [],
   "source": [
    "# YOUR CODE BEGINS\n",
    "\n",
    "\n",
    "\n",
    "\n",
    "\n",
    "\n",
    "\n",
    "\n",
    "\n",
    "\n",
    "# YOUR CODE ENDS"
   ]
  },
  {
   "cell_type": "markdown",
   "metadata": {},
   "source": [
    "#### 🧭 Check your work"
   ]
  },
  {
   "cell_type": "code",
   "execution_count": null,
   "metadata": {
    "nbgrader": {
     "grade": true,
     "grade_id": "exercise-05",
     "locked": true,
     "points": "1",
     "solution": false
    }
   },
   "outputs": [],
   "source": [
    "df_check = df_trips_backup.groupby(df_trips_backup['start_time'].dt.date).size() \\\n",
    "    .reset_index().rename(columns={'start_time': 'date', 0: 'num_trips'})\n",
    "\n",
    "pd.testing.assert_frame_equal(df_num_trips_by_date.sort_values('date').reset_index(drop=True),\n",
    "                              df_check.sort_values('date').reset_index(drop=True),)"
   ]
  },
  {
   "cell_type": "markdown",
   "metadata": {},
   "source": [
    "---\n",
    "\n",
    "### 🎯 Exercise 6: Number of trips by date 📈\n",
    "\n",
    "#### 👇 Tasks\n",
    "\n",
    "- ✔️ Using `df_num_trips_by_date`, create a line chart that displays the number of trips by date.\n",
    "- ✔️ Store your figure to a variable named `fig`.\n",
    "- ✔️ Add an appropriate title to your figure.\n",
    "- ✔️ Display the figure using `fig.show()`"
   ]
  },
  {
   "cell_type": "code",
   "execution_count": null,
   "metadata": {},
   "outputs": [],
   "source": [
    "# YOUR CODE BEGINS\n",
    "\n",
    "# YOUR CODE ENDS"
   ]
  },
  {
   "cell_type": "markdown",
   "metadata": {},
   "source": [
    "#### 🔑 Sample output\n",
    "\n",
    "![image](https://github.com/bdi475/images/blob/main/exercises/plotly-dataviz/number_of_trips_by_date_line.png?raw=true)"
   ]
  },
  {
   "cell_type": "markdown",
   "metadata": {},
   "source": [
    "#### 🧭 Check your work"
   ]
  },
  {
   "cell_type": "code",
   "execution_count": null,
   "metadata": {
    "nbgrader": {
     "grade": true,
     "grade_id": "exercise-06",
     "locked": true,
     "points": "1",
     "solution": false
    }
   },
   "outputs": [],
   "source": [
    "tc.assertEqual(len(fig.data), 1, 'There must be only one plot in your figure')\n",
    "tc.assertIsNotNone(fig.layout.title.text, 'Missing figure title')\n",
    "tc.assertEqual(fig.data[0].type, 'scatter', 'Must be a line chart')\n",
    "tc.assertIsNotNone(fig.data[0].line.color, 'Must be a line chart')\n",
    "np.testing.assert_array_equal(fig.data[0].x, df_num_trips_by_date['date'], 'Incorrect x-axis data')\n",
    "np.testing.assert_array_equal(fig.data[0].y, df_num_trips_by_date['num_trips'], 'Incorrect y-axis data')"
   ]
  },
  {
   "cell_type": "markdown",
   "metadata": {},
   "source": [
    "---\n",
    "\n",
    "### 🎯 Exercise 7: Number of trips by date (Scatter Plot)\n",
    "\n",
    "#### 👇 Tasks\n",
    "\n",
    "- ✔️ Using `df_num_trips_by_date`, create a **scatter** plot that displays the number of trips by date.\n",
    "- ✔️ Store your figure to a variable named `fig`.\n",
    "- ✔️ Add an appropriate title to your figure.\n",
    "- ✔️ Display the figure using `fig.show()`"
   ]
  },
  {
   "cell_type": "code",
   "execution_count": null,
   "metadata": {},
   "outputs": [],
   "source": [
    "# YOUR CODE BEGINS\n",
    "\n",
    "# YOUR CODE ENDS"
   ]
  },
  {
   "cell_type": "markdown",
   "metadata": {},
   "source": [
    "#### 🔑 Sample output\n",
    "\n",
    "![image](https://github.com/bdi475/images/blob/main/exercises/plotly-dataviz/number_of_trips_by_date_scatter.png?raw=true)"
   ]
  },
  {
   "cell_type": "markdown",
   "metadata": {},
   "source": [
    "#### 🧭 Check your work"
   ]
  },
  {
   "cell_type": "code",
   "execution_count": null,
   "metadata": {
    "nbgrader": {
     "grade": true,
     "grade_id": "exercise-07",
     "locked": true,
     "points": "1",
     "solution": false
    }
   },
   "outputs": [],
   "source": [
    "tc.assertEqual(len(fig.data), 1, 'There must be only one plot in your figure')\n",
    "tc.assertIsNotNone(fig.layout.title.text, 'Missing figure title')\n",
    "tc.assertEqual(fig.data[0].type, 'scatter', 'Must be a scatter plot')\n",
    "tc.assertIsNone(fig.data[0].line.color, 'Must be a scatter plot')\n",
    "np.testing.assert_array_equal(fig.data[0].x, df_num_trips_by_date['date'], 'Incorrect x-axis data')\n",
    "np.testing.assert_array_equal(fig.data[0].y, df_num_trips_by_date['num_trips'], 'Incorrect y-axis data')"
   ]
  },
  {
   "cell_type": "markdown",
   "metadata": {},
   "source": [
    "---\n",
    "### 🎯 Exercise 8: Create an aggregated DataFrame with number of trips by date & user type\n",
    "\n",
    "#### 👇 Tasks\n",
    "\n",
    "- ✔️ Using `df_trips`, create a new DataFrame named `df_num_trips_by_date_and_user_type` that holds the number of trips by date and user type.\n",
    "- ✔️ We will give you the fully working code below.\n",
    "\n",
    "```python\n",
    "# BEGIN SOLUTION\n",
    "df_num_trips_by_date_and_user_type = df_trips.groupby(\n",
    "    [df_trips['start_time'].dt.date, 'user_type'],\n",
    "    as_index=False\n",
    ").size()\n",
    "\n",
    "df_num_trips_by_date_and_user_type.rename(columns={\n",
    "    'start_time': 'date',\n",
    "    'size': 'num_trips'\n",
    "}, inplace=True)\n",
    "\n",
    "display(df_num_trips_by_date_and_user_type)\n",
    "# END SOLUTION\n",
    "```"
   ]
  },
  {
   "cell_type": "code",
   "execution_count": null,
   "metadata": {},
   "outputs": [],
   "source": [
    "# YOUR CODE BEGINS\n",
    "\n",
    "\n",
    "\n",
    "\n",
    "\n",
    "\n",
    "\n",
    "\n",
    "\n",
    "\n",
    "# YOUR CODE ENDS"
   ]
  },
  {
   "cell_type": "markdown",
   "metadata": {},
   "source": [
    "#### 🧭 Check your work"
   ]
  },
  {
   "cell_type": "code",
   "execution_count": null,
   "metadata": {
    "nbgrader": {
     "grade": true,
     "grade_id": "exercise-08",
     "locked": true,
     "points": "1",
     "solution": false
    }
   },
   "outputs": [],
   "source": [
    "df_check = df_trips_backup.groupby([df_trips_backup['start_time'].dt.date, 'user_type']).size() \\\n",
    "    .reset_index().rename(columns={'start_time': 'date', 0: 'num_trips'})\n",
    "\n",
    "pd.testing.assert_frame_equal(df_num_trips_by_date_and_user_type.sort_values(['date', 'user_type']).reset_index(drop=True),\n",
    "                              df_check.sort_values(['date', 'user_type']).reset_index(drop=True),)"
   ]
  },
  {
   "cell_type": "markdown",
   "metadata": {},
   "source": [
    "---\n",
    "\n",
    "### 🎯 Exercise 9: Number of trips by date and user type\n",
    "\n",
    "#### 👇 Tasks\n",
    "\n",
    "- ✔️ Using `df_num_trips_by_date_and_user_type`, create a **line** chart that displays the number of trips by date.\n",
    "- ✔️ Draw two line charts on a single figure.\n",
    "    - Use different colors to distinguish the user types.\n",
    "- ✔️ Store your figure to a variable named `fig`.\n",
    "- ✔️ Add an appropriate title to your figure.\n",
    "- ✔️ Display the figure using `fig.show()`"
   ]
  },
  {
   "cell_type": "code",
   "execution_count": null,
   "metadata": {},
   "outputs": [],
   "source": [
    "# YOUR CODE BEGINS\n",
    "\n",
    "\n",
    "\n",
    "\n",
    "\n",
    "# YOUR CODE ENDS"
   ]
  },
  {
   "cell_type": "markdown",
   "metadata": {},
   "source": [
    "#### 🔑 Sample output\n",
    "\n",
    "![image](https://github.com/bdi475/images/blob/main/exercises/plotly-dataviz/number_of_trips_by_date_and_user_type_line.png?raw=true)"
   ]
  },
  {
   "cell_type": "markdown",
   "metadata": {},
   "source": [
    "#### 🧭 Check your work"
   ]
  },
  {
   "cell_type": "code",
   "execution_count": null,
   "metadata": {
    "nbgrader": {
     "grade": true,
     "grade_id": "exercise-09",
     "locked": true,
     "points": "1",
     "solution": false
    }
   },
   "outputs": [],
   "source": [
    "tc.assertEqual(len(fig.data), 2, 'There must be two plots in your figure')\n",
    "tc.assertIsNotNone(fig.layout.title.text, 'Missing figure title')\n",
    "tc.assertEqual(fig.data[0].type, 'scatter', 'Must be a line plot')\n",
    "tc.assertEqual(fig.data[1].type, 'scatter', 'Must be a line plot')\n",
    "tc.assertIsNotNone(fig.data[0].line.color, 'Must be a line plot')\n",
    "tc.assertIsNotNone(fig.data[1].line.color, 'Must be a line plot')\n",
    "np.testing.assert_array_equal(\n",
    "    fig.data[0].x,\n",
    "    df_num_trips_by_date_and_user_type[df_num_trips_by_date_and_user_type['user_type'] == 'Customer']['date'],\n",
    "    'Incorrect x-axis data'\n",
    ")\n",
    "np.testing.assert_array_equal(\n",
    "    fig.data[0].y,\n",
    "    df_num_trips_by_date_and_user_type[df_num_trips_by_date_and_user_type['user_type'] == 'Customer']['num_trips'],\n",
    "    'Incorrect y-axis data'\n",
    ")\n",
    "\n",
    "np.testing.assert_array_equal(\n",
    "    fig.data[1].x,\n",
    "    df_num_trips_by_date_and_user_type[df_num_trips_by_date_and_user_type['user_type'] == 'Subscriber']['date'],\n",
    "    'Incorrect x-axis data'\n",
    ")\n",
    "np.testing.assert_array_equal(\n",
    "    fig.data[1].y,\n",
    "    df_num_trips_by_date_and_user_type[df_num_trips_by_date_and_user_type['user_type'] == 'Subscriber']['num_trips'],\n",
    "    'Incorrect y-axis data'\n",
    ")"
   ]
  },
  {
   "cell_type": "markdown",
   "metadata": {},
   "source": [
    "---\n",
    "\n",
    "### 🎯 Exercise 10: Number of trips by date and user type (scatter plot)\n",
    "\n",
    "#### 👇 Tasks\n",
    "\n",
    "- ✔️ Using `df_num_trips_by_date_and_user_type`, create a **scatter** plot that displays the number of trips by date.\n",
    "- ✔️ Draw two scatter plots on a single figure.\n",
    "    - Use different colors to distinguish the user types.\n",
    "- ✔️ Store your figure to a variable named `fig`.\n",
    "- ✔️ Add an appropriate title to your figure.\n",
    "- ✔️ Display the figure using `fig.show()`"
   ]
  },
  {
   "cell_type": "code",
   "execution_count": null,
   "metadata": {},
   "outputs": [],
   "source": [
    "# YOUR CODE BEGINS\n",
    "\n",
    "\n",
    "\n",
    "\n",
    "\n",
    "# YOUR CODE ENDS"
   ]
  },
  {
   "cell_type": "markdown",
   "metadata": {},
   "source": [
    "#### 🔑 Sample output\n",
    "\n",
    "![image](https://github.com/bdi475/images/blob/main/exercises/plotly-dataviz/number_of_trips_by_date_and_user_type_scatter.png?raw=true)"
   ]
  },
  {
   "cell_type": "markdown",
   "metadata": {},
   "source": [
    "#### 🧭 Check your work"
   ]
  },
  {
   "cell_type": "code",
   "execution_count": null,
   "metadata": {
    "nbgrader": {
     "grade": true,
     "grade_id": "exercise-10",
     "locked": true,
     "points": "1",
     "solution": false
    }
   },
   "outputs": [],
   "source": [
    "tc.assertEqual(len(fig.data), 2, 'There must be two plots in your figure')\n",
    "tc.assertIsNotNone(fig.layout.title.text, 'Missing figure title')\n",
    "tc.assertEqual(fig.data[0].type, 'scatter', 'Must be a scatter plot')\n",
    "tc.assertEqual(fig.data[1].type, 'scatter', 'Must be a scatter plot')\n",
    "tc.assertIsNone(fig.data[0].line.color, 'Must be a scatter plot')\n",
    "tc.assertIsNone(fig.data[1].line.color, 'Must be a scatter plot')\n",
    "np.testing.assert_array_equal(\n",
    "    fig.data[0].x,\n",
    "    df_num_trips_by_date_and_user_type[df_num_trips_by_date_and_user_type['user_type'] == 'Customer']['date'],\n",
    "    'Incorrect x-axis data'\n",
    ")\n",
    "np.testing.assert_array_equal(\n",
    "    fig.data[0].y,\n",
    "    df_num_trips_by_date_and_user_type[df_num_trips_by_date_and_user_type['user_type'] == 'Customer']['num_trips'],\n",
    "    'Incorrect y-axis data'\n",
    ")\n",
    "\n",
    "np.testing.assert_array_equal(\n",
    "    fig.data[1].x,\n",
    "    df_num_trips_by_date_and_user_type[df_num_trips_by_date_and_user_type['user_type'] == 'Subscriber']['date'],\n",
    "    'Incorrect x-axis data'\n",
    ")\n",
    "np.testing.assert_array_equal(\n",
    "    fig.data[1].y,\n",
    "    df_num_trips_by_date_and_user_type[df_num_trips_by_date_and_user_type['user_type'] == 'Subscriber']['num_trips'],\n",
    "    'Incorrect y-axis data'\n",
    ")"
   ]
  },
  {
   "cell_type": "markdown",
   "metadata": {},
   "source": [
    "--- \n",
    "\n",
    "## 📊 Bar chart\n",
    "\n",
    "A bar chart displays size of the values of categorical data."
   ]
  },
  {
   "cell_type": "markdown",
   "metadata": {},
   "source": [
    "---\n",
    "### 🎯 Exercise 11: Create an aggregated DataFrame with number of trips by month\n",
    "\n",
    "#### 👇 Tasks\n",
    "\n",
    "- ✔️ Using `df_trips`, create a new DataFrame named `df_num_trips_by_month` that holds the number of trips by month.\n",
    "- ✔️ We will give you the fully working code below.\n",
    "\n",
    "```python\n",
    "# BEGIN SOLUTION\n",
    "df_num_trips_by_month = df_trips.groupby(\n",
    "    df_trips['start_time'].dt.month,\n",
    "    as_index=False\n",
    ").size()\n",
    "\n",
    "df_num_trips_by_month.rename(columns={\n",
    "    'start_time': 'month',\n",
    "    'size': 'num_trips'\n",
    "}, inplace=True)\n",
    "\n",
    "display(df_num_trips_by_month)\n",
    "# END SOLUTION\n",
    "```"
   ]
  },
  {
   "cell_type": "code",
   "execution_count": null,
   "metadata": {},
   "outputs": [],
   "source": [
    "# YOUR CODE BEGINS\n",
    "\n",
    "\n",
    "\n",
    "\n",
    "\n",
    "\n",
    "\n",
    "\n",
    "\n",
    "\n",
    "# YOUR CODE ENDS"
   ]
  },
  {
   "cell_type": "markdown",
   "metadata": {},
   "source": [
    "#### 🧭 Check your work"
   ]
  },
  {
   "cell_type": "code",
   "execution_count": null,
   "metadata": {
    "nbgrader": {
     "grade": true,
     "grade_id": "exercise-11",
     "locked": true,
     "points": "1",
     "solution": false
    }
   },
   "outputs": [],
   "source": [
    "df_check = df_trips_backup.groupby(df_trips_backup['start_time'].dt.month).size() \\\n",
    "    .reset_index().rename(columns={'start_time': 'month', 0: 'num_trips'})\n",
    "\n",
    "pd.testing.assert_frame_equal(df_num_trips_by_month.sort_values('month').reset_index(drop=True),\n",
    "                              df_check.sort_values('month').reset_index(drop=True),)"
   ]
  },
  {
   "cell_type": "markdown",
   "metadata": {},
   "source": [
    "---\n",
    "\n",
    "### 🎯 Exercise 12: Number of trips by month (Bar Chart)\n",
    "\n",
    "#### 👇 Tasks\n",
    "\n",
    "- ✔️ Using `df_num_trips_by_month`, create a **bar** chart that displays the number of trips by month.\n",
    "- ✔️ Store your figure to a variable named `fig`.\n",
    "- ✔️ Add an appropriate title to your figure.\n",
    "- ✔️ Display the figure using `fig.show()`"
   ]
  },
  {
   "cell_type": "code",
   "execution_count": null,
   "metadata": {},
   "outputs": [],
   "source": [
    "# YOUR CODE BEGINS\n",
    "\n",
    "# YOUR CODE ENDS"
   ]
  },
  {
   "cell_type": "markdown",
   "metadata": {},
   "source": [
    "#### 🔑 Sample output\n",
    "\n",
    "![image](https://github.com/bdi475/images/blob/main/exercises/plotly-dataviz/number_of_trips_by_month_bar.png?raw=true)"
   ]
  },
  {
   "cell_type": "markdown",
   "metadata": {},
   "source": [
    "#### 🧭 Check your work"
   ]
  },
  {
   "cell_type": "code",
   "execution_count": null,
   "metadata": {
    "nbgrader": {
     "grade": true,
     "grade_id": "exercise-12",
     "locked": true,
     "points": "1",
     "solution": false
    }
   },
   "outputs": [],
   "source": [
    "tc.assertEqual(len(fig.data), 1, 'There must be only one plot in your figure')\n",
    "tc.assertIsNotNone(fig.layout.title.text, 'Missing figure title')\n",
    "tc.assertEqual(fig.data[0].type, 'bar', 'Must be a bar chart')\n",
    "tc.assertEqual(fig.data[0].orientation, 'v', 'Your plot should have a vertical orientation')\n",
    "np.testing.assert_array_equal(fig.data[0].x, df_num_trips_by_month['month'], 'Incorrect x-axis data')\n",
    "np.testing.assert_array_equal(fig.data[0].y, df_num_trips_by_month['num_trips'], 'Incorrect y-axis data')"
   ]
  }
 ],
 "metadata": {
  "kernelspec": {
   "display_name": "Python 3 (ipykernel)",
   "language": "python",
   "name": "python3"
  },
  "language_info": {
   "codemirror_mode": {
    "name": "ipython",
    "version": 3
   },
   "file_extension": ".py",
   "mimetype": "text/x-python",
   "name": "python",
   "nbconvert_exporter": "python",
   "pygments_lexer": "ipython3",
   "version": "3.10.10"
  }
 },
 "nbformat": 4,
 "nbformat_minor": 4
}
