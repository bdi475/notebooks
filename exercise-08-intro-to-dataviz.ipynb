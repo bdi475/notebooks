{
 "cells": [
  {
   "cell_type": "markdown",
   "metadata": {},
   "source": [
    "# Exercise 8 - Introduction to Data Visualization with Python\n",
    "\n",
    "- 🏆 20 points available"
   ]
  },
  {
   "cell_type": "markdown",
   "metadata": {
    "id": "DiznwS2xem7h"
   },
   "source": [
    "------\n",
    "\n",
    "▶️ Run the code cell below to import `unittest`, a module used for **🧭 Check Your Work** sections and the autograder."
   ]
  },
  {
   "cell_type": "code",
   "execution_count": null,
   "metadata": {
    "id": "xOFvIip0em7h"
   },
   "outputs": [],
   "source": [
    "import unittest\n",
    "import base64\n",
    "import plotly\n",
    "tc = unittest.TestCase()"
   ]
  },
  {
   "cell_type": "markdown",
   "metadata": {},
   "source": [
    "---\n",
    "\n",
    "### 🎯 Exercise 1: Import Packages\n",
    "\n",
    "#### 👇 Tasks\n",
    "\n",
    "- ✔️ Import the following Python packages.\n",
    "    1. `pandas`: Use alias `pd`.\n",
    "    2. `numpy`: Use alias `np`.\n",
    "    3. `plotly.express`: Use alias `px`.\n",
    "    4. `plotly.graph_objects`: Use alias `go`."
   ]
  },
  {
   "cell_type": "code",
   "execution_count": null,
   "metadata": {},
   "outputs": [],
   "source": [
    "# YOUR CODE BEGINS\n",
    "\n",
    "\n",
    "\n",
    "# YOUR CODE ENDS"
   ]
  },
  {
   "cell_type": "markdown",
   "metadata": {},
   "source": [
    "#### 🧭 Check your work"
   ]
  },
  {
   "cell_type": "code",
   "execution_count": null,
   "metadata": {
    "nbgrader": {
     "grade": true,
     "grade_id": "exercise-01",
     "locked": true,
     "points": "2",
     "solution": false
    }
   },
   "outputs": [],
   "source": [
    "# DO NOT CHANGE THE CODE IN THIS CELL\n",
    "tc.assertTrue('pd' in globals(), 'Check whether you have correctly imported Pandas with an alias.')\n",
    "tc.assertTrue('np' in globals(), 'Check whether you have correctly imported NumPy with an alias.')\n",
    "tc.assertEqual(plotly.__version__[:2], '5.', 'Plotly version mismatch')\n",
    "tc.assertIsNotNone(go.Figure, 'Check whether you have correctly imported plotly.graph_objects with an alias go.')\n",
    "tc.assertIsNotNone(px.scatter, 'Check whether you have correctly imported plotly.express with an alias px.')"
   ]
  },
  {
   "cell_type": "markdown",
   "metadata": {},
   "source": [
    "---\n",
    "### 📌 Import dataset\n",
    "\n",
    "Today, we work with a list of used cars information. The data has been downloaded from [https://www.kaggle.com/datasets/akshaydattatraykhare/car-details-dataset](https://www.kaggle.com/datasets/akshaydattatraykhare/car-details-dataset) without any modification."
   ]
  },
  {
   "cell_type": "markdown",
   "metadata": {},
   "source": [
    "▶️ Run the code below to import an cars Dataset. 🚗🚓🚕🛺🚙"
   ]
  },
  {
   "cell_type": "code",
   "execution_count": null,
   "metadata": {},
   "outputs": [],
   "source": [
    "# Display all columns\n",
    "pd.set_option('display.max_columns', 50)\n",
    "\n",
    "df_cars = pd.read_csv('https://github.com/bdi475/datasets/raw/main/car-dekho-used-cars.csv')\n",
    "\n",
    "display(df_cars)"
   ]
  },
  {
   "cell_type": "markdown",
   "metadata": {},
   "source": [
    "---\n",
    "\n",
    "### 🎯 Exercise 2: Number of rows and columns\n",
    "\n",
    "#### 👇 Tasks\n",
    "\n",
    "- ✔️ Retrieve the number of rows in `df_cars` to a new variable named `num_rows`.\n",
    "- ✔️ Retrieve the number of columns in `df_cars` to a new variable named `num_cols`.\n",
    "- ✔️ Both `num_rows` and `num_cols` should be integer types.\n",
    "\n",
    "#### 🚀 Hints\n",
    "\n",
    "- `my_dataframe.shape` returns a tuple containing the number of rows and columns of `my_dataframe`.\n",
    "- You can retrieve the first element of a tuple using square brackets notation.\n",
    "    - **Example**: `my_dataframe.shape[0]`"
   ]
  },
  {
   "cell_type": "code",
   "execution_count": null,
   "metadata": {},
   "outputs": [],
   "source": [
    "# YOUR CODE BEGINS\n",
    "\n",
    "# YOUR CODE ENDS\n",
    "print(f'df_cars contains {num_rows} rows and {num_cols} columns.')"
   ]
  },
  {
   "cell_type": "markdown",
   "metadata": {},
   "source": [
    "#### 🧭 Check Your Work"
   ]
  },
  {
   "cell_type": "code",
   "execution_count": null,
   "metadata": {
    "nbgrader": {
     "grade": true,
     "grade_id": "exercise-02",
     "locked": true,
     "points": "2",
     "solution": false
    }
   },
   "outputs": [],
   "source": [
    "# DO NOT CHANGE THE CODE IN THIS CELL\n",
    "tc.assertEqual(num_rows, len(df_cars.index), f'Number of rows should be {len(df_cars.index)}')\n",
    "tc.assertEqual(num_cols, len(df_cars.columns), f'Number of columns should be {len(df_cars.columns)}')"
   ]
  },
  {
   "cell_type": "markdown",
   "metadata": {},
   "source": [
    "---\n",
    "\n",
    "### 🎯 Exercise 3: Selling price box plot (horizontal)\n",
    "\n",
    "#### 👇 Tasks\n",
    "\n",
    "- ✔️ Draw a horizontal box plot of `selling_price`.\n",
    "- ✔️ Store your figure to a variable named `fig`.\n",
    "- ✔️ Add an appropriate title to your figure.\n",
    "    - A title should describe your plot (e.g., Salary Box Plot).\n",
    "- ✔️ Display the figure using `fig.show()`"
   ]
  },
  {
   "cell_type": "code",
   "execution_count": null,
   "metadata": {},
   "outputs": [],
   "source": [
    "# YOUR CODE BEGINS\n",
    "\n",
    "# YOUR CODE ENDS"
   ]
  },
  {
   "cell_type": "markdown",
   "metadata": {},
   "source": [
    "#### 🔑 Sample output\n",
    "\n",
    "![Salary distribution horizontal](https://github.com/bdi475/images/blob/main/exercises/intro-to-dataviz/selling_price_box_plot.png?raw=true)"
   ]
  },
  {
   "cell_type": "markdown",
   "metadata": {},
   "source": [
    "#### 🧭 Check your work"
   ]
  },
  {
   "cell_type": "code",
   "execution_count": null,
   "metadata": {
    "nbgrader": {
     "grade": true,
     "grade_id": "exercise-03",
     "locked": true,
     "points": "2",
     "solution": false
    }
   },
   "outputs": [],
   "source": [
    "tc.assertEqual(len(fig.data), 1, 'There must be only one plot in your figure')\n",
    "tc.assertIsNotNone(fig.layout.title.text, 'Missing figure title')\n",
    "tc.assertEqual(fig.data[0].type, 'box', 'Not a box plot')\n",
    "tc.assertEqual(fig.data[0].orientation, 'h', 'Your plot should have a horizontal orientation')\n",
    "np.testing.assert_array_equal(fig.data[0].x, df_cars['selling_price'], 'Incorrect data')"
   ]
  },
  {
   "cell_type": "markdown",
   "metadata": {},
   "source": [
    "---\n",
    "\n",
    "### 🎯 Exercise 4: Selling price distribution by number of previous owners\n",
    "\n",
    "#### 👇 Tasks\n",
    "\n",
    "- ✔️ Draw horizontal box plots of `selling_price` by `owner`.\n",
    "- ✔️ Store your figure to a variable named `fig`.\n",
    "- ✔️ Add an appropriate title to your figure.\n",
    "- ✔️ Display the figure using `fig.show()`"
   ]
  },
  {
   "cell_type": "code",
   "execution_count": null,
   "metadata": {},
   "outputs": [],
   "source": [
    "# YOUR CODE BEGINS\n",
    "\n",
    "# YOUR CODE ENDS"
   ]
  },
  {
   "cell_type": "markdown",
   "metadata": {},
   "source": [
    "#### 🔑 Sample output\n",
    "\n",
    "![Salary distribution by citizenship status box plots](https://github.com/bdi475/images/blob/main/exercises/intro-to-dataviz/selling_price_by_number_of_owners.png?raw=true)"
   ]
  },
  {
   "cell_type": "markdown",
   "metadata": {},
   "source": [
    "#### 🧭 Check your work"
   ]
  },
  {
   "cell_type": "code",
   "execution_count": null,
   "metadata": {
    "nbgrader": {
     "grade": true,
     "grade_id": "exercise-04",
     "locked": true,
     "points": "3",
     "solution": false
    }
   },
   "outputs": [],
   "source": [
    "tc.assertEqual(len(fig.data), 1, 'There must be only one plot in your figure')\n",
    "tc.assertIsNotNone(fig.layout.title.text, 'Missing figure title')\n",
    "tc.assertEqual(fig.data[0].type, 'box', 'Not a box plot')\n",
    "tc.assertEqual(fig.data[0].orientation, 'h', 'Your plot should have a horizontal orientation')\n",
    "np.testing.assert_array_equal(fig.data[0].x, df_cars['selling_price'], 'Incorrect x-axis data')\n",
    "np.testing.assert_array_equal(fig.data[0].y, df_cars['owner'], 'Incorrect y-axis data')"
   ]
  },
  {
   "cell_type": "markdown",
   "metadata": {},
   "source": [
    "---\n",
    "\n",
    "### 🎯 Exercise 5: Driven distance distribution by transmission\n",
    "\n",
    "#### 👇 Tasks\n",
    "\n",
    "- ✔️ Draw horizontal box plots of `km_driven` by `transmission`.\n",
    "- ✔️ Store your figure to a variable named `fig`.\n",
    "- ✔️ Add an appropriate title to your figure.\n",
    "- ✔️ Display the figure using `fig.show()`"
   ]
  },
  {
   "cell_type": "code",
   "execution_count": null,
   "metadata": {},
   "outputs": [],
   "source": [
    "# YOUR CODE BEGINS\n",
    "\n",
    "# YOUR CODE ENDS"
   ]
  },
  {
   "cell_type": "markdown",
   "metadata": {},
   "source": [
    "#### 🔑 Sample output\n",
    "\n",
    "![Salary distribution by performance score box plots](https://github.com/bdi475/images/blob/main/exercises/intro-to-dataviz/distance_by_transmission.png?raw=true)"
   ]
  },
  {
   "cell_type": "markdown",
   "metadata": {},
   "source": [
    "#### 🧭 Check your work"
   ]
  },
  {
   "cell_type": "code",
   "execution_count": null,
   "metadata": {
    "nbgrader": {
     "grade": true,
     "grade_id": "exercise-05",
     "locked": true,
     "points": "2",
     "solution": false
    }
   },
   "outputs": [],
   "source": [
    "tc.assertEqual(len(fig.data), 1, 'There must be only one plot in your figure')\n",
    "tc.assertIsNotNone(fig.layout.title.text, 'Missing figure title')\n",
    "tc.assertEqual(fig.data[0].type, 'box', 'Not a box plot')\n",
    "tc.assertEqual(fig.data[0].orientation, 'h', 'Your plot should have a horizontal orientation')\n",
    "np.testing.assert_array_equal(fig.data[0].x, df_cars['km_driven'], 'Incorrect x-axis data')\n",
    "np.testing.assert_array_equal(fig.data[0].y, df_cars['transmission'], 'Incorrect y-axis data')"
   ]
  },
  {
   "cell_type": "markdown",
   "metadata": {},
   "source": [
    "---\n",
    "\n",
    "### 🎯 Exercise 6: Selling price distribution by fuel type\n",
    "\n",
    "#### 👇 Tasks\n",
    "\n",
    "- ✔️ Draw horizontal box plots of `selling_price` by `fuel`.\n",
    "- ✔️ Store your figure to a variable named `fig`.\n",
    "- ✔️ Add an appropriate title to your figure.\n",
    "- ✔️ Set the height of your figure to `600`.\n",
    "- ✔️ Display the figure using `fig.show()`\n",
    "\n",
    "#### 🚀 Hints\n",
    "\n",
    "```python\n",
    "fig = px.box(\n",
    "    my_dataframe,\n",
    "    x='my_column1',\n",
    "    y='my_column2',\n",
    "    title='Plot Title Goes Here',\n",
    "    height=600\n",
    ")\n",
    "fig.show()\n",
    "```"
   ]
  },
  {
   "cell_type": "code",
   "execution_count": null,
   "metadata": {},
   "outputs": [],
   "source": [
    "# YOUR CODE BEGINS\n",
    "\n",
    "\n",
    "\n",
    "\n",
    "\n",
    "\n",
    "\n",
    "\n",
    "# YOUR CODE ENDS"
   ]
  },
  {
   "cell_type": "markdown",
   "metadata": {},
   "source": [
    "#### 🔑 Sample output\n",
    "\n",
    "![Salary distribution by department box plots](https://github.com/bdi475/images/blob/main/exercises/intro-to-dataviz/selling_price_by_fuel_type.png?raw=true)"
   ]
  },
  {
   "cell_type": "markdown",
   "metadata": {},
   "source": [
    "#### 🧭 Check your work"
   ]
  },
  {
   "cell_type": "code",
   "execution_count": null,
   "metadata": {
    "nbgrader": {
     "grade": true,
     "grade_id": "exercise-06",
     "locked": true,
     "points": "2",
     "solution": false
    }
   },
   "outputs": [],
   "source": [
    "tc.assertEqual(len(fig.data), 1, 'There must be only one plot in your figure')\n",
    "tc.assertIsNotNone(fig.layout.title.text, 'Missing figure title')\n",
    "tc.assertEqual(fig.data[0].type, 'box', 'Not a box plot')\n",
    "tc.assertEqual(fig.data[0].orientation, 'h', 'Your plot should have a horizontal orientation')\n",
    "tc.assertEqual(fig.layout.height, 600, 'Incorrect height')\n",
    "np.testing.assert_array_equal(fig.data[0].x, df_cars['selling_price'], 'Incorrect x-axis data')\n",
    "np.testing.assert_array_equal(fig.data[0].y, df_cars['fuel'], 'Incorrect y-axis data')"
   ]
  },
  {
   "cell_type": "markdown",
   "metadata": {},
   "source": [
    "---\n",
    "\n",
    "### 🎯 Exercise 7: Selling price distribution by seller type\n",
    "\n",
    "#### 👇 Tasks\n",
    "\n",
    "- ✔️ Draw horizontal box plots of `selling_price` by `seller_type`.\n",
    "- ✔️ Store your figure to a variable named `fig`.\n",
    "- ✔️ Add an appropriate title to your figure.\n",
    "- ✔️ Set the height of your figure to `700`.\n",
    "- ✔️ Display the figure using `fig.show()`"
   ]
  },
  {
   "cell_type": "code",
   "execution_count": null,
   "metadata": {},
   "outputs": [],
   "source": [
    "# YOUR CODE BEGINS\n",
    "\n",
    "# YOUR CODE ENDS"
   ]
  },
  {
   "cell_type": "markdown",
   "metadata": {},
   "source": [
    "#### 🔑 Sample output\n",
    "\n",
    "![Salary distribution by recruitment source box plots](https://github.com/bdi475/images/blob/main/exercises/intro-to-dataviz/selling_price_by_seller_type.png?raw=true)"
   ]
  },
  {
   "cell_type": "markdown",
   "metadata": {},
   "source": [
    "#### 🧭 Check your work"
   ]
  },
  {
   "cell_type": "code",
   "execution_count": null,
   "metadata": {
    "nbgrader": {
     "grade": true,
     "grade_id": "exercise-07",
     "locked": true,
     "points": "2",
     "solution": false
    }
   },
   "outputs": [],
   "source": [
    "tc.assertEqual(len(fig.data), 1, 'There must be only one plot in your figure')\n",
    "tc.assertIsNotNone(fig.layout.title.text, 'Missing figure title')\n",
    "tc.assertEqual(fig.data[0].type, 'box', 'Not a box plot')\n",
    "tc.assertEqual(fig.data[0].orientation, 'h', 'Your plot should have a horizontal orientation')\n",
    "tc.assertEqual(fig.layout.height, 700, 'Incorrect height')\n",
    "np.testing.assert_array_equal(fig.data[0].x, df_cars['selling_price'], 'Incorrect x-axis data')\n",
    "np.testing.assert_array_equal(fig.data[0].y, df_cars['seller_type'], 'Incorrect y-axis data')"
   ]
  },
  {
   "cell_type": "markdown",
   "metadata": {},
   "source": [
    "---\n",
    "\n",
    "### 🎯 Exercise 8: Selling price histogram\n",
    "\n",
    "#### 👇 Tasks\n",
    "\n",
    "- ✔️ Draw a histogram (vertical) of `selling_price` in `df_cars`.\n",
    "- ✔️ Store your figure to a variable named `fig`.\n",
    "- ✔️ Add an appropriate title to your figure.\n",
    "- ✔️ Display the figure using `fig.show()`"
   ]
  },
  {
   "cell_type": "code",
   "execution_count": null,
   "metadata": {},
   "outputs": [],
   "source": [
    "# YOUR CODE BEGINS\n",
    "\n",
    "# YOUR CODE ENDS"
   ]
  },
  {
   "cell_type": "markdown",
   "metadata": {},
   "source": [
    "#### 🔑 Sample output\n",
    "\n",
    "![Salary dispersion histogram](https://github.com/bdi475/images/blob/main/exercises/intro-to-dataviz/selling_price_histogram.png?raw=true)"
   ]
  },
  {
   "cell_type": "markdown",
   "metadata": {},
   "source": [
    "#### 🧭 Check your work"
   ]
  },
  {
   "cell_type": "code",
   "execution_count": null,
   "metadata": {
    "nbgrader": {
     "grade": true,
     "grade_id": "exercise-08",
     "locked": true,
     "points": "3",
     "solution": false
    }
   },
   "outputs": [],
   "source": [
    "tc.assertEqual(len(fig.data), 1, 'There must be only one plot in your figure')\n",
    "tc.assertIsNotNone(fig.layout.title.text, 'Missing figure title')\n",
    "tc.assertEqual(fig.data[0].type, 'histogram', 'Not a histogram')\n",
    "tc.assertEqual(fig.data[0].orientation, 'v', 'Your plot should have a vertical orientation')\n",
    "np.testing.assert_array_equal(fig.data[0].x, df_cars['selling_price'], 'Incorrect data')"
   ]
  },
  {
   "cell_type": "markdown",
   "metadata": {},
   "source": [
    "---\n",
    "\n",
    "### 🎯 Exercise 9: Distance driven distribution\n",
    "\n",
    "#### 👇 Tasks\n",
    "\n",
    "- ✔️ Draw a histogram (vertical) of `km_driven` in `df_cars`.\n",
    "- ✔️ Store your figure to a variable named `fig`.\n",
    "- ✔️ Add an appropriate title to your figure.\n",
    "- ✔️ Display the figure using `fig.show()`"
   ]
  },
  {
   "cell_type": "code",
   "execution_count": null,
   "metadata": {},
   "outputs": [],
   "source": [
    "# YOUR CODE BEGINS\n",
    "\n",
    "# YOUR CODE ENDS"
   ]
  },
  {
   "cell_type": "markdown",
   "metadata": {},
   "source": [
    "#### 🔑 Sample output\n",
    "\n",
    "![Number of absence histogram](https://github.com/bdi475/images/blob/main/exercises/intro-to-dataviz/distance_driven_histogram.png?raw=true)"
   ]
  },
  {
   "cell_type": "markdown",
   "metadata": {},
   "source": [
    "#### 🧭 Check your work"
   ]
  },
  {
   "cell_type": "code",
   "execution_count": null,
   "metadata": {
    "nbgrader": {
     "grade": true,
     "grade_id": "exercise-09",
     "locked": true,
     "points": "2",
     "solution": false
    }
   },
   "outputs": [],
   "source": [
    "tc.assertEqual(len(fig.data), 1, 'There must be only one plot in your figure')\n",
    "tc.assertIsNotNone(fig.layout.title.text, 'Missing figure title')\n",
    "tc.assertEqual(fig.data[0].type, 'histogram', 'Not a histogram')\n",
    "tc.assertEqual(fig.data[0].orientation, 'v', 'Your plot should have a vertical orientation')\n",
    "np.testing.assert_array_equal(fig.data[0].x, df_cars['km_driven'], 'Incorrect data')"
   ]
  }
 ],
 "metadata": {
  "kernelspec": {
   "display_name": "Python 3 (ipykernel)",
   "language": "python",
   "name": "python3"
  },
  "language_info": {
   "codemirror_mode": {
    "name": "ipython",
    "version": 3
   },
   "file_extension": ".py",
   "mimetype": "text/x-python",
   "name": "python",
   "nbconvert_exporter": "python",
   "pygments_lexer": "ipython3",
   "version": "3.8.13"
  }
 },
 "nbformat": 4,
 "nbformat_minor": 4
}
