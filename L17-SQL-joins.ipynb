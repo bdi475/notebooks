{
 "cells": [
  {
   "cell_type": "markdown",
   "metadata": {},
   "source": [
    "# SQL Joins"
   ]
  },
  {
   "cell_type": "markdown",
   "metadata": {},
   "source": [
    "---\n",
    "\n",
    "## ✨ Joining Tables"
   ]
  },
  {
   "cell_type": "markdown",
   "metadata": {},
   "source": [
    "Today, we will review basic SQL joins."
   ]
  },
  {
   "cell_type": "markdown",
   "metadata": {},
   "source": [
    "▶️ First, run the code cell below to import modules used for **🧭 Check Your Work** sections and the autograder."
   ]
  },
  {
   "cell_type": "code",
   "execution_count": null,
   "metadata": {},
   "outputs": [],
   "source": [
    "import unittest\n",
    "import base64\n",
    "tc = unittest.TestCase()"
   ]
  },
  {
   "cell_type": "markdown",
   "metadata": {},
   "source": [
    "---\n",
    "\n",
    "### 🎯 Pre-exercise: Import Packages"
   ]
  },
  {
   "cell_type": "markdown",
   "metadata": {},
   "source": [
    "#### 👇 Tasks\n",
    "\n",
    "- ✔️ Import the following Python packages.\n",
    "    1. `pandas`: Use alias `pd`.\n",
    "    2. `numpy`: Use alias `np`.\n",
    "    3. `sqlite3`: No alias"
   ]
  },
  {
   "cell_type": "code",
   "execution_count": null,
   "metadata": {},
   "outputs": [],
   "source": [
    "# YOUR CODE BEGINS\n",
    "\n",
    "\n",
    "# YOUR CODE ENDS"
   ]
  },
  {
   "cell_type": "markdown",
   "metadata": {},
   "source": [
    "#### 🧭 Check your work"
   ]
  },
  {
   "cell_type": "code",
   "execution_count": null,
   "metadata": {
    "nbgrader": {
     "grade": true,
     "grade_id": "pre-exercise",
     "locked": true,
     "points": "1",
     "solution": false
    }
   },
   "outputs": [],
   "source": [
    "import sys\n",
    "tc.assertTrue('pd' in globals(), 'Check whether you have correctly imported Pandas with an alias.')\n",
    "tc.assertTrue('np' in globals(), 'Check whether you have correctly imported NumPy with an alias.')\n",
    "tc.assertTrue('sqlite3' in globals(), 'Check whether you have correctly imported the sqlite3 package.')"
   ]
  },
  {
   "cell_type": "markdown",
   "metadata": {
    "nbgrader": {
     "grade": false,
     "locked": true,
     "solution": false
    }
   },
   "source": [
    "---\n",
    "\n",
    "### 📌 Transcripts\n",
    "\n",
    "Throughout this exercise, you'll work with the Starbucks Customer Rewards Program dataset. ☕ The dataset was originally released as a part of a capstone project of a Udacity course.\n",
    "\n",
    "For the purpose of this course, the original dataset in JSON format has been transformed to CSV files for convenience. You can download the original JSON files [here](https://www.kaggle.com/blacktile/starbucks-app-customer-reward-program-data?select=portfolio.json)."
   ]
  },
  {
   "cell_type": "markdown",
   "metadata": {
    "id": "LI33A8-jem7m",
    "nbgrader": {
     "grade": false,
     "locked": true,
     "solution": false
    }
   },
   "source": [
    "The table below describes the columns in the `transactions` table.\n",
    "\n",
    "| Field | Description |\n",
    "|---|---|\n",
    "| member_id | Member ID |\n",
    "| event | Type of event ('offer received',   'offer completed', 'transaction') |\n",
    "| time | Time as continuous value |\n",
    "| offer_id | Offer ID |\n",
    "| amount | Amount of purchase or NaN if   non-purchase |"
   ]
  },
  {
   "cell_type": "markdown",
   "metadata": {
    "nbgrader": {
     "grade": false,
     "locked": true,
     "solution": false
    }
   },
   "source": [
    "---\n",
    "\n",
    "### 📌 Customer profiles\n",
    "\n",
    "We want to go further with the purchase data analysis by looking at the customers. Unfortunately, the information we currently have about the customers in each purchase is limited. We only have their unique IDs (e.g., `02c083884c7d45b39cc68e1314fec56c`, `9fa9ae8f57894cc9a3b8a9bbe0fc1b2f`).\n",
    "\n",
    "In the next few steps, you'll read the customer profiles data and link them to `df_transactions` using `member_id`."
   ]
  },
  {
   "cell_type": "markdown",
   "metadata": {
    "id": "LI33A8-jem7m",
    "nbgrader": {
     "grade": false,
     "locked": true,
     "solution": false
    }
   },
   "source": [
    "The table below describes the columns in the `profiles` table.\n",
    "\n",
    "| Field | Description |\n",
    "|---|---|\n",
    "| member_id | Unique identifier for each Starbucks app member |\n",
    "| gender | Gender (NaN if unknown) |\n",
    "| age | Age (NaN if unknown) |\n",
    "| became_member_on | Sign-up date |\n",
    "| income | Annual income (NaN if unknown) |"
   ]
  },
  {
   "cell_type": "markdown",
   "metadata": {},
   "source": [
    "---\n",
    "### 📌 Populate database tables from a CSV file"
   ]
  },
  {
   "cell_type": "markdown",
   "metadata": {},
   "source": [
    "▶️ Run the code below to populate the `profiles` and `transcripts` tables."
   ]
  },
  {
   "cell_type": "code",
   "execution_count": null,
   "metadata": {},
   "outputs": [],
   "source": [
    "df_transactions = pd.read_csv('https://github.com/bdi475/datasets/raw/main/starbucks-rewards/transcript.v2.csv.gz')\n",
    "df_profiles = pd.read_csv('https://github.com/bdi475/datasets/raw/main/starbucks-rewards/profile.csv')\n",
    "\n",
    "conn = sqlite3.connect('starbucks.db')\n",
    "c = conn.cursor()\n",
    "\n",
    "tables = list(pd.read_sql_query('SELECT * FROM sqlite_master WHERE type=\"table\";', con=conn)['tbl_name'])\n",
    "tables_to_populate = ['transactions', 'profiles']\n",
    "\n",
    "for t in tables_to_populate:\n",
    "    if t in tables:\n",
    "        c.execute(f'DELETE FROM {t}')\n",
    "        conn.commit()\n",
    "\n",
    "df_transactions.to_sql(name='transactions', index=False, con=conn, if_exists='append')\n",
    "df_profiles.to_sql(name='profiles', index=False, con=conn, if_exists='append')\n",
    "\n",
    "conn.close()"
   ]
  },
  {
   "cell_type": "markdown",
   "metadata": {},
   "source": [
    "#### 🧭 Check your work"
   ]
  },
  {
   "cell_type": "code",
   "execution_count": null,
   "metadata": {},
   "outputs": [],
   "source": [
    "# DO NOT CHANGE THE CODE IN THIS CELL\n",
    "conn_checker = sqlite3.connect('starbucks.db')\n",
    "tables_to_check = ['transactions', 'profiles']\n",
    "\n",
    "# Check if table exists\n",
    "for t in tables_to_check:\n",
    "    user_tables = list(pd.read_sql_query('SELECT * FROM sqlite_master WHERE type=\"table\";', con=conn_checker)['tbl_name'])\n",
    "    tc.assertTrue(t in user_tables, f'{t} does not exist in your starbucks.db file!')\n",
    "\n",
    "conn_checker.close()"
   ]
  },
  {
   "cell_type": "markdown",
   "metadata": {},
   "source": [
    "---\n",
    "### 📌 Read Sqlite Database File"
   ]
  },
  {
   "cell_type": "markdown",
   "metadata": {},
   "source": [
    "▶️ Run the code below to select the first 5 rows from the `transactions` table"
   ]
  },
  {
   "cell_type": "code",
   "execution_count": null,
   "metadata": {},
   "outputs": [],
   "source": [
    "# DO NOT CHANGE THE CODE IN THIS CELL\n",
    "conn = sqlite3.connect('starbucks.db')\n",
    "display(pd.read_sql_query('SELECT * FROM transactions LIMIT 5;', con=conn))\n",
    "conn.close()"
   ]
  },
  {
   "cell_type": "markdown",
   "metadata": {},
   "source": [
    "▶️ Run the code below to select the first 5 rows from the `profiles` table"
   ]
  },
  {
   "cell_type": "code",
   "execution_count": null,
   "metadata": {},
   "outputs": [],
   "source": [
    "# DO NOT CHANGE THE CODE IN THIS CELL\n",
    "conn = sqlite3.connect('starbucks.db')\n",
    "display(pd.read_sql_query('SELECT * FROM profiles LIMIT 5;', con=conn))\n",
    "conn.close()"
   ]
  },
  {
   "cell_type": "markdown",
   "metadata": {},
   "source": [
    "#### 🧭 Check your work"
   ]
  },
  {
   "cell_type": "code",
   "execution_count": null,
   "metadata": {},
   "outputs": [],
   "source": [
    "# DO NOT CHANGE THE CODE IN THIS CELL\n",
    "conn_checker = sqlite3.connect('starbucks.db')\n",
    "tables_to_check = ['transactions', 'profiles']\n",
    "\n",
    "# Check if table exists\n",
    "user_tables = list(pd.read_sql_query('SELECT * FROM sqlite_master WHERE type=\"table\";', con=conn_checker)['tbl_name'])\n",
    "\n",
    "for table_to_check in tables_to_check:\n",
    "    tc.assertTrue(table_to_check in user_tables, f'{table_to_check} does not exist in your NWT.db file!')\n",
    "\n",
    "conn_checker.close()"
   ]
  },
  {
   "cell_type": "markdown",
   "metadata": {},
   "source": [
    "---\n",
    "\n",
    "### 🎯 Exercise 1: Join `profiles` into `transactions` table\n",
    "\n",
    "#### 👇 Tasks\n",
    "\n",
    "- ✔️ Write a query that joins the `profiles` table into `transactions`.\n",
    "- ✔️ Use an inner join.\n",
    "- ✔️ Select all columns.\n",
    "- ✔️ Store your query to a new variable named `query_joined1`."
   ]
  },
  {
   "cell_type": "code",
   "execution_count": null,
   "metadata": {},
   "outputs": [],
   "source": [
    "# YOUR CODE BEGINS\n",
    "\n",
    "\n",
    "\n",
    "\n",
    "\n",
    "# YOUR CODE ENDS\n",
    "conn = sqlite3.connect('starbucks.db')\n",
    "df_result = pd.read_sql_query(query_joined1, con=conn)\n",
    "display(df_result)\n",
    "conn.close()"
   ]
  },
  {
   "cell_type": "markdown",
   "metadata": {},
   "source": [
    "#### 🧭 Check your work"
   ]
  },
  {
   "cell_type": "code",
   "execution_count": null,
   "metadata": {
    "nbgrader": {
     "grade": true,
     "grade_id": "exercise-01",
     "locked": true,
     "points": "3",
     "solution": false
    }
   },
   "outputs": [],
   "source": [
    "# DO NOT CHANGE THE CODE IN THIS CELL\n",
    "conn = sqlite3.connect('starbucks.db')\n",
    "df_check = pd.read_sql_query(query_joined1, con=conn)\n",
    "tc.assertEqual(df_result.shape, (306534, 10), 'Incorrect number of rows and/or columns')\n",
    "conn.close()"
   ]
  },
  {
   "cell_type": "markdown",
   "metadata": {},
   "source": [
    "---\n",
    "\n",
    "### 🎯 Exercise 2: Join `profiles` into `transactions` table where gender is not missing\n",
    "\n",
    "#### 👇 Tasks\n",
    "\n",
    "- ✔️ Write a query that joins the `profiles` table into `transactions`.\n",
    "- ✔️ Only keep rows where the `gender` column's value in the `profiles` table is NOT NULL.\n",
    "- ✔️ Use an inner join.\n",
    "- ✔️ Select all columns.\n",
    "- ✔️ Store your query to a new variable named `query_joined2`."
   ]
  },
  {
   "cell_type": "code",
   "execution_count": null,
   "metadata": {},
   "outputs": [],
   "source": [
    "# YOUR CODE BEGINS\n",
    "\n",
    "\n",
    "\n",
    "\n",
    "\n",
    "\n",
    "# YOUR CODE ENDS\n",
    "conn = sqlite3.connect('starbucks.db')\n",
    "df_result = pd.read_sql_query(query_joined2, con=conn)\n",
    "display(df_result)\n",
    "conn.close()"
   ]
  },
  {
   "cell_type": "markdown",
   "metadata": {},
   "source": [
    "#### 🧭 Check your work"
   ]
  },
  {
   "cell_type": "code",
   "execution_count": null,
   "metadata": {
    "nbgrader": {
     "grade": true,
     "grade_id": "exercise-01",
     "locked": true,
     "points": "3",
     "solution": false
    }
   },
   "outputs": [],
   "source": [
    "# DO NOT CHANGE THE CODE IN THIS CELL\n",
    "conn = sqlite3.connect('starbucks.db')\n",
    "df_check = pd.read_sql_query(query_joined2, con=conn)\n",
    "tc.assertEqual(df_result.shape[0], 272762, 'Incorrect number of rows and/or columns')\n",
    "conn.close()"
   ]
  },
  {
   "cell_type": "markdown",
   "metadata": {},
   "source": [
    "---\n",
    "\n",
    "### 🎯 Exercise 3: Average transaction amount by gender\n",
    "\n",
    "#### 👇 Tasks\n",
    "\n",
    "- ✔️ Write a query that finds the average transaction amount by gender.\n",
    "- ✔️ Only display rows with a non-missing `gender` value.\n",
    "- ✔️ Only display the following two columns:\n",
    "    - `gender`\n",
    "    - `average_amount`\n",
    "- ✔️ Store your query to a new variable named `query_joined3`.\n",
    "- ✔️ Sort the result by `average_amount` in descending order.\n",
    "\n",
    "\n",
    "#### 🧭 Expected Output\n",
    "\n",
    "|    | gender   |   average_amount |\n",
    "|---:|:---------|-----------------:|\n",
    "|  0 | F        |          17.4901 |\n",
    "|  1 | O        |          14.7987 |\n",
    "|  2 | M        |          11.6066 |"
   ]
  },
  {
   "cell_type": "code",
   "execution_count": null,
   "metadata": {},
   "outputs": [],
   "source": [
    "# YOUR CODE BEGINS\n",
    "\n",
    "\n",
    "\n",
    "\n",
    "\n",
    "\n",
    "\n",
    "\n",
    "# YOUR CODE ENDS\n",
    "conn = sqlite3.connect('starbucks.db')\n",
    "df_result = pd.read_sql_query(query_joined3, con=conn)\n",
    "display(df_result)\n",
    "conn.close()"
   ]
  },
  {
   "cell_type": "markdown",
   "metadata": {},
   "source": [
    "#### 🧭 Check your work"
   ]
  },
  {
   "cell_type": "code",
   "execution_count": null,
   "metadata": {
    "nbgrader": {
     "grade": true,
     "grade_id": "exercise-01",
     "locked": true,
     "points": "3",
     "solution": false
    }
   },
   "outputs": [],
   "source": [
    "# DO NOT CHANGE THE CODE IN THIS CELL\n",
    "conn = sqlite3.connect('starbucks.db')\n",
    "decoded_query = base64.b64decode(b'ClNFTEVDVCBnZW5kZXIsIEFWRyhhbW91\\\n",
    "bnQpIEFTIGF2ZXJhZ2VfYW1vdW50CkZST00gdHJhbnNhY3Rpb25zCklOTkVSIEpPSU4\\\n",
    "gcHJvZmlsZXMKT04gdHJhbnNhY3Rpb25zLm1lbWJlcl9pZCA9PSBwcm9maWxlcy5tZW\\\n",
    "1iZXJfaWQKR1JPVVAgQlkgcHJvZmlsZXMuZ2VuZGVyCkhBVklORyBnZW5kZXIgSVMgT\\\n",
    "k9UIE5VTEwKT1JERVIgQlkgYXZlcmFnZV9hbW91bnQgREVTQzsK').decode()\n",
    "df_check = pd.read_sql_query(decoded_query, con=conn)\n",
    "pd.testing.assert_frame_equal(df_result.reset_index(drop=True),\n",
    "                              df_check.reset_index(drop=True))"
   ]
  }
 ],
 "metadata": {
  "kernelspec": {
   "display_name": "Python 3 (ipykernel)",
   "language": "python",
   "name": "python3"
  },
  "language_info": {
   "codemirror_mode": {
    "name": "ipython",
    "version": 3
   },
   "file_extension": ".py",
   "mimetype": "text/x-python",
   "name": "python",
   "nbconvert_exporter": "python",
   "pygments_lexer": "ipython3",
   "version": "3.9.7"
  }
 },
 "nbformat": 4,
 "nbformat_minor": 4
}
