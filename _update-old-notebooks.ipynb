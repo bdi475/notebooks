{
 "cells": [
  {
   "cell_type": "code",
   "execution_count": 2,
   "id": "cb8ce69e",
   "metadata": {},
   "outputs": [],
   "source": [
    "import glob\n",
    "from pathlib import Path\n",
    "import nbformat"
   ]
  },
  {
   "cell_type": "code",
   "execution_count": 23,
   "id": "6b5d67ca",
   "metadata": {},
   "outputs": [
    {
     "name": "stdout",
     "output_type": "stream",
     "text": [
      "quiz-04-lending-club-loans-sql-SOLUTION.ipynb\n"
     ]
    }
   ],
   "source": [
    "old_notebook = glob.glob(\"quiz-04-lending*-SOLUTION.ipynb\")[0]\n",
    "print(old_notebook)"
   ]
  },
  {
   "cell_type": "code",
   "execution_count": 24,
   "id": "d6e596f5",
   "metadata": {},
   "outputs": [
    {
     "name": "stdout",
     "output_type": "stream",
     "text": [
      "Replaced 34b70d3a\n",
      "Replaced 4edec2d1\n",
      "Replaced 289bbd66\n",
      "Replaced e3babdc6\n"
     ]
    }
   ],
   "source": [
    "nb = nbformat.read(old_notebook, as_version=4)\n",
    "\n",
    "new_check_your_work_markdown = \"#### 🧭 Check Your Work\\n\\nRun the code cell below to test your solution.\\n\\n- ✔️ If the code cell runs without errors, you're good to move on.\\n- ❌ If the code cell produces an error, review your code and fix any mistakes.\"\n",
    "\n",
    "for cell in nb.cells:\n",
    "    if (cell.cell_type == \"markdown\") and (\n",
    "        \"### 🧭 check your work\" in cell.source.lower()\n",
    "    ):\n",
    "        cell.source = new_check_your_work_markdown\n",
    "        print(f\"Replaced {cell.id}\")\n",
    "\n",
    "nbformat.write(nb, old_notebook)"
   ]
  }
 ],
 "metadata": {
  "kernelspec": {
   "display_name": "gies",
   "language": "python",
   "name": "python3"
  },
  "language_info": {
   "codemirror_mode": {
    "name": "ipython",
    "version": 3
   },
   "file_extension": ".py",
   "mimetype": "text/x-python",
   "name": "python",
   "nbconvert_exporter": "python",
   "pygments_lexer": "ipython3",
   "version": "3.12.6"
  }
 },
 "nbformat": 4,
 "nbformat_minor": 5
}
