{
 "cells": [
  {
   "cell_type": "markdown",
   "metadata": {
    "id": "znpt9QdbdxtK"
   },
   "source": [
    "# Pandas Data Types and Column Operations"
   ]
  },
  {
   "cell_type": "markdown",
   "metadata": {
    "id": "P2TWT2kwdxtM"
   },
   "source": [
    "## Lecture Notes and in-class exercises"
   ]
  },
  {
   "cell_type": "markdown",
   "metadata": {
    "id": "BLAgknPNdxtM"
   },
   "source": [
    "▶️ First, run the code cell below to import `unittest`, a module used for **🧭 Check Your Work** sections and the autograder."
   ]
  },
  {
   "cell_type": "code",
   "execution_count": 1,
   "metadata": {
    "id": "h4IxqBpNdxtM"
   },
   "outputs": [],
   "source": [
    "import unittest\n",
    "tc = unittest.TestCase()"
   ]
  },
  {
   "cell_type": "markdown",
   "metadata": {
    "id": "idmfpz-4dxtN"
   },
   "source": [
    "#### 👇 Tasks\n",
    "\n",
    "- ✔️ Import the following Python packages.\n",
    "    1. `pandas`: Use alias `pd`.\n",
    "    2. `numpy`: Use alias `np`."
   ]
  },
  {
   "cell_type": "code",
   "execution_count": 2,
   "metadata": {
    "id": "FhImrAevdxtN"
   },
   "outputs": [],
   "source": [
    "### BEGIN SOLUTION\n",
    "import pandas as pd\n",
    "import numpy as np\n",
    "### END SOLUTION"
   ]
  },
  {
   "cell_type": "markdown",
   "metadata": {
    "id": "togniVvudxtN"
   },
   "source": [
    "#### 🧭 Check your work\n",
    "\n",
    "- Once you're done, run the code cell below to test correctness.\n",
    "- ✔️ If the code cell runs without an error, you're good to move on.\n",
    "- ❌ If the code cell throws an error, go back and fix incorrect parts."
   ]
  },
  {
   "cell_type": "code",
   "execution_count": 3,
   "metadata": {
    "id": "YQ84e7z7dxtO"
   },
   "outputs": [],
   "source": [
    "import sys\n",
    "tc.assertTrue(\"pd\" in globals(), \"Check whether you have correctly import Pandas with an alias.\")\n",
    "tc.assertTrue(\"np\" in globals(), \"Check whether you have correctly import NumPy with an alias.\")"
   ]
  },
  {
   "cell_type": "markdown",
   "metadata": {
    "id": "6Xx8HRWtdxtO"
   },
   "source": [
    "---\n",
    "\n",
    "### 📌 Load data"
   ]
  },
  {
   "cell_type": "markdown",
   "metadata": {
    "id": "lkXPpOIVdxtO"
   },
   "source": [
    "▶️ Run the code cell below to create a new `DataFrame` named `df_emp`."
   ]
  },
  {
   "cell_type": "code",
   "execution_count": 4,
   "metadata": {
    "colab": {
     "base_uri": "https://localhost:8080/",
     "height": 175
    },
    "id": "a8Wo1ugCdxtO",
    "outputId": "04baf6b9-dae6-4b41-f2a0-1a5db3204225"
   },
   "outputs": [
    {
     "data": {
      "text/html": [
       "<div>\n",
       "<style scoped>\n",
       "    .dataframe tbody tr th:only-of-type {\n",
       "        vertical-align: middle;\n",
       "    }\n",
       "\n",
       "    .dataframe tbody tr th {\n",
       "        vertical-align: top;\n",
       "    }\n",
       "\n",
       "    .dataframe thead th {\n",
       "        text-align: right;\n",
       "    }\n",
       "</style>\n",
       "<table border=\"1\" class=\"dataframe\">\n",
       "  <thead>\n",
       "    <tr style=\"text-align: right;\">\n",
       "      <th></th>\n",
       "      <th>emp_id</th>\n",
       "      <th>name</th>\n",
       "      <th>dept</th>\n",
       "      <th>office_phone</th>\n",
       "      <th>start_date</th>\n",
       "      <th>salary</th>\n",
       "    </tr>\n",
       "  </thead>\n",
       "  <tbody>\n",
       "    <tr>\n",
       "      <th>0</th>\n",
       "      <td>30</td>\n",
       "      <td>Colby</td>\n",
       "      <td>Sales</td>\n",
       "      <td>(217)123-4500</td>\n",
       "      <td>2017-05-01</td>\n",
       "      <td>202000</td>\n",
       "    </tr>\n",
       "    <tr>\n",
       "      <th>1</th>\n",
       "      <td>40</td>\n",
       "      <td>Adam</td>\n",
       "      <td>Marketing</td>\n",
       "      <td>NaN</td>\n",
       "      <td>2018-02-01</td>\n",
       "      <td>185000</td>\n",
       "    </tr>\n",
       "    <tr>\n",
       "      <th>2</th>\n",
       "      <td>10</td>\n",
       "      <td>Eli</td>\n",
       "      <td>Sales</td>\n",
       "      <td>NaN</td>\n",
       "      <td>2020-08-01</td>\n",
       "      <td>240000</td>\n",
       "    </tr>\n",
       "    <tr>\n",
       "      <th>3</th>\n",
       "      <td>20</td>\n",
       "      <td>Dylan</td>\n",
       "      <td>Marketing</td>\n",
       "      <td>(217)987-6543</td>\n",
       "      <td>2019-12-01</td>\n",
       "      <td>160500</td>\n",
       "    </tr>\n",
       "  </tbody>\n",
       "</table>\n",
       "</div>"
      ],
      "text/plain": [
       "   emp_id   name       dept   office_phone  start_date  salary\n",
       "0      30  Colby      Sales  (217)123-4500  2017-05-01  202000\n",
       "1      40   Adam  Marketing            NaN  2018-02-01  185000\n",
       "2      10    Eli      Sales            NaN  2020-08-01  240000\n",
       "3      20  Dylan  Marketing  (217)987-6543  2019-12-01  160500"
      ]
     },
     "execution_count": 4,
     "metadata": {},
     "output_type": "execute_result"
    }
   ],
   "source": [
    "# DO NOT CHANGE THE CODE IN THIS CELL\n",
    "df_emp = pd.DataFrame({\n",
    "    \"emp_id\": [30, 40, 10, 20],\n",
    "    \"name\": [\"Colby\", \"Adam\", \"Eli\", \"Dylan\"],\n",
    "    \"dept\": [\"Sales\", \"Marketing\", \"Sales\", \"Marketing\"],\n",
    "    \"office_phone\": [\"(217)123-4500\", np.nan, np.nan, \"(217)987-6543\"],\n",
    "    \"start_date\": [\"2017-05-01\", \"2018-02-01\", \"2020-08-01\", \"2019-12-01\"],\n",
    "    \"salary\": [202000, 185000, 240000, 160500]\n",
    "})\n",
    "\n",
    "# Used for intermediate checks\n",
    "df_emp_backup = df_emp.copy()\n",
    "\n",
    "df_emp"
   ]
  },
  {
   "cell_type": "markdown",
   "metadata": {
    "id": "SKIyjHqidxtP"
   },
   "source": [
    "---\n",
    "\n",
    "## 👉 Sorting by Column(s) Recap\n",
    "\n",
    "You can sort a `DataFrame` using `df.sort_values()`.\n",
    "\n",
    "![sort_values usage](https://github.com/bdi475/images/blob/main/pandas/sort-values-01.png?raw=true)"
   ]
  },
  {
   "cell_type": "markdown",
   "metadata": {
    "id": "6u8JlZyKdxtP"
   },
   "source": [
    "---\n",
    "\n",
    "### 🎯 Challenge 1: Sort by `emp_id` ascending\n",
    "\n",
    "#### 👇 Tasks\n",
    "\n",
    "- ✔️ Sort `df_emp` by `emp_id` in **ascending** order.\n",
    "    - Store the result to a new variable named `df_id_asc`.\n",
    "- ✔️ `df_emp` should remain unaltered after your code.\n",
    "\n",
    "#### 🚀 Hints\n",
    "\n",
    "The code below sorts `my_dataframe` by `some_column` in ascending order and stores the sorted `DataFrame` to a new variable `sorted_dataframe`.\n",
    "\n",
    "```python\n",
    "sorted_dataframe = my_dataframe.sort_values(\"some_column\")\n",
    "```"
   ]
  },
  {
   "cell_type": "markdown",
   "metadata": {
    "id": "ttlaG5oYdxtQ"
   },
   "source": [
    "▶️ Run the code cell below to reset your `df_emp`."
   ]
  },
  {
   "cell_type": "code",
   "execution_count": 5,
   "metadata": {
    "colab": {
     "base_uri": "https://localhost:8080/",
     "height": 175
    },
    "id": "BfohCFMOdxtQ",
    "outputId": "259c8658-479f-41c2-b796-8f72a00b8853"
   },
   "outputs": [
    {
     "data": {
      "text/html": [
       "<div>\n",
       "<style scoped>\n",
       "    .dataframe tbody tr th:only-of-type {\n",
       "        vertical-align: middle;\n",
       "    }\n",
       "\n",
       "    .dataframe tbody tr th {\n",
       "        vertical-align: top;\n",
       "    }\n",
       "\n",
       "    .dataframe thead th {\n",
       "        text-align: right;\n",
       "    }\n",
       "</style>\n",
       "<table border=\"1\" class=\"dataframe\">\n",
       "  <thead>\n",
       "    <tr style=\"text-align: right;\">\n",
       "      <th></th>\n",
       "      <th>emp_id</th>\n",
       "      <th>name</th>\n",
       "      <th>dept</th>\n",
       "      <th>office_phone</th>\n",
       "      <th>start_date</th>\n",
       "      <th>salary</th>\n",
       "    </tr>\n",
       "  </thead>\n",
       "  <tbody>\n",
       "    <tr>\n",
       "      <th>0</th>\n",
       "      <td>30</td>\n",
       "      <td>Colby</td>\n",
       "      <td>Sales</td>\n",
       "      <td>(217)123-4500</td>\n",
       "      <td>2017-05-01</td>\n",
       "      <td>202000</td>\n",
       "    </tr>\n",
       "    <tr>\n",
       "      <th>1</th>\n",
       "      <td>40</td>\n",
       "      <td>Adam</td>\n",
       "      <td>Marketing</td>\n",
       "      <td>NaN</td>\n",
       "      <td>2018-02-01</td>\n",
       "      <td>185000</td>\n",
       "    </tr>\n",
       "    <tr>\n",
       "      <th>2</th>\n",
       "      <td>10</td>\n",
       "      <td>Eli</td>\n",
       "      <td>Sales</td>\n",
       "      <td>NaN</td>\n",
       "      <td>2020-08-01</td>\n",
       "      <td>240000</td>\n",
       "    </tr>\n",
       "    <tr>\n",
       "      <th>3</th>\n",
       "      <td>20</td>\n",
       "      <td>Dylan</td>\n",
       "      <td>Marketing</td>\n",
       "      <td>(217)987-6543</td>\n",
       "      <td>2019-12-01</td>\n",
       "      <td>160500</td>\n",
       "    </tr>\n",
       "  </tbody>\n",
       "</table>\n",
       "</div>"
      ],
      "text/plain": [
       "   emp_id   name       dept   office_phone  start_date  salary\n",
       "0      30  Colby      Sales  (217)123-4500  2017-05-01  202000\n",
       "1      40   Adam  Marketing            NaN  2018-02-01  185000\n",
       "2      10    Eli      Sales            NaN  2020-08-01  240000\n",
       "3      20  Dylan  Marketing  (217)987-6543  2019-12-01  160500"
      ]
     },
     "execution_count": 5,
     "metadata": {},
     "output_type": "execute_result"
    }
   ],
   "source": [
    "df_emp = df_emp_backup.copy()\n",
    "df_emp"
   ]
  },
  {
   "cell_type": "code",
   "execution_count": 6,
   "metadata": {
    "colab": {
     "base_uri": "https://localhost:8080/",
     "height": 175
    },
    "id": "ayPGRKd5dxtQ",
    "outputId": "12204a69-69af-4b25-c667-9a4e973ccbe6"
   },
   "outputs": [
    {
     "data": {
      "text/html": [
       "<div>\n",
       "<style scoped>\n",
       "    .dataframe tbody tr th:only-of-type {\n",
       "        vertical-align: middle;\n",
       "    }\n",
       "\n",
       "    .dataframe tbody tr th {\n",
       "        vertical-align: top;\n",
       "    }\n",
       "\n",
       "    .dataframe thead th {\n",
       "        text-align: right;\n",
       "    }\n",
       "</style>\n",
       "<table border=\"1\" class=\"dataframe\">\n",
       "  <thead>\n",
       "    <tr style=\"text-align: right;\">\n",
       "      <th></th>\n",
       "      <th>emp_id</th>\n",
       "      <th>name</th>\n",
       "      <th>dept</th>\n",
       "      <th>office_phone</th>\n",
       "      <th>start_date</th>\n",
       "      <th>salary</th>\n",
       "    </tr>\n",
       "  </thead>\n",
       "  <tbody>\n",
       "    <tr>\n",
       "      <th>2</th>\n",
       "      <td>10</td>\n",
       "      <td>Eli</td>\n",
       "      <td>Sales</td>\n",
       "      <td>NaN</td>\n",
       "      <td>2020-08-01</td>\n",
       "      <td>240000</td>\n",
       "    </tr>\n",
       "    <tr>\n",
       "      <th>3</th>\n",
       "      <td>20</td>\n",
       "      <td>Dylan</td>\n",
       "      <td>Marketing</td>\n",
       "      <td>(217)987-6543</td>\n",
       "      <td>2019-12-01</td>\n",
       "      <td>160500</td>\n",
       "    </tr>\n",
       "    <tr>\n",
       "      <th>0</th>\n",
       "      <td>30</td>\n",
       "      <td>Colby</td>\n",
       "      <td>Sales</td>\n",
       "      <td>(217)123-4500</td>\n",
       "      <td>2017-05-01</td>\n",
       "      <td>202000</td>\n",
       "    </tr>\n",
       "    <tr>\n",
       "      <th>1</th>\n",
       "      <td>40</td>\n",
       "      <td>Adam</td>\n",
       "      <td>Marketing</td>\n",
       "      <td>NaN</td>\n",
       "      <td>2018-02-01</td>\n",
       "      <td>185000</td>\n",
       "    </tr>\n",
       "  </tbody>\n",
       "</table>\n",
       "</div>"
      ],
      "text/plain": [
       "   emp_id   name       dept   office_phone  start_date  salary\n",
       "2      10    Eli      Sales            NaN  2020-08-01  240000\n",
       "3      20  Dylan  Marketing  (217)987-6543  2019-12-01  160500\n",
       "0      30  Colby      Sales  (217)123-4500  2017-05-01  202000\n",
       "1      40   Adam  Marketing            NaN  2018-02-01  185000"
      ]
     },
     "execution_count": 6,
     "metadata": {},
     "output_type": "execute_result"
    }
   ],
   "source": [
    "### BEGIN SOLUTION\n",
    "df_id_asc = df_emp.sort_values(\"emp_id\")\n",
    "### END SOLUTION\n",
    "\n",
    "df_id_asc"
   ]
  },
  {
   "cell_type": "markdown",
   "metadata": {
    "id": "FwnsO4eJdxtQ"
   },
   "source": [
    "#### 🧭 Check Your Work\n",
    "\n",
    "- Once you're done, run the code cell below to test correctness.\n",
    "- ✔️ If the code cell runs without an error, you're good to move on.\n",
    "- ❌ If the code cell throws an error, go back and fix incorrect parts."
   ]
  },
  {
   "cell_type": "code",
   "execution_count": 7,
   "metadata": {
    "id": "YnK3Qwo5dxtR",
    "nbgrader": {
     "grade": true,
     "grade_id": "challenge-01",
     "locked": true,
     "points": "1",
     "solution": false
    }
   },
   "outputs": [],
   "source": [
    "# Challenge 1 Autograder\n",
    "pd.testing.assert_frame_equal(df_id_asc.reset_index(drop=True),\n",
    "                              df_emp_backup.sort_values(\"_\".join([\"EmP\", \"iD\"]).lower()).reset_index(drop=True))"
   ]
  },
  {
   "cell_type": "markdown",
   "metadata": {
    "id": "I8dCC3dNdxtR"
   },
   "source": [
    "---\n",
    "\n",
    "### 🎯 Challenge 2: Sort by `emp_id` descending\n",
    "\n",
    "#### 👇 Tasks\n",
    "\n",
    "- ✔️ Sort `df_emp` by `emp_id` in **descending** order.\n",
    "    - Store the result to a new variable named `df_id_desc`.\n",
    "- ✔️ `df_emp` should remain unaltered after your code.\n",
    "\n",
    "#### 🚀 Hints\n",
    "\n",
    "The code below sorts `my_dataframe` by `some_column` in descending order and stores the sorted `DataFrame` to a new variable `sorted_dataframe`.\n",
    "\n",
    "```python\n",
    "sorted_dataframe = my_dataframe.sort_values(\"some_column\", ascending=False)\n",
    "```"
   ]
  },
  {
   "cell_type": "markdown",
   "metadata": {
    "id": "0d66ErnzdxtR"
   },
   "source": [
    "▶️ Run the code cell below to reset your `df_emp`."
   ]
  },
  {
   "cell_type": "code",
   "execution_count": 8,
   "metadata": {
    "colab": {
     "base_uri": "https://localhost:8080/",
     "height": 0
    },
    "id": "faVzX0WydxtS",
    "outputId": "bde55c4c-9ad4-45a8-e1a7-e4fb19e59a8d"
   },
   "outputs": [
    {
     "data": {
      "text/html": [
       "<div>\n",
       "<style scoped>\n",
       "    .dataframe tbody tr th:only-of-type {\n",
       "        vertical-align: middle;\n",
       "    }\n",
       "\n",
       "    .dataframe tbody tr th {\n",
       "        vertical-align: top;\n",
       "    }\n",
       "\n",
       "    .dataframe thead th {\n",
       "        text-align: right;\n",
       "    }\n",
       "</style>\n",
       "<table border=\"1\" class=\"dataframe\">\n",
       "  <thead>\n",
       "    <tr style=\"text-align: right;\">\n",
       "      <th></th>\n",
       "      <th>emp_id</th>\n",
       "      <th>name</th>\n",
       "      <th>dept</th>\n",
       "      <th>office_phone</th>\n",
       "      <th>start_date</th>\n",
       "      <th>salary</th>\n",
       "    </tr>\n",
       "  </thead>\n",
       "  <tbody>\n",
       "    <tr>\n",
       "      <th>0</th>\n",
       "      <td>30</td>\n",
       "      <td>Colby</td>\n",
       "      <td>Sales</td>\n",
       "      <td>(217)123-4500</td>\n",
       "      <td>2017-05-01</td>\n",
       "      <td>202000</td>\n",
       "    </tr>\n",
       "    <tr>\n",
       "      <th>1</th>\n",
       "      <td>40</td>\n",
       "      <td>Adam</td>\n",
       "      <td>Marketing</td>\n",
       "      <td>NaN</td>\n",
       "      <td>2018-02-01</td>\n",
       "      <td>185000</td>\n",
       "    </tr>\n",
       "    <tr>\n",
       "      <th>2</th>\n",
       "      <td>10</td>\n",
       "      <td>Eli</td>\n",
       "      <td>Sales</td>\n",
       "      <td>NaN</td>\n",
       "      <td>2020-08-01</td>\n",
       "      <td>240000</td>\n",
       "    </tr>\n",
       "    <tr>\n",
       "      <th>3</th>\n",
       "      <td>20</td>\n",
       "      <td>Dylan</td>\n",
       "      <td>Marketing</td>\n",
       "      <td>(217)987-6543</td>\n",
       "      <td>2019-12-01</td>\n",
       "      <td>160500</td>\n",
       "    </tr>\n",
       "  </tbody>\n",
       "</table>\n",
       "</div>"
      ],
      "text/plain": [
       "   emp_id   name       dept   office_phone  start_date  salary\n",
       "0      30  Colby      Sales  (217)123-4500  2017-05-01  202000\n",
       "1      40   Adam  Marketing            NaN  2018-02-01  185000\n",
       "2      10    Eli      Sales            NaN  2020-08-01  240000\n",
       "3      20  Dylan  Marketing  (217)987-6543  2019-12-01  160500"
      ]
     },
     "execution_count": 8,
     "metadata": {},
     "output_type": "execute_result"
    }
   ],
   "source": [
    "df_emp = df_emp_backup.copy()\n",
    "df_emp"
   ]
  },
  {
   "cell_type": "code",
   "execution_count": 9,
   "metadata": {
    "colab": {
     "base_uri": "https://localhost:8080/",
     "height": 0
    },
    "id": "Bu0dsJCEdxtS",
    "outputId": "ca7bf092-602d-47de-b875-641c2f28f174"
   },
   "outputs": [
    {
     "data": {
      "text/html": [
       "<div>\n",
       "<style scoped>\n",
       "    .dataframe tbody tr th:only-of-type {\n",
       "        vertical-align: middle;\n",
       "    }\n",
       "\n",
       "    .dataframe tbody tr th {\n",
       "        vertical-align: top;\n",
       "    }\n",
       "\n",
       "    .dataframe thead th {\n",
       "        text-align: right;\n",
       "    }\n",
       "</style>\n",
       "<table border=\"1\" class=\"dataframe\">\n",
       "  <thead>\n",
       "    <tr style=\"text-align: right;\">\n",
       "      <th></th>\n",
       "      <th>emp_id</th>\n",
       "      <th>name</th>\n",
       "      <th>dept</th>\n",
       "      <th>office_phone</th>\n",
       "      <th>start_date</th>\n",
       "      <th>salary</th>\n",
       "    </tr>\n",
       "  </thead>\n",
       "  <tbody>\n",
       "    <tr>\n",
       "      <th>1</th>\n",
       "      <td>40</td>\n",
       "      <td>Adam</td>\n",
       "      <td>Marketing</td>\n",
       "      <td>NaN</td>\n",
       "      <td>2018-02-01</td>\n",
       "      <td>185000</td>\n",
       "    </tr>\n",
       "    <tr>\n",
       "      <th>0</th>\n",
       "      <td>30</td>\n",
       "      <td>Colby</td>\n",
       "      <td>Sales</td>\n",
       "      <td>(217)123-4500</td>\n",
       "      <td>2017-05-01</td>\n",
       "      <td>202000</td>\n",
       "    </tr>\n",
       "    <tr>\n",
       "      <th>3</th>\n",
       "      <td>20</td>\n",
       "      <td>Dylan</td>\n",
       "      <td>Marketing</td>\n",
       "      <td>(217)987-6543</td>\n",
       "      <td>2019-12-01</td>\n",
       "      <td>160500</td>\n",
       "    </tr>\n",
       "    <tr>\n",
       "      <th>2</th>\n",
       "      <td>10</td>\n",
       "      <td>Eli</td>\n",
       "      <td>Sales</td>\n",
       "      <td>NaN</td>\n",
       "      <td>2020-08-01</td>\n",
       "      <td>240000</td>\n",
       "    </tr>\n",
       "  </tbody>\n",
       "</table>\n",
       "</div>"
      ],
      "text/plain": [
       "   emp_id   name       dept   office_phone  start_date  salary\n",
       "1      40   Adam  Marketing            NaN  2018-02-01  185000\n",
       "0      30  Colby      Sales  (217)123-4500  2017-05-01  202000\n",
       "3      20  Dylan  Marketing  (217)987-6543  2019-12-01  160500\n",
       "2      10    Eli      Sales            NaN  2020-08-01  240000"
      ]
     },
     "execution_count": 9,
     "metadata": {},
     "output_type": "execute_result"
    }
   ],
   "source": [
    "### BEGIN SOLUTION\n",
    "df_id_desc = df_emp.sort_values(\"emp_id\", ascending=False)\n",
    "### END SOLUTION\n",
    "\n",
    "df_id_desc"
   ]
  },
  {
   "cell_type": "markdown",
   "metadata": {
    "id": "SnHFAJIXdxtS"
   },
   "source": [
    "#### 🧭 Check Your Work\n",
    "\n",
    "- Once you're done, run the code cell below to test correctness.\n",
    "- ✔️ If the code cell runs without an error, you're good to move on.\n",
    "- ❌ If the code cell throws an error, go back and fix incorrect parts."
   ]
  },
  {
   "cell_type": "code",
   "execution_count": 10,
   "metadata": {
    "id": "PnlkN-rPdxtT",
    "nbgrader": {
     "grade": true,
     "grade_id": "challenge-02",
     "locked": true,
     "points": "1",
     "solution": false
    }
   },
   "outputs": [],
   "source": [
    "# Challenge 2 Autograder\n",
    "pd.testing.assert_frame_equal(df_id_desc.reset_index(drop=True),\n",
    "                              df_emp_backup.sort_values(\"_\".join([\"EmP\", \"iD\"]).lower(), ascending=bool(0)).reset_index(drop=True))"
   ]
  },
  {
   "cell_type": "markdown",
   "metadata": {
    "id": "T1qE36lqdxtT"
   },
   "source": [
    "---\n",
    "\n",
    "### 🎯 Challenge 3: Sort by `name` ascending\n",
    "\n",
    "#### 👇 Tasks\n",
    "\n",
    "- ✔️ Sort `df_emp` by `name` in **ascending** order.\n",
    "    - Store the result to a new variable named `df_name_asc`.\n",
    "- ✔️ `df_emp` should remain unaltered after your code.\n",
    "\n",
    "#### 🚀 Hints\n",
    "\n",
    "The code below sorts `my_dataframe` by `some_column` in ascending order and stores the sorted `DataFrame` to a new variable `sorted_dataframe`.\n",
    "\n",
    "```python\n",
    "sorted_dataframe = my_dataframe.sort_values(\"some_column\")\n",
    "```"
   ]
  },
  {
   "cell_type": "markdown",
   "metadata": {
    "id": "XwlvJZTedxtT"
   },
   "source": [
    "▶️ Run the code cell below to reset your `df_emp`."
   ]
  },
  {
   "cell_type": "code",
   "execution_count": 11,
   "metadata": {
    "colab": {
     "base_uri": "https://localhost:8080/",
     "height": 0
    },
    "id": "xiUaoPiadxtT",
    "outputId": "e8382e54-08c5-497b-8621-6950fc319f9a"
   },
   "outputs": [
    {
     "data": {
      "text/html": [
       "<div>\n",
       "<style scoped>\n",
       "    .dataframe tbody tr th:only-of-type {\n",
       "        vertical-align: middle;\n",
       "    }\n",
       "\n",
       "    .dataframe tbody tr th {\n",
       "        vertical-align: top;\n",
       "    }\n",
       "\n",
       "    .dataframe thead th {\n",
       "        text-align: right;\n",
       "    }\n",
       "</style>\n",
       "<table border=\"1\" class=\"dataframe\">\n",
       "  <thead>\n",
       "    <tr style=\"text-align: right;\">\n",
       "      <th></th>\n",
       "      <th>emp_id</th>\n",
       "      <th>name</th>\n",
       "      <th>dept</th>\n",
       "      <th>office_phone</th>\n",
       "      <th>start_date</th>\n",
       "      <th>salary</th>\n",
       "    </tr>\n",
       "  </thead>\n",
       "  <tbody>\n",
       "    <tr>\n",
       "      <th>0</th>\n",
       "      <td>30</td>\n",
       "      <td>Colby</td>\n",
       "      <td>Sales</td>\n",
       "      <td>(217)123-4500</td>\n",
       "      <td>2017-05-01</td>\n",
       "      <td>202000</td>\n",
       "    </tr>\n",
       "    <tr>\n",
       "      <th>1</th>\n",
       "      <td>40</td>\n",
       "      <td>Adam</td>\n",
       "      <td>Marketing</td>\n",
       "      <td>NaN</td>\n",
       "      <td>2018-02-01</td>\n",
       "      <td>185000</td>\n",
       "    </tr>\n",
       "    <tr>\n",
       "      <th>2</th>\n",
       "      <td>10</td>\n",
       "      <td>Eli</td>\n",
       "      <td>Sales</td>\n",
       "      <td>NaN</td>\n",
       "      <td>2020-08-01</td>\n",
       "      <td>240000</td>\n",
       "    </tr>\n",
       "    <tr>\n",
       "      <th>3</th>\n",
       "      <td>20</td>\n",
       "      <td>Dylan</td>\n",
       "      <td>Marketing</td>\n",
       "      <td>(217)987-6543</td>\n",
       "      <td>2019-12-01</td>\n",
       "      <td>160500</td>\n",
       "    </tr>\n",
       "  </tbody>\n",
       "</table>\n",
       "</div>"
      ],
      "text/plain": [
       "   emp_id   name       dept   office_phone  start_date  salary\n",
       "0      30  Colby      Sales  (217)123-4500  2017-05-01  202000\n",
       "1      40   Adam  Marketing            NaN  2018-02-01  185000\n",
       "2      10    Eli      Sales            NaN  2020-08-01  240000\n",
       "3      20  Dylan  Marketing  (217)987-6543  2019-12-01  160500"
      ]
     },
     "execution_count": 11,
     "metadata": {},
     "output_type": "execute_result"
    }
   ],
   "source": [
    "df_emp = df_emp_backup.copy()\n",
    "df_emp"
   ]
  },
  {
   "cell_type": "code",
   "execution_count": 12,
   "metadata": {
    "colab": {
     "base_uri": "https://localhost:8080/",
     "height": 0
    },
    "id": "456cgBHGdxtU",
    "outputId": "accf61c7-754e-4c15-fdd8-32f8580d0654"
   },
   "outputs": [
    {
     "data": {
      "text/html": [
       "<div>\n",
       "<style scoped>\n",
       "    .dataframe tbody tr th:only-of-type {\n",
       "        vertical-align: middle;\n",
       "    }\n",
       "\n",
       "    .dataframe tbody tr th {\n",
       "        vertical-align: top;\n",
       "    }\n",
       "\n",
       "    .dataframe thead th {\n",
       "        text-align: right;\n",
       "    }\n",
       "</style>\n",
       "<table border=\"1\" class=\"dataframe\">\n",
       "  <thead>\n",
       "    <tr style=\"text-align: right;\">\n",
       "      <th></th>\n",
       "      <th>emp_id</th>\n",
       "      <th>name</th>\n",
       "      <th>dept</th>\n",
       "      <th>office_phone</th>\n",
       "      <th>start_date</th>\n",
       "      <th>salary</th>\n",
       "    </tr>\n",
       "  </thead>\n",
       "  <tbody>\n",
       "    <tr>\n",
       "      <th>1</th>\n",
       "      <td>40</td>\n",
       "      <td>Adam</td>\n",
       "      <td>Marketing</td>\n",
       "      <td>NaN</td>\n",
       "      <td>2018-02-01</td>\n",
       "      <td>185000</td>\n",
       "    </tr>\n",
       "    <tr>\n",
       "      <th>0</th>\n",
       "      <td>30</td>\n",
       "      <td>Colby</td>\n",
       "      <td>Sales</td>\n",
       "      <td>(217)123-4500</td>\n",
       "      <td>2017-05-01</td>\n",
       "      <td>202000</td>\n",
       "    </tr>\n",
       "    <tr>\n",
       "      <th>3</th>\n",
       "      <td>20</td>\n",
       "      <td>Dylan</td>\n",
       "      <td>Marketing</td>\n",
       "      <td>(217)987-6543</td>\n",
       "      <td>2019-12-01</td>\n",
       "      <td>160500</td>\n",
       "    </tr>\n",
       "    <tr>\n",
       "      <th>2</th>\n",
       "      <td>10</td>\n",
       "      <td>Eli</td>\n",
       "      <td>Sales</td>\n",
       "      <td>NaN</td>\n",
       "      <td>2020-08-01</td>\n",
       "      <td>240000</td>\n",
       "    </tr>\n",
       "  </tbody>\n",
       "</table>\n",
       "</div>"
      ],
      "text/plain": [
       "   emp_id   name       dept   office_phone  start_date  salary\n",
       "1      40   Adam  Marketing            NaN  2018-02-01  185000\n",
       "0      30  Colby      Sales  (217)123-4500  2017-05-01  202000\n",
       "3      20  Dylan  Marketing  (217)987-6543  2019-12-01  160500\n",
       "2      10    Eli      Sales            NaN  2020-08-01  240000"
      ]
     },
     "execution_count": 12,
     "metadata": {},
     "output_type": "execute_result"
    }
   ],
   "source": [
    "### BEGIN SOLUTION\n",
    "df_name_asc = df_emp.sort_values(\"name\")\n",
    "### END SOLUTION\n",
    "\n",
    "df_name_asc"
   ]
  },
  {
   "cell_type": "markdown",
   "metadata": {
    "id": "zLU99CmIdxtU"
   },
   "source": [
    "#### 🧭 Check Your Work\n",
    "\n",
    "- Once you're done, run the code cell below to test correctness.\n",
    "- ✔️ If the code cell runs without an error, you're good to move on.\n",
    "- ❌ If the code cell throws an error, go back and fix incorrect parts."
   ]
  },
  {
   "cell_type": "code",
   "execution_count": 13,
   "metadata": {
    "id": "jWusT6CbdxtU",
    "nbgrader": {
     "grade": true,
     "grade_id": "challenge-03",
     "locked": true,
     "points": "1",
     "solution": false
    }
   },
   "outputs": [],
   "source": [
    "# Challenge 3 Autograder\n",
    "pd.testing.assert_frame_equal(df_name_asc.reset_index(drop=True),\n",
    "                              df_emp_backup.sort_values(\"\".join([\"nA\", \"Me\"]).lower()).reset_index(drop=True))"
   ]
  },
  {
   "cell_type": "markdown",
   "metadata": {
    "id": "C_1xrz-ldxtU"
   },
   "source": [
    "---\n",
    "\n",
    "### 🎯 Challenge 4: Sort by `name` descending\n",
    "\n",
    "#### 👇 Tasks\n",
    "\n",
    "- ✔️ Sort `df_emp` by `name` in **descending** order.\n",
    "    - Store the result to a new variable named `df_name_desc`.\n",
    "- ✔️ `df_emp` should remain unaltered after your code.\n",
    "\n",
    "#### 🚀 Hints\n",
    "\n",
    "The code below sorts `my_dataframe` by `some_column` in ascending order and stores the sorted `DataFrame` to a new variable `sorted_dataframe`.\n",
    "\n",
    "```python\n",
    "sorted_dataframe = my_dataframe.sort_values(\"some_column\")\n",
    "```"
   ]
  },
  {
   "cell_type": "markdown",
   "metadata": {
    "id": "bxH5Bk9ldxtV"
   },
   "source": [
    "▶️ Run the code cell below to reset your `df_emp`."
   ]
  },
  {
   "cell_type": "code",
   "execution_count": 14,
   "metadata": {
    "colab": {
     "base_uri": "https://localhost:8080/",
     "height": 0
    },
    "id": "-G30cyK6dxtV",
    "outputId": "98db338e-73cd-4320-acb8-69cf05d899c8"
   },
   "outputs": [
    {
     "data": {
      "text/html": [
       "<div>\n",
       "<style scoped>\n",
       "    .dataframe tbody tr th:only-of-type {\n",
       "        vertical-align: middle;\n",
       "    }\n",
       "\n",
       "    .dataframe tbody tr th {\n",
       "        vertical-align: top;\n",
       "    }\n",
       "\n",
       "    .dataframe thead th {\n",
       "        text-align: right;\n",
       "    }\n",
       "</style>\n",
       "<table border=\"1\" class=\"dataframe\">\n",
       "  <thead>\n",
       "    <tr style=\"text-align: right;\">\n",
       "      <th></th>\n",
       "      <th>emp_id</th>\n",
       "      <th>name</th>\n",
       "      <th>dept</th>\n",
       "      <th>office_phone</th>\n",
       "      <th>start_date</th>\n",
       "      <th>salary</th>\n",
       "    </tr>\n",
       "  </thead>\n",
       "  <tbody>\n",
       "    <tr>\n",
       "      <th>0</th>\n",
       "      <td>30</td>\n",
       "      <td>Colby</td>\n",
       "      <td>Sales</td>\n",
       "      <td>(217)123-4500</td>\n",
       "      <td>2017-05-01</td>\n",
       "      <td>202000</td>\n",
       "    </tr>\n",
       "    <tr>\n",
       "      <th>1</th>\n",
       "      <td>40</td>\n",
       "      <td>Adam</td>\n",
       "      <td>Marketing</td>\n",
       "      <td>NaN</td>\n",
       "      <td>2018-02-01</td>\n",
       "      <td>185000</td>\n",
       "    </tr>\n",
       "    <tr>\n",
       "      <th>2</th>\n",
       "      <td>10</td>\n",
       "      <td>Eli</td>\n",
       "      <td>Sales</td>\n",
       "      <td>NaN</td>\n",
       "      <td>2020-08-01</td>\n",
       "      <td>240000</td>\n",
       "    </tr>\n",
       "    <tr>\n",
       "      <th>3</th>\n",
       "      <td>20</td>\n",
       "      <td>Dylan</td>\n",
       "      <td>Marketing</td>\n",
       "      <td>(217)987-6543</td>\n",
       "      <td>2019-12-01</td>\n",
       "      <td>160500</td>\n",
       "    </tr>\n",
       "  </tbody>\n",
       "</table>\n",
       "</div>"
      ],
      "text/plain": [
       "   emp_id   name       dept   office_phone  start_date  salary\n",
       "0      30  Colby      Sales  (217)123-4500  2017-05-01  202000\n",
       "1      40   Adam  Marketing            NaN  2018-02-01  185000\n",
       "2      10    Eli      Sales            NaN  2020-08-01  240000\n",
       "3      20  Dylan  Marketing  (217)987-6543  2019-12-01  160500"
      ]
     },
     "execution_count": 14,
     "metadata": {},
     "output_type": "execute_result"
    }
   ],
   "source": [
    "df_emp = df_emp_backup.copy()\n",
    "df_emp"
   ]
  },
  {
   "cell_type": "code",
   "execution_count": 15,
   "metadata": {
    "colab": {
     "base_uri": "https://localhost:8080/",
     "height": 0
    },
    "id": "_46Rp7E7dxtV",
    "outputId": "cd723ec0-f5cd-4b84-8558-6e4cd9878a46"
   },
   "outputs": [
    {
     "data": {
      "text/html": [
       "<div>\n",
       "<style scoped>\n",
       "    .dataframe tbody tr th:only-of-type {\n",
       "        vertical-align: middle;\n",
       "    }\n",
       "\n",
       "    .dataframe tbody tr th {\n",
       "        vertical-align: top;\n",
       "    }\n",
       "\n",
       "    .dataframe thead th {\n",
       "        text-align: right;\n",
       "    }\n",
       "</style>\n",
       "<table border=\"1\" class=\"dataframe\">\n",
       "  <thead>\n",
       "    <tr style=\"text-align: right;\">\n",
       "      <th></th>\n",
       "      <th>emp_id</th>\n",
       "      <th>name</th>\n",
       "      <th>dept</th>\n",
       "      <th>office_phone</th>\n",
       "      <th>start_date</th>\n",
       "      <th>salary</th>\n",
       "    </tr>\n",
       "  </thead>\n",
       "  <tbody>\n",
       "    <tr>\n",
       "      <th>2</th>\n",
       "      <td>10</td>\n",
       "      <td>Eli</td>\n",
       "      <td>Sales</td>\n",
       "      <td>NaN</td>\n",
       "      <td>2020-08-01</td>\n",
       "      <td>240000</td>\n",
       "    </tr>\n",
       "    <tr>\n",
       "      <th>3</th>\n",
       "      <td>20</td>\n",
       "      <td>Dylan</td>\n",
       "      <td>Marketing</td>\n",
       "      <td>(217)987-6543</td>\n",
       "      <td>2019-12-01</td>\n",
       "      <td>160500</td>\n",
       "    </tr>\n",
       "    <tr>\n",
       "      <th>0</th>\n",
       "      <td>30</td>\n",
       "      <td>Colby</td>\n",
       "      <td>Sales</td>\n",
       "      <td>(217)123-4500</td>\n",
       "      <td>2017-05-01</td>\n",
       "      <td>202000</td>\n",
       "    </tr>\n",
       "    <tr>\n",
       "      <th>1</th>\n",
       "      <td>40</td>\n",
       "      <td>Adam</td>\n",
       "      <td>Marketing</td>\n",
       "      <td>NaN</td>\n",
       "      <td>2018-02-01</td>\n",
       "      <td>185000</td>\n",
       "    </tr>\n",
       "  </tbody>\n",
       "</table>\n",
       "</div>"
      ],
      "text/plain": [
       "   emp_id   name       dept   office_phone  start_date  salary\n",
       "2      10    Eli      Sales            NaN  2020-08-01  240000\n",
       "3      20  Dylan  Marketing  (217)987-6543  2019-12-01  160500\n",
       "0      30  Colby      Sales  (217)123-4500  2017-05-01  202000\n",
       "1      40   Adam  Marketing            NaN  2018-02-01  185000"
      ]
     },
     "execution_count": 15,
     "metadata": {},
     "output_type": "execute_result"
    }
   ],
   "source": [
    "### BEGIN SOLUTION\n",
    "df_name_desc = df_emp.sort_values(\"name\", ascending=False)\n",
    "### END SOLUTION\n",
    "\n",
    "df_name_desc"
   ]
  },
  {
   "cell_type": "markdown",
   "metadata": {
    "id": "VTTuTEEcdxtV"
   },
   "source": [
    "#### 🧭 Check Your Work\n",
    "\n",
    "- Once you're done, run the code cell below to test correctness.\n",
    "- ✔️ If the code cell runs without an error, you're good to move on.\n",
    "- ❌ If the code cell throws an error, go back and fix incorrect parts."
   ]
  },
  {
   "cell_type": "code",
   "execution_count": 16,
   "metadata": {
    "id": "p-cehg_NdxtW",
    "nbgrader": {
     "grade": true,
     "grade_id": "challenge-04",
     "locked": true,
     "points": "1",
     "solution": false
    }
   },
   "outputs": [],
   "source": [
    "# Challenge 4 Autograder\n",
    "pd.testing.assert_frame_equal(df_name_desc.reset_index(drop=True),\n",
    "                              df_emp_backup.sort_values(\"\".join([\"nA\", \"Me\"]).lower(), ascending=bool(0)).reset_index(drop=True))"
   ]
  },
  {
   "cell_type": "markdown",
   "metadata": {
    "id": "NLqGf3X-dxtW"
   },
   "source": [
    "---\n",
    "\n",
    "### 🎯 Challenge 5: Sort by `dept` descending and then by `start_date` ascending\n",
    "\n",
    "#### 👇 Tasks\n",
    "\n",
    "- ✔️ Sort `df_emp` by `dept` in **descending** order and then by `start_date` in **ascending** order for people within same departments.\n",
    "- ✔️ Store the sorted result to a new variable named `df_dept_desc_date_asc`.\n",
    "- ✔️ `df_emp` should remain unaltered after your code.\n",
    "\n",
    "#### 🚀 Hints\n",
    "\n",
    "The code below sorts `my_dataframe` by `some_column` in ascending order and then by `another_column` in descending order for rows with same `same_column` values. It stores the sorted `DataFrame` to a new variable named `sorted_dataframe`.\n",
    "\n",
    "```python\n",
    "sorted_dataframe = my_dataframe.sort_values([\"some_column\", \"another_column\"], ascending=[True, False])\n",
    "```"
   ]
  },
  {
   "cell_type": "markdown",
   "metadata": {
    "id": "KTwlFjPhdxtW"
   },
   "source": [
    "▶️ Run the code cell below to reset your `df_emp`."
   ]
  },
  {
   "cell_type": "code",
   "execution_count": 17,
   "metadata": {
    "colab": {
     "base_uri": "https://localhost:8080/",
     "height": 0
    },
    "id": "fhlZYDY7dxtW",
    "outputId": "7287a94b-f96c-4665-b32a-957c45fab471"
   },
   "outputs": [
    {
     "data": {
      "text/html": [
       "<div>\n",
       "<style scoped>\n",
       "    .dataframe tbody tr th:only-of-type {\n",
       "        vertical-align: middle;\n",
       "    }\n",
       "\n",
       "    .dataframe tbody tr th {\n",
       "        vertical-align: top;\n",
       "    }\n",
       "\n",
       "    .dataframe thead th {\n",
       "        text-align: right;\n",
       "    }\n",
       "</style>\n",
       "<table border=\"1\" class=\"dataframe\">\n",
       "  <thead>\n",
       "    <tr style=\"text-align: right;\">\n",
       "      <th></th>\n",
       "      <th>emp_id</th>\n",
       "      <th>name</th>\n",
       "      <th>dept</th>\n",
       "      <th>office_phone</th>\n",
       "      <th>start_date</th>\n",
       "      <th>salary</th>\n",
       "    </tr>\n",
       "  </thead>\n",
       "  <tbody>\n",
       "    <tr>\n",
       "      <th>0</th>\n",
       "      <td>30</td>\n",
       "      <td>Colby</td>\n",
       "      <td>Sales</td>\n",
       "      <td>(217)123-4500</td>\n",
       "      <td>2017-05-01</td>\n",
       "      <td>202000</td>\n",
       "    </tr>\n",
       "    <tr>\n",
       "      <th>1</th>\n",
       "      <td>40</td>\n",
       "      <td>Adam</td>\n",
       "      <td>Marketing</td>\n",
       "      <td>NaN</td>\n",
       "      <td>2018-02-01</td>\n",
       "      <td>185000</td>\n",
       "    </tr>\n",
       "    <tr>\n",
       "      <th>2</th>\n",
       "      <td>10</td>\n",
       "      <td>Eli</td>\n",
       "      <td>Sales</td>\n",
       "      <td>NaN</td>\n",
       "      <td>2020-08-01</td>\n",
       "      <td>240000</td>\n",
       "    </tr>\n",
       "    <tr>\n",
       "      <th>3</th>\n",
       "      <td>20</td>\n",
       "      <td>Dylan</td>\n",
       "      <td>Marketing</td>\n",
       "      <td>(217)987-6543</td>\n",
       "      <td>2019-12-01</td>\n",
       "      <td>160500</td>\n",
       "    </tr>\n",
       "  </tbody>\n",
       "</table>\n",
       "</div>"
      ],
      "text/plain": [
       "   emp_id   name       dept   office_phone  start_date  salary\n",
       "0      30  Colby      Sales  (217)123-4500  2017-05-01  202000\n",
       "1      40   Adam  Marketing            NaN  2018-02-01  185000\n",
       "2      10    Eli      Sales            NaN  2020-08-01  240000\n",
       "3      20  Dylan  Marketing  (217)987-6543  2019-12-01  160500"
      ]
     },
     "execution_count": 17,
     "metadata": {},
     "output_type": "execute_result"
    }
   ],
   "source": [
    "df_emp = df_emp_backup.copy()\n",
    "df_emp"
   ]
  },
  {
   "cell_type": "code",
   "execution_count": 18,
   "metadata": {
    "colab": {
     "base_uri": "https://localhost:8080/",
     "height": 0
    },
    "id": "z33VKI-GdxtX",
    "outputId": "c3cafc25-3869-41c1-ee26-75fc24698b5d"
   },
   "outputs": [
    {
     "data": {
      "text/html": [
       "<div>\n",
       "<style scoped>\n",
       "    .dataframe tbody tr th:only-of-type {\n",
       "        vertical-align: middle;\n",
       "    }\n",
       "\n",
       "    .dataframe tbody tr th {\n",
       "        vertical-align: top;\n",
       "    }\n",
       "\n",
       "    .dataframe thead th {\n",
       "        text-align: right;\n",
       "    }\n",
       "</style>\n",
       "<table border=\"1\" class=\"dataframe\">\n",
       "  <thead>\n",
       "    <tr style=\"text-align: right;\">\n",
       "      <th></th>\n",
       "      <th>emp_id</th>\n",
       "      <th>name</th>\n",
       "      <th>dept</th>\n",
       "      <th>office_phone</th>\n",
       "      <th>start_date</th>\n",
       "      <th>salary</th>\n",
       "    </tr>\n",
       "  </thead>\n",
       "  <tbody>\n",
       "    <tr>\n",
       "      <th>0</th>\n",
       "      <td>30</td>\n",
       "      <td>Colby</td>\n",
       "      <td>Sales</td>\n",
       "      <td>(217)123-4500</td>\n",
       "      <td>2017-05-01</td>\n",
       "      <td>202000</td>\n",
       "    </tr>\n",
       "    <tr>\n",
       "      <th>2</th>\n",
       "      <td>10</td>\n",
       "      <td>Eli</td>\n",
       "      <td>Sales</td>\n",
       "      <td>NaN</td>\n",
       "      <td>2020-08-01</td>\n",
       "      <td>240000</td>\n",
       "    </tr>\n",
       "    <tr>\n",
       "      <th>1</th>\n",
       "      <td>40</td>\n",
       "      <td>Adam</td>\n",
       "      <td>Marketing</td>\n",
       "      <td>NaN</td>\n",
       "      <td>2018-02-01</td>\n",
       "      <td>185000</td>\n",
       "    </tr>\n",
       "    <tr>\n",
       "      <th>3</th>\n",
       "      <td>20</td>\n",
       "      <td>Dylan</td>\n",
       "      <td>Marketing</td>\n",
       "      <td>(217)987-6543</td>\n",
       "      <td>2019-12-01</td>\n",
       "      <td>160500</td>\n",
       "    </tr>\n",
       "  </tbody>\n",
       "</table>\n",
       "</div>"
      ],
      "text/plain": [
       "   emp_id   name       dept   office_phone  start_date  salary\n",
       "0      30  Colby      Sales  (217)123-4500  2017-05-01  202000\n",
       "2      10    Eli      Sales            NaN  2020-08-01  240000\n",
       "1      40   Adam  Marketing            NaN  2018-02-01  185000\n",
       "3      20  Dylan  Marketing  (217)987-6543  2019-12-01  160500"
      ]
     },
     "execution_count": 18,
     "metadata": {},
     "output_type": "execute_result"
    }
   ],
   "source": [
    "### BEGIN SOLUTION\n",
    "df_dept_desc_date_asc = df_emp.sort_values([\"dept\", \"start_date\"], ascending=[False, True])\n",
    "### END SOLUTION\n",
    "\n",
    "df_dept_desc_date_asc"
   ]
  },
  {
   "cell_type": "markdown",
   "metadata": {
    "id": "JDsfs9QNdxtX"
   },
   "source": [
    "#### 🧭 Check Your Work\n",
    "\n",
    "- Once you're done, run the code cell below to test correctness.\n",
    "- ✔️ If the code cell runs without an error, you're good to move on.\n",
    "- ❌ If the code cell throws an error, go back and fix incorrect parts."
   ]
  },
  {
   "cell_type": "code",
   "execution_count": 19,
   "metadata": {
    "id": "jxem6OeOdxtX",
    "nbgrader": {
     "grade": true,
     "grade_id": "challenge-05",
     "locked": true,
     "points": "1",
     "solution": false
    }
   },
   "outputs": [],
   "source": [
    "# Challenge 5 Autograder\n",
    "pd.testing.assert_frame_equal(df_dept_desc_date_asc.reset_index(drop=True),\n",
    "                              df_emp_backup.sort_values([\"\".join([\"dE\", \"Pt\"]).lower(), \"_\".join([\"sTarT\", \"dAtE\"]).lower()], ascending=[bool(0), bool(1)]).reset_index(drop=True))"
   ]
  },
  {
   "cell_type": "markdown",
   "metadata": {
    "id": "94nWbHICdxtY"
   },
   "source": [
    "---\n",
    "\n",
    "### 🎯 Challenge 6: Sort by `dept` ascending and then by `salary` descending\n",
    "\n",
    "#### 👇 Tasks\n",
    "\n",
    "- ✔️ Sort `df_emp` by `dept` in **ascending** order and then by `salary` in **descending** order.\n",
    "    - Employees within a same department must be sorted by `salary` in descending order.\n",
    "    - Store the result to a new variable named `df_dept_asc_salary_desc`.\n",
    "- ✔️ `df_emp` should remain unaltered after your code.\n",
    "\n",
    "▶️ Run the code cell below to reset your `df_emp`."
   ]
  },
  {
   "cell_type": "code",
   "execution_count": 20,
   "metadata": {
    "colab": {
     "base_uri": "https://localhost:8080/",
     "height": 0
    },
    "id": "jtpXeDH4dxtY",
    "outputId": "2d450f6d-a707-4dfb-ec66-9c99a677c0cf"
   },
   "outputs": [
    {
     "data": {
      "text/html": [
       "<div>\n",
       "<style scoped>\n",
       "    .dataframe tbody tr th:only-of-type {\n",
       "        vertical-align: middle;\n",
       "    }\n",
       "\n",
       "    .dataframe tbody tr th {\n",
       "        vertical-align: top;\n",
       "    }\n",
       "\n",
       "    .dataframe thead th {\n",
       "        text-align: right;\n",
       "    }\n",
       "</style>\n",
       "<table border=\"1\" class=\"dataframe\">\n",
       "  <thead>\n",
       "    <tr style=\"text-align: right;\">\n",
       "      <th></th>\n",
       "      <th>emp_id</th>\n",
       "      <th>name</th>\n",
       "      <th>dept</th>\n",
       "      <th>office_phone</th>\n",
       "      <th>start_date</th>\n",
       "      <th>salary</th>\n",
       "    </tr>\n",
       "  </thead>\n",
       "  <tbody>\n",
       "    <tr>\n",
       "      <th>0</th>\n",
       "      <td>30</td>\n",
       "      <td>Colby</td>\n",
       "      <td>Sales</td>\n",
       "      <td>(217)123-4500</td>\n",
       "      <td>2017-05-01</td>\n",
       "      <td>202000</td>\n",
       "    </tr>\n",
       "    <tr>\n",
       "      <th>1</th>\n",
       "      <td>40</td>\n",
       "      <td>Adam</td>\n",
       "      <td>Marketing</td>\n",
       "      <td>NaN</td>\n",
       "      <td>2018-02-01</td>\n",
       "      <td>185000</td>\n",
       "    </tr>\n",
       "    <tr>\n",
       "      <th>2</th>\n",
       "      <td>10</td>\n",
       "      <td>Eli</td>\n",
       "      <td>Sales</td>\n",
       "      <td>NaN</td>\n",
       "      <td>2020-08-01</td>\n",
       "      <td>240000</td>\n",
       "    </tr>\n",
       "    <tr>\n",
       "      <th>3</th>\n",
       "      <td>20</td>\n",
       "      <td>Dylan</td>\n",
       "      <td>Marketing</td>\n",
       "      <td>(217)987-6543</td>\n",
       "      <td>2019-12-01</td>\n",
       "      <td>160500</td>\n",
       "    </tr>\n",
       "  </tbody>\n",
       "</table>\n",
       "</div>"
      ],
      "text/plain": [
       "   emp_id   name       dept   office_phone  start_date  salary\n",
       "0      30  Colby      Sales  (217)123-4500  2017-05-01  202000\n",
       "1      40   Adam  Marketing            NaN  2018-02-01  185000\n",
       "2      10    Eli      Sales            NaN  2020-08-01  240000\n",
       "3      20  Dylan  Marketing  (217)987-6543  2019-12-01  160500"
      ]
     },
     "execution_count": 20,
     "metadata": {},
     "output_type": "execute_result"
    }
   ],
   "source": [
    "df_emp = df_emp_backup.copy()\n",
    "df_emp"
   ]
  },
  {
   "cell_type": "code",
   "execution_count": 21,
   "metadata": {
    "colab": {
     "base_uri": "https://localhost:8080/",
     "height": 0
    },
    "id": "AJwXJhSHdxtY",
    "outputId": "7fb37bd2-678d-48f1-ef3f-f9b35076d7a7"
   },
   "outputs": [
    {
     "data": {
      "text/html": [
       "<div>\n",
       "<style scoped>\n",
       "    .dataframe tbody tr th:only-of-type {\n",
       "        vertical-align: middle;\n",
       "    }\n",
       "\n",
       "    .dataframe tbody tr th {\n",
       "        vertical-align: top;\n",
       "    }\n",
       "\n",
       "    .dataframe thead th {\n",
       "        text-align: right;\n",
       "    }\n",
       "</style>\n",
       "<table border=\"1\" class=\"dataframe\">\n",
       "  <thead>\n",
       "    <tr style=\"text-align: right;\">\n",
       "      <th></th>\n",
       "      <th>emp_id</th>\n",
       "      <th>name</th>\n",
       "      <th>dept</th>\n",
       "      <th>office_phone</th>\n",
       "      <th>start_date</th>\n",
       "      <th>salary</th>\n",
       "    </tr>\n",
       "  </thead>\n",
       "  <tbody>\n",
       "    <tr>\n",
       "      <th>1</th>\n",
       "      <td>40</td>\n",
       "      <td>Adam</td>\n",
       "      <td>Marketing</td>\n",
       "      <td>NaN</td>\n",
       "      <td>2018-02-01</td>\n",
       "      <td>185000</td>\n",
       "    </tr>\n",
       "    <tr>\n",
       "      <th>3</th>\n",
       "      <td>20</td>\n",
       "      <td>Dylan</td>\n",
       "      <td>Marketing</td>\n",
       "      <td>(217)987-6543</td>\n",
       "      <td>2019-12-01</td>\n",
       "      <td>160500</td>\n",
       "    </tr>\n",
       "    <tr>\n",
       "      <th>2</th>\n",
       "      <td>10</td>\n",
       "      <td>Eli</td>\n",
       "      <td>Sales</td>\n",
       "      <td>NaN</td>\n",
       "      <td>2020-08-01</td>\n",
       "      <td>240000</td>\n",
       "    </tr>\n",
       "    <tr>\n",
       "      <th>0</th>\n",
       "      <td>30</td>\n",
       "      <td>Colby</td>\n",
       "      <td>Sales</td>\n",
       "      <td>(217)123-4500</td>\n",
       "      <td>2017-05-01</td>\n",
       "      <td>202000</td>\n",
       "    </tr>\n",
       "  </tbody>\n",
       "</table>\n",
       "</div>"
      ],
      "text/plain": [
       "   emp_id   name       dept   office_phone  start_date  salary\n",
       "1      40   Adam  Marketing            NaN  2018-02-01  185000\n",
       "3      20  Dylan  Marketing  (217)987-6543  2019-12-01  160500\n",
       "2      10    Eli      Sales            NaN  2020-08-01  240000\n",
       "0      30  Colby      Sales  (217)123-4500  2017-05-01  202000"
      ]
     },
     "execution_count": 21,
     "metadata": {},
     "output_type": "execute_result"
    }
   ],
   "source": [
    "### BEGIN SOLUTION\n",
    "df_dept_asc_salary_desc = df_emp.sort_values([\"dept\", \"salary\"], ascending=[True, False])\n",
    "### END SOLUTION\n",
    "\n",
    "df_dept_asc_salary_desc"
   ]
  },
  {
   "cell_type": "markdown",
   "metadata": {
    "id": "VXdKlVnQdxtY"
   },
   "source": [
    "#### 🧭 Check Your Work\n",
    "\n",
    "- Once you're done, run the code cell below to test correctness.\n",
    "- ✔️ If the code cell runs without an error, you're good to move on.\n",
    "- ❌ If the code cell throws an error, go back and fix incorrect parts."
   ]
  },
  {
   "cell_type": "code",
   "execution_count": 22,
   "metadata": {
    "id": "baIehUbpdxtY",
    "nbgrader": {
     "grade": true,
     "grade_id": "challenge-06",
     "locked": true,
     "points": "1",
     "solution": false
    }
   },
   "outputs": [],
   "source": [
    "# Challenge 6 Autograder\n",
    "pd.testing.assert_frame_equal(df_dept_asc_salary_desc.reset_index(drop=True),\n",
    "                              df_emp_backup.sort_values([\"\".join([\"dE\", \"Pt\"]).lower(), \"sAlArY\".lower()], ascending=[bool(1), bool(0)]).reset_index(drop=True))"
   ]
  },
  {
   "cell_type": "markdown",
   "metadata": {
    "id": "bxgEkco6dxtZ"
   },
   "source": [
    "---\n",
    "\n",
    "### 🎯 Challenge 7: Sort by `salary` descending in-place\n",
    "\n",
    "#### 👇 Tasks\n",
    "\n",
    "- ✔️ Sort `df_emp` by `salary` in **descending** order *in-place*.\n",
    "    - Directly update `df_emp` without creating a new variable.\n",
    "    \n",
    "#### 🚀 Hints\n",
    "\n",
    "The code below sorts `my_dataframe` by `some_column` in descending order *in-place*.\n",
    "\n",
    "```python\n",
    "my_dataframe.sort_values(\"some_column\", ascending=False, inplace=True)\n",
    "```"
   ]
  },
  {
   "cell_type": "markdown",
   "metadata": {
    "id": "mViYuYhKdxtZ"
   },
   "source": [
    "▶️ Run the code cell below to reset your `df_emp`."
   ]
  },
  {
   "cell_type": "code",
   "execution_count": 23,
   "metadata": {
    "colab": {
     "base_uri": "https://localhost:8080/",
     "height": 0
    },
    "id": "F2f7d0XEdxtZ",
    "outputId": "aa7b70d1-1310-4b40-a93e-59a6eb4b38e3"
   },
   "outputs": [
    {
     "data": {
      "text/html": [
       "<div>\n",
       "<style scoped>\n",
       "    .dataframe tbody tr th:only-of-type {\n",
       "        vertical-align: middle;\n",
       "    }\n",
       "\n",
       "    .dataframe tbody tr th {\n",
       "        vertical-align: top;\n",
       "    }\n",
       "\n",
       "    .dataframe thead th {\n",
       "        text-align: right;\n",
       "    }\n",
       "</style>\n",
       "<table border=\"1\" class=\"dataframe\">\n",
       "  <thead>\n",
       "    <tr style=\"text-align: right;\">\n",
       "      <th></th>\n",
       "      <th>emp_id</th>\n",
       "      <th>name</th>\n",
       "      <th>dept</th>\n",
       "      <th>office_phone</th>\n",
       "      <th>start_date</th>\n",
       "      <th>salary</th>\n",
       "    </tr>\n",
       "  </thead>\n",
       "  <tbody>\n",
       "    <tr>\n",
       "      <th>0</th>\n",
       "      <td>30</td>\n",
       "      <td>Colby</td>\n",
       "      <td>Sales</td>\n",
       "      <td>(217)123-4500</td>\n",
       "      <td>2017-05-01</td>\n",
       "      <td>202000</td>\n",
       "    </tr>\n",
       "    <tr>\n",
       "      <th>1</th>\n",
       "      <td>40</td>\n",
       "      <td>Adam</td>\n",
       "      <td>Marketing</td>\n",
       "      <td>NaN</td>\n",
       "      <td>2018-02-01</td>\n",
       "      <td>185000</td>\n",
       "    </tr>\n",
       "    <tr>\n",
       "      <th>2</th>\n",
       "      <td>10</td>\n",
       "      <td>Eli</td>\n",
       "      <td>Sales</td>\n",
       "      <td>NaN</td>\n",
       "      <td>2020-08-01</td>\n",
       "      <td>240000</td>\n",
       "    </tr>\n",
       "    <tr>\n",
       "      <th>3</th>\n",
       "      <td>20</td>\n",
       "      <td>Dylan</td>\n",
       "      <td>Marketing</td>\n",
       "      <td>(217)987-6543</td>\n",
       "      <td>2019-12-01</td>\n",
       "      <td>160500</td>\n",
       "    </tr>\n",
       "  </tbody>\n",
       "</table>\n",
       "</div>"
      ],
      "text/plain": [
       "   emp_id   name       dept   office_phone  start_date  salary\n",
       "0      30  Colby      Sales  (217)123-4500  2017-05-01  202000\n",
       "1      40   Adam  Marketing            NaN  2018-02-01  185000\n",
       "2      10    Eli      Sales            NaN  2020-08-01  240000\n",
       "3      20  Dylan  Marketing  (217)987-6543  2019-12-01  160500"
      ]
     },
     "execution_count": 23,
     "metadata": {},
     "output_type": "execute_result"
    }
   ],
   "source": [
    "df_emp = df_emp_backup.copy()\n",
    "df_emp"
   ]
  },
  {
   "cell_type": "code",
   "execution_count": 24,
   "metadata": {
    "colab": {
     "base_uri": "https://localhost:8080/",
     "height": 0
    },
    "id": "4rOc85uudxtZ",
    "outputId": "1c4975f5-1de1-44d8-c3b4-d2f2993cbd53"
   },
   "outputs": [
    {
     "data": {
      "text/html": [
       "<div>\n",
       "<style scoped>\n",
       "    .dataframe tbody tr th:only-of-type {\n",
       "        vertical-align: middle;\n",
       "    }\n",
       "\n",
       "    .dataframe tbody tr th {\n",
       "        vertical-align: top;\n",
       "    }\n",
       "\n",
       "    .dataframe thead th {\n",
       "        text-align: right;\n",
       "    }\n",
       "</style>\n",
       "<table border=\"1\" class=\"dataframe\">\n",
       "  <thead>\n",
       "    <tr style=\"text-align: right;\">\n",
       "      <th></th>\n",
       "      <th>emp_id</th>\n",
       "      <th>name</th>\n",
       "      <th>dept</th>\n",
       "      <th>office_phone</th>\n",
       "      <th>start_date</th>\n",
       "      <th>salary</th>\n",
       "    </tr>\n",
       "  </thead>\n",
       "  <tbody>\n",
       "    <tr>\n",
       "      <th>2</th>\n",
       "      <td>10</td>\n",
       "      <td>Eli</td>\n",
       "      <td>Sales</td>\n",
       "      <td>NaN</td>\n",
       "      <td>2020-08-01</td>\n",
       "      <td>240000</td>\n",
       "    </tr>\n",
       "    <tr>\n",
       "      <th>0</th>\n",
       "      <td>30</td>\n",
       "      <td>Colby</td>\n",
       "      <td>Sales</td>\n",
       "      <td>(217)123-4500</td>\n",
       "      <td>2017-05-01</td>\n",
       "      <td>202000</td>\n",
       "    </tr>\n",
       "    <tr>\n",
       "      <th>1</th>\n",
       "      <td>40</td>\n",
       "      <td>Adam</td>\n",
       "      <td>Marketing</td>\n",
       "      <td>NaN</td>\n",
       "      <td>2018-02-01</td>\n",
       "      <td>185000</td>\n",
       "    </tr>\n",
       "    <tr>\n",
       "      <th>3</th>\n",
       "      <td>20</td>\n",
       "      <td>Dylan</td>\n",
       "      <td>Marketing</td>\n",
       "      <td>(217)987-6543</td>\n",
       "      <td>2019-12-01</td>\n",
       "      <td>160500</td>\n",
       "    </tr>\n",
       "  </tbody>\n",
       "</table>\n",
       "</div>"
      ],
      "text/plain": [
       "   emp_id   name       dept   office_phone  start_date  salary\n",
       "2      10    Eli      Sales            NaN  2020-08-01  240000\n",
       "0      30  Colby      Sales  (217)123-4500  2017-05-01  202000\n",
       "1      40   Adam  Marketing            NaN  2018-02-01  185000\n",
       "3      20  Dylan  Marketing  (217)987-6543  2019-12-01  160500"
      ]
     },
     "execution_count": 24,
     "metadata": {},
     "output_type": "execute_result"
    }
   ],
   "source": [
    "### BEGIN SOLUTION\n",
    "df_emp.sort_values(\"salary\", ascending=False, inplace=True)\n",
    "### END SOLUTION\n",
    "\n",
    "df_emp"
   ]
  },
  {
   "cell_type": "markdown",
   "metadata": {
    "id": "-jVoOHlodxta"
   },
   "source": [
    "#### 🧭 Check Your Work\n",
    "\n",
    "- Once you're done, run the code cell below to test correctness.\n",
    "- ✔️ If the code cell runs without an error, you're good to move on.\n",
    "- ❌ If the code cell throws an error, go back and fix incorrect parts."
   ]
  },
  {
   "cell_type": "code",
   "execution_count": 25,
   "metadata": {
    "id": "mPfgWwLxdxta",
    "nbgrader": {
     "grade": true,
     "grade_id": "challenge-07",
     "locked": true,
     "points": "1",
     "solution": false
    }
   },
   "outputs": [],
   "source": [
    "# Challenge 7 Autograder\n",
    "pd.testing.assert_frame_equal(df_emp.reset_index(drop=True),\n",
    "                              df_emp_backup.sort_values(\"\".join([\"sAl\", \"aRy\"]).lower(), ascending=bool(0)).reset_index(drop=True))"
   ]
  },
  {
   "cell_type": "markdown",
   "metadata": {
    "id": "4hykWQyBdxta"
   },
   "source": [
    "---\n",
    "\n",
    "### 🎯 Challenge 8: Sort by `department` and `name` both descending in-place\n",
    "\n",
    "#### 👇 Tasks\n",
    "\n",
    "- ✔️ Sort `df_emp` by `dept` and then by `name` for employees in the same department.\n",
    "    - Sort in **descending** orders for both columns *in-place*.\n",
    "    - Directly update `df_emp` without creating a new variable.\n",
    "    \n",
    "#### 🚀 Hints\n",
    "\n",
    "The code below sorts `my_dataframe` by `some_column` and `another_column` in descending order *in-place*.\n",
    "\n",
    "```python\n",
    "my_dataframe.sort_values([\"some_column\", \"another_column\"], ascending=[False, False], inplace=True)\n",
    "```"
   ]
  },
  {
   "cell_type": "markdown",
   "metadata": {
    "id": "njswLbOxdxta"
   },
   "source": [
    "▶️ Run the code cell below to reset your `df_emp`."
   ]
  },
  {
   "cell_type": "code",
   "execution_count": 26,
   "metadata": {
    "colab": {
     "base_uri": "https://localhost:8080/",
     "height": 0
    },
    "id": "M5Pv3k7Sdxtb",
    "outputId": "40586ef0-8212-4267-ee9a-77190abaf43d"
   },
   "outputs": [
    {
     "data": {
      "text/html": [
       "<div>\n",
       "<style scoped>\n",
       "    .dataframe tbody tr th:only-of-type {\n",
       "        vertical-align: middle;\n",
       "    }\n",
       "\n",
       "    .dataframe tbody tr th {\n",
       "        vertical-align: top;\n",
       "    }\n",
       "\n",
       "    .dataframe thead th {\n",
       "        text-align: right;\n",
       "    }\n",
       "</style>\n",
       "<table border=\"1\" class=\"dataframe\">\n",
       "  <thead>\n",
       "    <tr style=\"text-align: right;\">\n",
       "      <th></th>\n",
       "      <th>emp_id</th>\n",
       "      <th>name</th>\n",
       "      <th>dept</th>\n",
       "      <th>office_phone</th>\n",
       "      <th>start_date</th>\n",
       "      <th>salary</th>\n",
       "    </tr>\n",
       "  </thead>\n",
       "  <tbody>\n",
       "    <tr>\n",
       "      <th>0</th>\n",
       "      <td>30</td>\n",
       "      <td>Colby</td>\n",
       "      <td>Sales</td>\n",
       "      <td>(217)123-4500</td>\n",
       "      <td>2017-05-01</td>\n",
       "      <td>202000</td>\n",
       "    </tr>\n",
       "    <tr>\n",
       "      <th>1</th>\n",
       "      <td>40</td>\n",
       "      <td>Adam</td>\n",
       "      <td>Marketing</td>\n",
       "      <td>NaN</td>\n",
       "      <td>2018-02-01</td>\n",
       "      <td>185000</td>\n",
       "    </tr>\n",
       "    <tr>\n",
       "      <th>2</th>\n",
       "      <td>10</td>\n",
       "      <td>Eli</td>\n",
       "      <td>Sales</td>\n",
       "      <td>NaN</td>\n",
       "      <td>2020-08-01</td>\n",
       "      <td>240000</td>\n",
       "    </tr>\n",
       "    <tr>\n",
       "      <th>3</th>\n",
       "      <td>20</td>\n",
       "      <td>Dylan</td>\n",
       "      <td>Marketing</td>\n",
       "      <td>(217)987-6543</td>\n",
       "      <td>2019-12-01</td>\n",
       "      <td>160500</td>\n",
       "    </tr>\n",
       "  </tbody>\n",
       "</table>\n",
       "</div>"
      ],
      "text/plain": [
       "   emp_id   name       dept   office_phone  start_date  salary\n",
       "0      30  Colby      Sales  (217)123-4500  2017-05-01  202000\n",
       "1      40   Adam  Marketing            NaN  2018-02-01  185000\n",
       "2      10    Eli      Sales            NaN  2020-08-01  240000\n",
       "3      20  Dylan  Marketing  (217)987-6543  2019-12-01  160500"
      ]
     },
     "execution_count": 26,
     "metadata": {},
     "output_type": "execute_result"
    }
   ],
   "source": [
    "df_emp = df_emp_backup.copy()\n",
    "df_emp"
   ]
  },
  {
   "cell_type": "code",
   "execution_count": 27,
   "metadata": {
    "colab": {
     "base_uri": "https://localhost:8080/",
     "height": 0
    },
    "id": "GxOHmUX6dxtb",
    "outputId": "8fba0b89-e28b-468d-c316-3e0d17b83fd0"
   },
   "outputs": [
    {
     "data": {
      "text/html": [
       "<div>\n",
       "<style scoped>\n",
       "    .dataframe tbody tr th:only-of-type {\n",
       "        vertical-align: middle;\n",
       "    }\n",
       "\n",
       "    .dataframe tbody tr th {\n",
       "        vertical-align: top;\n",
       "    }\n",
       "\n",
       "    .dataframe thead th {\n",
       "        text-align: right;\n",
       "    }\n",
       "</style>\n",
       "<table border=\"1\" class=\"dataframe\">\n",
       "  <thead>\n",
       "    <tr style=\"text-align: right;\">\n",
       "      <th></th>\n",
       "      <th>emp_id</th>\n",
       "      <th>name</th>\n",
       "      <th>dept</th>\n",
       "      <th>office_phone</th>\n",
       "      <th>start_date</th>\n",
       "      <th>salary</th>\n",
       "    </tr>\n",
       "  </thead>\n",
       "  <tbody>\n",
       "    <tr>\n",
       "      <th>2</th>\n",
       "      <td>10</td>\n",
       "      <td>Eli</td>\n",
       "      <td>Sales</td>\n",
       "      <td>NaN</td>\n",
       "      <td>2020-08-01</td>\n",
       "      <td>240000</td>\n",
       "    </tr>\n",
       "    <tr>\n",
       "      <th>0</th>\n",
       "      <td>30</td>\n",
       "      <td>Colby</td>\n",
       "      <td>Sales</td>\n",
       "      <td>(217)123-4500</td>\n",
       "      <td>2017-05-01</td>\n",
       "      <td>202000</td>\n",
       "    </tr>\n",
       "    <tr>\n",
       "      <th>3</th>\n",
       "      <td>20</td>\n",
       "      <td>Dylan</td>\n",
       "      <td>Marketing</td>\n",
       "      <td>(217)987-6543</td>\n",
       "      <td>2019-12-01</td>\n",
       "      <td>160500</td>\n",
       "    </tr>\n",
       "    <tr>\n",
       "      <th>1</th>\n",
       "      <td>40</td>\n",
       "      <td>Adam</td>\n",
       "      <td>Marketing</td>\n",
       "      <td>NaN</td>\n",
       "      <td>2018-02-01</td>\n",
       "      <td>185000</td>\n",
       "    </tr>\n",
       "  </tbody>\n",
       "</table>\n",
       "</div>"
      ],
      "text/plain": [
       "   emp_id   name       dept   office_phone  start_date  salary\n",
       "2      10    Eli      Sales            NaN  2020-08-01  240000\n",
       "0      30  Colby      Sales  (217)123-4500  2017-05-01  202000\n",
       "3      20  Dylan  Marketing  (217)987-6543  2019-12-01  160500\n",
       "1      40   Adam  Marketing            NaN  2018-02-01  185000"
      ]
     },
     "execution_count": 27,
     "metadata": {},
     "output_type": "execute_result"
    }
   ],
   "source": [
    "### BEGIN SOLUTION\n",
    "df_emp.sort_values([\"dept\", \"name\"], ascending=[False, False], inplace=True)\n",
    "### END SOLUTION\n",
    "\n",
    "df_emp"
   ]
  },
  {
   "cell_type": "markdown",
   "metadata": {
    "id": "oXYe2ZMGdxtb"
   },
   "source": [
    "#### 🧭 Check Your Work\n",
    "\n",
    "- Once you're done, run the code cell below to test correctness.\n",
    "- ✔️ If the code cell runs without an error, you're good to move on.\n",
    "- ❌ If the code cell throws an error, go back and fix incorrect parts."
   ]
  },
  {
   "cell_type": "code",
   "execution_count": 28,
   "metadata": {
    "id": "665n8kvGdxtb",
    "nbgrader": {
     "grade": true,
     "grade_id": "challenge-08",
     "locked": true,
     "points": "1",
     "solution": false
    }
   },
   "outputs": [],
   "source": [
    "# Challenge 8 Autograder\n",
    "pd.testing.assert_frame_equal(df_emp.reset_index(drop=True),\n",
    "                              df_emp_backup.sort_values([\"\".join([\"dE\", \"Pt\"]).lower(), (\"nA\" + \"Me\").lower()], ascending=[bool(0), bool(0)]).reset_index(drop=True))"
   ]
  },
  {
   "cell_type": "markdown",
   "metadata": {
    "id": "pBpqGW4Qdxtc"
   },
   "source": [
    "---\n",
    "\n",
    "## 👉 Pandas Data Types\n",
    "\n",
    "Most of Pandas data types stems from NumPy's dtypes. NumPy supports the following data types:\n",
    "\n",
    "- `float`\n",
    "- `int`\n",
    "- `bool`\n",
    "- `timedelta64[ns]`\n",
    "- `datetime64[ns]`\n",
    "\n",
    "Pandas extend NumPy's type systems. Please refer to the [relevant Pandas documentation page](https://pandas.pydata.org/docs/user_guide/basics.html#dtypes) for the list of all extension types."
   ]
  },
  {
   "cell_type": "markdown",
   "metadata": {
    "id": "jx9Fuxrodxtc"
   },
   "source": [
    "You can check the data types of each column using the `dtypes` property."
   ]
  },
  {
   "cell_type": "code",
   "execution_count": 29,
   "metadata": {
    "colab": {
     "base_uri": "https://localhost:8080/"
    },
    "id": "o96fg8-9dxtc",
    "outputId": "4531ea95-c7c4-429a-adc9-2dffba798155"
   },
   "outputs": [
    {
     "data": {
      "text/plain": [
       "emp_id           int64\n",
       "name            object\n",
       "dept            object\n",
       "office_phone    object\n",
       "start_date      object\n",
       "salary           int64\n",
       "dtype: object"
      ]
     },
     "execution_count": 29,
     "metadata": {},
     "output_type": "execute_result"
    }
   ],
   "source": [
    "df_emp.dtypes"
   ]
  },
  {
   "cell_type": "markdown",
   "metadata": {
    "id": "RZ8AAme0dxtc"
   },
   "source": [
    "To retrieve the data type of a `Series`, access the `dtype` property."
   ]
  },
  {
   "cell_type": "code",
   "execution_count": 30,
   "metadata": {
    "colab": {
     "base_uri": "https://localhost:8080/",
     "height": 35
    },
    "id": "zQ5YRApQdxtc",
    "outputId": "e2908b44-311a-49f4-c203-0de26bb63226"
   },
   "outputs": [
    {
     "data": {
      "text/plain": [
       "'object'"
      ]
     },
     "execution_count": 30,
     "metadata": {},
     "output_type": "execute_result"
    }
   ],
   "source": [
    "str(df_emp['name'].dtype)"
   ]
  },
  {
   "cell_type": "markdown",
   "metadata": {
    "id": "I3OQ0n9Fdxtd"
   },
   "source": [
    "Note that the older versions of Pandas did not have an explicit `string` type and stored strings as `object`s.\n",
    "\n",
    "Beginning with Pandas `1.0.0`, Pandas supports an explicit type for strings called `StringDtype`."
   ]
  },
  {
   "cell_type": "code",
   "execution_count": 31,
   "metadata": {
    "colab": {
     "base_uri": "https://localhost:8080/"
    },
    "id": "Nd5i0g2qdxtd",
    "outputId": "d3f6499b-3de9-4b6d-8bc5-329a34aceef9"
   },
   "outputs": [
    {
     "data": {
      "text/plain": [
       "string[python]"
      ]
     },
     "execution_count": 31,
     "metadata": {},
     "output_type": "execute_result"
    }
   ],
   "source": [
    "(df_emp['name'].astype('string')).dtype"
   ]
  },
  {
   "cell_type": "markdown",
   "metadata": {
    "id": "GfgfDjHFdxtd"
   },
   "source": [
    "---\n",
    "\n",
    "## 👉 Renaming Column(s)\n",
    "\n",
    "You can rename a column using `df.rename(columns={\"name_before\": \"name_after\"})`. Similar to many Pandas operations, you can perform a rename operation either in-place or out-of-place.\n",
    "\n",
    "```python\n",
    "# Rename a column and return a new DataFrame without modifying the original\n",
    "# df's column names will remain unchanged\n",
    "df_renamed = df.rename(columns={\"name_before\": \"name_after\"})\n",
    "\n",
    "# Rename a column and update the original DataFrame\n",
    "df.rename(columns={\"name_before\": \"name_after\"}, inplace=True)\n",
    "```"
   ]
  },
  {
   "cell_type": "markdown",
   "metadata": {
    "id": "i52-gE8zdxtd"
   },
   "source": [
    "---\n",
    "\n",
    "### 🎯 Challenge 9: Rename `office_phone` to `phone_num`\n",
    "\n",
    "#### 👇 Tasks\n",
    "\n",
    "- ✔️ Rename `office_phone` column to `phone_num`.\n",
    "- ✔️ Store the result to a new variable named `df_renamed`.\n",
    "- ✔️ Your original DataFrame (`df_emp`) should remain unaltered.\n",
    "\n",
    "#### 🚀 Hints\n",
    "\n",
    "Use the following code to rename `col_before` column to `col_after` *out-of-place*.\n",
    "\n",
    "```python\n",
    "renamed_dataframe = my_dataframe.rename(columns={\"col_before\": \"col_after\"})\n",
    "```"
   ]
  },
  {
   "cell_type": "markdown",
   "metadata": {
    "id": "a8v1LUSzdxtd"
   },
   "source": [
    "▶️ Run the code cell below to reset your `df_emp`."
   ]
  },
  {
   "cell_type": "code",
   "execution_count": 32,
   "metadata": {
    "colab": {
     "base_uri": "https://localhost:8080/",
     "height": 175
    },
    "id": "ZOgo2dHydxte",
    "outputId": "5414bca5-2d0d-481d-eab1-2b60dfd6db12"
   },
   "outputs": [
    {
     "data": {
      "text/html": [
       "<div>\n",
       "<style scoped>\n",
       "    .dataframe tbody tr th:only-of-type {\n",
       "        vertical-align: middle;\n",
       "    }\n",
       "\n",
       "    .dataframe tbody tr th {\n",
       "        vertical-align: top;\n",
       "    }\n",
       "\n",
       "    .dataframe thead th {\n",
       "        text-align: right;\n",
       "    }\n",
       "</style>\n",
       "<table border=\"1\" class=\"dataframe\">\n",
       "  <thead>\n",
       "    <tr style=\"text-align: right;\">\n",
       "      <th></th>\n",
       "      <th>emp_id</th>\n",
       "      <th>name</th>\n",
       "      <th>dept</th>\n",
       "      <th>office_phone</th>\n",
       "      <th>start_date</th>\n",
       "      <th>salary</th>\n",
       "    </tr>\n",
       "  </thead>\n",
       "  <tbody>\n",
       "    <tr>\n",
       "      <th>0</th>\n",
       "      <td>30</td>\n",
       "      <td>Colby</td>\n",
       "      <td>Sales</td>\n",
       "      <td>(217)123-4500</td>\n",
       "      <td>2017-05-01</td>\n",
       "      <td>202000</td>\n",
       "    </tr>\n",
       "    <tr>\n",
       "      <th>1</th>\n",
       "      <td>40</td>\n",
       "      <td>Adam</td>\n",
       "      <td>Marketing</td>\n",
       "      <td>NaN</td>\n",
       "      <td>2018-02-01</td>\n",
       "      <td>185000</td>\n",
       "    </tr>\n",
       "    <tr>\n",
       "      <th>2</th>\n",
       "      <td>10</td>\n",
       "      <td>Eli</td>\n",
       "      <td>Sales</td>\n",
       "      <td>NaN</td>\n",
       "      <td>2020-08-01</td>\n",
       "      <td>240000</td>\n",
       "    </tr>\n",
       "    <tr>\n",
       "      <th>3</th>\n",
       "      <td>20</td>\n",
       "      <td>Dylan</td>\n",
       "      <td>Marketing</td>\n",
       "      <td>(217)987-6543</td>\n",
       "      <td>2019-12-01</td>\n",
       "      <td>160500</td>\n",
       "    </tr>\n",
       "  </tbody>\n",
       "</table>\n",
       "</div>"
      ],
      "text/plain": [
       "   emp_id   name       dept   office_phone  start_date  salary\n",
       "0      30  Colby      Sales  (217)123-4500  2017-05-01  202000\n",
       "1      40   Adam  Marketing            NaN  2018-02-01  185000\n",
       "2      10    Eli      Sales            NaN  2020-08-01  240000\n",
       "3      20  Dylan  Marketing  (217)987-6543  2019-12-01  160500"
      ]
     },
     "execution_count": 32,
     "metadata": {},
     "output_type": "execute_result"
    }
   ],
   "source": [
    "df_emp = df_emp_backup.copy()\n",
    "df_emp"
   ]
  },
  {
   "cell_type": "code",
   "execution_count": 33,
   "metadata": {
    "colab": {
     "base_uri": "https://localhost:8080/",
     "height": 175
    },
    "id": "8DKNfKqWdxte",
    "outputId": "5edfb5dd-092b-4a2e-b8a2-8e3415c6b4ab"
   },
   "outputs": [
    {
     "data": {
      "text/html": [
       "<div>\n",
       "<style scoped>\n",
       "    .dataframe tbody tr th:only-of-type {\n",
       "        vertical-align: middle;\n",
       "    }\n",
       "\n",
       "    .dataframe tbody tr th {\n",
       "        vertical-align: top;\n",
       "    }\n",
       "\n",
       "    .dataframe thead th {\n",
       "        text-align: right;\n",
       "    }\n",
       "</style>\n",
       "<table border=\"1\" class=\"dataframe\">\n",
       "  <thead>\n",
       "    <tr style=\"text-align: right;\">\n",
       "      <th></th>\n",
       "      <th>emp_id</th>\n",
       "      <th>name</th>\n",
       "      <th>dept</th>\n",
       "      <th>phone_num</th>\n",
       "      <th>start_date</th>\n",
       "      <th>salary</th>\n",
       "    </tr>\n",
       "  </thead>\n",
       "  <tbody>\n",
       "    <tr>\n",
       "      <th>0</th>\n",
       "      <td>30</td>\n",
       "      <td>Colby</td>\n",
       "      <td>Sales</td>\n",
       "      <td>(217)123-4500</td>\n",
       "      <td>2017-05-01</td>\n",
       "      <td>202000</td>\n",
       "    </tr>\n",
       "    <tr>\n",
       "      <th>1</th>\n",
       "      <td>40</td>\n",
       "      <td>Adam</td>\n",
       "      <td>Marketing</td>\n",
       "      <td>NaN</td>\n",
       "      <td>2018-02-01</td>\n",
       "      <td>185000</td>\n",
       "    </tr>\n",
       "    <tr>\n",
       "      <th>2</th>\n",
       "      <td>10</td>\n",
       "      <td>Eli</td>\n",
       "      <td>Sales</td>\n",
       "      <td>NaN</td>\n",
       "      <td>2020-08-01</td>\n",
       "      <td>240000</td>\n",
       "    </tr>\n",
       "    <tr>\n",
       "      <th>3</th>\n",
       "      <td>20</td>\n",
       "      <td>Dylan</td>\n",
       "      <td>Marketing</td>\n",
       "      <td>(217)987-6543</td>\n",
       "      <td>2019-12-01</td>\n",
       "      <td>160500</td>\n",
       "    </tr>\n",
       "  </tbody>\n",
       "</table>\n",
       "</div>"
      ],
      "text/plain": [
       "   emp_id   name       dept      phone_num  start_date  salary\n",
       "0      30  Colby      Sales  (217)123-4500  2017-05-01  202000\n",
       "1      40   Adam  Marketing            NaN  2018-02-01  185000\n",
       "2      10    Eli      Sales            NaN  2020-08-01  240000\n",
       "3      20  Dylan  Marketing  (217)987-6543  2019-12-01  160500"
      ]
     },
     "execution_count": 33,
     "metadata": {},
     "output_type": "execute_result"
    }
   ],
   "source": [
    "### BEGIN SOLUTION\n",
    "df_renamed = df_emp.rename(columns={\"office_phone\": \"phone_num\"})\n",
    "### END SOLUTION\n",
    "\n",
    "df_renamed"
   ]
  },
  {
   "cell_type": "markdown",
   "metadata": {
    "id": "SI8snp6Xdxte"
   },
   "source": [
    "#### 🧭 Check Your Work\n",
    "\n",
    "- Once you're done, run the code cell below to test correctness.\n",
    "- ✔️ If the code cell runs without an error, you're good to move on.\n",
    "- ❌ If the code cell throws an error, go back and fix incorrect parts."
   ]
  },
  {
   "cell_type": "code",
   "execution_count": 34,
   "metadata": {
    "id": "SNuzsbDvdxte",
    "nbgrader": {
     "grade": true,
     "grade_id": "challenge-09",
     "locked": true,
     "points": "1",
     "solution": false
    }
   },
   "outputs": [],
   "source": [
    "# Challenge 9 Autograder\n",
    "tc.assertEqual(df_emp.columns.tolist(), df_emp_backup.columns.tolist(), \"Did you rename the column in-place? The original DataFrame should not be modified.\")\n",
    "tc.assertEqual(df_renamed.columns.tolist(), [\"emp_id\", \"name\", \"dept\", \"phone_num\", \"start_date\", \"salary\"])"
   ]
  },
  {
   "cell_type": "markdown",
   "metadata": {
    "id": "yi4owfA9dxte"
   },
   "source": [
    "---\n",
    "\n",
    "### 🎯 Challenge 10: Rename `office_phone` to `phone_num` **in-place**\n",
    "\n",
    "#### 👇 Tasks\n",
    "\n",
    "- ✔️ Rename `office_phone` column to `phone_num` *in-place*.\n",
    "    - Directly update `df_emp` without creating a new variable.\n",
    "    \n",
    "#### 🚀 Hints\n",
    "\n",
    "Use the following code to rename `col_before` column to `col_after` *in-place*.\n",
    "\n",
    "```python\n",
    "my_dataframe.rename(columns={\"col_before\": \"col_after\"}, inplace=True)\n",
    "```"
   ]
  },
  {
   "cell_type": "markdown",
   "metadata": {
    "id": "PPCn6oZYdxtf"
   },
   "source": [
    "▶️ Run the code cell below to reset your `df_emp`."
   ]
  },
  {
   "cell_type": "code",
   "execution_count": 35,
   "metadata": {
    "colab": {
     "base_uri": "https://localhost:8080/",
     "height": 0
    },
    "id": "G8JUpO5mdxtf",
    "outputId": "be8a0572-ebdf-4142-f1f5-805c41293971"
   },
   "outputs": [
    {
     "data": {
      "text/html": [
       "<div>\n",
       "<style scoped>\n",
       "    .dataframe tbody tr th:only-of-type {\n",
       "        vertical-align: middle;\n",
       "    }\n",
       "\n",
       "    .dataframe tbody tr th {\n",
       "        vertical-align: top;\n",
       "    }\n",
       "\n",
       "    .dataframe thead th {\n",
       "        text-align: right;\n",
       "    }\n",
       "</style>\n",
       "<table border=\"1\" class=\"dataframe\">\n",
       "  <thead>\n",
       "    <tr style=\"text-align: right;\">\n",
       "      <th></th>\n",
       "      <th>emp_id</th>\n",
       "      <th>name</th>\n",
       "      <th>dept</th>\n",
       "      <th>office_phone</th>\n",
       "      <th>start_date</th>\n",
       "      <th>salary</th>\n",
       "    </tr>\n",
       "  </thead>\n",
       "  <tbody>\n",
       "    <tr>\n",
       "      <th>0</th>\n",
       "      <td>30</td>\n",
       "      <td>Colby</td>\n",
       "      <td>Sales</td>\n",
       "      <td>(217)123-4500</td>\n",
       "      <td>2017-05-01</td>\n",
       "      <td>202000</td>\n",
       "    </tr>\n",
       "    <tr>\n",
       "      <th>1</th>\n",
       "      <td>40</td>\n",
       "      <td>Adam</td>\n",
       "      <td>Marketing</td>\n",
       "      <td>NaN</td>\n",
       "      <td>2018-02-01</td>\n",
       "      <td>185000</td>\n",
       "    </tr>\n",
       "    <tr>\n",
       "      <th>2</th>\n",
       "      <td>10</td>\n",
       "      <td>Eli</td>\n",
       "      <td>Sales</td>\n",
       "      <td>NaN</td>\n",
       "      <td>2020-08-01</td>\n",
       "      <td>240000</td>\n",
       "    </tr>\n",
       "    <tr>\n",
       "      <th>3</th>\n",
       "      <td>20</td>\n",
       "      <td>Dylan</td>\n",
       "      <td>Marketing</td>\n",
       "      <td>(217)987-6543</td>\n",
       "      <td>2019-12-01</td>\n",
       "      <td>160500</td>\n",
       "    </tr>\n",
       "  </tbody>\n",
       "</table>\n",
       "</div>"
      ],
      "text/plain": [
       "   emp_id   name       dept   office_phone  start_date  salary\n",
       "0      30  Colby      Sales  (217)123-4500  2017-05-01  202000\n",
       "1      40   Adam  Marketing            NaN  2018-02-01  185000\n",
       "2      10    Eli      Sales            NaN  2020-08-01  240000\n",
       "3      20  Dylan  Marketing  (217)987-6543  2019-12-01  160500"
      ]
     },
     "execution_count": 35,
     "metadata": {},
     "output_type": "execute_result"
    }
   ],
   "source": [
    "df_emp = df_emp_backup.copy()\n",
    "df_emp"
   ]
  },
  {
   "cell_type": "code",
   "execution_count": 36,
   "metadata": {
    "colab": {
     "base_uri": "https://localhost:8080/",
     "height": 0
    },
    "id": "CHzAmnEzdxtf",
    "outputId": "677c062f-693a-4624-e007-cc281e4430fa"
   },
   "outputs": [
    {
     "data": {
      "text/html": [
       "<div>\n",
       "<style scoped>\n",
       "    .dataframe tbody tr th:only-of-type {\n",
       "        vertical-align: middle;\n",
       "    }\n",
       "\n",
       "    .dataframe tbody tr th {\n",
       "        vertical-align: top;\n",
       "    }\n",
       "\n",
       "    .dataframe thead th {\n",
       "        text-align: right;\n",
       "    }\n",
       "</style>\n",
       "<table border=\"1\" class=\"dataframe\">\n",
       "  <thead>\n",
       "    <tr style=\"text-align: right;\">\n",
       "      <th></th>\n",
       "      <th>emp_id</th>\n",
       "      <th>name</th>\n",
       "      <th>dept</th>\n",
       "      <th>phone_num</th>\n",
       "      <th>start_date</th>\n",
       "      <th>salary</th>\n",
       "    </tr>\n",
       "  </thead>\n",
       "  <tbody>\n",
       "    <tr>\n",
       "      <th>0</th>\n",
       "      <td>30</td>\n",
       "      <td>Colby</td>\n",
       "      <td>Sales</td>\n",
       "      <td>(217)123-4500</td>\n",
       "      <td>2017-05-01</td>\n",
       "      <td>202000</td>\n",
       "    </tr>\n",
       "    <tr>\n",
       "      <th>1</th>\n",
       "      <td>40</td>\n",
       "      <td>Adam</td>\n",
       "      <td>Marketing</td>\n",
       "      <td>NaN</td>\n",
       "      <td>2018-02-01</td>\n",
       "      <td>185000</td>\n",
       "    </tr>\n",
       "    <tr>\n",
       "      <th>2</th>\n",
       "      <td>10</td>\n",
       "      <td>Eli</td>\n",
       "      <td>Sales</td>\n",
       "      <td>NaN</td>\n",
       "      <td>2020-08-01</td>\n",
       "      <td>240000</td>\n",
       "    </tr>\n",
       "    <tr>\n",
       "      <th>3</th>\n",
       "      <td>20</td>\n",
       "      <td>Dylan</td>\n",
       "      <td>Marketing</td>\n",
       "      <td>(217)987-6543</td>\n",
       "      <td>2019-12-01</td>\n",
       "      <td>160500</td>\n",
       "    </tr>\n",
       "  </tbody>\n",
       "</table>\n",
       "</div>"
      ],
      "text/plain": [
       "   emp_id   name       dept      phone_num  start_date  salary\n",
       "0      30  Colby      Sales  (217)123-4500  2017-05-01  202000\n",
       "1      40   Adam  Marketing            NaN  2018-02-01  185000\n",
       "2      10    Eli      Sales            NaN  2020-08-01  240000\n",
       "3      20  Dylan  Marketing  (217)987-6543  2019-12-01  160500"
      ]
     },
     "execution_count": 36,
     "metadata": {},
     "output_type": "execute_result"
    }
   ],
   "source": [
    "### BEGIN SOLUTION\n",
    "df_emp.rename(columns={\"office_phone\": \"phone_num\"}, inplace=True)\n",
    "### END SOLUTION\n",
    "\n",
    "df_emp"
   ]
  },
  {
   "cell_type": "markdown",
   "metadata": {
    "id": "PatSV6Hvdxtf"
   },
   "source": [
    "#### 🧭 Check Your Work\n",
    "\n",
    "- Once you're done, run the code cell below to test correctness.\n",
    "- ✔️ If the code cell runs without an error, you're good to move on.\n",
    "- ❌ If the code cell throws an error, go back and fix incorrect parts."
   ]
  },
  {
   "cell_type": "code",
   "execution_count": 37,
   "metadata": {
    "id": "Yyo9Bnygdxtg",
    "nbgrader": {
     "grade": true,
     "grade_id": "challenge-10",
     "locked": true,
     "points": "1",
     "solution": false
    }
   },
   "outputs": [],
   "source": [
    "# Challenge 10 Autograder\n",
    "tc.assertEqual(df_emp.columns.tolist(), [\"emp_id\", \"name\", \"dept\", \"phone_num\", \"start_date\", \"salary\"])"
   ]
  },
  {
   "cell_type": "markdown",
   "metadata": {
    "id": "gZqtvNrjdxtg"
   },
   "source": [
    "---\n",
    "\n",
    "### 🎯 Challenge 11: Rename `name` to `first_name` and `salary` to `base_salary` **in-place**\n",
    "\n",
    "#### 👇 Tasks\n",
    "\n",
    "- ✔️ Rename `name` column to `first_name` and `salary` to `base_salary` *in-place*.\n",
    "    - Directly update `df_emp` without creating a new variable.\n",
    "    \n",
    "#### 🚀 Hints\n",
    "\n",
    "Use the following code as a reference.\n",
    "\n",
    "```python\n",
    "my_dataframe.rename(columns={\"col_before1\": \"col_after1\", \"col_before2\": \"col_after2\"}, inplace=True)\n",
    "```"
   ]
  },
  {
   "cell_type": "markdown",
   "metadata": {
    "id": "No4VUPUgdxtg"
   },
   "source": [
    "▶️ Run the code cell below to reset your `df_emp`."
   ]
  },
  {
   "cell_type": "code",
   "execution_count": 38,
   "metadata": {
    "colab": {
     "base_uri": "https://localhost:8080/",
     "height": 175
    },
    "id": "Xmis-MsRdxtg",
    "outputId": "24db3741-e7ee-4492-c206-ed993739404b"
   },
   "outputs": [
    {
     "data": {
      "text/html": [
       "<div>\n",
       "<style scoped>\n",
       "    .dataframe tbody tr th:only-of-type {\n",
       "        vertical-align: middle;\n",
       "    }\n",
       "\n",
       "    .dataframe tbody tr th {\n",
       "        vertical-align: top;\n",
       "    }\n",
       "\n",
       "    .dataframe thead th {\n",
       "        text-align: right;\n",
       "    }\n",
       "</style>\n",
       "<table border=\"1\" class=\"dataframe\">\n",
       "  <thead>\n",
       "    <tr style=\"text-align: right;\">\n",
       "      <th></th>\n",
       "      <th>emp_id</th>\n",
       "      <th>name</th>\n",
       "      <th>dept</th>\n",
       "      <th>office_phone</th>\n",
       "      <th>start_date</th>\n",
       "      <th>salary</th>\n",
       "    </tr>\n",
       "  </thead>\n",
       "  <tbody>\n",
       "    <tr>\n",
       "      <th>0</th>\n",
       "      <td>30</td>\n",
       "      <td>Colby</td>\n",
       "      <td>Sales</td>\n",
       "      <td>(217)123-4500</td>\n",
       "      <td>2017-05-01</td>\n",
       "      <td>202000</td>\n",
       "    </tr>\n",
       "    <tr>\n",
       "      <th>1</th>\n",
       "      <td>40</td>\n",
       "      <td>Adam</td>\n",
       "      <td>Marketing</td>\n",
       "      <td>NaN</td>\n",
       "      <td>2018-02-01</td>\n",
       "      <td>185000</td>\n",
       "    </tr>\n",
       "    <tr>\n",
       "      <th>2</th>\n",
       "      <td>10</td>\n",
       "      <td>Eli</td>\n",
       "      <td>Sales</td>\n",
       "      <td>NaN</td>\n",
       "      <td>2020-08-01</td>\n",
       "      <td>240000</td>\n",
       "    </tr>\n",
       "    <tr>\n",
       "      <th>3</th>\n",
       "      <td>20</td>\n",
       "      <td>Dylan</td>\n",
       "      <td>Marketing</td>\n",
       "      <td>(217)987-6543</td>\n",
       "      <td>2019-12-01</td>\n",
       "      <td>160500</td>\n",
       "    </tr>\n",
       "  </tbody>\n",
       "</table>\n",
       "</div>"
      ],
      "text/plain": [
       "   emp_id   name       dept   office_phone  start_date  salary\n",
       "0      30  Colby      Sales  (217)123-4500  2017-05-01  202000\n",
       "1      40   Adam  Marketing            NaN  2018-02-01  185000\n",
       "2      10    Eli      Sales            NaN  2020-08-01  240000\n",
       "3      20  Dylan  Marketing  (217)987-6543  2019-12-01  160500"
      ]
     },
     "execution_count": 38,
     "metadata": {},
     "output_type": "execute_result"
    }
   ],
   "source": [
    "df_emp = df_emp_backup.copy()\n",
    "df_emp"
   ]
  },
  {
   "cell_type": "code",
   "execution_count": 39,
   "metadata": {
    "colab": {
     "base_uri": "https://localhost:8080/",
     "height": 175
    },
    "id": "24a-bqfgdxtg",
    "outputId": "fc1be8cc-b452-43df-a35e-69e9ac818924"
   },
   "outputs": [
    {
     "data": {
      "text/html": [
       "<div>\n",
       "<style scoped>\n",
       "    .dataframe tbody tr th:only-of-type {\n",
       "        vertical-align: middle;\n",
       "    }\n",
       "\n",
       "    .dataframe tbody tr th {\n",
       "        vertical-align: top;\n",
       "    }\n",
       "\n",
       "    .dataframe thead th {\n",
       "        text-align: right;\n",
       "    }\n",
       "</style>\n",
       "<table border=\"1\" class=\"dataframe\">\n",
       "  <thead>\n",
       "    <tr style=\"text-align: right;\">\n",
       "      <th></th>\n",
       "      <th>emp_id</th>\n",
       "      <th>first_name</th>\n",
       "      <th>dept</th>\n",
       "      <th>office_phone</th>\n",
       "      <th>start_date</th>\n",
       "      <th>base_salary</th>\n",
       "    </tr>\n",
       "  </thead>\n",
       "  <tbody>\n",
       "    <tr>\n",
       "      <th>0</th>\n",
       "      <td>30</td>\n",
       "      <td>Colby</td>\n",
       "      <td>Sales</td>\n",
       "      <td>(217)123-4500</td>\n",
       "      <td>2017-05-01</td>\n",
       "      <td>202000</td>\n",
       "    </tr>\n",
       "    <tr>\n",
       "      <th>1</th>\n",
       "      <td>40</td>\n",
       "      <td>Adam</td>\n",
       "      <td>Marketing</td>\n",
       "      <td>NaN</td>\n",
       "      <td>2018-02-01</td>\n",
       "      <td>185000</td>\n",
       "    </tr>\n",
       "    <tr>\n",
       "      <th>2</th>\n",
       "      <td>10</td>\n",
       "      <td>Eli</td>\n",
       "      <td>Sales</td>\n",
       "      <td>NaN</td>\n",
       "      <td>2020-08-01</td>\n",
       "      <td>240000</td>\n",
       "    </tr>\n",
       "    <tr>\n",
       "      <th>3</th>\n",
       "      <td>20</td>\n",
       "      <td>Dylan</td>\n",
       "      <td>Marketing</td>\n",
       "      <td>(217)987-6543</td>\n",
       "      <td>2019-12-01</td>\n",
       "      <td>160500</td>\n",
       "    </tr>\n",
       "  </tbody>\n",
       "</table>\n",
       "</div>"
      ],
      "text/plain": [
       "   emp_id first_name       dept   office_phone  start_date  base_salary\n",
       "0      30      Colby      Sales  (217)123-4500  2017-05-01       202000\n",
       "1      40       Adam  Marketing            NaN  2018-02-01       185000\n",
       "2      10        Eli      Sales            NaN  2020-08-01       240000\n",
       "3      20      Dylan  Marketing  (217)987-6543  2019-12-01       160500"
      ]
     },
     "execution_count": 39,
     "metadata": {},
     "output_type": "execute_result"
    }
   ],
   "source": [
    "### BEGIN SOLUTION\n",
    "df_emp.rename(columns={\"name\": \"first_name\", \"salary\": \"base_salary\"}, inplace=True)\n",
    "### END SOLUTION\n",
    "\n",
    "df_emp"
   ]
  },
  {
   "cell_type": "markdown",
   "metadata": {
    "id": "g9lGSxsmdxtg"
   },
   "source": [
    "#### 🧭 Check Your Work\n",
    "\n",
    "- Once you're done, run the code cell below to test correctness.\n",
    "- ✔️ If the code cell runs without an error, you're good to move on.\n",
    "- ❌ If the code cell throws an error, go back and fix incorrect parts."
   ]
  },
  {
   "cell_type": "code",
   "execution_count": 40,
   "metadata": {
    "id": "-sUVjsuvdxtg",
    "nbgrader": {
     "grade": true,
     "grade_id": "challenge-11",
     "locked": true,
     "points": "1",
     "solution": false
    }
   },
   "outputs": [],
   "source": [
    "# Challenge 11 Autograder\n",
    "tc.assertEqual(df_emp.columns.tolist(), [\"emp_id\", \"first_name\", \"dept\", \"office_phone\", \"start_date\", \"base_salary\"])"
   ]
  },
  {
   "cell_type": "markdown",
   "metadata": {
    "id": "9Rfkhez9dxth"
   },
   "source": [
    "---\n",
    "\n",
    "## 👉 Dropping Column(s)\n",
    "\n",
    "You can rename a column using `df.drop(columns=[\"col1\", \"col2\"])`. Again, you can perform this operation either in-place or out-of-place.\n",
    "\n",
    "```python\n",
    "# Copy df, drop columns\n",
    "# df will remain unchaged\n",
    "df_dropped = df.drop(columns=[\"col1\", \"col2\"])\n",
    "\n",
    "# Drop columns directly from df\n",
    "df.drop(columns=[\"col1\", \"col2\"], inplace=True)\n",
    "```"
   ]
  },
  {
   "cell_type": "markdown",
   "metadata": {
    "id": "M5IABrx5dxth"
   },
   "source": [
    "---\n",
    "\n",
    "### 🎯 Challenge 12: Drop `start_date` column\n",
    "\n",
    "#### 👇 Tasks\n",
    "\n",
    "- ✔️ Drop `start_date` column from `df_emp`.\n",
    "- ✔️ Store the result to a new variable named `df_dropped`.\n",
    "- ✔️ Your `df_emp` should remain unaltered.\n",
    "\n",
    "#### 🚀 Hints\n",
    "\n",
    "Use the following code as a reference.\n",
    "\n",
    "```python\n",
    "dropped_dataframe = my_dataframe.drop(columns=[\"my_column1\"])\n",
    "```"
   ]
  },
  {
   "cell_type": "markdown",
   "metadata": {
    "id": "RrmqMbgtdxth"
   },
   "source": [
    "▶️ Run the code cell below to reset your `df_emp`."
   ]
  },
  {
   "cell_type": "code",
   "execution_count": 41,
   "metadata": {
    "colab": {
     "base_uri": "https://localhost:8080/",
     "height": 0
    },
    "id": "WfbYThL0dxth",
    "outputId": "f7c5cb13-c731-4927-95d4-77691448540f"
   },
   "outputs": [
    {
     "data": {
      "text/html": [
       "<div>\n",
       "<style scoped>\n",
       "    .dataframe tbody tr th:only-of-type {\n",
       "        vertical-align: middle;\n",
       "    }\n",
       "\n",
       "    .dataframe tbody tr th {\n",
       "        vertical-align: top;\n",
       "    }\n",
       "\n",
       "    .dataframe thead th {\n",
       "        text-align: right;\n",
       "    }\n",
       "</style>\n",
       "<table border=\"1\" class=\"dataframe\">\n",
       "  <thead>\n",
       "    <tr style=\"text-align: right;\">\n",
       "      <th></th>\n",
       "      <th>emp_id</th>\n",
       "      <th>name</th>\n",
       "      <th>dept</th>\n",
       "      <th>office_phone</th>\n",
       "      <th>start_date</th>\n",
       "      <th>salary</th>\n",
       "    </tr>\n",
       "  </thead>\n",
       "  <tbody>\n",
       "    <tr>\n",
       "      <th>0</th>\n",
       "      <td>30</td>\n",
       "      <td>Colby</td>\n",
       "      <td>Sales</td>\n",
       "      <td>(217)123-4500</td>\n",
       "      <td>2017-05-01</td>\n",
       "      <td>202000</td>\n",
       "    </tr>\n",
       "    <tr>\n",
       "      <th>1</th>\n",
       "      <td>40</td>\n",
       "      <td>Adam</td>\n",
       "      <td>Marketing</td>\n",
       "      <td>NaN</td>\n",
       "      <td>2018-02-01</td>\n",
       "      <td>185000</td>\n",
       "    </tr>\n",
       "    <tr>\n",
       "      <th>2</th>\n",
       "      <td>10</td>\n",
       "      <td>Eli</td>\n",
       "      <td>Sales</td>\n",
       "      <td>NaN</td>\n",
       "      <td>2020-08-01</td>\n",
       "      <td>240000</td>\n",
       "    </tr>\n",
       "    <tr>\n",
       "      <th>3</th>\n",
       "      <td>20</td>\n",
       "      <td>Dylan</td>\n",
       "      <td>Marketing</td>\n",
       "      <td>(217)987-6543</td>\n",
       "      <td>2019-12-01</td>\n",
       "      <td>160500</td>\n",
       "    </tr>\n",
       "  </tbody>\n",
       "</table>\n",
       "</div>"
      ],
      "text/plain": [
       "   emp_id   name       dept   office_phone  start_date  salary\n",
       "0      30  Colby      Sales  (217)123-4500  2017-05-01  202000\n",
       "1      40   Adam  Marketing            NaN  2018-02-01  185000\n",
       "2      10    Eli      Sales            NaN  2020-08-01  240000\n",
       "3      20  Dylan  Marketing  (217)987-6543  2019-12-01  160500"
      ]
     },
     "execution_count": 41,
     "metadata": {},
     "output_type": "execute_result"
    }
   ],
   "source": [
    "df_emp = df_emp_backup.copy()\n",
    "df_emp"
   ]
  },
  {
   "cell_type": "code",
   "execution_count": 42,
   "metadata": {
    "colab": {
     "base_uri": "https://localhost:8080/",
     "height": 0
    },
    "id": "sIPj1J1Fdxth",
    "outputId": "a9c4ff41-abc4-4d25-a9ea-f67c2a9d4b50"
   },
   "outputs": [
    {
     "data": {
      "text/html": [
       "<div>\n",
       "<style scoped>\n",
       "    .dataframe tbody tr th:only-of-type {\n",
       "        vertical-align: middle;\n",
       "    }\n",
       "\n",
       "    .dataframe tbody tr th {\n",
       "        vertical-align: top;\n",
       "    }\n",
       "\n",
       "    .dataframe thead th {\n",
       "        text-align: right;\n",
       "    }\n",
       "</style>\n",
       "<table border=\"1\" class=\"dataframe\">\n",
       "  <thead>\n",
       "    <tr style=\"text-align: right;\">\n",
       "      <th></th>\n",
       "      <th>emp_id</th>\n",
       "      <th>name</th>\n",
       "      <th>dept</th>\n",
       "      <th>office_phone</th>\n",
       "      <th>salary</th>\n",
       "    </tr>\n",
       "  </thead>\n",
       "  <tbody>\n",
       "    <tr>\n",
       "      <th>0</th>\n",
       "      <td>30</td>\n",
       "      <td>Colby</td>\n",
       "      <td>Sales</td>\n",
       "      <td>(217)123-4500</td>\n",
       "      <td>202000</td>\n",
       "    </tr>\n",
       "    <tr>\n",
       "      <th>1</th>\n",
       "      <td>40</td>\n",
       "      <td>Adam</td>\n",
       "      <td>Marketing</td>\n",
       "      <td>NaN</td>\n",
       "      <td>185000</td>\n",
       "    </tr>\n",
       "    <tr>\n",
       "      <th>2</th>\n",
       "      <td>10</td>\n",
       "      <td>Eli</td>\n",
       "      <td>Sales</td>\n",
       "      <td>NaN</td>\n",
       "      <td>240000</td>\n",
       "    </tr>\n",
       "    <tr>\n",
       "      <th>3</th>\n",
       "      <td>20</td>\n",
       "      <td>Dylan</td>\n",
       "      <td>Marketing</td>\n",
       "      <td>(217)987-6543</td>\n",
       "      <td>160500</td>\n",
       "    </tr>\n",
       "  </tbody>\n",
       "</table>\n",
       "</div>"
      ],
      "text/plain": [
       "   emp_id   name       dept   office_phone  salary\n",
       "0      30  Colby      Sales  (217)123-4500  202000\n",
       "1      40   Adam  Marketing            NaN  185000\n",
       "2      10    Eli      Sales            NaN  240000\n",
       "3      20  Dylan  Marketing  (217)987-6543  160500"
      ]
     },
     "execution_count": 42,
     "metadata": {},
     "output_type": "execute_result"
    }
   ],
   "source": [
    "### BEGIN SOLUTION\n",
    "df_dropped = df_emp.drop(columns=[\"start_date\"])\n",
    "### END SOLUTION\n",
    "\n",
    "df_dropped"
   ]
  },
  {
   "cell_type": "markdown",
   "metadata": {
    "id": "O5N-pq7Sdxth"
   },
   "source": [
    "#### 🧭 Check Your Work\n",
    "\n",
    "- Once you're done, run the code cell below to test correctness.\n",
    "- ✔️ If the code cell runs without an error, you're good to move on.\n",
    "- ❌ If the code cell throws an error, go back and fix incorrect parts."
   ]
  },
  {
   "cell_type": "code",
   "execution_count": 43,
   "metadata": {
    "id": "nBYVT_eHdxti",
    "nbgrader": {
     "grade": true,
     "grade_id": "challenge-12",
     "locked": true,
     "points": "1",
     "solution": false
    }
   },
   "outputs": [],
   "source": [
    "# Challenge 12 Autograder\n",
    "tc.assertEqual(df_emp.columns.tolist(), df_emp_backup.columns.tolist())\n",
    "tc.assertEqual(df_dropped.columns.tolist(), [\"emp_id\", \"name\", \"dept\", \"office_phone\", \"salary\"])"
   ]
  },
  {
   "cell_type": "markdown",
   "metadata": {
    "id": "1L-6mxIQdxti"
   },
   "source": [
    "---\n",
    "\n",
    "### 🎯 Challenge 13: Drop `start_date` column **in-place**\n",
    "\n",
    "#### 👇 Tasks\n",
    "\n",
    "- ✔️ Drop `start_date` column *in-place*.\n",
    "    - Directly update `df_emp` without creating a new variable.\n",
    "    \n",
    "#### 🚀 Hints\n",
    "\n",
    "Use the following code as a reference.\n",
    "\n",
    "```python\n",
    "my_dataframe.drop(columns=[\"my_column1\"], inplace=True)\n",
    "```"
   ]
  },
  {
   "cell_type": "markdown",
   "metadata": {
    "id": "EBX5cHuMdxti"
   },
   "source": [
    "▶️ Run the code cell below to reset your `df_emp`."
   ]
  },
  {
   "cell_type": "code",
   "execution_count": 44,
   "metadata": {
    "colab": {
     "base_uri": "https://localhost:8080/",
     "height": 0
    },
    "id": "G7VUFe5udxti",
    "outputId": "201f8a46-2632-4f12-d51c-85bd0627a651"
   },
   "outputs": [
    {
     "data": {
      "text/html": [
       "<div>\n",
       "<style scoped>\n",
       "    .dataframe tbody tr th:only-of-type {\n",
       "        vertical-align: middle;\n",
       "    }\n",
       "\n",
       "    .dataframe tbody tr th {\n",
       "        vertical-align: top;\n",
       "    }\n",
       "\n",
       "    .dataframe thead th {\n",
       "        text-align: right;\n",
       "    }\n",
       "</style>\n",
       "<table border=\"1\" class=\"dataframe\">\n",
       "  <thead>\n",
       "    <tr style=\"text-align: right;\">\n",
       "      <th></th>\n",
       "      <th>emp_id</th>\n",
       "      <th>name</th>\n",
       "      <th>dept</th>\n",
       "      <th>office_phone</th>\n",
       "      <th>start_date</th>\n",
       "      <th>salary</th>\n",
       "    </tr>\n",
       "  </thead>\n",
       "  <tbody>\n",
       "    <tr>\n",
       "      <th>0</th>\n",
       "      <td>30</td>\n",
       "      <td>Colby</td>\n",
       "      <td>Sales</td>\n",
       "      <td>(217)123-4500</td>\n",
       "      <td>2017-05-01</td>\n",
       "      <td>202000</td>\n",
       "    </tr>\n",
       "    <tr>\n",
       "      <th>1</th>\n",
       "      <td>40</td>\n",
       "      <td>Adam</td>\n",
       "      <td>Marketing</td>\n",
       "      <td>NaN</td>\n",
       "      <td>2018-02-01</td>\n",
       "      <td>185000</td>\n",
       "    </tr>\n",
       "    <tr>\n",
       "      <th>2</th>\n",
       "      <td>10</td>\n",
       "      <td>Eli</td>\n",
       "      <td>Sales</td>\n",
       "      <td>NaN</td>\n",
       "      <td>2020-08-01</td>\n",
       "      <td>240000</td>\n",
       "    </tr>\n",
       "    <tr>\n",
       "      <th>3</th>\n",
       "      <td>20</td>\n",
       "      <td>Dylan</td>\n",
       "      <td>Marketing</td>\n",
       "      <td>(217)987-6543</td>\n",
       "      <td>2019-12-01</td>\n",
       "      <td>160500</td>\n",
       "    </tr>\n",
       "  </tbody>\n",
       "</table>\n",
       "</div>"
      ],
      "text/plain": [
       "   emp_id   name       dept   office_phone  start_date  salary\n",
       "0      30  Colby      Sales  (217)123-4500  2017-05-01  202000\n",
       "1      40   Adam  Marketing            NaN  2018-02-01  185000\n",
       "2      10    Eli      Sales            NaN  2020-08-01  240000\n",
       "3      20  Dylan  Marketing  (217)987-6543  2019-12-01  160500"
      ]
     },
     "execution_count": 44,
     "metadata": {},
     "output_type": "execute_result"
    }
   ],
   "source": [
    "df_emp = df_emp_backup.copy()\n",
    "df_emp"
   ]
  },
  {
   "cell_type": "code",
   "execution_count": 45,
   "metadata": {
    "colab": {
     "base_uri": "https://localhost:8080/",
     "height": 0
    },
    "id": "NCSmQnj3dxti",
    "outputId": "addf92cd-1099-44ab-e0ac-4a66343f33b4"
   },
   "outputs": [
    {
     "data": {
      "text/html": [
       "<div>\n",
       "<style scoped>\n",
       "    .dataframe tbody tr th:only-of-type {\n",
       "        vertical-align: middle;\n",
       "    }\n",
       "\n",
       "    .dataframe tbody tr th {\n",
       "        vertical-align: top;\n",
       "    }\n",
       "\n",
       "    .dataframe thead th {\n",
       "        text-align: right;\n",
       "    }\n",
       "</style>\n",
       "<table border=\"1\" class=\"dataframe\">\n",
       "  <thead>\n",
       "    <tr style=\"text-align: right;\">\n",
       "      <th></th>\n",
       "      <th>emp_id</th>\n",
       "      <th>name</th>\n",
       "      <th>dept</th>\n",
       "      <th>office_phone</th>\n",
       "      <th>salary</th>\n",
       "    </tr>\n",
       "  </thead>\n",
       "  <tbody>\n",
       "    <tr>\n",
       "      <th>0</th>\n",
       "      <td>30</td>\n",
       "      <td>Colby</td>\n",
       "      <td>Sales</td>\n",
       "      <td>(217)123-4500</td>\n",
       "      <td>202000</td>\n",
       "    </tr>\n",
       "    <tr>\n",
       "      <th>1</th>\n",
       "      <td>40</td>\n",
       "      <td>Adam</td>\n",
       "      <td>Marketing</td>\n",
       "      <td>NaN</td>\n",
       "      <td>185000</td>\n",
       "    </tr>\n",
       "    <tr>\n",
       "      <th>2</th>\n",
       "      <td>10</td>\n",
       "      <td>Eli</td>\n",
       "      <td>Sales</td>\n",
       "      <td>NaN</td>\n",
       "      <td>240000</td>\n",
       "    </tr>\n",
       "    <tr>\n",
       "      <th>3</th>\n",
       "      <td>20</td>\n",
       "      <td>Dylan</td>\n",
       "      <td>Marketing</td>\n",
       "      <td>(217)987-6543</td>\n",
       "      <td>160500</td>\n",
       "    </tr>\n",
       "  </tbody>\n",
       "</table>\n",
       "</div>"
      ],
      "text/plain": [
       "   emp_id   name       dept   office_phone  salary\n",
       "0      30  Colby      Sales  (217)123-4500  202000\n",
       "1      40   Adam  Marketing            NaN  185000\n",
       "2      10    Eli      Sales            NaN  240000\n",
       "3      20  Dylan  Marketing  (217)987-6543  160500"
      ]
     },
     "execution_count": 45,
     "metadata": {},
     "output_type": "execute_result"
    }
   ],
   "source": [
    "### BEGIN SOLUTION\n",
    "df_emp.drop(columns=[\"start_date\"], inplace=True)\n",
    "### END SOLUTION\n",
    "\n",
    "df_emp"
   ]
  },
  {
   "cell_type": "markdown",
   "metadata": {
    "id": "clovpdyRdxtj"
   },
   "source": [
    "#### 🧭 Check Your Work\n",
    "\n",
    "- Once you're done, run the code cell below to test correctness.\n",
    "- ✔️ If the code cell runs without an error, you're good to move on.\n",
    "- ❌ If the code cell throws an error, go back and fix incorrect parts."
   ]
  },
  {
   "cell_type": "code",
   "execution_count": 46,
   "metadata": {
    "id": "AQBTrIzNdxtj",
    "nbgrader": {
     "grade": true,
     "grade_id": "challenge-13",
     "locked": true,
     "points": "1",
     "solution": false
    }
   },
   "outputs": [],
   "source": [
    "# Challenge 13 Autograder\n",
    "tc.assertEqual(df_emp.columns.tolist(), [\"emp_id\", \"name\", \"dept\", \"office_phone\", \"salary\"])"
   ]
  },
  {
   "cell_type": "markdown",
   "metadata": {
    "id": "yqbe-fo2dxtj"
   },
   "source": [
    "---\n",
    "\n",
    "### 🎯 Challenge 14: Drop `name` and `salary` columns **in-place**\n",
    "\n",
    "#### 👇 Tasks\n",
    "\n",
    "- ✔️ Drop `name` and `salary` columns *in-place*.\n",
    "    - Directly update `df_emp` without creating a new variable.\n",
    "    \n",
    "#### 🚀 Hints\n",
    "\n",
    "Use the following code as a reference.\n",
    "\n",
    "```python\n",
    "my_dataframe.drop(columns=[\"my_column1\", \"my_column2\"], inplace=True)\n",
    "```"
   ]
  },
  {
   "cell_type": "markdown",
   "metadata": {
    "id": "-Vc0eBTTdxtj"
   },
   "source": [
    "▶️ Run the code cell below to reset your `df_emp`."
   ]
  },
  {
   "cell_type": "code",
   "execution_count": 47,
   "metadata": {
    "colab": {
     "base_uri": "https://localhost:8080/",
     "height": 0
    },
    "id": "1_Pv_Fsfdxtj",
    "outputId": "7e55dfee-0692-4396-eb45-663387a8707a"
   },
   "outputs": [
    {
     "data": {
      "text/html": [
       "<div>\n",
       "<style scoped>\n",
       "    .dataframe tbody tr th:only-of-type {\n",
       "        vertical-align: middle;\n",
       "    }\n",
       "\n",
       "    .dataframe tbody tr th {\n",
       "        vertical-align: top;\n",
       "    }\n",
       "\n",
       "    .dataframe thead th {\n",
       "        text-align: right;\n",
       "    }\n",
       "</style>\n",
       "<table border=\"1\" class=\"dataframe\">\n",
       "  <thead>\n",
       "    <tr style=\"text-align: right;\">\n",
       "      <th></th>\n",
       "      <th>emp_id</th>\n",
       "      <th>name</th>\n",
       "      <th>dept</th>\n",
       "      <th>office_phone</th>\n",
       "      <th>start_date</th>\n",
       "      <th>salary</th>\n",
       "    </tr>\n",
       "  </thead>\n",
       "  <tbody>\n",
       "    <tr>\n",
       "      <th>0</th>\n",
       "      <td>30</td>\n",
       "      <td>Colby</td>\n",
       "      <td>Sales</td>\n",
       "      <td>(217)123-4500</td>\n",
       "      <td>2017-05-01</td>\n",
       "      <td>202000</td>\n",
       "    </tr>\n",
       "    <tr>\n",
       "      <th>1</th>\n",
       "      <td>40</td>\n",
       "      <td>Adam</td>\n",
       "      <td>Marketing</td>\n",
       "      <td>NaN</td>\n",
       "      <td>2018-02-01</td>\n",
       "      <td>185000</td>\n",
       "    </tr>\n",
       "    <tr>\n",
       "      <th>2</th>\n",
       "      <td>10</td>\n",
       "      <td>Eli</td>\n",
       "      <td>Sales</td>\n",
       "      <td>NaN</td>\n",
       "      <td>2020-08-01</td>\n",
       "      <td>240000</td>\n",
       "    </tr>\n",
       "    <tr>\n",
       "      <th>3</th>\n",
       "      <td>20</td>\n",
       "      <td>Dylan</td>\n",
       "      <td>Marketing</td>\n",
       "      <td>(217)987-6543</td>\n",
       "      <td>2019-12-01</td>\n",
       "      <td>160500</td>\n",
       "    </tr>\n",
       "  </tbody>\n",
       "</table>\n",
       "</div>"
      ],
      "text/plain": [
       "   emp_id   name       dept   office_phone  start_date  salary\n",
       "0      30  Colby      Sales  (217)123-4500  2017-05-01  202000\n",
       "1      40   Adam  Marketing            NaN  2018-02-01  185000\n",
       "2      10    Eli      Sales            NaN  2020-08-01  240000\n",
       "3      20  Dylan  Marketing  (217)987-6543  2019-12-01  160500"
      ]
     },
     "execution_count": 47,
     "metadata": {},
     "output_type": "execute_result"
    }
   ],
   "source": [
    "df_emp = df_emp_backup.copy()\n",
    "df_emp"
   ]
  },
  {
   "cell_type": "code",
   "execution_count": 48,
   "metadata": {
    "colab": {
     "base_uri": "https://localhost:8080/",
     "height": 0
    },
    "id": "3kLq1SfYdxtk",
    "outputId": "1ca12054-fccf-4bda-843e-d925fa246392"
   },
   "outputs": [
    {
     "data": {
      "text/html": [
       "<div>\n",
       "<style scoped>\n",
       "    .dataframe tbody tr th:only-of-type {\n",
       "        vertical-align: middle;\n",
       "    }\n",
       "\n",
       "    .dataframe tbody tr th {\n",
       "        vertical-align: top;\n",
       "    }\n",
       "\n",
       "    .dataframe thead th {\n",
       "        text-align: right;\n",
       "    }\n",
       "</style>\n",
       "<table border=\"1\" class=\"dataframe\">\n",
       "  <thead>\n",
       "    <tr style=\"text-align: right;\">\n",
       "      <th></th>\n",
       "      <th>emp_id</th>\n",
       "      <th>dept</th>\n",
       "      <th>office_phone</th>\n",
       "      <th>start_date</th>\n",
       "    </tr>\n",
       "  </thead>\n",
       "  <tbody>\n",
       "    <tr>\n",
       "      <th>0</th>\n",
       "      <td>30</td>\n",
       "      <td>Sales</td>\n",
       "      <td>(217)123-4500</td>\n",
       "      <td>2017-05-01</td>\n",
       "    </tr>\n",
       "    <tr>\n",
       "      <th>1</th>\n",
       "      <td>40</td>\n",
       "      <td>Marketing</td>\n",
       "      <td>NaN</td>\n",
       "      <td>2018-02-01</td>\n",
       "    </tr>\n",
       "    <tr>\n",
       "      <th>2</th>\n",
       "      <td>10</td>\n",
       "      <td>Sales</td>\n",
       "      <td>NaN</td>\n",
       "      <td>2020-08-01</td>\n",
       "    </tr>\n",
       "    <tr>\n",
       "      <th>3</th>\n",
       "      <td>20</td>\n",
       "      <td>Marketing</td>\n",
       "      <td>(217)987-6543</td>\n",
       "      <td>2019-12-01</td>\n",
       "    </tr>\n",
       "  </tbody>\n",
       "</table>\n",
       "</div>"
      ],
      "text/plain": [
       "   emp_id       dept   office_phone  start_date\n",
       "0      30      Sales  (217)123-4500  2017-05-01\n",
       "1      40  Marketing            NaN  2018-02-01\n",
       "2      10      Sales            NaN  2020-08-01\n",
       "3      20  Marketing  (217)987-6543  2019-12-01"
      ]
     },
     "execution_count": 48,
     "metadata": {},
     "output_type": "execute_result"
    }
   ],
   "source": [
    "### BEGIN SOLUTION\n",
    "df_emp.drop(columns=[\"name\", \"salary\"], inplace=True)\n",
    "### END SOLUTION\n",
    "\n",
    "df_emp"
   ]
  },
  {
   "cell_type": "markdown",
   "metadata": {
    "id": "Su1NUBDpdxtk"
   },
   "source": [
    "#### 🧭 Check Your Work\n",
    "\n",
    "- Once you're done, run the code cell below to test correctness.\n",
    "- ✔️ If the code cell runs without an error, you're good to move on.\n",
    "- ❌ If the code cell throws an error, go back and fix incorrect parts."
   ]
  },
  {
   "cell_type": "code",
   "execution_count": 49,
   "metadata": {
    "id": "MBtWxVpodxtk",
    "nbgrader": {
     "grade": true,
     "grade_id": "challenge-14",
     "locked": true,
     "points": "1",
     "solution": false
    }
   },
   "outputs": [],
   "source": [
    "# Challenge 14 Autograder\n",
    "tc.assertEqual(df_emp.columns.tolist(), [\"emp_id\", \"dept\", \"office_phone\", \"start_date\"])"
   ]
  },
  {
   "cell_type": "markdown",
   "metadata": {
    "id": "XwyWyzb2dxtk"
   },
   "source": [
    "---\n",
    "\n",
    "## 👉 Selecting Subset Columns\n",
    "\n",
    "You can select a subset of columns from a `DataFrame` using `df[list_of_columns]`.\n",
    "\n",
    "You can also use `df.loc[:, list_of_columns]`.\n",
    "\n",
    "```python\n",
    "df[[\"col1\", \"col2\"]]\n",
    "\n",
    "# is equivalent to\n",
    "\n",
    "df.loc[:, [\"col1\", \"col2\"]]\n",
    "```"
   ]
  },
  {
   "cell_type": "markdown",
   "metadata": {
    "id": "PIo9-QiLdxtk"
   },
   "source": [
    "---\n",
    "\n",
    "### 🎯 Challenge 15: `emp_id` and `name`"
   ]
  },
  {
   "cell_type": "markdown",
   "metadata": {
    "id": "1ZbLCPm0dxtl"
   },
   "source": [
    "#### 👇 Tasks\n",
    "\n",
    "- ✔️ Select only `emp_id` and `name` columns from `df_emp` (in the same order).\n",
    "- ✔️ Store the result to a new variable named `df_id_name`.\n",
    "- ✔️ Your `df_emp` should remain unaltered.\n",
    "\n",
    "#### 🚀 Hints\n",
    "\n",
    "Use the following code as a reference.\n",
    "\n",
    "```python\n",
    "df_subset = df[[\"col1\", \"col2\"]]\n",
    "```"
   ]
  },
  {
   "cell_type": "markdown",
   "metadata": {
    "id": "G9G5qUT6dxtl"
   },
   "source": [
    "▶️ Run the code cell below to reset your `df_emp`."
   ]
  },
  {
   "cell_type": "code",
   "execution_count": 50,
   "metadata": {
    "colab": {
     "base_uri": "https://localhost:8080/",
     "height": 0
    },
    "id": "UaxmhrXAdxtl",
    "outputId": "791cb4a6-3929-44cf-d537-36af7b0f4d30"
   },
   "outputs": [
    {
     "data": {
      "text/html": [
       "<div>\n",
       "<style scoped>\n",
       "    .dataframe tbody tr th:only-of-type {\n",
       "        vertical-align: middle;\n",
       "    }\n",
       "\n",
       "    .dataframe tbody tr th {\n",
       "        vertical-align: top;\n",
       "    }\n",
       "\n",
       "    .dataframe thead th {\n",
       "        text-align: right;\n",
       "    }\n",
       "</style>\n",
       "<table border=\"1\" class=\"dataframe\">\n",
       "  <thead>\n",
       "    <tr style=\"text-align: right;\">\n",
       "      <th></th>\n",
       "      <th>emp_id</th>\n",
       "      <th>name</th>\n",
       "      <th>dept</th>\n",
       "      <th>office_phone</th>\n",
       "      <th>start_date</th>\n",
       "      <th>salary</th>\n",
       "    </tr>\n",
       "  </thead>\n",
       "  <tbody>\n",
       "    <tr>\n",
       "      <th>0</th>\n",
       "      <td>30</td>\n",
       "      <td>Colby</td>\n",
       "      <td>Sales</td>\n",
       "      <td>(217)123-4500</td>\n",
       "      <td>2017-05-01</td>\n",
       "      <td>202000</td>\n",
       "    </tr>\n",
       "    <tr>\n",
       "      <th>1</th>\n",
       "      <td>40</td>\n",
       "      <td>Adam</td>\n",
       "      <td>Marketing</td>\n",
       "      <td>NaN</td>\n",
       "      <td>2018-02-01</td>\n",
       "      <td>185000</td>\n",
       "    </tr>\n",
       "    <tr>\n",
       "      <th>2</th>\n",
       "      <td>10</td>\n",
       "      <td>Eli</td>\n",
       "      <td>Sales</td>\n",
       "      <td>NaN</td>\n",
       "      <td>2020-08-01</td>\n",
       "      <td>240000</td>\n",
       "    </tr>\n",
       "    <tr>\n",
       "      <th>3</th>\n",
       "      <td>20</td>\n",
       "      <td>Dylan</td>\n",
       "      <td>Marketing</td>\n",
       "      <td>(217)987-6543</td>\n",
       "      <td>2019-12-01</td>\n",
       "      <td>160500</td>\n",
       "    </tr>\n",
       "  </tbody>\n",
       "</table>\n",
       "</div>"
      ],
      "text/plain": [
       "   emp_id   name       dept   office_phone  start_date  salary\n",
       "0      30  Colby      Sales  (217)123-4500  2017-05-01  202000\n",
       "1      40   Adam  Marketing            NaN  2018-02-01  185000\n",
       "2      10    Eli      Sales            NaN  2020-08-01  240000\n",
       "3      20  Dylan  Marketing  (217)987-6543  2019-12-01  160500"
      ]
     },
     "execution_count": 50,
     "metadata": {},
     "output_type": "execute_result"
    }
   ],
   "source": [
    "df_emp = df_emp_backup.copy()\n",
    "df_emp"
   ]
  },
  {
   "cell_type": "code",
   "execution_count": 51,
   "metadata": {
    "colab": {
     "base_uri": "https://localhost:8080/",
     "height": 0
    },
    "id": "ZkurnxBadxtl",
    "outputId": "a03c054e-1f34-4af5-b177-c49517c6ec14"
   },
   "outputs": [
    {
     "data": {
      "text/html": [
       "<div>\n",
       "<style scoped>\n",
       "    .dataframe tbody tr th:only-of-type {\n",
       "        vertical-align: middle;\n",
       "    }\n",
       "\n",
       "    .dataframe tbody tr th {\n",
       "        vertical-align: top;\n",
       "    }\n",
       "\n",
       "    .dataframe thead th {\n",
       "        text-align: right;\n",
       "    }\n",
       "</style>\n",
       "<table border=\"1\" class=\"dataframe\">\n",
       "  <thead>\n",
       "    <tr style=\"text-align: right;\">\n",
       "      <th></th>\n",
       "      <th>emp_id</th>\n",
       "      <th>name</th>\n",
       "    </tr>\n",
       "  </thead>\n",
       "  <tbody>\n",
       "    <tr>\n",
       "      <th>0</th>\n",
       "      <td>30</td>\n",
       "      <td>Colby</td>\n",
       "    </tr>\n",
       "    <tr>\n",
       "      <th>1</th>\n",
       "      <td>40</td>\n",
       "      <td>Adam</td>\n",
       "    </tr>\n",
       "    <tr>\n",
       "      <th>2</th>\n",
       "      <td>10</td>\n",
       "      <td>Eli</td>\n",
       "    </tr>\n",
       "    <tr>\n",
       "      <th>3</th>\n",
       "      <td>20</td>\n",
       "      <td>Dylan</td>\n",
       "    </tr>\n",
       "  </tbody>\n",
       "</table>\n",
       "</div>"
      ],
      "text/plain": [
       "   emp_id   name\n",
       "0      30  Colby\n",
       "1      40   Adam\n",
       "2      10    Eli\n",
       "3      20  Dylan"
      ]
     },
     "execution_count": 51,
     "metadata": {},
     "output_type": "execute_result"
    }
   ],
   "source": [
    "### BEGIN SOLUTION\n",
    "df_id_name = df_emp[[\"emp_id\", \"name\"]]\n",
    "### END SOLUTION\n",
    "\n",
    "df_id_name"
   ]
  },
  {
   "cell_type": "markdown",
   "metadata": {
    "id": "P7KXGwnMdxtl"
   },
   "source": [
    "#### 🧭 Check Your Work\n",
    "\n",
    "- Once you're done, run the code cell below to test correctness.\n",
    "- ✔️ If the code cell runs without an error, you're good to move on.\n",
    "- ❌ If the code cell throws an error, go back and fix incorrect parts."
   ]
  },
  {
   "cell_type": "code",
   "execution_count": 52,
   "metadata": {
    "id": "iQx2lqUZdxtm",
    "nbgrader": {
     "grade": true,
     "grade_id": "challenge-15",
     "locked": true,
     "points": "1",
     "solution": false
    }
   },
   "outputs": [],
   "source": [
    "# Challenge 15 Autograder\n",
    "pd.testing.assert_frame_equal(df_emp, df_emp_backup)\n",
    "pd.testing.assert_frame_equal(df_emp_backup[[\"emp_id\", \"name\"]], df_id_name, check_like=True)"
   ]
  },
  {
   "cell_type": "markdown",
   "metadata": {
    "id": "bPhEFZkLdxtm"
   },
   "source": [
    "---\n",
    "\n",
    "### 🎯 Challenge 16: `emp_id`, `name`, `dept`, `salary`\n",
    "\n",
    "#### 👇 Tasks\n",
    "\n",
    "- ✔️ Select `emp_id`, `name`, `dept`, and `salary` columns from `df_emp` (in the same order).\n",
    "- ✔️ Store the result to a new variable named `df_subset`.\n",
    "- ✔️ Your `df_emp` should remain unaltered.\n",
    "\n",
    "#### 🚀 Hints\n",
    "\n",
    "Use the following code as a reference.\n",
    "\n",
    "```python\n",
    "df_subset = df[[\"col1\", \"col2\"]]\n",
    "```"
   ]
  },
  {
   "cell_type": "markdown",
   "metadata": {
    "id": "tACsK4OQdxtm"
   },
   "source": [
    "▶️ Run the code cell below to reset your `df_emp`."
   ]
  },
  {
   "cell_type": "code",
   "execution_count": 53,
   "metadata": {
    "colab": {
     "base_uri": "https://localhost:8080/",
     "height": 175
    },
    "id": "499Sk3n9dxtm",
    "outputId": "ce03084f-df68-498a-f6b9-0c10ed492441"
   },
   "outputs": [
    {
     "data": {
      "text/html": [
       "<div>\n",
       "<style scoped>\n",
       "    .dataframe tbody tr th:only-of-type {\n",
       "        vertical-align: middle;\n",
       "    }\n",
       "\n",
       "    .dataframe tbody tr th {\n",
       "        vertical-align: top;\n",
       "    }\n",
       "\n",
       "    .dataframe thead th {\n",
       "        text-align: right;\n",
       "    }\n",
       "</style>\n",
       "<table border=\"1\" class=\"dataframe\">\n",
       "  <thead>\n",
       "    <tr style=\"text-align: right;\">\n",
       "      <th></th>\n",
       "      <th>emp_id</th>\n",
       "      <th>name</th>\n",
       "      <th>dept</th>\n",
       "      <th>office_phone</th>\n",
       "      <th>start_date</th>\n",
       "      <th>salary</th>\n",
       "    </tr>\n",
       "  </thead>\n",
       "  <tbody>\n",
       "    <tr>\n",
       "      <th>0</th>\n",
       "      <td>30</td>\n",
       "      <td>Colby</td>\n",
       "      <td>Sales</td>\n",
       "      <td>(217)123-4500</td>\n",
       "      <td>2017-05-01</td>\n",
       "      <td>202000</td>\n",
       "    </tr>\n",
       "    <tr>\n",
       "      <th>1</th>\n",
       "      <td>40</td>\n",
       "      <td>Adam</td>\n",
       "      <td>Marketing</td>\n",
       "      <td>NaN</td>\n",
       "      <td>2018-02-01</td>\n",
       "      <td>185000</td>\n",
       "    </tr>\n",
       "    <tr>\n",
       "      <th>2</th>\n",
       "      <td>10</td>\n",
       "      <td>Eli</td>\n",
       "      <td>Sales</td>\n",
       "      <td>NaN</td>\n",
       "      <td>2020-08-01</td>\n",
       "      <td>240000</td>\n",
       "    </tr>\n",
       "    <tr>\n",
       "      <th>3</th>\n",
       "      <td>20</td>\n",
       "      <td>Dylan</td>\n",
       "      <td>Marketing</td>\n",
       "      <td>(217)987-6543</td>\n",
       "      <td>2019-12-01</td>\n",
       "      <td>160500</td>\n",
       "    </tr>\n",
       "  </tbody>\n",
       "</table>\n",
       "</div>"
      ],
      "text/plain": [
       "   emp_id   name       dept   office_phone  start_date  salary\n",
       "0      30  Colby      Sales  (217)123-4500  2017-05-01  202000\n",
       "1      40   Adam  Marketing            NaN  2018-02-01  185000\n",
       "2      10    Eli      Sales            NaN  2020-08-01  240000\n",
       "3      20  Dylan  Marketing  (217)987-6543  2019-12-01  160500"
      ]
     },
     "execution_count": 53,
     "metadata": {},
     "output_type": "execute_result"
    }
   ],
   "source": [
    "df_emp = df_emp_backup.copy()\n",
    "df_emp"
   ]
  },
  {
   "cell_type": "code",
   "execution_count": 54,
   "metadata": {
    "colab": {
     "base_uri": "https://localhost:8080/",
     "height": 175
    },
    "id": "wlS9YGvKdxtm",
    "outputId": "80c9177a-a077-4e9c-8e09-e6a64f5828c6"
   },
   "outputs": [
    {
     "data": {
      "text/html": [
       "<div>\n",
       "<style scoped>\n",
       "    .dataframe tbody tr th:only-of-type {\n",
       "        vertical-align: middle;\n",
       "    }\n",
       "\n",
       "    .dataframe tbody tr th {\n",
       "        vertical-align: top;\n",
       "    }\n",
       "\n",
       "    .dataframe thead th {\n",
       "        text-align: right;\n",
       "    }\n",
       "</style>\n",
       "<table border=\"1\" class=\"dataframe\">\n",
       "  <thead>\n",
       "    <tr style=\"text-align: right;\">\n",
       "      <th></th>\n",
       "      <th>emp_id</th>\n",
       "      <th>name</th>\n",
       "      <th>dept</th>\n",
       "      <th>salary</th>\n",
       "    </tr>\n",
       "  </thead>\n",
       "  <tbody>\n",
       "    <tr>\n",
       "      <th>0</th>\n",
       "      <td>30</td>\n",
       "      <td>Colby</td>\n",
       "      <td>Sales</td>\n",
       "      <td>202000</td>\n",
       "    </tr>\n",
       "    <tr>\n",
       "      <th>1</th>\n",
       "      <td>40</td>\n",
       "      <td>Adam</td>\n",
       "      <td>Marketing</td>\n",
       "      <td>185000</td>\n",
       "    </tr>\n",
       "    <tr>\n",
       "      <th>2</th>\n",
       "      <td>10</td>\n",
       "      <td>Eli</td>\n",
       "      <td>Sales</td>\n",
       "      <td>240000</td>\n",
       "    </tr>\n",
       "    <tr>\n",
       "      <th>3</th>\n",
       "      <td>20</td>\n",
       "      <td>Dylan</td>\n",
       "      <td>Marketing</td>\n",
       "      <td>160500</td>\n",
       "    </tr>\n",
       "  </tbody>\n",
       "</table>\n",
       "</div>"
      ],
      "text/plain": [
       "   emp_id   name       dept  salary\n",
       "0      30  Colby      Sales  202000\n",
       "1      40   Adam  Marketing  185000\n",
       "2      10    Eli      Sales  240000\n",
       "3      20  Dylan  Marketing  160500"
      ]
     },
     "execution_count": 54,
     "metadata": {},
     "output_type": "execute_result"
    }
   ],
   "source": [
    "### BEGIN SOLUTION\n",
    "df_subset = df_emp[[\"emp_id\", \"name\", \"dept\", \"salary\"]]\n",
    "### END SOLUTION\n",
    "\n",
    "df_subset"
   ]
  },
  {
   "cell_type": "markdown",
   "metadata": {
    "id": "mRkabQLJdxtm"
   },
   "source": [
    "#### 🧭 Check Your Work\n",
    "\n",
    "- Once you're done, run the code cell below to test correctness.\n",
    "- ✔️ If the code cell runs without an error, you're good to move on.\n",
    "- ❌ If the code cell throws an error, go back and fix incorrect parts."
   ]
  },
  {
   "cell_type": "code",
   "execution_count": 55,
   "metadata": {
    "id": "fwi6MLqhdxtn",
    "nbgrader": {
     "grade": true,
     "grade_id": "challenge-16",
     "locked": true,
     "points": "1",
     "solution": false
    }
   },
   "outputs": [],
   "source": [
    "# Challenge 16 Autograder\n",
    "pd.testing.assert_frame_equal(df_emp, df_emp_backup)\n",
    "pd.testing.assert_frame_equal(df_emp_backup[[\"emp_id\", \"name\", \"dept\", \"salary\"]], df_subset)"
   ]
  },
  {
   "cell_type": "markdown",
   "metadata": {
    "id": "hsUboLqadxtn"
   },
   "source": [
    "---\n",
    "\n",
    "## 👉 Working with Missing Values\n",
    "\n",
    "A dataset commonly can contain one or more missing values. Pandas provides a flexible set of methods for you to work with missing values. Our first discussion of missing values will demonstrate how to find missing values.\n",
    "\n",
    "Missing values can be denoted by multiple *markers*. Here are a few common markers.\n",
    "\n",
    "- `NaN`: NaN stands for \"not a number\". For simplicity and performance's sake, Pandas has traditionally used `NaN` to denote missing values.\n",
    "- `None` (python's built-in type)\n",
    "- `NA`\n",
    "- `NaT`"
   ]
  },
  {
   "cell_type": "markdown",
   "metadata": {
    "id": "xKjJko1kdxtn"
   },
   "source": [
    "---\n",
    "\n",
    "### 📌 Load data"
   ]
  },
  {
   "cell_type": "markdown",
   "metadata": {
    "id": "6_zdUafedxtn"
   },
   "source": [
    "▶️ Run the code cell below to create a new `DataFrame` named `df_you`."
   ]
  },
  {
   "cell_type": "code",
   "execution_count": 56,
   "metadata": {
    "colab": {
     "base_uri": "https://localhost:8080/",
     "height": 0
    },
    "id": "LcP6AZXedxtn",
    "outputId": "89b6edf6-dcb7-4535-fbbf-1da0f40f4041"
   },
   "outputs": [
    {
     "data": {
      "text/html": [
       "<div>\n",
       "<style scoped>\n",
       "    .dataframe tbody tr th:only-of-type {\n",
       "        vertical-align: middle;\n",
       "    }\n",
       "\n",
       "    .dataframe tbody tr th {\n",
       "        vertical-align: top;\n",
       "    }\n",
       "\n",
       "    .dataframe thead th {\n",
       "        text-align: right;\n",
       "    }\n",
       "</style>\n",
       "<table border=\"1\" class=\"dataframe\">\n",
       "  <thead>\n",
       "    <tr style=\"text-align: right;\">\n",
       "      <th></th>\n",
       "      <th>name</th>\n",
       "      <th>major1</th>\n",
       "      <th>major2</th>\n",
       "      <th>city</th>\n",
       "      <th>fav_restaurant</th>\n",
       "      <th>fav_movie</th>\n",
       "      <th>has_iphone</th>\n",
       "    </tr>\n",
       "  </thead>\n",
       "  <tbody>\n",
       "    <tr>\n",
       "      <th>0</th>\n",
       "      <td>Evelyn Ge</td>\n",
       "      <td>Accountancy</td>\n",
       "      <td>Statistics</td>\n",
       "      <td>Qingdao, China</td>\n",
       "      <td>Yogi</td>\n",
       "      <td>The Twilight Saga</td>\n",
       "      <td>True</td>\n",
       "    </tr>\n",
       "    <tr>\n",
       "      <th>1</th>\n",
       "      <td>Lizi Ma</td>\n",
       "      <td>Advertising</td>\n",
       "      <td>NaN</td>\n",
       "      <td>Linfen, China</td>\n",
       "      <td>Mcdonalds</td>\n",
       "      <td>Alice in wonderland</td>\n",
       "      <td>True</td>\n",
       "    </tr>\n",
       "    <tr>\n",
       "      <th>2</th>\n",
       "      <td>Sankalp Kumar</td>\n",
       "      <td>Statistics and Computer Science</td>\n",
       "      <td>NaN</td>\n",
       "      <td>Pleasanton</td>\n",
       "      <td>Amakara</td>\n",
       "      <td>Interstellar</td>\n",
       "      <td>False</td>\n",
       "    </tr>\n",
       "    <tr>\n",
       "      <th>3</th>\n",
       "      <td>Aishani Sahoo</td>\n",
       "      <td>Computer Science</td>\n",
       "      <td>Business</td>\n",
       "      <td>Lincolnshire</td>\n",
       "      <td>Depends</td>\n",
       "      <td>Wolf of Wall Street</td>\n",
       "      <td>True</td>\n",
       "    </tr>\n",
       "    <tr>\n",
       "      <th>4</th>\n",
       "      <td>Aanya Bhatia</td>\n",
       "      <td>Psychology</td>\n",
       "      <td>Business</td>\n",
       "      <td>Fremont</td>\n",
       "      <td>Beyond Sushi</td>\n",
       "      <td>NaN</td>\n",
       "      <td>True</td>\n",
       "    </tr>\n",
       "  </tbody>\n",
       "</table>\n",
       "</div>"
      ],
      "text/plain": [
       "            name                           major1      major2            city  \\\n",
       "0      Evelyn Ge                      Accountancy  Statistics  Qingdao, China   \n",
       "1        Lizi Ma                      Advertising         NaN   Linfen, China   \n",
       "2  Sankalp Kumar  Statistics and Computer Science         NaN      Pleasanton   \n",
       "3  Aishani Sahoo                 Computer Science    Business    Lincolnshire   \n",
       "4   Aanya Bhatia                       Psychology    Business         Fremont   \n",
       "\n",
       "  fav_restaurant            fav_movie  has_iphone  \n",
       "0           Yogi    The Twilight Saga        True  \n",
       "1      Mcdonalds  Alice in wonderland        True  \n",
       "2        Amakara         Interstellar       False  \n",
       "3        Depends  Wolf of Wall Street        True  \n",
       "4   Beyond Sushi                  NaN        True  "
      ]
     },
     "execution_count": 56,
     "metadata": {},
     "output_type": "execute_result"
    }
   ],
   "source": [
    "# DO NOT CHANGE THE CODE IN THIS CELL\n",
    "df_you = pd.read_csv(\"https://github.com/bdi475/datasets/raw/main/about-you.csv\")\n",
    "\n",
    "# Used to keep a clean copy\n",
    "df_you_backup = df_you.copy()\n",
    "\n",
    "# head() displays the first 5 rows of a DataFrame\n",
    "df_you.head()"
   ]
  },
  {
   "cell_type": "markdown",
   "metadata": {
    "id": "pXxHu-tPdxto"
   },
   "source": [
    "The table below describes each column in `df_you`."
   ]
  },
  {
   "cell_type": "markdown",
   "metadata": {
    "id": "zrs-2R9Adxto"
   },
   "source": [
    "| Column Name             | Description                                               |\n",
    "|-------------------------|-----------------------------------------------------------|\n",
    "| name                    | First name                                                |\n",
    "| major1                  | Major                                                     |\n",
    "| major2                  | Second major OR minor (blank if no second major or minor) |\n",
    "| city                    | City the person is from                                   |\n",
    "| distance_from_champaign | Straight distance from the city to Champaign in miles     |\n",
    "| fav_restaurant          | Favorite restaurant (blank if no restaurant was given)    |\n",
    "| has_iphone              | Whether the person use an iPhone                          |"
   ]
  },
  {
   "cell_type": "markdown",
   "metadata": {
    "id": "9z8y7NLGdxto"
   },
   "source": [
    "---\n",
    "\n",
    "### 🎯 Challenge 17: People from Naperville"
   ]
  },
  {
   "cell_type": "markdown",
   "metadata": {
    "id": "czq7gFTLdxto"
   },
   "source": [
    "#### 👇 Tasks\n",
    "\n",
    "- ✔️ Using `df_you`, filter rows where the person is from `\"Naperville\"`.\n",
    "    - Check whether the `city` column is equal to `\"Naperville\"`.\n",
    "    - Store the result to a new variable named `df_naperville`.\n",
    "- ✔️ `df_you` should remain unaltered after your code."
   ]
  },
  {
   "cell_type": "code",
   "execution_count": 57,
   "metadata": {
    "colab": {
     "base_uri": "https://localhost:8080/",
     "height": 0
    },
    "id": "5iTeWUaHdxto",
    "outputId": "80cc43cc-684b-47ee-849c-5a1f8d77cf58"
   },
   "outputs": [
    {
     "data": {
      "text/html": [
       "<div>\n",
       "<style scoped>\n",
       "    .dataframe tbody tr th:only-of-type {\n",
       "        vertical-align: middle;\n",
       "    }\n",
       "\n",
       "    .dataframe tbody tr th {\n",
       "        vertical-align: top;\n",
       "    }\n",
       "\n",
       "    .dataframe thead th {\n",
       "        text-align: right;\n",
       "    }\n",
       "</style>\n",
       "<table border=\"1\" class=\"dataframe\">\n",
       "  <thead>\n",
       "    <tr style=\"text-align: right;\">\n",
       "      <th></th>\n",
       "      <th>name</th>\n",
       "      <th>major1</th>\n",
       "      <th>major2</th>\n",
       "      <th>city</th>\n",
       "      <th>fav_restaurant</th>\n",
       "      <th>fav_movie</th>\n",
       "      <th>has_iphone</th>\n",
       "    </tr>\n",
       "  </thead>\n",
       "  <tbody>\n",
       "    <tr>\n",
       "      <th>42</th>\n",
       "      <td>Namrata Acharya</td>\n",
       "      <td>Computer Science</td>\n",
       "      <td>NaN</td>\n",
       "      <td>Naperville</td>\n",
       "      <td>Lou Malnati's</td>\n",
       "      <td>The Social Network</td>\n",
       "      <td>True</td>\n",
       "    </tr>\n",
       "    <tr>\n",
       "      <th>102</th>\n",
       "      <td>Sanika Salgaonkar</td>\n",
       "      <td>Finance</td>\n",
       "      <td>Informatics</td>\n",
       "      <td>Naperville</td>\n",
       "      <td>Shawarma Joint</td>\n",
       "      <td>Ladybird</td>\n",
       "      <td>True</td>\n",
       "    </tr>\n",
       "    <tr>\n",
       "      <th>103</th>\n",
       "      <td>Brian Jett</td>\n",
       "      <td>Information Sciences</td>\n",
       "      <td>Business</td>\n",
       "      <td>Naperville</td>\n",
       "      <td>Bangkok Thai</td>\n",
       "      <td>The Dark Knight</td>\n",
       "      <td>True</td>\n",
       "    </tr>\n",
       "  </tbody>\n",
       "</table>\n",
       "</div>"
      ],
      "text/plain": [
       "                  name                major1       major2        city  \\\n",
       "42     Namrata Acharya      Computer Science          NaN  Naperville   \n",
       "102  Sanika Salgaonkar               Finance  Informatics  Naperville   \n",
       "103         Brian Jett  Information Sciences     Business  Naperville   \n",
       "\n",
       "     fav_restaurant           fav_movie  has_iphone  \n",
       "42    Lou Malnati's  The Social Network        True  \n",
       "102  Shawarma Joint            Ladybird        True  \n",
       "103    Bangkok Thai     The Dark Knight        True  "
      ]
     },
     "execution_count": 57,
     "metadata": {},
     "output_type": "execute_result"
    }
   ],
   "source": [
    "### BEGIN SOLUTION\n",
    "df_naperville = df_you[df_you[\"city\"] == \"Naperville\"]\n",
    "### END SOLUTION\n",
    "\n",
    "df_naperville"
   ]
  },
  {
   "cell_type": "markdown",
   "metadata": {
    "id": "00bdXWfUdxtp"
   },
   "source": [
    "#### 🧭 Check Your Work\n",
    "\n",
    "- Once you're done, run the code cell below to test correctness.\n",
    "- ✔️ If the code cell runs without an error, you're good to move on.\n",
    "- ❌ If the code cell throws an error, go back and fix incorrect parts."
   ]
  },
  {
   "cell_type": "code",
   "execution_count": 58,
   "metadata": {
    "id": "URPaw3Bmdxtp",
    "nbgrader": {
     "grade": true,
     "grade_id": "challenge-17",
     "locked": true,
     "points": "1",
     "solution": false
    }
   },
   "outputs": [],
   "source": [
    "# Challenge 17 Autograder\n",
    "# df_you should remain unaltered\n",
    "pd.testing.assert_frame_equal(df_you, df_you_backup)\n",
    "\n",
    "pd.testing.assert_frame_equal(df_naperville.sort_values(df_naperville.columns.tolist()).reset_index(drop=True),\n",
    "                              df_you_backup.query(f'{\"cItY\".lower()} == \"{\"NaPerVillE\".capitalize()}\"')\n",
    "                                 .sort_values(df_you_backup.columns.tolist()).reset_index(drop=True))"
   ]
  },
  {
   "cell_type": "markdown",
   "metadata": {
    "id": "YsBnPop-dxtp"
   },
   "source": [
    "---\n",
    "\n",
    "### 🎯 Challenge 18: Anyone with a non-missing `major2`"
   ]
  },
  {
   "cell_type": "markdown",
   "metadata": {
    "id": "J2LSWArwdxtp"
   },
   "source": [
    "#### 👇 Tasks\n",
    "\n",
    "- ✔️ Using `df_you`, filter rows where the person has a second major or a minor.\n",
    "    - You're looking for rows where `major2` is not `NaN`.\n",
    "- ✔️ `NaN` is a special value to denote missing value. You must use `my_series.isna()` or `my_series.notna()` to check whether a row contains a missing value or not.\n",
    "- ✔️ Store the result to a new variable named `df_major2`.\n",
    "- ✔️ `df_you` should remain unaltered after your code."
   ]
  },
  {
   "cell_type": "markdown",
   "metadata": {
    "id": "N2QJdhyvdxtp"
   },
   "source": [
    "#### 🚀 Hints\n",
    "\n",
    "- `my_series.notna()` can be used to check whether a row contains a missing value or not.\n",
    "\n",
    "![notna](https://github.com/bdi475/images/blob/main/pandas/notna-series.png?raw=true)"
   ]
  },
  {
   "cell_type": "code",
   "execution_count": 59,
   "metadata": {
    "colab": {
     "base_uri": "https://localhost:8080/",
     "height": 0
    },
    "id": "j8q4nApWdxtq",
    "outputId": "d9ec6eed-4415-4dc6-c4e8-cf49dc40734d"
   },
   "outputs": [
    {
     "data": {
      "text/html": [
       "<div>\n",
       "<style scoped>\n",
       "    .dataframe tbody tr th:only-of-type {\n",
       "        vertical-align: middle;\n",
       "    }\n",
       "\n",
       "    .dataframe tbody tr th {\n",
       "        vertical-align: top;\n",
       "    }\n",
       "\n",
       "    .dataframe thead th {\n",
       "        text-align: right;\n",
       "    }\n",
       "</style>\n",
       "<table border=\"1\" class=\"dataframe\">\n",
       "  <thead>\n",
       "    <tr style=\"text-align: right;\">\n",
       "      <th></th>\n",
       "      <th>name</th>\n",
       "      <th>major1</th>\n",
       "      <th>major2</th>\n",
       "      <th>city</th>\n",
       "      <th>fav_restaurant</th>\n",
       "      <th>fav_movie</th>\n",
       "      <th>has_iphone</th>\n",
       "    </tr>\n",
       "  </thead>\n",
       "  <tbody>\n",
       "    <tr>\n",
       "      <th>0</th>\n",
       "      <td>Evelyn Ge</td>\n",
       "      <td>Accountancy</td>\n",
       "      <td>Statistics</td>\n",
       "      <td>Qingdao, China</td>\n",
       "      <td>Yogi</td>\n",
       "      <td>The Twilight Saga</td>\n",
       "      <td>True</td>\n",
       "    </tr>\n",
       "    <tr>\n",
       "      <th>3</th>\n",
       "      <td>Aishani Sahoo</td>\n",
       "      <td>Computer Science</td>\n",
       "      <td>Business</td>\n",
       "      <td>Lincolnshire</td>\n",
       "      <td>Depends</td>\n",
       "      <td>Wolf of Wall Street</td>\n",
       "      <td>True</td>\n",
       "    </tr>\n",
       "    <tr>\n",
       "      <th>4</th>\n",
       "      <td>Aanya Bhatia</td>\n",
       "      <td>Psychology</td>\n",
       "      <td>Business</td>\n",
       "      <td>Fremont</td>\n",
       "      <td>Beyond Sushi</td>\n",
       "      <td>NaN</td>\n",
       "      <td>True</td>\n",
       "    </tr>\n",
       "    <tr>\n",
       "      <th>5</th>\n",
       "      <td>Maya Acevedo</td>\n",
       "      <td>Marketing</td>\n",
       "      <td>Informatics</td>\n",
       "      <td>West Dundee</td>\n",
       "      <td>Wingstop</td>\n",
       "      <td>Set It Up</td>\n",
       "      <td>True</td>\n",
       "    </tr>\n",
       "    <tr>\n",
       "      <th>7</th>\n",
       "      <td>Sophia Matias</td>\n",
       "      <td>Information Sciences</td>\n",
       "      <td>Business</td>\n",
       "      <td>Chicago</td>\n",
       "      <td>Iron Age</td>\n",
       "      <td>The Truman Show</td>\n",
       "      <td>True</td>\n",
       "    </tr>\n",
       "    <tr>\n",
       "      <th>...</th>\n",
       "      <td>...</td>\n",
       "      <td>...</td>\n",
       "      <td>...</td>\n",
       "      <td>...</td>\n",
       "      <td>...</td>\n",
       "      <td>...</td>\n",
       "      <td>...</td>\n",
       "    </tr>\n",
       "    <tr>\n",
       "      <th>104</th>\n",
       "      <td>Dirgh Shah</td>\n",
       "      <td>Engineering Physics</td>\n",
       "      <td>Business</td>\n",
       "      <td>Mumbai, India</td>\n",
       "      <td>Mia Zas</td>\n",
       "      <td>Cars</td>\n",
       "      <td>True</td>\n",
       "    </tr>\n",
       "    <tr>\n",
       "      <th>105</th>\n",
       "      <td>Maya Geren</td>\n",
       "      <td>Computer Science &amp; Math</td>\n",
       "      <td>Business</td>\n",
       "      <td>Deerfield</td>\n",
       "      <td>Aspen Tap House</td>\n",
       "      <td>The Departed</td>\n",
       "      <td>True</td>\n",
       "    </tr>\n",
       "    <tr>\n",
       "      <th>106</th>\n",
       "      <td>Amy Bisalputra</td>\n",
       "      <td>Civil Engineering</td>\n",
       "      <td>Informatics</td>\n",
       "      <td>Bangkok, Thailand</td>\n",
       "      <td>Basil Thai</td>\n",
       "      <td>minions</td>\n",
       "      <td>True</td>\n",
       "    </tr>\n",
       "    <tr>\n",
       "      <th>107</th>\n",
       "      <td>Aashna Bombwal</td>\n",
       "      <td>Econometrics</td>\n",
       "      <td>Informatics</td>\n",
       "      <td>San Jose</td>\n",
       "      <td>Sakanaya</td>\n",
       "      <td>Spiderman: Into the Spiderverse</td>\n",
       "      <td>True</td>\n",
       "    </tr>\n",
       "    <tr>\n",
       "      <th>108</th>\n",
       "      <td>Riya Patel</td>\n",
       "      <td>Computer Science</td>\n",
       "      <td>Business</td>\n",
       "      <td>Fremont</td>\n",
       "      <td>Blaze Pizza</td>\n",
       "      <td>Forrest Gump</td>\n",
       "      <td>True</td>\n",
       "    </tr>\n",
       "  </tbody>\n",
       "</table>\n",
       "<p>92 rows × 7 columns</p>\n",
       "</div>"
      ],
      "text/plain": [
       "               name                   major1       major2               city  \\\n",
       "0         Evelyn Ge              Accountancy   Statistics     Qingdao, China   \n",
       "3     Aishani Sahoo         Computer Science     Business       Lincolnshire   \n",
       "4      Aanya Bhatia               Psychology     Business            Fremont   \n",
       "5      Maya Acevedo                Marketing  Informatics        West Dundee   \n",
       "7     Sophia Matias     Information Sciences     Business            Chicago   \n",
       "..              ...                      ...          ...                ...   \n",
       "104      Dirgh Shah      Engineering Physics     Business      Mumbai, India   \n",
       "105      Maya Geren  Computer Science & Math     Business          Deerfield   \n",
       "106  Amy Bisalputra        Civil Engineering  Informatics  Bangkok, Thailand   \n",
       "107  Aashna Bombwal             Econometrics  Informatics           San Jose   \n",
       "108      Riya Patel         Computer Science     Business            Fremont   \n",
       "\n",
       "      fav_restaurant                        fav_movie  has_iphone  \n",
       "0               Yogi                The Twilight Saga        True  \n",
       "3            Depends              Wolf of Wall Street        True  \n",
       "4       Beyond Sushi                              NaN        True  \n",
       "5           Wingstop                        Set It Up        True  \n",
       "7           Iron Age                  The Truman Show        True  \n",
       "..               ...                              ...         ...  \n",
       "104          Mia Zas                             Cars        True  \n",
       "105  Aspen Tap House                     The Departed        True  \n",
       "106       Basil Thai                          minions        True  \n",
       "107         Sakanaya  Spiderman: Into the Spiderverse        True  \n",
       "108      Blaze Pizza                     Forrest Gump        True  \n",
       "\n",
       "[92 rows x 7 columns]"
      ]
     },
     "execution_count": 59,
     "metadata": {},
     "output_type": "execute_result"
    }
   ],
   "source": [
    "### BEGIN SOLUTION\n",
    "df_major2 = df_you[df_you[\"major2\"].notna()]\n",
    "### END SOLUTION\n",
    "\n",
    "df_major2"
   ]
  },
  {
   "cell_type": "markdown",
   "metadata": {
    "id": "voEW0VgFdxtq"
   },
   "source": [
    "#### 🧭 Check Your Work\n",
    "\n",
    "- Once you're done, run the code cell below to test correctness.\n",
    "- ✔️ If the code cell runs without an error, you're good to move on.\n",
    "- ❌ If the code cell throws an error, go back and fix incorrect parts."
   ]
  },
  {
   "cell_type": "code",
   "execution_count": 60,
   "metadata": {
    "id": "b4zZHUoWdxtq",
    "nbgrader": {
     "grade": true,
     "grade_id": "challenge-18",
     "locked": true,
     "points": "1",
     "solution": false
    }
   },
   "outputs": [],
   "source": [
    "# Challenge 18 Autograder\n",
    "# df_you should remain unaltered\n",
    "pd.testing.assert_frame_equal(df_you, df_you_backup)\n",
    "\n",
    "pd.testing.assert_frame_equal(df_major2.sort_values(df_major2.columns.tolist()).reset_index(drop=True),\n",
    "                              df_you_backup.query(f\"major2 == major2\")\n",
    "                                 .sort_values(df_you_backup.columns.tolist()).reset_index(drop=True))"
   ]
  },
  {
   "cell_type": "markdown",
   "metadata": {
    "id": "OxaQghuHdxtq"
   },
   "source": [
    "---\n",
    "\n",
    "### 🎯 Challenge 19: Anyone without a favorite movie\n",
    "\n",
    "#### 👇 Tasks\n",
    "\n",
    "- ✔️ Using `df_you`, filter rows where the person's `fav_movie` is `NaN`.\n",
    "- ✔️ `NaN` is a special value to denote missing value. You must use `my_series.isna()` or `my_series.notna()` to compare a `Series` with `NaN`.\n",
    "- ✔️ Store the result to a new variable named `df_no_fav_movie`.\n",
    "- ✔️ `df_you` should remain unaltered after your code.\n",
    "\n",
    "#### 🚀 Hints\n",
    "\n",
    "- `my_series.isna()` can be used to check whether a row contains a missing value."
   ]
  },
  {
   "cell_type": "code",
   "execution_count": 61,
   "metadata": {
    "colab": {
     "base_uri": "https://localhost:8080/",
     "height": 238
    },
    "id": "-VE1yQAidxtq",
    "outputId": "cbba2c94-1d56-41ae-b4c1-dc50512e97ac"
   },
   "outputs": [
    {
     "data": {
      "text/html": [
       "<div>\n",
       "<style scoped>\n",
       "    .dataframe tbody tr th:only-of-type {\n",
       "        vertical-align: middle;\n",
       "    }\n",
       "\n",
       "    .dataframe tbody tr th {\n",
       "        vertical-align: top;\n",
       "    }\n",
       "\n",
       "    .dataframe thead th {\n",
       "        text-align: right;\n",
       "    }\n",
       "</style>\n",
       "<table border=\"1\" class=\"dataframe\">\n",
       "  <thead>\n",
       "    <tr style=\"text-align: right;\">\n",
       "      <th></th>\n",
       "      <th>name</th>\n",
       "      <th>major1</th>\n",
       "      <th>major2</th>\n",
       "      <th>city</th>\n",
       "      <th>fav_restaurant</th>\n",
       "      <th>fav_movie</th>\n",
       "      <th>has_iphone</th>\n",
       "    </tr>\n",
       "  </thead>\n",
       "  <tbody>\n",
       "    <tr>\n",
       "      <th>4</th>\n",
       "      <td>Aanya Bhatia</td>\n",
       "      <td>Psychology</td>\n",
       "      <td>Business</td>\n",
       "      <td>Fremont</td>\n",
       "      <td>Beyond Sushi</td>\n",
       "      <td>NaN</td>\n",
       "      <td>True</td>\n",
       "    </tr>\n",
       "    <tr>\n",
       "      <th>11</th>\n",
       "      <td>Avinash Kalanadhabhatta</td>\n",
       "      <td>Food Science</td>\n",
       "      <td>Agricultural Accounting</td>\n",
       "      <td>Buffalo Grove</td>\n",
       "      <td>Tacool Tacos</td>\n",
       "      <td>NaN</td>\n",
       "      <td>True</td>\n",
       "    </tr>\n",
       "    <tr>\n",
       "      <th>14</th>\n",
       "      <td>Adrianne Sun</td>\n",
       "      <td>Computer Science</td>\n",
       "      <td>Business</td>\n",
       "      <td>Saint Paul</td>\n",
       "      <td>Chipotle</td>\n",
       "      <td>NaN</td>\n",
       "      <td>True</td>\n",
       "    </tr>\n",
       "    <tr>\n",
       "      <th>15</th>\n",
       "      <td>Jiayuan Zhang</td>\n",
       "      <td>Economics</td>\n",
       "      <td>Business</td>\n",
       "      <td>Dallas</td>\n",
       "      <td>Panda express</td>\n",
       "      <td>NaN</td>\n",
       "      <td>True</td>\n",
       "    </tr>\n",
       "    <tr>\n",
       "      <th>18</th>\n",
       "      <td>Qingwen Liu</td>\n",
       "      <td>Mathematics</td>\n",
       "      <td>Statistics</td>\n",
       "      <td>Ningbo, China</td>\n",
       "      <td>Chipotle</td>\n",
       "      <td>NaN</td>\n",
       "      <td>True</td>\n",
       "    </tr>\n",
       "    <tr>\n",
       "      <th>26</th>\n",
       "      <td>Mathijs Ranson</td>\n",
       "      <td>Business</td>\n",
       "      <td>Information Systems</td>\n",
       "      <td>Sint-Denijs-Westrem</td>\n",
       "      <td>Cravings</td>\n",
       "      <td>NaN</td>\n",
       "      <td>False</td>\n",
       "    </tr>\n",
       "    <tr>\n",
       "      <th>39</th>\n",
       "      <td>Christian Chlebek</td>\n",
       "      <td>Computer Science + Economics</td>\n",
       "      <td>Business</td>\n",
       "      <td>Barrington</td>\n",
       "      <td>Bangkok Thai</td>\n",
       "      <td>NaN</td>\n",
       "      <td>True</td>\n",
       "    </tr>\n",
       "    <tr>\n",
       "      <th>87</th>\n",
       "      <td>Gleb Tymoshenko</td>\n",
       "      <td>Advertising</td>\n",
       "      <td>Business</td>\n",
       "      <td>Odessa</td>\n",
       "      <td>Burrito King</td>\n",
       "      <td>NaN</td>\n",
       "      <td>True</td>\n",
       "    </tr>\n",
       "  </tbody>\n",
       "</table>\n",
       "</div>"
      ],
      "text/plain": [
       "                       name                        major1  \\\n",
       "4              Aanya Bhatia                    Psychology   \n",
       "11  Avinash Kalanadhabhatta                  Food Science   \n",
       "14             Adrianne Sun              Computer Science   \n",
       "15            Jiayuan Zhang                     Economics   \n",
       "18              Qingwen Liu                   Mathematics   \n",
       "26           Mathijs Ranson                      Business   \n",
       "39        Christian Chlebek  Computer Science + Economics   \n",
       "87          Gleb Tymoshenko                   Advertising   \n",
       "\n",
       "                     major2                 city fav_restaurant fav_movie  \\\n",
       "4                  Business              Fremont   Beyond Sushi       NaN   \n",
       "11  Agricultural Accounting        Buffalo Grove   Tacool Tacos       NaN   \n",
       "14                 Business           Saint Paul       Chipotle       NaN   \n",
       "15                 Business               Dallas  Panda express       NaN   \n",
       "18               Statistics        Ningbo, China       Chipotle       NaN   \n",
       "26      Information Systems  Sint-Denijs-Westrem       Cravings       NaN   \n",
       "39                 Business           Barrington   Bangkok Thai       NaN   \n",
       "87                 Business               Odessa   Burrito King       NaN   \n",
       "\n",
       "    has_iphone  \n",
       "4         True  \n",
       "11        True  \n",
       "14        True  \n",
       "15        True  \n",
       "18        True  \n",
       "26       False  \n",
       "39        True  \n",
       "87        True  "
      ]
     },
     "execution_count": 61,
     "metadata": {},
     "output_type": "execute_result"
    }
   ],
   "source": [
    "### BEGIN SOLUTION\n",
    "df_no_fav_movie = df_you[df_you[\"fav_movie\"].isna()]\n",
    "### END SOLUTION\n",
    "\n",
    "df_no_fav_movie"
   ]
  },
  {
   "cell_type": "markdown",
   "metadata": {
    "id": "mo7C8IsRdxtr"
   },
   "source": [
    "#### 🧭 Check Your Work\n",
    "\n",
    "- Once you're done, run the code cell below to test correctness.\n",
    "- ✔️ If the code cell runs without an error, you're good to move on.\n",
    "- ❌ If the code cell throws an error, go back and fix incorrect parts."
   ]
  },
  {
   "cell_type": "code",
   "execution_count": 62,
   "metadata": {
    "id": "tEpOn_aHdxtr",
    "nbgrader": {
     "grade": true,
     "grade_id": "challenge-19",
     "locked": true,
     "points": "1",
     "solution": false
    }
   },
   "outputs": [],
   "source": [
    "# Challenge 19 Autograder\n",
    "# df_you should remain unaltered\n",
    "pd.testing.assert_frame_equal(df_you, df_you_backup)\n",
    "\n",
    "pd.testing.assert_frame_equal(df_no_fav_movie.sort_values(df_no_fav_movie.columns.tolist()).reset_index(drop=True),\n",
    "                              df_you_backup.query(f\"fav_movie != fav_movie\")\n",
    "                                 .sort_values(df_you_backup.columns.tolist()).reset_index(drop=True))"
   ]
  }
 ],
 "metadata": {
  "colab": {
   "provenance": []
  },
  "kernelspec": {
   "display_name": "Python 3 (ipykernel)",
   "language": "python",
   "name": "python3"
  },
  "language_info": {
   "codemirror_mode": {
    "name": "ipython",
    "version": 3
   },
   "file_extension": ".py",
   "mimetype": "text/x-python",
   "name": "python",
   "nbconvert_exporter": "python",
   "pygments_lexer": "ipython3",
   "version": "3.9.7"
  }
 },
 "nbformat": 4,
 "nbformat_minor": 4
}
