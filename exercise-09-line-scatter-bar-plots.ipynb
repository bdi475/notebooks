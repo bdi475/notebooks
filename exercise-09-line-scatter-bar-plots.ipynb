{
 "cells": [
  {
   "cell_type": "markdown",
   "metadata": {},
   "source": [
    "# Exercise 9 - Line, Scatter, Bar Plots\n",
    "\n",
    "- 🏆 20 points available"
   ]
  },
  {
   "cell_type": "markdown",
   "metadata": {},
   "source": [
    "------\n",
    "\n",
    "▶️ Run the code cell below to import `unittest`, a module used for **🧭 Check Your Work** sections and the autograder."
   ]
  },
  {
   "cell_type": "code",
   "execution_count": null,
   "metadata": {},
   "outputs": [],
   "source": [
    "import unittest\n",
    "import base64\n",
    "import plotly\n",
    "tc = unittest.TestCase()"
   ]
  },
  {
   "cell_type": "markdown",
   "metadata": {},
   "source": [
    "---\n",
    "\n",
    "### 🎯 Exercise 1: Import Packages\n",
    "\n",
    "#### 👇 Tasks\n",
    "\n",
    "- ✔️ Import the following Python packages.\n",
    "    1. `pandas`: Use alias `pd`.\n",
    "    2. `numpy`: Use alias `np`.\n",
    "    3. `plotly.express`: Use alias `px`.\n",
    "    4. `plotly.graph_objects`: Use alias `go`."
   ]
  },
  {
   "cell_type": "code",
   "execution_count": null,
   "metadata": {},
   "outputs": [],
   "source": [
    "# YOUR CODE BEGINS\n",
    "\n",
    "\n",
    "\n",
    "# YOUR CODE ENDS"
   ]
  },
  {
   "cell_type": "markdown",
   "metadata": {},
   "source": [
    "#### 🧭 Check your work"
   ]
  },
  {
   "cell_type": "code",
   "execution_count": null,
   "metadata": {
    "nbgrader": {
     "grade": true,
     "grade_id": "exercise-01",
     "locked": true,
     "points": "2",
     "solution": false
    }
   },
   "outputs": [],
   "source": [
    "# DO NOT CHANGE THE CODE IN THIS CELL\n",
    "_test_case = \"part-01\"\n",
    "_points = 2\n",
    "\n",
    "tc.assertTrue('pd' in globals(), 'Check whether you have correctly imported Pandas with an alias.')\n",
    "tc.assertTrue('np' in globals(), 'Check whether you have correctly imported NumPy with an alias.')\n",
    "\n",
    "print(f'The current plotly version is {plotly.__version__}')\n",
    "plotly_major_version = int(plotly.__version__.split(\".\")[0])\n",
    "tc.assertGreaterEqual(plotly_major_version, 5, 'Your plotly version should be greater than or equal to 5')\n",
    "\n",
    "tc.assertIsNotNone(go.Figure, 'Check whether you have correctly imported plotly.graph_objects with an alias go.')\n",
    "tc.assertIsNotNone(px.scatter, 'Check whether you have correctly imported plotly.express with an alias px.')"
   ]
  },
  {
   "cell_type": "markdown",
   "metadata": {},
   "source": [
    "---\n",
    "\n",
    "### 🎯 Exercise 2: Annual closing gold price 📈"
   ]
  },
  {
   "cell_type": "markdown",
   "metadata": {},
   "source": [
    "▶️ Run the code cell below to import annual gold closing prices dataset 💛."
   ]
  },
  {
   "cell_type": "code",
   "execution_count": null,
   "metadata": {},
   "outputs": [],
   "source": [
    "# DO NOT CHANGE THE CODE BELOW\n",
    "df_gold = pd.read_csv('https://github.com/bdi475/datasets/raw/main/gold-annual-closing-price.csv')\n",
    "df_gold_backup = df_gold.copy()\n",
    "df_gold.head(5)"
   ]
  },
  {
   "cell_type": "markdown",
   "metadata": {},
   "source": [
    "#### 👇 Tasks\n",
    "\n",
    "- ✔️ Using `df_gold`, create a line chart that displays the closing price by year.\n",
    "- ✔️ Store your figure to a variable named `fig`.\n",
    "- ✔️ Add an appropriate title to your figure.\n",
    "- ✔️ Display the figure using `fig.show()`"
   ]
  },
  {
   "cell_type": "code",
   "execution_count": null,
   "metadata": {},
   "outputs": [],
   "source": [
    "# YOUR CODE BEGINS\n",
    "\n",
    "# YOUR CODE ENDS"
   ]
  },
  {
   "cell_type": "markdown",
   "metadata": {},
   "source": [
    "#### 🔑 Sample output\n",
    "\n",
    "![image](https://github.com/bdi475/images/blob/main/exercises/plotly-dataviz/annual_closing_price_of_gold_line.png?raw=true)"
   ]
  },
  {
   "cell_type": "markdown",
   "metadata": {},
   "source": [
    "#### 🧭 Check your work"
   ]
  },
  {
   "cell_type": "code",
   "execution_count": null,
   "metadata": {
    "nbgrader": {
     "grade": true,
     "grade_id": "exercise-02",
     "locked": true,
     "points": "2",
     "solution": false
    }
   },
   "outputs": [],
   "source": [
    "_test_case = \"part-02\"\n",
    "_points = 2\n",
    "\n",
    "tc.assertEqual(len(fig.data), 1, 'There must be only one plot in your figure')\n",
    "tc.assertIsNotNone(fig.layout.title.text, 'Missing figure title')\n",
    "tc.assertEqual(fig.data[0].type, 'scatter', 'Must be a line chart')\n",
    "tc.assertIsNotNone(fig.data[0].line.color, 'Must be a line chart')\n",
    "np.testing.assert_array_equal(fig.data[0].x, df_gold['Year'], 'Incorrect x-axis data')\n",
    "np.testing.assert_array_equal(fig.data[0].y, df_gold['Closing Price'], 'Incorrect y-axis data')"
   ]
  },
  {
   "cell_type": "markdown",
   "metadata": {},
   "source": [
    "---\n",
    "\n",
    "### 🎯 Exercise 3: Annual closing gold price in 2000s 📈\n",
    "\n",
    "#### 👇 Tasks\n",
    "\n",
    "- ✔️ Using `df_gold`, create a line chart that displays the closing price by year.\n",
    "    - Only include years 2000 or later (`df_gold['Year'] >= 2000`).\n",
    "- ✔️ Store your figure to a variable named `fig`.\n",
    "- ✔️ Add an appropriate title to your figure.\n",
    "- ✔️ Display the figure using `fig.show()`\n",
    "\n",
    "#### 🚀 Hints\n",
    "\n",
    "- 👉 `fig = px.line(df_gold[df_gold['Year'] >= 2000], x='Year', ...)`"
   ]
  },
  {
   "cell_type": "code",
   "execution_count": null,
   "metadata": {},
   "outputs": [],
   "source": [
    "# YOUR CODE BEGINS\n",
    "\n",
    "\n",
    "\n",
    "\n",
    "\n",
    "\n",
    "# YOUR CODE ENDS"
   ]
  },
  {
   "cell_type": "markdown",
   "metadata": {},
   "source": [
    "#### 🔑 Sample output\n",
    "\n",
    "![image](https://github.com/bdi475/images/blob/main/exercises/plotly-dataviz/annual_closing_price_of_gold_in_2000s_line.png?raw=true)"
   ]
  },
  {
   "cell_type": "markdown",
   "metadata": {},
   "source": [
    "#### 🧭 Check your work"
   ]
  },
  {
   "cell_type": "code",
   "execution_count": null,
   "metadata": {
    "nbgrader": {
     "grade": true,
     "grade_id": "exercise-03",
     "locked": true,
     "points": "2",
     "solution": false
    }
   },
   "outputs": [],
   "source": [
    "_test_case = \"part-03\"\n",
    "_points = 2\n",
    "\n",
    "tc.assertEqual(len(fig.data), 1, 'There must be only one plot in your figure')\n",
    "tc.assertIsNotNone(fig.layout.title.text, 'Missing figure title')\n",
    "tc.assertEqual(fig.data[0].type, 'scatter', 'Must be a line chart')\n",
    "tc.assertIsNotNone(fig.data[0].line.color, 'Must be a line chart')\n",
    "np.testing.assert_array_equal(\n",
    "    fig.data[0].x,\n",
    "    df_gold_backup.query(base64.b64decode(b'WWVhciA+PSAyMDAw').decode())['Year'],\n",
    "    'Incorrect x-axis data'\n",
    ")\n",
    "np.testing.assert_array_equal(\n",
    "    fig.data[0].y,\n",
    "    df_gold_backup.query(base64.b64decode(b'WWVhciA+PSAyMDAw').decode())['Closing Price'],\n",
    "    'Incorrect y-axis data'\n",
    ")"
   ]
  },
  {
   "cell_type": "markdown",
   "metadata": {},
   "source": [
    "---\n",
    "### 📌 Import dataset\n",
    "\n",
    "![BLUEbikes](https://github.com/bdi475/images/blob/main/lecture-notes/dataviz-python/bluebike-transparent-bike.png?raw=true)\n",
    "\n",
    "From this point on, you will work with bikesharing trips dataset 🚲. The original dataset has been retrieved from [https://www.bluebikes.com/system-data](https://www.bluebikes.com/system-data)."
   ]
  },
  {
   "cell_type": "markdown",
   "metadata": {},
   "source": [
    "▶️ Run the code below to import the dataset. This dataset is a fairly large with 200k rows, **so it may take up to a few minutes**."
   ]
  },
  {
   "cell_type": "code",
   "execution_count": null,
   "metadata": {},
   "outputs": [],
   "source": [
    "# Display all columns\n",
    "pd.set_option('display.max_columns', 50)\n",
    "\n",
    "df_trips = pd.read_csv('https://github.com/bdi475/datasets/blob/main/bluebikes-trip-data-2020-sampled.csv.gz?raw=true',\n",
    "                       compression='gzip',\n",
    "                       parse_dates=['start_time', 'stop_time'])\n",
    "\n",
    "df_trips_backup = df_trips.copy()\n",
    "\n",
    "display(df_trips)"
   ]
  },
  {
   "cell_type": "markdown",
   "metadata": {},
   "source": [
    "---\n",
    "### 🎯 Exercise 4: Create an aggregated DataFrame with number of trips by date\n",
    "\n",
    "#### 👇 Tasks\n",
    "\n",
    "- ✔️ One of the common tasks when visualizing your data is to aggregate your data before plotting them.\n",
    "- ✔️ Using `df_trips`, create a new DataFrame named `df_num_trips_by_date` that holds the number of trips by date.\n",
    "- ✔️ We will give you the fully working code below."
   ]
  },
  {
   "cell_type": "markdown",
   "metadata": {},
   "source": [
    "![Code](https://github.com/bdi475/images/blob/3e25d254f4d5f9c13c82cadd7f1c999a82e37d15/lecture-notes/dataviz-python/carbon-groupby-num-trips-by-date-01.png?raw=true)"
   ]
  },
  {
   "cell_type": "code",
   "execution_count": null,
   "metadata": {},
   "outputs": [],
   "source": [
    "# YOUR CODE BEGINS\n",
    "\n",
    "\n",
    "\n",
    "\n",
    "\n",
    "\n",
    "\n",
    "\n",
    "\n",
    "\n",
    "# YOUR CODE ENDS"
   ]
  },
  {
   "cell_type": "markdown",
   "metadata": {},
   "source": [
    "#### 🧭 Check your work"
   ]
  },
  {
   "cell_type": "code",
   "execution_count": null,
   "metadata": {
    "nbgrader": {
     "grade": true,
     "grade_id": "exercise-04",
     "locked": true,
     "points": "2",
     "solution": false
    }
   },
   "outputs": [],
   "source": [
    "_test_case = \"part-04\"\n",
    "_points = 2\n",
    "\n",
    "df_check = df_trips_backup.groupby(df_trips_backup['start_time'].dt.date).size() \\\n",
    "    .reset_index().rename(columns={'start_time': 'date', 0: 'num_trips'})\n",
    "\n",
    "pd.testing.assert_frame_equal(df_num_trips_by_date.sort_values('date').reset_index(drop=True),\n",
    "                              df_check.sort_values('date').reset_index(drop=True))"
   ]
  },
  {
   "cell_type": "markdown",
   "metadata": {},
   "source": [
    "---\n",
    "\n",
    "### 🎯 Exercise 5: Number of trips by date (📈 Line Chart)\n",
    "\n",
    "#### 👇 Tasks\n",
    "\n",
    "- ✔️ Using `df_num_trips_by_date`, create a **line** chart that displays the number of trips by date.\n",
    "- ✔️ Store your figure to a variable named `fig`.\n",
    "- ✔️ Add an appropriate title to your figure.\n",
    "- ✔️ Display the figure using `fig.show()`"
   ]
  },
  {
   "cell_type": "code",
   "execution_count": null,
   "metadata": {},
   "outputs": [],
   "source": [
    "# YOUR CODE BEGINS\n",
    "\n",
    "\n",
    "\n",
    "\n",
    "\n",
    "\n",
    "# YOUR CODE ENDS"
   ]
  },
  {
   "cell_type": "markdown",
   "metadata": {},
   "source": [
    "#### 🔑 Sample output\n",
    "\n",
    "![image](https://github.com/bdi475/images/blob/main/exercises/plotly-dataviz/number_of_trips_by_date_line.png?raw=true)"
   ]
  },
  {
   "cell_type": "markdown",
   "metadata": {},
   "source": [
    "#### 🧭 Check your work"
   ]
  },
  {
   "cell_type": "code",
   "execution_count": null,
   "metadata": {
    "nbgrader": {
     "grade": true,
     "grade_id": "exercise-05",
     "locked": true,
     "points": "2",
     "solution": false
    }
   },
   "outputs": [],
   "source": [
    "_test_case = \"part-05\"\n",
    "_points = 2\n",
    "\n",
    "tc.assertEqual(len(fig.data), 1, 'There must be only one plot in your figure')\n",
    "tc.assertIsNotNone(fig.layout.title.text, 'Missing figure title')\n",
    "tc.assertEqual(fig.data[0].type, 'scatter', 'Must be a line chart')\n",
    "tc.assertIsNotNone(fig.data[0].line.color, 'Must be a line chart')\n",
    "np.testing.assert_array_equal(fig.data[0].x, df_num_trips_by_date['date'], 'Incorrect x-axis data')\n",
    "np.testing.assert_array_equal(fig.data[0].y, df_num_trips_by_date['num_trips'], 'Incorrect y-axis data')"
   ]
  },
  {
   "cell_type": "markdown",
   "metadata": {},
   "source": [
    "---\n",
    "\n",
    "### 🎯 Exercise 6: Number of trips by date (Scatter Plot)\n",
    "\n",
    "#### 👇 Tasks\n",
    "\n",
    "- ✔️ Using `df_num_trips_by_date`, create a **scatter** plot that displays the number of trips by date.\n",
    "- ✔️ Store your figure to a variable named `fig`.\n",
    "- ✔️ Add an appropriate title to your figure.\n",
    "- ✔️ Display the figure using `fig.show()`"
   ]
  },
  {
   "cell_type": "code",
   "execution_count": null,
   "metadata": {},
   "outputs": [],
   "source": [
    "# YOUR CODE BEGINS\n",
    "\n",
    "# YOUR CODE ENDS"
   ]
  },
  {
   "cell_type": "markdown",
   "metadata": {},
   "source": [
    "#### 🔑 Sample output\n",
    "\n",
    "![image](https://github.com/bdi475/images/blob/main/exercises/plotly-dataviz/number_of_trips_by_date_scatter.png?raw=true)"
   ]
  },
  {
   "cell_type": "markdown",
   "metadata": {},
   "source": [
    "#### 🧭 Check your work"
   ]
  },
  {
   "cell_type": "code",
   "execution_count": null,
   "metadata": {
    "nbgrader": {
     "grade": true,
     "grade_id": "exercise-06",
     "locked": true,
     "points": "2",
     "solution": false
    }
   },
   "outputs": [],
   "source": [
    "_test_case = \"part-06\"\n",
    "_points = 2\n",
    "\n",
    "tc.assertEqual(len(fig.data), 1, 'There must be only one plot in your figure')\n",
    "tc.assertIsNotNone(fig.layout.title.text, 'Missing figure title')\n",
    "tc.assertEqual(fig.data[0].type, 'scatter', 'Must be a scatter plot')\n",
    "tc.assertIsNone(fig.data[0].line.color, 'Must be a scatter plot')\n",
    "np.testing.assert_array_equal(fig.data[0].x, df_num_trips_by_date['date'], 'Incorrect x-axis data')\n",
    "np.testing.assert_array_equal(fig.data[0].y, df_num_trips_by_date['num_trips'], 'Incorrect y-axis data')"
   ]
  },
  {
   "cell_type": "markdown",
   "metadata": {},
   "source": [
    "---\n",
    "### 🎯 Exercise 7: Number of trips by week of the year at the top 3 stations"
   ]
  },
  {
   "cell_type": "markdown",
   "metadata": {},
   "source": [
    "▶️ Run the code below to find the top 3 stations (by start position)."
   ]
  },
  {
   "cell_type": "code",
   "execution_count": null,
   "metadata": {},
   "outputs": [],
   "source": [
    "top3_start_stations = df_trips['start_station_name'].value_counts().index[:3]\n",
    "top3_start_stations"
   ]
  },
  {
   "cell_type": "markdown",
   "metadata": {},
   "source": [
    "#### 👇 Tasks\n",
    "\n",
    "- ✔️ Using `df_trips` and `top3_start_stations`, create a new DataFrame named `df_num_trips_from_station` that holds the number of trips by week of the year at the top 3 stations.\n",
    "- ✔️ We will give you the fully working code below."
   ]
  },
  {
   "cell_type": "markdown",
   "metadata": {},
   "source": [
    "\n",
    "![Code](https://github.com/bdi475/images/blob/main/lecture-notes/dataviz-python/carbon-groupby-week-and-start-station-01.png?raw=true)"
   ]
  },
  {
   "cell_type": "code",
   "execution_count": null,
   "metadata": {},
   "outputs": [],
   "source": [
    "# YOUR CODE BEGINS\n",
    "\n",
    "\n",
    "\n",
    "\n",
    "\n",
    "\n",
    "\n",
    "\n",
    "\n",
    "\n",
    "\n",
    "\n",
    "# YOUR CODE ENDS"
   ]
  },
  {
   "cell_type": "markdown",
   "metadata": {},
   "source": [
    "#### 🧭 Check your work"
   ]
  },
  {
   "cell_type": "code",
   "execution_count": null,
   "metadata": {
    "nbgrader": {
     "grade": true,
     "grade_id": "exercise-07",
     "locked": true,
     "points": "2",
     "solution": false
    }
   },
   "outputs": [],
   "source": [
    "_test_case = \"part-07\"\n",
    "_points = 2\n",
    "\n",
    "df_t3 = df_trips_backup[df_trips_backup['start_station_name'] \\\n",
    "                        .isin(df_trips_backup['start_station_name'].value_counts().index[:3])]\n",
    "\n",
    "df_check = df_t3.groupby([df_t3['start_time'].dt.isocalendar().week, 'start_station_name']).size() \\\n",
    "    .reset_index().rename(columns={'start_time': 'date', 0: 'num_trips'})\n",
    "\n",
    "pd.testing.assert_frame_equal(df_num_trips_from_station.sort_values(['week', 'start_station_name']).reset_index(drop=True),\n",
    "                              df_check.sort_values(['week', 'start_station_name']).reset_index(drop=True))"
   ]
  },
  {
   "cell_type": "markdown",
   "metadata": {},
   "source": [
    "---\n",
    "\n",
    "### 🎯 Exercise 8: Number of trips by week of the year at the top 3 stations (Line Chart)\n",
    "\n",
    "#### 👇 Tasks\n",
    "\n",
    "- ✔️ Using `df_num_trips_from_station`, create a **line** chart that displays the number of trips by week.\n",
    "- ✔️ Draw three line charts on a single figure.\n",
    "    - Use different colors to distinguish `start_station_name`.\n",
    "- ✔️ Store your figure to a variable named `fig`.\n",
    "- ✔️ Add an appropriate title to your figure.\n",
    "- ✔️ Display the figure using `fig.show()`"
   ]
  },
  {
   "cell_type": "code",
   "execution_count": null,
   "metadata": {},
   "outputs": [],
   "source": [
    "# YOUR CODE BEGINS\n",
    "\n",
    "\n",
    "\n",
    "\n",
    "\n",
    "\n",
    "\n",
    "# YOUR CODE ENDS"
   ]
  },
  {
   "cell_type": "markdown",
   "metadata": {},
   "source": [
    "#### 🔑 Sample output\n",
    "\n",
    "![Expected Output](https://github.com/bdi475/images/blob/main/lecture-notes/dataviz-python/expected-output-num-trips-by-week-top3-stations.png?raw=true)"
   ]
  },
  {
   "cell_type": "markdown",
   "metadata": {},
   "source": [
    "#### 🧭 Check your work"
   ]
  },
  {
   "cell_type": "code",
   "execution_count": null,
   "metadata": {
    "nbgrader": {
     "grade": true,
     "grade_id": "exercise-08",
     "locked": true,
     "points": "2",
     "solution": false
    }
   },
   "outputs": [],
   "source": [
    "_test_case = \"part-08\"\n",
    "_points = 2\n",
    "\n",
    "tc.assertEqual(len(fig.data), 3, 'There must be three plots in your figure')\n",
    "tc.assertIsNotNone(fig.layout.title.text, 'Missing figure title')\n",
    "\n",
    "for i in range(3):\n",
    "    tc.assertEqual(fig.data[i].type, 'scatter', 'Must be a line plot')\n",
    "    tc.assertIsNotNone(fig.data[i].line.color, 'Must be a line plot')\n",
    "\n",
    "    np.testing.assert_array_equal(\n",
    "        fig.data[i].x,\n",
    "        df_num_trips_from_station[df_num_trips_from_station['start_station_name'] == df_num_trips_from_station['start_station_name'].unique()[i]]['week'],\n",
    "        'Incorrect x-axis data'\n",
    "    )\n",
    "    np.testing.assert_array_equal(\n",
    "        fig.data[i].y,\n",
    "        df_num_trips_from_station[df_num_trips_from_station['start_station_name'] == df_num_trips_from_station['start_station_name'].unique()[i]]['num_trips'],\n",
    "        'Incorrect y-axis data'\n",
    "    )"
   ]
  },
  {
   "cell_type": "markdown",
   "metadata": {},
   "source": [
    "---\n",
    "### 🎯 Exercise 9: Create an aggregated DataFrame with number of trips by station\n",
    "\n",
    "#### 👇 Tasks\n",
    "\n",
    "- ✔️ Using `df_trips`, create a new DataFrame named `df_num_trips_by_month` that holds the number of trips by start station names.\n",
    "- ✔️ Only select the top 10 stations (by number of trips).\n",
    "- ✔️ We will give you the fully working code below."
   ]
  },
  {
   "cell_type": "markdown",
   "metadata": {},
   "source": [
    "\n",
    "![Code](https://github.com/bdi475/images/blob/main/lecture-notes/dataviz-python/carbon-num-trips-by-station-01.png?raw=true)"
   ]
  },
  {
   "cell_type": "code",
   "execution_count": null,
   "metadata": {},
   "outputs": [],
   "source": [
    "# YOUR CODE BEGINS\n",
    "\n",
    "\n",
    "\n",
    "\n",
    "\n",
    "\n",
    "# YOUR CODE ENDS"
   ]
  },
  {
   "cell_type": "markdown",
   "metadata": {},
   "source": [
    "#### 🧭 Check your work"
   ]
  },
  {
   "cell_type": "code",
   "execution_count": null,
   "metadata": {
    "nbgrader": {
     "grade": true,
     "grade_id": "exercise-09",
     "locked": true,
     "points": "2",
     "solution": false
    }
   },
   "outputs": [],
   "source": [
    "_test_case = \"part-09\"\n",
    "_points = 2\n",
    "\n",
    "df_check = df_trips_backup.groupby('start_station_name').size().sort_values(ascending=False).iloc[:10] \\\n",
    "    .reset_index().rename(columns={'start_station_name': 'start_station', 0: 'num_trips'})\n",
    "\n",
    "pd.testing.assert_frame_equal(df_num_trips_from.reset_index(drop=True),\n",
    "                              df_check.reset_index(drop=True))"
   ]
  },
  {
   "cell_type": "markdown",
   "metadata": {},
   "source": [
    "---\n",
    "\n",
    "### 🎯 Exercise 10: Number of trips by station (Bar Chart)\n",
    "\n",
    "#### 👇 Tasks\n",
    "\n",
    "- ✔️ Using `df_num_trips_from`, create a **bar** chart that displays the number of trips by station.\n",
    "- ✔️ Store your figure to a variable named `fig`.\n",
    "- ✔️ Add an appropriate title to your figure.\n",
    "- ✔️ Display the figure using `fig.show()`"
   ]
  },
  {
   "cell_type": "code",
   "execution_count": null,
   "metadata": {},
   "outputs": [],
   "source": [
    "# YOUR CODE BEGINS\n",
    "\n",
    "\n",
    "\n",
    "\n",
    "\n",
    "\n",
    "# YOUR CODE ENDS"
   ]
  },
  {
   "cell_type": "markdown",
   "metadata": {},
   "source": [
    "#### 🔑 Sample output\n",
    "\n",
    "![Expected Output](https://github.com/bdi475/images/blob/main/lecture-notes/dataviz-python/expected-output-num-trips-by-station-bar-chart.png?raw=true)"
   ]
  },
  {
   "cell_type": "markdown",
   "metadata": {},
   "source": [
    "#### 🧭 Check your work"
   ]
  },
  {
   "cell_type": "code",
   "execution_count": null,
   "metadata": {
    "nbgrader": {
     "grade": true,
     "grade_id": "exercise-10",
     "locked": true,
     "points": "2",
     "solution": false
    }
   },
   "outputs": [],
   "source": [
    "_test_case = \"part-10\"\n",
    "_points = 2\n",
    "\n",
    "tc.assertEqual(len(fig.data), 1, 'There must be only one plot in your figure')\n",
    "tc.assertIsNotNone(fig.layout.title.text, 'Missing figure title')\n",
    "tc.assertEqual(fig.data[0].type, 'bar', 'Must be a bar chart')\n",
    "tc.assertEqual(fig.data[0].orientation, 'v', 'Your plot should have a vertical orientation')\n",
    "np.testing.assert_array_equal(fig.data[0].x, df_num_trips_from['start_station'], 'Incorrect x-axis data')\n",
    "np.testing.assert_array_equal(fig.data[0].y, df_num_trips_from['num_trips'], 'Incorrect y-axis data')"
   ]
  }
 ],
 "metadata": {
  "kernelspec": {
   "display_name": "Python 3 (ipykernel)",
   "language": "python",
   "name": "python3"
  },
  "language_info": {
   "codemirror_mode": {
    "name": "ipython",
    "version": 3
   },
   "file_extension": ".py",
   "mimetype": "text/x-python",
   "name": "python",
   "nbconvert_exporter": "python",
   "pygments_lexer": "ipython3",
   "version": "3.10.10"
  }
 },
 "nbformat": 4,
 "nbformat_minor": 4
}
