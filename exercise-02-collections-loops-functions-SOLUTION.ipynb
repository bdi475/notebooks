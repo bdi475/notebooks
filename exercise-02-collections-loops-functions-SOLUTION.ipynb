{
 "cells": [
  {
   "cell_type": "markdown",
   "id": "52d52999",
   "metadata": {},
   "source": [
    "# Exercise 2 - Collections and Loops\n",
    "\n",
    "- 🏆 20 points available\n",
    "- ✏️ Last updated on 9/3/2025"
   ]
  },
  {
   "cell_type": "markdown",
   "id": "dbb8486f",
   "metadata": {
    "id": "DiznwS2xem7h"
   },
   "source": [
    "▶️ First, run the code cell below to import `unittest`, a module used for **🧭 Check Your Work** sections and the autograder."
   ]
  },
  {
   "cell_type": "code",
   "execution_count": 1,
   "id": "d911d7fb",
   "metadata": {
    "id": "xOFvIip0em7h"
   },
   "outputs": [],
   "source": [
    "# DO NOT MODIFY THE CODE IN THIS CELL\n",
    "import unittest\n",
    "tc = unittest.TestCase()"
   ]
  },
  {
   "cell_type": "markdown",
   "id": "cac11410",
   "metadata": {},
   "source": [
    "---\n",
    "\n",
    "### 🎯 Challenge 1: Create a List"
   ]
  },
  {
   "cell_type": "markdown",
   "id": "66f46781",
   "metadata": {
    "id": "i3PWWkSaem7i"
   },
   "source": [
    "#### 👇 Tasks\n",
    "\n",
    "Assume that the salaries of your three offers are `100000`, `110000`, `120000`. Change the provided code so that the `offers` list contains three salary amounts (in the same order).\n",
    "\n",
    "#### 💡 Hint\n",
    "\n",
    "`my_list = [1, 2, 3]` creates a `list` named `my_list` with initial values `1`, `2`, and `3`. "
   ]
  },
  {
   "cell_type": "code",
   "execution_count": 2,
   "id": "2a853316",
   "metadata": {
    "id": "jfnhv8_Yem7j"
   },
   "outputs": [
    {
     "name": "stdout",
     "output_type": "stream",
     "text": [
      "100000\n",
      "110000\n",
      "120000\n"
     ]
    }
   ],
   "source": [
    "# YOUR CODE BEGINS\n",
    "offers = [100000, 110000, 120000]\n",
    "# YOUR CODE ENDS\n",
    "\n",
    "print(offers[0])\n",
    "print(offers[1])\n",
    "print(offers[2])"
   ]
  },
  {
   "cell_type": "markdown",
   "id": "7a2bc4ad",
   "metadata": {
    "id": "EdrK-mBsem7r"
   },
   "source": [
    "#### 🧭 Check Your Work\n",
    "\n",
    "- Once you're done, run the code cell below to test correctness.\n",
    "- ✔️ If the code cell runs without an error, you're good to move on.\n",
    "- ❌ If the code cell throws an error, go back and fix any incorrect parts."
   ]
  },
  {
   "cell_type": "code",
   "execution_count": 3,
   "id": "6bd27917",
   "metadata": {},
   "outputs": [],
   "source": [
    "_test_case = 'create-a-list'\n",
    "_points = 2\n",
    "\n",
    "tc.assertEqual(offers, [100000, 110000, 120000])"
   ]
  },
  {
   "cell_type": "markdown",
   "id": "22266848",
   "metadata": {
    "id": "Dg-bBkF8fGaN"
   },
   "source": [
    "---\n",
    "\n",
    "### 🎯 Challenge 2: Number of NYX Products\n",
    "\n",
    "#### 👇 Tasks\n",
    "\n",
    "Assume you own 30 makeup products. The `brands` variable contains the list of brand names for each product in your collection. Can you count the number of `NYX` products in your collection and store the result in the `num_NYX_products` variable?\n",
    "\n",
    "Use a `for` loop to perform this task."
   ]
  },
  {
   "cell_type": "code",
   "execution_count": 4,
   "id": "08b5949c",
   "metadata": {
    "colab": {
     "base_uri": "https://localhost:8080/"
    },
    "id": "OoYuVAyhem7q",
    "outputId": "8eea66d1-ee93-464c-9889-346fd512d07a"
   },
   "outputs": [
    {
     "name": "stdout",
     "output_type": "stream",
     "text": [
      "You have 9 NYX products.\n"
     ]
    }
   ],
   "source": [
    "brands = [\"Bobbi Brown\", \"Maybelline\", \"Hourglass\", \"Clinique\", \"NYX\", \"Kosas\", \"Bobbi Brown\", \"Hourglass\", \"NYX\", \"NYX\", \"Clinique\", \"NYX\", \"Kosas\", \"Maybelline\", \"Urban Decay\", \"Revlon\", \"Clinique\", \"NYX\", \"Bobbi Brown\", \"Sephora\", \"Urban Decay\", \"NYX\", \"Clinique\", \"NYX\", \"Estee Lauder\", \"Hourglass\", \"Kosas\", \"NYX\", \"NYX\", \"Sephora\"]\n",
    "num_NYX_products = 0\n",
    "\n",
    "# YOUR CODE BEGINS\n",
    "for b in brands:\n",
    "    if b == \"NYX\":\n",
    "        num_NYX_products += 1\n",
    "# YOUR CODE ENDS\n",
    "\n",
    "print(f\"You have {num_NYX_products} NYX products.\")"
   ]
  },
  {
   "cell_type": "markdown",
   "id": "f78a6048",
   "metadata": {
    "id": "EdrK-mBsem7r"
   },
   "source": [
    "#### 🧭 Check Your Work\n",
    "\n",
    "- Once you're done, run the code cell below to test correctness.\n",
    "- ✔️ If the code cell runs without an error, you're good to move on.\n",
    "- ❌ If the code cell throws an error, go back and fix any incorrect parts."
   ]
  },
  {
   "cell_type": "code",
   "execution_count": 5,
   "id": "cd666161",
   "metadata": {
    "id": "DXDG3nzpem7r"
   },
   "outputs": [],
   "source": [
    "_test_case = 'count-occurrences-in-a-list'\n",
    "_points = 3\n",
    "\n",
    "tc.assertEqual(num_NYX_products, 9)"
   ]
  },
  {
   "cell_type": "markdown",
   "id": "acdf6787-9f77-423f-9541-6686b70c98ee",
   "metadata": {
    "id": "Dg-bBkF8fGaN"
   },
   "source": [
    "---\n",
    "\n",
    "### 🎯 Challenge 3: Add All Values in a List\n",
    "\n",
    "#### 👇 Tasks\n",
    "\n",
    "Sum up the values in `sales` and store the value to `total_sales`.\n",
    "\n",
    "#### 💡 Hint\n",
    "\n",
    "The code below iterates through `my_list` and incrementally sums up the values in `my_list`.\n",
    "\n",
    "```python\n",
    "my_list = [1, 2, 3, 4]\n",
    "total = 0\n",
    "\n",
    "for v in my_list:\n",
    "    total = total + v\n",
    "```"
   ]
  },
  {
   "cell_type": "code",
   "execution_count": 6,
   "id": "68f0eddd-6f51-416b-938b-dcd32c0f4c17",
   "metadata": {},
   "outputs": [
    {
     "name": "stdout",
     "output_type": "stream",
     "text": [
      "Total sales: 105\n"
     ]
    }
   ],
   "source": [
    "sales = [31, 30, 24, 20]\n",
    "total_sales = 0\n",
    "\n",
    "# YOUR CODE BEGINS\n",
    "for v in sales:\n",
    "    total_sales = total_sales + v\n",
    "# YOUR CODE ENDS\n",
    "\n",
    "print(f\"Total sales: {total_sales}\")"
   ]
  },
  {
   "cell_type": "markdown",
   "id": "9a403927-7cca-4332-be96-e002d3929aaf",
   "metadata": {
    "id": "EdrK-mBsem7r"
   },
   "source": [
    "#### 🧭 Check Your Work\n",
    "\n",
    "- Once you're done, run the code cell below to test correctness.\n",
    "- ✔️ If the code cell runs without an error, you're good to move on.\n",
    "- ❌ If the code cell throws an error, go back and fix any incorrect parts."
   ]
  },
  {
   "cell_type": "markdown",
   "id": "f033de94",
   "metadata": {
    "id": "EdrK-mBsem7r"
   },
   "source": [
    "#### 🧭 Check Your Work\n",
    "\n",
    "- Once you're done, run the code cell below to test correctness.\n",
    "- ✔️ If the code cell runs without an error, you're good to move on.\n",
    "- ❌ If the code cell throws an error, go back and fix any incorrect parts."
   ]
  },
  {
   "cell_type": "code",
   "execution_count": 7,
   "id": "4900231a",
   "metadata": {},
   "outputs": [],
   "source": [
    "_test_case = 'calculate-total-sales'\n",
    "_points = 3\n",
    "\n",
    "list_SOL = [31, 30, 24, 20]\n",
    "\n",
    "tc.assertEqual(total_sales, sum(list_SOL))"
   ]
  },
  {
   "cell_type": "markdown",
   "id": "ca368045-ca13-4578-8de7-161c02934411",
   "metadata": {
    "id": "Dg-bBkF8fGaN"
   },
   "source": [
    "---\n",
    "\n",
    "### 🎯 Challenge 4: Sum of Even Numbers\n",
    "\n",
    "#### 👇 Tasks\n",
    "\n",
    "Using a `for` loop, find the sum of only even numbers in `nums` list and store the result to `even_sum`.\n",
    "\n",
    "## 🔑 Sample Code\n",
    "```python\n",
    "my_list = [1, 2, 3, 4]\n",
    "my_sum = 0\n",
    "\n",
    "for x in my_list:\n",
    "    if x % 2 == 0:\n",
    "        my_sum = my_sum + x\n",
    "```"
   ]
  },
  {
   "cell_type": "code",
   "execution_count": 8,
   "id": "a37cf021-8d0d-4777-8dbb-9dc7198c11b4",
   "metadata": {},
   "outputs": [
    {
     "name": "stdout",
     "output_type": "stream",
     "text": [
      "Sum of even numbers: 20\n"
     ]
    }
   ],
   "source": [
    "nums = [1, 2, 3, 4, 5, 6, 7, 8]\n",
    "even_sum = 0\n",
    "\n",
    "# YOUR CODE BEGINS\n",
    "for x in nums:\n",
    "    if x % 2 == 0:\n",
    "        even_sum = even_sum + x\n",
    "# YOUR CODE ENDS\n",
    "\n",
    "print(f\"Sum of even numbers: {even_sum}\")"
   ]
  },
  {
   "cell_type": "markdown",
   "id": "08dec2c5-2727-4a4c-9dda-d0061e689473",
   "metadata": {
    "id": "EdrK-mBsem7r"
   },
   "source": [
    "#### 🧭 Check Your Work\n",
    "\n",
    "- Once you're done, run the code cell below to test correctness.\n",
    "- ✔️ If the code cell runs without an error, you're good to move on.\n",
    "- ❌ If the code cell throws an error, go back and fix any incorrect parts."
   ]
  },
  {
   "cell_type": "code",
   "execution_count": 9,
   "id": "3ca28c33-8027-4609-af29-ba8eef7a920b",
   "metadata": {},
   "outputs": [],
   "source": [
    "_test_case = 'even-sum'\n",
    "_points = 3\n",
    "\n",
    "tc.assertEqual(even_sum, 20)"
   ]
  },
  {
   "cell_type": "markdown",
   "id": "9383c11b-6d1e-4263-b256-fb919463ad4f",
   "metadata": {
    "id": "Dg-bBkF8fGaN"
   },
   "source": [
    "---\n",
    "\n",
    "### 🎯 Challenge 5: Total Salary of Chiefs Players 🏈\n",
    "\n",
    "#### 👇 Tasks\n",
    "\n",
    "The `players` variable contains a list of 5 dictionaries. Each dictionary contains an NFL player's `name`, `team`, and `salary` information.\n",
    "\n",
    "Among the 5 players, what is the **total salary of Kansas City Chiefs players** (`Chiefs`)? Store the total salary of Chiefs players to the `chiefs_total_salary` variable.\n",
    "\n",
    "Use a `for` loop to perform this task."
   ]
  },
  {
   "cell_type": "code",
   "execution_count": 10,
   "id": "7817af28-fb1d-4046-9027-0723a95e3742",
   "metadata": {},
   "outputs": [
    {
     "name": "stdout",
     "output_type": "stream",
     "text": [
      "Chiefs players' total salary is 42900000!\n"
     ]
    }
   ],
   "source": [
    "players = [\n",
    "    {\n",
    "        \"name\": \"Tom Brady\",\n",
    "        \"team\": \"Buccaneers\",\n",
    "        \"salary\": 23000000\n",
    "    },\n",
    "    {\n",
    "        \"name\": \"Patrick Mahomes\",\n",
    "        \"team\": \"Chiefs\",\n",
    "        \"salary\": 9900000\n",
    "    },\n",
    "    {\n",
    "        \"name\": \"Aaron Donald\",\n",
    "        \"team\": \"Rams\",\n",
    "        \"salary\": 19900000\n",
    "    },\n",
    "    {\n",
    "        \"name\": \"Tyreek Hill\",\n",
    "        \"team\": \"Chiefs\",\n",
    "        \"salary\": 18000000\n",
    "    },\n",
    "    {\n",
    "        \"name\": \"Travis Kelce\",\n",
    "        \"team\": \"Chiefs\",\n",
    "        \"salary\": 15000000\n",
    "    }\n",
    "]\n",
    "chiefs_total_salary = 0\n",
    "\n",
    "# YOUR CODE BEGINS\n",
    "for p in players:\n",
    "    if p[\"team\"] == \"Chiefs\":\n",
    "        chiefs_total_salary += p[\"salary\"]\n",
    "# YOUR CODE ENDS\n",
    "\n",
    "print(f\"Chiefs players' total salary is {chiefs_total_salary}!\")"
   ]
  },
  {
   "cell_type": "markdown",
   "id": "53b860f0-b57f-4601-aa83-79ce0ba781d9",
   "metadata": {
    "id": "EdrK-mBsem7r"
   },
   "source": [
    "#### 🧭 Check Your Work\n",
    "\n",
    "- Once you're done, run the code cell below to test correctness.\n",
    "- ✔️ If the code cell runs without an error, you're good to move on.\n",
    "- ❌ If the code cell throws an error, go back and fix any incorrect parts."
   ]
  },
  {
   "cell_type": "code",
   "execution_count": 11,
   "id": "c164366b-4ed2-4dea-9b40-7f262d80c06c",
   "metadata": {},
   "outputs": [],
   "source": [
    "_test_case = 'chiefs-players-salary'\n",
    "_points = 4\n",
    "\n",
    "tc.assertAlmostEqual(chiefs_total_salary, 42900000.0)"
   ]
  },
  {
   "cell_type": "markdown",
   "id": "ed52dcd6-5f25-41ed-9f39-7e115ab86695",
   "metadata": {
    "id": "Dg-bBkF8fGaN"
   },
   "source": [
    "---\n",
    "\n",
    "### 🎯 Challenge 6: Average Positive and Negative Transactions\n",
    "\n",
    "#### 👇 Tasks\n",
    "\n",
    "The `transactions` variable contains a list of transaction amounts. Your goal is to calculate the following two variables:\n",
    "\n",
    "- `pos_avg`: the average of positive transactions\n",
    "- `neg_avg`: the average of negative transactions\n",
    "\n",
    "**Example**: `transactions = [10, -5, -15, 30, 20]`\n",
    "- `pos_avg` is `20` (`(10 + 30 + 20) / 3`) .\n",
    "- `neg_avg` is `-10` (`(-5 + -15) / 2`).\n",
    "\n",
    "**Rules**\n",
    "- You can freely create new variables for calculations.\n",
    "- You **CANNOT** manually count the number of positive or negative numbers when performing divisions.\n",
    "- Use a `for` loop to perform this task."
   ]
  },
  {
   "cell_type": "code",
   "execution_count": 12,
   "id": "7be4579f-e314-4252-a38a-9c3cfcbdd7c3",
   "metadata": {},
   "outputs": [
    {
     "name": "stdout",
     "output_type": "stream",
     "text": [
      "Average of positive transactions is 19.0\n",
      "Average of negative transactions is -25.25\n"
     ]
    }
   ],
   "source": [
    "transactions = [15, 8, 7, 5, 15, 72, -20, -66, 9, -4, -11, 21, 19]\n",
    "\n",
    "# YOUR CODE BEGINS\n",
    "pos_sum = 0\n",
    "pos_count = 0\n",
    "neg_sum = 0\n",
    "neg_count = 0\n",
    "\n",
    "for amount in transactions:\n",
    "    if amount > 0:\n",
    "        pos_sum += amount\n",
    "        pos_count += 1\n",
    "    else:\n",
    "        neg_sum += amount\n",
    "        neg_count += 1\n",
    "\n",
    "pos_avg = pos_sum / pos_count\n",
    "neg_avg = neg_sum / neg_count\n",
    "# YOUR CODE ENDS\n",
    "\n",
    "print(f'Average of positive transactions is {pos_avg}')\n",
    "print(f'Average of negative transactions is {neg_avg}')\n"
   ]
  },
  {
   "cell_type": "markdown",
   "id": "2c54757f-c75a-4167-a69a-1adcd87cced4",
   "metadata": {
    "id": "EdrK-mBsem7r"
   },
   "source": [
    "#### 🧭 Check Your Work\n",
    "\n",
    "- Once you're done, run the code cell below to test correctness.\n",
    "- ✔️ If the code cell runs without an error, you're good to move on.\n",
    "- ❌ If the code cell throws an error, go back and fix any incorrect parts."
   ]
  },
  {
   "cell_type": "code",
   "execution_count": 13,
   "id": "f9db8fdd-cc8a-4def-bc8d-07d22c4b55b6",
   "metadata": {},
   "outputs": [],
   "source": [
    "_test_case = 'average-pos-neg-transactions'\n",
    "_points = 5\n",
    "\n",
    "tc.assertAlmostEqual(pos_avg, 19.0)\n",
    "tc.assertAlmostEqual(neg_avg, -25.25)"
   ]
  }
 ],
 "metadata": {
  "kernelspec": {
   "display_name": "Python 3 (ipykernel)",
   "language": "python",
   "name": "python3"
  },
  "language_info": {
   "codemirror_mode": {
    "name": "ipython",
    "version": 3
   },
   "file_extension": ".py",
   "mimetype": "text/x-python",
   "name": "python",
   "nbconvert_exporter": "python",
   "pygments_lexer": "ipython3",
   "version": "3.10.10"
  }
 },
 "nbformat": 4,
 "nbformat_minor": 5
}
