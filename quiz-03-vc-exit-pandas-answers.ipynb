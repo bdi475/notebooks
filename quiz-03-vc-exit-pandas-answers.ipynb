{
 "cells": [
  {
   "cell_type": "markdown",
   "id": "53ce47a0-b947-4ae0-86f1-d480d9147b47",
   "metadata": {},
   "source": [
    "# Quiz 3 - Venture Capital Exit Analysis"
   ]
  },
  {
   "cell_type": "markdown",
   "id": "8a5d441e-bbbb-44ad-b2f9-7b22b31ef665",
   "metadata": {
    "tags": []
   },
   "source": [
    "## Load libraries and data"
   ]
  },
  {
   "cell_type": "markdown",
   "id": "abab4537-7d48-478b-aab6-a6ccda834b9c",
   "metadata": {},
   "source": [
    "Import packages."
   ]
  },
  {
   "cell_type": "code",
   "execution_count": 1,
   "id": "19247c62-4f3f-4697-98ce-60b118c342ff",
   "metadata": {},
   "outputs": [],
   "source": [
    "import pandas as pd\n",
    "import numpy as np"
   ]
  },
  {
   "cell_type": "markdown",
   "id": "59897797-f3e9-4c7f-b82f-ec296de1fb5b",
   "metadata": {},
   "source": [
    "### Dataset\n",
    "\n",
    "There are two tables in our dataset.\n",
    "\n",
    "- `df_companies` contains the information of companies that successfully performed a VC exit in the past year.\n",
    "- `df_deals` contains the deal details of VC exits."
   ]
  },
  {
   "cell_type": "code",
   "execution_count": 2,
   "id": "775c481b-2bae-40da-931e-5073803efa79",
   "metadata": {},
   "outputs": [
    {
     "data": {
      "text/html": [
       "<div>\n",
       "<style scoped>\n",
       "    .dataframe tbody tr th:only-of-type {\n",
       "        vertical-align: middle;\n",
       "    }\n",
       "\n",
       "    .dataframe tbody tr th {\n",
       "        vertical-align: top;\n",
       "    }\n",
       "\n",
       "    .dataframe thead th {\n",
       "        text-align: right;\n",
       "    }\n",
       "</style>\n",
       "<table border=\"1\" class=\"dataframe\">\n",
       "  <thead>\n",
       "    <tr style=\"text-align: right;\">\n",
       "      <th></th>\n",
       "      <th>company_name</th>\n",
       "      <th>deal_id</th>\n",
       "      <th>industry</th>\n",
       "      <th>city</th>\n",
       "      <th>country</th>\n",
       "      <th>is_profitable</th>\n",
       "      <th>patents</th>\n",
       "    </tr>\n",
       "  </thead>\n",
       "  <tbody>\n",
       "    <tr>\n",
       "      <th>0</th>\n",
       "      <td>300</td>\n",
       "      <td>300145_202112</td>\n",
       "      <td>Entertainment Software</td>\n",
       "      <td>New York</td>\n",
       "      <td>United States</td>\n",
       "      <td>False</td>\n",
       "      <td>0</td>\n",
       "    </tr>\n",
       "    <tr>\n",
       "      <th>1</th>\n",
       "      <td>ACROBiosystems</td>\n",
       "      <td>acr168_202110</td>\n",
       "      <td>Discovery Tools (Healthcare)</td>\n",
       "      <td>Beijing</td>\n",
       "      <td>China</td>\n",
       "      <td>True</td>\n",
       "      <td>0</td>\n",
       "    </tr>\n",
       "    <tr>\n",
       "      <th>2</th>\n",
       "      <td>ASR Microelectronics</td>\n",
       "      <td>asr032_202201</td>\n",
       "      <td>Application Specific Semiconductors</td>\n",
       "      <td>Shanghai</td>\n",
       "      <td>China</td>\n",
       "      <td>False</td>\n",
       "      <td>6</td>\n",
       "    </tr>\n",
       "    <tr>\n",
       "      <th>3</th>\n",
       "      <td>Admix</td>\n",
       "      <td>adm196_202206</td>\n",
       "      <td>Business/Productivity Software</td>\n",
       "      <td>London</td>\n",
       "      <td>United Kingdom</td>\n",
       "      <td>False</td>\n",
       "      <td>0</td>\n",
       "    </tr>\n",
       "    <tr>\n",
       "      <th>4</th>\n",
       "      <td>Affera</td>\n",
       "      <td>aff071_202208</td>\n",
       "      <td>Therapeutic Devices</td>\n",
       "      <td>Newton</td>\n",
       "      <td>United States</td>\n",
       "      <td>False</td>\n",
       "      <td>6</td>\n",
       "    </tr>\n",
       "  </tbody>\n",
       "</table>\n",
       "</div>"
      ],
      "text/plain": [
       "           company_name        deal_id                             industry  \\\n",
       "0                   300  300145_202112               Entertainment Software   \n",
       "1        ACROBiosystems  acr168_202110         Discovery Tools (Healthcare)   \n",
       "2  ASR Microelectronics  asr032_202201  Application Specific Semiconductors   \n",
       "3                 Admix  adm196_202206       Business/Productivity Software   \n",
       "4                Affera  aff071_202208                  Therapeutic Devices   \n",
       "\n",
       "       city         country  is_profitable  patents  \n",
       "0  New York   United States          False        0  \n",
       "1   Beijing           China           True        0  \n",
       "2  Shanghai           China          False        6  \n",
       "3    London  United Kingdom          False        0  \n",
       "4    Newton   United States          False        6  "
      ]
     },
     "execution_count": 2,
     "metadata": {},
     "output_type": "execute_result"
    }
   ],
   "source": [
    "df_companies = pd.read_csv('https://raw.githubusercontent.com/bdi475/datasets/737da234227d5ecec1369df1a1827cd40872c0eb/vc-exits/companies.csv')\n",
    "\n",
    "df_companies.head()"
   ]
  },
  {
   "cell_type": "code",
   "execution_count": 3,
   "id": "53c8ff16-3e80-44f3-abf3-4f3a2324dae8",
   "metadata": {},
   "outputs": [
    {
     "data": {
      "text/html": [
       "<div>\n",
       "<style scoped>\n",
       "    .dataframe tbody tr th:only-of-type {\n",
       "        vertical-align: middle;\n",
       "    }\n",
       "\n",
       "    .dataframe tbody tr th {\n",
       "        vertical-align: top;\n",
       "    }\n",
       "\n",
       "    .dataframe thead th {\n",
       "        text-align: right;\n",
       "    }\n",
       "</style>\n",
       "<table border=\"1\" class=\"dataframe\">\n",
       "  <thead>\n",
       "    <tr style=\"text-align: right;\">\n",
       "      <th></th>\n",
       "      <th>deal_date</th>\n",
       "      <th>deal_id</th>\n",
       "      <th>deal_type</th>\n",
       "      <th>deal_amount</th>\n",
       "    </tr>\n",
       "  </thead>\n",
       "  <tbody>\n",
       "    <tr>\n",
       "      <th>0</th>\n",
       "      <td>2021-09-29</td>\n",
       "      <td>vel174_202109</td>\n",
       "      <td>Reverse Merger</td>\n",
       "      <td>345</td>\n",
       "    </tr>\n",
       "    <tr>\n",
       "      <th>1</th>\n",
       "      <td>2021-09-29</td>\n",
       "      <td>war005_202109</td>\n",
       "      <td>IPO</td>\n",
       "      <td>3109</td>\n",
       "    </tr>\n",
       "    <tr>\n",
       "      <th>2</th>\n",
       "      <td>2021-09-30</td>\n",
       "      <td>ben137_202109</td>\n",
       "      <td>Reverse Merger</td>\n",
       "      <td>403</td>\n",
       "    </tr>\n",
       "    <tr>\n",
       "      <th>3</th>\n",
       "      <td>2021-09-30</td>\n",
       "      <td>bea219_202109</td>\n",
       "      <td>M&amp;A</td>\n",
       "      <td>275</td>\n",
       "    </tr>\n",
       "    <tr>\n",
       "      <th>4</th>\n",
       "      <td>2021-09-30</td>\n",
       "      <td>avi218_202109</td>\n",
       "      <td>M&amp;A</td>\n",
       "      <td>275</td>\n",
       "    </tr>\n",
       "  </tbody>\n",
       "</table>\n",
       "</div>"
      ],
      "text/plain": [
       "    deal_date        deal_id       deal_type  deal_amount\n",
       "0  2021-09-29  vel174_202109  Reverse Merger          345\n",
       "1  2021-09-29  war005_202109             IPO         3109\n",
       "2  2021-09-30  ben137_202109  Reverse Merger          403\n",
       "3  2021-09-30  bea219_202109             M&A          275\n",
       "4  2021-09-30  avi218_202109             M&A          275"
      ]
     },
     "execution_count": 3,
     "metadata": {},
     "output_type": "execute_result"
    }
   ],
   "source": [
    "df_deals = pd.read_csv('https://github.com/bdi475/datasets/raw/737da234227d5ecec1369df1a1827cd40872c0eb/vc-exits/deals.csv')\n",
    "\n",
    "df_deals.head()"
   ]
  },
  {
   "cell_type": "markdown",
   "id": "230f949a-f1a7-4ab8-b38d-cdf35de3d3c5",
   "metadata": {},
   "source": [
    "## Quiz Questions"
   ]
  },
  {
   "cell_type": "markdown",
   "id": "9c855ab9-e26e-482f-b9d8-915625b9470e",
   "metadata": {},
   "source": [
    "### How many companies?"
   ]
  },
  {
   "cell_type": "code",
   "execution_count": 4,
   "id": "1dfe7cc8-da38-47f2-a042-89abbdbecef2",
   "metadata": {},
   "outputs": [
    {
     "data": {
      "text/plain": [
       "250"
      ]
     },
     "execution_count": 4,
     "metadata": {},
     "output_type": "execute_result"
    }
   ],
   "source": [
    "df_companies.shape[0]"
   ]
  },
  {
   "cell_type": "markdown",
   "id": "f6851597-8a98-4de3-9991-3baf41085b5e",
   "metadata": {},
   "source": [
    "### Number of profitable companies?"
   ]
  },
  {
   "cell_type": "code",
   "execution_count": 5,
   "id": "ee800fb6-15ff-44f1-b57f-f6e8bd23c09d",
   "metadata": {},
   "outputs": [
    {
     "data": {
      "text/plain": [
       "38"
      ]
     },
     "execution_count": 5,
     "metadata": {},
     "output_type": "execute_result"
    }
   ],
   "source": [
    "df_companies[df_companies['is_profitable']].shape[0]"
   ]
  },
  {
   "cell_type": "markdown",
   "id": "0647fd42-0374-4356-9747-791231525779",
   "metadata": {},
   "source": [
    "### Does `df_companies` contain any row with missing `country` value?"
   ]
  },
  {
   "cell_type": "code",
   "execution_count": 6,
   "id": "3c2e0cef-acab-47fe-a46d-4d6c6917fe73",
   "metadata": {},
   "outputs": [
    {
     "data": {
      "text/html": [
       "<div>\n",
       "<style scoped>\n",
       "    .dataframe tbody tr th:only-of-type {\n",
       "        vertical-align: middle;\n",
       "    }\n",
       "\n",
       "    .dataframe tbody tr th {\n",
       "        vertical-align: top;\n",
       "    }\n",
       "\n",
       "    .dataframe thead th {\n",
       "        text-align: right;\n",
       "    }\n",
       "</style>\n",
       "<table border=\"1\" class=\"dataframe\">\n",
       "  <thead>\n",
       "    <tr style=\"text-align: right;\">\n",
       "      <th></th>\n",
       "      <th>company_name</th>\n",
       "      <th>deal_id</th>\n",
       "      <th>industry</th>\n",
       "      <th>city</th>\n",
       "      <th>country</th>\n",
       "      <th>is_profitable</th>\n",
       "      <th>patents</th>\n",
       "    </tr>\n",
       "  </thead>\n",
       "  <tbody>\n",
       "    <tr>\n",
       "      <th>191</th>\n",
       "      <td>Sixense Enterprises</td>\n",
       "      <td>six232_202110</td>\n",
       "      <td>Other Hardware</td>\n",
       "      <td>NaN</td>\n",
       "      <td>NaN</td>\n",
       "      <td>False</td>\n",
       "      <td>0</td>\n",
       "    </tr>\n",
       "  </tbody>\n",
       "</table>\n",
       "</div>"
      ],
      "text/plain": [
       "            company_name        deal_id        industry city country  \\\n",
       "191  Sixense Enterprises  six232_202110  Other Hardware  NaN     NaN   \n",
       "\n",
       "     is_profitable  patents  \n",
       "191          False        0  "
      ]
     },
     "execution_count": 6,
     "metadata": {},
     "output_type": "execute_result"
    }
   ],
   "source": [
    "df_companies[df_companies['country'].isna()]"
   ]
  },
  {
   "cell_type": "markdown",
   "id": "46ec763b-8dba-4e54-85f7-b8dc75c2d80c",
   "metadata": {},
   "source": [
    "**Answer**: True"
   ]
  },
  {
   "cell_type": "markdown",
   "id": "0c5a9db6-599c-44c0-9e38-8d430d5dd97c",
   "metadata": {},
   "source": [
    "### Merge DataFrames (ungraded)"
   ]
  },
  {
   "cell_type": "code",
   "execution_count": 7,
   "id": "5f2d330b-654d-46fd-8513-f89b66babe4f",
   "metadata": {},
   "outputs": [
    {
     "name": "stdout",
     "output_type": "stream",
     "text": [
      "(250, 10)\n"
     ]
    }
   ],
   "source": [
    "df = pd.merge(\n",
    "    left=df_companies,\n",
    "    right=df_deals,\n",
    "    on='deal_id',\n",
    "    how='inner'\n",
    ")\n",
    "print(df.shape) # should print (250, 11)"
   ]
  },
  {
   "cell_type": "code",
   "execution_count": 8,
   "id": "fd68d3b2-082c-4aea-a694-5026a265718f",
   "metadata": {},
   "outputs": [
    {
     "data": {
      "text/html": [
       "<div>\n",
       "<style scoped>\n",
       "    .dataframe tbody tr th:only-of-type {\n",
       "        vertical-align: middle;\n",
       "    }\n",
       "\n",
       "    .dataframe tbody tr th {\n",
       "        vertical-align: top;\n",
       "    }\n",
       "\n",
       "    .dataframe thead th {\n",
       "        text-align: right;\n",
       "    }\n",
       "</style>\n",
       "<table border=\"1\" class=\"dataframe\">\n",
       "  <thead>\n",
       "    <tr style=\"text-align: right;\">\n",
       "      <th></th>\n",
       "      <th>company_name</th>\n",
       "      <th>deal_id</th>\n",
       "      <th>industry</th>\n",
       "      <th>city</th>\n",
       "      <th>country</th>\n",
       "      <th>is_profitable</th>\n",
       "      <th>patents</th>\n",
       "      <th>deal_date</th>\n",
       "      <th>deal_type</th>\n",
       "      <th>deal_amount</th>\n",
       "    </tr>\n",
       "  </thead>\n",
       "  <tbody>\n",
       "    <tr>\n",
       "      <th>0</th>\n",
       "      <td>300</td>\n",
       "      <td>300145_202112</td>\n",
       "      <td>Entertainment Software</td>\n",
       "      <td>New York</td>\n",
       "      <td>United States</td>\n",
       "      <td>False</td>\n",
       "      <td>0</td>\n",
       "      <td>2021-12-16</td>\n",
       "      <td>M&amp;A</td>\n",
       "      <td>397</td>\n",
       "    </tr>\n",
       "    <tr>\n",
       "      <th>1</th>\n",
       "      <td>ACROBiosystems</td>\n",
       "      <td>acr168_202110</td>\n",
       "      <td>Discovery Tools (Healthcare)</td>\n",
       "      <td>Beijing</td>\n",
       "      <td>China</td>\n",
       "      <td>True</td>\n",
       "      <td>0</td>\n",
       "      <td>2021-10-18</td>\n",
       "      <td>IPO</td>\n",
       "      <td>348</td>\n",
       "    </tr>\n",
       "    <tr>\n",
       "      <th>2</th>\n",
       "      <td>ASR Microelectronics</td>\n",
       "      <td>asr032_202201</td>\n",
       "      <td>Application Specific Semiconductors</td>\n",
       "      <td>Shanghai</td>\n",
       "      <td>China</td>\n",
       "      <td>False</td>\n",
       "      <td>6</td>\n",
       "      <td>2022-01-14</td>\n",
       "      <td>IPO</td>\n",
       "      <td>1079</td>\n",
       "    </tr>\n",
       "  </tbody>\n",
       "</table>\n",
       "</div>"
      ],
      "text/plain": [
       "           company_name        deal_id                             industry  \\\n",
       "0                   300  300145_202112               Entertainment Software   \n",
       "1        ACROBiosystems  acr168_202110         Discovery Tools (Healthcare)   \n",
       "2  ASR Microelectronics  asr032_202201  Application Specific Semiconductors   \n",
       "\n",
       "       city        country  is_profitable  patents   deal_date deal_type  \\\n",
       "0  New York  United States          False        0  2021-12-16       M&A   \n",
       "1   Beijing          China           True        0  2021-10-18       IPO   \n",
       "2  Shanghai          China          False        6  2022-01-14       IPO   \n",
       "\n",
       "   deal_amount  \n",
       "0          397  \n",
       "1          348  \n",
       "2         1079  "
      ]
     },
     "execution_count": 8,
     "metadata": {},
     "output_type": "execute_result"
    }
   ],
   "source": [
    "df.head(3)"
   ]
  },
  {
   "cell_type": "markdown",
   "id": "a09c3d5e-9d54-4ee2-a7e4-7f7285cc2320",
   "metadata": {},
   "source": [
    "### Which company recorded the largest deal amount in India?"
   ]
  },
  {
   "cell_type": "code",
   "execution_count": 9,
   "id": "647d195b-44aa-424f-9bb8-9d6f5d0714ef",
   "metadata": {},
   "outputs": [
    {
     "data": {
      "text/html": [
       "<div>\n",
       "<style scoped>\n",
       "    .dataframe tbody tr th:only-of-type {\n",
       "        vertical-align: middle;\n",
       "    }\n",
       "\n",
       "    .dataframe tbody tr th {\n",
       "        vertical-align: top;\n",
       "    }\n",
       "\n",
       "    .dataframe thead th {\n",
       "        text-align: right;\n",
       "    }\n",
       "</style>\n",
       "<table border=\"1\" class=\"dataframe\">\n",
       "  <thead>\n",
       "    <tr style=\"text-align: right;\">\n",
       "      <th></th>\n",
       "      <th>company_name</th>\n",
       "      <th>deal_id</th>\n",
       "      <th>industry</th>\n",
       "      <th>city</th>\n",
       "      <th>country</th>\n",
       "      <th>is_profitable</th>\n",
       "      <th>patents</th>\n",
       "      <th>deal_date</th>\n",
       "      <th>deal_type</th>\n",
       "      <th>deal_amount</th>\n",
       "    </tr>\n",
       "  </thead>\n",
       "  <tbody>\n",
       "    <tr>\n",
       "      <th>162</th>\n",
       "      <td>Paytm</td>\n",
       "      <td>pay011_202111</td>\n",
       "      <td>Financial Software</td>\n",
       "      <td>Noida</td>\n",
       "      <td>India</td>\n",
       "      <td>True</td>\n",
       "      <td>0</td>\n",
       "      <td>2021-11-18</td>\n",
       "      <td>IPO</td>\n",
       "      <td>2452</td>\n",
       "    </tr>\n",
       "  </tbody>\n",
       "</table>\n",
       "</div>"
      ],
      "text/plain": [
       "    company_name        deal_id            industry   city country  \\\n",
       "162        Paytm  pay011_202111  Financial Software  Noida   India   \n",
       "\n",
       "     is_profitable  patents   deal_date deal_type  deal_amount  \n",
       "162           True        0  2021-11-18       IPO         2452  "
      ]
     },
     "execution_count": 9,
     "metadata": {},
     "output_type": "execute_result"
    }
   ],
   "source": [
    "df[df['country'] == 'India'].sort_values('deal_amount', ascending=False).head(1)"
   ]
  },
  {
   "cell_type": "markdown",
   "id": "d044ca13-ef7b-4e56-8c4c-83be0b1927da",
   "metadata": {},
   "source": [
    "**Answer**: Paytm"
   ]
  },
  {
   "cell_type": "markdown",
   "id": "6a1dc61f-9b45-403f-a13f-b2e8430115eb",
   "metadata": {},
   "source": [
    "### Which company recorded the largest deal amount in 2021?"
   ]
  },
  {
   "cell_type": "code",
   "execution_count": 10,
   "id": "f7531677-2bcb-4ee5-854c-992824932468",
   "metadata": {},
   "outputs": [
    {
     "data": {
      "text/html": [
       "<div>\n",
       "<style scoped>\n",
       "    .dataframe tbody tr th:only-of-type {\n",
       "        vertical-align: middle;\n",
       "    }\n",
       "\n",
       "    .dataframe tbody tr th {\n",
       "        vertical-align: top;\n",
       "    }\n",
       "\n",
       "    .dataframe thead th {\n",
       "        text-align: right;\n",
       "    }\n",
       "</style>\n",
       "<table border=\"1\" class=\"dataframe\">\n",
       "  <thead>\n",
       "    <tr style=\"text-align: right;\">\n",
       "      <th></th>\n",
       "      <th>company_name</th>\n",
       "      <th>deal_id</th>\n",
       "      <th>industry</th>\n",
       "      <th>city</th>\n",
       "      <th>country</th>\n",
       "      <th>is_profitable</th>\n",
       "      <th>patents</th>\n",
       "      <th>deal_date</th>\n",
       "      <th>deal_type</th>\n",
       "      <th>deal_amount</th>\n",
       "      <th>year</th>\n",
       "    </tr>\n",
       "  </thead>\n",
       "  <tbody>\n",
       "    <tr>\n",
       "      <th>175</th>\n",
       "      <td>Rivian</td>\n",
       "      <td>riv001_202111</td>\n",
       "      <td>Automotive</td>\n",
       "      <td>Irvine</td>\n",
       "      <td>United States</td>\n",
       "      <td>False</td>\n",
       "      <td>114</td>\n",
       "      <td>2021-11-10</td>\n",
       "      <td>IPO</td>\n",
       "      <td>11934</td>\n",
       "      <td>2021</td>\n",
       "    </tr>\n",
       "  </tbody>\n",
       "</table>\n",
       "</div>"
      ],
      "text/plain": [
       "    company_name        deal_id    industry    city        country  \\\n",
       "175       Rivian  riv001_202111  Automotive  Irvine  United States   \n",
       "\n",
       "     is_profitable  patents  deal_date deal_type  deal_amount  year  \n",
       "175          False      114 2021-11-10       IPO        11934  2021  "
      ]
     },
     "execution_count": 10,
     "metadata": {},
     "output_type": "execute_result"
    }
   ],
   "source": [
    "df['deal_date'] = pd.to_datetime(df['deal_date'])\n",
    "df['year'] = df['deal_date'].dt.year\n",
    "\n",
    "df[df['year'] == 2021].sort_values('deal_amount', ascending=False).head(1)"
   ]
  },
  {
   "cell_type": "markdown",
   "id": "f874a246-ade7-4895-bb2f-9250264d336b",
   "metadata": {},
   "source": [
    "**Answer**: Rivian"
   ]
  },
  {
   "cell_type": "markdown",
   "id": "c1cb4c18-ebe0-4660-a778-efe80ca3d187",
   "metadata": {},
   "source": [
    "### Which country has the third largest total deal amount?"
   ]
  },
  {
   "cell_type": "code",
   "execution_count": 11,
   "id": "6f171a53-a0d9-468d-b56a-682ff0ecc8c8",
   "metadata": {},
   "outputs": [
    {
     "data": {
      "text/html": [
       "<div>\n",
       "<style scoped>\n",
       "    .dataframe tbody tr th:only-of-type {\n",
       "        vertical-align: middle;\n",
       "    }\n",
       "\n",
       "    .dataframe tbody tr th {\n",
       "        vertical-align: top;\n",
       "    }\n",
       "\n",
       "    .dataframe thead th {\n",
       "        text-align: right;\n",
       "    }\n",
       "</style>\n",
       "<table border=\"1\" class=\"dataframe\">\n",
       "  <thead>\n",
       "    <tr style=\"text-align: right;\">\n",
       "      <th></th>\n",
       "      <th>country</th>\n",
       "      <th>deal_amount</th>\n",
       "    </tr>\n",
       "  </thead>\n",
       "  <tbody>\n",
       "    <tr>\n",
       "      <th>27</th>\n",
       "      <td>United States</td>\n",
       "      <td>109712</td>\n",
       "    </tr>\n",
       "    <tr>\n",
       "      <th>6</th>\n",
       "      <td>China</td>\n",
       "      <td>26421</td>\n",
       "    </tr>\n",
       "    <tr>\n",
       "      <th>26</th>\n",
       "      <td>United Kingdom</td>\n",
       "      <td>14268</td>\n",
       "    </tr>\n",
       "  </tbody>\n",
       "</table>\n",
       "</div>"
      ],
      "text/plain": [
       "           country  deal_amount\n",
       "27   United States       109712\n",
       "6            China        26421\n",
       "26  United Kingdom        14268"
      ]
     },
     "execution_count": 11,
     "metadata": {},
     "output_type": "execute_result"
    }
   ],
   "source": [
    "df_by_country = df.groupby('country', as_index=False).agg({\n",
    "      'deal_amount': 'sum'\n",
    "})\n",
    "\n",
    "df_by_country.sort_values('deal_amount', ascending=False).head(3)"
   ]
  },
  {
   "cell_type": "markdown",
   "id": "84d4ec60-ccd0-4489-bc49-c7ecba675e8a",
   "metadata": {},
   "source": [
    "**Answer**: United Kingdom"
   ]
  },
  {
   "cell_type": "markdown",
   "id": "2d064491-1b8a-4d64-9f37-a1423f0c6fb7",
   "metadata": {},
   "source": [
    "### Which deal type has the lowest average deal amount?"
   ]
  },
  {
   "cell_type": "code",
   "execution_count": 12,
   "id": "f61fa58c-1bf4-4222-b0b5-dcda7feffa4a",
   "metadata": {},
   "outputs": [
    {
     "data": {
      "text/html": [
       "<div>\n",
       "<style scoped>\n",
       "    .dataframe tbody tr th:only-of-type {\n",
       "        vertical-align: middle;\n",
       "    }\n",
       "\n",
       "    .dataframe tbody tr th {\n",
       "        vertical-align: top;\n",
       "    }\n",
       "\n",
       "    .dataframe thead th {\n",
       "        text-align: right;\n",
       "    }\n",
       "</style>\n",
       "<table border=\"1\" class=\"dataframe\">\n",
       "  <thead>\n",
       "    <tr style=\"text-align: right;\">\n",
       "      <th></th>\n",
       "      <th>deal_type</th>\n",
       "      <th>deal_amount</th>\n",
       "    </tr>\n",
       "  </thead>\n",
       "  <tbody>\n",
       "    <tr>\n",
       "      <th>3</th>\n",
       "      <td>Reverse Merger</td>\n",
       "      <td>498.644444</td>\n",
       "    </tr>\n",
       "  </tbody>\n",
       "</table>\n",
       "</div>"
      ],
      "text/plain": [
       "        deal_type  deal_amount\n",
       "3  Reverse Merger   498.644444"
      ]
     },
     "execution_count": 12,
     "metadata": {},
     "output_type": "execute_result"
    }
   ],
   "source": [
    "df_by_deal_type = df.groupby('deal_type', as_index=False).agg({\n",
    "      'deal_amount': 'mean'\n",
    "})\n",
    "\n",
    "df_by_deal_type.sort_values('deal_amount').head(1)"
   ]
  },
  {
   "cell_type": "markdown",
   "id": "4f9fccab-7af6-4170-935d-e93922f1dc50",
   "metadata": {},
   "source": [
    "**Answer**: Reverse Merger"
   ]
  },
  {
   "cell_type": "markdown",
   "id": "1f52ce98-fbc0-4236-853d-c99057f89e61",
   "metadata": {},
   "source": [
    "### Among the companies that are not profitable, which company has the largest number of patents?"
   ]
  },
  {
   "cell_type": "code",
   "execution_count": 13,
   "id": "6ddf3f6d-0b70-4dc1-8b82-4e226999fac1",
   "metadata": {},
   "outputs": [
    {
     "data": {
      "text/html": [
       "<div>\n",
       "<style scoped>\n",
       "    .dataframe tbody tr th:only-of-type {\n",
       "        vertical-align: middle;\n",
       "    }\n",
       "\n",
       "    .dataframe tbody tr th {\n",
       "        vertical-align: top;\n",
       "    }\n",
       "\n",
       "    .dataframe thead th {\n",
       "        text-align: right;\n",
       "    }\n",
       "</style>\n",
       "<table border=\"1\" class=\"dataframe\">\n",
       "  <thead>\n",
       "    <tr style=\"text-align: right;\">\n",
       "      <th></th>\n",
       "      <th>company_name</th>\n",
       "      <th>deal_id</th>\n",
       "      <th>industry</th>\n",
       "      <th>city</th>\n",
       "      <th>country</th>\n",
       "      <th>is_profitable</th>\n",
       "      <th>patents</th>\n",
       "      <th>deal_date</th>\n",
       "      <th>deal_type</th>\n",
       "      <th>deal_amount</th>\n",
       "      <th>year</th>\n",
       "    </tr>\n",
       "  </thead>\n",
       "  <tbody>\n",
       "    <tr>\n",
       "      <th>150</th>\n",
       "      <td>Nuance Communications</td>\n",
       "      <td>nua000_202203</td>\n",
       "      <td>Business/Productivity Software</td>\n",
       "      <td>Burlington</td>\n",
       "      <td>United States</td>\n",
       "      <td>False</td>\n",
       "      <td>1113</td>\n",
       "      <td>2022-03-04</td>\n",
       "      <td>M&amp;A</td>\n",
       "      <td>18800</td>\n",
       "      <td>2022</td>\n",
       "    </tr>\n",
       "  </tbody>\n",
       "</table>\n",
       "</div>"
      ],
      "text/plain": [
       "              company_name        deal_id                        industry  \\\n",
       "150  Nuance Communications  nua000_202203  Business/Productivity Software   \n",
       "\n",
       "           city        country  is_profitable  patents  deal_date deal_type  \\\n",
       "150  Burlington  United States          False     1113 2022-03-04       M&A   \n",
       "\n",
       "     deal_amount  year  \n",
       "150        18800  2022  "
      ]
     },
     "execution_count": 13,
     "metadata": {},
     "output_type": "execute_result"
    }
   ],
   "source": [
    "df_no_profit = df[~df['is_profitable']]\n",
    "df_no_profit.sort_values('patents', ascending=False).head(1)"
   ]
  },
  {
   "cell_type": "markdown",
   "id": "1259f968-ca5e-4a8e-a65b-e5134fcd9a1f",
   "metadata": {},
   "source": [
    "**Answer**: Nuance Communications"
   ]
  }
 ],
 "metadata": {
  "kernelspec": {
   "display_name": "Python 3 (ipykernel)",
   "language": "python",
   "name": "python3"
  },
  "language_info": {
   "codemirror_mode": {
    "name": "ipython",
    "version": 3
   },
   "file_extension": ".py",
   "mimetype": "text/x-python",
   "name": "python",
   "nbconvert_exporter": "python",
   "pygments_lexer": "ipython3",
   "version": "3.9.7"
  }
 },
 "nbformat": 4,
 "nbformat_minor": 5
}
