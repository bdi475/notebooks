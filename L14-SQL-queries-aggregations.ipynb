{
 "cells": [
  {
   "cell_type": "markdown",
   "metadata": {},
   "source": [
    "# SQL Queries and Aggregations"
   ]
  },
  {
   "cell_type": "markdown",
   "metadata": {},
   "source": [
    "---\n",
    "\n",
    "## ✨ Aggregating Data"
   ]
  },
  {
   "cell_type": "markdown",
   "metadata": {},
   "source": [
    "Today, we will review basic SQL queries and try out a few aggregations. We will perform every exercise using both Pandas and SQL to see how similar they are."
   ]
  },
  {
   "cell_type": "markdown",
   "metadata": {},
   "source": [
    "▶️ First, run the code cell below to import modules used for **🧭 Check Your Work** sections and the autograder."
   ]
  },
  {
   "cell_type": "code",
   "execution_count": null,
   "metadata": {},
   "outputs": [],
   "source": [
    "import unittest\n",
    "import base64\n",
    "tc = unittest.TestCase()"
   ]
  },
  {
   "cell_type": "markdown",
   "metadata": {},
   "source": [
    "---\n",
    "\n",
    "### 🎯 Pre-exercise: Import Packages"
   ]
  },
  {
   "cell_type": "markdown",
   "metadata": {},
   "source": [
    "#### 👇 Tasks\n",
    "\n",
    "- ✔️ Import the following Python packages.\n",
    "    1. `pandas`: Use alias `pd`.\n",
    "    2. `numpy`: Use alias `np`.\n",
    "    3. `sqlite3`: No alias"
   ]
  },
  {
   "cell_type": "code",
   "execution_count": null,
   "metadata": {},
   "outputs": [],
   "source": [
    "# YOUR CODE BEGINS\n",
    "\n",
    "\n",
    "# YOUR CODE ENDS"
   ]
  },
  {
   "cell_type": "markdown",
   "metadata": {},
   "source": [
    "#### 🧭 Check your work"
   ]
  },
  {
   "cell_type": "code",
   "execution_count": null,
   "metadata": {
    "nbgrader": {
     "grade": true,
     "grade_id": "pre-exercise",
     "locked": true,
     "points": "1",
     "solution": false
    }
   },
   "outputs": [],
   "source": [
    "import sys\n",
    "tc.assertTrue('pd' in globals(), 'Check whether you have correctly imported Pandas with an alias.')\n",
    "tc.assertTrue('np' in globals(), 'Check whether you have correctly imported NumPy with an alias.')\n",
    "tc.assertTrue('sqlite3' in globals(), 'Check whether you have correctly imported the sqlite3 package.')"
   ]
  },
  {
   "cell_type": "markdown",
   "metadata": {},
   "source": [
    "---\n",
    "### 📌 Populate a database table from a CSV file"
   ]
  },
  {
   "cell_type": "markdown",
   "metadata": {},
   "source": [
    "▶️ Run the code below to create a DataFrame named `df_listings`."
   ]
  },
  {
   "cell_type": "code",
   "execution_count": null,
   "metadata": {},
   "outputs": [],
   "source": [
    "df_listings = pd.read_csv('https://github.com/bdi475/datasets/raw/main/boston-airbnb-listings-small.csv')\n",
    "df_listings_backup = df_listings.copy()\n",
    "\n",
    "display(df_listings.head(5))"
   ]
  },
  {
   "cell_type": "markdown",
   "metadata": {},
   "source": [
    "▶️ Run the code below to populate the `listings` table. All data in `df_listings` will be inserted to the table."
   ]
  },
  {
   "cell_type": "code",
   "execution_count": null,
   "metadata": {},
   "outputs": [],
   "source": [
    "conn = sqlite3.connect('airbnb-boston-medium.db')\n",
    "c = conn.cursor()\n",
    "\n",
    "tables = list(pd.read_sql_query('SELECT * FROM sqlite_master WHERE type=\"table\";', con=conn)['tbl_name'])\n",
    "\n",
    "if 'listings' in tables:\n",
    "    c.execute(f'DELETE FROM listings')\n",
    "    conn.commit()\n",
    "    \n",
    "df_listings.to_sql(name='listings', index=False, con=conn, if_exists='append')\n",
    "\n",
    "conn.close()"
   ]
  },
  {
   "cell_type": "markdown",
   "metadata": {},
   "source": [
    "#### 🧭 Check your work"
   ]
  },
  {
   "cell_type": "code",
   "execution_count": null,
   "metadata": {},
   "outputs": [],
   "source": [
    "# DO NOT CHANGE THE CODE IN THIS CELL\n",
    "conn_checker = sqlite3.connect('airbnb-boston-medium.db')\n",
    "table_to_check = 'listings'\n",
    "\n",
    "# Check if table exists\n",
    "user_tables = list(pd.read_sql_query('SELECT * FROM sqlite_master WHERE type=\"table\";', con=conn_checker)['tbl_name'])\n",
    "tc.assertTrue(table_to_check in user_tables, f'{table_to_check} does not exist in your airbnb-boston-medium.db file!')\n",
    "\n",
    "conn_checker.close()"
   ]
  },
  {
   "cell_type": "markdown",
   "metadata": {},
   "source": [
    "▶️ Run the code below to display `df_listings`."
   ]
  },
  {
   "cell_type": "code",
   "execution_count": null,
   "metadata": {},
   "outputs": [],
   "source": [
    "display(df_listings)"
   ]
  },
  {
   "cell_type": "markdown",
   "metadata": {},
   "source": [
    "---\n",
    "\n",
    "### 🎯 Exercise 1: Select all columns and rows from the `listings` table (SQL)\n",
    "\n",
    "#### 👇 Tasks\n",
    "\n",
    "- ✔️ Write a query that selects all columns for all rows.\n",
    "- ✔️ Store your query to a new variable named `query_select_all`."
   ]
  },
  {
   "cell_type": "code",
   "execution_count": null,
   "metadata": {},
   "outputs": [],
   "source": [
    "# YOUR CODE BEGINS\n",
    "\n",
    "\n",
    "\n",
    "# YOUR CODE ENDS\n",
    "conn = sqlite3.connect('airbnb-boston-medium.db')\n",
    "df_result = pd.read_sql_query(query_select_all, con=conn)\n",
    "display(df_result)\n",
    "conn.close()"
   ]
  },
  {
   "cell_type": "markdown",
   "metadata": {},
   "source": [
    "#### 🧭 Check your work"
   ]
  },
  {
   "cell_type": "code",
   "execution_count": null,
   "metadata": {
    "nbgrader": {
     "grade": true,
     "grade_id": "exercise-01",
     "locked": true,
     "points": "1",
     "solution": false
    }
   },
   "outputs": [],
   "source": [
    "# DO NOT CHANGE THE CODE IN THIS CELL\n",
    "conn = sqlite3.connect('airbnb-boston-medium.db')\n",
    "decoded_query = base64.b64decode(b'ClNFTEVDVCAqCkZST00gbGlzdGluZ3MK').decode()\n",
    "df_check = pd.read_sql_query(decoded_query, con=conn)\n",
    "tc.assertEqual(df_result.shape, df_check.shape, 'Number of rows and/or columns is different')\n",
    "conn.close()"
   ]
  },
  {
   "cell_type": "markdown",
   "metadata": {},
   "source": [
    "---\n",
    "\n",
    "### 🎯 Exercise 2A: Find expensive listings (Pandas)\n",
    "\n",
    "#### 👇 Tasks\n",
    "\n",
    "- ✔️ Using `df_listings`, find all rows with a price of over $1,000 (`df_listings['price'] > 1000`).\n",
    "- ✔️ Store the result to a new variable named `df_expensive_listings`.\n",
    "\n",
    "#### 🔑 Expected Output\n",
    "\n",
    "Your index column may contain different values.\n",
    "\n",
    "|     | name                                           | neighbourhood   | room_type       |   bedrooms |   bathrooms |   minimum_nights |   price |   availability_365 |   number_of_reviews |   review_score |   is_superhost |\n",
    "|----:|:-----------------------------------------------|:----------------|:----------------|-----------:|------------:|-----------------:|--------:|-------------------:|--------------------:|---------------:|---------------:|\n",
    "| 502 | Large 4BDR near Harvard with Parking           | Allston         | Entire home/apt |          4 |         2.5 |                1 |    1250 |                  0 |                 136 |             98 |              0 |\n",
    "| 669 | The Historic House in the North End/Waterfront | North End       | Entire home/apt |          3 |         2   |               91 |    1052 |                  0 |                 104 |             98 |              1 |"
   ]
  },
  {
   "cell_type": "code",
   "execution_count": null,
   "metadata": {
    "nbgrader": {
     "grade": false,
     "locked": false,
     "solution": false
    }
   },
   "outputs": [],
   "source": [
    "# YOUR CODE BEGINS\n",
    "# YOUR CODE ENDS\n",
    "display(df_expensive_listings)"
   ]
  },
  {
   "cell_type": "markdown",
   "metadata": {},
   "source": [
    "#### 🧭 Check your work"
   ]
  },
  {
   "cell_type": "code",
   "execution_count": null,
   "metadata": {
    "nbgrader": {
     "grade": true,
     "grade_id": "exercise-2A",
     "locked": true,
     "points": "1",
     "solution": false
    }
   },
   "outputs": [],
   "source": [
    "# DO NOT CHANGE THE CODE IN THIS CELL\n",
    "df_check = df_listings_backup.query(f\"{'PrIcE'.lower()} > {25 * 40}\")\n",
    "\n",
    "pd.testing.assert_frame_equal(df_expensive_listings.sort_values(df_expensive_listings.columns.tolist()).reset_index(drop=True),\n",
    "                              df_check.sort_values(df_check.columns.tolist()).reset_index(drop=True))"
   ]
  },
  {
   "cell_type": "markdown",
   "metadata": {},
   "source": [
    "---\n",
    "\n",
    "### 🎯 Exercise 2B: Find expensive listings (SQL)\n",
    "\n",
    "#### 👇 Tasks\n",
    "\n",
    "- ✔️ Using the `listings` table, select rows with a price of over $1,000 (`price > 1000`).\n",
    "- ✔️ Select all columns.\n",
    "- ✔️ Store your query to a new variable named `query_expensive_listings`."
   ]
  },
  {
   "cell_type": "code",
   "execution_count": null,
   "metadata": {},
   "outputs": [],
   "source": [
    "# YOUR CODE BEGINS\n",
    "\n",
    "\n",
    "\n",
    "\n",
    "# YOUR CODE ENDS\n",
    "conn = sqlite3.connect('airbnb-boston-medium.db')\n",
    "df_result = pd.read_sql_query(query_expensive_listings, con=conn)\n",
    "display(df_result)\n",
    "conn.close()"
   ]
  },
  {
   "cell_type": "markdown",
   "metadata": {},
   "source": [
    "#### 🧭 Check your work"
   ]
  },
  {
   "cell_type": "code",
   "execution_count": null,
   "metadata": {
    "nbgrader": {
     "grade": true,
     "grade_id": "exercise-2B",
     "locked": true,
     "points": "1",
     "solution": false
    }
   },
   "outputs": [],
   "source": [
    "# DO NOT CHANGE THE CODE IN THIS CELL\n",
    "conn = sqlite3.connect('airbnb-boston-medium.db')\n",
    "decoded_query = base64.b64decode(b'ClNFTEVDVCAqCkZST00gbGlzdGluZ3MKV0hFUkUgcHJpY2UgPiAxMDAwCg==').decode()\n",
    "df_check = pd.read_sql_query(decoded_query, con=conn)\n",
    "tc.assertEqual(df_result.shape, df_check.shape, 'Number of rows and/or columns is different')\n",
    "pd.testing.assert_frame_equal(df_result.sort_values(df_result.columns.tolist()).reset_index(drop=True),\n",
    "                              df_check.sort_values(df_check.columns.tolist()).reset_index(drop=True))\n",
    "conn.close()"
   ]
  },
  {
   "cell_type": "markdown",
   "metadata": {},
   "source": [
    "---\n",
    "\n",
    "### 🎯 Exercise 3A: Find large listings (Pandas)\n",
    "\n",
    "#### 👇 Tasks\n",
    "\n",
    "- ✔️ Using `df_listings`, find all rows where the listing has:\n",
    "    - 5 or more bedrooms\n",
    "    - **AND** 3 or more bathrooms\n",
    "- ✔️ Select only the following 5 columns (in the same order):\n",
    "    - `name`, `bedrooms`, `bathrooms`, `price`, `review_score`\n",
    "- ✔️ Store the result to a new variable named `df_large_listings`.\n",
    "\n",
    "#### 🔑 Expected Output\n",
    "\n",
    "Your index column may contain different values.\n",
    "\n",
    "|     | name                                               |   bedrooms |   bathrooms |   price |   review_score |\n",
    "|----:|:---------------------------------------------------|-----------:|------------:|--------:|---------------:|\n",
    "| 151 | Beautiful Philadelphia house near Harvard U. w/ pk |          5 |           3 |     600 |             82 |\n",
    "| 250 | Spacious 4 BR | 2.5 BA Single-Family Home.         |          5 |           3 |     373 |             97 |\n",
    "| 921 | ★Large Retreat 5BR w/3BA★ Close to Everything      |          5 |           3 |     738 |             95 |"
   ]
  },
  {
   "cell_type": "code",
   "execution_count": null,
   "metadata": {
    "nbgrader": {
     "grade": false,
     "grade_id": "exercise-3A",
     "locked": false,
     "points": "1",
     "solution": false
    }
   },
   "outputs": [],
   "source": [
    "# YOUR CODE BEGINS\n",
    "\n",
    "# YOUR CODE ENDS\n",
    "display(df_large_listings)"
   ]
  },
  {
   "cell_type": "markdown",
   "metadata": {},
   "source": [
    "#### 🧭 Check your work"
   ]
  },
  {
   "cell_type": "code",
   "execution_count": null,
   "metadata": {
    "nbgrader": {
     "grade": true,
     "grade_id": "exercise-3A",
     "locked": true,
     "points": "1",
     "solution": false
    }
   },
   "outputs": [],
   "source": [
    "# DO NOT CHANGE THE CODE IN THIS CELL\n",
    "__r = 'oo'.join(['R', 'Ms']).lower()\n",
    "df_check = df_listings.query(f'bed{__r} > {2 ** 2} & bath{__r} > {2 ** 1}') \\\n",
    "    [['_'.join(['review', 'score']), 'price', 'bath' + __r, 'bed' + __r, 'name'][::-1]]\n",
    "\n",
    "pd.testing.assert_frame_equal(df_large_listings.sort_values(df_large_listings.columns.tolist()).reset_index(drop=True),\n",
    "                              df_check.sort_values(df_check.columns.tolist()).reset_index(drop=True))"
   ]
  },
  {
   "cell_type": "markdown",
   "metadata": {},
   "source": [
    "---\n",
    "\n",
    "### 🎯 Exercise 3B: Find large listings (SQL)\n",
    "\n",
    "#### 👇 Tasks\n",
    "\n",
    "- ✔️ Using the `listings` table, find all rows where the listing has:\n",
    "    - 5 or more bedrooms\n",
    "    - **AND** 3 or more bathrooms\n",
    "- ✔️ Select only the following 5 columns (in the same order):\n",
    "    - `name`, `bedrooms`, `bathrooms`, `price`, `review_score`\n",
    "- ✔️ Store your query to a new variable named `query_large_listings`."
   ]
  },
  {
   "cell_type": "code",
   "execution_count": null,
   "metadata": {},
   "outputs": [],
   "source": [
    "# YOUR CODE BEGINS\n",
    "\n",
    "\n",
    "\n",
    "\n",
    "# YOUR CODE ENDS\n",
    "conn = sqlite3.connect('airbnb-boston-medium.db')\n",
    "df_result = pd.read_sql_query(query_large_listings, con=conn)\n",
    "display(df_result)\n",
    "conn.close()"
   ]
  },
  {
   "cell_type": "markdown",
   "metadata": {},
   "source": [
    "#### 🧭 Check your work"
   ]
  },
  {
   "cell_type": "code",
   "execution_count": null,
   "metadata": {
    "nbgrader": {
     "grade": true,
     "grade_id": "exercise-3B",
     "locked": true,
     "points": "1",
     "solution": false
    }
   },
   "outputs": [],
   "source": [
    "# DO NOT CHANGE THE CODE IN THIS CELL\n",
    "conn = sqlite3.connect('airbnb-boston-medium.db')\n",
    "decoded_query = base64.b64decode(b'ClNFTEVDVCBuYW1lLCBiZWRyb29tcywgYmF0aHJvb21zLCBwcmljZSwgcmV2aWV3X3Njb3JlCkZST00gbGlzdGluZ3MKV0hFUkUgKGJlZHJvb21zID49IDUpIEFORCAoYmF0aHJvb21zID49IDMpCg=='\n",
    ").decode()\n",
    "df_check = pd.read_sql_query(decoded_query, con=conn)\n",
    "tc.assertEqual(df_result.columns.tolist(), df_check.columns.tolist(), 'Incorrect set of columns or order')\n",
    "tc.assertEqual(df_result.shape, df_check.shape, 'Number of rows and/or columns is different')\n",
    "pd.testing.assert_frame_equal(df_result.sort_values(df_result.columns.tolist()).reset_index(drop=True),\n",
    "                              df_check.sort_values(df_check.columns.tolist()).reset_index(drop=True))\n",
    "conn.close()"
   ]
  },
  {
   "cell_type": "markdown",
   "metadata": {},
   "source": [
    "---\n",
    "\n",
    "### 🎯 Exercise 4A: Number of listings (Pandas)\n",
    "\n",
    "#### 👇 Tasks\n",
    "\n",
    "- ✔️ Find the number of rows in `df_listings`.\n",
    "- ✔️ Store the result to a new variable named `num_listings`.\n",
    "- ✔️ `num_listings` should be an integer type."
   ]
  },
  {
   "cell_type": "code",
   "execution_count": null,
   "metadata": {},
   "outputs": [],
   "source": [
    "# YOUR CODE BEGINS\n",
    "# YOUR CODE ENDS\n",
    "print(f'There are {num_listings} AirBnB listings in the dataset.')"
   ]
  },
  {
   "cell_type": "markdown",
   "metadata": {},
   "source": [
    "#### 🧭 Check your work"
   ]
  },
  {
   "cell_type": "code",
   "execution_count": null,
   "metadata": {
    "nbgrader": {
     "grade": true,
     "grade_id": "exercise-4A",
     "locked": true,
     "points": "1",
     "solution": false
    }
   },
   "outputs": [],
   "source": [
    "# DO NOT CHANGE THE CODE IN THIS CELL\n",
    "tc.assertEqual(num_listings, len(df_listings_backup.index), f'Incorrect number of listings - should be {len(df_listings_backup.index)}')"
   ]
  },
  {
   "cell_type": "markdown",
   "metadata": {},
   "source": [
    "---\n",
    "\n",
    "### 🎯 Exercise 4B: Number of listings (SQL)\n",
    "\n",
    "#### 👇 Tasks\n",
    "\n",
    "- ✔️ Write a query that counts the number of rows in the `listings` table.\n",
    "- ✔️ Store your query in a new variable named `query_num_listings`."
   ]
  },
  {
   "cell_type": "code",
   "execution_count": null,
   "metadata": {},
   "outputs": [],
   "source": [
    "# YOUR CODE BEGINS\n",
    "\n",
    "\n",
    "\n",
    "# YOUR CODE ENDS\n",
    "conn = sqlite3.connect('airbnb-boston-medium.db')\n",
    "df_result = pd.read_sql_query(query_num_listings, con=conn)\n",
    "display(df_result)\n",
    "conn.close()"
   ]
  },
  {
   "cell_type": "markdown",
   "metadata": {},
   "source": [
    "#### 🧭 Check your work"
   ]
  },
  {
   "cell_type": "code",
   "execution_count": null,
   "metadata": {
    "nbgrader": {
     "grade": true,
     "grade_id": "exercise-4B",
     "locked": true,
     "points": "1",
     "solution": false
    }
   },
   "outputs": [],
   "source": [
    "# DO NOT CHANGE THE CODE IN THIS CELL\n",
    "conn = sqlite3.connect('airbnb-boston-medium.db')\n",
    "decoded_query = base64.b64decode(b'ClNFTEVDVCBDT1VOVCgqKQpGUk9NIGxpc3RpbmdzCg==').decode()\n",
    "df_check = pd.read_sql_query(decoded_query, con=conn)\n",
    "tc.assertEqual(df_result.iloc[0, 0], df_check.iloc[0, 0], 'Incorrect number of listings')\n",
    "conn.close()"
   ]
  },
  {
   "cell_type": "markdown",
   "metadata": {},
   "source": [
    "---\n",
    "\n",
    "### 🎯 Exercise 5A: Get the number of listings by neighbourhood (Pandas)\n",
    "\n",
    "#### 👇 Tasks\n",
    "\n",
    "- ✔️ Using `df_listings`, find the number of listings by neighbourhood.\n",
    "- ✔️ Store the result to a new variable named `df_by_neighbourhood`.\n",
    "- ✔️ `df_by_neighbourhood` should have the following two columns.\n",
    "    1. `neighbourhood`: Name of the neighbourhood\n",
    "    2. `num_listings`: Number of listings in a neighbourhood\n",
    "- ✔️ `print(df_by_neighbourhood.columns.tolist())` should print `['neighbourhood', 'num_listings']`.\n",
    "- ✔️ **Sort** `df_by_neighbourhood` by `num_listings` in descending order.\n",
    "\n",
    "#### 🔑 Expected Output\n",
    "\n",
    "Your index column may contain different values.\n",
    "\n",
    "|    | neighbourhood   |   num_listings |\n",
    "|---:|:----------------|---------------:|\n",
    "|  7 | Dorchester      |            215 |\n",
    "| 12 | Jamaica Plain   |            129 |\n",
    "| 19 | Roxbury         |            107 |\n",
    "|  9 | East Boston     |             90 |\n",
    "| 22 | South End       |             86 |"
   ]
  },
  {
   "cell_type": "code",
   "execution_count": null,
   "metadata": {},
   "outputs": [],
   "source": [
    "# YOUR CODE BEGINS\n",
    "\n",
    "\n",
    "\n",
    "\n",
    "\n",
    "# YOUR CODE ENDS\n",
    "df_by_neighbourhood.head(5)"
   ]
  },
  {
   "cell_type": "markdown",
   "metadata": {},
   "source": [
    "#### 🧭 Check your work"
   ]
  },
  {
   "cell_type": "code",
   "execution_count": null,
   "metadata": {
    "nbgrader": {
     "grade": true,
     "grade_id": "exercise-5A",
     "locked": true,
     "points": "1",
     "solution": false
    }
   },
   "outputs": [],
   "source": [
    "# DO NOT CHANGE THE CODE IN THIS CELL\n",
    "df_check = df_listings_backup.pivot_table(index=['neigh' + 'BoUr'.lower() + 'HooD'.lower()],\n",
    "                                          values=['NaMe'.lower()],\n",
    "                                          aggfunc=('CoU' + 'Nt').lower()) \\\n",
    "                                .rename(columns={'NaME'.lower(): '_'.join(['NuM', 'LiSTinGs']).lower()}) \\\n",
    "                                .reset_index().sort_values('_'.join(['NuM', 'LiSTinGs']).lower(), ascending=bool(0))\n",
    "\n",
    "pd.testing.assert_series_equal(df_by_neighbourhood['num_listings'].reset_index(drop=True),\n",
    "                               df_check['num_listings'].reset_index(drop=True))"
   ]
  },
  {
   "cell_type": "markdown",
   "metadata": {},
   "source": [
    "---\n",
    "\n",
    "### 🎯 Exercise 5B: Get the number of listings by neighbourhood (SQL)\n",
    "\n",
    "#### 👇 Tasks\n",
    "\n",
    "- ✔️ Write a query that counts the number of listings by neighbourhood from the `listings` table.\n",
    "- ✔️ The result of the query should have the following two columns.\n",
    "    1. `neighbourhood`: Name of the neighbourhood\n",
    "    2. `num_listings`: Number of listings in a neighbourhood\n",
    "- ✔️ Store your query in a new variable named `query_num_listings_by_neighbourhood`.\n",
    "- ✔️ **Sort** your result by `num_listings` in descending order."
   ]
  },
  {
   "cell_type": "code",
   "execution_count": null,
   "metadata": {},
   "outputs": [],
   "source": [
    "# YOUR CODE BEGINS\n",
    "\n",
    "\n",
    "\n",
    "\n",
    "\n",
    "# YOUR CODE ENDS\n",
    "conn = sqlite3.connect('airbnb-boston-medium.db')\n",
    "df_result = pd.read_sql_query(query_num_listings_by_neighbourhood, con=conn)\n",
    "display(df_result)\n",
    "conn.close()"
   ]
  },
  {
   "cell_type": "markdown",
   "metadata": {},
   "source": [
    "#### 🧭 Check your work"
   ]
  },
  {
   "cell_type": "code",
   "execution_count": null,
   "metadata": {
    "nbgrader": {
     "grade": true,
     "grade_id": "exercise-5B",
     "locked": true,
     "points": "1",
     "solution": false
    }
   },
   "outputs": [],
   "source": [
    "# DO NOT CHANGE THE CODE IN THIS CELL\n",
    "conn = sqlite3.connect('airbnb-boston-medium.db')\n",
    "decoded_query = base64.b64decode(b'ClNFTEVDVCBuZWlnaGJvdXJob29kLCBDT1VOVCgqKSBBUyBudW1fbGlzdGluZ3MKRlJPTSBsaXN0aW5ncwpHUk9VUCBCWSBuZWlnaGJvdXJob29kCk9SREVSIEJZIG51bV9saXN0aW5ncyBERVNDCg==').decode()\n",
    "df_check = pd.read_sql_query(decoded_query, con=conn)\n",
    "tc.assertEqual(df_result.shape, df_check.shape, 'Number of rows and/or columns is different')\n",
    "pd.testing.assert_series_equal(df_result['num_listings'].reset_index(drop=True),\n",
    "                               df_result['num_listings'].reset_index(drop=True))\n",
    "conn.close()"
   ]
  },
  {
   "cell_type": "markdown",
   "metadata": {},
   "source": [
    "#### 🚀 Solution\n",
    "\n",
    "```sql\n",
    "SELECT neighbourhood, COUNT(*) AS num_listings\n",
    "FROM listings\n",
    "GROUP BY neighbourhood\n",
    "ORDER BY num_listings DESC\n",
    "```"
   ]
  },
  {
   "cell_type": "markdown",
   "metadata": {},
   "source": [
    "---\n",
    "\n",
    "### 🎯 Exercise 6A: Average price by room type (Pandas)"
   ]
  },
  {
   "cell_type": "markdown",
   "metadata": {},
   "source": [
    "#### 👇 Tasks\n",
    "\n",
    "- ✔️ Using `df_listings`, find the average price by room type.\n",
    "- ✔️ Store the result to a new variable named `df_price_by_room_type`.\n",
    "- ✔️ `df_price_by_room_type` should have the following two columns.\n",
    "    1. `room_type`: Room type\n",
    "    2. `price`: Average price of the room type\n",
    "- ✔️ `print(df_price_by_room_type.columns.tolist())` should print `['room_type', 'price']`.\n",
    "- ✔️ **Sort** `df_price_by_room_type` by `price` in ascending order.\n",
    "\n",
    "#### 🔑 Expected Output\n",
    "\n",
    "Your index column may contain different values.\n",
    "\n",
    "|    | room_type       |    price |\n",
    "|---:|:----------------|---------:|\n",
    "|  3 | Shared room     |  34.75   |\n",
    "|  2 | Private room    |  82.2278 |\n",
    "|  0 | Entire home/apt | 201.135  |\n",
    "|  1 | Hotel room      | 206.273  |"
   ]
  },
  {
   "cell_type": "code",
   "execution_count": null,
   "metadata": {},
   "outputs": [],
   "source": [
    "# YOUR CODE BEGINS\n",
    "\n",
    "\n",
    "\n",
    "\n",
    "\n",
    "# YOUR CODE ENDS\n",
    "df_price_by_room_type"
   ]
  },
  {
   "cell_type": "markdown",
   "metadata": {},
   "source": [
    "#### 🧭 Check your work"
   ]
  },
  {
   "cell_type": "code",
   "execution_count": null,
   "metadata": {
    "nbgrader": {
     "grade": true,
     "grade_id": "exercise-6A",
     "locked": true,
     "points": "1",
     "solution": false
    }
   },
   "outputs": [],
   "source": [
    "# DO NOT CHANGE THE CODE IN THIS CELL\n",
    "df_check = df_listings_backup.pivot_table(index=['RoOm_'.lower() + 'TyPe'.lower()],\n",
    "                                          values=['price'],\n",
    "                                          aggfunc=np.mean) \\\n",
    "                                .reset_index() \\\n",
    "                                .sort_values('price', ascending=bool(not False))\n",
    "\n",
    "pd.testing.assert_frame_equal(df_price_by_room_type.sort_values(df_price_by_room_type.columns.tolist()).reset_index(drop=True),\n",
    "                              df_check.sort_values(df_check.columns.tolist()).reset_index(drop=True))"
   ]
  },
  {
   "cell_type": "markdown",
   "metadata": {},
   "source": [
    "---\n",
    "\n",
    "### 🎯 Exercise 6B: Average price by room type (SQL)\n",
    "\n",
    "#### 👇 Tasks\n",
    "\n",
    "- ✔️ Write a query that finds the average price by room type from the `listings` table.\n",
    "- ✔️ Store your query to a new variable named `query_price_by_room_type`.\n",
    "- ✔️ Your result should have the following two columns.\n",
    "    1. `room_type`: Room type\n",
    "    2. `price`: Average price of the room type\n",
    "- ✔️ **Sort** your result by `price` in ascending order."
   ]
  },
  {
   "cell_type": "code",
   "execution_count": null,
   "metadata": {},
   "outputs": [],
   "source": [
    "# YOUR CODE BEGINS\n",
    "\n",
    "\n",
    "\n",
    "\n",
    "\n",
    "# YOUR CODE ENDS\n",
    "conn = sqlite3.connect('airbnb-boston-medium.db')\n",
    "df_result = pd.read_sql_query(query_price_by_room_type, con=conn)\n",
    "display(df_result)\n",
    "conn.close()"
   ]
  },
  {
   "cell_type": "markdown",
   "metadata": {},
   "source": [
    "#### 🧭 Check your work"
   ]
  },
  {
   "cell_type": "code",
   "execution_count": null,
   "metadata": {
    "nbgrader": {
     "grade": true,
     "grade_id": "exercise-6B",
     "locked": true,
     "points": "1",
     "solution": false
    }
   },
   "outputs": [],
   "source": [
    "# DO NOT CHANGE THE CODE IN THIS CELL\n",
    "conn = sqlite3.connect('airbnb-boston-medium.db')\n",
    "decoded_query = base64.b64decode(b'ClNFTEVDVCByb29tX3R5cGUsIEFWRyhwcmljZSkgYXMgcHJpY2UKRlJPTSBsaXN0aW5ncwpHUk9VUCBCWSByb29tX3R5cGUKT1JERVIgQlkgcHJpY2UK').decode()\n",
    "df_check = pd.read_sql_query(decoded_query, con=conn)\n",
    "tc.assertEqual(df_result.shape, df_check.shape, 'Number of rows and/or columns is different')\n",
    "pd.testing.assert_frame_equal(df_result.sort_values(df_result.columns.tolist()).reset_index(drop=True),\n",
    "                              df_check.sort_values(df_check.columns.tolist()).reset_index(drop=True))\n",
    "\n",
    "conn.close()"
   ]
  },
  {
   "cell_type": "markdown",
   "metadata": {},
   "source": [
    "---\n",
    "\n",
    "## 🎬 More SQL Exercises\n",
    "\n",
    "In the next section, we will work with a [Bollywood Movies Dataset](https://data.mendeley.com/datasets/3c57btcxy9/1) that includes all 1698 Hindi language movies released in India between 2005 and 2017 from the website of Box Office India.\n",
    "\n",
    "Source: [Mendeley Data](https://data.mendeley.com/datasets/3c57btcxy9/1)\n",
    "\n",
    "\n",
    "### 📌 Populate a database table from a CSV file\n",
    "\n",
    "▶️ Run the code below to create a DataFrame named `df_movies`."
   ]
  },
  {
   "cell_type": "code",
   "execution_count": null,
   "metadata": {},
   "outputs": [],
   "source": [
    "df_movies = pd.read_csv('https://github.com/bdi475/datasets/raw/main/bollywood-movies.csv')\n",
    "df_movies_backup = df_movies.copy()\n",
    "\n",
    "display(df_movies.head(5))"
   ]
  },
  {
   "cell_type": "markdown",
   "metadata": {},
   "source": [
    "▶️ Run the code below to populate the `movies` table. All data in `df_movies` will be inserted to the table."
   ]
  },
  {
   "cell_type": "code",
   "execution_count": null,
   "metadata": {},
   "outputs": [],
   "source": [
    "conn = sqlite3.connect('bollywood-movies.db')\n",
    "c = conn.cursor()\n",
    "\n",
    "tables = list(pd.read_sql_query('SELECT * FROM sqlite_master WHERE type=\"table\";', con=conn)['tbl_name'])\n",
    "\n",
    "if 'movies' in tables:\n",
    "    c.execute(f'DELETE FROM movies')\n",
    "    conn.commit()\n",
    "    \n",
    "df_movies.to_sql(name='movies', index=False, con=conn, if_exists='append')\n",
    "\n",
    "conn.close()"
   ]
  },
  {
   "cell_type": "markdown",
   "metadata": {},
   "source": [
    "#### 🧭 Check your work"
   ]
  },
  {
   "cell_type": "code",
   "execution_count": null,
   "metadata": {},
   "outputs": [],
   "source": [
    "# DO NOT CHANGE THE CODE IN THIS CELL\n",
    "conn_checker = sqlite3.connect('bollywood-movies.db')\n",
    "table_to_check = 'movies'\n",
    "\n",
    "# Check if table exists\n",
    "user_tables = list(pd.read_sql_query('SELECT * FROM sqlite_master WHERE type=\"table\";', con=conn_checker)['tbl_name'])\n",
    "tc.assertTrue(table_to_check in user_tables, f'{table_to_check} does not exist in your bollywood-movies.db file!')\n",
    "\n",
    "conn_checker.close()"
   ]
  },
  {
   "cell_type": "markdown",
   "metadata": {},
   "source": [
    "▶️ Run the code below to display `df_movies`."
   ]
  },
  {
   "cell_type": "code",
   "execution_count": null,
   "metadata": {},
   "outputs": [],
   "source": [
    "display(df_movies)"
   ]
  },
  {
   "cell_type": "markdown",
   "metadata": {},
   "source": [
    "---\n",
    "\n",
    "### 🎯 Exercise 7: Top 5 movies with the largest number of screens\n",
    "\n",
    "#### 👇 Tasks\n",
    "\n",
    "- ✔️ Find the top 5 movies with the largest number of screens.\n",
    "- ✔️ The result of the query should have the following two columns.\n",
    "    1. `movie_name`: Name of the movie\n",
    "    2. `num_screens`: Number of screens\n",
    "- ✔️ Store your query in a new variable named `query_top5_movies_by_screens`.\n",
    "- ✔️ **Sort** your result by `num_screens` in descending order.\n",
    "\n",
    "#### 🧭 Expected Output\n",
    "\n",
    "|    | movie_name           |   num_screens |\n",
    "|---:|:---------------------|--------------:|\n",
    "|  0 | Tiger Zinda Hai      |          4600 |\n",
    "|  1 | Tubelight            |          4400 |\n",
    "|  2 | Sultan               |          4350 |\n",
    "|  3 | Dangal               |          4250 |\n",
    "|  4 | Prem Ratan Dhan Payo |          4200 |"
   ]
  },
  {
   "cell_type": "code",
   "execution_count": null,
   "metadata": {},
   "outputs": [],
   "source": [
    "# YOUR CODE BEGINS\n",
    "\n",
    "\n",
    "\n",
    "\n",
    "\n",
    "# YOUR CODE ENDS\n",
    "conn = sqlite3.connect('bollywood-movies.db')\n",
    "df_result = pd.read_sql_query(query_top5_movies_by_screens, con=conn)\n",
    "display(df_result)\n",
    "conn.close()"
   ]
  },
  {
   "cell_type": "markdown",
   "metadata": {},
   "source": [
    "#### 🧭 Check your work"
   ]
  },
  {
   "cell_type": "code",
   "execution_count": null,
   "metadata": {
    "nbgrader": {
     "grade": true,
     "grade_id": "exercise-6B",
     "locked": true,
     "points": "1",
     "solution": false
    }
   },
   "outputs": [],
   "source": [
    "# DO NOT CHANGE THE CODE IN THIS CELL\n",
    "conn = sqlite3.connect('bollywood-movies.db')\n",
    "decoded_query = base64.b64decode(b'ClNFTEVDVCBtb3ZpZV9uYW1lLCBudW1fc2NyZWVuc\\\n",
    "wpGUk9NIG1vdmllcwpPUkRFUiBCWSBudW1fc2NyZWVucyBERVNDCkxJTUlUIDU7Cg==').decode()\n",
    "df_check = pd.read_sql_query(decoded_query, con=conn)\n",
    "tc.assertEqual(df_result.shape, df_check.shape, 'Number of rows and/or columns is different')\n",
    "pd.testing.assert_frame_equal(df_result.reset_index(drop=True),\n",
    "                              df_check.reset_index(drop=True))\n",
    "\n",
    "conn.close()"
   ]
  },
  {
   "cell_type": "markdown",
   "metadata": {},
   "source": [
    "---\n",
    "\n",
    "### 🎯 Exercise 8: Get the number of movies by lead star\n",
    "\n",
    "#### 👇 Tasks\n",
    "\n",
    "- ✔️ Write a query that counts the number of movies by lead star from the `movies` table.\n",
    "- ✔️ The result of the query should have the following two columns.\n",
    "    1. `lead_star`: Name of the lead_star\n",
    "    2. `num_movies`: Number of movies starred by the lead_star\n",
    "- ✔️ Store your query in a new variable named `query_num_movies_by_lead_star`.\n",
    "- ✔️ **Sort** your result by `num_movies` in descending order.\n",
    "- ✔️ Only select the top 10 rows.\n",
    "\n",
    "#### 🧭 Expected Output\n",
    "\n",
    "|    | lead_star        |   num_movies |\n",
    "|---:|:-----------------|-------------:|\n",
    "|  0 | Akshay Kumar     |           48 |\n",
    "|  1 | Ajay Devgn       |           35 |\n",
    "|  2 | Salman Khan      |           27 |\n",
    "|  3 | Emraan Hashmi    |           27 |\n",
    "|  4 | Amitabh Bachchan |           21 |\n",
    "|  5 | Shahid Kapoor    |           18 |\n",
    "|  6 | Sanjay Dutt      |           18 |\n",
    "|  7 | Saif Ali Khan    |           18 |\n",
    "|  8 | Ranbir Kapoor    |           17 |\n",
    "|  9 | John Abraham     |           17 |"
   ]
  },
  {
   "cell_type": "code",
   "execution_count": null,
   "metadata": {},
   "outputs": [],
   "source": [
    "# YOUR CODE BEGINS\n",
    "\n",
    "\n",
    "\n",
    "\n",
    "\n",
    "\n",
    "# YOUR CODE ENDS\n",
    "conn = sqlite3.connect('bollywood-movies.db')\n",
    "df_result = pd.read_sql_query(query_num_movies_by_lead_star, con=conn)\n",
    "display(df_result)\n",
    "conn.close()"
   ]
  },
  {
   "cell_type": "markdown",
   "metadata": {},
   "source": [
    "#### 🧭 Check your work"
   ]
  },
  {
   "cell_type": "code",
   "execution_count": null,
   "metadata": {
    "nbgrader": {
     "grade": true,
     "grade_id": "exercise-6B",
     "locked": true,
     "points": "1",
     "solution": false
    }
   },
   "outputs": [],
   "source": [
    "# DO NOT CHANGE THE CODE IN THIS CELL\n",
    "conn = sqlite3.connect('bollywood-movies.db')\n",
    "decoded_query = base64.b64decode(b'ClNFTEVDVCBsZWFkX3N0YXIsIENPVU5UKCopIEFTIG51bV9tb\\\n",
    "3ZpZXMKRlJPTSBtb3ZpZXMKR1JPVVAgQlkgbGVhZF9zdGFyCk9SREVSIEJZIG51bV9tb3ZpZXMgREVTQwpMSU1JVCAxMDsK').decode()\n",
    "df_check = pd.read_sql_query(decoded_query, con=conn)\n",
    "tc.assertEqual(df_result.shape, df_check.shape, 'Number of rows and/or columns is different')\n",
    "pd.testing.assert_frame_equal(df_result.reset_index(drop=True),\n",
    "                              df_check.reset_index(drop=True))\n",
    "\n",
    "conn.close()"
   ]
  },
  {
   "cell_type": "markdown",
   "metadata": {},
   "source": [
    "---\n",
    "\n",
    "### 🎯 Exercise 9: Average revenue and budget by genre\n",
    "\n",
    "#### 👇 Tasks\n",
    "\n",
    "- ✔️ Write a query that finds the average revenue and budget by genre.\n",
    "- ✔️ The result of the query should have the following three columns.\n",
    "    1. `genre`: Each genre\n",
    "    2. `average_revenue`: Average revenue\n",
    "    3. `average_budget`: Average budget\n",
    "- ✔️ Store your query in a new variable named `query_genre_stats`.\n",
    "- ✔️ **Sort** your result by `average_revenue` in descending order.\n",
    "\n",
    "#### 🧭 Expected Output\n",
    "\n",
    "|    | genre        |   average_revenue |   average_budget |\n",
    "|---:|:-------------|------------------:|-----------------:|\n",
    "|  0 | masala       |     1002500000.00 |    2684070937.50 |\n",
    "|  1 | documentary  |      390000000.00 |     649515000.00 |\n",
    "|  2 | action       |      345958661.42 |     612091863.19 |\n",
    "|  3 | fantasy      |      199615384.62 |      85812019.23 |\n",
    "|  4 | rom__com     |      199323157.89 |     295074342.11 |\n",
    "|  5 | thriller     |      155841981.13 |     195139264.39 |\n",
    "|  6 | love_story   |      154432330.83 |     256592253.29 |\n",
    "|  7 | comedy       |      152713028.17 |     234431389.08 |\n",
    "|  8 | drama        |      110292762.13 |     164228786.27 |\n",
    "|  9 | animation    |       97500000.00 |      13300000.00 |\n",
    "| 10 | horror       |       71103773.58 |      97006981.13 |\n",
    "| 11 | suspense     |       38750000.00 |      20628333.33 |\n",
    "| 12 | mythological |        9214285.71 |        728035.71 |\n",
    "| 13 | adult        |        3957692.31 |       4591378.21 |"
   ]
  },
  {
   "cell_type": "code",
   "execution_count": null,
   "metadata": {},
   "outputs": [],
   "source": [
    "# YOUR CODE BEGINS\n",
    "\n",
    "\n",
    "\n",
    "\n",
    "\n",
    "\n",
    "\n",
    "\n",
    "# YOUR CODE ENDS\n",
    "# avoid scientific notations\n",
    "pd.set_option('display.float_format', lambda x: '%.2f' % x)\n",
    "\n",
    "conn = sqlite3.connect('bollywood-movies.db')\n",
    "df_result = pd.read_sql_query(query_genre_stats, con=conn)\n",
    "display(df_result)\n",
    "conn.close()"
   ]
  },
  {
   "cell_type": "markdown",
   "metadata": {},
   "source": [
    "#### 🧭 Check your work"
   ]
  },
  {
   "cell_type": "code",
   "execution_count": null,
   "metadata": {
    "nbgrader": {
     "grade": true,
     "grade_id": "exercise-6B",
     "locked": true,
     "points": "1",
     "solution": false
    }
   },
   "outputs": [],
   "source": [
    "# DO NOT CHANGE THE CODE IN THIS CELL\n",
    "conn = sqlite3.connect('bollywood-movies.db')\n",
    "decoded_query = base64.b64decode(b'ClNFTEVDVCAKICAgIGdlbnJlLAogICAgQVZHKHJldmVudWVfaW5fSU5S\\\n",
    "KSBBUyBhdmVyYWdlX3JldmVudWUsCiAgICBBVkcoYnVkZ2V0X2luX0lOUikgQVMgYXZlcmFnZV9idWRnZXQKRlJPTSB\\\n",
    "tb3ZpZXMKR1JPVVAgQlkgZ2VucmUKT1JERVIgQlkgYXZlcmFnZV9yZXZlbnVlIERFU0M7Cg==').decode()\n",
    "df_check = pd.read_sql_query(decoded_query, con=conn)\n",
    "tc.assertEqual(df_result.shape, df_check.shape, 'Number of rows and/or columns is different')\n",
    "pd.testing.assert_frame_equal(df_result.reset_index(drop=True),\n",
    "                              df_check.reset_index(drop=True))\n",
    "\n",
    "conn.close()"
   ]
  }
 ],
 "metadata": {
  "kernelspec": {
   "display_name": "Python 3 (ipykernel)",
   "language": "python",
   "name": "python3"
  },
  "language_info": {
   "codemirror_mode": {
    "name": "ipython",
    "version": 3
   },
   "file_extension": ".py",
   "mimetype": "text/x-python",
   "name": "python",
   "nbconvert_exporter": "python",
   "pygments_lexer": "ipython3",
   "version": "3.9.7"
  }
 },
 "nbformat": 4,
 "nbformat_minor": 4
}
