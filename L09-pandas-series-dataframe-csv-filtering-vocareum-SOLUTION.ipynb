{
 "cells": [
  {
   "cell_type": "markdown",
   "metadata": {
    "id": "x7-fgFpYem7d"
   },
   "source": [
    "# Lecture 09 - Pandas Series, DataFrame, CSV, Filtering\n",
    "\n",
    "Tuesday 2022/02/15"
   ]
  },
  {
   "cell_type": "markdown",
   "metadata": {
    "id": "C4bFxpNCem7g"
   },
   "source": [
    "## Lecture Notes and in-class exercises"
   ]
  },
  {
   "cell_type": "markdown",
   "metadata": {
    "id": "DiznwS2xem7h"
   },
   "source": [
    "▶️ First, run the code cell below to import `unittest`, a module used for **🧭 Check Your Work** sections and the autograder."
   ]
  },
  {
   "cell_type": "code",
   "execution_count": null,
   "metadata": {
    "collapsed": true,
    "id": "xOFvIip0em7h",
    "jupyter": {
     "outputs_hidden": true
    }
   },
   "outputs": [],
   "source": [
    "import unittest\n",
    "tc = unittest.TestCase()"
   ]
  },
  {
   "cell_type": "markdown",
   "metadata": {
    "id": "i3PWWkSaem7i"
   },
   "source": [
    "#### 👇 Tasks\n",
    "\n",
    "- ✔️ Import the following Python packages.\n",
    "    1. `pandas`: Use alias `pd`.\n",
    "    2. `numpy`: Use alias `np`."
   ]
  },
  {
   "cell_type": "code",
   "execution_count": null,
   "metadata": {
    "collapsed": true,
    "id": "jfnhv8_Yem7j",
    "jupyter": {
     "outputs_hidden": true
    }
   },
   "outputs": [],
   "source": [
    "### BEGIN SOLUTION\n",
    "import pandas as pd\n",
    "import numpy as np\n",
    "### END SOLUTION"
   ]
  },
  {
   "cell_type": "markdown",
   "metadata": {
    "id": "WCOuwkrzem7j"
   },
   "source": [
    "#### 🧭 Check Your Work\n",
    "\n",
    "- Once you're done, run the code cell below to test correctness.\n",
    "- ✔️ If the code cell runs without an error, you're good to move on.\n",
    "- ❌ If the code cell throws an error, go back and fix incorrect parts."
   ]
  },
  {
   "cell_type": "code",
   "execution_count": null,
   "metadata": {
    "collapsed": true,
    "id": "WQ-COKL8em7k",
    "jupyter": {
     "outputs_hidden": true
    }
   },
   "outputs": [],
   "source": [
    "import sys\n",
    "tc.assertTrue(\"pd\" in globals(), \"Check whether you have correctly import Pandas with an alias.\")\n",
    "tc.assertTrue(\"np\" in globals(), \"Check whether you have correctly import NumPy with an alias.\")"
   ]
  },
  {
   "cell_type": "markdown",
   "metadata": {
    "id": "Dg-bBkF8fGaN"
   },
   "source": [
    "---\n",
    "\n",
    "### 🎯 Challenge 1: Create a Pandas Series\n",
    "\n",
    "#### 👇 Tasks\n",
    "\n",
    "- ✔️ Create a new Pandas `Series` named `my_series` with the following three values: `10`, `20`, `30`.\n",
    "\n",
    "#### 🚀 Hint\n",
    "\n",
    "The code below creates a new Pandas `Series` with the values `1` and `2`.\n",
    "\n",
    "```python\n",
    "my_new_series = pd.Series([1, 2])\n",
    "```"
   ]
  },
  {
   "cell_type": "code",
   "execution_count": null,
   "metadata": {
    "colab": {
     "base_uri": "https://localhost:8080/"
    },
    "collapsed": true,
    "id": "OoYuVAyhem7q",
    "jupyter": {
     "outputs_hidden": true
    },
    "outputId": "8eea66d1-ee93-464c-9889-346fd512d07a"
   },
   "outputs": [],
   "source": [
    "### BEGIN SOLUTION\n",
    "my_series = pd.Series([10, 20, 30])\n",
    "### END SOLUTION\n",
    "\n",
    "print(my_series)"
   ]
  },
  {
   "cell_type": "markdown",
   "metadata": {
    "id": "EdrK-mBsem7r"
   },
   "source": [
    "#### 🧭 Check Your Work\n",
    "\n",
    "- Once you're done, run the code cell below to test correctness.\n",
    "- ✔️ If the code cell runs without an error, you're good to move on.\n",
    "- ❌ If the code cell throws an error, go back and fix any incorrect parts."
   ]
  },
  {
   "cell_type": "code",
   "execution_count": null,
   "metadata": {
    "collapsed": true,
    "id": "DXDG3nzpem7r",
    "jupyter": {
     "outputs_hidden": true
    },
    "nbgrader": {
     "grade": true,
     "grade_id": "challenge-01",
     "locked": true,
     "points": "1",
     "solution": false
    }
   },
   "outputs": [],
   "source": [
    "pd.testing.assert_series_equal(my_series, pd.Series(x * 10 for x in range(1, 4)))"
   ]
  },
  {
   "cell_type": "markdown",
   "metadata": {
    "id": "Dg-bBkF8fGaN"
   },
   "source": [
    "---\n",
    "\n",
    "### 🎯 Challenge 2: Create a Pandas DataFrame\n",
    "\n",
    "#### 👇 Tasks\n",
    "\n",
    "- ✔️ You are given two lists - `product_names` and `num_reviews` that contain the names of make-up products and the number of reviews on Sephora.com.\n",
    "- ✔️ Using the two lists, create a new Pandas `DataFrame` named `df_top_products` that has the following two columns:\n",
    "    1. `product_name`: Names of the products\n",
    "    2. `num_review`: Number of reviews\n",
    "- ✔️ Note that the column names are singular.\n",
    "\n",
    "#### 🚀 Hint\n",
    "\n",
    "The code below creates a new Pandas `DataFrame` from two series.\n",
    "\n",
    "```python\n",
    "my_new_dataframe = pd.DataFrame({\n",
    "    \"column_one\": my_series1,\n",
    "    \"column_two\": my_series2\n",
    "})\n",
    "```"
   ]
  },
  {
   "cell_type": "code",
   "execution_count": null,
   "metadata": {
    "collapsed": true,
    "jupyter": {
     "outputs_hidden": true
    }
   },
   "outputs": [],
   "source": [
    "product_names = [\n",
    "    \"Laneige Lip Sleeping Mask\",\n",
    "    \"The Ordinary Hyaluronic Acid 2% + B5\",\n",
    "    \"Laneige Lip Glowy Balm\",\n",
    "    \"Chanel COCO MADEMOISELLE Eau de Parfum\"\n",
    "]\n",
    "\n",
    "num_reviews = [\n",
    "    12715,\n",
    "    2274,\n",
    "    2766,\n",
    "    724\n",
    "]\n",
    "\n",
    "### BEGIN SOLUTION\n",
    "df_top_products = pd.DataFrame({\n",
    "    \"product_name\": product_names,\n",
    "    \"num_review\": num_reviews\n",
    "})\n",
    "### END SOLUTION\n",
    "\n",
    "display(df_top_products)"
   ]
  },
  {
   "cell_type": "markdown",
   "metadata": {
    "id": "EdrK-mBsem7r"
   },
   "source": [
    "#### 🧭 Check Your Work\n",
    "\n",
    "- Once you're done, run the code cell below to test correctness.\n",
    "- ✔️ If the code cell runs without an error, you're good to move on.\n",
    "- ❌ If the code cell throws an error, go back and fix any incorrect parts."
   ]
  },
  {
   "cell_type": "code",
   "execution_count": null,
   "metadata": {
    "collapsed": true,
    "id": "DXDG3nzpem7r",
    "jupyter": {
     "outputs_hidden": true
    },
    "nbgrader": {
     "grade": true,
     "grade_id": "challenge-02",
     "locked": true,
     "points": "1",
     "solution": false
    }
   },
   "outputs": [],
   "source": [
    "pd.testing.assert_frame_equal(\n",
    "    df_top_products.reset_index(drop=True),\n",
    "    pd.DataFrame({\"product_name\": {0: \"Laneige Lip Sleeping Mask\",\n",
    "        1: \"The Ordinary Hyaluronic Acid 2% + B5\",\n",
    "        2: \"Laneige Lip Glowy Balm\",\n",
    "        3: \"Chanel COCO MADEMOISELLE Eau de Parfum\"},\n",
    "        \"num_review\": {0: 12715, 1: 2274, 2: 2766, 3: 724}})\n",
    ")"
   ]
  },
  {
   "cell_type": "markdown",
   "metadata": {
    "id": "126Uw95nem7k"
   },
   "source": [
    "---\n",
    "\n",
    "### 📌 Load data"
   ]
  },
  {
   "cell_type": "markdown",
   "metadata": {
    "id": "kH43B35Mem7l"
   },
   "source": [
    "The second part of today's lecture is all about **you**. 👻 Literally.\n",
    "\n",
    "▶️ Run the code cell below to create a new `DataFrame` named `df_you`."
   ]
  },
  {
   "cell_type": "code",
   "execution_count": null,
   "metadata": {
    "colab": {
     "base_uri": "https://localhost:8080/",
     "height": 204
    },
    "collapsed": true,
    "id": "CXJECgQiem7l",
    "jupyter": {
     "outputs_hidden": true
    },
    "outputId": "59ba80a2-892b-4e64-bbe9-1b8fc3a2880c"
   },
   "outputs": [],
   "source": [
    "df_you = pd.read_csv(\"about-you.csv\")\n",
    "\n",
    "# Used to keep a clean copy\n",
    "df_you_backup = df_you.copy()\n",
    "\n",
    "# head() displays the first 5 rows of a DataFrame\n",
    "df_you.head()"
   ]
  },
  {
   "cell_type": "markdown",
   "metadata": {
    "id": "t6vVg2dJem7m"
   },
   "source": [
    "☝️ **Hold on.** Didn't we always create `DataFrame`s using `pd.DataFrame()`?\n",
    "\n",
    "Yes. But we can *import* existing data as a Pandas `DataFrame` using `pd.read_csv()`. There are many other similar import methods. For now, we'll mostly use `pd.read_csv()`.\n",
    "\n",
    "The table below explains each column in `df_you`."
   ]
  },
  {
   "cell_type": "markdown",
   "metadata": {
    "id": "LI33A8-jem7m"
   },
   "source": [
    "| Column Name             | Description                                               |\n",
    "|-------------------------|-----------------------------------------------------------|\n",
    "| name                    | First name                                                |\n",
    "| major1                  | Major                                                     |\n",
    "| major2                  | Second major OR minor (blank if no second major or minor) |\n",
    "| city                    | City the person is from                                   |\n",
    "| fav_restaurant          | Favorite restaurant (blank if no restaurant was given)    |\n",
    "| fav_movie               | Favorite movie (blank if no movie was given)              |\n",
    "| has_iphone              | Whether the person use an iPhone                          |"
   ]
  },
  {
   "cell_type": "markdown",
   "metadata": {
    "id": "d5hE9oVSem7n"
   },
   "source": [
    "---\n",
    "\n",
    "### 📌 Concise summary of a `DataFrame`"
   ]
  },
  {
   "cell_type": "markdown",
   "metadata": {
    "id": "lg5s3hW2em7n"
   },
   "source": [
    "👉 A common first step in working with a `DataFrame` is to use the `info()` method. `info()` prints a concise summary of a `DataFrame`.\n",
    "- Index data type\n",
    "- Column information: for each column, the following information is displayed:\n",
    "    - Number of non-missing values\n",
    "    - Data type of the column\n",
    "- Memory usage"
   ]
  },
  {
   "cell_type": "markdown",
   "metadata": {
    "id": "v4myKhF8em7o"
   },
   "source": [
    "▶️ Run `df_you.info()` below to see the `info()` method in action."
   ]
  },
  {
   "cell_type": "code",
   "execution_count": null,
   "metadata": {
    "colab": {
     "base_uri": "https://localhost:8080/"
    },
    "collapsed": true,
    "id": "UfyZRM7rem7o",
    "jupyter": {
     "outputs_hidden": true
    },
    "outputId": "891d9445-721f-4c60-a345-36b679815cf0"
   },
   "outputs": [],
   "source": [
    "### BEGIN SOLUTION\n",
    "df_you.info()\n",
    "### END SOLUTION"
   ]
  },
  {
   "cell_type": "markdown",
   "metadata": {
    "id": "prZjAYOUem7o"
   },
   "source": [
    "👉 From the result of `df_you.info()`, we can understand a couple of things:\n",
    "\n",
    "- There are 7 columns.\n",
    "- Five columns have the `object` data type.\n",
    "    - In Pandas, a string data type is shown as `object`, not `str`.\n",
    "        - We will skip the technical discussion for now.\n",
    "- The second line of the output tells us that there are 40 entries.\n",
    "- Some columns have 40 non-null values - these columns do not contain any missing value.\n",
    "- Some columns have less than 40 non-null values - these columns contain one or more missing values.\n",
    "    - Missing values are displayed as `NaN`.\n",
    "    - To denote a missing value, use NumPy's `np.nan` (more on this later)."
   ]
  },
  {
   "cell_type": "markdown",
   "metadata": {
    "id": "OJ4qqvKIem7q"
   },
   "source": [
    "---\n",
    "\n",
    "### 🎯 Challenge 3: Display first/last/random rows"
   ]
  },
  {
   "cell_type": "markdown",
   "metadata": {
    "id": "TwWyyaQPem7q"
   },
   "source": [
    "▶️ Run `df_you.head()` to print the first 5 rows of `df_you`."
   ]
  },
  {
   "cell_type": "code",
   "execution_count": null,
   "metadata": {
    "colab": {
     "base_uri": "https://localhost:8080/"
    },
    "collapsed": true,
    "id": "OoYuVAyhem7q",
    "jupyter": {
     "outputs_hidden": true
    },
    "outputId": "8eea66d1-ee93-464c-9889-346fd512d07a"
   },
   "outputs": [],
   "source": [
    "### BEGIN SOLUTION\n",
    "df_you.head()\n",
    "### END SOLUTION"
   ]
  },
  {
   "cell_type": "markdown",
   "metadata": {
    "id": "TwWyyaQPem7q"
   },
   "source": [
    "▶️ Run `df_you.tail(4)` to print the first 4 rows of `df_you`."
   ]
  },
  {
   "cell_type": "code",
   "execution_count": null,
   "metadata": {
    "colab": {
     "base_uri": "https://localhost:8080/"
    },
    "collapsed": true,
    "id": "OoYuVAyhem7q",
    "jupyter": {
     "outputs_hidden": true
    },
    "outputId": "8eea66d1-ee93-464c-9889-346fd512d07a"
   },
   "outputs": [],
   "source": [
    "### BEGIN SOLUTION\n",
    "df_you.tail(4)\n",
    "### END SOLUTION"
   ]
  },
  {
   "cell_type": "markdown",
   "metadata": {
    "id": "TwWyyaQPem7q"
   },
   "source": [
    "▶️ Run `df_you.sample(3)` to print 3 randomly sampled rows from `df_you`."
   ]
  },
  {
   "cell_type": "code",
   "execution_count": null,
   "metadata": {
    "colab": {
     "base_uri": "https://localhost:8080/"
    },
    "collapsed": true,
    "id": "OoYuVAyhem7q",
    "jupyter": {
     "outputs_hidden": true
    },
    "outputId": "8eea66d1-ee93-464c-9889-346fd512d07a"
   },
   "outputs": [],
   "source": [
    "### BEGIN SOLUTION\n",
    "df_you.sample(3)\n",
    "### END SOLUTION"
   ]
  },
  {
   "cell_type": "code",
   "execution_count": null,
   "metadata": {
    "collapsed": true,
    "jupyter": {
     "outputs_hidden": true
    },
    "nbgrader": {
     "grade": true,
     "grade_id": "challenge-03",
     "locked": true,
     "points": "1",
     "solution": false
    }
   },
   "outputs": [],
   "source": [
    "# Autograder"
   ]
  },
  {
   "cell_type": "markdown",
   "metadata": {
    "id": "hgU6chDUem7o"
   },
   "source": [
    "---\n",
    "\n",
    "### 📌 Number of rows and columns in a `DataFrame`"
   ]
  },
  {
   "cell_type": "markdown",
   "metadata": {
    "id": "3w2j6dSFem7p"
   },
   "source": [
    "👉 How many rows and columns does `df_you` have?\n",
    "\n",
    "▶️ Run `df_you.shape` below to see the *shape* (number of rows and columns) of the database."
   ]
  },
  {
   "cell_type": "code",
   "execution_count": null,
   "metadata": {
    "colab": {
     "base_uri": "https://localhost:8080/"
    },
    "collapsed": true,
    "id": "go7OUMtTem7p",
    "jupyter": {
     "outputs_hidden": true
    },
    "outputId": "cfb21812-0eef-4bc8-e2a0-fc11756ce7a0"
   },
   "outputs": [],
   "source": [
    "### BEGIN SOLUTION\n",
    "df_you.shape\n",
    "### END SOLUTION"
   ]
  },
  {
   "cell_type": "markdown",
   "metadata": {
    "id": "7J--UYFvem7p"
   },
   "source": [
    "👉 Can you store the number of rows and columns to variables?\n",
    "\n",
    "---\n",
    "\n",
    "- `df_you.shape` returns a `tuple` in `(num_rows, num_cols)` format. \n",
    "- What is a `tuple`? 🙀\n",
    "- A `tuple` is a `list` that cannot be modified once created.\n",
    "\n",
    "▶️ Run the code cell below to see how a `tuple` is nearly identical to a `list`."
   ]
  },
  {
   "cell_type": "code",
   "execution_count": null,
   "metadata": {
    "colab": {
     "base_uri": "https://localhost:8080/"
    },
    "collapsed": true,
    "id": "vAnEKnhUem7p",
    "jupyter": {
     "outputs_hidden": true
    },
    "outputId": "23c744fd-7028-496b-a243-a015ea486481"
   },
   "outputs": [],
   "source": [
    "# These two are nearly identical,\n",
    "# The only difference is that my_tuple cannot be modified once created\n",
    "my_list = [10, 20]\n",
    "my_tuple = (10, 20)\n",
    "\n",
    "print(f\"my_list[1]={my_list[1]}\")    # prints 20\n",
    "print(f\"my_tuple[1]={my_tuple[1]}\")  # also prints 20"
   ]
  },
  {
   "cell_type": "markdown",
   "metadata": {
    "id": "OJ4qqvKIem7q"
   },
   "source": [
    "---\n",
    "\n",
    "### 🎯 Challenge 4: Find the number of rows and columns in a `DataFrame`"
   ]
  },
  {
   "cell_type": "markdown",
   "metadata": {
    "id": "TwWyyaQPem7q"
   },
   "source": [
    "#### 👇 Tasks\n",
    "\n",
    "- ✔️ Store the number of rows in `df_you` to a new variable named `num_rows`.\n",
    "- ✔️ Store the number of columns in `df_you` to a new variable named `num_cols`.\n",
    "- ✔️ Use `.shape`, not `len()`."
   ]
  },
  {
   "cell_type": "code",
   "execution_count": null,
   "metadata": {
    "colab": {
     "base_uri": "https://localhost:8080/"
    },
    "id": "OoYuVAyhem7q",
    "outputId": "8eea66d1-ee93-464c-9889-346fd512d07a",
    "tags": []
   },
   "outputs": [],
   "source": [
    "### BEGIN SOLUTION\n",
    "num_rows = df_you.shape[0]\n",
    "num_cols = df_you.shape[1]\n",
    "### END SOLUTION\n",
    "\n",
    "print(num_rows)\n",
    "print(num_cols)"
   ]
  },
  {
   "cell_type": "markdown",
   "metadata": {
    "id": "EdrK-mBsem7r"
   },
   "source": [
    "#### 🧭 Check Your Work\n",
    "\n",
    "- Once you're done, run the code cell below to test correctness.\n",
    "- ✔️ If the code cell runs without an error, you're good to move on.\n",
    "- ❌ If the code cell throws an error, go back and fix incorrect parts."
   ]
  },
  {
   "cell_type": "code",
   "execution_count": null,
   "metadata": {
    "collapsed": true,
    "id": "DXDG3nzpem7r",
    "jupyter": {
     "outputs_hidden": true
    },
    "nbgrader": {
     "grade": true,
     "grade_id": "challenge-04",
     "locked": true,
     "points": "1",
     "solution": false
    }
   },
   "outputs": [],
   "source": [
    "tc.assertEqual(num_rows, len(df_you.index), f\"Number of rows should be {len(df_you.index)}\")\n",
    "tc.assertEqual(num_cols, len(df_you.columns), f\"Number of columns should be {len(df_you.columns)}\")"
   ]
  },
  {
   "cell_type": "markdown",
   "metadata": {
    "id": "VsIF7Fwwem7r"
   },
   "source": [
    "---\n",
    "\n",
    "### 📌 Filtering rows"
   ]
  },
  {
   "cell_type": "markdown",
   "metadata": {
    "id": "8CxUlBg1em7r"
   },
   "source": [
    "Let's step back and go back to working with a `Series`.\n",
    "\n",
    "▶️ Create a `Series` named `nums` with the following four integers: `-20`, `-10`, `10`, `20`. "
   ]
  },
  {
   "cell_type": "code",
   "execution_count": null,
   "metadata": {
    "collapsed": true,
    "id": "asoC1rwqem7s",
    "jupyter": {
     "outputs_hidden": true
    },
    "outputId": "16d9da10-fd9b-43a7-f9cf-f02220fa055f"
   },
   "outputs": [],
   "source": [
    "### BEGIN SOLUTION\n",
    "nums = pd.Series([-20, -10, 10, 20])\n",
    "### END SOLUTION\n",
    "\n",
    "nums"
   ]
  },
  {
   "cell_type": "markdown",
   "metadata": {
    "id": "UMGcKWQAem7s"
   },
   "source": [
    "👉 Is there a way *filter* the `Series` so that it only contains **positive** values? Let's first try this **manually**.\n",
    "\n",
    "▶️ Create a new `Series` named `keep` with the following four boolean values: `False`, `False`, `True`, `True`."
   ]
  },
  {
   "cell_type": "code",
   "execution_count": null,
   "metadata": {
    "collapsed": true,
    "id": "u-NHJJa2em7s",
    "jupyter": {
     "outputs_hidden": true
    },
    "outputId": "c0551ddb-d8a9-4851-d4de-cb6702041310"
   },
   "outputs": [],
   "source": [
    "### BEGIN SOLUTION\n",
    "keep = pd.Series([False, False, True, True])\n",
    "### END SOLUTION\n",
    "\n",
    "# Check your work\n",
    "pd.testing.assert_series_equal(keep,\n",
    "                              pd.Series([0, 0, 1, 1]).astype(bool))\n",
    "\n",
    "# Display keep\n",
    "keep"
   ]
  },
  {
   "cell_type": "markdown",
   "metadata": {},
   "source": [
    "Let's visualize the two `Series` (`nums` and `keep`) you've created.\n",
    "\n",
    "![nums-and-keep](https://github.com/bdi475/images/blob/main/nums-and-keep-series.png?raw=true)"
   ]
  },
  {
   "cell_type": "markdown",
   "metadata": {
    "id": "MoPITf3Cem7s"
   },
   "source": [
    "▶️ Now, you can use the boolean `Series` to filter another `Series`. Type in `nums[keep]` below and run the cell."
   ]
  },
  {
   "cell_type": "code",
   "execution_count": null,
   "metadata": {
    "collapsed": true,
    "id": "JgnCgE1iem7t",
    "jupyter": {
     "outputs_hidden": true
    },
    "outputId": "988ca472-cfbf-4a74-b398-3e7d77320d7a"
   },
   "outputs": [],
   "source": [
    "### BEGIN SOLUTION\n",
    "nums[keep]\n",
    "### END SOLUTION"
   ]
  },
  {
   "cell_type": "markdown",
   "metadata": {},
   "source": [
    "If you're confused about what just happened, the visualization below may give you a better idea.\n",
    "\n",
    "![nums-and-keep-filter-result](https://github.com/bdi475/images/blob/main/nums-and-keep-filter-result.png?raw=true)"
   ]
  },
  {
   "cell_type": "markdown",
   "metadata": {
    "id": "_QB4TJkhem7t"
   },
   "source": [
    "The syntax for filtering a `Series` is `my_series[keep]` where `keep` is a `Series` of boolean values indicating whether to keep an element or not. `keep` should have the exact same number of elements as `my_series`.\n",
    "\n",
    "▶️ **Uncomment the code cell below first** and run it to see what happens when your `keep` does not have the same number of elements as `my_series`.\n",
    "\n",
    "(⛔️ **Heads-up**: The code will throw an error! Once you're done running the cell, comment the lines.)"
   ]
  },
  {
   "cell_type": "code",
   "execution_count": null,
   "metadata": {
    "collapsed": true,
    "id": "bZoV9nc3em7t",
    "jupyter": {
     "outputs_hidden": true
    }
   },
   "outputs": [],
   "source": [
    "# keep_incorrect = pd.Series([False, False, True])\n",
    "# nums[keep_incorrect]"
   ]
  },
  {
   "cell_type": "markdown",
   "metadata": {
    "id": "sk1tWg9Jem7t"
   },
   "source": [
    "👉 Is there a way *filter* the `Series` so that it only contains **positive** values? The last method we've used was inefficient. Imagine if your `Series` contains million elements. You would need to spend a few months continuously typing `True` and `False`! 🤡\n",
    "\n",
    "As a data analyst, your goal is to perform tasks *programmatically*.\n",
    "\n",
    "▶️ Type `keep_by_comparison = nums > 0` in the code cell below to perform a comparison on the `nums` Series."
   ]
  },
  {
   "cell_type": "code",
   "execution_count": null,
   "metadata": {
    "collapsed": true,
    "id": "o4cfMPaoem7t",
    "jupyter": {
     "outputs_hidden": true
    },
    "outputId": "02d669d8-eb82-4374-c8cf-13f724b09d68"
   },
   "outputs": [],
   "source": [
    "### BEGIN SOLUTION\n",
    "keep_by_comparison = nums > 0\n",
    "### END SOLUTION\n",
    "\n",
    "keep_by_comparison"
   ]
  },
  {
   "cell_type": "markdown",
   "metadata": {
    "id": "y6x0xWCzem7u"
   },
   "source": [
    "Notice how `keep_by_comparison` is idential to the original `keep` Series?\n",
    "\n",
    "▶️ Use the `keep_by_comparison` to filter positive values in `nums`."
   ]
  },
  {
   "cell_type": "code",
   "execution_count": null,
   "metadata": {
    "collapsed": true,
    "id": "Fqai24mKem7u",
    "jupyter": {
     "outputs_hidden": true
    },
    "outputId": "ce2b43ce-d943-4596-d294-9d0a20130045"
   },
   "outputs": [],
   "source": [
    "### BEGIN SOLUTION\n",
    "nums[keep_by_comparison]\n",
    "### END SOLUTION"
   ]
  },
  {
   "cell_type": "markdown",
   "metadata": {
    "id": "TBFHU66Gem7u"
   },
   "source": [
    "Note that applying a filter returns **a new `Series`** without modifying the original `Series`.\n",
    "\n",
    "▶️ Run the code below."
   ]
  },
  {
   "cell_type": "code",
   "execution_count": null,
   "metadata": {
    "collapsed": true,
    "id": "e8BEoiO4em7u",
    "jupyter": {
     "outputs_hidden": true
    },
    "outputId": "da6d8c9a-e56f-431b-91ba-1fd1680fa494"
   },
   "outputs": [],
   "source": [
    "print(\"Negative Values (filtered):\")\n",
    "display(nums[nums < 10])\n",
    "\n",
    "print(\"\\n\\nOriginal Values:\")\n",
    "display(nums)"
   ]
  },
  {
   "cell_type": "markdown",
   "metadata": {
    "id": "krFaYS9Hem7u"
   },
   "source": [
    "---\n",
    "\n",
    "### 🎯 Challenge 5: Filter even numbers"
   ]
  },
  {
   "cell_type": "markdown",
   "metadata": {
    "id": "Iyt-q8KRem7v"
   },
   "source": [
    "#### 👇 Tasks\n",
    "\n",
    "- ✔️ Using `all_nums`, filter only even numbers.\n",
    "    - Store the result to a new variable named `even_nums`.\n",
    "- ✔️ `all_nums` should remain unaltered after your code."
   ]
  },
  {
   "cell_type": "markdown",
   "metadata": {
    "id": "Yyt2-xOaem7v"
   },
   "source": [
    "#### 🚀 Hints\n",
    "\n",
    "- Use the modulo operator (`%`) to check whether a number is even.\n",
    "    - `some_num % 2 == 0`"
   ]
  },
  {
   "cell_type": "code",
   "execution_count": null,
   "metadata": {
    "collapsed": true,
    "id": "KbnAsgt-em7v",
    "jupyter": {
     "outputs_hidden": true
    },
    "outputId": "c06fef7f-d0bb-41a0-8dec-08388bac4e72"
   },
   "outputs": [],
   "source": [
    "all_nums = pd.Series([2, 5, 4, 8, -2, -5, -11, 13, 4])\n",
    "\n",
    "### BEGIN SOLUTION\n",
    "even_nums = all_nums[all_nums % 2 == 0]\n",
    "### END SOLUTION\n",
    "\n",
    "even_nums"
   ]
  },
  {
   "cell_type": "markdown",
   "metadata": {
    "id": "ldRi46SUem7v"
   },
   "source": [
    "#### 🧭 Check Your Work\n",
    "\n",
    "- Once you're done, run the code cell below to test correctness.\n",
    "- ✔️ If the code cell runs without an error, you're good to move on.\n",
    "- ❌ If the code cell throws an error, go back and fix incorrect parts."
   ]
  },
  {
   "cell_type": "code",
   "execution_count": null,
   "metadata": {
    "collapsed": true,
    "id": "QAMH76H2em7v",
    "jupyter": {
     "outputs_hidden": true
    },
    "nbgrader": {
     "grade": true,
     "grade_id": "challenge-05",
     "locked": true,
     "points": "1",
     "solution": false
    }
   },
   "outputs": [],
   "source": [
    "pd.testing.assert_series_equal(all_nums, pd.Series([2, 5, 4, 8, -2, -5, -11, 13, 4]))\n",
    "pd.testing.assert_series_equal(even_nums.reset_index(drop=True),\n",
    "                               pd.Series([2, 4, 8, -2, 4]))"
   ]
  },
  {
   "cell_type": "markdown",
   "metadata": {},
   "source": [
    "---\n",
    "\n",
    "### 📌 Filtering a `DataFrame`"
   ]
  },
  {
   "cell_type": "markdown",
   "metadata": {},
   "source": [
    "👉 I will keep saying this. A `DataFrame` is a combination of one or more columns. Filtering a `DataFrame` is very similar to filtering a `Series`.\n",
    "\n",
    "▶️ Run the code cell below to create a new `DataFrame` named `df`."
   ]
  },
  {
   "cell_type": "code",
   "execution_count": null,
   "metadata": {
    "collapsed": true,
    "jupyter": {
     "outputs_hidden": true
    }
   },
   "outputs": [],
   "source": [
    "df = pd.DataFrame({\"name\": [\"John\", \"Mary\", \"Tom\", \"John\"], \"amount\": [-20, -10, 10, 20]})\n",
    "\n",
    "df"
   ]
  },
  {
   "cell_type": "markdown",
   "metadata": {},
   "source": [
    "To only keep rows where the `name` is `'John'`, we can again supply a `Series` of boolean values. Only the first and last row of the `DataFrame` contain `'John'`.\n",
    "\n",
    "▶️ Create a new `Series` named `is_john` with the following boolean values - `True`, `False`, `False`, `True`."
   ]
  },
  {
   "cell_type": "code",
   "execution_count": null,
   "metadata": {
    "collapsed": true,
    "jupyter": {
     "outputs_hidden": true
    }
   },
   "outputs": [],
   "source": [
    "### BEGIN SOLUTION\n",
    "is_john = pd.Series([True, False, False, True])\n",
    "### END SOLUTION\n",
    "\n",
    "# Check your work\n",
    "tc.assertEqual(is_john.to_list(), pd.Series([1, 0, 0, 1]).astype(bool).to_list())\n",
    "\n",
    "# Display keep\n",
    "is_john"
   ]
  },
  {
   "cell_type": "markdown",
   "metadata": {},
   "source": [
    "▶️ Type `result = df[is_john]` in the code cell below and run it."
   ]
  },
  {
   "cell_type": "code",
   "execution_count": null,
   "metadata": {
    "collapsed": true,
    "jupyter": {
     "outputs_hidden": true
    }
   },
   "outputs": [],
   "source": [
    "### BEGIN SOLUTION\n",
    "result = df[is_john]\n",
    "### END SOLUTION\n",
    "\n",
    "result"
   ]
  },
  {
   "cell_type": "markdown",
   "metadata": {},
   "source": [
    "Here is a visualization of how `df[john]` works.\n",
    "\n",
    "![mini-dataframe-filter-rows](https://github.com/bdi475/images/blob/main/filter-mini-dataframe-result.png?raw=true)"
   ]
  },
  {
   "cell_type": "markdown",
   "metadata": {},
   "source": [
    "---\n",
    "\n",
    "### 🎯 Challenge 6: Find all positive transactions"
   ]
  },
  {
   "cell_type": "markdown",
   "metadata": {},
   "source": [
    "#### 👇 Tasks\n",
    "\n",
    "- ✔️ Given `df`, filter rows with positive `amount` values.\n",
    "    - Store the result to a new variable named `df_pos`.\n",
    "    - `df_pos` should be a `DataFrame`.\n",
    "- ✔️ `df` should remain unaltered after running your code."
   ]
  },
  {
   "cell_type": "markdown",
   "metadata": {},
   "source": [
    "▶️ Run the code cell below to create `df`."
   ]
  },
  {
   "cell_type": "code",
   "execution_count": null,
   "metadata": {
    "collapsed": true,
    "jupyter": {
     "outputs_hidden": true
    }
   },
   "outputs": [],
   "source": [
    "# DO NOT CHANGE THE CODE IN THIS CELL\n",
    "df = pd.DataFrame({\"name\": [\"John\", \"Mary\", \"Tom\", \"John\"], \"amount\": [-20, -10, 10, 20]})\n",
    "df"
   ]
  },
  {
   "cell_type": "code",
   "execution_count": null,
   "metadata": {
    "collapsed": true,
    "jupyter": {
     "outputs_hidden": true
    }
   },
   "outputs": [],
   "source": [
    "### BEGIN SOLUTION\n",
    "df_pos = df[df[\"amount\"] > 0]\n",
    "### END SOLUTION\n",
    "\n",
    "df_pos"
   ]
  },
  {
   "cell_type": "markdown",
   "metadata": {},
   "source": [
    "#### 🧭 Check your work\n",
    "\n",
    "- Once you're done, run the code cell below to test correctness.\n",
    "- ✔️ If the code cell runs without an error, you're good to move on.\n",
    "- ❌ If the code cell throws an error, go back and fix incorrect parts."
   ]
  },
  {
   "cell_type": "code",
   "execution_count": null,
   "metadata": {
    "collapsed": true,
    "jupyter": {
     "outputs_hidden": true
    },
    "nbgrader": {
     "grade": true,
     "grade_id": "challenge-06",
     "locked": true,
     "points": "1",
     "solution": false
    }
   },
   "outputs": [],
   "source": [
    "df_check = pd.DataFrame({\"name\": [\"John\", \"Mary\", \"Tom\", \"John\"], \"amount\": [-20, -10, 10, 20]})\n",
    "\n",
    "pd.testing.assert_frame_equal(df, df_check)\n",
    "pd.testing.assert_frame_equal(df_pos.reset_index(drop=True),\n",
    "                              df_check.iloc[[2, 3]].reset_index(drop=True))"
   ]
  },
  {
   "cell_type": "markdown",
   "metadata": {},
   "source": [
    "---\n",
    "\n",
    "### 📌 Logical operators in pandas `Series`"
   ]
  },
  {
   "cell_type": "markdown",
   "metadata": {},
   "source": [
    "👉 There are only three *logical* operators in Pandas you need to remember.\n",
    "\n",
    "- `&`: Logical **AND**\n",
    "- `|`: Logical **OR**\n",
    "- `~`: Logical **NOT**\n",
    "\n",
    "These operators perform element-wise *logical* operations."
   ]
  },
  {
   "cell_type": "markdown",
   "metadata": {},
   "source": [
    "#### 📍 Logical AND"
   ]
  },
  {
   "cell_type": "markdown",
   "metadata": {},
   "source": [
    "👉 A logical AND operator `&` returns `True` only if both the operands are `True`.\n",
    "\n",
    "![s1_AND_s2](https://github.com/bdi475/images/blob/main/s1-AND-s2.png?raw=true)"
   ]
  },
  {
   "cell_type": "markdown",
   "metadata": {},
   "source": [
    "▶️ Perform a logical AND operation (`&`) on `s1` and `s2` and store the result to a new variable named `s1_AND_s2`."
   ]
  },
  {
   "cell_type": "code",
   "execution_count": null,
   "metadata": {
    "collapsed": true,
    "jupyter": {
     "outputs_hidden": true
    }
   },
   "outputs": [],
   "source": [
    "s1 = pd.Series([True, True, False, False])\n",
    "s2 = pd.Series([True, False, True, False])\n",
    "\n",
    "### BEGIN SOLUTION\n",
    "s1_AND_s2 = s1 & s2\n",
    "### END SOLUTION\n",
    "\n",
    "# 🧭 Check your work\n",
    "pd.testing.assert_series_equal(s1_AND_s2, pd.Series([1, 0, 0, 0]).astype(bool))\n",
    "\n",
    "# Display s1, s2, s1_AND_S2 together as a DataFrame\n",
    "pd.DataFrame({\"s1\": s1, \"s2\": s2, \"s1_AND_s2\": s1_AND_s2})"
   ]
  },
  {
   "cell_type": "markdown",
   "metadata": {},
   "source": [
    "#### 📍 Logical OR"
   ]
  },
  {
   "cell_type": "markdown",
   "metadata": {},
   "source": [
    "👉 A logical OR operator `|` returns `True` if either of the operands is `True`.\n",
    "\n",
    "![s1_OR_s2](https://github.com/bdi475/images/blob/main/s1-OR-s2.png?raw=true)"
   ]
  },
  {
   "cell_type": "markdown",
   "metadata": {},
   "source": [
    "▶️ Perform a logical OR operation (`|`) on `s1` and `s2` and store the result to a new variable named `s1_OR_s2`."
   ]
  },
  {
   "cell_type": "code",
   "execution_count": null,
   "metadata": {
    "collapsed": true,
    "jupyter": {
     "outputs_hidden": true
    }
   },
   "outputs": [],
   "source": [
    "s1 = pd.Series([True, True, False, False])\n",
    "s2 = pd.Series([True, False, True, False])\n",
    "\n",
    "### BEGIN SOLUTION\n",
    "s1_OR_s2 = s1 | s2\n",
    "### END SOLUTION\n",
    "\n",
    "# 🧭 Check your work\n",
    "pd.testing.assert_series_equal(s1_OR_s2, pd.Series([1, 1, 1, 0]).astype(bool))\n",
    "\n",
    "# Display s1, s2, s1_OR_s2 together as a DataFrame\n",
    "pd.DataFrame({\"s1\": s1,\n",
    "              \"s2\": s2,\n",
    "              \"s1_OR_s2\": s1_OR_s2})"
   ]
  },
  {
   "cell_type": "markdown",
   "metadata": {},
   "source": [
    "#### 📍 Logical NOT"
   ]
  },
  {
   "cell_type": "markdown",
   "metadata": {},
   "source": [
    "👉 A logical NOT operator `~` reverses each operand.\n",
    "\n",
    "![NOT_s1](https://github.com/bdi475/images/blob/main/NOT-s1.png?raw=true)"
   ]
  },
  {
   "cell_type": "markdown",
   "metadata": {},
   "source": [
    "▶️ Perform a logical OR operation (`~`) on `s1` and store the result to a new variable named `NOT_s1`."
   ]
  },
  {
   "cell_type": "code",
   "execution_count": null,
   "metadata": {
    "collapsed": true,
    "jupyter": {
     "outputs_hidden": true
    }
   },
   "outputs": [],
   "source": [
    "s1 = pd.Series([True, True, False, False])\n",
    "\n",
    "### BEGIN SOLUTION\n",
    "NOT_s1 = ~s1\n",
    "### END SOLUTION\n",
    "\n",
    "# 🧭 Check your work\n",
    "pd.testing.assert_series_equal(NOT_s1, pd.Series([0, 0, 1, 1]).astype(bool))\n",
    "\n",
    "# Display s1 and NOT_s1 together as a DataFrame\n",
    "pd.DataFrame({\"s1\": s1,\n",
    "              \"NOT_s1\": NOT_s1})"
   ]
  },
  {
   "cell_type": "markdown",
   "metadata": {},
   "source": [
    "---\n",
    "\n",
    "### 🎯 Challenge 7: Find John's positive transaction(s)"
   ]
  },
  {
   "cell_type": "markdown",
   "metadata": {},
   "source": [
    "#### 👇 Tasks\n",
    "\n",
    "- ✔️ Given `df`, find rows where the name is `'John'` **and** the amount is positive.\n",
    "    - Store the result to a new variable named `df_john_pos`.\n",
    "    - `df_john_and_pos` should be a `DataFrame`.\n",
    "- ✔️ `df` should remain unaltered after running your code."
   ]
  },
  {
   "cell_type": "markdown",
   "metadata": {},
   "source": [
    "#### 🚀 Hints\n",
    "\n",
    "- Create a boolean Series `is_john` using an equality comparison (`df['name'] == 'John'`).\n",
    "- Create another boolean Series `is_positive` using a *greather than* comparison (`df['amount'] > 0`).\n",
    "- Use a logical AND operator `&` to combine `is_john` and `is_positive`."
   ]
  },
  {
   "cell_type": "markdown",
   "metadata": {},
   "source": [
    "▶️ Run the code cell below to create `df`."
   ]
  },
  {
   "cell_type": "code",
   "execution_count": null,
   "metadata": {
    "collapsed": true,
    "jupyter": {
     "outputs_hidden": true
    }
   },
   "outputs": [],
   "source": [
    "# DO NOT CHANGE THE CODE IN THIS CELL\n",
    "df = pd.DataFrame({\"name\": [\"John\", \"Mary\", \"Tom\", \"John\"], \"amount\": [-20, -10, 10, 20]})\n",
    "df"
   ]
  },
  {
   "cell_type": "code",
   "execution_count": null,
   "metadata": {
    "collapsed": true,
    "jupyter": {
     "outputs_hidden": true
    }
   },
   "outputs": [],
   "source": [
    "### BEGIN SOLUTION\n",
    "is_john = df[\"name\"] == \"John\"\n",
    "is_positive = df[\"amount\"] > 0\n",
    "\n",
    "df_john_and_pos = df[is_john & is_positive]\n",
    "### END SOLUTION\n",
    "\n",
    "df_john_and_pos"
   ]
  },
  {
   "cell_type": "markdown",
   "metadata": {},
   "source": [
    "#### 🧭 Check your work\n",
    "\n",
    "- Once you're done, run the code cell below to test correctness.\n",
    "- ✔️ If the code cell runs without an error, you're good to move on.\n",
    "- ❌ If the code cell throws an error, go back and fix incorrect parts."
   ]
  },
  {
   "cell_type": "code",
   "execution_count": null,
   "metadata": {
    "collapsed": true,
    "jupyter": {
     "outputs_hidden": true
    },
    "nbgrader": {
     "grade": true,
     "grade_id": "challenge-07",
     "locked": true,
     "points": "1",
     "solution": false
    }
   },
   "outputs": [],
   "source": [
    "df_check = pd.DataFrame({\"name\": [\"John\", \"Mary\", \"Tom\", \"John\"], \"amount\": [-20, -10, 10, 20]})\n",
    "\n",
    "pd.testing.assert_frame_equal(df, df_check)\n",
    "pd.testing.assert_frame_equal(df_john_and_pos.reset_index(drop=True),\n",
    "                              df_check.iloc[[3]].reset_index(drop=True))"
   ]
  },
  {
   "cell_type": "markdown",
   "metadata": {},
   "source": [
    "#### ⚜️ A diagram to help your understanding\n",
    "![is_john_AND_is_positive](https://github.com/bdi475/images/blob/main/is-john-AND-is-positive.png?raw=true)"
   ]
  },
  {
   "cell_type": "markdown",
   "metadata": {},
   "source": [
    "---\n",
    "\n",
    "### 🎯 Challenge 8: Find transactions that are made by John OR are positive"
   ]
  },
  {
   "cell_type": "markdown",
   "metadata": {},
   "source": [
    "#### 👇 Tasks\n",
    "\n",
    "- ✔️ Given `df`, find rows where the name is `\"John\"` **or** the amount is positive.\n",
    "    - Store the result to a new variable named `df_john_or_pos`.\n",
    "    - `df_john_or_pos` should be a `DataFrame`.\n",
    "- ✔️ `df` should remain unaltered after running your code."
   ]
  },
  {
   "cell_type": "markdown",
   "metadata": {},
   "source": [
    "#### 🚀 Hints\n",
    "\n",
    "- Create a boolean Series `is_john` using an equality comparison (`df['name'] == 'John'`).\n",
    "- Create another boolean Series `is_positive` using a *greather than* comparison (`df['amount'] > 0`).\n",
    "- Use a logical OR operator `|` to combine `is_john` and `is_positive`."
   ]
  },
  {
   "cell_type": "markdown",
   "metadata": {},
   "source": [
    "▶️ Run the code cell below to create `df`."
   ]
  },
  {
   "cell_type": "code",
   "execution_count": null,
   "metadata": {
    "collapsed": true,
    "jupyter": {
     "outputs_hidden": true
    }
   },
   "outputs": [],
   "source": [
    "# DO NOT CHANGE THE CODE IN THIS CELL\n",
    "df = pd.DataFrame({\"name\": [\"John\", \"Mary\", \"Tom\", \"John\"], \"amount\": [-20, -10, 10, 20]})\n",
    "df"
   ]
  },
  {
   "cell_type": "code",
   "execution_count": null,
   "metadata": {
    "collapsed": true,
    "jupyter": {
     "outputs_hidden": true
    },
    "nbgrader": {
     "grade": false,
     "locked": false,
     "solution": false
    }
   },
   "outputs": [],
   "source": [
    "### BEGIN SOLUTION\n",
    "is_john = df[\"name\"] == \"John\"\n",
    "is_positive = df[\"amount\"] > 0\n",
    "\n",
    "df_john_or_pos = df[is_john | is_positive]\n",
    "### END SOLUTION\n",
    "\n",
    "df_john_or_pos"
   ]
  },
  {
   "cell_type": "markdown",
   "metadata": {},
   "source": [
    "#### 🧭 Check your work\n",
    "\n",
    "- Once you're done, run the code cell below to test correctness.\n",
    "- ✔️ If the code cell runs without an error, you're good to move on.\n",
    "- ❌ If the code cell throws an error, go back and fix incorrect parts."
   ]
  },
  {
   "cell_type": "code",
   "execution_count": null,
   "metadata": {
    "collapsed": true,
    "jupyter": {
     "outputs_hidden": true
    },
    "nbgrader": {
     "grade": true,
     "grade_id": "challenge-08",
     "locked": true,
     "points": "1",
     "solution": false
    }
   },
   "outputs": [],
   "source": [
    "df_check = pd.DataFrame({\"name\": [\"John\", \"Mary\", \"Tom\", \"John\"], \"amount\": [-20, -10, 10, 20]})\n",
    "\n",
    "pd.testing.assert_frame_equal(df, df_check)\n",
    "pd.testing.assert_frame_equal(df_john_or_pos.reset_index(drop=True),\n",
    "                              df_check.iloc[[0, 2, 3]].reset_index(drop=True))"
   ]
  },
  {
   "cell_type": "markdown",
   "metadata": {},
   "source": [
    "#### ⚜️ A diagram to help your understanding\n",
    "![is_john_OR_is_positive](https://github.com/bdi475/images/blob/main/is-john-OR-is-positive.png?raw=true)"
   ]
  },
  {
   "cell_type": "markdown",
   "metadata": {},
   "source": [
    "---\n",
    "\n",
    "### 🎯 Challenge 9: Find transactions that are NOT made by John"
   ]
  },
  {
   "cell_type": "markdown",
   "metadata": {},
   "source": [
    "#### 👇 Tasks\n",
    "\n",
    "- ✔️ Given `df`, find rows where the name is NOT `'John'`.\n",
    "    - Store the result to a new variable named `df_not_john`.\n",
    "    - `df_not_john` should be a `DataFrame`.\n",
    "- ✔️ Although you can do this without the NOT operator (`~`), **your goal is to use `~`**.\n",
    "- ✔️ `df` should remain unaltered after running your code."
   ]
  },
  {
   "cell_type": "markdown",
   "metadata": {},
   "source": [
    "#### 🚀 Hints\n",
    "\n",
    "- Create a boolean Series `is_john` using an equality comparison (`df['name'] == 'John'`).\n",
    "- Use a logical NOT operator `~` to reverse `is_john`."
   ]
  },
  {
   "cell_type": "markdown",
   "metadata": {},
   "source": [
    "▶️ Run the code cell below to create `df`."
   ]
  },
  {
   "cell_type": "code",
   "execution_count": null,
   "metadata": {
    "collapsed": true,
    "jupyter": {
     "outputs_hidden": true
    }
   },
   "outputs": [],
   "source": [
    "# DO NOT CHANGE THE CODE IN THIS CELL\n",
    "df = pd.DataFrame({\"name\": [\"John\", \"Mary\", \"Tom\", \"John\"], \"amount\": [-20, -10, 10, 20]})\n",
    "df"
   ]
  },
  {
   "cell_type": "code",
   "execution_count": null,
   "metadata": {
    "collapsed": true,
    "jupyter": {
     "outputs_hidden": true
    },
    "nbgrader": {
     "grade": true,
     "grade_id": "challenge-09",
     "locked": true,
     "points": "1",
     "solution": false
    }
   },
   "outputs": [],
   "source": [
    "### BEGIN SOLUTION\n",
    "is_john = df[\"name\"] == \"John\"\n",
    "\n",
    "df_not_john = df[~is_john]\n",
    "### END SOLUTION\n",
    "\n",
    "df_not_john"
   ]
  },
  {
   "cell_type": "markdown",
   "metadata": {},
   "source": [
    "#### 🧭 Check your work\n",
    "\n",
    "- Once you're done, run the code cell below to test correctness.\n",
    "- ✔️ If the code cell runs without an error, you're good to move on.\n",
    "- ❌ If the code cell throws an error, go back and fix incorrect parts."
   ]
  },
  {
   "cell_type": "code",
   "execution_count": null,
   "metadata": {
    "collapsed": true,
    "jupyter": {
     "outputs_hidden": true
    }
   },
   "outputs": [],
   "source": [
    "df_check = pd.DataFrame({\"name\": [\"John\", \"Mary\", \"Tom\", \"John\"], \"amount\": [-20, -10, 10, 20]})\n",
    "\n",
    "pd.testing.assert_frame_equal(df, df_check)\n",
    "pd.testing.assert_frame_equal(df_not_john.reset_index(drop=True),\n",
    "                              df_check.iloc[[1, 2]].reset_index(drop=True))"
   ]
  },
  {
   "cell_type": "markdown",
   "metadata": {},
   "source": [
    "#### ⚜️ A diagram to help your understanding\n",
    "![not_john](https://github.com/bdi475/images/blob/main/not-john.png?raw=true)"
   ]
  },
  {
   "cell_type": "markdown",
   "metadata": {
    "id": "DW30mOfZem7v"
   },
   "source": [
    "---\n",
    "\n",
    "### 📌 Element-wise comparison in a `Series`"
   ]
  },
  {
   "cell_type": "markdown",
   "metadata": {
    "id": "fv4hxUApem7v"
   },
   "source": [
    "▶️ Run the code cell below to create a new `Series` named `countries`."
   ]
  },
  {
   "cell_type": "code",
   "execution_count": null,
   "metadata": {
    "collapsed": true,
    "id": "1k4Ty5tFem7w",
    "jupyter": {
     "outputs_hidden": true
    },
    "outputId": "05053357-31f1-423f-e34d-4eca1c834432"
   },
   "outputs": [],
   "source": [
    "countries = pd.Series([\"United States\", \"Oman\", \"United States\",\n",
    "                       \"China\", \"South Korea\", \"United States\"])\n",
    "\n",
    "display(countries)"
   ]
  },
  {
   "cell_type": "markdown",
   "metadata": {
    "id": "2LYnIQinem7w"
   },
   "source": [
    "What happens when you perform an equality comparison on strings?\n",
    "\n",
    "▶️ Compare `countries` with the string `'United States'` using an equality comparison operator (`==`)."
   ]
  },
  {
   "cell_type": "code",
   "execution_count": null,
   "metadata": {
    "collapsed": true,
    "id": "hQTcrXEdem7w",
    "jupyter": {
     "outputs_hidden": true
    },
    "outputId": "517a1aeb-baff-4938-d18a-bc415a3c6873"
   },
   "outputs": [],
   "source": [
    "### BEGIN SOLUTION\n",
    "countries == \"United States\"\n",
    "### END SOLUTION"
   ]
  },
  {
   "cell_type": "markdown",
   "metadata": {
    "id": "9uQ2Mzwvem7w"
   },
   "source": [
    "▶️ Run the code cell below to check the data type of the result."
   ]
  },
  {
   "cell_type": "code",
   "execution_count": null,
   "metadata": {
    "collapsed": true,
    "id": "TeCdiCCTem7w",
    "jupyter": {
     "outputs_hidden": true
    },
    "outputId": "97f0b0f9-a4fe-40c3-8715-e35229727606"
   },
   "outputs": [],
   "source": [
    "type(countries == \"United States\")"
   ]
  },
  {
   "cell_type": "markdown",
   "metadata": {
    "id": "WO1sLJXdem7w"
   },
   "source": [
    "The result is **another `Series`** containing boolean (`True`/`False`) values. Pandas performs a string comparison (`my_str == 'United States'`) on **each element**.\n",
    "\n",
    "Remember, you can also supply more than one condition using the following two operators:\n",
    "\n",
    "1. logical OR (`|`)\n",
    "2. logical AND (`&`)\n",
    "\n",
    "▶️ Run the code cell below to check whether a country is **either** `'Oman'` **or** `'China'`."
   ]
  },
  {
   "cell_type": "code",
   "execution_count": null,
   "metadata": {
    "collapsed": true,
    "id": "KTA8XPv_em7w",
    "jupyter": {
     "outputs_hidden": true
    },
    "outputId": "e7ccee7a-caa1-4b80-b25c-4440b2b6618f"
   },
   "outputs": [],
   "source": [
    "(countries == \"Oman\") | (countries == \"China\")"
   ]
  },
  {
   "cell_type": "code",
   "execution_count": null,
   "metadata": {
    "collapsed": true,
    "id": "YwIROkUBem7x",
    "jupyter": {
     "outputs_hidden": true
    },
    "outputId": "454796e0-63f3-4b22-c296-d59317812e0f"
   },
   "outputs": [],
   "source": [
    "countries[(countries == \"Oman\") | (countries == \"China\")]"
   ]
  },
  {
   "cell_type": "markdown",
   "metadata": {
    "id": "TpncLNBdem7x"
   },
   "source": [
    "---\n",
    "\n",
    "### 📌 Another example of filtering a `DataFrame`"
   ]
  },
  {
   "cell_type": "markdown",
   "metadata": {
    "id": "-25GoLwbem7x"
   },
   "source": [
    "▶️ Run the code cell below to create a new `DataFrame` named `df_cities`."
   ]
  },
  {
   "cell_type": "code",
   "execution_count": null,
   "metadata": {
    "collapsed": true,
    "id": "o5vfs2TYem7x",
    "jupyter": {
     "outputs_hidden": true
    },
    "outputId": "ad9fafdd-bdab-4e26-c2bd-70f8c1fdbffa"
   },
   "outputs": [],
   "source": [
    "df_cities = pd.DataFrame({\"city\": [\"Lisle\", \"Dubai\", \"Niles\", \"Shanghai\", \"Seoul\", \"Chicago\"],\n",
    " \"country\": [\"United States\", \"United Arab Emirates\", \"United States\", \"China\", \"South Korea\", \"United States\"],\n",
    " \"population\": [23270, 3331409, 28938, 26320000, 21794000, 8604203]})\n",
    "\n",
    "df_cities"
   ]
  },
  {
   "cell_type": "markdown",
   "metadata": {
    "id": "K8Ar5vxeem7x"
   },
   "source": [
    "To only keep rows where the `country` is `'United States'`, we can again supply a `Series` of boolean values.\n",
    "\n",
    "▶️ Create a new `Series` named `keep` with the following 6 boolean values - `True`, `False`, `True`, `False`, `False`, `True`."
   ]
  },
  {
   "cell_type": "code",
   "execution_count": null,
   "metadata": {
    "collapsed": true,
    "id": "bpP88Meeem7x",
    "jupyter": {
     "outputs_hidden": true
    },
    "outputId": "a2297654-dfb2-4472-b6b2-f2a3bd832fb1"
   },
   "outputs": [],
   "source": [
    "### BEGIN SOLUTION\n",
    "keep = pd.Series([True, False, True, False, False, True])\n",
    "# OR\n",
    "keep = df_cities[\"country\"] == \"United States\"\n",
    "### END SOLUTION\n",
    "\n",
    "# Check your work\n",
    "pd.testing.assert_series_equal(keep.reset_index(drop=True),\n",
    "                               pd.Series([1, 0, 1, 0, 0, 1]).astype(bool).reset_index(drop=True),\n",
    "                               check_names=False)\n",
    "\n",
    "# Display keep\n",
    "keep"
   ]
  },
  {
   "cell_type": "markdown",
   "metadata": {
    "id": "JUNm8ebnem7y"
   },
   "source": [
    "🤠 You know the drill now.\n",
    "\n",
    "▶️ Type `df_cities[keep]` in the code cell below and run it."
   ]
  },
  {
   "cell_type": "code",
   "execution_count": null,
   "metadata": {
    "collapsed": true,
    "id": "ulu40PsZem7y",
    "jupyter": {
     "outputs_hidden": true
    },
    "outputId": "66c22849-6724-4a67-d603-5539b88bb196"
   },
   "outputs": [],
   "source": [
    "### BEGIN SOLUTION\n",
    "df_cities[keep]\n",
    "### END SOLUTION"
   ]
  },
  {
   "cell_type": "markdown",
   "metadata": {
    "id": "juiThUb1em7y"
   },
   "source": [
    "---\n",
    "\n",
    "### 🎯 Challenge 10: Cities with population over a million"
   ]
  },
  {
   "cell_type": "markdown",
   "metadata": {
    "id": "3In4qrctem7y"
   },
   "source": [
    "#### 👇 Tasks\n",
    "\n",
    "- ✔️ Using `df_cities`, filter rows with a population greater than a million (`1000000`).\n",
    "    - Store the result to a new variable named `df_large_cities`.\n",
    "- ✔️ `df_cities` should remain unaltered after your code."
   ]
  },
  {
   "cell_type": "code",
   "execution_count": null,
   "metadata": {
    "collapsed": true,
    "id": "3yEcyo-Mem7y",
    "jupyter": {
     "outputs_hidden": true
    },
    "outputId": "dbe8bab2-bb34-4a86-d38c-bac31d1197a7"
   },
   "outputs": [],
   "source": [
    "### BEGIN SOLUTION\n",
    "df_large_cities = df_cities[df_cities['population'] > 1000000]\n",
    "### END SOLUTION\n",
    "\n",
    "df_large_cities"
   ]
  },
  {
   "cell_type": "markdown",
   "metadata": {
    "id": "oNNKvOTqem7y"
   },
   "source": [
    "#### 🧭 Check Your Work\n",
    "\n",
    "- Once you're done, run the code cell below to test correctness.\n",
    "- ✔️ If the code cell runs without an error, you're good to move on.\n",
    "- ❌ If the code cell throws an error, go back and fix incorrect parts."
   ]
  },
  {
   "cell_type": "code",
   "execution_count": null,
   "metadata": {
    "collapsed": true,
    "id": "dwE6E1hWem7z",
    "jupyter": {
     "outputs_hidden": true
    },
    "nbgrader": {
     "grade": true,
     "grade_id": "challenge-10",
     "locked": true,
     "points": "1",
     "solution": false
    }
   },
   "outputs": [],
   "source": [
    "pd.testing.assert_frame_equal(df_large_cities.reset_index(drop=True),\n",
    "                              df_cities.query('population > 1000000').reset_index(drop=True))"
   ]
  },
  {
   "cell_type": "markdown",
   "metadata": {
    "id": "Mrzib8KMem7z"
   },
   "source": [
    "---\n",
    "\n",
    "### 🎯 Challenge 11: People who do not use an iPhone"
   ]
  },
  {
   "cell_type": "markdown",
   "metadata": {
    "id": "RjywLlgMem7z"
   },
   "source": [
    "▶️ Run the code cell below to see the **first** 3 rows of `df_you`."
   ]
  },
  {
   "cell_type": "code",
   "execution_count": null,
   "metadata": {
    "collapsed": true,
    "id": "U9Gx1vchem7z",
    "jupyter": {
     "outputs_hidden": true
    },
    "outputId": "86eb05b8-7277-4a60-cc87-14a68c49d10b"
   },
   "outputs": [],
   "source": [
    "# Restore clean df_you\n",
    "df_you = df_you_backup.copy()\n",
    "\n",
    "df_you.head(3)"
   ]
  },
  {
   "cell_type": "markdown",
   "metadata": {
    "id": "GfnhBiRvem7z"
   },
   "source": [
    "#### 👇 Tasks\n",
    "\n",
    "- ✔️ Using `df_you`, filter rows where the person does not use an iPhone.\n",
    "    - Store the result to a new variable named `df_no_iphone`.\n",
    "- ✔️ `df_you` should remain unaltered after your code."
   ]
  },
  {
   "cell_type": "code",
   "execution_count": null,
   "metadata": {
    "collapsed": true,
    "id": "kXVG7kRGem7z",
    "jupyter": {
     "outputs_hidden": true
    },
    "outputId": "7d3fee9b-f51e-4268-fffb-8cca7d514014"
   },
   "outputs": [],
   "source": [
    "### BEGIN SOLUTION\n",
    "df_no_iphone = df_you[df_you[\"has_iphone\"] == False]\n",
    "### END SOLUTION\n",
    "\n",
    "df_no_iphone"
   ]
  },
  {
   "cell_type": "markdown",
   "metadata": {
    "id": "T4ys5Rh6em7z"
   },
   "source": [
    "#### 🧭 Check Your Work\n",
    "\n",
    "- Once you're done, run the code cell below to test correctness.\n",
    "- ✔️ If the code cell runs without an error, you're good to move on.\n",
    "- ❌ If the code cell throws an error, go back and fix incorrect parts."
   ]
  },
  {
   "cell_type": "code",
   "execution_count": null,
   "metadata": {
    "collapsed": true,
    "id": "JgCa-BnBem70",
    "jupyter": {
     "outputs_hidden": true
    },
    "nbgrader": {
     "grade": true,
     "grade_id": "challenge-11",
     "locked": true,
     "points": "1",
     "solution": false
    }
   },
   "outputs": [],
   "source": [
    "pd.testing.assert_frame_equal(df_no_iphone.reset_index(drop=True),\n",
    "                              df_you[~df_you[\"has_iphone\"]].reset_index(drop=True))"
   ]
  },
  {
   "cell_type": "markdown",
   "metadata": {
    "id": "vFsItQLaem71"
   },
   "source": [
    "---\n",
    "\n",
    "### 🎯 Challenge 12: People who are `Economics` majors or likes `Chipotle`"
   ]
  },
  {
   "cell_type": "markdown",
   "metadata": {
    "id": "T_PNR5P_em71"
   },
   "source": [
    "▶️ Run the code cell below to see the **last** 5 rows of `df_you`."
   ]
  },
  {
   "cell_type": "code",
   "execution_count": null,
   "metadata": {
    "collapsed": true,
    "id": "QPeZdyBDem71",
    "jupyter": {
     "outputs_hidden": true
    },
    "outputId": "2cf8e3f0-be40-4e22-a07c-6e031acb94c7"
   },
   "outputs": [],
   "source": [
    "# Restore clean df_you\n",
    "df_you = df_you_backup.copy()\n",
    "\n",
    "df_you.tail()"
   ]
  },
  {
   "cell_type": "markdown",
   "metadata": {
    "id": "3-VRC3X9em71"
   },
   "source": [
    "#### 👇 Tasks\n",
    "\n",
    "- ✔️ Using `df_you`, filter rows that matches the following criteria:\n",
    "    - The person's `major1` is `Economics`, **OR**\n",
    "    - The person's `fav_restaurant` is `Chipotle`\n",
    "- ✔️ Store the filtered `DataFrame` to a new variable named `df_econ_or_chipotle`.\n",
    "- ✔️ `df_you` should remain unaltered after your code."
   ]
  },
  {
   "cell_type": "code",
   "execution_count": null,
   "metadata": {
    "collapsed": true,
    "id": "FODJo-Kpem71",
    "jupyter": {
     "outputs_hidden": true
    },
    "outputId": "cc83e5dd-61cf-49d7-9135-76eea93b6944"
   },
   "outputs": [],
   "source": [
    "### BEGIN SOLUTION\n",
    "df_econ_or_chipotle = df_you[(df_you[\"major1\"] == \"Economics\") | (df_you[\"fav_restaurant\"] == \"Chipotle\")]\n",
    "### END SOLUTION\n",
    "\n",
    "df_econ_or_chipotle"
   ]
  },
  {
   "cell_type": "markdown",
   "metadata": {
    "id": "gHFL-CDcem71"
   },
   "source": [
    "#### 🧭 Check Your Work\n",
    "\n",
    "- Once you're done, run the code cell below to test correctness.\n",
    "- ✔️ If the code cell runs without an error, you're good to move on.\n",
    "- ❌ If the code cell throws an error, go back and fix incorrect parts."
   ]
  },
  {
   "cell_type": "code",
   "execution_count": null,
   "metadata": {
    "collapsed": true,
    "id": "Tgv4buH3em71",
    "jupyter": {
     "outputs_hidden": true
    },
    "nbgrader": {
     "grade": true,
     "grade_id": "challenge-12",
     "locked": true,
     "points": "1",
     "solution": false
    }
   },
   "outputs": [],
   "source": [
    "df_check = df_you_backup[(df_you_backup[\"major1\"] == \"Economics\") | (df_you_backup[\"fav_restaurant\"] == \"Chipotle\")]\n",
    "\n",
    "pd.testing.assert_frame_equal(df_econ_or_chipotle.sort_values(df_econ_or_chipotle.columns.tolist()).reset_index(drop=True),\n",
    "                              df_check.sort_values(df_check.columns.tolist()).reset_index(drop=True))"
   ]
  },
  {
   "cell_type": "markdown",
   "metadata": {
    "id": "_L0Jctu8em71"
   },
   "source": [
    "---\n",
    "\n",
    "### 🎯 Challenge 13: Do your own thang"
   ]
  },
  {
   "cell_type": "markdown",
   "metadata": {
    "id": "dyzuELUkem73"
   },
   "source": [
    "▶️ Run the code cell below to **randomly select** 5 rows from `df_you`."
   ]
  },
  {
   "cell_type": "code",
   "execution_count": null,
   "metadata": {
    "collapsed": true,
    "id": "iCyY82RLem73",
    "jupyter": {
     "outputs_hidden": true
    },
    "outputId": "9f194348-bb45-48a5-d180-fd832f6f567d"
   },
   "outputs": [],
   "source": [
    "# Restore clean df_you\n",
    "df_you = df_you_backup.copy()\n",
    "\n",
    "df_you.sample(5)"
   ]
  },
  {
   "cell_type": "markdown",
   "metadata": {
    "id": "F4tMGPZvem73"
   },
   "source": [
    "#### 👇 Tasks\n",
    "\n",
    "- ✔️ Using `df_you`, create a filter that may interest you."
   ]
  },
  {
   "cell_type": "code",
   "execution_count": null,
   "metadata": {
    "collapsed": true,
    "id": "2FHmK619em73",
    "jupyter": {
     "outputs_hidden": true
    },
    "nbgrader": {
     "grade": true,
     "grade_id": "challenge-13",
     "locked": true,
     "points": "1",
     "solution": false
    }
   },
   "outputs": [],
   "source": [
    "### BEGIN SOLUTION\n",
    "\n",
    "\n",
    "\n",
    "### END SOLUTION"
   ]
  }
 ],
 "metadata": {
  "colab": {
   "collapsed_sections": [
    "TwWyyaQPem7q",
    "EdrK-mBsem7r",
    "VsIF7Fwwem7r",
    "krFaYS9Hem7u",
    "Iyt-q8KRem7v",
    "Yyt2-xOaem7v",
    "ldRi46SUem7v",
    "DW30mOfZem7v",
    "TpncLNBdem7x",
    "juiThUb1em7y",
    "3In4qrctem7y",
    "oNNKvOTqem7y",
    "Mrzib8KMem7z",
    "GfnhBiRvem7z",
    "T4ys5Rh6em7z",
    "9vwnunEsem70",
    "gIPWMysLem70",
    "v85tniIvem70",
    "vFsItQLaem71",
    "3-VRC3X9em71",
    "gHFL-CDcem71",
    "_L0Jctu8em71",
    "F4tMGPZvem73",
    "CwpwSAs9em74"
   ],
   "name": "L11-pandas-solution.ipynb",
   "provenance": []
  },
  "kernelspec": {
   "display_name": "Python 3 (ipykernel)",
   "language": "python",
   "name": "python3"
  },
  "language_info": {
   "codemirror_mode": {
    "name": "ipython",
    "version": 3
   },
   "file_extension": ".py",
   "mimetype": "text/x-python",
   "name": "python",
   "nbconvert_exporter": "python",
   "pygments_lexer": "ipython3",
   "version": "3.9.7"
  }
 },
 "nbformat": 4,
 "nbformat_minor": 4
}
