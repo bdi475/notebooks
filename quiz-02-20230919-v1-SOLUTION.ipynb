{
 "cells": [
  {
   "cell_type": "markdown",
   "id": "52d52999",
   "metadata": {},
   "source": [
    "# Quiz 2 - Pandas Filtering and Sorting\n",
    "\n",
    "- 🏆 25 points available\n",
    "- ✏️ Last updated on 9/19/2023\n",
    "\n",
    "![Sneaker](https://github.com/subwaymatch/bdi475-course-site/blob/main/public/images/case-studies/553675_v6_adidas_com.jpg?raw=true)"
   ]
  },
  {
   "cell_type": "markdown",
   "id": "dbb8486f",
   "metadata": {
    "id": "DiznwS2xem7h"
   },
   "source": [
    "▶️ First, run the code cell below to import `unittest`, a module used for **🧭 Check Your Work** sections and the autograder."
   ]
  },
  {
   "cell_type": "code",
   "execution_count": 1,
   "id": "d911d7fb",
   "metadata": {
    "id": "xOFvIip0em7h"
   },
   "outputs": [],
   "source": [
    "# DO NOT MODIFY THE CODE IN THIS CELL\n",
    "import unittest\n",
    "tc = unittest.TestCase()"
   ]
  },
  {
   "cell_type": "markdown",
   "id": "cac11410",
   "metadata": {},
   "source": [
    "---\n",
    "\n",
    "### 🎯 Challenge 1: Average Price of Sneakers using a For Loop"
   ]
  },
  {
   "cell_type": "markdown",
   "id": "66f46781",
   "metadata": {
    "id": "i3PWWkSaem7i"
   },
   "source": [
    "You are given a `list`-type variable named `sneakers`, which contains a list of dictionaries. Each dictionary in the list contains the brand, price, and name of a pair of sneakers. 👟\n",
    "\n",
    "#### 👇 Tasks\n",
    "1. Use a `for` loop to find the average price of Adidas sneakers in the `sneakers` list.\n",
    "2. Store the result to a new variable named `adidas_average`.\n",
    "\n",
    "#### 🧭 Expected Output\n",
    "```plaintext\n",
    "Average price of Adidas Yeezys is 1008.0.\n",
    "```"
   ]
  },
  {
   "cell_type": "code",
   "execution_count": 2,
   "id": "2a853316",
   "metadata": {
    "id": "jfnhv8_Yem7j"
   },
   "outputs": [
    {
     "name": "stdout",
     "output_type": "stream",
     "text": [
      "Average price of Adidas Yeezys is 1008.0.\n"
     ]
    }
   ],
   "source": [
    "sneakers = [\n",
    "    {\"brand\": \"Nike\", \"price\": 3448, \"name\": \"Air Yeezy 2 Pure Platinum\"},\n",
    "    {\"brand\": \"Nike\", \"price\": 2139, \"name\": \"Air Yeezy Zen Grey\"},\n",
    "    {\"brand\": \"Adidas\", \"price\": 1009, \"name\": \"Yeezy Boost 350 V2 Lundmark Reflective\"},\n",
    "    {\"brand\": \"Adidas\", \"price\": 910, \"name\": \"Yeezy 350 Boost Pirate Black\"},\n",
    "    {\"brand\": \"Nike\", \"price\": 6075, \"name\": \"Air Yeezy 2 Red October\"},\n",
    "    {\"brand\": \"Adidas\", \"price\": 1292, \"name\": \"Yeezy Boost 350 V2 Synth Reflective\"},\n",
    "    {\"brand\": \"Adidas\", \"price\": 912, \"name\": \"Yeezy Boost 350 V2 Antlia Reflective\"},\n",
    "    {\"brand\": \"Nike\", \"price\": 4239, \"name\": \"Air Yeezy 2 Solar Red\"},\n",
    "    {\"brand\": \"Nike\", \"price\": 3142, \"name\": \"Air Yeezy Blink\"},\n",
    "    {\"brand\": \"Adidas\", \"price\": 917, \"name\": \"Yeezy 750 Boost Glow in the Dark\"},\n",
    "]\n",
    "\n",
    "# YOUR CODE BEGINS\n",
    "price_total = 0\n",
    "num_sneakers = 0\n",
    "\n",
    "for o in sneakers:\n",
    "    if o[\"brand\"] == \"Adidas\":\n",
    "        price_total += o[\"price\"]\n",
    "        num_sneakers += 1\n",
    "\n",
    "adidas_average = price_total / num_sneakers\n",
    "# YOUR CODE ENDS\n",
    "\n",
    "print(f\"Average price of Adidas Yeezys is {adidas_average}.\")"
   ]
  },
  {
   "cell_type": "markdown",
   "id": "7a2bc4ad",
   "metadata": {
    "id": "EdrK-mBsem7r"
   },
   "source": [
    "#### 🧭 Check Your Work\n",
    "\n",
    "- Once you're done, run the code cell below to test correctness.\n",
    "- ✔️ If the code cell runs without an error, you're good to move on.\n",
    "- ❌ If the code cell throws an error, go back and fix any incorrect parts."
   ]
  },
  {
   "cell_type": "code",
   "execution_count": 3,
   "id": "6bd27917",
   "metadata": {},
   "outputs": [],
   "source": [
    "_test_case = 'average-price-of-sneakers-using-a-for-loop'\n",
    "_points = 10\n",
    "_obfuscate = True\n",
    "\n",
    "tc.assertAlmostEqual(adidas_average, 1008.0)"
   ]
  },
  {
   "cell_type": "markdown",
   "id": "22266848",
   "metadata": {
    "id": "Dg-bBkF8fGaN"
   },
   "source": [
    "---\n",
    "\n",
    "### 🎯 Challenge 2: Average Price of Sneakers using a Function\n",
    "\n",
    "\n",
    "#### 👇 Tasks\n",
    "Create a function named `get_avg_price()` that returns the average price of sneakers for a given brand.\n",
    "\n",
    "#### 💡 Example\n",
    "`get_avg_price(my_sneakers, \"Adidas\")` should return the average price of Adidas sneakers in the `my_sneakers` list.\n",
    "\n",
    "#### 🧭 Expected Output\n",
    "```plaintext\n",
    "3808.6\n",
    "1008.0\n",
    "85.0\n",
    "55.5\n",
    "```"
   ]
  },
  {
   "cell_type": "code",
   "execution_count": 4,
   "id": "08b5949c",
   "metadata": {
    "colab": {
     "base_uri": "https://localhost:8080/"
    },
    "id": "OoYuVAyhem7q",
    "outputId": "8eea66d1-ee93-464c-9889-346fd512d07a"
   },
   "outputs": [
    {
     "name": "stdout",
     "output_type": "stream",
     "text": [
      "3808.6\n",
      "1008.0\n",
      "85.0\n",
      "55.5\n"
     ]
    }
   ],
   "source": [
    "my_sneakers = [\n",
    "    {\"brand\": \"Nike\", \"price\": 3448, \"name\": \"Air Yeezy 2 Pure Platinum\"},\n",
    "    {\"brand\": \"Nike\", \"price\": 2139, \"name\": \"Air Yeezy Zen Grey\"},\n",
    "    {\"brand\": \"Adidas\", \"price\": 1009, \"name\": \"Yeezy Boost 350 V2 Lundmark Reflective\",\n",
    "    },\n",
    "    {\"brand\": \"Adidas\", \"price\": 910, \"name\": \"Yeezy 350 Boost Pirate Black\"},\n",
    "    {\"brand\": \"Nike\", \"price\": 6075, \"name\": \"Air Yeezy 2 Red October\"},\n",
    "    {\"brand\": \"Adidas\", \"price\": 1292, \"name\": \"Yeezy Boost 350 V2 Synth Reflective\"},\n",
    "    {\"brand\": \"Adidas\", \"price\": 912, \"name\": \"Yeezy Boost 350 V2 Antlia Reflective\"},\n",
    "    {\"brand\": \"Nike\", \"price\": 4239, \"name\": \"Air Yeezy 2 Solar Red\"},\n",
    "    {\"brand\": \"Nike\", \"price\": 3142, \"name\": \"Air Yeezy Blink\"},\n",
    "    {\"brand\": \"Adidas\", \"price\": 917, \"name\": \"Yeezy 750 Boost Glow in the Dark\"},\n",
    "]\n",
    "your_sneakers = [\n",
    "    {\"brand\": \"Skechers\", \"price\": 85, \"name\": \"Skechers Gowalk Arch Fit Black\"},\n",
    "]\n",
    "\n",
    "# YOUR CODE BEGINS\n",
    "def get_avg_price(sneakers, brand):\n",
    "    total_price = 0\n",
    "    num_sneakers = 0\n",
    "\n",
    "    for o in sneakers:\n",
    "        if o[\"brand\"] == brand:\n",
    "            total_price += o[\"price\"]\n",
    "            num_sneakers += 1\n",
    "\n",
    "    return total_price / num_sneakers\n",
    "# YOUR CODE ENDS\n",
    "\n",
    "print(get_avg_price(my_sneakers, \"Nike\"))\n",
    "print(get_avg_price(my_sneakers, \"Adidas\"))\n",
    "print(get_avg_price(your_sneakers, \"Skechers\"))\n",
    "print(get_avg_price([{\"brand\": \"Asics\", \"price\": 55.5}], \"Asics\"))"
   ]
  },
  {
   "cell_type": "markdown",
   "id": "f78a6048",
   "metadata": {
    "id": "EdrK-mBsem7r"
   },
   "source": [
    "#### 🧭 Check Your Work\n",
    "\n",
    "- Once you're done, run the code cell below to test correctness.\n",
    "- ✔️ If the code cell runs without an error, you're good to move on.\n",
    "- ❌ If the code cell throws an error, go back and fix any incorrect parts."
   ]
  },
  {
   "cell_type": "code",
   "execution_count": 5,
   "id": "cd666161",
   "metadata": {
    "id": "DXDG3nzpem7r"
   },
   "outputs": [],
   "source": [
    "_test_case = 'average-price-of-sneakers-using-a-function'\n",
    "_points = 15\n",
    "_obfuscate = True\n",
    "\n",
    "test_sneakers = [\n",
    "    {\"brand\": \"Reebok\", \"price\": 65, \"name\": \"Shoes 1\"},\n",
    "    {\"brand\": \"Nike\", \"price\": 45, \"name\": \"Shoes 2\"},\n",
    "    {\"brand\": \"Reebok\", \"price\": 55, \"name\": \"Shoes 3\"},\n",
    "]\n",
    "\n",
    "tc.assertEqual(get_avg_price(test_sneakers, \"Reebok\"), 60.0)\n",
    "tc.assertEqual(get_avg_price(test_sneakers, \"Nike\"), 45)\n",
    "tc.assertEqual(get_avg_price([{\"brand\": \"Umbro\", \"price\": 48.9}], \"Umbro\"), 48.9)"
   ]
  }
 ],
 "metadata": {
  "kernelspec": {
   "display_name": "Python 3 (ipykernel)",
   "language": "python",
   "name": "python3"
  },
  "language_info": {
   "codemirror_mode": {
    "name": "ipython",
    "version": 3
   },
   "file_extension": ".py",
   "mimetype": "text/x-python",
   "name": "python",
   "nbconvert_exporter": "python",
   "pygments_lexer": "ipython3",
   "version": "3.9.7"
  }
 },
 "nbformat": 4,
 "nbformat_minor": 5
}
