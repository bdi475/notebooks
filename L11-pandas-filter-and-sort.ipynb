{
 "cells": [
  {
   "cell_type": "markdown",
   "metadata": {},
   "source": [
    "# Lecture 11 - Pandas Filter, Sort, Read/Update Cells\n",
    "\n",
    "Monday 2021/03/08"
   ]
  },
  {
   "cell_type": "markdown",
   "metadata": {},
   "source": [
    "## Lecture Notes and in-class exercises"
   ]
  },
  {
   "cell_type": "markdown",
   "metadata": {},
   "source": [
    "▶️ First, run the code cell below to import `unittest`, a module used for **🧭 Check Your Work** sections and the autograder."
   ]
  },
  {
   "cell_type": "code",
   "execution_count": null,
   "metadata": {},
   "outputs": [],
   "source": [
    "import unittest\n",
    "tc = unittest.TestCase()"
   ]
  },
  {
   "cell_type": "markdown",
   "metadata": {},
   "source": [
    "#### 👇 Tasks\n",
    "\n",
    "- ✔️ Import the following Python packages.\n",
    "    1. `pandas`: Use alias `pd`.\n",
    "    2. `numpy`: Use alias `np`."
   ]
  },
  {
   "cell_type": "code",
   "execution_count": null,
   "metadata": {},
   "outputs": [],
   "source": [
    "# YOUR CODE BEGINS\n",
    "\n",
    "\n",
    "# YOUR CODE ENDS"
   ]
  },
  {
   "cell_type": "markdown",
   "metadata": {},
   "source": [
    "#### 🧭 Check Your Work\n",
    "\n",
    "- Once you're done, run the code cell below to test correctness.\n",
    "- ✔️ If the code cell runs without an error, you're good to move on.\n",
    "- ❌ If the code cell throws an error, go back and fix incorrect parts."
   ]
  },
  {
   "cell_type": "code",
   "execution_count": null,
   "metadata": {},
   "outputs": [],
   "source": [
    "import sys\n",
    "tc.assertTrue('pd' in globals(), 'Check whether you have correctly import Pandas with an alias.')\n",
    "tc.assertTrue('np' in globals(), 'Check whether you have correctly import NumPy with an alias.')"
   ]
  },
  {
   "cell_type": "markdown",
   "metadata": {},
   "source": [
    "---\n",
    "\n",
    "### 📌 Load data"
   ]
  },
  {
   "cell_type": "markdown",
   "metadata": {},
   "source": [
    "The first part of today's lecture is all about **you**. 👻 Literally.\n",
    "\n",
    "▶️ Run the code cell below to create a new `DataFrame` named `df_you`."
   ]
  },
  {
   "cell_type": "code",
   "execution_count": null,
   "metadata": {},
   "outputs": [],
   "source": [
    "df_you = pd.read_csv('https://raw.githubusercontent.com/bdi475/datasets/main/about-you.csv')\n",
    "\n",
    "# Used to keep a clean copy\n",
    "df_you_backup = df_you.copy()\n",
    "\n",
    "# head() displays the first 5 rows of a DataFrame\n",
    "df_you.head()"
   ]
  },
  {
   "cell_type": "markdown",
   "metadata": {},
   "source": [
    "☝️ **Hold on.** Didn't we always create `DataFrame`s using `pd.DataFrame()`?\n",
    "\n",
    "Yes. But we can *import* existing data as a Pandas `DataFrame` using `pd.read_csv()`. There are many other similar import methods. For now, we'll mostly use `pd.read.csv()`.\n",
    "\n",
    "The table below explains each column in `df_you`."
   ]
  },
  {
   "cell_type": "markdown",
   "metadata": {},
   "source": [
    "| Column Name             | Description                                               |\n",
    "|-------------------------|-----------------------------------------------------------|\n",
    "| name                    | First name                                                |\n",
    "| major1                  | Major                                                     |\n",
    "| major2                  | Second major OR minor (blank if no second major or minor) |\n",
    "| city                    | City the person is from                                   |\n",
    "| distance_from_champaign | Straight distance from the city to Champaign in miles     |\n",
    "| fav_restaurant          | Favorite restaurant (blank if no restaurant was given)    |\n",
    "| has_iphone              | Whether the person use an iPhone                          |"
   ]
  },
  {
   "cell_type": "markdown",
   "metadata": {},
   "source": [
    "---\n",
    "\n",
    "### 📌 Concise summary of a `DataFrame`"
   ]
  },
  {
   "cell_type": "markdown",
   "metadata": {},
   "source": [
    "👉 A common first step in working with a `DataFrame` is to use the `info()` method. `info()` prints a concise summary of a `DataFrame`.\n",
    "- Index data type\n",
    "- Column information: for each column, the following information is displayed:\n",
    "    - Number of non-missing values\n",
    "    - Data type of the column\n",
    "- Memory usage"
   ]
  },
  {
   "cell_type": "markdown",
   "metadata": {},
   "source": [
    "▶️ Run `df_you.info()` below to see the `info()` method in action."
   ]
  },
  {
   "cell_type": "code",
   "execution_count": null,
   "metadata": {},
   "outputs": [],
   "source": [
    "# YOUR CODE BEGINS\n",
    "\n",
    "# YOUR CODE ENDS"
   ]
  },
  {
   "cell_type": "markdown",
   "metadata": {},
   "source": [
    "👉 From the result of `df_you.info()`, we can understand a couple of things:\n",
    "\n",
    "- There are 7 columns.\n",
    "- Five columns have the `object` data type.\n",
    "    - In Pandas, a string data type is shown as `object`, not `str`.\n",
    "        - We will skip the technical discussion for now.\n",
    "- The second line of the output tells us that there are 32 entries.\n",
    "- Some columns have 32 non-null values - these columns do not contain any missing value.\n",
    "- Some columns have less than 32 non-null values - these columns contain one or more missing values.\n",
    "    - Missing values are displayed as `NaN`.\n",
    "    - To denote a missing value, use NumPy's `np.nan` (more on this later)."
   ]
  },
  {
   "cell_type": "markdown",
   "metadata": {},
   "source": [
    "---\n",
    "\n",
    "### 📌 Number of rows and columns in a `DataFrame`"
   ]
  },
  {
   "cell_type": "markdown",
   "metadata": {},
   "source": [
    "👉 How many rows and columns does `df_you` have?\n",
    "\n",
    "▶️ Run `df_you.shape` below to see the *shape* of the database."
   ]
  },
  {
   "cell_type": "code",
   "execution_count": null,
   "metadata": {},
   "outputs": [],
   "source": [
    "# YOUR CODE BEGINS\n",
    "\n",
    "# YOUR CODE ENDS"
   ]
  },
  {
   "cell_type": "markdown",
   "metadata": {},
   "source": [
    "👉 Can you store the number of rows and columns to variables?\n",
    "\n",
    "`df_you.shape` returns a `tuple` in `(num_rows, num_cols)` format. 🙀 A `tuple` is a `list` that cannot be modified once created.\n",
    "\n",
    "▶️ Run the code cell below to see how they work nearly identical."
   ]
  },
  {
   "cell_type": "code",
   "execution_count": null,
   "metadata": {},
   "outputs": [],
   "source": [
    "# These two are nearly identical,\n",
    "# The only difference is that my_tuple cannot be modified\n",
    "my_list = [10, 20]\n",
    "my_tuple = (10, 20)\n",
    "\n",
    "print(f'my_list[1]={my_list[1]}')    # prints 20\n",
    "print(f'my_tuple[1]={my_tuple[1]}')  # also prints 20"
   ]
  },
  {
   "cell_type": "markdown",
   "metadata": {},
   "source": [
    "---\n",
    "\n",
    "### 🎯 Mini-exercise: Find of number of rows and columns in a `DataFrame`"
   ]
  },
  {
   "cell_type": "markdown",
   "metadata": {},
   "source": [
    "#### 👇 Tasks\n",
    "\n",
    "- ✔️ Store the number of rows in `df_you` to a new variable named `num_rows`.\n",
    "- ✔️ Store the number of columns in `df_you` to a new variable named `num_cols`.\n",
    "- ✔️ Use `.shape`, not `len()`."
   ]
  },
  {
   "cell_type": "code",
   "execution_count": null,
   "metadata": {},
   "outputs": [],
   "source": [
    "# YOUR CODE BEGINS\n",
    "\n",
    "\n",
    "\n",
    "\n",
    "\n",
    "# YOUR CODE ENDS"
   ]
  },
  {
   "cell_type": "markdown",
   "metadata": {},
   "source": [
    "#### 🧭 Check Your Work\n",
    "\n",
    "- Once you're done, run the code cell below to test correctness.\n",
    "- ✔️ If the code cell runs without an error, you're good to move on.\n",
    "- ❌ If the code cell throws an error, go back and fix incorrect parts."
   ]
  },
  {
   "cell_type": "code",
   "execution_count": null,
   "metadata": {},
   "outputs": [],
   "source": [
    "tc.assertEqual(num_rows, len(df_you.index), f'Number of rows should be {len(df_you.index)}')\n",
    "tc.assertEqual(num_cols, len(df_you.columns), f'Number of columns should be {len(df_you.columns)}')"
   ]
  },
  {
   "cell_type": "markdown",
   "metadata": {},
   "source": [
    "---\n",
    "\n",
    "### 📌 Filtering rows"
   ]
  },
  {
   "cell_type": "markdown",
   "metadata": {},
   "source": [
    "Let's step back and go back to working with a `Series`.\n",
    "\n",
    "▶️ Create a `Series` named `nums` with the following four integers: `-20`, `-10`, `10`, `20`. "
   ]
  },
  {
   "cell_type": "code",
   "execution_count": null,
   "metadata": {},
   "outputs": [],
   "source": [
    "# YOUR CODE BEGINS\n",
    "\n",
    "# YOUR CODE ENDS\n",
    "\n",
    "nums"
   ]
  },
  {
   "cell_type": "markdown",
   "metadata": {},
   "source": [
    "👉 Is there a way *filter* the `Series` so that it only contains **positive** values? Let's first try this **manually**.\n",
    "\n",
    "▶️ Create a new `Series` named `keep` with the following four boolean values: `False`, `False`, `True`, `True`."
   ]
  },
  {
   "cell_type": "code",
   "execution_count": null,
   "metadata": {},
   "outputs": [],
   "source": [
    "# YOUR CODE BEGINS\n",
    "\n",
    "# YOUR CODE ENDS\n",
    "\n",
    "# Check your work\n",
    "pd.testing.assert_series_equal(keep,\n",
    "                              pd.Series([0, 0, 1, 1]).astype(bool))\n",
    "\n",
    "# Display keep\n",
    "keep"
   ]
  },
  {
   "cell_type": "markdown",
   "metadata": {},
   "source": [
    "▶️ Now, you can use the boolean `Series` to filter another `Series`. Type in `nums[keep]` below and run the cell."
   ]
  },
  {
   "cell_type": "code",
   "execution_count": null,
   "metadata": {},
   "outputs": [],
   "source": [
    "# YOUR CODE BEGINS\n",
    "\n",
    "# YOUR CODE ENDS"
   ]
  },
  {
   "cell_type": "markdown",
   "metadata": {},
   "source": [
    "The syntax for filtering a `Series` is `my_series[keep]` where `keep` is a `Series` of boolean values indicating whether to keep an element or not. `keep` should have the exact same number of elements as `my_series`.\n",
    "\n",
    "▶️ **Uncomment the code cell below first** and run it to see what happens when your `keep` does not have the same number of elements as `my_series`.\n",
    "\n",
    "(⛔️ **Heads-up**: The code will throw an error! Once you're done running the cell, comment the lines.)"
   ]
  },
  {
   "cell_type": "code",
   "execution_count": null,
   "metadata": {},
   "outputs": [],
   "source": [
    "# keep_incorrect = pd.Series([False, False, True])\n",
    "# nums[keep_incorrect]"
   ]
  },
  {
   "cell_type": "markdown",
   "metadata": {},
   "source": [
    "👉 Is there a way *filter* the `Series` so that it only contains **positive** values? The last method we've used was inefficient. Imagine if your `Series` contains million elements. You would need to spend a few months continuously typing `True` and `False`! 🤡\n",
    "\n",
    "As a data analyst, your goal is to perform tasks *programmatically*.\n",
    "\n",
    "▶️ Type `keep_by_comparison = nums > 0` in the code cell below to perform a comparison on the `nums` Series."
   ]
  },
  {
   "cell_type": "code",
   "execution_count": null,
   "metadata": {},
   "outputs": [],
   "source": [
    "# YOUR CODE BEGINS\n",
    "\n",
    "# YOUR CODE ENDS\n",
    "\n",
    "keep_by_comparison"
   ]
  },
  {
   "cell_type": "markdown",
   "metadata": {},
   "source": [
    "Notice how `keep_by_comparison` is idential to the original `keep` Series?\n",
    "\n",
    "▶️ Use the `keep_by_comparison` to filter positive values in `nums`."
   ]
  },
  {
   "cell_type": "code",
   "execution_count": null,
   "metadata": {},
   "outputs": [],
   "source": [
    "# YOUR CODE BEGINS\n",
    "\n",
    "# YOUR CODE ENDS"
   ]
  },
  {
   "cell_type": "markdown",
   "metadata": {},
   "source": [
    "Note that applying a filter returns **a new `Series`** without modifying the original `Series`.\n",
    "\n",
    "▶️ Run the code below."
   ]
  },
  {
   "cell_type": "code",
   "execution_count": null,
   "metadata": {},
   "outputs": [],
   "source": [
    "print('Negative Values (filtered):')\n",
    "display(nums[nums < 10])\n",
    "\n",
    "print('\\n\\nOriginal Values:')\n",
    "display(nums)"
   ]
  },
  {
   "cell_type": "markdown",
   "metadata": {},
   "source": [
    "---\n",
    "\n",
    "### 🎯 Mini-exercise: Filter even numbers"
   ]
  },
  {
   "cell_type": "markdown",
   "metadata": {},
   "source": [
    "#### 👇 Tasks\n",
    "\n",
    "- ✔️ Using `all_nums`, filter only even numbers.\n",
    "    - Store the result to a new variable named `even_nums`.\n",
    "- ✔️ `all_nums` should remain unaltered after your code."
   ]
  },
  {
   "cell_type": "markdown",
   "metadata": {},
   "source": [
    "#### 🚀 Hints\n",
    "\n",
    "- Use the modulo operator (`%`) to check whether a number is even.\n",
    "    - `some_num % 2 == 0`"
   ]
  },
  {
   "cell_type": "code",
   "execution_count": null,
   "metadata": {},
   "outputs": [],
   "source": [
    "all_nums = pd.Series([2, 5, 4, 8, -2, -5, -11, 13, 4])\n",
    "\n",
    "# YOUR CODE BEGINS\n",
    "\n",
    "# YOUR CODE ENDS\n",
    "\n",
    "even_nums"
   ]
  },
  {
   "cell_type": "markdown",
   "metadata": {},
   "source": [
    "#### 🧭 Check Your Work\n",
    "\n",
    "- Once you're done, run the code cell below to test correctness.\n",
    "- ✔️ If the code cell runs without an error, you're good to move on.\n",
    "- ❌ If the code cell throws an error, go back and fix incorrect parts."
   ]
  },
  {
   "cell_type": "code",
   "execution_count": null,
   "metadata": {},
   "outputs": [],
   "source": [
    "pd.testing.assert_series_equal(all_nums, pd.Series([2, 5, 4, 8, -2, -5, -11, 13, 4]))\n",
    "pd.testing.assert_series_equal(even_nums.reset_index(drop=True),\n",
    "                               pd.Series([2, 4, 8, -2, 4]))"
   ]
  },
  {
   "cell_type": "markdown",
   "metadata": {},
   "source": [
    "---\n",
    "\n",
    "### 📌 Element-wise comparison in a `Series`"
   ]
  },
  {
   "cell_type": "markdown",
   "metadata": {},
   "source": [
    "▶️ Run the code cell below to create a new `Series` named `countries`."
   ]
  },
  {
   "cell_type": "code",
   "execution_count": null,
   "metadata": {},
   "outputs": [],
   "source": [
    "countries = pd.Series(['United States', 'Oman', 'United States',\n",
    "                       'China', 'Korea, South', 'United States'])\n",
    "\n",
    "display(countries)"
   ]
  },
  {
   "cell_type": "markdown",
   "metadata": {},
   "source": [
    "What happens when you perform an equality comparison on strings?\n",
    "\n",
    "▶️ Compare `countries` with the string `'United States'` using an equality comparison operator (`==`)."
   ]
  },
  {
   "cell_type": "code",
   "execution_count": null,
   "metadata": {},
   "outputs": [],
   "source": [
    "# YOUR CODE BEGINS\n",
    "\n",
    "# YOUR CODE ENDS"
   ]
  },
  {
   "cell_type": "markdown",
   "metadata": {},
   "source": [
    "▶️ Run the code cell below to check the data type of the result."
   ]
  },
  {
   "cell_type": "code",
   "execution_count": null,
   "metadata": {},
   "outputs": [],
   "source": [
    "type(countries == 'United States')"
   ]
  },
  {
   "cell_type": "markdown",
   "metadata": {},
   "source": [
    "The result is **another `Series`** containing boolean (`True`/`False`) values. Pandas performs a string comparison (`my_str == 'United States'`) on **each element**.\n",
    "\n",
    "You can also supply more than one condition.\n",
    "\n",
    "▶️ Run the code cell below to check whether a country is **either** `'Oman'` **or** `'China'`."
   ]
  },
  {
   "cell_type": "code",
   "execution_count": null,
   "metadata": {},
   "outputs": [],
   "source": [
    "(countries == 'Oman') | (countries == 'China')"
   ]
  },
  {
   "cell_type": "code",
   "execution_count": null,
   "metadata": {},
   "outputs": [],
   "source": [
    "countries[(countries == 'Oman') | (countries == 'China')]"
   ]
  },
  {
   "cell_type": "markdown",
   "metadata": {},
   "source": [
    "---\n",
    "\n",
    "### 📌 Filtering a `DataFrame`"
   ]
  },
  {
   "cell_type": "markdown",
   "metadata": {},
   "source": [
    "👉 I will keep saying this. A `DataFrame` is a combination of one or more columns. Filtering a `DataFrame` is very similar to filtering a `Series`.\n",
    "\n",
    "▶️ Run the code cell below to create a new `DataFrame` named `df_cities`."
   ]
  },
  {
   "cell_type": "code",
   "execution_count": null,
   "metadata": {},
   "outputs": [],
   "source": [
    "df_cities = pd.DataFrame({'city': ['Lisle', 'Muscat', 'Niles', 'Shanghai', 'Seoul', 'Chicago'],\n",
    " 'country': ['United States', 'Oman', 'United States', 'China', 'Korea, South', 'United States'],\n",
    " 'population': [23270, 1421409, 28938, 22120000, 21794000, 8604203]})\n",
    "\n",
    "df_cities"
   ]
  },
  {
   "cell_type": "markdown",
   "metadata": {},
   "source": [
    "To only keep rows where the `country` is `'United States'`, we can again supply a `Series` of boolean values.\n",
    "\n",
    "▶️ Create a new `Series` named `keep` with the following 6 boolean values - `True`, `False`, `True`, `False`, `False`, `True`."
   ]
  },
  {
   "cell_type": "code",
   "execution_count": null,
   "metadata": {},
   "outputs": [],
   "source": [
    "# YOUR CODE BEGINS\n",
    "\n",
    "# YOUR CODE ENDS\n",
    "\n",
    "# Check your work\n",
    "pd.testing.assert_series_equal(keep,\n",
    "                               pd.Series([1, 0,1, 0, 0, 1]).astype(bool))\n",
    "\n",
    "# Display keep\n",
    "keep"
   ]
  },
  {
   "cell_type": "markdown",
   "metadata": {},
   "source": [
    "🤠 You know the drill now.\n",
    "\n",
    "▶️ Type `df_cities[keep]` in the code cell below and run it."
   ]
  },
  {
   "cell_type": "code",
   "execution_count": null,
   "metadata": {},
   "outputs": [],
   "source": [
    "# YOUR CODE BEGINS\n",
    "\n",
    "# YOUR CODE ENDS"
   ]
  },
  {
   "cell_type": "markdown",
   "metadata": {},
   "source": [
    "---\n",
    "\n",
    "### 🎯 Mini-exercise: Cities with population over a million"
   ]
  },
  {
   "cell_type": "markdown",
   "metadata": {},
   "source": [
    "#### 👇 Tasks\n",
    "\n",
    "- ✔️ Using `df_cities`, filter rows with a population greater than a million (`1000000`).\n",
    "    - Store the result to a new variable named `df_large_cities`.\n",
    "- ✔️ `df_cities` should remain unaltered after your code."
   ]
  },
  {
   "cell_type": "code",
   "execution_count": null,
   "metadata": {},
   "outputs": [],
   "source": [
    "# YOUR CODE BEGINS\n",
    "\n",
    "# YOUR CODE ENDS\n",
    "\n",
    "df_large_cities"
   ]
  },
  {
   "cell_type": "markdown",
   "metadata": {},
   "source": [
    "#### 🧭 Check Your Work\n",
    "\n",
    "- Once you're done, run the code cell below to test correctness.\n",
    "- ✔️ If the code cell runs without an error, you're good to move on.\n",
    "- ❌ If the code cell throws an error, go back and fix incorrect parts."
   ]
  },
  {
   "cell_type": "code",
   "execution_count": null,
   "metadata": {},
   "outputs": [],
   "source": [
    "pd.testing.assert_frame_equal(df_large_cities.reset_index(drop=True),\n",
    "                              pd.DataFrame({'city': ['Muscat', 'Shanghai', 'Seoul', 'Chicago'],\n",
    "                                            'country': ['Oman', 'China', 'Korea, South', 'United States'],\n",
    "                                            'population': [1421409, 22120000, 21794000, 8604203]}))"
   ]
  },
  {
   "cell_type": "markdown",
   "metadata": {},
   "source": [
    "---\n",
    "\n",
    "### 🎯 Mini-exercise: People who does not use an iPhone"
   ]
  },
  {
   "cell_type": "markdown",
   "metadata": {},
   "source": [
    "▶️ Run the code cell below to see the **first** 3 rows of `df_you`."
   ]
  },
  {
   "cell_type": "code",
   "execution_count": null,
   "metadata": {},
   "outputs": [],
   "source": [
    "# Restore clean df_you\n",
    "df_you = df_you_backup.copy()\n",
    "\n",
    "df_you.head(3)"
   ]
  },
  {
   "cell_type": "markdown",
   "metadata": {},
   "source": [
    "#### 👇 Tasks\n",
    "\n",
    "- ✔️ Using `df_you`, filter rows where the person does not use an iPhone.\n",
    "    - Store the result to a new variable named `df_no_iphone`.\n",
    "- ✔️ `df_you` should remain unaltered after your code."
   ]
  },
  {
   "cell_type": "code",
   "execution_count": null,
   "metadata": {},
   "outputs": [],
   "source": [
    "# YOUR CODE BEGINS\n",
    "\n",
    "# YOUR CODE ENDS\n",
    "\n",
    "df_no_iphone"
   ]
  },
  {
   "cell_type": "markdown",
   "metadata": {},
   "source": [
    "#### 🧭 Check Your Work\n",
    "\n",
    "- Once you're done, run the code cell below to test correctness.\n",
    "- ✔️ If the code cell runs without an error, you're good to move on.\n",
    "- ❌ If the code cell throws an error, go back and fix incorrect parts."
   ]
  },
  {
   "cell_type": "code",
   "execution_count": null,
   "metadata": {},
   "outputs": [],
   "source": [
    "pd.testing.assert_frame_equal(df_no_iphone.reset_index(drop=True),\n",
    "                              pd.DataFrame({'name': ['Zach', 'Mark'], 'major1': ['Finance', 'Finance'],\n",
    "                                            'major2': ['Information Systems', np.nan], 'city': ['Glenview', 'Metamora'],\n",
    "                                            'distance_from_champaign': [137.04, 74.97], 'fav_restaurant': [np.nan, 'Taco Bell'], 'has_iphone': [False, False]}))"
   ]
  },
  {
   "cell_type": "markdown",
   "metadata": {},
   "source": [
    "---\n",
    "\n",
    "### 🎯 Mini-exercise: People who are from outside the States"
   ]
  },
  {
   "cell_type": "markdown",
   "metadata": {},
   "source": [
    "▶️ Run the code cell below to see the **last** 2 rows of `df_you`."
   ]
  },
  {
   "cell_type": "code",
   "execution_count": null,
   "metadata": {},
   "outputs": [],
   "source": [
    "# Restore clean df_you\n",
    "df_you = df_you_backup.copy()\n",
    "\n",
    "df_you.tail(2)"
   ]
  },
  {
   "cell_type": "markdown",
   "metadata": {},
   "source": [
    "#### 👇 Tasks\n",
    "\n",
    "- ✔️ Using `df_you`, filter rows where the person is from a city that is at least 1000 miles away.\n",
    "    - Use the `distance_from_champaign` column.\n",
    "    - Store the result to a new variable named `df_far`.\n",
    "- ✔️ `df_you` should remain unaltered after your code."
   ]
  },
  {
   "cell_type": "code",
   "execution_count": null,
   "metadata": {},
   "outputs": [],
   "source": [
    "# YOUR CODE BEGINS\n",
    "\n",
    "# YOUR CODE ENDS\n",
    "\n",
    "df_far"
   ]
  },
  {
   "cell_type": "markdown",
   "metadata": {},
   "source": [
    "#### 🧭 Check Your Work\n",
    "\n",
    "- Once you're done, run the code cell below to test correctness.\n",
    "- ✔️ If the code cell runs without an error, you're good to move on.\n",
    "- ❌ If the code cell throws an error, go back and fix incorrect parts."
   ]
  },
  {
   "cell_type": "code",
   "execution_count": null,
   "metadata": {},
   "outputs": [],
   "source": [
    "df_check = df_you_backup[df_you_backup['distance_from_champaign'] >= 1000]\n",
    "\n",
    "pd.testing.assert_frame_equal(df_far.sort_values(df_far.columns.tolist()).reset_index(drop=True),\n",
    "                              df_check.sort_values(df_check.columns.tolist()).reset_index(drop=True))"
   ]
  },
  {
   "cell_type": "markdown",
   "metadata": {},
   "source": [
    "---\n",
    "\n",
    "### 🎯 Mini-exercise: People who are `Economics` majors or likes `Taco Bell`"
   ]
  },
  {
   "cell_type": "markdown",
   "metadata": {},
   "source": [
    "▶️ Run the code cell below to see the **last** 5 rows of `df_you`."
   ]
  },
  {
   "cell_type": "code",
   "execution_count": null,
   "metadata": {},
   "outputs": [],
   "source": [
    "# Restore clean df_you\n",
    "df_you = df_you_backup.copy()\n",
    "\n",
    "df_you.tail(5)"
   ]
  },
  {
   "cell_type": "markdown",
   "metadata": {},
   "source": [
    "#### 👇 Tasks\n",
    "\n",
    "- ✔️ Using `df_you`, filter rows that matches the following criteria:\n",
    "    - The person's `major1` is `Economics`, **OR**\n",
    "    - The person's `fav_restaurant` is `Taco Bell`\n",
    "- ✔️ Store the filtered `DataFrame` to a new variable named `df_econotacos`.\n",
    "- ✔️ `df_you` should remain unaltered after your code."
   ]
  },
  {
   "cell_type": "code",
   "execution_count": null,
   "metadata": {},
   "outputs": [],
   "source": [
    "# YOUR CODE BEGINS\n",
    "\n",
    "# YOUR CODE ENDS\n",
    "\n",
    "df_econotacos"
   ]
  },
  {
   "cell_type": "markdown",
   "metadata": {},
   "source": [
    "#### 🧭 Check Your Work\n",
    "\n",
    "- Once you're done, run the code cell below to test correctness.\n",
    "- ✔️ If the code cell runs without an error, you're good to move on.\n",
    "- ❌ If the code cell throws an error, go back and fix incorrect parts."
   ]
  },
  {
   "cell_type": "code",
   "execution_count": null,
   "metadata": {},
   "outputs": [],
   "source": [
    "df_check = df_you_backup[(df_you_backup['major1'] == 'Economics') | (df_you_backup['fav_restaurant'] == 'Taco Bell')]\n",
    "\n",
    "pd.testing.assert_frame_equal(df_econotacos.sort_values(df_far.columns.tolist()).reset_index(drop=True),\n",
    "                              df_check.sort_values(df_check.columns.tolist()).reset_index(drop=True))"
   ]
  },
  {
   "cell_type": "markdown",
   "metadata": {},
   "source": [
    "---\n",
    "\n",
    "### 🎯 Mini-exercise: Do your own thang"
   ]
  },
  {
   "cell_type": "markdown",
   "metadata": {},
   "source": [
    "▶️ Run the code cell below to **randomly select** 5 rows from `df_you`."
   ]
  },
  {
   "cell_type": "code",
   "execution_count": null,
   "metadata": {},
   "outputs": [],
   "source": [
    "# Restore clean df_you\n",
    "df_you = df_you_backup.copy()\n",
    "\n",
    "df_you.sample(5)"
   ]
  },
  {
   "cell_type": "markdown",
   "metadata": {},
   "source": [
    "#### 👇 Tasks\n",
    "\n",
    "- ✔️ Using `df_you`, create a filter that may interest you."
   ]
  },
  {
   "cell_type": "code",
   "execution_count": null,
   "metadata": {},
   "outputs": [],
   "source": [
    "# YOUR CODE BEGINS\n",
    "\n",
    "\n",
    "\n",
    "# YOUR CODE ENDS"
   ]
  },
  {
   "cell_type": "markdown",
   "metadata": {},
   "source": [
    "---\n",
    "\n",
    "### 📌 Sorting a `DataFrame`"
   ]
  },
  {
   "cell_type": "markdown",
   "metadata": {},
   "source": [
    "▶️ Run the code cell below to **sort** `df_you` by `distance_from_champaign`."
   ]
  },
  {
   "cell_type": "code",
   "execution_count": null,
   "metadata": {},
   "outputs": [],
   "source": [
    "df_you.sort_values('distance_from_champaign')"
   ]
  },
  {
   "cell_type": "markdown",
   "metadata": {},
   "source": [
    "▶️ Run the code cell below to **sort** `df_you` by `major1` and then by `major2` for people with same `major1` values."
   ]
  },
  {
   "cell_type": "code",
   "execution_count": null,
   "metadata": {},
   "outputs": [],
   "source": [
    "df_you.sort_values(['major1', 'major2'])"
   ]
  },
  {
   "cell_type": "markdown",
   "metadata": {},
   "source": [
    "▶️ Run the code cell below to **sort** `df_you` by `distance_from_champaign` in descending order."
   ]
  },
  {
   "cell_type": "code",
   "execution_count": null,
   "metadata": {},
   "outputs": [],
   "source": [
    "df_you.sort_values('distance_from_champaign', ascending=False)"
   ]
  }
 ],
 "metadata": {
  "kernelspec": {
   "display_name": "Python 3",
   "language": "python",
   "name": "python3"
  },
  "language_info": {
   "codemirror_mode": {
    "name": "ipython",
    "version": 3
   },
   "file_extension": ".py",
   "mimetype": "text/x-python",
   "name": "python",
   "nbconvert_exporter": "python",
   "pygments_lexer": "ipython3",
   "version": "3.8.3"
  }
 },
 "nbformat": 4,
 "nbformat_minor": 4
}
