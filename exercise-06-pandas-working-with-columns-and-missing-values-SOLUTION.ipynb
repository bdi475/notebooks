{
 "cells": [
  {
   "cell_type": "markdown",
   "id": "3160a0b6",
   "metadata": {},
   "source": [
    "# Exercise 6 - Working with Columns & Missing values\n",
    "\n",
    "- 🏆 20 points available\n",
    "- ✏️ Last updated on 02/26/2022"
   ]
  },
  {
   "cell_type": "markdown",
   "id": "7b520e54",
   "metadata": {
    "id": "DiznwS2xem7h"
   },
   "source": [
    "▶️ First, run the code cell below to import `unittest`, a module used for **🧭 Check Your Work** sections and the autograder."
   ]
  },
  {
   "cell_type": "code",
   "execution_count": null,
   "id": "8fb2dd58",
   "metadata": {
    "id": "xOFvIip0em7h"
   },
   "outputs": [],
   "source": [
    "# DO NOT MODIFY THE CODE IN THIS CELL\n",
    "import unittest\n",
    "tc = unittest.TestCase()"
   ]
  },
  {
   "cell_type": "markdown",
   "id": "16024056",
   "metadata": {},
   "source": [
    "---\n",
    "\n",
    "### 🎯 Part 1: Import Pandas and NumPy"
   ]
  },
  {
   "cell_type": "markdown",
   "id": "e6e25d32",
   "metadata": {
    "id": "i3PWWkSaem7i"
   },
   "source": [
    "#### 👇 Tasks\n",
    "\n",
    "- ✔️ Import the following Python packages.\n",
    "    1. `pandas`: Use alias `pd`.\n",
    "    2. `numpy`: Use alias `np`."
   ]
  },
  {
   "cell_type": "code",
   "execution_count": 2,
   "id": "797e2871",
   "metadata": {
    "id": "jfnhv8_Yem7j"
   },
   "outputs": [],
   "source": [
    "### BEGIN SOLUTION\n",
    "import pandas as pd\n",
    "import numpy as np\n",
    "### END SOLUTION"
   ]
  },
  {
   "cell_type": "markdown",
   "id": "32796155",
   "metadata": {
    "id": "EdrK-mBsem7r"
   },
   "source": [
    "#### 🧭 Check Your Work\n",
    "\n",
    "- Once you're done, run the code cell below to test correctness.\n",
    "- ✔️ If the code cell runs without an error, you're good to move on.\n",
    "- ❌ If the code cell throws an error, go back and fix any incorrect parts."
   ]
  },
  {
   "cell_type": "code",
   "execution_count": 3,
   "id": "266244dd",
   "metadata": {},
   "outputs": [],
   "source": [
    "part_name = \"part-01\"\n",
    "available_points = 2\n",
    "\n",
    "tc.assertTrue(\"pd\" in globals(), \"Check whether you have correctly import Pandas with an alias.\")\n",
    "tc.assertTrue(\"np\" in globals(), \"Check whether you have correctly import NumPy with an alias.\")"
   ]
  },
  {
   "cell_type": "markdown",
   "id": "e0393df2",
   "metadata": {},
   "source": [
    "---\n",
    "\n",
    "### 📌 Load data\n",
    "\n",
    "For the remainder of this exercise, you'll be working with a small DataFrame named `df_emp`.\n",
    "\n",
    "▶️ Run the code cell below to create `df_emp`."
   ]
  },
  {
   "cell_type": "code",
   "execution_count": 4,
   "id": "9c652f4f",
   "metadata": {},
   "outputs": [
    {
     "data": {
      "text/html": [
       "<div>\n",
       "<style scoped>\n",
       "    .dataframe tbody tr th:only-of-type {\n",
       "        vertical-align: middle;\n",
       "    }\n",
       "\n",
       "    .dataframe tbody tr th {\n",
       "        vertical-align: top;\n",
       "    }\n",
       "\n",
       "    .dataframe thead th {\n",
       "        text-align: right;\n",
       "    }\n",
       "</style>\n",
       "<table border=\"1\" class=\"dataframe\">\n",
       "  <thead>\n",
       "    <tr style=\"text-align: right;\">\n",
       "      <th></th>\n",
       "      <th>emp_id</th>\n",
       "      <th>name</th>\n",
       "      <th>dept</th>\n",
       "      <th>office_phone</th>\n",
       "      <th>start_date</th>\n",
       "      <th>salary</th>\n",
       "    </tr>\n",
       "  </thead>\n",
       "  <tbody>\n",
       "    <tr>\n",
       "      <th>0</th>\n",
       "      <td>30</td>\n",
       "      <td>Colby</td>\n",
       "      <td>Sales</td>\n",
       "      <td>(217)123-4500</td>\n",
       "      <td>2017-05-01</td>\n",
       "      <td>202000</td>\n",
       "    </tr>\n",
       "    <tr>\n",
       "      <th>1</th>\n",
       "      <td>40</td>\n",
       "      <td>Adam</td>\n",
       "      <td>Marketing</td>\n",
       "      <td>NaN</td>\n",
       "      <td>2018-02-01</td>\n",
       "      <td>185000</td>\n",
       "    </tr>\n",
       "    <tr>\n",
       "      <th>2</th>\n",
       "      <td>10</td>\n",
       "      <td>Eli</td>\n",
       "      <td>Sales</td>\n",
       "      <td>NaN</td>\n",
       "      <td>2020-08-01</td>\n",
       "      <td>240000</td>\n",
       "    </tr>\n",
       "    <tr>\n",
       "      <th>3</th>\n",
       "      <td>20</td>\n",
       "      <td>Dylan</td>\n",
       "      <td>Marketing</td>\n",
       "      <td>(217)987-6543</td>\n",
       "      <td>2019-12-01</td>\n",
       "      <td>160500</td>\n",
       "    </tr>\n",
       "  </tbody>\n",
       "</table>\n",
       "</div>"
      ],
      "text/plain": [
       "   emp_id   name       dept   office_phone  start_date  salary\n",
       "0      30  Colby      Sales  (217)123-4500  2017-05-01  202000\n",
       "1      40   Adam  Marketing            NaN  2018-02-01  185000\n",
       "2      10    Eli      Sales            NaN  2020-08-01  240000\n",
       "3      20  Dylan  Marketing  (217)987-6543  2019-12-01  160500"
      ]
     },
     "execution_count": 4,
     "metadata": {},
     "output_type": "execute_result"
    }
   ],
   "source": [
    "# DO NOT CHANGE THE CODE IN THIS CELL\n",
    "df_emp = pd.DataFrame({\n",
    "    \"emp_id\": [30, 40, 10, 20],\n",
    "    \"name\": [\"Colby\", \"Adam\", \"Eli\", \"Dylan\"],\n",
    "    \"dept\": [\"Sales\", \"Marketing\", \"Sales\", \"Marketing\"],\n",
    "    \"office_phone\": [\"(217)123-4500\", np.nan, np.nan, \"(217)987-6543\"],\n",
    "    \"start_date\": [\"2017-05-01\", \"2018-02-01\", \"2020-08-01\", \"2019-12-01\"],\n",
    "    \"salary\": [202000, 185000, 240000, 160500]\n",
    "})\n",
    "\n",
    "# Used for intermediate checks\n",
    "df_emp_backup = df_emp.copy()\n",
    "\n",
    "df_emp"
   ]
  },
  {
   "cell_type": "markdown",
   "id": "c97aa665",
   "metadata": {
    "id": "LI33A8-jem7m"
   },
   "source": [
    "The table below describes the columns in `df_products`.\n",
    "\n",
    "| Field | Description |\n",
    "|---|---|\n",
    "| Product_ID | Product ID |\n",
    "| Product_Name | Product name |\n",
    "| Product_Category | Product Category |\n",
    "| Product_Cost | Product cost (USD) |\n",
    "| Product_Price | Product retail price (USD) |"
   ]
  },
  {
   "cell_type": "markdown",
   "id": "7353ba28",
   "metadata": {
    "id": "Dg-bBkF8fGaN"
   },
   "source": [
    "---\n",
    "\n",
    "### 🎯 Part 2: Find the number of rows and columns\n",
    "\n",
    "#### 👇 Tasks\n",
    "\n",
    "- ✔️ Store the number of rows in `df_emp` to a new variable named `num_rows`.\n",
    "- ✔️ Store the number of columns in `df_emp` to a new variable named `num_cols`.\n",
    "- ✔️ Use `.shape`, not `len()`."
   ]
  },
  {
   "cell_type": "code",
   "execution_count": 5,
   "id": "6c03308e",
   "metadata": {},
   "outputs": [
    {
     "name": "stdout",
     "output_type": "stream",
     "text": [
      "Number of rows: 4\n",
      "Number of columns: 6\n"
     ]
    }
   ],
   "source": [
    "### BEGIN SOLUTION\n",
    "num_rows = df_emp.shape[0]\n",
    "num_cols = df_emp.shape[1]\n",
    "### END SOLUTION\n",
    "\n",
    "print(f\"Number of rows: {num_rows}\")\n",
    "print(f\"Number of columns: {num_cols}\")"
   ]
  },
  {
   "cell_type": "markdown",
   "id": "f227cc58",
   "metadata": {
    "id": "EdrK-mBsem7r"
   },
   "source": [
    "#### 🧭 Check Your Work\n",
    "\n",
    "- Once you're done, run the code cell below to test correctness.\n",
    "- ✔️ If the code cell runs without an error, you're good to move on.\n",
    "- ❌ If the code cell throws an error, go back and fix any incorrect parts."
   ]
  },
  {
   "cell_type": "code",
   "execution_count": 6,
   "id": "f452eb07",
   "metadata": {},
   "outputs": [],
   "source": [
    "part_name = \"part-02\"\n",
    "available_points = 2\n",
    "\n",
    "tc.assertEqual(num_rows, len(df_emp_backup.index), f\"Number of rows should be {len(df_emp_backup.index)}\")\n",
    "tc.assertEqual(num_cols, len(df_emp_backup.columns), f\"Number of columns should be {len(df_emp_backup.columns)}\")"
   ]
  },
  {
   "cell_type": "markdown",
   "id": "08f4e881",
   "metadata": {
    "id": "Dg-bBkF8fGaN"
   },
   "source": [
    "---\n",
    "\n",
    "### 🎯 Part 3: Find all rows with non-missing phone numbers\n",
    "\n",
    "#### 👇 Tasks\n",
    "\n",
    "- ✔️ Using `df_emp`, find rows where `office_phone` contains a non-missing value.\n",
    "- ✔️ Store the filtered rows to `df_with_phones`.\n",
    "- ✔️ `df_emp` should remain unaltered.\n",
    "\n",
    "#### 🔑 Expected Output of `df_with_phones`\n",
    "\n",
    "|  | emp_id | name | dept | office_phone | start_date | salary |\n",
    "|---|---|---|---|---|---|---|\n",
    "| 0 | 30 | Colby | Sales | (217)123-4500 | 2017-05-01 | 202000 |\n",
    "| 3 | 20 | Dylan | Marketing | (217)987-6543 | 2019-12-01 | 160500 |"
   ]
  },
  {
   "cell_type": "code",
   "execution_count": 7,
   "id": "b70f82be",
   "metadata": {},
   "outputs": [
    {
     "data": {
      "text/html": [
       "<div>\n",
       "<style scoped>\n",
       "    .dataframe tbody tr th:only-of-type {\n",
       "        vertical-align: middle;\n",
       "    }\n",
       "\n",
       "    .dataframe tbody tr th {\n",
       "        vertical-align: top;\n",
       "    }\n",
       "\n",
       "    .dataframe thead th {\n",
       "        text-align: right;\n",
       "    }\n",
       "</style>\n",
       "<table border=\"1\" class=\"dataframe\">\n",
       "  <thead>\n",
       "    <tr style=\"text-align: right;\">\n",
       "      <th></th>\n",
       "      <th>emp_id</th>\n",
       "      <th>name</th>\n",
       "      <th>dept</th>\n",
       "      <th>office_phone</th>\n",
       "      <th>start_date</th>\n",
       "      <th>salary</th>\n",
       "    </tr>\n",
       "  </thead>\n",
       "  <tbody>\n",
       "    <tr>\n",
       "      <th>0</th>\n",
       "      <td>30</td>\n",
       "      <td>Colby</td>\n",
       "      <td>Sales</td>\n",
       "      <td>(217)123-4500</td>\n",
       "      <td>2017-05-01</td>\n",
       "      <td>202000</td>\n",
       "    </tr>\n",
       "    <tr>\n",
       "      <th>3</th>\n",
       "      <td>20</td>\n",
       "      <td>Dylan</td>\n",
       "      <td>Marketing</td>\n",
       "      <td>(217)987-6543</td>\n",
       "      <td>2019-12-01</td>\n",
       "      <td>160500</td>\n",
       "    </tr>\n",
       "  </tbody>\n",
       "</table>\n",
       "</div>"
      ],
      "text/plain": [
       "   emp_id   name       dept   office_phone  start_date  salary\n",
       "0      30  Colby      Sales  (217)123-4500  2017-05-01  202000\n",
       "3      20  Dylan  Marketing  (217)987-6543  2019-12-01  160500"
      ]
     },
     "metadata": {},
     "output_type": "display_data"
    }
   ],
   "source": [
    "# Reset df_emp\n",
    "df_emp = df_emp_backup.copy()\n",
    "\n",
    "### BEGIN SOLUTION\n",
    "df_with_phones = df_emp[df_emp[\"office_phone\"].notna()]\n",
    "### END SOLUTION\n",
    "\n",
    "display(df_with_phones)"
   ]
  },
  {
   "cell_type": "markdown",
   "id": "d06d7f63",
   "metadata": {
    "id": "EdrK-mBsem7r"
   },
   "source": [
    "#### 🧭 Check Your Work\n",
    "\n",
    "- Once you're done, run the code cell below to test correctness.\n",
    "- ✔️ If the code cell runs without an error, you're good to move on.\n",
    "- ❌ If the code cell throws an error, go back and fix any incorrect parts."
   ]
  },
  {
   "cell_type": "code",
   "execution_count": 8,
   "id": "69aacdd2",
   "metadata": {},
   "outputs": [],
   "source": [
    "part_name = \"part-03\"\n",
    "available_points = 3\n",
    "\n",
    "# df_you should remain unaltered\n",
    "pd.testing.assert_frame_equal(df_emp, df_emp_backup, \"The original DataFrame should remain unaltered\")\n",
    "\n",
    "# Check result\n",
    "pd.testing.assert_frame_equal(df_with_phones.sort_values(df_with_phones.columns.tolist()).reset_index(drop=True),\n",
    "                              df_emp_backup.query(f\"office_phone == office_phone\")\n",
    "                                 .sort_values(df_emp_backup.columns.tolist()).reset_index(drop=True))"
   ]
  },
  {
   "cell_type": "markdown",
   "id": "65aeff1c",
   "metadata": {
    "id": "Dg-bBkF8fGaN"
   },
   "source": [
    "---\n",
    "\n",
    "### 🎯 Part 4: Sort by department and salary\n",
    "\n",
    "#### 👇 Tasks\n",
    "\n",
    "- ✔️ Sort `df_emp` by `dept` in **ascending** order and then by `salary` in **ascending** order.\n",
    "    - Employees within a same department must be sorted by `salary` in ascending order.\n",
    "    - Store the result to a new variable named `df_by_dept_salary`.\n",
    "- ✔️ `df_emp` should remain unaltered after your code.\n",
    "\n",
    "▶️ Run the code cell below to reset your `df_emp`.\n",
    "\n",
    "#### 🔑 Expected Output of `df_by_dept_salary`\n",
    "\n",
    "|  | emp_id | name | dept | office_phone | start_date | salary |\n",
    "|---|---|---|---|---|---|---|\n",
    "| 3 | 20 | Dylan | Marketing | (217)987-6543 | 2019-12-01 | 160500 |\n",
    "| 1 | 40 | Adam | Marketing | NaN | 2018-02-01 | 185000 |\n",
    "| 0 | 30 | Colby | Sales | (217)123-4500 | 2017-05-01 | 202000 |\n",
    "| 2 | 10 | Eli | Sales | NaN | 2020-08-01 | 240000 |"
   ]
  },
  {
   "cell_type": "code",
   "execution_count": 9,
   "id": "d8fc01f9",
   "metadata": {},
   "outputs": [
    {
     "data": {
      "text/html": [
       "<div>\n",
       "<style scoped>\n",
       "    .dataframe tbody tr th:only-of-type {\n",
       "        vertical-align: middle;\n",
       "    }\n",
       "\n",
       "    .dataframe tbody tr th {\n",
       "        vertical-align: top;\n",
       "    }\n",
       "\n",
       "    .dataframe thead th {\n",
       "        text-align: right;\n",
       "    }\n",
       "</style>\n",
       "<table border=\"1\" class=\"dataframe\">\n",
       "  <thead>\n",
       "    <tr style=\"text-align: right;\">\n",
       "      <th></th>\n",
       "      <th>emp_id</th>\n",
       "      <th>name</th>\n",
       "      <th>dept</th>\n",
       "      <th>office_phone</th>\n",
       "      <th>start_date</th>\n",
       "      <th>salary</th>\n",
       "    </tr>\n",
       "  </thead>\n",
       "  <tbody>\n",
       "    <tr>\n",
       "      <th>3</th>\n",
       "      <td>20</td>\n",
       "      <td>Dylan</td>\n",
       "      <td>Marketing</td>\n",
       "      <td>(217)987-6543</td>\n",
       "      <td>2019-12-01</td>\n",
       "      <td>160500</td>\n",
       "    </tr>\n",
       "    <tr>\n",
       "      <th>1</th>\n",
       "      <td>40</td>\n",
       "      <td>Adam</td>\n",
       "      <td>Marketing</td>\n",
       "      <td>NaN</td>\n",
       "      <td>2018-02-01</td>\n",
       "      <td>185000</td>\n",
       "    </tr>\n",
       "    <tr>\n",
       "      <th>0</th>\n",
       "      <td>30</td>\n",
       "      <td>Colby</td>\n",
       "      <td>Sales</td>\n",
       "      <td>(217)123-4500</td>\n",
       "      <td>2017-05-01</td>\n",
       "      <td>202000</td>\n",
       "    </tr>\n",
       "    <tr>\n",
       "      <th>2</th>\n",
       "      <td>10</td>\n",
       "      <td>Eli</td>\n",
       "      <td>Sales</td>\n",
       "      <td>NaN</td>\n",
       "      <td>2020-08-01</td>\n",
       "      <td>240000</td>\n",
       "    </tr>\n",
       "  </tbody>\n",
       "</table>\n",
       "</div>"
      ],
      "text/plain": [
       "   emp_id   name       dept   office_phone  start_date  salary\n",
       "3      20  Dylan  Marketing  (217)987-6543  2019-12-01  160500\n",
       "1      40   Adam  Marketing            NaN  2018-02-01  185000\n",
       "0      30  Colby      Sales  (217)123-4500  2017-05-01  202000\n",
       "2      10    Eli      Sales            NaN  2020-08-01  240000"
      ]
     },
     "metadata": {},
     "output_type": "display_data"
    }
   ],
   "source": [
    "# Reset df_emp\n",
    "df_emp = df_emp_backup.copy()\n",
    "\n",
    "### BEGIN SOLUTION\n",
    "df_by_dept_salary = df_emp.sort_values([\"dept\", \"salary\"])\n",
    "### END SOLUTION\n",
    "\n",
    "display(df_by_dept_salary)"
   ]
  },
  {
   "cell_type": "markdown",
   "id": "742ab0d1",
   "metadata": {
    "id": "EdrK-mBsem7r"
   },
   "source": [
    "#### 🧭 Check Your Work\n",
    "\n",
    "- Once you're done, run the code cell below to test correctness.\n",
    "- ✔️ If the code cell runs without an error, you're good to move on.\n",
    "- ❌ If the code cell throws an error, go back and fix any incorrect parts."
   ]
  },
  {
   "cell_type": "code",
   "execution_count": 10,
   "id": "9ed6ea16",
   "metadata": {},
   "outputs": [],
   "source": [
    "part_name = \"part-04\"\n",
    "available_points = 3\n",
    "\n",
    "df_SOL = df_emp_backup.sort_values([\"salary\", \"dept\"][::-1], ascending=[not x for x in [False, False]])\n",
    "\n",
    "# df_you should remain unaltered\n",
    "pd.testing.assert_frame_equal(df_emp, df_emp_backup, \"The original DataFrame should remain unaltered\")\n",
    "\n",
    "# check result\n",
    "pd.testing.assert_frame_equal(\n",
    "    df_by_dept_salary.reset_index(drop=True),\n",
    "    df_SOL.reset_index(drop=True)\n",
    ")"
   ]
  },
  {
   "cell_type": "markdown",
   "id": "b29142de",
   "metadata": {
    "id": "Dg-bBkF8fGaN"
   },
   "source": [
    "---\n",
    "\n",
    "### 🎯 Part 5: Rename columns\n",
    "\n",
    "#### 👇 Tasks\n",
    "\n",
    "- ✔️ Rename the following two columns in `df_emp`.\n",
    "    1. `name` to `first_name`\n",
    "    2. `salary` to `base_salary`\n",
    "- ✔️ Store the result to a new variable named `df_renamed`.\n",
    "- ✔️ Your original DataFrame (`df_emp`) should remain unaltered.\n",
    "\n",
    "#### 🚀 Hints\n",
    "\n",
    "Use the following code to rename columns *out-of-place*.\n",
    "\n",
    "```python\n",
    "renamed_dataframe = my_dataframe.rename(columns={\n",
    "    \"col1_before\": \"col1_after\",\n",
    "    \"col2_before\": \"col2_after\"\n",
    "})\n",
    "```"
   ]
  },
  {
   "cell_type": "code",
   "execution_count": 11,
   "id": "82f22f5e",
   "metadata": {},
   "outputs": [
    {
     "data": {
      "text/html": [
       "<div>\n",
       "<style scoped>\n",
       "    .dataframe tbody tr th:only-of-type {\n",
       "        vertical-align: middle;\n",
       "    }\n",
       "\n",
       "    .dataframe tbody tr th {\n",
       "        vertical-align: top;\n",
       "    }\n",
       "\n",
       "    .dataframe thead th {\n",
       "        text-align: right;\n",
       "    }\n",
       "</style>\n",
       "<table border=\"1\" class=\"dataframe\">\n",
       "  <thead>\n",
       "    <tr style=\"text-align: right;\">\n",
       "      <th></th>\n",
       "      <th>emp_id</th>\n",
       "      <th>first_name</th>\n",
       "      <th>dept</th>\n",
       "      <th>office_phone</th>\n",
       "      <th>start_date</th>\n",
       "      <th>base_salary</th>\n",
       "    </tr>\n",
       "  </thead>\n",
       "  <tbody>\n",
       "    <tr>\n",
       "      <th>0</th>\n",
       "      <td>30</td>\n",
       "      <td>Colby</td>\n",
       "      <td>Sales</td>\n",
       "      <td>(217)123-4500</td>\n",
       "      <td>2017-05-01</td>\n",
       "      <td>202000</td>\n",
       "    </tr>\n",
       "    <tr>\n",
       "      <th>1</th>\n",
       "      <td>40</td>\n",
       "      <td>Adam</td>\n",
       "      <td>Marketing</td>\n",
       "      <td>NaN</td>\n",
       "      <td>2018-02-01</td>\n",
       "      <td>185000</td>\n",
       "    </tr>\n",
       "    <tr>\n",
       "      <th>2</th>\n",
       "      <td>10</td>\n",
       "      <td>Eli</td>\n",
       "      <td>Sales</td>\n",
       "      <td>NaN</td>\n",
       "      <td>2020-08-01</td>\n",
       "      <td>240000</td>\n",
       "    </tr>\n",
       "    <tr>\n",
       "      <th>3</th>\n",
       "      <td>20</td>\n",
       "      <td>Dylan</td>\n",
       "      <td>Marketing</td>\n",
       "      <td>(217)987-6543</td>\n",
       "      <td>2019-12-01</td>\n",
       "      <td>160500</td>\n",
       "    </tr>\n",
       "  </tbody>\n",
       "</table>\n",
       "</div>"
      ],
      "text/plain": [
       "   emp_id first_name       dept   office_phone  start_date  base_salary\n",
       "0      30      Colby      Sales  (217)123-4500  2017-05-01       202000\n",
       "1      40       Adam  Marketing            NaN  2018-02-01       185000\n",
       "2      10        Eli      Sales            NaN  2020-08-01       240000\n",
       "3      20      Dylan  Marketing  (217)987-6543  2019-12-01       160500"
      ]
     },
     "metadata": {},
     "output_type": "display_data"
    }
   ],
   "source": [
    "# Reset df_emp\n",
    "df_emp = df_emp_backup.copy()\n",
    "\n",
    "### BEGIN SOLUTION\n",
    "df_renamed = df_emp.rename(columns={\n",
    "    \"name\": \"first_name\",\n",
    "    \"salary\": \"base_salary\"\n",
    "})\n",
    "### END SOLUTION\n",
    "\n",
    "display(df_renamed)"
   ]
  },
  {
   "cell_type": "markdown",
   "id": "4c6eb205",
   "metadata": {
    "id": "EdrK-mBsem7r"
   },
   "source": [
    "#### 🧭 Check Your Work\n",
    "\n",
    "- Once you're done, run the code cell below to test correctness.\n",
    "- ✔️ If the code cell runs without an error, you're good to move on.\n",
    "- ❌ If the code cell throws an error, go back and fix any incorrect parts."
   ]
  },
  {
   "cell_type": "code",
   "execution_count": 12,
   "id": "44812a0a",
   "metadata": {},
   "outputs": [],
   "source": [
    "part_name = \"part-05\"\n",
    "available_points = 3\n",
    "\n",
    "tc.assertEqual(df_emp.columns.tolist(), df_emp_backup.columns.tolist(), \"Did you rename the column in-place? The original DataFrame should not be modified.\")\n",
    "tc.assertEqual(df_renamed.columns.tolist(), [\"emp_id\", \"first_name\", \"dept\", \"office_phone\", \"start_date\", \"base_salary\"])"
   ]
  },
  {
   "cell_type": "markdown",
   "id": "8f21d53b",
   "metadata": {},
   "source": [
    "---\n",
    "\n",
    "### 🎯 Part 6: Drop columns\n",
    "\n",
    "#### 👇 Tasks\n",
    "\n",
    "- ✔️ Drop `emp_id` and `start_date` columns from `df_emp`.\n",
    "- ✔️ Store the result to a new variable named `df_dropped`.\n",
    "- ✔️ Your `df_emp` should remain unaltered.\n",
    "\n",
    "#### 🚀 Hints\n",
    "\n",
    "Use the following code as a reference.\n",
    "\n",
    "```python\n",
    "dropped_dataframe = my_dataframe.drop(columns=[\"my_column1\", \"my_column2\"])\n",
    "```"
   ]
  },
  {
   "cell_type": "code",
   "execution_count": 13,
   "id": "3004aa4a",
   "metadata": {},
   "outputs": [
    {
     "data": {
      "text/html": [
       "<div>\n",
       "<style scoped>\n",
       "    .dataframe tbody tr th:only-of-type {\n",
       "        vertical-align: middle;\n",
       "    }\n",
       "\n",
       "    .dataframe tbody tr th {\n",
       "        vertical-align: top;\n",
       "    }\n",
       "\n",
       "    .dataframe thead th {\n",
       "        text-align: right;\n",
       "    }\n",
       "</style>\n",
       "<table border=\"1\" class=\"dataframe\">\n",
       "  <thead>\n",
       "    <tr style=\"text-align: right;\">\n",
       "      <th></th>\n",
       "      <th>name</th>\n",
       "      <th>dept</th>\n",
       "      <th>office_phone</th>\n",
       "      <th>salary</th>\n",
       "    </tr>\n",
       "  </thead>\n",
       "  <tbody>\n",
       "    <tr>\n",
       "      <th>0</th>\n",
       "      <td>Colby</td>\n",
       "      <td>Sales</td>\n",
       "      <td>(217)123-4500</td>\n",
       "      <td>202000</td>\n",
       "    </tr>\n",
       "    <tr>\n",
       "      <th>1</th>\n",
       "      <td>Adam</td>\n",
       "      <td>Marketing</td>\n",
       "      <td>NaN</td>\n",
       "      <td>185000</td>\n",
       "    </tr>\n",
       "    <tr>\n",
       "      <th>2</th>\n",
       "      <td>Eli</td>\n",
       "      <td>Sales</td>\n",
       "      <td>NaN</td>\n",
       "      <td>240000</td>\n",
       "    </tr>\n",
       "    <tr>\n",
       "      <th>3</th>\n",
       "      <td>Dylan</td>\n",
       "      <td>Marketing</td>\n",
       "      <td>(217)987-6543</td>\n",
       "      <td>160500</td>\n",
       "    </tr>\n",
       "  </tbody>\n",
       "</table>\n",
       "</div>"
      ],
      "text/plain": [
       "    name       dept   office_phone  salary\n",
       "0  Colby      Sales  (217)123-4500  202000\n",
       "1   Adam  Marketing            NaN  185000\n",
       "2    Eli      Sales            NaN  240000\n",
       "3  Dylan  Marketing  (217)987-6543  160500"
      ]
     },
     "execution_count": 13,
     "metadata": {},
     "output_type": "execute_result"
    }
   ],
   "source": [
    "# Reset df_emp\n",
    "df_emp = df_emp_backup.copy()\n",
    "\n",
    "### BEGIN SOLUTION\n",
    "df_dropped = df_emp.drop(columns=[\"emp_id\", \"start_date\"])\n",
    "### END SOLUTION\n",
    "\n",
    "df_dropped"
   ]
  },
  {
   "cell_type": "markdown",
   "id": "95a0325f",
   "metadata": {
    "id": "EdrK-mBsem7r"
   },
   "source": [
    "#### 🧭 Check Your Work\n",
    "\n",
    "- Once you're done, run the code cell below to test correctness.\n",
    "- ✔️ If the code cell runs without an error, you're good to move on.\n",
    "- ❌ If the code cell throws an error, go back and fix any incorrect parts."
   ]
  },
  {
   "cell_type": "code",
   "execution_count": 14,
   "id": "986de984",
   "metadata": {},
   "outputs": [],
   "source": [
    "part_name = \"part-06\"\n",
    "available_points = 3\n",
    "\n",
    "# df_you should remain unaltered\n",
    "pd.testing.assert_frame_equal(df_emp, df_emp_backup, \"The original DataFrame should remain unaltered\")\n",
    "\n",
    "# Check result\n",
    "tc.assertEqual(df_emp.columns.tolist(), df_emp_backup.columns.tolist())\n",
    "tc.assertEqual(df_dropped.columns.tolist(), [\"name\", \"dept\", \"office_phone\", \"salary\"])"
   ]
  },
  {
   "cell_type": "markdown",
   "id": "0adc84e9",
   "metadata": {},
   "source": [
    "---\n",
    "\n",
    "### 🎯 Part 7: Add new column\n",
    "\n",
    "#### 👇 Tasks\n",
    "\n",
    "- ✔️ Assume all four employees have received a huge bonus of \\$20,000.\n",
    "- ✔️ Append a new column named `salary_with_bonus` that shows the salaries of employees **with** the bonus.\n",
    "- ✔️ Directly update the `df_emp`.\n",
    "\n",
    "#### 🚀 Hints\n",
    "\n",
    "Use the following code as a reference.\n",
    "\n",
    "```python\n",
    "my_dataframe[\"salary_with_bonus\"] = my_dataframe[\"salary\"] + 20000\n",
    "```"
   ]
  },
  {
   "cell_type": "code",
   "execution_count": 15,
   "id": "0b0cee3a",
   "metadata": {},
   "outputs": [
    {
     "data": {
      "text/html": [
       "<div>\n",
       "<style scoped>\n",
       "    .dataframe tbody tr th:only-of-type {\n",
       "        vertical-align: middle;\n",
       "    }\n",
       "\n",
       "    .dataframe tbody tr th {\n",
       "        vertical-align: top;\n",
       "    }\n",
       "\n",
       "    .dataframe thead th {\n",
       "        text-align: right;\n",
       "    }\n",
       "</style>\n",
       "<table border=\"1\" class=\"dataframe\">\n",
       "  <thead>\n",
       "    <tr style=\"text-align: right;\">\n",
       "      <th></th>\n",
       "      <th>emp_id</th>\n",
       "      <th>name</th>\n",
       "      <th>dept</th>\n",
       "      <th>office_phone</th>\n",
       "      <th>start_date</th>\n",
       "      <th>salary</th>\n",
       "      <th>salary_with_bonus</th>\n",
       "    </tr>\n",
       "  </thead>\n",
       "  <tbody>\n",
       "    <tr>\n",
       "      <th>0</th>\n",
       "      <td>30</td>\n",
       "      <td>Colby</td>\n",
       "      <td>Sales</td>\n",
       "      <td>(217)123-4500</td>\n",
       "      <td>2017-05-01</td>\n",
       "      <td>202000</td>\n",
       "      <td>222000</td>\n",
       "    </tr>\n",
       "    <tr>\n",
       "      <th>1</th>\n",
       "      <td>40</td>\n",
       "      <td>Adam</td>\n",
       "      <td>Marketing</td>\n",
       "      <td>NaN</td>\n",
       "      <td>2018-02-01</td>\n",
       "      <td>185000</td>\n",
       "      <td>205000</td>\n",
       "    </tr>\n",
       "    <tr>\n",
       "      <th>2</th>\n",
       "      <td>10</td>\n",
       "      <td>Eli</td>\n",
       "      <td>Sales</td>\n",
       "      <td>NaN</td>\n",
       "      <td>2020-08-01</td>\n",
       "      <td>240000</td>\n",
       "      <td>260000</td>\n",
       "    </tr>\n",
       "    <tr>\n",
       "      <th>3</th>\n",
       "      <td>20</td>\n",
       "      <td>Dylan</td>\n",
       "      <td>Marketing</td>\n",
       "      <td>(217)987-6543</td>\n",
       "      <td>2019-12-01</td>\n",
       "      <td>160500</td>\n",
       "      <td>180500</td>\n",
       "    </tr>\n",
       "  </tbody>\n",
       "</table>\n",
       "</div>"
      ],
      "text/plain": [
       "   emp_id   name       dept   office_phone  start_date  salary  \\\n",
       "0      30  Colby      Sales  (217)123-4500  2017-05-01  202000   \n",
       "1      40   Adam  Marketing            NaN  2018-02-01  185000   \n",
       "2      10    Eli      Sales            NaN  2020-08-01  240000   \n",
       "3      20  Dylan  Marketing  (217)987-6543  2019-12-01  160500   \n",
       "\n",
       "   salary_with_bonus  \n",
       "0             222000  \n",
       "1             205000  \n",
       "2             260000  \n",
       "3             180500  "
      ]
     },
     "metadata": {},
     "output_type": "display_data"
    }
   ],
   "source": [
    "# Reset df_emp\n",
    "df_emp = df_emp_backup.copy()\n",
    "\n",
    "### BEGIN SOLUTION\n",
    "df_emp[\"salary_with_bonus\"] = df_emp[\"salary\"] + 20000\n",
    "### END SOLUTION\n",
    "\n",
    "display(df_emp)"
   ]
  },
  {
   "cell_type": "markdown",
   "id": "5c41c054",
   "metadata": {
    "id": "EdrK-mBsem7r"
   },
   "source": [
    "#### 🧭 Check Your Work\n",
    "\n",
    "- Once you're done, run the code cell below to test correctness.\n",
    "- ✔️ If the code cell runs without an error, you're good to move on.\n",
    "- ❌ If the code cell throws an error, go back and fix any incorrect parts."
   ]
  },
  {
   "cell_type": "code",
   "execution_count": 16,
   "id": "6f5052f8",
   "metadata": {},
   "outputs": [],
   "source": [
    "part_name = \"part-07\"\n",
    "available_points = 4\n",
    "\n",
    "df_SOL = df_emp_backup.copy()\n",
    "df_SOL[\"salary_with_bonus\"] = df_SOL[\"salary\"] + 1000 * 20\n",
    "\n",
    "# df_you should remain unaltered\n",
    "pd.testing.assert_frame_equal(\n",
    "    df_emp.sort_values(df_emp.columns.to_list()).reset_index(drop=True),\n",
    "    df_SOL.sort_values(df_SOL.columns.to_list()).reset_index(drop=True)\n",
    ")"
   ]
  }
 ],
 "metadata": {
  "kernelspec": {
   "display_name": "Python 3 (ipykernel)",
   "language": "python",
   "name": "python3"
  },
  "language_info": {
   "codemirror_mode": {
    "name": "ipython",
    "version": 3
   },
   "file_extension": ".py",
   "mimetype": "text/x-python",
   "name": "python",
   "nbconvert_exporter": "python",
   "pygments_lexer": "ipython3",
   "version": "3.8.3"
  }
 },
 "nbformat": 4,
 "nbformat_minor": 5
}
