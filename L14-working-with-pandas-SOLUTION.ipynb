{
 "cells": [
  {
   "cell_type": "markdown",
   "metadata": {},
   "source": [
    "# Lecture 14 - Pandas Sort, Add/Rename/Drop Columns\n",
    "\n",
    "Monday 2021/03/15"
   ]
  },
  {
   "cell_type": "markdown",
   "metadata": {},
   "source": [
    "## Lecture Notes and in-class exercises"
   ]
  },
  {
   "cell_type": "markdown",
   "metadata": {},
   "source": [
    "▶️ First, run the code cell below to import `unittest`, a module used for **🧭 Check Your Work** sections and the autograder."
   ]
  },
  {
   "cell_type": "code",
   "execution_count": 1,
   "metadata": {},
   "outputs": [],
   "source": [
    "import unittest\n",
    "tc = unittest.TestCase()"
   ]
  },
  {
   "cell_type": "markdown",
   "metadata": {},
   "source": [
    "#### 👇 Tasks\n",
    "\n",
    "- ✔️ Import the following Python packages.\n",
    "    1. `pandas`: Use alias `pd`.\n",
    "    2. `numpy`: Use alias `np`."
   ]
  },
  {
   "cell_type": "code",
   "execution_count": 2,
   "metadata": {},
   "outputs": [],
   "source": [
    "# YOUR CODE BEGINS\n",
    "import pandas as pd\n",
    "import numpy as np\n",
    "# YOUR CODE ENDS"
   ]
  },
  {
   "cell_type": "markdown",
   "metadata": {},
   "source": [
    "#### 🧭 Check your work\n",
    "\n",
    "- Once you're done, run the code cell below to test correctness.\n",
    "- ✔️ If the code cell runs without an error, you're good to move on.\n",
    "- ❌ If the code cell throws an error, go back and fix incorrect parts."
   ]
  },
  {
   "cell_type": "code",
   "execution_count": 3,
   "metadata": {},
   "outputs": [],
   "source": [
    "import sys\n",
    "tc.assertTrue('pd' in globals(), 'Check whether you have correctly import Pandas with an alias.')\n",
    "tc.assertTrue('np' in globals(), 'Check whether you have correctly import NumPy with an alias.')"
   ]
  },
  {
   "cell_type": "markdown",
   "metadata": {},
   "source": [
    "---\n",
    "\n",
    "### 📌 Load data"
   ]
  },
  {
   "cell_type": "markdown",
   "metadata": {},
   "source": [
    "▶️ Run the code cell below to create a new `DataFrame` named `df_emp`."
   ]
  },
  {
   "cell_type": "code",
   "execution_count": 4,
   "metadata": {},
   "outputs": [
    {
     "data": {
      "text/html": [
       "<div>\n",
       "<style scoped>\n",
       "    .dataframe tbody tr th:only-of-type {\n",
       "        vertical-align: middle;\n",
       "    }\n",
       "\n",
       "    .dataframe tbody tr th {\n",
       "        vertical-align: top;\n",
       "    }\n",
       "\n",
       "    .dataframe thead th {\n",
       "        text-align: right;\n",
       "    }\n",
       "</style>\n",
       "<table border=\"1\" class=\"dataframe\">\n",
       "  <thead>\n",
       "    <tr style=\"text-align: right;\">\n",
       "      <th></th>\n",
       "      <th>emp_id</th>\n",
       "      <th>name</th>\n",
       "      <th>dept</th>\n",
       "      <th>office_phone</th>\n",
       "      <th>start_date</th>\n",
       "      <th>salary</th>\n",
       "    </tr>\n",
       "  </thead>\n",
       "  <tbody>\n",
       "    <tr>\n",
       "      <th>0</th>\n",
       "      <td>30</td>\n",
       "      <td>Nicole</td>\n",
       "      <td>Sales</td>\n",
       "      <td>(217)123-4500</td>\n",
       "      <td>2017-05-01</td>\n",
       "      <td>202000</td>\n",
       "    </tr>\n",
       "    <tr>\n",
       "      <th>1</th>\n",
       "      <td>40</td>\n",
       "      <td>Erisa</td>\n",
       "      <td>Marketing</td>\n",
       "      <td>NaN</td>\n",
       "      <td>2018-02-01</td>\n",
       "      <td>185000</td>\n",
       "    </tr>\n",
       "    <tr>\n",
       "      <th>2</th>\n",
       "      <td>10</td>\n",
       "      <td>Prit</td>\n",
       "      <td>Sales</td>\n",
       "      <td>NaN</td>\n",
       "      <td>2020-08-01</td>\n",
       "      <td>240000</td>\n",
       "    </tr>\n",
       "    <tr>\n",
       "      <th>3</th>\n",
       "      <td>20</td>\n",
       "      <td>Claudia</td>\n",
       "      <td>Marketing</td>\n",
       "      <td>(217)987-6600</td>\n",
       "      <td>2019-12-01</td>\n",
       "      <td>160500</td>\n",
       "    </tr>\n",
       "  </tbody>\n",
       "</table>\n",
       "</div>"
      ],
      "text/plain": [
       "   emp_id     name       dept   office_phone  start_date  salary\n",
       "0      30   Nicole      Sales  (217)123-4500  2017-05-01  202000\n",
       "1      40    Erisa  Marketing            NaN  2018-02-01  185000\n",
       "2      10     Prit      Sales            NaN  2020-08-01  240000\n",
       "3      20  Claudia  Marketing  (217)987-6600  2019-12-01  160500"
      ]
     },
     "execution_count": 4,
     "metadata": {},
     "output_type": "execute_result"
    }
   ],
   "source": [
    "# DO NOT CHANGE THE CODE IN THIS CELL\n",
    "df_emp = pd.DataFrame({\n",
    "    'emp_id': [30, 40, 10, 20],\n",
    "    'name': ['Nicole', 'Erisa', 'Prit', 'Claudia'],\n",
    "    'dept': ['Sales', 'Marketing', 'Sales', 'Marketing'],\n",
    "    'office_phone': ['(217)123-4500', np.nan, np.nan, '(217)987-6600'],\n",
    "    'start_date': ['2017-05-01', '2018-02-01', '2020-08-01', '2019-12-01'],\n",
    "    'salary': [202000, 185000, 240000, 160500]\n",
    "})\n",
    "\n",
    "# Used for intermediate checks\n",
    "df_emp_backup = df_emp.copy()\n",
    "\n",
    "df_emp"
   ]
  },
  {
   "cell_type": "markdown",
   "metadata": {},
   "source": [
    "---\n",
    "\n",
    "## 👉 Sorting by Column(s)\n",
    "\n",
    "You can sort a `DataFrame` using `df.sort_values()`."
   ]
  },
  {
   "cell_type": "markdown",
   "metadata": {},
   "source": [
    "![sort_values usage](https://github.com/bdi475/images/blob/main/pandas/sort-values-01.png?raw=true)"
   ]
  },
  {
   "cell_type": "markdown",
   "metadata": {},
   "source": [
    "---\n",
    "\n",
    "### 🎯 Mini-exercise: Sort by `emp_id` ascending"
   ]
  },
  {
   "cell_type": "markdown",
   "metadata": {},
   "source": [
    "#### 👇 Tasks\n",
    "\n",
    "- ✔️ Sort `df_emp` by `emp_id` in **ascending** order.\n",
    "    - Store the result to a new variable named `df_id_asc`.\n",
    "- ✔️ `df_emp` should remain unaltered after your code."
   ]
  },
  {
   "cell_type": "markdown",
   "metadata": {},
   "source": [
    "#### 🚀 Hints\n",
    "\n",
    "The code below sorts `my_dataframe` by `some_column` in ascending order and stores the sorted `DataFrame` to a new variable `sorted_dataframe`.\n",
    "\n",
    "```python\n",
    "sorted_dataframe = my_dataframe.sort_values('some_column')\n",
    "```"
   ]
  },
  {
   "cell_type": "markdown",
   "metadata": {},
   "source": [
    "▶️ Run the code cell below to reset your `df_emp`."
   ]
  },
  {
   "cell_type": "code",
   "execution_count": 5,
   "metadata": {},
   "outputs": [
    {
     "data": {
      "text/html": [
       "<div>\n",
       "<style scoped>\n",
       "    .dataframe tbody tr th:only-of-type {\n",
       "        vertical-align: middle;\n",
       "    }\n",
       "\n",
       "    .dataframe tbody tr th {\n",
       "        vertical-align: top;\n",
       "    }\n",
       "\n",
       "    .dataframe thead th {\n",
       "        text-align: right;\n",
       "    }\n",
       "</style>\n",
       "<table border=\"1\" class=\"dataframe\">\n",
       "  <thead>\n",
       "    <tr style=\"text-align: right;\">\n",
       "      <th></th>\n",
       "      <th>emp_id</th>\n",
       "      <th>name</th>\n",
       "      <th>dept</th>\n",
       "      <th>office_phone</th>\n",
       "      <th>start_date</th>\n",
       "      <th>salary</th>\n",
       "    </tr>\n",
       "  </thead>\n",
       "  <tbody>\n",
       "    <tr>\n",
       "      <th>0</th>\n",
       "      <td>30</td>\n",
       "      <td>Nicole</td>\n",
       "      <td>Sales</td>\n",
       "      <td>(217)123-4500</td>\n",
       "      <td>2017-05-01</td>\n",
       "      <td>202000</td>\n",
       "    </tr>\n",
       "    <tr>\n",
       "      <th>1</th>\n",
       "      <td>40</td>\n",
       "      <td>Erisa</td>\n",
       "      <td>Marketing</td>\n",
       "      <td>NaN</td>\n",
       "      <td>2018-02-01</td>\n",
       "      <td>185000</td>\n",
       "    </tr>\n",
       "    <tr>\n",
       "      <th>2</th>\n",
       "      <td>10</td>\n",
       "      <td>Prit</td>\n",
       "      <td>Sales</td>\n",
       "      <td>NaN</td>\n",
       "      <td>2020-08-01</td>\n",
       "      <td>240000</td>\n",
       "    </tr>\n",
       "    <tr>\n",
       "      <th>3</th>\n",
       "      <td>20</td>\n",
       "      <td>Claudia</td>\n",
       "      <td>Marketing</td>\n",
       "      <td>(217)987-6600</td>\n",
       "      <td>2019-12-01</td>\n",
       "      <td>160500</td>\n",
       "    </tr>\n",
       "  </tbody>\n",
       "</table>\n",
       "</div>"
      ],
      "text/plain": [
       "   emp_id     name       dept   office_phone  start_date  salary\n",
       "0      30   Nicole      Sales  (217)123-4500  2017-05-01  202000\n",
       "1      40    Erisa  Marketing            NaN  2018-02-01  185000\n",
       "2      10     Prit      Sales            NaN  2020-08-01  240000\n",
       "3      20  Claudia  Marketing  (217)987-6600  2019-12-01  160500"
      ]
     },
     "execution_count": 5,
     "metadata": {},
     "output_type": "execute_result"
    }
   ],
   "source": [
    "df_emp = df_emp_backup.copy()\n",
    "df_emp"
   ]
  },
  {
   "cell_type": "code",
   "execution_count": 6,
   "metadata": {},
   "outputs": [
    {
     "data": {
      "text/html": [
       "<div>\n",
       "<style scoped>\n",
       "    .dataframe tbody tr th:only-of-type {\n",
       "        vertical-align: middle;\n",
       "    }\n",
       "\n",
       "    .dataframe tbody tr th {\n",
       "        vertical-align: top;\n",
       "    }\n",
       "\n",
       "    .dataframe thead th {\n",
       "        text-align: right;\n",
       "    }\n",
       "</style>\n",
       "<table border=\"1\" class=\"dataframe\">\n",
       "  <thead>\n",
       "    <tr style=\"text-align: right;\">\n",
       "      <th></th>\n",
       "      <th>emp_id</th>\n",
       "      <th>name</th>\n",
       "      <th>dept</th>\n",
       "      <th>office_phone</th>\n",
       "      <th>start_date</th>\n",
       "      <th>salary</th>\n",
       "    </tr>\n",
       "  </thead>\n",
       "  <tbody>\n",
       "    <tr>\n",
       "      <th>2</th>\n",
       "      <td>10</td>\n",
       "      <td>Prit</td>\n",
       "      <td>Sales</td>\n",
       "      <td>NaN</td>\n",
       "      <td>2020-08-01</td>\n",
       "      <td>240000</td>\n",
       "    </tr>\n",
       "    <tr>\n",
       "      <th>3</th>\n",
       "      <td>20</td>\n",
       "      <td>Claudia</td>\n",
       "      <td>Marketing</td>\n",
       "      <td>(217)987-6600</td>\n",
       "      <td>2019-12-01</td>\n",
       "      <td>160500</td>\n",
       "    </tr>\n",
       "    <tr>\n",
       "      <th>0</th>\n",
       "      <td>30</td>\n",
       "      <td>Nicole</td>\n",
       "      <td>Sales</td>\n",
       "      <td>(217)123-4500</td>\n",
       "      <td>2017-05-01</td>\n",
       "      <td>202000</td>\n",
       "    </tr>\n",
       "    <tr>\n",
       "      <th>1</th>\n",
       "      <td>40</td>\n",
       "      <td>Erisa</td>\n",
       "      <td>Marketing</td>\n",
       "      <td>NaN</td>\n",
       "      <td>2018-02-01</td>\n",
       "      <td>185000</td>\n",
       "    </tr>\n",
       "  </tbody>\n",
       "</table>\n",
       "</div>"
      ],
      "text/plain": [
       "   emp_id     name       dept   office_phone  start_date  salary\n",
       "2      10     Prit      Sales            NaN  2020-08-01  240000\n",
       "3      20  Claudia  Marketing  (217)987-6600  2019-12-01  160500\n",
       "0      30   Nicole      Sales  (217)123-4500  2017-05-01  202000\n",
       "1      40    Erisa  Marketing            NaN  2018-02-01  185000"
      ]
     },
     "execution_count": 6,
     "metadata": {},
     "output_type": "execute_result"
    }
   ],
   "source": [
    "# YOUR CODE BEGINS\n",
    "df_id_asc = df_emp.sort_values('emp_id')\n",
    "# YOUR CODE ENDS\n",
    "\n",
    "df_id_asc"
   ]
  },
  {
   "cell_type": "markdown",
   "metadata": {},
   "source": [
    "#### 🧭 Check Your Work\n",
    "\n",
    "- Once you're done, run the code cell below to test correctness.\n",
    "- ✔️ If the code cell runs without an error, you're good to move on.\n",
    "- ❌ If the code cell throws an error, go back and fix incorrect parts."
   ]
  },
  {
   "cell_type": "code",
   "execution_count": 7,
   "metadata": {},
   "outputs": [],
   "source": [
    "# Check result\n",
    "pd.testing.assert_frame_equal(df_id_asc.reset_index(drop=True),\n",
    "                              df_emp_backup.sort_values('_'.join(['EmP', 'iD']).lower()).reset_index(drop=True))"
   ]
  },
  {
   "cell_type": "markdown",
   "metadata": {},
   "source": [
    "---\n",
    "\n",
    "### 🎯 Mini-exercise: Sort by `emp_id` descending"
   ]
  },
  {
   "cell_type": "markdown",
   "metadata": {},
   "source": [
    "#### 👇 Tasks\n",
    "\n",
    "- ✔️ Sort `df_emp` by `emp_id` in **descending** order.\n",
    "    - Store the result to a new variable named `df_id_desc`.\n",
    "- ✔️ `df_emp` should remain unaltered after your code."
   ]
  },
  {
   "cell_type": "markdown",
   "metadata": {},
   "source": [
    "#### 🚀 Hints\n",
    "\n",
    "The code below sorts `my_dataframe` by `some_column` in descending order and stores the sorted `DataFrame` to a new variable `sorted_dataframe`.\n",
    "\n",
    "```python\n",
    "sorted_dataframe = my_dataframe.sort_values('some_column', ascending=False)\n",
    "```"
   ]
  },
  {
   "cell_type": "markdown",
   "metadata": {},
   "source": [
    "▶️ Run the code cell below to reset your `df_emp`."
   ]
  },
  {
   "cell_type": "code",
   "execution_count": 8,
   "metadata": {},
   "outputs": [
    {
     "data": {
      "text/html": [
       "<div>\n",
       "<style scoped>\n",
       "    .dataframe tbody tr th:only-of-type {\n",
       "        vertical-align: middle;\n",
       "    }\n",
       "\n",
       "    .dataframe tbody tr th {\n",
       "        vertical-align: top;\n",
       "    }\n",
       "\n",
       "    .dataframe thead th {\n",
       "        text-align: right;\n",
       "    }\n",
       "</style>\n",
       "<table border=\"1\" class=\"dataframe\">\n",
       "  <thead>\n",
       "    <tr style=\"text-align: right;\">\n",
       "      <th></th>\n",
       "      <th>emp_id</th>\n",
       "      <th>name</th>\n",
       "      <th>dept</th>\n",
       "      <th>office_phone</th>\n",
       "      <th>start_date</th>\n",
       "      <th>salary</th>\n",
       "    </tr>\n",
       "  </thead>\n",
       "  <tbody>\n",
       "    <tr>\n",
       "      <th>0</th>\n",
       "      <td>30</td>\n",
       "      <td>Nicole</td>\n",
       "      <td>Sales</td>\n",
       "      <td>(217)123-4500</td>\n",
       "      <td>2017-05-01</td>\n",
       "      <td>202000</td>\n",
       "    </tr>\n",
       "    <tr>\n",
       "      <th>1</th>\n",
       "      <td>40</td>\n",
       "      <td>Erisa</td>\n",
       "      <td>Marketing</td>\n",
       "      <td>NaN</td>\n",
       "      <td>2018-02-01</td>\n",
       "      <td>185000</td>\n",
       "    </tr>\n",
       "    <tr>\n",
       "      <th>2</th>\n",
       "      <td>10</td>\n",
       "      <td>Prit</td>\n",
       "      <td>Sales</td>\n",
       "      <td>NaN</td>\n",
       "      <td>2020-08-01</td>\n",
       "      <td>240000</td>\n",
       "    </tr>\n",
       "    <tr>\n",
       "      <th>3</th>\n",
       "      <td>20</td>\n",
       "      <td>Claudia</td>\n",
       "      <td>Marketing</td>\n",
       "      <td>(217)987-6600</td>\n",
       "      <td>2019-12-01</td>\n",
       "      <td>160500</td>\n",
       "    </tr>\n",
       "  </tbody>\n",
       "</table>\n",
       "</div>"
      ],
      "text/plain": [
       "   emp_id     name       dept   office_phone  start_date  salary\n",
       "0      30   Nicole      Sales  (217)123-4500  2017-05-01  202000\n",
       "1      40    Erisa  Marketing            NaN  2018-02-01  185000\n",
       "2      10     Prit      Sales            NaN  2020-08-01  240000\n",
       "3      20  Claudia  Marketing  (217)987-6600  2019-12-01  160500"
      ]
     },
     "execution_count": 8,
     "metadata": {},
     "output_type": "execute_result"
    }
   ],
   "source": [
    "df_emp = df_emp_backup.copy()\n",
    "df_emp"
   ]
  },
  {
   "cell_type": "code",
   "execution_count": 9,
   "metadata": {},
   "outputs": [
    {
     "data": {
      "text/html": [
       "<div>\n",
       "<style scoped>\n",
       "    .dataframe tbody tr th:only-of-type {\n",
       "        vertical-align: middle;\n",
       "    }\n",
       "\n",
       "    .dataframe tbody tr th {\n",
       "        vertical-align: top;\n",
       "    }\n",
       "\n",
       "    .dataframe thead th {\n",
       "        text-align: right;\n",
       "    }\n",
       "</style>\n",
       "<table border=\"1\" class=\"dataframe\">\n",
       "  <thead>\n",
       "    <tr style=\"text-align: right;\">\n",
       "      <th></th>\n",
       "      <th>emp_id</th>\n",
       "      <th>name</th>\n",
       "      <th>dept</th>\n",
       "      <th>office_phone</th>\n",
       "      <th>start_date</th>\n",
       "      <th>salary</th>\n",
       "    </tr>\n",
       "  </thead>\n",
       "  <tbody>\n",
       "    <tr>\n",
       "      <th>1</th>\n",
       "      <td>40</td>\n",
       "      <td>Erisa</td>\n",
       "      <td>Marketing</td>\n",
       "      <td>NaN</td>\n",
       "      <td>2018-02-01</td>\n",
       "      <td>185000</td>\n",
       "    </tr>\n",
       "    <tr>\n",
       "      <th>0</th>\n",
       "      <td>30</td>\n",
       "      <td>Nicole</td>\n",
       "      <td>Sales</td>\n",
       "      <td>(217)123-4500</td>\n",
       "      <td>2017-05-01</td>\n",
       "      <td>202000</td>\n",
       "    </tr>\n",
       "    <tr>\n",
       "      <th>3</th>\n",
       "      <td>20</td>\n",
       "      <td>Claudia</td>\n",
       "      <td>Marketing</td>\n",
       "      <td>(217)987-6600</td>\n",
       "      <td>2019-12-01</td>\n",
       "      <td>160500</td>\n",
       "    </tr>\n",
       "    <tr>\n",
       "      <th>2</th>\n",
       "      <td>10</td>\n",
       "      <td>Prit</td>\n",
       "      <td>Sales</td>\n",
       "      <td>NaN</td>\n",
       "      <td>2020-08-01</td>\n",
       "      <td>240000</td>\n",
       "    </tr>\n",
       "  </tbody>\n",
       "</table>\n",
       "</div>"
      ],
      "text/plain": [
       "   emp_id     name       dept   office_phone  start_date  salary\n",
       "1      40    Erisa  Marketing            NaN  2018-02-01  185000\n",
       "0      30   Nicole      Sales  (217)123-4500  2017-05-01  202000\n",
       "3      20  Claudia  Marketing  (217)987-6600  2019-12-01  160500\n",
       "2      10     Prit      Sales            NaN  2020-08-01  240000"
      ]
     },
     "execution_count": 9,
     "metadata": {},
     "output_type": "execute_result"
    }
   ],
   "source": [
    "# YOUR CODE BEGINS\n",
    "df_id_desc = df_emp.sort_values('emp_id', ascending=False)\n",
    "# YOUR CODE ENDS\n",
    "\n",
    "df_id_desc"
   ]
  },
  {
   "cell_type": "markdown",
   "metadata": {},
   "source": [
    "#### 🧭 Check Your Work\n",
    "\n",
    "- Once you're done, run the code cell below to test correctness.\n",
    "- ✔️ If the code cell runs without an error, you're good to move on.\n",
    "- ❌ If the code cell throws an error, go back and fix incorrect parts."
   ]
  },
  {
   "cell_type": "code",
   "execution_count": 10,
   "metadata": {},
   "outputs": [],
   "source": [
    "# Check result\n",
    "pd.testing.assert_frame_equal(df_id_desc.reset_index(drop=True),\n",
    "                              df_emp_backup.sort_values('_'.join(['EmP', 'iD']).lower(), ascending=bool(0)).reset_index(drop=True))"
   ]
  },
  {
   "cell_type": "markdown",
   "metadata": {},
   "source": [
    "---\n",
    "\n",
    "### 🎯 Mini-exercise: Sort by `name` ascending"
   ]
  },
  {
   "cell_type": "markdown",
   "metadata": {},
   "source": [
    "#### 👇 Tasks\n",
    "\n",
    "- ✔️ Sort `df_emp` by `name` in **ascending** order.\n",
    "    - Store the result to a new variable named `df_name_asc`.\n",
    "- ✔️ `df_emp` should remain unaltered after your code."
   ]
  },
  {
   "cell_type": "markdown",
   "metadata": {},
   "source": [
    "#### 🚀 Hints\n",
    "\n",
    "The code below sorts `my_dataframe` by `some_column` in ascending order and stores the sorted `DataFrame` to a new variable `sorted_dataframe`.\n",
    "\n",
    "```python\n",
    "sorted_dataframe = my_dataframe.sort_values('some_column')\n",
    "```"
   ]
  },
  {
   "cell_type": "markdown",
   "metadata": {},
   "source": [
    "▶️ Run the code cell below to reset your `df_emp`."
   ]
  },
  {
   "cell_type": "code",
   "execution_count": 11,
   "metadata": {},
   "outputs": [
    {
     "data": {
      "text/html": [
       "<div>\n",
       "<style scoped>\n",
       "    .dataframe tbody tr th:only-of-type {\n",
       "        vertical-align: middle;\n",
       "    }\n",
       "\n",
       "    .dataframe tbody tr th {\n",
       "        vertical-align: top;\n",
       "    }\n",
       "\n",
       "    .dataframe thead th {\n",
       "        text-align: right;\n",
       "    }\n",
       "</style>\n",
       "<table border=\"1\" class=\"dataframe\">\n",
       "  <thead>\n",
       "    <tr style=\"text-align: right;\">\n",
       "      <th></th>\n",
       "      <th>emp_id</th>\n",
       "      <th>name</th>\n",
       "      <th>dept</th>\n",
       "      <th>office_phone</th>\n",
       "      <th>start_date</th>\n",
       "      <th>salary</th>\n",
       "    </tr>\n",
       "  </thead>\n",
       "  <tbody>\n",
       "    <tr>\n",
       "      <th>0</th>\n",
       "      <td>30</td>\n",
       "      <td>Nicole</td>\n",
       "      <td>Sales</td>\n",
       "      <td>(217)123-4500</td>\n",
       "      <td>2017-05-01</td>\n",
       "      <td>202000</td>\n",
       "    </tr>\n",
       "    <tr>\n",
       "      <th>1</th>\n",
       "      <td>40</td>\n",
       "      <td>Erisa</td>\n",
       "      <td>Marketing</td>\n",
       "      <td>NaN</td>\n",
       "      <td>2018-02-01</td>\n",
       "      <td>185000</td>\n",
       "    </tr>\n",
       "    <tr>\n",
       "      <th>2</th>\n",
       "      <td>10</td>\n",
       "      <td>Prit</td>\n",
       "      <td>Sales</td>\n",
       "      <td>NaN</td>\n",
       "      <td>2020-08-01</td>\n",
       "      <td>240000</td>\n",
       "    </tr>\n",
       "    <tr>\n",
       "      <th>3</th>\n",
       "      <td>20</td>\n",
       "      <td>Claudia</td>\n",
       "      <td>Marketing</td>\n",
       "      <td>(217)987-6600</td>\n",
       "      <td>2019-12-01</td>\n",
       "      <td>160500</td>\n",
       "    </tr>\n",
       "  </tbody>\n",
       "</table>\n",
       "</div>"
      ],
      "text/plain": [
       "   emp_id     name       dept   office_phone  start_date  salary\n",
       "0      30   Nicole      Sales  (217)123-4500  2017-05-01  202000\n",
       "1      40    Erisa  Marketing            NaN  2018-02-01  185000\n",
       "2      10     Prit      Sales            NaN  2020-08-01  240000\n",
       "3      20  Claudia  Marketing  (217)987-6600  2019-12-01  160500"
      ]
     },
     "execution_count": 11,
     "metadata": {},
     "output_type": "execute_result"
    }
   ],
   "source": [
    "df_emp = df_emp_backup.copy()\n",
    "df_emp"
   ]
  },
  {
   "cell_type": "code",
   "execution_count": 12,
   "metadata": {},
   "outputs": [
    {
     "data": {
      "text/html": [
       "<div>\n",
       "<style scoped>\n",
       "    .dataframe tbody tr th:only-of-type {\n",
       "        vertical-align: middle;\n",
       "    }\n",
       "\n",
       "    .dataframe tbody tr th {\n",
       "        vertical-align: top;\n",
       "    }\n",
       "\n",
       "    .dataframe thead th {\n",
       "        text-align: right;\n",
       "    }\n",
       "</style>\n",
       "<table border=\"1\" class=\"dataframe\">\n",
       "  <thead>\n",
       "    <tr style=\"text-align: right;\">\n",
       "      <th></th>\n",
       "      <th>emp_id</th>\n",
       "      <th>name</th>\n",
       "      <th>dept</th>\n",
       "      <th>office_phone</th>\n",
       "      <th>start_date</th>\n",
       "      <th>salary</th>\n",
       "    </tr>\n",
       "  </thead>\n",
       "  <tbody>\n",
       "    <tr>\n",
       "      <th>3</th>\n",
       "      <td>20</td>\n",
       "      <td>Claudia</td>\n",
       "      <td>Marketing</td>\n",
       "      <td>(217)987-6600</td>\n",
       "      <td>2019-12-01</td>\n",
       "      <td>160500</td>\n",
       "    </tr>\n",
       "    <tr>\n",
       "      <th>1</th>\n",
       "      <td>40</td>\n",
       "      <td>Erisa</td>\n",
       "      <td>Marketing</td>\n",
       "      <td>NaN</td>\n",
       "      <td>2018-02-01</td>\n",
       "      <td>185000</td>\n",
       "    </tr>\n",
       "    <tr>\n",
       "      <th>0</th>\n",
       "      <td>30</td>\n",
       "      <td>Nicole</td>\n",
       "      <td>Sales</td>\n",
       "      <td>(217)123-4500</td>\n",
       "      <td>2017-05-01</td>\n",
       "      <td>202000</td>\n",
       "    </tr>\n",
       "    <tr>\n",
       "      <th>2</th>\n",
       "      <td>10</td>\n",
       "      <td>Prit</td>\n",
       "      <td>Sales</td>\n",
       "      <td>NaN</td>\n",
       "      <td>2020-08-01</td>\n",
       "      <td>240000</td>\n",
       "    </tr>\n",
       "  </tbody>\n",
       "</table>\n",
       "</div>"
      ],
      "text/plain": [
       "   emp_id     name       dept   office_phone  start_date  salary\n",
       "3      20  Claudia  Marketing  (217)987-6600  2019-12-01  160500\n",
       "1      40    Erisa  Marketing            NaN  2018-02-01  185000\n",
       "0      30   Nicole      Sales  (217)123-4500  2017-05-01  202000\n",
       "2      10     Prit      Sales            NaN  2020-08-01  240000"
      ]
     },
     "execution_count": 12,
     "metadata": {},
     "output_type": "execute_result"
    }
   ],
   "source": [
    "# YOUR CODE BEGINS\n",
    "df_name_asc = df_emp.sort_values('name')\n",
    "# YOUR CODE ENDS\n",
    "\n",
    "df_name_asc"
   ]
  },
  {
   "cell_type": "markdown",
   "metadata": {},
   "source": [
    "#### 🧭 Check Your Work\n",
    "\n",
    "- Once you're done, run the code cell below to test correctness.\n",
    "- ✔️ If the code cell runs without an error, you're good to move on.\n",
    "- ❌ If the code cell throws an error, go back and fix incorrect parts."
   ]
  },
  {
   "cell_type": "code",
   "execution_count": 13,
   "metadata": {},
   "outputs": [],
   "source": [
    "# Check result\n",
    "pd.testing.assert_frame_equal(df_name_asc.reset_index(drop=True),\n",
    "                              df_emp_backup.sort_values(''.join(['nA', 'Me']).lower()).reset_index(drop=True))"
   ]
  },
  {
   "cell_type": "markdown",
   "metadata": {},
   "source": [
    "---\n",
    "\n",
    "### 🎯 Mini-exercise: Sort by `name` descending"
   ]
  },
  {
   "cell_type": "markdown",
   "metadata": {},
   "source": [
    "#### 👇 Tasks\n",
    "\n",
    "- ✔️ Sort `df_emp` by `name` in **descending** order.\n",
    "    - Store the result to a new variable named `df_name_desc`.\n",
    "- ✔️ `df_emp` should remain unaltered after your code."
   ]
  },
  {
   "cell_type": "markdown",
   "metadata": {},
   "source": [
    "#### 🚀 Hints\n",
    "\n",
    "The code below sorts `my_dataframe` by `some_column` in ascending order and stores the sorted `DataFrame` to a new variable `sorted_dataframe`.\n",
    "\n",
    "```python\n",
    "sorted_dataframe = my_dataframe.sort_values('some_column')\n",
    "```"
   ]
  },
  {
   "cell_type": "markdown",
   "metadata": {},
   "source": [
    "▶️ Run the code cell below to reset your `df_emp`."
   ]
  },
  {
   "cell_type": "code",
   "execution_count": 14,
   "metadata": {},
   "outputs": [
    {
     "data": {
      "text/html": [
       "<div>\n",
       "<style scoped>\n",
       "    .dataframe tbody tr th:only-of-type {\n",
       "        vertical-align: middle;\n",
       "    }\n",
       "\n",
       "    .dataframe tbody tr th {\n",
       "        vertical-align: top;\n",
       "    }\n",
       "\n",
       "    .dataframe thead th {\n",
       "        text-align: right;\n",
       "    }\n",
       "</style>\n",
       "<table border=\"1\" class=\"dataframe\">\n",
       "  <thead>\n",
       "    <tr style=\"text-align: right;\">\n",
       "      <th></th>\n",
       "      <th>emp_id</th>\n",
       "      <th>name</th>\n",
       "      <th>dept</th>\n",
       "      <th>office_phone</th>\n",
       "      <th>start_date</th>\n",
       "      <th>salary</th>\n",
       "    </tr>\n",
       "  </thead>\n",
       "  <tbody>\n",
       "    <tr>\n",
       "      <th>0</th>\n",
       "      <td>30</td>\n",
       "      <td>Nicole</td>\n",
       "      <td>Sales</td>\n",
       "      <td>(217)123-4500</td>\n",
       "      <td>2017-05-01</td>\n",
       "      <td>202000</td>\n",
       "    </tr>\n",
       "    <tr>\n",
       "      <th>1</th>\n",
       "      <td>40</td>\n",
       "      <td>Erisa</td>\n",
       "      <td>Marketing</td>\n",
       "      <td>NaN</td>\n",
       "      <td>2018-02-01</td>\n",
       "      <td>185000</td>\n",
       "    </tr>\n",
       "    <tr>\n",
       "      <th>2</th>\n",
       "      <td>10</td>\n",
       "      <td>Prit</td>\n",
       "      <td>Sales</td>\n",
       "      <td>NaN</td>\n",
       "      <td>2020-08-01</td>\n",
       "      <td>240000</td>\n",
       "    </tr>\n",
       "    <tr>\n",
       "      <th>3</th>\n",
       "      <td>20</td>\n",
       "      <td>Claudia</td>\n",
       "      <td>Marketing</td>\n",
       "      <td>(217)987-6600</td>\n",
       "      <td>2019-12-01</td>\n",
       "      <td>160500</td>\n",
       "    </tr>\n",
       "  </tbody>\n",
       "</table>\n",
       "</div>"
      ],
      "text/plain": [
       "   emp_id     name       dept   office_phone  start_date  salary\n",
       "0      30   Nicole      Sales  (217)123-4500  2017-05-01  202000\n",
       "1      40    Erisa  Marketing            NaN  2018-02-01  185000\n",
       "2      10     Prit      Sales            NaN  2020-08-01  240000\n",
       "3      20  Claudia  Marketing  (217)987-6600  2019-12-01  160500"
      ]
     },
     "execution_count": 14,
     "metadata": {},
     "output_type": "execute_result"
    }
   ],
   "source": [
    "df_emp = df_emp_backup.copy()\n",
    "df_emp"
   ]
  },
  {
   "cell_type": "code",
   "execution_count": 15,
   "metadata": {},
   "outputs": [
    {
     "data": {
      "text/html": [
       "<div>\n",
       "<style scoped>\n",
       "    .dataframe tbody tr th:only-of-type {\n",
       "        vertical-align: middle;\n",
       "    }\n",
       "\n",
       "    .dataframe tbody tr th {\n",
       "        vertical-align: top;\n",
       "    }\n",
       "\n",
       "    .dataframe thead th {\n",
       "        text-align: right;\n",
       "    }\n",
       "</style>\n",
       "<table border=\"1\" class=\"dataframe\">\n",
       "  <thead>\n",
       "    <tr style=\"text-align: right;\">\n",
       "      <th></th>\n",
       "      <th>emp_id</th>\n",
       "      <th>name</th>\n",
       "      <th>dept</th>\n",
       "      <th>office_phone</th>\n",
       "      <th>start_date</th>\n",
       "      <th>salary</th>\n",
       "    </tr>\n",
       "  </thead>\n",
       "  <tbody>\n",
       "    <tr>\n",
       "      <th>2</th>\n",
       "      <td>10</td>\n",
       "      <td>Prit</td>\n",
       "      <td>Sales</td>\n",
       "      <td>NaN</td>\n",
       "      <td>2020-08-01</td>\n",
       "      <td>240000</td>\n",
       "    </tr>\n",
       "    <tr>\n",
       "      <th>0</th>\n",
       "      <td>30</td>\n",
       "      <td>Nicole</td>\n",
       "      <td>Sales</td>\n",
       "      <td>(217)123-4500</td>\n",
       "      <td>2017-05-01</td>\n",
       "      <td>202000</td>\n",
       "    </tr>\n",
       "    <tr>\n",
       "      <th>1</th>\n",
       "      <td>40</td>\n",
       "      <td>Erisa</td>\n",
       "      <td>Marketing</td>\n",
       "      <td>NaN</td>\n",
       "      <td>2018-02-01</td>\n",
       "      <td>185000</td>\n",
       "    </tr>\n",
       "    <tr>\n",
       "      <th>3</th>\n",
       "      <td>20</td>\n",
       "      <td>Claudia</td>\n",
       "      <td>Marketing</td>\n",
       "      <td>(217)987-6600</td>\n",
       "      <td>2019-12-01</td>\n",
       "      <td>160500</td>\n",
       "    </tr>\n",
       "  </tbody>\n",
       "</table>\n",
       "</div>"
      ],
      "text/plain": [
       "   emp_id     name       dept   office_phone  start_date  salary\n",
       "2      10     Prit      Sales            NaN  2020-08-01  240000\n",
       "0      30   Nicole      Sales  (217)123-4500  2017-05-01  202000\n",
       "1      40    Erisa  Marketing            NaN  2018-02-01  185000\n",
       "3      20  Claudia  Marketing  (217)987-6600  2019-12-01  160500"
      ]
     },
     "execution_count": 15,
     "metadata": {},
     "output_type": "execute_result"
    }
   ],
   "source": [
    "# YOUR CODE BEGINS\n",
    "df_name_desc = df_emp.sort_values('name', ascending=False)\n",
    "# YOUR CODE ENDS\n",
    "\n",
    "df_name_desc"
   ]
  },
  {
   "cell_type": "markdown",
   "metadata": {},
   "source": [
    "#### 🧭 Check Your Work\n",
    "\n",
    "- Once you're done, run the code cell below to test correctness.\n",
    "- ✔️ If the code cell runs without an error, you're good to move on.\n",
    "- ❌ If the code cell throws an error, go back and fix incorrect parts."
   ]
  },
  {
   "cell_type": "code",
   "execution_count": 16,
   "metadata": {},
   "outputs": [],
   "source": [
    "# Check result\n",
    "pd.testing.assert_frame_equal(df_name_desc.reset_index(drop=True),\n",
    "                              df_emp_backup.sort_values(''.join(['nA', 'Me']).lower(), ascending=bool(0)).reset_index(drop=True))"
   ]
  },
  {
   "cell_type": "markdown",
   "metadata": {},
   "source": [
    "---\n",
    "\n",
    "### 🎯 Mini-exercise: Sort by `dept` descending and then by `start_date` ascending"
   ]
  },
  {
   "cell_type": "markdown",
   "metadata": {},
   "source": [
    "#### 👇 Tasks\n",
    "\n",
    "- ✔️ Sort `df_emp` by `dept` in **descending** order and then by `start_date` in **ascending** order.\n",
    "    - Employees within a same department must be sorted by `start_date` in ascending order.\n",
    "    - Store the result to a new variable named `df_dept_desc_date_asc`.\n",
    "- ✔️ `df_emp` should remain unaltered after your code."
   ]
  },
  {
   "cell_type": "markdown",
   "metadata": {},
   "source": [
    "#### 🚀 Hints\n",
    "\n",
    "The code below sorts `my_dataframe` by `some_column` in ascending order and then by `another_column` in descending order. It stores the sorted `DataFrame` to a new variable named `sorted_dataframe`.\n",
    "\n",
    "```python\n",
    "sorted_dataframe = my_dataframe.sort_values(['some_column', 'another_column'], ascending=[True, False])\n",
    "```"
   ]
  },
  {
   "cell_type": "markdown",
   "metadata": {},
   "source": [
    "▶️ Run the code cell below to reset your `df_emp`."
   ]
  },
  {
   "cell_type": "code",
   "execution_count": 17,
   "metadata": {},
   "outputs": [
    {
     "data": {
      "text/html": [
       "<div>\n",
       "<style scoped>\n",
       "    .dataframe tbody tr th:only-of-type {\n",
       "        vertical-align: middle;\n",
       "    }\n",
       "\n",
       "    .dataframe tbody tr th {\n",
       "        vertical-align: top;\n",
       "    }\n",
       "\n",
       "    .dataframe thead th {\n",
       "        text-align: right;\n",
       "    }\n",
       "</style>\n",
       "<table border=\"1\" class=\"dataframe\">\n",
       "  <thead>\n",
       "    <tr style=\"text-align: right;\">\n",
       "      <th></th>\n",
       "      <th>emp_id</th>\n",
       "      <th>name</th>\n",
       "      <th>dept</th>\n",
       "      <th>office_phone</th>\n",
       "      <th>start_date</th>\n",
       "      <th>salary</th>\n",
       "    </tr>\n",
       "  </thead>\n",
       "  <tbody>\n",
       "    <tr>\n",
       "      <th>0</th>\n",
       "      <td>30</td>\n",
       "      <td>Nicole</td>\n",
       "      <td>Sales</td>\n",
       "      <td>(217)123-4500</td>\n",
       "      <td>2017-05-01</td>\n",
       "      <td>202000</td>\n",
       "    </tr>\n",
       "    <tr>\n",
       "      <th>1</th>\n",
       "      <td>40</td>\n",
       "      <td>Erisa</td>\n",
       "      <td>Marketing</td>\n",
       "      <td>NaN</td>\n",
       "      <td>2018-02-01</td>\n",
       "      <td>185000</td>\n",
       "    </tr>\n",
       "    <tr>\n",
       "      <th>2</th>\n",
       "      <td>10</td>\n",
       "      <td>Prit</td>\n",
       "      <td>Sales</td>\n",
       "      <td>NaN</td>\n",
       "      <td>2020-08-01</td>\n",
       "      <td>240000</td>\n",
       "    </tr>\n",
       "    <tr>\n",
       "      <th>3</th>\n",
       "      <td>20</td>\n",
       "      <td>Claudia</td>\n",
       "      <td>Marketing</td>\n",
       "      <td>(217)987-6600</td>\n",
       "      <td>2019-12-01</td>\n",
       "      <td>160500</td>\n",
       "    </tr>\n",
       "  </tbody>\n",
       "</table>\n",
       "</div>"
      ],
      "text/plain": [
       "   emp_id     name       dept   office_phone  start_date  salary\n",
       "0      30   Nicole      Sales  (217)123-4500  2017-05-01  202000\n",
       "1      40    Erisa  Marketing            NaN  2018-02-01  185000\n",
       "2      10     Prit      Sales            NaN  2020-08-01  240000\n",
       "3      20  Claudia  Marketing  (217)987-6600  2019-12-01  160500"
      ]
     },
     "execution_count": 17,
     "metadata": {},
     "output_type": "execute_result"
    }
   ],
   "source": [
    "df_emp = df_emp_backup.copy()\n",
    "df_emp"
   ]
  },
  {
   "cell_type": "code",
   "execution_count": 18,
   "metadata": {},
   "outputs": [
    {
     "data": {
      "text/html": [
       "<div>\n",
       "<style scoped>\n",
       "    .dataframe tbody tr th:only-of-type {\n",
       "        vertical-align: middle;\n",
       "    }\n",
       "\n",
       "    .dataframe tbody tr th {\n",
       "        vertical-align: top;\n",
       "    }\n",
       "\n",
       "    .dataframe thead th {\n",
       "        text-align: right;\n",
       "    }\n",
       "</style>\n",
       "<table border=\"1\" class=\"dataframe\">\n",
       "  <thead>\n",
       "    <tr style=\"text-align: right;\">\n",
       "      <th></th>\n",
       "      <th>emp_id</th>\n",
       "      <th>name</th>\n",
       "      <th>dept</th>\n",
       "      <th>office_phone</th>\n",
       "      <th>start_date</th>\n",
       "      <th>salary</th>\n",
       "    </tr>\n",
       "  </thead>\n",
       "  <tbody>\n",
       "    <tr>\n",
       "      <th>0</th>\n",
       "      <td>30</td>\n",
       "      <td>Nicole</td>\n",
       "      <td>Sales</td>\n",
       "      <td>(217)123-4500</td>\n",
       "      <td>2017-05-01</td>\n",
       "      <td>202000</td>\n",
       "    </tr>\n",
       "    <tr>\n",
       "      <th>2</th>\n",
       "      <td>10</td>\n",
       "      <td>Prit</td>\n",
       "      <td>Sales</td>\n",
       "      <td>NaN</td>\n",
       "      <td>2020-08-01</td>\n",
       "      <td>240000</td>\n",
       "    </tr>\n",
       "    <tr>\n",
       "      <th>1</th>\n",
       "      <td>40</td>\n",
       "      <td>Erisa</td>\n",
       "      <td>Marketing</td>\n",
       "      <td>NaN</td>\n",
       "      <td>2018-02-01</td>\n",
       "      <td>185000</td>\n",
       "    </tr>\n",
       "    <tr>\n",
       "      <th>3</th>\n",
       "      <td>20</td>\n",
       "      <td>Claudia</td>\n",
       "      <td>Marketing</td>\n",
       "      <td>(217)987-6600</td>\n",
       "      <td>2019-12-01</td>\n",
       "      <td>160500</td>\n",
       "    </tr>\n",
       "  </tbody>\n",
       "</table>\n",
       "</div>"
      ],
      "text/plain": [
       "   emp_id     name       dept   office_phone  start_date  salary\n",
       "0      30   Nicole      Sales  (217)123-4500  2017-05-01  202000\n",
       "2      10     Prit      Sales            NaN  2020-08-01  240000\n",
       "1      40    Erisa  Marketing            NaN  2018-02-01  185000\n",
       "3      20  Claudia  Marketing  (217)987-6600  2019-12-01  160500"
      ]
     },
     "execution_count": 18,
     "metadata": {},
     "output_type": "execute_result"
    }
   ],
   "source": [
    "# YOUR CODE BEGINS\n",
    "df_dept_desc_date_asc = df_emp.sort_values(['dept', 'start_date'], ascending=[False, True])\n",
    "# YOUR CODE ENDS\n",
    "\n",
    "df_dept_desc_date_asc"
   ]
  },
  {
   "cell_type": "markdown",
   "metadata": {},
   "source": [
    "#### 🧭 Check Your Work\n",
    "\n",
    "- Once you're done, run the code cell below to test correctness.\n",
    "- ✔️ If the code cell runs without an error, you're good to move on.\n",
    "- ❌ If the code cell throws an error, go back and fix incorrect parts."
   ]
  },
  {
   "cell_type": "code",
   "execution_count": 19,
   "metadata": {},
   "outputs": [],
   "source": [
    "# Check result\n",
    "pd.testing.assert_frame_equal(df_dept_desc_date_asc.reset_index(drop=True),\n",
    "                              df_emp_backup.sort_values([''.join(['dE', 'Pt']).lower(), '_'.join(['sTarT', 'dAtE']).lower()], ascending=[bool(0), bool(1)]).reset_index(drop=True))"
   ]
  },
  {
   "cell_type": "markdown",
   "metadata": {},
   "source": [
    "---\n",
    "\n",
    "### 🎯 Mini-exercise: Sort by `dept` ascending and then by `salary` descending"
   ]
  },
  {
   "cell_type": "markdown",
   "metadata": {},
   "source": [
    "#### 👇 Tasks\n",
    "\n",
    "- ✔️ Sort `df_emp` by `dept` in **ascending** order and then by `salary` in **descending** order.\n",
    "    - Employees within a same department must be sorted by `salary` in descending order.\n",
    "    - Store the result to a new variable named `df_dept_asc_salary_desc`.\n",
    "- ✔️ `df_emp` should remain unaltered after your code."
   ]
  },
  {
   "cell_type": "markdown",
   "metadata": {},
   "source": [
    "▶️ Run the code cell below to reset your `df_emp`."
   ]
  },
  {
   "cell_type": "code",
   "execution_count": 20,
   "metadata": {},
   "outputs": [
    {
     "data": {
      "text/html": [
       "<div>\n",
       "<style scoped>\n",
       "    .dataframe tbody tr th:only-of-type {\n",
       "        vertical-align: middle;\n",
       "    }\n",
       "\n",
       "    .dataframe tbody tr th {\n",
       "        vertical-align: top;\n",
       "    }\n",
       "\n",
       "    .dataframe thead th {\n",
       "        text-align: right;\n",
       "    }\n",
       "</style>\n",
       "<table border=\"1\" class=\"dataframe\">\n",
       "  <thead>\n",
       "    <tr style=\"text-align: right;\">\n",
       "      <th></th>\n",
       "      <th>emp_id</th>\n",
       "      <th>name</th>\n",
       "      <th>dept</th>\n",
       "      <th>office_phone</th>\n",
       "      <th>start_date</th>\n",
       "      <th>salary</th>\n",
       "    </tr>\n",
       "  </thead>\n",
       "  <tbody>\n",
       "    <tr>\n",
       "      <th>0</th>\n",
       "      <td>30</td>\n",
       "      <td>Nicole</td>\n",
       "      <td>Sales</td>\n",
       "      <td>(217)123-4500</td>\n",
       "      <td>2017-05-01</td>\n",
       "      <td>202000</td>\n",
       "    </tr>\n",
       "    <tr>\n",
       "      <th>1</th>\n",
       "      <td>40</td>\n",
       "      <td>Erisa</td>\n",
       "      <td>Marketing</td>\n",
       "      <td>NaN</td>\n",
       "      <td>2018-02-01</td>\n",
       "      <td>185000</td>\n",
       "    </tr>\n",
       "    <tr>\n",
       "      <th>2</th>\n",
       "      <td>10</td>\n",
       "      <td>Prit</td>\n",
       "      <td>Sales</td>\n",
       "      <td>NaN</td>\n",
       "      <td>2020-08-01</td>\n",
       "      <td>240000</td>\n",
       "    </tr>\n",
       "    <tr>\n",
       "      <th>3</th>\n",
       "      <td>20</td>\n",
       "      <td>Claudia</td>\n",
       "      <td>Marketing</td>\n",
       "      <td>(217)987-6600</td>\n",
       "      <td>2019-12-01</td>\n",
       "      <td>160500</td>\n",
       "    </tr>\n",
       "  </tbody>\n",
       "</table>\n",
       "</div>"
      ],
      "text/plain": [
       "   emp_id     name       dept   office_phone  start_date  salary\n",
       "0      30   Nicole      Sales  (217)123-4500  2017-05-01  202000\n",
       "1      40    Erisa  Marketing            NaN  2018-02-01  185000\n",
       "2      10     Prit      Sales            NaN  2020-08-01  240000\n",
       "3      20  Claudia  Marketing  (217)987-6600  2019-12-01  160500"
      ]
     },
     "execution_count": 20,
     "metadata": {},
     "output_type": "execute_result"
    }
   ],
   "source": [
    "df_emp = df_emp_backup.copy()\n",
    "df_emp"
   ]
  },
  {
   "cell_type": "code",
   "execution_count": 21,
   "metadata": {},
   "outputs": [
    {
     "data": {
      "text/html": [
       "<div>\n",
       "<style scoped>\n",
       "    .dataframe tbody tr th:only-of-type {\n",
       "        vertical-align: middle;\n",
       "    }\n",
       "\n",
       "    .dataframe tbody tr th {\n",
       "        vertical-align: top;\n",
       "    }\n",
       "\n",
       "    .dataframe thead th {\n",
       "        text-align: right;\n",
       "    }\n",
       "</style>\n",
       "<table border=\"1\" class=\"dataframe\">\n",
       "  <thead>\n",
       "    <tr style=\"text-align: right;\">\n",
       "      <th></th>\n",
       "      <th>emp_id</th>\n",
       "      <th>name</th>\n",
       "      <th>dept</th>\n",
       "      <th>office_phone</th>\n",
       "      <th>start_date</th>\n",
       "      <th>salary</th>\n",
       "    </tr>\n",
       "  </thead>\n",
       "  <tbody>\n",
       "    <tr>\n",
       "      <th>1</th>\n",
       "      <td>40</td>\n",
       "      <td>Erisa</td>\n",
       "      <td>Marketing</td>\n",
       "      <td>NaN</td>\n",
       "      <td>2018-02-01</td>\n",
       "      <td>185000</td>\n",
       "    </tr>\n",
       "    <tr>\n",
       "      <th>3</th>\n",
       "      <td>20</td>\n",
       "      <td>Claudia</td>\n",
       "      <td>Marketing</td>\n",
       "      <td>(217)987-6600</td>\n",
       "      <td>2019-12-01</td>\n",
       "      <td>160500</td>\n",
       "    </tr>\n",
       "    <tr>\n",
       "      <th>2</th>\n",
       "      <td>10</td>\n",
       "      <td>Prit</td>\n",
       "      <td>Sales</td>\n",
       "      <td>NaN</td>\n",
       "      <td>2020-08-01</td>\n",
       "      <td>240000</td>\n",
       "    </tr>\n",
       "    <tr>\n",
       "      <th>0</th>\n",
       "      <td>30</td>\n",
       "      <td>Nicole</td>\n",
       "      <td>Sales</td>\n",
       "      <td>(217)123-4500</td>\n",
       "      <td>2017-05-01</td>\n",
       "      <td>202000</td>\n",
       "    </tr>\n",
       "  </tbody>\n",
       "</table>\n",
       "</div>"
      ],
      "text/plain": [
       "   emp_id     name       dept   office_phone  start_date  salary\n",
       "1      40    Erisa  Marketing            NaN  2018-02-01  185000\n",
       "3      20  Claudia  Marketing  (217)987-6600  2019-12-01  160500\n",
       "2      10     Prit      Sales            NaN  2020-08-01  240000\n",
       "0      30   Nicole      Sales  (217)123-4500  2017-05-01  202000"
      ]
     },
     "execution_count": 21,
     "metadata": {},
     "output_type": "execute_result"
    }
   ],
   "source": [
    "# YOUR CODE BEGINS\n",
    "df_dept_asc_salary_desc = df_emp.sort_values(['dept', 'salary'], ascending=[True, False])\n",
    "# YOUR CODE ENDS\n",
    "\n",
    "df_dept_asc_salary_desc"
   ]
  },
  {
   "cell_type": "markdown",
   "metadata": {},
   "source": [
    "#### 🧭 Check Your Work\n",
    "\n",
    "- Once you're done, run the code cell below to test correctness.\n",
    "- ✔️ If the code cell runs without an error, you're good to move on.\n",
    "- ❌ If the code cell throws an error, go back and fix incorrect parts."
   ]
  },
  {
   "cell_type": "code",
   "execution_count": 22,
   "metadata": {},
   "outputs": [],
   "source": [
    "# Check result\n",
    "pd.testing.assert_frame_equal(df_dept_asc_salary_desc.reset_index(drop=True),\n",
    "                              df_emp_backup.sort_values([''.join(['dE', 'Pt']).lower(), 'sAlArY'.lower()], ascending=[bool(1), bool(0)]).reset_index(drop=True))"
   ]
  },
  {
   "cell_type": "markdown",
   "metadata": {},
   "source": [
    "---\n",
    "\n",
    "### 🎯 Mini-exercise: Sort by `salary` descending in-place"
   ]
  },
  {
   "cell_type": "markdown",
   "metadata": {},
   "source": [
    "#### 👇 Tasks\n",
    "\n",
    "- ✔️ Sort `df_emp` by `salary` in **descending** order *in-place*.\n",
    "    - Directly update `df_emp` without creating a new variable."
   ]
  },
  {
   "cell_type": "markdown",
   "metadata": {},
   "source": [
    "#### 🚀 Hints\n",
    "\n",
    "The code below sorts `my_dataframe` by `some_column` in descending order *in-place*.\n",
    "\n",
    "```python\n",
    "my_dataframe.sort_values('some_column', ascending=False, inplace=True)\n",
    "```"
   ]
  },
  {
   "cell_type": "markdown",
   "metadata": {},
   "source": [
    "▶️ Run the code cell below to reset your `df_emp`."
   ]
  },
  {
   "cell_type": "code",
   "execution_count": 23,
   "metadata": {},
   "outputs": [
    {
     "data": {
      "text/html": [
       "<div>\n",
       "<style scoped>\n",
       "    .dataframe tbody tr th:only-of-type {\n",
       "        vertical-align: middle;\n",
       "    }\n",
       "\n",
       "    .dataframe tbody tr th {\n",
       "        vertical-align: top;\n",
       "    }\n",
       "\n",
       "    .dataframe thead th {\n",
       "        text-align: right;\n",
       "    }\n",
       "</style>\n",
       "<table border=\"1\" class=\"dataframe\">\n",
       "  <thead>\n",
       "    <tr style=\"text-align: right;\">\n",
       "      <th></th>\n",
       "      <th>emp_id</th>\n",
       "      <th>name</th>\n",
       "      <th>dept</th>\n",
       "      <th>office_phone</th>\n",
       "      <th>start_date</th>\n",
       "      <th>salary</th>\n",
       "    </tr>\n",
       "  </thead>\n",
       "  <tbody>\n",
       "    <tr>\n",
       "      <th>0</th>\n",
       "      <td>30</td>\n",
       "      <td>Nicole</td>\n",
       "      <td>Sales</td>\n",
       "      <td>(217)123-4500</td>\n",
       "      <td>2017-05-01</td>\n",
       "      <td>202000</td>\n",
       "    </tr>\n",
       "    <tr>\n",
       "      <th>1</th>\n",
       "      <td>40</td>\n",
       "      <td>Erisa</td>\n",
       "      <td>Marketing</td>\n",
       "      <td>NaN</td>\n",
       "      <td>2018-02-01</td>\n",
       "      <td>185000</td>\n",
       "    </tr>\n",
       "    <tr>\n",
       "      <th>2</th>\n",
       "      <td>10</td>\n",
       "      <td>Prit</td>\n",
       "      <td>Sales</td>\n",
       "      <td>NaN</td>\n",
       "      <td>2020-08-01</td>\n",
       "      <td>240000</td>\n",
       "    </tr>\n",
       "    <tr>\n",
       "      <th>3</th>\n",
       "      <td>20</td>\n",
       "      <td>Claudia</td>\n",
       "      <td>Marketing</td>\n",
       "      <td>(217)987-6600</td>\n",
       "      <td>2019-12-01</td>\n",
       "      <td>160500</td>\n",
       "    </tr>\n",
       "  </tbody>\n",
       "</table>\n",
       "</div>"
      ],
      "text/plain": [
       "   emp_id     name       dept   office_phone  start_date  salary\n",
       "0      30   Nicole      Sales  (217)123-4500  2017-05-01  202000\n",
       "1      40    Erisa  Marketing            NaN  2018-02-01  185000\n",
       "2      10     Prit      Sales            NaN  2020-08-01  240000\n",
       "3      20  Claudia  Marketing  (217)987-6600  2019-12-01  160500"
      ]
     },
     "execution_count": 23,
     "metadata": {},
     "output_type": "execute_result"
    }
   ],
   "source": [
    "df_emp = df_emp_backup.copy()\n",
    "df_emp"
   ]
  },
  {
   "cell_type": "code",
   "execution_count": 24,
   "metadata": {},
   "outputs": [
    {
     "data": {
      "text/html": [
       "<div>\n",
       "<style scoped>\n",
       "    .dataframe tbody tr th:only-of-type {\n",
       "        vertical-align: middle;\n",
       "    }\n",
       "\n",
       "    .dataframe tbody tr th {\n",
       "        vertical-align: top;\n",
       "    }\n",
       "\n",
       "    .dataframe thead th {\n",
       "        text-align: right;\n",
       "    }\n",
       "</style>\n",
       "<table border=\"1\" class=\"dataframe\">\n",
       "  <thead>\n",
       "    <tr style=\"text-align: right;\">\n",
       "      <th></th>\n",
       "      <th>emp_id</th>\n",
       "      <th>name</th>\n",
       "      <th>dept</th>\n",
       "      <th>office_phone</th>\n",
       "      <th>start_date</th>\n",
       "      <th>salary</th>\n",
       "    </tr>\n",
       "  </thead>\n",
       "  <tbody>\n",
       "    <tr>\n",
       "      <th>2</th>\n",
       "      <td>10</td>\n",
       "      <td>Prit</td>\n",
       "      <td>Sales</td>\n",
       "      <td>NaN</td>\n",
       "      <td>2020-08-01</td>\n",
       "      <td>240000</td>\n",
       "    </tr>\n",
       "    <tr>\n",
       "      <th>0</th>\n",
       "      <td>30</td>\n",
       "      <td>Nicole</td>\n",
       "      <td>Sales</td>\n",
       "      <td>(217)123-4500</td>\n",
       "      <td>2017-05-01</td>\n",
       "      <td>202000</td>\n",
       "    </tr>\n",
       "    <tr>\n",
       "      <th>1</th>\n",
       "      <td>40</td>\n",
       "      <td>Erisa</td>\n",
       "      <td>Marketing</td>\n",
       "      <td>NaN</td>\n",
       "      <td>2018-02-01</td>\n",
       "      <td>185000</td>\n",
       "    </tr>\n",
       "    <tr>\n",
       "      <th>3</th>\n",
       "      <td>20</td>\n",
       "      <td>Claudia</td>\n",
       "      <td>Marketing</td>\n",
       "      <td>(217)987-6600</td>\n",
       "      <td>2019-12-01</td>\n",
       "      <td>160500</td>\n",
       "    </tr>\n",
       "  </tbody>\n",
       "</table>\n",
       "</div>"
      ],
      "text/plain": [
       "   emp_id     name       dept   office_phone  start_date  salary\n",
       "2      10     Prit      Sales            NaN  2020-08-01  240000\n",
       "0      30   Nicole      Sales  (217)123-4500  2017-05-01  202000\n",
       "1      40    Erisa  Marketing            NaN  2018-02-01  185000\n",
       "3      20  Claudia  Marketing  (217)987-6600  2019-12-01  160500"
      ]
     },
     "execution_count": 24,
     "metadata": {},
     "output_type": "execute_result"
    }
   ],
   "source": [
    "# YOUR CODE BEGINS\n",
    "df_emp.sort_values('salary', ascending=False, inplace=True)\n",
    "# YOUR CODE ENDS\n",
    "\n",
    "df_emp"
   ]
  },
  {
   "cell_type": "markdown",
   "metadata": {},
   "source": [
    "#### 🧭 Check Your Work\n",
    "\n",
    "- Once you're done, run the code cell below to test correctness.\n",
    "- ✔️ If the code cell runs without an error, you're good to move on.\n",
    "- ❌ If the code cell throws an error, go back and fix incorrect parts."
   ]
  },
  {
   "cell_type": "code",
   "execution_count": 25,
   "metadata": {},
   "outputs": [],
   "source": [
    "# Check result\n",
    "pd.testing.assert_frame_equal(df_emp.reset_index(drop=True),\n",
    "                              df_emp_backup.sort_values(''.join(['sAl', 'aRy']).lower(), ascending=bool(0)).reset_index(drop=True))"
   ]
  },
  {
   "cell_type": "markdown",
   "metadata": {},
   "source": [
    "---\n",
    "\n",
    "### 🎯 Mini-exercise: Sort by `department` and `name` both descending in-place"
   ]
  },
  {
   "cell_type": "markdown",
   "metadata": {},
   "source": [
    "#### 👇 Tasks\n",
    "\n",
    "- ✔️ Sort `df_emp` by `dept` and then by `name` both in **descending** orders *in-place*.\n",
    "    - Directly update `df_emp` without creating a new variable."
   ]
  },
  {
   "cell_type": "markdown",
   "metadata": {},
   "source": [
    "#### 🚀 Hints\n",
    "\n",
    "The code below sorts `my_dataframe` by `some_column` and `another_column` in descending order *in-place*.\n",
    "\n",
    "```python\n",
    "my_dataframe.sort_values(['some_column', 'another_column'], ascending=[False, False], inplace=True)\n",
    "```"
   ]
  },
  {
   "cell_type": "markdown",
   "metadata": {},
   "source": [
    "▶️ Run the code cell below to reset your `df_emp`."
   ]
  },
  {
   "cell_type": "code",
   "execution_count": 26,
   "metadata": {},
   "outputs": [
    {
     "data": {
      "text/html": [
       "<div>\n",
       "<style scoped>\n",
       "    .dataframe tbody tr th:only-of-type {\n",
       "        vertical-align: middle;\n",
       "    }\n",
       "\n",
       "    .dataframe tbody tr th {\n",
       "        vertical-align: top;\n",
       "    }\n",
       "\n",
       "    .dataframe thead th {\n",
       "        text-align: right;\n",
       "    }\n",
       "</style>\n",
       "<table border=\"1\" class=\"dataframe\">\n",
       "  <thead>\n",
       "    <tr style=\"text-align: right;\">\n",
       "      <th></th>\n",
       "      <th>emp_id</th>\n",
       "      <th>name</th>\n",
       "      <th>dept</th>\n",
       "      <th>office_phone</th>\n",
       "      <th>start_date</th>\n",
       "      <th>salary</th>\n",
       "    </tr>\n",
       "  </thead>\n",
       "  <tbody>\n",
       "    <tr>\n",
       "      <th>0</th>\n",
       "      <td>30</td>\n",
       "      <td>Nicole</td>\n",
       "      <td>Sales</td>\n",
       "      <td>(217)123-4500</td>\n",
       "      <td>2017-05-01</td>\n",
       "      <td>202000</td>\n",
       "    </tr>\n",
       "    <tr>\n",
       "      <th>1</th>\n",
       "      <td>40</td>\n",
       "      <td>Erisa</td>\n",
       "      <td>Marketing</td>\n",
       "      <td>NaN</td>\n",
       "      <td>2018-02-01</td>\n",
       "      <td>185000</td>\n",
       "    </tr>\n",
       "    <tr>\n",
       "      <th>2</th>\n",
       "      <td>10</td>\n",
       "      <td>Prit</td>\n",
       "      <td>Sales</td>\n",
       "      <td>NaN</td>\n",
       "      <td>2020-08-01</td>\n",
       "      <td>240000</td>\n",
       "    </tr>\n",
       "    <tr>\n",
       "      <th>3</th>\n",
       "      <td>20</td>\n",
       "      <td>Claudia</td>\n",
       "      <td>Marketing</td>\n",
       "      <td>(217)987-6600</td>\n",
       "      <td>2019-12-01</td>\n",
       "      <td>160500</td>\n",
       "    </tr>\n",
       "  </tbody>\n",
       "</table>\n",
       "</div>"
      ],
      "text/plain": [
       "   emp_id     name       dept   office_phone  start_date  salary\n",
       "0      30   Nicole      Sales  (217)123-4500  2017-05-01  202000\n",
       "1      40    Erisa  Marketing            NaN  2018-02-01  185000\n",
       "2      10     Prit      Sales            NaN  2020-08-01  240000\n",
       "3      20  Claudia  Marketing  (217)987-6600  2019-12-01  160500"
      ]
     },
     "execution_count": 26,
     "metadata": {},
     "output_type": "execute_result"
    }
   ],
   "source": [
    "df_emp = df_emp_backup.copy()\n",
    "df_emp"
   ]
  },
  {
   "cell_type": "code",
   "execution_count": 27,
   "metadata": {},
   "outputs": [
    {
     "data": {
      "text/html": [
       "<div>\n",
       "<style scoped>\n",
       "    .dataframe tbody tr th:only-of-type {\n",
       "        vertical-align: middle;\n",
       "    }\n",
       "\n",
       "    .dataframe tbody tr th {\n",
       "        vertical-align: top;\n",
       "    }\n",
       "\n",
       "    .dataframe thead th {\n",
       "        text-align: right;\n",
       "    }\n",
       "</style>\n",
       "<table border=\"1\" class=\"dataframe\">\n",
       "  <thead>\n",
       "    <tr style=\"text-align: right;\">\n",
       "      <th></th>\n",
       "      <th>emp_id</th>\n",
       "      <th>name</th>\n",
       "      <th>dept</th>\n",
       "      <th>office_phone</th>\n",
       "      <th>start_date</th>\n",
       "      <th>salary</th>\n",
       "    </tr>\n",
       "  </thead>\n",
       "  <tbody>\n",
       "    <tr>\n",
       "      <th>2</th>\n",
       "      <td>10</td>\n",
       "      <td>Prit</td>\n",
       "      <td>Sales</td>\n",
       "      <td>NaN</td>\n",
       "      <td>2020-08-01</td>\n",
       "      <td>240000</td>\n",
       "    </tr>\n",
       "    <tr>\n",
       "      <th>0</th>\n",
       "      <td>30</td>\n",
       "      <td>Nicole</td>\n",
       "      <td>Sales</td>\n",
       "      <td>(217)123-4500</td>\n",
       "      <td>2017-05-01</td>\n",
       "      <td>202000</td>\n",
       "    </tr>\n",
       "    <tr>\n",
       "      <th>1</th>\n",
       "      <td>40</td>\n",
       "      <td>Erisa</td>\n",
       "      <td>Marketing</td>\n",
       "      <td>NaN</td>\n",
       "      <td>2018-02-01</td>\n",
       "      <td>185000</td>\n",
       "    </tr>\n",
       "    <tr>\n",
       "      <th>3</th>\n",
       "      <td>20</td>\n",
       "      <td>Claudia</td>\n",
       "      <td>Marketing</td>\n",
       "      <td>(217)987-6600</td>\n",
       "      <td>2019-12-01</td>\n",
       "      <td>160500</td>\n",
       "    </tr>\n",
       "  </tbody>\n",
       "</table>\n",
       "</div>"
      ],
      "text/plain": [
       "   emp_id     name       dept   office_phone  start_date  salary\n",
       "2      10     Prit      Sales            NaN  2020-08-01  240000\n",
       "0      30   Nicole      Sales  (217)123-4500  2017-05-01  202000\n",
       "1      40    Erisa  Marketing            NaN  2018-02-01  185000\n",
       "3      20  Claudia  Marketing  (217)987-6600  2019-12-01  160500"
      ]
     },
     "execution_count": 27,
     "metadata": {},
     "output_type": "execute_result"
    }
   ],
   "source": [
    "# YOUR CODE BEGINS\n",
    "df_emp.sort_values(['dept', 'name'], ascending=[False, False], inplace=True)\n",
    "# YOUR CODE ENDS\n",
    "\n",
    "df_emp"
   ]
  },
  {
   "cell_type": "markdown",
   "metadata": {},
   "source": [
    "#### 🧭 Check Your Work\n",
    "\n",
    "- Once you're done, run the code cell below to test correctness.\n",
    "- ✔️ If the code cell runs without an error, you're good to move on.\n",
    "- ❌ If the code cell throws an error, go back and fix incorrect parts."
   ]
  },
  {
   "cell_type": "code",
   "execution_count": 28,
   "metadata": {},
   "outputs": [],
   "source": [
    "# Check result\n",
    "pd.testing.assert_frame_equal(df_emp.reset_index(drop=True),\n",
    "                              df_emp_backup.sort_values([''.join(['dE', 'Pt']).lower(), ('nA' + 'Me').lower()], ascending=[bool(0), bool(0)]).reset_index(drop=True))"
   ]
  },
  {
   "cell_type": "markdown",
   "metadata": {},
   "source": [
    "---\n",
    "\n",
    "## 👉 Renaming Column(s)\n",
    "\n",
    "You can rename a column using `df.rename(columns={'name_before': 'name_after'})`."
   ]
  },
  {
   "cell_type": "markdown",
   "metadata": {},
   "source": [
    "---\n",
    "\n",
    "### 🎯 Mini-exercise: Rename `office_phone` to `phone_num`"
   ]
  },
  {
   "cell_type": "markdown",
   "metadata": {},
   "source": [
    "#### 👇 Tasks\n",
    "\n",
    "- ✔️ Rename `office_phone` column to `phone_num`.\n",
    "- ✔️ Store the result to a new variable named `df_renamed`.\n",
    "- ✔️ Your `df_emp` should remain unaltered."
   ]
  },
  {
   "cell_type": "markdown",
   "metadata": {},
   "source": [
    "#### 🚀 Hints\n",
    "\n",
    "Use the following code to rename `col_before` column to `col_after` *out-of-place*.\n",
    "\n",
    "```python\n",
    "renamed_dataframe = my_dataframe.rename(columns={'col_before': 'col_after'})\n",
    "```"
   ]
  },
  {
   "cell_type": "markdown",
   "metadata": {},
   "source": [
    "▶️ Run the code cell below to reset your `df_emp`."
   ]
  },
  {
   "cell_type": "code",
   "execution_count": 29,
   "metadata": {},
   "outputs": [
    {
     "data": {
      "text/html": [
       "<div>\n",
       "<style scoped>\n",
       "    .dataframe tbody tr th:only-of-type {\n",
       "        vertical-align: middle;\n",
       "    }\n",
       "\n",
       "    .dataframe tbody tr th {\n",
       "        vertical-align: top;\n",
       "    }\n",
       "\n",
       "    .dataframe thead th {\n",
       "        text-align: right;\n",
       "    }\n",
       "</style>\n",
       "<table border=\"1\" class=\"dataframe\">\n",
       "  <thead>\n",
       "    <tr style=\"text-align: right;\">\n",
       "      <th></th>\n",
       "      <th>emp_id</th>\n",
       "      <th>name</th>\n",
       "      <th>dept</th>\n",
       "      <th>office_phone</th>\n",
       "      <th>start_date</th>\n",
       "      <th>salary</th>\n",
       "    </tr>\n",
       "  </thead>\n",
       "  <tbody>\n",
       "    <tr>\n",
       "      <th>0</th>\n",
       "      <td>30</td>\n",
       "      <td>Nicole</td>\n",
       "      <td>Sales</td>\n",
       "      <td>(217)123-4500</td>\n",
       "      <td>2017-05-01</td>\n",
       "      <td>202000</td>\n",
       "    </tr>\n",
       "    <tr>\n",
       "      <th>1</th>\n",
       "      <td>40</td>\n",
       "      <td>Erisa</td>\n",
       "      <td>Marketing</td>\n",
       "      <td>NaN</td>\n",
       "      <td>2018-02-01</td>\n",
       "      <td>185000</td>\n",
       "    </tr>\n",
       "    <tr>\n",
       "      <th>2</th>\n",
       "      <td>10</td>\n",
       "      <td>Prit</td>\n",
       "      <td>Sales</td>\n",
       "      <td>NaN</td>\n",
       "      <td>2020-08-01</td>\n",
       "      <td>240000</td>\n",
       "    </tr>\n",
       "    <tr>\n",
       "      <th>3</th>\n",
       "      <td>20</td>\n",
       "      <td>Claudia</td>\n",
       "      <td>Marketing</td>\n",
       "      <td>(217)987-6600</td>\n",
       "      <td>2019-12-01</td>\n",
       "      <td>160500</td>\n",
       "    </tr>\n",
       "  </tbody>\n",
       "</table>\n",
       "</div>"
      ],
      "text/plain": [
       "   emp_id     name       dept   office_phone  start_date  salary\n",
       "0      30   Nicole      Sales  (217)123-4500  2017-05-01  202000\n",
       "1      40    Erisa  Marketing            NaN  2018-02-01  185000\n",
       "2      10     Prit      Sales            NaN  2020-08-01  240000\n",
       "3      20  Claudia  Marketing  (217)987-6600  2019-12-01  160500"
      ]
     },
     "execution_count": 29,
     "metadata": {},
     "output_type": "execute_result"
    }
   ],
   "source": [
    "df_emp = df_emp_backup.copy()\n",
    "df_emp"
   ]
  },
  {
   "cell_type": "code",
   "execution_count": 30,
   "metadata": {},
   "outputs": [
    {
     "data": {
      "text/html": [
       "<div>\n",
       "<style scoped>\n",
       "    .dataframe tbody tr th:only-of-type {\n",
       "        vertical-align: middle;\n",
       "    }\n",
       "\n",
       "    .dataframe tbody tr th {\n",
       "        vertical-align: top;\n",
       "    }\n",
       "\n",
       "    .dataframe thead th {\n",
       "        text-align: right;\n",
       "    }\n",
       "</style>\n",
       "<table border=\"1\" class=\"dataframe\">\n",
       "  <thead>\n",
       "    <tr style=\"text-align: right;\">\n",
       "      <th></th>\n",
       "      <th>emp_id</th>\n",
       "      <th>name</th>\n",
       "      <th>dept</th>\n",
       "      <th>phone_num</th>\n",
       "      <th>start_date</th>\n",
       "      <th>salary</th>\n",
       "    </tr>\n",
       "  </thead>\n",
       "  <tbody>\n",
       "    <tr>\n",
       "      <th>0</th>\n",
       "      <td>30</td>\n",
       "      <td>Nicole</td>\n",
       "      <td>Sales</td>\n",
       "      <td>(217)123-4500</td>\n",
       "      <td>2017-05-01</td>\n",
       "      <td>202000</td>\n",
       "    </tr>\n",
       "    <tr>\n",
       "      <th>1</th>\n",
       "      <td>40</td>\n",
       "      <td>Erisa</td>\n",
       "      <td>Marketing</td>\n",
       "      <td>NaN</td>\n",
       "      <td>2018-02-01</td>\n",
       "      <td>185000</td>\n",
       "    </tr>\n",
       "    <tr>\n",
       "      <th>2</th>\n",
       "      <td>10</td>\n",
       "      <td>Prit</td>\n",
       "      <td>Sales</td>\n",
       "      <td>NaN</td>\n",
       "      <td>2020-08-01</td>\n",
       "      <td>240000</td>\n",
       "    </tr>\n",
       "    <tr>\n",
       "      <th>3</th>\n",
       "      <td>20</td>\n",
       "      <td>Claudia</td>\n",
       "      <td>Marketing</td>\n",
       "      <td>(217)987-6600</td>\n",
       "      <td>2019-12-01</td>\n",
       "      <td>160500</td>\n",
       "    </tr>\n",
       "  </tbody>\n",
       "</table>\n",
       "</div>"
      ],
      "text/plain": [
       "   emp_id     name       dept      phone_num  start_date  salary\n",
       "0      30   Nicole      Sales  (217)123-4500  2017-05-01  202000\n",
       "1      40    Erisa  Marketing            NaN  2018-02-01  185000\n",
       "2      10     Prit      Sales            NaN  2020-08-01  240000\n",
       "3      20  Claudia  Marketing  (217)987-6600  2019-12-01  160500"
      ]
     },
     "execution_count": 30,
     "metadata": {},
     "output_type": "execute_result"
    }
   ],
   "source": [
    "# YOUR CODE BEGINS\n",
    "df_renamed = df_emp.rename(columns={'office_phone': 'phone_num'})\n",
    "# YOUR CODE ENDS\n",
    "\n",
    "df_renamed"
   ]
  },
  {
   "cell_type": "markdown",
   "metadata": {},
   "source": [
    "#### 🧭 Check Your Work\n",
    "\n",
    "- Once you're done, run the code cell below to test correctness.\n",
    "- ✔️ If the code cell runs without an error, you're good to move on.\n",
    "- ❌ If the code cell throws an error, go back and fix incorrect parts."
   ]
  },
  {
   "cell_type": "code",
   "execution_count": 31,
   "metadata": {},
   "outputs": [],
   "source": [
    "# Check result\n",
    "tc.assertEqual(df_emp.columns.tolist(), df_emp_backup.columns.tolist())\n",
    "tc.assertEqual(df_renamed.columns.tolist(), ['emp_id', 'name', 'dept', 'phone_num', 'start_date', 'salary'])"
   ]
  },
  {
   "cell_type": "markdown",
   "metadata": {},
   "source": [
    "---\n",
    "\n",
    "### 🎯 Mini-exercise: Rename `office_phone` to `phone_num` **in-place**"
   ]
  },
  {
   "cell_type": "markdown",
   "metadata": {},
   "source": [
    "#### 👇 Tasks\n",
    "\n",
    "- ✔️ Rename `office_phone` column to `phone_num` *in-place*.\n",
    "    - Directly update `df_emp` without creating a new variable."
   ]
  },
  {
   "cell_type": "markdown",
   "metadata": {},
   "source": [
    "#### 🚀 Hints\n",
    "\n",
    "Use the following code to rename `col_before` column to `col_after` *in-place*.\n",
    "\n",
    "```python\n",
    "my_dataframe.rename(columns={'col_before': 'col_after'}, inplace=True)\n",
    "```"
   ]
  },
  {
   "cell_type": "markdown",
   "metadata": {},
   "source": [
    "▶️ Run the code cell below to reset your `df_emp`."
   ]
  },
  {
   "cell_type": "code",
   "execution_count": 32,
   "metadata": {},
   "outputs": [
    {
     "data": {
      "text/html": [
       "<div>\n",
       "<style scoped>\n",
       "    .dataframe tbody tr th:only-of-type {\n",
       "        vertical-align: middle;\n",
       "    }\n",
       "\n",
       "    .dataframe tbody tr th {\n",
       "        vertical-align: top;\n",
       "    }\n",
       "\n",
       "    .dataframe thead th {\n",
       "        text-align: right;\n",
       "    }\n",
       "</style>\n",
       "<table border=\"1\" class=\"dataframe\">\n",
       "  <thead>\n",
       "    <tr style=\"text-align: right;\">\n",
       "      <th></th>\n",
       "      <th>emp_id</th>\n",
       "      <th>name</th>\n",
       "      <th>dept</th>\n",
       "      <th>office_phone</th>\n",
       "      <th>start_date</th>\n",
       "      <th>salary</th>\n",
       "    </tr>\n",
       "  </thead>\n",
       "  <tbody>\n",
       "    <tr>\n",
       "      <th>0</th>\n",
       "      <td>30</td>\n",
       "      <td>Nicole</td>\n",
       "      <td>Sales</td>\n",
       "      <td>(217)123-4500</td>\n",
       "      <td>2017-05-01</td>\n",
       "      <td>202000</td>\n",
       "    </tr>\n",
       "    <tr>\n",
       "      <th>1</th>\n",
       "      <td>40</td>\n",
       "      <td>Erisa</td>\n",
       "      <td>Marketing</td>\n",
       "      <td>NaN</td>\n",
       "      <td>2018-02-01</td>\n",
       "      <td>185000</td>\n",
       "    </tr>\n",
       "    <tr>\n",
       "      <th>2</th>\n",
       "      <td>10</td>\n",
       "      <td>Prit</td>\n",
       "      <td>Sales</td>\n",
       "      <td>NaN</td>\n",
       "      <td>2020-08-01</td>\n",
       "      <td>240000</td>\n",
       "    </tr>\n",
       "    <tr>\n",
       "      <th>3</th>\n",
       "      <td>20</td>\n",
       "      <td>Claudia</td>\n",
       "      <td>Marketing</td>\n",
       "      <td>(217)987-6600</td>\n",
       "      <td>2019-12-01</td>\n",
       "      <td>160500</td>\n",
       "    </tr>\n",
       "  </tbody>\n",
       "</table>\n",
       "</div>"
      ],
      "text/plain": [
       "   emp_id     name       dept   office_phone  start_date  salary\n",
       "0      30   Nicole      Sales  (217)123-4500  2017-05-01  202000\n",
       "1      40    Erisa  Marketing            NaN  2018-02-01  185000\n",
       "2      10     Prit      Sales            NaN  2020-08-01  240000\n",
       "3      20  Claudia  Marketing  (217)987-6600  2019-12-01  160500"
      ]
     },
     "execution_count": 32,
     "metadata": {},
     "output_type": "execute_result"
    }
   ],
   "source": [
    "df_emp = df_emp_backup.copy()\n",
    "df_emp"
   ]
  },
  {
   "cell_type": "code",
   "execution_count": 33,
   "metadata": {},
   "outputs": [
    {
     "data": {
      "text/html": [
       "<div>\n",
       "<style scoped>\n",
       "    .dataframe tbody tr th:only-of-type {\n",
       "        vertical-align: middle;\n",
       "    }\n",
       "\n",
       "    .dataframe tbody tr th {\n",
       "        vertical-align: top;\n",
       "    }\n",
       "\n",
       "    .dataframe thead th {\n",
       "        text-align: right;\n",
       "    }\n",
       "</style>\n",
       "<table border=\"1\" class=\"dataframe\">\n",
       "  <thead>\n",
       "    <tr style=\"text-align: right;\">\n",
       "      <th></th>\n",
       "      <th>emp_id</th>\n",
       "      <th>name</th>\n",
       "      <th>dept</th>\n",
       "      <th>phone_num</th>\n",
       "      <th>start_date</th>\n",
       "      <th>salary</th>\n",
       "    </tr>\n",
       "  </thead>\n",
       "  <tbody>\n",
       "    <tr>\n",
       "      <th>0</th>\n",
       "      <td>30</td>\n",
       "      <td>Nicole</td>\n",
       "      <td>Sales</td>\n",
       "      <td>(217)123-4500</td>\n",
       "      <td>2017-05-01</td>\n",
       "      <td>202000</td>\n",
       "    </tr>\n",
       "    <tr>\n",
       "      <th>1</th>\n",
       "      <td>40</td>\n",
       "      <td>Erisa</td>\n",
       "      <td>Marketing</td>\n",
       "      <td>NaN</td>\n",
       "      <td>2018-02-01</td>\n",
       "      <td>185000</td>\n",
       "    </tr>\n",
       "    <tr>\n",
       "      <th>2</th>\n",
       "      <td>10</td>\n",
       "      <td>Prit</td>\n",
       "      <td>Sales</td>\n",
       "      <td>NaN</td>\n",
       "      <td>2020-08-01</td>\n",
       "      <td>240000</td>\n",
       "    </tr>\n",
       "    <tr>\n",
       "      <th>3</th>\n",
       "      <td>20</td>\n",
       "      <td>Claudia</td>\n",
       "      <td>Marketing</td>\n",
       "      <td>(217)987-6600</td>\n",
       "      <td>2019-12-01</td>\n",
       "      <td>160500</td>\n",
       "    </tr>\n",
       "  </tbody>\n",
       "</table>\n",
       "</div>"
      ],
      "text/plain": [
       "   emp_id     name       dept      phone_num  start_date  salary\n",
       "0      30   Nicole      Sales  (217)123-4500  2017-05-01  202000\n",
       "1      40    Erisa  Marketing            NaN  2018-02-01  185000\n",
       "2      10     Prit      Sales            NaN  2020-08-01  240000\n",
       "3      20  Claudia  Marketing  (217)987-6600  2019-12-01  160500"
      ]
     },
     "execution_count": 33,
     "metadata": {},
     "output_type": "execute_result"
    }
   ],
   "source": [
    "# YOUR CODE BEGINS\n",
    "df_emp.rename(columns={'office_phone': 'phone_num'}, inplace=True)\n",
    "# YOUR CODE ENDS\n",
    "\n",
    "df_emp"
   ]
  },
  {
   "cell_type": "markdown",
   "metadata": {},
   "source": [
    "#### 🧭 Check Your Work\n",
    "\n",
    "- Once you're done, run the code cell below to test correctness.\n",
    "- ✔️ If the code cell runs without an error, you're good to move on.\n",
    "- ❌ If the code cell throws an error, go back and fix incorrect parts."
   ]
  },
  {
   "cell_type": "code",
   "execution_count": 34,
   "metadata": {},
   "outputs": [],
   "source": [
    "# Check result\n",
    "tc.assertEqual(df_emp.columns.tolist(), ['emp_id', 'name', 'dept', 'phone_num', 'start_date', 'salary'])"
   ]
  },
  {
   "cell_type": "markdown",
   "metadata": {},
   "source": [
    "---\n",
    "\n",
    "### 🎯 Mini-exercise: Rename `name` to `first_name` and `salary` to `base_salary` **in-place**"
   ]
  },
  {
   "cell_type": "markdown",
   "metadata": {},
   "source": [
    "#### 👇 Tasks\n",
    "\n",
    "- ✔️ Rename `name` column to `first_name` and `salary` to `base_salary` *in-place*.\n",
    "    - Directly update `df_emp` without creating a new variable."
   ]
  },
  {
   "cell_type": "markdown",
   "metadata": {},
   "source": [
    "#### 🚀 Hints\n",
    "\n",
    "Use the following code as a reference.\n",
    "\n",
    "```python\n",
    "my_dataframe.rename(columns={'col_before1': 'col_after1', 'col_before2': 'col_after2'}, inplace=True)\n",
    "```"
   ]
  },
  {
   "cell_type": "markdown",
   "metadata": {},
   "source": [
    "▶️ Run the code cell below to reset your `df_emp`."
   ]
  },
  {
   "cell_type": "code",
   "execution_count": 35,
   "metadata": {},
   "outputs": [
    {
     "data": {
      "text/html": [
       "<div>\n",
       "<style scoped>\n",
       "    .dataframe tbody tr th:only-of-type {\n",
       "        vertical-align: middle;\n",
       "    }\n",
       "\n",
       "    .dataframe tbody tr th {\n",
       "        vertical-align: top;\n",
       "    }\n",
       "\n",
       "    .dataframe thead th {\n",
       "        text-align: right;\n",
       "    }\n",
       "</style>\n",
       "<table border=\"1\" class=\"dataframe\">\n",
       "  <thead>\n",
       "    <tr style=\"text-align: right;\">\n",
       "      <th></th>\n",
       "      <th>emp_id</th>\n",
       "      <th>name</th>\n",
       "      <th>dept</th>\n",
       "      <th>office_phone</th>\n",
       "      <th>start_date</th>\n",
       "      <th>salary</th>\n",
       "    </tr>\n",
       "  </thead>\n",
       "  <tbody>\n",
       "    <tr>\n",
       "      <th>0</th>\n",
       "      <td>30</td>\n",
       "      <td>Nicole</td>\n",
       "      <td>Sales</td>\n",
       "      <td>(217)123-4500</td>\n",
       "      <td>2017-05-01</td>\n",
       "      <td>202000</td>\n",
       "    </tr>\n",
       "    <tr>\n",
       "      <th>1</th>\n",
       "      <td>40</td>\n",
       "      <td>Erisa</td>\n",
       "      <td>Marketing</td>\n",
       "      <td>NaN</td>\n",
       "      <td>2018-02-01</td>\n",
       "      <td>185000</td>\n",
       "    </tr>\n",
       "    <tr>\n",
       "      <th>2</th>\n",
       "      <td>10</td>\n",
       "      <td>Prit</td>\n",
       "      <td>Sales</td>\n",
       "      <td>NaN</td>\n",
       "      <td>2020-08-01</td>\n",
       "      <td>240000</td>\n",
       "    </tr>\n",
       "    <tr>\n",
       "      <th>3</th>\n",
       "      <td>20</td>\n",
       "      <td>Claudia</td>\n",
       "      <td>Marketing</td>\n",
       "      <td>(217)987-6600</td>\n",
       "      <td>2019-12-01</td>\n",
       "      <td>160500</td>\n",
       "    </tr>\n",
       "  </tbody>\n",
       "</table>\n",
       "</div>"
      ],
      "text/plain": [
       "   emp_id     name       dept   office_phone  start_date  salary\n",
       "0      30   Nicole      Sales  (217)123-4500  2017-05-01  202000\n",
       "1      40    Erisa  Marketing            NaN  2018-02-01  185000\n",
       "2      10     Prit      Sales            NaN  2020-08-01  240000\n",
       "3      20  Claudia  Marketing  (217)987-6600  2019-12-01  160500"
      ]
     },
     "execution_count": 35,
     "metadata": {},
     "output_type": "execute_result"
    }
   ],
   "source": [
    "df_emp = df_emp_backup.copy()\n",
    "df_emp"
   ]
  },
  {
   "cell_type": "code",
   "execution_count": 36,
   "metadata": {},
   "outputs": [
    {
     "data": {
      "text/html": [
       "<div>\n",
       "<style scoped>\n",
       "    .dataframe tbody tr th:only-of-type {\n",
       "        vertical-align: middle;\n",
       "    }\n",
       "\n",
       "    .dataframe tbody tr th {\n",
       "        vertical-align: top;\n",
       "    }\n",
       "\n",
       "    .dataframe thead th {\n",
       "        text-align: right;\n",
       "    }\n",
       "</style>\n",
       "<table border=\"1\" class=\"dataframe\">\n",
       "  <thead>\n",
       "    <tr style=\"text-align: right;\">\n",
       "      <th></th>\n",
       "      <th>emp_id</th>\n",
       "      <th>first_name</th>\n",
       "      <th>dept</th>\n",
       "      <th>office_phone</th>\n",
       "      <th>start_date</th>\n",
       "      <th>base_salary</th>\n",
       "    </tr>\n",
       "  </thead>\n",
       "  <tbody>\n",
       "    <tr>\n",
       "      <th>0</th>\n",
       "      <td>30</td>\n",
       "      <td>Nicole</td>\n",
       "      <td>Sales</td>\n",
       "      <td>(217)123-4500</td>\n",
       "      <td>2017-05-01</td>\n",
       "      <td>202000</td>\n",
       "    </tr>\n",
       "    <tr>\n",
       "      <th>1</th>\n",
       "      <td>40</td>\n",
       "      <td>Erisa</td>\n",
       "      <td>Marketing</td>\n",
       "      <td>NaN</td>\n",
       "      <td>2018-02-01</td>\n",
       "      <td>185000</td>\n",
       "    </tr>\n",
       "    <tr>\n",
       "      <th>2</th>\n",
       "      <td>10</td>\n",
       "      <td>Prit</td>\n",
       "      <td>Sales</td>\n",
       "      <td>NaN</td>\n",
       "      <td>2020-08-01</td>\n",
       "      <td>240000</td>\n",
       "    </tr>\n",
       "    <tr>\n",
       "      <th>3</th>\n",
       "      <td>20</td>\n",
       "      <td>Claudia</td>\n",
       "      <td>Marketing</td>\n",
       "      <td>(217)987-6600</td>\n",
       "      <td>2019-12-01</td>\n",
       "      <td>160500</td>\n",
       "    </tr>\n",
       "  </tbody>\n",
       "</table>\n",
       "</div>"
      ],
      "text/plain": [
       "   emp_id first_name       dept   office_phone  start_date  base_salary\n",
       "0      30     Nicole      Sales  (217)123-4500  2017-05-01       202000\n",
       "1      40      Erisa  Marketing            NaN  2018-02-01       185000\n",
       "2      10       Prit      Sales            NaN  2020-08-01       240000\n",
       "3      20    Claudia  Marketing  (217)987-6600  2019-12-01       160500"
      ]
     },
     "execution_count": 36,
     "metadata": {},
     "output_type": "execute_result"
    }
   ],
   "source": [
    "# YOUR CODE BEGINS\n",
    "df_emp.rename(columns={'name': 'first_name', 'salary': 'base_salary'}, inplace=True)\n",
    "# YOUR CODE ENDS\n",
    "\n",
    "df_emp"
   ]
  },
  {
   "cell_type": "markdown",
   "metadata": {},
   "source": [
    "#### 🧭 Check Your Work\n",
    "\n",
    "- Once you're done, run the code cell below to test correctness.\n",
    "- ✔️ If the code cell runs without an error, you're good to move on.\n",
    "- ❌ If the code cell throws an error, go back and fix incorrect parts."
   ]
  },
  {
   "cell_type": "code",
   "execution_count": 37,
   "metadata": {},
   "outputs": [],
   "source": [
    "# Check result\n",
    "tc.assertEqual(df_emp.columns.tolist(), ['emp_id', 'first_name', 'dept', 'office_phone', 'start_date', 'base_salary'])"
   ]
  },
  {
   "cell_type": "markdown",
   "metadata": {},
   "source": [
    "---\n",
    "\n",
    "## 👉 Dropping Column(s)\n",
    "\n",
    "You can rename a column using `df.drop(columns=['col1', 'col2'])`."
   ]
  },
  {
   "cell_type": "markdown",
   "metadata": {},
   "source": [
    "---\n",
    "\n",
    "### 🎯 Mini-exercise: Drop `start_date` column"
   ]
  },
  {
   "cell_type": "markdown",
   "metadata": {},
   "source": [
    "#### 👇 Tasks\n",
    "\n",
    "- ✔️ Drop `start_date` column from `df_emp`.\n",
    "- ✔️ Store the result to a new variable named `df_dropped`.\n",
    "- ✔️ Your `df_emp` should remain unaltered."
   ]
  },
  {
   "cell_type": "markdown",
   "metadata": {},
   "source": [
    "#### 🚀 Hints\n",
    "\n",
    "Use the following code as a reference.\n",
    "\n",
    "```python\n",
    "dropped_dataframe = my_dataframe.drop(columns=['my_column1'])\n",
    "```"
   ]
  },
  {
   "cell_type": "markdown",
   "metadata": {},
   "source": [
    "▶️ Run the code cell below to reset your `df_emp`."
   ]
  },
  {
   "cell_type": "code",
   "execution_count": 38,
   "metadata": {},
   "outputs": [
    {
     "data": {
      "text/html": [
       "<div>\n",
       "<style scoped>\n",
       "    .dataframe tbody tr th:only-of-type {\n",
       "        vertical-align: middle;\n",
       "    }\n",
       "\n",
       "    .dataframe tbody tr th {\n",
       "        vertical-align: top;\n",
       "    }\n",
       "\n",
       "    .dataframe thead th {\n",
       "        text-align: right;\n",
       "    }\n",
       "</style>\n",
       "<table border=\"1\" class=\"dataframe\">\n",
       "  <thead>\n",
       "    <tr style=\"text-align: right;\">\n",
       "      <th></th>\n",
       "      <th>emp_id</th>\n",
       "      <th>name</th>\n",
       "      <th>dept</th>\n",
       "      <th>office_phone</th>\n",
       "      <th>start_date</th>\n",
       "      <th>salary</th>\n",
       "    </tr>\n",
       "  </thead>\n",
       "  <tbody>\n",
       "    <tr>\n",
       "      <th>0</th>\n",
       "      <td>30</td>\n",
       "      <td>Nicole</td>\n",
       "      <td>Sales</td>\n",
       "      <td>(217)123-4500</td>\n",
       "      <td>2017-05-01</td>\n",
       "      <td>202000</td>\n",
       "    </tr>\n",
       "    <tr>\n",
       "      <th>1</th>\n",
       "      <td>40</td>\n",
       "      <td>Erisa</td>\n",
       "      <td>Marketing</td>\n",
       "      <td>NaN</td>\n",
       "      <td>2018-02-01</td>\n",
       "      <td>185000</td>\n",
       "    </tr>\n",
       "    <tr>\n",
       "      <th>2</th>\n",
       "      <td>10</td>\n",
       "      <td>Prit</td>\n",
       "      <td>Sales</td>\n",
       "      <td>NaN</td>\n",
       "      <td>2020-08-01</td>\n",
       "      <td>240000</td>\n",
       "    </tr>\n",
       "    <tr>\n",
       "      <th>3</th>\n",
       "      <td>20</td>\n",
       "      <td>Claudia</td>\n",
       "      <td>Marketing</td>\n",
       "      <td>(217)987-6600</td>\n",
       "      <td>2019-12-01</td>\n",
       "      <td>160500</td>\n",
       "    </tr>\n",
       "  </tbody>\n",
       "</table>\n",
       "</div>"
      ],
      "text/plain": [
       "   emp_id     name       dept   office_phone  start_date  salary\n",
       "0      30   Nicole      Sales  (217)123-4500  2017-05-01  202000\n",
       "1      40    Erisa  Marketing            NaN  2018-02-01  185000\n",
       "2      10     Prit      Sales            NaN  2020-08-01  240000\n",
       "3      20  Claudia  Marketing  (217)987-6600  2019-12-01  160500"
      ]
     },
     "execution_count": 38,
     "metadata": {},
     "output_type": "execute_result"
    }
   ],
   "source": [
    "df_emp = df_emp_backup.copy()\n",
    "df_emp"
   ]
  },
  {
   "cell_type": "code",
   "execution_count": 39,
   "metadata": {},
   "outputs": [
    {
     "data": {
      "text/html": [
       "<div>\n",
       "<style scoped>\n",
       "    .dataframe tbody tr th:only-of-type {\n",
       "        vertical-align: middle;\n",
       "    }\n",
       "\n",
       "    .dataframe tbody tr th {\n",
       "        vertical-align: top;\n",
       "    }\n",
       "\n",
       "    .dataframe thead th {\n",
       "        text-align: right;\n",
       "    }\n",
       "</style>\n",
       "<table border=\"1\" class=\"dataframe\">\n",
       "  <thead>\n",
       "    <tr style=\"text-align: right;\">\n",
       "      <th></th>\n",
       "      <th>emp_id</th>\n",
       "      <th>name</th>\n",
       "      <th>dept</th>\n",
       "      <th>office_phone</th>\n",
       "      <th>salary</th>\n",
       "    </tr>\n",
       "  </thead>\n",
       "  <tbody>\n",
       "    <tr>\n",
       "      <th>0</th>\n",
       "      <td>30</td>\n",
       "      <td>Nicole</td>\n",
       "      <td>Sales</td>\n",
       "      <td>(217)123-4500</td>\n",
       "      <td>202000</td>\n",
       "    </tr>\n",
       "    <tr>\n",
       "      <th>1</th>\n",
       "      <td>40</td>\n",
       "      <td>Erisa</td>\n",
       "      <td>Marketing</td>\n",
       "      <td>NaN</td>\n",
       "      <td>185000</td>\n",
       "    </tr>\n",
       "    <tr>\n",
       "      <th>2</th>\n",
       "      <td>10</td>\n",
       "      <td>Prit</td>\n",
       "      <td>Sales</td>\n",
       "      <td>NaN</td>\n",
       "      <td>240000</td>\n",
       "    </tr>\n",
       "    <tr>\n",
       "      <th>3</th>\n",
       "      <td>20</td>\n",
       "      <td>Claudia</td>\n",
       "      <td>Marketing</td>\n",
       "      <td>(217)987-6600</td>\n",
       "      <td>160500</td>\n",
       "    </tr>\n",
       "  </tbody>\n",
       "</table>\n",
       "</div>"
      ],
      "text/plain": [
       "   emp_id     name       dept   office_phone  salary\n",
       "0      30   Nicole      Sales  (217)123-4500  202000\n",
       "1      40    Erisa  Marketing            NaN  185000\n",
       "2      10     Prit      Sales            NaN  240000\n",
       "3      20  Claudia  Marketing  (217)987-6600  160500"
      ]
     },
     "execution_count": 39,
     "metadata": {},
     "output_type": "execute_result"
    }
   ],
   "source": [
    "# YOUR CODE BEGINS\n",
    "df_dropped = df_emp.drop(columns=['start_date'])\n",
    "# YOUR CODE ENDS\n",
    "\n",
    "df_dropped"
   ]
  },
  {
   "cell_type": "markdown",
   "metadata": {},
   "source": [
    "#### 🧭 Check Your Work\n",
    "\n",
    "- Once you're done, run the code cell below to test correctness.\n",
    "- ✔️ If the code cell runs without an error, you're good to move on.\n",
    "- ❌ If the code cell throws an error, go back and fix incorrect parts."
   ]
  },
  {
   "cell_type": "code",
   "execution_count": 40,
   "metadata": {},
   "outputs": [],
   "source": [
    "# Check result\n",
    "tc.assertEqual(df_emp.columns.tolist(), df_emp_backup.columns.tolist())\n",
    "tc.assertEqual(df_dropped.columns.tolist(), ['emp_id', 'name', 'dept', 'office_phone', 'salary'])"
   ]
  },
  {
   "cell_type": "markdown",
   "metadata": {},
   "source": [
    "---\n",
    "\n",
    "### 🎯 Mini-exercise: Drop `start_date` column **in-place**"
   ]
  },
  {
   "cell_type": "markdown",
   "metadata": {},
   "source": [
    "#### 👇 Tasks\n",
    "\n",
    "- ✔️ Drop `start_date` column *in-place*.\n",
    "    - Directly update `df_emp` without creating a new variable."
   ]
  },
  {
   "cell_type": "markdown",
   "metadata": {},
   "source": [
    "#### 🚀 Hints\n",
    "\n",
    "Use the following code as a reference.\n",
    "\n",
    "```python\n",
    "my_dataframe.drop(columns=['my_column1'], inplace=True)\n",
    "```"
   ]
  },
  {
   "cell_type": "markdown",
   "metadata": {},
   "source": [
    "▶️ Run the code cell below to reset your `df_emp`."
   ]
  },
  {
   "cell_type": "code",
   "execution_count": 41,
   "metadata": {},
   "outputs": [
    {
     "data": {
      "text/html": [
       "<div>\n",
       "<style scoped>\n",
       "    .dataframe tbody tr th:only-of-type {\n",
       "        vertical-align: middle;\n",
       "    }\n",
       "\n",
       "    .dataframe tbody tr th {\n",
       "        vertical-align: top;\n",
       "    }\n",
       "\n",
       "    .dataframe thead th {\n",
       "        text-align: right;\n",
       "    }\n",
       "</style>\n",
       "<table border=\"1\" class=\"dataframe\">\n",
       "  <thead>\n",
       "    <tr style=\"text-align: right;\">\n",
       "      <th></th>\n",
       "      <th>emp_id</th>\n",
       "      <th>name</th>\n",
       "      <th>dept</th>\n",
       "      <th>office_phone</th>\n",
       "      <th>start_date</th>\n",
       "      <th>salary</th>\n",
       "    </tr>\n",
       "  </thead>\n",
       "  <tbody>\n",
       "    <tr>\n",
       "      <th>0</th>\n",
       "      <td>30</td>\n",
       "      <td>Nicole</td>\n",
       "      <td>Sales</td>\n",
       "      <td>(217)123-4500</td>\n",
       "      <td>2017-05-01</td>\n",
       "      <td>202000</td>\n",
       "    </tr>\n",
       "    <tr>\n",
       "      <th>1</th>\n",
       "      <td>40</td>\n",
       "      <td>Erisa</td>\n",
       "      <td>Marketing</td>\n",
       "      <td>NaN</td>\n",
       "      <td>2018-02-01</td>\n",
       "      <td>185000</td>\n",
       "    </tr>\n",
       "    <tr>\n",
       "      <th>2</th>\n",
       "      <td>10</td>\n",
       "      <td>Prit</td>\n",
       "      <td>Sales</td>\n",
       "      <td>NaN</td>\n",
       "      <td>2020-08-01</td>\n",
       "      <td>240000</td>\n",
       "    </tr>\n",
       "    <tr>\n",
       "      <th>3</th>\n",
       "      <td>20</td>\n",
       "      <td>Claudia</td>\n",
       "      <td>Marketing</td>\n",
       "      <td>(217)987-6600</td>\n",
       "      <td>2019-12-01</td>\n",
       "      <td>160500</td>\n",
       "    </tr>\n",
       "  </tbody>\n",
       "</table>\n",
       "</div>"
      ],
      "text/plain": [
       "   emp_id     name       dept   office_phone  start_date  salary\n",
       "0      30   Nicole      Sales  (217)123-4500  2017-05-01  202000\n",
       "1      40    Erisa  Marketing            NaN  2018-02-01  185000\n",
       "2      10     Prit      Sales            NaN  2020-08-01  240000\n",
       "3      20  Claudia  Marketing  (217)987-6600  2019-12-01  160500"
      ]
     },
     "execution_count": 41,
     "metadata": {},
     "output_type": "execute_result"
    }
   ],
   "source": [
    "df_emp = df_emp_backup.copy()\n",
    "df_emp"
   ]
  },
  {
   "cell_type": "code",
   "execution_count": 42,
   "metadata": {},
   "outputs": [
    {
     "data": {
      "text/html": [
       "<div>\n",
       "<style scoped>\n",
       "    .dataframe tbody tr th:only-of-type {\n",
       "        vertical-align: middle;\n",
       "    }\n",
       "\n",
       "    .dataframe tbody tr th {\n",
       "        vertical-align: top;\n",
       "    }\n",
       "\n",
       "    .dataframe thead th {\n",
       "        text-align: right;\n",
       "    }\n",
       "</style>\n",
       "<table border=\"1\" class=\"dataframe\">\n",
       "  <thead>\n",
       "    <tr style=\"text-align: right;\">\n",
       "      <th></th>\n",
       "      <th>emp_id</th>\n",
       "      <th>name</th>\n",
       "      <th>dept</th>\n",
       "      <th>office_phone</th>\n",
       "      <th>salary</th>\n",
       "    </tr>\n",
       "  </thead>\n",
       "  <tbody>\n",
       "    <tr>\n",
       "      <th>0</th>\n",
       "      <td>30</td>\n",
       "      <td>Nicole</td>\n",
       "      <td>Sales</td>\n",
       "      <td>(217)123-4500</td>\n",
       "      <td>202000</td>\n",
       "    </tr>\n",
       "    <tr>\n",
       "      <th>1</th>\n",
       "      <td>40</td>\n",
       "      <td>Erisa</td>\n",
       "      <td>Marketing</td>\n",
       "      <td>NaN</td>\n",
       "      <td>185000</td>\n",
       "    </tr>\n",
       "    <tr>\n",
       "      <th>2</th>\n",
       "      <td>10</td>\n",
       "      <td>Prit</td>\n",
       "      <td>Sales</td>\n",
       "      <td>NaN</td>\n",
       "      <td>240000</td>\n",
       "    </tr>\n",
       "    <tr>\n",
       "      <th>3</th>\n",
       "      <td>20</td>\n",
       "      <td>Claudia</td>\n",
       "      <td>Marketing</td>\n",
       "      <td>(217)987-6600</td>\n",
       "      <td>160500</td>\n",
       "    </tr>\n",
       "  </tbody>\n",
       "</table>\n",
       "</div>"
      ],
      "text/plain": [
       "   emp_id     name       dept   office_phone  salary\n",
       "0      30   Nicole      Sales  (217)123-4500  202000\n",
       "1      40    Erisa  Marketing            NaN  185000\n",
       "2      10     Prit      Sales            NaN  240000\n",
       "3      20  Claudia  Marketing  (217)987-6600  160500"
      ]
     },
     "execution_count": 42,
     "metadata": {},
     "output_type": "execute_result"
    }
   ],
   "source": [
    "# YOUR CODE BEGINS\n",
    "df_emp.drop(columns=['start_date'], inplace=True)\n",
    "# YOUR CODE ENDS\n",
    "\n",
    "df_emp"
   ]
  },
  {
   "cell_type": "markdown",
   "metadata": {},
   "source": [
    "#### 🧭 Check Your Work\n",
    "\n",
    "- Once you're done, run the code cell below to test correctness.\n",
    "- ✔️ If the code cell runs without an error, you're good to move on.\n",
    "- ❌ If the code cell throws an error, go back and fix incorrect parts."
   ]
  },
  {
   "cell_type": "code",
   "execution_count": 43,
   "metadata": {},
   "outputs": [],
   "source": [
    "# Check result\n",
    "tc.assertEqual(df_emp.columns.tolist(), ['emp_id', 'name', 'dept', 'office_phone', 'salary'])"
   ]
  },
  {
   "cell_type": "markdown",
   "metadata": {},
   "source": [
    "---\n",
    "\n",
    "### 🎯 Mini-exercise: Drop `name` and `salary` columns **in-place**"
   ]
  },
  {
   "cell_type": "markdown",
   "metadata": {},
   "source": [
    "#### 👇 Tasks\n",
    "\n",
    "- ✔️ Drop `name` and `salary` columns *in-place*.\n",
    "    - Directly update `df_emp` without creating a new variable."
   ]
  },
  {
   "cell_type": "markdown",
   "metadata": {},
   "source": [
    "#### 🚀 Hints\n",
    "\n",
    "Use the following code as a reference.\n",
    "\n",
    "```python\n",
    "my_dataframe.drop(columns=['my_column1', 'my_column2'], inplace=True)\n",
    "```"
   ]
  },
  {
   "cell_type": "markdown",
   "metadata": {},
   "source": [
    "▶️ Run the code cell below to reset your `df_emp`."
   ]
  },
  {
   "cell_type": "code",
   "execution_count": 44,
   "metadata": {},
   "outputs": [
    {
     "data": {
      "text/html": [
       "<div>\n",
       "<style scoped>\n",
       "    .dataframe tbody tr th:only-of-type {\n",
       "        vertical-align: middle;\n",
       "    }\n",
       "\n",
       "    .dataframe tbody tr th {\n",
       "        vertical-align: top;\n",
       "    }\n",
       "\n",
       "    .dataframe thead th {\n",
       "        text-align: right;\n",
       "    }\n",
       "</style>\n",
       "<table border=\"1\" class=\"dataframe\">\n",
       "  <thead>\n",
       "    <tr style=\"text-align: right;\">\n",
       "      <th></th>\n",
       "      <th>emp_id</th>\n",
       "      <th>name</th>\n",
       "      <th>dept</th>\n",
       "      <th>office_phone</th>\n",
       "      <th>start_date</th>\n",
       "      <th>salary</th>\n",
       "    </tr>\n",
       "  </thead>\n",
       "  <tbody>\n",
       "    <tr>\n",
       "      <th>0</th>\n",
       "      <td>30</td>\n",
       "      <td>Nicole</td>\n",
       "      <td>Sales</td>\n",
       "      <td>(217)123-4500</td>\n",
       "      <td>2017-05-01</td>\n",
       "      <td>202000</td>\n",
       "    </tr>\n",
       "    <tr>\n",
       "      <th>1</th>\n",
       "      <td>40</td>\n",
       "      <td>Erisa</td>\n",
       "      <td>Marketing</td>\n",
       "      <td>NaN</td>\n",
       "      <td>2018-02-01</td>\n",
       "      <td>185000</td>\n",
       "    </tr>\n",
       "    <tr>\n",
       "      <th>2</th>\n",
       "      <td>10</td>\n",
       "      <td>Prit</td>\n",
       "      <td>Sales</td>\n",
       "      <td>NaN</td>\n",
       "      <td>2020-08-01</td>\n",
       "      <td>240000</td>\n",
       "    </tr>\n",
       "    <tr>\n",
       "      <th>3</th>\n",
       "      <td>20</td>\n",
       "      <td>Claudia</td>\n",
       "      <td>Marketing</td>\n",
       "      <td>(217)987-6600</td>\n",
       "      <td>2019-12-01</td>\n",
       "      <td>160500</td>\n",
       "    </tr>\n",
       "  </tbody>\n",
       "</table>\n",
       "</div>"
      ],
      "text/plain": [
       "   emp_id     name       dept   office_phone  start_date  salary\n",
       "0      30   Nicole      Sales  (217)123-4500  2017-05-01  202000\n",
       "1      40    Erisa  Marketing            NaN  2018-02-01  185000\n",
       "2      10     Prit      Sales            NaN  2020-08-01  240000\n",
       "3      20  Claudia  Marketing  (217)987-6600  2019-12-01  160500"
      ]
     },
     "execution_count": 44,
     "metadata": {},
     "output_type": "execute_result"
    }
   ],
   "source": [
    "df_emp = df_emp_backup.copy()\n",
    "df_emp"
   ]
  },
  {
   "cell_type": "code",
   "execution_count": 45,
   "metadata": {},
   "outputs": [
    {
     "data": {
      "text/html": [
       "<div>\n",
       "<style scoped>\n",
       "    .dataframe tbody tr th:only-of-type {\n",
       "        vertical-align: middle;\n",
       "    }\n",
       "\n",
       "    .dataframe tbody tr th {\n",
       "        vertical-align: top;\n",
       "    }\n",
       "\n",
       "    .dataframe thead th {\n",
       "        text-align: right;\n",
       "    }\n",
       "</style>\n",
       "<table border=\"1\" class=\"dataframe\">\n",
       "  <thead>\n",
       "    <tr style=\"text-align: right;\">\n",
       "      <th></th>\n",
       "      <th>emp_id</th>\n",
       "      <th>dept</th>\n",
       "      <th>office_phone</th>\n",
       "      <th>start_date</th>\n",
       "    </tr>\n",
       "  </thead>\n",
       "  <tbody>\n",
       "    <tr>\n",
       "      <th>0</th>\n",
       "      <td>30</td>\n",
       "      <td>Sales</td>\n",
       "      <td>(217)123-4500</td>\n",
       "      <td>2017-05-01</td>\n",
       "    </tr>\n",
       "    <tr>\n",
       "      <th>1</th>\n",
       "      <td>40</td>\n",
       "      <td>Marketing</td>\n",
       "      <td>NaN</td>\n",
       "      <td>2018-02-01</td>\n",
       "    </tr>\n",
       "    <tr>\n",
       "      <th>2</th>\n",
       "      <td>10</td>\n",
       "      <td>Sales</td>\n",
       "      <td>NaN</td>\n",
       "      <td>2020-08-01</td>\n",
       "    </tr>\n",
       "    <tr>\n",
       "      <th>3</th>\n",
       "      <td>20</td>\n",
       "      <td>Marketing</td>\n",
       "      <td>(217)987-6600</td>\n",
       "      <td>2019-12-01</td>\n",
       "    </tr>\n",
       "  </tbody>\n",
       "</table>\n",
       "</div>"
      ],
      "text/plain": [
       "   emp_id       dept   office_phone  start_date\n",
       "0      30      Sales  (217)123-4500  2017-05-01\n",
       "1      40  Marketing            NaN  2018-02-01\n",
       "2      10      Sales            NaN  2020-08-01\n",
       "3      20  Marketing  (217)987-6600  2019-12-01"
      ]
     },
     "execution_count": 45,
     "metadata": {},
     "output_type": "execute_result"
    }
   ],
   "source": [
    "# YOUR CODE BEGINS\n",
    "df_emp.drop(columns=['name', 'salary'], inplace=True)\n",
    "# YOUR CODE ENDS\n",
    "\n",
    "df_emp"
   ]
  },
  {
   "cell_type": "markdown",
   "metadata": {},
   "source": [
    "#### 🧭 Check Your Work\n",
    "\n",
    "- Once you're done, run the code cell below to test correctness.\n",
    "- ✔️ If the code cell runs without an error, you're good to move on.\n",
    "- ❌ If the code cell throws an error, go back and fix incorrect parts."
   ]
  },
  {
   "cell_type": "code",
   "execution_count": 46,
   "metadata": {},
   "outputs": [],
   "source": [
    "# Check result\n",
    "tc.assertEqual(df_emp.columns.tolist(), ['emp_id', 'dept', 'office_phone', 'start_date'])"
   ]
  },
  {
   "cell_type": "markdown",
   "metadata": {},
   "source": [
    "---\n",
    "\n",
    "## 👉 Selecting Subset Columns\n",
    "\n",
    "You can select a subset of columns from a `DataFrame` using `df[list_of_columns]`."
   ]
  },
  {
   "cell_type": "markdown",
   "metadata": {},
   "source": [
    "---\n",
    "\n",
    "### 🎯 Mini-exercise: `emp_id` and `name`"
   ]
  },
  {
   "cell_type": "markdown",
   "metadata": {},
   "source": [
    "#### 👇 Tasks\n",
    "\n",
    "- ✔️ Select only `emp_id` and `name` columns from `df_emp` (in the same order).\n",
    "- ✔️ Store the result to a new variable named `df_id_name`.\n",
    "- ✔️ Your `df_emp` should remain unaltered."
   ]
  },
  {
   "cell_type": "markdown",
   "metadata": {},
   "source": [
    "#### 🚀 Hints\n",
    "\n",
    "Use the following code as a reference.\n",
    "\n",
    "```python\n",
    "df_subset = df[['col1', 'col2']]\n",
    "```"
   ]
  },
  {
   "cell_type": "markdown",
   "metadata": {},
   "source": [
    "▶️ Run the code cell below to reset your `df_emp`."
   ]
  },
  {
   "cell_type": "code",
   "execution_count": 47,
   "metadata": {},
   "outputs": [
    {
     "data": {
      "text/html": [
       "<div>\n",
       "<style scoped>\n",
       "    .dataframe tbody tr th:only-of-type {\n",
       "        vertical-align: middle;\n",
       "    }\n",
       "\n",
       "    .dataframe tbody tr th {\n",
       "        vertical-align: top;\n",
       "    }\n",
       "\n",
       "    .dataframe thead th {\n",
       "        text-align: right;\n",
       "    }\n",
       "</style>\n",
       "<table border=\"1\" class=\"dataframe\">\n",
       "  <thead>\n",
       "    <tr style=\"text-align: right;\">\n",
       "      <th></th>\n",
       "      <th>emp_id</th>\n",
       "      <th>name</th>\n",
       "      <th>dept</th>\n",
       "      <th>office_phone</th>\n",
       "      <th>start_date</th>\n",
       "      <th>salary</th>\n",
       "    </tr>\n",
       "  </thead>\n",
       "  <tbody>\n",
       "    <tr>\n",
       "      <th>0</th>\n",
       "      <td>30</td>\n",
       "      <td>Nicole</td>\n",
       "      <td>Sales</td>\n",
       "      <td>(217)123-4500</td>\n",
       "      <td>2017-05-01</td>\n",
       "      <td>202000</td>\n",
       "    </tr>\n",
       "    <tr>\n",
       "      <th>1</th>\n",
       "      <td>40</td>\n",
       "      <td>Erisa</td>\n",
       "      <td>Marketing</td>\n",
       "      <td>NaN</td>\n",
       "      <td>2018-02-01</td>\n",
       "      <td>185000</td>\n",
       "    </tr>\n",
       "    <tr>\n",
       "      <th>2</th>\n",
       "      <td>10</td>\n",
       "      <td>Prit</td>\n",
       "      <td>Sales</td>\n",
       "      <td>NaN</td>\n",
       "      <td>2020-08-01</td>\n",
       "      <td>240000</td>\n",
       "    </tr>\n",
       "    <tr>\n",
       "      <th>3</th>\n",
       "      <td>20</td>\n",
       "      <td>Claudia</td>\n",
       "      <td>Marketing</td>\n",
       "      <td>(217)987-6600</td>\n",
       "      <td>2019-12-01</td>\n",
       "      <td>160500</td>\n",
       "    </tr>\n",
       "  </tbody>\n",
       "</table>\n",
       "</div>"
      ],
      "text/plain": [
       "   emp_id     name       dept   office_phone  start_date  salary\n",
       "0      30   Nicole      Sales  (217)123-4500  2017-05-01  202000\n",
       "1      40    Erisa  Marketing            NaN  2018-02-01  185000\n",
       "2      10     Prit      Sales            NaN  2020-08-01  240000\n",
       "3      20  Claudia  Marketing  (217)987-6600  2019-12-01  160500"
      ]
     },
     "execution_count": 47,
     "metadata": {},
     "output_type": "execute_result"
    }
   ],
   "source": [
    "df_emp = df_emp_backup.copy()\n",
    "df_emp"
   ]
  },
  {
   "cell_type": "code",
   "execution_count": 48,
   "metadata": {},
   "outputs": [
    {
     "data": {
      "text/html": [
       "<div>\n",
       "<style scoped>\n",
       "    .dataframe tbody tr th:only-of-type {\n",
       "        vertical-align: middle;\n",
       "    }\n",
       "\n",
       "    .dataframe tbody tr th {\n",
       "        vertical-align: top;\n",
       "    }\n",
       "\n",
       "    .dataframe thead th {\n",
       "        text-align: right;\n",
       "    }\n",
       "</style>\n",
       "<table border=\"1\" class=\"dataframe\">\n",
       "  <thead>\n",
       "    <tr style=\"text-align: right;\">\n",
       "      <th></th>\n",
       "      <th>emp_id</th>\n",
       "      <th>name</th>\n",
       "    </tr>\n",
       "  </thead>\n",
       "  <tbody>\n",
       "    <tr>\n",
       "      <th>0</th>\n",
       "      <td>30</td>\n",
       "      <td>Nicole</td>\n",
       "    </tr>\n",
       "    <tr>\n",
       "      <th>1</th>\n",
       "      <td>40</td>\n",
       "      <td>Erisa</td>\n",
       "    </tr>\n",
       "    <tr>\n",
       "      <th>2</th>\n",
       "      <td>10</td>\n",
       "      <td>Prit</td>\n",
       "    </tr>\n",
       "    <tr>\n",
       "      <th>3</th>\n",
       "      <td>20</td>\n",
       "      <td>Claudia</td>\n",
       "    </tr>\n",
       "  </tbody>\n",
       "</table>\n",
       "</div>"
      ],
      "text/plain": [
       "   emp_id     name\n",
       "0      30   Nicole\n",
       "1      40    Erisa\n",
       "2      10     Prit\n",
       "3      20  Claudia"
      ]
     },
     "execution_count": 48,
     "metadata": {},
     "output_type": "execute_result"
    }
   ],
   "source": [
    "# YOUR CODE BEGINS\n",
    "df_id_name = df_emp[['emp_id', 'name']]\n",
    "# YOUR CODE ENDS\n",
    "\n",
    "df_id_name"
   ]
  },
  {
   "cell_type": "markdown",
   "metadata": {},
   "source": [
    "#### 🧭 Check Your Work\n",
    "\n",
    "- Once you're done, run the code cell below to test correctness.\n",
    "- ✔️ If the code cell runs without an error, you're good to move on.\n",
    "- ❌ If the code cell throws an error, go back and fix incorrect parts."
   ]
  },
  {
   "cell_type": "code",
   "execution_count": 49,
   "metadata": {},
   "outputs": [],
   "source": [
    "# Check result\n",
    "pd.testing.assert_frame_equal(df_emp, df_emp_backup)\n",
    "pd.testing.assert_frame_equal(df_emp_backup[['emp_id', 'name']], df_id_name, check_like=True)"
   ]
  },
  {
   "cell_type": "markdown",
   "metadata": {},
   "source": [
    "---\n",
    "\n",
    "### 🎯 Mini-exercise: `emp_id`, `name`, `dept`, `salary`"
   ]
  },
  {
   "cell_type": "markdown",
   "metadata": {},
   "source": [
    "#### 👇 Tasks\n",
    "\n",
    "- ✔️ Select `emp_id`, `name`, `dept`, and `salary` columns from `df_emp` (in the same order).\n",
    "- ✔️ Store the result to a new variable named `df_subset`.\n",
    "- ✔️ Your `df_emp` should remain unaltered."
   ]
  },
  {
   "cell_type": "markdown",
   "metadata": {},
   "source": [
    "#### 🚀 Hints\n",
    "\n",
    "Use the following code as a reference.\n",
    "\n",
    "```python\n",
    "df_subset = df[['col1', 'col2']]\n",
    "```"
   ]
  },
  {
   "cell_type": "markdown",
   "metadata": {},
   "source": [
    "▶️ Run the code cell below to reset your `df_emp`."
   ]
  },
  {
   "cell_type": "code",
   "execution_count": 50,
   "metadata": {},
   "outputs": [
    {
     "data": {
      "text/html": [
       "<div>\n",
       "<style scoped>\n",
       "    .dataframe tbody tr th:only-of-type {\n",
       "        vertical-align: middle;\n",
       "    }\n",
       "\n",
       "    .dataframe tbody tr th {\n",
       "        vertical-align: top;\n",
       "    }\n",
       "\n",
       "    .dataframe thead th {\n",
       "        text-align: right;\n",
       "    }\n",
       "</style>\n",
       "<table border=\"1\" class=\"dataframe\">\n",
       "  <thead>\n",
       "    <tr style=\"text-align: right;\">\n",
       "      <th></th>\n",
       "      <th>emp_id</th>\n",
       "      <th>name</th>\n",
       "      <th>dept</th>\n",
       "      <th>office_phone</th>\n",
       "      <th>start_date</th>\n",
       "      <th>salary</th>\n",
       "    </tr>\n",
       "  </thead>\n",
       "  <tbody>\n",
       "    <tr>\n",
       "      <th>0</th>\n",
       "      <td>30</td>\n",
       "      <td>Nicole</td>\n",
       "      <td>Sales</td>\n",
       "      <td>(217)123-4500</td>\n",
       "      <td>2017-05-01</td>\n",
       "      <td>202000</td>\n",
       "    </tr>\n",
       "    <tr>\n",
       "      <th>1</th>\n",
       "      <td>40</td>\n",
       "      <td>Erisa</td>\n",
       "      <td>Marketing</td>\n",
       "      <td>NaN</td>\n",
       "      <td>2018-02-01</td>\n",
       "      <td>185000</td>\n",
       "    </tr>\n",
       "    <tr>\n",
       "      <th>2</th>\n",
       "      <td>10</td>\n",
       "      <td>Prit</td>\n",
       "      <td>Sales</td>\n",
       "      <td>NaN</td>\n",
       "      <td>2020-08-01</td>\n",
       "      <td>240000</td>\n",
       "    </tr>\n",
       "    <tr>\n",
       "      <th>3</th>\n",
       "      <td>20</td>\n",
       "      <td>Claudia</td>\n",
       "      <td>Marketing</td>\n",
       "      <td>(217)987-6600</td>\n",
       "      <td>2019-12-01</td>\n",
       "      <td>160500</td>\n",
       "    </tr>\n",
       "  </tbody>\n",
       "</table>\n",
       "</div>"
      ],
      "text/plain": [
       "   emp_id     name       dept   office_phone  start_date  salary\n",
       "0      30   Nicole      Sales  (217)123-4500  2017-05-01  202000\n",
       "1      40    Erisa  Marketing            NaN  2018-02-01  185000\n",
       "2      10     Prit      Sales            NaN  2020-08-01  240000\n",
       "3      20  Claudia  Marketing  (217)987-6600  2019-12-01  160500"
      ]
     },
     "execution_count": 50,
     "metadata": {},
     "output_type": "execute_result"
    }
   ],
   "source": [
    "df_emp = df_emp_backup.copy()\n",
    "df_emp"
   ]
  },
  {
   "cell_type": "code",
   "execution_count": 51,
   "metadata": {},
   "outputs": [
    {
     "data": {
      "text/html": [
       "<div>\n",
       "<style scoped>\n",
       "    .dataframe tbody tr th:only-of-type {\n",
       "        vertical-align: middle;\n",
       "    }\n",
       "\n",
       "    .dataframe tbody tr th {\n",
       "        vertical-align: top;\n",
       "    }\n",
       "\n",
       "    .dataframe thead th {\n",
       "        text-align: right;\n",
       "    }\n",
       "</style>\n",
       "<table border=\"1\" class=\"dataframe\">\n",
       "  <thead>\n",
       "    <tr style=\"text-align: right;\">\n",
       "      <th></th>\n",
       "      <th>emp_id</th>\n",
       "      <th>name</th>\n",
       "      <th>dept</th>\n",
       "      <th>salary</th>\n",
       "    </tr>\n",
       "  </thead>\n",
       "  <tbody>\n",
       "    <tr>\n",
       "      <th>0</th>\n",
       "      <td>30</td>\n",
       "      <td>Nicole</td>\n",
       "      <td>Sales</td>\n",
       "      <td>202000</td>\n",
       "    </tr>\n",
       "    <tr>\n",
       "      <th>1</th>\n",
       "      <td>40</td>\n",
       "      <td>Erisa</td>\n",
       "      <td>Marketing</td>\n",
       "      <td>185000</td>\n",
       "    </tr>\n",
       "    <tr>\n",
       "      <th>2</th>\n",
       "      <td>10</td>\n",
       "      <td>Prit</td>\n",
       "      <td>Sales</td>\n",
       "      <td>240000</td>\n",
       "    </tr>\n",
       "    <tr>\n",
       "      <th>3</th>\n",
       "      <td>20</td>\n",
       "      <td>Claudia</td>\n",
       "      <td>Marketing</td>\n",
       "      <td>160500</td>\n",
       "    </tr>\n",
       "  </tbody>\n",
       "</table>\n",
       "</div>"
      ],
      "text/plain": [
       "   emp_id     name       dept  salary\n",
       "0      30   Nicole      Sales  202000\n",
       "1      40    Erisa  Marketing  185000\n",
       "2      10     Prit      Sales  240000\n",
       "3      20  Claudia  Marketing  160500"
      ]
     },
     "execution_count": 51,
     "metadata": {},
     "output_type": "execute_result"
    }
   ],
   "source": [
    "# YOUR CODE BEGINS\n",
    "df_subset = df_emp[['emp_id', 'name', 'dept', 'salary']]\n",
    "# YOUR CODE ENDS\n",
    "\n",
    "df_subset"
   ]
  },
  {
   "cell_type": "markdown",
   "metadata": {},
   "source": [
    "#### 🧭 Check Your Work\n",
    "\n",
    "- Once you're done, run the code cell below to test correctness.\n",
    "- ✔️ If the code cell runs without an error, you're good to move on.\n",
    "- ❌ If the code cell throws an error, go back and fix incorrect parts."
   ]
  },
  {
   "cell_type": "code",
   "execution_count": 52,
   "metadata": {},
   "outputs": [],
   "source": [
    "# Check result\n",
    "pd.testing.assert_frame_equal(df_emp, df_emp_backup)\n",
    "pd.testing.assert_frame_equal(df_emp_backup[['emp_id', 'name', 'dept', 'salary']], df_subset)"
   ]
  },
  {
   "cell_type": "markdown",
   "metadata": {},
   "source": [
    "---\n",
    "\n",
    "## 👉 Filtering Recap\n",
    "\n",
    "If time permits, we'll work on these exercises."
   ]
  },
  {
   "cell_type": "markdown",
   "metadata": {},
   "source": [
    "---\n",
    "\n",
    "### 📌 Load data"
   ]
  },
  {
   "cell_type": "markdown",
   "metadata": {},
   "source": [
    "▶️ Run the code cell below to create a new `DataFrame` named `df_you`."
   ]
  },
  {
   "cell_type": "code",
   "execution_count": 53,
   "metadata": {},
   "outputs": [
    {
     "data": {
      "text/html": [
       "<div>\n",
       "<style scoped>\n",
       "    .dataframe tbody tr th:only-of-type {\n",
       "        vertical-align: middle;\n",
       "    }\n",
       "\n",
       "    .dataframe tbody tr th {\n",
       "        vertical-align: top;\n",
       "    }\n",
       "\n",
       "    .dataframe thead th {\n",
       "        text-align: right;\n",
       "    }\n",
       "</style>\n",
       "<table border=\"1\" class=\"dataframe\">\n",
       "  <thead>\n",
       "    <tr style=\"text-align: right;\">\n",
       "      <th></th>\n",
       "      <th>name</th>\n",
       "      <th>major1</th>\n",
       "      <th>major2</th>\n",
       "      <th>city</th>\n",
       "      <th>distance_from_champaign</th>\n",
       "      <th>fav_restaurant</th>\n",
       "      <th>has_iphone</th>\n",
       "    </tr>\n",
       "  </thead>\n",
       "  <tbody>\n",
       "    <tr>\n",
       "      <th>0</th>\n",
       "      <td>Citlalli</td>\n",
       "      <td>Anthropology</td>\n",
       "      <td>NaN</td>\n",
       "      <td>Chicago</td>\n",
       "      <td>125.86</td>\n",
       "      <td>Seven Saints</td>\n",
       "      <td>True</td>\n",
       "    </tr>\n",
       "    <tr>\n",
       "      <th>1</th>\n",
       "      <td>Zach</td>\n",
       "      <td>Finance</td>\n",
       "      <td>Information Systems</td>\n",
       "      <td>Glenview</td>\n",
       "      <td>137.04</td>\n",
       "      <td>NaN</td>\n",
       "      <td>False</td>\n",
       "    </tr>\n",
       "    <tr>\n",
       "      <th>2</th>\n",
       "      <td>Ori</td>\n",
       "      <td>Information Science</td>\n",
       "      <td>NaN</td>\n",
       "      <td>Skokie</td>\n",
       "      <td>134.94</td>\n",
       "      <td>Culvers</td>\n",
       "      <td>True</td>\n",
       "    </tr>\n",
       "    <tr>\n",
       "      <th>3</th>\n",
       "      <td>Dylan</td>\n",
       "      <td>Accountancy</td>\n",
       "      <td>NaN</td>\n",
       "      <td>Chicago</td>\n",
       "      <td>125.86</td>\n",
       "      <td>Signature Grill</td>\n",
       "      <td>True</td>\n",
       "    </tr>\n",
       "    <tr>\n",
       "      <th>4</th>\n",
       "      <td>Ajay</td>\n",
       "      <td>Organizational Psychology</td>\n",
       "      <td>Statistics</td>\n",
       "      <td>Fairview Heights</td>\n",
       "      <td>141.24</td>\n",
       "      <td>Chipotle</td>\n",
       "      <td>True</td>\n",
       "    </tr>\n",
       "  </tbody>\n",
       "</table>\n",
       "</div>"
      ],
      "text/plain": [
       "       name                     major1               major2              city  \\\n",
       "0  Citlalli               Anthropology                  NaN           Chicago   \n",
       "1      Zach                    Finance  Information Systems          Glenview   \n",
       "2       Ori        Information Science                  NaN            Skokie   \n",
       "3     Dylan                Accountancy                  NaN           Chicago   \n",
       "4      Ajay  Organizational Psychology           Statistics  Fairview Heights   \n",
       "\n",
       "   distance_from_champaign   fav_restaurant  has_iphone  \n",
       "0                   125.86     Seven Saints        True  \n",
       "1                   137.04              NaN       False  \n",
       "2                   134.94          Culvers        True  \n",
       "3                   125.86  Signature Grill        True  \n",
       "4                   141.24         Chipotle        True  "
      ]
     },
     "execution_count": 53,
     "metadata": {},
     "output_type": "execute_result"
    }
   ],
   "source": [
    "# DO NOT CHANGE THE CODE IN THIS CELL\n",
    "df_you = pd.read_csv('https://raw.githubusercontent.com/bdi475/datasets/main/about-you.csv')\n",
    "\n",
    "# Used to keep a clean copy\n",
    "df_you_backup = df_you.copy()\n",
    "\n",
    "# head() displays the first 5 rows of a DataFrame\n",
    "df_you.head()"
   ]
  },
  {
   "cell_type": "markdown",
   "metadata": {},
   "source": [
    "The table below describes each column in `df_you`."
   ]
  },
  {
   "cell_type": "markdown",
   "metadata": {},
   "source": [
    "| Column Name             | Description                                               |\n",
    "|-------------------------|-----------------------------------------------------------|\n",
    "| name                    | First name                                                |\n",
    "| major1                  | Major                                                     |\n",
    "| major2                  | Second major OR minor (blank if no second major or minor) |\n",
    "| city                    | City the person is from                                   |\n",
    "| distance_from_champaign | Straight distance from the city to Champaign in miles     |\n",
    "| fav_restaurant          | Favorite restaurant (blank if no restaurant was given)    |\n",
    "| has_iphone              | Whether the person use an iPhone                          |"
   ]
  },
  {
   "cell_type": "markdown",
   "metadata": {},
   "source": [
    "---\n",
    "\n",
    "### 🎯 Mini-exercise: People from Skokie"
   ]
  },
  {
   "cell_type": "markdown",
   "metadata": {},
   "source": [
    "#### 👇 Tasks\n",
    "\n",
    "- ✔️ Using `df_you`, filter rows where the person is from `'Skokie'`.\n",
    "    - Check whether the `city` column contains `'Skokie'`.\n",
    "    - Store the result to a new variable named `df_skokie`.\n",
    "- ✔️ `df_you` should remain unaltered after your code."
   ]
  },
  {
   "cell_type": "code",
   "execution_count": 54,
   "metadata": {},
   "outputs": [
    {
     "data": {
      "text/html": [
       "<div>\n",
       "<style scoped>\n",
       "    .dataframe tbody tr th:only-of-type {\n",
       "        vertical-align: middle;\n",
       "    }\n",
       "\n",
       "    .dataframe tbody tr th {\n",
       "        vertical-align: top;\n",
       "    }\n",
       "\n",
       "    .dataframe thead th {\n",
       "        text-align: right;\n",
       "    }\n",
       "</style>\n",
       "<table border=\"1\" class=\"dataframe\">\n",
       "  <thead>\n",
       "    <tr style=\"text-align: right;\">\n",
       "      <th></th>\n",
       "      <th>name</th>\n",
       "      <th>major1</th>\n",
       "      <th>major2</th>\n",
       "      <th>city</th>\n",
       "      <th>distance_from_champaign</th>\n",
       "      <th>fav_restaurant</th>\n",
       "      <th>has_iphone</th>\n",
       "    </tr>\n",
       "  </thead>\n",
       "  <tbody>\n",
       "    <tr>\n",
       "      <th>2</th>\n",
       "      <td>Ori</td>\n",
       "      <td>Information Science</td>\n",
       "      <td>NaN</td>\n",
       "      <td>Skokie</td>\n",
       "      <td>134.94</td>\n",
       "      <td>Culvers</td>\n",
       "      <td>True</td>\n",
       "    </tr>\n",
       "    <tr>\n",
       "      <th>5</th>\n",
       "      <td>Andrew</td>\n",
       "      <td>Economics</td>\n",
       "      <td>Statistics</td>\n",
       "      <td>Skokie</td>\n",
       "      <td>134.94</td>\n",
       "      <td>NaN</td>\n",
       "      <td>True</td>\n",
       "    </tr>\n",
       "  </tbody>\n",
       "</table>\n",
       "</div>"
      ],
      "text/plain": [
       "     name               major1      major2    city  distance_from_champaign  \\\n",
       "2     Ori  Information Science         NaN  Skokie                   134.94   \n",
       "5  Andrew            Economics  Statistics  Skokie                   134.94   \n",
       "\n",
       "  fav_restaurant  has_iphone  \n",
       "2        Culvers        True  \n",
       "5            NaN        True  "
      ]
     },
     "execution_count": 54,
     "metadata": {},
     "output_type": "execute_result"
    }
   ],
   "source": [
    "# YOUR CODE BEGINS\n",
    "df_skokie = df_you[df_you['city'] == 'Skokie']\n",
    "# YOUR CODE ENDS\n",
    "\n",
    "df_skokie"
   ]
  },
  {
   "cell_type": "markdown",
   "metadata": {},
   "source": [
    "#### 🧭 Check Your Work\n",
    "\n",
    "- Once you're done, run the code cell below to test correctness.\n",
    "- ✔️ If the code cell runs without an error, you're good to move on.\n",
    "- ❌ If the code cell throws an error, go back and fix incorrect parts."
   ]
  },
  {
   "cell_type": "code",
   "execution_count": 55,
   "metadata": {},
   "outputs": [],
   "source": [
    "# df_you should remain unaltered\n",
    "pd.testing.assert_frame_equal(df_you, df_you_backup)\n",
    "\n",
    "# Check result\n",
    "pd.testing.assert_frame_equal(df_skokie.sort_values(df_skokie.columns.tolist()).reset_index(drop=True),\n",
    "                              df_you_backup.query(f'{\"cItY\".lower()} == \"{\"SkOkIe\".capitalize()}\"')\n",
    "                                 .sort_values(df_you_backup.columns.tolist()).reset_index(drop=True))"
   ]
  },
  {
   "cell_type": "markdown",
   "metadata": {},
   "source": [
    "---\n",
    "\n",
    "### 🎯 Mini-exercise: Anyone with a non-missing `major2`"
   ]
  },
  {
   "cell_type": "markdown",
   "metadata": {},
   "source": [
    "#### 👇 Tasks\n",
    "\n",
    "- ✔️ Using `df_you`, filter rows where the person has a second major or a minor.\n",
    "    - You're looking for rows where `major2` is not `NaN`.\n",
    "- ✔️ `NaN` is a special value to denote missing value. You must use `my_series.isna()` or `my_series.notna()` to check whether a row contains a missing value or not.\n",
    "- ✔️ Store the result to a new variable named `df_major2`.\n",
    "- ✔️ `df_you` should remain unaltered after your code."
   ]
  },
  {
   "cell_type": "markdown",
   "metadata": {},
   "source": [
    "#### 🚀 Hints\n",
    "\n",
    "- `my_series.notna()` can be used to check whether a row contains a missing value or not.\n",
    "\n",
    "![notna](https://github.com/bdi475/images/blob/main/pandas/notna-series.png?raw=true)"
   ]
  },
  {
   "cell_type": "code",
   "execution_count": 56,
   "metadata": {},
   "outputs": [
    {
     "data": {
      "text/html": [
       "<div>\n",
       "<style scoped>\n",
       "    .dataframe tbody tr th:only-of-type {\n",
       "        vertical-align: middle;\n",
       "    }\n",
       "\n",
       "    .dataframe tbody tr th {\n",
       "        vertical-align: top;\n",
       "    }\n",
       "\n",
       "    .dataframe thead th {\n",
       "        text-align: right;\n",
       "    }\n",
       "</style>\n",
       "<table border=\"1\" class=\"dataframe\">\n",
       "  <thead>\n",
       "    <tr style=\"text-align: right;\">\n",
       "      <th></th>\n",
       "      <th>name</th>\n",
       "      <th>major1</th>\n",
       "      <th>major2</th>\n",
       "      <th>city</th>\n",
       "      <th>distance_from_champaign</th>\n",
       "      <th>fav_restaurant</th>\n",
       "      <th>has_iphone</th>\n",
       "    </tr>\n",
       "  </thead>\n",
       "  <tbody>\n",
       "    <tr>\n",
       "      <th>1</th>\n",
       "      <td>Zach</td>\n",
       "      <td>Finance</td>\n",
       "      <td>Information Systems</td>\n",
       "      <td>Glenview</td>\n",
       "      <td>137.04</td>\n",
       "      <td>NaN</td>\n",
       "      <td>False</td>\n",
       "    </tr>\n",
       "    <tr>\n",
       "      <th>4</th>\n",
       "      <td>Ajay</td>\n",
       "      <td>Organizational Psychology</td>\n",
       "      <td>Statistics</td>\n",
       "      <td>Fairview Heights</td>\n",
       "      <td>141.24</td>\n",
       "      <td>Chipotle</td>\n",
       "      <td>True</td>\n",
       "    </tr>\n",
       "    <tr>\n",
       "      <th>5</th>\n",
       "      <td>Andrew</td>\n",
       "      <td>Economics</td>\n",
       "      <td>Statistics</td>\n",
       "      <td>Skokie</td>\n",
       "      <td>134.94</td>\n",
       "      <td>NaN</td>\n",
       "      <td>True</td>\n",
       "    </tr>\n",
       "    <tr>\n",
       "      <th>6</th>\n",
       "      <td>Sarah</td>\n",
       "      <td>Marketing</td>\n",
       "      <td>Theatre</td>\n",
       "      <td>Morris</td>\n",
       "      <td>86.38</td>\n",
       "      <td>NaN</td>\n",
       "      <td>True</td>\n",
       "    </tr>\n",
       "    <tr>\n",
       "      <th>8</th>\n",
       "      <td>Jennifer</td>\n",
       "      <td>Food Science</td>\n",
       "      <td>Human Nutrition</td>\n",
       "      <td>Macau</td>\n",
       "      <td>7807.02</td>\n",
       "      <td>NaN</td>\n",
       "      <td>True</td>\n",
       "    </tr>\n",
       "    <tr>\n",
       "      <th>10</th>\n",
       "      <td>James</td>\n",
       "      <td>Accountancy</td>\n",
       "      <td>Informatics</td>\n",
       "      <td>Orland Park</td>\n",
       "      <td>106.11</td>\n",
       "      <td>NaN</td>\n",
       "      <td>True</td>\n",
       "    </tr>\n",
       "    <tr>\n",
       "      <th>12</th>\n",
       "      <td>Max</td>\n",
       "      <td>Finance</td>\n",
       "      <td>Informatics</td>\n",
       "      <td>Clarendon Hills</td>\n",
       "      <td>117.12</td>\n",
       "      <td>Chick-fil-A</td>\n",
       "      <td>True</td>\n",
       "    </tr>\n",
       "    <tr>\n",
       "      <th>14</th>\n",
       "      <td>Jackie</td>\n",
       "      <td>Supply Chain Management</td>\n",
       "      <td>Marketing</td>\n",
       "      <td>Wheeling</td>\n",
       "      <td>397.48</td>\n",
       "      <td>Portillos</td>\n",
       "      <td>True</td>\n",
       "    </tr>\n",
       "    <tr>\n",
       "      <th>15</th>\n",
       "      <td>Nicole</td>\n",
       "      <td>Accountancy</td>\n",
       "      <td>Finance</td>\n",
       "      <td>Shanghai</td>\n",
       "      <td>7154.42</td>\n",
       "      <td>NaN</td>\n",
       "      <td>True</td>\n",
       "    </tr>\n",
       "    <tr>\n",
       "      <th>17</th>\n",
       "      <td>Keziah</td>\n",
       "      <td>Agricultural and Consumer Economics</td>\n",
       "      <td>Communications</td>\n",
       "      <td>Bolingbrook</td>\n",
       "      <td>109.64</td>\n",
       "      <td>NaN</td>\n",
       "      <td>True</td>\n",
       "    </tr>\n",
       "    <tr>\n",
       "      <th>21</th>\n",
       "      <td>Victoria</td>\n",
       "      <td>Finance</td>\n",
       "      <td>Accountancy</td>\n",
       "      <td>Chicago</td>\n",
       "      <td>125.86</td>\n",
       "      <td>Pokelab</td>\n",
       "      <td>True</td>\n",
       "    </tr>\n",
       "    <tr>\n",
       "      <th>22</th>\n",
       "      <td>Bella</td>\n",
       "      <td>Accountancy</td>\n",
       "      <td>Information Systems</td>\n",
       "      <td>Seoul</td>\n",
       "      <td>6623.70</td>\n",
       "      <td>NaN</td>\n",
       "      <td>True</td>\n",
       "    </tr>\n",
       "    <tr>\n",
       "      <th>23</th>\n",
       "      <td>Kevin</td>\n",
       "      <td>Accountancy</td>\n",
       "      <td>Statistics</td>\n",
       "      <td>Naperville</td>\n",
       "      <td>115.46</td>\n",
       "      <td>NaN</td>\n",
       "      <td>True</td>\n",
       "    </tr>\n",
       "    <tr>\n",
       "      <th>25</th>\n",
       "      <td>Hwanjae</td>\n",
       "      <td>Accountancy</td>\n",
       "      <td>Technology &amp; Management</td>\n",
       "      <td>Seoul</td>\n",
       "      <td>6623.70</td>\n",
       "      <td>NaN</td>\n",
       "      <td>True</td>\n",
       "    </tr>\n",
       "    <tr>\n",
       "      <th>26</th>\n",
       "      <td>Jake</td>\n",
       "      <td>Accountancy</td>\n",
       "      <td>Informatics</td>\n",
       "      <td>Orland Park</td>\n",
       "      <td>106.11</td>\n",
       "      <td>Chipotle</td>\n",
       "      <td>True</td>\n",
       "    </tr>\n",
       "    <tr>\n",
       "      <th>27</th>\n",
       "      <td>Erisa</td>\n",
       "      <td>Chemistry</td>\n",
       "      <td>Informatics</td>\n",
       "      <td>Lake Forest</td>\n",
       "      <td>149.48</td>\n",
       "      <td>Portillos</td>\n",
       "      <td>True</td>\n",
       "    </tr>\n",
       "    <tr>\n",
       "      <th>28</th>\n",
       "      <td>Bianca</td>\n",
       "      <td>Supply Chain Management</td>\n",
       "      <td>Marketing</td>\n",
       "      <td>Niles</td>\n",
       "      <td>133.44</td>\n",
       "      <td>NaN</td>\n",
       "      <td>True</td>\n",
       "    </tr>\n",
       "    <tr>\n",
       "      <th>31</th>\n",
       "      <td>Yushan</td>\n",
       "      <td>Accountancy</td>\n",
       "      <td>Statistics</td>\n",
       "      <td>Nanjing</td>\n",
       "      <td>7159.39</td>\n",
       "      <td>NaN</td>\n",
       "      <td>True</td>\n",
       "    </tr>\n",
       "    <tr>\n",
       "      <th>32</th>\n",
       "      <td>Maura</td>\n",
       "      <td>Consumer Economics</td>\n",
       "      <td>Finance</td>\n",
       "      <td>Glenview</td>\n",
       "      <td>104.55</td>\n",
       "      <td>Wildfire</td>\n",
       "      <td>True</td>\n",
       "    </tr>\n",
       "    <tr>\n",
       "      <th>38</th>\n",
       "      <td>Joe</td>\n",
       "      <td>Agricultural and Consumer Economics</td>\n",
       "      <td>Marketing</td>\n",
       "      <td>Chicago</td>\n",
       "      <td>125.86</td>\n",
       "      <td>NaN</td>\n",
       "      <td>False</td>\n",
       "    </tr>\n",
       "  </tbody>\n",
       "</table>\n",
       "</div>"
      ],
      "text/plain": [
       "        name                               major1                   major2  \\\n",
       "1       Zach                              Finance      Information Systems   \n",
       "4       Ajay            Organizational Psychology               Statistics   \n",
       "5     Andrew                            Economics               Statistics   \n",
       "6      Sarah                            Marketing                  Theatre   \n",
       "8   Jennifer                         Food Science          Human Nutrition   \n",
       "10     James                          Accountancy              Informatics   \n",
       "12       Max                              Finance              Informatics   \n",
       "14    Jackie              Supply Chain Management                Marketing   \n",
       "15    Nicole                          Accountancy                  Finance   \n",
       "17    Keziah  Agricultural and Consumer Economics           Communications   \n",
       "21  Victoria                              Finance              Accountancy   \n",
       "22     Bella                          Accountancy      Information Systems   \n",
       "23     Kevin                          Accountancy               Statistics   \n",
       "25   Hwanjae                          Accountancy  Technology & Management   \n",
       "26      Jake                          Accountancy              Informatics   \n",
       "27     Erisa                            Chemistry              Informatics   \n",
       "28    Bianca              Supply Chain Management                Marketing   \n",
       "31    Yushan                          Accountancy               Statistics   \n",
       "32     Maura                   Consumer Economics                  Finance   \n",
       "38       Joe  Agricultural and Consumer Economics                Marketing   \n",
       "\n",
       "                city  distance_from_champaign fav_restaurant  has_iphone  \n",
       "1           Glenview                   137.04            NaN       False  \n",
       "4   Fairview Heights                   141.24       Chipotle        True  \n",
       "5             Skokie                   134.94            NaN        True  \n",
       "6             Morris                    86.38            NaN        True  \n",
       "8              Macau                  7807.02            NaN        True  \n",
       "10       Orland Park                   106.11            NaN        True  \n",
       "12   Clarendon Hills                   117.12    Chick-fil-A        True  \n",
       "14          Wheeling                   397.48      Portillos        True  \n",
       "15          Shanghai                  7154.42            NaN        True  \n",
       "17       Bolingbrook                   109.64            NaN        True  \n",
       "21           Chicago                   125.86        Pokelab        True  \n",
       "22             Seoul                  6623.70            NaN        True  \n",
       "23        Naperville                   115.46            NaN        True  \n",
       "25             Seoul                  6623.70            NaN        True  \n",
       "26       Orland Park                   106.11       Chipotle        True  \n",
       "27       Lake Forest                   149.48      Portillos        True  \n",
       "28             Niles                   133.44            NaN        True  \n",
       "31           Nanjing                  7159.39            NaN        True  \n",
       "32          Glenview                   104.55       Wildfire        True  \n",
       "38           Chicago                   125.86            NaN       False  "
      ]
     },
     "execution_count": 56,
     "metadata": {},
     "output_type": "execute_result"
    }
   ],
   "source": [
    "# YOUR CODE BEGINS\n",
    "df_major2 = df_you[df_you['major2'].notna()]\n",
    "# YOUR CODE ENDS\n",
    "\n",
    "df_major2"
   ]
  },
  {
   "cell_type": "markdown",
   "metadata": {},
   "source": [
    "#### 🧭 Check Your Work\n",
    "\n",
    "- Once you're done, run the code cell below to test correctness.\n",
    "- ✔️ If the code cell runs without an error, you're good to move on.\n",
    "- ❌ If the code cell throws an error, go back and fix incorrect parts."
   ]
  },
  {
   "cell_type": "code",
   "execution_count": 57,
   "metadata": {},
   "outputs": [],
   "source": [
    "# df_you should remain unaltered\n",
    "pd.testing.assert_frame_equal(df_you, df_you_backup)\n",
    "\n",
    "# Check result\n",
    "pd.testing.assert_frame_equal(df_major2.sort_values(df_major2.columns.tolist()).reset_index(drop=True),\n",
    "                              df_you_backup.query(f'major2 == major2')\n",
    "                                 .sort_values(df_you_backup.columns.tolist()).reset_index(drop=True))"
   ]
  },
  {
   "cell_type": "markdown",
   "metadata": {},
   "source": [
    "---\n",
    "\n",
    "### 🎯 Mini-exercise: Anyone with a Favorite Restaurant"
   ]
  },
  {
   "cell_type": "markdown",
   "metadata": {},
   "source": [
    "#### 👇 Tasks\n",
    "\n",
    "- ✔️ Using `df_you`, filter rows where the person has a favorite restaurant\n",
    "    - You're looking for rows where `fav_restaurant` is not missing (not `NaN`).\n",
    "- ✔️ `NaN` is a special value to denote missing value. You must use `my_series.isna()` or `my_series.notna()` to compare a `Series` with `NaN`.\n",
    "- ✔️ Store the result to a new variable named `df_fav`.\n",
    "- ✔️ `df_you` should remain unaltered after your code."
   ]
  },
  {
   "cell_type": "markdown",
   "metadata": {},
   "source": [
    "#### 🚀 Hints\n",
    "\n",
    "- `my_series.notna()` can be used to check whether a row contains a missing value or not."
   ]
  },
  {
   "cell_type": "code",
   "execution_count": 58,
   "metadata": {},
   "outputs": [
    {
     "data": {
      "text/html": [
       "<div>\n",
       "<style scoped>\n",
       "    .dataframe tbody tr th:only-of-type {\n",
       "        vertical-align: middle;\n",
       "    }\n",
       "\n",
       "    .dataframe tbody tr th {\n",
       "        vertical-align: top;\n",
       "    }\n",
       "\n",
       "    .dataframe thead th {\n",
       "        text-align: right;\n",
       "    }\n",
       "</style>\n",
       "<table border=\"1\" class=\"dataframe\">\n",
       "  <thead>\n",
       "    <tr style=\"text-align: right;\">\n",
       "      <th></th>\n",
       "      <th>name</th>\n",
       "      <th>major1</th>\n",
       "      <th>major2</th>\n",
       "      <th>city</th>\n",
       "      <th>distance_from_champaign</th>\n",
       "      <th>fav_restaurant</th>\n",
       "      <th>has_iphone</th>\n",
       "    </tr>\n",
       "  </thead>\n",
       "  <tbody>\n",
       "    <tr>\n",
       "      <th>0</th>\n",
       "      <td>Citlalli</td>\n",
       "      <td>Anthropology</td>\n",
       "      <td>NaN</td>\n",
       "      <td>Chicago</td>\n",
       "      <td>125.86</td>\n",
       "      <td>Seven Saints</td>\n",
       "      <td>True</td>\n",
       "    </tr>\n",
       "    <tr>\n",
       "      <th>2</th>\n",
       "      <td>Ori</td>\n",
       "      <td>Information Science</td>\n",
       "      <td>NaN</td>\n",
       "      <td>Skokie</td>\n",
       "      <td>134.94</td>\n",
       "      <td>Culvers</td>\n",
       "      <td>True</td>\n",
       "    </tr>\n",
       "    <tr>\n",
       "      <th>3</th>\n",
       "      <td>Dylan</td>\n",
       "      <td>Accountancy</td>\n",
       "      <td>NaN</td>\n",
       "      <td>Chicago</td>\n",
       "      <td>125.86</td>\n",
       "      <td>Signature Grill</td>\n",
       "      <td>True</td>\n",
       "    </tr>\n",
       "    <tr>\n",
       "      <th>4</th>\n",
       "      <td>Ajay</td>\n",
       "      <td>Organizational Psychology</td>\n",
       "      <td>Statistics</td>\n",
       "      <td>Fairview Heights</td>\n",
       "      <td>141.24</td>\n",
       "      <td>Chipotle</td>\n",
       "      <td>True</td>\n",
       "    </tr>\n",
       "    <tr>\n",
       "      <th>7</th>\n",
       "      <td>Ahsaas</td>\n",
       "      <td>Finance</td>\n",
       "      <td>NaN</td>\n",
       "      <td>Muscat</td>\n",
       "      <td>7543.35</td>\n",
       "      <td>Five Guys</td>\n",
       "      <td>True</td>\n",
       "    </tr>\n",
       "    <tr>\n",
       "      <th>11</th>\n",
       "      <td>Jaewon</td>\n",
       "      <td>Acturial Science</td>\n",
       "      <td>NaN</td>\n",
       "      <td>Seoul</td>\n",
       "      <td>6623.70</td>\n",
       "      <td>Jimmy Johns</td>\n",
       "      <td>True</td>\n",
       "    </tr>\n",
       "    <tr>\n",
       "      <th>12</th>\n",
       "      <td>Max</td>\n",
       "      <td>Finance</td>\n",
       "      <td>Informatics</td>\n",
       "      <td>Clarendon Hills</td>\n",
       "      <td>117.12</td>\n",
       "      <td>Chick-fil-A</td>\n",
       "      <td>True</td>\n",
       "    </tr>\n",
       "    <tr>\n",
       "      <th>13</th>\n",
       "      <td>Nick</td>\n",
       "      <td>Information Science</td>\n",
       "      <td>NaN</td>\n",
       "      <td>Northbrook</td>\n",
       "      <td>140.84</td>\n",
       "      <td>Potbelly</td>\n",
       "      <td>True</td>\n",
       "    </tr>\n",
       "    <tr>\n",
       "      <th>14</th>\n",
       "      <td>Jackie</td>\n",
       "      <td>Supply Chain Management</td>\n",
       "      <td>Marketing</td>\n",
       "      <td>Wheeling</td>\n",
       "      <td>397.48</td>\n",
       "      <td>Portillos</td>\n",
       "      <td>True</td>\n",
       "    </tr>\n",
       "    <tr>\n",
       "      <th>16</th>\n",
       "      <td>Harsha</td>\n",
       "      <td>Accountancy</td>\n",
       "      <td>NaN</td>\n",
       "      <td>Lisle</td>\n",
       "      <td>116.73</td>\n",
       "      <td>Chipotle</td>\n",
       "      <td>True</td>\n",
       "    </tr>\n",
       "    <tr>\n",
       "      <th>18</th>\n",
       "      <td>Jainil</td>\n",
       "      <td>Information Systems</td>\n",
       "      <td>NaN</td>\n",
       "      <td>Niles</td>\n",
       "      <td>133.44</td>\n",
       "      <td>Chipotle</td>\n",
       "      <td>True</td>\n",
       "    </tr>\n",
       "    <tr>\n",
       "      <th>21</th>\n",
       "      <td>Victoria</td>\n",
       "      <td>Finance</td>\n",
       "      <td>Accountancy</td>\n",
       "      <td>Chicago</td>\n",
       "      <td>125.86</td>\n",
       "      <td>Pokelab</td>\n",
       "      <td>True</td>\n",
       "    </tr>\n",
       "    <tr>\n",
       "      <th>26</th>\n",
       "      <td>Jake</td>\n",
       "      <td>Accountancy</td>\n",
       "      <td>Informatics</td>\n",
       "      <td>Orland Park</td>\n",
       "      <td>106.11</td>\n",
       "      <td>Chipotle</td>\n",
       "      <td>True</td>\n",
       "    </tr>\n",
       "    <tr>\n",
       "      <th>27</th>\n",
       "      <td>Erisa</td>\n",
       "      <td>Chemistry</td>\n",
       "      <td>Informatics</td>\n",
       "      <td>Lake Forest</td>\n",
       "      <td>149.48</td>\n",
       "      <td>Portillos</td>\n",
       "      <td>True</td>\n",
       "    </tr>\n",
       "    <tr>\n",
       "      <th>30</th>\n",
       "      <td>Mark</td>\n",
       "      <td>Finance</td>\n",
       "      <td>NaN</td>\n",
       "      <td>Metamora</td>\n",
       "      <td>74.97</td>\n",
       "      <td>Taco Bell</td>\n",
       "      <td>False</td>\n",
       "    </tr>\n",
       "    <tr>\n",
       "      <th>32</th>\n",
       "      <td>Maura</td>\n",
       "      <td>Consumer Economics</td>\n",
       "      <td>Finance</td>\n",
       "      <td>Glenview</td>\n",
       "      <td>104.55</td>\n",
       "      <td>Wildfire</td>\n",
       "      <td>True</td>\n",
       "    </tr>\n",
       "    <tr>\n",
       "      <th>36</th>\n",
       "      <td>Jim</td>\n",
       "      <td>Accountancy</td>\n",
       "      <td>NaN</td>\n",
       "      <td>Orland Park</td>\n",
       "      <td>106.11</td>\n",
       "      <td>Chipotle</td>\n",
       "      <td>True</td>\n",
       "    </tr>\n",
       "    <tr>\n",
       "      <th>37</th>\n",
       "      <td>Tyler</td>\n",
       "      <td>Information Systems</td>\n",
       "      <td>NaN</td>\n",
       "      <td>Homewood-Flossmoor</td>\n",
       "      <td>134.94</td>\n",
       "      <td>Lou Malnati's</td>\n",
       "      <td>True</td>\n",
       "    </tr>\n",
       "    <tr>\n",
       "      <th>39</th>\n",
       "      <td>Clint</td>\n",
       "      <td>Political Science</td>\n",
       "      <td>NaN</td>\n",
       "      <td>Springfield</td>\n",
       "      <td>85.11</td>\n",
       "      <td>Chipotle</td>\n",
       "      <td>True</td>\n",
       "    </tr>\n",
       "  </tbody>\n",
       "</table>\n",
       "</div>"
      ],
      "text/plain": [
       "        name                     major1       major2                city  \\\n",
       "0   Citlalli               Anthropology          NaN             Chicago   \n",
       "2        Ori        Information Science          NaN              Skokie   \n",
       "3      Dylan                Accountancy          NaN             Chicago   \n",
       "4       Ajay  Organizational Psychology   Statistics    Fairview Heights   \n",
       "7     Ahsaas                    Finance          NaN              Muscat   \n",
       "11    Jaewon           Acturial Science          NaN               Seoul   \n",
       "12       Max                    Finance  Informatics     Clarendon Hills   \n",
       "13      Nick        Information Science          NaN          Northbrook   \n",
       "14    Jackie    Supply Chain Management    Marketing            Wheeling   \n",
       "16    Harsha                Accountancy          NaN               Lisle   \n",
       "18    Jainil        Information Systems          NaN               Niles   \n",
       "21  Victoria                    Finance  Accountancy             Chicago   \n",
       "26      Jake                Accountancy  Informatics         Orland Park   \n",
       "27     Erisa                  Chemistry  Informatics         Lake Forest   \n",
       "30      Mark                    Finance          NaN            Metamora   \n",
       "32     Maura         Consumer Economics      Finance            Glenview   \n",
       "36       Jim                Accountancy          NaN         Orland Park   \n",
       "37     Tyler        Information Systems          NaN  Homewood-Flossmoor   \n",
       "39     Clint          Political Science          NaN         Springfield   \n",
       "\n",
       "    distance_from_champaign   fav_restaurant  has_iphone  \n",
       "0                    125.86     Seven Saints        True  \n",
       "2                    134.94          Culvers        True  \n",
       "3                    125.86  Signature Grill        True  \n",
       "4                    141.24         Chipotle        True  \n",
       "7                   7543.35        Five Guys        True  \n",
       "11                  6623.70      Jimmy Johns        True  \n",
       "12                   117.12      Chick-fil-A        True  \n",
       "13                   140.84         Potbelly        True  \n",
       "14                   397.48        Portillos        True  \n",
       "16                   116.73         Chipotle        True  \n",
       "18                   133.44         Chipotle        True  \n",
       "21                   125.86          Pokelab        True  \n",
       "26                   106.11         Chipotle        True  \n",
       "27                   149.48        Portillos        True  \n",
       "30                    74.97        Taco Bell       False  \n",
       "32                   104.55         Wildfire        True  \n",
       "36                   106.11         Chipotle        True  \n",
       "37                   134.94    Lou Malnati's        True  \n",
       "39                    85.11         Chipotle        True  "
      ]
     },
     "execution_count": 58,
     "metadata": {},
     "output_type": "execute_result"
    }
   ],
   "source": [
    "# YOUR CODE BEGINS\n",
    "df_fav = df_you[df_you['fav_restaurant'].notna()]\n",
    "# YOUR CODE ENDS\n",
    "\n",
    "df_fav"
   ]
  },
  {
   "cell_type": "markdown",
   "metadata": {},
   "source": [
    "#### 🧭 Check Your Work\n",
    "\n",
    "- Once you're done, run the code cell below to test correctness.\n",
    "- ✔️ If the code cell runs without an error, you're good to move on.\n",
    "- ❌ If the code cell throws an error, go back and fix incorrect parts."
   ]
  },
  {
   "cell_type": "code",
   "execution_count": 59,
   "metadata": {},
   "outputs": [],
   "source": [
    "# df_you should remain unaltered\n",
    "pd.testing.assert_frame_equal(df_you, df_you_backup)\n",
    "\n",
    "# Check result\n",
    "pd.testing.assert_frame_equal(df_fav.sort_values(df_fav.columns.tolist()).reset_index(drop=True),\n",
    "                              df_you_backup.query(f'fav_restaurant == fav_restaurant')\n",
    "                                 .sort_values(df_you_backup.columns.tolist()).reset_index(drop=True))"
   ]
  }
 ],
 "metadata": {
  "kernelspec": {
   "display_name": "Python 3",
   "language": "python",
   "name": "python3"
  },
  "language_info": {
   "codemirror_mode": {
    "name": "ipython",
    "version": 3
   },
   "file_extension": ".py",
   "mimetype": "text/x-python",
   "name": "python",
   "nbconvert_exporter": "python",
   "pygments_lexer": "ipython3",
   "version": "3.8.3"
  }
 },
 "nbformat": 4,
 "nbformat_minor": 4
}
